{
 "cells": [
  {
   "cell_type": "markdown",
   "metadata": {},
   "source": [
    "**Predict Survival by using Titanic Data: Review purpose**"
   ]
  },
  {
   "cell_type": "markdown",
   "metadata": {},
   "source": [
    "# EDA (Exporatory Data Analysis)"
   ]
  },
  {
   "cell_type": "markdown",
   "metadata": {},
   "source": [
    "*#* Let's explore the data to see which columns we will use to predict survival."
   ]
  },
  {
   "cell_type": "markdown",
   "metadata": {},
   "source": [
    "## Load Titanic Train dataset"
   ]
  },
  {
   "cell_type": "code",
   "execution_count": 1,
   "metadata": {
    "ExecuteTime": {
     "end_time": "2019-12-18T04:18:18.286600Z",
     "start_time": "2019-12-18T04:18:18.122Z"
    },
    "scrolled": false
   },
   "outputs": [
    {
     "data": {
      "text/html": [
       "<table>\n",
       "<caption>A data.frame: 6 × 12</caption>\n",
       "<thead>\n",
       "\t<tr><th></th><th scope=col>PassengerId</th><th scope=col>Survived</th><th scope=col>Pclass</th><th scope=col>Name</th><th scope=col>Sex</th><th scope=col>Age</th><th scope=col>SibSp</th><th scope=col>Parch</th><th scope=col>Ticket</th><th scope=col>Fare</th><th scope=col>Cabin</th><th scope=col>Embarked</th></tr>\n",
       "\t<tr><th></th><th scope=col>&lt;int&gt;</th><th scope=col>&lt;int&gt;</th><th scope=col>&lt;int&gt;</th><th scope=col>&lt;fct&gt;</th><th scope=col>&lt;fct&gt;</th><th scope=col>&lt;dbl&gt;</th><th scope=col>&lt;int&gt;</th><th scope=col>&lt;int&gt;</th><th scope=col>&lt;fct&gt;</th><th scope=col>&lt;dbl&gt;</th><th scope=col>&lt;fct&gt;</th><th scope=col>&lt;fct&gt;</th></tr>\n",
       "</thead>\n",
       "<tbody>\n",
       "\t<tr><th scope=row>1</th><td>1</td><td>0</td><td>3</td><td>Braund, Mr. Owen Harris                            </td><td>male  </td><td>22</td><td>1</td><td>0</td><td>A/5 21171       </td><td> 7.2500</td><td>    </td><td>S</td></tr>\n",
       "\t<tr><th scope=row>2</th><td>2</td><td>1</td><td>1</td><td>Cumings, Mrs. John Bradley (Florence Briggs Thayer)</td><td>female</td><td>38</td><td>1</td><td>0</td><td>PC 17599        </td><td>71.2833</td><td>C85 </td><td>C</td></tr>\n",
       "\t<tr><th scope=row>3</th><td>3</td><td>1</td><td>3</td><td>Heikkinen, Miss. Laina                             </td><td>female</td><td>26</td><td>0</td><td>0</td><td>STON/O2. 3101282</td><td> 7.9250</td><td>    </td><td>S</td></tr>\n",
       "\t<tr><th scope=row>4</th><td>4</td><td>1</td><td>1</td><td>Futrelle, Mrs. Jacques Heath (Lily May Peel)       </td><td>female</td><td>35</td><td>1</td><td>0</td><td>113803          </td><td>53.1000</td><td>C123</td><td>S</td></tr>\n",
       "\t<tr><th scope=row>5</th><td>5</td><td>0</td><td>3</td><td>Allen, Mr. William Henry                           </td><td>male  </td><td>35</td><td>0</td><td>0</td><td>373450          </td><td> 8.0500</td><td>    </td><td>S</td></tr>\n",
       "\t<tr><th scope=row>6</th><td>6</td><td>0</td><td>3</td><td>Moran, Mr. James                                   </td><td>male  </td><td>NA</td><td>0</td><td>0</td><td>330877          </td><td> 8.4583</td><td>    </td><td>Q</td></tr>\n",
       "</tbody>\n",
       "</table>\n"
      ],
      "text/latex": [
       "A data.frame: 6 × 12\n",
       "\\begin{tabular}{r|llllllllllll}\n",
       "  & PassengerId & Survived & Pclass & Name & Sex & Age & SibSp & Parch & Ticket & Fare & Cabin & Embarked\\\\\n",
       "  & <int> & <int> & <int> & <fct> & <fct> & <dbl> & <int> & <int> & <fct> & <dbl> & <fct> & <fct>\\\\\n",
       "\\hline\n",
       "\t1 & 1 & 0 & 3 & Braund, Mr. Owen Harris                             & male   & 22 & 1 & 0 & A/5 21171        &  7.2500 &      & S\\\\\n",
       "\t2 & 2 & 1 & 1 & Cumings, Mrs. John Bradley (Florence Briggs Thayer) & female & 38 & 1 & 0 & PC 17599         & 71.2833 & C85  & C\\\\\n",
       "\t3 & 3 & 1 & 3 & Heikkinen, Miss. Laina                              & female & 26 & 0 & 0 & STON/O2. 3101282 &  7.9250 &      & S\\\\\n",
       "\t4 & 4 & 1 & 1 & Futrelle, Mrs. Jacques Heath (Lily May Peel)        & female & 35 & 1 & 0 & 113803           & 53.1000 & C123 & S\\\\\n",
       "\t5 & 5 & 0 & 3 & Allen, Mr. William Henry                            & male   & 35 & 0 & 0 & 373450           &  8.0500 &      & S\\\\\n",
       "\t6 & 6 & 0 & 3 & Moran, Mr. James                                    & male   & NA & 0 & 0 & 330877           &  8.4583 &      & Q\\\\\n",
       "\\end{tabular}\n"
      ],
      "text/markdown": [
       "\n",
       "A data.frame: 6 × 12\n",
       "\n",
       "| <!--/--> | PassengerId &lt;int&gt; | Survived &lt;int&gt; | Pclass &lt;int&gt; | Name &lt;fct&gt; | Sex &lt;fct&gt; | Age &lt;dbl&gt; | SibSp &lt;int&gt; | Parch &lt;int&gt; | Ticket &lt;fct&gt; | Fare &lt;dbl&gt; | Cabin &lt;fct&gt; | Embarked &lt;fct&gt; |\n",
       "|---|---|---|---|---|---|---|---|---|---|---|---|---|\n",
       "| 1 | 1 | 0 | 3 | Braund, Mr. Owen Harris                             | male   | 22 | 1 | 0 | A/5 21171        |  7.2500 | <!----> | S |\n",
       "| 2 | 2 | 1 | 1 | Cumings, Mrs. John Bradley (Florence Briggs Thayer) | female | 38 | 1 | 0 | PC 17599         | 71.2833 | C85  | C |\n",
       "| 3 | 3 | 1 | 3 | Heikkinen, Miss. Laina                              | female | 26 | 0 | 0 | STON/O2. 3101282 |  7.9250 | <!----> | S |\n",
       "| 4 | 4 | 1 | 1 | Futrelle, Mrs. Jacques Heath (Lily May Peel)        | female | 35 | 1 | 0 | 113803           | 53.1000 | C123 | S |\n",
       "| 5 | 5 | 0 | 3 | Allen, Mr. William Henry                            | male   | 35 | 0 | 0 | 373450           |  8.0500 | <!----> | S |\n",
       "| 6 | 6 | 0 | 3 | Moran, Mr. James                                    | male   | NA | 0 | 0 | 330877           |  8.4583 | <!----> | Q |\n",
       "\n"
      ],
      "text/plain": [
       "  PassengerId Survived Pclass\n",
       "1 1           0        3     \n",
       "2 2           1        1     \n",
       "3 3           1        3     \n",
       "4 4           1        1     \n",
       "5 5           0        3     \n",
       "6 6           0        3     \n",
       "  Name                                                Sex    Age SibSp Parch\n",
       "1 Braund, Mr. Owen Harris                             male   22  1     0    \n",
       "2 Cumings, Mrs. John Bradley (Florence Briggs Thayer) female 38  1     0    \n",
       "3 Heikkinen, Miss. Laina                              female 26  0     0    \n",
       "4 Futrelle, Mrs. Jacques Heath (Lily May Peel)        female 35  1     0    \n",
       "5 Allen, Mr. William Henry                            male   35  0     0    \n",
       "6 Moran, Mr. James                                    male   NA  0     0    \n",
       "  Ticket           Fare    Cabin Embarked\n",
       "1 A/5 21171         7.2500       S       \n",
       "2 PC 17599         71.2833 C85   C       \n",
       "3 STON/O2. 3101282  7.9250       S       \n",
       "4 113803           53.1000 C123  S       \n",
       "5 373450            8.0500       S       \n",
       "6 330877            8.4583       Q       "
      ]
     },
     "metadata": {},
     "output_type": "display_data"
    },
    {
     "data": {
      "text/html": [
       "<table>\n",
       "<caption>A data.frame: 6 × 12</caption>\n",
       "<thead>\n",
       "\t<tr><th></th><th scope=col>PassengerId</th><th scope=col>Survived</th><th scope=col>Pclass</th><th scope=col>Name</th><th scope=col>Sex</th><th scope=col>Age</th><th scope=col>SibSp</th><th scope=col>Parch</th><th scope=col>Ticket</th><th scope=col>Fare</th><th scope=col>Cabin</th><th scope=col>Embarked</th></tr>\n",
       "\t<tr><th></th><th scope=col>&lt;int&gt;</th><th scope=col>&lt;int&gt;</th><th scope=col>&lt;int&gt;</th><th scope=col>&lt;fct&gt;</th><th scope=col>&lt;fct&gt;</th><th scope=col>&lt;dbl&gt;</th><th scope=col>&lt;int&gt;</th><th scope=col>&lt;int&gt;</th><th scope=col>&lt;fct&gt;</th><th scope=col>&lt;dbl&gt;</th><th scope=col>&lt;fct&gt;</th><th scope=col>&lt;fct&gt;</th></tr>\n",
       "</thead>\n",
       "<tbody>\n",
       "\t<tr><th scope=row>886</th><td>886</td><td>0</td><td>3</td><td>Rice, Mrs. William (Margaret Norton)    </td><td>female</td><td>39</td><td>0</td><td>5</td><td>382652    </td><td>29.125</td><td>    </td><td>Q</td></tr>\n",
       "\t<tr><th scope=row>887</th><td>887</td><td>0</td><td>2</td><td>Montvila, Rev. Juozas                   </td><td>male  </td><td>27</td><td>0</td><td>0</td><td>211536    </td><td>13.000</td><td>    </td><td>S</td></tr>\n",
       "\t<tr><th scope=row>888</th><td>888</td><td>1</td><td>1</td><td>Graham, Miss. Margaret Edith            </td><td>female</td><td>19</td><td>0</td><td>0</td><td>112053    </td><td>30.000</td><td>B42 </td><td>S</td></tr>\n",
       "\t<tr><th scope=row>889</th><td>889</td><td>0</td><td>3</td><td>Johnston, Miss. Catherine Helen \"Carrie\"</td><td>female</td><td>NA</td><td>1</td><td>2</td><td>W./C. 6607</td><td>23.450</td><td>    </td><td>S</td></tr>\n",
       "\t<tr><th scope=row>890</th><td>890</td><td>1</td><td>1</td><td>Behr, Mr. Karl Howell                   </td><td>male  </td><td>26</td><td>0</td><td>0</td><td>111369    </td><td>30.000</td><td>C148</td><td>C</td></tr>\n",
       "\t<tr><th scope=row>891</th><td>891</td><td>0</td><td>3</td><td>Dooley, Mr. Patrick                     </td><td>male  </td><td>32</td><td>0</td><td>0</td><td>370376    </td><td> 7.750</td><td>    </td><td>Q</td></tr>\n",
       "</tbody>\n",
       "</table>\n"
      ],
      "text/latex": [
       "A data.frame: 6 × 12\n",
       "\\begin{tabular}{r|llllllllllll}\n",
       "  & PassengerId & Survived & Pclass & Name & Sex & Age & SibSp & Parch & Ticket & Fare & Cabin & Embarked\\\\\n",
       "  & <int> & <int> & <int> & <fct> & <fct> & <dbl> & <int> & <int> & <fct> & <dbl> & <fct> & <fct>\\\\\n",
       "\\hline\n",
       "\t886 & 886 & 0 & 3 & Rice, Mrs. William (Margaret Norton)     & female & 39 & 0 & 5 & 382652     & 29.125 &      & Q\\\\\n",
       "\t887 & 887 & 0 & 2 & Montvila, Rev. Juozas                    & male   & 27 & 0 & 0 & 211536     & 13.000 &      & S\\\\\n",
       "\t888 & 888 & 1 & 1 & Graham, Miss. Margaret Edith             & female & 19 & 0 & 0 & 112053     & 30.000 & B42  & S\\\\\n",
       "\t889 & 889 & 0 & 3 & Johnston, Miss. Catherine Helen \"Carrie\" & female & NA & 1 & 2 & W./C. 6607 & 23.450 &      & S\\\\\n",
       "\t890 & 890 & 1 & 1 & Behr, Mr. Karl Howell                    & male   & 26 & 0 & 0 & 111369     & 30.000 & C148 & C\\\\\n",
       "\t891 & 891 & 0 & 3 & Dooley, Mr. Patrick                      & male   & 32 & 0 & 0 & 370376     &  7.750 &      & Q\\\\\n",
       "\\end{tabular}\n"
      ],
      "text/markdown": [
       "\n",
       "A data.frame: 6 × 12\n",
       "\n",
       "| <!--/--> | PassengerId &lt;int&gt; | Survived &lt;int&gt; | Pclass &lt;int&gt; | Name &lt;fct&gt; | Sex &lt;fct&gt; | Age &lt;dbl&gt; | SibSp &lt;int&gt; | Parch &lt;int&gt; | Ticket &lt;fct&gt; | Fare &lt;dbl&gt; | Cabin &lt;fct&gt; | Embarked &lt;fct&gt; |\n",
       "|---|---|---|---|---|---|---|---|---|---|---|---|---|\n",
       "| 886 | 886 | 0 | 3 | Rice, Mrs. William (Margaret Norton)     | female | 39 | 0 | 5 | 382652     | 29.125 | <!----> | Q |\n",
       "| 887 | 887 | 0 | 2 | Montvila, Rev. Juozas                    | male   | 27 | 0 | 0 | 211536     | 13.000 | <!----> | S |\n",
       "| 888 | 888 | 1 | 1 | Graham, Miss. Margaret Edith             | female | 19 | 0 | 0 | 112053     | 30.000 | B42  | S |\n",
       "| 889 | 889 | 0 | 3 | Johnston, Miss. Catherine Helen \"Carrie\" | female | NA | 1 | 2 | W./C. 6607 | 23.450 | <!----> | S |\n",
       "| 890 | 890 | 1 | 1 | Behr, Mr. Karl Howell                    | male   | 26 | 0 | 0 | 111369     | 30.000 | C148 | C |\n",
       "| 891 | 891 | 0 | 3 | Dooley, Mr. Patrick                      | male   | 32 | 0 | 0 | 370376     |  7.750 | <!----> | Q |\n",
       "\n"
      ],
      "text/plain": [
       "    PassengerId Survived Pclass Name                                     Sex   \n",
       "886 886         0        3      Rice, Mrs. William (Margaret Norton)     female\n",
       "887 887         0        2      Montvila, Rev. Juozas                    male  \n",
       "888 888         1        1      Graham, Miss. Margaret Edith             female\n",
       "889 889         0        3      Johnston, Miss. Catherine Helen \"Carrie\" female\n",
       "890 890         1        1      Behr, Mr. Karl Howell                    male  \n",
       "891 891         0        3      Dooley, Mr. Patrick                      male  \n",
       "    Age SibSp Parch Ticket     Fare   Cabin Embarked\n",
       "886 39  0     5     382652     29.125       Q       \n",
       "887 27  0     0     211536     13.000       S       \n",
       "888 19  0     0     112053     30.000 B42   S       \n",
       "889 NA  1     2     W./C. 6607 23.450       S       \n",
       "890 26  0     0     111369     30.000 C148  C       \n",
       "891 32  0     0     370376      7.750       Q       "
      ]
     },
     "metadata": {},
     "output_type": "display_data"
    }
   ],
   "source": [
    "tTrain <- read.csv(\"./Data/titanic/train.csv\")\n",
    "head(tTrain)\n",
    "tail(tTrain)"
   ]
  },
  {
   "cell_type": "markdown",
   "metadata": {},
   "source": [
    "## Data Exporation"
   ]
  },
  {
   "cell_type": "code",
   "execution_count": 2,
   "metadata": {
    "ExecuteTime": {
     "end_time": "2019-12-18T04:18:18.935560Z",
     "start_time": "2019-12-18T04:18:18.894Z"
    }
   },
   "outputs": [
    {
     "name": "stdout",
     "output_type": "stream",
     "text": [
      "'data.frame':\t891 obs. of  12 variables:\n",
      " $ PassengerId: int  1 2 3 4 5 6 7 8 9 10 ...\n",
      " $ Survived   : int  0 1 1 1 0 0 0 0 1 1 ...\n",
      " $ Pclass     : int  3 1 3 1 3 3 1 3 3 2 ...\n",
      " $ Name       : Factor w/ 891 levels \"Abbing, Mr. Anthony\",..: 109 191 358 277 16 559 520 629 417 581 ...\n",
      " $ Sex        : Factor w/ 2 levels \"female\",\"male\": 2 1 1 1 2 2 2 2 1 1 ...\n",
      " $ Age        : num  22 38 26 35 35 NA 54 2 27 14 ...\n",
      " $ SibSp      : int  1 1 0 1 0 0 0 3 0 1 ...\n",
      " $ Parch      : int  0 0 0 0 0 0 0 1 2 0 ...\n",
      " $ Ticket     : Factor w/ 681 levels \"110152\",\"110413\",..: 524 597 670 50 473 276 86 396 345 133 ...\n",
      " $ Fare       : num  7.25 71.28 7.92 53.1 8.05 ...\n",
      " $ Cabin      : Factor w/ 148 levels \"\",\"A10\",\"A14\",..: 1 83 1 57 1 1 131 1 1 1 ...\n",
      " $ Embarked   : Factor w/ 4 levels \"\",\"C\",\"Q\",\"S\": 4 2 4 4 4 3 4 4 4 2 ...\n"
     ]
    }
   ],
   "source": [
    "str(tTrain)"
   ]
  },
  {
   "cell_type": "code",
   "execution_count": 3,
   "metadata": {
    "ExecuteTime": {
     "end_time": "2019-12-18T04:18:19.658408Z",
     "start_time": "2019-12-18T04:18:19.625Z"
    }
   },
   "outputs": [
    {
     "data": {
      "text/html": [
       "<ol class=list-inline>\n",
       "\t<li>891</li>\n",
       "\t<li>12</li>\n",
       "</ol>\n"
      ],
      "text/latex": [
       "\\begin{enumerate*}\n",
       "\\item 891\n",
       "\\item 12\n",
       "\\end{enumerate*}\n"
      ],
      "text/markdown": [
       "1. 891\n",
       "2. 12\n",
       "\n",
       "\n"
      ],
      "text/plain": [
       "[1] 891  12"
      ]
     },
     "metadata": {},
     "output_type": "display_data"
    }
   ],
   "source": [
    "dim(tTrain)"
   ]
  },
  {
   "cell_type": "markdown",
   "metadata": {},
   "source": [
    "data.frame:\t891 obs. of  12 variables:\n",
    " - PassengerId: int \n",
    " - Survived   : int   \n",
    " - Pclass     : int    \n",
    " - Name       : Factor w/ 891 levels   \n",
    " - Sex        : Factor w/ 2 levels \"female\",\"male\"  \n",
    " - Age        : num    \n",
    " - SibSp      : int    \n",
    " - Parch      : int    \n",
    " - Ticket     : Factor w/ 681 levels   \n",
    " - Fare       : num    \n",
    " - Cabin      : Factor w/ 148 levels   \n",
    " - Embarked   : Factor w/ 4 levels   "
   ]
  },
  {
   "cell_type": "markdown",
   "metadata": {},
   "source": [
    "### orderBy \"targets\""
   ]
  },
  {
   "cell_type": "code",
   "execution_count": 4,
   "metadata": {
    "ExecuteTime": {
     "end_time": "2019-12-18T04:18:21.661185Z",
     "start_time": "2019-12-18T04:18:20.576Z"
    }
   },
   "outputs": [],
   "source": [
    "library(doBy)"
   ]
  },
  {
   "cell_type": "code",
   "execution_count": 5,
   "metadata": {
    "ExecuteTime": {
     "end_time": "2019-12-18T04:18:21.872749Z",
     "start_time": "2019-12-18T04:18:20.937Z"
    },
    "scrolled": true
   },
   "outputs": [
    {
     "data": {
      "text/html": [
       "<table>\n",
       "<caption>A data.frame: 6 × 12</caption>\n",
       "<thead>\n",
       "\t<tr><th></th><th scope=col>PassengerId</th><th scope=col>Survived</th><th scope=col>Pclass</th><th scope=col>Name</th><th scope=col>Sex</th><th scope=col>Age</th><th scope=col>SibSp</th><th scope=col>Parch</th><th scope=col>Ticket</th><th scope=col>Fare</th><th scope=col>Cabin</th><th scope=col>Embarked</th></tr>\n",
       "\t<tr><th></th><th scope=col>&lt;int&gt;</th><th scope=col>&lt;int&gt;</th><th scope=col>&lt;int&gt;</th><th scope=col>&lt;fct&gt;</th><th scope=col>&lt;fct&gt;</th><th scope=col>&lt;dbl&gt;</th><th scope=col>&lt;int&gt;</th><th scope=col>&lt;int&gt;</th><th scope=col>&lt;fct&gt;</th><th scope=col>&lt;dbl&gt;</th><th scope=col>&lt;fct&gt;</th><th scope=col>&lt;fct&gt;</th></tr>\n",
       "</thead>\n",
       "<tbody>\n",
       "\t<tr><th scope=row>1</th><td> 1</td><td>0</td><td>3</td><td>Braund, Mr. Owen Harris       </td><td>male</td><td>22</td><td>1</td><td>0</td><td>A/5 21171</td><td> 7.2500</td><td>   </td><td>S</td></tr>\n",
       "\t<tr><th scope=row>5</th><td> 5</td><td>0</td><td>3</td><td>Allen, Mr. William Henry      </td><td>male</td><td>35</td><td>0</td><td>0</td><td>373450   </td><td> 8.0500</td><td>   </td><td>S</td></tr>\n",
       "\t<tr><th scope=row>6</th><td> 6</td><td>0</td><td>3</td><td>Moran, Mr. James              </td><td>male</td><td>NA</td><td>0</td><td>0</td><td>330877   </td><td> 8.4583</td><td>   </td><td>Q</td></tr>\n",
       "\t<tr><th scope=row>7</th><td> 7</td><td>0</td><td>1</td><td>McCarthy, Mr. Timothy J       </td><td>male</td><td>54</td><td>0</td><td>0</td><td>17463    </td><td>51.8625</td><td>E46</td><td>S</td></tr>\n",
       "\t<tr><th scope=row>8</th><td> 8</td><td>0</td><td>3</td><td>Palsson, Master. Gosta Leonard</td><td>male</td><td> 2</td><td>3</td><td>1</td><td>349909   </td><td>21.0750</td><td>   </td><td>S</td></tr>\n",
       "\t<tr><th scope=row>13</th><td>13</td><td>0</td><td>3</td><td>Saundercock, Mr. William Henry</td><td>male</td><td>20</td><td>0</td><td>0</td><td>A/5. 2151</td><td> 8.0500</td><td>   </td><td>S</td></tr>\n",
       "</tbody>\n",
       "</table>\n"
      ],
      "text/latex": [
       "A data.frame: 6 × 12\n",
       "\\begin{tabular}{r|llllllllllll}\n",
       "  & PassengerId & Survived & Pclass & Name & Sex & Age & SibSp & Parch & Ticket & Fare & Cabin & Embarked\\\\\n",
       "  & <int> & <int> & <int> & <fct> & <fct> & <dbl> & <int> & <int> & <fct> & <dbl> & <fct> & <fct>\\\\\n",
       "\\hline\n",
       "\t1 &  1 & 0 & 3 & Braund, Mr. Owen Harris        & male & 22 & 1 & 0 & A/5 21171 &  7.2500 &     & S\\\\\n",
       "\t5 &  5 & 0 & 3 & Allen, Mr. William Henry       & male & 35 & 0 & 0 & 373450    &  8.0500 &     & S\\\\\n",
       "\t6 &  6 & 0 & 3 & Moran, Mr. James               & male & NA & 0 & 0 & 330877    &  8.4583 &     & Q\\\\\n",
       "\t7 &  7 & 0 & 1 & McCarthy, Mr. Timothy J        & male & 54 & 0 & 0 & 17463     & 51.8625 & E46 & S\\\\\n",
       "\t8 &  8 & 0 & 3 & Palsson, Master. Gosta Leonard & male &  2 & 3 & 1 & 349909    & 21.0750 &     & S\\\\\n",
       "\t13 & 13 & 0 & 3 & Saundercock, Mr. William Henry & male & 20 & 0 & 0 & A/5. 2151 &  8.0500 &     & S\\\\\n",
       "\\end{tabular}\n"
      ],
      "text/markdown": [
       "\n",
       "A data.frame: 6 × 12\n",
       "\n",
       "| <!--/--> | PassengerId &lt;int&gt; | Survived &lt;int&gt; | Pclass &lt;int&gt; | Name &lt;fct&gt; | Sex &lt;fct&gt; | Age &lt;dbl&gt; | SibSp &lt;int&gt; | Parch &lt;int&gt; | Ticket &lt;fct&gt; | Fare &lt;dbl&gt; | Cabin &lt;fct&gt; | Embarked &lt;fct&gt; |\n",
       "|---|---|---|---|---|---|---|---|---|---|---|---|---|\n",
       "| 1 |  1 | 0 | 3 | Braund, Mr. Owen Harris        | male | 22 | 1 | 0 | A/5 21171 |  7.2500 | <!----> | S |\n",
       "| 5 |  5 | 0 | 3 | Allen, Mr. William Henry       | male | 35 | 0 | 0 | 373450    |  8.0500 | <!----> | S |\n",
       "| 6 |  6 | 0 | 3 | Moran, Mr. James               | male | NA | 0 | 0 | 330877    |  8.4583 | <!----> | Q |\n",
       "| 7 |  7 | 0 | 1 | McCarthy, Mr. Timothy J        | male | 54 | 0 | 0 | 17463     | 51.8625 | E46 | S |\n",
       "| 8 |  8 | 0 | 3 | Palsson, Master. Gosta Leonard | male |  2 | 3 | 1 | 349909    | 21.0750 | <!----> | S |\n",
       "| 13 | 13 | 0 | 3 | Saundercock, Mr. William Henry | male | 20 | 0 | 0 | A/5. 2151 |  8.0500 | <!----> | S |\n",
       "\n"
      ],
      "text/plain": [
       "   PassengerId Survived Pclass Name                           Sex  Age SibSp\n",
       "1   1          0        3      Braund, Mr. Owen Harris        male 22  1    \n",
       "5   5          0        3      Allen, Mr. William Henry       male 35  0    \n",
       "6   6          0        3      Moran, Mr. James               male NA  0    \n",
       "7   7          0        1      McCarthy, Mr. Timothy J        male 54  0    \n",
       "8   8          0        3      Palsson, Master. Gosta Leonard male  2  3    \n",
       "13 13          0        3      Saundercock, Mr. William Henry male 20  0    \n",
       "   Parch Ticket    Fare    Cabin Embarked\n",
       "1  0     A/5 21171  7.2500       S       \n",
       "5  0     373450     8.0500       S       \n",
       "6  0     330877     8.4583       Q       \n",
       "7  0     17463     51.8625 E46   S       \n",
       "8  1     349909    21.0750       S       \n",
       "13 0     A/5. 2151  8.0500       S       "
      ]
     },
     "metadata": {},
     "output_type": "display_data"
    }
   ],
   "source": [
    "tTrain.order <- orderBy(~Survived, tTrain)\n",
    "head(tTrain.order)"
   ]
  },
  {
   "cell_type": "markdown",
   "metadata": {},
   "source": [
    "### reset rownames"
   ]
  },
  {
   "cell_type": "code",
   "execution_count": 6,
   "metadata": {
    "ExecuteTime": {
     "end_time": "2019-12-18T04:18:22.303854Z",
     "start_time": "2019-12-18T04:18:21.905Z"
    },
    "scrolled": false
   },
   "outputs": [
    {
     "data": {
      "text/html": [
       "<table>\n",
       "<caption>A data.frame: 6 × 12</caption>\n",
       "<thead>\n",
       "\t<tr><th></th><th scope=col>PassengerId</th><th scope=col>Survived</th><th scope=col>Pclass</th><th scope=col>Name</th><th scope=col>Sex</th><th scope=col>Age</th><th scope=col>SibSp</th><th scope=col>Parch</th><th scope=col>Ticket</th><th scope=col>Fare</th><th scope=col>Cabin</th><th scope=col>Embarked</th></tr>\n",
       "\t<tr><th></th><th scope=col>&lt;int&gt;</th><th scope=col>&lt;int&gt;</th><th scope=col>&lt;int&gt;</th><th scope=col>&lt;fct&gt;</th><th scope=col>&lt;fct&gt;</th><th scope=col>&lt;dbl&gt;</th><th scope=col>&lt;int&gt;</th><th scope=col>&lt;int&gt;</th><th scope=col>&lt;fct&gt;</th><th scope=col>&lt;dbl&gt;</th><th scope=col>&lt;fct&gt;</th><th scope=col>&lt;fct&gt;</th></tr>\n",
       "</thead>\n",
       "<tbody>\n",
       "\t<tr><th scope=row>1</th><td> 1</td><td>0</td><td>3</td><td>Braund, Mr. Owen Harris       </td><td>male</td><td>22</td><td>1</td><td>0</td><td>A/5 21171</td><td> 7.2500</td><td>   </td><td>S</td></tr>\n",
       "\t<tr><th scope=row>2</th><td> 5</td><td>0</td><td>3</td><td>Allen, Mr. William Henry      </td><td>male</td><td>35</td><td>0</td><td>0</td><td>373450   </td><td> 8.0500</td><td>   </td><td>S</td></tr>\n",
       "\t<tr><th scope=row>3</th><td> 6</td><td>0</td><td>3</td><td>Moran, Mr. James              </td><td>male</td><td>NA</td><td>0</td><td>0</td><td>330877   </td><td> 8.4583</td><td>   </td><td>Q</td></tr>\n",
       "\t<tr><th scope=row>4</th><td> 7</td><td>0</td><td>1</td><td>McCarthy, Mr. Timothy J       </td><td>male</td><td>54</td><td>0</td><td>0</td><td>17463    </td><td>51.8625</td><td>E46</td><td>S</td></tr>\n",
       "\t<tr><th scope=row>5</th><td> 8</td><td>0</td><td>3</td><td>Palsson, Master. Gosta Leonard</td><td>male</td><td> 2</td><td>3</td><td>1</td><td>349909   </td><td>21.0750</td><td>   </td><td>S</td></tr>\n",
       "\t<tr><th scope=row>6</th><td>13</td><td>0</td><td>3</td><td>Saundercock, Mr. William Henry</td><td>male</td><td>20</td><td>0</td><td>0</td><td>A/5. 2151</td><td> 8.0500</td><td>   </td><td>S</td></tr>\n",
       "</tbody>\n",
       "</table>\n"
      ],
      "text/latex": [
       "A data.frame: 6 × 12\n",
       "\\begin{tabular}{r|llllllllllll}\n",
       "  & PassengerId & Survived & Pclass & Name & Sex & Age & SibSp & Parch & Ticket & Fare & Cabin & Embarked\\\\\n",
       "  & <int> & <int> & <int> & <fct> & <fct> & <dbl> & <int> & <int> & <fct> & <dbl> & <fct> & <fct>\\\\\n",
       "\\hline\n",
       "\t1 &  1 & 0 & 3 & Braund, Mr. Owen Harris        & male & 22 & 1 & 0 & A/5 21171 &  7.2500 &     & S\\\\\n",
       "\t2 &  5 & 0 & 3 & Allen, Mr. William Henry       & male & 35 & 0 & 0 & 373450    &  8.0500 &     & S\\\\\n",
       "\t3 &  6 & 0 & 3 & Moran, Mr. James               & male & NA & 0 & 0 & 330877    &  8.4583 &     & Q\\\\\n",
       "\t4 &  7 & 0 & 1 & McCarthy, Mr. Timothy J        & male & 54 & 0 & 0 & 17463     & 51.8625 & E46 & S\\\\\n",
       "\t5 &  8 & 0 & 3 & Palsson, Master. Gosta Leonard & male &  2 & 3 & 1 & 349909    & 21.0750 &     & S\\\\\n",
       "\t6 & 13 & 0 & 3 & Saundercock, Mr. William Henry & male & 20 & 0 & 0 & A/5. 2151 &  8.0500 &     & S\\\\\n",
       "\\end{tabular}\n"
      ],
      "text/markdown": [
       "\n",
       "A data.frame: 6 × 12\n",
       "\n",
       "| <!--/--> | PassengerId &lt;int&gt; | Survived &lt;int&gt; | Pclass &lt;int&gt; | Name &lt;fct&gt; | Sex &lt;fct&gt; | Age &lt;dbl&gt; | SibSp &lt;int&gt; | Parch &lt;int&gt; | Ticket &lt;fct&gt; | Fare &lt;dbl&gt; | Cabin &lt;fct&gt; | Embarked &lt;fct&gt; |\n",
       "|---|---|---|---|---|---|---|---|---|---|---|---|---|\n",
       "| 1 |  1 | 0 | 3 | Braund, Mr. Owen Harris        | male | 22 | 1 | 0 | A/5 21171 |  7.2500 | <!----> | S |\n",
       "| 2 |  5 | 0 | 3 | Allen, Mr. William Henry       | male | 35 | 0 | 0 | 373450    |  8.0500 | <!----> | S |\n",
       "| 3 |  6 | 0 | 3 | Moran, Mr. James               | male | NA | 0 | 0 | 330877    |  8.4583 | <!----> | Q |\n",
       "| 4 |  7 | 0 | 1 | McCarthy, Mr. Timothy J        | male | 54 | 0 | 0 | 17463     | 51.8625 | E46 | S |\n",
       "| 5 |  8 | 0 | 3 | Palsson, Master. Gosta Leonard | male |  2 | 3 | 1 | 349909    | 21.0750 | <!----> | S |\n",
       "| 6 | 13 | 0 | 3 | Saundercock, Mr. William Henry | male | 20 | 0 | 0 | A/5. 2151 |  8.0500 | <!----> | S |\n",
       "\n"
      ],
      "text/plain": [
       "  PassengerId Survived Pclass Name                           Sex  Age SibSp\n",
       "1  1          0        3      Braund, Mr. Owen Harris        male 22  1    \n",
       "2  5          0        3      Allen, Mr. William Henry       male 35  0    \n",
       "3  6          0        3      Moran, Mr. James               male NA  0    \n",
       "4  7          0        1      McCarthy, Mr. Timothy J        male 54  0    \n",
       "5  8          0        3      Palsson, Master. Gosta Leonard male  2  3    \n",
       "6 13          0        3      Saundercock, Mr. William Henry male 20  0    \n",
       "  Parch Ticket    Fare    Cabin Embarked\n",
       "1 0     A/5 21171  7.2500       S       \n",
       "2 0     373450     8.0500       S       \n",
       "3 0     330877     8.4583       Q       \n",
       "4 0     17463     51.8625 E46   S       \n",
       "5 1     349909    21.0750       S       \n",
       "6 0     A/5. 2151  8.0500       S       "
      ]
     },
     "metadata": {},
     "output_type": "display_data"
    },
    {
     "data": {
      "text/html": [
       "<table>\n",
       "<caption>A data.frame: 6 × 12</caption>\n",
       "<thead>\n",
       "\t<tr><th></th><th scope=col>PassengerId</th><th scope=col>Survived</th><th scope=col>Pclass</th><th scope=col>Name</th><th scope=col>Sex</th><th scope=col>Age</th><th scope=col>SibSp</th><th scope=col>Parch</th><th scope=col>Ticket</th><th scope=col>Fare</th><th scope=col>Cabin</th><th scope=col>Embarked</th></tr>\n",
       "\t<tr><th></th><th scope=col>&lt;int&gt;</th><th scope=col>&lt;int&gt;</th><th scope=col>&lt;int&gt;</th><th scope=col>&lt;fct&gt;</th><th scope=col>&lt;fct&gt;</th><th scope=col>&lt;dbl&gt;</th><th scope=col>&lt;int&gt;</th><th scope=col>&lt;int&gt;</th><th scope=col>&lt;fct&gt;</th><th scope=col>&lt;dbl&gt;</th><th scope=col>&lt;fct&gt;</th><th scope=col>&lt;fct&gt;</th></tr>\n",
       "</thead>\n",
       "<tbody>\n",
       "\t<tr><th scope=row>886</th><td>875</td><td>1</td><td>2</td><td>Abelson, Mrs. Samuel (Hannah Wizosky)        </td><td>female</td><td>28</td><td>1</td><td>0</td><td>P/PP 3381</td><td>24.0000</td><td>    </td><td>C</td></tr>\n",
       "\t<tr><th scope=row>887</th><td>876</td><td>1</td><td>3</td><td>Najib, Miss. Adele Kiamie \"Jane\"             </td><td>female</td><td>15</td><td>0</td><td>0</td><td>2667     </td><td> 7.2250</td><td>    </td><td>C</td></tr>\n",
       "\t<tr><th scope=row>888</th><td>880</td><td>1</td><td>1</td><td>Potter, Mrs. Thomas Jr (Lily Alexenia Wilson)</td><td>female</td><td>56</td><td>0</td><td>1</td><td>11767    </td><td>83.1583</td><td>C50 </td><td>C</td></tr>\n",
       "\t<tr><th scope=row>889</th><td>881</td><td>1</td><td>2</td><td>Shelley, Mrs. William (Imanita Parrish Hall) </td><td>female</td><td>25</td><td>0</td><td>1</td><td>230433   </td><td>26.0000</td><td>    </td><td>S</td></tr>\n",
       "\t<tr><th scope=row>890</th><td>888</td><td>1</td><td>1</td><td>Graham, Miss. Margaret Edith                 </td><td>female</td><td>19</td><td>0</td><td>0</td><td>112053   </td><td>30.0000</td><td>B42 </td><td>S</td></tr>\n",
       "\t<tr><th scope=row>891</th><td>890</td><td>1</td><td>1</td><td>Behr, Mr. Karl Howell                        </td><td>male  </td><td>26</td><td>0</td><td>0</td><td>111369   </td><td>30.0000</td><td>C148</td><td>C</td></tr>\n",
       "</tbody>\n",
       "</table>\n"
      ],
      "text/latex": [
       "A data.frame: 6 × 12\n",
       "\\begin{tabular}{r|llllllllllll}\n",
       "  & PassengerId & Survived & Pclass & Name & Sex & Age & SibSp & Parch & Ticket & Fare & Cabin & Embarked\\\\\n",
       "  & <int> & <int> & <int> & <fct> & <fct> & <dbl> & <int> & <int> & <fct> & <dbl> & <fct> & <fct>\\\\\n",
       "\\hline\n",
       "\t886 & 875 & 1 & 2 & Abelson, Mrs. Samuel (Hannah Wizosky)         & female & 28 & 1 & 0 & P/PP 3381 & 24.0000 &      & C\\\\\n",
       "\t887 & 876 & 1 & 3 & Najib, Miss. Adele Kiamie \"Jane\"              & female & 15 & 0 & 0 & 2667      &  7.2250 &      & C\\\\\n",
       "\t888 & 880 & 1 & 1 & Potter, Mrs. Thomas Jr (Lily Alexenia Wilson) & female & 56 & 0 & 1 & 11767     & 83.1583 & C50  & C\\\\\n",
       "\t889 & 881 & 1 & 2 & Shelley, Mrs. William (Imanita Parrish Hall)  & female & 25 & 0 & 1 & 230433    & 26.0000 &      & S\\\\\n",
       "\t890 & 888 & 1 & 1 & Graham, Miss. Margaret Edith                  & female & 19 & 0 & 0 & 112053    & 30.0000 & B42  & S\\\\\n",
       "\t891 & 890 & 1 & 1 & Behr, Mr. Karl Howell                         & male   & 26 & 0 & 0 & 111369    & 30.0000 & C148 & C\\\\\n",
       "\\end{tabular}\n"
      ],
      "text/markdown": [
       "\n",
       "A data.frame: 6 × 12\n",
       "\n",
       "| <!--/--> | PassengerId &lt;int&gt; | Survived &lt;int&gt; | Pclass &lt;int&gt; | Name &lt;fct&gt; | Sex &lt;fct&gt; | Age &lt;dbl&gt; | SibSp &lt;int&gt; | Parch &lt;int&gt; | Ticket &lt;fct&gt; | Fare &lt;dbl&gt; | Cabin &lt;fct&gt; | Embarked &lt;fct&gt; |\n",
       "|---|---|---|---|---|---|---|---|---|---|---|---|---|\n",
       "| 886 | 875 | 1 | 2 | Abelson, Mrs. Samuel (Hannah Wizosky)         | female | 28 | 1 | 0 | P/PP 3381 | 24.0000 | <!----> | C |\n",
       "| 887 | 876 | 1 | 3 | Najib, Miss. Adele Kiamie \"Jane\"              | female | 15 | 0 | 0 | 2667      |  7.2250 | <!----> | C |\n",
       "| 888 | 880 | 1 | 1 | Potter, Mrs. Thomas Jr (Lily Alexenia Wilson) | female | 56 | 0 | 1 | 11767     | 83.1583 | C50  | C |\n",
       "| 889 | 881 | 1 | 2 | Shelley, Mrs. William (Imanita Parrish Hall)  | female | 25 | 0 | 1 | 230433    | 26.0000 | <!----> | S |\n",
       "| 890 | 888 | 1 | 1 | Graham, Miss. Margaret Edith                  | female | 19 | 0 | 0 | 112053    | 30.0000 | B42  | S |\n",
       "| 891 | 890 | 1 | 1 | Behr, Mr. Karl Howell                         | male   | 26 | 0 | 0 | 111369    | 30.0000 | C148 | C |\n",
       "\n"
      ],
      "text/plain": [
       "    PassengerId Survived Pclass Name                                         \n",
       "886 875         1        2      Abelson, Mrs. Samuel (Hannah Wizosky)        \n",
       "887 876         1        3      Najib, Miss. Adele Kiamie \"Jane\"             \n",
       "888 880         1        1      Potter, Mrs. Thomas Jr (Lily Alexenia Wilson)\n",
       "889 881         1        2      Shelley, Mrs. William (Imanita Parrish Hall) \n",
       "890 888         1        1      Graham, Miss. Margaret Edith                 \n",
       "891 890         1        1      Behr, Mr. Karl Howell                        \n",
       "    Sex    Age SibSp Parch Ticket    Fare    Cabin Embarked\n",
       "886 female 28  1     0     P/PP 3381 24.0000       C       \n",
       "887 female 15  0     0     2667       7.2250       C       \n",
       "888 female 56  0     1     11767     83.1583 C50   C       \n",
       "889 female 25  0     1     230433    26.0000       S       \n",
       "890 female 19  0     0     112053    30.0000 B42   S       \n",
       "891 male   26  0     0     111369    30.0000 C148  C       "
      ]
     },
     "metadata": {},
     "output_type": "display_data"
    }
   ],
   "source": [
    "rownames(tTrain.order) <- c()\n",
    "head(tTrain.order)\n",
    "tail(tTrain.order)"
   ]
  },
  {
   "cell_type": "markdown",
   "metadata": {},
   "source": [
    "### Explore the target column"
   ]
  },
  {
   "cell_type": "markdown",
   "metadata": {},
   "source": [
    "#### Proportion of target data"
   ]
  },
  {
   "cell_type": "code",
   "execution_count": 7,
   "metadata": {
    "ExecuteTime": {
     "end_time": "2019-12-18T04:18:23.994967Z",
     "start_time": "2019-12-18T04:18:23.948Z"
    }
   },
   "outputs": [
    {
     "data": {
      "text/html": [
       "549"
      ],
      "text/latex": [
       "549"
      ],
      "text/markdown": [
       "549"
      ],
      "text/plain": [
       "[1] 549"
      ]
     },
     "metadata": {},
     "output_type": "display_data"
    },
    {
     "data": {
      "text/html": [
       "342"
      ],
      "text/latex": [
       "342"
      ],
      "text/markdown": [
       "342"
      ],
      "text/plain": [
       "[1] 342"
      ]
     },
     "metadata": {},
     "output_type": "display_data"
    },
    {
     "data": {
      "text/html": [
       "891"
      ],
      "text/latex": [
       "891"
      ],
      "text/markdown": [
       "891"
      ],
      "text/plain": [
       "[1] 891"
      ]
     },
     "metadata": {},
     "output_type": "display_data"
    }
   ],
   "source": [
    "victimCount   <- sum(tTrain.order$Survived == 0)\n",
    "survivorCount <- sum(tTrain.order$Survived == 1)\n",
    "totalCount    =  victimCount + survivorCount\n",
    "\n",
    "## Alternatively ##\n",
    "# victimCount   <- nrow(subset(tTrain.order, Survived == 0))\n",
    "# survivorCount <- nrow(subset(tTrain.order, Survived == 1))\n",
    "# totalCount    =  victimCount + survivorCount\n",
    "\n",
    "victimCount ; survivorCount ; totalCount"
   ]
  },
  {
   "cell_type": "code",
   "execution_count": 8,
   "metadata": {
    "ExecuteTime": {
     "end_time": "2019-12-18T04:18:24.492419Z",
     "start_time": "2019-12-18T04:18:24.306Z"
    }
   },
   "outputs": [
    {
     "data": {
      "text/html": [
       "<ol class=list-inline>\n",
       "\t<li>549</li>\n",
       "\t<li>342</li>\n",
       "</ol>\n"
      ],
      "text/latex": [
       "\\begin{enumerate*}\n",
       "\\item 549\n",
       "\\item 342\n",
       "\\end{enumerate*}\n"
      ],
      "text/markdown": [
       "1. 549\n",
       "2. 342\n",
       "\n",
       "\n"
      ],
      "text/plain": [
       "[1] 549 342"
      ]
     },
     "metadata": {},
     "output_type": "display_data"
    }
   ],
   "source": [
    "labelVec <- c(\"Victims\", \"Survivors\")\n",
    "SurvivedVec <- c(victimCount, survivorCount)\n",
    "SurvivedVec  # This is a vector SurvivedVec [1] ; SurvivedVec [2]"
   ]
  },
  {
   "cell_type": "code",
   "execution_count": 9,
   "metadata": {
    "ExecuteTime": {
     "end_time": "2019-12-18T04:18:24.726144Z",
     "start_time": "2019-12-18T04:18:24.604Z"
    }
   },
   "outputs": [
    {
     "data": {
      "text/html": [
       "<ol class=list-inline>\n",
       "\t<li>61.62</li>\n",
       "\t<li>38.38</li>\n",
       "</ol>\n"
      ],
      "text/latex": [
       "\\begin{enumerate*}\n",
       "\\item 61.62\n",
       "\\item 38.38\n",
       "\\end{enumerate*}\n"
      ],
      "text/markdown": [
       "1. 61.62\n",
       "2. 38.38\n",
       "\n",
       "\n"
      ],
      "text/plain": [
       "[1] 61.62 38.38"
      ]
     },
     "metadata": {},
     "output_type": "display_data"
    }
   ],
   "source": [
    "ratio <- round((SurvivedVec/totalCount) * 100, 2)\n",
    "ratio"
   ]
  },
  {
   "cell_type": "markdown",
   "metadata": {},
   "source": [
    "##### pie3D"
   ]
  },
  {
   "cell_type": "code",
   "execution_count": 10,
   "metadata": {
    "ExecuteTime": {
     "end_time": "2019-12-18T04:18:25.426734Z",
     "start_time": "2019-12-18T04:18:25.382Z"
    }
   },
   "outputs": [],
   "source": [
    "library(plotrix)"
   ]
  },
  {
   "cell_type": "code",
   "execution_count": 11,
   "metadata": {
    "ExecuteTime": {
     "end_time": "2019-12-18T04:18:25.928829Z",
     "start_time": "2019-12-18T04:18:25.792Z"
    }
   },
   "outputs": [
    {
     "data": {
      "image/png": "[encoded data removed]",
      "text/plain": [
       "Plot with title “The Proportion of Titanic Victims and Survivors”"
      ]
     },
     "metadata": {
      "image/png": {
       "height": 420,
       "width": 420
      },
      "text/plain": {
       "height": 420,
       "width": 420
      }
     },
     "output_type": "display_data"
    }
   ],
   "source": [
    "label = paste(labelVec, \"\\n\", ratio, \"%\")\n",
    "\n",
    "pie3D(SurvivedVec,\n",
    "      main = \"The Proportion of Titanic Victims and Survivors\",\n",
    "      labels = label,\n",
    "      col = c(\"red\",\"blue\"),\n",
    "      explode = 0.05)\n",
    "\n",
    "## Alternatively, ## \n",
    "# pie3D(SurvivedVec,\n",
    "#       main = \"The Proportion of Titanic Victims and Survivors\",\n",
    "#       labels = paste(labelVec, \"\\n\", ratio, \"%\"),\n",
    "#       col = c(\"red\",\"blue\"),\n",
    "#       explode = 0.05)"
   ]
  },
  {
   "cell_type": "markdown",
   "metadata": {},
   "source": [
    "##### barplot"
   ]
  },
  {
   "cell_type": "code",
   "execution_count": 12,
   "metadata": {
    "ExecuteTime": {
     "end_time": "2019-12-18T04:18:26.430293Z",
     "start_time": "2019-12-18T04:18:26.393Z"
    }
   },
   "outputs": [
    {
     "data": {
      "text/plain": [
       "\n",
       "  0   1 \n",
       "549 342 "
      ]
     },
     "metadata": {},
     "output_type": "display_data"
    }
   ],
   "source": [
    "tableBar <- table(tTrain.order$Survived)  # the best way to draw barchart is to use table\n",
    "tableBar"
   ]
  },
  {
   "cell_type": "code",
   "execution_count": 13,
   "metadata": {
    "ExecuteTime": {
     "end_time": "2019-12-18T04:18:26.827942Z",
     "start_time": "2019-12-18T04:18:26.709Z"
    }
   },
   "outputs": [
    {
     "data": {
      "image/png": "[encoded data removed]",
      "text/plain": [
       "Plot with title “The Proportion of Titanic Victims and Survivors”"
      ]
     },
     "metadata": {
      "image/png": {
       "height": 420,
       "width": 420
      },
      "text/plain": {
       "height": 420,
       "width": 420
      }
     },
     "output_type": "display_data"
    }
   ],
   "source": [
    "labelVS = c(\"Victims\", \"Survivors\")\n",
    "\n",
    "barplot(tableBar,\n",
    "        main = \"The Proportion of Titanic Victims and Survivors\",\n",
    "#       xlab = \"Victims and Survivors\",\n",
    "        ylab = \"The number of people\",\n",
    "        ylim = c(0,600),\n",
    "        names.arg = labelVS,\n",
    "        legend.text = labelVS,\n",
    "        col = c(\"red\",\"blue\"))"
   ]
  },
  {
   "cell_type": "markdown",
   "metadata": {},
   "source": [
    "*#* Survived column will be our target that we are going to predict whether people are survived or not with trained machine learning models.\n",
    "\n",
    "*#* The proportion of victims and survivors are 61.62% and 38.38%. This is okay to proceed analysis because it is not extremely skewed like 95%: 5%. However, we should see if it is worth analyzing data with same proportions."
   ]
  },
  {
   "cell_type": "markdown",
   "metadata": {
    "ExecuteTime": {
     "end_time": "2019-12-17T04:26:08.480441Z",
     "start_time": "2019-12-17T04:26:08.444Z"
    }
   },
   "source": [
    "#### Define trainData by examing each column"
   ]
  },
  {
   "cell_type": "code",
   "execution_count": 14,
   "metadata": {
    "ExecuteTime": {
     "end_time": "2019-12-18T04:18:27.861971Z",
     "start_time": "2019-12-18T04:18:27.806Z"
    }
   },
   "outputs": [
    {
     "name": "stdout",
     "output_type": "stream",
     "text": [
      "'data.frame':\t891 obs. of  12 variables:\n",
      " $ PassengerId: int  1 5 6 7 8 13 14 15 17 19 ...\n",
      " $ Survived   : int  0 0 0 0 0 0 0 0 0 0 ...\n",
      " $ Pclass     : int  3 3 3 1 3 3 3 3 3 3 ...\n",
      " $ Name       : Factor w/ 891 levels \"Abbing, Mr. Anthony\",..: 109 16 559 520 629 734 29 847 687 846 ...\n",
      " $ Sex        : Factor w/ 2 levels \"female\",\"male\": 2 2 2 2 2 2 2 1 2 1 ...\n",
      " $ Age        : num  22 35 NA 54 2 20 39 14 2 31 ...\n",
      " $ SibSp      : int  1 0 0 0 3 0 1 0 4 1 ...\n",
      " $ Parch      : int  0 0 0 0 1 0 5 0 1 0 ...\n",
      " $ Ticket     : Factor w/ 681 levels \"110152\",\"110413\",..: 524 473 276 86 396 536 334 414 481 302 ...\n",
      " $ Fare       : num  7.25 8.05 8.46 51.86 21.07 ...\n",
      " $ Cabin      : Factor w/ 148 levels \"\",\"A10\",\"A14\",..: 1 1 1 131 1 1 1 1 1 1 ...\n",
      " $ Embarked   : Factor w/ 4 levels \"\",\"C\",\"Q\",\"S\": 4 4 3 4 4 4 4 4 3 4 ...\n"
     ]
    }
   ],
   "source": [
    "str(tTrain.order)"
   ]
  },
  {
   "cell_type": "markdown",
   "metadata": {},
   "source": [
    "##### Survived by Pclass?"
   ]
  },
  {
   "cell_type": "code",
   "execution_count": 15,
   "metadata": {
    "ExecuteTime": {
     "end_time": "2019-12-18T04:18:28.672854Z",
     "start_time": "2019-12-18T04:18:28.639Z"
    }
   },
   "outputs": [
    {
     "name": "stdout",
     "output_type": "stream",
     "text": [
      " int [1:891] 3 3 3 1 3 3 3 3 3 3 ...\n"
     ]
    }
   ],
   "source": [
    "str(tTrain.order$Pclass)"
   ]
  },
  {
   "cell_type": "code",
   "execution_count": 16,
   "metadata": {
    "ExecuteTime": {
     "end_time": "2019-12-18T04:18:29.061115Z",
     "start_time": "2019-12-18T04:18:29.021Z"
    }
   },
   "outputs": [
    {
     "data": {
      "text/plain": [
       "\n",
       "FALSE \n",
       "  891 "
      ]
     },
     "metadata": {},
     "output_type": "display_data"
    }
   ],
   "source": [
    "table(is.na(tTrain.order$Pclass)) # to check whether this column contains NA"
   ]
  },
  {
   "cell_type": "code",
   "execution_count": 17,
   "metadata": {
    "ExecuteTime": {
     "end_time": "2019-12-18T04:18:29.509420Z",
     "start_time": "2019-12-18T04:18:29.451Z"
    },
    "scrolled": false
   },
   "outputs": [
    {
     "data": {
      "text/plain": [
       "\n",
       "  1   2   3 \n",
       "216 184 491 "
      ]
     },
     "metadata": {},
     "output_type": "display_data"
    },
    {
     "data": {
      "text/html": [
       "<strong>1:</strong> 216"
      ],
      "text/latex": [
       "\\textbf{1:} 216"
      ],
      "text/markdown": [
       "**1:** 216"
      ],
      "text/plain": [
       "  1 \n",
       "216 "
      ]
     },
     "metadata": {},
     "output_type": "display_data"
    },
    {
     "data": {
      "text/html": [
       "<strong>2:</strong> 184"
      ],
      "text/latex": [
       "\\textbf{2:} 184"
      ],
      "text/markdown": [
       "**2:** 184"
      ],
      "text/plain": [
       "  2 \n",
       "184 "
      ]
     },
     "metadata": {},
     "output_type": "display_data"
    },
    {
     "data": {
      "text/html": [
       "<strong>3:</strong> 491"
      ],
      "text/latex": [
       "\\textbf{3:} 491"
      ],
      "text/markdown": [
       "**3:** 491"
      ],
      "text/plain": [
       "  3 \n",
       "491 "
      ]
     },
     "metadata": {},
     "output_type": "display_data"
    }
   ],
   "source": [
    "# Count each pClass\n",
    "\n",
    "table(tTrain.order$Pclass) # Simple\n",
    "pClass1Count <- table(tTrain.order$Pclass)[1]\n",
    "pClass2Count <- table(tTrain.order$Pclass)[2]\n",
    "pClass3Count <- table(tTrain.order$Pclass)[3]\n",
    "\n",
    "## Alternatively, ##\n",
    "# pClass1Count   <- sum(tTrain.order$Pclass == 1) # == \"1\" also works\n",
    "# pClass2Count   <- sum(tTrain.order$Pclass == 2)\n",
    "# pClass3Count   <- sum(tTrain.order$Pclass == 3)\n",
    "\n",
    "## or ##\n",
    "# pClass1Count   <- nrow(subset(tTrain.order, Pclass == 1))\n",
    "# pClass2Count   <- nrow(subset(tTrain.order, Pclass == 2))\n",
    "# pClass3Count   <- nrow(subset(tTrain.order, Pclass == 3))\n",
    "\n",
    "pClass1Count ; pClass2Count ; pClass3Count"
   ]
  },
  {
   "cell_type": "code",
   "execution_count": 18,
   "metadata": {
    "ExecuteTime": {
     "end_time": "2019-12-18T04:18:29.868433Z",
     "start_time": "2019-12-18T04:18:29.817Z"
    }
   },
   "outputs": [],
   "source": [
    "pClass1.Victim   = nrow(subset(tTrain.order, Pclass == 1 & Survived == 0))\n",
    "pClass1.Survivor = nrow(subset(tTrain.order, Pclass == 1 & Survived == 1))\n",
    "\n",
    "pClass2.Victim   = nrow(subset(tTrain.order, Pclass == 2 & Survived == 0))\n",
    "pClass2.Survivor = nrow(subset(tTrain.order, Pclass == 2 & Survived == 1))\n",
    "\n",
    "pClass3.Victim   = nrow(subset(tTrain.order, Pclass == 3 & Survived == 0))\n",
    "pClass3.Survivor = nrow(subset(tTrain.order, Pclass == 3 & Survived == 1))"
   ]
  },
  {
   "cell_type": "code",
   "execution_count": 19,
   "metadata": {
    "ExecuteTime": {
     "end_time": "2019-12-18T04:18:30.264835Z",
     "start_time": "2019-12-18T04:18:30.119Z"
    }
   },
   "outputs": [
    {
     "data": {
      "text/html": [
       "'80 136'"
      ],
      "text/latex": [
       "'80 136'"
      ],
      "text/markdown": [
       "'80 136'"
      ],
      "text/plain": [
       "[1] \"80 136\""
      ]
     },
     "metadata": {},
     "output_type": "display_data"
    },
    {
     "data": {
      "text/html": [
       "'97 87'"
      ],
      "text/latex": [
       "'97 87'"
      ],
      "text/markdown": [
       "'97 87'"
      ],
      "text/plain": [
       "[1] \"97 87\""
      ]
     },
     "metadata": {},
     "output_type": "display_data"
    },
    {
     "data": {
      "text/html": [
       "'97 119'"
      ],
      "text/latex": [
       "'97 119'"
      ],
      "text/markdown": [
       "'97 119'"
      ],
      "text/plain": [
       "[1] \"97 119\""
      ]
     },
     "metadata": {},
     "output_type": "display_data"
    }
   ],
   "source": [
    "paste(pClass1.Victim, pClass1.Survivor)\n",
    "paste(pClass2.Victim, pClass2.Survivor)\n",
    "paste(pClass2.Victim, pClass3.Survivor)"
   ]
  },
  {
   "cell_type": "markdown",
   "metadata": {},
   "source": [
    "*#* pClass1.Victim < pClass1.Survivor  \n",
    "*#* pClass2.Victim > pClass2.Survivor  \n",
    "*#* pClass3.Victim > pClass3.Survivor  \n",
    "*#* The porportion of survived passengers in Class 1 execeed that of victims, while the class 2 and 3 shows the opposite results. It can be used for trainData."
   ]
  },
  {
   "cell_type": "markdown",
   "metadata": {},
   "source": [
    "##### Survived by Pclass and Sex?"
   ]
  },
  {
   "cell_type": "markdown",
   "metadata": {},
   "source": [
    "###### Exercise 1: for loop and double for loop"
   ]
  },
  {
   "cell_type": "code",
   "execution_count": 20,
   "metadata": {},
   "outputs": [
    {
     "name": "stdout",
     "output_type": "stream",
     "text": [
      "female survivors in class 1 :    91 / 94 , 96.81 % \n",
      "female survivors in class 2 :    70 / 76 , 92.11 % \n",
      "female survivors in class 3 :    72 / 144 , 50 % \n",
      "------------------------------------------------------------------\n",
      "male survivors in class 1 :    45 / 122 , 36.89 % \n",
      "male survivors in class 2 :    17 / 108 , 15.74 % \n",
      "male survivors in class 3 :    47 / 347 , 13.54 % \n",
      "------------------------------------------------------------------\n"
     ]
    }
   ],
   "source": [
    "for(j in c(\"female\", \"male\")){\n",
    "    for(i in 1:3){\n",
    "        genderCountlist = nrow(subset(tTrain.order, (Sex == j) & (Pclass == i)))\n",
    "    genderLiveCountlist = nrow(subset(tTrain.order, (Sex == j) & (Pclass == i)\n",
    "                                 & (Survived == 1)))\n",
    "    cat(paste(j, \"survivors in class\", i,\":   \", genderLiveCountlist, \"/\", genderCountlist, \",\",\n",
    "              round(genderLiveCountlist/genderCountlist * 100, 2), \"%\", \"\\n\"))\n",
    "        }\n",
    "    cat(paste(\"------------------------------------------------------------------\\n\"))\n",
    "}"
   ]
  },
  {
   "cell_type": "code",
   "execution_count": 21,
   "metadata": {},
   "outputs": [
    {
     "name": "stdout",
     "output_type": "stream",
     "text": [
      "1 The percentage of female survivors in class 1:  91 / 94 , 96.81 % \n",
      "2 The percentage of female survivors in class 1:  70 / 76 , 92.11 % \n",
      "3 The percentage of female survivors in class 1:  72 / 144 , 50 % \n",
      "------------------------------------------------------------------- \n",
      "1 The percentage of male survivors in class 1:  45 / 122 , 36.89 % \n",
      "2 The percentage of male survivors in class 1:  17 / 108 , 15.74 % \n",
      "3 The percentage of male survivors in class 1:  47 / 347 , 13.54 % \n",
      "------------------------------------------------------------------- \n"
     ]
    }
   ],
   "source": [
    "## Alternatively,\n",
    "\n",
    "# female\n",
    "for (i in seq(1:3)){\n",
    "    femaleCountlist = nrow(subset(tTrain.order, (Sex == \"female\") & (Pclass == i)))\n",
    "    femaleLiveCountlist = nrow(subset(tTrain.order, (Sex == \"female\") & (Pclass == i)\n",
    "                                 & (Survived == 1)))\n",
    "    cat(paste(i, \"The percentage of female survivors in class 1: \", femaleLiveCountlist, \"/\", femaleCountlist, \",\",\n",
    "          round(femaleLiveCountlist/femaleCountlist * 100, 2), \"%\", \"\\n\"))\n",
    "}\n",
    "\n",
    "cat(paste(\"-------------------------------------------------------------------\"),\"\\n\")\n",
    "\n",
    "# male\n",
    "for (i in 1:3){\n",
    "    maleCountlist = nrow(subset(tTrain.order, (Sex == \"male\") & (Pclass == i)))\n",
    "    maleLiveCountlist = nrow(subset(tTrain.order, (Sex == \"male\") & (Pclass == i)\n",
    "                                 & (Survived == 1)))\n",
    "    cat(paste(i, \"The percentage of male survivors in class 1: \", maleLiveCountlist, \"/\", maleCountlist, \",\",\n",
    "          round(maleLiveCountlist/maleCountlist * 100, 2), \"%\", \"\\n\"))\n",
    "}\n",
    "\n",
    "cat(paste(\"-------------------------------------------------------------------\"),\"\\n\")"
   ]
  },
  {
   "cell_type": "code",
   "execution_count": 22,
   "metadata": {},
   "outputs": [
    {
     "name": "stdout",
     "output_type": "stream",
     "text": [
      "The percentage of female survivors in class 1:  91 / 94 , 96.81 % \n"
     ]
    }
   ],
   "source": [
    "# the number of female in class 1\n",
    "femaleCountlist = nrow(subset(tTrain.order, (Sex == \"female\") & (Pclass == 1)))\n",
    "  # femaleCountlist\n",
    "\n",
    "# the number of female survivors in class 1\n",
    "femaleLiveCountlist = nrow(subset(tTrain.order, (Sex == \"female\") & (Pclass == 1)\n",
    "                                 & (Survived == 1)))\n",
    "  # femaleLiveCountlist\n",
    "\n",
    "cat(paste(\"The percentage of female survivors in class 1: \", femaleLiveCountlist, \"/\", femaleCountlist, \",\",\n",
    "          round(femaleLiveCountlist/femaleCountlist * 100, 2), \"%\", \"\\n\"))"
   ]
  },
  {
   "cell_type": "code",
   "execution_count": null,
   "metadata": {},
   "outputs": [],
   "source": []
  },
  {
   "cell_type": "code",
   "execution_count": null,
   "metadata": {},
   "outputs": [],
   "source": []
  },
  {
   "cell_type": "code",
   "execution_count": null,
   "metadata": {},
   "outputs": [],
   "source": []
  },
  {
   "cell_type": "code",
   "execution_count": 23,
   "metadata": {},
   "outputs": [
    {
     "name": "stdout",
     "output_type": "stream",
     "text": [
      "FEMALE survivors in class 1 :    91 / 94 , 96.81 % \n",
      "FEMALE survivors in class 2 :    70 / 76 , 92.11 % \n",
      "FEMALE survivors in class 3 :    72 / 144 , 50 % \n",
      "------------------------------------------------------------------\n",
      "MALE survivors in class 1 :    45 / 122 , 36.89 % \n",
      "MALE survivors in class 2 :    17 / 108 , 15.74 % \n",
      "MALE survivors in class 3 :    47 / 347 , 13.54 % \n",
      "------------------------------------------------------------------\n"
     ]
    }
   ],
   "source": [
    "# Convert female into FEMALE ; male into MALE\n",
    "\n",
    "## ifelse (in R way)\n",
    "for(j in c(\"female\", \"male\")){\n",
    "    for(i in seq(1:3)){\n",
    "        genderCountlist = nrow(subset(tTrain.order, (Sex == j) & (Pclass == i)))\n",
    "    genderLiveCountlist = nrow(subset(tTrain.order, (Sex == j) & (Pclass == i)\n",
    "                                 & (Survived == 1)))\n",
    "    cat(paste(ifelse(j==\"female\", \"FEMALE\", \"MALE\"), \"survivors in class\", i,\":   \", genderLiveCountlist, \"/\", genderCountlist, \",\",\n",
    "              round(genderLiveCountlist/genderCountlist * 100, 2), \"%\", \"\\n\"))\n",
    "        }\n",
    "    cat(paste(\"------------------------------------------------------------------\\n\"))\n",
    "}"
   ]
  },
  {
   "cell_type": "code",
   "execution_count": 24,
   "metadata": {
    "scrolled": true
   },
   "outputs": [
    {
     "name": "stdout",
     "output_type": "stream",
     "text": [
      "FEMALE survivors in class 1 :    91 / 94 , 96.81 % \n",
      "FEMALE survivors in class 2 :    70 / 76 , 92.11 % \n",
      "FEMALE survivors in class 3 :    72 / 144 , 50 % \n",
      "------------------------------------------------------------------\n",
      "MALE survivors in class 1 :    45 / 122 , 36.89 % \n",
      "MALE survivors in class 2 :    17 / 108 , 15.74 % \n",
      "MALE survivors in class 3 :    47 / 347 , 13.54 % \n",
      "------------------------------------------------------------------\n"
     ]
    }
   ],
   "source": [
    "## Anternatively, (by typical programming way)\n",
    "\n",
    "sex = c(\"female\", \"male\")\n",
    "gender = c(\"FEMALE\", \"MALE\")\n",
    "tkClass = c(1,2,3)\n",
    "k = 1\n",
    "\n",
    "for(j in sex){\n",
    "    for(i in tkClass){\n",
    "        genderCountlist = nrow(subset(tTrain.order, (Sex == j) & (Pclass == i)))\n",
    "    genderLiveCountlist = nrow(subset(tTrain.order, (Sex == j) & (Pclass == i)\n",
    "                                 & (Survived == 1)))\n",
    "    cat(paste(gender[k], \"survivors in class\", i,\":   \", genderLiveCountlist, \"/\", genderCountlist, \",\",\n",
    "              round(genderLiveCountlist/genderCountlist * 100, 2), \"%\", \"\\n\"))\n",
    "        }\n",
    "    cat(paste(\"------------------------------------------------------------------\\n\"))\n",
    "    k = k + 1\n",
    "}"
   ]
  },
  {
   "cell_type": "code",
   "execution_count": 25,
   "metadata": {},
   "outputs": [
    {
     "data": {
      "text/html": [
       "<table>\n",
       "<caption>A data.frame: 2 × 2</caption>\n",
       "<thead>\n",
       "\t<tr><th scope=col>c..female....male..</th><th scope=col>c..FEMALE....MALE..</th></tr>\n",
       "\t<tr><th scope=col>&lt;fct&gt;</th><th scope=col>&lt;fct&gt;</th></tr>\n",
       "</thead>\n",
       "<tbody>\n",
       "\t<tr><td>female</td><td>FEMALE</td></tr>\n",
       "\t<tr><td>male  </td><td>MALE  </td></tr>\n",
       "</tbody>\n",
       "</table>\n"
      ],
      "text/latex": [
       "A data.frame: 2 × 2\n",
       "\\begin{tabular}{ll}\n",
       " c..female....male.. & c..FEMALE....MALE..\\\\\n",
       " <fct> & <fct>\\\\\n",
       "\\hline\n",
       "\t female & FEMALE\\\\\n",
       "\t male   & MALE  \\\\\n",
       "\\end{tabular}\n"
      ],
      "text/markdown": [
       "\n",
       "A data.frame: 2 × 2\n",
       "\n",
       "| c..female....male.. &lt;fct&gt; | c..FEMALE....MALE.. &lt;fct&gt; |\n",
       "|---|---|\n",
       "| female | FEMALE |\n",
       "| male   | MALE   |\n",
       "\n"
      ],
      "text/plain": [
       "  c..female....male.. c..FEMALE....MALE..\n",
       "1 female              FEMALE             \n",
       "2 male                MALE               "
      ]
     },
     "metadata": {},
     "output_type": "display_data"
    }
   ],
   "source": [
    "## Anternatively, \n",
    "charac <- data.frame(c(\"female\", \"male\"), c(\"FEMALE\", \"MALE\"))\n",
    "charac"
   ]
  },
  {
   "cell_type": "code",
   "execution_count": null,
   "metadata": {},
   "outputs": [],
   "source": []
  },
  {
   "cell_type": "code",
   "execution_count": 26,
   "metadata": {
    "scrolled": true
   },
   "outputs": [
    {
     "name": "stdout",
     "output_type": "stream",
     "text": [
      "female survivors in class 1 :    91 / 94 , 96.81 % \n",
      "female survivors in class 2 :    70 / 76 , 92.11 % \n",
      "female survivors in class 3 :    72 / 144 , 50 % \n",
      "------------------------------------------------------------------\n",
      "male survivors in class 1 :    45 / 122 , 36.89 % \n",
      "male survivors in class 2 :    17 / 108 , 15.74 % \n",
      "male survivors in class 3 :    47 / 347 , 13.54 % \n",
      "------------------------------------------------------------------\n"
     ]
    }
   ],
   "source": [
    "## input the values into vectors\n",
    "\n",
    "# create blank vectors\n",
    "femaleData <- c()\n",
    "maleData <- c()\n",
    "\n",
    "for(j in c(\"female\", \"male\")){\n",
    "    for(i in 1:3){\n",
    "        genderCountlist = nrow(subset(tTrain.order, (Sex == j) & (Pclass == i)))\n",
    "    genderLiveCountlist = nrow(subset(tTrain.order, (Sex == j) & (Pclass == i)\n",
    "                                 & (Survived == 1)))\n",
    "    cat(paste(j, \"survivors in class\", i,\":   \", genderLiveCountlist, \"/\", genderCountlist, \",\",\n",
    "              round(genderLiveCountlist/genderCountlist * 100, 2), \"%\", \"\\n\"))\n",
    "        \n",
    "        \n",
    "    if (j == \"female\"){\n",
    "        femaleData[i] = round(genderLiveCountlist/genderCountlist * 100, 2)\n",
    "    }else{\n",
    "        maleData[i] = round(genderLiveCountlist/genderCountlist * 100, 2)\n",
    "    }\n",
    "    }\n",
    "    cat(paste(\"------------------------------------------------------------------\\n\"))\n",
    "}\n"
   ]
  },
  {
   "cell_type": "code",
   "execution_count": 27,
   "metadata": {},
   "outputs": [
    {
     "data": {
      "text/html": [
       "<ol class=list-inline>\n",
       "\t<li>96.81</li>\n",
       "\t<li>92.11</li>\n",
       "\t<li>50</li>\n",
       "</ol>\n"
      ],
      "text/latex": [
       "\\begin{enumerate*}\n",
       "\\item 96.81\n",
       "\\item 92.11\n",
       "\\item 50\n",
       "\\end{enumerate*}\n"
      ],
      "text/markdown": [
       "1. 96.81\n",
       "2. 92.11\n",
       "3. 50\n",
       "\n",
       "\n"
      ],
      "text/plain": [
       "[1] 96.81 92.11 50.00"
      ]
     },
     "metadata": {},
     "output_type": "display_data"
    },
    {
     "data": {
      "text/html": [
       "<ol class=list-inline>\n",
       "\t<li>36.89</li>\n",
       "\t<li>15.74</li>\n",
       "\t<li>13.54</li>\n",
       "</ol>\n"
      ],
      "text/latex": [
       "\\begin{enumerate*}\n",
       "\\item 36.89\n",
       "\\item 15.74\n",
       "\\item 13.54\n",
       "\\end{enumerate*}\n"
      ],
      "text/markdown": [
       "1. 36.89\n",
       "2. 15.74\n",
       "3. 13.54\n",
       "\n",
       "\n"
      ],
      "text/plain": [
       "[1] 36.89 15.74 13.54"
      ]
     },
     "metadata": {},
     "output_type": "display_data"
    }
   ],
   "source": [
    "femaleData ; maleData"
   ]
  },
  {
   "cell_type": "code",
   "execution_count": 28,
   "metadata": {},
   "outputs": [
    {
     "data": {
      "text/html": [
       "<table>\n",
       "<caption>A data.frame: 3 × 2</caption>\n",
       "<thead>\n",
       "\t<tr><th scope=col>female</th><th scope=col>male</th></tr>\n",
       "\t<tr><th scope=col>&lt;dbl&gt;</th><th scope=col>&lt;dbl&gt;</th></tr>\n",
       "</thead>\n",
       "<tbody>\n",
       "\t<tr><td>96.81</td><td>36.89</td></tr>\n",
       "\t<tr><td>92.11</td><td>15.74</td></tr>\n",
       "\t<tr><td>50.00</td><td>13.54</td></tr>\n",
       "</tbody>\n",
       "</table>\n"
      ],
      "text/latex": [
       "A data.frame: 3 × 2\n",
       "\\begin{tabular}{ll}\n",
       " female & male\\\\\n",
       " <dbl> & <dbl>\\\\\n",
       "\\hline\n",
       "\t 96.81 & 36.89\\\\\n",
       "\t 92.11 & 15.74\\\\\n",
       "\t 50.00 & 13.54\\\\\n",
       "\\end{tabular}\n"
      ],
      "text/markdown": [
       "\n",
       "A data.frame: 3 × 2\n",
       "\n",
       "| female &lt;dbl&gt; | male &lt;dbl&gt; |\n",
       "|---|---|\n",
       "| 96.81 | 36.89 |\n",
       "| 92.11 | 15.74 |\n",
       "| 50.00 | 13.54 |\n",
       "\n"
      ],
      "text/plain": [
       "  female male \n",
       "1 96.81  36.89\n",
       "2 92.11  15.74\n",
       "3 50.00  13.54"
      ]
     },
     "metadata": {},
     "output_type": "display_data"
    }
   ],
   "source": [
    "dfData <- data.frame(female = femaleData, male = maleData)\n",
    "dfData"
   ]
  },
  {
   "cell_type": "code",
   "execution_count": 29,
   "metadata": {},
   "outputs": [
    {
     "data": {
      "text/html": [
       "<ol class=list-inline>\n",
       "\t<li>96.81</li>\n",
       "\t<li>92.11</li>\n",
       "\t<li>50</li>\n",
       "\t<li>36.89</li>\n",
       "\t<li>15.74</li>\n",
       "\t<li>13.54</li>\n",
       "</ol>\n"
      ],
      "text/latex": [
       "\\begin{enumerate*}\n",
       "\\item 96.81\n",
       "\\item 92.11\n",
       "\\item 50\n",
       "\\item 36.89\n",
       "\\item 15.74\n",
       "\\item 13.54\n",
       "\\end{enumerate*}\n"
      ],
      "text/markdown": [
       "1. 96.81\n",
       "2. 92.11\n",
       "3. 50\n",
       "4. 36.89\n",
       "5. 15.74\n",
       "6. 13.54\n",
       "\n",
       "\n"
      ],
      "text/plain": [
       "[1] 96.81 92.11 50.00 36.89 15.74 13.54"
      ]
     },
     "metadata": {},
     "output_type": "display_data"
    }
   ],
   "source": [
    "# combine Vectors\n",
    "\n",
    "vecData <- append(femaleData, maleData)\n",
    "# vecData <- c(femaleData, maleData)\n",
    "\n",
    "vecData"
   ]
  },
  {
   "cell_type": "code",
   "execution_count": 30,
   "metadata": {},
   "outputs": [
    {
     "data": {
      "image/png": "[encoded data removed]",
      "text/plain": [
       "Plot with title “The Percentage of Survival by Class and Gender”"
      ]
     },
     "metadata": {
      "image/png": {
       "height": 420,
       "width": 420
      },
      "text/plain": {
       "height": 420,
       "width": 420
      }
     },
     "output_type": "display_data"
    }
   ],
   "source": [
    "# Bar plot\n",
    "barplot(vecData, \n",
    "        main = \"The Percentage of Survival by Class and Gender\", \n",
    "        xlab = \"Class\", ylab = \"Survival rate\",\n",
    "        names.arg = c(\"Class1(F)\", \"Class2(F)\", \"Class3(F)\", \n",
    "                     \"Class1(M)\", \"Class2(M)\", \"Class3(M)\"), \n",
    "        border = c(rep(\"red\", 3), rep(\"blue\", 3)),\n",
    "        density = c(rep(10, 3), rep(50, 3)),\n",
    "        cex.names = 0.8,\n",
    "        ylim = c(0, 100)\n",
    "       )"
   ]
  },
  {
   "cell_type": "markdown",
   "metadata": {},
   "source": [
    "The higher ticket class, the higher survival rate"
   ]
  },
  {
   "cell_type": "markdown",
   "metadata": {},
   "source": [
    "=> Use in trainData"
   ]
  },
  {
   "cell_type": "markdown",
   "metadata": {},
   "source": [
    "##### Survived by Name?"
   ]
  },
  {
   "cell_type": "code",
   "execution_count": 31,
   "metadata": {
    "ExecuteTime": {
     "end_time": "2019-12-18T04:18:31.322621Z",
     "start_time": "2019-12-18T04:18:31.283Z"
    },
    "scrolled": true
   },
   "outputs": [
    {
     "name": "stdout",
     "output_type": "stream",
     "text": [
      " Factor w/ 891 levels \"Abbing, Mr. Anthony\",..: 109 16 559 520 629 734 29 847 687 846 ...\n"
     ]
    }
   ],
   "source": [
    "str(tTrain.order$Name)"
   ]
  },
  {
   "cell_type": "markdown",
   "metadata": {},
   "source": [
    "*#* We can hardly find any connection bewteen different names (characters) on Name column and our target(Survived column). So, we will not use name as a column in trainData.\n",
    "\n",
    "=> No use in trainData"
   ]
  },
  {
   "cell_type": "markdown",
   "metadata": {},
   "source": [
    "##### Survived by Sex?"
   ]
  },
  {
   "cell_type": "code",
   "execution_count": 32,
   "metadata": {
    "ExecuteTime": {
     "end_time": "2019-12-18T04:18:32.279083Z",
     "start_time": "2019-12-18T04:18:32.239Z"
    }
   },
   "outputs": [
    {
     "name": "stdout",
     "output_type": "stream",
     "text": [
      " Factor w/ 2 levels \"female\",\"male\": 2 2 2 2 2 2 2 1 2 1 ...\n"
     ]
    }
   ],
   "source": [
    "str(tTrain.order$Sex)"
   ]
  },
  {
   "cell_type": "code",
   "execution_count": 33,
   "metadata": {
    "ExecuteTime": {
     "end_time": "2019-12-18T04:18:32.562430Z",
     "start_time": "2019-12-18T04:18:32.537Z"
    }
   },
   "outputs": [
    {
     "data": {
      "text/plain": [
       "\n",
       "FALSE \n",
       "  891 "
      ]
     },
     "metadata": {},
     "output_type": "display_data"
    }
   ],
   "source": [
    "table(is.na(tTrain.order$Sex)) # to check whether this column contains NA"
   ]
  },
  {
   "cell_type": "code",
   "execution_count": 34,
   "metadata": {
    "ExecuteTime": {
     "end_time": "2019-12-18T04:18:32.712781Z",
     "start_time": "2019-12-18T04:18:32.683Z"
    },
    "scrolled": true
   },
   "outputs": [
    {
     "data": {
      "text/plain": [
       "\n",
       "female   male \n",
       "   314    577 "
      ]
     },
     "metadata": {},
     "output_type": "display_data"
    },
    {
     "data": {
      "text/html": [
       "'314 577'"
      ],
      "text/latex": [
       "'314 577'"
      ],
      "text/markdown": [
       "'314 577'"
      ],
      "text/plain": [
       "[1] \"314 577\""
      ]
     },
     "metadata": {},
     "output_type": "display_data"
    }
   ],
   "source": [
    "# Count female and male\n",
    "table(tTrain.order$Sex)\n",
    "\n",
    "femaleCount <- sum(tTrain.order$Sex == \"female\")\n",
    "maleCount   <- sum(tTrain.order$Sex == \"male\")\n",
    "\n",
    "## Alternatively,##\n",
    "# femaleCount <- nrow(subset(tTrain.order, Sex == \"female\"))\n",
    "# maleCount   <- nrow(subset(tTrain.order, Sex == \"male\"))\n",
    "\n",
    "## or ##\n",
    "\n",
    "# femaleCount <- table(tTrain.order$Sex)[1]\n",
    "# maleCount   <- table(tTrain.order$Sex)[2]\n",
    "\n",
    "paste(femaleCount, maleCount)"
   ]
  },
  {
   "cell_type": "code",
   "execution_count": 35,
   "metadata": {},
   "outputs": [
    {
     "data": {
      "image/png": "[encoded data removed]",
      "text/plain": [
       "Plot with title “The number of passengers by Sex”"
      ]
     },
     "metadata": {
      "image/png": {
       "height": 420,
       "width": 420
      },
      "text/plain": {
       "height": 420,
       "width": 420
      }
     },
     "output_type": "display_data"
    }
   ],
   "source": [
    "# Bar plot\n",
    "table_barBySex <- table(tTrain.order$Sex)\n",
    "barplot(table_barBySex,\n",
    "        col = c(\"purple\", \"dark green\"),\n",
    "        main = \"The number of passengers by Sex\",\n",
    "       xlab = \"Sex\",\n",
    "       ylab = \"The number of passangers\",\n",
    "       ylim = c(0, 600),\n",
    "       names.arg = c(\"female\", \"male\"))"
   ]
  },
  {
   "cell_type": "code",
   "execution_count": null,
   "metadata": {},
   "outputs": [],
   "source": []
  },
  {
   "cell_type": "code",
   "execution_count": 36,
   "metadata": {
    "ExecuteTime": {
     "end_time": "2019-12-18T04:18:33.181950Z",
     "start_time": "2019-12-18T04:18:33.142Z"
    }
   },
   "outputs": [],
   "source": [
    "female.Victim   = nrow(subset(tTrain.order, Sex == \"female\" & Survived == 0))\n",
    "female.Survivor = nrow(subset(tTrain.order, Sex == \"female\" & Survived == 1))\n",
    "\n",
    "male.Victim   = nrow(subset(tTrain.order, Sex == \"male\" & Survived == 0))\n",
    "male.Survivor = nrow(subset(tTrain.order, Sex == \"male\" & Survived == 1))"
   ]
  },
  {
   "cell_type": "code",
   "execution_count": 37,
   "metadata": {
    "ExecuteTime": {
     "end_time": "2019-12-18T04:18:34.339869Z",
     "start_time": "2019-12-18T04:18:33.640Z"
    }
   },
   "outputs": [
    {
     "data": {
      "text/html": [
       "'81 233'"
      ],
      "text/latex": [
       "'81 233'"
      ],
      "text/markdown": [
       "'81 233'"
      ],
      "text/plain": [
       "[1] \"81 233\""
      ]
     },
     "metadata": {},
     "output_type": "display_data"
    },
    {
     "data": {
      "text/html": [
       "'468 109'"
      ],
      "text/latex": [
       "'468 109'"
      ],
      "text/markdown": [
       "'468 109'"
      ],
      "text/plain": [
       "[1] \"468 109\""
      ]
     },
     "metadata": {},
     "output_type": "display_data"
    }
   ],
   "source": [
    "paste(female.Victim, female.Survivor)\n",
    "paste(male.Victim, male.Survivor)"
   ]
  },
  {
   "cell_type": "code",
   "execution_count": 38,
   "metadata": {
    "ExecuteTime": {
     "end_time": "2019-12-18T04:18:34.619568Z",
     "start_time": "2019-12-18T04:18:33.966Z"
    }
   },
   "outputs": [
    {
     "name": "stdout",
     "output_type": "stream",
     "text": [
      "[1] \"female\"\n",
      "death rate of female: 25.8 % \n",
      "survival rate of female: 74.2 % \n",
      " \n",
      "[1] \"male\"\n",
      "death rate of male: 81.11 % \n",
      "survival rate of male: 18.89 % \n"
     ]
    }
   ],
   "source": [
    "print(\"female\")\n",
    "cat(paste(\"death rate of female:\",    round(female.Victim  /femaleCount * 100, 2), \"%\", \"\\n\"))\n",
    "cat(paste(\"survival rate of female:\", round(female.Survivor/femaleCount * 100, 2), \"%\", \"\\n\", \"\\n\"))\n",
    "\n",
    "print(\"male\")\n",
    "cat(paste(\"death rate of male:\",    round(male.Victim  /maleCount * 100, 2), \"%\", \"\\n\"))\n",
    "cat(paste(\"survival rate of male:\", round(male.Survivor/maleCount * 100, 2), \"%\", \"\\n\"))"
   ]
  },
  {
   "cell_type": "code",
   "execution_count": 39,
   "metadata": {
    "ExecuteTime": {
     "end_time": "2019-12-18T04:18:34.893968Z",
     "start_time": "2019-12-18T04:18:34.241Z"
    }
   },
   "outputs": [
    {
     "data": {
      "text/html": [
       "<ol class=list-inline>\n",
       "\t<li>25.8</li>\n",
       "\t<li>74.2</li>\n",
       "</ol>\n"
      ],
      "text/latex": [
       "\\begin{enumerate*}\n",
       "\\item 25.8\n",
       "\\item 74.2\n",
       "\\end{enumerate*}\n"
      ],
      "text/markdown": [
       "1. 25.8\n",
       "2. 74.2\n",
       "\n",
       "\n"
      ],
      "text/plain": [
       "[1] 25.8 74.2"
      ]
     },
     "metadata": {},
     "output_type": "display_data"
    },
    {
     "data": {
      "text/html": [
       "<ol class=list-inline>\n",
       "\t<li>81.11</li>\n",
       "\t<li>18.89</li>\n",
       "</ol>\n"
      ],
      "text/latex": [
       "\\begin{enumerate*}\n",
       "\\item 81.11\n",
       "\\item 18.89\n",
       "\\end{enumerate*}\n"
      ],
      "text/markdown": [
       "1. 81.11\n",
       "2. 18.89\n",
       "\n",
       "\n"
      ],
      "text/plain": [
       "[1] 81.11 18.89"
      ]
     },
     "metadata": {},
     "output_type": "display_data"
    }
   ],
   "source": [
    "femaleVec <- c(female.Victim, female.Survivor)\n",
    "maleVec   <- c(male.Victim, male.Survivor)\n",
    "\n",
    "fRatio <- round(femaleVec  /femaleCount * 100, 2)\n",
    "mRatio <- round(maleVec  /maleCount * 100, 2)\n",
    "\n",
    "fRatio ; mRatio"
   ]
  },
  {
   "cell_type": "code",
   "execution_count": 40,
   "metadata": {
    "ExecuteTime": {
     "end_time": "2019-12-18T04:18:35.260931Z",
     "start_time": "2019-12-18T04:18:34.563Z"
    }
   },
   "outputs": [
    {
     "data": {
      "image/png": "[encoded data removed]",
      "text/plain": [
       "Plot with title “The Proportion of Female Victims and Survivors”"
      ]
     },
     "metadata": {
      "image/png": {
       "height": 420,
       "width": 420
      },
      "text/plain": {
       "height": 420,
       "width": 420
      }
     },
     "output_type": "display_data"
    }
   ],
   "source": [
    "labelFemale = paste(labelVec, \"\\n\", fRatio, \"%\")\n",
    "\n",
    "pie3D(fRatio,\n",
    "      main = \"The Proportion of Female Victims and Survivors\",\n",
    "      labels = labelFemale,\n",
    "#      explode = 0.05,\n",
    "      col = c(\"red\", \"blue\"),\n",
    "     )\n",
    "\n",
    "legend(0.5, 1,\n",
    "       labelVS,\n",
    "       cex = 0.8,\n",
    "       fill = c(\"red\", \"blue\")\n",
    "      )"
   ]
  },
  {
   "cell_type": "code",
   "execution_count": 41,
   "metadata": {
    "ExecuteTime": {
     "end_time": "2019-12-18T04:18:35.588724Z",
     "start_time": "2019-12-18T04:18:35.200Z"
    },
    "scrolled": false
   },
   "outputs": [
    {
     "data": {
      "image/png": "[encoded data removed]",
      "text/plain": [
       "Plot with title “The Proportion of Male Victims and Survivors”"
      ]
     },
     "metadata": {
      "image/png": {
       "height": 420,
       "width": 420
      },
      "text/plain": {
       "height": 420,
       "width": 420
      }
     },
     "output_type": "display_data"
    }
   ],
   "source": [
    "labelMale = paste(labelVec, \"\\n\", mRatio, \"%\")\n",
    "\n",
    "pie3D(mRatio,\n",
    "      main = \"The Proportion of Male Victims and Survivors\",\n",
    "      labels = labelMale,\n",
    "#      explode = 0.05,\n",
    "      col = c(\"red\", \"blue\")\n",
    "     )\n",
    "\n",
    "legend(0.5, 1,\n",
    "       labelVS,\n",
    "       cex = 0.8,\n",
    "       fill = c(\"red\", \"blue\")\n",
    "      )"
   ]
  },
  {
   "cell_type": "markdown",
   "metadata": {
    "ExecuteTime": {
     "end_time": "2019-12-17T08:31:00.679483Z",
     "start_time": "2019-12-17T08:31:00.652Z"
    }
   },
   "source": [
    "*#* The survival rate of female (74.20%) is much higher than that of male (18.89%).  \n",
    "=> Use in trainData"
   ]
  },
  {
   "cell_type": "markdown",
   "metadata": {},
   "source": [
    "##### Survived by Age?"
   ]
  },
  {
   "cell_type": "code",
   "execution_count": 42,
   "metadata": {
    "ExecuteTime": {
     "end_time": "2019-12-18T04:18:36.300975Z",
     "start_time": "2019-12-18T04:18:36.279Z"
    }
   },
   "outputs": [
    {
     "name": "stdout",
     "output_type": "stream",
     "text": [
      " num [1:891] 22 35 NA 54 2 20 39 14 2 31 ...\n"
     ]
    }
   ],
   "source": [
    "str(tTrain.order$Age)"
   ]
  },
  {
   "cell_type": "code",
   "execution_count": 43,
   "metadata": {
    "ExecuteTime": {
     "end_time": "2019-12-18T04:18:36.769537Z",
     "start_time": "2019-12-18T04:18:36.555Z"
    }
   },
   "outputs": [
    {
     "data": {
      "text/plain": [
       "\n",
       "FALSE  TRUE \n",
       "  714   177 "
      ]
     },
     "metadata": {},
     "output_type": "display_data"
    }
   ],
   "source": [
    "table(is.na(tTrain.order$Age))"
   ]
  },
  {
   "cell_type": "code",
   "execution_count": 44,
   "metadata": {
    "ExecuteTime": {
     "end_time": "2019-12-18T04:18:37.070939Z",
     "start_time": "2019-12-18T04:18:36.914Z"
    }
   },
   "outputs": [
    {
     "data": {
      "text/html": [
       "<strong>TRUE:</strong> 19.87"
      ],
      "text/latex": [
       "\\textbf{TRUE:} 19.87"
      ],
      "text/markdown": [
       "**TRUE:** 19.87"
      ],
      "text/plain": [
       " TRUE \n",
       "19.87 "
      ]
     },
     "metadata": {},
     "output_type": "display_data"
    }
   ],
   "source": [
    "round(table(is.na(tTrain.order$Age))[2]/\n",
    "      (table(is.na(tTrain.order$Age))[1] + table(is.na(tTrain.order$Age))[2]) * 100, 2)"
   ]
  },
  {
   "cell_type": "markdown",
   "metadata": {
    "ExecuteTime": {
     "end_time": "2019-12-17T10:08:34.564000Z",
     "start_time": "2019-12-17T10:08:34.532Z"
    }
   },
   "source": [
    "*#* approx. 20% of Age data is missing. So, it is not proper to use in trainData.\n",
    "\n",
    "=> No use in trainData\n",
    "\n",
    "\n",
    "\n",
    "\n",
    "\n",
    "\n",
    "\n",
    "\n",
    "\n",
    "\n"
   ]
  },
  {
   "cell_type": "markdown",
   "metadata": {},
   "source": [
    "###### Where are the age data missing the most?"
   ]
  },
  {
   "cell_type": "markdown",
   "metadata": {},
   "source": [
    "Let's also have a look at Pclass, Sex, and Embarked with regards to missing values.  \n",
    "(It does not make sense to see tables in uncategorized columns like SibSp, Parch, Ticket, Fare, and Cabin, because it does not show us any pattern.)"
   ]
  },
  {
   "cell_type": "markdown",
   "metadata": {
    "ExecuteTime": {
     "end_time": "2019-12-17T10:11:55.298316Z",
     "start_time": "2019-12-17T10:11:55.276Z"
    }
   },
   "source": [
    "by Pclass"
   ]
  },
  {
   "cell_type": "code",
   "execution_count": 45,
   "metadata": {
    "ExecuteTime": {
     "end_time": "2019-12-18T04:18:38.481243Z",
     "start_time": "2019-12-18T04:18:38.458Z"
    }
   },
   "outputs": [
    {
     "ename": "ERROR",
     "evalue": "Error in table(tTrainORD$Pclass, is.na(tTrain.order$Age)): object 'tTrainORD' not found\n",
     "output_type": "error",
     "traceback": [
      "Error in table(tTrainORD$Pclass, is.na(tTrain.order$Age)): object 'tTrainORD' not found\nTraceback:\n",
      "1. table(tTrainORD$Pclass, is.na(tTrain.order$Age))"
     ]
    }
   ],
   "source": [
    "table(tTrainORD$Pclass, is.na(tTrain.order$Age)) # to check whether this column contains NA"
   ]
  },
  {
   "cell_type": "code",
   "execution_count": 46,
   "metadata": {
    "ExecuteTime": {
     "end_time": "2019-12-18T04:18:38.634869Z",
     "start_time": "2019-12-18T04:18:38.597Z"
    }
   },
   "outputs": [
    {
     "data": {
      "text/html": [
       "13.89"
      ],
      "text/latex": [
       "13.89"
      ],
      "text/markdown": [
       "13.89"
      ],
      "text/plain": [
       "[1] 13.89"
      ]
     },
     "metadata": {},
     "output_type": "display_data"
    },
    {
     "data": {
      "text/html": [
       "5.98"
      ],
      "text/latex": [
       "5.98"
      ],
      "text/markdown": [
       "5.98"
      ],
      "text/plain": [
       "[1] 5.98"
      ]
     },
     "metadata": {},
     "output_type": "display_data"
    },
    {
     "data": {
      "text/html": [
       "27.7"
      ],
      "text/latex": [
       "27.7"
      ],
      "text/markdown": [
       "27.7"
      ],
      "text/plain": [
       "[1] 27.7"
      ]
     },
     "metadata": {},
     "output_type": "display_data"
    }
   ],
   "source": [
    "round(table(tTrain.order$Pclass, is.na(tTrain.order$Age))[1,2]/\n",
    "      (table(tTrain.order$Pclass, is.na(tTrain.order$Age))[1,1]+table(tTrain.order$Pclass, is.na(tTrain.order$Age))[1,2])*100,2)\n",
    "round(table(tTrain.order$Pclass, is.na(tTrain.order$Age))[2,2]/\n",
    "      (table(tTrain.order$Pclass, is.na(tTrain.order$Age))[2,1]+table(tTrain.order$Pclass, is.na(tTrain.order$Age))[2,2])*100,2)\n",
    "round(table(tTrain.order$Pclass, is.na(tTrain.order$Age))[3,2]/\n",
    "      (table(tTrain.order$Pclass, is.na(tTrain.order$Age))[3,1]+table(tTrain.order$Pclass, is.na(tTrain.order$Age))[3,2])*100,2)"
   ]
  },
  {
   "cell_type": "markdown",
   "metadata": {},
   "source": [
    "by Sex"
   ]
  },
  {
   "cell_type": "code",
   "execution_count": 47,
   "metadata": {
    "ExecuteTime": {
     "end_time": "2019-12-18T04:18:39.731199Z",
     "start_time": "2019-12-18T04:18:39.428Z"
    },
    "scrolled": false
   },
   "outputs": [
    {
     "data": {
      "text/plain": [
       "        \n",
       "         FALSE TRUE\n",
       "  female   261   53\n",
       "  male     453  124"
      ]
     },
     "metadata": {},
     "output_type": "display_data"
    }
   ],
   "source": [
    "table(tTrain.order$Sex, is.na(tTrain.order$Age)) # to check whether this column contains NA"
   ]
  },
  {
   "cell_type": "code",
   "execution_count": 48,
   "metadata": {
    "ExecuteTime": {
     "end_time": "2019-12-18T04:18:40.013955Z",
     "start_time": "2019-12-18T04:18:39.785Z"
    }
   },
   "outputs": [
    {
     "data": {
      "text/html": [
       "16.88"
      ],
      "text/latex": [
       "16.88"
      ],
      "text/markdown": [
       "16.88"
      ],
      "text/plain": [
       "[1] 16.88"
      ]
     },
     "metadata": {},
     "output_type": "display_data"
    },
    {
     "data": {
      "text/html": [
       "21.49"
      ],
      "text/latex": [
       "21.49"
      ],
      "text/markdown": [
       "21.49"
      ],
      "text/plain": [
       "[1] 21.49"
      ]
     },
     "metadata": {},
     "output_type": "display_data"
    }
   ],
   "source": [
    "round(table(tTrain.order$Sex, is.na(tTrain.order$Age))[1,2]/\n",
    "      (table(tTrain.order$Sex, is.na(tTrain.order$Age))[1,1]+table(tTrain.order$Sex, is.na(tTrain.order$Age))[1,2])*100,2)\n",
    "round(table(tTrain.order$Sex, is.na(tTrain.order$Age))[2,2]/\n",
    "      (table(tTrain.order$Sex, is.na(tTrain.order$Age))[2,1]+table(tTrain.order$Sex, is.na(tTrain.order$Age))[2,2])*100,2)"
   ]
  },
  {
   "cell_type": "markdown",
   "metadata": {},
   "source": [
    "by Embarked"
   ]
  },
  {
   "cell_type": "code",
   "execution_count": 49,
   "metadata": {
    "ExecuteTime": {
     "end_time": "2019-12-18T04:18:40.701850Z",
     "start_time": "2019-12-18T04:18:40.675Z"
    }
   },
   "outputs": [
    {
     "data": {
      "text/plain": [
       "   \n",
       "    FALSE TRUE\n",
       "        2    0\n",
       "  C   130   38\n",
       "  Q    28   49\n",
       "  S   554   90"
      ]
     },
     "metadata": {},
     "output_type": "display_data"
    }
   ],
   "source": [
    "table(tTrain.order$Embarked, is.na(tTrain.order$Age))"
   ]
  },
  {
   "cell_type": "code",
   "execution_count": 50,
   "metadata": {
    "ExecuteTime": {
     "end_time": "2019-12-18T04:18:41.198047Z",
     "start_time": "2019-12-18T04:18:41.152Z"
    }
   },
   "outputs": [
    {
     "data": {
      "text/html": [
       "22.62"
      ],
      "text/latex": [
       "22.62"
      ],
      "text/markdown": [
       "22.62"
      ],
      "text/plain": [
       "[1] 22.62"
      ]
     },
     "metadata": {},
     "output_type": "display_data"
    },
    {
     "data": {
      "text/html": [
       "63.64"
      ],
      "text/latex": [
       "63.64"
      ],
      "text/markdown": [
       "63.64"
      ],
      "text/plain": [
       "[1] 63.64"
      ]
     },
     "metadata": {},
     "output_type": "display_data"
    },
    {
     "data": {
      "text/html": [
       "13.98"
      ],
      "text/latex": [
       "13.98"
      ],
      "text/markdown": [
       "13.98"
      ],
      "text/plain": [
       "[1] 13.98"
      ]
     },
     "metadata": {},
     "output_type": "display_data"
    }
   ],
   "source": [
    "round(table(tTrain.order$Embarked, is.na(tTrain.order$Age))[2,2]/\n",
    "      (table(tTrain.order$Embarked, is.na(tTrain.order$Age))[2,1]+table(tTrain.order$Embarked, is.na(tTrain.order$Age))[2,2])*100,2)\n",
    "round(table(tTrain.order$Embarked, is.na(tTrain.order$Age))[3,2]/\n",
    "      (table(tTrain.order$Embarked, is.na(tTrain.order$Age))[3,1]+table(tTrain.order$Embarked, is.na(tTrain.order$Age))[3,2])*100,2)\n",
    "round(table(tTrain.order$Embarked, is.na(tTrain.order$Age))[4,2]/\n",
    "      (table(tTrain.order$Embarked, is.na(tTrain.order$Age))[4,1]+table(tTrain.order$Embarked, is.na(tTrain.order$Age))[4,2])*100,2)"
   ]
  },
  {
   "cell_type": "markdown",
   "metadata": {},
   "source": [
    "*#* About 64% (without two missing values in Embarked) Age data in Embarked Q is missing."
   ]
  },
  {
   "cell_type": "code",
   "execution_count": 51,
   "metadata": {
    "ExecuteTime": {
     "end_time": "2019-12-18T04:18:41.845955Z",
     "start_time": "2019-12-18T04:18:41.814Z"
    },
    "scrolled": true
   },
   "outputs": [
    {
     "name": "stdout",
     "output_type": "stream",
     "text": [
      "'data.frame':\t891 obs. of  12 variables:\n",
      " $ PassengerId: int  1 5 6 7 8 13 14 15 17 19 ...\n",
      " $ Survived   : int  0 0 0 0 0 0 0 0 0 0 ...\n",
      " $ Pclass     : int  3 3 3 1 3 3 3 3 3 3 ...\n",
      " $ Name       : Factor w/ 891 levels \"Abbing, Mr. Anthony\",..: 109 16 559 520 629 734 29 847 687 846 ...\n",
      " $ Sex        : Factor w/ 2 levels \"female\",\"male\": 2 2 2 2 2 2 2 1 2 1 ...\n",
      " $ Age        : num  22 35 NA 54 2 20 39 14 2 31 ...\n",
      " $ SibSp      : int  1 0 0 0 3 0 1 0 4 1 ...\n",
      " $ Parch      : int  0 0 0 0 1 0 5 0 1 0 ...\n",
      " $ Ticket     : Factor w/ 681 levels \"110152\",\"110413\",..: 524 473 276 86 396 536 334 414 481 302 ...\n",
      " $ Fare       : num  7.25 8.05 8.46 51.86 21.07 ...\n",
      " $ Cabin      : Factor w/ 148 levels \"\",\"A10\",\"A14\",..: 1 1 1 131 1 1 1 1 1 1 ...\n",
      " $ Embarked   : Factor w/ 4 levels \"\",\"C\",\"Q\",\"S\": 4 4 3 4 4 4 4 4 3 4 ...\n"
     ]
    }
   ],
   "source": [
    "str(tTrain.order)"
   ]
  },
  {
   "cell_type": "markdown",
   "metadata": {
    "ExecuteTime": {
     "end_time": "2019-12-17T13:28:44.633785Z",
     "start_time": "2019-12-17T13:28:44.603Z"
    }
   },
   "source": [
    "##### Survived by SipSp"
   ]
  },
  {
   "cell_type": "code",
   "execution_count": 52,
   "metadata": {
    "ExecuteTime": {
     "end_time": "2019-12-18T04:18:42.765231Z",
     "start_time": "2019-12-18T04:18:42.734Z"
    }
   },
   "outputs": [
    {
     "name": "stdout",
     "output_type": "stream",
     "text": [
      " int [1:891] 1 0 0 0 3 0 1 0 4 1 ...\n"
     ]
    }
   ],
   "source": [
    "str(tTrain.order$SibSp)"
   ]
  },
  {
   "cell_type": "markdown",
   "metadata": {},
   "source": [
    "=> No use in trainData"
   ]
  },
  {
   "cell_type": "markdown",
   "metadata": {},
   "source": [
    "###### Survived by Parch"
   ]
  },
  {
   "cell_type": "code",
   "execution_count": 53,
   "metadata": {
    "ExecuteTime": {
     "end_time": "2019-12-18T04:18:43.745066Z",
     "start_time": "2019-12-18T04:18:43.711Z"
    }
   },
   "outputs": [
    {
     "name": "stdout",
     "output_type": "stream",
     "text": [
      " int [1:891] 0 0 0 0 1 0 5 0 1 0 ...\n"
     ]
    }
   ],
   "source": [
    "str(tTrain.order$Parch)"
   ]
  },
  {
   "cell_type": "markdown",
   "metadata": {},
   "source": [
    "=> No use in trainData"
   ]
  },
  {
   "cell_type": "markdown",
   "metadata": {
    "ExecuteTime": {
     "end_time": "2019-12-17T14:02:15.900983Z",
     "start_time": "2019-12-17T14:02:15.860Z"
    }
   },
   "source": [
    "###### Survived by Ticket"
   ]
  },
  {
   "cell_type": "code",
   "execution_count": 54,
   "metadata": {
    "ExecuteTime": {
     "end_time": "2019-12-18T04:18:44.644034Z",
     "start_time": "2019-12-18T04:18:44.614Z"
    }
   },
   "outputs": [
    {
     "name": "stdout",
     "output_type": "stream",
     "text": [
      " Factor w/ 681 levels \"110152\",\"110413\",..: 524 473 276 86 396 536 334 414 481 302 ...\n"
     ]
    }
   ],
   "source": [
    "str(tTrain.order$Ticket)"
   ]
  },
  {
   "cell_type": "markdown",
   "metadata": {
    "ExecuteTime": {
     "end_time": "2019-12-17T14:02:35.475345Z",
     "start_time": "2019-12-17T14:02:35.450Z"
    }
   },
   "source": [
    "=> No use in trainData"
   ]
  },
  {
   "cell_type": "markdown",
   "metadata": {
    "ExecuteTime": {
     "end_time": "2019-12-17T14:37:54.466665Z",
     "start_time": "2019-12-17T14:37:54.449Z"
    }
   },
   "source": [
    "###### Survived by Fare"
   ]
  },
  {
   "cell_type": "code",
   "execution_count": 55,
   "metadata": {
    "ExecuteTime": {
     "end_time": "2019-12-18T04:18:45.971293Z",
     "start_time": "2019-12-18T04:18:45.937Z"
    },
    "scrolled": false
   },
   "outputs": [
    {
     "name": "stdout",
     "output_type": "stream",
     "text": [
      " num [1:891] 7.25 8.05 8.46 51.86 21.07 ...\n"
     ]
    },
    {
     "data": {
      "text/plain": [
       "   Min. 1st Qu.  Median    Mean 3rd Qu.    Max. \n",
       "   0.00    7.91   14.45   32.20   31.00  512.33 "
      ]
     },
     "metadata": {},
     "output_type": "display_data"
    }
   ],
   "source": [
    "str(tTrain.order$Fare)\n",
    "summary(tTrain.order$Fare)"
   ]
  },
  {
   "cell_type": "code",
   "execution_count": 56,
   "metadata": {
    "ExecuteTime": {
     "end_time": "2019-12-18T04:18:46.146247Z",
     "start_time": "2019-12-18T04:18:46.104Z"
    },
    "scrolled": true
   },
   "outputs": [],
   "source": [
    "# table((cut(tTrain.order$Fare, breaks = seq(0, 520), right = F)), tTrain.order$Pclass)"
   ]
  },
  {
   "cell_type": "code",
   "execution_count": 57,
   "metadata": {
    "ExecuteTime": {
     "end_time": "2019-12-18T04:18:47.002368Z",
     "start_time": "2019-12-18T04:18:46.691Z"
    },
    "scrolled": true
   },
   "outputs": [
    {
     "data": {
      "text/plain": [
       "\n",
       "\tPearson's product-moment correlation\n",
       "\n",
       "data:  tTrain.order$Fare and tTrain.order$Pclass\n",
       "t = -19.61, df = 889, p-value < 2.2e-16\n",
       "alternative hypothesis: true correlation is not equal to 0\n",
       "95 percent confidence interval:\n",
       " -0.5937488 -0.5019370\n",
       "sample estimates:\n",
       "       cor \n",
       "-0.5494996 \n"
      ]
     },
     "metadata": {},
     "output_type": "display_data"
    }
   ],
   "source": [
    "cor.test(tTrain.order$Fare, tTrain.order$Pclass)"
   ]
  },
  {
   "cell_type": "markdown",
   "metadata": {},
   "source": [
    "*#* moderate negative relationship with Pclass as cor is -0.55."
   ]
  },
  {
   "cell_type": "code",
   "execution_count": 58,
   "metadata": {},
   "outputs": [
    {
     "data": {
      "text/plain": [
       "\n",
       "\tPearson's product-moment correlation\n",
       "\n",
       "data:  tTrain.order$Fare and tTrain.order$Survived\n",
       "t = 7.9392, df = 889, p-value = 6.12e-15\n",
       "alternative hypothesis: true correlation is not equal to 0\n",
       "95 percent confidence interval:\n",
       " 0.1949232 0.3176165\n",
       "sample estimates:\n",
       "      cor \n",
       "0.2573065 \n"
      ]
     },
     "metadata": {},
     "output_type": "display_data"
    }
   ],
   "source": [
    "cor.test(tTrain.order$Fare, tTrain.order$Survived) # "
   ]
  },
  {
   "cell_type": "markdown",
   "metadata": {},
   "source": [
    "*#* However, fare is not correlated to Survived. Fare probably subject to the number of luggages, embarked place, age, etc.\n",
    "\n",
    "=> Let's run models with/without fare to see which one is better!"
   ]
  },
  {
   "cell_type": "markdown",
   "metadata": {
    "ExecuteTime": {
     "end_time": "2019-12-17T14:30:04.790868Z",
     "start_time": "2019-12-17T14:30:04.765Z"
    }
   },
   "source": [
    "###### Survived by Cabin"
   ]
  },
  {
   "cell_type": "code",
   "execution_count": 59,
   "metadata": {
    "ExecuteTime": {
     "end_time": "2019-12-18T04:18:47.621804Z",
     "start_time": "2019-12-18T04:18:47.587Z"
    }
   },
   "outputs": [
    {
     "name": "stdout",
     "output_type": "stream",
     "text": [
      " Factor w/ 148 levels \"\",\"A10\",\"A14\",..: 1 1 1 131 1 1 1 1 1 1 ...\n"
     ]
    }
   ],
   "source": [
    "str(tTrain.order$Cabin)"
   ]
  },
  {
   "cell_type": "code",
   "execution_count": 60,
   "metadata": {
    "ExecuteTime": {
     "end_time": "2019-12-18T04:18:47.928555Z",
     "start_time": "2019-12-18T04:18:47.896Z"
    },
    "scrolled": false
   },
   "outputs": [
    {
     "data": {
      "text/html": [
       "<strong>:</strong> 687"
      ],
      "text/latex": [
       "\\textbf{:} 687"
      ],
      "text/markdown": [
       "**:** 687"
      ],
      "text/plain": [
       "    \n",
       "687 "
      ]
     },
     "metadata": {},
     "output_type": "display_data"
    }
   ],
   "source": [
    "# table(tTrainORD$Cabin)\n",
    "table(tTrain.order$Cabin)[1]"
   ]
  },
  {
   "cell_type": "code",
   "execution_count": 61,
   "metadata": {
    "ExecuteTime": {
     "end_time": "2019-12-18T04:18:48.278168Z",
     "start_time": "2019-12-18T04:18:48.240Z"
    }
   },
   "outputs": [
    {
     "data": {
      "text/html": [
       "<strong>:</strong> 0.771043771043771"
      ],
      "text/latex": [
       "\\textbf{:} 0.771043771043771"
      ],
      "text/markdown": [
       "**:** 0.771043771043771"
      ],
      "text/plain": [
       "          \n",
       "0.7710438 "
      ]
     },
     "metadata": {},
     "output_type": "display_data"
    }
   ],
   "source": [
    "table(tTrain.order$Cabin)[1]/totalCount"
   ]
  },
  {
   "cell_type": "markdown",
   "metadata": {},
   "source": [
    "*#* There are too many missing data in Cabin column (77.1%).\n",
    "\n",
    "=> No use in trainData"
   ]
  },
  {
   "cell_type": "markdown",
   "metadata": {},
   "source": [
    "###### Survived by Embarked?"
   ]
  },
  {
   "cell_type": "code",
   "execution_count": 62,
   "metadata": {
    "ExecuteTime": {
     "end_time": "2019-12-18T04:18:49.537967Z",
     "start_time": "2019-12-18T04:18:49.329Z"
    }
   },
   "outputs": [
    {
     "name": "stdout",
     "output_type": "stream",
     "text": [
      " Factor w/ 4 levels \"\",\"C\",\"Q\",\"S\": 4 4 3 4 4 4 4 4 3 4 ...\n"
     ]
    },
    {
     "data": {
      "text/html": [
       "<ol class=list-inline>\n",
       "\t<li>S</li>\n",
       "\t<li>Q</li>\n",
       "\t<li>C</li>\n",
       "\t<li></li>\n",
       "</ol>\n",
       "\n",
       "<details>\n",
       "\t<summary style=display:list-item;cursor:pointer>\n",
       "\t\t<strong>Levels</strong>:\n",
       "\t</summary>\n",
       "\t<ol class=list-inline>\n",
       "\t\t<li>''</li>\n",
       "\t\t<li>'C'</li>\n",
       "\t\t<li>'Q'</li>\n",
       "\t\t<li>'S'</li>\n",
       "\t</ol>\n",
       "</details>"
      ],
      "text/latex": [
       "\\begin{enumerate*}\n",
       "\\item S\n",
       "\\item Q\n",
       "\\item C\n",
       "\\item \n",
       "\\end{enumerate*}\n",
       "\n",
       "\\emph{Levels}: \\begin{enumerate*}\n",
       "\\item ''\n",
       "\\item 'C'\n",
       "\\item 'Q'\n",
       "\\item 'S'\n",
       "\\end{enumerate*}\n"
      ],
      "text/markdown": [
       "1. S\n",
       "2. Q\n",
       "3. C\n",
       "4. \n",
       "\n",
       "\n",
       "\n",
       "**Levels**: 1. ''\n",
       "2. 'C'\n",
       "3. 'Q'\n",
       "4. 'S'\n",
       "\n",
       "\n"
      ],
      "text/plain": [
       "[1] S Q C  \n",
       "Levels:  C Q S"
      ]
     },
     "metadata": {},
     "output_type": "display_data"
    }
   ],
   "source": [
    "str(tTrain.order$Embarked) \n",
    "unique(tTrain.order$Embarked) "
   ]
  },
  {
   "cell_type": "code",
   "execution_count": 63,
   "metadata": {
    "ExecuteTime": {
     "end_time": "2019-12-18T04:18:49.824950Z",
     "start_time": "2019-12-18T04:18:49.679Z"
    }
   },
   "outputs": [
    {
     "data": {
      "text/plain": [
       "\n",
       "      C   Q   S \n",
       "  2 168  77 644 "
      ]
     },
     "metadata": {},
     "output_type": "display_data"
    }
   ],
   "source": [
    "table(tTrain.order$Embarked)"
   ]
  },
  {
   "cell_type": "code",
   "execution_count": 64,
   "metadata": {
    "ExecuteTime": {
     "end_time": "2019-12-18T04:18:50.117556Z",
     "start_time": "2019-12-18T04:18:50.007Z"
    }
   },
   "outputs": [
    {
     "data": {
      "text/plain": [
       "   \n",
       "          C   Q   S\n",
       "  0   0  75  47 427\n",
       "  1   2  93  30 217"
      ]
     },
     "metadata": {},
     "output_type": "display_data"
    }
   ],
   "source": [
    "table(tTrain.order$Survived, tTrain.order$Embarked)"
   ]
  },
  {
   "cell_type": "code",
   "execution_count": 65,
   "metadata": {
    "ExecuteTime": {
     "end_time": "2019-12-18T04:18:50.445706Z",
     "start_time": "2019-12-18T04:18:50.319Z"
    }
   },
   "outputs": [
    {
     "data": {
      "text/plain": [
       "        \n",
       "               C   Q   S\n",
       "  female   2  73  36 203\n",
       "  male     0  95  41 441"
      ]
     },
     "metadata": {},
     "output_type": "display_data"
    }
   ],
   "source": [
    "table(tTrain.order$Sex, tTrain.order$Embarked)"
   ]
  },
  {
   "cell_type": "code",
   "execution_count": 66,
   "metadata": {
    "ExecuteTime": {
     "end_time": "2019-12-18T04:18:50.792973Z",
     "start_time": "2019-12-18T04:18:50.647Z"
    }
   },
   "outputs": [
    {
     "data": {
      "text/html": [
       "<table>\n",
       "<caption>A data.frame: 2 × 12</caption>\n",
       "<thead>\n",
       "\t<tr><th></th><th scope=col>PassengerId</th><th scope=col>Survived</th><th scope=col>Pclass</th><th scope=col>Name</th><th scope=col>Sex</th><th scope=col>Age</th><th scope=col>SibSp</th><th scope=col>Parch</th><th scope=col>Ticket</th><th scope=col>Fare</th><th scope=col>Cabin</th><th scope=col>Embarked</th></tr>\n",
       "\t<tr><th></th><th scope=col>&lt;int&gt;</th><th scope=col>&lt;int&gt;</th><th scope=col>&lt;int&gt;</th><th scope=col>&lt;fct&gt;</th><th scope=col>&lt;fct&gt;</th><th scope=col>&lt;dbl&gt;</th><th scope=col>&lt;int&gt;</th><th scope=col>&lt;int&gt;</th><th scope=col>&lt;fct&gt;</th><th scope=col>&lt;dbl&gt;</th><th scope=col>&lt;fct&gt;</th><th scope=col>&lt;fct&gt;</th></tr>\n",
       "</thead>\n",
       "<tbody>\n",
       "\t<tr><th scope=row>577</th><td> 62</td><td>1</td><td>1</td><td>Icard, Miss. Amelie                      </td><td>female</td><td>38</td><td>0</td><td>0</td><td>113572</td><td>80</td><td>B28</td><td></td></tr>\n",
       "\t<tr><th scope=row>868</th><td>830</td><td>1</td><td>1</td><td>Stone, Mrs. George Nelson (Martha Evelyn)</td><td>female</td><td>62</td><td>0</td><td>0</td><td>113572</td><td>80</td><td>B28</td><td></td></tr>\n",
       "</tbody>\n",
       "</table>\n"
      ],
      "text/latex": [
       "A data.frame: 2 × 12\n",
       "\\begin{tabular}{r|llllllllllll}\n",
       "  & PassengerId & Survived & Pclass & Name & Sex & Age & SibSp & Parch & Ticket & Fare & Cabin & Embarked\\\\\n",
       "  & <int> & <int> & <int> & <fct> & <fct> & <dbl> & <int> & <int> & <fct> & <dbl> & <fct> & <fct>\\\\\n",
       "\\hline\n",
       "\t577 &  62 & 1 & 1 & Icard, Miss. Amelie                       & female & 38 & 0 & 0 & 113572 & 80 & B28 & \\\\\n",
       "\t868 & 830 & 1 & 1 & Stone, Mrs. George Nelson (Martha Evelyn) & female & 62 & 0 & 0 & 113572 & 80 & B28 & \\\\\n",
       "\\end{tabular}\n"
      ],
      "text/markdown": [
       "\n",
       "A data.frame: 2 × 12\n",
       "\n",
       "| <!--/--> | PassengerId &lt;int&gt; | Survived &lt;int&gt; | Pclass &lt;int&gt; | Name &lt;fct&gt; | Sex &lt;fct&gt; | Age &lt;dbl&gt; | SibSp &lt;int&gt; | Parch &lt;int&gt; | Ticket &lt;fct&gt; | Fare &lt;dbl&gt; | Cabin &lt;fct&gt; | Embarked &lt;fct&gt; |\n",
       "|---|---|---|---|---|---|---|---|---|---|---|---|---|\n",
       "| 577 |  62 | 1 | 1 | Icard, Miss. Amelie                       | female | 38 | 0 | 0 | 113572 | 80 | B28 | <!----> |\n",
       "| 868 | 830 | 1 | 1 | Stone, Mrs. George Nelson (Martha Evelyn) | female | 62 | 0 | 0 | 113572 | 80 | B28 | <!----> |\n",
       "\n"
      ],
      "text/plain": [
       "    PassengerId Survived Pclass Name                                     \n",
       "577  62         1        1      Icard, Miss. Amelie                      \n",
       "868 830         1        1      Stone, Mrs. George Nelson (Martha Evelyn)\n",
       "    Sex    Age SibSp Parch Ticket Fare Cabin Embarked\n",
       "577 female 38  0     0     113572 80   B28           \n",
       "868 female 62  0     0     113572 80   B28           "
      ]
     },
     "metadata": {},
     "output_type": "display_data"
    }
   ],
   "source": [
    "subset(tTrain.order, Embarked == \"\") #\n",
    "## Alternatively ##\n",
    "# train_df[train_df$Embarked == \"\",] "
   ]
  },
  {
   "cell_type": "markdown",
   "metadata": {},
   "source": [
    "Here we can see missing values in Embarked."
   ]
  },
  {
   "cell_type": "code",
   "execution_count": 67,
   "metadata": {},
   "outputs": [
    {
     "data": {
      "text/plain": [
       "\n",
       "      C   Q   S \n",
       "  2 168  77 644 "
      ]
     },
     "metadata": {},
     "output_type": "display_data"
    },
    {
     "data": {
      "text/plain": [
       "\n",
       "          C     Q     S \n",
       " 0.22 18.86  8.64 72.28 "
      ]
     },
     "metadata": {},
     "output_type": "display_data"
    }
   ],
   "source": [
    "table(tTrain.order$Embarked)\n",
    "\n",
    "## Alternatively, ##\n",
    "# sum(trainData$Embarked == \"\")\n",
    "# sum(trainData$Embarked == \"C\")\n",
    "# sum(trainData$Embarked == \"Q\")\n",
    "# sum(trainData$Embarked == \"S\")\n",
    "\n",
    "round(table(tTrain.order$Embarked)/sum(table(tTrain.order$Embarked))*100,2)"
   ]
  },
  {
   "cell_type": "markdown",
   "metadata": {},
   "source": [
    "Since the majority of 'Embarked' is S, we may want to simply plug S in the missing values.\n",
    "(We can also guess the values from other components with Machine Learning tools. - Pls refer to the Kaggle_Titanic.ipynb)"
   ]
  },
  {
   "cell_type": "code",
   "execution_count": 68,
   "metadata": {
    "code_folding": []
   },
   "outputs": [
    {
     "name": "stdout",
     "output_type": "stream",
     "text": [
      "'data.frame':\t891 obs. of  12 variables:\n",
      " $ PassengerId: int  1 5 6 7 8 13 14 15 17 19 ...\n",
      " $ Survived   : int  0 0 0 0 0 0 0 0 0 0 ...\n",
      " $ Pclass     : int  3 3 3 1 3 3 3 3 3 3 ...\n",
      " $ Name       : Factor w/ 891 levels \"Abbing, Mr. Anthony\",..: 109 16 559 520 629 734 29 847 687 846 ...\n",
      " $ Sex        : Factor w/ 2 levels \"female\",\"male\": 2 2 2 2 2 2 2 1 2 1 ...\n",
      " $ Age        : num  22 35 NA 54 2 20 39 14 2 31 ...\n",
      " $ SibSp      : int  1 0 0 0 3 0 1 0 4 1 ...\n",
      " $ Parch      : int  0 0 0 0 1 0 5 0 1 0 ...\n",
      " $ Ticket     : Factor w/ 681 levels \"110152\",\"110413\",..: 524 473 276 86 396 536 334 414 481 302 ...\n",
      " $ Fare       : num  7.25 8.05 8.46 51.86 21.07 ...\n",
      " $ Cabin      : Factor w/ 148 levels \"\",\"A10\",\"A14\",..: 1 1 1 131 1 1 1 1 1 1 ...\n",
      " $ Embarked   : Factor w/ 4 levels \"\",\"C\",\"Q\",\"S\": 4 4 3 4 4 4 4 4 3 4 ...\n"
     ]
    }
   ],
   "source": [
    "## plug-in\n",
    "\n",
    "tTrain.order$Embarked[tTrain.order$Embarked == \"\"] <- \"S\"\n",
    "str(tTrain.order)"
   ]
  },
  {
   "cell_type": "code",
   "execution_count": 69,
   "metadata": {},
   "outputs": [
    {
     "data": {
      "text/html": [
       "<ol class=list-inline>\n",
       "\t<li>S</li>\n",
       "\t<li>Q</li>\n",
       "\t<li>C</li>\n",
       "</ol>\n",
       "\n",
       "<details>\n",
       "\t<summary style=display:list-item;cursor:pointer>\n",
       "\t\t<strong>Levels</strong>:\n",
       "\t</summary>\n",
       "\t<ol class=list-inline>\n",
       "\t\t<li>'C'</li>\n",
       "\t\t<li>'Q'</li>\n",
       "\t\t<li>'S'</li>\n",
       "\t</ol>\n",
       "</details>"
      ],
      "text/latex": [
       "\\begin{enumerate*}\n",
       "\\item S\n",
       "\\item Q\n",
       "\\item C\n",
       "\\end{enumerate*}\n",
       "\n",
       "\\emph{Levels}: \\begin{enumerate*}\n",
       "\\item 'C'\n",
       "\\item 'Q'\n",
       "\\item 'S'\n",
       "\\end{enumerate*}\n"
      ],
      "text/markdown": [
       "1. S\n",
       "2. Q\n",
       "3. C\n",
       "\n",
       "\n",
       "\n",
       "**Levels**: 1. 'C'\n",
       "2. 'Q'\n",
       "3. 'S'\n",
       "\n",
       "\n"
      ],
      "text/plain": [
       "[1] S Q C\n",
       "Levels: C Q S"
      ]
     },
     "metadata": {},
     "output_type": "display_data"
    },
    {
     "name": "stdout",
     "output_type": "stream",
     "text": [
      "'data.frame':\t891 obs. of  12 variables:\n",
      " $ PassengerId: int  1 5 6 7 8 13 14 15 17 19 ...\n",
      " $ Survived   : int  0 0 0 0 0 0 0 0 0 0 ...\n",
      " $ Pclass     : int  3 3 3 1 3 3 3 3 3 3 ...\n",
      " $ Name       : Factor w/ 891 levels \"Abbing, Mr. Anthony\",..: 109 16 559 520 629 734 29 847 687 846 ...\n",
      " $ Sex        : Factor w/ 2 levels \"female\",\"male\": 2 2 2 2 2 2 2 1 2 1 ...\n",
      " $ Age        : num  22 35 NA 54 2 20 39 14 2 31 ...\n",
      " $ SibSp      : int  1 0 0 0 3 0 1 0 4 1 ...\n",
      " $ Parch      : int  0 0 0 0 1 0 5 0 1 0 ...\n",
      " $ Ticket     : Factor w/ 681 levels \"110152\",\"110413\",..: 524 473 276 86 396 536 334 414 481 302 ...\n",
      " $ Fare       : num  7.25 8.05 8.46 51.86 21.07 ...\n",
      " $ Cabin      : Factor w/ 148 levels \"\",\"A10\",\"A14\",..: 1 1 1 131 1 1 1 1 1 1 ...\n",
      " $ Embarked   : Factor w/ 3 levels \"C\",\"Q\",\"S\": 3 3 2 3 3 3 3 3 2 3 ...\n"
     ]
    }
   ],
   "source": [
    "tTrain.order$Embarked <- factor(tTrain.order$Embarked) \n",
    "unique(tTrain.order$Embarked)\n",
    "str(tTrain.order)"
   ]
  },
  {
   "cell_type": "code",
   "execution_count": 70,
   "metadata": {},
   "outputs": [
    {
     "data": {
      "text/plain": [
       "\n",
       "  C   Q   S \n",
       "168  77 646 "
      ]
     },
     "metadata": {},
     "output_type": "display_data"
    }
   ],
   "source": [
    "table_barEmb <- table(tTrain.order$Embarked) # 0이 이제는 안나옴\n",
    "table_barEmb"
   ]
  },
  {
   "cell_type": "code",
   "execution_count": 71,
   "metadata": {},
   "outputs": [
    {
     "data": {
      "image/png": "[encoded data removed]",
      "text/plain": [
       "Plot with title “The Number of Passengers by Embarked Port”"
      ]
     },
     "metadata": {
      "image/png": {
       "height": 420,
       "width": 420
      },
      "text/plain": {
       "height": 420,
       "width": 420
      }
     },
     "output_type": "display_data"
    }
   ],
   "source": [
    "barplot(table_barEmb,\n",
    "       ylim = c(0,700),\n",
    "       main = \"The Number of Passengers by Embarked Port\",\n",
    "       xlab = \"Name of the Embarked Port\",\n",
    "       ylab = \"The Number of Passengers\",\n",
    "       col = c(\"sky blue\", \"yellow\", \"dark orange\"),\n",
    "       #legend.text = T\n",
    "       )"
   ]
  },
  {
   "cell_type": "code",
   "execution_count": 72,
   "metadata": {},
   "outputs": [
    {
     "data": {
      "text/plain": [
       "        \n",
       "           C   Q   S\n",
       "  female  73  36 205\n",
       "  male    95  41 441"
      ]
     },
     "metadata": {},
     "output_type": "display_data"
    }
   ],
   "source": [
    "table_barEmbSex <- table(tTrain.order$Sex, tTrain.order$Embarked)\n",
    "table_barEmbSex"
   ]
  },
  {
   "cell_type": "code",
   "execution_count": 73,
   "metadata": {},
   "outputs": [
    {
     "data": {
      "image/png": "[encoded data removed]",
      "text/plain": [
       "Plot with title “The number of Passengers by Port and Gender ”"
      ]
     },
     "metadata": {
      "image/png": {
       "height": 420,
       "width": 420
      },
      "text/plain": {
       "height": 420,
       "width": 420
      }
     },
     "output_type": "display_data"
    }
   ],
   "source": [
    "barplot(table_barEmbSex, \n",
    "        beside = T,\n",
    "        main = \"The number of Passengers by Port and Gender \",\n",
    "        col = c(\"purple\", \"dark green\"),    \n",
    "       xlab = \"Port and Gender\",\n",
    "       ylab = \"the Number of Passengers\",\n",
    "        ylim = c(0,500),\n",
    "#        legend.text=T    \n",
    "       )\n",
    "\n",
    "legend(6,400,                       \n",
    "       c(\"female\", \"male\"),\n",
    "      fill = c(\"purple\", \"dark green\")\n",
    "      )  "
   ]
  },
  {
   "cell_type": "code",
   "execution_count": 74,
   "metadata": {},
   "outputs": [
    {
     "data": {
      "text/plain": [
       "   \n",
       "    female male\n",
       "  C     73   95\n",
       "  Q     36   41\n",
       "  S    205  441"
      ]
     },
     "metadata": {},
     "output_type": "display_data"
    }
   ],
   "source": [
    "table(tTrain.order$Embarked, tTrain.order$Sex)"
   ]
  },
  {
   "cell_type": "markdown",
   "metadata": {},
   "source": [
    "In overall, the number of male passengers exceeds that of female riders. In particluar, the male passengers are more than twice as much as the female passengers in S."
   ]
  },
  {
   "cell_type": "code",
   "execution_count": 75,
   "metadata": {},
   "outputs": [
    {
     "data": {
      "text/plain": [
       "   \n",
       "      C   Q   S\n",
       "  0  75  47 427\n",
       "  1  93  30 219"
      ]
     },
     "metadata": {},
     "output_type": "display_data"
    }
   ],
   "source": [
    "# Survived by Embarked\n",
    "\n",
    "table_SurEmb <- table(tTrain.order$Survived, tTrain.order$Embarked)\n",
    "table_SurEmb"
   ]
  },
  {
   "cell_type": "code",
   "execution_count": 76,
   "metadata": {},
   "outputs": [
    {
     "data": {
      "image/png": "[encoded data removed]",
      "text/plain": [
       "Plot with title “The number of victims and survivors”"
      ]
     },
     "metadata": {
      "image/png": {
       "height": 420,
       "width": 420
      },
      "text/plain": {
       "height": 420,
       "width": 420
      }
     },
     "output_type": "display_data"
    }
   ],
   "source": [
    "barplot(table_SurEmb, \n",
    "        beside = T,\n",
    "        main = \"The number of victims and survivors\",\n",
    "        col = c(\"red\", \"blue\"),     \n",
    "       xlab = \"Port and gender\",\n",
    "       ylab = \"The number of people\",\n",
    "        ylim = c(0,450),\n",
    "#        legend.text=T    \n",
    "       )\n",
    "\n",
    "legend(5,400,                       \n",
    "       c(\"victims\", \"survivors\"),\n",
    "      fill = c(\"red\", \"blue\")\n",
    "      )  "
   ]
  },
  {
   "cell_type": "markdown",
   "metadata": {},
   "source": [
    "The number of survivors are higher than that of victims in C, while Q and S shows opposite results. In particluar, the number of victim in S is almost twice as much as survivors."
   ]
  },
  {
   "cell_type": "code",
   "execution_count": 77,
   "metadata": {},
   "outputs": [
    {
     "data": {
      "text/plain": [
       "   \n",
       "      C   Q   S\n",
       "  1  85   2 129\n",
       "  2  17   3 164\n",
       "  3  66  72 353"
      ]
     },
     "metadata": {},
     "output_type": "display_data"
    }
   ],
   "source": [
    "# Passengers by port and class\n",
    "table_PclassEmb <- table(tTrain.order$Pclass, tTrain.order$Embarked)\n",
    "table_PclassEmb"
   ]
  },
  {
   "cell_type": "code",
   "execution_count": 78,
   "metadata": {},
   "outputs": [
    {
     "data": {
      "image/png": "[encoded data removed]",
      "text/plain": [
       "Plot with title “The number of passengers by port and ticket class”"
      ]
     },
     "metadata": {
      "image/png": {
       "height": 420,
       "width": 420
      },
      "text/plain": {
       "height": 420,
       "width": 420
      }
     },
     "output_type": "display_data"
    }
   ],
   "source": [
    "barplot(table_PclassEmb, \n",
    "        beside = T,\n",
    "        main = \"The number of passengers by port and ticket class\",\n",
    "        col = c(\"dark cyan\", \"dark blue\", \"dark gray\"),     \n",
    "        xlab = \"Port and Pclass\",\n",
    "        ylab = \"The number of people\",\n",
    "        ylim = c(0,450),\n",
    "#        legend.text=T    \n",
    "       )\n",
    "\n",
    "legend(9,400,                       \n",
    "       c(\"1\", \"2\", \"3\"),\n",
    "      fill = c(\"dark cyan\", \"dark blue\", \"dark gray\")\n",
    "      ) "
   ]
  },
  {
   "cell_type": "markdown",
   "metadata": {},
   "source": [
    "=> use in trainData"
   ]
  },
  {
   "cell_type": "code",
   "execution_count": 79,
   "metadata": {},
   "outputs": [
    {
     "name": "stderr",
     "output_type": "stream",
     "text": [
      "Warning message in par(mflow = c(2, 2)):\n",
      "“\"mflow\" is not a graphical parameter”\n"
     ]
    }
   ],
   "source": [
    "par(mflow = c(2, 2))"
   ]
  },
  {
   "cell_type": "code",
   "execution_count": 80,
   "metadata": {
    "scrolled": false
   },
   "outputs": [
    {
     "data": {
      "text/html": [
       "<ol class=list-inline>\n",
       "\t<li>1</li>\n",
       "\t<li>2</li>\n",
       "\t<li>3</li>\n",
       "\t<li>4</li>\n",
       "</ol>\n"
      ],
      "text/latex": [
       "\\begin{enumerate*}\n",
       "\\item 1\n",
       "\\item 2\n",
       "\\item 3\n",
       "\\item 4\n",
       "\\end{enumerate*}\n"
      ],
      "text/markdown": [
       "1. 1\n",
       "2. 2\n",
       "3. 3\n",
       "4. 4\n",
       "\n",
       "\n"
      ],
      "text/plain": [
       "[1] 1 2 3 4"
      ]
     },
     "metadata": {},
     "output_type": "display_data"
    },
    {
     "data": {
      "image/png": "[encoded data removed]",
      "text/plain": [
       "Plot with title “# of passengers by port & Pclass”"
      ]
     },
     "metadata": {
      "image/png": {
       "height": 420,
       "width": 420
      },
      "text/plain": {
       "height": 420,
       "width": 420
      }
     },
     "output_type": "display_data"
    }
   ],
   "source": [
    "split.screen(c(2,2))\n",
    "\n",
    "\n",
    "\n",
    "\n",
    "screen(1)\n",
    "barplot(table_barEmb,\n",
    "       ylim = c(0,700),\n",
    "       main = \"# of Passengers by Port\",\n",
    "       xlab = \"Name of the Embarked Port\",\n",
    "       ylab = \"The Number of Passengers\",\n",
    "       col = c(\"sky blue\", \"yellow\", \"dark orange\"),\n",
    "       #legend.text = T\n",
    "       )\n",
    "\n",
    "screen(2)\n",
    "barplot(table_barEmbSex, \n",
    "        beside = T,\n",
    "        main = \"# of Passengers by Port & Gender \",\n",
    "        col = c(\"purple\", \"dark green\"),    \n",
    "       xlab = \"Port and Gender\",\n",
    "       ylab = \"the Number of Passengers\",\n",
    "        ylim = c(0,500),\n",
    "#        legend.text=T    \n",
    "       )\n",
    "\n",
    "screen(3)\n",
    "barplot(table_SurEmb, \n",
    "        beside = T,\n",
    "        main = \"# of victims & survivors\",\n",
    "        col = c(\"red\", \"blue\"),     \n",
    "       xlab = \"Port and gender\",\n",
    "       ylab = \"The number of people\",\n",
    "        ylim = c(0,450),\n",
    "#        legend.text=T    \n",
    "       )\n",
    "\n",
    "\n",
    "screen(4)\n",
    "barplot(table_PclassEmb, \n",
    "        beside = T,\n",
    "        main = \"# of passengers by port & Pclass\",\n",
    "        col = c(\"dark cyan\", \"dark blue\", \"dark gray\"),     \n",
    "        xlab = \"Port and Pclass\",\n",
    "        ylab = \"The number of people\",\n",
    "        ylim = c(0,450),\n",
    "#        legend.text=T    \n",
    "       )"
   ]
  },
  {
   "cell_type": "markdown",
   "metadata": {},
   "source": [
    "- More than half of the passengers boarded Titanic in Southampton (S).\n",
    "- About 70% of passengers boarded in S were male. Since the survival rate of male is significantly lower than that of female, the survival rate is S records also very low.\n",
    "- About 60% of passengers boarded in S had ticket class 3.\n",
    "- The passengers in  Chersbourg (C) shows the highest percentage of first-class cabin and the highest survival rates."
   ]
  },
  {
   "cell_type": "markdown",
   "metadata": {},
   "source": [
    "=> So, we will use these columns : Survived, Pclass, (Fare), Sex, and Embarked."
   ]
  },
  {
   "cell_type": "markdown",
   "metadata": {},
   "source": [
    "# Data Restructuring"
   ]
  },
  {
   "cell_type": "markdown",
   "metadata": {},
   "source": [
    "## Select only relevant columns"
   ]
  },
  {
   "cell_type": "code",
   "execution_count": 81,
   "metadata": {
    "ExecuteTime": {
     "end_time": "2019-12-18T04:18:53.157274Z",
     "start_time": "2019-12-18T04:18:53.115Z"
    }
   },
   "outputs": [
    {
     "data": {
      "text/html": [
       "<table>\n",
       "<caption>A data.frame: 6 × 5</caption>\n",
       "<thead>\n",
       "\t<tr><th></th><th scope=col>Survived</th><th scope=col>Pclass</th><th scope=col>Fare</th><th scope=col>Sex</th><th scope=col>Embarked</th></tr>\n",
       "\t<tr><th></th><th scope=col>&lt;int&gt;</th><th scope=col>&lt;int&gt;</th><th scope=col>&lt;dbl&gt;</th><th scope=col>&lt;fct&gt;</th><th scope=col>&lt;fct&gt;</th></tr>\n",
       "</thead>\n",
       "<tbody>\n",
       "\t<tr><th scope=row>1</th><td>0</td><td>3</td><td> 7.2500</td><td>male</td><td>S</td></tr>\n",
       "\t<tr><th scope=row>2</th><td>0</td><td>3</td><td> 8.0500</td><td>male</td><td>S</td></tr>\n",
       "\t<tr><th scope=row>3</th><td>0</td><td>3</td><td> 8.4583</td><td>male</td><td>Q</td></tr>\n",
       "\t<tr><th scope=row>4</th><td>0</td><td>1</td><td>51.8625</td><td>male</td><td>S</td></tr>\n",
       "\t<tr><th scope=row>5</th><td>0</td><td>3</td><td>21.0750</td><td>male</td><td>S</td></tr>\n",
       "\t<tr><th scope=row>6</th><td>0</td><td>3</td><td> 8.0500</td><td>male</td><td>S</td></tr>\n",
       "</tbody>\n",
       "</table>\n"
      ],
      "text/latex": [
       "A data.frame: 6 × 5\n",
       "\\begin{tabular}{r|lllll}\n",
       "  & Survived & Pclass & Fare & Sex & Embarked\\\\\n",
       "  & <int> & <int> & <dbl> & <fct> & <fct>\\\\\n",
       "\\hline\n",
       "\t1 & 0 & 3 &  7.2500 & male & S\\\\\n",
       "\t2 & 0 & 3 &  8.0500 & male & S\\\\\n",
       "\t3 & 0 & 3 &  8.4583 & male & Q\\\\\n",
       "\t4 & 0 & 1 & 51.8625 & male & S\\\\\n",
       "\t5 & 0 & 3 & 21.0750 & male & S\\\\\n",
       "\t6 & 0 & 3 &  8.0500 & male & S\\\\\n",
       "\\end{tabular}\n"
      ],
      "text/markdown": [
       "\n",
       "A data.frame: 6 × 5\n",
       "\n",
       "| <!--/--> | Survived &lt;int&gt; | Pclass &lt;int&gt; | Fare &lt;dbl&gt; | Sex &lt;fct&gt; | Embarked &lt;fct&gt; |\n",
       "|---|---|---|---|---|---|\n",
       "| 1 | 0 | 3 |  7.2500 | male | S |\n",
       "| 2 | 0 | 3 |  8.0500 | male | S |\n",
       "| 3 | 0 | 3 |  8.4583 | male | Q |\n",
       "| 4 | 0 | 1 | 51.8625 | male | S |\n",
       "| 5 | 0 | 3 | 21.0750 | male | S |\n",
       "| 6 | 0 | 3 |  8.0500 | male | S |\n",
       "\n"
      ],
      "text/plain": [
       "  Survived Pclass Fare    Sex  Embarked\n",
       "1 0        3       7.2500 male S       \n",
       "2 0        3       8.0500 male S       \n",
       "3 0        3       8.4583 male Q       \n",
       "4 0        1      51.8625 male S       \n",
       "5 0        3      21.0750 male S       \n",
       "6 0        3       8.0500 male S       "
      ]
     },
     "metadata": {},
     "output_type": "display_data"
    }
   ],
   "source": [
    "trainData_col <- c(\"Survived\", \"Pclass\", \"Fare\", \"Sex\", \"Embarked\")\n",
    "trainData <- tTrain.order[trainData_col]\n",
    "head(trainData)"
   ]
  },
  {
   "cell_type": "markdown",
   "metadata": {},
   "source": [
    "## Convert characters into numbers"
   ]
  },
  {
   "cell_type": "code",
   "execution_count": 82,
   "metadata": {
    "ExecuteTime": {
     "end_time": "2019-12-18T04:18:54.771810Z",
     "start_time": "2019-12-18T04:18:54.728Z"
    },
    "scrolled": false
   },
   "outputs": [
    {
     "data": {
      "text/html": [
       "<table>\n",
       "<caption>A data.frame: 6 × 6</caption>\n",
       "<thead>\n",
       "\t<tr><th></th><th scope=col>Survived</th><th scope=col>Pclass</th><th scope=col>Fare</th><th scope=col>Sex</th><th scope=col>Embarked</th><th scope=col>SexCode</th></tr>\n",
       "\t<tr><th></th><th scope=col>&lt;int&gt;</th><th scope=col>&lt;int&gt;</th><th scope=col>&lt;dbl&gt;</th><th scope=col>&lt;fct&gt;</th><th scope=col>&lt;fct&gt;</th><th scope=col>&lt;dbl&gt;</th></tr>\n",
       "</thead>\n",
       "<tbody>\n",
       "\t<tr><th scope=row>1</th><td>0</td><td>3</td><td> 7.2500</td><td>male</td><td>S</td><td>0</td></tr>\n",
       "\t<tr><th scope=row>2</th><td>0</td><td>3</td><td> 8.0500</td><td>male</td><td>S</td><td>0</td></tr>\n",
       "\t<tr><th scope=row>3</th><td>0</td><td>3</td><td> 8.4583</td><td>male</td><td>Q</td><td>0</td></tr>\n",
       "\t<tr><th scope=row>4</th><td>0</td><td>1</td><td>51.8625</td><td>male</td><td>S</td><td>0</td></tr>\n",
       "\t<tr><th scope=row>5</th><td>0</td><td>3</td><td>21.0750</td><td>male</td><td>S</td><td>0</td></tr>\n",
       "\t<tr><th scope=row>6</th><td>0</td><td>3</td><td> 8.0500</td><td>male</td><td>S</td><td>0</td></tr>\n",
       "</tbody>\n",
       "</table>\n"
      ],
      "text/latex": [
       "A data.frame: 6 × 6\n",
       "\\begin{tabular}{r|llllll}\n",
       "  & Survived & Pclass & Fare & Sex & Embarked & SexCode\\\\\n",
       "  & <int> & <int> & <dbl> & <fct> & <fct> & <dbl>\\\\\n",
       "\\hline\n",
       "\t1 & 0 & 3 &  7.2500 & male & S & 0\\\\\n",
       "\t2 & 0 & 3 &  8.0500 & male & S & 0\\\\\n",
       "\t3 & 0 & 3 &  8.4583 & male & Q & 0\\\\\n",
       "\t4 & 0 & 1 & 51.8625 & male & S & 0\\\\\n",
       "\t5 & 0 & 3 & 21.0750 & male & S & 0\\\\\n",
       "\t6 & 0 & 3 &  8.0500 & male & S & 0\\\\\n",
       "\\end{tabular}\n"
      ],
      "text/markdown": [
       "\n",
       "A data.frame: 6 × 6\n",
       "\n",
       "| <!--/--> | Survived &lt;int&gt; | Pclass &lt;int&gt; | Fare &lt;dbl&gt; | Sex &lt;fct&gt; | Embarked &lt;fct&gt; | SexCode &lt;dbl&gt; |\n",
       "|---|---|---|---|---|---|---|\n",
       "| 1 | 0 | 3 |  7.2500 | male | S | 0 |\n",
       "| 2 | 0 | 3 |  8.0500 | male | S | 0 |\n",
       "| 3 | 0 | 3 |  8.4583 | male | Q | 0 |\n",
       "| 4 | 0 | 1 | 51.8625 | male | S | 0 |\n",
       "| 5 | 0 | 3 | 21.0750 | male | S | 0 |\n",
       "| 6 | 0 | 3 |  8.0500 | male | S | 0 |\n",
       "\n"
      ],
      "text/plain": [
       "  Survived Pclass Fare    Sex  Embarked SexCode\n",
       "1 0        3       7.2500 male S        0      \n",
       "2 0        3       8.0500 male S        0      \n",
       "3 0        3       8.4583 male Q        0      \n",
       "4 0        1      51.8625 male S        0      \n",
       "5 0        3      21.0750 male S        0      \n",
       "6 0        3       8.0500 male S        0      "
      ]
     },
     "metadata": {},
     "output_type": "display_data"
    }
   ],
   "source": [
    "trainData$SexCode[trainData$Sex == \"male\"] <- 0   # add SexCode column\n",
    "trainData$SexCode[trainData$Sex == \"female\"] <- 1\n",
    "head(trainData)"
   ]
  },
  {
   "cell_type": "code",
   "execution_count": 83,
   "metadata": {},
   "outputs": [
    {
     "name": "stdout",
     "output_type": "stream",
     "text": [
      "'data.frame':\t891 obs. of  6 variables:\n",
      " $ Survived: int  0 0 0 0 0 0 0 0 0 0 ...\n",
      " $ Pclass  : int  3 3 3 1 3 3 3 3 3 3 ...\n",
      " $ Fare    : num  7.25 8.05 8.46 51.86 21.07 ...\n",
      " $ Sex     : Factor w/ 2 levels \"female\",\"male\": 2 2 2 2 2 2 2 1 2 1 ...\n",
      " $ Embarked: Factor w/ 3 levels \"C\",\"Q\",\"S\": 3 3 2 3 3 3 3 3 2 3 ...\n",
      " $ SexCode : num  0 0 0 0 0 0 0 1 0 1 ...\n"
     ]
    }
   ],
   "source": [
    "str(trainData)"
   ]
  },
  {
   "cell_type": "markdown",
   "metadata": {},
   "source": [
    "## Convert integer into factor for target value"
   ]
  },
  {
   "cell_type": "markdown",
   "metadata": {},
   "source": [
    "Otherwise, some Machine Learning tools like randomForest might guess Survived as a number."
   ]
  },
  {
   "cell_type": "code",
   "execution_count": 84,
   "metadata": {},
   "outputs": [
    {
     "name": "stdout",
     "output_type": "stream",
     "text": [
      "'data.frame':\t891 obs. of  6 variables:\n",
      " $ Survived: Factor w/ 2 levels \"0\",\"1\": 1 1 1 1 1 1 1 1 1 1 ...\n",
      " $ Pclass  : int  3 3 3 1 3 3 3 3 3 3 ...\n",
      " $ Fare    : num  7.25 8.05 8.46 51.86 21.07 ...\n",
      " $ Sex     : Factor w/ 2 levels \"female\",\"male\": 2 2 2 2 2 2 2 1 2 1 ...\n",
      " $ Embarked: Factor w/ 3 levels \"C\",\"Q\",\"S\": 3 3 2 3 3 3 3 3 2 3 ...\n",
      " $ SexCode : num  0 0 0 0 0 0 0 1 0 1 ...\n"
     ]
    }
   ],
   "source": [
    "trainData$Survived <- as.factor(trainData$Survived)\n",
    "str(trainData)"
   ]
  },
  {
   "cell_type": "markdown",
   "metadata": {},
   "source": [
    "## Reselect only relevant columns"
   ]
  },
  {
   "cell_type": "code",
   "execution_count": 85,
   "metadata": {},
   "outputs": [],
   "source": [
    "trainData_col_code <- c(\"Survived\", \"Pclass\", \"Fare\", \"SexCode\", \"Embarked\") #to exclude Sex\n",
    "trainData <- trainData[trainData_col_code]"
   ]
  },
  {
   "cell_type": "markdown",
   "metadata": {},
   "source": [
    "## One hot encoding"
   ]
  },
  {
   "cell_type": "code",
   "execution_count": 86,
   "metadata": {
    "scrolled": false
   },
   "outputs": [
    {
     "data": {
      "text/html": [
       "<table>\n",
       "<caption>A data.frame: 6 × 8</caption>\n",
       "<thead>\n",
       "\t<tr><th></th><th scope=col>Survived</th><th scope=col>Pclass</th><th scope=col>Fare</th><th scope=col>SexCode</th><th scope=col>Embarked</th><th scope=col>Embarked_C</th><th scope=col>Embarked_Q</th><th scope=col>Embarked_S</th></tr>\n",
       "\t<tr><th></th><th scope=col>&lt;fct&gt;</th><th scope=col>&lt;int&gt;</th><th scope=col>&lt;dbl&gt;</th><th scope=col>&lt;dbl&gt;</th><th scope=col>&lt;fct&gt;</th><th scope=col>&lt;lgl&gt;</th><th scope=col>&lt;lgl&gt;</th><th scope=col>&lt;lgl&gt;</th></tr>\n",
       "</thead>\n",
       "<tbody>\n",
       "\t<tr><th scope=row>1</th><td>0</td><td>3</td><td> 7.2500</td><td>0</td><td>S</td><td>FALSE</td><td>FALSE</td><td> TRUE</td></tr>\n",
       "\t<tr><th scope=row>2</th><td>0</td><td>3</td><td> 8.0500</td><td>0</td><td>S</td><td>FALSE</td><td>FALSE</td><td> TRUE</td></tr>\n",
       "\t<tr><th scope=row>3</th><td>0</td><td>3</td><td> 8.4583</td><td>0</td><td>Q</td><td>FALSE</td><td> TRUE</td><td>FALSE</td></tr>\n",
       "\t<tr><th scope=row>4</th><td>0</td><td>1</td><td>51.8625</td><td>0</td><td>S</td><td>FALSE</td><td>FALSE</td><td> TRUE</td></tr>\n",
       "\t<tr><th scope=row>5</th><td>0</td><td>3</td><td>21.0750</td><td>0</td><td>S</td><td>FALSE</td><td>FALSE</td><td> TRUE</td></tr>\n",
       "\t<tr><th scope=row>6</th><td>0</td><td>3</td><td> 8.0500</td><td>0</td><td>S</td><td>FALSE</td><td>FALSE</td><td> TRUE</td></tr>\n",
       "</tbody>\n",
       "</table>\n"
      ],
      "text/latex": [
       "A data.frame: 6 × 8\n",
       "\\begin{tabular}{r|llllllll}\n",
       "  & Survived & Pclass & Fare & SexCode & Embarked & Embarked\\_C & Embarked\\_Q & Embarked\\_S\\\\\n",
       "  & <fct> & <int> & <dbl> & <dbl> & <fct> & <lgl> & <lgl> & <lgl>\\\\\n",
       "\\hline\n",
       "\t1 & 0 & 3 &  7.2500 & 0 & S & FALSE & FALSE &  TRUE\\\\\n",
       "\t2 & 0 & 3 &  8.0500 & 0 & S & FALSE & FALSE &  TRUE\\\\\n",
       "\t3 & 0 & 3 &  8.4583 & 0 & Q & FALSE &  TRUE & FALSE\\\\\n",
       "\t4 & 0 & 1 & 51.8625 & 0 & S & FALSE & FALSE &  TRUE\\\\\n",
       "\t5 & 0 & 3 & 21.0750 & 0 & S & FALSE & FALSE &  TRUE\\\\\n",
       "\t6 & 0 & 3 &  8.0500 & 0 & S & FALSE & FALSE &  TRUE\\\\\n",
       "\\end{tabular}\n"
      ],
      "text/markdown": [
       "\n",
       "A data.frame: 6 × 8\n",
       "\n",
       "| <!--/--> | Survived &lt;fct&gt; | Pclass &lt;int&gt; | Fare &lt;dbl&gt; | SexCode &lt;dbl&gt; | Embarked &lt;fct&gt; | Embarked_C &lt;lgl&gt; | Embarked_Q &lt;lgl&gt; | Embarked_S &lt;lgl&gt; |\n",
       "|---|---|---|---|---|---|---|---|---|\n",
       "| 1 | 0 | 3 |  7.2500 | 0 | S | FALSE | FALSE |  TRUE |\n",
       "| 2 | 0 | 3 |  8.0500 | 0 | S | FALSE | FALSE |  TRUE |\n",
       "| 3 | 0 | 3 |  8.4583 | 0 | Q | FALSE |  TRUE | FALSE |\n",
       "| 4 | 0 | 1 | 51.8625 | 0 | S | FALSE | FALSE |  TRUE |\n",
       "| 5 | 0 | 3 | 21.0750 | 0 | S | FALSE | FALSE |  TRUE |\n",
       "| 6 | 0 | 3 |  8.0500 | 0 | S | FALSE | FALSE |  TRUE |\n",
       "\n"
      ],
      "text/plain": [
       "  Survived Pclass Fare    SexCode Embarked Embarked_C Embarked_Q Embarked_S\n",
       "1 0        3       7.2500 0       S        FALSE      FALSE       TRUE     \n",
       "2 0        3       8.0500 0       S        FALSE      FALSE       TRUE     \n",
       "3 0        3       8.4583 0       Q        FALSE       TRUE      FALSE     \n",
       "4 0        1      51.8625 0       S        FALSE      FALSE       TRUE     \n",
       "5 0        3      21.0750 0       S        FALSE      FALSE       TRUE     \n",
       "6 0        3       8.0500 0       S        FALSE      FALSE       TRUE     "
      ]
     },
     "metadata": {},
     "output_type": "display_data"
    }
   ],
   "source": [
    "trainData$Embarked_C <- trainData$Embarked == \"C\"\n",
    "trainData$Embarked_Q <- trainData$Embarked == \"Q\"\n",
    "trainData$Embarked_S <- trainData$Embarked == \"S\"\n",
    "head(trainData)"
   ]
  },
  {
   "cell_type": "markdown",
   "metadata": {},
   "source": [
    "## Complete Dataset"
   ]
  },
  {
   "cell_type": "code",
   "execution_count": 87,
   "metadata": {
    "scrolled": true
   },
   "outputs": [
    {
     "data": {
      "text/html": [
       "<table>\n",
       "<caption>A data.frame: 6 × 7</caption>\n",
       "<thead>\n",
       "\t<tr><th></th><th scope=col>Survived</th><th scope=col>Pclass</th><th scope=col>SexCode</th><th scope=col>Fare</th><th scope=col>Embarked_C</th><th scope=col>Embarked_Q</th><th scope=col>Embarked_S</th></tr>\n",
       "\t<tr><th></th><th scope=col>&lt;fct&gt;</th><th scope=col>&lt;int&gt;</th><th scope=col>&lt;dbl&gt;</th><th scope=col>&lt;dbl&gt;</th><th scope=col>&lt;lgl&gt;</th><th scope=col>&lt;lgl&gt;</th><th scope=col>&lt;lgl&gt;</th></tr>\n",
       "</thead>\n",
       "<tbody>\n",
       "\t<tr><th scope=row>1</th><td>0</td><td>3</td><td>0</td><td> 7.2500</td><td>FALSE</td><td>FALSE</td><td> TRUE</td></tr>\n",
       "\t<tr><th scope=row>2</th><td>0</td><td>3</td><td>0</td><td> 8.0500</td><td>FALSE</td><td>FALSE</td><td> TRUE</td></tr>\n",
       "\t<tr><th scope=row>3</th><td>0</td><td>3</td><td>0</td><td> 8.4583</td><td>FALSE</td><td> TRUE</td><td>FALSE</td></tr>\n",
       "\t<tr><th scope=row>4</th><td>0</td><td>1</td><td>0</td><td>51.8625</td><td>FALSE</td><td>FALSE</td><td> TRUE</td></tr>\n",
       "\t<tr><th scope=row>5</th><td>0</td><td>3</td><td>0</td><td>21.0750</td><td>FALSE</td><td>FALSE</td><td> TRUE</td></tr>\n",
       "\t<tr><th scope=row>6</th><td>0</td><td>3</td><td>0</td><td> 8.0500</td><td>FALSE</td><td>FALSE</td><td> TRUE</td></tr>\n",
       "</tbody>\n",
       "</table>\n"
      ],
      "text/latex": [
       "A data.frame: 6 × 7\n",
       "\\begin{tabular}{r|lllllll}\n",
       "  & Survived & Pclass & SexCode & Fare & Embarked\\_C & Embarked\\_Q & Embarked\\_S\\\\\n",
       "  & <fct> & <int> & <dbl> & <dbl> & <lgl> & <lgl> & <lgl>\\\\\n",
       "\\hline\n",
       "\t1 & 0 & 3 & 0 &  7.2500 & FALSE & FALSE &  TRUE\\\\\n",
       "\t2 & 0 & 3 & 0 &  8.0500 & FALSE & FALSE &  TRUE\\\\\n",
       "\t3 & 0 & 3 & 0 &  8.4583 & FALSE &  TRUE & FALSE\\\\\n",
       "\t4 & 0 & 1 & 0 & 51.8625 & FALSE & FALSE &  TRUE\\\\\n",
       "\t5 & 0 & 3 & 0 & 21.0750 & FALSE & FALSE &  TRUE\\\\\n",
       "\t6 & 0 & 3 & 0 &  8.0500 & FALSE & FALSE &  TRUE\\\\\n",
       "\\end{tabular}\n"
      ],
      "text/markdown": [
       "\n",
       "A data.frame: 6 × 7\n",
       "\n",
       "| <!--/--> | Survived &lt;fct&gt; | Pclass &lt;int&gt; | SexCode &lt;dbl&gt; | Fare &lt;dbl&gt; | Embarked_C &lt;lgl&gt; | Embarked_Q &lt;lgl&gt; | Embarked_S &lt;lgl&gt; |\n",
       "|---|---|---|---|---|---|---|---|\n",
       "| 1 | 0 | 3 | 0 |  7.2500 | FALSE | FALSE |  TRUE |\n",
       "| 2 | 0 | 3 | 0 |  8.0500 | FALSE | FALSE |  TRUE |\n",
       "| 3 | 0 | 3 | 0 |  8.4583 | FALSE |  TRUE | FALSE |\n",
       "| 4 | 0 | 1 | 0 | 51.8625 | FALSE | FALSE |  TRUE |\n",
       "| 5 | 0 | 3 | 0 | 21.0750 | FALSE | FALSE |  TRUE |\n",
       "| 6 | 0 | 3 | 0 |  8.0500 | FALSE | FALSE |  TRUE |\n",
       "\n"
      ],
      "text/plain": [
       "  Survived Pclass SexCode Fare    Embarked_C Embarked_Q Embarked_S\n",
       "1 0        3      0        7.2500 FALSE      FALSE       TRUE     \n",
       "2 0        3      0        8.0500 FALSE      FALSE       TRUE     \n",
       "3 0        3      0        8.4583 FALSE       TRUE      FALSE     \n",
       "4 0        1      0       51.8625 FALSE      FALSE       TRUE     \n",
       "5 0        3      0       21.0750 FALSE      FALSE       TRUE     \n",
       "6 0        3      0        8.0500 FALSE      FALSE       TRUE     "
      ]
     },
     "metadata": {},
     "output_type": "display_data"
    }
   ],
   "source": [
    "colTrain <- c(\"Survived\", \"Pclass\", \"SexCode\", \"Fare\", \"Embarked_C\", \"Embarked_Q\", \"Embarked_S\") \n",
    "trainData.selected <- trainData[colTrain]\n",
    "# trainData[-5]\n",
    "head(trainData.selected)"
   ]
  },
  {
   "cell_type": "markdown",
   "metadata": {},
   "source": [
    "# Machine Learning"
   ]
  },
  {
   "cell_type": "markdown",
   "metadata": {},
   "source": [
    "It is time to run Machine Learning with selected column data.class.  \n",
    "Firstly, as it is in the dataset, we will start with training with victims : survivors = 7 : 3.  \n",
    "Secondly, let's adjust the proportion into 5 : 5 to see if there is any significant difference in prediction.  \n",
    "Thirdly, we can also run machine learning without fare columns to see if the column is helpful or not.  \n"
   ]
  },
  {
   "cell_type": "code",
   "execution_count": 88,
   "metadata": {},
   "outputs": [
    {
     "name": "stderr",
     "output_type": "stream",
     "text": [
      "Loading required package: grid\n",
      "\n",
      "Loading required package: mvtnorm\n",
      "\n",
      "Loading required package: modeltools\n",
      "\n",
      "Loading required package: stats4\n",
      "\n",
      "Loading required package: strucchange\n",
      "\n",
      "Loading required package: zoo\n",
      "\n",
      "\n",
      "Attaching package: ‘zoo’\n",
      "\n",
      "\n",
      "The following objects are masked from ‘package:base’:\n",
      "\n",
      "    as.Date, as.Date.numeric\n",
      "\n",
      "\n",
      "Loading required package: sandwich\n",
      "\n",
      "Loading required package: lattice\n",
      "\n",
      "Loading required package: ggplot2\n",
      "\n",
      "randomForest 4.6-14\n",
      "\n",
      "Type rfNews() to see new features/changes/bug fixes.\n",
      "\n",
      "\n",
      "Attaching package: ‘randomForest’\n",
      "\n",
      "\n",
      "The following object is masked from ‘package:ggplot2’:\n",
      "\n",
      "    margin\n",
      "\n",
      "\n"
     ]
    }
   ],
   "source": [
    "library(party)\n",
    "library(caret)\n",
    "library(e1071)\n",
    "library(randomForest)\n",
    "library(nnet)"
   ]
  },
  {
   "cell_type": "markdown",
   "metadata": {},
   "source": [
    "## Case 1: Original data"
   ]
  },
  {
   "cell_type": "markdown",
   "metadata": {},
   "source": [
    "### Select only relevant columns"
   ]
  },
  {
   "cell_type": "code",
   "execution_count": 89,
   "metadata": {
    "scrolled": true
   },
   "outputs": [
    {
     "name": "stdout",
     "output_type": "stream",
     "text": [
      "'data.frame':\t891 obs. of  7 variables:\n",
      " $ Survived  : Factor w/ 2 levels \"0\",\"1\": 1 1 1 1 1 1 1 1 1 1 ...\n",
      " $ Pclass    : int  3 3 3 1 3 3 3 3 3 3 ...\n",
      " $ SexCode   : num  0 0 0 0 0 0 0 1 0 1 ...\n",
      " $ Fare      : num  7.25 8.05 8.46 51.86 21.07 ...\n",
      " $ Embarked_C: logi  FALSE FALSE FALSE FALSE FALSE FALSE ...\n",
      " $ Embarked_Q: logi  FALSE FALSE TRUE FALSE FALSE FALSE ...\n",
      " $ Embarked_S: logi  TRUE TRUE FALSE TRUE TRUE TRUE ...\n"
     ]
    }
   ],
   "source": [
    "str(trainData.selected)"
   ]
  },
  {
   "cell_type": "code",
   "execution_count": 90,
   "metadata": {},
   "outputs": [
    {
     "data": {
      "text/html": [
       "<table>\n",
       "<caption>A data.frame: 6 × 7</caption>\n",
       "<thead>\n",
       "\t<tr><th></th><th scope=col>Survived</th><th scope=col>Pclass</th><th scope=col>SexCode</th><th scope=col>Fare</th><th scope=col>Embarked_C</th><th scope=col>Embarked_Q</th><th scope=col>Embarked_S</th></tr>\n",
       "\t<tr><th></th><th scope=col>&lt;fct&gt;</th><th scope=col>&lt;int&gt;</th><th scope=col>&lt;dbl&gt;</th><th scope=col>&lt;dbl&gt;</th><th scope=col>&lt;lgl&gt;</th><th scope=col>&lt;lgl&gt;</th><th scope=col>&lt;lgl&gt;</th></tr>\n",
       "</thead>\n",
       "<tbody>\n",
       "\t<tr><th scope=row>1</th><td>0</td><td>3</td><td>0</td><td> 7.2500</td><td>FALSE</td><td>FALSE</td><td> TRUE</td></tr>\n",
       "\t<tr><th scope=row>2</th><td>0</td><td>3</td><td>0</td><td> 8.0500</td><td>FALSE</td><td>FALSE</td><td> TRUE</td></tr>\n",
       "\t<tr><th scope=row>3</th><td>0</td><td>3</td><td>0</td><td> 8.4583</td><td>FALSE</td><td> TRUE</td><td>FALSE</td></tr>\n",
       "\t<tr><th scope=row>4</th><td>0</td><td>1</td><td>0</td><td>51.8625</td><td>FALSE</td><td>FALSE</td><td> TRUE</td></tr>\n",
       "\t<tr><th scope=row>5</th><td>0</td><td>3</td><td>0</td><td>21.0750</td><td>FALSE</td><td>FALSE</td><td> TRUE</td></tr>\n",
       "\t<tr><th scope=row>6</th><td>0</td><td>3</td><td>0</td><td> 8.0500</td><td>FALSE</td><td>FALSE</td><td> TRUE</td></tr>\n",
       "</tbody>\n",
       "</table>\n"
      ],
      "text/latex": [
       "A data.frame: 6 × 7\n",
       "\\begin{tabular}{r|lllllll}\n",
       "  & Survived & Pclass & SexCode & Fare & Embarked\\_C & Embarked\\_Q & Embarked\\_S\\\\\n",
       "  & <fct> & <int> & <dbl> & <dbl> & <lgl> & <lgl> & <lgl>\\\\\n",
       "\\hline\n",
       "\t1 & 0 & 3 & 0 &  7.2500 & FALSE & FALSE &  TRUE\\\\\n",
       "\t2 & 0 & 3 & 0 &  8.0500 & FALSE & FALSE &  TRUE\\\\\n",
       "\t3 & 0 & 3 & 0 &  8.4583 & FALSE &  TRUE & FALSE\\\\\n",
       "\t4 & 0 & 1 & 0 & 51.8625 & FALSE & FALSE &  TRUE\\\\\n",
       "\t5 & 0 & 3 & 0 & 21.0750 & FALSE & FALSE &  TRUE\\\\\n",
       "\t6 & 0 & 3 & 0 &  8.0500 & FALSE & FALSE &  TRUE\\\\\n",
       "\\end{tabular}\n"
      ],
      "text/markdown": [
       "\n",
       "A data.frame: 6 × 7\n",
       "\n",
       "| <!--/--> | Survived &lt;fct&gt; | Pclass &lt;int&gt; | SexCode &lt;dbl&gt; | Fare &lt;dbl&gt; | Embarked_C &lt;lgl&gt; | Embarked_Q &lt;lgl&gt; | Embarked_S &lt;lgl&gt; |\n",
       "|---|---|---|---|---|---|---|---|\n",
       "| 1 | 0 | 3 | 0 |  7.2500 | FALSE | FALSE |  TRUE |\n",
       "| 2 | 0 | 3 | 0 |  8.0500 | FALSE | FALSE |  TRUE |\n",
       "| 3 | 0 | 3 | 0 |  8.4583 | FALSE |  TRUE | FALSE |\n",
       "| 4 | 0 | 1 | 0 | 51.8625 | FALSE | FALSE |  TRUE |\n",
       "| 5 | 0 | 3 | 0 | 21.0750 | FALSE | FALSE |  TRUE |\n",
       "| 6 | 0 | 3 | 0 |  8.0500 | FALSE | FALSE |  TRUE |\n",
       "\n"
      ],
      "text/plain": [
       "  Survived Pclass SexCode Fare    Embarked_C Embarked_Q Embarked_S\n",
       "1 0        3      0        7.2500 FALSE      FALSE       TRUE     \n",
       "2 0        3      0        8.0500 FALSE      FALSE       TRUE     \n",
       "3 0        3      0        8.4583 FALSE       TRUE      FALSE     \n",
       "4 0        1      0       51.8625 FALSE      FALSE       TRUE     \n",
       "5 0        3      0       21.0750 FALSE      FALSE       TRUE     \n",
       "6 0        3      0        8.0500 FALSE      FALSE       TRUE     "
      ]
     },
     "metadata": {},
     "output_type": "display_data"
    }
   ],
   "source": [
    "colTrain <- c(\"Survived\", \"Pclass\", \"SexCode\", \"Fare\", \"Embarked_C\", \"Embarked_Q\", \"Embarked_S\") #to exclude Fare\n",
    "trainData <- trainData[colTrain]\n",
    "# trainData[-5]\n",
    "head(trainData)"
   ]
  },
  {
   "cell_type": "markdown",
   "metadata": {},
   "source": [
    "### Split data into train and test sets"
   ]
  },
  {
   "cell_type": "code",
   "execution_count": 91,
   "metadata": {
    "scrolled": true
   },
   "outputs": [
    {
     "data": {
      "text/html": [
       "549"
      ],
      "text/latex": [
       "549"
      ],
      "text/markdown": [
       "549"
      ],
      "text/plain": [
       "[1] 549"
      ]
     },
     "metadata": {},
     "output_type": "display_data"
    },
    {
     "data": {
      "text/html": [
       "342"
      ],
      "text/latex": [
       "342"
      ],
      "text/markdown": [
       "342"
      ],
      "text/plain": [
       "[1] 342"
      ]
     },
     "metadata": {},
     "output_type": "display_data"
    },
    {
     "data": {
      "text/html": [
       "384.3"
      ],
      "text/latex": [
       "384.3"
      ],
      "text/markdown": [
       "384.3"
      ],
      "text/plain": [
       "[1] 384.3"
      ]
     },
     "metadata": {},
     "output_type": "display_data"
    },
    {
     "data": {
      "text/html": [
       "239.4"
      ],
      "text/latex": [
       "239.4"
      ],
      "text/markdown": [
       "239.4"
      ],
      "text/plain": [
       "[1] 239.4"
      ]
     },
     "metadata": {},
     "output_type": "display_data"
    }
   ],
   "source": [
    "nrow(subset(trainData, Survived == 0))\n",
    "nrow(subset(trainData, Survived == 1))\n",
    "\n",
    "nrow(subset(trainData, Survived == 0))*0.7 # 384\n",
    "nrow(subset(trainData, Survived == 1))*0.7 # 239"
   ]
  },
  {
   "cell_type": "code",
   "execution_count": 92,
   "metadata": {},
   "outputs": [],
   "source": [
    "set.seed(123456)\n",
    "samp <- c(sample(1:549, 384), sample(550:891, 239))\n",
    "data.train <- trainData[samp,]\n",
    "data.test  <- trainData[-samp,]\n",
    "# head(data.train)\n",
    "# head(data.test)"
   ]
  },
  {
   "cell_type": "markdown",
   "metadata": {},
   "source": [
    "### Create features and targets"
   ]
  },
  {
   "cell_type": "code",
   "execution_count": 93,
   "metadata": {
    "scrolled": false
   },
   "outputs": [],
   "source": [
    "data.features <- subset(data.test, select = -Survived) # test the trained model\n",
    "data.targets  <- subset(data.test, select = Survived)  # answer"
   ]
  },
  {
   "cell_type": "markdown",
   "metadata": {},
   "source": [
    "### Implement Machine Learning"
   ]
  },
  {
   "cell_type": "markdown",
   "metadata": {},
   "source": [
    "#### Prepare Data and parameters"
   ]
  },
  {
   "cell_type": "code",
   "execution_count": 94,
   "metadata": {},
   "outputs": [],
   "source": [
    "data = data.train             # train: data contains questions and answers \n",
    "feature = data.features           # question data\n",
    "target = data.targets$Survived    # answer data\n",
    "\n",
    "ntree = 100 # randomForest\n",
    "size = 7    # Neutal Network\n",
    "formula <- Survived ~ Pclass + SexCode + Fare + Embarked_C + Embarked_Q + Embarked_S # cTree"
   ]
  },
  {
   "cell_type": "markdown",
   "metadata": {},
   "source": [
    "#### randomForest"
   ]
  },
  {
   "cell_type": "code",
   "execution_count": 95,
   "metadata": {},
   "outputs": [
    {
     "data": {
      "text/plain": [
       "\n",
       "Call:\n",
       " randomForest(formula = Survived ~ ., data = data, ntree = 100) \n",
       "               Type of random forest: classification\n",
       "                     Number of trees: 100\n",
       "No. of variables tried at each split: 2\n",
       "\n",
       "        OOB estimate of  error rate: 17.98%\n",
       "Confusion matrix:\n",
       "    0   1 class.error\n",
       "0 366  18   0.0468750\n",
       "1  94 145   0.3933054"
      ]
     },
     "metadata": {},
     "output_type": "display_data"
    },
    {
     "data": {
      "text/plain": [
       "    target\n",
       "pred   0   1\n",
       "   0 150  44\n",
       "   1  15  59"
      ]
     },
     "metadata": {},
     "output_type": "display_data"
    },
    {
     "name": "stdout",
     "output_type": "stream",
     "text": [
      "randomForest (total)   77.99 % \n",
      "randomForest (V)       90.91 % \n",
      "randomForest (S)       57.28 % \n"
     ]
    }
   ],
   "source": [
    "##### Training\n",
    "\n",
    "rf <- randomForest(Survived ~., data, ntree = 100)\n",
    "rf\n",
    "\n",
    "##### predict\n",
    "\n",
    "pred <- predict(rf, feature)\n",
    "\n",
    "##### Accuracy\n",
    "rf.Result <- round(mean(pred == target) * 100, 2)\n",
    "\n",
    "##### Classified Table\n",
    "\n",
    "rf.table <- as.matrix(table(pred, target))\n",
    "rf.table\n",
    "\n",
    "##### Accuracy of each category\n",
    "rf.Result_V <- round((rf.table[1,1])/sum(rf.table[,1])*100, 2)\n",
    "rf.Result_S <- round((rf.table[2,2])/sum(rf.table[,2])*100, 2)\n",
    "\n",
    "\n",
    "#### Summary\n",
    "cat(paste(\"randomForest (total)  \", rf.Result, \"%\"),\"\\n\")\n",
    "cat(paste(\"randomForest (V)      \", rf.Result_V, \"%\"), \"\\n\")\n",
    "cat(paste(\"randomForest (S)      \", rf.Result_S, \"%\"), \"\\n\")\n"
   ]
  },
  {
   "cell_type": "markdown",
   "metadata": {},
   "source": [
    "#### nnet Neural Networks"
   ]
  },
  {
   "cell_type": "code",
   "execution_count": 96,
   "metadata": {},
   "outputs": [
    {
     "name": "stdout",
     "output_type": "stream",
     "text": [
      "# weights:  57\n",
      "initial  value 675.706752 \n",
      "iter  10 value 382.200401\n",
      "iter  20 value 309.805227\n",
      "iter  30 value 304.516697\n",
      "iter  40 value 266.955464\n",
      "iter  50 value 253.769496\n",
      "iter  60 value 250.608736\n",
      "iter  70 value 249.562305\n",
      "iter  80 value 248.545592\n",
      "iter  90 value 246.419419\n",
      "iter 100 value 245.206566\n",
      "final  value 245.206566 \n",
      "stopped after 100 iterations\n"
     ]
    },
    {
     "data": {
      "text/plain": [
       "a 6-7-1 network with 57 weights\n",
       "inputs: Pclass SexCode Fare Embarked_CTRUE Embarked_QTRUE Embarked_STRUE \n",
       "output(s): Survived \n",
       "options were - entropy fitting "
      ]
     },
     "metadata": {},
     "output_type": "display_data"
    },
    {
     "data": {
      "text/plain": [
       "    target\n",
       "pred   0   1\n",
       "   0 153  45\n",
       "   1  12  58"
      ]
     },
     "metadata": {},
     "output_type": "display_data"
    },
    {
     "name": "stdout",
     "output_type": "stream",
     "text": [
      "Neural Networks (total)    78.73 % \n",
      "Neural Networks (V)        92.73 % \n",
      "Neural Networks(S)         56.31 % \n"
     ]
    }
   ],
   "source": [
    "#### Training\n",
    "nnmodel <- nnet(Survived ~. , data, size = size)\n",
    "nnmodel\n",
    "\n",
    "#### Predict\n",
    "pred <- predict(nnmodel, feature, type = \"class\")\n",
    "\n",
    "##### Accuracy\n",
    "nnet.Result <- round(mean(pred == target) * 100, 2)\n",
    "\n",
    "##### Classified Table\n",
    "nnet.table <- as.matrix(table(pred, target))\n",
    "nnet.table\n",
    "\n",
    "##### Accuracy of each category\n",
    "nnet.Result_V <- round((nnet.table[1,1])/sum(nnet.table[,1])*100, 2)\n",
    "nnet.Result_S <- round((nnet.table[2,2])/sum(nnet.table[,2])*100, 2)\n",
    "\n",
    "#### Summary\n",
    "cat(paste(\"Neural Networks (total)   \", nnet.Result, \"%\"),\"\\n\")\n",
    "cat(paste(\"Neural Networks (V)       \", nnet.Result_V, \"%\"), \"\\n\")\n",
    "cat(paste(\"Neural Networks(S)        \", nnet.Result_S, \"%\"), \"\\n\")"
   ]
  },
  {
   "cell_type": "markdown",
   "metadata": {},
   "source": [
    "#### SVM"
   ]
  },
  {
   "cell_type": "code",
   "execution_count": 97,
   "metadata": {},
   "outputs": [
    {
     "data": {
      "text/plain": [
       "\n",
       "Call:\n",
       "svm(formula = Survived ~ ., data = data)\n",
       "\n",
       "\n",
       "Parameters:\n",
       "   SVM-Type:  C-classification \n",
       " SVM-Kernel:  radial \n",
       "       cost:  1 \n",
       "\n",
       "Number of Support Vectors:  276\n"
      ]
     },
     "metadata": {},
     "output_type": "display_data"
    },
    {
     "data": {
      "text/plain": [
       "    target\n",
       "pred   0   1\n",
       "   0 154  44\n",
       "   1  11  59"
      ]
     },
     "metadata": {},
     "output_type": "display_data"
    },
    {
     "name": "stdout",
     "output_type": "stream",
     "text": [
      "SVM (total)                79.48 % \n",
      "SVM (V)                    93.33 % \n",
      "SVM (S)                    57.28 % \n"
     ]
    }
   ],
   "source": [
    "#### Training\n",
    "svmmodel <- svm(Survived ~. , data)\n",
    "svmmodel\n",
    "\n",
    "#### Predict\n",
    "pred <- predict(svmmodel, feature)\n",
    "\n",
    "#### Accuracy\n",
    "svm.Result <- round(mean(pred == target) * 100, 2)\n",
    "\n",
    "#### Classified Table\n",
    "table(pred, target)\n",
    "svm.table <- as.matrix(table(pred, target))\n",
    "\n",
    "##### Accuracy of each category\n",
    "svm.Result_V <- round((svm.table[1,1])/sum(svm.table[,1])*100, 2)\n",
    "svm.Result_S <- round((svm.table[2,2])/sum(svm.table[,2])*100, 2)\n",
    "\n",
    "#### Summary\n",
    "cat(paste(\"SVM (total)               \", svm.Result, \"%\"),\"\\n\")\n",
    "cat(paste(\"SVM (V)                   \", svm.Result_V, \"%\"), \"\\n\")\n",
    "cat(paste(\"SVM (S)                   \", svm.Result_S, \"%\"), \"\\n\")"
   ]
  },
  {
   "cell_type": "markdown",
   "metadata": {},
   "source": [
    "#### cTree"
   ]
  },
  {
   "cell_type": "code",
   "execution_count": 100,
   "metadata": {},
   "outputs": [
    {
     "data": {
      "text/plain": [
       "    target\n",
       "pred   0   1\n",
       "   0 146  38\n",
       "   1  19  65"
      ]
     },
     "metadata": {},
     "output_type": "display_data"
    },
    {
     "name": "stdout",
     "output_type": "stream",
     "text": [
      "cTree (total)              78.73 % \n",
      "cTree (V)                  88.48 % \n",
      "cTree (S)                  63.11 % \n"
     ]
    }
   ],
   "source": [
    "#### Training\n",
    "ctmodel <- ctree(formula, data)\n",
    "\n",
    "#### Predict\n",
    "pred <- predict(ctmodel, feature)\n",
    "\n",
    "#### Accuracy\n",
    "ct.Result <- round(mean(pred == target) * 100, 2)\n",
    "\n",
    "#### Classified Table\n",
    "table(pred, target)\n",
    "ct.table <- as.matrix(table(pred, target))\n",
    "\n",
    "##### Accuracy of each category\n",
    "ct.Result_V <- round((ct.table[1,1])/sum(ct.table[,1])*100, 2)\n",
    "ct.Result_S <- round((ct.table[2,2])/sum(ct.table[,2])*100, 2)\n",
    "\n",
    "#### Summary\n",
    "cat(paste(\"cTree (total)             \", ct.Result, \"%\"),\"\\n\")\n",
    "cat(paste(\"cTree (V)                 \", ct.Result_V, \"%\"), \"\\n\")\n",
    "cat(paste(\"cTree (S)                 \", ct.Result_S, \"%\"), \"\\n\")"
   ]
  },
  {
   "cell_type": "code",
   "execution_count": 101,
   "metadata": {},
   "outputs": [
    {
     "data": {
      "image/png": "[encoded data removed]",
      "text/plain": [
       "plot without title"
      ]
     },
     "metadata": {
      "image/png": {
       "height": 420,
       "width": 420
      },
      "text/plain": {
       "height": 420,
       "width": 420
      }
     },
     "output_type": "display_data"
    }
   ],
   "source": [
    "plot(ctmodel, \n",
    "     #type = 'simple'\n",
    "    )"
   ]
  },
  {
   "cell_type": "code",
   "execution_count": 102,
   "metadata": {},
   "outputs": [
    {
     "data": {
      "image/png": "[encoded data removed]",
      "text/plain": [
       "plot without title"
      ]
     },
     "metadata": {
      "image/png": {
       "height": 420,
       "width": 420
      },
      "text/plain": {
       "height": 420,
       "width": 420
      }
     },
     "output_type": "display_data"
    }
   ],
   "source": [
    "plot(ctmodel,\n",
    "     inner_panel = node_barplot,\n",
    "     #edge_panel = function(...) invisible(),\n",
    "     tnex = 1)"
   ]
  },
  {
   "cell_type": "markdown",
   "metadata": {},
   "source": [
    "#### Logistic Regression"
   ]
  },
  {
   "cell_type": "code",
   "execution_count": 103,
   "metadata": {},
   "outputs": [
    {
     "name": "stdout",
     "output_type": "stream",
     "text": [
      "# weights:  8 (7 variable)\n",
      "initial  value 431.830693 \n",
      "iter  10 value 271.323653\n",
      "final  value 271.322893 \n",
      "converged\n"
     ]
    },
    {
     "data": {
      "text/plain": [
       "    target\n",
       "pred   0   1\n",
       "   0 127  31\n",
       "   1  38  72"
      ]
     },
     "metadata": {},
     "output_type": "display_data"
    },
    {
     "name": "stdout",
     "output_type": "stream",
     "text": [
      "Logistic Regreion (total)  74.25 % \n",
      "Logistic Regreion (V)      76.97 % \n",
      "Logistic Regreion (S)      69.9 % \n"
     ]
    }
   ],
   "source": [
    "##### Training\n",
    "\n",
    "logistRegModel <- multinom(Survived ~., data = data)\n",
    "\n",
    "##### Predict\n",
    "\n",
    "pred <- predict(logistRegModel, feature)\n",
    "\n",
    "#### Accuracy\n",
    "lr.Result <- round(mean(pred == target) * 100, 2)\n",
    "\n",
    "#### Classified Table\n",
    "table(pred, target)\n",
    "lr.table <- as.matrix(table(pred, target))\n",
    "\n",
    "##### Accuracy of each category\n",
    "lr.Result_V <- round((lr.table[1,1])/sum(lr.table[,1])*100, 2)\n",
    "lr.Result_S <- round((lr.table[2,2])/sum(lr.table[,2])*100, 2)\n",
    "\n",
    "#### Summary\n",
    "cat(paste(\"Logistic Regreion (total) \", lr.Result, \"%\"),\"\\n\")\n",
    "cat(paste(\"Logistic Regreion (V)     \", lr.Result_V, \"%\"), \"\\n\")\n",
    "cat(paste(\"Logistic Regreion (S)     \", lr.Result_S, \"%\"), \"\\n\")"
   ]
  },
  {
   "cell_type": "markdown",
   "metadata": {},
   "source": [
    "### Case 1) Summary"
   ]
  },
  {
   "cell_type": "code",
   "execution_count": 104,
   "metadata": {
    "scrolled": true
   },
   "outputs": [
    {
     "name": "stdout",
     "output_type": "stream",
     "text": [
      "randomForest (total)       77.99 % \n",
      "randomForest (V)           90.91 % \n",
      "randomForest (S)           57.28 % \n",
      "================================== \n",
      "Neural Networks (total)    78.73 % \n",
      "Neural Networks (V)        92.73 % \n",
      "Neural Networks(S)         56.31 % \n",
      "================================== \n",
      "SVM (total)                79.48 % \n",
      "SVM (V)                    93.33 % \n",
      "SVM (S)                    57.28 % \n",
      "================================== \n",
      "cTree (total)              78.73 % \n",
      "cTree (V)                  88.48 % \n",
      "cTree (S)                  63.11 % \n",
      "================================== \n",
      "Logistic Regreion (total)  74.25 % \n",
      "Logistic Regreion (V)      76.97 % \n",
      "Logistic Regreion (S)      69.9 % \n"
     ]
    }
   ],
   "source": [
    "cat(paste(\"randomForest (total)      \", rf.Result, \"%\"),\"\\n\")\n",
    "cat(paste(\"randomForest (V)          \", rf.Result_V, \"%\"), \"\\n\")\n",
    "cat(paste(\"randomForest (S)          \", rf.Result_S, \"%\"), \"\\n\")\n",
    "cat(paste(\"==================================\",\"\\n\"))\n",
    "\n",
    "cat(paste(\"Neural Networks (total)   \", nnet.Result, \"%\"),\"\\n\")\n",
    "cat(paste(\"Neural Networks (V)       \", nnet.Result_V, \"%\"), \"\\n\")\n",
    "cat(paste(\"Neural Networks(S)        \", nnet.Result_S, \"%\"), \"\\n\")\n",
    "cat(paste(\"==================================\",\"\\n\"))\n",
    "\n",
    "cat(paste(\"SVM (total)               \", svm.Result, \"%\"),\"\\n\")\n",
    "cat(paste(\"SVM (V)                   \", svm.Result_V, \"%\"), \"\\n\")\n",
    "cat(paste(\"SVM (S)                   \", svm.Result_S, \"%\"), \"\\n\")\n",
    "cat(paste(\"==================================\",\"\\n\"))\n",
    "\n",
    "cat(paste(\"cTree (total)             \", ct.Result, \"%\"),\"\\n\")\n",
    "cat(paste(\"cTree (V)                 \", ct.Result_V, \"%\"), \"\\n\")\n",
    "cat(paste(\"cTree (S)                 \", ct.Result_S, \"%\"), \"\\n\")\n",
    "cat(paste(\"==================================\",\"\\n\"))\n",
    "\n",
    "cat(paste(\"Logistic Regreion (total) \", lr.Result, \"%\"),\"\\n\")\n",
    "cat(paste(\"Logistic Regreion (V)     \", lr.Result_V, \"%\"), \"\\n\")\n",
    "cat(paste(\"Logistic Regreion (S)     \", lr.Result_S, \"%\"), \"\\n\")\n"
   ]
  },
  {
   "cell_type": "code",
   "execution_count": 105,
   "metadata": {},
   "outputs": [],
   "source": [
    "## set.seed(12)\n",
    "# randomForest (total)       79.85 % \n",
    "# randomForest (V)           96.36 % \n",
    "# randomForest (S)           53.4 % \n",
    "# ================================== \n",
    "# Neural Networks (total)    77.61 % \n",
    "# Neural Networks (V)        95.15 % \n",
    "# Neural Networks(S)         49.51 % \n",
    "# ================================== \n",
    "# SVM (total)                80.97 % <-\n",
    "# SVM (V)                    95.15 % \n",
    "# SVM (S)                    58.25 % \n",
    "# ================================== \n",
    "# cTree (total)              76.49 % \n",
    "# cTree (V)                  98.18 % \n",
    "# cTree (S)                  41.75 % \n",
    "# ================================== \n",
    "# Logistic Regreion (total)  76.49 % \n",
    "# Logistic Regreion (V)      83.03 % \n",
    "# Logistic Regreion (S)      66.02 % \n",
    "\n",
    "## set.seed(123)\n",
    "# randomForest (total)       79.1 %  <-\n",
    "# randomForest (V)           93.33 % \n",
    "# randomForest (S)           56.31 % \n",
    "# ================================== \n",
    "# Neural Networks (total)    76.87 % \n",
    "# Neural Networks (V)        90.3 % \n",
    "# Neural Networks(S)         55.34 % \n",
    "# ================================== \n",
    "# SVM (total)                78.36 % \n",
    "# SVM (V)                    93.33 % \n",
    "# SVM (S)                    54.37 % \n",
    "# ================================== \n",
    "# cTree (total)              78.36 % \n",
    "# cTree (V)                  93.33 % \n",
    "# cTree (S)                  54.37 % \n",
    "# ================================== \n",
    "# Logistic Regreion (total)  76.87 % \n",
    "# Logistic Regreion (V)      80.61 % \n",
    "# Logistic Regreion (S)      70.87 % \n",
    "\n",
    "## set.seed(1234)\n",
    "# randomForest (total)       79.85 % <-\n",
    "# randomForest (V)           93.33 % \n",
    "# randomForest (S)           58.25 % \n",
    "# ================================== \n",
    "# Neural Networks (total)    79.48 % \n",
    "# Neural Networks (V)        92.73 % \n",
    "# Neural Networks(S)         58.25 % \n",
    "# ================================== \n",
    "# SVM (total)                79.85 % <-\n",
    "# SVM (V)                    93.33 % \n",
    "# SVM (S)                    58.25 % \n",
    "# ================================== \n",
    "# cTree (total)              79.85 % <-\n",
    "# cTree (V)                  93.33 % \n",
    "# cTree (S)                  58.25 % \n",
    "# ================================== \n",
    "# Logistic Regreion (total)  79.48 % \n",
    "# Logistic Regreion (V)      83.64 % \n",
    "# Logistic Regreion (S)      72.82 % \n",
    "\n",
    "## set.seed(12345)\n",
    "# randomForest (total)       79.48 % \n",
    "# randomForest (V)           95.15 % \n",
    "# randomForest (S)           54.37 % \n",
    "# ================================== \n",
    "# Neural Networks (total)    78.36 % \n",
    "# Neural Networks (V)        92.12 % \n",
    "# Neural Networks(S)         56.31 % \n",
    "# ================================== \n",
    "# SVM (total)                79.85 % <-\n",
    "# SVM (V)                    94.55 % \n",
    "# SVM (S)                    56.31 % \n",
    "# ================================== \n",
    "# cTree (total)              79.48 % \n",
    "# cTree (V)                  94.55 % \n",
    "# cTree (S)                  55.34 % \n",
    "# ================================== \n",
    "# Logistic Regreion (total)  78.36 % \n",
    "# Logistic Regreion (V)      83.03 % \n",
    "# Logistic Regreion (S)      70.87 % \n",
    "\n",
    "## set.seed(123456)\n",
    "# randomForest (total)       77.99 % \n",
    "# randomForest (V)           90.91 % \n",
    "# randomForest (S)           57.28 % \n",
    "# ================================== \n",
    "# Neural Networks (total)    79.48 % <-\n",
    "# Neural Networks (V)        93.33 % \n",
    "# Neural Networks(S)         57.28 % \n",
    "# ================================== \n",
    "# SVM (total)                79.48 % <-\n",
    "# SVM (V)                    93.33 % \n",
    "# SVM (S)                    57.28 % \n",
    "# ================================== \n",
    "# cTree (total)              78.73 % \n",
    "# cTree (V)                  88.48 % \n",
    "# cTree (S)                  63.11 % \n",
    "# ================================== \n",
    "# Logistic Regreion (total)  74.25 % \n",
    "# Logistic Regreion (V)      76.97 % \n",
    "# Logistic Regreion (S)      69.9 %"
   ]
  },
  {
   "cell_type": "markdown",
   "metadata": {},
   "source": [
    "## Case 2: Sampling adjustment as victims : survivors = 1 : 1"
   ]
  },
  {
   "cell_type": "markdown",
   "metadata": {},
   "source": [
    "### Adjust Sampling data as victims : survivors = 1 : 1"
   ]
  },
  {
   "cell_type": "code",
   "execution_count": 106,
   "metadata": {},
   "outputs": [
    {
     "data": {
      "text/html": [
       "549"
      ],
      "text/latex": [
       "549"
      ],
      "text/markdown": [
       "549"
      ],
      "text/plain": [
       "[1] 549"
      ]
     },
     "metadata": {},
     "output_type": "display_data"
    },
    {
     "data": {
      "text/html": [
       "342"
      ],
      "text/latex": [
       "342"
      ],
      "text/markdown": [
       "342"
      ],
      "text/plain": [
       "[1] 342"
      ]
     },
     "metadata": {},
     "output_type": "display_data"
    },
    {
     "data": {
      "text/html": [
       "239.4"
      ],
      "text/latex": [
       "239.4"
      ],
      "text/markdown": [
       "239.4"
      ],
      "text/plain": [
       "[1] 239.4"
      ]
     },
     "metadata": {},
     "output_type": "display_data"
    }
   ],
   "source": [
    "nrow(subset(trainData, Survived == 0))\n",
    "nrow(subset(trainData, Survived == 1))\n",
    "\n",
    "nrow(subset(trainData, Survived == 1))*0.7 # 239"
   ]
  },
  {
   "cell_type": "code",
   "execution_count": 107,
   "metadata": {},
   "outputs": [],
   "source": [
    "set.seed(12345)\n",
    "sampRatio <- c(sample(1:549, 342), sample(550:891, 342))\n",
    "samePropData <- trainData[sampRatio,]"
   ]
  },
  {
   "cell_type": "markdown",
   "metadata": {},
   "source": [
    "### orderBy Survived and reset rownames"
   ]
  },
  {
   "cell_type": "code",
   "execution_count": 108,
   "metadata": {},
   "outputs": [
    {
     "data": {
      "text/html": [
       "<table>\n",
       "<caption>A data.frame: 6 × 7</caption>\n",
       "<thead>\n",
       "\t<tr><th></th><th scope=col>Survived</th><th scope=col>Pclass</th><th scope=col>SexCode</th><th scope=col>Fare</th><th scope=col>Embarked_C</th><th scope=col>Embarked_Q</th><th scope=col>Embarked_S</th></tr>\n",
       "\t<tr><th></th><th scope=col>&lt;fct&gt;</th><th scope=col>&lt;int&gt;</th><th scope=col>&lt;dbl&gt;</th><th scope=col>&lt;dbl&gt;</th><th scope=col>&lt;lgl&gt;</th><th scope=col>&lt;lgl&gt;</th><th scope=col>&lt;lgl&gt;</th></tr>\n",
       "</thead>\n",
       "<tbody>\n",
       "\t<tr><th scope=row>1</th><td>0</td><td>2</td><td>0</td><td>27.0000</td><td>FALSE</td><td>FALSE</td><td> TRUE</td></tr>\n",
       "\t<tr><th scope=row>2</th><td>0</td><td>3</td><td>0</td><td> 8.0500</td><td>FALSE</td><td>FALSE</td><td> TRUE</td></tr>\n",
       "\t<tr><th scope=row>3</th><td>0</td><td>2</td><td>1</td><td>13.0000</td><td>FALSE</td><td>FALSE</td><td> TRUE</td></tr>\n",
       "\t<tr><th scope=row>4</th><td>0</td><td>2</td><td>0</td><td>26.0000</td><td>FALSE</td><td>FALSE</td><td> TRUE</td></tr>\n",
       "\t<tr><th scope=row>5</th><td>0</td><td>3</td><td>0</td><td> 7.2292</td><td> TRUE</td><td>FALSE</td><td>FALSE</td></tr>\n",
       "\t<tr><th scope=row>6</th><td>0</td><td>2</td><td>0</td><td>13.0000</td><td>FALSE</td><td>FALSE</td><td> TRUE</td></tr>\n",
       "</tbody>\n",
       "</table>\n"
      ],
      "text/latex": [
       "A data.frame: 6 × 7\n",
       "\\begin{tabular}{r|lllllll}\n",
       "  & Survived & Pclass & SexCode & Fare & Embarked\\_C & Embarked\\_Q & Embarked\\_S\\\\\n",
       "  & <fct> & <int> & <dbl> & <dbl> & <lgl> & <lgl> & <lgl>\\\\\n",
       "\\hline\n",
       "\t1 & 0 & 2 & 0 & 27.0000 & FALSE & FALSE &  TRUE\\\\\n",
       "\t2 & 0 & 3 & 0 &  8.0500 & FALSE & FALSE &  TRUE\\\\\n",
       "\t3 & 0 & 2 & 1 & 13.0000 & FALSE & FALSE &  TRUE\\\\\n",
       "\t4 & 0 & 2 & 0 & 26.0000 & FALSE & FALSE &  TRUE\\\\\n",
       "\t5 & 0 & 3 & 0 &  7.2292 &  TRUE & FALSE & FALSE\\\\\n",
       "\t6 & 0 & 2 & 0 & 13.0000 & FALSE & FALSE &  TRUE\\\\\n",
       "\\end{tabular}\n"
      ],
      "text/markdown": [
       "\n",
       "A data.frame: 6 × 7\n",
       "\n",
       "| <!--/--> | Survived &lt;fct&gt; | Pclass &lt;int&gt; | SexCode &lt;dbl&gt; | Fare &lt;dbl&gt; | Embarked_C &lt;lgl&gt; | Embarked_Q &lt;lgl&gt; | Embarked_S &lt;lgl&gt; |\n",
       "|---|---|---|---|---|---|---|---|\n",
       "| 1 | 0 | 2 | 0 | 27.0000 | FALSE | FALSE |  TRUE |\n",
       "| 2 | 0 | 3 | 0 |  8.0500 | FALSE | FALSE |  TRUE |\n",
       "| 3 | 0 | 2 | 1 | 13.0000 | FALSE | FALSE |  TRUE |\n",
       "| 4 | 0 | 2 | 0 | 26.0000 | FALSE | FALSE |  TRUE |\n",
       "| 5 | 0 | 3 | 0 |  7.2292 |  TRUE | FALSE | FALSE |\n",
       "| 6 | 0 | 2 | 0 | 13.0000 | FALSE | FALSE |  TRUE |\n",
       "\n"
      ],
      "text/plain": [
       "  Survived Pclass SexCode Fare    Embarked_C Embarked_Q Embarked_S\n",
       "1 0        2      0       27.0000 FALSE      FALSE       TRUE     \n",
       "2 0        3      0        8.0500 FALSE      FALSE       TRUE     \n",
       "3 0        2      1       13.0000 FALSE      FALSE       TRUE     \n",
       "4 0        2      0       26.0000 FALSE      FALSE       TRUE     \n",
       "5 0        3      0        7.2292  TRUE      FALSE      FALSE     \n",
       "6 0        2      0       13.0000 FALSE      FALSE       TRUE     "
      ]
     },
     "metadata": {},
     "output_type": "display_data"
    },
    {
     "data": {
      "text/html": [
       "<table>\n",
       "<caption>A data.frame: 6 × 7</caption>\n",
       "<thead>\n",
       "\t<tr><th></th><th scope=col>Survived</th><th scope=col>Pclass</th><th scope=col>SexCode</th><th scope=col>Fare</th><th scope=col>Embarked_C</th><th scope=col>Embarked_Q</th><th scope=col>Embarked_S</th></tr>\n",
       "\t<tr><th></th><th scope=col>&lt;fct&gt;</th><th scope=col>&lt;int&gt;</th><th scope=col>&lt;dbl&gt;</th><th scope=col>&lt;dbl&gt;</th><th scope=col>&lt;lgl&gt;</th><th scope=col>&lt;lgl&gt;</th><th scope=col>&lt;lgl&gt;</th></tr>\n",
       "</thead>\n",
       "<tbody>\n",
       "\t<tr><th scope=row>679</th><td>1</td><td>2</td><td>1</td><td> 26.0000</td><td>FALSE</td><td>FALSE</td><td> TRUE</td></tr>\n",
       "\t<tr><th scope=row>680</th><td>1</td><td>3</td><td>1</td><td>  7.2500</td><td>FALSE</td><td>FALSE</td><td> TRUE</td></tr>\n",
       "\t<tr><th scope=row>681</th><td>1</td><td>1</td><td>1</td><td>164.8667</td><td>FALSE</td><td>FALSE</td><td> TRUE</td></tr>\n",
       "\t<tr><th scope=row>682</th><td>1</td><td>3</td><td>1</td><td>  7.7500</td><td>FALSE</td><td> TRUE</td><td>FALSE</td></tr>\n",
       "\t<tr><th scope=row>683</th><td>1</td><td>2</td><td>1</td><td> 41.5792</td><td> TRUE</td><td>FALSE</td><td>FALSE</td></tr>\n",
       "\t<tr><th scope=row>684</th><td>1</td><td>2</td><td>1</td><td> 21.0000</td><td>FALSE</td><td>FALSE</td><td> TRUE</td></tr>\n",
       "</tbody>\n",
       "</table>\n"
      ],
      "text/latex": [
       "A data.frame: 6 × 7\n",
       "\\begin{tabular}{r|lllllll}\n",
       "  & Survived & Pclass & SexCode & Fare & Embarked\\_C & Embarked\\_Q & Embarked\\_S\\\\\n",
       "  & <fct> & <int> & <dbl> & <dbl> & <lgl> & <lgl> & <lgl>\\\\\n",
       "\\hline\n",
       "\t679 & 1 & 2 & 1 &  26.0000 & FALSE & FALSE &  TRUE\\\\\n",
       "\t680 & 1 & 3 & 1 &   7.2500 & FALSE & FALSE &  TRUE\\\\\n",
       "\t681 & 1 & 1 & 1 & 164.8667 & FALSE & FALSE &  TRUE\\\\\n",
       "\t682 & 1 & 3 & 1 &   7.7500 & FALSE &  TRUE & FALSE\\\\\n",
       "\t683 & 1 & 2 & 1 &  41.5792 &  TRUE & FALSE & FALSE\\\\\n",
       "\t684 & 1 & 2 & 1 &  21.0000 & FALSE & FALSE &  TRUE\\\\\n",
       "\\end{tabular}\n"
      ],
      "text/markdown": [
       "\n",
       "A data.frame: 6 × 7\n",
       "\n",
       "| <!--/--> | Survived &lt;fct&gt; | Pclass &lt;int&gt; | SexCode &lt;dbl&gt; | Fare &lt;dbl&gt; | Embarked_C &lt;lgl&gt; | Embarked_Q &lt;lgl&gt; | Embarked_S &lt;lgl&gt; |\n",
       "|---|---|---|---|---|---|---|---|\n",
       "| 679 | 1 | 2 | 1 |  26.0000 | FALSE | FALSE |  TRUE |\n",
       "| 680 | 1 | 3 | 1 |   7.2500 | FALSE | FALSE |  TRUE |\n",
       "| 681 | 1 | 1 | 1 | 164.8667 | FALSE | FALSE |  TRUE |\n",
       "| 682 | 1 | 3 | 1 |   7.7500 | FALSE |  TRUE | FALSE |\n",
       "| 683 | 1 | 2 | 1 |  41.5792 |  TRUE | FALSE | FALSE |\n",
       "| 684 | 1 | 2 | 1 |  21.0000 | FALSE | FALSE |  TRUE |\n",
       "\n"
      ],
      "text/plain": [
       "    Survived Pclass SexCode Fare     Embarked_C Embarked_Q Embarked_S\n",
       "679 1        2      1        26.0000 FALSE      FALSE       TRUE     \n",
       "680 1        3      1         7.2500 FALSE      FALSE       TRUE     \n",
       "681 1        1      1       164.8667 FALSE      FALSE       TRUE     \n",
       "682 1        3      1         7.7500 FALSE       TRUE      FALSE     \n",
       "683 1        2      1        41.5792  TRUE      FALSE      FALSE     \n",
       "684 1        2      1        21.0000 FALSE      FALSE       TRUE     "
      ]
     },
     "metadata": {},
     "output_type": "display_data"
    }
   ],
   "source": [
    "samePropData.ORD <- orderBy(~Survived, samePropData) \n",
    "rownames(samePropData.ORD) <- c()\n",
    "head(samePropData.ORD)\n",
    "tail(samePropData.ORD)"
   ]
  },
  {
   "cell_type": "markdown",
   "metadata": {},
   "source": [
    "### spilit data into train and test set"
   ]
  },
  {
   "cell_type": "code",
   "execution_count": 109,
   "metadata": {},
   "outputs": [],
   "source": [
    "newSamp <-c(sample(1:342, 239), sample(343:684, 239))\n",
    "data.train <- samePropData.ORD[newSamp,]\n",
    "data.test <- samePropData.ORD[-newSamp,]"
   ]
  },
  {
   "cell_type": "code",
   "execution_count": 110,
   "metadata": {},
   "outputs": [
    {
     "name": "stdout",
     "output_type": "stream",
     "text": [
      "'data.frame':\t478 obs. of  7 variables:\n",
      " $ Survived  : Factor w/ 2 levels \"0\",\"1\": 1 1 1 1 1 1 1 1 1 1 ...\n",
      " $ Pclass    : int  3 3 3 3 3 3 1 2 3 3 ...\n",
      " $ SexCode   : num  0 0 0 0 0 0 0 0 1 0 ...\n",
      " $ Fare      : num  7.78 8.05 7.75 69.55 7.9 ...\n",
      " $ Embarked_C: logi  FALSE FALSE FALSE FALSE TRUE FALSE ...\n",
      " $ Embarked_Q: logi  FALSE FALSE TRUE FALSE FALSE TRUE ...\n",
      " $ Embarked_S: logi  TRUE TRUE FALSE TRUE FALSE FALSE ...\n"
     ]
    }
   ],
   "source": [
    "str(data.train)"
   ]
  },
  {
   "cell_type": "code",
   "execution_count": 111,
   "metadata": {},
   "outputs": [
    {
     "name": "stdout",
     "output_type": "stream",
     "text": [
      "'data.frame':\t206 obs. of  7 variables:\n",
      " $ Survived  : Factor w/ 2 levels \"0\",\"1\": 1 1 1 1 1 1 1 1 1 1 ...\n",
      " $ Pclass    : int  2 2 3 3 1 3 3 3 3 3 ...\n",
      " $ SexCode   : num  0 0 1 0 0 0 0 1 0 1 ...\n",
      " $ Fare      : num  27 26 24.1 7.9 263 ...\n",
      " $ Embarked_C: logi  FALSE FALSE FALSE FALSE FALSE FALSE ...\n",
      " $ Embarked_Q: logi  FALSE FALSE FALSE FALSE FALSE FALSE ...\n",
      " $ Embarked_S: logi  TRUE TRUE TRUE TRUE TRUE TRUE ...\n"
     ]
    }
   ],
   "source": [
    "str(data.test)"
   ]
  },
  {
   "cell_type": "markdown",
   "metadata": {},
   "source": [
    "### Create features and targets"
   ]
  },
  {
   "cell_type": "code",
   "execution_count": 112,
   "metadata": {},
   "outputs": [],
   "source": [
    "data.features <- subset(data.test, select = -Survived) # test the trained model\n",
    "data.targets  <- subset(data.test, select = Survived)  # answer"
   ]
  },
  {
   "cell_type": "markdown",
   "metadata": {},
   "source": [
    "### Implement Machine Learning with adjusted data"
   ]
  },
  {
   "cell_type": "code",
   "execution_count": 113,
   "metadata": {},
   "outputs": [],
   "source": [
    "data = data.train             # train: data contains questions and answers \n",
    "feature = data.features           # question data\n",
    "target = data.targets$Survived    # answer data\n",
    "\n",
    "ntree = 100 # randomForest\n",
    "size = 7    # Neutal Network\n",
    "formula <- Survived ~ Pclass + SexCode + Fare + Embarked_C + Embarked_Q + Embarked_S # cTree"
   ]
  },
  {
   "cell_type": "code",
   "execution_count": 114,
   "metadata": {},
   "outputs": [
    {
     "data": {
      "text/html": [
       "<dl class=dl-horizontal>\n",
       "\t<dt>0</dt>\n",
       "\t\t<dd>103</dd>\n",
       "\t<dt>1</dt>\n",
       "\t\t<dd>103</dd>\n",
       "</dl>\n"
      ],
      "text/latex": [
       "\\begin{description*}\n",
       "\\item[0] 103\n",
       "\\item[1] 103\n",
       "\\end{description*}\n"
      ],
      "text/markdown": [
       "0\n",
       ":   1031\n",
       ":   103\n",
       "\n"
      ],
      "text/plain": [
       "  0   1 \n",
       "103 103 "
      ]
     },
     "metadata": {},
     "output_type": "display_data"
    }
   ],
   "source": [
    "summary(target)"
   ]
  },
  {
   "cell_type": "markdown",
   "metadata": {},
   "source": [
    "#### randomForest"
   ]
  },
  {
   "cell_type": "code",
   "execution_count": 115,
   "metadata": {},
   "outputs": [
    {
     "data": {
      "text/plain": [
       "\n",
       "Call:\n",
       " randomForest(formula = Survived ~ ., data = data, ntree = 100) \n",
       "               Type of random forest: classification\n",
       "                     Number of trees: 100\n",
       "No. of variables tried at each split: 2\n",
       "\n",
       "        OOB estimate of  error rate: 26.99%\n",
       "Confusion matrix:\n",
       "    0   1 class.error\n",
       "0 187  52   0.2175732\n",
       "1  77 162   0.3221757"
      ]
     },
     "metadata": {},
     "output_type": "display_data"
    },
    {
     "data": {
      "text/plain": [
       "    target\n",
       "pred  0  1\n",
       "   0 83 24\n",
       "   1 20 79"
      ]
     },
     "metadata": {},
     "output_type": "display_data"
    },
    {
     "name": "stdout",
     "output_type": "stream",
     "text": [
      "randomForest (total)   78.64 % \n",
      "randomForest (V)       80.58 % \n",
      "randomForest (S)       76.7 % \n"
     ]
    }
   ],
   "source": [
    "##### Training\n",
    "\n",
    "rf <- randomForest(Survived ~., data, ntree = 100)\n",
    "rf\n",
    "\n",
    "##### predict\n",
    "\n",
    "pred <- predict(rf, feature)\n",
    "\n",
    "##### Accuracy\n",
    "rf.Result <- round(mean(pred == target) * 100, 2)\n",
    "\n",
    "##### Classified Table\n",
    "\n",
    "rf.table <- as.matrix(table(pred, target))\n",
    "rf.table\n",
    "\n",
    "##### Accuracy of each category\n",
    "rf.Result_V <- round((rf.table[1,1])/sum(rf.table[,1])*100, 2)\n",
    "rf.Result_S <- round((rf.table[2,2])/sum(rf.table[,2])*100, 2)\n",
    "\n",
    "#### Summary\n",
    "cat(paste(\"randomForest (total)  \", rf.Result, \"%\"),\"\\n\")\n",
    "cat(paste(\"randomForest (V)      \", rf.Result_V, \"%\"), \"\\n\")\n",
    "cat(paste(\"randomForest (S)      \", rf.Result_S, \"%\"), \"\\n\")"
   ]
  },
  {
   "cell_type": "markdown",
   "metadata": {},
   "source": [
    "#### Neural Networks"
   ]
  },
  {
   "cell_type": "code",
   "execution_count": 116,
   "metadata": {},
   "outputs": [
    {
     "name": "stdout",
     "output_type": "stream",
     "text": [
      "# weights:  57\n",
      "initial  value 442.360539 \n",
      "iter  10 value 300.318812\n",
      "iter  20 value 255.638790\n",
      "iter  30 value 227.610408\n",
      "iter  40 value 222.546113\n",
      "iter  50 value 220.429456\n",
      "iter  60 value 220.065441\n",
      "iter  70 value 220.030821\n",
      "iter  80 value 219.998325\n",
      "iter  90 value 219.808105\n",
      "iter 100 value 219.192109\n",
      "final  value 219.192109 \n",
      "stopped after 100 iterations\n"
     ]
    },
    {
     "data": {
      "text/plain": [
       "a 6-7-1 network with 57 weights\n",
       "inputs: Pclass SexCode Fare Embarked_CTRUE Embarked_QTRUE Embarked_STRUE \n",
       "output(s): Survived \n",
       "options were - entropy fitting "
      ]
     },
     "metadata": {},
     "output_type": "display_data"
    },
    {
     "data": {
      "text/plain": [
       "    target\n",
       "pred  0  1\n",
       "   0 98 44\n",
       "   1  5 59"
      ]
     },
     "metadata": {},
     "output_type": "display_data"
    },
    {
     "name": "stdout",
     "output_type": "stream",
     "text": [
      "Neural Networks (total)    76.21 % \n",
      "Neural Networks (V)        95.15 % \n",
      "Neural Networks(S)         57.28 % \n"
     ]
    }
   ],
   "source": [
    "#### Training\n",
    "nnmodel <- nnet(Survived ~. , data, size = size)\n",
    "nnmodel\n",
    "\n",
    "#### Predict\n",
    "pred <- predict(nnmodel, feature, type = \"class\")\n",
    "\n",
    "##### Accuracy\n",
    "nnet.Result <- round(mean(pred == target) * 100, 2)\n",
    "\n",
    "##### Classified Table\n",
    "nnet.table <- as.matrix(table(pred, target))\n",
    "nnet.table\n",
    "\n",
    "##### Accuracy of each category\n",
    "nnet.Result_V <- round((nnet.table[1,1])/sum(nnet.table[,1])*100, 2)\n",
    "nnet.Result_S <- round((nnet.table[2,2])/sum(nnet.table[,2])*100, 2)\n",
    "\n",
    "#### Summary\n",
    "cat(paste(\"Neural Networks (total)   \", nnet.Result, \"%\"),\"\\n\")\n",
    "cat(paste(\"Neural Networks (V)       \", nnet.Result_V, \"%\"), \"\\n\")\n",
    "cat(paste(\"Neural Networks(S)        \", nnet.Result_S, \"%\"), \"\\n\")"
   ]
  },
  {
   "cell_type": "markdown",
   "metadata": {},
   "source": [
    "#### SVM"
   ]
  },
  {
   "cell_type": "code",
   "execution_count": 117,
   "metadata": {},
   "outputs": [
    {
     "data": {
      "text/plain": [
       "\n",
       "Call:\n",
       "svm(formula = Survived ~ ., data = data)\n",
       "\n",
       "\n",
       "Parameters:\n",
       "   SVM-Type:  C-classification \n",
       " SVM-Kernel:  radial \n",
       "       cost:  1 \n",
       "\n",
       "Number of Support Vectors:  247\n"
      ]
     },
     "metadata": {},
     "output_type": "display_data"
    },
    {
     "data": {
      "text/plain": [
       "    target\n",
       "pred  0  1\n",
       "   0 86 31\n",
       "   1 17 72"
      ]
     },
     "metadata": {},
     "output_type": "display_data"
    },
    {
     "name": "stdout",
     "output_type": "stream",
     "text": [
      "SVM (total)                76.7 % \n",
      "SVM (V)                    83.5 % \n",
      "SVM (S)                    69.9 % \n"
     ]
    }
   ],
   "source": [
    "#### Training\n",
    "svmmodel <- svm(Survived ~. , data)\n",
    "svmmodel\n",
    "\n",
    "#### Predict\n",
    "pred <- predict(svmmodel, feature)\n",
    "\n",
    "#### Accuracy\n",
    "svm.Result <- round(mean(pred == target) * 100, 2)\n",
    "\n",
    "#### Classified Table\n",
    "table(pred, target)\n",
    "svm.table <- as.matrix(table(pred, target))\n",
    "\n",
    "##### Accuracy of each category\n",
    "svm.Result_V <- round((svm.table[1,1])/sum(svm.table[,1])*100, 2)\n",
    "svm.Result_S <- round((svm.table[2,2])/sum(svm.table[,2])*100, 2)\n",
    "\n",
    "#### Summary\n",
    "cat(paste(\"SVM (total)               \", svm.Result, \"%\"),\"\\n\")\n",
    "cat(paste(\"SVM (V)                   \", svm.Result_V, \"%\"), \"\\n\")\n",
    "cat(paste(\"SVM (S)                   \", svm.Result_S, \"%\"), \"\\n\")"
   ]
  },
  {
   "cell_type": "markdown",
   "metadata": {},
   "source": [
    "#### cTree"
   ]
  },
  {
   "cell_type": "code",
   "execution_count": 118,
   "metadata": {},
   "outputs": [
    {
     "data": {
      "text/plain": [
       "    target\n",
       "pred   0   1\n",
       "   0 100  45\n",
       "   1   3  58"
      ]
     },
     "metadata": {},
     "output_type": "display_data"
    },
    {
     "name": "stdout",
     "output_type": "stream",
     "text": [
      "cTree (total)              76.7 % \n",
      "cTree (V)                  97.09 % \n",
      "cTree (S)                  56.31 % \n"
     ]
    }
   ],
   "source": [
    "#### Training\n",
    "ctmodel <- ctree(formula, data)\n",
    "\n",
    "#### Predict\n",
    "pred <- predict(ctmodel, feature)\n",
    "\n",
    "#### Accuracy\n",
    "ct.Result <- round(mean(pred == target) * 100, 2)\n",
    "\n",
    "#### Classified Table\n",
    "table(pred, target)\n",
    "ct.table <- as.matrix(table(pred, target))\n",
    "\n",
    "##### Accuracy of each category\n",
    "ct.Result_V <- round((ct.table[1,1])/sum(ct.table[,1])*100, 2)\n",
    "ct.Result_S <- round((ct.table[2,2])/sum(ct.table[,2])*100, 2)\n",
    "\n",
    "#### Summary\n",
    "cat(paste(\"cTree (total)             \", ct.Result, \"%\"),\"\\n\")\n",
    "cat(paste(\"cTree (V)                 \", ct.Result_V, \"%\"), \"\\n\")\n",
    "cat(paste(\"cTree (S)                 \", ct.Result_S, \"%\"), \"\\n\")"
   ]
  },
  {
   "cell_type": "markdown",
   "metadata": {},
   "source": [
    "#### Logistic Regression"
   ]
  },
  {
   "cell_type": "code",
   "execution_count": 119,
   "metadata": {},
   "outputs": [
    {
     "name": "stdout",
     "output_type": "stream",
     "text": [
      "# weights:  8 (7 variable)\n",
      "initial  value 331.324352 \n",
      "iter  10 value 236.119496\n",
      "final  value 236.119058 \n",
      "converged\n"
     ]
    },
    {
     "data": {
      "text/plain": [
       "    target\n",
       "pred  0  1\n",
       "   0 80 25\n",
       "   1 23 78"
      ]
     },
     "metadata": {},
     "output_type": "display_data"
    },
    {
     "name": "stdout",
     "output_type": "stream",
     "text": [
      "Logistic Regreion (total)  76.7 % \n",
      "Logistic Regreion (V)      77.67 % \n",
      "Logistic Regreion (S)      75.73 % \n"
     ]
    }
   ],
   "source": [
    "##### Training\n",
    "\n",
    "logistRegModel <- multinom(Survived ~., data = data)\n",
    "\n",
    "##### Predict\n",
    "\n",
    "pred <- predict(logistRegModel, feature)\n",
    "\n",
    "#### Accuracy\n",
    "lr.Result <- round(mean(pred == target) * 100, 2)\n",
    "\n",
    "#### Classified Table\n",
    "table(pred, target)\n",
    "lr.table <- as.matrix(table(pred, target))\n",
    "\n",
    "##### Accuracy of each category\n",
    "lr.Result_V <- round((lr.table[1,1])/sum(lr.table[,1])*100, 2)\n",
    "lr.Result_S <- round((lr.table[2,2])/sum(lr.table[,2])*100, 2)\n",
    "\n",
    "#### Summary\n",
    "cat(paste(\"Logistic Regreion (total) \", lr.Result, \"%\"),\"\\n\")\n",
    "cat(paste(\"Logistic Regreion (V)     \", lr.Result_V, \"%\"), \"\\n\")\n",
    "cat(paste(\"Logistic Regreion (S)     \", lr.Result_S, \"%\"), \"\\n\")"
   ]
  },
  {
   "cell_type": "markdown",
   "metadata": {},
   "source": [
    "### Summary"
   ]
  },
  {
   "cell_type": "code",
   "execution_count": 120,
   "metadata": {},
   "outputs": [
    {
     "name": "stdout",
     "output_type": "stream",
     "text": [
      "randomForest (total)       78.64 % \n",
      "randomForest (V)           80.58 % \n",
      "randomForest (S)           76.7 % \n",
      "================================== \n",
      "Neural Networks (total)    76.21 % \n",
      "Neural Networks (V)        95.15 % \n",
      "Neural Networks(S)         57.28 % \n",
      "================================== \n",
      "SVM (total)                76.7 % \n",
      "SVM (V)                    83.5 % \n",
      "SVM (S)                    69.9 % \n",
      "================================== \n",
      "cTree (total)              76.7 % \n",
      "cTree (V)                  97.09 % \n",
      "cTree (S)                  56.31 % \n",
      "================================== \n",
      "Logistic Regreion (total)  76.7 % \n",
      "Logistic Regreion (V)      77.67 % \n",
      "Logistic Regreion (S)      75.73 % \n"
     ]
    }
   ],
   "source": [
    "cat(paste(\"randomForest (total)      \", rf.Result, \"%\"),\"\\n\")\n",
    "cat(paste(\"randomForest (V)          \", rf.Result_V, \"%\"), \"\\n\")\n",
    "cat(paste(\"randomForest (S)          \", rf.Result_S, \"%\"), \"\\n\")\n",
    "cat(paste(\"==================================\",\"\\n\"))\n",
    "\n",
    "cat(paste(\"Neural Networks (total)   \", nnet.Result, \"%\"),\"\\n\")\n",
    "cat(paste(\"Neural Networks (V)       \", nnet.Result_V, \"%\"), \"\\n\")\n",
    "cat(paste(\"Neural Networks(S)        \", nnet.Result_S, \"%\"), \"\\n\")\n",
    "cat(paste(\"==================================\",\"\\n\"))\n",
    "\n",
    "cat(paste(\"SVM (total)               \", svm.Result, \"%\"),\"\\n\")\n",
    "cat(paste(\"SVM (V)                   \", svm.Result_V, \"%\"), \"\\n\")\n",
    "cat(paste(\"SVM (S)                   \", svm.Result_S, \"%\"), \"\\n\")\n",
    "cat(paste(\"==================================\",\"\\n\"))\n",
    "\n",
    "cat(paste(\"cTree (total)             \", ct.Result, \"%\"),\"\\n\")\n",
    "cat(paste(\"cTree (V)                 \", ct.Result_V, \"%\"), \"\\n\")\n",
    "cat(paste(\"cTree (S)                 \", ct.Result_S, \"%\"), \"\\n\")\n",
    "cat(paste(\"==================================\",\"\\n\"))\n",
    "\n",
    "cat(paste(\"Logistic Regreion (total) \", lr.Result, \"%\"),\"\\n\")\n",
    "cat(paste(\"Logistic Regreion (V)     \", lr.Result_V, \"%\"), \"\\n\")\n",
    "cat(paste(\"Logistic Regreion (S)     \", lr.Result_S, \"%\"), \"\\n\")\n"
   ]
  },
  {
   "cell_type": "code",
   "execution_count": null,
   "metadata": {},
   "outputs": [],
   "source": []
  },
  {
   "cell_type": "code",
   "execution_count": 121,
   "metadata": {},
   "outputs": [],
   "source": [
    "# cf) Original Dataset\n",
    "# # set.seed(12345)\n",
    "# randomForest (total)       79.48 % \n",
    "# randomForest (V)           95.15 % \n",
    "# randomForest (S)           54.37 % \n",
    "# ================================== \n",
    "# Neural Networks (total)    78.36 % \n",
    "# Neural Networks (V)        92.12 % \n",
    "# Neural Networks(S)         56.31 % \n",
    "# ================================== \n",
    "# SVM (total)                79.85 % <-\n",
    "# SVM (V)                    94.55 % \n",
    "# SVM (S)                    56.31 % \n",
    "# ================================== \n",
    "# cTree (total)              79.48 % \n",
    "# cTree (V)                  94.55 % \n",
    "# cTree (S)                  55.34 % \n",
    "# ================================== \n",
    "# Logistic Regreion (total)  78.36 % \n",
    "# Logistic Regreion (V)      83.03 % \n",
    "# Logistic Regreion (S)      70.87 % \n",
    "\n",
    "## V:S = 5:5\n",
    "# # set.seed(12345)\n",
    "# randomForest (total)       78.64 % <-\n",
    "# randomForest (V)           86.41 % \n",
    "# randomForest (S)           70.87 % \n",
    "# ================================== \n",
    "# Neural Networks (total)    75.73 % \n",
    "# Neural Networks (V)        89.32 % \n",
    "# Neural Networks(S)         62.14 % \n",
    "# ================================== \n",
    "# SVM (total)                76.7 % \n",
    "# SVM (V)                    83.5 % \n",
    "# SVM (S)                    69.9 % \n",
    "# ================================== \n",
    "# cTree (total)              76.7 % \n",
    "# cTree (V)                  97.09 % \n",
    "# cTree (S)                  56.31 % \n",
    "# ================================== \n",
    "# Logistic Regreion (total)  76.7 % \n",
    "# Logistic Regreion (V)      77.67 % \n",
    "# Logistic Regreion (S)      75.73 % "
   ]
  },
  {
   "cell_type": "markdown",
   "metadata": {},
   "source": [
    "In general, ML with original dataset shows better prediction result, while the accuracy of survivors is higher in adjusted dataset. So, let's keep the original dataset and see how the result is going to differ without Fare column."
   ]
  },
  {
   "cell_type": "markdown",
   "metadata": {},
   "source": [
    "## Case 3: dataset without Fare Column"
   ]
  },
  {
   "cell_type": "markdown",
   "metadata": {},
   "source": [
    "### Select relevant columns (excluding Fare)"
   ]
  },
  {
   "cell_type": "code",
   "execution_count": 122,
   "metadata": {},
   "outputs": [
    {
     "data": {
      "text/html": [
       "<table>\n",
       "<caption>A data.frame: 6 × 6</caption>\n",
       "<thead>\n",
       "\t<tr><th></th><th scope=col>Survived</th><th scope=col>Pclass</th><th scope=col>SexCode</th><th scope=col>Embarked_C</th><th scope=col>Embarked_Q</th><th scope=col>Embarked_S</th></tr>\n",
       "\t<tr><th></th><th scope=col>&lt;fct&gt;</th><th scope=col>&lt;int&gt;</th><th scope=col>&lt;dbl&gt;</th><th scope=col>&lt;lgl&gt;</th><th scope=col>&lt;lgl&gt;</th><th scope=col>&lt;lgl&gt;</th></tr>\n",
       "</thead>\n",
       "<tbody>\n",
       "\t<tr><th scope=row>1</th><td>0</td><td>3</td><td>0</td><td>FALSE</td><td>FALSE</td><td> TRUE</td></tr>\n",
       "\t<tr><th scope=row>2</th><td>0</td><td>3</td><td>0</td><td>FALSE</td><td>FALSE</td><td> TRUE</td></tr>\n",
       "\t<tr><th scope=row>3</th><td>0</td><td>3</td><td>0</td><td>FALSE</td><td> TRUE</td><td>FALSE</td></tr>\n",
       "\t<tr><th scope=row>4</th><td>0</td><td>1</td><td>0</td><td>FALSE</td><td>FALSE</td><td> TRUE</td></tr>\n",
       "\t<tr><th scope=row>5</th><td>0</td><td>3</td><td>0</td><td>FALSE</td><td>FALSE</td><td> TRUE</td></tr>\n",
       "\t<tr><th scope=row>6</th><td>0</td><td>3</td><td>0</td><td>FALSE</td><td>FALSE</td><td> TRUE</td></tr>\n",
       "</tbody>\n",
       "</table>\n"
      ],
      "text/latex": [
       "A data.frame: 6 × 6\n",
       "\\begin{tabular}{r|llllll}\n",
       "  & Survived & Pclass & SexCode & Embarked\\_C & Embarked\\_Q & Embarked\\_S\\\\\n",
       "  & <fct> & <int> & <dbl> & <lgl> & <lgl> & <lgl>\\\\\n",
       "\\hline\n",
       "\t1 & 0 & 3 & 0 & FALSE & FALSE &  TRUE\\\\\n",
       "\t2 & 0 & 3 & 0 & FALSE & FALSE &  TRUE\\\\\n",
       "\t3 & 0 & 3 & 0 & FALSE &  TRUE & FALSE\\\\\n",
       "\t4 & 0 & 1 & 0 & FALSE & FALSE &  TRUE\\\\\n",
       "\t5 & 0 & 3 & 0 & FALSE & FALSE &  TRUE\\\\\n",
       "\t6 & 0 & 3 & 0 & FALSE & FALSE &  TRUE\\\\\n",
       "\\end{tabular}\n"
      ],
      "text/markdown": [
       "\n",
       "A data.frame: 6 × 6\n",
       "\n",
       "| <!--/--> | Survived &lt;fct&gt; | Pclass &lt;int&gt; | SexCode &lt;dbl&gt; | Embarked_C &lt;lgl&gt; | Embarked_Q &lt;lgl&gt; | Embarked_S &lt;lgl&gt; |\n",
       "|---|---|---|---|---|---|---|\n",
       "| 1 | 0 | 3 | 0 | FALSE | FALSE |  TRUE |\n",
       "| 2 | 0 | 3 | 0 | FALSE | FALSE |  TRUE |\n",
       "| 3 | 0 | 3 | 0 | FALSE |  TRUE | FALSE |\n",
       "| 4 | 0 | 1 | 0 | FALSE | FALSE |  TRUE |\n",
       "| 5 | 0 | 3 | 0 | FALSE | FALSE |  TRUE |\n",
       "| 6 | 0 | 3 | 0 | FALSE | FALSE |  TRUE |\n",
       "\n"
      ],
      "text/plain": [
       "  Survived Pclass SexCode Embarked_C Embarked_Q Embarked_S\n",
       "1 0        3      0       FALSE      FALSE       TRUE     \n",
       "2 0        3      0       FALSE      FALSE       TRUE     \n",
       "3 0        3      0       FALSE       TRUE      FALSE     \n",
       "4 0        1      0       FALSE      FALSE       TRUE     \n",
       "5 0        3      0       FALSE      FALSE       TRUE     \n",
       "6 0        3      0       FALSE      FALSE       TRUE     "
      ]
     },
     "metadata": {},
     "output_type": "display_data"
    }
   ],
   "source": [
    "colTrain_noFare <- c(\"Survived\", \"Pclass\", \"SexCode\", \"Embarked_C\", \"Embarked_Q\", \"Embarked_S\") #to exclude Fare\n",
    "trainData <- trainData[colTrain_noFare]\n",
    "head(trainData)"
   ]
  },
  {
   "cell_type": "markdown",
   "metadata": {},
   "source": [
    "### Spilit data into train and test set"
   ]
  },
  {
   "cell_type": "code",
   "execution_count": 123,
   "metadata": {},
   "outputs": [
    {
     "data": {
      "text/html": [
       "549"
      ],
      "text/latex": [
       "549"
      ],
      "text/markdown": [
       "549"
      ],
      "text/plain": [
       "[1] 549"
      ]
     },
     "metadata": {},
     "output_type": "display_data"
    },
    {
     "data": {
      "text/html": [
       "342"
      ],
      "text/latex": [
       "342"
      ],
      "text/markdown": [
       "342"
      ],
      "text/plain": [
       "[1] 342"
      ]
     },
     "metadata": {},
     "output_type": "display_data"
    },
    {
     "data": {
      "text/html": [
       "384.3"
      ],
      "text/latex": [
       "384.3"
      ],
      "text/markdown": [
       "384.3"
      ],
      "text/plain": [
       "[1] 384.3"
      ]
     },
     "metadata": {},
     "output_type": "display_data"
    },
    {
     "data": {
      "text/html": [
       "239.4"
      ],
      "text/latex": [
       "239.4"
      ],
      "text/markdown": [
       "239.4"
      ],
      "text/plain": [
       "[1] 239.4"
      ]
     },
     "metadata": {},
     "output_type": "display_data"
    }
   ],
   "source": [
    "nrow(subset(trainData, Survived == 0))\n",
    "nrow(subset(trainData, Survived == 1))\n",
    "\n",
    "nrow(subset(trainData, Survived == 0))*0.7 # 384\n",
    "nrow(subset(trainData, Survived == 1))*0.7 # 239\n",
    "\n",
    "set.seed(12)\n",
    "samp <- c(sample(1:549, 384), sample(550:891, 239))\n",
    "data.train <- trainData[samp,]\n",
    "data.test  <- trainData[-samp,]\n",
    "# head(data.train)\n",
    "# head(data.test)"
   ]
  },
  {
   "cell_type": "markdown",
   "metadata": {},
   "source": [
    "### Create features and targers"
   ]
  },
  {
   "cell_type": "code",
   "execution_count": 124,
   "metadata": {},
   "outputs": [],
   "source": [
    "data.features <- subset(data.test, select = -Survived) # test the trained model\n",
    "data.targets  <- subset(data.test, select = Survived)  # answer"
   ]
  },
  {
   "cell_type": "markdown",
   "metadata": {},
   "source": [
    "### Implement Machine Learning"
   ]
  },
  {
   "cell_type": "code",
   "execution_count": 125,
   "metadata": {},
   "outputs": [],
   "source": [
    "data = data.train             # train: data contains questions and answers \n",
    "feature = data.features           # question data\n",
    "target = data.targets$Survived    # answer data\n",
    "\n",
    "ntree = 100 # randomForest\n",
    "size = 7    # Neutal Network\n",
    "formula <- Survived ~ Pclass + SexCode + Embarked_C + Embarked_Q + Embarked_S # cTree"
   ]
  },
  {
   "cell_type": "markdown",
   "metadata": {},
   "source": [
    "#### randomForest"
   ]
  },
  {
   "cell_type": "code",
   "execution_count": 126,
   "metadata": {},
   "outputs": [
    {
     "data": {
      "text/plain": [
       "\n",
       "Call:\n",
       " randomForest(formula = Survived ~ ., data = data, ntree = 100) \n",
       "               Type of random forest: classification\n",
       "                     Number of trees: 100\n",
       "No. of variables tried at each split: 2\n",
       "\n",
       "        OOB estimate of  error rate: 19.1%\n",
       "Confusion matrix:\n",
       "    0   1 class.error\n",
       "0 368  16  0.04166667\n",
       "1 103 136  0.43096234"
      ]
     },
     "metadata": {},
     "output_type": "display_data"
    },
    {
     "data": {
      "text/plain": [
       "    target\n",
       "pred   0   1\n",
       "   0 158  51\n",
       "   1   7  52"
      ]
     },
     "metadata": {},
     "output_type": "display_data"
    },
    {
     "name": "stdout",
     "output_type": "stream",
     "text": [
      "randomForest (total)   78.36 % \n",
      "randomForest (V)       95.76 % \n",
      "randomForest (S)       50.49 % \n"
     ]
    }
   ],
   "source": [
    "##### Training\n",
    "\n",
    "rf <- randomForest(Survived ~., data, ntree = 100)\n",
    "rf\n",
    "\n",
    "##### predict\n",
    "\n",
    "pred <- predict(rf, feature)\n",
    "\n",
    "##### Accuracy\n",
    "rf.Result <- round(mean(pred == target) * 100, 2)\n",
    "\n",
    "##### Classified Table\n",
    "\n",
    "rf.table <- as.matrix(table(pred, target))\n",
    "rf.table\n",
    "\n",
    "##### Accuracy of each category\n",
    "rf.Result_V <- round((rf.table[1,1])/sum(rf.table[,1])*100, 2)\n",
    "rf.Result_S <- round((rf.table[2,2])/sum(rf.table[,2])*100, 2)\n",
    "\n",
    "#### Summary\n",
    "cat(paste(\"randomForest (total)  \", rf.Result, \"%\"),\"\\n\")\n",
    "cat(paste(\"randomForest (V)      \", rf.Result_V, \"%\"), \"\\n\")\n",
    "cat(paste(\"randomForest (S)      \", rf.Result_S, \"%\"), \"\\n\")"
   ]
  },
  {
   "cell_type": "markdown",
   "metadata": {},
   "source": [
    "#### Neural Networks"
   ]
  },
  {
   "cell_type": "code",
   "execution_count": 127,
   "metadata": {},
   "outputs": [
    {
     "name": "stdout",
     "output_type": "stream",
     "text": [
      "# weights:  50\n",
      "initial  value 467.346281 \n",
      "iter  10 value 269.084197\n",
      "iter  20 value 264.890301\n",
      "iter  30 value 264.606971\n",
      "iter  40 value 264.315353\n",
      "iter  50 value 264.244322\n",
      "iter  60 value 264.228415\n",
      "iter  70 value 264.170689\n",
      "iter  80 value 264.145068\n",
      "iter  90 value 264.122448\n",
      "iter 100 value 264.110369\n",
      "final  value 264.110369 \n",
      "stopped after 100 iterations\n"
     ]
    },
    {
     "data": {
      "text/plain": [
       "a 5-7-1 network with 50 weights\n",
       "inputs: Pclass SexCode Embarked_CTRUE Embarked_QTRUE Embarked_STRUE \n",
       "output(s): Survived \n",
       "options were - entropy fitting "
      ]
     },
     "metadata": {},
     "output_type": "display_data"
    },
    {
     "data": {
      "text/plain": [
       "    target\n",
       "pred   0   1\n",
       "   0 157  44\n",
       "   1   8  59"
      ]
     },
     "metadata": {},
     "output_type": "display_data"
    },
    {
     "name": "stdout",
     "output_type": "stream",
     "text": [
      "Neural Networks (total)    80.6 % \n",
      "Neural Networks (V)        95.15 % \n",
      "Neural Networks(S)         57.28 % \n"
     ]
    }
   ],
   "source": [
    "#### Training\n",
    "nnmodel <- nnet(Survived ~. , data, size = size)\n",
    "nnmodel\n",
    "\n",
    "#### Predict\n",
    "pred <- predict(nnmodel, feature, type = \"class\")\n",
    "\n",
    "##### Accuracy\n",
    "nnet.Result <- round(mean(pred == target) * 100, 2)\n",
    "\n",
    "##### Classified Table\n",
    "nnet.table <- as.matrix(table(pred, target))\n",
    "nnet.table\n",
    "\n",
    "##### Accuracy of each category\n",
    "nnet.Result_V <- round((nnet.table[1,1])/sum(nnet.table[,1])*100, 2)\n",
    "nnet.Result_S <- round((nnet.table[2,2])/sum(nnet.table[,2])*100, 2)\n",
    "\n",
    "#### Summary\n",
    "cat(paste(\"Neural Networks (total)   \", nnet.Result, \"%\"),\"\\n\")\n",
    "cat(paste(\"Neural Networks (V)       \", nnet.Result_V, \"%\"), \"\\n\")\n",
    "cat(paste(\"Neural Networks(S)        \", nnet.Result_S, \"%\"), \"\\n\")"
   ]
  },
  {
   "cell_type": "markdown",
   "metadata": {},
   "source": [
    "#### SVM"
   ]
  },
  {
   "cell_type": "code",
   "execution_count": 128,
   "metadata": {},
   "outputs": [
    {
     "data": {
      "text/plain": [
       "\n",
       "Call:\n",
       "svm(formula = Survived ~ ., data = data)\n",
       "\n",
       "\n",
       "Parameters:\n",
       "   SVM-Type:  C-classification \n",
       " SVM-Kernel:  radial \n",
       "       cost:  1 \n",
       "\n",
       "Number of Support Vectors:  265\n"
      ]
     },
     "metadata": {},
     "output_type": "display_data"
    },
    {
     "data": {
      "text/plain": [
       "    target\n",
       "pred   0   1\n",
       "   0 159  53\n",
       "   1   6  50"
      ]
     },
     "metadata": {},
     "output_type": "display_data"
    },
    {
     "name": "stdout",
     "output_type": "stream",
     "text": [
      "SVM (total)                77.99 % \n",
      "SVM (V)                    96.36 % \n",
      "SVM (S)                    48.54 % \n"
     ]
    }
   ],
   "source": [
    "#### Training\n",
    "svmmodel <- svm(Survived ~. , data)\n",
    "svmmodel\n",
    "\n",
    "#### Predict\n",
    "pred <- predict(svmmodel, feature)\n",
    "\n",
    "#### Accuracy\n",
    "svm.Result <- round(mean(pred == target) * 100, 2)\n",
    "\n",
    "#### Classified Table\n",
    "table(pred, target)\n",
    "svm.table <- as.matrix(table(pred, target))\n",
    "\n",
    "##### Accuracy of each category\n",
    "svm.Result_V <- round((svm.table[1,1])/sum(svm.table[,1])*100, 2)\n",
    "svm.Result_S <- round((svm.table[2,2])/sum(svm.table[,2])*100, 2)\n",
    "\n",
    "#### Summary\n",
    "cat(paste(\"SVM (total)               \", svm.Result, \"%\"),\"\\n\")\n",
    "cat(paste(\"SVM (V)                   \", svm.Result_V, \"%\"), \"\\n\")\n",
    "cat(paste(\"SVM (S)                   \", svm.Result_S, \"%\"), \"\\n\")"
   ]
  },
  {
   "cell_type": "markdown",
   "metadata": {},
   "source": [
    "#### cTree"
   ]
  },
  {
   "cell_type": "code",
   "execution_count": 129,
   "metadata": {},
   "outputs": [
    {
     "data": {
      "text/plain": [
       "    target\n",
       "pred   0   1\n",
       "   0 159  53\n",
       "   1   6  50"
      ]
     },
     "metadata": {},
     "output_type": "display_data"
    },
    {
     "name": "stdout",
     "output_type": "stream",
     "text": [
      "cTree (total)              77.99 % \n",
      "cTree (V)                  96.36 % \n",
      "cTree (S)                  48.54 % \n"
     ]
    }
   ],
   "source": [
    "#### Training\n",
    "ctmodel <- ctree(formula, data)\n",
    "\n",
    "#### Predict\n",
    "pred <- predict(ctmodel, feature)\n",
    "\n",
    "#### Accuracy\n",
    "ct.Result <- round(mean(pred == target) * 100, 2)\n",
    "\n",
    "#### Classified Table\n",
    "table(pred, target)\n",
    "ct.table <- as.matrix(table(pred, target))\n",
    "\n",
    "##### Accuracy of each category\n",
    "ct.Result_V <- round((ct.table[1,1])/sum(ct.table[,1])*100, 2)\n",
    "ct.Result_S <- round((ct.table[2,2])/sum(ct.table[,2])*100, 2)\n",
    "\n",
    "#### Summary\n",
    "cat(paste(\"cTree (total)             \", ct.Result, \"%\"),\"\\n\")\n",
    "cat(paste(\"cTree (V)                 \", ct.Result_V, \"%\"), \"\\n\")\n",
    "cat(paste(\"cTree (S)                 \", ct.Result_S, \"%\"), \"\\n\")"
   ]
  },
  {
   "cell_type": "markdown",
   "metadata": {},
   "source": [
    "#### Logistic Regression"
   ]
  },
  {
   "cell_type": "code",
   "execution_count": 130,
   "metadata": {},
   "outputs": [
    {
     "name": "stdout",
     "output_type": "stream",
     "text": [
      "# weights:  7 (6 variable)\n",
      "initial  value 431.830693 \n",
      "iter  10 value 282.254771\n",
      "final  value 282.254413 \n",
      "converged\n"
     ]
    },
    {
     "data": {
      "text/plain": [
       "    target\n",
       "pred   0   1\n",
       "   0 137  35\n",
       "   1  28  68"
      ]
     },
     "metadata": {},
     "output_type": "display_data"
    },
    {
     "name": "stdout",
     "output_type": "stream",
     "text": [
      "Logistic Regreion (total)  76.49 % \n",
      "Logistic Regreion (V)      83.03 % \n",
      "Logistic Regreion (S)      66.02 % \n"
     ]
    }
   ],
   "source": [
    "##### Training\n",
    "\n",
    "logistRegModel <- multinom(Survived ~., data = data)\n",
    "\n",
    "##### Predict\n",
    "\n",
    "pred <- predict(logistRegModel, feature)\n",
    "\n",
    "#### Accuracy\n",
    "lr.Result <- round(mean(pred == target) * 100, 2)\n",
    "\n",
    "#### Classified Table\n",
    "table(pred, target)\n",
    "lr.table <- as.matrix(table(pred, target))\n",
    "\n",
    "##### Accuracy of each category\n",
    "lr.Result_V <- round((lr.table[1,1])/sum(lr.table[,1])*100, 2)\n",
    "lr.Result_S <- round((lr.table[2,2])/sum(lr.table[,2])*100, 2)\n",
    "\n",
    "#### Summary\n",
    "cat(paste(\"Logistic Regreion (total) \", lr.Result, \"%\"),\"\\n\")\n",
    "cat(paste(\"Logistic Regreion (V)     \", lr.Result_V, \"%\"), \"\\n\")\n",
    "cat(paste(\"Logistic Regreion (S)     \", lr.Result_S, \"%\"), \"\\n\")"
   ]
  },
  {
   "cell_type": "markdown",
   "metadata": {},
   "source": [
    "### Summary"
   ]
  },
  {
   "cell_type": "code",
   "execution_count": 131,
   "metadata": {},
   "outputs": [
    {
     "name": "stdout",
     "output_type": "stream",
     "text": [
      "randomForest (total)       78.36 % \n",
      "randomForest (V)           95.76 % \n",
      "randomForest (S)           50.49 % \n",
      "================================== \n",
      "Neural Networks (total)    80.6 % \n",
      "Neural Networks (V)        95.15 % \n",
      "Neural Networks(S)         57.28 % \n",
      "================================== \n",
      "SVM (total)                77.99 % \n",
      "SVM (V)                    96.36 % \n",
      "SVM (S)                    48.54 % \n",
      "================================== \n",
      "cTree (total)              77.99 % \n",
      "cTree (V)                  96.36 % \n",
      "cTree (S)                  48.54 % \n",
      "================================== \n",
      "Logistic Regreion (total)  76.49 % \n",
      "Logistic Regreion (V)      83.03 % \n",
      "Logistic Regreion (S)      66.02 % \n"
     ]
    }
   ],
   "source": [
    "cat(paste(\"randomForest (total)      \", rf.Result, \"%\"),\"\\n\")\n",
    "cat(paste(\"randomForest (V)          \", rf.Result_V, \"%\"), \"\\n\")\n",
    "cat(paste(\"randomForest (S)          \", rf.Result_S, \"%\"), \"\\n\")\n",
    "cat(paste(\"==================================\",\"\\n\"))\n",
    "\n",
    "cat(paste(\"Neural Networks (total)   \", nnet.Result, \"%\"),\"\\n\")\n",
    "cat(paste(\"Neural Networks (V)       \", nnet.Result_V, \"%\"), \"\\n\")\n",
    "cat(paste(\"Neural Networks(S)        \", nnet.Result_S, \"%\"), \"\\n\")\n",
    "cat(paste(\"==================================\",\"\\n\"))\n",
    "\n",
    "cat(paste(\"SVM (total)               \", svm.Result, \"%\"),\"\\n\")\n",
    "cat(paste(\"SVM (V)                   \", svm.Result_V, \"%\"), \"\\n\")\n",
    "cat(paste(\"SVM (S)                   \", svm.Result_S, \"%\"), \"\\n\")\n",
    "cat(paste(\"==================================\",\"\\n\"))\n",
    "\n",
    "cat(paste(\"cTree (total)             \", ct.Result, \"%\"),\"\\n\")\n",
    "cat(paste(\"cTree (V)                 \", ct.Result_V, \"%\"), \"\\n\")\n",
    "cat(paste(\"cTree (S)                 \", ct.Result_S, \"%\"), \"\\n\")\n",
    "cat(paste(\"==================================\",\"\\n\"))\n",
    "\n",
    "cat(paste(\"Logistic Regreion (total) \", lr.Result, \"%\"),\"\\n\")\n",
    "cat(paste(\"Logistic Regreion (V)     \", lr.Result_V, \"%\"), \"\\n\")\n",
    "cat(paste(\"Logistic Regreion (S)     \", lr.Result_S, \"%\"), \"\\n\")\n"
   ]
  },
  {
   "cell_type": "code",
   "execution_count": 132,
   "metadata": {},
   "outputs": [],
   "source": [
    "## set.seed(12345)\n",
    "# randomForest (total)       79.48 % <-\n",
    "# randomForest (V)           94.55 % \n",
    "# randomForest (S)           55.34 % \n",
    "# ================================== \n",
    "# Neural Networks (total)    79.48 % <-\n",
    "# Neural Networks (V)        94.55 % \n",
    "# Neural Networks(S)         55.34 % \n",
    "# ================================== \n",
    "# SVM (total)                79.48 % <-\n",
    "# SVM (V)                    94.55 % \n",
    "# SVM (S)                    55.34 % \n",
    "# ================================== \n",
    "# cTree (total)              79.48 % <-\n",
    "# cTree (V)                  94.55 % \n",
    "# cTree (S)                  55.34 % \n",
    "# ================================== \n",
    "# Logistic Regreion (total)  78.36 % \n",
    "# Logistic Regreion (V)      82.42 % \n",
    "# Logistic Regreion (S)      71.84 % \n",
    "\n",
    "## set.seed(12)\n",
    "# randomForest (total)       80.97 % <-\n",
    "# randomForest (V)           96.36 % \n",
    "# randomForest (S)           56.31 % \n",
    "# ================================== \n",
    "# Neural Networks (total)    78.73 % \n",
    "# Neural Networks (V)        90.91 % \n",
    "# Neural Networks(S)         59.22 % \n",
    "# ================================== \n",
    "# SVM (total)                76.12 % \n",
    "# SVM (V)                    82.42 % \n",
    "# SVM (S)                    66.02 % \n",
    "# ================================== \n",
    "# cTree (total)              80.97 % <-\n",
    "# cTree (V)                  96.36 % \n",
    "# cTree (S)                  56.31 % \n",
    "# ================================== \n",
    "# Logistic Regreion (total)  75.37 % \n",
    "# Logistic Regreion (V)      81.82 % \n",
    "# Logistic Regreion (S)      65.05 % \n",
    "\n",
    "## set.seed(1)\n",
    "# randomForest (total)       80.6 % \n",
    "# randomForest (V)           95.15 % \n",
    "# randomForest (S)           57.28 % \n",
    "# ================================== \n",
    "# Neural Networks (total)    80.97 %  <- \n",
    "# Neural Networks (V)        96.36 % \n",
    "# Neural Networks(S)         56.31 % \n",
    "# ================================== \n",
    "# SVM (total)                76.12 % \n",
    "# SVM (V)                    82.42 % \n",
    "# SVM (S)                    66.02 % \n",
    "# ================================== \n",
    "# cTree (total)              80.97 % <-\n",
    "# cTree (V)                  96.36 % \n",
    "# cTree (S)                  56.31 % \n",
    "# ================================== \n",
    "# Logistic Regreion (total)  75.37 % \n",
    "# Logistic Regreion (V)      81.82 % \n",
    "# Logistic Regreion (S)      65.05 % "
   ]
  },
  {
   "cell_type": "markdown",
   "metadata": {},
   "source": [
    "We are going to choose randomForest which shows relatively and stably high accuracy."
   ]
  },
  {
   "cell_type": "markdown",
   "metadata": {},
   "source": [
    "# Predict Survived Column in test set."
   ]
  },
  {
   "cell_type": "markdown",
   "metadata": {},
   "source": [
    "## Prepare Data"
   ]
  },
  {
   "cell_type": "markdown",
   "metadata": {},
   "source": [
    "### Prepare training data: entire selected dataset"
   ]
  },
  {
   "cell_type": "code",
   "execution_count": 133,
   "metadata": {},
   "outputs": [
    {
     "data": {
      "text/html": [
       "<table>\n",
       "<caption>A data.frame: 6 × 7</caption>\n",
       "<thead>\n",
       "\t<tr><th></th><th scope=col>Survived</th><th scope=col>Pclass</th><th scope=col>SexCode</th><th scope=col>Fare</th><th scope=col>Embarked_C</th><th scope=col>Embarked_Q</th><th scope=col>Embarked_S</th></tr>\n",
       "\t<tr><th></th><th scope=col>&lt;fct&gt;</th><th scope=col>&lt;int&gt;</th><th scope=col>&lt;dbl&gt;</th><th scope=col>&lt;dbl&gt;</th><th scope=col>&lt;lgl&gt;</th><th scope=col>&lt;lgl&gt;</th><th scope=col>&lt;lgl&gt;</th></tr>\n",
       "</thead>\n",
       "<tbody>\n",
       "\t<tr><th scope=row>1</th><td>0</td><td>3</td><td>0</td><td> 7.2500</td><td>FALSE</td><td>FALSE</td><td> TRUE</td></tr>\n",
       "\t<tr><th scope=row>2</th><td>0</td><td>3</td><td>0</td><td> 8.0500</td><td>FALSE</td><td>FALSE</td><td> TRUE</td></tr>\n",
       "\t<tr><th scope=row>3</th><td>0</td><td>3</td><td>0</td><td> 8.4583</td><td>FALSE</td><td> TRUE</td><td>FALSE</td></tr>\n",
       "\t<tr><th scope=row>4</th><td>0</td><td>1</td><td>0</td><td>51.8625</td><td>FALSE</td><td>FALSE</td><td> TRUE</td></tr>\n",
       "\t<tr><th scope=row>5</th><td>0</td><td>3</td><td>0</td><td>21.0750</td><td>FALSE</td><td>FALSE</td><td> TRUE</td></tr>\n",
       "\t<tr><th scope=row>6</th><td>0</td><td>3</td><td>0</td><td> 8.0500</td><td>FALSE</td><td>FALSE</td><td> TRUE</td></tr>\n",
       "</tbody>\n",
       "</table>\n"
      ],
      "text/latex": [
       "A data.frame: 6 × 7\n",
       "\\begin{tabular}{r|lllllll}\n",
       "  & Survived & Pclass & SexCode & Fare & Embarked\\_C & Embarked\\_Q & Embarked\\_S\\\\\n",
       "  & <fct> & <int> & <dbl> & <dbl> & <lgl> & <lgl> & <lgl>\\\\\n",
       "\\hline\n",
       "\t1 & 0 & 3 & 0 &  7.2500 & FALSE & FALSE &  TRUE\\\\\n",
       "\t2 & 0 & 3 & 0 &  8.0500 & FALSE & FALSE &  TRUE\\\\\n",
       "\t3 & 0 & 3 & 0 &  8.4583 & FALSE &  TRUE & FALSE\\\\\n",
       "\t4 & 0 & 1 & 0 & 51.8625 & FALSE & FALSE &  TRUE\\\\\n",
       "\t5 & 0 & 3 & 0 & 21.0750 & FALSE & FALSE &  TRUE\\\\\n",
       "\t6 & 0 & 3 & 0 &  8.0500 & FALSE & FALSE &  TRUE\\\\\n",
       "\\end{tabular}\n"
      ],
      "text/markdown": [
       "\n",
       "A data.frame: 6 × 7\n",
       "\n",
       "| <!--/--> | Survived &lt;fct&gt; | Pclass &lt;int&gt; | SexCode &lt;dbl&gt; | Fare &lt;dbl&gt; | Embarked_C &lt;lgl&gt; | Embarked_Q &lt;lgl&gt; | Embarked_S &lt;lgl&gt; |\n",
       "|---|---|---|---|---|---|---|---|\n",
       "| 1 | 0 | 3 | 0 |  7.2500 | FALSE | FALSE |  TRUE |\n",
       "| 2 | 0 | 3 | 0 |  8.0500 | FALSE | FALSE |  TRUE |\n",
       "| 3 | 0 | 3 | 0 |  8.4583 | FALSE |  TRUE | FALSE |\n",
       "| 4 | 0 | 1 | 0 | 51.8625 | FALSE | FALSE |  TRUE |\n",
       "| 5 | 0 | 3 | 0 | 21.0750 | FALSE | FALSE |  TRUE |\n",
       "| 6 | 0 | 3 | 0 |  8.0500 | FALSE | FALSE |  TRUE |\n",
       "\n"
      ],
      "text/plain": [
       "  Survived Pclass SexCode Fare    Embarked_C Embarked_Q Embarked_S\n",
       "1 0        3      0        7.2500 FALSE      FALSE       TRUE     \n",
       "2 0        3      0        8.0500 FALSE      FALSE       TRUE     \n",
       "3 0        3      0        8.4583 FALSE       TRUE      FALSE     \n",
       "4 0        1      0       51.8625 FALSE      FALSE       TRUE     \n",
       "5 0        3      0       21.0750 FALSE      FALSE       TRUE     \n",
       "6 0        3      0        8.0500 FALSE      FALSE       TRUE     "
      ]
     },
     "metadata": {},
     "output_type": "display_data"
    },
    {
     "data": {
      "text/plain": [
       " Survived     Pclass         SexCode            Fare        Embarked_C     \n",
       " 0:549    Min.   :1.000   Min.   :0.0000   Min.   :  0.00   Mode :logical  \n",
       " 1:342    1st Qu.:2.000   1st Qu.:0.0000   1st Qu.:  7.91   FALSE:723      \n",
       "          Median :3.000   Median :0.0000   Median : 14.45   TRUE :168      \n",
       "          Mean   :2.309   Mean   :0.3524   Mean   : 32.20                  \n",
       "          3rd Qu.:3.000   3rd Qu.:1.0000   3rd Qu.: 31.00                  \n",
       "          Max.   :3.000   Max.   :1.0000   Max.   :512.33                  \n",
       " Embarked_Q      Embarked_S     \n",
       " Mode :logical   Mode :logical  \n",
       " FALSE:814       FALSE:245      \n",
       " TRUE :77        TRUE :646      \n",
       "                                \n",
       "                                \n",
       "                                "
      ]
     },
     "metadata": {},
     "output_type": "display_data"
    }
   ],
   "source": [
    "head(trainData.selected)\n",
    "summary(trainData.selected)"
   ]
  },
  {
   "cell_type": "markdown",
   "metadata": {},
   "source": [
    "### Load test dataset and create features"
   ]
  },
  {
   "cell_type": "markdown",
   "metadata": {},
   "source": [
    "#### Load test data"
   ]
  },
  {
   "cell_type": "code",
   "execution_count": 134,
   "metadata": {
    "scrolled": false
   },
   "outputs": [
    {
     "data": {
      "text/html": [
       "<table>\n",
       "<caption>A data.frame: 6 × 11</caption>\n",
       "<thead>\n",
       "\t<tr><th></th><th scope=col>PassengerId</th><th scope=col>Pclass</th><th scope=col>Name</th><th scope=col>Sex</th><th scope=col>Age</th><th scope=col>SibSp</th><th scope=col>Parch</th><th scope=col>Ticket</th><th scope=col>Fare</th><th scope=col>Cabin</th><th scope=col>Embarked</th></tr>\n",
       "\t<tr><th></th><th scope=col>&lt;int&gt;</th><th scope=col>&lt;int&gt;</th><th scope=col>&lt;fct&gt;</th><th scope=col>&lt;fct&gt;</th><th scope=col>&lt;dbl&gt;</th><th scope=col>&lt;int&gt;</th><th scope=col>&lt;int&gt;</th><th scope=col>&lt;fct&gt;</th><th scope=col>&lt;dbl&gt;</th><th scope=col>&lt;fct&gt;</th><th scope=col>&lt;fct&gt;</th></tr>\n",
       "</thead>\n",
       "<tbody>\n",
       "\t<tr><th scope=row>1</th><td>892</td><td>3</td><td>Kelly, Mr. James                            </td><td>male  </td><td>34.5</td><td>0</td><td>0</td><td>330911 </td><td> 7.8292</td><td></td><td>Q</td></tr>\n",
       "\t<tr><th scope=row>2</th><td>893</td><td>3</td><td>Wilkes, Mrs. James (Ellen Needs)            </td><td>female</td><td>47.0</td><td>1</td><td>0</td><td>363272 </td><td> 7.0000</td><td></td><td>S</td></tr>\n",
       "\t<tr><th scope=row>3</th><td>894</td><td>2</td><td>Myles, Mr. Thomas Francis                   </td><td>male  </td><td>62.0</td><td>0</td><td>0</td><td>240276 </td><td> 9.6875</td><td></td><td>Q</td></tr>\n",
       "\t<tr><th scope=row>4</th><td>895</td><td>3</td><td>Wirz, Mr. Albert                            </td><td>male  </td><td>27.0</td><td>0</td><td>0</td><td>315154 </td><td> 8.6625</td><td></td><td>S</td></tr>\n",
       "\t<tr><th scope=row>5</th><td>896</td><td>3</td><td>Hirvonen, Mrs. Alexander (Helga E Lindqvist)</td><td>female</td><td>22.0</td><td>1</td><td>1</td><td>3101298</td><td>12.2875</td><td></td><td>S</td></tr>\n",
       "\t<tr><th scope=row>6</th><td>897</td><td>3</td><td>Svensson, Mr. Johan Cervin                  </td><td>male  </td><td>14.0</td><td>0</td><td>0</td><td>7538   </td><td> 9.2250</td><td></td><td>S</td></tr>\n",
       "</tbody>\n",
       "</table>\n"
      ],
      "text/latex": [
       "A data.frame: 6 × 11\n",
       "\\begin{tabular}{r|lllllllllll}\n",
       "  & PassengerId & Pclass & Name & Sex & Age & SibSp & Parch & Ticket & Fare & Cabin & Embarked\\\\\n",
       "  & <int> & <int> & <fct> & <fct> & <dbl> & <int> & <int> & <fct> & <dbl> & <fct> & <fct>\\\\\n",
       "\\hline\n",
       "\t1 & 892 & 3 & Kelly, Mr. James                             & male   & 34.5 & 0 & 0 & 330911  &  7.8292 &  & Q\\\\\n",
       "\t2 & 893 & 3 & Wilkes, Mrs. James (Ellen Needs)             & female & 47.0 & 1 & 0 & 363272  &  7.0000 &  & S\\\\\n",
       "\t3 & 894 & 2 & Myles, Mr. Thomas Francis                    & male   & 62.0 & 0 & 0 & 240276  &  9.6875 &  & Q\\\\\n",
       "\t4 & 895 & 3 & Wirz, Mr. Albert                             & male   & 27.0 & 0 & 0 & 315154  &  8.6625 &  & S\\\\\n",
       "\t5 & 896 & 3 & Hirvonen, Mrs. Alexander (Helga E Lindqvist) & female & 22.0 & 1 & 1 & 3101298 & 12.2875 &  & S\\\\\n",
       "\t6 & 897 & 3 & Svensson, Mr. Johan Cervin                   & male   & 14.0 & 0 & 0 & 7538    &  9.2250 &  & S\\\\\n",
       "\\end{tabular}\n"
      ],
      "text/markdown": [
       "\n",
       "A data.frame: 6 × 11\n",
       "\n",
       "| <!--/--> | PassengerId &lt;int&gt; | Pclass &lt;int&gt; | Name &lt;fct&gt; | Sex &lt;fct&gt; | Age &lt;dbl&gt; | SibSp &lt;int&gt; | Parch &lt;int&gt; | Ticket &lt;fct&gt; | Fare &lt;dbl&gt; | Cabin &lt;fct&gt; | Embarked &lt;fct&gt; |\n",
       "|---|---|---|---|---|---|---|---|---|---|---|---|\n",
       "| 1 | 892 | 3 | Kelly, Mr. James                             | male   | 34.5 | 0 | 0 | 330911  |  7.8292 | <!----> | Q |\n",
       "| 2 | 893 | 3 | Wilkes, Mrs. James (Ellen Needs)             | female | 47.0 | 1 | 0 | 363272  |  7.0000 | <!----> | S |\n",
       "| 3 | 894 | 2 | Myles, Mr. Thomas Francis                    | male   | 62.0 | 0 | 0 | 240276  |  9.6875 | <!----> | Q |\n",
       "| 4 | 895 | 3 | Wirz, Mr. Albert                             | male   | 27.0 | 0 | 0 | 315154  |  8.6625 | <!----> | S |\n",
       "| 5 | 896 | 3 | Hirvonen, Mrs. Alexander (Helga E Lindqvist) | female | 22.0 | 1 | 1 | 3101298 | 12.2875 | <!----> | S |\n",
       "| 6 | 897 | 3 | Svensson, Mr. Johan Cervin                   | male   | 14.0 | 0 | 0 | 7538    |  9.2250 | <!----> | S |\n",
       "\n"
      ],
      "text/plain": [
       "  PassengerId Pclass Name                                         Sex    Age \n",
       "1 892         3      Kelly, Mr. James                             male   34.5\n",
       "2 893         3      Wilkes, Mrs. James (Ellen Needs)             female 47.0\n",
       "3 894         2      Myles, Mr. Thomas Francis                    male   62.0\n",
       "4 895         3      Wirz, Mr. Albert                             male   27.0\n",
       "5 896         3      Hirvonen, Mrs. Alexander (Helga E Lindqvist) female 22.0\n",
       "6 897         3      Svensson, Mr. Johan Cervin                   male   14.0\n",
       "  SibSp Parch Ticket  Fare    Cabin Embarked\n",
       "1 0     0     330911   7.8292       Q       \n",
       "2 1     0     363272   7.0000       S       \n",
       "3 0     0     240276   9.6875       Q       \n",
       "4 0     0     315154   8.6625       S       \n",
       "5 1     1     3101298 12.2875       S       \n",
       "6 0     0     7538     9.2250       S       "
      ]
     },
     "metadata": {},
     "output_type": "display_data"
    },
    {
     "data": {
      "text/html": [
       "<table>\n",
       "<caption>A data.frame: 6 × 11</caption>\n",
       "<thead>\n",
       "\t<tr><th></th><th scope=col>PassengerId</th><th scope=col>Pclass</th><th scope=col>Name</th><th scope=col>Sex</th><th scope=col>Age</th><th scope=col>SibSp</th><th scope=col>Parch</th><th scope=col>Ticket</th><th scope=col>Fare</th><th scope=col>Cabin</th><th scope=col>Embarked</th></tr>\n",
       "\t<tr><th></th><th scope=col>&lt;int&gt;</th><th scope=col>&lt;int&gt;</th><th scope=col>&lt;fct&gt;</th><th scope=col>&lt;fct&gt;</th><th scope=col>&lt;dbl&gt;</th><th scope=col>&lt;int&gt;</th><th scope=col>&lt;int&gt;</th><th scope=col>&lt;fct&gt;</th><th scope=col>&lt;dbl&gt;</th><th scope=col>&lt;fct&gt;</th><th scope=col>&lt;fct&gt;</th></tr>\n",
       "</thead>\n",
       "<tbody>\n",
       "\t<tr><th scope=row>413</th><td>1304</td><td>3</td><td>Henriksson, Miss. Jenny Lovisa</td><td>female</td><td>28.0</td><td>0</td><td>0</td><td>347086            </td><td>  7.7750</td><td>    </td><td>S</td></tr>\n",
       "\t<tr><th scope=row>414</th><td>1305</td><td>3</td><td>Spector, Mr. Woolf            </td><td>male  </td><td>  NA</td><td>0</td><td>0</td><td>A.5. 3236         </td><td>  8.0500</td><td>    </td><td>S</td></tr>\n",
       "\t<tr><th scope=row>415</th><td>1306</td><td>1</td><td>Oliva y Ocana, Dona. Fermina  </td><td>female</td><td>39.0</td><td>0</td><td>0</td><td>PC 17758          </td><td>108.9000</td><td>C105</td><td>C</td></tr>\n",
       "\t<tr><th scope=row>416</th><td>1307</td><td>3</td><td>Saether, Mr. Simon Sivertsen  </td><td>male  </td><td>38.5</td><td>0</td><td>0</td><td>SOTON/O.Q. 3101262</td><td>  7.2500</td><td>    </td><td>S</td></tr>\n",
       "\t<tr><th scope=row>417</th><td>1308</td><td>3</td><td>Ware, Mr. Frederick           </td><td>male  </td><td>  NA</td><td>0</td><td>0</td><td>359309            </td><td>  8.0500</td><td>    </td><td>S</td></tr>\n",
       "\t<tr><th scope=row>418</th><td>1309</td><td>3</td><td>Peter, Master. Michael J      </td><td>male  </td><td>  NA</td><td>1</td><td>1</td><td>2668              </td><td> 22.3583</td><td>    </td><td>C</td></tr>\n",
       "</tbody>\n",
       "</table>\n"
      ],
      "text/latex": [
       "A data.frame: 6 × 11\n",
       "\\begin{tabular}{r|lllllllllll}\n",
       "  & PassengerId & Pclass & Name & Sex & Age & SibSp & Parch & Ticket & Fare & Cabin & Embarked\\\\\n",
       "  & <int> & <int> & <fct> & <fct> & <dbl> & <int> & <int> & <fct> & <dbl> & <fct> & <fct>\\\\\n",
       "\\hline\n",
       "\t413 & 1304 & 3 & Henriksson, Miss. Jenny Lovisa & female & 28.0 & 0 & 0 & 347086             &   7.7750 &      & S\\\\\n",
       "\t414 & 1305 & 3 & Spector, Mr. Woolf             & male   &   NA & 0 & 0 & A.5. 3236          &   8.0500 &      & S\\\\\n",
       "\t415 & 1306 & 1 & Oliva y Ocana, Dona. Fermina   & female & 39.0 & 0 & 0 & PC 17758           & 108.9000 & C105 & C\\\\\n",
       "\t416 & 1307 & 3 & Saether, Mr. Simon Sivertsen   & male   & 38.5 & 0 & 0 & SOTON/O.Q. 3101262 &   7.2500 &      & S\\\\\n",
       "\t417 & 1308 & 3 & Ware, Mr. Frederick            & male   &   NA & 0 & 0 & 359309             &   8.0500 &      & S\\\\\n",
       "\t418 & 1309 & 3 & Peter, Master. Michael J       & male   &   NA & 1 & 1 & 2668               &  22.3583 &      & C\\\\\n",
       "\\end{tabular}\n"
      ],
      "text/markdown": [
       "\n",
       "A data.frame: 6 × 11\n",
       "\n",
       "| <!--/--> | PassengerId &lt;int&gt; | Pclass &lt;int&gt; | Name &lt;fct&gt; | Sex &lt;fct&gt; | Age &lt;dbl&gt; | SibSp &lt;int&gt; | Parch &lt;int&gt; | Ticket &lt;fct&gt; | Fare &lt;dbl&gt; | Cabin &lt;fct&gt; | Embarked &lt;fct&gt; |\n",
       "|---|---|---|---|---|---|---|---|---|---|---|---|\n",
       "| 413 | 1304 | 3 | Henriksson, Miss. Jenny Lovisa | female | 28.0 | 0 | 0 | 347086             |   7.7750 | <!----> | S |\n",
       "| 414 | 1305 | 3 | Spector, Mr. Woolf             | male   |   NA | 0 | 0 | A.5. 3236          |   8.0500 | <!----> | S |\n",
       "| 415 | 1306 | 1 | Oliva y Ocana, Dona. Fermina   | female | 39.0 | 0 | 0 | PC 17758           | 108.9000 | C105 | C |\n",
       "| 416 | 1307 | 3 | Saether, Mr. Simon Sivertsen   | male   | 38.5 | 0 | 0 | SOTON/O.Q. 3101262 |   7.2500 | <!----> | S |\n",
       "| 417 | 1308 | 3 | Ware, Mr. Frederick            | male   |   NA | 0 | 0 | 359309             |   8.0500 | <!----> | S |\n",
       "| 418 | 1309 | 3 | Peter, Master. Michael J       | male   |   NA | 1 | 1 | 2668               |  22.3583 | <!----> | C |\n",
       "\n"
      ],
      "text/plain": [
       "    PassengerId Pclass Name                           Sex    Age  SibSp Parch\n",
       "413 1304        3      Henriksson, Miss. Jenny Lovisa female 28.0 0     0    \n",
       "414 1305        3      Spector, Mr. Woolf             male     NA 0     0    \n",
       "415 1306        1      Oliva y Ocana, Dona. Fermina   female 39.0 0     0    \n",
       "416 1307        3      Saether, Mr. Simon Sivertsen   male   38.5 0     0    \n",
       "417 1308        3      Ware, Mr. Frederick            male     NA 0     0    \n",
       "418 1309        3      Peter, Master. Michael J       male     NA 1     1    \n",
       "    Ticket             Fare     Cabin Embarked\n",
       "413 347086               7.7750       S       \n",
       "414 A.5. 3236            8.0500       S       \n",
       "415 PC 17758           108.9000 C105  C       \n",
       "416 SOTON/O.Q. 3101262   7.2500       S       \n",
       "417 359309               8.0500       S       \n",
       "418 2668                22.3583       C       "
      ]
     },
     "metadata": {},
     "output_type": "display_data"
    }
   ],
   "source": [
    "testTitanic <- read.csv(\"./Data/titanic/test.csv\")\n",
    "head(testTitanic)\n",
    "tail(testTitanic)"
   ]
  },
  {
   "cell_type": "code",
   "execution_count": 135,
   "metadata": {
    "scrolled": false
   },
   "outputs": [
    {
     "data": {
      "text/plain": [
       "  PassengerId         Pclass     \n",
       " Min.   : 892.0   Min.   :1.000  \n",
       " 1st Qu.: 996.2   1st Qu.:1.000  \n",
       " Median :1100.5   Median :3.000  \n",
       " Mean   :1100.5   Mean   :2.266  \n",
       " 3rd Qu.:1204.8   3rd Qu.:3.000  \n",
       " Max.   :1309.0   Max.   :3.000  \n",
       "                                 \n",
       "                                        Name         Sex           Age       \n",
       " Abbott, Master. Eugene Joseph            :  1   female:152   Min.   : 0.17  \n",
       " Abelseth, Miss. Karen Marie              :  1   male  :266   1st Qu.:21.00  \n",
       " Abelseth, Mr. Olaus Jorgensen            :  1                Median :27.00  \n",
       " Abrahamsson, Mr. Abraham August Johannes :  1                Mean   :30.27  \n",
       " Abrahim, Mrs. Joseph (Sophie Halaut Easu):  1                3rd Qu.:39.00  \n",
       " Aks, Master. Philip Frank                :  1                Max.   :76.00  \n",
       " (Other)                                  :412                NA's   :86     \n",
       "     SibSp            Parch             Ticket         Fare        \n",
       " Min.   :0.0000   Min.   :0.0000   PC 17608:  5   Min.   :  0.000  \n",
       " 1st Qu.:0.0000   1st Qu.:0.0000   113503  :  4   1st Qu.:  7.896  \n",
       " Median :0.0000   Median :0.0000   CA. 2343:  4   Median : 14.454  \n",
       " Mean   :0.4474   Mean   :0.3923   16966   :  3   Mean   : 35.627  \n",
       " 3rd Qu.:1.0000   3rd Qu.:0.0000   220845  :  3   3rd Qu.: 31.500  \n",
       " Max.   :8.0000   Max.   :9.0000   347077  :  3   Max.   :512.329  \n",
       "                                   (Other) :396   NA's   :1        \n",
       "             Cabin     Embarked\n",
       "                :327   C:102   \n",
       " B57 B59 B63 B66:  3   Q: 46   \n",
       " A34            :  2   S:270   \n",
       " B45            :  2           \n",
       " C101           :  2           \n",
       " C116           :  2           \n",
       " (Other)        : 80           "
      ]
     },
     "metadata": {},
     "output_type": "display_data"
    },
    {
     "name": "stdout",
     "output_type": "stream",
     "text": [
      "'data.frame':\t418 obs. of  11 variables:\n",
      " $ PassengerId: int  892 893 894 895 896 897 898 899 900 901 ...\n",
      " $ Pclass     : int  3 3 2 3 3 3 3 2 3 3 ...\n",
      " $ Name       : Factor w/ 418 levels \"Abbott, Master. Eugene Joseph\",..: 210 409 273 414 182 370 85 58 5 104 ...\n",
      " $ Sex        : Factor w/ 2 levels \"female\",\"male\": 2 1 2 2 1 2 1 2 1 2 ...\n",
      " $ Age        : num  34.5 47 62 27 22 14 30 26 18 21 ...\n",
      " $ SibSp      : int  0 1 0 0 1 0 0 1 0 2 ...\n",
      " $ Parch      : int  0 0 0 0 1 0 0 1 0 0 ...\n",
      " $ Ticket     : Factor w/ 363 levels \"110469\",\"110489\",..: 153 222 74 148 139 262 159 85 101 270 ...\n",
      " $ Fare       : num  7.83 7 9.69 8.66 12.29 ...\n",
      " $ Cabin      : Factor w/ 77 levels \"\",\"A11\",\"A18\",..: 1 1 1 1 1 1 1 1 1 1 ...\n",
      " $ Embarked   : Factor w/ 3 levels \"C\",\"Q\",\"S\": 2 3 2 3 3 3 2 3 1 3 ...\n"
     ]
    }
   ],
   "source": [
    "summary(testTitanic)\n",
    "str(testTitanic)"
   ]
  },
  {
   "cell_type": "markdown",
   "metadata": {},
   "source": [
    "#### Convert characters into numbers"
   ]
  },
  {
   "cell_type": "code",
   "execution_count": 136,
   "metadata": {},
   "outputs": [
    {
     "data": {
      "text/html": [
       "<table>\n",
       "<caption>A data.frame: 6 × 12</caption>\n",
       "<thead>\n",
       "\t<tr><th></th><th scope=col>PassengerId</th><th scope=col>Pclass</th><th scope=col>Name</th><th scope=col>Sex</th><th scope=col>Age</th><th scope=col>SibSp</th><th scope=col>Parch</th><th scope=col>Ticket</th><th scope=col>Fare</th><th scope=col>Cabin</th><th scope=col>Embarked</th><th scope=col>SexCode</th></tr>\n",
       "\t<tr><th></th><th scope=col>&lt;int&gt;</th><th scope=col>&lt;int&gt;</th><th scope=col>&lt;fct&gt;</th><th scope=col>&lt;fct&gt;</th><th scope=col>&lt;dbl&gt;</th><th scope=col>&lt;int&gt;</th><th scope=col>&lt;int&gt;</th><th scope=col>&lt;fct&gt;</th><th scope=col>&lt;dbl&gt;</th><th scope=col>&lt;fct&gt;</th><th scope=col>&lt;fct&gt;</th><th scope=col>&lt;dbl&gt;</th></tr>\n",
       "</thead>\n",
       "<tbody>\n",
       "\t<tr><th scope=row>1</th><td>892</td><td>3</td><td>Kelly, Mr. James                            </td><td>male  </td><td>34.5</td><td>0</td><td>0</td><td>330911 </td><td> 7.8292</td><td></td><td>Q</td><td>0</td></tr>\n",
       "\t<tr><th scope=row>2</th><td>893</td><td>3</td><td>Wilkes, Mrs. James (Ellen Needs)            </td><td>female</td><td>47.0</td><td>1</td><td>0</td><td>363272 </td><td> 7.0000</td><td></td><td>S</td><td>1</td></tr>\n",
       "\t<tr><th scope=row>3</th><td>894</td><td>2</td><td>Myles, Mr. Thomas Francis                   </td><td>male  </td><td>62.0</td><td>0</td><td>0</td><td>240276 </td><td> 9.6875</td><td></td><td>Q</td><td>0</td></tr>\n",
       "\t<tr><th scope=row>4</th><td>895</td><td>3</td><td>Wirz, Mr. Albert                            </td><td>male  </td><td>27.0</td><td>0</td><td>0</td><td>315154 </td><td> 8.6625</td><td></td><td>S</td><td>0</td></tr>\n",
       "\t<tr><th scope=row>5</th><td>896</td><td>3</td><td>Hirvonen, Mrs. Alexander (Helga E Lindqvist)</td><td>female</td><td>22.0</td><td>1</td><td>1</td><td>3101298</td><td>12.2875</td><td></td><td>S</td><td>1</td></tr>\n",
       "\t<tr><th scope=row>6</th><td>897</td><td>3</td><td>Svensson, Mr. Johan Cervin                  </td><td>male  </td><td>14.0</td><td>0</td><td>0</td><td>7538   </td><td> 9.2250</td><td></td><td>S</td><td>0</td></tr>\n",
       "</tbody>\n",
       "</table>\n"
      ],
      "text/latex": [
       "A data.frame: 6 × 12\n",
       "\\begin{tabular}{r|llllllllllll}\n",
       "  & PassengerId & Pclass & Name & Sex & Age & SibSp & Parch & Ticket & Fare & Cabin & Embarked & SexCode\\\\\n",
       "  & <int> & <int> & <fct> & <fct> & <dbl> & <int> & <int> & <fct> & <dbl> & <fct> & <fct> & <dbl>\\\\\n",
       "\\hline\n",
       "\t1 & 892 & 3 & Kelly, Mr. James                             & male   & 34.5 & 0 & 0 & 330911  &  7.8292 &  & Q & 0\\\\\n",
       "\t2 & 893 & 3 & Wilkes, Mrs. James (Ellen Needs)             & female & 47.0 & 1 & 0 & 363272  &  7.0000 &  & S & 1\\\\\n",
       "\t3 & 894 & 2 & Myles, Mr. Thomas Francis                    & male   & 62.0 & 0 & 0 & 240276  &  9.6875 &  & Q & 0\\\\\n",
       "\t4 & 895 & 3 & Wirz, Mr. Albert                             & male   & 27.0 & 0 & 0 & 315154  &  8.6625 &  & S & 0\\\\\n",
       "\t5 & 896 & 3 & Hirvonen, Mrs. Alexander (Helga E Lindqvist) & female & 22.0 & 1 & 1 & 3101298 & 12.2875 &  & S & 1\\\\\n",
       "\t6 & 897 & 3 & Svensson, Mr. Johan Cervin                   & male   & 14.0 & 0 & 0 & 7538    &  9.2250 &  & S & 0\\\\\n",
       "\\end{tabular}\n"
      ],
      "text/markdown": [
       "\n",
       "A data.frame: 6 × 12\n",
       "\n",
       "| <!--/--> | PassengerId &lt;int&gt; | Pclass &lt;int&gt; | Name &lt;fct&gt; | Sex &lt;fct&gt; | Age &lt;dbl&gt; | SibSp &lt;int&gt; | Parch &lt;int&gt; | Ticket &lt;fct&gt; | Fare &lt;dbl&gt; | Cabin &lt;fct&gt; | Embarked &lt;fct&gt; | SexCode &lt;dbl&gt; |\n",
       "|---|---|---|---|---|---|---|---|---|---|---|---|---|\n",
       "| 1 | 892 | 3 | Kelly, Mr. James                             | male   | 34.5 | 0 | 0 | 330911  |  7.8292 | <!----> | Q | 0 |\n",
       "| 2 | 893 | 3 | Wilkes, Mrs. James (Ellen Needs)             | female | 47.0 | 1 | 0 | 363272  |  7.0000 | <!----> | S | 1 |\n",
       "| 3 | 894 | 2 | Myles, Mr. Thomas Francis                    | male   | 62.0 | 0 | 0 | 240276  |  9.6875 | <!----> | Q | 0 |\n",
       "| 4 | 895 | 3 | Wirz, Mr. Albert                             | male   | 27.0 | 0 | 0 | 315154  |  8.6625 | <!----> | S | 0 |\n",
       "| 5 | 896 | 3 | Hirvonen, Mrs. Alexander (Helga E Lindqvist) | female | 22.0 | 1 | 1 | 3101298 | 12.2875 | <!----> | S | 1 |\n",
       "| 6 | 897 | 3 | Svensson, Mr. Johan Cervin                   | male   | 14.0 | 0 | 0 | 7538    |  9.2250 | <!----> | S | 0 |\n",
       "\n"
      ],
      "text/plain": [
       "  PassengerId Pclass Name                                         Sex    Age \n",
       "1 892         3      Kelly, Mr. James                             male   34.5\n",
       "2 893         3      Wilkes, Mrs. James (Ellen Needs)             female 47.0\n",
       "3 894         2      Myles, Mr. Thomas Francis                    male   62.0\n",
       "4 895         3      Wirz, Mr. Albert                             male   27.0\n",
       "5 896         3      Hirvonen, Mrs. Alexander (Helga E Lindqvist) female 22.0\n",
       "6 897         3      Svensson, Mr. Johan Cervin                   male   14.0\n",
       "  SibSp Parch Ticket  Fare    Cabin Embarked SexCode\n",
       "1 0     0     330911   7.8292       Q        0      \n",
       "2 1     0     363272   7.0000       S        1      \n",
       "3 0     0     240276   9.6875       Q        0      \n",
       "4 0     0     315154   8.6625       S        0      \n",
       "5 1     1     3101298 12.2875       S        1      \n",
       "6 0     0     7538     9.2250       S        0      "
      ]
     },
     "metadata": {},
     "output_type": "display_data"
    }
   ],
   "source": [
    "testTitanic$SexCode[testTitanic$Sex == \"male\"] <- 0   # add SexCode column\n",
    "testTitanic$SexCode[testTitanic$Sex == \"female\"] <- 1\n",
    "head(testTitanic)"
   ]
  },
  {
   "cell_type": "markdown",
   "metadata": {},
   "source": [
    "#### One-hot encoding"
   ]
  },
  {
   "cell_type": "code",
   "execution_count": 137,
   "metadata": {
    "scrolled": true
   },
   "outputs": [
    {
     "data": {
      "text/html": [
       "<table>\n",
       "<caption>A data.frame: 153 × 15</caption>\n",
       "<thead>\n",
       "\t<tr><th></th><th scope=col>PassengerId</th><th scope=col>Pclass</th><th scope=col>Name</th><th scope=col>Sex</th><th scope=col>Age</th><th scope=col>SibSp</th><th scope=col>Parch</th><th scope=col>Ticket</th><th scope=col>Fare</th><th scope=col>Cabin</th><th scope=col>Embarked</th><th scope=col>SexCode</th><th scope=col>Embarked_C</th><th scope=col>Embarked_Q</th><th scope=col>Embarked_S</th></tr>\n",
       "\t<tr><th></th><th scope=col>&lt;int&gt;</th><th scope=col>&lt;int&gt;</th><th scope=col>&lt;fct&gt;</th><th scope=col>&lt;fct&gt;</th><th scope=col>&lt;dbl&gt;</th><th scope=col>&lt;int&gt;</th><th scope=col>&lt;int&gt;</th><th scope=col>&lt;fct&gt;</th><th scope=col>&lt;dbl&gt;</th><th scope=col>&lt;fct&gt;</th><th scope=col>&lt;fct&gt;</th><th scope=col>&lt;dbl&gt;</th><th scope=col>&lt;lgl&gt;</th><th scope=col>&lt;lgl&gt;</th><th scope=col>&lt;lgl&gt;</th></tr>\n",
       "</thead>\n",
       "<tbody>\n",
       "\t<tr><th scope=row>1</th><td>892</td><td>3</td><td>Kelly, Mr. James                                       </td><td>male  </td><td>34.5</td><td>0</td><td>0</td><td>330911          </td><td>  7.8292</td><td>               </td><td>Q</td><td>0</td><td>FALSE</td><td> TRUE</td><td>FALSE</td></tr>\n",
       "\t<tr><th scope=row>2</th><td>893</td><td>3</td><td>Wilkes, Mrs. James (Ellen Needs)                       </td><td>female</td><td>47.0</td><td>1</td><td>0</td><td>363272          </td><td>  7.0000</td><td>               </td><td>S</td><td>1</td><td>FALSE</td><td>FALSE</td><td> TRUE</td></tr>\n",
       "\t<tr><th scope=row>3</th><td>894</td><td>2</td><td>Myles, Mr. Thomas Francis                              </td><td>male  </td><td>62.0</td><td>0</td><td>0</td><td>240276          </td><td>  9.6875</td><td>               </td><td>Q</td><td>0</td><td>FALSE</td><td> TRUE</td><td>FALSE</td></tr>\n",
       "\t<tr><th scope=row>4</th><td>895</td><td>3</td><td>Wirz, Mr. Albert                                       </td><td>male  </td><td>27.0</td><td>0</td><td>0</td><td>315154          </td><td>  8.6625</td><td>               </td><td>S</td><td>0</td><td>FALSE</td><td>FALSE</td><td> TRUE</td></tr>\n",
       "\t<tr><th scope=row>5</th><td>896</td><td>3</td><td>Hirvonen, Mrs. Alexander (Helga E Lindqvist)           </td><td>female</td><td>22.0</td><td>1</td><td>1</td><td>3101298         </td><td> 12.2875</td><td>               </td><td>S</td><td>1</td><td>FALSE</td><td>FALSE</td><td> TRUE</td></tr>\n",
       "\t<tr><th scope=row>6</th><td>897</td><td>3</td><td>Svensson, Mr. Johan Cervin                             </td><td>male  </td><td>14.0</td><td>0</td><td>0</td><td>7538            </td><td>  9.2250</td><td>               </td><td>S</td><td>0</td><td>FALSE</td><td>FALSE</td><td> TRUE</td></tr>\n",
       "\t<tr><th scope=row>7</th><td>898</td><td>3</td><td>Connolly, Miss. Kate                                   </td><td>female</td><td>30.0</td><td>0</td><td>0</td><td>330972          </td><td>  7.6292</td><td>               </td><td>Q</td><td>1</td><td>FALSE</td><td> TRUE</td><td>FALSE</td></tr>\n",
       "\t<tr><th scope=row>8</th><td>899</td><td>2</td><td>Caldwell, Mr. Albert Francis                           </td><td>male  </td><td>26.0</td><td>1</td><td>1</td><td>248738          </td><td> 29.0000</td><td>               </td><td>S</td><td>0</td><td>FALSE</td><td>FALSE</td><td> TRUE</td></tr>\n",
       "\t<tr><th scope=row>9</th><td>900</td><td>3</td><td>Abrahim, Mrs. Joseph (Sophie Halaut Easu)              </td><td>female</td><td>18.0</td><td>0</td><td>0</td><td>2657            </td><td>  7.2292</td><td>               </td><td>C</td><td>1</td><td> TRUE</td><td>FALSE</td><td>FALSE</td></tr>\n",
       "\t<tr><th scope=row>10</th><td>901</td><td>3</td><td>Davies, Mr. John Samuel                                </td><td>male  </td><td>21.0</td><td>2</td><td>0</td><td>A/4 48871       </td><td> 24.1500</td><td>               </td><td>S</td><td>0</td><td>FALSE</td><td>FALSE</td><td> TRUE</td></tr>\n",
       "\t<tr><th scope=row>11</th><td>902</td><td>3</td><td>Ilieff, Mr. Ylio                                       </td><td>male  </td><td>  NA</td><td>0</td><td>0</td><td>349220          </td><td>  7.8958</td><td>               </td><td>S</td><td>0</td><td>FALSE</td><td>FALSE</td><td> TRUE</td></tr>\n",
       "\t<tr><th scope=row>12</th><td>903</td><td>1</td><td>Jones, Mr. Charles Cresson                             </td><td>male  </td><td>46.0</td><td>0</td><td>0</td><td>694             </td><td> 26.0000</td><td>               </td><td>S</td><td>0</td><td>FALSE</td><td>FALSE</td><td> TRUE</td></tr>\n",
       "\t<tr><th scope=row>13</th><td>904</td><td>1</td><td>Snyder, Mrs. John Pillsbury (Nelle Stevenson)          </td><td>female</td><td>23.0</td><td>1</td><td>0</td><td>21228           </td><td> 82.2667</td><td>B45            </td><td>S</td><td>1</td><td>FALSE</td><td>FALSE</td><td> TRUE</td></tr>\n",
       "\t<tr><th scope=row>14</th><td>905</td><td>2</td><td>Howard, Mr. Benjamin                                   </td><td>male  </td><td>63.0</td><td>1</td><td>0</td><td>24065           </td><td> 26.0000</td><td>               </td><td>S</td><td>0</td><td>FALSE</td><td>FALSE</td><td> TRUE</td></tr>\n",
       "\t<tr><th scope=row>15</th><td>906</td><td>1</td><td>Chaffee, Mrs. Herbert Fuller (Carrie Constance Toogood)</td><td>female</td><td>47.0</td><td>1</td><td>0</td><td>W.E.P. 5734     </td><td> 61.1750</td><td>E31            </td><td>S</td><td>1</td><td>FALSE</td><td>FALSE</td><td> TRUE</td></tr>\n",
       "\t<tr><th scope=row>16</th><td>907</td><td>2</td><td>del Carlo, Mrs. Sebastiano (Argenia Genovesi)          </td><td>female</td><td>24.0</td><td>1</td><td>0</td><td>SC/PARIS 2167   </td><td> 27.7208</td><td>               </td><td>C</td><td>1</td><td> TRUE</td><td>FALSE</td><td>FALSE</td></tr>\n",
       "\t<tr><th scope=row>17</th><td>908</td><td>2</td><td>Keane, Mr. Daniel                                      </td><td>male  </td><td>35.0</td><td>0</td><td>0</td><td>233734          </td><td> 12.3500</td><td>               </td><td>Q</td><td>0</td><td>FALSE</td><td> TRUE</td><td>FALSE</td></tr>\n",
       "\t<tr><th scope=row>18</th><td>909</td><td>3</td><td>Assaf, Mr. Gerios                                      </td><td>male  </td><td>21.0</td><td>0</td><td>0</td><td>2692            </td><td>  7.2250</td><td>               </td><td>C</td><td>0</td><td> TRUE</td><td>FALSE</td><td>FALSE</td></tr>\n",
       "\t<tr><th scope=row>19</th><td>910</td><td>3</td><td>Ilmakangas, Miss. Ida Livija                           </td><td>female</td><td>27.0</td><td>1</td><td>0</td><td>STON/O2. 3101270</td><td>  7.9250</td><td>               </td><td>S</td><td>1</td><td>FALSE</td><td>FALSE</td><td> TRUE</td></tr>\n",
       "\t<tr><th scope=row>20</th><td>911</td><td>3</td><td>Assaf Khalil, Mrs. Mariana (Miriam\")\"                  </td><td>female</td><td>45.0</td><td>0</td><td>0</td><td>2696            </td><td>  7.2250</td><td>               </td><td>C</td><td>1</td><td> TRUE</td><td>FALSE</td><td>FALSE</td></tr>\n",
       "\t<tr><th scope=row>21</th><td>912</td><td>1</td><td>Rothschild, Mr. Martin                                 </td><td>male  </td><td>55.0</td><td>1</td><td>0</td><td>PC 17603        </td><td> 59.4000</td><td>               </td><td>C</td><td>0</td><td> TRUE</td><td>FALSE</td><td>FALSE</td></tr>\n",
       "\t<tr><th scope=row>22</th><td>913</td><td>3</td><td>Olsen, Master. Artur Karl                              </td><td>male  </td><td> 9.0</td><td>0</td><td>1</td><td>C 17368         </td><td>  3.1708</td><td>               </td><td>S</td><td>0</td><td>FALSE</td><td>FALSE</td><td> TRUE</td></tr>\n",
       "\t<tr><th scope=row>23</th><td>914</td><td>1</td><td>Flegenheim, Mrs. Alfred (Antoinette)                   </td><td>female</td><td>  NA</td><td>0</td><td>0</td><td>PC 17598        </td><td> 31.6833</td><td>               </td><td>S</td><td>1</td><td>FALSE</td><td>FALSE</td><td> TRUE</td></tr>\n",
       "\t<tr><th scope=row>24</th><td>915</td><td>1</td><td>Williams, Mr. Richard Norris II                        </td><td>male  </td><td>21.0</td><td>0</td><td>1</td><td>PC 17597        </td><td> 61.3792</td><td>               </td><td>C</td><td>0</td><td> TRUE</td><td>FALSE</td><td>FALSE</td></tr>\n",
       "\t<tr><th scope=row>25</th><td>916</td><td>1</td><td>Ryerson, Mrs. Arthur Larned (Emily Maria Borie)        </td><td>female</td><td>48.0</td><td>1</td><td>3</td><td>PC 17608        </td><td>262.3750</td><td>B57 B59 B63 B66</td><td>C</td><td>1</td><td> TRUE</td><td>FALSE</td><td>FALSE</td></tr>\n",
       "\t<tr><th scope=row>26</th><td>917</td><td>3</td><td>Robins, Mr. Alexander A                                </td><td>male  </td><td>50.0</td><td>1</td><td>0</td><td>A/5. 3337       </td><td> 14.5000</td><td>               </td><td>S</td><td>0</td><td>FALSE</td><td>FALSE</td><td> TRUE</td></tr>\n",
       "\t<tr><th scope=row>27</th><td>918</td><td>1</td><td>Ostby, Miss. Helene Ragnhild                           </td><td>female</td><td>22.0</td><td>0</td><td>1</td><td>113509          </td><td> 61.9792</td><td>B36            </td><td>C</td><td>1</td><td> TRUE</td><td>FALSE</td><td>FALSE</td></tr>\n",
       "\t<tr><th scope=row>28</th><td>919</td><td>3</td><td>Daher, Mr. Shedid                                      </td><td>male  </td><td>22.5</td><td>0</td><td>0</td><td>2698            </td><td>  7.2250</td><td>               </td><td>C</td><td>0</td><td> TRUE</td><td>FALSE</td><td>FALSE</td></tr>\n",
       "\t<tr><th scope=row>29</th><td>920</td><td>1</td><td>Brady, Mr. John Bertram                                </td><td>male  </td><td>41.0</td><td>0</td><td>0</td><td>113054          </td><td> 30.5000</td><td>A21            </td><td>S</td><td>0</td><td>FALSE</td><td>FALSE</td><td> TRUE</td></tr>\n",
       "\t<tr><th scope=row>30</th><td>921</td><td>3</td><td>Samaan, Mr. Elias                                      </td><td>male  </td><td>  NA</td><td>2</td><td>0</td><td>2662            </td><td> 21.6792</td><td>               </td><td>C</td><td>0</td><td> TRUE</td><td>FALSE</td><td>FALSE</td></tr>\n",
       "\t<tr><th scope=row>⋮</th><td>⋮</td><td>⋮</td><td>⋮</td><td>⋮</td><td>⋮</td><td>⋮</td><td>⋮</td><td>⋮</td><td>⋮</td><td>⋮</td><td>⋮</td><td>⋮</td><td>⋮</td><td>⋮</td><td>⋮</td></tr>\n",
       "\t<tr><th scope=row>124</th><td>1015</td><td>3</td><td>Carver, Mr. Alfred John                              </td><td>male  </td><td>28.0</td><td>0</td><td>0</td><td>392095         </td><td>  7.2500</td><td>               </td><td>S</td><td>0</td><td>FALSE</td><td>FALSE</td><td> TRUE</td></tr>\n",
       "\t<tr><th scope=row>125</th><td>1016</td><td>3</td><td>Kennedy, Mr. John                                    </td><td>male  </td><td>  NA</td><td>0</td><td>0</td><td>368783         </td><td>  7.7500</td><td>               </td><td>Q</td><td>0</td><td>FALSE</td><td> TRUE</td><td>FALSE</td></tr>\n",
       "\t<tr><th scope=row>126</th><td>1017</td><td>3</td><td>Cribb, Miss. Laura Alice                             </td><td>female</td><td>17.0</td><td>0</td><td>1</td><td>371362         </td><td> 16.1000</td><td>               </td><td>S</td><td>1</td><td>FALSE</td><td>FALSE</td><td> TRUE</td></tr>\n",
       "\t<tr><th scope=row>127</th><td>1018</td><td>3</td><td>Brobeck, Mr. Karl Rudolf                             </td><td>male  </td><td>22.0</td><td>0</td><td>0</td><td>350045         </td><td>  7.7958</td><td>               </td><td>S</td><td>0</td><td>FALSE</td><td>FALSE</td><td> TRUE</td></tr>\n",
       "\t<tr><th scope=row>128</th><td>1019</td><td>3</td><td>McCoy, Miss. Alicia                                  </td><td>female</td><td>  NA</td><td>2</td><td>0</td><td>367226         </td><td> 23.2500</td><td>               </td><td>Q</td><td>1</td><td>FALSE</td><td> TRUE</td><td>FALSE</td></tr>\n",
       "\t<tr><th scope=row>129</th><td>1020</td><td>2</td><td>Bowenur, Mr. Solomon                                 </td><td>male  </td><td>42.0</td><td>0</td><td>0</td><td>211535         </td><td> 13.0000</td><td>               </td><td>S</td><td>0</td><td>FALSE</td><td>FALSE</td><td> TRUE</td></tr>\n",
       "\t<tr><th scope=row>130</th><td>1021</td><td>3</td><td>Petersen, Mr. Marius                                 </td><td>male  </td><td>24.0</td><td>0</td><td>0</td><td>342441         </td><td>  8.0500</td><td>               </td><td>S</td><td>0</td><td>FALSE</td><td>FALSE</td><td> TRUE</td></tr>\n",
       "\t<tr><th scope=row>131</th><td>1022</td><td>3</td><td>Spinner, Mr. Henry John                              </td><td>male  </td><td>32.0</td><td>0</td><td>0</td><td>STON/OQ. 369943</td><td>  8.0500</td><td>               </td><td>S</td><td>0</td><td>FALSE</td><td>FALSE</td><td> TRUE</td></tr>\n",
       "\t<tr><th scope=row>132</th><td>1023</td><td>1</td><td>Gracie, Col. Archibald IV                            </td><td>male  </td><td>53.0</td><td>0</td><td>0</td><td>113780         </td><td> 28.5000</td><td>C51            </td><td>C</td><td>0</td><td> TRUE</td><td>FALSE</td><td>FALSE</td></tr>\n",
       "\t<tr><th scope=row>133</th><td>1024</td><td>3</td><td>Lefebre, Mrs. Frank (Frances)                        </td><td>female</td><td>  NA</td><td>0</td><td>4</td><td>4133           </td><td> 25.4667</td><td>               </td><td>S</td><td>1</td><td>FALSE</td><td>FALSE</td><td> TRUE</td></tr>\n",
       "\t<tr><th scope=row>134</th><td>1025</td><td>3</td><td>Thomas, Mr. Charles P                                </td><td>male  </td><td>  NA</td><td>1</td><td>0</td><td>2621           </td><td>  6.4375</td><td>               </td><td>C</td><td>0</td><td> TRUE</td><td>FALSE</td><td>FALSE</td></tr>\n",
       "\t<tr><th scope=row>135</th><td>1026</td><td>3</td><td>Dintcheff, Mr. Valtcho                               </td><td>male  </td><td>43.0</td><td>0</td><td>0</td><td>349226         </td><td>  7.8958</td><td>               </td><td>S</td><td>0</td><td>FALSE</td><td>FALSE</td><td> TRUE</td></tr>\n",
       "\t<tr><th scope=row>136</th><td>1027</td><td>3</td><td>Carlsson, Mr. Carl Robert                            </td><td>male  </td><td>24.0</td><td>0</td><td>0</td><td>350409         </td><td>  7.8542</td><td>               </td><td>S</td><td>0</td><td>FALSE</td><td>FALSE</td><td> TRUE</td></tr>\n",
       "\t<tr><th scope=row>137</th><td>1028</td><td>3</td><td>Zakarian, Mr. Mapriededer                            </td><td>male  </td><td>26.5</td><td>0</td><td>0</td><td>2656           </td><td>  7.2250</td><td>               </td><td>C</td><td>0</td><td> TRUE</td><td>FALSE</td><td>FALSE</td></tr>\n",
       "\t<tr><th scope=row>138</th><td>1029</td><td>2</td><td>Schmidt, Mr. August                                  </td><td>male  </td><td>26.0</td><td>0</td><td>0</td><td>248659         </td><td> 13.0000</td><td>               </td><td>S</td><td>0</td><td>FALSE</td><td>FALSE</td><td> TRUE</td></tr>\n",
       "\t<tr><th scope=row>139</th><td>1030</td><td>3</td><td>Drapkin, Miss. Jennie                                </td><td>female</td><td>23.0</td><td>0</td><td>0</td><td>SOTON/OQ 392083</td><td>  8.0500</td><td>               </td><td>S</td><td>1</td><td>FALSE</td><td>FALSE</td><td> TRUE</td></tr>\n",
       "\t<tr><th scope=row>140</th><td>1031</td><td>3</td><td>Goodwin, Mr. Charles Frederick                       </td><td>male  </td><td>40.0</td><td>1</td><td>6</td><td>CA 2144        </td><td> 46.9000</td><td>               </td><td>S</td><td>0</td><td>FALSE</td><td>FALSE</td><td> TRUE</td></tr>\n",
       "\t<tr><th scope=row>141</th><td>1032</td><td>3</td><td>Goodwin, Miss. Jessie Allis                          </td><td>female</td><td>10.0</td><td>5</td><td>2</td><td>CA 2144        </td><td> 46.9000</td><td>               </td><td>S</td><td>1</td><td>FALSE</td><td>FALSE</td><td> TRUE</td></tr>\n",
       "\t<tr><th scope=row>142</th><td>1033</td><td>1</td><td>Daniels, Miss. Sarah                                 </td><td>female</td><td>33.0</td><td>0</td><td>0</td><td>113781         </td><td>151.5500</td><td>               </td><td>S</td><td>1</td><td>FALSE</td><td>FALSE</td><td> TRUE</td></tr>\n",
       "\t<tr><th scope=row>143</th><td>1034</td><td>1</td><td>Ryerson, Mr. Arthur Larned                           </td><td>male  </td><td>61.0</td><td>1</td><td>3</td><td>PC 17608       </td><td>262.3750</td><td>B57 B59 B63 B66</td><td>C</td><td>0</td><td> TRUE</td><td>FALSE</td><td>FALSE</td></tr>\n",
       "\t<tr><th scope=row>144</th><td>1035</td><td>2</td><td>Beauchamp, Mr. Henry James                           </td><td>male  </td><td>28.0</td><td>0</td><td>0</td><td>244358         </td><td> 26.0000</td><td>               </td><td>S</td><td>0</td><td>FALSE</td><td>FALSE</td><td> TRUE</td></tr>\n",
       "\t<tr><th scope=row>145</th><td>1036</td><td>1</td><td>Lindeberg-Lind, Mr. Erik Gustaf (Mr Edward Lingrey\")\"</td><td>male  </td><td>42.0</td><td>0</td><td>0</td><td>17475          </td><td> 26.5500</td><td>               </td><td>S</td><td>0</td><td>FALSE</td><td>FALSE</td><td> TRUE</td></tr>\n",
       "\t<tr><th scope=row>146</th><td>1037</td><td>3</td><td>Vander Planke, Mr. Julius                            </td><td>male  </td><td>31.0</td><td>3</td><td>0</td><td>345763         </td><td> 18.0000</td><td>               </td><td>S</td><td>0</td><td>FALSE</td><td>FALSE</td><td> TRUE</td></tr>\n",
       "\t<tr><th scope=row>147</th><td>1038</td><td>1</td><td>Hilliard, Mr. Herbert Henry                          </td><td>male  </td><td>  NA</td><td>0</td><td>0</td><td>17463          </td><td> 51.8625</td><td>E46            </td><td>S</td><td>0</td><td>FALSE</td><td>FALSE</td><td> TRUE</td></tr>\n",
       "\t<tr><th scope=row>148</th><td>1039</td><td>3</td><td>Davies, Mr. Evan                                     </td><td>male  </td><td>22.0</td><td>0</td><td>0</td><td>SC/A4 23568    </td><td>  8.0500</td><td>               </td><td>S</td><td>0</td><td>FALSE</td><td>FALSE</td><td> TRUE</td></tr>\n",
       "\t<tr><th scope=row>149</th><td>1040</td><td>1</td><td>Crafton, Mr. John Bertram                            </td><td>male  </td><td>  NA</td><td>0</td><td>0</td><td>113791         </td><td> 26.5500</td><td>               </td><td>S</td><td>0</td><td>FALSE</td><td>FALSE</td><td> TRUE</td></tr>\n",
       "\t<tr><th scope=row>150</th><td>1041</td><td>2</td><td>Lahtinen, Rev. William                               </td><td>male  </td><td>30.0</td><td>1</td><td>1</td><td>250651         </td><td> 26.0000</td><td>               </td><td>S</td><td>0</td><td>FALSE</td><td>FALSE</td><td> TRUE</td></tr>\n",
       "\t<tr><th scope=row>151</th><td>1042</td><td>1</td><td>Earnshaw, Mrs. Boulton (Olive Potter)                </td><td>female</td><td>23.0</td><td>0</td><td>1</td><td>11767          </td><td> 83.1583</td><td>C54            </td><td>C</td><td>1</td><td> TRUE</td><td>FALSE</td><td>FALSE</td></tr>\n",
       "\t<tr><th scope=row>152</th><td>1043</td><td>3</td><td>Matinoff, Mr. Nicola                                 </td><td>male  </td><td>  NA</td><td>0</td><td>0</td><td>349255         </td><td>  7.8958</td><td>               </td><td>C</td><td>0</td><td> TRUE</td><td>FALSE</td><td>FALSE</td></tr>\n",
       "\t<tr><th scope=row>153</th><td>1044</td><td>3</td><td>Storey, Mr. Thomas                                   </td><td>male  </td><td>60.5</td><td>0</td><td>0</td><td>3701           </td><td>      NA</td><td>               </td><td>S</td><td>0</td><td>FALSE</td><td>FALSE</td><td> TRUE</td></tr>\n",
       "</tbody>\n",
       "</table>\n"
      ],
      "text/latex": [
       "A data.frame: 153 × 15\n",
       "\\begin{tabular}{r|lllllllllllllll}\n",
       "  & PassengerId & Pclass & Name & Sex & Age & SibSp & Parch & Ticket & Fare & Cabin & Embarked & SexCode & Embarked\\_C & Embarked\\_Q & Embarked\\_S\\\\\n",
       "  & <int> & <int> & <fct> & <fct> & <dbl> & <int> & <int> & <fct> & <dbl> & <fct> & <fct> & <dbl> & <lgl> & <lgl> & <lgl>\\\\\n",
       "\\hline\n",
       "\t1 & 892 & 3 & Kelly, Mr. James                                        & male   & 34.5 & 0 & 0 & 330911           &   7.8292 &                 & Q & 0 & FALSE &  TRUE & FALSE\\\\\n",
       "\t2 & 893 & 3 & Wilkes, Mrs. James (Ellen Needs)                        & female & 47.0 & 1 & 0 & 363272           &   7.0000 &                 & S & 1 & FALSE & FALSE &  TRUE\\\\\n",
       "\t3 & 894 & 2 & Myles, Mr. Thomas Francis                               & male   & 62.0 & 0 & 0 & 240276           &   9.6875 &                 & Q & 0 & FALSE &  TRUE & FALSE\\\\\n",
       "\t4 & 895 & 3 & Wirz, Mr. Albert                                        & male   & 27.0 & 0 & 0 & 315154           &   8.6625 &                 & S & 0 & FALSE & FALSE &  TRUE\\\\\n",
       "\t5 & 896 & 3 & Hirvonen, Mrs. Alexander (Helga E Lindqvist)            & female & 22.0 & 1 & 1 & 3101298          &  12.2875 &                 & S & 1 & FALSE & FALSE &  TRUE\\\\\n",
       "\t6 & 897 & 3 & Svensson, Mr. Johan Cervin                              & male   & 14.0 & 0 & 0 & 7538             &   9.2250 &                 & S & 0 & FALSE & FALSE &  TRUE\\\\\n",
       "\t7 & 898 & 3 & Connolly, Miss. Kate                                    & female & 30.0 & 0 & 0 & 330972           &   7.6292 &                 & Q & 1 & FALSE &  TRUE & FALSE\\\\\n",
       "\t8 & 899 & 2 & Caldwell, Mr. Albert Francis                            & male   & 26.0 & 1 & 1 & 248738           &  29.0000 &                 & S & 0 & FALSE & FALSE &  TRUE\\\\\n",
       "\t9 & 900 & 3 & Abrahim, Mrs. Joseph (Sophie Halaut Easu)               & female & 18.0 & 0 & 0 & 2657             &   7.2292 &                 & C & 1 &  TRUE & FALSE & FALSE\\\\\n",
       "\t10 & 901 & 3 & Davies, Mr. John Samuel                                 & male   & 21.0 & 2 & 0 & A/4 48871        &  24.1500 &                 & S & 0 & FALSE & FALSE &  TRUE\\\\\n",
       "\t11 & 902 & 3 & Ilieff, Mr. Ylio                                        & male   &   NA & 0 & 0 & 349220           &   7.8958 &                 & S & 0 & FALSE & FALSE &  TRUE\\\\\n",
       "\t12 & 903 & 1 & Jones, Mr. Charles Cresson                              & male   & 46.0 & 0 & 0 & 694              &  26.0000 &                 & S & 0 & FALSE & FALSE &  TRUE\\\\\n",
       "\t13 & 904 & 1 & Snyder, Mrs. John Pillsbury (Nelle Stevenson)           & female & 23.0 & 1 & 0 & 21228            &  82.2667 & B45             & S & 1 & FALSE & FALSE &  TRUE\\\\\n",
       "\t14 & 905 & 2 & Howard, Mr. Benjamin                                    & male   & 63.0 & 1 & 0 & 24065            &  26.0000 &                 & S & 0 & FALSE & FALSE &  TRUE\\\\\n",
       "\t15 & 906 & 1 & Chaffee, Mrs. Herbert Fuller (Carrie Constance Toogood) & female & 47.0 & 1 & 0 & W.E.P. 5734      &  61.1750 & E31             & S & 1 & FALSE & FALSE &  TRUE\\\\\n",
       "\t16 & 907 & 2 & del Carlo, Mrs. Sebastiano (Argenia Genovesi)           & female & 24.0 & 1 & 0 & SC/PARIS 2167    &  27.7208 &                 & C & 1 &  TRUE & FALSE & FALSE\\\\\n",
       "\t17 & 908 & 2 & Keane, Mr. Daniel                                       & male   & 35.0 & 0 & 0 & 233734           &  12.3500 &                 & Q & 0 & FALSE &  TRUE & FALSE\\\\\n",
       "\t18 & 909 & 3 & Assaf, Mr. Gerios                                       & male   & 21.0 & 0 & 0 & 2692             &   7.2250 &                 & C & 0 &  TRUE & FALSE & FALSE\\\\\n",
       "\t19 & 910 & 3 & Ilmakangas, Miss. Ida Livija                            & female & 27.0 & 1 & 0 & STON/O2. 3101270 &   7.9250 &                 & S & 1 & FALSE & FALSE &  TRUE\\\\\n",
       "\t20 & 911 & 3 & Assaf Khalil, Mrs. Mariana (Miriam\")\"                   & female & 45.0 & 0 & 0 & 2696             &   7.2250 &                 & C & 1 &  TRUE & FALSE & FALSE\\\\\n",
       "\t21 & 912 & 1 & Rothschild, Mr. Martin                                  & male   & 55.0 & 1 & 0 & PC 17603         &  59.4000 &                 & C & 0 &  TRUE & FALSE & FALSE\\\\\n",
       "\t22 & 913 & 3 & Olsen, Master. Artur Karl                               & male   &  9.0 & 0 & 1 & C 17368          &   3.1708 &                 & S & 0 & FALSE & FALSE &  TRUE\\\\\n",
       "\t23 & 914 & 1 & Flegenheim, Mrs. Alfred (Antoinette)                    & female &   NA & 0 & 0 & PC 17598         &  31.6833 &                 & S & 1 & FALSE & FALSE &  TRUE\\\\\n",
       "\t24 & 915 & 1 & Williams, Mr. Richard Norris II                         & male   & 21.0 & 0 & 1 & PC 17597         &  61.3792 &                 & C & 0 &  TRUE & FALSE & FALSE\\\\\n",
       "\t25 & 916 & 1 & Ryerson, Mrs. Arthur Larned (Emily Maria Borie)         & female & 48.0 & 1 & 3 & PC 17608         & 262.3750 & B57 B59 B63 B66 & C & 1 &  TRUE & FALSE & FALSE\\\\\n",
       "\t26 & 917 & 3 & Robins, Mr. Alexander A                                 & male   & 50.0 & 1 & 0 & A/5. 3337        &  14.5000 &                 & S & 0 & FALSE & FALSE &  TRUE\\\\\n",
       "\t27 & 918 & 1 & Ostby, Miss. Helene Ragnhild                            & female & 22.0 & 0 & 1 & 113509           &  61.9792 & B36             & C & 1 &  TRUE & FALSE & FALSE\\\\\n",
       "\t28 & 919 & 3 & Daher, Mr. Shedid                                       & male   & 22.5 & 0 & 0 & 2698             &   7.2250 &                 & C & 0 &  TRUE & FALSE & FALSE\\\\\n",
       "\t29 & 920 & 1 & Brady, Mr. John Bertram                                 & male   & 41.0 & 0 & 0 & 113054           &  30.5000 & A21             & S & 0 & FALSE & FALSE &  TRUE\\\\\n",
       "\t30 & 921 & 3 & Samaan, Mr. Elias                                       & male   &   NA & 2 & 0 & 2662             &  21.6792 &                 & C & 0 &  TRUE & FALSE & FALSE\\\\\n",
       "\t⋮ & ⋮ & ⋮ & ⋮ & ⋮ & ⋮ & ⋮ & ⋮ & ⋮ & ⋮ & ⋮ & ⋮ & ⋮ & ⋮ & ⋮ & ⋮\\\\\n",
       "\t124 & 1015 & 3 & Carver, Mr. Alfred John                               & male   & 28.0 & 0 & 0 & 392095          &   7.2500 &                 & S & 0 & FALSE & FALSE &  TRUE\\\\\n",
       "\t125 & 1016 & 3 & Kennedy, Mr. John                                     & male   &   NA & 0 & 0 & 368783          &   7.7500 &                 & Q & 0 & FALSE &  TRUE & FALSE\\\\\n",
       "\t126 & 1017 & 3 & Cribb, Miss. Laura Alice                              & female & 17.0 & 0 & 1 & 371362          &  16.1000 &                 & S & 1 & FALSE & FALSE &  TRUE\\\\\n",
       "\t127 & 1018 & 3 & Brobeck, Mr. Karl Rudolf                              & male   & 22.0 & 0 & 0 & 350045          &   7.7958 &                 & S & 0 & FALSE & FALSE &  TRUE\\\\\n",
       "\t128 & 1019 & 3 & McCoy, Miss. Alicia                                   & female &   NA & 2 & 0 & 367226          &  23.2500 &                 & Q & 1 & FALSE &  TRUE & FALSE\\\\\n",
       "\t129 & 1020 & 2 & Bowenur, Mr. Solomon                                  & male   & 42.0 & 0 & 0 & 211535          &  13.0000 &                 & S & 0 & FALSE & FALSE &  TRUE\\\\\n",
       "\t130 & 1021 & 3 & Petersen, Mr. Marius                                  & male   & 24.0 & 0 & 0 & 342441          &   8.0500 &                 & S & 0 & FALSE & FALSE &  TRUE\\\\\n",
       "\t131 & 1022 & 3 & Spinner, Mr. Henry John                               & male   & 32.0 & 0 & 0 & STON/OQ. 369943 &   8.0500 &                 & S & 0 & FALSE & FALSE &  TRUE\\\\\n",
       "\t132 & 1023 & 1 & Gracie, Col. Archibald IV                             & male   & 53.0 & 0 & 0 & 113780          &  28.5000 & C51             & C & 0 &  TRUE & FALSE & FALSE\\\\\n",
       "\t133 & 1024 & 3 & Lefebre, Mrs. Frank (Frances)                         & female &   NA & 0 & 4 & 4133            &  25.4667 &                 & S & 1 & FALSE & FALSE &  TRUE\\\\\n",
       "\t134 & 1025 & 3 & Thomas, Mr. Charles P                                 & male   &   NA & 1 & 0 & 2621            &   6.4375 &                 & C & 0 &  TRUE & FALSE & FALSE\\\\\n",
       "\t135 & 1026 & 3 & Dintcheff, Mr. Valtcho                                & male   & 43.0 & 0 & 0 & 349226          &   7.8958 &                 & S & 0 & FALSE & FALSE &  TRUE\\\\\n",
       "\t136 & 1027 & 3 & Carlsson, Mr. Carl Robert                             & male   & 24.0 & 0 & 0 & 350409          &   7.8542 &                 & S & 0 & FALSE & FALSE &  TRUE\\\\\n",
       "\t137 & 1028 & 3 & Zakarian, Mr. Mapriededer                             & male   & 26.5 & 0 & 0 & 2656            &   7.2250 &                 & C & 0 &  TRUE & FALSE & FALSE\\\\\n",
       "\t138 & 1029 & 2 & Schmidt, Mr. August                                   & male   & 26.0 & 0 & 0 & 248659          &  13.0000 &                 & S & 0 & FALSE & FALSE &  TRUE\\\\\n",
       "\t139 & 1030 & 3 & Drapkin, Miss. Jennie                                 & female & 23.0 & 0 & 0 & SOTON/OQ 392083 &   8.0500 &                 & S & 1 & FALSE & FALSE &  TRUE\\\\\n",
       "\t140 & 1031 & 3 & Goodwin, Mr. Charles Frederick                        & male   & 40.0 & 1 & 6 & CA 2144         &  46.9000 &                 & S & 0 & FALSE & FALSE &  TRUE\\\\\n",
       "\t141 & 1032 & 3 & Goodwin, Miss. Jessie Allis                           & female & 10.0 & 5 & 2 & CA 2144         &  46.9000 &                 & S & 1 & FALSE & FALSE &  TRUE\\\\\n",
       "\t142 & 1033 & 1 & Daniels, Miss. Sarah                                  & female & 33.0 & 0 & 0 & 113781          & 151.5500 &                 & S & 1 & FALSE & FALSE &  TRUE\\\\\n",
       "\t143 & 1034 & 1 & Ryerson, Mr. Arthur Larned                            & male   & 61.0 & 1 & 3 & PC 17608        & 262.3750 & B57 B59 B63 B66 & C & 0 &  TRUE & FALSE & FALSE\\\\\n",
       "\t144 & 1035 & 2 & Beauchamp, Mr. Henry James                            & male   & 28.0 & 0 & 0 & 244358          &  26.0000 &                 & S & 0 & FALSE & FALSE &  TRUE\\\\\n",
       "\t145 & 1036 & 1 & Lindeberg-Lind, Mr. Erik Gustaf (Mr Edward Lingrey\")\" & male   & 42.0 & 0 & 0 & 17475           &  26.5500 &                 & S & 0 & FALSE & FALSE &  TRUE\\\\\n",
       "\t146 & 1037 & 3 & Vander Planke, Mr. Julius                             & male   & 31.0 & 3 & 0 & 345763          &  18.0000 &                 & S & 0 & FALSE & FALSE &  TRUE\\\\\n",
       "\t147 & 1038 & 1 & Hilliard, Mr. Herbert Henry                           & male   &   NA & 0 & 0 & 17463           &  51.8625 & E46             & S & 0 & FALSE & FALSE &  TRUE\\\\\n",
       "\t148 & 1039 & 3 & Davies, Mr. Evan                                      & male   & 22.0 & 0 & 0 & SC/A4 23568     &   8.0500 &                 & S & 0 & FALSE & FALSE &  TRUE\\\\\n",
       "\t149 & 1040 & 1 & Crafton, Mr. John Bertram                             & male   &   NA & 0 & 0 & 113791          &  26.5500 &                 & S & 0 & FALSE & FALSE &  TRUE\\\\\n",
       "\t150 & 1041 & 2 & Lahtinen, Rev. William                                & male   & 30.0 & 1 & 1 & 250651          &  26.0000 &                 & S & 0 & FALSE & FALSE &  TRUE\\\\\n",
       "\t151 & 1042 & 1 & Earnshaw, Mrs. Boulton (Olive Potter)                 & female & 23.0 & 0 & 1 & 11767           &  83.1583 & C54             & C & 1 &  TRUE & FALSE & FALSE\\\\\n",
       "\t152 & 1043 & 3 & Matinoff, Mr. Nicola                                  & male   &   NA & 0 & 0 & 349255          &   7.8958 &                 & C & 0 &  TRUE & FALSE & FALSE\\\\\n",
       "\t153 & 1044 & 3 & Storey, Mr. Thomas                                    & male   & 60.5 & 0 & 0 & 3701            &       NA &                 & S & 0 & FALSE & FALSE &  TRUE\\\\\n",
       "\\end{tabular}\n"
      ],
      "text/markdown": [
       "\n",
       "A data.frame: 153 × 15\n",
       "\n",
       "| <!--/--> | PassengerId &lt;int&gt; | Pclass &lt;int&gt; | Name &lt;fct&gt; | Sex &lt;fct&gt; | Age &lt;dbl&gt; | SibSp &lt;int&gt; | Parch &lt;int&gt; | Ticket &lt;fct&gt; | Fare &lt;dbl&gt; | Cabin &lt;fct&gt; | Embarked &lt;fct&gt; | SexCode &lt;dbl&gt; | Embarked_C &lt;lgl&gt; | Embarked_Q &lt;lgl&gt; | Embarked_S &lt;lgl&gt; |\n",
       "|---|---|---|---|---|---|---|---|---|---|---|---|---|---|---|---|\n",
       "| 1 | 892 | 3 | Kelly, Mr. James                                        | male   | 34.5 | 0 | 0 | 330911           |   7.8292 | <!----> | Q | 0 | FALSE |  TRUE | FALSE |\n",
       "| 2 | 893 | 3 | Wilkes, Mrs. James (Ellen Needs)                        | female | 47.0 | 1 | 0 | 363272           |   7.0000 | <!----> | S | 1 | FALSE | FALSE |  TRUE |\n",
       "| 3 | 894 | 2 | Myles, Mr. Thomas Francis                               | male   | 62.0 | 0 | 0 | 240276           |   9.6875 | <!----> | Q | 0 | FALSE |  TRUE | FALSE |\n",
       "| 4 | 895 | 3 | Wirz, Mr. Albert                                        | male   | 27.0 | 0 | 0 | 315154           |   8.6625 | <!----> | S | 0 | FALSE | FALSE |  TRUE |\n",
       "| 5 | 896 | 3 | Hirvonen, Mrs. Alexander (Helga E Lindqvist)            | female | 22.0 | 1 | 1 | 3101298          |  12.2875 | <!----> | S | 1 | FALSE | FALSE |  TRUE |\n",
       "| 6 | 897 | 3 | Svensson, Mr. Johan Cervin                              | male   | 14.0 | 0 | 0 | 7538             |   9.2250 | <!----> | S | 0 | FALSE | FALSE |  TRUE |\n",
       "| 7 | 898 | 3 | Connolly, Miss. Kate                                    | female | 30.0 | 0 | 0 | 330972           |   7.6292 | <!----> | Q | 1 | FALSE |  TRUE | FALSE |\n",
       "| 8 | 899 | 2 | Caldwell, Mr. Albert Francis                            | male   | 26.0 | 1 | 1 | 248738           |  29.0000 | <!----> | S | 0 | FALSE | FALSE |  TRUE |\n",
       "| 9 | 900 | 3 | Abrahim, Mrs. Joseph (Sophie Halaut Easu)               | female | 18.0 | 0 | 0 | 2657             |   7.2292 | <!----> | C | 1 |  TRUE | FALSE | FALSE |\n",
       "| 10 | 901 | 3 | Davies, Mr. John Samuel                                 | male   | 21.0 | 2 | 0 | A/4 48871        |  24.1500 | <!----> | S | 0 | FALSE | FALSE |  TRUE |\n",
       "| 11 | 902 | 3 | Ilieff, Mr. Ylio                                        | male   |   NA | 0 | 0 | 349220           |   7.8958 | <!----> | S | 0 | FALSE | FALSE |  TRUE |\n",
       "| 12 | 903 | 1 | Jones, Mr. Charles Cresson                              | male   | 46.0 | 0 | 0 | 694              |  26.0000 | <!----> | S | 0 | FALSE | FALSE |  TRUE |\n",
       "| 13 | 904 | 1 | Snyder, Mrs. John Pillsbury (Nelle Stevenson)           | female | 23.0 | 1 | 0 | 21228            |  82.2667 | B45             | S | 1 | FALSE | FALSE |  TRUE |\n",
       "| 14 | 905 | 2 | Howard, Mr. Benjamin                                    | male   | 63.0 | 1 | 0 | 24065            |  26.0000 | <!----> | S | 0 | FALSE | FALSE |  TRUE |\n",
       "| 15 | 906 | 1 | Chaffee, Mrs. Herbert Fuller (Carrie Constance Toogood) | female | 47.0 | 1 | 0 | W.E.P. 5734      |  61.1750 | E31             | S | 1 | FALSE | FALSE |  TRUE |\n",
       "| 16 | 907 | 2 | del Carlo, Mrs. Sebastiano (Argenia Genovesi)           | female | 24.0 | 1 | 0 | SC/PARIS 2167    |  27.7208 | <!----> | C | 1 |  TRUE | FALSE | FALSE |\n",
       "| 17 | 908 | 2 | Keane, Mr. Daniel                                       | male   | 35.0 | 0 | 0 | 233734           |  12.3500 | <!----> | Q | 0 | FALSE |  TRUE | FALSE |\n",
       "| 18 | 909 | 3 | Assaf, Mr. Gerios                                       | male   | 21.0 | 0 | 0 | 2692             |   7.2250 | <!----> | C | 0 |  TRUE | FALSE | FALSE |\n",
       "| 19 | 910 | 3 | Ilmakangas, Miss. Ida Livija                            | female | 27.0 | 1 | 0 | STON/O2. 3101270 |   7.9250 | <!----> | S | 1 | FALSE | FALSE |  TRUE |\n",
       "| 20 | 911 | 3 | Assaf Khalil, Mrs. Mariana (Miriam\")\"                   | female | 45.0 | 0 | 0 | 2696             |   7.2250 | <!----> | C | 1 |  TRUE | FALSE | FALSE |\n",
       "| 21 | 912 | 1 | Rothschild, Mr. Martin                                  | male   | 55.0 | 1 | 0 | PC 17603         |  59.4000 | <!----> | C | 0 |  TRUE | FALSE | FALSE |\n",
       "| 22 | 913 | 3 | Olsen, Master. Artur Karl                               | male   |  9.0 | 0 | 1 | C 17368          |   3.1708 | <!----> | S | 0 | FALSE | FALSE |  TRUE |\n",
       "| 23 | 914 | 1 | Flegenheim, Mrs. Alfred (Antoinette)                    | female |   NA | 0 | 0 | PC 17598         |  31.6833 | <!----> | S | 1 | FALSE | FALSE |  TRUE |\n",
       "| 24 | 915 | 1 | Williams, Mr. Richard Norris II                         | male   | 21.0 | 0 | 1 | PC 17597         |  61.3792 | <!----> | C | 0 |  TRUE | FALSE | FALSE |\n",
       "| 25 | 916 | 1 | Ryerson, Mrs. Arthur Larned (Emily Maria Borie)         | female | 48.0 | 1 | 3 | PC 17608         | 262.3750 | B57 B59 B63 B66 | C | 1 |  TRUE | FALSE | FALSE |\n",
       "| 26 | 917 | 3 | Robins, Mr. Alexander A                                 | male   | 50.0 | 1 | 0 | A/5. 3337        |  14.5000 | <!----> | S | 0 | FALSE | FALSE |  TRUE |\n",
       "| 27 | 918 | 1 | Ostby, Miss. Helene Ragnhild                            | female | 22.0 | 0 | 1 | 113509           |  61.9792 | B36             | C | 1 |  TRUE | FALSE | FALSE |\n",
       "| 28 | 919 | 3 | Daher, Mr. Shedid                                       | male   | 22.5 | 0 | 0 | 2698             |   7.2250 | <!----> | C | 0 |  TRUE | FALSE | FALSE |\n",
       "| 29 | 920 | 1 | Brady, Mr. John Bertram                                 | male   | 41.0 | 0 | 0 | 113054           |  30.5000 | A21             | S | 0 | FALSE | FALSE |  TRUE |\n",
       "| 30 | 921 | 3 | Samaan, Mr. Elias                                       | male   |   NA | 2 | 0 | 2662             |  21.6792 | <!----> | C | 0 |  TRUE | FALSE | FALSE |\n",
       "| ⋮ | ⋮ | ⋮ | ⋮ | ⋮ | ⋮ | ⋮ | ⋮ | ⋮ | ⋮ | ⋮ | ⋮ | ⋮ | ⋮ | ⋮ | ⋮ |\n",
       "| 124 | 1015 | 3 | Carver, Mr. Alfred John                               | male   | 28.0 | 0 | 0 | 392095          |   7.2500 | <!----> | S | 0 | FALSE | FALSE |  TRUE |\n",
       "| 125 | 1016 | 3 | Kennedy, Mr. John                                     | male   |   NA | 0 | 0 | 368783          |   7.7500 | <!----> | Q | 0 | FALSE |  TRUE | FALSE |\n",
       "| 126 | 1017 | 3 | Cribb, Miss. Laura Alice                              | female | 17.0 | 0 | 1 | 371362          |  16.1000 | <!----> | S | 1 | FALSE | FALSE |  TRUE |\n",
       "| 127 | 1018 | 3 | Brobeck, Mr. Karl Rudolf                              | male   | 22.0 | 0 | 0 | 350045          |   7.7958 | <!----> | S | 0 | FALSE | FALSE |  TRUE |\n",
       "| 128 | 1019 | 3 | McCoy, Miss. Alicia                                   | female |   NA | 2 | 0 | 367226          |  23.2500 | <!----> | Q | 1 | FALSE |  TRUE | FALSE |\n",
       "| 129 | 1020 | 2 | Bowenur, Mr. Solomon                                  | male   | 42.0 | 0 | 0 | 211535          |  13.0000 | <!----> | S | 0 | FALSE | FALSE |  TRUE |\n",
       "| 130 | 1021 | 3 | Petersen, Mr. Marius                                  | male   | 24.0 | 0 | 0 | 342441          |   8.0500 | <!----> | S | 0 | FALSE | FALSE |  TRUE |\n",
       "| 131 | 1022 | 3 | Spinner, Mr. Henry John                               | male   | 32.0 | 0 | 0 | STON/OQ. 369943 |   8.0500 | <!----> | S | 0 | FALSE | FALSE |  TRUE |\n",
       "| 132 | 1023 | 1 | Gracie, Col. Archibald IV                             | male   | 53.0 | 0 | 0 | 113780          |  28.5000 | C51             | C | 0 |  TRUE | FALSE | FALSE |\n",
       "| 133 | 1024 | 3 | Lefebre, Mrs. Frank (Frances)                         | female |   NA | 0 | 4 | 4133            |  25.4667 | <!----> | S | 1 | FALSE | FALSE |  TRUE |\n",
       "| 134 | 1025 | 3 | Thomas, Mr. Charles P                                 | male   |   NA | 1 | 0 | 2621            |   6.4375 | <!----> | C | 0 |  TRUE | FALSE | FALSE |\n",
       "| 135 | 1026 | 3 | Dintcheff, Mr. Valtcho                                | male   | 43.0 | 0 | 0 | 349226          |   7.8958 | <!----> | S | 0 | FALSE | FALSE |  TRUE |\n",
       "| 136 | 1027 | 3 | Carlsson, Mr. Carl Robert                             | male   | 24.0 | 0 | 0 | 350409          |   7.8542 | <!----> | S | 0 | FALSE | FALSE |  TRUE |\n",
       "| 137 | 1028 | 3 | Zakarian, Mr. Mapriededer                             | male   | 26.5 | 0 | 0 | 2656            |   7.2250 | <!----> | C | 0 |  TRUE | FALSE | FALSE |\n",
       "| 138 | 1029 | 2 | Schmidt, Mr. August                                   | male   | 26.0 | 0 | 0 | 248659          |  13.0000 | <!----> | S | 0 | FALSE | FALSE |  TRUE |\n",
       "| 139 | 1030 | 3 | Drapkin, Miss. Jennie                                 | female | 23.0 | 0 | 0 | SOTON/OQ 392083 |   8.0500 | <!----> | S | 1 | FALSE | FALSE |  TRUE |\n",
       "| 140 | 1031 | 3 | Goodwin, Mr. Charles Frederick                        | male   | 40.0 | 1 | 6 | CA 2144         |  46.9000 | <!----> | S | 0 | FALSE | FALSE |  TRUE |\n",
       "| 141 | 1032 | 3 | Goodwin, Miss. Jessie Allis                           | female | 10.0 | 5 | 2 | CA 2144         |  46.9000 | <!----> | S | 1 | FALSE | FALSE |  TRUE |\n",
       "| 142 | 1033 | 1 | Daniels, Miss. Sarah                                  | female | 33.0 | 0 | 0 | 113781          | 151.5500 | <!----> | S | 1 | FALSE | FALSE |  TRUE |\n",
       "| 143 | 1034 | 1 | Ryerson, Mr. Arthur Larned                            | male   | 61.0 | 1 | 3 | PC 17608        | 262.3750 | B57 B59 B63 B66 | C | 0 |  TRUE | FALSE | FALSE |\n",
       "| 144 | 1035 | 2 | Beauchamp, Mr. Henry James                            | male   | 28.0 | 0 | 0 | 244358          |  26.0000 | <!----> | S | 0 | FALSE | FALSE |  TRUE |\n",
       "| 145 | 1036 | 1 | Lindeberg-Lind, Mr. Erik Gustaf (Mr Edward Lingrey\")\" | male   | 42.0 | 0 | 0 | 17475           |  26.5500 | <!----> | S | 0 | FALSE | FALSE |  TRUE |\n",
       "| 146 | 1037 | 3 | Vander Planke, Mr. Julius                             | male   | 31.0 | 3 | 0 | 345763          |  18.0000 | <!----> | S | 0 | FALSE | FALSE |  TRUE |\n",
       "| 147 | 1038 | 1 | Hilliard, Mr. Herbert Henry                           | male   |   NA | 0 | 0 | 17463           |  51.8625 | E46             | S | 0 | FALSE | FALSE |  TRUE |\n",
       "| 148 | 1039 | 3 | Davies, Mr. Evan                                      | male   | 22.0 | 0 | 0 | SC/A4 23568     |   8.0500 | <!----> | S | 0 | FALSE | FALSE |  TRUE |\n",
       "| 149 | 1040 | 1 | Crafton, Mr. John Bertram                             | male   |   NA | 0 | 0 | 113791          |  26.5500 | <!----> | S | 0 | FALSE | FALSE |  TRUE |\n",
       "| 150 | 1041 | 2 | Lahtinen, Rev. William                                | male   | 30.0 | 1 | 1 | 250651          |  26.0000 | <!----> | S | 0 | FALSE | FALSE |  TRUE |\n",
       "| 151 | 1042 | 1 | Earnshaw, Mrs. Boulton (Olive Potter)                 | female | 23.0 | 0 | 1 | 11767           |  83.1583 | C54             | C | 1 |  TRUE | FALSE | FALSE |\n",
       "| 152 | 1043 | 3 | Matinoff, Mr. Nicola                                  | male   |   NA | 0 | 0 | 349255          |   7.8958 | <!----> | C | 0 |  TRUE | FALSE | FALSE |\n",
       "| 153 | 1044 | 3 | Storey, Mr. Thomas                                    | male   | 60.5 | 0 | 0 | 3701            |       NA | <!----> | S | 0 | FALSE | FALSE |  TRUE |\n",
       "\n"
      ],
      "text/plain": [
       "    PassengerId Pclass Name                                                   \n",
       "1   892         3      Kelly, Mr. James                                       \n",
       "2   893         3      Wilkes, Mrs. James (Ellen Needs)                       \n",
       "3   894         2      Myles, Mr. Thomas Francis                              \n",
       "4   895         3      Wirz, Mr. Albert                                       \n",
       "5   896         3      Hirvonen, Mrs. Alexander (Helga E Lindqvist)           \n",
       "6   897         3      Svensson, Mr. Johan Cervin                             \n",
       "7   898         3      Connolly, Miss. Kate                                   \n",
       "8   899         2      Caldwell, Mr. Albert Francis                           \n",
       "9   900         3      Abrahim, Mrs. Joseph (Sophie Halaut Easu)              \n",
       "10  901         3      Davies, Mr. John Samuel                                \n",
       "11  902         3      Ilieff, Mr. Ylio                                       \n",
       "12  903         1      Jones, Mr. Charles Cresson                             \n",
       "13  904         1      Snyder, Mrs. John Pillsbury (Nelle Stevenson)          \n",
       "14  905         2      Howard, Mr. Benjamin                                   \n",
       "15  906         1      Chaffee, Mrs. Herbert Fuller (Carrie Constance Toogood)\n",
       "16  907         2      del Carlo, Mrs. Sebastiano (Argenia Genovesi)          \n",
       "17  908         2      Keane, Mr. Daniel                                      \n",
       "18  909         3      Assaf, Mr. Gerios                                      \n",
       "19  910         3      Ilmakangas, Miss. Ida Livija                           \n",
       "20  911         3      Assaf Khalil, Mrs. Mariana (Miriam\")\"                  \n",
       "21  912         1      Rothschild, Mr. Martin                                 \n",
       "22  913         3      Olsen, Master. Artur Karl                              \n",
       "23  914         1      Flegenheim, Mrs. Alfred (Antoinette)                   \n",
       "24  915         1      Williams, Mr. Richard Norris II                        \n",
       "25  916         1      Ryerson, Mrs. Arthur Larned (Emily Maria Borie)        \n",
       "26  917         3      Robins, Mr. Alexander A                                \n",
       "27  918         1      Ostby, Miss. Helene Ragnhild                           \n",
       "28  919         3      Daher, Mr. Shedid                                      \n",
       "29  920         1      Brady, Mr. John Bertram                                \n",
       "30  921         3      Samaan, Mr. Elias                                      \n",
       "⋮   ⋮           ⋮      ⋮                                                      \n",
       "124 1015        3      Carver, Mr. Alfred John                                \n",
       "125 1016        3      Kennedy, Mr. John                                      \n",
       "126 1017        3      Cribb, Miss. Laura Alice                               \n",
       "127 1018        3      Brobeck, Mr. Karl Rudolf                               \n",
       "128 1019        3      McCoy, Miss. Alicia                                    \n",
       "129 1020        2      Bowenur, Mr. Solomon                                   \n",
       "130 1021        3      Petersen, Mr. Marius                                   \n",
       "131 1022        3      Spinner, Mr. Henry John                                \n",
       "132 1023        1      Gracie, Col. Archibald IV                              \n",
       "133 1024        3      Lefebre, Mrs. Frank (Frances)                          \n",
       "134 1025        3      Thomas, Mr. Charles P                                  \n",
       "135 1026        3      Dintcheff, Mr. Valtcho                                 \n",
       "136 1027        3      Carlsson, Mr. Carl Robert                              \n",
       "137 1028        3      Zakarian, Mr. Mapriededer                              \n",
       "138 1029        2      Schmidt, Mr. August                                    \n",
       "139 1030        3      Drapkin, Miss. Jennie                                  \n",
       "140 1031        3      Goodwin, Mr. Charles Frederick                         \n",
       "141 1032        3      Goodwin, Miss. Jessie Allis                            \n",
       "142 1033        1      Daniels, Miss. Sarah                                   \n",
       "143 1034        1      Ryerson, Mr. Arthur Larned                             \n",
       "144 1035        2      Beauchamp, Mr. Henry James                             \n",
       "145 1036        1      Lindeberg-Lind, Mr. Erik Gustaf (Mr Edward Lingrey\")\"  \n",
       "146 1037        3      Vander Planke, Mr. Julius                              \n",
       "147 1038        1      Hilliard, Mr. Herbert Henry                            \n",
       "148 1039        3      Davies, Mr. Evan                                       \n",
       "149 1040        1      Crafton, Mr. John Bertram                              \n",
       "150 1041        2      Lahtinen, Rev. William                                 \n",
       "151 1042        1      Earnshaw, Mrs. Boulton (Olive Potter)                  \n",
       "152 1043        3      Matinoff, Mr. Nicola                                   \n",
       "153 1044        3      Storey, Mr. Thomas                                     \n",
       "    Sex    Age  SibSp Parch Ticket           Fare     Cabin           Embarked\n",
       "1   male   34.5 0     0     330911             7.8292                 Q       \n",
       "2   female 47.0 1     0     363272             7.0000                 S       \n",
       "3   male   62.0 0     0     240276             9.6875                 Q       \n",
       "4   male   27.0 0     0     315154             8.6625                 S       \n",
       "5   female 22.0 1     1     3101298           12.2875                 S       \n",
       "6   male   14.0 0     0     7538               9.2250                 S       \n",
       "7   female 30.0 0     0     330972             7.6292                 Q       \n",
       "8   male   26.0 1     1     248738            29.0000                 S       \n",
       "9   female 18.0 0     0     2657               7.2292                 C       \n",
       "10  male   21.0 2     0     A/4 48871         24.1500                 S       \n",
       "11  male     NA 0     0     349220             7.8958                 S       \n",
       "12  male   46.0 0     0     694               26.0000                 S       \n",
       "13  female 23.0 1     0     21228             82.2667 B45             S       \n",
       "14  male   63.0 1     0     24065             26.0000                 S       \n",
       "15  female 47.0 1     0     W.E.P. 5734       61.1750 E31             S       \n",
       "16  female 24.0 1     0     SC/PARIS 2167     27.7208                 C       \n",
       "17  male   35.0 0     0     233734            12.3500                 Q       \n",
       "18  male   21.0 0     0     2692               7.2250                 C       \n",
       "19  female 27.0 1     0     STON/O2. 3101270   7.9250                 S       \n",
       "20  female 45.0 0     0     2696               7.2250                 C       \n",
       "21  male   55.0 1     0     PC 17603          59.4000                 C       \n",
       "22  male    9.0 0     1     C 17368            3.1708                 S       \n",
       "23  female   NA 0     0     PC 17598          31.6833                 S       \n",
       "24  male   21.0 0     1     PC 17597          61.3792                 C       \n",
       "25  female 48.0 1     3     PC 17608         262.3750 B57 B59 B63 B66 C       \n",
       "26  male   50.0 1     0     A/5. 3337         14.5000                 S       \n",
       "27  female 22.0 0     1     113509            61.9792 B36             C       \n",
       "28  male   22.5 0     0     2698               7.2250                 C       \n",
       "29  male   41.0 0     0     113054            30.5000 A21             S       \n",
       "30  male     NA 2     0     2662              21.6792                 C       \n",
       "⋮   ⋮      ⋮    ⋮     ⋮     ⋮                ⋮        ⋮               ⋮       \n",
       "124 male   28.0 0     0     392095             7.2500                 S       \n",
       "125 male     NA 0     0     368783             7.7500                 Q       \n",
       "126 female 17.0 0     1     371362            16.1000                 S       \n",
       "127 male   22.0 0     0     350045             7.7958                 S       \n",
       "128 female   NA 2     0     367226            23.2500                 Q       \n",
       "129 male   42.0 0     0     211535            13.0000                 S       \n",
       "130 male   24.0 0     0     342441             8.0500                 S       \n",
       "131 male   32.0 0     0     STON/OQ. 369943    8.0500                 S       \n",
       "132 male   53.0 0     0     113780            28.5000 C51             C       \n",
       "133 female   NA 0     4     4133              25.4667                 S       \n",
       "134 male     NA 1     0     2621               6.4375                 C       \n",
       "135 male   43.0 0     0     349226             7.8958                 S       \n",
       "136 male   24.0 0     0     350409             7.8542                 S       \n",
       "137 male   26.5 0     0     2656               7.2250                 C       \n",
       "138 male   26.0 0     0     248659            13.0000                 S       \n",
       "139 female 23.0 0     0     SOTON/OQ 392083    8.0500                 S       \n",
       "140 male   40.0 1     6     CA 2144           46.9000                 S       \n",
       "141 female 10.0 5     2     CA 2144           46.9000                 S       \n",
       "142 female 33.0 0     0     113781           151.5500                 S       \n",
       "143 male   61.0 1     3     PC 17608         262.3750 B57 B59 B63 B66 C       \n",
       "144 male   28.0 0     0     244358            26.0000                 S       \n",
       "145 male   42.0 0     0     17475             26.5500                 S       \n",
       "146 male   31.0 3     0     345763            18.0000                 S       \n",
       "147 male     NA 0     0     17463             51.8625 E46             S       \n",
       "148 male   22.0 0     0     SC/A4 23568        8.0500                 S       \n",
       "149 male     NA 0     0     113791            26.5500                 S       \n",
       "150 male   30.0 1     1     250651            26.0000                 S       \n",
       "151 female 23.0 0     1     11767             83.1583 C54             C       \n",
       "152 male     NA 0     0     349255             7.8958                 C       \n",
       "153 male   60.5 0     0     3701                   NA                 S       \n",
       "    SexCode Embarked_C Embarked_Q Embarked_S\n",
       "1   0       FALSE       TRUE      FALSE     \n",
       "2   1       FALSE      FALSE       TRUE     \n",
       "3   0       FALSE       TRUE      FALSE     \n",
       "4   0       FALSE      FALSE       TRUE     \n",
       "5   1       FALSE      FALSE       TRUE     \n",
       "6   0       FALSE      FALSE       TRUE     \n",
       "7   1       FALSE       TRUE      FALSE     \n",
       "8   0       FALSE      FALSE       TRUE     \n",
       "9   1        TRUE      FALSE      FALSE     \n",
       "10  0       FALSE      FALSE       TRUE     \n",
       "11  0       FALSE      FALSE       TRUE     \n",
       "12  0       FALSE      FALSE       TRUE     \n",
       "13  1       FALSE      FALSE       TRUE     \n",
       "14  0       FALSE      FALSE       TRUE     \n",
       "15  1       FALSE      FALSE       TRUE     \n",
       "16  1        TRUE      FALSE      FALSE     \n",
       "17  0       FALSE       TRUE      FALSE     \n",
       "18  0        TRUE      FALSE      FALSE     \n",
       "19  1       FALSE      FALSE       TRUE     \n",
       "20  1        TRUE      FALSE      FALSE     \n",
       "21  0        TRUE      FALSE      FALSE     \n",
       "22  0       FALSE      FALSE       TRUE     \n",
       "23  1       FALSE      FALSE       TRUE     \n",
       "24  0        TRUE      FALSE      FALSE     \n",
       "25  1        TRUE      FALSE      FALSE     \n",
       "26  0       FALSE      FALSE       TRUE     \n",
       "27  1        TRUE      FALSE      FALSE     \n",
       "28  0        TRUE      FALSE      FALSE     \n",
       "29  0       FALSE      FALSE       TRUE     \n",
       "30  0        TRUE      FALSE      FALSE     \n",
       "⋮   ⋮       ⋮          ⋮          ⋮         \n",
       "124 0       FALSE      FALSE       TRUE     \n",
       "125 0       FALSE       TRUE      FALSE     \n",
       "126 1       FALSE      FALSE       TRUE     \n",
       "127 0       FALSE      FALSE       TRUE     \n",
       "128 1       FALSE       TRUE      FALSE     \n",
       "129 0       FALSE      FALSE       TRUE     \n",
       "130 0       FALSE      FALSE       TRUE     \n",
       "131 0       FALSE      FALSE       TRUE     \n",
       "132 0        TRUE      FALSE      FALSE     \n",
       "133 1       FALSE      FALSE       TRUE     \n",
       "134 0        TRUE      FALSE      FALSE     \n",
       "135 0       FALSE      FALSE       TRUE     \n",
       "136 0       FALSE      FALSE       TRUE     \n",
       "137 0        TRUE      FALSE      FALSE     \n",
       "138 0       FALSE      FALSE       TRUE     \n",
       "139 1       FALSE      FALSE       TRUE     \n",
       "140 0       FALSE      FALSE       TRUE     \n",
       "141 1       FALSE      FALSE       TRUE     \n",
       "142 1       FALSE      FALSE       TRUE     \n",
       "143 0        TRUE      FALSE      FALSE     \n",
       "144 0       FALSE      FALSE       TRUE     \n",
       "145 0       FALSE      FALSE       TRUE     \n",
       "146 0       FALSE      FALSE       TRUE     \n",
       "147 0       FALSE      FALSE       TRUE     \n",
       "148 0       FALSE      FALSE       TRUE     \n",
       "149 0       FALSE      FALSE       TRUE     \n",
       "150 0       FALSE      FALSE       TRUE     \n",
       "151 1        TRUE      FALSE      FALSE     \n",
       "152 0        TRUE      FALSE      FALSE     \n",
       "153 0       FALSE      FALSE       TRUE     "
      ]
     },
     "metadata": {},
     "output_type": "display_data"
    }
   ],
   "source": [
    "testTitanic$Embarked_C <- testTitanic$Embarked == \"C\"\n",
    "testTitanic$Embarked_Q <- testTitanic$Embarked == \"Q\"\n",
    "testTitanic$Embarked_S <- testTitanic$Embarked == \"S\"\n",
    "head(testTitanic,153)"
   ]
  },
  {
   "cell_type": "code",
   "execution_count": 138,
   "metadata": {},
   "outputs": [
    {
     "name": "stdout",
     "output_type": "stream",
     "text": [
      "'data.frame':\t418 obs. of  15 variables:\n",
      " $ PassengerId: int  892 893 894 895 896 897 898 899 900 901 ...\n",
      " $ Pclass     : int  3 3 2 3 3 3 3 2 3 3 ...\n",
      " $ Name       : Factor w/ 418 levels \"Abbott, Master. Eugene Joseph\",..: 210 409 273 414 182 370 85 58 5 104 ...\n",
      " $ Sex        : Factor w/ 2 levels \"female\",\"male\": 2 1 2 2 1 2 1 2 1 2 ...\n",
      " $ Age        : num  34.5 47 62 27 22 14 30 26 18 21 ...\n",
      " $ SibSp      : int  0 1 0 0 1 0 0 1 0 2 ...\n",
      " $ Parch      : int  0 0 0 0 1 0 0 1 0 0 ...\n",
      " $ Ticket     : Factor w/ 363 levels \"110469\",\"110489\",..: 153 222 74 148 139 262 159 85 101 270 ...\n",
      " $ Fare       : num  7.83 7 9.69 8.66 12.29 ...\n",
      " $ Cabin      : Factor w/ 77 levels \"\",\"A11\",\"A18\",..: 1 1 1 1 1 1 1 1 1 1 ...\n",
      " $ Embarked   : Factor w/ 3 levels \"C\",\"Q\",\"S\": 2 3 2 3 3 3 2 3 1 3 ...\n",
      " $ SexCode    : num  0 1 0 0 1 0 1 0 1 0 ...\n",
      " $ Embarked_C : logi  FALSE FALSE FALSE FALSE FALSE FALSE ...\n",
      " $ Embarked_Q : logi  TRUE FALSE TRUE FALSE FALSE FALSE ...\n",
      " $ Embarked_S : logi  FALSE TRUE FALSE TRUE TRUE TRUE ...\n"
     ]
    }
   ],
   "source": [
    "str(testTitanic)"
   ]
  },
  {
   "cell_type": "markdown",
   "metadata": {},
   "source": [
    "#### input the missing value"
   ]
  },
  {
   "cell_type": "code",
   "execution_count": 139,
   "metadata": {},
   "outputs": [
    {
     "data": {
      "text/html": [
       "8.05"
      ],
      "text/latex": [
       "8.05"
      ],
      "text/markdown": [
       "8.05"
      ],
      "text/plain": [
       "[1] 8.05"
      ]
     },
     "metadata": {},
     "output_type": "display_data"
    }
   ],
   "source": [
    "class3 <- subset(trainData.selected, Pclass == 3)\n",
    "median(class3$Fare)"
   ]
  },
  {
   "cell_type": "code",
   "execution_count": 140,
   "metadata": {},
   "outputs": [],
   "source": [
    "testTitanic[153,9] <- median(class3$Fare)"
   ]
  },
  {
   "cell_type": "code",
   "execution_count": 141,
   "metadata": {},
   "outputs": [
    {
     "data": {
      "text/html": [
       "<table>\n",
       "<caption>A data.frame: 6 × 6</caption>\n",
       "<thead>\n",
       "\t<tr><th></th><th scope=col>Pclass</th><th scope=col>SexCode</th><th scope=col>Fare</th><th scope=col>Embarked_C</th><th scope=col>Embarked_Q</th><th scope=col>Embarked_S</th></tr>\n",
       "\t<tr><th></th><th scope=col>&lt;int&gt;</th><th scope=col>&lt;dbl&gt;</th><th scope=col>&lt;dbl&gt;</th><th scope=col>&lt;lgl&gt;</th><th scope=col>&lt;lgl&gt;</th><th scope=col>&lt;lgl&gt;</th></tr>\n",
       "</thead>\n",
       "<tbody>\n",
       "\t<tr><th scope=row>1</th><td>3</td><td>0</td><td> 7.8292</td><td>FALSE</td><td> TRUE</td><td>FALSE</td></tr>\n",
       "\t<tr><th scope=row>2</th><td>3</td><td>1</td><td> 7.0000</td><td>FALSE</td><td>FALSE</td><td> TRUE</td></tr>\n",
       "\t<tr><th scope=row>3</th><td>2</td><td>0</td><td> 9.6875</td><td>FALSE</td><td> TRUE</td><td>FALSE</td></tr>\n",
       "\t<tr><th scope=row>4</th><td>3</td><td>0</td><td> 8.6625</td><td>FALSE</td><td>FALSE</td><td> TRUE</td></tr>\n",
       "\t<tr><th scope=row>5</th><td>3</td><td>1</td><td>12.2875</td><td>FALSE</td><td>FALSE</td><td> TRUE</td></tr>\n",
       "\t<tr><th scope=row>6</th><td>3</td><td>0</td><td> 9.2250</td><td>FALSE</td><td>FALSE</td><td> TRUE</td></tr>\n",
       "</tbody>\n",
       "</table>\n"
      ],
      "text/latex": [
       "A data.frame: 6 × 6\n",
       "\\begin{tabular}{r|llllll}\n",
       "  & Pclass & SexCode & Fare & Embarked\\_C & Embarked\\_Q & Embarked\\_S\\\\\n",
       "  & <int> & <dbl> & <dbl> & <lgl> & <lgl> & <lgl>\\\\\n",
       "\\hline\n",
       "\t1 & 3 & 0 &  7.8292 & FALSE &  TRUE & FALSE\\\\\n",
       "\t2 & 3 & 1 &  7.0000 & FALSE & FALSE &  TRUE\\\\\n",
       "\t3 & 2 & 0 &  9.6875 & FALSE &  TRUE & FALSE\\\\\n",
       "\t4 & 3 & 0 &  8.6625 & FALSE & FALSE &  TRUE\\\\\n",
       "\t5 & 3 & 1 & 12.2875 & FALSE & FALSE &  TRUE\\\\\n",
       "\t6 & 3 & 0 &  9.2250 & FALSE & FALSE &  TRUE\\\\\n",
       "\\end{tabular}\n"
      ],
      "text/markdown": [
       "\n",
       "A data.frame: 6 × 6\n",
       "\n",
       "| <!--/--> | Pclass &lt;int&gt; | SexCode &lt;dbl&gt; | Fare &lt;dbl&gt; | Embarked_C &lt;lgl&gt; | Embarked_Q &lt;lgl&gt; | Embarked_S &lt;lgl&gt; |\n",
       "|---|---|---|---|---|---|---|\n",
       "| 1 | 3 | 0 |  7.8292 | FALSE |  TRUE | FALSE |\n",
       "| 2 | 3 | 1 |  7.0000 | FALSE | FALSE |  TRUE |\n",
       "| 3 | 2 | 0 |  9.6875 | FALSE |  TRUE | FALSE |\n",
       "| 4 | 3 | 0 |  8.6625 | FALSE | FALSE |  TRUE |\n",
       "| 5 | 3 | 1 | 12.2875 | FALSE | FALSE |  TRUE |\n",
       "| 6 | 3 | 0 |  9.2250 | FALSE | FALSE |  TRUE |\n",
       "\n"
      ],
      "text/plain": [
       "  Pclass SexCode Fare    Embarked_C Embarked_Q Embarked_S\n",
       "1 3      0        7.8292 FALSE       TRUE      FALSE     \n",
       "2 3      1        7.0000 FALSE      FALSE       TRUE     \n",
       "3 2      0        9.6875 FALSE       TRUE      FALSE     \n",
       "4 3      0        8.6625 FALSE      FALSE       TRUE     \n",
       "5 3      1       12.2875 FALSE      FALSE       TRUE     \n",
       "6 3      0        9.2250 FALSE      FALSE       TRUE     "
      ]
     },
     "metadata": {},
     "output_type": "display_data"
    }
   ],
   "source": [
    "col.test <- c(\"Pclass\", \"SexCode\", \"Fare\", \"Embarked_C\", \"Embarked_Q\", \"Embarked_S\") \n",
    "testData <- testTitanic[col.test]\n",
    "\n",
    "head(testData)"
   ]
  },
  {
   "cell_type": "markdown",
   "metadata": {},
   "source": [
    "### Load submission data"
   ]
  },
  {
   "cell_type": "code",
   "execution_count": 142,
   "metadata": {},
   "outputs": [
    {
     "data": {
      "text/html": [
       "<table>\n",
       "<caption>A data.frame: 6 × 2</caption>\n",
       "<thead>\n",
       "\t<tr><th></th><th scope=col>PassengerId</th><th scope=col>Survived</th></tr>\n",
       "\t<tr><th></th><th scope=col>&lt;int&gt;</th><th scope=col>&lt;int&gt;</th></tr>\n",
       "</thead>\n",
       "<tbody>\n",
       "\t<tr><th scope=row>1</th><td>892</td><td>0</td></tr>\n",
       "\t<tr><th scope=row>2</th><td>893</td><td>1</td></tr>\n",
       "\t<tr><th scope=row>3</th><td>894</td><td>0</td></tr>\n",
       "\t<tr><th scope=row>4</th><td>895</td><td>0</td></tr>\n",
       "\t<tr><th scope=row>5</th><td>896</td><td>1</td></tr>\n",
       "\t<tr><th scope=row>6</th><td>897</td><td>0</td></tr>\n",
       "</tbody>\n",
       "</table>\n"
      ],
      "text/latex": [
       "A data.frame: 6 × 2\n",
       "\\begin{tabular}{r|ll}\n",
       "  & PassengerId & Survived\\\\\n",
       "  & <int> & <int>\\\\\n",
       "\\hline\n",
       "\t1 & 892 & 0\\\\\n",
       "\t2 & 893 & 1\\\\\n",
       "\t3 & 894 & 0\\\\\n",
       "\t4 & 895 & 0\\\\\n",
       "\t5 & 896 & 1\\\\\n",
       "\t6 & 897 & 0\\\\\n",
       "\\end{tabular}\n"
      ],
      "text/markdown": [
       "\n",
       "A data.frame: 6 × 2\n",
       "\n",
       "| <!--/--> | PassengerId &lt;int&gt; | Survived &lt;int&gt; |\n",
       "|---|---|---|\n",
       "| 1 | 892 | 0 |\n",
       "| 2 | 893 | 1 |\n",
       "| 3 | 894 | 0 |\n",
       "| 4 | 895 | 0 |\n",
       "| 5 | 896 | 1 |\n",
       "| 6 | 897 | 0 |\n",
       "\n"
      ],
      "text/plain": [
       "  PassengerId Survived\n",
       "1 892         0       \n",
       "2 893         1       \n",
       "3 894         0       \n",
       "4 895         0       \n",
       "5 896         1       \n",
       "6 897         0       "
      ]
     },
     "metadata": {},
     "output_type": "display_data"
    }
   ],
   "source": [
    "SubmitTitanic <- read.csv(\"./Data/titanic/gender_submission.csv\")\n",
    "head(SubmitTitanic)"
   ]
  },
  {
   "cell_type": "markdown",
   "metadata": {},
   "source": [
    "## Re-train randomForest with entire dataset"
   ]
  },
  {
   "cell_type": "code",
   "execution_count": 145,
   "metadata": {},
   "outputs": [
    {
     "data": {
      "text/plain": [
       "\n",
       "Call:\n",
       " randomForest(formula = Survived ~ ., data = trainData.selected,      ntree = 100) \n",
       "               Type of random forest: classification\n",
       "                     Number of trees: 100\n",
       "No. of variables tried at each split: 2\n",
       "\n",
       "        OOB estimate of  error rate: 18.97%\n",
       "Confusion matrix:\n",
       "    0   1 class.error\n",
       "0 525  24  0.04371585\n",
       "1 145 197  0.42397661"
      ]
     },
     "metadata": {},
     "output_type": "display_data"
    }
   ],
   "source": [
    "rf.final <- randomForest(Survived ~ ., data = trainData.selected, ntree = 100)\n",
    "\n",
    "\n",
    "# rf.final <- randomForest(Survived ~ Pclass + SexCode + Fare + Embarked_C + Embarked_Q + Embarked_S,\n",
    "#                         data = trainData.selected, ntree = 100)\n",
    "rf.final"
   ]
  },
  {
   "cell_type": "markdown",
   "metadata": {},
   "source": [
    "## Predict"
   ]
  },
  {
   "cell_type": "code",
   "execution_count": 146,
   "metadata": {
    "scrolled": true
   },
   "outputs": [
    {
     "data": {
      "text/html": [
       "<dl class=dl-horizontal>\n",
       "\t<dt>1</dt>\n",
       "\t\t<dd>0</dd>\n",
       "\t<dt>2</dt>\n",
       "\t\t<dd>0</dd>\n",
       "\t<dt>3</dt>\n",
       "\t\t<dd>0</dd>\n",
       "\t<dt>4</dt>\n",
       "\t\t<dd>0</dd>\n",
       "\t<dt>5</dt>\n",
       "\t\t<dd>0</dd>\n",
       "\t<dt>6</dt>\n",
       "\t\t<dd>0</dd>\n",
       "</dl>\n",
       "\n",
       "<details>\n",
       "\t<summary style=display:list-item;cursor:pointer>\n",
       "\t\t<strong>Levels</strong>:\n",
       "\t</summary>\n",
       "\t<ol class=list-inline>\n",
       "\t\t<li>'0'</li>\n",
       "\t\t<li>'1'</li>\n",
       "\t</ol>\n",
       "</details>"
      ],
      "text/latex": [
       "\\begin{description*}\n",
       "\\item[1] 0\n",
       "\\item[2] 0\n",
       "\\item[3] 0\n",
       "\\item[4] 0\n",
       "\\item[5] 0\n",
       "\\item[6] 0\n",
       "\\end{description*}\n",
       "\n",
       "\\emph{Levels}: \\begin{enumerate*}\n",
       "\\item '0'\n",
       "\\item '1'\n",
       "\\end{enumerate*}\n"
      ],
      "text/markdown": [
       "1\n",
       ":   02\n",
       ":   03\n",
       ":   04\n",
       ":   05\n",
       ":   06\n",
       ":   0\n",
       "\n",
       "\n",
       "**Levels**: 1. '0'\n",
       "2. '1'\n",
       "\n",
       "\n"
      ],
      "text/plain": [
       "1 2 3 4 5 6 \n",
       "0 0 0 0 0 0 \n",
       "Levels: 0 1"
      ]
     },
     "metadata": {},
     "output_type": "display_data"
    }
   ],
   "source": [
    "pred.rf <- predict(rf.final, testData)\n",
    "head(pred.rf)"
   ]
  },
  {
   "cell_type": "code",
   "execution_count": 147,
   "metadata": {
    "scrolled": true
   },
   "outputs": [
    {
     "data": {
      "text/html": [
       "<table>\n",
       "<caption>A data.frame: 6 × 1</caption>\n",
       "<thead>\n",
       "\t<tr><th></th><th scope=col>pred.rf</th></tr>\n",
       "\t<tr><th></th><th scope=col>&lt;fct&gt;</th></tr>\n",
       "</thead>\n",
       "<tbody>\n",
       "\t<tr><th scope=row>1</th><td>0</td></tr>\n",
       "\t<tr><th scope=row>2</th><td>0</td></tr>\n",
       "\t<tr><th scope=row>3</th><td>0</td></tr>\n",
       "\t<tr><th scope=row>4</th><td>0</td></tr>\n",
       "\t<tr><th scope=row>5</th><td>0</td></tr>\n",
       "\t<tr><th scope=row>6</th><td>0</td></tr>\n",
       "</tbody>\n",
       "</table>\n"
      ],
      "text/latex": [
       "A data.frame: 6 × 1\n",
       "\\begin{tabular}{r|l}\n",
       "  & pred.rf\\\\\n",
       "  & <fct>\\\\\n",
       "\\hline\n",
       "\t1 & 0\\\\\n",
       "\t2 & 0\\\\\n",
       "\t3 & 0\\\\\n",
       "\t4 & 0\\\\\n",
       "\t5 & 0\\\\\n",
       "\t6 & 0\\\\\n",
       "\\end{tabular}\n"
      ],
      "text/markdown": [
       "\n",
       "A data.frame: 6 × 1\n",
       "\n",
       "| <!--/--> | pred.rf &lt;fct&gt; |\n",
       "|---|---|\n",
       "| 1 | 0 |\n",
       "| 2 | 0 |\n",
       "| 3 | 0 |\n",
       "| 4 | 0 |\n",
       "| 5 | 0 |\n",
       "| 6 | 0 |\n",
       "\n"
      ],
      "text/plain": [
       "  pred.rf\n",
       "1 0      \n",
       "2 0      \n",
       "3 0      \n",
       "4 0      \n",
       "5 0      \n",
       "6 0      "
      ]
     },
     "metadata": {},
     "output_type": "display_data"
    }
   ],
   "source": [
    "pred.df <- as.data.frame(pred.rf)\n",
    "head(pred.df)"
   ]
  },
  {
   "cell_type": "markdown",
   "metadata": {},
   "source": [
    "## combine columns"
   ]
  },
  {
   "cell_type": "code",
   "execution_count": 148,
   "metadata": {
    "scrolled": true
   },
   "outputs": [
    {
     "data": {
      "text/html": [
       "<table>\n",
       "<caption>A data.frame: 6 × 2</caption>\n",
       "<thead>\n",
       "\t<tr><th></th><th scope=col>PassengerId</th><th scope=col>Survived</th></tr>\n",
       "\t<tr><th></th><th scope=col>&lt;int&gt;</th><th scope=col>&lt;fct&gt;</th></tr>\n",
       "</thead>\n",
       "<tbody>\n",
       "\t<tr><th scope=row>1</th><td>892</td><td>0</td></tr>\n",
       "\t<tr><th scope=row>2</th><td>893</td><td>0</td></tr>\n",
       "\t<tr><th scope=row>3</th><td>894</td><td>0</td></tr>\n",
       "\t<tr><th scope=row>4</th><td>895</td><td>0</td></tr>\n",
       "\t<tr><th scope=row>5</th><td>896</td><td>0</td></tr>\n",
       "\t<tr><th scope=row>6</th><td>897</td><td>0</td></tr>\n",
       "</tbody>\n",
       "</table>\n"
      ],
      "text/latex": [
       "A data.frame: 6 × 2\n",
       "\\begin{tabular}{r|ll}\n",
       "  & PassengerId & Survived\\\\\n",
       "  & <int> & <fct>\\\\\n",
       "\\hline\n",
       "\t1 & 892 & 0\\\\\n",
       "\t2 & 893 & 0\\\\\n",
       "\t3 & 894 & 0\\\\\n",
       "\t4 & 895 & 0\\\\\n",
       "\t5 & 896 & 0\\\\\n",
       "\t6 & 897 & 0\\\\\n",
       "\\end{tabular}\n"
      ],
      "text/markdown": [
       "\n",
       "A data.frame: 6 × 2\n",
       "\n",
       "| <!--/--> | PassengerId &lt;int&gt; | Survived &lt;fct&gt; |\n",
       "|---|---|---|\n",
       "| 1 | 892 | 0 |\n",
       "| 2 | 893 | 0 |\n",
       "| 3 | 894 | 0 |\n",
       "| 4 | 895 | 0 |\n",
       "| 5 | 896 | 0 |\n",
       "| 6 | 897 | 0 |\n",
       "\n"
      ],
      "text/plain": [
       "  PassengerId Survived\n",
       "1 892         0       \n",
       "2 893         0       \n",
       "3 894         0       \n",
       "4 895         0       \n",
       "5 896         0       \n",
       "6 897         0       "
      ]
     },
     "metadata": {},
     "output_type": "display_data"
    }
   ],
   "source": [
    "mySubmission <- cbind(SubmitTitanic, pred.df$pred)\n",
    "mySubmission <- mySubmission[-2]\n",
    "colnames(mySubmission) <- c(\"PassengerId\", \"Survived\")\n",
    "rownames(mySubmission) <- c()\n",
    "head(mySubmission)"
   ]
  },
  {
   "cell_type": "code",
   "execution_count": 149,
   "metadata": {},
   "outputs": [],
   "source": [
    "write.csv(mySubmission, file=\"./Data/gender_submission.csv\", row.names=FALSE)"
   ]
  },
  {
   "cell_type": "markdown",
   "metadata": {},
   "source": [
    "## SVM"
   ]
  },
  {
   "cell_type": "code",
   "execution_count": 150,
   "metadata": {},
   "outputs": [
    {
     "data": {
      "text/plain": [
       "\n",
       "Call:\n",
       "svm(formula = Survived ~ Pclass + SexCode + Fare + Embarked_C + Embarked_Q + \n",
       "    Embarked_S, data = trainData.selected, ntree = 100)\n",
       "\n",
       "\n",
       "Parameters:\n",
       "   SVM-Type:  C-classification \n",
       " SVM-Kernel:  radial \n",
       "       cost:  1 \n",
       "\n",
       "Number of Support Vectors:  399\n"
      ]
     },
     "metadata": {},
     "output_type": "display_data"
    }
   ],
   "source": [
    "# SVM\n",
    "svm.final <- svm(Survived ~ Pclass + SexCode + Fare + Embarked_C + Embarked_Q + Embarked_S,\n",
    "                         data = trainData.selected, ntree = 100)\n",
    "svm.final"
   ]
  },
  {
   "cell_type": "code",
   "execution_count": 151,
   "metadata": {},
   "outputs": [],
   "source": [
    "#### Predict\n",
    "pred.svm <- predict(svm.final, testData)"
   ]
  },
  {
   "cell_type": "code",
   "execution_count": 152,
   "metadata": {},
   "outputs": [
    {
     "data": {
      "text/html": [
       "<table>\n",
       "<caption>A data.frame: 6 × 1</caption>\n",
       "<thead>\n",
       "\t<tr><th></th><th scope=col>pred.svm</th></tr>\n",
       "\t<tr><th></th><th scope=col>&lt;fct&gt;</th></tr>\n",
       "</thead>\n",
       "<tbody>\n",
       "\t<tr><th scope=row>1</th><td>0</td></tr>\n",
       "\t<tr><th scope=row>2</th><td>0</td></tr>\n",
       "\t<tr><th scope=row>3</th><td>0</td></tr>\n",
       "\t<tr><th scope=row>4</th><td>0</td></tr>\n",
       "\t<tr><th scope=row>5</th><td>0</td></tr>\n",
       "\t<tr><th scope=row>6</th><td>0</td></tr>\n",
       "</tbody>\n",
       "</table>\n"
      ],
      "text/latex": [
       "A data.frame: 6 × 1\n",
       "\\begin{tabular}{r|l}\n",
       "  & pred.svm\\\\\n",
       "  & <fct>\\\\\n",
       "\\hline\n",
       "\t1 & 0\\\\\n",
       "\t2 & 0\\\\\n",
       "\t3 & 0\\\\\n",
       "\t4 & 0\\\\\n",
       "\t5 & 0\\\\\n",
       "\t6 & 0\\\\\n",
       "\\end{tabular}\n"
      ],
      "text/markdown": [
       "\n",
       "A data.frame: 6 × 1\n",
       "\n",
       "| <!--/--> | pred.svm &lt;fct&gt; |\n",
       "|---|---|\n",
       "| 1 | 0 |\n",
       "| 2 | 0 |\n",
       "| 3 | 0 |\n",
       "| 4 | 0 |\n",
       "| 5 | 0 |\n",
       "| 6 | 0 |\n",
       "\n"
      ],
      "text/plain": [
       "  pred.svm\n",
       "1 0       \n",
       "2 0       \n",
       "3 0       \n",
       "4 0       \n",
       "5 0       \n",
       "6 0       "
      ]
     },
     "metadata": {},
     "output_type": "display_data"
    }
   ],
   "source": [
    "pred.df <- as.data.frame(pred.svm)\n",
    "head(pred.df)"
   ]
  },
  {
   "cell_type": "code",
   "execution_count": null,
   "metadata": {},
   "outputs": [],
   "source": [
    "mySubmission <- cbind(SubmitTitanic, pred.df$pred.svm)\n",
    "mySubmission <- mySubmission[-2]\n",
    "colnames(mySubmission) <- c(\"PassengerId\", \"Survived\")\n",
    "rownames(mySubmission) <- c()\n",
    "head(mySubmission)"
   ]
  },
  {
   "cell_type": "code",
   "execution_count": 153,
   "metadata": {},
   "outputs": [],
   "source": [
    "write.csv(mySubmission, file=\"./Data/gender_submission_svm.csv\", row.names=FALSE)"
   ]
  },
  {
   "cell_type": "markdown",
   "metadata": {},
   "source": [
    "## Neutal Networks"
   ]
  },
  {
   "cell_type": "code",
   "execution_count": 154,
   "metadata": {},
   "outputs": [
    {
     "name": "stdout",
     "output_type": "stream",
     "text": [
      "# weights:  73\n",
      "initial  value 655.345584 \n",
      "iter  10 value 561.180716\n",
      "iter  20 value 458.960533\n",
      "iter  30 value 394.889283\n",
      "iter  40 value 385.255999\n",
      "iter  50 value 382.922313\n",
      "iter  60 value 379.604385\n",
      "iter  70 value 377.361933\n",
      "iter  80 value 376.596329\n",
      "iter  90 value 376.165912\n",
      "iter 100 value 374.211963\n",
      "final  value 374.211963 \n",
      "stopped after 100 iterations\n"
     ]
    },
    {
     "data": {
      "text/plain": [
       "a 6-9-1 network with 73 weights\n",
       "inputs: Pclass SexCode Fare Embarked_CTRUE Embarked_QTRUE Embarked_STRUE \n",
       "output(s): Survived \n",
       "options were - entropy fitting "
      ]
     },
     "metadata": {},
     "output_type": "display_data"
    }
   ],
   "source": [
    "#### Training\n",
    "nnmodel <- nnet(Survived ~. , data = trainData.selected, size = 9)\n",
    "nnmodel\n",
    "\n",
    "#### Predict\n",
    "pred.nnet <- predict(nnmodel, testData, type = \"class\")"
   ]
  },
  {
   "cell_type": "code",
   "execution_count": 160,
   "metadata": {
    "scrolled": true
   },
   "outputs": [
    {
     "data": {
      "text/html": [
       "<ol class=list-inline>\n",
       "\t<li>'0'</li>\n",
       "\t<li>'1'</li>\n",
       "\t<li>'0'</li>\n",
       "\t<li>'0'</li>\n",
       "\t<li>'0'</li>\n",
       "\t<li>'0'</li>\n",
       "</ol>\n"
      ],
      "text/latex": [
       "\\begin{enumerate*}\n",
       "\\item '0'\n",
       "\\item '1'\n",
       "\\item '0'\n",
       "\\item '0'\n",
       "\\item '0'\n",
       "\\item '0'\n",
       "\\end{enumerate*}\n"
      ],
      "text/markdown": [
       "1. '0'\n",
       "2. '1'\n",
       "3. '0'\n",
       "4. '0'\n",
       "5. '0'\n",
       "6. '0'\n",
       "\n",
       "\n"
      ],
      "text/plain": [
       "[1] \"0\" \"1\" \"0\" \"0\" \"0\" \"0\""
      ]
     },
     "metadata": {},
     "output_type": "display_data"
    }
   ],
   "source": [
    "head(pred.nnet)"
   ]
  },
  {
   "cell_type": "code",
   "execution_count": 156,
   "metadata": {},
   "outputs": [
    {
     "data": {
      "text/html": [
       "<table>\n",
       "<caption>A data.frame: 6 × 1</caption>\n",
       "<thead>\n",
       "\t<tr><th></th><th scope=col>pred.nnet</th></tr>\n",
       "\t<tr><th></th><th scope=col>&lt;fct&gt;</th></tr>\n",
       "</thead>\n",
       "<tbody>\n",
       "\t<tr><th scope=row>1</th><td>0</td></tr>\n",
       "\t<tr><th scope=row>2</th><td>1</td></tr>\n",
       "\t<tr><th scope=row>3</th><td>0</td></tr>\n",
       "\t<tr><th scope=row>4</th><td>0</td></tr>\n",
       "\t<tr><th scope=row>5</th><td>0</td></tr>\n",
       "\t<tr><th scope=row>6</th><td>0</td></tr>\n",
       "</tbody>\n",
       "</table>\n"
      ],
      "text/latex": [
       "A data.frame: 6 × 1\n",
       "\\begin{tabular}{r|l}\n",
       "  & pred.nnet\\\\\n",
       "  & <fct>\\\\\n",
       "\\hline\n",
       "\t1 & 0\\\\\n",
       "\t2 & 1\\\\\n",
       "\t3 & 0\\\\\n",
       "\t4 & 0\\\\\n",
       "\t5 & 0\\\\\n",
       "\t6 & 0\\\\\n",
       "\\end{tabular}\n"
      ],
      "text/markdown": [
       "\n",
       "A data.frame: 6 × 1\n",
       "\n",
       "| <!--/--> | pred.nnet &lt;fct&gt; |\n",
       "|---|---|\n",
       "| 1 | 0 |\n",
       "| 2 | 1 |\n",
       "| 3 | 0 |\n",
       "| 4 | 0 |\n",
       "| 5 | 0 |\n",
       "| 6 | 0 |\n",
       "\n"
      ],
      "text/plain": [
       "  pred.nnet\n",
       "1 0        \n",
       "2 1        \n",
       "3 0        \n",
       "4 0        \n",
       "5 0        \n",
       "6 0        "
      ]
     },
     "metadata": {},
     "output_type": "display_data"
    },
    {
     "data": {
      "text/html": [
       "<table>\n",
       "<caption>A data.frame: 6 × 2</caption>\n",
       "<thead>\n",
       "\t<tr><th></th><th scope=col>PassengerId</th><th scope=col>Survived</th></tr>\n",
       "\t<tr><th></th><th scope=col>&lt;int&gt;</th><th scope=col>&lt;fct&gt;</th></tr>\n",
       "</thead>\n",
       "<tbody>\n",
       "\t<tr><th scope=row>1</th><td>892</td><td>0</td></tr>\n",
       "\t<tr><th scope=row>2</th><td>893</td><td>1</td></tr>\n",
       "\t<tr><th scope=row>3</th><td>894</td><td>0</td></tr>\n",
       "\t<tr><th scope=row>4</th><td>895</td><td>0</td></tr>\n",
       "\t<tr><th scope=row>5</th><td>896</td><td>0</td></tr>\n",
       "\t<tr><th scope=row>6</th><td>897</td><td>0</td></tr>\n",
       "</tbody>\n",
       "</table>\n"
      ],
      "text/latex": [
       "A data.frame: 6 × 2\n",
       "\\begin{tabular}{r|ll}\n",
       "  & PassengerId & Survived\\\\\n",
       "  & <int> & <fct>\\\\\n",
       "\\hline\n",
       "\t1 & 892 & 0\\\\\n",
       "\t2 & 893 & 1\\\\\n",
       "\t3 & 894 & 0\\\\\n",
       "\t4 & 895 & 0\\\\\n",
       "\t5 & 896 & 0\\\\\n",
       "\t6 & 897 & 0\\\\\n",
       "\\end{tabular}\n"
      ],
      "text/markdown": [
       "\n",
       "A data.frame: 6 × 2\n",
       "\n",
       "| <!--/--> | PassengerId &lt;int&gt; | Survived &lt;fct&gt; |\n",
       "|---|---|---|\n",
       "| 1 | 892 | 0 |\n",
       "| 2 | 893 | 1 |\n",
       "| 3 | 894 | 0 |\n",
       "| 4 | 895 | 0 |\n",
       "| 5 | 896 | 0 |\n",
       "| 6 | 897 | 0 |\n",
       "\n"
      ],
      "text/plain": [
       "  PassengerId Survived\n",
       "1 892         0       \n",
       "2 893         1       \n",
       "3 894         0       \n",
       "4 895         0       \n",
       "5 896         0       \n",
       "6 897         0       "
      ]
     },
     "metadata": {},
     "output_type": "display_data"
    }
   ],
   "source": [
    "pred.df <- as.data.frame(pred.nnet)\n",
    "head(pred.df)\n",
    "\n",
    "mySubmission <- cbind(SubmitTitanic, pred.df$pred.nnet)\n",
    "mySubmission <- mySubmission[-2]\n",
    "colnames(mySubmission) <- c(\"PassengerId\", \"Survived\")\n",
    "rownames(mySubmission) <- c()\n",
    "head(mySubmission)"
   ]
  },
  {
   "cell_type": "code",
   "execution_count": 158,
   "metadata": {},
   "outputs": [],
   "source": [
    "write.csv(mySubmission, file=\"./Data/gender_submission_nnet.csv\", row.names=FALSE)"
   ]
  },
  {
   "cell_type": "code",
   "execution_count": 159,
   "metadata": {},
   "outputs": [
    {
     "data": {
      "text/html": [
       "<table>\n",
       "<caption>A data.frame: 891 × 12</caption>\n",
       "<thead>\n",
       "\t<tr><th scope=col>PassengerId</th><th scope=col>Survived</th><th scope=col>Pclass</th><th scope=col>Name</th><th scope=col>Sex</th><th scope=col>Age</th><th scope=col>SibSp</th><th scope=col>Parch</th><th scope=col>Ticket</th><th scope=col>Fare</th><th scope=col>Cabin</th><th scope=col>Embarked</th></tr>\n",
       "\t<tr><th scope=col>&lt;int&gt;</th><th scope=col>&lt;int&gt;</th><th scope=col>&lt;int&gt;</th><th scope=col>&lt;fct&gt;</th><th scope=col>&lt;fct&gt;</th><th scope=col>&lt;dbl&gt;</th><th scope=col>&lt;int&gt;</th><th scope=col>&lt;int&gt;</th><th scope=col>&lt;fct&gt;</th><th scope=col>&lt;dbl&gt;</th><th scope=col>&lt;fct&gt;</th><th scope=col>&lt;fct&gt;</th></tr>\n",
       "</thead>\n",
       "<tbody>\n",
       "\t<tr><td> 1</td><td>0</td><td>3</td><td>Braund, Mr. Owen Harris                                  </td><td>male  </td><td>22</td><td>1</td><td>0</td><td>A/5 21171       </td><td>  7.2500</td><td>           </td><td>S</td></tr>\n",
       "\t<tr><td> 2</td><td>1</td><td>1</td><td>Cumings, Mrs. John Bradley (Florence Briggs Thayer)      </td><td>female</td><td>38</td><td>1</td><td>0</td><td>PC 17599        </td><td> 71.2833</td><td>C85        </td><td>C</td></tr>\n",
       "\t<tr><td> 3</td><td>1</td><td>3</td><td>Heikkinen, Miss. Laina                                   </td><td>female</td><td>26</td><td>0</td><td>0</td><td>STON/O2. 3101282</td><td>  7.9250</td><td>           </td><td>S</td></tr>\n",
       "\t<tr><td> 4</td><td>1</td><td>1</td><td>Futrelle, Mrs. Jacques Heath (Lily May Peel)             </td><td>female</td><td>35</td><td>1</td><td>0</td><td>113803          </td><td> 53.1000</td><td>C123       </td><td>S</td></tr>\n",
       "\t<tr><td> 5</td><td>0</td><td>3</td><td>Allen, Mr. William Henry                                 </td><td>male  </td><td>35</td><td>0</td><td>0</td><td>373450          </td><td>  8.0500</td><td>           </td><td>S</td></tr>\n",
       "\t<tr><td> 6</td><td>0</td><td>3</td><td>Moran, Mr. James                                         </td><td>male  </td><td>NA</td><td>0</td><td>0</td><td>330877          </td><td>  8.4583</td><td>           </td><td>Q</td></tr>\n",
       "\t<tr><td> 7</td><td>0</td><td>1</td><td>McCarthy, Mr. Timothy J                                  </td><td>male  </td><td>54</td><td>0</td><td>0</td><td>17463           </td><td> 51.8625</td><td>E46        </td><td>S</td></tr>\n",
       "\t<tr><td> 8</td><td>0</td><td>3</td><td>Palsson, Master. Gosta Leonard                           </td><td>male  </td><td> 2</td><td>3</td><td>1</td><td>349909          </td><td> 21.0750</td><td>           </td><td>S</td></tr>\n",
       "\t<tr><td> 9</td><td>1</td><td>3</td><td>Johnson, Mrs. Oscar W (Elisabeth Vilhelmina Berg)        </td><td>female</td><td>27</td><td>0</td><td>2</td><td>347742          </td><td> 11.1333</td><td>           </td><td>S</td></tr>\n",
       "\t<tr><td>10</td><td>1</td><td>2</td><td>Nasser, Mrs. Nicholas (Adele Achem)                      </td><td>female</td><td>14</td><td>1</td><td>0</td><td>237736          </td><td> 30.0708</td><td>           </td><td>C</td></tr>\n",
       "\t<tr><td>11</td><td>1</td><td>3</td><td>Sandstrom, Miss. Marguerite Rut                          </td><td>female</td><td> 4</td><td>1</td><td>1</td><td>PP 9549         </td><td> 16.7000</td><td>G6         </td><td>S</td></tr>\n",
       "\t<tr><td>12</td><td>1</td><td>1</td><td>Bonnell, Miss. Elizabeth                                 </td><td>female</td><td>58</td><td>0</td><td>0</td><td>113783          </td><td> 26.5500</td><td>C103       </td><td>S</td></tr>\n",
       "\t<tr><td>13</td><td>0</td><td>3</td><td>Saundercock, Mr. William Henry                           </td><td>male  </td><td>20</td><td>0</td><td>0</td><td>A/5. 2151       </td><td>  8.0500</td><td>           </td><td>S</td></tr>\n",
       "\t<tr><td>14</td><td>0</td><td>3</td><td>Andersson, Mr. Anders Johan                              </td><td>male  </td><td>39</td><td>1</td><td>5</td><td>347082          </td><td> 31.2750</td><td>           </td><td>S</td></tr>\n",
       "\t<tr><td>15</td><td>0</td><td>3</td><td>Vestrom, Miss. Hulda Amanda Adolfina                     </td><td>female</td><td>14</td><td>0</td><td>0</td><td>350406          </td><td>  7.8542</td><td>           </td><td>S</td></tr>\n",
       "\t<tr><td>16</td><td>1</td><td>2</td><td>Hewlett, Mrs. (Mary D Kingcome)                          </td><td>female</td><td>55</td><td>0</td><td>0</td><td>248706          </td><td> 16.0000</td><td>           </td><td>S</td></tr>\n",
       "\t<tr><td>17</td><td>0</td><td>3</td><td>Rice, Master. Eugene                                     </td><td>male  </td><td> 2</td><td>4</td><td>1</td><td>382652          </td><td> 29.1250</td><td>           </td><td>Q</td></tr>\n",
       "\t<tr><td>18</td><td>1</td><td>2</td><td>Williams, Mr. Charles Eugene                             </td><td>male  </td><td>NA</td><td>0</td><td>0</td><td>244373          </td><td> 13.0000</td><td>           </td><td>S</td></tr>\n",
       "\t<tr><td>19</td><td>0</td><td>3</td><td>Vander Planke, Mrs. Julius (Emelia Maria Vandemoortele)  </td><td>female</td><td>31</td><td>1</td><td>0</td><td>345763          </td><td> 18.0000</td><td>           </td><td>S</td></tr>\n",
       "\t<tr><td>20</td><td>1</td><td>3</td><td>Masselmani, Mrs. Fatima                                  </td><td>female</td><td>NA</td><td>0</td><td>0</td><td>2649            </td><td>  7.2250</td><td>           </td><td>C</td></tr>\n",
       "\t<tr><td>21</td><td>0</td><td>2</td><td>Fynney, Mr. Joseph J                                     </td><td>male  </td><td>35</td><td>0</td><td>0</td><td>239865          </td><td> 26.0000</td><td>           </td><td>S</td></tr>\n",
       "\t<tr><td>22</td><td>1</td><td>2</td><td>Beesley, Mr. Lawrence                                    </td><td>male  </td><td>34</td><td>0</td><td>0</td><td>248698          </td><td> 13.0000</td><td>D56        </td><td>S</td></tr>\n",
       "\t<tr><td>23</td><td>1</td><td>3</td><td>McGowan, Miss. Anna \"Annie\"                              </td><td>female</td><td>15</td><td>0</td><td>0</td><td>330923          </td><td>  8.0292</td><td>           </td><td>Q</td></tr>\n",
       "\t<tr><td>24</td><td>1</td><td>1</td><td>Sloper, Mr. William Thompson                             </td><td>male  </td><td>28</td><td>0</td><td>0</td><td>113788          </td><td> 35.5000</td><td>A6         </td><td>S</td></tr>\n",
       "\t<tr><td>25</td><td>0</td><td>3</td><td>Palsson, Miss. Torborg Danira                            </td><td>female</td><td> 8</td><td>3</td><td>1</td><td>349909          </td><td> 21.0750</td><td>           </td><td>S</td></tr>\n",
       "\t<tr><td>26</td><td>1</td><td>3</td><td>Asplund, Mrs. Carl Oscar (Selma Augusta Emilia Johansson)</td><td>female</td><td>38</td><td>1</td><td>5</td><td>347077          </td><td> 31.3875</td><td>           </td><td>S</td></tr>\n",
       "\t<tr><td>27</td><td>0</td><td>3</td><td>Emir, Mr. Farred Chehab                                  </td><td>male  </td><td>NA</td><td>0</td><td>0</td><td>2631            </td><td>  7.2250</td><td>           </td><td>C</td></tr>\n",
       "\t<tr><td>28</td><td>0</td><td>1</td><td>Fortune, Mr. Charles Alexander                           </td><td>male  </td><td>19</td><td>3</td><td>2</td><td>19950           </td><td>263.0000</td><td>C23 C25 C27</td><td>S</td></tr>\n",
       "\t<tr><td>29</td><td>1</td><td>3</td><td>O'Dwyer, Miss. Ellen \"Nellie\"                            </td><td>female</td><td>NA</td><td>0</td><td>0</td><td>330959          </td><td>  7.8792</td><td>           </td><td>Q</td></tr>\n",
       "\t<tr><td>30</td><td>0</td><td>3</td><td>Todoroff, Mr. Lalio                                      </td><td>male  </td><td>NA</td><td>0</td><td>0</td><td>349216          </td><td>  7.8958</td><td>           </td><td>S</td></tr>\n",
       "\t<tr><td>⋮</td><td>⋮</td><td>⋮</td><td>⋮</td><td>⋮</td><td>⋮</td><td>⋮</td><td>⋮</td><td>⋮</td><td>⋮</td><td>⋮</td><td>⋮</td></tr>\n",
       "\t<tr><td>862</td><td>0</td><td>2</td><td>Giles, Mr. Frederick Edward                        </td><td>male  </td><td>21</td><td>1</td><td>0</td><td>28134           </td><td>11.5000</td><td>           </td><td>S</td></tr>\n",
       "\t<tr><td>863</td><td>1</td><td>1</td><td>Swift, Mrs. Frederick Joel (Margaret Welles Barron)</td><td>female</td><td>48</td><td>0</td><td>0</td><td>17466           </td><td>25.9292</td><td>D17        </td><td>S</td></tr>\n",
       "\t<tr><td>864</td><td>0</td><td>3</td><td>Sage, Miss. Dorothy Edith \"Dolly\"                  </td><td>female</td><td>NA</td><td>8</td><td>2</td><td>CA. 2343        </td><td>69.5500</td><td>           </td><td>S</td></tr>\n",
       "\t<tr><td>865</td><td>0</td><td>2</td><td>Gill, Mr. John William                             </td><td>male  </td><td>24</td><td>0</td><td>0</td><td>233866          </td><td>13.0000</td><td>           </td><td>S</td></tr>\n",
       "\t<tr><td>866</td><td>1</td><td>2</td><td>Bystrom, Mrs. (Karolina)                           </td><td>female</td><td>42</td><td>0</td><td>0</td><td>236852          </td><td>13.0000</td><td>           </td><td>S</td></tr>\n",
       "\t<tr><td>867</td><td>1</td><td>2</td><td>Duran y More, Miss. Asuncion                       </td><td>female</td><td>27</td><td>1</td><td>0</td><td>SC/PARIS 2149   </td><td>13.8583</td><td>           </td><td>C</td></tr>\n",
       "\t<tr><td>868</td><td>0</td><td>1</td><td>Roebling, Mr. Washington Augustus II               </td><td>male  </td><td>31</td><td>0</td><td>0</td><td>PC 17590        </td><td>50.4958</td><td>A24        </td><td>S</td></tr>\n",
       "\t<tr><td>869</td><td>0</td><td>3</td><td>van Melkebeke, Mr. Philemon                        </td><td>male  </td><td>NA</td><td>0</td><td>0</td><td>345777          </td><td> 9.5000</td><td>           </td><td>S</td></tr>\n",
       "\t<tr><td>870</td><td>1</td><td>3</td><td>Johnson, Master. Harold Theodor                    </td><td>male  </td><td> 4</td><td>1</td><td>1</td><td>347742          </td><td>11.1333</td><td>           </td><td>S</td></tr>\n",
       "\t<tr><td>871</td><td>0</td><td>3</td><td>Balkic, Mr. Cerin                                  </td><td>male  </td><td>26</td><td>0</td><td>0</td><td>349248          </td><td> 7.8958</td><td>           </td><td>S</td></tr>\n",
       "\t<tr><td>872</td><td>1</td><td>1</td><td>Beckwith, Mrs. Richard Leonard (Sallie Monypeny)   </td><td>female</td><td>47</td><td>1</td><td>1</td><td>11751           </td><td>52.5542</td><td>D35        </td><td>S</td></tr>\n",
       "\t<tr><td>873</td><td>0</td><td>1</td><td>Carlsson, Mr. Frans Olof                           </td><td>male  </td><td>33</td><td>0</td><td>0</td><td>695             </td><td> 5.0000</td><td>B51 B53 B55</td><td>S</td></tr>\n",
       "\t<tr><td>874</td><td>0</td><td>3</td><td>Vander Cruyssen, Mr. Victor                        </td><td>male  </td><td>47</td><td>0</td><td>0</td><td>345765          </td><td> 9.0000</td><td>           </td><td>S</td></tr>\n",
       "\t<tr><td>875</td><td>1</td><td>2</td><td>Abelson, Mrs. Samuel (Hannah Wizosky)              </td><td>female</td><td>28</td><td>1</td><td>0</td><td>P/PP 3381       </td><td>24.0000</td><td>           </td><td>C</td></tr>\n",
       "\t<tr><td>876</td><td>1</td><td>3</td><td>Najib, Miss. Adele Kiamie \"Jane\"                   </td><td>female</td><td>15</td><td>0</td><td>0</td><td>2667            </td><td> 7.2250</td><td>           </td><td>C</td></tr>\n",
       "\t<tr><td>877</td><td>0</td><td>3</td><td>Gustafsson, Mr. Alfred Ossian                      </td><td>male  </td><td>20</td><td>0</td><td>0</td><td>7534            </td><td> 9.8458</td><td>           </td><td>S</td></tr>\n",
       "\t<tr><td>878</td><td>0</td><td>3</td><td>Petroff, Mr. Nedelio                               </td><td>male  </td><td>19</td><td>0</td><td>0</td><td>349212          </td><td> 7.8958</td><td>           </td><td>S</td></tr>\n",
       "\t<tr><td>879</td><td>0</td><td>3</td><td>Laleff, Mr. Kristo                                 </td><td>male  </td><td>NA</td><td>0</td><td>0</td><td>349217          </td><td> 7.8958</td><td>           </td><td>S</td></tr>\n",
       "\t<tr><td>880</td><td>1</td><td>1</td><td>Potter, Mrs. Thomas Jr (Lily Alexenia Wilson)      </td><td>female</td><td>56</td><td>0</td><td>1</td><td>11767           </td><td>83.1583</td><td>C50        </td><td>C</td></tr>\n",
       "\t<tr><td>881</td><td>1</td><td>2</td><td>Shelley, Mrs. William (Imanita Parrish Hall)       </td><td>female</td><td>25</td><td>0</td><td>1</td><td>230433          </td><td>26.0000</td><td>           </td><td>S</td></tr>\n",
       "\t<tr><td>882</td><td>0</td><td>3</td><td>Markun, Mr. Johann                                 </td><td>male  </td><td>33</td><td>0</td><td>0</td><td>349257          </td><td> 7.8958</td><td>           </td><td>S</td></tr>\n",
       "\t<tr><td>883</td><td>0</td><td>3</td><td>Dahlberg, Miss. Gerda Ulrika                       </td><td>female</td><td>22</td><td>0</td><td>0</td><td>7552            </td><td>10.5167</td><td>           </td><td>S</td></tr>\n",
       "\t<tr><td>884</td><td>0</td><td>2</td><td>Banfield, Mr. Frederick James                      </td><td>male  </td><td>28</td><td>0</td><td>0</td><td>C.A./SOTON 34068</td><td>10.5000</td><td>           </td><td>S</td></tr>\n",
       "\t<tr><td>885</td><td>0</td><td>3</td><td>Sutehall, Mr. Henry Jr                             </td><td>male  </td><td>25</td><td>0</td><td>0</td><td>SOTON/OQ 392076 </td><td> 7.0500</td><td>           </td><td>S</td></tr>\n",
       "\t<tr><td>886</td><td>0</td><td>3</td><td>Rice, Mrs. William (Margaret Norton)               </td><td>female</td><td>39</td><td>0</td><td>5</td><td>382652          </td><td>29.1250</td><td>           </td><td>Q</td></tr>\n",
       "\t<tr><td>887</td><td>0</td><td>2</td><td>Montvila, Rev. Juozas                              </td><td>male  </td><td>27</td><td>0</td><td>0</td><td>211536          </td><td>13.0000</td><td>           </td><td>S</td></tr>\n",
       "\t<tr><td>888</td><td>1</td><td>1</td><td>Graham, Miss. Margaret Edith                       </td><td>female</td><td>19</td><td>0</td><td>0</td><td>112053          </td><td>30.0000</td><td>B42        </td><td>S</td></tr>\n",
       "\t<tr><td>889</td><td>0</td><td>3</td><td>Johnston, Miss. Catherine Helen \"Carrie\"           </td><td>female</td><td>NA</td><td>1</td><td>2</td><td>W./C. 6607      </td><td>23.4500</td><td>           </td><td>S</td></tr>\n",
       "\t<tr><td>890</td><td>1</td><td>1</td><td>Behr, Mr. Karl Howell                              </td><td>male  </td><td>26</td><td>0</td><td>0</td><td>111369          </td><td>30.0000</td><td>C148       </td><td>C</td></tr>\n",
       "\t<tr><td>891</td><td>0</td><td>3</td><td>Dooley, Mr. Patrick                                </td><td>male  </td><td>32</td><td>0</td><td>0</td><td>370376          </td><td> 7.7500</td><td>           </td><td>Q</td></tr>\n",
       "</tbody>\n",
       "</table>\n"
      ],
      "text/latex": [
       "A data.frame: 891 × 12\n",
       "\\begin{tabular}{llllllllllll}\n",
       " PassengerId & Survived & Pclass & Name & Sex & Age & SibSp & Parch & Ticket & Fare & Cabin & Embarked\\\\\n",
       " <int> & <int> & <int> & <fct> & <fct> & <dbl> & <int> & <int> & <fct> & <dbl> & <fct> & <fct>\\\\\n",
       "\\hline\n",
       "\t  1 & 0 & 3 & Braund, Mr. Owen Harris                                   & male   & 22 & 1 & 0 & A/5 21171        &   7.2500 &             & S\\\\\n",
       "\t  2 & 1 & 1 & Cumings, Mrs. John Bradley (Florence Briggs Thayer)       & female & 38 & 1 & 0 & PC 17599         &  71.2833 & C85         & C\\\\\n",
       "\t  3 & 1 & 3 & Heikkinen, Miss. Laina                                    & female & 26 & 0 & 0 & STON/O2. 3101282 &   7.9250 &             & S\\\\\n",
       "\t  4 & 1 & 1 & Futrelle, Mrs. Jacques Heath (Lily May Peel)              & female & 35 & 1 & 0 & 113803           &  53.1000 & C123        & S\\\\\n",
       "\t  5 & 0 & 3 & Allen, Mr. William Henry                                  & male   & 35 & 0 & 0 & 373450           &   8.0500 &             & S\\\\\n",
       "\t  6 & 0 & 3 & Moran, Mr. James                                          & male   & NA & 0 & 0 & 330877           &   8.4583 &             & Q\\\\\n",
       "\t  7 & 0 & 1 & McCarthy, Mr. Timothy J                                   & male   & 54 & 0 & 0 & 17463            &  51.8625 & E46         & S\\\\\n",
       "\t  8 & 0 & 3 & Palsson, Master. Gosta Leonard                            & male   &  2 & 3 & 1 & 349909           &  21.0750 &             & S\\\\\n",
       "\t  9 & 1 & 3 & Johnson, Mrs. Oscar W (Elisabeth Vilhelmina Berg)         & female & 27 & 0 & 2 & 347742           &  11.1333 &             & S\\\\\n",
       "\t 10 & 1 & 2 & Nasser, Mrs. Nicholas (Adele Achem)                       & female & 14 & 1 & 0 & 237736           &  30.0708 &             & C\\\\\n",
       "\t 11 & 1 & 3 & Sandstrom, Miss. Marguerite Rut                           & female &  4 & 1 & 1 & PP 9549          &  16.7000 & G6          & S\\\\\n",
       "\t 12 & 1 & 1 & Bonnell, Miss. Elizabeth                                  & female & 58 & 0 & 0 & 113783           &  26.5500 & C103        & S\\\\\n",
       "\t 13 & 0 & 3 & Saundercock, Mr. William Henry                            & male   & 20 & 0 & 0 & A/5. 2151        &   8.0500 &             & S\\\\\n",
       "\t 14 & 0 & 3 & Andersson, Mr. Anders Johan                               & male   & 39 & 1 & 5 & 347082           &  31.2750 &             & S\\\\\n",
       "\t 15 & 0 & 3 & Vestrom, Miss. Hulda Amanda Adolfina                      & female & 14 & 0 & 0 & 350406           &   7.8542 &             & S\\\\\n",
       "\t 16 & 1 & 2 & Hewlett, Mrs. (Mary D Kingcome)                           & female & 55 & 0 & 0 & 248706           &  16.0000 &             & S\\\\\n",
       "\t 17 & 0 & 3 & Rice, Master. Eugene                                      & male   &  2 & 4 & 1 & 382652           &  29.1250 &             & Q\\\\\n",
       "\t 18 & 1 & 2 & Williams, Mr. Charles Eugene                              & male   & NA & 0 & 0 & 244373           &  13.0000 &             & S\\\\\n",
       "\t 19 & 0 & 3 & Vander Planke, Mrs. Julius (Emelia Maria Vandemoortele)   & female & 31 & 1 & 0 & 345763           &  18.0000 &             & S\\\\\n",
       "\t 20 & 1 & 3 & Masselmani, Mrs. Fatima                                   & female & NA & 0 & 0 & 2649             &   7.2250 &             & C\\\\\n",
       "\t 21 & 0 & 2 & Fynney, Mr. Joseph J                                      & male   & 35 & 0 & 0 & 239865           &  26.0000 &             & S\\\\\n",
       "\t 22 & 1 & 2 & Beesley, Mr. Lawrence                                     & male   & 34 & 0 & 0 & 248698           &  13.0000 & D56         & S\\\\\n",
       "\t 23 & 1 & 3 & McGowan, Miss. Anna \"Annie\"                               & female & 15 & 0 & 0 & 330923           &   8.0292 &             & Q\\\\\n",
       "\t 24 & 1 & 1 & Sloper, Mr. William Thompson                              & male   & 28 & 0 & 0 & 113788           &  35.5000 & A6          & S\\\\\n",
       "\t 25 & 0 & 3 & Palsson, Miss. Torborg Danira                             & female &  8 & 3 & 1 & 349909           &  21.0750 &             & S\\\\\n",
       "\t 26 & 1 & 3 & Asplund, Mrs. Carl Oscar (Selma Augusta Emilia Johansson) & female & 38 & 1 & 5 & 347077           &  31.3875 &             & S\\\\\n",
       "\t 27 & 0 & 3 & Emir, Mr. Farred Chehab                                   & male   & NA & 0 & 0 & 2631             &   7.2250 &             & C\\\\\n",
       "\t 28 & 0 & 1 & Fortune, Mr. Charles Alexander                            & male   & 19 & 3 & 2 & 19950            & 263.0000 & C23 C25 C27 & S\\\\\n",
       "\t 29 & 1 & 3 & O'Dwyer, Miss. Ellen \"Nellie\"                             & female & NA & 0 & 0 & 330959           &   7.8792 &             & Q\\\\\n",
       "\t 30 & 0 & 3 & Todoroff, Mr. Lalio                                       & male   & NA & 0 & 0 & 349216           &   7.8958 &             & S\\\\\n",
       "\t ⋮ & ⋮ & ⋮ & ⋮ & ⋮ & ⋮ & ⋮ & ⋮ & ⋮ & ⋮ & ⋮ & ⋮\\\\\n",
       "\t 862 & 0 & 2 & Giles, Mr. Frederick Edward                         & male   & 21 & 1 & 0 & 28134            & 11.5000 &             & S\\\\\n",
       "\t 863 & 1 & 1 & Swift, Mrs. Frederick Joel (Margaret Welles Barron) & female & 48 & 0 & 0 & 17466            & 25.9292 & D17         & S\\\\\n",
       "\t 864 & 0 & 3 & Sage, Miss. Dorothy Edith \"Dolly\"                   & female & NA & 8 & 2 & CA. 2343         & 69.5500 &             & S\\\\\n",
       "\t 865 & 0 & 2 & Gill, Mr. John William                              & male   & 24 & 0 & 0 & 233866           & 13.0000 &             & S\\\\\n",
       "\t 866 & 1 & 2 & Bystrom, Mrs. (Karolina)                            & female & 42 & 0 & 0 & 236852           & 13.0000 &             & S\\\\\n",
       "\t 867 & 1 & 2 & Duran y More, Miss. Asuncion                        & female & 27 & 1 & 0 & SC/PARIS 2149    & 13.8583 &             & C\\\\\n",
       "\t 868 & 0 & 1 & Roebling, Mr. Washington Augustus II                & male   & 31 & 0 & 0 & PC 17590         & 50.4958 & A24         & S\\\\\n",
       "\t 869 & 0 & 3 & van Melkebeke, Mr. Philemon                         & male   & NA & 0 & 0 & 345777           &  9.5000 &             & S\\\\\n",
       "\t 870 & 1 & 3 & Johnson, Master. Harold Theodor                     & male   &  4 & 1 & 1 & 347742           & 11.1333 &             & S\\\\\n",
       "\t 871 & 0 & 3 & Balkic, Mr. Cerin                                   & male   & 26 & 0 & 0 & 349248           &  7.8958 &             & S\\\\\n",
       "\t 872 & 1 & 1 & Beckwith, Mrs. Richard Leonard (Sallie Monypeny)    & female & 47 & 1 & 1 & 11751            & 52.5542 & D35         & S\\\\\n",
       "\t 873 & 0 & 1 & Carlsson, Mr. Frans Olof                            & male   & 33 & 0 & 0 & 695              &  5.0000 & B51 B53 B55 & S\\\\\n",
       "\t 874 & 0 & 3 & Vander Cruyssen, Mr. Victor                         & male   & 47 & 0 & 0 & 345765           &  9.0000 &             & S\\\\\n",
       "\t 875 & 1 & 2 & Abelson, Mrs. Samuel (Hannah Wizosky)               & female & 28 & 1 & 0 & P/PP 3381        & 24.0000 &             & C\\\\\n",
       "\t 876 & 1 & 3 & Najib, Miss. Adele Kiamie \"Jane\"                    & female & 15 & 0 & 0 & 2667             &  7.2250 &             & C\\\\\n",
       "\t 877 & 0 & 3 & Gustafsson, Mr. Alfred Ossian                       & male   & 20 & 0 & 0 & 7534             &  9.8458 &             & S\\\\\n",
       "\t 878 & 0 & 3 & Petroff, Mr. Nedelio                                & male   & 19 & 0 & 0 & 349212           &  7.8958 &             & S\\\\\n",
       "\t 879 & 0 & 3 & Laleff, Mr. Kristo                                  & male   & NA & 0 & 0 & 349217           &  7.8958 &             & S\\\\\n",
       "\t 880 & 1 & 1 & Potter, Mrs. Thomas Jr (Lily Alexenia Wilson)       & female & 56 & 0 & 1 & 11767            & 83.1583 & C50         & C\\\\\n",
       "\t 881 & 1 & 2 & Shelley, Mrs. William (Imanita Parrish Hall)        & female & 25 & 0 & 1 & 230433           & 26.0000 &             & S\\\\\n",
       "\t 882 & 0 & 3 & Markun, Mr. Johann                                  & male   & 33 & 0 & 0 & 349257           &  7.8958 &             & S\\\\\n",
       "\t 883 & 0 & 3 & Dahlberg, Miss. Gerda Ulrika                        & female & 22 & 0 & 0 & 7552             & 10.5167 &             & S\\\\\n",
       "\t 884 & 0 & 2 & Banfield, Mr. Frederick James                       & male   & 28 & 0 & 0 & C.A./SOTON 34068 & 10.5000 &             & S\\\\\n",
       "\t 885 & 0 & 3 & Sutehall, Mr. Henry Jr                              & male   & 25 & 0 & 0 & SOTON/OQ 392076  &  7.0500 &             & S\\\\\n",
       "\t 886 & 0 & 3 & Rice, Mrs. William (Margaret Norton)                & female & 39 & 0 & 5 & 382652           & 29.1250 &             & Q\\\\\n",
       "\t 887 & 0 & 2 & Montvila, Rev. Juozas                               & male   & 27 & 0 & 0 & 211536           & 13.0000 &             & S\\\\\n",
       "\t 888 & 1 & 1 & Graham, Miss. Margaret Edith                        & female & 19 & 0 & 0 & 112053           & 30.0000 & B42         & S\\\\\n",
       "\t 889 & 0 & 3 & Johnston, Miss. Catherine Helen \"Carrie\"            & female & NA & 1 & 2 & W./C. 6607       & 23.4500 &             & S\\\\\n",
       "\t 890 & 1 & 1 & Behr, Mr. Karl Howell                               & male   & 26 & 0 & 0 & 111369           & 30.0000 & C148        & C\\\\\n",
       "\t 891 & 0 & 3 & Dooley, Mr. Patrick                                 & male   & 32 & 0 & 0 & 370376           &  7.7500 &             & Q\\\\\n",
       "\\end{tabular}\n"
      ],
      "text/markdown": [
       "\n",
       "A data.frame: 891 × 12\n",
       "\n",
       "| PassengerId &lt;int&gt; | Survived &lt;int&gt; | Pclass &lt;int&gt; | Name &lt;fct&gt; | Sex &lt;fct&gt; | Age &lt;dbl&gt; | SibSp &lt;int&gt; | Parch &lt;int&gt; | Ticket &lt;fct&gt; | Fare &lt;dbl&gt; | Cabin &lt;fct&gt; | Embarked &lt;fct&gt; |\n",
       "|---|---|---|---|---|---|---|---|---|---|---|---|\n",
       "|  1 | 0 | 3 | Braund, Mr. Owen Harris                                   | male   | 22 | 1 | 0 | A/5 21171        |   7.2500 | <!----> | S |\n",
       "|  2 | 1 | 1 | Cumings, Mrs. John Bradley (Florence Briggs Thayer)       | female | 38 | 1 | 0 | PC 17599         |  71.2833 | C85         | C |\n",
       "|  3 | 1 | 3 | Heikkinen, Miss. Laina                                    | female | 26 | 0 | 0 | STON/O2. 3101282 |   7.9250 | <!----> | S |\n",
       "|  4 | 1 | 1 | Futrelle, Mrs. Jacques Heath (Lily May Peel)              | female | 35 | 1 | 0 | 113803           |  53.1000 | C123        | S |\n",
       "|  5 | 0 | 3 | Allen, Mr. William Henry                                  | male   | 35 | 0 | 0 | 373450           |   8.0500 | <!----> | S |\n",
       "|  6 | 0 | 3 | Moran, Mr. James                                          | male   | NA | 0 | 0 | 330877           |   8.4583 | <!----> | Q |\n",
       "|  7 | 0 | 1 | McCarthy, Mr. Timothy J                                   | male   | 54 | 0 | 0 | 17463            |  51.8625 | E46         | S |\n",
       "|  8 | 0 | 3 | Palsson, Master. Gosta Leonard                            | male   |  2 | 3 | 1 | 349909           |  21.0750 | <!----> | S |\n",
       "|  9 | 1 | 3 | Johnson, Mrs. Oscar W (Elisabeth Vilhelmina Berg)         | female | 27 | 0 | 2 | 347742           |  11.1333 | <!----> | S |\n",
       "| 10 | 1 | 2 | Nasser, Mrs. Nicholas (Adele Achem)                       | female | 14 | 1 | 0 | 237736           |  30.0708 | <!----> | C |\n",
       "| 11 | 1 | 3 | Sandstrom, Miss. Marguerite Rut                           | female |  4 | 1 | 1 | PP 9549          |  16.7000 | G6          | S |\n",
       "| 12 | 1 | 1 | Bonnell, Miss. Elizabeth                                  | female | 58 | 0 | 0 | 113783           |  26.5500 | C103        | S |\n",
       "| 13 | 0 | 3 | Saundercock, Mr. William Henry                            | male   | 20 | 0 | 0 | A/5. 2151        |   8.0500 | <!----> | S |\n",
       "| 14 | 0 | 3 | Andersson, Mr. Anders Johan                               | male   | 39 | 1 | 5 | 347082           |  31.2750 | <!----> | S |\n",
       "| 15 | 0 | 3 | Vestrom, Miss. Hulda Amanda Adolfina                      | female | 14 | 0 | 0 | 350406           |   7.8542 | <!----> | S |\n",
       "| 16 | 1 | 2 | Hewlett, Mrs. (Mary D Kingcome)                           | female | 55 | 0 | 0 | 248706           |  16.0000 | <!----> | S |\n",
       "| 17 | 0 | 3 | Rice, Master. Eugene                                      | male   |  2 | 4 | 1 | 382652           |  29.1250 | <!----> | Q |\n",
       "| 18 | 1 | 2 | Williams, Mr. Charles Eugene                              | male   | NA | 0 | 0 | 244373           |  13.0000 | <!----> | S |\n",
       "| 19 | 0 | 3 | Vander Planke, Mrs. Julius (Emelia Maria Vandemoortele)   | female | 31 | 1 | 0 | 345763           |  18.0000 | <!----> | S |\n",
       "| 20 | 1 | 3 | Masselmani, Mrs. Fatima                                   | female | NA | 0 | 0 | 2649             |   7.2250 | <!----> | C |\n",
       "| 21 | 0 | 2 | Fynney, Mr. Joseph J                                      | male   | 35 | 0 | 0 | 239865           |  26.0000 | <!----> | S |\n",
       "| 22 | 1 | 2 | Beesley, Mr. Lawrence                                     | male   | 34 | 0 | 0 | 248698           |  13.0000 | D56         | S |\n",
       "| 23 | 1 | 3 | McGowan, Miss. Anna \"Annie\"                               | female | 15 | 0 | 0 | 330923           |   8.0292 | <!----> | Q |\n",
       "| 24 | 1 | 1 | Sloper, Mr. William Thompson                              | male   | 28 | 0 | 0 | 113788           |  35.5000 | A6          | S |\n",
       "| 25 | 0 | 3 | Palsson, Miss. Torborg Danira                             | female |  8 | 3 | 1 | 349909           |  21.0750 | <!----> | S |\n",
       "| 26 | 1 | 3 | Asplund, Mrs. Carl Oscar (Selma Augusta Emilia Johansson) | female | 38 | 1 | 5 | 347077           |  31.3875 | <!----> | S |\n",
       "| 27 | 0 | 3 | Emir, Mr. Farred Chehab                                   | male   | NA | 0 | 0 | 2631             |   7.2250 | <!----> | C |\n",
       "| 28 | 0 | 1 | Fortune, Mr. Charles Alexander                            | male   | 19 | 3 | 2 | 19950            | 263.0000 | C23 C25 C27 | S |\n",
       "| 29 | 1 | 3 | O'Dwyer, Miss. Ellen \"Nellie\"                             | female | NA | 0 | 0 | 330959           |   7.8792 | <!----> | Q |\n",
       "| 30 | 0 | 3 | Todoroff, Mr. Lalio                                       | male   | NA | 0 | 0 | 349216           |   7.8958 | <!----> | S |\n",
       "| ⋮ | ⋮ | ⋮ | ⋮ | ⋮ | ⋮ | ⋮ | ⋮ | ⋮ | ⋮ | ⋮ | ⋮ |\n",
       "| 862 | 0 | 2 | Giles, Mr. Frederick Edward                         | male   | 21 | 1 | 0 | 28134            | 11.5000 | <!----> | S |\n",
       "| 863 | 1 | 1 | Swift, Mrs. Frederick Joel (Margaret Welles Barron) | female | 48 | 0 | 0 | 17466            | 25.9292 | D17         | S |\n",
       "| 864 | 0 | 3 | Sage, Miss. Dorothy Edith \"Dolly\"                   | female | NA | 8 | 2 | CA. 2343         | 69.5500 | <!----> | S |\n",
       "| 865 | 0 | 2 | Gill, Mr. John William                              | male   | 24 | 0 | 0 | 233866           | 13.0000 | <!----> | S |\n",
       "| 866 | 1 | 2 | Bystrom, Mrs. (Karolina)                            | female | 42 | 0 | 0 | 236852           | 13.0000 | <!----> | S |\n",
       "| 867 | 1 | 2 | Duran y More, Miss. Asuncion                        | female | 27 | 1 | 0 | SC/PARIS 2149    | 13.8583 | <!----> | C |\n",
       "| 868 | 0 | 1 | Roebling, Mr. Washington Augustus II                | male   | 31 | 0 | 0 | PC 17590         | 50.4958 | A24         | S |\n",
       "| 869 | 0 | 3 | van Melkebeke, Mr. Philemon                         | male   | NA | 0 | 0 | 345777           |  9.5000 | <!----> | S |\n",
       "| 870 | 1 | 3 | Johnson, Master. Harold Theodor                     | male   |  4 | 1 | 1 | 347742           | 11.1333 | <!----> | S |\n",
       "| 871 | 0 | 3 | Balkic, Mr. Cerin                                   | male   | 26 | 0 | 0 | 349248           |  7.8958 | <!----> | S |\n",
       "| 872 | 1 | 1 | Beckwith, Mrs. Richard Leonard (Sallie Monypeny)    | female | 47 | 1 | 1 | 11751            | 52.5542 | D35         | S |\n",
       "| 873 | 0 | 1 | Carlsson, Mr. Frans Olof                            | male   | 33 | 0 | 0 | 695              |  5.0000 | B51 B53 B55 | S |\n",
       "| 874 | 0 | 3 | Vander Cruyssen, Mr. Victor                         | male   | 47 | 0 | 0 | 345765           |  9.0000 | <!----> | S |\n",
       "| 875 | 1 | 2 | Abelson, Mrs. Samuel (Hannah Wizosky)               | female | 28 | 1 | 0 | P/PP 3381        | 24.0000 | <!----> | C |\n",
       "| 876 | 1 | 3 | Najib, Miss. Adele Kiamie \"Jane\"                    | female | 15 | 0 | 0 | 2667             |  7.2250 | <!----> | C |\n",
       "| 877 | 0 | 3 | Gustafsson, Mr. Alfred Ossian                       | male   | 20 | 0 | 0 | 7534             |  9.8458 | <!----> | S |\n",
       "| 878 | 0 | 3 | Petroff, Mr. Nedelio                                | male   | 19 | 0 | 0 | 349212           |  7.8958 | <!----> | S |\n",
       "| 879 | 0 | 3 | Laleff, Mr. Kristo                                  | male   | NA | 0 | 0 | 349217           |  7.8958 | <!----> | S |\n",
       "| 880 | 1 | 1 | Potter, Mrs. Thomas Jr (Lily Alexenia Wilson)       | female | 56 | 0 | 1 | 11767            | 83.1583 | C50         | C |\n",
       "| 881 | 1 | 2 | Shelley, Mrs. William (Imanita Parrish Hall)        | female | 25 | 0 | 1 | 230433           | 26.0000 | <!----> | S |\n",
       "| 882 | 0 | 3 | Markun, Mr. Johann                                  | male   | 33 | 0 | 0 | 349257           |  7.8958 | <!----> | S |\n",
       "| 883 | 0 | 3 | Dahlberg, Miss. Gerda Ulrika                        | female | 22 | 0 | 0 | 7552             | 10.5167 | <!----> | S |\n",
       "| 884 | 0 | 2 | Banfield, Mr. Frederick James                       | male   | 28 | 0 | 0 | C.A./SOTON 34068 | 10.5000 | <!----> | S |\n",
       "| 885 | 0 | 3 | Sutehall, Mr. Henry Jr                              | male   | 25 | 0 | 0 | SOTON/OQ 392076  |  7.0500 | <!----> | S |\n",
       "| 886 | 0 | 3 | Rice, Mrs. William (Margaret Norton)                | female | 39 | 0 | 5 | 382652           | 29.1250 | <!----> | Q |\n",
       "| 887 | 0 | 2 | Montvila, Rev. Juozas                               | male   | 27 | 0 | 0 | 211536           | 13.0000 | <!----> | S |\n",
       "| 888 | 1 | 1 | Graham, Miss. Margaret Edith                        | female | 19 | 0 | 0 | 112053           | 30.0000 | B42         | S |\n",
       "| 889 | 0 | 3 | Johnston, Miss. Catherine Helen \"Carrie\"            | female | NA | 1 | 2 | W./C. 6607       | 23.4500 | <!----> | S |\n",
       "| 890 | 1 | 1 | Behr, Mr. Karl Howell                               | male   | 26 | 0 | 0 | 111369           | 30.0000 | C148        | C |\n",
       "| 891 | 0 | 3 | Dooley, Mr. Patrick                                 | male   | 32 | 0 | 0 | 370376           |  7.7500 | <!----> | Q |\n",
       "\n"
      ],
      "text/plain": [
       "    PassengerId Survived Pclass\n",
       "1    1          0        3     \n",
       "2    2          1        1     \n",
       "3    3          1        3     \n",
       "4    4          1        1     \n",
       "5    5          0        3     \n",
       "6    6          0        3     \n",
       "7    7          0        1     \n",
       "8    8          0        3     \n",
       "9    9          1        3     \n",
       "10  10          1        2     \n",
       "11  11          1        3     \n",
       "12  12          1        1     \n",
       "13  13          0        3     \n",
       "14  14          0        3     \n",
       "15  15          0        3     \n",
       "16  16          1        2     \n",
       "17  17          0        3     \n",
       "18  18          1        2     \n",
       "19  19          0        3     \n",
       "20  20          1        3     \n",
       "21  21          0        2     \n",
       "22  22          1        2     \n",
       "23  23          1        3     \n",
       "24  24          1        1     \n",
       "25  25          0        3     \n",
       "26  26          1        3     \n",
       "27  27          0        3     \n",
       "28  28          0        1     \n",
       "29  29          1        3     \n",
       "30  30          0        3     \n",
       "⋮   ⋮           ⋮        ⋮     \n",
       "862 862         0        2     \n",
       "863 863         1        1     \n",
       "864 864         0        3     \n",
       "865 865         0        2     \n",
       "866 866         1        2     \n",
       "867 867         1        2     \n",
       "868 868         0        1     \n",
       "869 869         0        3     \n",
       "870 870         1        3     \n",
       "871 871         0        3     \n",
       "872 872         1        1     \n",
       "873 873         0        1     \n",
       "874 874         0        3     \n",
       "875 875         1        2     \n",
       "876 876         1        3     \n",
       "877 877         0        3     \n",
       "878 878         0        3     \n",
       "879 879         0        3     \n",
       "880 880         1        1     \n",
       "881 881         1        2     \n",
       "882 882         0        3     \n",
       "883 883         0        3     \n",
       "884 884         0        2     \n",
       "885 885         0        3     \n",
       "886 886         0        3     \n",
       "887 887         0        2     \n",
       "888 888         1        1     \n",
       "889 889         0        3     \n",
       "890 890         1        1     \n",
       "891 891         0        3     \n",
       "    Name                                                      Sex    Age SibSp\n",
       "1   Braund, Mr. Owen Harris                                   male   22  1    \n",
       "2   Cumings, Mrs. John Bradley (Florence Briggs Thayer)       female 38  1    \n",
       "3   Heikkinen, Miss. Laina                                    female 26  0    \n",
       "4   Futrelle, Mrs. Jacques Heath (Lily May Peel)              female 35  1    \n",
       "5   Allen, Mr. William Henry                                  male   35  0    \n",
       "6   Moran, Mr. James                                          male   NA  0    \n",
       "7   McCarthy, Mr. Timothy J                                   male   54  0    \n",
       "8   Palsson, Master. Gosta Leonard                            male    2  3    \n",
       "9   Johnson, Mrs. Oscar W (Elisabeth Vilhelmina Berg)         female 27  0    \n",
       "10  Nasser, Mrs. Nicholas (Adele Achem)                       female 14  1    \n",
       "11  Sandstrom, Miss. Marguerite Rut                           female  4  1    \n",
       "12  Bonnell, Miss. Elizabeth                                  female 58  0    \n",
       "13  Saundercock, Mr. William Henry                            male   20  0    \n",
       "14  Andersson, Mr. Anders Johan                               male   39  1    \n",
       "15  Vestrom, Miss. Hulda Amanda Adolfina                      female 14  0    \n",
       "16  Hewlett, Mrs. (Mary D Kingcome)                           female 55  0    \n",
       "17  Rice, Master. Eugene                                      male    2  4    \n",
       "18  Williams, Mr. Charles Eugene                              male   NA  0    \n",
       "19  Vander Planke, Mrs. Julius (Emelia Maria Vandemoortele)   female 31  1    \n",
       "20  Masselmani, Mrs. Fatima                                   female NA  0    \n",
       "21  Fynney, Mr. Joseph J                                      male   35  0    \n",
       "22  Beesley, Mr. Lawrence                                     male   34  0    \n",
       "23  McGowan, Miss. Anna \"Annie\"                               female 15  0    \n",
       "24  Sloper, Mr. William Thompson                              male   28  0    \n",
       "25  Palsson, Miss. Torborg Danira                             female  8  3    \n",
       "26  Asplund, Mrs. Carl Oscar (Selma Augusta Emilia Johansson) female 38  1    \n",
       "27  Emir, Mr. Farred Chehab                                   male   NA  0    \n",
       "28  Fortune, Mr. Charles Alexander                            male   19  3    \n",
       "29  O'Dwyer, Miss. Ellen \"Nellie\"                             female NA  0    \n",
       "30  Todoroff, Mr. Lalio                                       male   NA  0    \n",
       "⋮   ⋮                                                         ⋮      ⋮   ⋮    \n",
       "862 Giles, Mr. Frederick Edward                               male   21  1    \n",
       "863 Swift, Mrs. Frederick Joel (Margaret Welles Barron)       female 48  0    \n",
       "864 Sage, Miss. Dorothy Edith \"Dolly\"                         female NA  8    \n",
       "865 Gill, Mr. John William                                    male   24  0    \n",
       "866 Bystrom, Mrs. (Karolina)                                  female 42  0    \n",
       "867 Duran y More, Miss. Asuncion                              female 27  1    \n",
       "868 Roebling, Mr. Washington Augustus II                      male   31  0    \n",
       "869 van Melkebeke, Mr. Philemon                               male   NA  0    \n",
       "870 Johnson, Master. Harold Theodor                           male    4  1    \n",
       "871 Balkic, Mr. Cerin                                         male   26  0    \n",
       "872 Beckwith, Mrs. Richard Leonard (Sallie Monypeny)          female 47  1    \n",
       "873 Carlsson, Mr. Frans Olof                                  male   33  0    \n",
       "874 Vander Cruyssen, Mr. Victor                               male   47  0    \n",
       "875 Abelson, Mrs. Samuel (Hannah Wizosky)                     female 28  1    \n",
       "876 Najib, Miss. Adele Kiamie \"Jane\"                          female 15  0    \n",
       "877 Gustafsson, Mr. Alfred Ossian                             male   20  0    \n",
       "878 Petroff, Mr. Nedelio                                      male   19  0    \n",
       "879 Laleff, Mr. Kristo                                        male   NA  0    \n",
       "880 Potter, Mrs. Thomas Jr (Lily Alexenia Wilson)             female 56  0    \n",
       "881 Shelley, Mrs. William (Imanita Parrish Hall)              female 25  0    \n",
       "882 Markun, Mr. Johann                                        male   33  0    \n",
       "883 Dahlberg, Miss. Gerda Ulrika                              female 22  0    \n",
       "884 Banfield, Mr. Frederick James                             male   28  0    \n",
       "885 Sutehall, Mr. Henry Jr                                    male   25  0    \n",
       "886 Rice, Mrs. William (Margaret Norton)                      female 39  0    \n",
       "887 Montvila, Rev. Juozas                                     male   27  0    \n",
       "888 Graham, Miss. Margaret Edith                              female 19  0    \n",
       "889 Johnston, Miss. Catherine Helen \"Carrie\"                  female NA  1    \n",
       "890 Behr, Mr. Karl Howell                                     male   26  0    \n",
       "891 Dooley, Mr. Patrick                                       male   32  0    \n",
       "    Parch Ticket           Fare     Cabin       Embarked\n",
       "1   0     A/5 21171          7.2500             S       \n",
       "2   0     PC 17599          71.2833 C85         C       \n",
       "3   0     STON/O2. 3101282   7.9250             S       \n",
       "4   0     113803            53.1000 C123        S       \n",
       "5   0     373450             8.0500             S       \n",
       "6   0     330877             8.4583             Q       \n",
       "7   0     17463             51.8625 E46         S       \n",
       "8   1     349909            21.0750             S       \n",
       "9   2     347742            11.1333             S       \n",
       "10  0     237736            30.0708             C       \n",
       "11  1     PP 9549           16.7000 G6          S       \n",
       "12  0     113783            26.5500 C103        S       \n",
       "13  0     A/5. 2151          8.0500             S       \n",
       "14  5     347082            31.2750             S       \n",
       "15  0     350406             7.8542             S       \n",
       "16  0     248706            16.0000             S       \n",
       "17  1     382652            29.1250             Q       \n",
       "18  0     244373            13.0000             S       \n",
       "19  0     345763            18.0000             S       \n",
       "20  0     2649               7.2250             C       \n",
       "21  0     239865            26.0000             S       \n",
       "22  0     248698            13.0000 D56         S       \n",
       "23  0     330923             8.0292             Q       \n",
       "24  0     113788            35.5000 A6          S       \n",
       "25  1     349909            21.0750             S       \n",
       "26  5     347077            31.3875             S       \n",
       "27  0     2631               7.2250             C       \n",
       "28  2     19950            263.0000 C23 C25 C27 S       \n",
       "29  0     330959             7.8792             Q       \n",
       "30  0     349216             7.8958             S       \n",
       "⋮   ⋮     ⋮                ⋮        ⋮           ⋮       \n",
       "862 0     28134            11.5000              S       \n",
       "863 0     17466            25.9292  D17         S       \n",
       "864 2     CA. 2343         69.5500              S       \n",
       "865 0     233866           13.0000              S       \n",
       "866 0     236852           13.0000              S       \n",
       "867 0     SC/PARIS 2149    13.8583              C       \n",
       "868 0     PC 17590         50.4958  A24         S       \n",
       "869 0     345777            9.5000              S       \n",
       "870 1     347742           11.1333              S       \n",
       "871 0     349248            7.8958              S       \n",
       "872 1     11751            52.5542  D35         S       \n",
       "873 0     695               5.0000  B51 B53 B55 S       \n",
       "874 0     345765            9.0000              S       \n",
       "875 0     P/PP 3381        24.0000              C       \n",
       "876 0     2667              7.2250              C       \n",
       "877 0     7534              9.8458              S       \n",
       "878 0     349212            7.8958              S       \n",
       "879 0     349217            7.8958              S       \n",
       "880 1     11767            83.1583  C50         C       \n",
       "881 1     230433           26.0000              S       \n",
       "882 0     349257            7.8958              S       \n",
       "883 0     7552             10.5167              S       \n",
       "884 0     C.A./SOTON 34068 10.5000              S       \n",
       "885 0     SOTON/OQ 392076   7.0500              S       \n",
       "886 5     382652           29.1250              Q       \n",
       "887 0     211536           13.0000              S       \n",
       "888 0     112053           30.0000  B42         S       \n",
       "889 2     W./C. 6607       23.4500              S       \n",
       "890 0     111369           30.0000  C148        C       \n",
       "891 0     370376            7.7500              Q       "
      ]
     },
     "metadata": {},
     "output_type": "display_data"
    }
   ],
   "source": [
    "tTrain"
   ]
  },
  {
   "cell_type": "code",
   "execution_count": null,
   "metadata": {},
   "outputs": [],
   "source": []
  },
  {
   "cell_type": "code",
   "execution_count": null,
   "metadata": {},
   "outputs": [],
   "source": []
  }
 ],
 "metadata": {
  "kernelspec": {
   "display_name": "R",
   "language": "R",
   "name": "ir"
  },
  "language_info": {
   "codemirror_mode": "r",
   "file_extension": ".r",
   "mimetype": "text/x-r-source",
   "name": "R",
   "pygments_lexer": "r",
   "version": "3.6.1"
  },
  "latex_envs": {
   "LaTeX_envs_menu_present": true,
   "autoclose": false,
   "autocomplete": true,
   "bibliofile": "biblio.bib",
   "cite_by": "apalike",
   "current_citInitial": 1,
   "eqLabelWithNumbers": true,
   "eqNumInitial": 1,
   "hotkeys": {
    "equation": "Ctrl-E",
    "itemize": "Ctrl-I"
   },
   "labels_anchors": false,
   "latex_user_defs": false,
   "report_style_numbering": false,
   "user_envs_cfg": false
  },
  "toc": {
   "base_numbering": 1,
   "nav_menu": {},
   "number_sections": true,
   "sideBar": true,
   "skip_h1_title": false,
   "title_cell": "Table of Contents",
   "title_sidebar": "Contents",
   "toc_cell": false,
   "toc_position": {
    "height": "calc(100% - 180px)",
    "left": "10px",
    "top": "150px",
    "width": "188.297px"
   },
   "toc_section_display": true,
   "toc_window_display": true
  },
  "varInspector": {
   "cols": {
    "lenName": 16,
    "lenType": 16,
    "lenVar": 40
   },
   "kernels_config": {
    "python": {
     "delete_cmd_postfix": "",
     "delete_cmd_prefix": "del ",
     "library": "var_list.py",
     "varRefreshCmd": "print(var_dic_list())"
    },
    "r": {
     "delete_cmd_postfix": ") ",
     "delete_cmd_prefix": "rm(",
     "library": "var_list.r",
     "varRefreshCmd": "cat(var_dic_list()) "
    }
   },
   "types_to_exclude": [
    "module",
    "function",
    "builtin_function_or_method",
    "instance",
    "_Feature"
   ],
   "window_display": false
  }
 },
 "nbformat": 4,
 "nbformat_minor": 2
}
