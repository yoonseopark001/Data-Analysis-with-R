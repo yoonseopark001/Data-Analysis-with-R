{
 "cells": [
  {
   "cell_type": "code",
   "execution_count": 22,
   "metadata": {},
   "outputs": [],
   "source": [
    "options(scipen=100)"
   ]
  },
  {
   "cell_type": "markdown",
   "metadata": {
    "heading_collapsed": true
   },
   "source": [
    "## Correlation Test"
   ]
  },
  {
   "cell_type": "markdown",
   "metadata": {
    "hidden": true
   },
   "source": [
    "- H0: temperature and ice cream sales is not correlated.\n",
    "- H1: temperature and ice cream sales is correlated."
   ]
  },
  {
   "cell_type": "markdown",
   "metadata": {},
   "source": [
    "## Data "
   ]
  },
  {
   "cell_type": "code",
   "execution_count": 27,
   "metadata": {},
   "outputs": [],
   "source": [
    "# Sales Figures\n",
    "temperature  <- c(32.1, 33.5, 34.1, 34.8, 33.4, 31.0, 29.0)\n",
    "iceCream     <- c(70  , 75  , 82  , 82  , 78  , 68  , 66  )"
   ]
  },
  {
   "cell_type": "code",
   "execution_count": 29,
   "metadata": {
    "scrolled": true
   },
   "outputs": [
    {
     "data": {
      "text/plain": [
       "   Min. 1st Qu.  Median    Mean 3rd Qu.    Max. \n",
       "  29.00   31.55   33.40   32.56   33.80   34.80 "
      ]
     },
     "metadata": {},
     "output_type": "display_data"
    },
    {
     "data": {
      "text/plain": [
       "   Min. 1st Qu.  Median    Mean 3rd Qu.    Max. \n",
       "  66.00   69.00   75.00   74.43   80.00   82.00 "
      ]
     },
     "metadata": {},
     "output_type": "display_data"
    }
   ],
   "source": [
    "summary(temperature)\n",
    "summary(iceCream)"
   ]
  },
  {
   "cell_type": "markdown",
   "metadata": {},
   "source": [
    "## Correlation Coefficient "
   ]
  },
  {
   "cell_type": "code",
   "execution_count": 30,
   "metadata": {},
   "outputs": [
    {
     "data": {
      "text/html": [
       "0.934427431619977"
      ],
      "text/latex": [
       "0.934427431619977"
      ],
      "text/markdown": [
       "0.934427431619977"
      ],
      "text/plain": [
       "[1] 0.9344274"
      ]
     },
     "metadata": {},
     "output_type": "display_data"
    }
   ],
   "source": [
    "cor(temperature, iceCream, method = \"pearson\")"
   ]
  },
  {
   "cell_type": "markdown",
   "metadata": {},
   "source": [
    "## Correlation Test"
   ]
  },
  {
   "cell_type": "code",
   "execution_count": 31,
   "metadata": {},
   "outputs": [
    {
     "data": {
      "text/plain": [
       "\n",
       "\tPearson's product-moment correlation\n",
       "\n",
       "data:  temperature and iceCream\n",
       "t = 5.8667, df = 5, p-value = 0.002041\n",
       "alternative hypothesis: true correlation is not equal to 0\n",
       "95 percent confidence interval:\n",
       " 0.6120687 0.9904955\n",
       "sample estimates:\n",
       "      cor \n",
       "0.9344274 \n"
      ]
     },
     "metadata": {},
     "output_type": "display_data"
    }
   ],
   "source": [
    "cor.test(temperature, iceCream, method = \"pearson\")"
   ]
  },
  {
   "cell_type": "markdown",
   "metadata": {},
   "source": [
    "    : p-value of the test is 0.002041, which is less than the significance level alpha = 0.05. Therefore, based on the data we can conclude that pre and post are significantly correlated with a correlation cofficient of 0.9344274 and p-value of 0.002041."
   ]
  },
  {
   "cell_type": "markdown",
   "metadata": {},
   "source": [
    "# Example"
   ]
  },
  {
   "cell_type": "markdown",
   "metadata": {},
   "source": [
    "## Seoul Accident"
   ]
  },
  {
   "cell_type": "code",
   "execution_count": 2,
   "metadata": {},
   "outputs": [
    {
     "data": {
      "text/html": [
       "<table>\n",
       "<caption>A data.frame: 6 × 6</caption>\n",
       "<thead>\n",
       "\t<tr><th></th><th scope=col>Year</th><th scope=col>Month</th><th scope=col>District</th><th scope=col>Accident</th><th scope=col>Deaths</th><th scope=col>Injured</th></tr>\n",
       "\t<tr><th></th><th scope=col>&lt;int&gt;</th><th scope=col>&lt;int&gt;</th><th scope=col>&lt;fct&gt;</th><th scope=col>&lt;int&gt;</th><th scope=col>&lt;int&gt;</th><th scope=col>&lt;int&gt;</th></tr>\n",
       "</thead>\n",
       "<tbody>\n",
       "\t<tr><th scope=row>1</th><td>2011</td><td>1</td><td>Jongno</td><td>115</td><td>2</td><td>165</td></tr>\n",
       "\t<tr><th scope=row>2</th><td>2011</td><td>2</td><td>Jongno</td><td> 99</td><td>0</td><td>134</td></tr>\n",
       "\t<tr><th scope=row>3</th><td>2011</td><td>3</td><td>Jongno</td><td>116</td><td>0</td><td>162</td></tr>\n",
       "\t<tr><th scope=row>4</th><td>2011</td><td>4</td><td>Jongno</td><td>110</td><td>1</td><td>153</td></tr>\n",
       "\t<tr><th scope=row>5</th><td>2011</td><td>5</td><td>Jongno</td><td>122</td><td>0</td><td>157</td></tr>\n",
       "\t<tr><th scope=row>6</th><td>2011</td><td>6</td><td>Jongno</td><td>116</td><td>3</td><td>163</td></tr>\n",
       "</tbody>\n",
       "</table>\n"
      ],
      "text/latex": [
       "A data.frame: 6 × 6\n",
       "\\begin{tabular}{r|llllll}\n",
       "  & Year & Month & District & Accident & Deaths & Injured\\\\\n",
       "  & <int> & <int> & <fct> & <int> & <int> & <int>\\\\\n",
       "\\hline\n",
       "\t1 & 2011 & 1 & Jongno & 115 & 2 & 165\\\\\n",
       "\t2 & 2011 & 2 & Jongno &  99 & 0 & 134\\\\\n",
       "\t3 & 2011 & 3 & Jongno & 116 & 0 & 162\\\\\n",
       "\t4 & 2011 & 4 & Jongno & 110 & 1 & 153\\\\\n",
       "\t5 & 2011 & 5 & Jongno & 122 & 0 & 157\\\\\n",
       "\t6 & 2011 & 6 & Jongno & 116 & 3 & 163\\\\\n",
       "\\end{tabular}\n"
      ],
      "text/markdown": [
       "\n",
       "A data.frame: 6 × 6\n",
       "\n",
       "| <!--/--> | Year &lt;int&gt; | Month &lt;int&gt; | District &lt;fct&gt; | Accident &lt;int&gt; | Deaths &lt;int&gt; | Injured &lt;int&gt; |\n",
       "|---|---|---|---|---|---|---|\n",
       "| 1 | 2011 | 1 | Jongno | 115 | 2 | 165 |\n",
       "| 2 | 2011 | 2 | Jongno |  99 | 0 | 134 |\n",
       "| 3 | 2011 | 3 | Jongno | 116 | 0 | 162 |\n",
       "| 4 | 2011 | 4 | Jongno | 110 | 1 | 153 |\n",
       "| 5 | 2011 | 5 | Jongno | 122 | 0 | 157 |\n",
       "| 6 | 2011 | 6 | Jongno | 116 | 3 | 163 |\n",
       "\n"
      ],
      "text/plain": [
       "  Year Month District Accident Deaths Injured\n",
       "1 2011 1     Jongno   115      2      165    \n",
       "2 2011 2     Jongno    99      0      134    \n",
       "3 2011 3     Jongno   116      0      162    \n",
       "4 2011 4     Jongno   110      1      153    \n",
       "5 2011 5     Jongno   122      0      157    \n",
       "6 2011 6     Jongno   116      3      163    "
      ]
     },
     "metadata": {},
     "output_type": "display_data"
    }
   ],
   "source": [
    "seoul <- read.csv(\"./Data/SeoulAccident.csv\", fileEncoding = \"CP949\", encoding = \"UTF-8\")\n",
    "head(seoul)"
   ]
  },
  {
   "cell_type": "code",
   "execution_count": 3,
   "metadata": {},
   "outputs": [
    {
     "data": {
      "text/html": [
       "<table>\n",
       "<caption>A matrix: 3 × 3 of type dbl</caption>\n",
       "<thead>\n",
       "\t<tr><th></th><th scope=col>Accident</th><th scope=col>Deaths</th><th scope=col>Injured</th></tr>\n",
       "</thead>\n",
       "<tbody>\n",
       "\t<tr><th scope=row>Accident</th><td>1.0000000</td><td>0.2295247</td><td>0.9796363</td></tr>\n",
       "\t<tr><th scope=row>Deaths</th><td>0.2295247</td><td>1.0000000</td><td>0.2274515</td></tr>\n",
       "\t<tr><th scope=row>Injured</th><td>0.9796363</td><td>0.2274515</td><td>1.0000000</td></tr>\n",
       "</tbody>\n",
       "</table>\n"
      ],
      "text/latex": [
       "A matrix: 3 × 3 of type dbl\n",
       "\\begin{tabular}{r|lll}\n",
       "  & Accident & Deaths & Injured\\\\\n",
       "\\hline\n",
       "\tAccident & 1.0000000 & 0.2295247 & 0.9796363\\\\\n",
       "\tDeaths & 0.2295247 & 1.0000000 & 0.2274515\\\\\n",
       "\tInjured & 0.9796363 & 0.2274515 & 1.0000000\\\\\n",
       "\\end{tabular}\n"
      ],
      "text/markdown": [
       "\n",
       "A matrix: 3 × 3 of type dbl\n",
       "\n",
       "| <!--/--> | Accident | Deaths | Injured |\n",
       "|---|---|---|---|\n",
       "| Accident | 1.0000000 | 0.2295247 | 0.9796363 |\n",
       "| Deaths | 0.2295247 | 1.0000000 | 0.2274515 |\n",
       "| Injured | 0.9796363 | 0.2274515 | 1.0000000 |\n",
       "\n"
      ],
      "text/plain": [
       "         Accident  Deaths    Injured  \n",
       "Accident 1.0000000 0.2295247 0.9796363\n",
       "Deaths   0.2295247 1.0000000 0.2274515\n",
       "Injured  0.9796363 0.2274515 1.0000000"
      ]
     },
     "metadata": {},
     "output_type": "display_data"
    }
   ],
   "source": [
    "cor(seoul[4:6])"
   ]
  },
  {
   "cell_type": "code",
   "execution_count": 5,
   "metadata": {},
   "outputs": [
    {
     "data": {
      "text/plain": [
       "\n",
       "\tPearson's product-moment correlation\n",
       "\n",
       "data:  seoul$Accident and seoul$Injured\n",
       "t = 223.48, df = 2098, p-value < 2.2e-16\n",
       "alternative hypothesis: true correlation is not equal to 0\n",
       "95 percent confidence interval:\n",
       " 0.9778366 0.9812913\n",
       "sample estimates:\n",
       "      cor \n",
       "0.9796363 \n"
      ]
     },
     "metadata": {},
     "output_type": "display_data"
    }
   ],
   "source": [
    "cor.test(seoul$Accident, seoul$Injured)"
   ]
  },
  {
   "cell_type": "code",
   "execution_count": 6,
   "metadata": {},
   "outputs": [
    {
     "data": {
      "text/plain": [
       "\n",
       "\tPearson's product-moment correlation\n",
       "\n",
       "data:  seoul$Accident and seoul$Deaths\n",
       "t = 10.802, df = 2098, p-value < 2.2e-16\n",
       "alternative hypothesis: true correlation is not equal to 0\n",
       "95 percent confidence interval:\n",
       " 0.1886020 0.2696517\n",
       "sample estimates:\n",
       "      cor \n",
       "0.2295247 \n"
      ]
     },
     "metadata": {},
     "output_type": "display_data"
    }
   ],
   "source": [
    "cor.test(seoul$Accident, seoul$Deaths)"
   ]
  },
  {
   "cell_type": "markdown",
   "metadata": {},
   "source": [
    "## Score data"
   ]
  },
  {
   "cell_type": "code",
   "execution_count": 8,
   "metadata": {},
   "outputs": [
    {
     "data": {
      "text/html": [
       "<table>\n",
       "<caption>A data.frame: 6 × 6</caption>\n",
       "<thead>\n",
       "\t<tr><th></th><th scope=col>Student</th><th scope=col>Score</th><th scope=col>IQ</th><th scope=col>PrivateInstitutes</th><th scope=col>Gameplay</th><th scope=col>TV</th></tr>\n",
       "\t<tr><th></th><th scope=col>&lt;fct&gt;</th><th scope=col>&lt;int&gt;</th><th scope=col>&lt;int&gt;</th><th scope=col>&lt;int&gt;</th><th scope=col>&lt;int&gt;</th><th scope=col>&lt;int&gt;</th></tr>\n",
       "</thead>\n",
       "<tbody>\n",
       "\t<tr><th scope=row>1</th><td>A</td><td>90</td><td>140</td><td>2</td><td>1</td><td>0</td></tr>\n",
       "\t<tr><th scope=row>2</th><td>B</td><td>75</td><td>125</td><td>1</td><td>3</td><td>3</td></tr>\n",
       "\t<tr><th scope=row>3</th><td>C</td><td>77</td><td>120</td><td>1</td><td>0</td><td>4</td></tr>\n",
       "\t<tr><th scope=row>4</th><td>D</td><td>83</td><td>135</td><td>2</td><td>3</td><td>2</td></tr>\n",
       "\t<tr><th scope=row>5</th><td>E</td><td>65</td><td>105</td><td>0</td><td>4</td><td>4</td></tr>\n",
       "\t<tr><th scope=row>6</th><td>F</td><td>80</td><td>123</td><td>3</td><td>1</td><td>1</td></tr>\n",
       "</tbody>\n",
       "</table>\n"
      ],
      "text/latex": [
       "A data.frame: 6 × 6\n",
       "\\begin{tabular}{r|llllll}\n",
       "  & Student & Score & IQ & PrivateInstitutes & Gameplay & TV\\\\\n",
       "  & <fct> & <int> & <int> & <int> & <int> & <int>\\\\\n",
       "\\hline\n",
       "\t1 & A & 90 & 140 & 2 & 1 & 0\\\\\n",
       "\t2 & B & 75 & 125 & 1 & 3 & 3\\\\\n",
       "\t3 & C & 77 & 120 & 1 & 0 & 4\\\\\n",
       "\t4 & D & 83 & 135 & 2 & 3 & 2\\\\\n",
       "\t5 & E & 65 & 105 & 0 & 4 & 4\\\\\n",
       "\t6 & F & 80 & 123 & 3 & 1 & 1\\\\\n",
       "\\end{tabular}\n"
      ],
      "text/markdown": [
       "\n",
       "A data.frame: 6 × 6\n",
       "\n",
       "| <!--/--> | Student &lt;fct&gt; | Score &lt;int&gt; | IQ &lt;int&gt; | PrivateInstitutes &lt;int&gt; | Gameplay &lt;int&gt; | TV &lt;int&gt; |\n",
       "|---|---|---|---|---|---|---|\n",
       "| 1 | A | 90 | 140 | 2 | 1 | 0 |\n",
       "| 2 | B | 75 | 125 | 1 | 3 | 3 |\n",
       "| 3 | C | 77 | 120 | 1 | 0 | 4 |\n",
       "| 4 | D | 83 | 135 | 2 | 3 | 2 |\n",
       "| 5 | E | 65 | 105 | 0 | 4 | 4 |\n",
       "| 6 | F | 80 | 123 | 3 | 1 | 1 |\n",
       "\n"
      ],
      "text/plain": [
       "  Student Score IQ  PrivateInstitutes Gameplay TV\n",
       "1 A       90    140 2                 1        0 \n",
       "2 B       75    125 1                 3        3 \n",
       "3 C       77    120 1                 0        4 \n",
       "4 D       83    135 2                 3        2 \n",
       "5 E       65    105 0                 4        4 \n",
       "6 F       80    123 3                 1        1 "
      ]
     },
     "metadata": {},
     "output_type": "display_data"
    }
   ],
   "source": [
    "sco <- read.csv(\"./Data/scoreIQ.txt\")\n",
    "head(sco)"
   ]
  },
  {
   "cell_type": "code",
   "execution_count": 9,
   "metadata": {},
   "outputs": [
    {
     "data": {
      "text/html": [
       "<table>\n",
       "<caption>A matrix: 5 × 5 of type dbl</caption>\n",
       "<thead>\n",
       "\t<tr><th></th><th scope=col>Score</th><th scope=col>IQ</th><th scope=col>PrivateInstitutes</th><th scope=col>Gameplay</th><th scope=col>TV</th></tr>\n",
       "</thead>\n",
       "<tbody>\n",
       "\t<tr><th scope=row>Score</th><td> 1.0000000</td><td> 0.9102242</td><td> 0.7840514</td><td>-0.3383549</td><td>-0.8473333</td></tr>\n",
       "\t<tr><th scope=row>IQ</th><td> 0.9102242</td><td> 1.0000000</td><td> 0.6009466</td><td>-0.1038108</td><td>-0.6783251</td></tr>\n",
       "\t<tr><th scope=row>PrivateInstitutes</th><td> 0.7840514</td><td> 0.6009466</td><td> 1.0000000</td><td>-0.3106005</td><td>-0.8465387</td></tr>\n",
       "\t<tr><th scope=row>Gameplay</th><td>-0.3383549</td><td>-0.1038108</td><td>-0.3106005</td><td> 1.0000000</td><td> 0.2440191</td></tr>\n",
       "\t<tr><th scope=row>TV</th><td>-0.8473333</td><td>-0.6783251</td><td>-0.8465387</td><td> 0.2440191</td><td> 1.0000000</td></tr>\n",
       "</tbody>\n",
       "</table>\n"
      ],
      "text/latex": [
       "A matrix: 5 × 5 of type dbl\n",
       "\\begin{tabular}{r|lllll}\n",
       "  & Score & IQ & PrivateInstitutes & Gameplay & TV\\\\\n",
       "\\hline\n",
       "\tScore &  1.0000000 &  0.9102242 &  0.7840514 & -0.3383549 & -0.8473333\\\\\n",
       "\tIQ &  0.9102242 &  1.0000000 &  0.6009466 & -0.1038108 & -0.6783251\\\\\n",
       "\tPrivateInstitutes &  0.7840514 &  0.6009466 &  1.0000000 & -0.3106005 & -0.8465387\\\\\n",
       "\tGameplay & -0.3383549 & -0.1038108 & -0.3106005 &  1.0000000 &  0.2440191\\\\\n",
       "\tTV & -0.8473333 & -0.6783251 & -0.8465387 &  0.2440191 &  1.0000000\\\\\n",
       "\\end{tabular}\n"
      ],
      "text/markdown": [
       "\n",
       "A matrix: 5 × 5 of type dbl\n",
       "\n",
       "| <!--/--> | Score | IQ | PrivateInstitutes | Gameplay | TV |\n",
       "|---|---|---|---|---|---|\n",
       "| Score |  1.0000000 |  0.9102242 |  0.7840514 | -0.3383549 | -0.8473333 |\n",
       "| IQ |  0.9102242 |  1.0000000 |  0.6009466 | -0.1038108 | -0.6783251 |\n",
       "| PrivateInstitutes |  0.7840514 |  0.6009466 |  1.0000000 | -0.3106005 | -0.8465387 |\n",
       "| Gameplay | -0.3383549 | -0.1038108 | -0.3106005 |  1.0000000 |  0.2440191 |\n",
       "| TV | -0.8473333 | -0.6783251 | -0.8465387 |  0.2440191 |  1.0000000 |\n",
       "\n"
      ],
      "text/plain": [
       "                  Score      IQ         PrivateInstitutes Gameplay   TV        \n",
       "Score              1.0000000  0.9102242  0.7840514        -0.3383549 -0.8473333\n",
       "IQ                 0.9102242  1.0000000  0.6009466        -0.1038108 -0.6783251\n",
       "PrivateInstitutes  0.7840514  0.6009466  1.0000000        -0.3106005 -0.8465387\n",
       "Gameplay          -0.3383549 -0.1038108 -0.3106005         1.0000000  0.2440191\n",
       "TV                -0.8473333 -0.6783251 -0.8465387         0.2440191  1.0000000"
      ]
     },
     "metadata": {},
     "output_type": "display_data"
    }
   ],
   "source": [
    "cor(sco[-1])"
   ]
  },
  {
   "cell_type": "code",
   "execution_count": 10,
   "metadata": {},
   "outputs": [
    {
     "data": {
      "text/plain": [
       "\n",
       "\tPearson's product-moment correlation\n",
       "\n",
       "data:  sco$Score and sco$IQ\n",
       "t = 6.2169, df = 8, p-value = 0.0002547\n",
       "alternative hypothesis: true correlation is not equal to 0\n",
       "95 percent confidence interval:\n",
       " 0.6572937 0.9788630\n",
       "sample estimates:\n",
       "      cor \n",
       "0.9102242 \n"
      ]
     },
     "metadata": {},
     "output_type": "display_data"
    }
   ],
   "source": [
    "cor.test(sco$Score, sco$IQ)"
   ]
  },
  {
   "cell_type": "code",
   "execution_count": null,
   "metadata": {},
   "outputs": [],
   "source": []
  }
 ],
 "metadata": {
  "kernelspec": {
   "display_name": "R",
   "language": "R",
   "name": "ir"
  },
  "language_info": {
   "codemirror_mode": "r",
   "file_extension": ".r",
   "mimetype": "text/x-r-source",
   "name": "R",
   "pygments_lexer": "r",
   "version": "3.6.1"
  },
  "latex_envs": {
   "LaTeX_envs_menu_present": true,
   "autoclose": false,
   "autocomplete": true,
   "bibliofile": "biblio.bib",
   "cite_by": "apalike",
   "current_citInitial": 1,
   "eqLabelWithNumbers": true,
   "eqNumInitial": 1,
   "hotkeys": {
    "equation": "Ctrl-E",
    "itemize": "Ctrl-I"
   },
   "labels_anchors": false,
   "latex_user_defs": false,
   "report_style_numbering": false,
   "user_envs_cfg": false
  },
  "toc": {
   "base_numbering": 1,
   "nav_menu": {},
   "number_sections": true,
   "sideBar": true,
   "skip_h1_title": false,
   "title_cell": "Table of Contents",
   "title_sidebar": "Contents",
   "toc_cell": false,
   "toc_position": {},
   "toc_section_display": true,
   "toc_window_display": true
  },
  "varInspector": {
   "cols": {
    "lenName": 16,
    "lenType": 16,
    "lenVar": 40
   },
   "kernels_config": {
    "python": {
     "delete_cmd_postfix": "",
     "delete_cmd_prefix": "del ",
     "library": "var_list.py",
     "varRefreshCmd": "print(var_dic_list())"
    },
    "r": {
     "delete_cmd_postfix": ") ",
     "delete_cmd_prefix": "rm(",
     "library": "var_list.r",
     "varRefreshCmd": "cat(var_dic_list()) "
    }
   },
   "types_to_exclude": [
    "module",
    "function",
    "builtin_function_or_method",
    "instance",
    "_Feature"
   ],
   "window_display": false
  }
 },
 "nbformat": 4,
 "nbformat_minor": 2
}
