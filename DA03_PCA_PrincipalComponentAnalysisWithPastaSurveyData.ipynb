{
 "cells": [
  {
   "cell_type": "markdown",
   "metadata": {},
   "source": [
    "# Principal Component Analysis"
   ]
  },
  {
   "cell_type": "markdown",
   "metadata": {},
   "source": [
    "### Load Data"
   ]
  },
  {
   "cell_type": "code",
   "execution_count": 29,
   "metadata": {},
   "outputs": [
    {
     "data": {
      "text/html": [
       "<table>\n",
       "<caption>A data.frame: 6 × 3</caption>\n",
       "<thead>\n",
       "\t<tr><th></th><th scope=col>noodle</th><th scope=col>dishes</th><th scope=col>sauce</th></tr>\n",
       "\t<tr><th></th><th scope=col>&lt;int&gt;</th><th scope=col>&lt;int&gt;</th><th scope=col>&lt;int&gt;</th></tr>\n",
       "</thead>\n",
       "<tbody>\n",
       "\t<tr><th scope=row>pesto_alla_Genovese</th><td>2</td><td>4</td><td>5</td></tr>\n",
       "\t<tr><th scope=row>Marinara</th><td>1</td><td>5</td><td>1</td></tr>\n",
       "\t<tr><th scope=row>Puttanesca</th><td>5</td><td>3</td><td>4</td></tr>\n",
       "\t<tr><th scope=row>Primavera</th><td>2</td><td>2</td><td>3</td></tr>\n",
       "\t<tr><th scope=row>Vongole</th><td>3</td><td>5</td><td>5</td></tr>\n",
       "\t<tr><th scope=row>Boscaiola</th><td>4</td><td>3</td><td>2</td></tr>\n",
       "</tbody>\n",
       "</table>\n"
      ],
      "text/latex": [
       "A data.frame: 6 × 3\n",
       "\\begin{tabular}{r|lll}\n",
       "  & noodle & dishes & sauce\\\\\n",
       "  & <int> & <int> & <int>\\\\\n",
       "\\hline\n",
       "\tpesto\\_alla\\_Genovese & 2 & 4 & 5\\\\\n",
       "\tMarinara & 1 & 5 & 1\\\\\n",
       "\tPuttanesca & 5 & 3 & 4\\\\\n",
       "\tPrimavera & 2 & 2 & 3\\\\\n",
       "\tVongole & 3 & 5 & 5\\\\\n",
       "\tBoscaiola & 4 & 3 & 2\\\\\n",
       "\\end{tabular}\n"
      ],
      "text/markdown": [
       "\n",
       "A data.frame: 6 × 3\n",
       "\n",
       "| <!--/--> | noodle &lt;int&gt; | dishes &lt;int&gt; | sauce &lt;int&gt; |\n",
       "|---|---|---|---|\n",
       "| pesto_alla_Genovese | 2 | 4 | 5 |\n",
       "| Marinara | 1 | 5 | 1 |\n",
       "| Puttanesca | 5 | 3 | 4 |\n",
       "| Primavera | 2 | 2 | 3 |\n",
       "| Vongole | 3 | 5 | 5 |\n",
       "| Boscaiola | 4 | 3 | 2 |\n",
       "\n"
      ],
      "text/plain": [
       "                    noodle dishes sauce\n",
       "pesto_alla_Genovese 2      4      5    \n",
       "Marinara            1      5      1    \n",
       "Puttanesca          5      3      4    \n",
       "Primavera           2      2      3    \n",
       "Vongole             3      5      5    \n",
       "Boscaiola           4      3      2    "
      ]
     },
     "metadata": {},
     "output_type": "display_data"
    }
   ],
   "source": [
    "data <- read.table(\"./Data/pasta.txt\")\n",
    "head(data)"
   ]
  },
  {
   "cell_type": "code",
   "execution_count": 21,
   "metadata": {},
   "outputs": [
    {
     "data": {
      "text/plain": [
       "     noodle      dishes         sauce     \n",
       " Min.   :1   Min.   :2.00   Min.   :1.00  \n",
       " 1st Qu.:2   1st Qu.:3.00   1st Qu.:2.00  \n",
       " Median :3   Median :3.50   Median :3.00  \n",
       " Mean   :3   Mean   :3.60   Mean   :2.90  \n",
       " 3rd Qu.:4   3rd Qu.:4.75   3rd Qu.:3.75  \n",
       " Max.   :5   Max.   :5.00   Max.   :5.00  "
      ]
     },
     "metadata": {},
     "output_type": "display_data"
    }
   ],
   "source": [
    "summary(data)"
   ]
  },
  {
   "cell_type": "code",
   "execution_count": 22,
   "metadata": {},
   "outputs": [
    {
     "name": "stdout",
     "output_type": "stream",
     "text": [
      "'data.frame':\t10 obs. of  3 variables:\n",
      " $ noodle: int  2 1 5 2 3 4 4 1 3 5\n",
      " $ dishes: int  4 5 3 2 5 3 4 2 3 5\n",
      " $ sauce : int  5 1 4 3 5 2 3 1 2 3\n"
     ]
    }
   ],
   "source": [
    "str(data)"
   ]
  },
  {
   "cell_type": "code",
   "execution_count": 23,
   "metadata": {},
   "outputs": [
    {
     "data": {
      "text/html": [
       "<table>\n",
       "<caption>A matrix: 3 × 3 of type dbl</caption>\n",
       "<thead>\n",
       "\t<tr><th></th><th scope=col>noodle</th><th scope=col>dishes</th><th scope=col>sauce</th></tr>\n",
       "</thead>\n",
       "<tbody>\n",
       "\t<tr><th scope=row>noodle</th><td>1.0000000</td><td>0.1905002</td><td>0.3600411</td></tr>\n",
       "\t<tr><th scope=row>dishes</th><td>0.1905002</td><td>1.0000000</td><td>0.3004804</td></tr>\n",
       "\t<tr><th scope=row>sauce</th><td>0.3600411</td><td>0.3004804</td><td>1.0000000</td></tr>\n",
       "</tbody>\n",
       "</table>\n"
      ],
      "text/latex": [
       "A matrix: 3 × 3 of type dbl\n",
       "\\begin{tabular}{r|lll}\n",
       "  & noodle & dishes & sauce\\\\\n",
       "\\hline\n",
       "\tnoodle & 1.0000000 & 0.1905002 & 0.3600411\\\\\n",
       "\tdishes & 0.1905002 & 1.0000000 & 0.3004804\\\\\n",
       "\tsauce & 0.3600411 & 0.3004804 & 1.0000000\\\\\n",
       "\\end{tabular}\n"
      ],
      "text/markdown": [
       "\n",
       "A matrix: 3 × 3 of type dbl\n",
       "\n",
       "| <!--/--> | noodle | dishes | sauce |\n",
       "|---|---|---|---|\n",
       "| noodle | 1.0000000 | 0.1905002 | 0.3600411 |\n",
       "| dishes | 0.1905002 | 1.0000000 | 0.3004804 |\n",
       "| sauce | 0.3600411 | 0.3004804 | 1.0000000 |\n",
       "\n"
      ],
      "text/plain": [
       "       noodle    dishes    sauce    \n",
       "noodle 1.0000000 0.1905002 0.3600411\n",
       "dishes 0.1905002 1.0000000 0.3004804\n",
       "sauce  0.3600411 0.3004804 1.0000000"
      ]
     },
     "metadata": {},
     "output_type": "display_data"
    }
   ],
   "source": [
    "cor(data) # to check if there is multicollinearity // no issue"
   ]
  },
  {
   "cell_type": "code",
   "execution_count": 24,
   "metadata": {},
   "outputs": [
    {
     "data": {
      "text/plain": [
       "     noodle            dishes             sauce         \n",
       " Min.   :-1.3416   Min.   :-1.36311   Min.   :-1.31112  \n",
       " 1st Qu.:-0.6708   1st Qu.:-0.51117   1st Qu.:-0.62106  \n",
       " Median : 0.0000   Median :-0.08519   Median : 0.06901  \n",
       " Mean   : 0.0000   Mean   : 0.00000   Mean   : 0.00000  \n",
       " 3rd Qu.: 0.6708   3rd Qu.: 0.97973   3rd Qu.: 0.58656  \n",
       " Max.   : 1.3416   Max.   : 1.19272   Max.   : 1.44914  "
      ]
     },
     "metadata": {},
     "output_type": "display_data"
    }
   ],
   "source": [
    "data <- scale(data)\n",
    "summary(data)"
   ]
  },
  {
   "cell_type": "markdown",
   "metadata": {},
   "source": [
    "## Principal Component Analysis"
   ]
  },
  {
   "cell_type": "code",
   "execution_count": 25,
   "metadata": {},
   "outputs": [
    {
     "data": {
      "text/plain": [
       "Standard deviations (1, .., p=3):\n",
       "[1] 1.2541347 0.9022241 0.7830312\n",
       "\n",
       "Rotation (n x k) = (3 x 3):\n",
       "             PC1        PC2        PC3\n",
       "noodle 0.5715110 -0.6044710  0.5549685\n",
       "dishes 0.5221161  0.7896069  0.3223595\n",
       "sauce  0.6330639 -0.1055260 -0.7668731"
      ]
     },
     "metadata": {},
     "output_type": "display_data"
    }
   ],
   "source": [
    "principalPasta <- prcomp(data, scale = T)\n",
    "principalPasta"
   ]
  },
  {
   "cell_type": "code",
   "execution_count": 26,
   "metadata": {},
   "outputs": [
    {
     "data": {
      "image/png": "[encoded data removed]",
      "text/plain": [
       "plot without title"
      ]
     },
     "metadata": {
      "image/png": {
       "height": 420,
       "width": 420
      },
      "text/plain": {
       "height": 420,
       "width": 420
      }
     },
     "output_type": "display_data"
    }
   ],
   "source": [
    "biplot(principalPasta)"
   ]
  },
  {
   "cell_type": "markdown",
   "metadata": {},
   "source": [
    "    : PC1 sauce (0.6330639) is the most influential variable in the overall evaluation of pasta"
   ]
  },
  {
   "cell_type": "markdown",
   "metadata": {},
   "source": [
    "     - In overall, Carbonara and Vongole get good scores.\n",
    "     - Alfredo, Marinara, and Puttanesca do not score well.\n",
    "     - Thr best noodle in the restaurant is Puttanesca. The dishes of Vongole and Marinara are well evaluated."
   ]
  },
  {
   "cell_type": "code",
   "execution_count": null,
   "metadata": {},
   "outputs": [],
   "source": []
  }
 ],
 "metadata": {
  "kernelspec": {
   "display_name": "R",
   "language": "R",
   "name": "ir"
  },
  "language_info": {
   "codemirror_mode": "r",
   "file_extension": ".r",
   "mimetype": "text/x-r-source",
   "name": "R",
   "pygments_lexer": "r",
   "version": "3.6.1"
  },
  "latex_envs": {
   "LaTeX_envs_menu_present": true,
   "autoclose": false,
   "autocomplete": true,
   "bibliofile": "biblio.bib",
   "cite_by": "apalike",
   "current_citInitial": 1,
   "eqLabelWithNumbers": true,
   "eqNumInitial": 1,
   "hotkeys": {
    "equation": "Ctrl-E",
    "itemize": "Ctrl-I"
   },
   "labels_anchors": false,
   "latex_user_defs": false,
   "report_style_numbering": false,
   "user_envs_cfg": false
  },
  "varInspector": {
   "cols": {
    "lenName": 16,
    "lenType": 16,
    "lenVar": 40
   },
   "kernels_config": {
    "python": {
     "delete_cmd_postfix": "",
     "delete_cmd_prefix": "del ",
     "library": "var_list.py",
     "varRefreshCmd": "print(var_dic_list())"
    },
    "r": {
     "delete_cmd_postfix": ") ",
     "delete_cmd_prefix": "rm(",
     "library": "var_list.r",
     "varRefreshCmd": "cat(var_dic_list()) "
    }
   },
   "types_to_exclude": [
    "module",
    "function",
    "builtin_function_or_method",
    "instance",
    "_Feature"
   ],
   "window_display": false
  }
 },
 "nbformat": 4,
 "nbformat_minor": 2
}
