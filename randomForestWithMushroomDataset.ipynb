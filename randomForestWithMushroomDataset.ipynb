{
 "cells": [
  {
   "cell_type": "markdown",
   "metadata": {},
   "source": [
    "# randomForest with Mushroom Dataset"
   ]
  },
  {
   "cell_type": "markdown",
   "metadata": {},
   "source": [
    "# Data"
   ]
  },
  {
   "cell_type": "markdown",
   "metadata": {},
   "source": [
    "https://archive.ics.uci.edu/ml/datasets/Mushroom"
   ]
  },
  {
   "cell_type": "code",
   "execution_count": 14,
   "metadata": {},
   "outputs": [
    {
     "data": {
      "text/html": [
       "<table>\n",
       "<caption>A data.frame: 6 × 23</caption>\n",
       "<thead>\n",
       "\t<tr><th></th><th scope=col>V1</th><th scope=col>V2</th><th scope=col>V3</th><th scope=col>V4</th><th scope=col>V5</th><th scope=col>V6</th><th scope=col>V7</th><th scope=col>V8</th><th scope=col>V9</th><th scope=col>V10</th><th scope=col>⋯</th><th scope=col>V14</th><th scope=col>V15</th><th scope=col>V16</th><th scope=col>V17</th><th scope=col>V18</th><th scope=col>V19</th><th scope=col>V20</th><th scope=col>V21</th><th scope=col>V22</th><th scope=col>V23</th></tr>\n",
       "\t<tr><th></th><th scope=col>&lt;fct&gt;</th><th scope=col>&lt;fct&gt;</th><th scope=col>&lt;fct&gt;</th><th scope=col>&lt;fct&gt;</th><th scope=col>&lt;fct&gt;</th><th scope=col>&lt;fct&gt;</th><th scope=col>&lt;fct&gt;</th><th scope=col>&lt;fct&gt;</th><th scope=col>&lt;fct&gt;</th><th scope=col>&lt;fct&gt;</th><th scope=col>⋯</th><th scope=col>&lt;fct&gt;</th><th scope=col>&lt;fct&gt;</th><th scope=col>&lt;fct&gt;</th><th scope=col>&lt;fct&gt;</th><th scope=col>&lt;fct&gt;</th><th scope=col>&lt;fct&gt;</th><th scope=col>&lt;fct&gt;</th><th scope=col>&lt;fct&gt;</th><th scope=col>&lt;fct&gt;</th><th scope=col>&lt;fct&gt;</th></tr>\n",
       "</thead>\n",
       "<tbody>\n",
       "\t<tr><th scope=row>1</th><td>p</td><td>x</td><td>s</td><td>n</td><td>t</td><td>p</td><td>f</td><td>c</td><td>n</td><td>k</td><td>⋯</td><td>s</td><td>w</td><td>w</td><td>p</td><td>w</td><td>o</td><td>p</td><td>k</td><td>s</td><td>u</td></tr>\n",
       "\t<tr><th scope=row>2</th><td>e</td><td>x</td><td>s</td><td>y</td><td>t</td><td>a</td><td>f</td><td>c</td><td>b</td><td>k</td><td>⋯</td><td>s</td><td>w</td><td>w</td><td>p</td><td>w</td><td>o</td><td>p</td><td>n</td><td>n</td><td>g</td></tr>\n",
       "\t<tr><th scope=row>3</th><td>e</td><td>b</td><td>s</td><td>w</td><td>t</td><td>l</td><td>f</td><td>c</td><td>b</td><td>n</td><td>⋯</td><td>s</td><td>w</td><td>w</td><td>p</td><td>w</td><td>o</td><td>p</td><td>n</td><td>n</td><td>m</td></tr>\n",
       "\t<tr><th scope=row>4</th><td>p</td><td>x</td><td>y</td><td>w</td><td>t</td><td>p</td><td>f</td><td>c</td><td>n</td><td>n</td><td>⋯</td><td>s</td><td>w</td><td>w</td><td>p</td><td>w</td><td>o</td><td>p</td><td>k</td><td>s</td><td>u</td></tr>\n",
       "\t<tr><th scope=row>5</th><td>e</td><td>x</td><td>s</td><td>g</td><td>f</td><td>n</td><td>f</td><td>w</td><td>b</td><td>k</td><td>⋯</td><td>s</td><td>w</td><td>w</td><td>p</td><td>w</td><td>o</td><td>e</td><td>n</td><td>a</td><td>g</td></tr>\n",
       "\t<tr><th scope=row>6</th><td>e</td><td>x</td><td>y</td><td>y</td><td>t</td><td>a</td><td>f</td><td>c</td><td>b</td><td>n</td><td>⋯</td><td>s</td><td>w</td><td>w</td><td>p</td><td>w</td><td>o</td><td>p</td><td>k</td><td>n</td><td>g</td></tr>\n",
       "</tbody>\n",
       "</table>\n"
      ],
      "text/latex": [
       "A data.frame: 6 × 23\n",
       "\\begin{tabular}{r|lllllllllllllllllllll}\n",
       "  & V1 & V2 & V3 & V4 & V5 & V6 & V7 & V8 & V9 & V10 & ⋯ & V14 & V15 & V16 & V17 & V18 & V19 & V20 & V21 & V22 & V23\\\\\n",
       "  & <fct> & <fct> & <fct> & <fct> & <fct> & <fct> & <fct> & <fct> & <fct> & <fct> & ⋯ & <fct> & <fct> & <fct> & <fct> & <fct> & <fct> & <fct> & <fct> & <fct> & <fct>\\\\\n",
       "\\hline\n",
       "\t1 & p & x & s & n & t & p & f & c & n & k & ⋯ & s & w & w & p & w & o & p & k & s & u\\\\\n",
       "\t2 & e & x & s & y & t & a & f & c & b & k & ⋯ & s & w & w & p & w & o & p & n & n & g\\\\\n",
       "\t3 & e & b & s & w & t & l & f & c & b & n & ⋯ & s & w & w & p & w & o & p & n & n & m\\\\\n",
       "\t4 & p & x & y & w & t & p & f & c & n & n & ⋯ & s & w & w & p & w & o & p & k & s & u\\\\\n",
       "\t5 & e & x & s & g & f & n & f & w & b & k & ⋯ & s & w & w & p & w & o & e & n & a & g\\\\\n",
       "\t6 & e & x & y & y & t & a & f & c & b & n & ⋯ & s & w & w & p & w & o & p & k & n & g\\\\\n",
       "\\end{tabular}\n"
      ],
      "text/markdown": [
       "\n",
       "A data.frame: 6 × 23\n",
       "\n",
       "| <!--/--> | V1 &lt;fct&gt; | V2 &lt;fct&gt; | V3 &lt;fct&gt; | V4 &lt;fct&gt; | V5 &lt;fct&gt; | V6 &lt;fct&gt; | V7 &lt;fct&gt; | V8 &lt;fct&gt; | V9 &lt;fct&gt; | V10 &lt;fct&gt; | ⋯ ⋯ | V14 &lt;fct&gt; | V15 &lt;fct&gt; | V16 &lt;fct&gt; | V17 &lt;fct&gt; | V18 &lt;fct&gt; | V19 &lt;fct&gt; | V20 &lt;fct&gt; | V21 &lt;fct&gt; | V22 &lt;fct&gt; | V23 &lt;fct&gt; |\n",
       "|---|---|---|---|---|---|---|---|---|---|---|---|---|---|---|---|---|---|---|---|---|---|\n",
       "| 1 | p | x | s | n | t | p | f | c | n | k | ⋯ | s | w | w | p | w | o | p | k | s | u |\n",
       "| 2 | e | x | s | y | t | a | f | c | b | k | ⋯ | s | w | w | p | w | o | p | n | n | g |\n",
       "| 3 | e | b | s | w | t | l | f | c | b | n | ⋯ | s | w | w | p | w | o | p | n | n | m |\n",
       "| 4 | p | x | y | w | t | p | f | c | n | n | ⋯ | s | w | w | p | w | o | p | k | s | u |\n",
       "| 5 | e | x | s | g | f | n | f | w | b | k | ⋯ | s | w | w | p | w | o | e | n | a | g |\n",
       "| 6 | e | x | y | y | t | a | f | c | b | n | ⋯ | s | w | w | p | w | o | p | k | n | g |\n",
       "\n"
      ],
      "text/plain": [
       "  V1 V2 V3 V4 V5 V6 V7 V8 V9 V10 ⋯ V14 V15 V16 V17 V18 V19 V20 V21 V22 V23\n",
       "1 p  x  s  n  t  p  f  c  n  k   ⋯ s   w   w   p   w   o   p   k   s   u  \n",
       "2 e  x  s  y  t  a  f  c  b  k   ⋯ s   w   w   p   w   o   p   n   n   g  \n",
       "3 e  b  s  w  t  l  f  c  b  n   ⋯ s   w   w   p   w   o   p   n   n   m  \n",
       "4 p  x  y  w  t  p  f  c  n  n   ⋯ s   w   w   p   w   o   p   k   s   u  \n",
       "5 e  x  s  g  f  n  f  w  b  k   ⋯ s   w   w   p   w   o   e   n   a   g  \n",
       "6 e  x  y  y  t  a  f  c  b  n   ⋯ s   w   w   p   w   o   p   k   n   g  "
      ]
     },
     "metadata": {},
     "output_type": "display_data"
    }
   ],
   "source": [
    "mr_data <- read.csv(\"./Data/mushroom.csv\", head = F)\n",
    "head(mr_data)"
   ]
  },
  {
   "cell_type": "code",
   "execution_count": 15,
   "metadata": {},
   "outputs": [
    {
     "name": "stdout",
     "output_type": "stream",
     "text": [
      "'data.frame':\t8124 obs. of  23 variables:\n",
      " $ V1 : Factor w/ 2 levels \"e\",\"p\": 2 1 1 2 1 1 1 1 2 1 ...\n",
      " $ V2 : Factor w/ 6 levels \"b\",\"c\",\"f\",\"k\",..: 6 6 1 6 6 6 1 1 6 1 ...\n",
      " $ V3 : Factor w/ 4 levels \"f\",\"g\",\"s\",\"y\": 3 3 3 4 3 4 3 4 4 3 ...\n",
      " $ V4 : Factor w/ 10 levels \"b\",\"c\",\"e\",\"g\",..: 5 10 9 9 4 10 9 9 9 10 ...\n",
      " $ V5 : Factor w/ 2 levels \"f\",\"t\": 2 2 2 2 1 2 2 2 2 2 ...\n",
      " $ V6 : Factor w/ 9 levels \"a\",\"c\",\"f\",\"l\",..: 7 1 4 7 6 1 1 4 7 1 ...\n",
      " $ V7 : Factor w/ 2 levels \"a\",\"f\": 2 2 2 2 2 2 2 2 2 2 ...\n",
      " $ V8 : Factor w/ 2 levels \"c\",\"w\": 1 1 1 1 2 1 1 1 1 1 ...\n",
      " $ V9 : Factor w/ 2 levels \"b\",\"n\": 2 1 1 2 1 1 1 1 2 1 ...\n",
      " $ V10: Factor w/ 12 levels \"b\",\"e\",\"g\",\"h\",..: 5 5 6 6 5 6 3 6 8 3 ...\n",
      " $ V11: Factor w/ 2 levels \"e\",\"t\": 1 1 1 1 2 1 1 1 1 1 ...\n",
      " $ V12: Factor w/ 5 levels \"?\",\"b\",\"c\",\"e\",..: 4 3 3 4 4 3 3 3 4 3 ...\n",
      " $ V13: Factor w/ 4 levels \"f\",\"k\",\"s\",\"y\": 3 3 3 3 3 3 3 3 3 3 ...\n",
      " $ V14: Factor w/ 4 levels \"f\",\"k\",\"s\",\"y\": 3 3 3 3 3 3 3 3 3 3 ...\n",
      " $ V15: Factor w/ 9 levels \"b\",\"c\",\"e\",\"g\",..: 8 8 8 8 8 8 8 8 8 8 ...\n",
      " $ V16: Factor w/ 9 levels \"b\",\"c\",\"e\",\"g\",..: 8 8 8 8 8 8 8 8 8 8 ...\n",
      " $ V17: Factor w/ 1 level \"p\": 1 1 1 1 1 1 1 1 1 1 ...\n",
      " $ V18: Factor w/ 4 levels \"n\",\"o\",\"w\",\"y\": 3 3 3 3 3 3 3 3 3 3 ...\n",
      " $ V19: Factor w/ 3 levels \"n\",\"o\",\"t\": 2 2 2 2 2 2 2 2 2 2 ...\n",
      " $ V20: Factor w/ 5 levels \"e\",\"f\",\"l\",\"n\",..: 5 5 5 5 1 5 5 5 5 5 ...\n",
      " $ V21: Factor w/ 9 levels \"b\",\"h\",\"k\",\"n\",..: 3 4 4 3 4 3 3 4 3 3 ...\n",
      " $ V22: Factor w/ 6 levels \"a\",\"c\",\"n\",\"s\",..: 4 3 3 4 1 3 3 4 5 4 ...\n",
      " $ V23: Factor w/ 7 levels \"d\",\"g\",\"l\",\"m\",..: 6 2 4 6 2 2 4 4 2 4 ...\n"
     ]
    }
   ],
   "source": [
    "str(mr_data)"
   ]
  },
  {
   "cell_type": "code",
   "execution_count": 25,
   "metadata": {},
   "outputs": [
    {
     "data": {
      "text/plain": [
       " V1       V2       V3             V4       V5             V6       V7      \n",
       " e:4208   b: 452   f:2320   n      :2284   f:4748   n      :3528   a: 210  \n",
       " p:3916   c:   4   g:   4   g      :1840   t:3376   f      :2160   f:7914  \n",
       "          f:3152   s:2556   e      :1500            s      : 576           \n",
       "          k: 828   y:3244   y      :1072            y      : 576           \n",
       "          s:  32            w      :1040            a      : 400           \n",
       "          x:3656            b      : 168            l      : 400           \n",
       "                            (Other): 220            (Other): 484           \n",
       " V8       V9            V10       V11      V12      V13      V14     \n",
       " c:6812   b:5612   b      :1728   e:3516   ?:2480   f: 552   f: 600  \n",
       " w:1312   n:2512   p      :1492   t:4608   b:3776   k:2372   k:2304  \n",
       "                   w      :1202            c: 556   s:5176   s:4936  \n",
       "                   n      :1048            e:1120   y:  24   y: 284  \n",
       "                   g      : 752            r: 192                    \n",
       "                   h      : 732                                      \n",
       "                   (Other):1170                                      \n",
       "      V15            V16       V17      V18      V19      V20     \n",
       " w      :4464   w      :4384   p:8124   n:  96   n:  36   e:2776  \n",
       " p      :1872   p      :1872            o:  96   o:7488   f:  48  \n",
       " g      : 576   g      : 576            w:7924   t: 600   l:1296  \n",
       " n      : 448   n      : 512            y:   8            n:  36  \n",
       " b      : 432   b      : 432                              p:3968  \n",
       " o      : 192   o      : 192                                      \n",
       " (Other): 140   (Other): 156                                      \n",
       "      V21       V22      V23     \n",
       " w      :2388   a: 384   d:3148  \n",
       " n      :1968   c: 340   g:2148  \n",
       " k      :1872   n: 400   l: 832  \n",
       " h      :1632   s:1248   m: 292  \n",
       " r      :  72   v:4040   p:1144  \n",
       " b      :  48   y:1712   u: 368  \n",
       " (Other): 144            w: 192  "
      ]
     },
     "metadata": {},
     "output_type": "display_data"
    }
   ],
   "source": [
    "summary(mr_data)"
   ]
  },
  {
   "cell_type": "markdown",
   "metadata": {},
   "source": [
    "## Convert text into number"
   ]
  },
  {
   "cell_type": "markdown",
   "metadata": {},
   "source": [
    "Convert text into number except the 1st column (poisonous or edible)"
   ]
  },
  {
   "cell_type": "code",
   "execution_count": 26,
   "metadata": {},
   "outputs": [],
   "source": [
    "for (i in 2:23) {\n",
    "    mr_data[, i] = as.numeric(mr_data[, i])\n",
    "}"
   ]
  },
  {
   "cell_type": "code",
   "execution_count": 27,
   "metadata": {},
   "outputs": [
    {
     "data": {
      "text/html": [
       "<table>\n",
       "<caption>A data.frame: 6 × 23</caption>\n",
       "<thead>\n",
       "\t<tr><th></th><th scope=col>V1</th><th scope=col>V2</th><th scope=col>V3</th><th scope=col>V4</th><th scope=col>V5</th><th scope=col>V6</th><th scope=col>V7</th><th scope=col>V8</th><th scope=col>V9</th><th scope=col>V10</th><th scope=col>⋯</th><th scope=col>V14</th><th scope=col>V15</th><th scope=col>V16</th><th scope=col>V17</th><th scope=col>V18</th><th scope=col>V19</th><th scope=col>V20</th><th scope=col>V21</th><th scope=col>V22</th><th scope=col>V23</th></tr>\n",
       "\t<tr><th></th><th scope=col>&lt;fct&gt;</th><th scope=col>&lt;dbl&gt;</th><th scope=col>&lt;dbl&gt;</th><th scope=col>&lt;dbl&gt;</th><th scope=col>&lt;dbl&gt;</th><th scope=col>&lt;dbl&gt;</th><th scope=col>&lt;dbl&gt;</th><th scope=col>&lt;dbl&gt;</th><th scope=col>&lt;dbl&gt;</th><th scope=col>&lt;dbl&gt;</th><th scope=col>⋯</th><th scope=col>&lt;dbl&gt;</th><th scope=col>&lt;dbl&gt;</th><th scope=col>&lt;dbl&gt;</th><th scope=col>&lt;dbl&gt;</th><th scope=col>&lt;dbl&gt;</th><th scope=col>&lt;dbl&gt;</th><th scope=col>&lt;dbl&gt;</th><th scope=col>&lt;dbl&gt;</th><th scope=col>&lt;dbl&gt;</th><th scope=col>&lt;dbl&gt;</th></tr>\n",
       "</thead>\n",
       "<tbody>\n",
       "\t<tr><th scope=row>1</th><td>e</td><td>6</td><td>3</td><td>10</td><td>2</td><td>1</td><td>2</td><td>1</td><td>1</td><td>5</td><td>⋯</td><td>3</td><td>8</td><td>8</td><td>1</td><td>3</td><td>2</td><td>5</td><td>4</td><td>3</td><td>2</td></tr>\n",
       "\t<tr><th scope=row>2</th><td>e</td><td>1</td><td>3</td><td> 9</td><td>2</td><td>4</td><td>2</td><td>1</td><td>1</td><td>6</td><td>⋯</td><td>3</td><td>8</td><td>8</td><td>1</td><td>3</td><td>2</td><td>5</td><td>4</td><td>3</td><td>4</td></tr>\n",
       "\t<tr><th scope=row>3</th><td>e</td><td>6</td><td>3</td><td> 4</td><td>1</td><td>6</td><td>2</td><td>2</td><td>1</td><td>5</td><td>⋯</td><td>3</td><td>8</td><td>8</td><td>1</td><td>3</td><td>2</td><td>1</td><td>4</td><td>1</td><td>2</td></tr>\n",
       "\t<tr><th scope=row>4</th><td>e</td><td>6</td><td>4</td><td>10</td><td>2</td><td>1</td><td>2</td><td>1</td><td>1</td><td>6</td><td>⋯</td><td>3</td><td>8</td><td>8</td><td>1</td><td>3</td><td>2</td><td>5</td><td>3</td><td>3</td><td>2</td></tr>\n",
       "\t<tr><th scope=row>5</th><td>e</td><td>1</td><td>3</td><td> 9</td><td>2</td><td>1</td><td>2</td><td>1</td><td>1</td><td>3</td><td>⋯</td><td>3</td><td>8</td><td>8</td><td>1</td><td>3</td><td>2</td><td>5</td><td>3</td><td>3</td><td>4</td></tr>\n",
       "\t<tr><th scope=row>6</th><td>e</td><td>1</td><td>4</td><td> 9</td><td>2</td><td>4</td><td>2</td><td>1</td><td>1</td><td>6</td><td>⋯</td><td>3</td><td>8</td><td>8</td><td>1</td><td>3</td><td>2</td><td>5</td><td>4</td><td>4</td><td>4</td></tr>\n",
       "</tbody>\n",
       "</table>\n"
      ],
      "text/latex": [
       "A data.frame: 6 × 23\n",
       "\\begin{tabular}{r|lllllllllllllllllllll}\n",
       "  & V1 & V2 & V3 & V4 & V5 & V6 & V7 & V8 & V9 & V10 & ⋯ & V14 & V15 & V16 & V17 & V18 & V19 & V20 & V21 & V22 & V23\\\\\n",
       "  & <fct> & <dbl> & <dbl> & <dbl> & <dbl> & <dbl> & <dbl> & <dbl> & <dbl> & <dbl> & ⋯ & <dbl> & <dbl> & <dbl> & <dbl> & <dbl> & <dbl> & <dbl> & <dbl> & <dbl> & <dbl>\\\\\n",
       "\\hline\n",
       "\t1 & e & 6 & 3 & 10 & 2 & 1 & 2 & 1 & 1 & 5 & ⋯ & 3 & 8 & 8 & 1 & 3 & 2 & 5 & 4 & 3 & 2\\\\\n",
       "\t2 & e & 1 & 3 &  9 & 2 & 4 & 2 & 1 & 1 & 6 & ⋯ & 3 & 8 & 8 & 1 & 3 & 2 & 5 & 4 & 3 & 4\\\\\n",
       "\t3 & e & 6 & 3 &  4 & 1 & 6 & 2 & 2 & 1 & 5 & ⋯ & 3 & 8 & 8 & 1 & 3 & 2 & 1 & 4 & 1 & 2\\\\\n",
       "\t4 & e & 6 & 4 & 10 & 2 & 1 & 2 & 1 & 1 & 6 & ⋯ & 3 & 8 & 8 & 1 & 3 & 2 & 5 & 3 & 3 & 2\\\\\n",
       "\t5 & e & 1 & 3 &  9 & 2 & 1 & 2 & 1 & 1 & 3 & ⋯ & 3 & 8 & 8 & 1 & 3 & 2 & 5 & 3 & 3 & 4\\\\\n",
       "\t6 & e & 1 & 4 &  9 & 2 & 4 & 2 & 1 & 1 & 6 & ⋯ & 3 & 8 & 8 & 1 & 3 & 2 & 5 & 4 & 4 & 4\\\\\n",
       "\\end{tabular}\n"
      ],
      "text/markdown": [
       "\n",
       "A data.frame: 6 × 23\n",
       "\n",
       "| <!--/--> | V1 &lt;fct&gt; | V2 &lt;dbl&gt; | V3 &lt;dbl&gt; | V4 &lt;dbl&gt; | V5 &lt;dbl&gt; | V6 &lt;dbl&gt; | V7 &lt;dbl&gt; | V8 &lt;dbl&gt; | V9 &lt;dbl&gt; | V10 &lt;dbl&gt; | ⋯ ⋯ | V14 &lt;dbl&gt; | V15 &lt;dbl&gt; | V16 &lt;dbl&gt; | V17 &lt;dbl&gt; | V18 &lt;dbl&gt; | V19 &lt;dbl&gt; | V20 &lt;dbl&gt; | V21 &lt;dbl&gt; | V22 &lt;dbl&gt; | V23 &lt;dbl&gt; |\n",
       "|---|---|---|---|---|---|---|---|---|---|---|---|---|---|---|---|---|---|---|---|---|---|\n",
       "| 1 | e | 6 | 3 | 10 | 2 | 1 | 2 | 1 | 1 | 5 | ⋯ | 3 | 8 | 8 | 1 | 3 | 2 | 5 | 4 | 3 | 2 |\n",
       "| 2 | e | 1 | 3 |  9 | 2 | 4 | 2 | 1 | 1 | 6 | ⋯ | 3 | 8 | 8 | 1 | 3 | 2 | 5 | 4 | 3 | 4 |\n",
       "| 3 | e | 6 | 3 |  4 | 1 | 6 | 2 | 2 | 1 | 5 | ⋯ | 3 | 8 | 8 | 1 | 3 | 2 | 1 | 4 | 1 | 2 |\n",
       "| 4 | e | 6 | 4 | 10 | 2 | 1 | 2 | 1 | 1 | 6 | ⋯ | 3 | 8 | 8 | 1 | 3 | 2 | 5 | 3 | 3 | 2 |\n",
       "| 5 | e | 1 | 3 |  9 | 2 | 1 | 2 | 1 | 1 | 3 | ⋯ | 3 | 8 | 8 | 1 | 3 | 2 | 5 | 3 | 3 | 4 |\n",
       "| 6 | e | 1 | 4 |  9 | 2 | 4 | 2 | 1 | 1 | 6 | ⋯ | 3 | 8 | 8 | 1 | 3 | 2 | 5 | 4 | 4 | 4 |\n",
       "\n"
      ],
      "text/plain": [
       "  V1 V2 V3 V4 V5 V6 V7 V8 V9 V10 ⋯ V14 V15 V16 V17 V18 V19 V20 V21 V22 V23\n",
       "1 e  6  3  10 2  1  2  1  1  5   ⋯ 3   8   8   1   3   2   5   4   3   2  \n",
       "2 e  1  3   9 2  4  2  1  1  6   ⋯ 3   8   8   1   3   2   5   4   3   4  \n",
       "3 e  6  3   4 1  6  2  2  1  5   ⋯ 3   8   8   1   3   2   1   4   1   2  \n",
       "4 e  6  4  10 2  1  2  1  1  6   ⋯ 3   8   8   1   3   2   5   3   3   2  \n",
       "5 e  1  3   9 2  1  2  1  1  3   ⋯ 3   8   8   1   3   2   5   3   3   4  \n",
       "6 e  1  4   9 2  4  2  1  1  6   ⋯ 3   8   8   1   3   2   5   4   4   4  "
      ]
     },
     "metadata": {},
     "output_type": "display_data"
    }
   ],
   "source": [
    "head(mr_data)"
   ]
  },
  {
   "cell_type": "markdown",
   "metadata": {},
   "source": [
    "## Order by 1st Column (poisonous or edible)"
   ]
  },
  {
   "cell_type": "code",
   "execution_count": 28,
   "metadata": {},
   "outputs": [],
   "source": [
    "library(doBy)"
   ]
  },
  {
   "cell_type": "code",
   "execution_count": 29,
   "metadata": {},
   "outputs": [
    {
     "data": {
      "text/html": [
       "<table>\n",
       "<caption>A data.frame: 6 × 23</caption>\n",
       "<thead>\n",
       "\t<tr><th></th><th scope=col>V1</th><th scope=col>V2</th><th scope=col>V3</th><th scope=col>V4</th><th scope=col>V5</th><th scope=col>V6</th><th scope=col>V7</th><th scope=col>V8</th><th scope=col>V9</th><th scope=col>V10</th><th scope=col>⋯</th><th scope=col>V14</th><th scope=col>V15</th><th scope=col>V16</th><th scope=col>V17</th><th scope=col>V18</th><th scope=col>V19</th><th scope=col>V20</th><th scope=col>V21</th><th scope=col>V22</th><th scope=col>V23</th></tr>\n",
       "\t<tr><th></th><th scope=col>&lt;fct&gt;</th><th scope=col>&lt;dbl&gt;</th><th scope=col>&lt;dbl&gt;</th><th scope=col>&lt;dbl&gt;</th><th scope=col>&lt;dbl&gt;</th><th scope=col>&lt;dbl&gt;</th><th scope=col>&lt;dbl&gt;</th><th scope=col>&lt;dbl&gt;</th><th scope=col>&lt;dbl&gt;</th><th scope=col>&lt;dbl&gt;</th><th scope=col>⋯</th><th scope=col>&lt;dbl&gt;</th><th scope=col>&lt;dbl&gt;</th><th scope=col>&lt;dbl&gt;</th><th scope=col>&lt;dbl&gt;</th><th scope=col>&lt;dbl&gt;</th><th scope=col>&lt;dbl&gt;</th><th scope=col>&lt;dbl&gt;</th><th scope=col>&lt;dbl&gt;</th><th scope=col>&lt;dbl&gt;</th><th scope=col>&lt;dbl&gt;</th></tr>\n",
       "</thead>\n",
       "<tbody>\n",
       "\t<tr><th scope=row>1</th><td>e</td><td>6</td><td>3</td><td>10</td><td>2</td><td>1</td><td>2</td><td>1</td><td>1</td><td>5</td><td>⋯</td><td>3</td><td>8</td><td>8</td><td>1</td><td>3</td><td>2</td><td>5</td><td>4</td><td>3</td><td>2</td></tr>\n",
       "\t<tr><th scope=row>2</th><td>e</td><td>1</td><td>3</td><td> 9</td><td>2</td><td>4</td><td>2</td><td>1</td><td>1</td><td>6</td><td>⋯</td><td>3</td><td>8</td><td>8</td><td>1</td><td>3</td><td>2</td><td>5</td><td>4</td><td>3</td><td>4</td></tr>\n",
       "\t<tr><th scope=row>3</th><td>e</td><td>6</td><td>3</td><td> 4</td><td>1</td><td>6</td><td>2</td><td>2</td><td>1</td><td>5</td><td>⋯</td><td>3</td><td>8</td><td>8</td><td>1</td><td>3</td><td>2</td><td>1</td><td>4</td><td>1</td><td>2</td></tr>\n",
       "\t<tr><th scope=row>4</th><td>e</td><td>6</td><td>4</td><td>10</td><td>2</td><td>1</td><td>2</td><td>1</td><td>1</td><td>6</td><td>⋯</td><td>3</td><td>8</td><td>8</td><td>1</td><td>3</td><td>2</td><td>5</td><td>3</td><td>3</td><td>2</td></tr>\n",
       "\t<tr><th scope=row>5</th><td>e</td><td>1</td><td>3</td><td> 9</td><td>2</td><td>1</td><td>2</td><td>1</td><td>1</td><td>3</td><td>⋯</td><td>3</td><td>8</td><td>8</td><td>1</td><td>3</td><td>2</td><td>5</td><td>3</td><td>3</td><td>4</td></tr>\n",
       "\t<tr><th scope=row>6</th><td>e</td><td>1</td><td>4</td><td> 9</td><td>2</td><td>4</td><td>2</td><td>1</td><td>1</td><td>6</td><td>⋯</td><td>3</td><td>8</td><td>8</td><td>1</td><td>3</td><td>2</td><td>5</td><td>4</td><td>4</td><td>4</td></tr>\n",
       "</tbody>\n",
       "</table>\n"
      ],
      "text/latex": [
       "A data.frame: 6 × 23\n",
       "\\begin{tabular}{r|lllllllllllllllllllll}\n",
       "  & V1 & V2 & V3 & V4 & V5 & V6 & V7 & V8 & V9 & V10 & ⋯ & V14 & V15 & V16 & V17 & V18 & V19 & V20 & V21 & V22 & V23\\\\\n",
       "  & <fct> & <dbl> & <dbl> & <dbl> & <dbl> & <dbl> & <dbl> & <dbl> & <dbl> & <dbl> & ⋯ & <dbl> & <dbl> & <dbl> & <dbl> & <dbl> & <dbl> & <dbl> & <dbl> & <dbl> & <dbl>\\\\\n",
       "\\hline\n",
       "\t1 & e & 6 & 3 & 10 & 2 & 1 & 2 & 1 & 1 & 5 & ⋯ & 3 & 8 & 8 & 1 & 3 & 2 & 5 & 4 & 3 & 2\\\\\n",
       "\t2 & e & 1 & 3 &  9 & 2 & 4 & 2 & 1 & 1 & 6 & ⋯ & 3 & 8 & 8 & 1 & 3 & 2 & 5 & 4 & 3 & 4\\\\\n",
       "\t3 & e & 6 & 3 &  4 & 1 & 6 & 2 & 2 & 1 & 5 & ⋯ & 3 & 8 & 8 & 1 & 3 & 2 & 1 & 4 & 1 & 2\\\\\n",
       "\t4 & e & 6 & 4 & 10 & 2 & 1 & 2 & 1 & 1 & 6 & ⋯ & 3 & 8 & 8 & 1 & 3 & 2 & 5 & 3 & 3 & 2\\\\\n",
       "\t5 & e & 1 & 3 &  9 & 2 & 1 & 2 & 1 & 1 & 3 & ⋯ & 3 & 8 & 8 & 1 & 3 & 2 & 5 & 3 & 3 & 4\\\\\n",
       "\t6 & e & 1 & 4 &  9 & 2 & 4 & 2 & 1 & 1 & 6 & ⋯ & 3 & 8 & 8 & 1 & 3 & 2 & 5 & 4 & 4 & 4\\\\\n",
       "\\end{tabular}\n"
      ],
      "text/markdown": [
       "\n",
       "A data.frame: 6 × 23\n",
       "\n",
       "| <!--/--> | V1 &lt;fct&gt; | V2 &lt;dbl&gt; | V3 &lt;dbl&gt; | V4 &lt;dbl&gt; | V5 &lt;dbl&gt; | V6 &lt;dbl&gt; | V7 &lt;dbl&gt; | V8 &lt;dbl&gt; | V9 &lt;dbl&gt; | V10 &lt;dbl&gt; | ⋯ ⋯ | V14 &lt;dbl&gt; | V15 &lt;dbl&gt; | V16 &lt;dbl&gt; | V17 &lt;dbl&gt; | V18 &lt;dbl&gt; | V19 &lt;dbl&gt; | V20 &lt;dbl&gt; | V21 &lt;dbl&gt; | V22 &lt;dbl&gt; | V23 &lt;dbl&gt; |\n",
       "|---|---|---|---|---|---|---|---|---|---|---|---|---|---|---|---|---|---|---|---|---|---|\n",
       "| 1 | e | 6 | 3 | 10 | 2 | 1 | 2 | 1 | 1 | 5 | ⋯ | 3 | 8 | 8 | 1 | 3 | 2 | 5 | 4 | 3 | 2 |\n",
       "| 2 | e | 1 | 3 |  9 | 2 | 4 | 2 | 1 | 1 | 6 | ⋯ | 3 | 8 | 8 | 1 | 3 | 2 | 5 | 4 | 3 | 4 |\n",
       "| 3 | e | 6 | 3 |  4 | 1 | 6 | 2 | 2 | 1 | 5 | ⋯ | 3 | 8 | 8 | 1 | 3 | 2 | 1 | 4 | 1 | 2 |\n",
       "| 4 | e | 6 | 4 | 10 | 2 | 1 | 2 | 1 | 1 | 6 | ⋯ | 3 | 8 | 8 | 1 | 3 | 2 | 5 | 3 | 3 | 2 |\n",
       "| 5 | e | 1 | 3 |  9 | 2 | 1 | 2 | 1 | 1 | 3 | ⋯ | 3 | 8 | 8 | 1 | 3 | 2 | 5 | 3 | 3 | 4 |\n",
       "| 6 | e | 1 | 4 |  9 | 2 | 4 | 2 | 1 | 1 | 6 | ⋯ | 3 | 8 | 8 | 1 | 3 | 2 | 5 | 4 | 4 | 4 |\n",
       "\n"
      ],
      "text/plain": [
       "  V1 V2 V3 V4 V5 V6 V7 V8 V9 V10 ⋯ V14 V15 V16 V17 V18 V19 V20 V21 V22 V23\n",
       "1 e  6  3  10 2  1  2  1  1  5   ⋯ 3   8   8   1   3   2   5   4   3   2  \n",
       "2 e  1  3   9 2  4  2  1  1  6   ⋯ 3   8   8   1   3   2   5   4   3   4  \n",
       "3 e  6  3   4 1  6  2  2  1  5   ⋯ 3   8   8   1   3   2   1   4   1   2  \n",
       "4 e  6  4  10 2  1  2  1  1  6   ⋯ 3   8   8   1   3   2   5   3   3   2  \n",
       "5 e  1  3   9 2  1  2  1  1  3   ⋯ 3   8   8   1   3   2   5   3   3   4  \n",
       "6 e  1  4   9 2  4  2  1  1  6   ⋯ 3   8   8   1   3   2   5   4   4   4  "
      ]
     },
     "metadata": {},
     "output_type": "display_data"
    }
   ],
   "source": [
    "mr_data <- orderBy(~ V1, mr_data)\n",
    "head(mr_data)"
   ]
  },
  {
   "cell_type": "markdown",
   "metadata": {},
   "source": [
    "## Reset rownames (index)"
   ]
  },
  {
   "cell_type": "code",
   "execution_count": 30,
   "metadata": {},
   "outputs": [
    {
     "data": {
      "text/html": [
       "<table>\n",
       "<caption>A data.frame: 6 × 23</caption>\n",
       "<thead>\n",
       "\t<tr><th></th><th scope=col>V1</th><th scope=col>V2</th><th scope=col>V3</th><th scope=col>V4</th><th scope=col>V5</th><th scope=col>V6</th><th scope=col>V7</th><th scope=col>V8</th><th scope=col>V9</th><th scope=col>V10</th><th scope=col>⋯</th><th scope=col>V14</th><th scope=col>V15</th><th scope=col>V16</th><th scope=col>V17</th><th scope=col>V18</th><th scope=col>V19</th><th scope=col>V20</th><th scope=col>V21</th><th scope=col>V22</th><th scope=col>V23</th></tr>\n",
       "\t<tr><th></th><th scope=col>&lt;fct&gt;</th><th scope=col>&lt;dbl&gt;</th><th scope=col>&lt;dbl&gt;</th><th scope=col>&lt;dbl&gt;</th><th scope=col>&lt;dbl&gt;</th><th scope=col>&lt;dbl&gt;</th><th scope=col>&lt;dbl&gt;</th><th scope=col>&lt;dbl&gt;</th><th scope=col>&lt;dbl&gt;</th><th scope=col>&lt;dbl&gt;</th><th scope=col>⋯</th><th scope=col>&lt;dbl&gt;</th><th scope=col>&lt;dbl&gt;</th><th scope=col>&lt;dbl&gt;</th><th scope=col>&lt;dbl&gt;</th><th scope=col>&lt;dbl&gt;</th><th scope=col>&lt;dbl&gt;</th><th scope=col>&lt;dbl&gt;</th><th scope=col>&lt;dbl&gt;</th><th scope=col>&lt;dbl&gt;</th><th scope=col>&lt;dbl&gt;</th></tr>\n",
       "</thead>\n",
       "<tbody>\n",
       "\t<tr><th scope=row>1</th><td>e</td><td>6</td><td>3</td><td>10</td><td>2</td><td>1</td><td>2</td><td>1</td><td>1</td><td>5</td><td>⋯</td><td>3</td><td>8</td><td>8</td><td>1</td><td>3</td><td>2</td><td>5</td><td>4</td><td>3</td><td>2</td></tr>\n",
       "\t<tr><th scope=row>2</th><td>e</td><td>1</td><td>3</td><td> 9</td><td>2</td><td>4</td><td>2</td><td>1</td><td>1</td><td>6</td><td>⋯</td><td>3</td><td>8</td><td>8</td><td>1</td><td>3</td><td>2</td><td>5</td><td>4</td><td>3</td><td>4</td></tr>\n",
       "\t<tr><th scope=row>3</th><td>e</td><td>6</td><td>3</td><td> 4</td><td>1</td><td>6</td><td>2</td><td>2</td><td>1</td><td>5</td><td>⋯</td><td>3</td><td>8</td><td>8</td><td>1</td><td>3</td><td>2</td><td>1</td><td>4</td><td>1</td><td>2</td></tr>\n",
       "\t<tr><th scope=row>4</th><td>e</td><td>6</td><td>4</td><td>10</td><td>2</td><td>1</td><td>2</td><td>1</td><td>1</td><td>6</td><td>⋯</td><td>3</td><td>8</td><td>8</td><td>1</td><td>3</td><td>2</td><td>5</td><td>3</td><td>3</td><td>2</td></tr>\n",
       "\t<tr><th scope=row>5</th><td>e</td><td>1</td><td>3</td><td> 9</td><td>2</td><td>1</td><td>2</td><td>1</td><td>1</td><td>3</td><td>⋯</td><td>3</td><td>8</td><td>8</td><td>1</td><td>3</td><td>2</td><td>5</td><td>3</td><td>3</td><td>4</td></tr>\n",
       "\t<tr><th scope=row>6</th><td>e</td><td>1</td><td>4</td><td> 9</td><td>2</td><td>4</td><td>2</td><td>1</td><td>1</td><td>6</td><td>⋯</td><td>3</td><td>8</td><td>8</td><td>1</td><td>3</td><td>2</td><td>5</td><td>4</td><td>4</td><td>4</td></tr>\n",
       "</tbody>\n",
       "</table>\n"
      ],
      "text/latex": [
       "A data.frame: 6 × 23\n",
       "\\begin{tabular}{r|lllllllllllllllllllll}\n",
       "  & V1 & V2 & V3 & V4 & V5 & V6 & V7 & V8 & V9 & V10 & ⋯ & V14 & V15 & V16 & V17 & V18 & V19 & V20 & V21 & V22 & V23\\\\\n",
       "  & <fct> & <dbl> & <dbl> & <dbl> & <dbl> & <dbl> & <dbl> & <dbl> & <dbl> & <dbl> & ⋯ & <dbl> & <dbl> & <dbl> & <dbl> & <dbl> & <dbl> & <dbl> & <dbl> & <dbl> & <dbl>\\\\\n",
       "\\hline\n",
       "\t1 & e & 6 & 3 & 10 & 2 & 1 & 2 & 1 & 1 & 5 & ⋯ & 3 & 8 & 8 & 1 & 3 & 2 & 5 & 4 & 3 & 2\\\\\n",
       "\t2 & e & 1 & 3 &  9 & 2 & 4 & 2 & 1 & 1 & 6 & ⋯ & 3 & 8 & 8 & 1 & 3 & 2 & 5 & 4 & 3 & 4\\\\\n",
       "\t3 & e & 6 & 3 &  4 & 1 & 6 & 2 & 2 & 1 & 5 & ⋯ & 3 & 8 & 8 & 1 & 3 & 2 & 1 & 4 & 1 & 2\\\\\n",
       "\t4 & e & 6 & 4 & 10 & 2 & 1 & 2 & 1 & 1 & 6 & ⋯ & 3 & 8 & 8 & 1 & 3 & 2 & 5 & 3 & 3 & 2\\\\\n",
       "\t5 & e & 1 & 3 &  9 & 2 & 1 & 2 & 1 & 1 & 3 & ⋯ & 3 & 8 & 8 & 1 & 3 & 2 & 5 & 3 & 3 & 4\\\\\n",
       "\t6 & e & 1 & 4 &  9 & 2 & 4 & 2 & 1 & 1 & 6 & ⋯ & 3 & 8 & 8 & 1 & 3 & 2 & 5 & 4 & 4 & 4\\\\\n",
       "\\end{tabular}\n"
      ],
      "text/markdown": [
       "\n",
       "A data.frame: 6 × 23\n",
       "\n",
       "| <!--/--> | V1 &lt;fct&gt; | V2 &lt;dbl&gt; | V3 &lt;dbl&gt; | V4 &lt;dbl&gt; | V5 &lt;dbl&gt; | V6 &lt;dbl&gt; | V7 &lt;dbl&gt; | V8 &lt;dbl&gt; | V9 &lt;dbl&gt; | V10 &lt;dbl&gt; | ⋯ ⋯ | V14 &lt;dbl&gt; | V15 &lt;dbl&gt; | V16 &lt;dbl&gt; | V17 &lt;dbl&gt; | V18 &lt;dbl&gt; | V19 &lt;dbl&gt; | V20 &lt;dbl&gt; | V21 &lt;dbl&gt; | V22 &lt;dbl&gt; | V23 &lt;dbl&gt; |\n",
       "|---|---|---|---|---|---|---|---|---|---|---|---|---|---|---|---|---|---|---|---|---|---|\n",
       "| 1 | e | 6 | 3 | 10 | 2 | 1 | 2 | 1 | 1 | 5 | ⋯ | 3 | 8 | 8 | 1 | 3 | 2 | 5 | 4 | 3 | 2 |\n",
       "| 2 | e | 1 | 3 |  9 | 2 | 4 | 2 | 1 | 1 | 6 | ⋯ | 3 | 8 | 8 | 1 | 3 | 2 | 5 | 4 | 3 | 4 |\n",
       "| 3 | e | 6 | 3 |  4 | 1 | 6 | 2 | 2 | 1 | 5 | ⋯ | 3 | 8 | 8 | 1 | 3 | 2 | 1 | 4 | 1 | 2 |\n",
       "| 4 | e | 6 | 4 | 10 | 2 | 1 | 2 | 1 | 1 | 6 | ⋯ | 3 | 8 | 8 | 1 | 3 | 2 | 5 | 3 | 3 | 2 |\n",
       "| 5 | e | 1 | 3 |  9 | 2 | 1 | 2 | 1 | 1 | 3 | ⋯ | 3 | 8 | 8 | 1 | 3 | 2 | 5 | 3 | 3 | 4 |\n",
       "| 6 | e | 1 | 4 |  9 | 2 | 4 | 2 | 1 | 1 | 6 | ⋯ | 3 | 8 | 8 | 1 | 3 | 2 | 5 | 4 | 4 | 4 |\n",
       "\n"
      ],
      "text/plain": [
       "  V1 V2 V3 V4 V5 V6 V7 V8 V9 V10 ⋯ V14 V15 V16 V17 V18 V19 V20 V21 V22 V23\n",
       "1 e  6  3  10 2  1  2  1  1  5   ⋯ 3   8   8   1   3   2   5   4   3   2  \n",
       "2 e  1  3   9 2  4  2  1  1  6   ⋯ 3   8   8   1   3   2   5   4   3   4  \n",
       "3 e  6  3   4 1  6  2  2  1  5   ⋯ 3   8   8   1   3   2   1   4   1   2  \n",
       "4 e  6  4  10 2  1  2  1  1  6   ⋯ 3   8   8   1   3   2   5   3   3   2  \n",
       "5 e  1  3   9 2  1  2  1  1  3   ⋯ 3   8   8   1   3   2   5   3   3   4  \n",
       "6 e  1  4   9 2  4  2  1  1  6   ⋯ 3   8   8   1   3   2   5   4   4   4  "
      ]
     },
     "metadata": {},
     "output_type": "display_data"
    }
   ],
   "source": [
    "rownames(mr_data) <- c()\n",
    "head(mr_data)"
   ]
  },
  {
   "cell_type": "code",
   "execution_count": 31,
   "metadata": {},
   "outputs": [
    {
     "name": "stdout",
     "output_type": "stream",
     "text": [
      "'data.frame':\t8124 obs. of  23 variables:\n",
      " $ V1 : Factor w/ 2 levels \"e\",\"p\": 1 1 1 1 1 1 1 1 1 1 ...\n",
      " $ V2 : num  6 1 6 6 1 1 1 6 6 1 ...\n",
      " $ V3 : num  3 3 3 4 3 4 3 4 4 3 ...\n",
      " $ V4 : num  10 9 4 10 9 9 10 10 10 10 ...\n",
      " $ V5 : num  2 2 1 2 2 2 2 2 2 2 ...\n",
      " $ V6 : num  1 4 6 1 1 4 1 4 1 1 ...\n",
      " $ V7 : num  2 2 2 2 2 2 2 2 2 2 ...\n",
      " $ V8 : num  1 1 2 1 1 1 1 1 1 1 ...\n",
      " $ V9 : num  1 1 1 1 1 1 1 1 1 1 ...\n",
      " $ V10: num  5 6 5 6 3 6 3 3 6 11 ...\n",
      " $ V11: num  1 1 2 1 1 1 1 1 1 1 ...\n",
      " $ V12: num  3 3 4 3 3 3 3 3 3 3 ...\n",
      " $ V13: num  3 3 3 3 3 3 3 3 3 3 ...\n",
      " $ V14: num  3 3 3 3 3 3 3 3 3 3 ...\n",
      " $ V15: num  8 8 8 8 8 8 8 8 8 8 ...\n",
      " $ V16: num  8 8 8 8 8 8 8 8 8 8 ...\n",
      " $ V17: num  1 1 1 1 1 1 1 1 1 1 ...\n",
      " $ V18: num  3 3 3 3 3 3 3 3 3 3 ...\n",
      " $ V19: num  2 2 2 2 2 2 2 2 2 2 ...\n",
      " $ V20: num  5 5 1 5 5 5 5 5 5 5 ...\n",
      " $ V21: num  4 4 4 3 3 4 3 4 3 4 ...\n",
      " $ V22: num  3 3 1 3 3 4 4 3 4 4 ...\n",
      " $ V23: num  2 4 2 2 4 4 4 2 4 2 ...\n"
     ]
    }
   ],
   "source": [
    "str(mr_data)"
   ]
  },
  {
   "cell_type": "code",
   "execution_count": 33,
   "metadata": {},
   "outputs": [
    {
     "data": {
      "text/plain": [
       " V1             V2              V3              V4               V5       \n",
       " e:4208   Min.   :1.000   Min.   :1.000   Min.   : 1.000   Min.   :1.000  \n",
       " p:3916   1st Qu.:3.000   1st Qu.:1.000   1st Qu.: 4.000   1st Qu.:1.000  \n",
       "          Median :4.000   Median :3.000   Median : 5.000   Median :1.000  \n",
       "          Mean   :4.348   Mean   :2.828   Mean   : 5.505   Mean   :1.416  \n",
       "          3rd Qu.:6.000   3rd Qu.:4.000   3rd Qu.: 9.000   3rd Qu.:2.000  \n",
       "          Max.   :6.000   Max.   :4.000   Max.   :10.000   Max.   :2.000  \n",
       "       V6              V7              V8              V9       \n",
       " Min.   :1.000   Min.   :1.000   Min.   :1.000   Min.   :1.000  \n",
       " 1st Qu.:3.000   1st Qu.:2.000   1st Qu.:1.000   1st Qu.:1.000  \n",
       " Median :6.000   Median :2.000   Median :1.000   Median :1.000  \n",
       " Mean   :5.145   Mean   :1.974   Mean   :1.161   Mean   :1.309  \n",
       " 3rd Qu.:6.000   3rd Qu.:2.000   3rd Qu.:1.000   3rd Qu.:2.000  \n",
       " Max.   :9.000   Max.   :2.000   Max.   :2.000   Max.   :2.000  \n",
       "      V10              V11             V12            V13       \n",
       " Min.   : 1.000   Min.   :1.000   Min.   :1.00   Min.   :1.000  \n",
       " 1st Qu.: 3.000   1st Qu.:1.000   1st Qu.:1.00   1st Qu.:2.000  \n",
       " Median : 6.000   Median :2.000   Median :2.00   Median :3.000  \n",
       " Mean   : 5.811   Mean   :1.567   Mean   :2.11   Mean   :2.575  \n",
       " 3rd Qu.: 8.000   3rd Qu.:2.000   3rd Qu.:2.00   3rd Qu.:3.000  \n",
       " Max.   :12.000   Max.   :2.000   Max.   :5.00   Max.   :4.000  \n",
       "      V14             V15             V16             V17         V18       \n",
       " Min.   :1.000   Min.   :1.000   Min.   :1.000   Min.   :1   Min.   :1.000  \n",
       " 1st Qu.:2.000   1st Qu.:7.000   1st Qu.:7.000   1st Qu.:1   1st Qu.:3.000  \n",
       " Median :3.000   Median :8.000   Median :8.000   Median :1   Median :3.000  \n",
       " Mean   :2.604   Mean   :6.816   Mean   :6.795   Mean   :1   Mean   :2.966  \n",
       " 3rd Qu.:3.000   3rd Qu.:8.000   3rd Qu.:8.000   3rd Qu.:1   3rd Qu.:3.000  \n",
       " Max.   :4.000   Max.   :9.000   Max.   :9.000   Max.   :1   Max.   :4.000  \n",
       "      V19             V20             V21             V22       \n",
       " Min.   :1.000   Min.   :1.000   Min.   :1.000   Min.   :1.000  \n",
       " 1st Qu.:2.000   1st Qu.:1.000   1st Qu.:3.000   1st Qu.:4.000  \n",
       " Median :2.000   Median :3.000   Median :4.000   Median :5.000  \n",
       " Mean   :2.069   Mean   :3.292   Mean   :4.597   Mean   :4.644  \n",
       " 3rd Qu.:2.000   3rd Qu.:5.000   3rd Qu.:8.000   3rd Qu.:5.000  \n",
       " Max.   :3.000   Max.   :5.000   Max.   :9.000   Max.   :6.000  \n",
       "      V23       \n",
       " Min.   :1.000  \n",
       " 1st Qu.:1.000  \n",
       " Median :2.000  \n",
       " Mean   :2.509  \n",
       " 3rd Qu.:3.000  \n",
       " Max.   :7.000  "
      ]
     },
     "metadata": {},
     "output_type": "display_data"
    }
   ],
   "source": [
    "summary(mr_data)"
   ]
  },
  {
   "cell_type": "markdown",
   "metadata": {},
   "source": [
    "# Split the data into train and test sets (7:3)"
   ]
  },
  {
   "cell_type": "markdown",
   "metadata": {},
   "source": [
    "### Check the numbers of total and 70% data"
   ]
  },
  {
   "cell_type": "code",
   "execution_count": 34,
   "metadata": {},
   "outputs": [
    {
     "data": {
      "text/html": [
       "4208"
      ],
      "text/latex": [
       "4208"
      ],
      "text/markdown": [
       "4208"
      ],
      "text/plain": [
       "[1] 4208"
      ]
     },
     "metadata": {},
     "output_type": "display_data"
    },
    {
     "data": {
      "text/html": [
       "3916"
      ],
      "text/latex": [
       "3916"
      ],
      "text/markdown": [
       "3916"
      ],
      "text/plain": [
       "[1] 3916"
      ]
     },
     "metadata": {},
     "output_type": "display_data"
    }
   ],
   "source": [
    "nrow(subset(mr_data, V1==\"e\"))\n",
    "nrow(subset(mr_data, V1 ==\"p\"))"
   ]
  },
  {
   "cell_type": "code",
   "execution_count": 35,
   "metadata": {},
   "outputs": [
    {
     "data": {
      "text/html": [
       "2945.6"
      ],
      "text/latex": [
       "2945.6"
      ],
      "text/markdown": [
       "2945.6"
      ],
      "text/plain": [
       "[1] 2945.6"
      ]
     },
     "metadata": {},
     "output_type": "display_data"
    },
    {
     "data": {
      "text/html": [
       "2741.2"
      ],
      "text/latex": [
       "2741.2"
      ],
      "text/markdown": [
       "2741.2"
      ],
      "text/plain": [
       "[1] 2741.2"
      ]
     },
     "metadata": {},
     "output_type": "display_data"
    }
   ],
   "source": [
    "nrow(subset(mr_data, V1==\"e\")) * 0.7\n",
    "nrow(subset(mr_data, V1 ==\"p\")) * 0.7"
   ]
  },
  {
   "cell_type": "markdown",
   "metadata": {},
   "source": [
    "### Create training and test datasets"
   ]
  },
  {
   "cell_type": "code",
   "execution_count": 37,
   "metadata": {},
   "outputs": [],
   "source": [
    "samp <- c(sample(1:4208, 2945), sample(4209:8124, 2741))"
   ]
  },
  {
   "cell_type": "code",
   "execution_count": 38,
   "metadata": {},
   "outputs": [],
   "source": [
    "train <- mr_data[samp,]\n",
    "test <- mr_data[-samp,]"
   ]
  },
  {
   "cell_type": "code",
   "execution_count": 45,
   "metadata": {},
   "outputs": [
    {
     "data": {
      "text/plain": [
       " V1             V2              V3              V4               V5       \n",
       " e:2945   Min.   :1.000   Min.   :1.000   Min.   : 1.000   Min.   :1.000  \n",
       " p:2741   1st Qu.:3.000   1st Qu.:1.000   1st Qu.: 4.000   1st Qu.:1.000  \n",
       "          Median :4.000   Median :3.000   Median : 5.000   Median :1.000  \n",
       "          Mean   :4.338   Mean   :2.807   Mean   : 5.521   Mean   :1.413  \n",
       "          3rd Qu.:6.000   3rd Qu.:4.000   3rd Qu.: 9.000   3rd Qu.:2.000  \n",
       "          Max.   :6.000   Max.   :4.000   Max.   :10.000   Max.   :2.000  \n",
       "       V6              V7              V8              V9       \n",
       " Min.   :1.000   Min.   :1.000   Min.   :1.000   Min.   :1.000  \n",
       " 1st Qu.:3.000   1st Qu.:2.000   1st Qu.:1.000   1st Qu.:1.000  \n",
       " Median :6.000   Median :2.000   Median :1.000   Median :1.000  \n",
       " Mean   :5.124   Mean   :1.977   Mean   :1.164   Mean   :1.307  \n",
       " 3rd Qu.:6.000   3rd Qu.:2.000   3rd Qu.:1.000   3rd Qu.:2.000  \n",
       " Max.   :9.000   Max.   :2.000   Max.   :2.000   Max.   :2.000  \n",
       "      V10              V11             V12             V13       \n",
       " Min.   : 1.000   Min.   :1.000   Min.   :1.000   Min.   :1.000  \n",
       " 1st Qu.: 3.000   1st Qu.:1.000   1st Qu.:1.000   1st Qu.:2.000  \n",
       " Median : 6.000   Median :2.000   Median :2.000   Median :3.000  \n",
       " Mean   : 5.828   Mean   :1.564   Mean   :2.116   Mean   :2.565  \n",
       " 3rd Qu.: 8.000   3rd Qu.:2.000   3rd Qu.:2.000   3rd Qu.:3.000  \n",
       " Max.   :12.000   Max.   :2.000   Max.   :5.000   Max.   :4.000  \n",
       "      V14             V15             V16             V17         V18       \n",
       " Min.   :1.000   Min.   :1.000   Min.   :1.000   Min.   :1   Min.   :1.000  \n",
       " 1st Qu.:2.000   1st Qu.:7.000   1st Qu.:7.000   1st Qu.:1   1st Qu.:3.000  \n",
       " Median :3.000   Median :8.000   Median :8.000   Median :1   Median :3.000  \n",
       " Mean   :2.597   Mean   :6.828   Mean   :6.804   Mean   :1   Mean   :2.969  \n",
       " 3rd Qu.:3.000   3rd Qu.:8.000   3rd Qu.:8.000   3rd Qu.:1   3rd Qu.:3.000  \n",
       " Max.   :4.000   Max.   :9.000   Max.   :9.000   Max.   :1   Max.   :4.000  \n",
       "      V19             V20             V21             V22             V23      \n",
       " Min.   :1.000   Min.   :1.000   Min.   :1.000   Min.   :1.000   Min.   :1.00  \n",
       " 1st Qu.:2.000   1st Qu.:1.000   1st Qu.:3.000   1st Qu.:4.000   1st Qu.:1.00  \n",
       " Median :2.000   Median :3.000   Median :4.000   Median :5.000   Median :2.00  \n",
       " Mean   :2.071   Mean   :3.292   Mean   :4.569   Mean   :4.642   Mean   :2.52  \n",
       " 3rd Qu.:2.000   3rd Qu.:5.000   3rd Qu.:8.000   3rd Qu.:5.000   3rd Qu.:3.00  \n",
       " Max.   :3.000   Max.   :5.000   Max.   :9.000   Max.   :6.000   Max.   :7.00  "
      ]
     },
     "metadata": {},
     "output_type": "display_data"
    }
   ],
   "source": [
    "summary(train)"
   ]
  },
  {
   "cell_type": "code",
   "execution_count": 46,
   "metadata": {},
   "outputs": [
    {
     "data": {
      "text/plain": [
       " V1             V2              V3              V4               V5       \n",
       " e:1263   Min.   :1.000   Min.   :1.000   Min.   : 1.000   Min.   :1.000  \n",
       " p:1175   1st Qu.:3.000   1st Qu.:1.000   1st Qu.: 4.000   1st Qu.:1.000  \n",
       "          Median :4.000   Median :3.000   Median : 5.000   Median :1.000  \n",
       "          Mean   :4.372   Mean   :2.877   Mean   : 5.466   Mean   :1.421  \n",
       "          3rd Qu.:6.000   3rd Qu.:4.000   3rd Qu.: 9.000   3rd Qu.:2.000  \n",
       "          Max.   :6.000   Max.   :4.000   Max.   :10.000   Max.   :2.000  \n",
       "       V6              V7              V8              V9       \n",
       " Min.   :1.000   Min.   :1.000   Min.   :1.000   Min.   :1.000  \n",
       " 1st Qu.:3.000   1st Qu.:2.000   1st Qu.:1.000   1st Qu.:1.000  \n",
       " Median :6.000   Median :2.000   Median :1.000   Median :1.000  \n",
       " Mean   :5.193   Mean   :1.968   Mean   :1.155   Mean   :1.313  \n",
       " 3rd Qu.:6.000   3rd Qu.:2.000   3rd Qu.:1.000   3rd Qu.:2.000  \n",
       " Max.   :9.000   Max.   :2.000   Max.   :2.000   Max.   :2.000  \n",
       "      V10             V11             V12             V13             V14      \n",
       " Min.   : 1.00   Min.   :1.000   Min.   :1.000   Min.   :1.000   Min.   :1.00  \n",
       " 1st Qu.: 3.00   1st Qu.:1.000   1st Qu.:1.000   1st Qu.:2.000   1st Qu.:2.00  \n",
       " Median : 6.00   Median :2.000   Median :2.000   Median :3.000   Median :3.00  \n",
       " Mean   : 5.77   Mean   :1.575   Mean   :2.094   Mean   :2.599   Mean   :2.62  \n",
       " 3rd Qu.: 8.00   3rd Qu.:2.000   3rd Qu.:2.000   3rd Qu.:3.000   3rd Qu.:3.00  \n",
       " Max.   :12.00   Max.   :2.000   Max.   :5.000   Max.   :4.000   Max.   :4.00  \n",
       "      V15            V16             V17         V18             V19       \n",
       " Min.   :1.00   Min.   :1.000   Min.   :1   Min.   :1.000   Min.   :1.000  \n",
       " 1st Qu.:7.00   1st Qu.:7.000   1st Qu.:1   1st Qu.:3.000   1st Qu.:2.000  \n",
       " Median :8.00   Median :8.000   Median :1   Median :3.000   Median :2.000  \n",
       " Mean   :6.79   Mean   :6.772   Mean   :1   Mean   :2.957   Mean   :2.065  \n",
       " 3rd Qu.:8.00   3rd Qu.:8.000   3rd Qu.:1   3rd Qu.:3.000   3rd Qu.:2.000  \n",
       " Max.   :9.00   Max.   :9.000   Max.   :1   Max.   :4.000   Max.   :3.000  \n",
       "      V20             V21            V22             V23       \n",
       " Min.   :1.000   Min.   :1.00   Min.   :1.000   Min.   :1.000  \n",
       " 1st Qu.:1.000   1st Qu.:3.00   1st Qu.:4.000   1st Qu.:1.000  \n",
       " Median :3.000   Median :4.00   Median :5.000   Median :2.000  \n",
       " Mean   :3.292   Mean   :4.66   Mean   :4.648   Mean   :2.482  \n",
       " 3rd Qu.:5.000   3rd Qu.:8.00   3rd Qu.:5.000   3rd Qu.:3.000  \n",
       " Max.   :5.000   Max.   :9.00   Max.   :6.000   Max.   :7.000  "
      ]
     },
     "metadata": {},
     "output_type": "display_data"
    }
   ],
   "source": [
    "summary(test)"
   ]
  },
  {
   "cell_type": "markdown",
   "metadata": {},
   "source": [
    "## Train the data"
   ]
  },
  {
   "cell_type": "code",
   "execution_count": 47,
   "metadata": {},
   "outputs": [
    {
     "name": "stderr",
     "output_type": "stream",
     "text": [
      "randomForest 4.6-14\n",
      "\n",
      "Type rfNews() to see new features/changes/bug fixes.\n",
      "\n"
     ]
    }
   ],
   "source": [
    "library(randomForest)"
   ]
  },
  {
   "cell_type": "code",
   "execution_count": 51,
   "metadata": {},
   "outputs": [
    {
     "data": {
      "text/plain": [
       "\n",
       "Call:\n",
       " randomForest(formula = V1 ~ ., data = train, ntree = 100) \n",
       "               Type of random forest: classification\n",
       "                     Number of trees: 100\n",
       "No. of variables tried at each split: 4\n",
       "\n",
       "        OOB estimate of  error rate: 0%\n",
       "Confusion matrix:\n",
       "     e    p class.error\n",
       "e 2945    0           0\n",
       "p    0 2741           0"
      ]
     },
     "metadata": {},
     "output_type": "display_data"
    }
   ],
   "source": [
    "rf <- randomForest(V1 ~., data = train, ntree = 100)\n",
    "rf"
   ]
  },
  {
   "cell_type": "markdown",
   "metadata": {},
   "source": [
    "## Run prediction"
   ]
  },
  {
   "cell_type": "code",
   "execution_count": 56,
   "metadata": {},
   "outputs": [
    {
     "data": {
      "text/html": [
       "<dl class=dl-horizontal>\n",
       "\t<dt>2</dt>\n",
       "\t\t<dd>e</dd>\n",
       "\t<dt>5</dt>\n",
       "\t\t<dd>e</dd>\n",
       "\t<dt>8</dt>\n",
       "\t\t<dd>e</dd>\n",
       "\t<dt>12</dt>\n",
       "\t\t<dd>e</dd>\n",
       "\t<dt>13</dt>\n",
       "\t\t<dd>e</dd>\n",
       "\t<dt>16</dt>\n",
       "\t\t<dd>e</dd>\n",
       "</dl>\n",
       "\n",
       "<details>\n",
       "\t<summary style=display:list-item;cursor:pointer>\n",
       "\t\t<strong>Levels</strong>:\n",
       "\t</summary>\n",
       "\t<ol class=list-inline>\n",
       "\t\t<li>'e'</li>\n",
       "\t\t<li>'p'</li>\n",
       "\t</ol>\n",
       "</details>"
      ],
      "text/latex": [
       "\\begin{description*}\n",
       "\\item[2] e\n",
       "\\item[5] e\n",
       "\\item[8] e\n",
       "\\item[12] e\n",
       "\\item[13] e\n",
       "\\item[16] e\n",
       "\\end{description*}\n",
       "\n",
       "\\emph{Levels}: \\begin{enumerate*}\n",
       "\\item 'e'\n",
       "\\item 'p'\n",
       "\\end{enumerate*}\n"
      ],
      "text/markdown": [
       "2\n",
       ":   e5\n",
       ":   e8\n",
       ":   e12\n",
       ":   e13\n",
       ":   e16\n",
       ":   e\n",
       "\n",
       "\n",
       "**Levels**: 1. 'e'\n",
       "2. 'p'\n",
       "\n",
       "\n"
      ],
      "text/plain": [
       " 2  5  8 12 13 16 \n",
       " e  e  e  e  e  e \n",
       "Levels: e p"
      ]
     },
     "metadata": {},
     "output_type": "display_data"
    }
   ],
   "source": [
    "pred <- predict(rf, test)\n",
    "head(pred)"
   ]
  },
  {
   "cell_type": "markdown",
   "metadata": {},
   "source": [
    "## Calculate accuracy"
   ]
  },
  {
   "cell_type": "code",
   "execution_count": 57,
   "metadata": {},
   "outputs": [
    {
     "data": {
      "text/html": [
       "1"
      ],
      "text/latex": [
       "1"
      ],
      "text/markdown": [
       "1"
      ],
      "text/plain": [
       "[1] 1"
      ]
     },
     "metadata": {},
     "output_type": "display_data"
    }
   ],
   "source": [
    "mean(pred == test$V1)"
   ]
  },
  {
   "cell_type": "code",
   "execution_count": 59,
   "metadata": {},
   "outputs": [],
   "source": [
    "# Accuracy: 100%"
   ]
  }
 ],
 "metadata": {
  "kernelspec": {
   "display_name": "R",
   "language": "R",
   "name": "ir"
  },
  "language_info": {
   "codemirror_mode": "r",
   "file_extension": ".r",
   "mimetype": "text/x-r-source",
   "name": "R",
   "pygments_lexer": "r",
   "version": "3.6.1"
  },
  "latex_envs": {
   "LaTeX_envs_menu_present": true,
   "autoclose": false,
   "autocomplete": true,
   "bibliofile": "biblio.bib",
   "cite_by": "apalike",
   "current_citInitial": 1,
   "eqLabelWithNumbers": true,
   "eqNumInitial": 1,
   "hotkeys": {
    "equation": "Ctrl-E",
    "itemize": "Ctrl-I"
   },
   "labels_anchors": false,
   "latex_user_defs": false,
   "report_style_numbering": false,
   "user_envs_cfg": false
  },
  "varInspector": {
   "cols": {
    "lenName": 16,
    "lenType": 16,
    "lenVar": 40
   },
   "kernels_config": {
    "python": {
     "delete_cmd_postfix": "",
     "delete_cmd_prefix": "del ",
     "library": "var_list.py",
     "varRefreshCmd": "print(var_dic_list())"
    },
    "r": {
     "delete_cmd_postfix": ") ",
     "delete_cmd_prefix": "rm(",
     "library": "var_list.r",
     "varRefreshCmd": "cat(var_dic_list()) "
    }
   },
   "types_to_exclude": [
    "module",
    "function",
    "builtin_function_or_method",
    "instance",
    "_Feature"
   ],
   "window_display": false
  }
 },
 "nbformat": 4,
 "nbformat_minor": 2
}
