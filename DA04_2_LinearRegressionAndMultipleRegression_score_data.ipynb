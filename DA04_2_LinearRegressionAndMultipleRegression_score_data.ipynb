{
 "cells": [
  {
   "cell_type": "markdown",
   "metadata": {},
   "source": [
    "# Simple Linear Regression and Multiple Regression"
   ]
  },
  {
   "cell_type": "markdown",
   "metadata": {},
   "source": [
    "## Load Data"
   ]
  },
  {
   "cell_type": "code",
   "execution_count": 36,
   "metadata": {},
   "outputs": [
    {
     "data": {
      "text/html": [
       "<table>\n",
       "<caption>A data.frame: 10 × 6</caption>\n",
       "<thead>\n",
       "\t<tr><th scope=col>Student</th><th scope=col>Score</th><th scope=col>IQ</th><th scope=col>PrivateInstitutes</th><th scope=col>Gameplay</th><th scope=col>TV</th></tr>\n",
       "\t<tr><th scope=col>&lt;fct&gt;</th><th scope=col>&lt;int&gt;</th><th scope=col>&lt;int&gt;</th><th scope=col>&lt;int&gt;</th><th scope=col>&lt;int&gt;</th><th scope=col>&lt;int&gt;</th></tr>\n",
       "</thead>\n",
       "<tbody>\n",
       "\t<tr><td>A</td><td>90</td><td>140</td><td>2</td><td>1</td><td>0</td></tr>\n",
       "\t<tr><td>B</td><td>75</td><td>125</td><td>1</td><td>3</td><td>3</td></tr>\n",
       "\t<tr><td>C</td><td>77</td><td>120</td><td>1</td><td>0</td><td>4</td></tr>\n",
       "\t<tr><td>D</td><td>83</td><td>135</td><td>2</td><td>3</td><td>2</td></tr>\n",
       "\t<tr><td>E</td><td>65</td><td>105</td><td>0</td><td>4</td><td>4</td></tr>\n",
       "\t<tr><td>F</td><td>80</td><td>123</td><td>3</td><td>1</td><td>1</td></tr>\n",
       "\t<tr><td>G</td><td>83</td><td>132</td><td>3</td><td>4</td><td>1</td></tr>\n",
       "\t<tr><td>H</td><td>70</td><td>115</td><td>1</td><td>1</td><td>3</td></tr>\n",
       "\t<tr><td>I</td><td>87</td><td>128</td><td>4</td><td>0</td><td>0</td></tr>\n",
       "\t<tr><td>J</td><td>79</td><td>131</td><td>2</td><td>2</td><td>3</td></tr>\n",
       "</tbody>\n",
       "</table>\n"
      ],
      "text/latex": [
       "A data.frame: 10 × 6\n",
       "\\begin{tabular}{llllll}\n",
       " Student & Score & IQ & PrivateInstitutes & Gameplay & TV\\\\\n",
       " <fct> & <int> & <int> & <int> & <int> & <int>\\\\\n",
       "\\hline\n",
       "\t A & 90 & 140 & 2 & 1 & 0\\\\\n",
       "\t B & 75 & 125 & 1 & 3 & 3\\\\\n",
       "\t C & 77 & 120 & 1 & 0 & 4\\\\\n",
       "\t D & 83 & 135 & 2 & 3 & 2\\\\\n",
       "\t E & 65 & 105 & 0 & 4 & 4\\\\\n",
       "\t F & 80 & 123 & 3 & 1 & 1\\\\\n",
       "\t G & 83 & 132 & 3 & 4 & 1\\\\\n",
       "\t H & 70 & 115 & 1 & 1 & 3\\\\\n",
       "\t I & 87 & 128 & 4 & 0 & 0\\\\\n",
       "\t J & 79 & 131 & 2 & 2 & 3\\\\\n",
       "\\end{tabular}\n"
      ],
      "text/markdown": [
       "\n",
       "A data.frame: 10 × 6\n",
       "\n",
       "| Student &lt;fct&gt; | Score &lt;int&gt; | IQ &lt;int&gt; | PrivateInstitutes &lt;int&gt; | Gameplay &lt;int&gt; | TV &lt;int&gt; |\n",
       "|---|---|---|---|---|---|\n",
       "| A | 90 | 140 | 2 | 1 | 0 |\n",
       "| B | 75 | 125 | 1 | 3 | 3 |\n",
       "| C | 77 | 120 | 1 | 0 | 4 |\n",
       "| D | 83 | 135 | 2 | 3 | 2 |\n",
       "| E | 65 | 105 | 0 | 4 | 4 |\n",
       "| F | 80 | 123 | 3 | 1 | 1 |\n",
       "| G | 83 | 132 | 3 | 4 | 1 |\n",
       "| H | 70 | 115 | 1 | 1 | 3 |\n",
       "| I | 87 | 128 | 4 | 0 | 0 |\n",
       "| J | 79 | 131 | 2 | 2 | 3 |\n",
       "\n"
      ],
      "text/plain": [
       "   Student Score IQ  PrivateInstitutes Gameplay TV\n",
       "1  A       90    140 2                 1        0 \n",
       "2  B       75    125 1                 3        3 \n",
       "3  C       77    120 1                 0        4 \n",
       "4  D       83    135 2                 3        2 \n",
       "5  E       65    105 0                 4        4 \n",
       "6  F       80    123 3                 1        1 \n",
       "7  G       83    132 3                 4        1 \n",
       "8  H       70    115 1                 1        3 \n",
       "9  I       87    128 4                 0        0 \n",
       "10 J       79    131 2                 2        3 "
      ]
     },
     "metadata": {},
     "output_type": "display_data"
    }
   ],
   "source": [
    "sco <- read.csv(\"./Data/scoreIQ.txt\")\n",
    "sco"
   ]
  },
  {
   "cell_type": "code",
   "execution_count": 37,
   "metadata": {},
   "outputs": [
    {
     "data": {
      "text/plain": [
       "    Student      Score            IQ        PrivateInstitutes    Gameplay  \n",
       " A      :1   Min.   :65.0   Min.   :105.0   Min.   :0.00      Min.   :0.0  \n",
       " B      :1   1st Qu.:75.5   1st Qu.:120.8   1st Qu.:1.00      1st Qu.:1.0  \n",
       " C      :1   Median :79.5   Median :126.5   Median :2.00      Median :1.5  \n",
       " D      :1   Mean   :78.9   Mean   :125.4   Mean   :1.90      Mean   :1.9  \n",
       " E      :1   3rd Qu.:83.0   3rd Qu.:131.8   3rd Qu.:2.75      3rd Qu.:3.0  \n",
       " F      :1   Max.   :90.0   Max.   :140.0   Max.   :4.00      Max.   :4.0  \n",
       " (Other):4                                                                 \n",
       "       TV     \n",
       " Min.   :0.0  \n",
       " 1st Qu.:1.0  \n",
       " Median :2.5  \n",
       " Mean   :2.1  \n",
       " 3rd Qu.:3.0  \n",
       " Max.   :4.0  \n",
       "              "
      ]
     },
     "metadata": {},
     "output_type": "display_data"
    }
   ],
   "source": [
    "summary(sco)"
   ]
  },
  {
   "cell_type": "code",
   "execution_count": 38,
   "metadata": {
    "scrolled": true
   },
   "outputs": [
    {
     "name": "stdout",
     "output_type": "stream",
     "text": [
      "'data.frame':\t10 obs. of  6 variables:\n",
      " $ Student          : Factor w/ 10 levels \"A\",\"B\",\"C\",\"D\",..: 1 2 3 4 5 6 7 8 9 10\n",
      " $ Score            : int  90 75 77 83 65 80 83 70 87 79\n",
      " $ IQ               : int  140 125 120 135 105 123 132 115 128 131\n",
      " $ PrivateInstitutes: int  2 1 1 2 0 3 3 1 4 2\n",
      " $ Gameplay         : int  1 3 0 3 4 1 4 1 0 2\n",
      " $ TV               : int  0 3 4 2 4 1 1 3 0 3\n"
     ]
    }
   ],
   "source": [
    "str(sco)"
   ]
  },
  {
   "cell_type": "markdown",
   "metadata": {},
   "source": [
    "## Find correlation coefficients"
   ]
  },
  {
   "cell_type": "code",
   "execution_count": 39,
   "metadata": {},
   "outputs": [
    {
     "data": {
      "text/html": [
       "<table>\n",
       "<caption>A matrix: 5 × 5 of type dbl</caption>\n",
       "<thead>\n",
       "\t<tr><th></th><th scope=col>Score</th><th scope=col>IQ</th><th scope=col>PrivateInstitutes</th><th scope=col>Gameplay</th><th scope=col>TV</th></tr>\n",
       "</thead>\n",
       "<tbody>\n",
       "\t<tr><th scope=row>Score</th><td> 1.0000000</td><td> 0.9102242</td><td> 0.7840514</td><td>-0.3383549</td><td>-0.8473333</td></tr>\n",
       "\t<tr><th scope=row>IQ</th><td> 0.9102242</td><td> 1.0000000</td><td> 0.6009466</td><td>-0.1038108</td><td>-0.6783251</td></tr>\n",
       "\t<tr><th scope=row>PrivateInstitutes</th><td> 0.7840514</td><td> 0.6009466</td><td> 1.0000000</td><td>-0.3106005</td><td>-0.8465387</td></tr>\n",
       "\t<tr><th scope=row>Gameplay</th><td>-0.3383549</td><td>-0.1038108</td><td>-0.3106005</td><td> 1.0000000</td><td> 0.2440191</td></tr>\n",
       "\t<tr><th scope=row>TV</th><td>-0.8473333</td><td>-0.6783251</td><td>-0.8465387</td><td> 0.2440191</td><td> 1.0000000</td></tr>\n",
       "</tbody>\n",
       "</table>\n"
      ],
      "text/latex": [
       "A matrix: 5 × 5 of type dbl\n",
       "\\begin{tabular}{r|lllll}\n",
       "  & Score & IQ & PrivateInstitutes & Gameplay & TV\\\\\n",
       "\\hline\n",
       "\tScore &  1.0000000 &  0.9102242 &  0.7840514 & -0.3383549 & -0.8473333\\\\\n",
       "\tIQ &  0.9102242 &  1.0000000 &  0.6009466 & -0.1038108 & -0.6783251\\\\\n",
       "\tPrivateInstitutes &  0.7840514 &  0.6009466 &  1.0000000 & -0.3106005 & -0.8465387\\\\\n",
       "\tGameplay & -0.3383549 & -0.1038108 & -0.3106005 &  1.0000000 &  0.2440191\\\\\n",
       "\tTV & -0.8473333 & -0.6783251 & -0.8465387 &  0.2440191 &  1.0000000\\\\\n",
       "\\end{tabular}\n"
      ],
      "text/markdown": [
       "\n",
       "A matrix: 5 × 5 of type dbl\n",
       "\n",
       "| <!--/--> | Score | IQ | PrivateInstitutes | Gameplay | TV |\n",
       "|---|---|---|---|---|---|\n",
       "| Score |  1.0000000 |  0.9102242 |  0.7840514 | -0.3383549 | -0.8473333 |\n",
       "| IQ |  0.9102242 |  1.0000000 |  0.6009466 | -0.1038108 | -0.6783251 |\n",
       "| PrivateInstitutes |  0.7840514 |  0.6009466 |  1.0000000 | -0.3106005 | -0.8465387 |\n",
       "| Gameplay | -0.3383549 | -0.1038108 | -0.3106005 |  1.0000000 |  0.2440191 |\n",
       "| TV | -0.8473333 | -0.6783251 | -0.8465387 |  0.2440191 |  1.0000000 |\n",
       "\n"
      ],
      "text/plain": [
       "                  Score      IQ         PrivateInstitutes Gameplay   TV        \n",
       "Score              1.0000000  0.9102242  0.7840514        -0.3383549 -0.8473333\n",
       "IQ                 0.9102242  1.0000000  0.6009466        -0.1038108 -0.6783251\n",
       "PrivateInstitutes  0.7840514  0.6009466  1.0000000        -0.3106005 -0.8465387\n",
       "Gameplay          -0.3383549 -0.1038108 -0.3106005         1.0000000  0.2440191\n",
       "TV                -0.8473333 -0.6783251 -0.8465387         0.2440191  1.0000000"
      ]
     },
     "metadata": {},
     "output_type": "display_data"
    }
   ],
   "source": [
    "cor(sco[-1]) \n"
   ]
  },
  {
   "cell_type": "markdown",
   "metadata": {},
   "source": [
    "## Simple Linear Regression\n",
    "     \n",
    "     As IQ shows the strongest correlations to Score, let's have a simple linear regresson model with IQ to predict score."
   ]
  },
  {
   "cell_type": "code",
   "execution_count": 40,
   "metadata": {},
   "outputs": [
    {
     "data": {
      "image/png": "[encoded data removed]",
      "text/plain": [
       "plot without title"
      ]
     },
     "metadata": {
      "image/png": {
       "height": 420,
       "width": 420
      },
      "text/plain": {
       "height": 420,
       "width": 420
      }
     },
     "output_type": "display_data"
    }
   ],
   "source": [
    "plot(sco$Score ~ sco$IQ) "
   ]
  },
  {
   "cell_type": "code",
   "execution_count": 41,
   "metadata": {},
   "outputs": [
    {
     "data": {
      "text/plain": [
       "\n",
       "Call:\n",
       "lm(formula = sco$Score ~ sco$IQ)\n",
       "\n",
       "Coefficients:\n",
       "(Intercept)       sco$IQ  \n",
       "    -5.2918       0.6714  \n"
      ]
     },
     "metadata": {},
     "output_type": "display_data"
    }
   ],
   "source": [
    "scoReg <- lm(sco$Score ~ sco$IQ) \n",
    "scoReg"
   ]
  },
  {
   "cell_type": "code",
   "execution_count": 42,
   "metadata": {},
   "outputs": [
    {
     "data": {
      "text/plain": [
       "\n",
       "Call:\n",
       "lm(formula = sco$Score ~ sco$IQ)\n",
       "\n",
       "Residuals:\n",
       "    Min      1Q  Median      3Q     Max \n",
       "-3.6598 -2.2384 -0.2674  1.6186  6.3544 \n",
       "\n",
       "Coefficients:\n",
       "            Estimate Std. Error t value Pr(>|t|)    \n",
       "(Intercept)  -5.2918    13.5832  -0.390 0.707007    \n",
       "sco$IQ        0.6714     0.1080   6.217 0.000255 ***\n",
       "---\n",
       "Signif. codes:  0 ‘***’ 0.001 ‘**’ 0.01 ‘*’ 0.05 ‘.’ 0.1 ‘ ’ 1\n",
       "\n",
       "Residual standard error: 3.322 on 8 degrees of freedom\n",
       "Multiple R-squared:  0.8285,\tAdjusted R-squared:  0.8071 \n",
       "F-statistic: 38.65 on 1 and 8 DF,  p-value: 0.0002547\n"
      ]
     },
     "metadata": {},
     "output_type": "display_data"
    }
   ],
   "source": [
    "summary(scoReg)"
   ]
  },
  {
   "cell_type": "code",
   "execution_count": 43,
   "metadata": {},
   "outputs": [
    {
     "data": {
      "image/png": "[encoded data removed]",
      "text/plain": [
       "plot without title"
      ]
     },
     "metadata": {
      "image/png": {
       "height": 420,
       "width": 420
      },
      "text/plain": {
       "height": 420,
       "width": 420
      }
     },
     "output_type": "display_data"
    }
   ],
   "source": [
    "plot(sco$Score ~ sco$IQ)\n",
    "abline(scoReg)"
   ]
  },
  {
   "cell_type": "markdown",
   "metadata": {},
   "source": [
    "    * Result\n",
    "    Score = -5.2918 + (0.6714 * IQ)  \n",
    "    p-value: 0.000254  \n",
    "    Accuracy: 80.7%  "
   ]
  },
  {
   "cell_type": "markdown",
   "metadata": {},
   "source": [
    "## Multiple Regression"
   ]
  },
  {
   "cell_type": "markdown",
   "metadata": {},
   "source": [
    "### with all variables"
   ]
  },
  {
   "cell_type": "code",
   "execution_count": 44,
   "metadata": {},
   "outputs": [
    {
     "data": {
      "text/plain": [
       "\n",
       "Call:\n",
       "lm(formula = Score ~ ., data = sco[-1])\n",
       "\n",
       "Coefficients:\n",
       "      (Intercept)                 IQ  PrivateInstitutes           Gameplay  \n",
       "          23.2992             0.4684             0.7179            -0.8390  \n",
       "               TV  \n",
       "          -1.3854  \n"
      ]
     },
     "metadata": {},
     "output_type": "display_data"
    }
   ],
   "source": [
    "multiReg <- lm(Score ~ ., data = sco[-1])\n",
    "multiReg"
   ]
  },
  {
   "cell_type": "code",
   "execution_count": 45,
   "metadata": {},
   "outputs": [
    {
     "data": {
      "text/plain": [
       "\n",
       "Call:\n",
       "lm(formula = Score ~ ., data = sco[-1])\n",
       "\n",
       "Residuals:\n",
       "      1       2       3       4       5       6       7       8       9      10 \n",
       " 0.5248 -0.8968  2.3139  0.3157  1.4139 -0.8445  0.4566 -2.8905  0.8711 -1.2642 \n",
       "\n",
       "Coefficients:\n",
       "                  Estimate Std. Error t value Pr(>|t|)   \n",
       "(Intercept)       23.29923   12.33405   1.889  0.11751   \n",
       "IQ                 0.46842    0.08953   5.232  0.00338 **\n",
       "PrivateInstitutes  0.71790    1.07656   0.667  0.53440   \n",
       "Gameplay          -0.83895    0.46493  -1.804  0.13100   \n",
       "TV                -1.38541    0.89982  -1.540  0.18427   \n",
       "---\n",
       "Signif. codes:  0 ‘***’ 0.001 ‘**’ 0.01 ‘*’ 0.05 ‘.’ 0.1 ‘ ’ 1\n",
       "\n",
       "Residual standard error: 2.008 on 5 degrees of freedom\n",
       "Multiple R-squared:  0.9608,\tAdjusted R-squared:  0.9295 \n",
       "F-statistic: 30.67 on 4 and 5 DF,  p-value: 0.001033\n"
      ]
     },
     "metadata": {},
     "output_type": "display_data"
    }
   ],
   "source": [
    "summary(multiReg)"
   ]
  },
  {
   "cell_type": "markdown",
   "metadata": {},
   "source": [
    "    : Only IQ shows the statistical significance when we run multiple regression with all variables. In the meantime, the prediction accuracy is 93.0% where p-value of 0.001033, which is 12.3 pts higher than the rate of simple linear regression model."
   ]
  },
  {
   "cell_type": "markdown",
   "metadata": {},
   "source": [
    "### Implement a regression model by AIC(Akaike Criterion) in a Stepwise Algorithm"
   ]
  },
  {
   "cell_type": "code",
   "execution_count": 46,
   "metadata": {},
   "outputs": [
    {
     "data": {
      "text/plain": [
       "\n",
       "Call:\n",
       "lm(formula = Score ~ ., data = sco[-1])\n",
       "\n",
       "Coefficients:\n",
       "      (Intercept)                 IQ  PrivateInstitutes           Gameplay  \n",
       "          23.2992             0.4684             0.7179            -0.8390  \n",
       "               TV  \n",
       "          -1.3854  \n"
      ]
     },
     "metadata": {},
     "output_type": "display_data"
    }
   ],
   "source": [
    "multiReg <- lm(Score ~ ., data = sco[-1])\n",
    "multiReg"
   ]
  },
  {
   "cell_type": "code",
   "execution_count": 47,
   "metadata": {},
   "outputs": [
    {
     "data": {
      "text/plain": [
       "\n",
       "Call:\n",
       "lm(formula = Score ~ ., data = sco[-1])\n",
       "\n",
       "Residuals:\n",
       "      1       2       3       4       5       6       7       8       9      10 \n",
       " 0.5248 -0.8968  2.3139  0.3157  1.4139 -0.8445  0.4566 -2.8905  0.8711 -1.2642 \n",
       "\n",
       "Coefficients:\n",
       "                  Estimate Std. Error t value Pr(>|t|)   \n",
       "(Intercept)       23.29923   12.33405   1.889  0.11751   \n",
       "IQ                 0.46842    0.08953   5.232  0.00338 **\n",
       "PrivateInstitutes  0.71790    1.07656   0.667  0.53440   \n",
       "Gameplay          -0.83895    0.46493  -1.804  0.13100   \n",
       "TV                -1.38541    0.89982  -1.540  0.18427   \n",
       "---\n",
       "Signif. codes:  0 ‘***’ 0.001 ‘**’ 0.01 ‘*’ 0.05 ‘.’ 0.1 ‘ ’ 1\n",
       "\n",
       "Residual standard error: 2.008 on 5 degrees of freedom\n",
       "Multiple R-squared:  0.9608,\tAdjusted R-squared:  0.9295 \n",
       "F-statistic: 30.67 on 4 and 5 DF,  p-value: 0.001033\n"
      ]
     },
     "metadata": {},
     "output_type": "display_data"
    }
   ],
   "source": [
    "summary(multiReg)"
   ]
  },
  {
   "cell_type": "code",
   "execution_count": 48,
   "metadata": {},
   "outputs": [
    {
     "name": "stdout",
     "output_type": "stream",
     "text": [
      "Start:  AIC=17.01\n",
      "Score ~ IQ + PrivateInstitutes + Gameplay + TV\n",
      "\n",
      "                    Df Sum of Sq     RSS    AIC\n",
      "- PrivateInstitutes  1     1.794  21.960 15.866\n",
      "<none>                            20.166 17.014\n",
      "- TV                 1     9.561  29.727 18.895\n",
      "- Gameplay           1    13.133  33.299 20.029\n",
      "- IQ                 1   110.409 130.575 33.694\n",
      "\n",
      "Step:  AIC=15.87\n",
      "Score ~ IQ + Gameplay + TV\n",
      "\n",
      "           Df Sum of Sq     RSS    AIC\n",
      "<none>                   21.960 15.866\n",
      "- Gameplay  1    15.930  37.890 19.321\n",
      "- TV        1    35.387  57.347 23.465\n",
      "- IQ        1   113.775 135.735 32.081\n"
     ]
    }
   ],
   "source": [
    "multiRegStep <- step(multiReg, direction = \"backward\")"
   ]
  },
  {
   "cell_type": "code",
   "execution_count": 49,
   "metadata": {},
   "outputs": [
    {
     "data": {
      "text/plain": [
       "\n",
       "Call:\n",
       "lm(formula = Score ~ IQ + Gameplay + TV, data = sco[-1])\n",
       "\n",
       "Coefficients:\n",
       "(Intercept)           IQ     Gameplay           TV  \n",
       "    25.0474       0.4737      -0.9037      -1.8231  \n"
      ]
     },
     "metadata": {},
     "output_type": "display_data"
    }
   ],
   "source": [
    "multiRegStep"
   ]
  },
  {
   "cell_type": "code",
   "execution_count": 50,
   "metadata": {},
   "outputs": [
    {
     "data": {
      "text/plain": [
       "\n",
       "Call:\n",
       "lm(formula = Score ~ IQ + Gameplay + TV, data = sco[-1])\n",
       "\n",
       "Residuals:\n",
       "     Min       1Q   Median       3Q      Max \n",
       "-3.14632 -0.76151 -0.04647  1.05986  2.40479 \n",
       "\n",
       "Coefficients:\n",
       "            Estimate Std. Error t value Pr(>|t|)   \n",
       "(Intercept) 25.04740   11.48097   2.182  0.07190 . \n",
       "IQ           0.47367    0.08495   5.576  0.00141 **\n",
       "Gameplay    -0.90366    0.43314  -2.086  0.08202 . \n",
       "TV          -1.82312    0.58631  -3.109  0.02086 * \n",
       "---\n",
       "Signif. codes:  0 ‘***’ 0.001 ‘**’ 0.01 ‘*’ 0.05 ‘.’ 0.1 ‘ ’ 1\n",
       "\n",
       "Residual standard error: 1.913 on 6 degrees of freedom\n",
       "Multiple R-squared:  0.9574,\tAdjusted R-squared:  0.936 \n",
       "F-statistic:  44.9 on 3 and 6 DF,  p-value: 0.0001669\n"
      ]
     },
     "metadata": {},
     "output_type": "display_data"
    }
   ],
   "source": [
    "summary(multiRegStep)"
   ]
  },
  {
   "cell_type": "markdown",
   "metadata": {},
   "source": [
    "    : From AIC in a Stepwise Algorithm, the model with the highest accuracy shows 93.6% where p-value of 0.0001669.  \n",
    "\n",
    "    Score = 25.0474 + (0.4737 * IQ) + (-0.9037 * Gameplay) + (-1.8231 * TV)\n",
    "    \n",
    "    In this model, all variables used in the formula are statistically significant."
   ]
  },
  {
   "cell_type": "code",
   "execution_count": null,
   "metadata": {},
   "outputs": [],
   "source": []
  }
 ],
 "metadata": {
  "kernelspec": {
   "display_name": "R",
   "language": "R",
   "name": "ir"
  },
  "language_info": {
   "codemirror_mode": "r",
   "file_extension": ".r",
   "mimetype": "text/x-r-source",
   "name": "R",
   "pygments_lexer": "r",
   "version": "3.6.1"
  },
  "latex_envs": {
   "LaTeX_envs_menu_present": true,
   "autoclose": false,
   "autocomplete": true,
   "bibliofile": "biblio.bib",
   "cite_by": "apalike",
   "current_citInitial": 1,
   "eqLabelWithNumbers": true,
   "eqNumInitial": 1,
   "hotkeys": {
    "equation": "Ctrl-E",
    "itemize": "Ctrl-I"
   },
   "labels_anchors": false,
   "latex_user_defs": false,
   "report_style_numbering": false,
   "user_envs_cfg": false
  },
  "varInspector": {
   "cols": {
    "lenName": 16,
    "lenType": 16,
    "lenVar": 40
   },
   "kernels_config": {
    "python": {
     "delete_cmd_postfix": "",
     "delete_cmd_prefix": "del ",
     "library": "var_list.py",
     "varRefreshCmd": "print(var_dic_list())"
    },
    "r": {
     "delete_cmd_postfix": ") ",
     "delete_cmd_prefix": "rm(",
     "library": "var_list.r",
     "varRefreshCmd": "cat(var_dic_list()) "
    }
   },
   "types_to_exclude": [
    "module",
    "function",
    "builtin_function_or_method",
    "instance",
    "_Feature"
   ],
   "window_display": false
  }
 },
 "nbformat": 4,
 "nbformat_minor": 2
}
