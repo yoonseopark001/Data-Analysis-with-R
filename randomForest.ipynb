{
 "cells": [
  {
   "cell_type": "markdown",
   "metadata": {},
   "source": [
    "# randomForest"
   ]
  },
  {
   "cell_type": "code",
   "execution_count": 2,
   "metadata": {},
   "outputs": [
    {
     "name": "stderr",
     "output_type": "stream",
     "text": [
      "randomForest 4.6-14\n",
      "\n",
      "Type rfNews() to see new features/changes/bug fixes.\n",
      "\n"
     ]
    }
   ],
   "source": [
    "library(randomForest)"
   ]
  },
  {
   "cell_type": "markdown",
   "metadata": {},
   "source": [
    "## Data"
   ]
  },
  {
   "cell_type": "code",
   "execution_count": 3,
   "metadata": {},
   "outputs": [
    {
     "data": {
      "text/html": [
       "<table>\n",
       "<caption>A data.frame: 6 × 5</caption>\n",
       "<thead>\n",
       "\t<tr><th></th><th scope=col>Sepal.Length</th><th scope=col>Sepal.Width</th><th scope=col>Petal.Length</th><th scope=col>Petal.Width</th><th scope=col>Species</th></tr>\n",
       "\t<tr><th></th><th scope=col>&lt;dbl&gt;</th><th scope=col>&lt;dbl&gt;</th><th scope=col>&lt;dbl&gt;</th><th scope=col>&lt;dbl&gt;</th><th scope=col>&lt;fct&gt;</th></tr>\n",
       "</thead>\n",
       "<tbody>\n",
       "\t<tr><th scope=row>1</th><td>5.1</td><td>3.5</td><td>1.4</td><td>0.2</td><td>setosa</td></tr>\n",
       "\t<tr><th scope=row>2</th><td>4.9</td><td>3.0</td><td>1.4</td><td>0.2</td><td>setosa</td></tr>\n",
       "\t<tr><th scope=row>3</th><td>4.7</td><td>3.2</td><td>1.3</td><td>0.2</td><td>setosa</td></tr>\n",
       "\t<tr><th scope=row>4</th><td>4.6</td><td>3.1</td><td>1.5</td><td>0.2</td><td>setosa</td></tr>\n",
       "\t<tr><th scope=row>5</th><td>5.0</td><td>3.6</td><td>1.4</td><td>0.2</td><td>setosa</td></tr>\n",
       "\t<tr><th scope=row>6</th><td>5.4</td><td>3.9</td><td>1.7</td><td>0.4</td><td>setosa</td></tr>\n",
       "</tbody>\n",
       "</table>\n"
      ],
      "text/latex": [
       "A data.frame: 6 × 5\n",
       "\\begin{tabular}{r|lllll}\n",
       "  & Sepal.Length & Sepal.Width & Petal.Length & Petal.Width & Species\\\\\n",
       "  & <dbl> & <dbl> & <dbl> & <dbl> & <fct>\\\\\n",
       "\\hline\n",
       "\t1 & 5.1 & 3.5 & 1.4 & 0.2 & setosa\\\\\n",
       "\t2 & 4.9 & 3.0 & 1.4 & 0.2 & setosa\\\\\n",
       "\t3 & 4.7 & 3.2 & 1.3 & 0.2 & setosa\\\\\n",
       "\t4 & 4.6 & 3.1 & 1.5 & 0.2 & setosa\\\\\n",
       "\t5 & 5.0 & 3.6 & 1.4 & 0.2 & setosa\\\\\n",
       "\t6 & 5.4 & 3.9 & 1.7 & 0.4 & setosa\\\\\n",
       "\\end{tabular}\n"
      ],
      "text/markdown": [
       "\n",
       "A data.frame: 6 × 5\n",
       "\n",
       "| <!--/--> | Sepal.Length &lt;dbl&gt; | Sepal.Width &lt;dbl&gt; | Petal.Length &lt;dbl&gt; | Petal.Width &lt;dbl&gt; | Species &lt;fct&gt; |\n",
       "|---|---|---|---|---|---|\n",
       "| 1 | 5.1 | 3.5 | 1.4 | 0.2 | setosa |\n",
       "| 2 | 4.9 | 3.0 | 1.4 | 0.2 | setosa |\n",
       "| 3 | 4.7 | 3.2 | 1.3 | 0.2 | setosa |\n",
       "| 4 | 4.6 | 3.1 | 1.5 | 0.2 | setosa |\n",
       "| 5 | 5.0 | 3.6 | 1.4 | 0.2 | setosa |\n",
       "| 6 | 5.4 | 3.9 | 1.7 | 0.4 | setosa |\n",
       "\n"
      ],
      "text/plain": [
       "  Sepal.Length Sepal.Width Petal.Length Petal.Width Species\n",
       "1 5.1          3.5         1.4          0.2         setosa \n",
       "2 4.9          3.0         1.4          0.2         setosa \n",
       "3 4.7          3.2         1.3          0.2         setosa \n",
       "4 4.6          3.1         1.5          0.2         setosa \n",
       "5 5.0          3.6         1.4          0.2         setosa \n",
       "6 5.4          3.9         1.7          0.4         setosa "
      ]
     },
     "metadata": {},
     "output_type": "display_data"
    }
   ],
   "source": [
    "head(iris)"
   ]
  },
  {
   "cell_type": "markdown",
   "metadata": {},
   "source": [
    "## Split Data into Train and Test set"
   ]
  },
  {
   "cell_type": "code",
   "execution_count": 4,
   "metadata": {},
   "outputs": [
    {
     "data": {
      "text/html": [
       "<ol class=list-inline>\n",
       "\t<li>31</li>\n",
       "\t<li>15</li>\n",
       "\t<li>14</li>\n",
       "\t<li>3</li>\n",
       "\t<li>42</li>\n",
       "\t<li>43</li>\n",
       "\t<li>37</li>\n",
       "\t<li>48</li>\n",
       "\t<li>25</li>\n",
       "\t<li>26</li>\n",
       "\t<li>27</li>\n",
       "\t<li>5</li>\n",
       "\t<li>40</li>\n",
       "\t<li>28</li>\n",
       "\t<li>9</li>\n",
       "\t<li>29</li>\n",
       "\t<li>8</li>\n",
       "\t<li>41</li>\n",
       "\t<li>7</li>\n",
       "\t<li>10</li>\n",
       "\t<li>36</li>\n",
       "\t<li>19</li>\n",
       "\t<li>4</li>\n",
       "\t<li>45</li>\n",
       "\t<li>17</li>\n",
       "\t<li>11</li>\n",
       "\t<li>32</li>\n",
       "\t<li>21</li>\n",
       "\t<li>12</li>\n",
       "\t<li>49</li>\n",
       "\t<li>50</li>\n",
       "\t<li>13</li>\n",
       "\t<li>24</li>\n",
       "\t<li>30</li>\n",
       "\t<li>33</li>\n",
       "\t<li>60</li>\n",
       "\t<li>73</li>\n",
       "\t<li>77</li>\n",
       "\t<li>57</li>\n",
       "\t<li>98</li>\n",
       "\t<li>82</li>\n",
       "\t<li>88</li>\n",
       "\t<li>75</li>\n",
       "\t<li>84</li>\n",
       "\t<li>79</li>\n",
       "\t<li>55</li>\n",
       "\t<li>58</li>\n",
       "\t<li>62</li>\n",
       "\t<li>63</li>\n",
       "\t<li>68</li>\n",
       "\t<li>83</li>\n",
       "\t<li>96</li>\n",
       "\t<li>93</li>\n",
       "\t<li>56</li>\n",
       "\t<li>71</li>\n",
       "\t<li>65</li>\n",
       "\t<li>59</li>\n",
       "\t<li>80</li>\n",
       "\t<li>76</li>\n",
       "\t<li>66</li>\n",
       "\t<li>70</li>\n",
       "\t<li>95</li>\n",
       "\t<li>61</li>\n",
       "\t<li>89</li>\n",
       "\t<li>97</li>\n",
       "\t<li>92</li>\n",
       "\t<li>67</li>\n",
       "\t<li>86</li>\n",
       "\t<li>69</li>\n",
       "\t<li>52</li>\n",
       "\t<li>104</li>\n",
       "\t<li>113</li>\n",
       "\t<li>105</li>\n",
       "\t<li>125</li>\n",
       "\t<li>122</li>\n",
       "\t<li>147</li>\n",
       "\t<li>132</li>\n",
       "\t<li>145</li>\n",
       "\t<li>123</li>\n",
       "\t<li>135</li>\n",
       "\t<li>140</li>\n",
       "\t<li>130</li>\n",
       "\t<li>112</li>\n",
       "\t<li>131</li>\n",
       "\t<li>139</li>\n",
       "\t<li>141</li>\n",
       "\t<li>114</li>\n",
       "\t<li>129</li>\n",
       "\t<li>144</li>\n",
       "\t<li>107</li>\n",
       "\t<li>103</li>\n",
       "\t<li>142</li>\n",
       "\t<li>146</li>\n",
       "\t<li>126</li>\n",
       "\t<li>115</li>\n",
       "\t<li>121</li>\n",
       "\t<li>148</li>\n",
       "\t<li>108</li>\n",
       "\t<li>119</li>\n",
       "\t<li>110</li>\n",
       "\t<li>118</li>\n",
       "\t<li>143</li>\n",
       "\t<li>138</li>\n",
       "\t<li>102</li>\n",
       "\t<li>128</li>\n",
       "</ol>\n"
      ],
      "text/latex": [
       "\\begin{enumerate*}\n",
       "\\item 31\n",
       "\\item 15\n",
       "\\item 14\n",
       "\\item 3\n",
       "\\item 42\n",
       "\\item 43\n",
       "\\item 37\n",
       "\\item 48\n",
       "\\item 25\n",
       "\\item 26\n",
       "\\item 27\n",
       "\\item 5\n",
       "\\item 40\n",
       "\\item 28\n",
       "\\item 9\n",
       "\\item 29\n",
       "\\item 8\n",
       "\\item 41\n",
       "\\item 7\n",
       "\\item 10\n",
       "\\item 36\n",
       "\\item 19\n",
       "\\item 4\n",
       "\\item 45\n",
       "\\item 17\n",
       "\\item 11\n",
       "\\item 32\n",
       "\\item 21\n",
       "\\item 12\n",
       "\\item 49\n",
       "\\item 50\n",
       "\\item 13\n",
       "\\item 24\n",
       "\\item 30\n",
       "\\item 33\n",
       "\\item 60\n",
       "\\item 73\n",
       "\\item 77\n",
       "\\item 57\n",
       "\\item 98\n",
       "\\item 82\n",
       "\\item 88\n",
       "\\item 75\n",
       "\\item 84\n",
       "\\item 79\n",
       "\\item 55\n",
       "\\item 58\n",
       "\\item 62\n",
       "\\item 63\n",
       "\\item 68\n",
       "\\item 83\n",
       "\\item 96\n",
       "\\item 93\n",
       "\\item 56\n",
       "\\item 71\n",
       "\\item 65\n",
       "\\item 59\n",
       "\\item 80\n",
       "\\item 76\n",
       "\\item 66\n",
       "\\item 70\n",
       "\\item 95\n",
       "\\item 61\n",
       "\\item 89\n",
       "\\item 97\n",
       "\\item 92\n",
       "\\item 67\n",
       "\\item 86\n",
       "\\item 69\n",
       "\\item 52\n",
       "\\item 104\n",
       "\\item 113\n",
       "\\item 105\n",
       "\\item 125\n",
       "\\item 122\n",
       "\\item 147\n",
       "\\item 132\n",
       "\\item 145\n",
       "\\item 123\n",
       "\\item 135\n",
       "\\item 140\n",
       "\\item 130\n",
       "\\item 112\n",
       "\\item 131\n",
       "\\item 139\n",
       "\\item 141\n",
       "\\item 114\n",
       "\\item 129\n",
       "\\item 144\n",
       "\\item 107\n",
       "\\item 103\n",
       "\\item 142\n",
       "\\item 146\n",
       "\\item 126\n",
       "\\item 115\n",
       "\\item 121\n",
       "\\item 148\n",
       "\\item 108\n",
       "\\item 119\n",
       "\\item 110\n",
       "\\item 118\n",
       "\\item 143\n",
       "\\item 138\n",
       "\\item 102\n",
       "\\item 128\n",
       "\\end{enumerate*}\n"
      ],
      "text/markdown": [
       "1. 31\n",
       "2. 15\n",
       "3. 14\n",
       "4. 3\n",
       "5. 42\n",
       "6. 43\n",
       "7. 37\n",
       "8. 48\n",
       "9. 25\n",
       "10. 26\n",
       "11. 27\n",
       "12. 5\n",
       "13. 40\n",
       "14. 28\n",
       "15. 9\n",
       "16. 29\n",
       "17. 8\n",
       "18. 41\n",
       "19. 7\n",
       "20. 10\n",
       "21. 36\n",
       "22. 19\n",
       "23. 4\n",
       "24. 45\n",
       "25. 17\n",
       "26. 11\n",
       "27. 32\n",
       "28. 21\n",
       "29. 12\n",
       "30. 49\n",
       "31. 50\n",
       "32. 13\n",
       "33. 24\n",
       "34. 30\n",
       "35. 33\n",
       "36. 60\n",
       "37. 73\n",
       "38. 77\n",
       "39. 57\n",
       "40. 98\n",
       "41. 82\n",
       "42. 88\n",
       "43. 75\n",
       "44. 84\n",
       "45. 79\n",
       "46. 55\n",
       "47. 58\n",
       "48. 62\n",
       "49. 63\n",
       "50. 68\n",
       "51. 83\n",
       "52. 96\n",
       "53. 93\n",
       "54. 56\n",
       "55. 71\n",
       "56. 65\n",
       "57. 59\n",
       "58. 80\n",
       "59. 76\n",
       "60. 66\n",
       "61. 70\n",
       "62. 95\n",
       "63. 61\n",
       "64. 89\n",
       "65. 97\n",
       "66. 92\n",
       "67. 67\n",
       "68. 86\n",
       "69. 69\n",
       "70. 52\n",
       "71. 104\n",
       "72. 113\n",
       "73. 105\n",
       "74. 125\n",
       "75. 122\n",
       "76. 147\n",
       "77. 132\n",
       "78. 145\n",
       "79. 123\n",
       "80. 135\n",
       "81. 140\n",
       "82. 130\n",
       "83. 112\n",
       "84. 131\n",
       "85. 139\n",
       "86. 141\n",
       "87. 114\n",
       "88. 129\n",
       "89. 144\n",
       "90. 107\n",
       "91. 103\n",
       "92. 142\n",
       "93. 146\n",
       "94. 126\n",
       "95. 115\n",
       "96. 121\n",
       "97. 148\n",
       "98. 108\n",
       "99. 119\n",
       "100. 110\n",
       "101. 118\n",
       "102. 143\n",
       "103. 138\n",
       "104. 102\n",
       "105. 128\n",
       "\n",
       "\n"
      ],
      "text/plain": [
       "  [1]  31  15  14   3  42  43  37  48  25  26  27   5  40  28   9  29   8  41\n",
       " [19]   7  10  36  19   4  45  17  11  32  21  12  49  50  13  24  30  33  60\n",
       " [37]  73  77  57  98  82  88  75  84  79  55  58  62  63  68  83  96  93  56\n",
       " [55]  71  65  59  80  76  66  70  95  61  89  97  92  67  86  69  52 104 113\n",
       " [73] 105 125 122 147 132 145 123 135 140 130 112 131 139 141 114 129 144 107\n",
       " [91] 103 142 146 126 115 121 148 108 119 110 118 143 138 102 128"
      ]
     },
     "metadata": {},
     "output_type": "display_data"
    }
   ],
   "source": [
    "set.seed(123)\n",
    "samp <- c(sample(1:50,35), sample(51:100,35), sample(101:150,35)) \n",
    "samp "
   ]
  },
  {
   "cell_type": "code",
   "execution_count": 8,
   "metadata": {},
   "outputs": [],
   "source": [
    "iris.tr <- iris[samp,]\n",
    "iris.test <- iris[-samp,]"
   ]
  },
  {
   "cell_type": "markdown",
   "metadata": {},
   "source": [
    "## Features and Targets"
   ]
  },
  {
   "cell_type": "code",
   "execution_count": 15,
   "metadata": {},
   "outputs": [
    {
     "data": {
      "text/html": [
       "<table>\n",
       "<caption>A data.frame: 6 × 4</caption>\n",
       "<thead>\n",
       "\t<tr><th></th><th scope=col>Sepal.Length</th><th scope=col>Sepal.Width</th><th scope=col>Petal.Length</th><th scope=col>Petal.Width</th></tr>\n",
       "\t<tr><th></th><th scope=col>&lt;dbl&gt;</th><th scope=col>&lt;dbl&gt;</th><th scope=col>&lt;dbl&gt;</th><th scope=col>&lt;dbl&gt;</th></tr>\n",
       "</thead>\n",
       "<tbody>\n",
       "\t<tr><th scope=row>1</th><td>5.1</td><td>3.5</td><td>1.4</td><td>0.2</td></tr>\n",
       "\t<tr><th scope=row>2</th><td>4.9</td><td>3.0</td><td>1.4</td><td>0.2</td></tr>\n",
       "\t<tr><th scope=row>6</th><td>5.4</td><td>3.9</td><td>1.7</td><td>0.4</td></tr>\n",
       "\t<tr><th scope=row>16</th><td>5.7</td><td>4.4</td><td>1.5</td><td>0.4</td></tr>\n",
       "\t<tr><th scope=row>18</th><td>5.1</td><td>3.5</td><td>1.4</td><td>0.3</td></tr>\n",
       "\t<tr><th scope=row>20</th><td>5.1</td><td>3.8</td><td>1.5</td><td>0.3</td></tr>\n",
       "</tbody>\n",
       "</table>\n"
      ],
      "text/latex": [
       "A data.frame: 6 × 4\n",
       "\\begin{tabular}{r|llll}\n",
       "  & Sepal.Length & Sepal.Width & Petal.Length & Petal.Width\\\\\n",
       "  & <dbl> & <dbl> & <dbl> & <dbl>\\\\\n",
       "\\hline\n",
       "\t1 & 5.1 & 3.5 & 1.4 & 0.2\\\\\n",
       "\t2 & 4.9 & 3.0 & 1.4 & 0.2\\\\\n",
       "\t6 & 5.4 & 3.9 & 1.7 & 0.4\\\\\n",
       "\t16 & 5.7 & 4.4 & 1.5 & 0.4\\\\\n",
       "\t18 & 5.1 & 3.5 & 1.4 & 0.3\\\\\n",
       "\t20 & 5.1 & 3.8 & 1.5 & 0.3\\\\\n",
       "\\end{tabular}\n"
      ],
      "text/markdown": [
       "\n",
       "A data.frame: 6 × 4\n",
       "\n",
       "| <!--/--> | Sepal.Length &lt;dbl&gt; | Sepal.Width &lt;dbl&gt; | Petal.Length &lt;dbl&gt; | Petal.Width &lt;dbl&gt; |\n",
       "|---|---|---|---|---|\n",
       "| 1 | 5.1 | 3.5 | 1.4 | 0.2 |\n",
       "| 2 | 4.9 | 3.0 | 1.4 | 0.2 |\n",
       "| 6 | 5.4 | 3.9 | 1.7 | 0.4 |\n",
       "| 16 | 5.7 | 4.4 | 1.5 | 0.4 |\n",
       "| 18 | 5.1 | 3.5 | 1.4 | 0.3 |\n",
       "| 20 | 5.1 | 3.8 | 1.5 | 0.3 |\n",
       "\n"
      ],
      "text/plain": [
       "   Sepal.Length Sepal.Width Petal.Length Petal.Width\n",
       "1  5.1          3.5         1.4          0.2        \n",
       "2  4.9          3.0         1.4          0.2        \n",
       "6  5.4          3.9         1.7          0.4        \n",
       "16 5.7          4.4         1.5          0.4        \n",
       "18 5.1          3.5         1.4          0.3        \n",
       "20 5.1          3.8         1.5          0.3        "
      ]
     },
     "metadata": {},
     "output_type": "display_data"
    }
   ],
   "source": [
    "# Features\n",
    "iris.features <- subset(iris.test, select = -Species)\n",
    "head(iris.features)"
   ]
  },
  {
   "cell_type": "code",
   "execution_count": 17,
   "metadata": {},
   "outputs": [
    {
     "data": {
      "text/html": [
       "<ol class=list-inline>\n",
       "\t<li>setosa</li>\n",
       "\t<li>setosa</li>\n",
       "\t<li>setosa</li>\n",
       "\t<li>setosa</li>\n",
       "\t<li>setosa</li>\n",
       "\t<li>setosa</li>\n",
       "</ol>\n",
       "\n",
       "<details>\n",
       "\t<summary style=display:list-item;cursor:pointer>\n",
       "\t\t<strong>Levels</strong>:\n",
       "\t</summary>\n",
       "\t<ol class=list-inline>\n",
       "\t\t<li>'setosa'</li>\n",
       "\t\t<li>'versicolor'</li>\n",
       "\t\t<li>'virginica'</li>\n",
       "\t</ol>\n",
       "</details>"
      ],
      "text/latex": [
       "\\begin{enumerate*}\n",
       "\\item setosa\n",
       "\\item setosa\n",
       "\\item setosa\n",
       "\\item setosa\n",
       "\\item setosa\n",
       "\\item setosa\n",
       "\\end{enumerate*}\n",
       "\n",
       "\\emph{Levels}: \\begin{enumerate*}\n",
       "\\item 'setosa'\n",
       "\\item 'versicolor'\n",
       "\\item 'virginica'\n",
       "\\end{enumerate*}\n"
      ],
      "text/markdown": [
       "1. setosa\n",
       "2. setosa\n",
       "3. setosa\n",
       "4. setosa\n",
       "5. setosa\n",
       "6. setosa\n",
       "\n",
       "\n",
       "\n",
       "**Levels**: 1. 'setosa'\n",
       "2. 'versicolor'\n",
       "3. 'virginica'\n",
       "\n",
       "\n"
      ],
      "text/plain": [
       "[1] setosa setosa setosa setosa setosa setosa\n",
       "Levels: setosa versicolor virginica"
      ]
     },
     "metadata": {},
     "output_type": "display_data"
    }
   ],
   "source": [
    "# Targets\n",
    "iris.targets <- iris.test$Species\n",
    "head(iris.targets)"
   ]
  },
  {
   "cell_type": "markdown",
   "metadata": {},
   "source": [
    "## Train"
   ]
  },
  {
   "cell_type": "code",
   "execution_count": 10,
   "metadata": {},
   "outputs": [
    {
     "data": {
      "text/plain": [
       "\n",
       "Call:\n",
       " randomForest(formula = Species ~ ., data = iris.tr, ntree = 100) \n",
       "               Type of random forest: classification\n",
       "                     Number of trees: 100\n",
       "No. of variables tried at each split: 2\n",
       "\n",
       "        OOB estimate of  error rate: 4.76%\n",
       "Confusion matrix:\n",
       "           setosa versicolor virginica class.error\n",
       "setosa         35          0         0  0.00000000\n",
       "versicolor      0         33         2  0.05714286\n",
       "virginica       0          3        32  0.08571429"
      ]
     },
     "metadata": {},
     "output_type": "display_data"
    }
   ],
   "source": [
    "rf <- randomForest(Species ~ ., data = iris.tr, ntree = 100)\n",
    "rf\n",
    "\n",
    "# Number of trees: 100 is typically used."
   ]
  },
  {
   "cell_type": "markdown",
   "metadata": {},
   "source": [
    "## Implement Prediction"
   ]
  },
  {
   "cell_type": "code",
   "execution_count": 22,
   "metadata": {},
   "outputs": [],
   "source": [
    "# predict(trained model, features)\n",
    "pred <- predict(rf, iris.features)"
   ]
  },
  {
   "cell_type": "markdown",
   "metadata": {},
   "source": [
    "## Accuracy"
   ]
  },
  {
   "cell_type": "code",
   "execution_count": 23,
   "metadata": {},
   "outputs": [
    {
     "data": {
      "text/html": [
       "0.933333333333333"
      ],
      "text/latex": [
       "0.933333333333333"
      ],
      "text/markdown": [
       "0.933333333333333"
      ],
      "text/plain": [
       "[1] 0.9333333"
      ]
     },
     "metadata": {},
     "output_type": "display_data"
    }
   ],
   "source": [
    "mean(pred == iris.test$Species)"
   ]
  },
  {
   "cell_type": "markdown",
   "metadata": {},
   "source": [
    "## Classified Table"
   ]
  },
  {
   "cell_type": "code",
   "execution_count": 24,
   "metadata": {},
   "outputs": [
    {
     "data": {
      "text/plain": [
       "            \n",
       "pred         setosa versicolor virginica\n",
       "  setosa         15          0         0\n",
       "  versicolor      0         14         2\n",
       "  virginica       0          1        13"
      ]
     },
     "metadata": {},
     "output_type": "display_data"
    }
   ],
   "source": [
    "table(pred, iris.test$Species)"
   ]
  },
  {
   "cell_type": "code",
   "execution_count": null,
   "metadata": {},
   "outputs": [],
   "source": []
  }
 ],
 "metadata": {
  "kernelspec": {
   "display_name": "R",
   "language": "R",
   "name": "ir"
  },
  "language_info": {
   "codemirror_mode": "r",
   "file_extension": ".r",
   "mimetype": "text/x-r-source",
   "name": "R",
   "pygments_lexer": "r",
   "version": "3.6.1"
  },
  "latex_envs": {
   "LaTeX_envs_menu_present": true,
   "autoclose": false,
   "autocomplete": true,
   "bibliofile": "biblio.bib",
   "cite_by": "apalike",
   "current_citInitial": 1,
   "eqLabelWithNumbers": true,
   "eqNumInitial": 1,
   "hotkeys": {
    "equation": "Ctrl-E",
    "itemize": "Ctrl-I"
   },
   "labels_anchors": false,
   "latex_user_defs": false,
   "report_style_numbering": false,
   "user_envs_cfg": false
  },
  "varInspector": {
   "cols": {
    "lenName": 16,
    "lenType": 16,
    "lenVar": 40
   },
   "kernels_config": {
    "python": {
     "delete_cmd_postfix": "",
     "delete_cmd_prefix": "del ",
     "library": "var_list.py",
     "varRefreshCmd": "print(var_dic_list())"
    },
    "r": {
     "delete_cmd_postfix": ") ",
     "delete_cmd_prefix": "rm(",
     "library": "var_list.r",
     "varRefreshCmd": "cat(var_dic_list()) "
    }
   },
   "types_to_exclude": [
    "module",
    "function",
    "builtin_function_or_method",
    "instance",
    "_Feature"
   ],
   "window_display": false
  }
 },
 "nbformat": 4,
 "nbformat_minor": 2
}
