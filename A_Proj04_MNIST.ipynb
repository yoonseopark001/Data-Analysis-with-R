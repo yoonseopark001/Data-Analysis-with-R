{
 "cells": [
  {
   "cell_type": "markdown",
   "metadata": {},
   "source": [
    "# run with 1K data"
   ]
  },
  {
   "cell_type": "markdown",
   "metadata": {},
   "source": [
    "## Load 1K data"
   ]
  },
  {
   "cell_type": "code",
   "execution_count": 92,
   "metadata": {
    "scrolled": true
   },
   "outputs": [
    {
     "data": {
      "text/html": [
       "<table>\n",
       "<caption>A data.frame: 6 × 785</caption>\n",
       "<thead>\n",
       "\t<tr><th></th><th scope=col>V1</th><th scope=col>V2</th><th scope=col>V3</th><th scope=col>V4</th><th scope=col>V5</th><th scope=col>V6</th><th scope=col>V7</th><th scope=col>V8</th><th scope=col>V9</th><th scope=col>V10</th><th scope=col>⋯</th><th scope=col>V776</th><th scope=col>V777</th><th scope=col>V778</th><th scope=col>V779</th><th scope=col>V780</th><th scope=col>V781</th><th scope=col>V782</th><th scope=col>V783</th><th scope=col>V784</th><th scope=col>V785</th></tr>\n",
       "\t<tr><th></th><th scope=col>&lt;int&gt;</th><th scope=col>&lt;int&gt;</th><th scope=col>&lt;int&gt;</th><th scope=col>&lt;int&gt;</th><th scope=col>&lt;int&gt;</th><th scope=col>&lt;int&gt;</th><th scope=col>&lt;int&gt;</th><th scope=col>&lt;int&gt;</th><th scope=col>&lt;int&gt;</th><th scope=col>&lt;int&gt;</th><th scope=col>⋯</th><th scope=col>&lt;int&gt;</th><th scope=col>&lt;int&gt;</th><th scope=col>&lt;int&gt;</th><th scope=col>&lt;int&gt;</th><th scope=col>&lt;int&gt;</th><th scope=col>&lt;int&gt;</th><th scope=col>&lt;int&gt;</th><th scope=col>&lt;int&gt;</th><th scope=col>&lt;int&gt;</th><th scope=col>&lt;int&gt;</th></tr>\n",
       "</thead>\n",
       "<tbody>\n",
       "\t<tr><th scope=row>1</th><td>5</td><td>0</td><td>0</td><td>0</td><td>0</td><td>0</td><td>0</td><td>0</td><td>0</td><td>0</td><td>⋯</td><td>0</td><td>0</td><td>0</td><td>0</td><td>0</td><td>0</td><td>0</td><td>0</td><td>0</td><td>0</td></tr>\n",
       "\t<tr><th scope=row>2</th><td>0</td><td>0</td><td>0</td><td>0</td><td>0</td><td>0</td><td>0</td><td>0</td><td>0</td><td>0</td><td>⋯</td><td>0</td><td>0</td><td>0</td><td>0</td><td>0</td><td>0</td><td>0</td><td>0</td><td>0</td><td>0</td></tr>\n",
       "\t<tr><th scope=row>3</th><td>4</td><td>0</td><td>0</td><td>0</td><td>0</td><td>0</td><td>0</td><td>0</td><td>0</td><td>0</td><td>⋯</td><td>0</td><td>0</td><td>0</td><td>0</td><td>0</td><td>0</td><td>0</td><td>0</td><td>0</td><td>0</td></tr>\n",
       "\t<tr><th scope=row>4</th><td>1</td><td>0</td><td>0</td><td>0</td><td>0</td><td>0</td><td>0</td><td>0</td><td>0</td><td>0</td><td>⋯</td><td>0</td><td>0</td><td>0</td><td>0</td><td>0</td><td>0</td><td>0</td><td>0</td><td>0</td><td>0</td></tr>\n",
       "\t<tr><th scope=row>5</th><td>9</td><td>0</td><td>0</td><td>0</td><td>0</td><td>0</td><td>0</td><td>0</td><td>0</td><td>0</td><td>⋯</td><td>0</td><td>0</td><td>0</td><td>0</td><td>0</td><td>0</td><td>0</td><td>0</td><td>0</td><td>0</td></tr>\n",
       "\t<tr><th scope=row>6</th><td>2</td><td>0</td><td>0</td><td>0</td><td>0</td><td>0</td><td>0</td><td>0</td><td>0</td><td>0</td><td>⋯</td><td>0</td><td>0</td><td>0</td><td>0</td><td>0</td><td>0</td><td>0</td><td>0</td><td>0</td><td>0</td></tr>\n",
       "</tbody>\n",
       "</table>\n"
      ],
      "text/latex": [
       "A data.frame: 6 × 785\n",
       "\\begin{tabular}{r|lllllllllllllllllllll}\n",
       "  & V1 & V2 & V3 & V4 & V5 & V6 & V7 & V8 & V9 & V10 & ⋯ & V776 & V777 & V778 & V779 & V780 & V781 & V782 & V783 & V784 & V785\\\\\n",
       "  & <int> & <int> & <int> & <int> & <int> & <int> & <int> & <int> & <int> & <int> & ⋯ & <int> & <int> & <int> & <int> & <int> & <int> & <int> & <int> & <int> & <int>\\\\\n",
       "\\hline\n",
       "\t1 & 5 & 0 & 0 & 0 & 0 & 0 & 0 & 0 & 0 & 0 & ⋯ & 0 & 0 & 0 & 0 & 0 & 0 & 0 & 0 & 0 & 0\\\\\n",
       "\t2 & 0 & 0 & 0 & 0 & 0 & 0 & 0 & 0 & 0 & 0 & ⋯ & 0 & 0 & 0 & 0 & 0 & 0 & 0 & 0 & 0 & 0\\\\\n",
       "\t3 & 4 & 0 & 0 & 0 & 0 & 0 & 0 & 0 & 0 & 0 & ⋯ & 0 & 0 & 0 & 0 & 0 & 0 & 0 & 0 & 0 & 0\\\\\n",
       "\t4 & 1 & 0 & 0 & 0 & 0 & 0 & 0 & 0 & 0 & 0 & ⋯ & 0 & 0 & 0 & 0 & 0 & 0 & 0 & 0 & 0 & 0\\\\\n",
       "\t5 & 9 & 0 & 0 & 0 & 0 & 0 & 0 & 0 & 0 & 0 & ⋯ & 0 & 0 & 0 & 0 & 0 & 0 & 0 & 0 & 0 & 0\\\\\n",
       "\t6 & 2 & 0 & 0 & 0 & 0 & 0 & 0 & 0 & 0 & 0 & ⋯ & 0 & 0 & 0 & 0 & 0 & 0 & 0 & 0 & 0 & 0\\\\\n",
       "\\end{tabular}\n"
      ],
      "text/markdown": [
       "\n",
       "A data.frame: 6 × 785\n",
       "\n",
       "| <!--/--> | V1 &lt;int&gt; | V2 &lt;int&gt; | V3 &lt;int&gt; | V4 &lt;int&gt; | V5 &lt;int&gt; | V6 &lt;int&gt; | V7 &lt;int&gt; | V8 &lt;int&gt; | V9 &lt;int&gt; | V10 &lt;int&gt; | ⋯ ⋯ | V776 &lt;int&gt; | V777 &lt;int&gt; | V778 &lt;int&gt; | V779 &lt;int&gt; | V780 &lt;int&gt; | V781 &lt;int&gt; | V782 &lt;int&gt; | V783 &lt;int&gt; | V784 &lt;int&gt; | V785 &lt;int&gt; |\n",
       "|---|---|---|---|---|---|---|---|---|---|---|---|---|---|---|---|---|---|---|---|---|---|\n",
       "| 1 | 5 | 0 | 0 | 0 | 0 | 0 | 0 | 0 | 0 | 0 | ⋯ | 0 | 0 | 0 | 0 | 0 | 0 | 0 | 0 | 0 | 0 |\n",
       "| 2 | 0 | 0 | 0 | 0 | 0 | 0 | 0 | 0 | 0 | 0 | ⋯ | 0 | 0 | 0 | 0 | 0 | 0 | 0 | 0 | 0 | 0 |\n",
       "| 3 | 4 | 0 | 0 | 0 | 0 | 0 | 0 | 0 | 0 | 0 | ⋯ | 0 | 0 | 0 | 0 | 0 | 0 | 0 | 0 | 0 | 0 |\n",
       "| 4 | 1 | 0 | 0 | 0 | 0 | 0 | 0 | 0 | 0 | 0 | ⋯ | 0 | 0 | 0 | 0 | 0 | 0 | 0 | 0 | 0 | 0 |\n",
       "| 5 | 9 | 0 | 0 | 0 | 0 | 0 | 0 | 0 | 0 | 0 | ⋯ | 0 | 0 | 0 | 0 | 0 | 0 | 0 | 0 | 0 | 0 |\n",
       "| 6 | 2 | 0 | 0 | 0 | 0 | 0 | 0 | 0 | 0 | 0 | ⋯ | 0 | 0 | 0 | 0 | 0 | 0 | 0 | 0 | 0 | 0 |\n",
       "\n"
      ],
      "text/plain": [
       "  V1 V2 V3 V4 V5 V6 V7 V8 V9 V10 ⋯ V776 V777 V778 V779 V780 V781 V782 V783 V784\n",
       "1 5  0  0  0  0  0  0  0  0  0   ⋯ 0    0    0    0    0    0    0    0    0   \n",
       "2 0  0  0  0  0  0  0  0  0  0   ⋯ 0    0    0    0    0    0    0    0    0   \n",
       "3 4  0  0  0  0  0  0  0  0  0   ⋯ 0    0    0    0    0    0    0    0    0   \n",
       "4 1  0  0  0  0  0  0  0  0  0   ⋯ 0    0    0    0    0    0    0    0    0   \n",
       "5 9  0  0  0  0  0  0  0  0  0   ⋯ 0    0    0    0    0    0    0    0    0   \n",
       "6 2  0  0  0  0  0  0  0  0  0   ⋯ 0    0    0    0    0    0    0    0    0   \n",
       "  V785\n",
       "1 0   \n",
       "2 0   \n",
       "3 0   \n",
       "4 0   \n",
       "5 0   \n",
       "6 0   "
      ]
     },
     "metadata": {},
     "output_type": "display_data"
    }
   ],
   "source": [
    "mnist <- read.csv(\"./Data/train_1k.csv\", header = F)\n",
    "head(mnist)"
   ]
  },
  {
   "cell_type": "markdown",
   "metadata": {},
   "source": [
    "## EDA"
   ]
  },
  {
   "cell_type": "markdown",
   "metadata": {},
   "source": [
    "### Data Preparation"
   ]
  },
  {
   "cell_type": "code",
   "execution_count": 93,
   "metadata": {},
   "outputs": [
    {
     "data": {
      "text/html": [
       "785"
      ],
      "text/latex": [
       "785"
      ],
      "text/markdown": [
       "785"
      ],
      "text/plain": [
       "[1] 785"
      ]
     },
     "metadata": {},
     "output_type": "display_data"
    }
   ],
   "source": [
    "ncol(mnist)"
   ]
  },
  {
   "cell_type": "code",
   "execution_count": 94,
   "metadata": {
    "scrolled": false
   },
   "outputs": [
    {
     "data": {
      "text/html": [
       "28"
      ],
      "text/latex": [
       "28"
      ],
      "text/markdown": [
       "28"
      ],
      "text/plain": [
       "[1] 28"
      ]
     },
     "metadata": {},
     "output_type": "display_data"
    }
   ],
   "source": [
    "sqrt(784) # 28x28"
   ]
  },
  {
   "cell_type": "code",
   "execution_count": 95,
   "metadata": {},
   "outputs": [
    {
     "data": {
      "text/html": [
       "<ol class=list-inline>\n",
       "\t<li>2</li>\n",
       "\t<li>30</li>\n",
       "\t<li>58</li>\n",
       "\t<li>86</li>\n",
       "\t<li>114</li>\n",
       "\t<li>142</li>\n",
       "\t<li>170</li>\n",
       "\t<li>198</li>\n",
       "\t<li>226</li>\n",
       "\t<li>254</li>\n",
       "\t<li>282</li>\n",
       "\t<li>310</li>\n",
       "\t<li>338</li>\n",
       "\t<li>366</li>\n",
       "\t<li>394</li>\n",
       "\t<li>422</li>\n",
       "\t<li>450</li>\n",
       "\t<li>478</li>\n",
       "\t<li>506</li>\n",
       "\t<li>534</li>\n",
       "\t<li>562</li>\n",
       "\t<li>590</li>\n",
       "\t<li>618</li>\n",
       "\t<li>646</li>\n",
       "\t<li>674</li>\n",
       "\t<li>702</li>\n",
       "\t<li>730</li>\n",
       "\t<li>758</li>\n",
       "</ol>\n"
      ],
      "text/latex": [
       "\\begin{enumerate*}\n",
       "\\item 2\n",
       "\\item 30\n",
       "\\item 58\n",
       "\\item 86\n",
       "\\item 114\n",
       "\\item 142\n",
       "\\item 170\n",
       "\\item 198\n",
       "\\item 226\n",
       "\\item 254\n",
       "\\item 282\n",
       "\\item 310\n",
       "\\item 338\n",
       "\\item 366\n",
       "\\item 394\n",
       "\\item 422\n",
       "\\item 450\n",
       "\\item 478\n",
       "\\item 506\n",
       "\\item 534\n",
       "\\item 562\n",
       "\\item 590\n",
       "\\item 618\n",
       "\\item 646\n",
       "\\item 674\n",
       "\\item 702\n",
       "\\item 730\n",
       "\\item 758\n",
       "\\end{enumerate*}\n"
      ],
      "text/markdown": [
       "1. 2\n",
       "2. 30\n",
       "3. 58\n",
       "4. 86\n",
       "5. 114\n",
       "6. 142\n",
       "7. 170\n",
       "8. 198\n",
       "9. 226\n",
       "10. 254\n",
       "11. 282\n",
       "12. 310\n",
       "13. 338\n",
       "14. 366\n",
       "15. 394\n",
       "16. 422\n",
       "17. 450\n",
       "18. 478\n",
       "19. 506\n",
       "20. 534\n",
       "21. 562\n",
       "22. 590\n",
       "23. 618\n",
       "24. 646\n",
       "25. 674\n",
       "26. 702\n",
       "27. 730\n",
       "28. 758\n",
       "\n",
       "\n"
      ],
      "text/plain": [
       " [1]   2  30  58  86 114 142 170 198 226 254 282 310 338 366 394 422 450 478 506\n",
       "[20] 534 562 590 618 646 674 702 730 758"
      ]
     },
     "metadata": {},
     "output_type": "display_data"
    },
    {
     "data": {
      "text/html": [
       "<ol class=list-inline>\n",
       "\t<li>29</li>\n",
       "\t<li>57</li>\n",
       "\t<li>85</li>\n",
       "\t<li>113</li>\n",
       "\t<li>141</li>\n",
       "\t<li>169</li>\n",
       "\t<li>197</li>\n",
       "\t<li>225</li>\n",
       "\t<li>253</li>\n",
       "\t<li>281</li>\n",
       "\t<li>309</li>\n",
       "\t<li>337</li>\n",
       "\t<li>365</li>\n",
       "\t<li>393</li>\n",
       "\t<li>421</li>\n",
       "\t<li>449</li>\n",
       "\t<li>477</li>\n",
       "\t<li>505</li>\n",
       "\t<li>533</li>\n",
       "\t<li>561</li>\n",
       "\t<li>589</li>\n",
       "\t<li>617</li>\n",
       "\t<li>645</li>\n",
       "\t<li>673</li>\n",
       "\t<li>701</li>\n",
       "\t<li>729</li>\n",
       "\t<li>757</li>\n",
       "\t<li>785</li>\n",
       "</ol>\n"
      ],
      "text/latex": [
       "\\begin{enumerate*}\n",
       "\\item 29\n",
       "\\item 57\n",
       "\\item 85\n",
       "\\item 113\n",
       "\\item 141\n",
       "\\item 169\n",
       "\\item 197\n",
       "\\item 225\n",
       "\\item 253\n",
       "\\item 281\n",
       "\\item 309\n",
       "\\item 337\n",
       "\\item 365\n",
       "\\item 393\n",
       "\\item 421\n",
       "\\item 449\n",
       "\\item 477\n",
       "\\item 505\n",
       "\\item 533\n",
       "\\item 561\n",
       "\\item 589\n",
       "\\item 617\n",
       "\\item 645\n",
       "\\item 673\n",
       "\\item 701\n",
       "\\item 729\n",
       "\\item 757\n",
       "\\item 785\n",
       "\\end{enumerate*}\n"
      ],
      "text/markdown": [
       "1. 29\n",
       "2. 57\n",
       "3. 85\n",
       "4. 113\n",
       "5. 141\n",
       "6. 169\n",
       "7. 197\n",
       "8. 225\n",
       "9. 253\n",
       "10. 281\n",
       "11. 309\n",
       "12. 337\n",
       "13. 365\n",
       "14. 393\n",
       "15. 421\n",
       "16. 449\n",
       "17. 477\n",
       "18. 505\n",
       "19. 533\n",
       "20. 561\n",
       "21. 589\n",
       "22. 617\n",
       "23. 645\n",
       "24. 673\n",
       "25. 701\n",
       "26. 729\n",
       "27. 757\n",
       "28. 785\n",
       "\n",
       "\n"
      ],
      "text/plain": [
       " [1]  29  57  85 113 141 169 197 225 253 281 309 337 365 393 421 449 477 505 533\n",
       "[20] 561 589 617 645 673 701 729 757 785"
      ]
     },
     "metadata": {},
     "output_type": "display_data"
    }
   ],
   "source": [
    "numStart <- seq( 2, 785, 28)\n",
    "numEnd   <- seq(29, 785, 28)\n",
    "numStart ; numEnd"
   ]
  },
  {
   "cell_type": "markdown",
   "metadata": {},
   "source": [
    "### Visualization"
   ]
  },
  {
   "cell_type": "code",
   "execution_count": 96,
   "metadata": {},
   "outputs": [
    {
     "name": "stdout",
     "output_type": "stream",
     "text": [
      "0000000000000000000000000000\n",
      "0000000000000000000000000000\n",
      "0000000000000000000000000000\n",
      "0000000000000000000000000000\n",
      "0000000000000000000000000000\n",
      "0000000000003181818126136175261662552471270000\n",
      "00000000303694154170253253253253253225172253242195640000\n",
      "000000049238253253253253253253253253251938282563900000\n",
      "0000000182192532532532532531981822472410000000000\n",
      "0000000080156107253253205110431540000000000\n",
      "0000000001411542539000000000000000\n",
      "0000000000013925319020000000000000\n",
      "0000000000011190253700000000000000\n",
      "0000000000003524122516010810000000000\n",
      "00000000000008124025325311925000000000\n",
      "00000000000000451862532531502700000000\n",
      "000000000000000169325225318700000000\n",
      "00000000000000000249253249640000000\n",
      "000000000000004613018325325320720000000\n",
      "0000000000003914822925325325325018200000000\n",
      "00000000002411422125325325325320178000000000\n",
      "0000000023662132532532532531988120000000000\n",
      "00000018171219253253253253195809000000000000\n",
      "0000551722262532532532532441331100000000000000\n",
      "0000136253253253212135132160000000000000000\n",
      "0000000000000000000000000000\n",
      "0000000000000000000000000000\n",
      "0000000000000000000000000000\n"
     ]
    }
   ],
   "source": [
    "cnt <- 0\n",
    "for(j in 1:28){\n",
    "    n1 = as.numeric(numStart[j])\n",
    "    n2 = as.numeric(numEnd[j])\n",
    "\n",
    "    for(i in seq(from = n1, to = n2)){\n",
    "        cat(paste(mnist[1,i]))\n",
    "        \n",
    "        cnt = cnt + 1\n",
    "        if(cnt > 27){\n",
    "            cat(paste(\"\\n\"))\n",
    "            cnt = 0\n",
    "        }\n",
    "    }\n",
    "}"
   ]
  },
  {
   "cell_type": "code",
   "execution_count": 97,
   "metadata": {},
   "outputs": [
    {
     "name": "stdout",
     "output_type": "stream",
     "text": [
      "                            \n",
      "                            \n",
      "                            \n",
      "                            \n",
      "                            \n",
      "            ************    \n",
      "        ****************    \n",
      "       ****************     \n",
      "       ***********          \n",
      "        ******* **          \n",
      "         *****              \n",
      "           ****             \n",
      "           ****             \n",
      "            ******          \n",
      "             ******         \n",
      "              ******        \n",
      "               *****        \n",
      "                 ****       \n",
      "              *******       \n",
      "            ********        \n",
      "          *********         \n",
      "        **********          \n",
      "      **********            \n",
      "    **********              \n",
      "    ********                \n",
      "                            \n",
      "                            \n",
      "                            \n"
     ]
    }
   ],
   "source": [
    "cnt <- 0\n",
    "for(j in 1:28){\n",
    "    n1 = as.numeric(numStart[j])\n",
    "    n2 = as.numeric(numEnd[j])\n",
    "\n",
    "    for(i in seq(from = n1, to = n2)){\n",
    "\n",
    "        if(mnist[1,i] != 0){           # first number\n",
    "            cat(paste(\"*\"))\n",
    "        }else{\n",
    "            cat(paste(\" \"))\n",
    "        }\n",
    "        cnt = cnt + 1\n",
    "        if(cnt > 27){\n",
    "            cat(paste(\"\\n\"))\n",
    "            cnt = 0\n",
    "        }\n",
    "    }\n",
    "}"
   ]
  },
  {
   "cell_type": "code",
   "execution_count": 98,
   "metadata": {},
   "outputs": [
    {
     "name": "stdout",
     "output_type": "stream",
     "text": [
      "                            \n",
      "                            \n",
      "                            \n",
      "                            \n",
      "                            \n",
      "              ***           \n",
      "              ***           \n",
      "              ***           \n",
      "              ***           \n",
      "              ***           \n",
      "              ***           \n",
      "              ***           \n",
      "             ****           \n",
      "             ****           \n",
      "             ***            \n",
      "            ***             \n",
      "            ***             \n",
      "            ***             \n",
      "            ***             \n",
      "            ***             \n",
      "            ***             \n",
      "            **              \n",
      "           ***              \n",
      "           ***              \n",
      "           **               \n",
      "                            \n",
      "                            \n",
      "                            \n"
     ]
    }
   ],
   "source": [
    "cnt <- 0\n",
    "for(j in 1:28){\n",
    "    n1 = as.numeric(numStart[j])\n",
    "    n2 = as.numeric(numEnd[j])\n",
    "\n",
    "    for(i in seq(from = n1, to = n2)){\n",
    "\n",
    "        if(mnist[125,i] != 0){           # 125th number\n",
    "            cat(paste(\"*\"))\n",
    "        }else{\n",
    "            cat(paste(\" \"))\n",
    "        }\n",
    "        cnt = cnt + 1\n",
    "        if(cnt > 27){\n",
    "            cat(paste(\"\\n\"))\n",
    "            cnt = 0\n",
    "        }\n",
    "    }\n",
    "}"
   ]
  },
  {
   "cell_type": "markdown",
   "metadata": {},
   "source": [
    "### Rearrange data with dplyr"
   ]
  },
  {
   "cell_type": "code",
   "execution_count": 99,
   "metadata": {
    "scrolled": true
   },
   "outputs": [],
   "source": [
    "# install.packages(\"dplyr\")"
   ]
  },
  {
   "cell_type": "code",
   "execution_count": 100,
   "metadata": {
    "scrolled": false
   },
   "outputs": [],
   "source": [
    "library(dplyr)"
   ]
  },
  {
   "cell_type": "code",
   "execution_count": 101,
   "metadata": {
    "scrolled": false
   },
   "outputs": [
    {
     "data": {
      "text/html": [
       "<table>\n",
       "<caption>A data.frame: 6 × 785</caption>\n",
       "<thead>\n",
       "\t<tr><th></th><th scope=col>V1</th><th scope=col>V2</th><th scope=col>V3</th><th scope=col>V4</th><th scope=col>V5</th><th scope=col>V6</th><th scope=col>V7</th><th scope=col>V8</th><th scope=col>V9</th><th scope=col>V10</th><th scope=col>⋯</th><th scope=col>V776</th><th scope=col>V777</th><th scope=col>V778</th><th scope=col>V779</th><th scope=col>V780</th><th scope=col>V781</th><th scope=col>V782</th><th scope=col>V783</th><th scope=col>V784</th><th scope=col>V785</th></tr>\n",
       "\t<tr><th></th><th scope=col>&lt;int&gt;</th><th scope=col>&lt;int&gt;</th><th scope=col>&lt;int&gt;</th><th scope=col>&lt;int&gt;</th><th scope=col>&lt;int&gt;</th><th scope=col>&lt;int&gt;</th><th scope=col>&lt;int&gt;</th><th scope=col>&lt;int&gt;</th><th scope=col>&lt;int&gt;</th><th scope=col>&lt;int&gt;</th><th scope=col>⋯</th><th scope=col>&lt;int&gt;</th><th scope=col>&lt;int&gt;</th><th scope=col>&lt;int&gt;</th><th scope=col>&lt;int&gt;</th><th scope=col>&lt;int&gt;</th><th scope=col>&lt;int&gt;</th><th scope=col>&lt;int&gt;</th><th scope=col>&lt;int&gt;</th><th scope=col>&lt;int&gt;</th><th scope=col>&lt;int&gt;</th></tr>\n",
       "</thead>\n",
       "<tbody>\n",
       "\t<tr><th scope=row>1</th><td>0</td><td>0</td><td>0</td><td>0</td><td>0</td><td>0</td><td>0</td><td>0</td><td>0</td><td>0</td><td>⋯</td><td>0</td><td>0</td><td>0</td><td>0</td><td>0</td><td>0</td><td>0</td><td>0</td><td>0</td><td>0</td></tr>\n",
       "\t<tr><th scope=row>2</th><td>0</td><td>0</td><td>0</td><td>0</td><td>0</td><td>0</td><td>0</td><td>0</td><td>0</td><td>0</td><td>⋯</td><td>0</td><td>0</td><td>0</td><td>0</td><td>0</td><td>0</td><td>0</td><td>0</td><td>0</td><td>0</td></tr>\n",
       "\t<tr><th scope=row>3</th><td>0</td><td>0</td><td>0</td><td>0</td><td>0</td><td>0</td><td>0</td><td>0</td><td>0</td><td>0</td><td>⋯</td><td>0</td><td>0</td><td>0</td><td>0</td><td>0</td><td>0</td><td>0</td><td>0</td><td>0</td><td>0</td></tr>\n",
       "\t<tr><th scope=row>4</th><td>0</td><td>0</td><td>0</td><td>0</td><td>0</td><td>0</td><td>0</td><td>0</td><td>0</td><td>0</td><td>⋯</td><td>0</td><td>0</td><td>0</td><td>0</td><td>0</td><td>0</td><td>0</td><td>0</td><td>0</td><td>0</td></tr>\n",
       "\t<tr><th scope=row>5</th><td>0</td><td>0</td><td>0</td><td>0</td><td>0</td><td>0</td><td>0</td><td>0</td><td>0</td><td>0</td><td>⋯</td><td>0</td><td>0</td><td>0</td><td>0</td><td>0</td><td>0</td><td>0</td><td>0</td><td>0</td><td>0</td></tr>\n",
       "\t<tr><th scope=row>6</th><td>0</td><td>0</td><td>0</td><td>0</td><td>0</td><td>0</td><td>0</td><td>0</td><td>0</td><td>0</td><td>⋯</td><td>0</td><td>0</td><td>0</td><td>0</td><td>0</td><td>0</td><td>0</td><td>0</td><td>0</td><td>0</td></tr>\n",
       "</tbody>\n",
       "</table>\n"
      ],
      "text/latex": [
       "A data.frame: 6 × 785\n",
       "\\begin{tabular}{r|lllllllllllllllllllll}\n",
       "  & V1 & V2 & V3 & V4 & V5 & V6 & V7 & V8 & V9 & V10 & ⋯ & V776 & V777 & V778 & V779 & V780 & V781 & V782 & V783 & V784 & V785\\\\\n",
       "  & <int> & <int> & <int> & <int> & <int> & <int> & <int> & <int> & <int> & <int> & ⋯ & <int> & <int> & <int> & <int> & <int> & <int> & <int> & <int> & <int> & <int>\\\\\n",
       "\\hline\n",
       "\t1 & 0 & 0 & 0 & 0 & 0 & 0 & 0 & 0 & 0 & 0 & ⋯ & 0 & 0 & 0 & 0 & 0 & 0 & 0 & 0 & 0 & 0\\\\\n",
       "\t2 & 0 & 0 & 0 & 0 & 0 & 0 & 0 & 0 & 0 & 0 & ⋯ & 0 & 0 & 0 & 0 & 0 & 0 & 0 & 0 & 0 & 0\\\\\n",
       "\t3 & 0 & 0 & 0 & 0 & 0 & 0 & 0 & 0 & 0 & 0 & ⋯ & 0 & 0 & 0 & 0 & 0 & 0 & 0 & 0 & 0 & 0\\\\\n",
       "\t4 & 0 & 0 & 0 & 0 & 0 & 0 & 0 & 0 & 0 & 0 & ⋯ & 0 & 0 & 0 & 0 & 0 & 0 & 0 & 0 & 0 & 0\\\\\n",
       "\t5 & 0 & 0 & 0 & 0 & 0 & 0 & 0 & 0 & 0 & 0 & ⋯ & 0 & 0 & 0 & 0 & 0 & 0 & 0 & 0 & 0 & 0\\\\\n",
       "\t6 & 0 & 0 & 0 & 0 & 0 & 0 & 0 & 0 & 0 & 0 & ⋯ & 0 & 0 & 0 & 0 & 0 & 0 & 0 & 0 & 0 & 0\\\\\n",
       "\\end{tabular}\n"
      ],
      "text/markdown": [
       "\n",
       "A data.frame: 6 × 785\n",
       "\n",
       "| <!--/--> | V1 &lt;int&gt; | V2 &lt;int&gt; | V3 &lt;int&gt; | V4 &lt;int&gt; | V5 &lt;int&gt; | V6 &lt;int&gt; | V7 &lt;int&gt; | V8 &lt;int&gt; | V9 &lt;int&gt; | V10 &lt;int&gt; | ⋯ ⋯ | V776 &lt;int&gt; | V777 &lt;int&gt; | V778 &lt;int&gt; | V779 &lt;int&gt; | V780 &lt;int&gt; | V781 &lt;int&gt; | V782 &lt;int&gt; | V783 &lt;int&gt; | V784 &lt;int&gt; | V785 &lt;int&gt; |\n",
       "|---|---|---|---|---|---|---|---|---|---|---|---|---|---|---|---|---|---|---|---|---|---|\n",
       "| 1 | 0 | 0 | 0 | 0 | 0 | 0 | 0 | 0 | 0 | 0 | ⋯ | 0 | 0 | 0 | 0 | 0 | 0 | 0 | 0 | 0 | 0 |\n",
       "| 2 | 0 | 0 | 0 | 0 | 0 | 0 | 0 | 0 | 0 | 0 | ⋯ | 0 | 0 | 0 | 0 | 0 | 0 | 0 | 0 | 0 | 0 |\n",
       "| 3 | 0 | 0 | 0 | 0 | 0 | 0 | 0 | 0 | 0 | 0 | ⋯ | 0 | 0 | 0 | 0 | 0 | 0 | 0 | 0 | 0 | 0 |\n",
       "| 4 | 0 | 0 | 0 | 0 | 0 | 0 | 0 | 0 | 0 | 0 | ⋯ | 0 | 0 | 0 | 0 | 0 | 0 | 0 | 0 | 0 | 0 |\n",
       "| 5 | 0 | 0 | 0 | 0 | 0 | 0 | 0 | 0 | 0 | 0 | ⋯ | 0 | 0 | 0 | 0 | 0 | 0 | 0 | 0 | 0 | 0 |\n",
       "| 6 | 0 | 0 | 0 | 0 | 0 | 0 | 0 | 0 | 0 | 0 | ⋯ | 0 | 0 | 0 | 0 | 0 | 0 | 0 | 0 | 0 | 0 |\n",
       "\n"
      ],
      "text/plain": [
       "  V1 V2 V3 V4 V5 V6 V7 V8 V9 V10 ⋯ V776 V777 V778 V779 V780 V781 V782 V783 V784\n",
       "1 0  0  0  0  0  0  0  0  0  0   ⋯ 0    0    0    0    0    0    0    0    0   \n",
       "2 0  0  0  0  0  0  0  0  0  0   ⋯ 0    0    0    0    0    0    0    0    0   \n",
       "3 0  0  0  0  0  0  0  0  0  0   ⋯ 0    0    0    0    0    0    0    0    0   \n",
       "4 0  0  0  0  0  0  0  0  0  0   ⋯ 0    0    0    0    0    0    0    0    0   \n",
       "5 0  0  0  0  0  0  0  0  0  0   ⋯ 0    0    0    0    0    0    0    0    0   \n",
       "6 0  0  0  0  0  0  0  0  0  0   ⋯ 0    0    0    0    0    0    0    0    0   \n",
       "  V785\n",
       "1 0   \n",
       "2 0   \n",
       "3 0   \n",
       "4 0   \n",
       "5 0   \n",
       "6 0   "
      ]
     },
     "metadata": {},
     "output_type": "display_data"
    },
    {
     "data": {
      "text/html": [
       "<table>\n",
       "<caption>A data.frame: 6 × 785</caption>\n",
       "<thead>\n",
       "\t<tr><th></th><th scope=col>V1</th><th scope=col>V2</th><th scope=col>V3</th><th scope=col>V4</th><th scope=col>V5</th><th scope=col>V6</th><th scope=col>V7</th><th scope=col>V8</th><th scope=col>V9</th><th scope=col>V10</th><th scope=col>⋯</th><th scope=col>V776</th><th scope=col>V777</th><th scope=col>V778</th><th scope=col>V779</th><th scope=col>V780</th><th scope=col>V781</th><th scope=col>V782</th><th scope=col>V783</th><th scope=col>V784</th><th scope=col>V785</th></tr>\n",
       "\t<tr><th></th><th scope=col>&lt;int&gt;</th><th scope=col>&lt;int&gt;</th><th scope=col>&lt;int&gt;</th><th scope=col>&lt;int&gt;</th><th scope=col>&lt;int&gt;</th><th scope=col>&lt;int&gt;</th><th scope=col>&lt;int&gt;</th><th scope=col>&lt;int&gt;</th><th scope=col>&lt;int&gt;</th><th scope=col>&lt;int&gt;</th><th scope=col>⋯</th><th scope=col>&lt;int&gt;</th><th scope=col>&lt;int&gt;</th><th scope=col>&lt;int&gt;</th><th scope=col>&lt;int&gt;</th><th scope=col>&lt;int&gt;</th><th scope=col>&lt;int&gt;</th><th scope=col>&lt;int&gt;</th><th scope=col>&lt;int&gt;</th><th scope=col>&lt;int&gt;</th><th scope=col>&lt;int&gt;</th></tr>\n",
       "</thead>\n",
       "<tbody>\n",
       "\t<tr><th scope=row>996</th><td>9</td><td>0</td><td>0</td><td>0</td><td>0</td><td>0</td><td>0</td><td>0</td><td>0</td><td>0</td><td>⋯</td><td>0</td><td>0</td><td>0</td><td>0</td><td>0</td><td>0</td><td>0</td><td>0</td><td>0</td><td>0</td></tr>\n",
       "\t<tr><th scope=row>997</th><td>9</td><td>0</td><td>0</td><td>0</td><td>0</td><td>0</td><td>0</td><td>0</td><td>0</td><td>0</td><td>⋯</td><td>0</td><td>0</td><td>0</td><td>0</td><td>0</td><td>0</td><td>0</td><td>0</td><td>0</td><td>0</td></tr>\n",
       "\t<tr><th scope=row>998</th><td>9</td><td>0</td><td>0</td><td>0</td><td>0</td><td>0</td><td>0</td><td>0</td><td>0</td><td>0</td><td>⋯</td><td>0</td><td>0</td><td>0</td><td>0</td><td>0</td><td>0</td><td>0</td><td>0</td><td>0</td><td>0</td></tr>\n",
       "\t<tr><th scope=row>999</th><td>9</td><td>0</td><td>0</td><td>0</td><td>0</td><td>0</td><td>0</td><td>0</td><td>0</td><td>0</td><td>⋯</td><td>0</td><td>0</td><td>0</td><td>0</td><td>0</td><td>0</td><td>0</td><td>0</td><td>0</td><td>0</td></tr>\n",
       "\t<tr><th scope=row>1000</th><td>9</td><td>0</td><td>0</td><td>0</td><td>0</td><td>0</td><td>0</td><td>0</td><td>0</td><td>0</td><td>⋯</td><td>0</td><td>0</td><td>0</td><td>0</td><td>0</td><td>0</td><td>0</td><td>0</td><td>0</td><td>0</td></tr>\n",
       "\t<tr><th scope=row>1001</th><td>9</td><td>0</td><td>0</td><td>0</td><td>0</td><td>0</td><td>0</td><td>0</td><td>0</td><td>0</td><td>⋯</td><td>0</td><td>0</td><td>0</td><td>0</td><td>0</td><td>0</td><td>0</td><td>0</td><td>0</td><td>0</td></tr>\n",
       "</tbody>\n",
       "</table>\n"
      ],
      "text/latex": [
       "A data.frame: 6 × 785\n",
       "\\begin{tabular}{r|lllllllllllllllllllll}\n",
       "  & V1 & V2 & V3 & V4 & V5 & V6 & V7 & V8 & V9 & V10 & ⋯ & V776 & V777 & V778 & V779 & V780 & V781 & V782 & V783 & V784 & V785\\\\\n",
       "  & <int> & <int> & <int> & <int> & <int> & <int> & <int> & <int> & <int> & <int> & ⋯ & <int> & <int> & <int> & <int> & <int> & <int> & <int> & <int> & <int> & <int>\\\\\n",
       "\\hline\n",
       "\t996 & 9 & 0 & 0 & 0 & 0 & 0 & 0 & 0 & 0 & 0 & ⋯ & 0 & 0 & 0 & 0 & 0 & 0 & 0 & 0 & 0 & 0\\\\\n",
       "\t997 & 9 & 0 & 0 & 0 & 0 & 0 & 0 & 0 & 0 & 0 & ⋯ & 0 & 0 & 0 & 0 & 0 & 0 & 0 & 0 & 0 & 0\\\\\n",
       "\t998 & 9 & 0 & 0 & 0 & 0 & 0 & 0 & 0 & 0 & 0 & ⋯ & 0 & 0 & 0 & 0 & 0 & 0 & 0 & 0 & 0 & 0\\\\\n",
       "\t999 & 9 & 0 & 0 & 0 & 0 & 0 & 0 & 0 & 0 & 0 & ⋯ & 0 & 0 & 0 & 0 & 0 & 0 & 0 & 0 & 0 & 0\\\\\n",
       "\t1000 & 9 & 0 & 0 & 0 & 0 & 0 & 0 & 0 & 0 & 0 & ⋯ & 0 & 0 & 0 & 0 & 0 & 0 & 0 & 0 & 0 & 0\\\\\n",
       "\t1001 & 9 & 0 & 0 & 0 & 0 & 0 & 0 & 0 & 0 & 0 & ⋯ & 0 & 0 & 0 & 0 & 0 & 0 & 0 & 0 & 0 & 0\\\\\n",
       "\\end{tabular}\n"
      ],
      "text/markdown": [
       "\n",
       "A data.frame: 6 × 785\n",
       "\n",
       "| <!--/--> | V1 &lt;int&gt; | V2 &lt;int&gt; | V3 &lt;int&gt; | V4 &lt;int&gt; | V5 &lt;int&gt; | V6 &lt;int&gt; | V7 &lt;int&gt; | V8 &lt;int&gt; | V9 &lt;int&gt; | V10 &lt;int&gt; | ⋯ ⋯ | V776 &lt;int&gt; | V777 &lt;int&gt; | V778 &lt;int&gt; | V779 &lt;int&gt; | V780 &lt;int&gt; | V781 &lt;int&gt; | V782 &lt;int&gt; | V783 &lt;int&gt; | V784 &lt;int&gt; | V785 &lt;int&gt; |\n",
       "|---|---|---|---|---|---|---|---|---|---|---|---|---|---|---|---|---|---|---|---|---|---|\n",
       "| 996 | 9 | 0 | 0 | 0 | 0 | 0 | 0 | 0 | 0 | 0 | ⋯ | 0 | 0 | 0 | 0 | 0 | 0 | 0 | 0 | 0 | 0 |\n",
       "| 997 | 9 | 0 | 0 | 0 | 0 | 0 | 0 | 0 | 0 | 0 | ⋯ | 0 | 0 | 0 | 0 | 0 | 0 | 0 | 0 | 0 | 0 |\n",
       "| 998 | 9 | 0 | 0 | 0 | 0 | 0 | 0 | 0 | 0 | 0 | ⋯ | 0 | 0 | 0 | 0 | 0 | 0 | 0 | 0 | 0 | 0 |\n",
       "| 999 | 9 | 0 | 0 | 0 | 0 | 0 | 0 | 0 | 0 | 0 | ⋯ | 0 | 0 | 0 | 0 | 0 | 0 | 0 | 0 | 0 | 0 |\n",
       "| 1000 | 9 | 0 | 0 | 0 | 0 | 0 | 0 | 0 | 0 | 0 | ⋯ | 0 | 0 | 0 | 0 | 0 | 0 | 0 | 0 | 0 | 0 |\n",
       "| 1001 | 9 | 0 | 0 | 0 | 0 | 0 | 0 | 0 | 0 | 0 | ⋯ | 0 | 0 | 0 | 0 | 0 | 0 | 0 | 0 | 0 | 0 |\n",
       "\n"
      ],
      "text/plain": [
       "     V1 V2 V3 V4 V5 V6 V7 V8 V9 V10 ⋯ V776 V777 V778 V779 V780 V781 V782 V783\n",
       "996  9  0  0  0  0  0  0  0  0  0   ⋯ 0    0    0    0    0    0    0    0   \n",
       "997  9  0  0  0  0  0  0  0  0  0   ⋯ 0    0    0    0    0    0    0    0   \n",
       "998  9  0  0  0  0  0  0  0  0  0   ⋯ 0    0    0    0    0    0    0    0   \n",
       "999  9  0  0  0  0  0  0  0  0  0   ⋯ 0    0    0    0    0    0    0    0   \n",
       "1000 9  0  0  0  0  0  0  0  0  0   ⋯ 0    0    0    0    0    0    0    0   \n",
       "1001 9  0  0  0  0  0  0  0  0  0   ⋯ 0    0    0    0    0    0    0    0   \n",
       "     V784 V785\n",
       "996  0    0   \n",
       "997  0    0   \n",
       "998  0    0   \n",
       "999  0    0   \n",
       "1000 0    0   \n",
       "1001 0    0   "
      ]
     },
     "metadata": {},
     "output_type": "display_data"
    }
   ],
   "source": [
    "mnistORD <- mnist %>%\n",
    "    arrange(V1)\n",
    "\n",
    "head(mnistORD)\n",
    "tail(mnistORD)"
   ]
  },
  {
   "cell_type": "markdown",
   "metadata": {},
   "source": [
    "### Count numbers"
   ]
  },
  {
   "cell_type": "code",
   "execution_count": 102,
   "metadata": {},
   "outputs": [
    {
     "data": {
      "text/html": [
       "98"
      ],
      "text/latex": [
       "98"
      ],
      "text/markdown": [
       "98"
      ],
      "text/plain": [
       "[1] 98"
      ]
     },
     "metadata": {},
     "output_type": "display_data"
    }
   ],
   "source": [
    "nrow(subset(mnistORD, V1 == 0))"
   ]
  },
  {
   "cell_type": "code",
   "execution_count": 103,
   "metadata": {},
   "outputs": [
    {
     "name": "stdout",
     "output_type": "stream",
     "text": [
      "0 : 98 \n",
      "1 : 116 \n",
      "2 : 99 \n",
      "3 : 93 \n",
      "4 : 105 \n",
      "5 : 92 \n",
      "6 : 94 \n",
      "7 : 117 \n",
      "8 : 87 \n",
      "9 : 100 \n"
     ]
    }
   ],
   "source": [
    "for(i in 0:9){\n",
    "    countNum = nrow(subset(mnist, V1 == i))\n",
    "    cat(paste(i, \":\", countNum), \"\\n\")\n",
    "}"
   ]
  },
  {
   "cell_type": "markdown",
   "metadata": {},
   "source": [
    "### Convert target values as factors"
   ]
  },
  {
   "cell_type": "code",
   "execution_count": 104,
   "metadata": {},
   "outputs": [
    {
     "name": "stdout",
     "output_type": "stream",
     "text": [
      "'data.frame':\t1001 obs. of  785 variables:\n",
      " $ V1  : int  0 0 0 0 0 0 0 0 0 0 ...\n",
      " $ V2  : int  0 0 0 0 0 0 0 0 0 0 ...\n",
      " $ V3  : int  0 0 0 0 0 0 0 0 0 0 ...\n",
      " $ V4  : int  0 0 0 0 0 0 0 0 0 0 ...\n",
      " $ V5  : int  0 0 0 0 0 0 0 0 0 0 ...\n",
      " $ V6  : int  0 0 0 0 0 0 0 0 0 0 ...\n",
      " $ V7  : int  0 0 0 0 0 0 0 0 0 0 ...\n",
      " $ V8  : int  0 0 0 0 0 0 0 0 0 0 ...\n",
      " $ V9  : int  0 0 0 0 0 0 0 0 0 0 ...\n",
      " $ V10 : int  0 0 0 0 0 0 0 0 0 0 ...\n",
      " $ V11 : int  0 0 0 0 0 0 0 0 0 0 ...\n",
      " $ V12 : int  0 0 0 0 0 0 0 0 0 0 ...\n",
      " $ V13 : int  0 0 0 0 0 0 0 0 0 0 ...\n",
      " $ V14 : int  0 0 0 0 0 0 0 0 0 0 ...\n",
      " $ V15 : int  0 0 0 0 0 0 0 0 0 0 ...\n",
      " $ V16 : int  0 0 0 0 0 0 0 0 0 0 ...\n",
      " $ V17 : int  0 0 0 0 0 0 0 0 0 0 ...\n",
      " $ V18 : int  0 0 0 0 0 0 0 0 0 0 ...\n",
      " $ V19 : int  0 0 0 0 0 0 0 0 0 0 ...\n",
      " $ V20 : int  0 0 0 0 0 0 0 0 0 0 ...\n",
      " $ V21 : int  0 0 0 0 0 0 0 0 0 0 ...\n",
      " $ V22 : int  0 0 0 0 0 0 0 0 0 0 ...\n",
      " $ V23 : int  0 0 0 0 0 0 0 0 0 0 ...\n",
      " $ V24 : int  0 0 0 0 0 0 0 0 0 0 ...\n",
      " $ V25 : int  0 0 0 0 0 0 0 0 0 0 ...\n",
      " $ V26 : int  0 0 0 0 0 0 0 0 0 0 ...\n",
      " $ V27 : int  0 0 0 0 0 0 0 0 0 0 ...\n",
      " $ V28 : int  0 0 0 0 0 0 0 0 0 0 ...\n",
      " $ V29 : int  0 0 0 0 0 0 0 0 0 0 ...\n",
      " $ V30 : int  0 0 0 0 0 0 0 0 0 0 ...\n",
      " $ V31 : int  0 0 0 0 0 0 0 0 0 0 ...\n",
      " $ V32 : int  0 0 0 0 0 0 0 0 0 0 ...\n",
      " $ V33 : int  0 0 0 0 0 0 0 0 0 0 ...\n",
      " $ V34 : int  0 0 0 0 0 0 0 0 0 0 ...\n",
      " $ V35 : int  0 0 0 0 0 0 0 0 0 0 ...\n",
      " $ V36 : int  0 0 0 0 0 0 0 0 0 0 ...\n",
      " $ V37 : int  0 0 0 0 0 0 0 0 0 0 ...\n",
      " $ V38 : int  0 0 0 0 0 0 0 0 0 0 ...\n",
      " $ V39 : int  0 0 0 0 0 0 0 0 0 0 ...\n",
      " $ V40 : int  0 0 0 0 0 0 0 0 0 0 ...\n",
      " $ V41 : int  0 0 0 0 0 0 0 0 0 0 ...\n",
      " $ V42 : int  0 0 0 0 0 0 0 0 0 0 ...\n",
      " $ V43 : int  0 0 0 0 0 0 0 0 0 0 ...\n",
      " $ V44 : int  0 0 0 0 0 0 0 0 0 0 ...\n",
      " $ V45 : int  0 0 0 0 0 0 0 0 0 0 ...\n",
      " $ V46 : int  0 0 0 0 0 0 0 0 0 0 ...\n",
      " $ V47 : int  0 0 0 0 0 0 0 0 0 0 ...\n",
      " $ V48 : int  0 0 0 0 0 0 0 0 0 0 ...\n",
      " $ V49 : int  0 0 0 0 0 0 0 0 0 0 ...\n",
      " $ V50 : int  0 0 0 0 0 0 0 0 0 0 ...\n",
      " $ V51 : int  0 0 0 0 0 0 0 0 0 0 ...\n",
      " $ V52 : int  0 0 0 0 0 0 0 0 0 0 ...\n",
      " $ V53 : int  0 0 0 0 0 0 0 0 0 0 ...\n",
      " $ V54 : int  0 0 0 0 0 0 0 0 0 0 ...\n",
      " $ V55 : int  0 0 0 0 0 0 0 0 0 0 ...\n",
      " $ V56 : int  0 0 0 0 0 0 0 0 0 0 ...\n",
      " $ V57 : int  0 0 0 0 0 0 0 0 0 0 ...\n",
      " $ V58 : int  0 0 0 0 0 0 0 0 0 0 ...\n",
      " $ V59 : int  0 0 0 0 0 0 0 0 0 0 ...\n",
      " $ V60 : int  0 0 0 0 0 0 0 0 0 0 ...\n",
      " $ V61 : int  0 0 0 0 0 0 0 0 0 0 ...\n",
      " $ V62 : int  0 0 0 0 0 0 0 0 0 0 ...\n",
      " $ V63 : int  0 0 0 0 0 0 0 0 0 0 ...\n",
      " $ V64 : int  0 0 0 0 0 0 0 0 0 0 ...\n",
      " $ V65 : int  0 0 0 0 0 0 0 0 0 0 ...\n",
      " $ V66 : int  0 0 0 0 0 0 0 0 0 0 ...\n",
      " $ V67 : int  0 0 0 0 0 0 0 0 0 0 ...\n",
      " $ V68 : int  0 0 0 0 0 0 0 0 0 0 ...\n",
      " $ V69 : int  0 0 0 0 0 0 0 0 0 0 ...\n",
      " $ V70 : int  0 0 0 0 0 0 0 0 0 0 ...\n",
      " $ V71 : int  0 0 0 0 0 0 0 0 0 0 ...\n",
      " $ V72 : int  0 0 0 0 0 0 0 0 0 0 ...\n",
      " $ V73 : int  0 0 0 0 0 0 0 0 0 0 ...\n",
      " $ V74 : int  0 0 0 0 0 0 0 0 0 0 ...\n",
      " $ V75 : int  0 0 0 0 0 0 0 0 0 0 ...\n",
      " $ V76 : int  0 0 0 0 0 0 0 0 0 0 ...\n",
      " $ V77 : int  0 0 0 0 0 0 0 0 0 0 ...\n",
      " $ V78 : int  0 0 0 0 0 0 0 0 0 0 ...\n",
      " $ V79 : int  0 0 0 0 0 0 0 0 0 0 ...\n",
      " $ V80 : int  0 0 0 0 0 0 0 0 0 0 ...\n",
      " $ V81 : int  0 0 0 0 0 0 0 0 0 0 ...\n",
      " $ V82 : int  0 0 0 0 0 0 0 0 0 0 ...\n",
      " $ V83 : int  0 0 0 0 0 0 0 0 0 0 ...\n",
      " $ V84 : int  0 0 0 0 0 0 0 0 0 0 ...\n",
      " $ V85 : int  0 0 0 0 0 0 0 0 0 0 ...\n",
      " $ V86 : int  0 0 0 0 0 0 0 0 0 0 ...\n",
      " $ V87 : int  0 0 0 0 0 0 0 0 0 0 ...\n",
      " $ V88 : int  0 0 0 0 0 0 0 0 0 0 ...\n",
      " $ V89 : int  0 0 0 0 0 0 0 0 0 0 ...\n",
      " $ V90 : int  0 0 0 0 0 0 0 0 0 0 ...\n",
      " $ V91 : int  0 0 0 0 0 0 0 0 0 0 ...\n",
      " $ V92 : int  0 0 0 0 0 0 0 0 0 0 ...\n",
      " $ V93 : int  0 0 0 0 0 0 0 0 0 0 ...\n",
      " $ V94 : int  0 0 0 0 0 0 0 0 0 0 ...\n",
      " $ V95 : int  0 0 0 0 0 0 0 0 0 0 ...\n",
      " $ V96 : int  0 0 0 0 0 0 0 0 0 0 ...\n",
      " $ V97 : int  0 0 0 0 0 0 0 0 0 0 ...\n",
      " $ V98 : int  0 0 0 0 0 0 0 0 0 0 ...\n",
      " $ V99 : int  0 0 0 0 0 0 0 0 0 0 ...\n",
      "  [list output truncated]\n"
     ]
    }
   ],
   "source": [
    "str(mnistORD) # V1 is now integer."
   ]
  },
  {
   "cell_type": "code",
   "execution_count": 105,
   "metadata": {},
   "outputs": [],
   "source": [
    "mnistORD$V1 <- as.factor(mnistORD$V1)"
   ]
  },
  {
   "cell_type": "code",
   "execution_count": 106,
   "metadata": {},
   "outputs": [
    {
     "name": "stdout",
     "output_type": "stream",
     "text": [
      "'data.frame':\t1001 obs. of  785 variables:\n",
      " $ V1  : Factor w/ 10 levels \"0\",\"1\",\"2\",\"3\",..: 1 1 1 1 1 1 1 1 1 1 ...\n",
      " $ V2  : int  0 0 0 0 0 0 0 0 0 0 ...\n",
      " $ V3  : int  0 0 0 0 0 0 0 0 0 0 ...\n",
      " $ V4  : int  0 0 0 0 0 0 0 0 0 0 ...\n",
      " $ V5  : int  0 0 0 0 0 0 0 0 0 0 ...\n",
      " $ V6  : int  0 0 0 0 0 0 0 0 0 0 ...\n",
      " $ V7  : int  0 0 0 0 0 0 0 0 0 0 ...\n",
      " $ V8  : int  0 0 0 0 0 0 0 0 0 0 ...\n",
      " $ V9  : int  0 0 0 0 0 0 0 0 0 0 ...\n",
      " $ V10 : int  0 0 0 0 0 0 0 0 0 0 ...\n",
      " $ V11 : int  0 0 0 0 0 0 0 0 0 0 ...\n",
      " $ V12 : int  0 0 0 0 0 0 0 0 0 0 ...\n",
      " $ V13 : int  0 0 0 0 0 0 0 0 0 0 ...\n",
      " $ V14 : int  0 0 0 0 0 0 0 0 0 0 ...\n",
      " $ V15 : int  0 0 0 0 0 0 0 0 0 0 ...\n",
      " $ V16 : int  0 0 0 0 0 0 0 0 0 0 ...\n",
      " $ V17 : int  0 0 0 0 0 0 0 0 0 0 ...\n",
      " $ V18 : int  0 0 0 0 0 0 0 0 0 0 ...\n",
      " $ V19 : int  0 0 0 0 0 0 0 0 0 0 ...\n",
      " $ V20 : int  0 0 0 0 0 0 0 0 0 0 ...\n",
      " $ V21 : int  0 0 0 0 0 0 0 0 0 0 ...\n",
      " $ V22 : int  0 0 0 0 0 0 0 0 0 0 ...\n",
      " $ V23 : int  0 0 0 0 0 0 0 0 0 0 ...\n",
      " $ V24 : int  0 0 0 0 0 0 0 0 0 0 ...\n",
      " $ V25 : int  0 0 0 0 0 0 0 0 0 0 ...\n",
      " $ V26 : int  0 0 0 0 0 0 0 0 0 0 ...\n",
      " $ V27 : int  0 0 0 0 0 0 0 0 0 0 ...\n",
      " $ V28 : int  0 0 0 0 0 0 0 0 0 0 ...\n",
      " $ V29 : int  0 0 0 0 0 0 0 0 0 0 ...\n",
      " $ V30 : int  0 0 0 0 0 0 0 0 0 0 ...\n",
      " $ V31 : int  0 0 0 0 0 0 0 0 0 0 ...\n",
      " $ V32 : int  0 0 0 0 0 0 0 0 0 0 ...\n",
      " $ V33 : int  0 0 0 0 0 0 0 0 0 0 ...\n",
      " $ V34 : int  0 0 0 0 0 0 0 0 0 0 ...\n",
      " $ V35 : int  0 0 0 0 0 0 0 0 0 0 ...\n",
      " $ V36 : int  0 0 0 0 0 0 0 0 0 0 ...\n",
      " $ V37 : int  0 0 0 0 0 0 0 0 0 0 ...\n",
      " $ V38 : int  0 0 0 0 0 0 0 0 0 0 ...\n",
      " $ V39 : int  0 0 0 0 0 0 0 0 0 0 ...\n",
      " $ V40 : int  0 0 0 0 0 0 0 0 0 0 ...\n",
      " $ V41 : int  0 0 0 0 0 0 0 0 0 0 ...\n",
      " $ V42 : int  0 0 0 0 0 0 0 0 0 0 ...\n",
      " $ V43 : int  0 0 0 0 0 0 0 0 0 0 ...\n",
      " $ V44 : int  0 0 0 0 0 0 0 0 0 0 ...\n",
      " $ V45 : int  0 0 0 0 0 0 0 0 0 0 ...\n",
      " $ V46 : int  0 0 0 0 0 0 0 0 0 0 ...\n",
      " $ V47 : int  0 0 0 0 0 0 0 0 0 0 ...\n",
      " $ V48 : int  0 0 0 0 0 0 0 0 0 0 ...\n",
      " $ V49 : int  0 0 0 0 0 0 0 0 0 0 ...\n",
      " $ V50 : int  0 0 0 0 0 0 0 0 0 0 ...\n",
      " $ V51 : int  0 0 0 0 0 0 0 0 0 0 ...\n",
      " $ V52 : int  0 0 0 0 0 0 0 0 0 0 ...\n",
      " $ V53 : int  0 0 0 0 0 0 0 0 0 0 ...\n",
      " $ V54 : int  0 0 0 0 0 0 0 0 0 0 ...\n",
      " $ V55 : int  0 0 0 0 0 0 0 0 0 0 ...\n",
      " $ V56 : int  0 0 0 0 0 0 0 0 0 0 ...\n",
      " $ V57 : int  0 0 0 0 0 0 0 0 0 0 ...\n",
      " $ V58 : int  0 0 0 0 0 0 0 0 0 0 ...\n",
      " $ V59 : int  0 0 0 0 0 0 0 0 0 0 ...\n",
      " $ V60 : int  0 0 0 0 0 0 0 0 0 0 ...\n",
      " $ V61 : int  0 0 0 0 0 0 0 0 0 0 ...\n",
      " $ V62 : int  0 0 0 0 0 0 0 0 0 0 ...\n",
      " $ V63 : int  0 0 0 0 0 0 0 0 0 0 ...\n",
      " $ V64 : int  0 0 0 0 0 0 0 0 0 0 ...\n",
      " $ V65 : int  0 0 0 0 0 0 0 0 0 0 ...\n",
      " $ V66 : int  0 0 0 0 0 0 0 0 0 0 ...\n",
      " $ V67 : int  0 0 0 0 0 0 0 0 0 0 ...\n",
      " $ V68 : int  0 0 0 0 0 0 0 0 0 0 ...\n",
      " $ V69 : int  0 0 0 0 0 0 0 0 0 0 ...\n",
      " $ V70 : int  0 0 0 0 0 0 0 0 0 0 ...\n",
      " $ V71 : int  0 0 0 0 0 0 0 0 0 0 ...\n",
      " $ V72 : int  0 0 0 0 0 0 0 0 0 0 ...\n",
      " $ V73 : int  0 0 0 0 0 0 0 0 0 0 ...\n",
      " $ V74 : int  0 0 0 0 0 0 0 0 0 0 ...\n",
      " $ V75 : int  0 0 0 0 0 0 0 0 0 0 ...\n",
      " $ V76 : int  0 0 0 0 0 0 0 0 0 0 ...\n",
      " $ V77 : int  0 0 0 0 0 0 0 0 0 0 ...\n",
      " $ V78 : int  0 0 0 0 0 0 0 0 0 0 ...\n",
      " $ V79 : int  0 0 0 0 0 0 0 0 0 0 ...\n",
      " $ V80 : int  0 0 0 0 0 0 0 0 0 0 ...\n",
      " $ V81 : int  0 0 0 0 0 0 0 0 0 0 ...\n",
      " $ V82 : int  0 0 0 0 0 0 0 0 0 0 ...\n",
      " $ V83 : int  0 0 0 0 0 0 0 0 0 0 ...\n",
      " $ V84 : int  0 0 0 0 0 0 0 0 0 0 ...\n",
      " $ V85 : int  0 0 0 0 0 0 0 0 0 0 ...\n",
      " $ V86 : int  0 0 0 0 0 0 0 0 0 0 ...\n",
      " $ V87 : int  0 0 0 0 0 0 0 0 0 0 ...\n",
      " $ V88 : int  0 0 0 0 0 0 0 0 0 0 ...\n",
      " $ V89 : int  0 0 0 0 0 0 0 0 0 0 ...\n",
      " $ V90 : int  0 0 0 0 0 0 0 0 0 0 ...\n",
      " $ V91 : int  0 0 0 0 0 0 0 0 0 0 ...\n",
      " $ V92 : int  0 0 0 0 0 0 0 0 0 0 ...\n",
      " $ V93 : int  0 0 0 0 0 0 0 0 0 0 ...\n",
      " $ V94 : int  0 0 0 0 0 0 0 0 0 0 ...\n",
      " $ V95 : int  0 0 0 0 0 0 0 0 0 0 ...\n",
      " $ V96 : int  0 0 0 0 0 0 0 0 0 0 ...\n",
      " $ V97 : int  0 0 0 0 0 0 0 0 0 0 ...\n",
      " $ V98 : int  0 0 0 0 0 0 0 0 0 0 ...\n",
      " $ V99 : int  0 0 0 0 0 0 0 0 0 0 ...\n",
      "  [list output truncated]\n"
     ]
    }
   ],
   "source": [
    "str(mnistORD)"
   ]
  },
  {
   "cell_type": "markdown",
   "metadata": {},
   "source": [
    "## Sampling"
   ]
  },
  {
   "cell_type": "code",
   "execution_count": 107,
   "metadata": {},
   "outputs": [],
   "source": [
    "# install.packages(\"caret\")"
   ]
  },
  {
   "cell_type": "code",
   "execution_count": 108,
   "metadata": {},
   "outputs": [],
   "source": [
    "library(caret)"
   ]
  },
  {
   "cell_type": "code",
   "execution_count": 109,
   "metadata": {},
   "outputs": [],
   "source": [
    "samp <- createDataPartition(mnist$V1, p = 0.7, list = F )"
   ]
  },
  {
   "cell_type": "markdown",
   "metadata": {},
   "source": [
    "## train and test data"
   ]
  },
  {
   "cell_type": "code",
   "execution_count": 110,
   "metadata": {},
   "outputs": [],
   "source": [
    "# train\n",
    "data.train <- mnistORD[samp,]\n",
    "\n",
    "# test\n",
    "data.test <- mnistORD[-samp,]"
   ]
  },
  {
   "cell_type": "markdown",
   "metadata": {},
   "source": [
    "## features and targets"
   ]
  },
  {
   "cell_type": "code",
   "execution_count": 111,
   "metadata": {},
   "outputs": [],
   "source": [
    "# features\n",
    "x <- subset(data.test, select = -V1)\n",
    "\n",
    "# targets\n",
    "y <- subset(data.test, select = V1)"
   ]
  },
  {
   "cell_type": "markdown",
   "metadata": {},
   "source": [
    "## Machine Learning with randomForest"
   ]
  },
  {
   "cell_type": "code",
   "execution_count": 112,
   "metadata": {},
   "outputs": [],
   "source": [
    "# install.packages(\"randomForest\")"
   ]
  },
  {
   "cell_type": "code",
   "execution_count": 113,
   "metadata": {},
   "outputs": [],
   "source": [
    "library(\"randomForest\")"
   ]
  },
  {
   "cell_type": "code",
   "execution_count": 114,
   "metadata": {},
   "outputs": [],
   "source": [
    "# train a model\n",
    "rf <- randomForest(V1 ~ ., data = data.train, ntree = 100)"
   ]
  },
  {
   "cell_type": "code",
   "execution_count": 115,
   "metadata": {},
   "outputs": [
    {
     "data": {
      "text/html": [
       "<dl class=dl-horizontal>\n",
       "\t<dt>5</dt>\n",
       "\t\t<dd>0</dd>\n",
       "\t<dt>7</dt>\n",
       "\t\t<dd>0</dd>\n",
       "\t<dt>9</dt>\n",
       "\t\t<dd>0</dd>\n",
       "\t<dt>12</dt>\n",
       "\t\t<dd>0</dd>\n",
       "\t<dt>13</dt>\n",
       "\t\t<dd>0</dd>\n",
       "\t<dt>25</dt>\n",
       "\t\t<dd>0</dd>\n",
       "</dl>\n",
       "\n",
       "<details>\n",
       "\t<summary style=display:list-item;cursor:pointer>\n",
       "\t\t<strong>Levels</strong>:\n",
       "\t</summary>\n",
       "\t<ol class=list-inline>\n",
       "\t\t<li>'0'</li>\n",
       "\t\t<li>'1'</li>\n",
       "\t\t<li>'2'</li>\n",
       "\t\t<li>'3'</li>\n",
       "\t\t<li>'4'</li>\n",
       "\t\t<li>'5'</li>\n",
       "\t\t<li>'6'</li>\n",
       "\t\t<li>'7'</li>\n",
       "\t\t<li>'8'</li>\n",
       "\t\t<li>'9'</li>\n",
       "\t</ol>\n",
       "</details>"
      ],
      "text/latex": [
       "\\begin{description*}\n",
       "\\item[5] 0\n",
       "\\item[7] 0\n",
       "\\item[9] 0\n",
       "\\item[12] 0\n",
       "\\item[13] 0\n",
       "\\item[25] 0\n",
       "\\end{description*}\n",
       "\n",
       "\\emph{Levels}: \\begin{enumerate*}\n",
       "\\item '0'\n",
       "\\item '1'\n",
       "\\item '2'\n",
       "\\item '3'\n",
       "\\item '4'\n",
       "\\item '5'\n",
       "\\item '6'\n",
       "\\item '7'\n",
       "\\item '8'\n",
       "\\item '9'\n",
       "\\end{enumerate*}\n"
      ],
      "text/markdown": [
       "5\n",
       ":   07\n",
       ":   09\n",
       ":   012\n",
       ":   013\n",
       ":   025\n",
       ":   0\n",
       "\n",
       "\n",
       "**Levels**: 1. '0'\n",
       "2. '1'\n",
       "3. '2'\n",
       "4. '3'\n",
       "5. '4'\n",
       "6. '5'\n",
       "7. '6'\n",
       "8. '7'\n",
       "9. '8'\n",
       "10. '9'\n",
       "\n",
       "\n"
      ],
      "text/plain": [
       " 5  7  9 12 13 25 \n",
       " 0  0  0  0  0  0 \n",
       "Levels: 0 1 2 3 4 5 6 7 8 9"
      ]
     },
     "metadata": {},
     "output_type": "display_data"
    }
   ],
   "source": [
    "# compute predictions\n",
    "pred <- predict(rf, x)\n",
    "head(pred)"
   ]
  },
  {
   "cell_type": "code",
   "execution_count": 116,
   "metadata": {},
   "outputs": [
    {
     "data": {
      "text/plain": [
       "    \n",
       "pred  0  1  2  3  4  5  6  7  8  9\n",
       "   0 28  0  1  1  0  1  1  0  0  0\n",
       "   1  0 31  4  1  0  0  1  2  0  0\n",
       "   2  0  0 22  0  1  0  0  1  0  1\n",
       "   3  0  0  0 26  0  0  0  0  1  1\n",
       "   4  0  0  0  0 33  0  1  1  0  0\n",
       "   5  0  1  0  4  1 20  0  0  0  1\n",
       "   6  0  0  0  1  2  2 26  0  1  0\n",
       "   7  0  0  2  0  0  0  0 28  0  3\n",
       "   8  0  0  0  1  0  0  0  0 19  0\n",
       "   9  0  0  0  0  1  0  0  2  1 23"
      ]
     },
     "metadata": {},
     "output_type": "display_data"
    }
   ],
   "source": [
    "# classified table\n",
    "\n",
    "table(pred, data.test$V1)"
   ]
  },
  {
   "cell_type": "code",
   "execution_count": 117,
   "metadata": {},
   "outputs": [
    {
     "data": {
      "text/html": [
       "0.859060402684564"
      ],
      "text/latex": [
       "0.859060402684564"
      ],
      "text/markdown": [
       "0.859060402684564"
      ],
      "text/plain": [
       "[1] 0.8590604"
      ]
     },
     "metadata": {},
     "output_type": "display_data"
    },
    {
     "name": "stdout",
     "output_type": "stream",
     "text": [
      "randomForest Accuracy with 1K : 85.91 %"
     ]
    }
   ],
   "source": [
    "mean(pred == data.test$V1)\n",
    "\n",
    "cat(paste(\"randomForest Accuracy with 1K :\", round(mean(pred == data.test$V1)*100, 2), \"%\"))"
   ]
  },
  {
   "cell_type": "code",
   "execution_count": null,
   "metadata": {},
   "outputs": [],
   "source": []
  },
  {
   "cell_type": "markdown",
   "metadata": {},
   "source": [
    "# re-run with 10K data"
   ]
  },
  {
   "cell_type": "code",
   "execution_count": 138,
   "metadata": {
    "scrolled": false
   },
   "outputs": [
    {
     "data": {
      "text/html": [
       "1001"
      ],
      "text/latex": [
       "1001"
      ],
      "text/markdown": [
       "1001"
      ],
      "text/plain": [
       "[1] 1001"
      ]
     },
     "metadata": {},
     "output_type": "display_data"
    },
    {
     "name": "stdout",
     "output_type": "stream",
     "text": [
      "0 : 1001 \n",
      "1 : 1127 \n",
      "2 : 991 \n",
      "3 : 1032 \n",
      "4 : 980 \n",
      "5 : 863 \n",
      "6 : 1014 \n",
      "7 : 1070 \n",
      "8 : 944 \n",
      "9 : 978 \n"
     ]
    },
    {
     "data": {
      "text/plain": [
       "    \n",
       "pred   0   1   2   3   4   5   6   7   8   9\n",
       "   0 277   0   2   1   1   4   1   2   2   7\n",
       "   1   0 333   1   2   1   0   2   2   4   2\n",
       "   2   0   4 269   4   0   0   1   4   5   1\n",
       "   3   0   0   3 270   0  12   0   0   4   7\n",
       "   4   1   0   3   1 275   0   2   3   2   3\n",
       "   5   0   0   0   7   0 256   3   0   1   0\n",
       "   6   2   0   1   0   4   6 314   0   3   0\n",
       "   7   0   0   4   3   0   2   1 274   0   3\n",
       "   8   2   2   6   2   1   0   2   2 273   4\n",
       "   9   2   0   1   5   9   2   0   6   6 271"
      ]
     },
     "metadata": {},
     "output_type": "display_data"
    },
    {
     "data": {
      "text/html": [
       "0.937958639092728"
      ],
      "text/latex": [
       "0.937958639092728"
      ],
      "text/markdown": [
       "0.937958639092728"
      ],
      "text/plain": [
       "[1] 0.9379586"
      ]
     },
     "metadata": {},
     "output_type": "display_data"
    },
    {
     "name": "stdout",
     "output_type": "stream",
     "text": [
      "randomForest Accuracy with 10K : 93.8 %"
     ]
    }
   ],
   "source": [
    "mnist <- read.csv(\"./Data/train_10k.csv\", header = F)\n",
    "\n",
    "mnistORD <- mnist %>%\n",
    "    arrange(V1)\n",
    "\n",
    "## Count numbers\n",
    "\n",
    "nrow(subset(mnistORD, V1 == 0))\n",
    "\n",
    "for(i in 0:9){\n",
    "    countNum = nrow(subset(mnist, V1 == i))\n",
    "    cat(paste(i, \":\", countNum), \"\\n\")\n",
    "}\n",
    "\n",
    "## Convert target values as factors\n",
    "\n",
    "mnistORD$V1 <- as.factor(mnistORD$V1)\n",
    "\n",
    "# Sampling\n",
    "\n",
    "# install.packages(\"caret\")\n",
    "\n",
    "library(caret)\n",
    "\n",
    "samp <- createDataPartition(mnist$V1, p = 0.7, list = F )\n",
    "\n",
    "# train and test data\n",
    "\n",
    "# train\n",
    "data.train <- mnistORD[samp,]\n",
    "\n",
    "# test\n",
    "data.test <- mnistORD[-samp,]\n",
    "\n",
    "# features and targets\n",
    "\n",
    "# features\n",
    "x <- subset(data.test, select = -V1)\n",
    "\n",
    "# targets\n",
    "y <- subset(data.test, select = V1)\n",
    "\n",
    "# Machine Learning with randomForest\n",
    "\n",
    "# train a model\n",
    "rf <- randomForest(V1 ~ ., data = data.train, ntree = 100)\n",
    "\n",
    "# compute predictions\n",
    "pred <- predict(rf, x)\n",
    "\n",
    "# classified table\n",
    "\n",
    "table(pred, data.test$V1)\n",
    "\n",
    "mean(pred == data.test$V1)\n",
    "\n",
    "cat(paste(\"randomForest Accuracy with 10K :\", round(mean(pred == data.test$V1)*100, 2), \"%\"))"
   ]
  },
  {
   "cell_type": "code",
   "execution_count": 139,
   "metadata": {
    "scrolled": false
   },
   "outputs": [
    {
     "data": {
      "text/html": [
       "1994"
      ],
      "text/latex": [
       "1994"
      ],
      "text/markdown": [
       "1994"
      ],
      "text/plain": [
       "[1] 1994"
      ]
     },
     "metadata": {},
     "output_type": "display_data"
    },
    {
     "name": "stdout",
     "output_type": "stream",
     "text": [
      "0 : 1994 \n",
      "1 : 2281 \n",
      "2 : 1929 \n",
      "3 : 2076 \n",
      "4 : 1945 \n",
      "5 : 1776 \n",
      "6 : 1971 \n",
      "7 : 2093 \n",
      "8 : 1922 \n",
      "9 : 2014 \n"
     ]
    },
    {
     "data": {
      "text/plain": [
       "    \n",
       "pred   0   1   2   3   4   5   6   7   8   9\n",
       "   0 582   0   3   2   0   1   5   0   1   5\n",
       "   1   0 675   4   1   1   1   2   2   5   1\n",
       "   2   0   1 537  11   4   0   1   9   4   2\n",
       "   3   0   2   2 551   0  10   0   0  15   7\n",
       "   4   1   1   6   0 582   1   1   8   3  11\n",
       "   5   1   1   0   6   0 513   4   0   9   1\n",
       "   6   3   1   0   2   6   5 572   0   7   2\n",
       "   7   0   0   3   7   2   0   0 591   1   5\n",
       "   8   3   5   6   8   1   1   0   4 556   4\n",
       "   9   0   1   2   7  10   5   0  10  10 563"
      ]
     },
     "metadata": {},
     "output_type": "display_data"
    },
    {
     "data": {
      "text/html": [
       "0.953825637606268"
      ],
      "text/latex": [
       "0.953825637606268"
      ],
      "text/markdown": [
       "0.953825637606268"
      ],
      "text/plain": [
       "[1] 0.9538256"
      ]
     },
     "metadata": {},
     "output_type": "display_data"
    },
    {
     "name": "stdout",
     "output_type": "stream",
     "text": [
      "randomForest Accuracy with 20K : 95.38 %"
     ]
    }
   ],
   "source": [
    "mnist <- read.csv(\"./Data/train_20k.csv\", header = F)\n",
    "\n",
    "mnistORD <- mnist %>%\n",
    "    arrange(V1)\n",
    "\n",
    "## Count numbers\n",
    "\n",
    "nrow(subset(mnistORD, V1 == 0))\n",
    "\n",
    "for(i in 0:9){\n",
    "    countNum = nrow(subset(mnist, V1 == i))\n",
    "    cat(paste(i, \":\", countNum), \"\\n\")\n",
    "}\n",
    "\n",
    "## Convert target values as factors\n",
    "\n",
    "mnistORD$V1 <- as.factor(mnistORD$V1)\n",
    "\n",
    "# Sampling\n",
    "\n",
    "# install.packages(\"caret\")\n",
    "\n",
    "library(caret)\n",
    "\n",
    "samp <- createDataPartition(mnist$V1, p = 0.7, list = F )\n",
    "\n",
    "# train and test data\n",
    "\n",
    "# train\n",
    "data.train <- mnistORD[samp,]\n",
    "\n",
    "# test\n",
    "data.test <- mnistORD[-samp,]\n",
    "\n",
    "# features and targets\n",
    "\n",
    "# features\n",
    "x <- subset(data.test, select = -V1)\n",
    "\n",
    "# targets\n",
    "y <- subset(data.test, select = V1)\n",
    "\n",
    "# Machine Learning with randomForest\n",
    "\n",
    "# train a model\n",
    "rf <- randomForest(V1 ~ ., data = data.train, ntree = 100)\n",
    "\n",
    "# compute predictions\n",
    "pred <- predict(rf, x)\n",
    "\n",
    "# classified table\n",
    "\n",
    "table(pred, data.test$V1)\n",
    "\n",
    "mean(pred == data.test$V1)\n",
    "\n",
    "cat(paste(\"randomForest Accuracy with 20K :\", round(mean(pred == data.test$V1)*100, 2), \"%\"))"
   ]
  },
  {
   "cell_type": "code",
   "execution_count": 141,
   "metadata": {
    "scrolled": false
   },
   "outputs": [
    {
     "data": {
      "text/html": [
       "5923"
      ],
      "text/latex": [
       "5923"
      ],
      "text/markdown": [
       "5923"
      ],
      "text/plain": [
       "[1] 5923"
      ]
     },
     "metadata": {},
     "output_type": "display_data"
    },
    {
     "name": "stdout",
     "output_type": "stream",
     "text": [
      "0 : 5923 \n",
      "1 : 6742 \n",
      "2 : 5958 \n",
      "3 : 6131 \n",
      "4 : 5842 \n",
      "5 : 5421 \n",
      "6 : 5918 \n",
      "7 : 6265 \n",
      "8 : 5851 \n",
      "9 : 5949 \n"
     ]
    },
    {
     "data": {
      "text/plain": [
       "    \n",
       "pred    0    1    2    3    4    5    6    7    8    9\n",
       "   0 1710    0    7    1    2    3   15    3    0    8\n",
       "   1    0 2030    4    1    3    4    1   15   11    4\n",
       "   2    2   13 1753   30    5    1    1   11   16    3\n",
       "   3    1    1    4 1791    0   15    0    1    6   15\n",
       "   4    1    6    4    2 1693    2    1   12    9   20\n",
       "   5    1    1    3   26    1 1572    8    0   16    5\n",
       "   6    6    0    9    2    5   16 1727    0    8    1\n",
       "   7    0    3    4   12    2    1    0 1793    0   12\n",
       "   8   10    2   19   24    8   10    8    6 1651   13\n",
       "   9    3    1    3    7   27    4    0   25   22 1680"
      ]
     },
     "metadata": {},
     "output_type": "display_data"
    },
    {
     "data": {
      "text/html": [
       "0.966774086009557"
      ],
      "text/latex": [
       "0.966774086009557"
      ],
      "text/markdown": [
       "0.966774086009557"
      ],
      "text/plain": [
       "[1] 0.9667741"
      ]
     },
     "metadata": {},
     "output_type": "display_data"
    },
    {
     "name": "stdout",
     "output_type": "stream",
     "text": [
      "randomForest Accuracy with 60K : 96.68 %"
     ]
    }
   ],
   "source": [
    "mnist <- read.csv(\"./Data/train_60k.csv\", header = F)\n",
    "\n",
    "mnistORD <- mnist %>%\n",
    "    arrange(V1)\n",
    "\n",
    "## Count numbers\n",
    "\n",
    "nrow(subset(mnistORD, V1 == 0))\n",
    "\n",
    "for(i in 0:9){\n",
    "    countNum = nrow(subset(mnist, V1 == i))\n",
    "    cat(paste(i, \":\", countNum), \"\\n\")\n",
    "}\n",
    "\n",
    "## Convert target values as factors\n",
    "\n",
    "mnistORD$V1 <- as.factor(mnistORD$V1)\n",
    "\n",
    "# Sampling\n",
    "\n",
    "# install.packages(\"caret\")\n",
    "\n",
    "library(caret)\n",
    "\n",
    "samp <- createDataPartition(mnist$V1, p = 0.7, list = F )\n",
    "\n",
    "# train and test data\n",
    "\n",
    "# train\n",
    "data.train <- mnistORD[samp,]\n",
    "\n",
    "# test\n",
    "data.test <- mnistORD[-samp,]\n",
    "\n",
    "# features and targets\n",
    "\n",
    "# features\n",
    "x <- subset(data.test, select = -V1)\n",
    "\n",
    "# targets\n",
    "y <- subset(data.test, select = V1)\n",
    "\n",
    "# Machine Learning with randomForest\n",
    "\n",
    "# train a model\n",
    "rf <- randomForest(V1 ~ ., data = data.train, ntree = 100)\n",
    "\n",
    "# compute predictions\n",
    "pred <- predict(rf, x)\n",
    "\n",
    "# classified table\n",
    "\n",
    "table(pred, data.test$V1)\n",
    "\n",
    "mean(pred == data.test$V1)\n",
    "\n",
    "cat(paste(\"randomForest Accuracy with 60K :\", round(mean(pred == data.test$V1)*100, 2), \"%\"))"
   ]
  },
  {
   "cell_type": "code",
   "execution_count": null,
   "metadata": {},
   "outputs": [],
   "source": []
  },
  {
   "cell_type": "markdown",
   "metadata": {},
   "source": [
    "# Save trained model"
   ]
  },
  {
   "cell_type": "code",
   "execution_count": 142,
   "metadata": {},
   "outputs": [],
   "source": [
    "saveRDS(rf, \"./Data/MNISTrandomForest_iris.rds\")"
   ]
  },
  {
   "cell_type": "markdown",
   "metadata": {},
   "source": [
    "# Load the model"
   ]
  },
  {
   "cell_type": "code",
   "execution_count": 143,
   "metadata": {},
   "outputs": [],
   "source": [
    "rf <- readRDS(\"./Data/MNISTrandomForest_iris.rds\")"
   ]
  },
  {
   "cell_type": "code",
   "execution_count": 144,
   "metadata": {},
   "outputs": [
    {
     "data": {
      "text/plain": [
       "    \n",
       "pred    0    1    2    3    4    5    6    7    8    9\n",
       "   0 1710    0    7    1    2    3   15    3    0   10\n",
       "   1    0 2029    5    1    3    4    1   15   12    4\n",
       "   2    2   13 1751   30    5    1    1   11   15    2\n",
       "   3    1    2    4 1792    0   15    0    1    6   16\n",
       "   4    1    6    5    2 1694    2    1   12    9   21\n",
       "   5    1    1    3   25    1 1572    8    0   16    5\n",
       "   6    6    0    9    2    5   16 1727    0    8    1\n",
       "   7    0    3    4   12    2    1    0 1793    0   12\n",
       "   8   10    2   19   24    8   10    8    5 1651   12\n",
       "   9    3    1    3    7   26    4    0   26   22 1678"
      ]
     },
     "metadata": {},
     "output_type": "display_data"
    },
    {
     "data": {
      "text/html": [
       "0.966607400822314"
      ],
      "text/latex": [
       "0.966607400822314"
      ],
      "text/markdown": [
       "0.966607400822314"
      ],
      "text/plain": [
       "[1] 0.9666074"
      ]
     },
     "metadata": {},
     "output_type": "display_data"
    },
    {
     "name": "stdout",
     "output_type": "stream",
     "text": [
      "randomForest Accuracy with 60K : 96.66 %"
     ]
    }
   ],
   "source": [
    "# compute predictions\n",
    "pred <- predict(rf, x)\n",
    "\n",
    "# classified table\n",
    "\n",
    "table(pred, data.test$V1)\n",
    "\n",
    "mean(pred == data.test$V1)\n",
    "\n",
    "cat(paste(\"randomForest Accuracy with 60K :\", round(mean(pred == data.test$V1)*100, 2), \"%\"))"
   ]
  },
  {
   "cell_type": "code",
   "execution_count": null,
   "metadata": {},
   "outputs": [],
   "source": []
  }
 ],
 "metadata": {
  "kernelspec": {
   "display_name": "R",
   "language": "R",
   "name": "ir"
  },
  "language_info": {
   "codemirror_mode": "r",
   "file_extension": ".r",
   "mimetype": "text/x-r-source",
   "name": "R",
   "pygments_lexer": "r",
   "version": "3.6.1"
  },
  "toc": {
   "base_numbering": 1,
   "nav_menu": {},
   "number_sections": true,
   "sideBar": true,
   "skip_h1_title": false,
   "title_cell": "Table of Contents",
   "title_sidebar": "Contents",
   "toc_cell": false,
   "toc_position": {
    "height": "calc(100% - 180px)",
    "left": "10px",
    "top": "150px",
    "width": "173.797px"
   },
   "toc_section_display": true,
   "toc_window_display": true
  }
 },
 "nbformat": 4,
 "nbformat_minor": 2
}
