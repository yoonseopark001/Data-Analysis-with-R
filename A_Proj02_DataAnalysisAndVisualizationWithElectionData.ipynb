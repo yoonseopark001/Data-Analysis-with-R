{
 "cells": [
  {
   "cell_type": "markdown",
   "metadata": {},
   "source": [
    "the 19th presidential election data"
   ]
  },
  {
   "cell_type": "markdown",
   "metadata": {},
   "source": [
    "# Load Data"
   ]
  },
  {
   "cell_type": "markdown",
   "metadata": {},
   "source": [
    "- pop: actual voters"
   ]
  },
  {
   "cell_type": "code",
   "execution_count": 1,
   "metadata": {},
   "outputs": [],
   "source": [
    "election <- read.csv(\"./Data/election19th.csv\", \n",
    "                     fileEncoding = \"CP949\", encoding = \"UTF-8\")"
   ]
  },
  {
   "cell_type": "code",
   "execution_count": 2,
   "metadata": {},
   "outputs": [
    {
     "data": {
      "text/html": [
       "<table>\n",
       "<caption>A data.frame: 6 × 7</caption>\n",
       "<thead>\n",
       "\t<tr><th></th><th scope=col>X</th><th scope=col>광역시도</th><th scope=col>시군</th><th scope=col>pop</th><th scope=col>moon</th><th scope=col>hong</th><th scope=col>ahn</th></tr>\n",
       "\t<tr><th></th><th scope=col>&lt;int&gt;</th><th scope=col>&lt;fct&gt;</th><th scope=col>&lt;fct&gt;</th><th scope=col>&lt;int&gt;</th><th scope=col>&lt;int&gt;</th><th scope=col>&lt;int&gt;</th><th scope=col>&lt;int&gt;</th></tr>\n",
       "</thead>\n",
       "<tbody>\n",
       "\t<tr><th scope=row>1</th><td>0</td><td>서울특별시</td><td>종로구  </td><td>102566</td><td> 42512</td><td>22325</td><td>22313</td></tr>\n",
       "\t<tr><th scope=row>2</th><td>1</td><td>서울특별시</td><td>중구    </td><td> 82852</td><td> 34062</td><td>17901</td><td>19372</td></tr>\n",
       "\t<tr><th scope=row>3</th><td>2</td><td>서울특별시</td><td>용산구  </td><td>148157</td><td> 58081</td><td>35230</td><td>32109</td></tr>\n",
       "\t<tr><th scope=row>4</th><td>3</td><td>서울특별시</td><td>성동구  </td><td>203175</td><td> 86686</td><td>40566</td><td>45674</td></tr>\n",
       "\t<tr><th scope=row>5</th><td>4</td><td>서울특별시</td><td>광진구  </td><td>240030</td><td>105512</td><td>46368</td><td>52824</td></tr>\n",
       "\t<tr><th scope=row>6</th><td>5</td><td>서울특별시</td><td>동대문구</td><td>236092</td><td> 98958</td><td>51631</td><td>53359</td></tr>\n",
       "</tbody>\n",
       "</table>\n"
      ],
      "text/latex": [
       "A data.frame: 6 × 7\n",
       "\\begin{tabular}{r|lllllll}\n",
       "  & X & 광역시도 & 시군 & pop & moon & hong & ahn\\\\\n",
       "  & <int> & <fct> & <fct> & <int> & <int> & <int> & <int>\\\\\n",
       "\\hline\n",
       "\t1 & 0 & 서울특별시 & 종로구   & 102566 &  42512 & 22325 & 22313\\\\\n",
       "\t2 & 1 & 서울특별시 & 중구     &  82852 &  34062 & 17901 & 19372\\\\\n",
       "\t3 & 2 & 서울특별시 & 용산구   & 148157 &  58081 & 35230 & 32109\\\\\n",
       "\t4 & 3 & 서울특별시 & 성동구   & 203175 &  86686 & 40566 & 45674\\\\\n",
       "\t5 & 4 & 서울특별시 & 광진구   & 240030 & 105512 & 46368 & 52824\\\\\n",
       "\t6 & 5 & 서울특별시 & 동대문구 & 236092 &  98958 & 51631 & 53359\\\\\n",
       "\\end{tabular}\n"
      ],
      "text/markdown": [
       "\n",
       "A data.frame: 6 × 7\n",
       "\n",
       "| <!--/--> | X &lt;int&gt; | 광역시도 &lt;fct&gt; | 시군 &lt;fct&gt; | pop &lt;int&gt; | moon &lt;int&gt; | hong &lt;int&gt; | ahn &lt;int&gt; |\n",
       "|---|---|---|---|---|---|---|---|\n",
       "| 1 | 0 | 서울특별시 | 종로구   | 102566 |  42512 | 22325 | 22313 |\n",
       "| 2 | 1 | 서울특별시 | 중구     |  82852 |  34062 | 17901 | 19372 |\n",
       "| 3 | 2 | 서울특별시 | 용산구   | 148157 |  58081 | 35230 | 32109 |\n",
       "| 4 | 3 | 서울특별시 | 성동구   | 203175 |  86686 | 40566 | 45674 |\n",
       "| 5 | 4 | 서울특별시 | 광진구   | 240030 | 105512 | 46368 | 52824 |\n",
       "| 6 | 5 | 서울특별시 | 동대문구 | 236092 |  98958 | 51631 | 53359 |\n",
       "\n"
      ],
      "text/plain": [
       "  X 광역시도   시군     pop    moon   hong  ahn  \n",
       "1 0 서울특별시 종로구   102566  42512 22325 22313\n",
       "2 1 서울특별시 중구      82852  34062 17901 19372\n",
       "3 2 서울특별시 용산구   148157  58081 35230 32109\n",
       "4 3 서울특별시 성동구   203175  86686 40566 45674\n",
       "5 4 서울특별시 광진구   240030 105512 46368 52824\n",
       "6 5 서울특별시 동대문구 236092  98958 51631 53359"
      ]
     },
     "metadata": {},
     "output_type": "display_data"
    },
    {
     "data": {
      "text/html": [
       "<table>\n",
       "<caption>A data.frame: 6 × 7</caption>\n",
       "<thead>\n",
       "\t<tr><th></th><th scope=col>X</th><th scope=col>광역시도</th><th scope=col>시군</th><th scope=col>pop</th><th scope=col>moon</th><th scope=col>hong</th><th scope=col>ahn</th></tr>\n",
       "\t<tr><th></th><th scope=col>&lt;int&gt;</th><th scope=col>&lt;fct&gt;</th><th scope=col>&lt;fct&gt;</th><th scope=col>&lt;int&gt;</th><th scope=col>&lt;int&gt;</th><th scope=col>&lt;int&gt;</th><th scope=col>&lt;int&gt;</th></tr>\n",
       "</thead>\n",
       "<tbody>\n",
       "\t<tr><th scope=row>245</th><td>244</td><td>경상남도      </td><td>함양군  </td><td> 26640</td><td>  7388</td><td>13008</td><td> 3203</td></tr>\n",
       "\t<tr><th scope=row>246</th><td>245</td><td>경상남도      </td><td>산청군  </td><td> 24513</td><td>  6561</td><td>12544</td><td> 2753</td></tr>\n",
       "\t<tr><th scope=row>247</th><td>246</td><td>경상남도      </td><td>거창군  </td><td> 41325</td><td> 11256</td><td>19976</td><td> 4923</td></tr>\n",
       "\t<tr><th scope=row>248</th><td>247</td><td>경상남도      </td><td>합천군  </td><td> 33021</td><td>  7143</td><td>19699</td><td> 3077</td></tr>\n",
       "\t<tr><th scope=row>249</th><td>248</td><td>제주특별자치도</td><td>제주시  </td><td>273163</td><td>125717</td><td>48027</td><td>55971</td></tr>\n",
       "\t<tr><th scope=row>250</th><td>249</td><td>제주특별자치도</td><td>서귀포시</td><td>101296</td><td> 43776</td><td>20036</td><td>21890</td></tr>\n",
       "</tbody>\n",
       "</table>\n"
      ],
      "text/latex": [
       "A data.frame: 6 × 7\n",
       "\\begin{tabular}{r|lllllll}\n",
       "  & X & 광역시도 & 시군 & pop & moon & hong & ahn\\\\\n",
       "  & <int> & <fct> & <fct> & <int> & <int> & <int> & <int>\\\\\n",
       "\\hline\n",
       "\t245 & 244 & 경상남도       & 함양군   &  26640 &   7388 & 13008 &  3203\\\\\n",
       "\t246 & 245 & 경상남도       & 산청군   &  24513 &   6561 & 12544 &  2753\\\\\n",
       "\t247 & 246 & 경상남도       & 거창군   &  41325 &  11256 & 19976 &  4923\\\\\n",
       "\t248 & 247 & 경상남도       & 합천군   &  33021 &   7143 & 19699 &  3077\\\\\n",
       "\t249 & 248 & 제주특별자치도 & 제주시   & 273163 & 125717 & 48027 & 55971\\\\\n",
       "\t250 & 249 & 제주특별자치도 & 서귀포시 & 101296 &  43776 & 20036 & 21890\\\\\n",
       "\\end{tabular}\n"
      ],
      "text/markdown": [
       "\n",
       "A data.frame: 6 × 7\n",
       "\n",
       "| <!--/--> | X &lt;int&gt; | 광역시도 &lt;fct&gt; | 시군 &lt;fct&gt; | pop &lt;int&gt; | moon &lt;int&gt; | hong &lt;int&gt; | ahn &lt;int&gt; |\n",
       "|---|---|---|---|---|---|---|---|\n",
       "| 245 | 244 | 경상남도       | 함양군   |  26640 |   7388 | 13008 |  3203 |\n",
       "| 246 | 245 | 경상남도       | 산청군   |  24513 |   6561 | 12544 |  2753 |\n",
       "| 247 | 246 | 경상남도       | 거창군   |  41325 |  11256 | 19976 |  4923 |\n",
       "| 248 | 247 | 경상남도       | 합천군   |  33021 |   7143 | 19699 |  3077 |\n",
       "| 249 | 248 | 제주특별자치도 | 제주시   | 273163 | 125717 | 48027 | 55971 |\n",
       "| 250 | 249 | 제주특별자치도 | 서귀포시 | 101296 |  43776 | 20036 | 21890 |\n",
       "\n"
      ],
      "text/plain": [
       "    X   광역시도       시군     pop    moon   hong  ahn  \n",
       "245 244 경상남도       함양군    26640   7388 13008  3203\n",
       "246 245 경상남도       산청군    24513   6561 12544  2753\n",
       "247 246 경상남도       거창군    41325  11256 19976  4923\n",
       "248 247 경상남도       합천군    33021   7143 19699  3077\n",
       "249 248 제주특별자치도 제주시   273163 125717 48027 55971\n",
       "250 249 제주특별자치도 서귀포시 101296  43776 20036 21890"
      ]
     },
     "metadata": {},
     "output_type": "display_data"
    }
   ],
   "source": [
    "head(election)\n",
    "tail(election)"
   ]
  },
  {
   "cell_type": "markdown",
   "metadata": {},
   "source": [
    "# EDA"
   ]
  },
  {
   "cell_type": "code",
   "execution_count": 3,
   "metadata": {},
   "outputs": [
    {
     "data": {
      "text/html": [
       "'data.frame'"
      ],
      "text/latex": [
       "'data.frame'"
      ],
      "text/markdown": [
       "'data.frame'"
      ],
      "text/plain": [
       "[1] \"data.frame\""
      ]
     },
     "metadata": {},
     "output_type": "display_data"
    }
   ],
   "source": [
    "class(election)"
   ]
  },
  {
   "cell_type": "code",
   "execution_count": 4,
   "metadata": {},
   "outputs": [
    {
     "name": "stdout",
     "output_type": "stream",
     "text": [
      "'data.frame':\t250 obs. of  7 variables:\n",
      " $ X       : int  0 1 2 3 4 5 6 7 8 9 ...\n",
      " $ 광역시도: Factor w/ 17 levels \"강원도\",\"경기도\",..: 9 9 9 9 9 9 9 9 9 9 ...\n",
      " $ 시군    : Factor w/ 227 levels \"가평군\",\"강남구\",..: 178 179 150 99 30 63 180 100 5 61 ...\n",
      " $ pop     : int  102566 82852 148157 203175 240030 236092 265706 295866 210614 229233 ...\n",
      " $ moon    : int  42512 34062 58081 86686 105512 98958 111450 129263 89645 94898 ...\n",
      " $ hong    : int  22325 17901 35230 40566 46368 51631 56545 57584 42268 47461 ...\n",
      " $ ahn     : int  22313 19372 32109 45674 52824 53359 62778 66518 51669 55600 ...\n"
     ]
    }
   ],
   "source": [
    "str(election)"
   ]
  },
  {
   "cell_type": "code",
   "execution_count": 5,
   "metadata": {
    "scrolled": false
   },
   "outputs": [
    {
     "data": {
      "text/plain": [
       "       X                광역시도       시군          pop        \n",
       " Min.   :  0.00   경기도    :42   동구   :  6   Min.   :  6810  \n",
       " 1st Qu.: 62.25   서울특별시:25   중구   :  6   1st Qu.: 38779  \n",
       " Median :124.50   경상북도  :24   남구   :  5   Median :108206  \n",
       " Mean   :124.50   경상남도  :22   서구   :  5   Mean   :131232  \n",
       " 3rd Qu.:186.75   전라남도  :22   북구   :  4   3rd Qu.:204097  \n",
       " Max.   :249.00   강원도    :18   강서구 :  2   Max.   :543777  \n",
       "                  (Other)   :97   (Other):222                   \n",
       "      moon             hong             ahn        \n",
       " Min.   :  1443   Min.   :   471   Min.   :   973  \n",
       " 1st Qu.: 13507   1st Qu.:  9640   1st Qu.:  9110  \n",
       " Median : 41153   Median : 26236   Median : 21219  \n",
       " Mean   : 53695   Mean   : 31411   Mean   : 27993  \n",
       " 3rd Qu.: 83561   3rd Qu.: 46545   3rd Qu.: 43610  \n",
       " Max.   :239697   Max.   :165781   Max.   :128297  \n",
       "                                                   "
      ]
     },
     "metadata": {},
     "output_type": "display_data"
    }
   ],
   "source": [
    "summary(election)"
   ]
  },
  {
   "cell_type": "markdown",
   "metadata": {},
   "source": [
    "## Calculate the numbers of voters by Province"
   ]
  },
  {
   "cell_type": "markdown",
   "metadata": {},
   "source": [
    "### aggregate data in terms of Province (광역시도)"
   ]
  },
  {
   "cell_type": "code",
   "execution_count": 6,
   "metadata": {},
   "outputs": [
    {
     "data": {
      "text/html": [
       "<table>\n",
       "<caption>A data.frame: 6 × 2</caption>\n",
       "<thead>\n",
       "\t<tr><th></th><th scope=col>광역시도</th><th scope=col>pop</th></tr>\n",
       "\t<tr><th></th><th scope=col>&lt;fct&gt;</th><th scope=col>&lt;int&gt;</th></tr>\n",
       "</thead>\n",
       "<tbody>\n",
       "\t<tr><th scope=row>1</th><td>강원도    </td><td> 955885</td></tr>\n",
       "\t<tr><th scope=row>2</th><td>경기도    </td><td>7916009</td></tr>\n",
       "\t<tr><th scope=row>3</th><td>경상남도  </td><td>2135055</td></tr>\n",
       "\t<tr><th scope=row>4</th><td>경상북도  </td><td>1711627</td></tr>\n",
       "\t<tr><th scope=row>5</th><td>광주광역시</td><td> 957321</td></tr>\n",
       "\t<tr><th scope=row>6</th><td>대구광역시</td><td>1581347</td></tr>\n",
       "</tbody>\n",
       "</table>\n"
      ],
      "text/latex": [
       "A data.frame: 6 × 2\n",
       "\\begin{tabular}{r|ll}\n",
       "  & 광역시도 & pop\\\\\n",
       "  & <fct> & <int>\\\\\n",
       "\\hline\n",
       "\t1 & 강원도     &  955885\\\\\n",
       "\t2 & 경기도     & 7916009\\\\\n",
       "\t3 & 경상남도   & 2135055\\\\\n",
       "\t4 & 경상북도   & 1711627\\\\\n",
       "\t5 & 광주광역시 &  957321\\\\\n",
       "\t6 & 대구광역시 & 1581347\\\\\n",
       "\\end{tabular}\n"
      ],
      "text/markdown": [
       "\n",
       "A data.frame: 6 × 2\n",
       "\n",
       "| <!--/--> | 광역시도 &lt;fct&gt; | pop &lt;int&gt; |\n",
       "|---|---|---|\n",
       "| 1 | 강원도     |  955885 |\n",
       "| 2 | 경기도     | 7916009 |\n",
       "| 3 | 경상남도   | 2135055 |\n",
       "| 4 | 경상북도   | 1711627 |\n",
       "| 5 | 광주광역시 |  957321 |\n",
       "| 6 | 대구광역시 | 1581347 |\n",
       "\n"
      ],
      "text/plain": [
       "  광역시도   pop    \n",
       "1 강원도      955885\n",
       "2 경기도     7916009\n",
       "3 경상남도   2135055\n",
       "4 경상북도   1711627\n",
       "5 광주광역시  957321\n",
       "6 대구광역시 1581347"
      ]
     },
     "metadata": {},
     "output_type": "display_data"
    }
   ],
   "source": [
    "provinceSum <- aggregate(pop ~광역시도, election, sum) # pivot table in R\n",
    "head(provinceSum)"
   ]
  },
  {
   "cell_type": "markdown",
   "metadata": {},
   "source": [
    "### Descending order by population"
   ]
  },
  {
   "cell_type": "code",
   "execution_count": 7,
   "metadata": {},
   "outputs": [],
   "source": [
    "library(doBy)"
   ]
  },
  {
   "cell_type": "code",
   "execution_count": 8,
   "metadata": {},
   "outputs": [
    {
     "data": {
      "text/html": [
       "<table>\n",
       "<caption>A data.frame: 17 × 2</caption>\n",
       "<thead>\n",
       "\t<tr><th scope=col>광역시도</th><th scope=col>pop</th></tr>\n",
       "\t<tr><th scope=col>&lt;fct&gt;</th><th scope=col>&lt;int&gt;</th></tr>\n",
       "</thead>\n",
       "<tbody>\n",
       "\t<tr><td>경기도        </td><td>7916009</td></tr>\n",
       "\t<tr><td>서울특별시    </td><td>6590646</td></tr>\n",
       "\t<tr><td>부산광역시    </td><td>2261633</td></tr>\n",
       "\t<tr><td>경상남도      </td><td>2135055</td></tr>\n",
       "\t<tr><td>인천광역시    </td><td>1820091</td></tr>\n",
       "\t<tr><td>경상북도      </td><td>1711627</td></tr>\n",
       "\t<tr><td>대구광역시    </td><td>1581347</td></tr>\n",
       "\t<tr><td>충청남도      </td><td>1240204</td></tr>\n",
       "\t<tr><td>전라남도      </td><td>1238738</td></tr>\n",
       "\t<tr><td>전라북도      </td><td>1205794</td></tr>\n",
       "\t<tr><td>충청북도      </td><td> 975441</td></tr>\n",
       "\t<tr><td>광주광역시    </td><td> 957321</td></tr>\n",
       "\t<tr><td>강원도        </td><td> 955885</td></tr>\n",
       "\t<tr><td>대전광역시    </td><td> 945897</td></tr>\n",
       "\t<tr><td>울산광역시    </td><td> 744960</td></tr>\n",
       "\t<tr><td>제주특별자치도</td><td> 374459</td></tr>\n",
       "\t<tr><td>세종특별자치시</td><td> 152801</td></tr>\n",
       "</tbody>\n",
       "</table>\n"
      ],
      "text/latex": [
       "A data.frame: 17 × 2\n",
       "\\begin{tabular}{ll}\n",
       " 광역시도 & pop\\\\\n",
       " <fct> & <int>\\\\\n",
       "\\hline\n",
       "\t 경기도         & 7916009\\\\\n",
       "\t 서울특별시     & 6590646\\\\\n",
       "\t 부산광역시     & 2261633\\\\\n",
       "\t 경상남도       & 2135055\\\\\n",
       "\t 인천광역시     & 1820091\\\\\n",
       "\t 경상북도       & 1711627\\\\\n",
       "\t 대구광역시     & 1581347\\\\\n",
       "\t 충청남도       & 1240204\\\\\n",
       "\t 전라남도       & 1238738\\\\\n",
       "\t 전라북도       & 1205794\\\\\n",
       "\t 충청북도       &  975441\\\\\n",
       "\t 광주광역시     &  957321\\\\\n",
       "\t 강원도         &  955885\\\\\n",
       "\t 대전광역시     &  945897\\\\\n",
       "\t 울산광역시     &  744960\\\\\n",
       "\t 제주특별자치도 &  374459\\\\\n",
       "\t 세종특별자치시 &  152801\\\\\n",
       "\\end{tabular}\n"
      ],
      "text/markdown": [
       "\n",
       "A data.frame: 17 × 2\n",
       "\n",
       "| 광역시도 &lt;fct&gt; | pop &lt;int&gt; |\n",
       "|---|---|\n",
       "| 경기도         | 7916009 |\n",
       "| 서울특별시     | 6590646 |\n",
       "| 부산광역시     | 2261633 |\n",
       "| 경상남도       | 2135055 |\n",
       "| 인천광역시     | 1820091 |\n",
       "| 경상북도       | 1711627 |\n",
       "| 대구광역시     | 1581347 |\n",
       "| 충청남도       | 1240204 |\n",
       "| 전라남도       | 1238738 |\n",
       "| 전라북도       | 1205794 |\n",
       "| 충청북도       |  975441 |\n",
       "| 광주광역시     |  957321 |\n",
       "| 강원도         |  955885 |\n",
       "| 대전광역시     |  945897 |\n",
       "| 울산광역시     |  744960 |\n",
       "| 제주특별자치도 |  374459 |\n",
       "| 세종특별자치시 |  152801 |\n",
       "\n"
      ],
      "text/plain": [
       "   광역시도       pop    \n",
       "1  경기도         7916009\n",
       "2  서울특별시     6590646\n",
       "3  부산광역시     2261633\n",
       "4  경상남도       2135055\n",
       "5  인천광역시     1820091\n",
       "6  경상북도       1711627\n",
       "7  대구광역시     1581347\n",
       "8  충청남도       1240204\n",
       "9  전라남도       1238738\n",
       "10 전라북도       1205794\n",
       "11 충청북도        975441\n",
       "12 광주광역시      957321\n",
       "13 강원도          955885\n",
       "14 대전광역시      945897\n",
       "15 울산광역시      744960\n",
       "16 제주특별자치도  374459\n",
       "17 세종특별자치시  152801"
      ]
     },
     "metadata": {},
     "output_type": "display_data"
    }
   ],
   "source": [
    "# order by population in descending order\n",
    "provinceSum_ord <- orderBy(~-pop, provinceSum)\n",
    "\n",
    "# reset rownames\n",
    "rownames(provinceSum_ord) <- c()\n",
    "provinceSum_ord"
   ]
  },
  {
   "cell_type": "markdown",
   "metadata": {},
   "source": [
    "## add sum of three candidates (moon, hong, ahn) and the sum of the other candidates"
   ]
  },
  {
   "cell_type": "markdown",
   "metadata": {},
   "source": [
    "### add sum of three candidates"
   ]
  },
  {
   "cell_type": "code",
   "execution_count": 9,
   "metadata": {},
   "outputs": [
    {
     "data": {
      "text/html": [
       "<table>\n",
       "<caption>A data.frame: 6 × 7</caption>\n",
       "<thead>\n",
       "\t<tr><th></th><th scope=col>X</th><th scope=col>광역시도</th><th scope=col>시군</th><th scope=col>pop</th><th scope=col>moon</th><th scope=col>hong</th><th scope=col>ahn</th></tr>\n",
       "\t<tr><th></th><th scope=col>&lt;int&gt;</th><th scope=col>&lt;fct&gt;</th><th scope=col>&lt;fct&gt;</th><th scope=col>&lt;int&gt;</th><th scope=col>&lt;int&gt;</th><th scope=col>&lt;int&gt;</th><th scope=col>&lt;int&gt;</th></tr>\n",
       "</thead>\n",
       "<tbody>\n",
       "\t<tr><th scope=row>1</th><td>0</td><td>서울특별시</td><td>종로구  </td><td>102566</td><td> 42512</td><td>22325</td><td>22313</td></tr>\n",
       "\t<tr><th scope=row>2</th><td>1</td><td>서울특별시</td><td>중구    </td><td> 82852</td><td> 34062</td><td>17901</td><td>19372</td></tr>\n",
       "\t<tr><th scope=row>3</th><td>2</td><td>서울특별시</td><td>용산구  </td><td>148157</td><td> 58081</td><td>35230</td><td>32109</td></tr>\n",
       "\t<tr><th scope=row>4</th><td>3</td><td>서울특별시</td><td>성동구  </td><td>203175</td><td> 86686</td><td>40566</td><td>45674</td></tr>\n",
       "\t<tr><th scope=row>5</th><td>4</td><td>서울특별시</td><td>광진구  </td><td>240030</td><td>105512</td><td>46368</td><td>52824</td></tr>\n",
       "\t<tr><th scope=row>6</th><td>5</td><td>서울특별시</td><td>동대문구</td><td>236092</td><td> 98958</td><td>51631</td><td>53359</td></tr>\n",
       "</tbody>\n",
       "</table>\n"
      ],
      "text/latex": [
       "A data.frame: 6 × 7\n",
       "\\begin{tabular}{r|lllllll}\n",
       "  & X & 광역시도 & 시군 & pop & moon & hong & ahn\\\\\n",
       "  & <int> & <fct> & <fct> & <int> & <int> & <int> & <int>\\\\\n",
       "\\hline\n",
       "\t1 & 0 & 서울특별시 & 종로구   & 102566 &  42512 & 22325 & 22313\\\\\n",
       "\t2 & 1 & 서울특별시 & 중구     &  82852 &  34062 & 17901 & 19372\\\\\n",
       "\t3 & 2 & 서울특별시 & 용산구   & 148157 &  58081 & 35230 & 32109\\\\\n",
       "\t4 & 3 & 서울특별시 & 성동구   & 203175 &  86686 & 40566 & 45674\\\\\n",
       "\t5 & 4 & 서울특별시 & 광진구   & 240030 & 105512 & 46368 & 52824\\\\\n",
       "\t6 & 5 & 서울특별시 & 동대문구 & 236092 &  98958 & 51631 & 53359\\\\\n",
       "\\end{tabular}\n"
      ],
      "text/markdown": [
       "\n",
       "A data.frame: 6 × 7\n",
       "\n",
       "| <!--/--> | X &lt;int&gt; | 광역시도 &lt;fct&gt; | 시군 &lt;fct&gt; | pop &lt;int&gt; | moon &lt;int&gt; | hong &lt;int&gt; | ahn &lt;int&gt; |\n",
       "|---|---|---|---|---|---|---|---|\n",
       "| 1 | 0 | 서울특별시 | 종로구   | 102566 |  42512 | 22325 | 22313 |\n",
       "| 2 | 1 | 서울특별시 | 중구     |  82852 |  34062 | 17901 | 19372 |\n",
       "| 3 | 2 | 서울특별시 | 용산구   | 148157 |  58081 | 35230 | 32109 |\n",
       "| 4 | 3 | 서울특별시 | 성동구   | 203175 |  86686 | 40566 | 45674 |\n",
       "| 5 | 4 | 서울특별시 | 광진구   | 240030 | 105512 | 46368 | 52824 |\n",
       "| 6 | 5 | 서울특별시 | 동대문구 | 236092 |  98958 | 51631 | 53359 |\n",
       "\n"
      ],
      "text/plain": [
       "  X 광역시도   시군     pop    moon   hong  ahn  \n",
       "1 0 서울특별시 종로구   102566  42512 22325 22313\n",
       "2 1 서울특별시 중구      82852  34062 17901 19372\n",
       "3 2 서울특별시 용산구   148157  58081 35230 32109\n",
       "4 3 서울특별시 성동구   203175  86686 40566 45674\n",
       "5 4 서울특별시 광진구   240030 105512 46368 52824\n",
       "6 5 서울특별시 동대문구 236092  98958 51631 53359"
      ]
     },
     "metadata": {},
     "output_type": "display_data"
    }
   ],
   "source": [
    "head(election)"
   ]
  },
  {
   "cell_type": "code",
   "execution_count": 10,
   "metadata": {},
   "outputs": [
    {
     "data": {
      "text/html": [
       "<ol class=list-inline>\n",
       "\t<li>87150</li>\n",
       "\t<li>71335</li>\n",
       "\t<li>125420</li>\n",
       "\t<li>172926</li>\n",
       "\t<li>204704</li>\n",
       "\t<li>203948</li>\n",
       "\t<li>230773</li>\n",
       "\t<li>253365</li>\n",
       "\t<li>183582</li>\n",
       "\t<li>197959</li>\n",
       "\t<li>322082</li>\n",
       "\t<li>272871</li>\n",
       "\t<li>180518</li>\n",
       "\t<li>216428</li>\n",
       "\t<li>266483</li>\n",
       "\t<li>340611</li>\n",
       "\t<li>242005</li>\n",
       "\t<li>135224</li>\n",
       "\t<li>213443</li>\n",
       "\t<li>236458</li>\n",
       "\t<li>299263</li>\n",
       "\t<li>245284</li>\n",
       "\t<li>306767</li>\n",
       "\t<li>374895</li>\n",
       "\t<li>255903</li>\n",
       "\t<li>25277</li>\n",
       "\t<li>62750</li>\n",
       "\t<li>51609</li>\n",
       "\t<li>68521</li>\n",
       "\t<li>215223</li>\n",
       "\t<li>157771</li>\n",
       "\t<li>158646</li>\n",
       "\t<li>177498</li>\n",
       "\t<li>231335</li>\n",
       "\t<li>81877</li>\n",
       "\t<li>184417</li>\n",
       "\t<li>141316</li>\n",
       "\t<li>60123</li>\n",
       "\t<li>119996</li>\n",
       "\t<li>103853</li>\n",
       "\t<li>131306</li>\n",
       "\t<li>43345</li>\n",
       "\t<li>178867</li>\n",
       "\t<li>108594</li>\n",
       "\t<li>84144</li>\n",
       "\t<li>226263</li>\n",
       "\t<li>231694</li>\n",
       "\t<li>306463</li>\n",
       "\t<li>113212</li>\n",
       "\t<li>59574</li>\n",
       "\t<li>38426</li>\n",
       "\t<li>217975</li>\n",
       "\t<li>175939</li>\n",
       "\t<li>280003</li>\n",
       "\t<li>296009</li>\n",
       "\t<li>174746</li>\n",
       "\t<li>260883</li>\n",
       "\t<li>38753</li>\n",
       "\t<li>12861</li>\n",
       "\t<li>61799</li>\n",
       "\t<li>189583</li>\n",
       "\t<li>135826</li>\n",
       "\t<li>270592</li>\n",
       "\t<li>228151</li>\n",
       "\t<li>125324</li>\n",
       "\t<li>137276</li>\n",
       "\t<li>263929</li>\n",
       "\t<li>185839</li>\n",
       "\t<li>102322</li>\n",
       "\t<li>130740</li>\n",
       "\t<li>183033</li>\n",
       "\t<li>87922</li>\n",
       "\t<li>98769</li>\n",
       "\t<li>114452</li>\n",
       "\t<li>132988</li>\n",
       "\t<li>161879</li>\n",
       "\t<li>189125</li>\n",
       "\t<li>105824</li>\n",
       "\t<li>185407</li>\n",
       "\t<li>129014</li>\n",
       "\t<li>127137</li>\n",
       "\t<li>285225</li>\n",
       "\t<li>232610</li>\n",
       "\t<li>144314</li>\n",
       "\t<li>196316</li>\n",
       "\t<li>468538</li>\n",
       "\t<li>188998</li>\n",
       "\t<li>231458</li>\n",
       "\t<li>104494</li>\n",
       "\t<li>47985</li>\n",
       "\t<li>193354</li>\n",
       "\t<li>160412</li>\n",
       "\t<li>236801</li>\n",
       "\t<li>157768</li>\n",
       "\t<li>162629</li>\n",
       "\t<li>34319</li>\n",
       "\t<li>88689</li>\n",
       "\t<li>105992</li>\n",
       "\t<li>343153</li>\n",
       "\t<li>101388</li>\n",
       "\t<li>330921</li>\n",
       "\t<li>205099</li>\n",
       "\t<li>159218</li>\n",
       "\t<li>120090</li>\n",
       "\t<li>217416</li>\n",
       "\t<li>56600</li>\n",
       "\t<li>104105</li>\n",
       "\t<li>115603</li>\n",
       "\t<li>192679</li>\n",
       "\t<li>224815</li>\n",
       "\t<li>91266</li>\n",
       "\t<li>193268</li>\n",
       "\t<li>172034</li>\n",
       "\t<li>78167</li>\n",
       "\t<li>24746</li>\n",
       "\t<li>61782</li>\n",
       "\t<li>33827</li>\n",
       "\t<li>149052</li>\n",
       "\t<li>174021</li>\n",
       "\t<li>112881</li>\n",
       "\t<li>47538</li>\n",
       "\t<li>37652</li>\n",
       "\t<li>24574</li>\n",
       "\t<li>21082</li>\n",
       "\t<li>39959</li>\n",
       "\t<li>16139</li>\n",
       "\t<li>15572</li>\n",
       "\t<li>17342</li>\n",
       "\t<li>37423</li>\n",
       "\t<li>25735</li>\n",
       "\t<li>22599</li>\n",
       "\t<li>23937</li>\n",
       "\t<li>14180</li>\n",
       "\t<li>12295</li>\n",
       "\t<li>24536</li>\n",
       "\t<li>91399</li>\n",
       "\t<li>115904</li>\n",
       "\t<li>130060</li>\n",
       "\t<li>98716</li>\n",
       "\t<li>110671</li>\n",
       "\t<li>73262</li>\n",
       "\t<li>17635</li>\n",
       "\t<li>28407</li>\n",
       "\t<li>19765</li>\n",
       "\t<li>29077</li>\n",
       "\t<li>49284</li>\n",
       "\t<li>35598</li>\n",
       "\t<li>23141</li>\n",
       "\t<li>18843</li>\n",
       "\t<li>179386</li>\n",
       "\t<li>129497</li>\n",
       "\t<li>59299</li>\n",
       "\t<li>55555</li>\n",
       "\t<li>148570</li>\n",
       "\t<li>85185</li>\n",
       "\t<li>34487</li>\n",
       "\t<li>29385</li>\n",
       "\t<li>64057</li>\n",
       "\t<li>22549</li>\n",
       "\t<li>81640</li>\n",
       "\t<li>38275</li>\n",
       "\t<li>31189</li>\n",
       "\t<li>51954</li>\n",
       "\t<li>18429</li>\n",
       "\t<li>44034</li>\n",
       "\t<li>215146</li>\n",
       "\t<li>170746</li>\n",
       "\t<li>158126</li>\n",
       "\t<li>175629</li>\n",
       "\t<li>68180</li>\n",
       "\t<li>51332</li>\n",
       "\t<li>53802</li>\n",
       "\t<li>57061</li>\n",
       "\t<li>16641</li>\n",
       "\t<li>15604</li>\n",
       "\t<li>14784</li>\n",
       "\t<li>18673</li>\n",
       "\t<li>18621</li>\n",
       "\t<li>36274</li>\n",
       "\t<li>33826</li>\n",
       "\t<li>133783</li>\n",
       "\t<li>172095</li>\n",
       "\t<li>167549</li>\n",
       "\t<li>66426</li>\n",
       "\t<li>87724</li>\n",
       "\t<li>30676</li>\n",
       "\t<li>28396</li>\n",
       "\t<li>19626</li>\n",
       "\t<li>17689</li>\n",
       "\t<li>43845</li>\n",
       "\t<li>27912</li>\n",
       "\t<li>40469</li>\n",
       "\t<li>25050</li>\n",
       "\t<li>23381</li>\n",
       "\t<li>32728</li>\n",
       "\t<li>45216</li>\n",
       "\t<li>19758</li>\n",
       "\t<li>33434</li>\n",
       "\t<li>48551</li>\n",
       "\t<li>33089</li>\n",
       "\t<li>21841</li>\n",
       "\t<li>27083</li>\n",
       "\t<li>142668</li>\n",
       "\t<li>125855</li>\n",
       "\t<li>5936</li>\n",
       "\t<li>142080</li>\n",
       "\t<li>79056</li>\n",
       "\t<li>91560</li>\n",
       "\t<li>202446</li>\n",
       "\t<li>60228</li>\n",
       "\t<li>56753</li>\n",
       "\t<li>59919</li>\n",
       "\t<li>43353</li>\n",
       "\t<li>28551</li>\n",
       "\t<li>132337</li>\n",
       "\t<li>26655</li>\n",
       "\t<li>19602</li>\n",
       "\t<li>25783</li>\n",
       "\t<li>59752</li>\n",
       "\t<li>15841</li>\n",
       "\t<li>33922</li>\n",
       "\t<li>16274</li>\n",
       "\t<li>10536</li>\n",
       "\t<li>23331</li>\n",
       "\t<li>20115</li>\n",
       "\t<li>28315</li>\n",
       "\t<li>140474</li>\n",
       "\t<li>128692</li>\n",
       "\t<li>104766</li>\n",
       "\t<li>119098</li>\n",
       "\t<li>98733</li>\n",
       "\t<li>194367</li>\n",
       "\t<li>72343</li>\n",
       "\t<li>30749</li>\n",
       "\t<li>63195</li>\n",
       "\t<li>275978</li>\n",
       "\t<li>62309</li>\n",
       "\t<li>127425</li>\n",
       "\t<li>17233</li>\n",
       "\t<li>38805</li>\n",
       "\t<li>38651</li>\n",
       "\t<li>173168</li>\n",
       "\t<li>30225</li>\n",
       "\t<li>26752</li>\n",
       "\t<li>23599</li>\n",
       "\t<li>21858</li>\n",
       "\t<li>36155</li>\n",
       "\t<li>29919</li>\n",
       "\t<li>229715</li>\n",
       "\t<li>85702</li>\n",
       "</ol>\n"
      ],
      "text/latex": [
       "\\begin{enumerate*}\n",
       "\\item 87150\n",
       "\\item 71335\n",
       "\\item 125420\n",
       "\\item 172926\n",
       "\\item 204704\n",
       "\\item 203948\n",
       "\\item 230773\n",
       "\\item 253365\n",
       "\\item 183582\n",
       "\\item 197959\n",
       "\\item 322082\n",
       "\\item 272871\n",
       "\\item 180518\n",
       "\\item 216428\n",
       "\\item 266483\n",
       "\\item 340611\n",
       "\\item 242005\n",
       "\\item 135224\n",
       "\\item 213443\n",
       "\\item 236458\n",
       "\\item 299263\n",
       "\\item 245284\n",
       "\\item 306767\n",
       "\\item 374895\n",
       "\\item 255903\n",
       "\\item 25277\n",
       "\\item 62750\n",
       "\\item 51609\n",
       "\\item 68521\n",
       "\\item 215223\n",
       "\\item 157771\n",
       "\\item 158646\n",
       "\\item 177498\n",
       "\\item 231335\n",
       "\\item 81877\n",
       "\\item 184417\n",
       "\\item 141316\n",
       "\\item 60123\n",
       "\\item 119996\n",
       "\\item 103853\n",
       "\\item 131306\n",
       "\\item 43345\n",
       "\\item 178867\n",
       "\\item 108594\n",
       "\\item 84144\n",
       "\\item 226263\n",
       "\\item 231694\n",
       "\\item 306463\n",
       "\\item 113212\n",
       "\\item 59574\n",
       "\\item 38426\n",
       "\\item 217975\n",
       "\\item 175939\n",
       "\\item 280003\n",
       "\\item 296009\n",
       "\\item 174746\n",
       "\\item 260883\n",
       "\\item 38753\n",
       "\\item 12861\n",
       "\\item 61799\n",
       "\\item 189583\n",
       "\\item 135826\n",
       "\\item 270592\n",
       "\\item 228151\n",
       "\\item 125324\n",
       "\\item 137276\n",
       "\\item 263929\n",
       "\\item 185839\n",
       "\\item 102322\n",
       "\\item 130740\n",
       "\\item 183033\n",
       "\\item 87922\n",
       "\\item 98769\n",
       "\\item 114452\n",
       "\\item 132988\n",
       "\\item 161879\n",
       "\\item 189125\n",
       "\\item 105824\n",
       "\\item 185407\n",
       "\\item 129014\n",
       "\\item 127137\n",
       "\\item 285225\n",
       "\\item 232610\n",
       "\\item 144314\n",
       "\\item 196316\n",
       "\\item 468538\n",
       "\\item 188998\n",
       "\\item 231458\n",
       "\\item 104494\n",
       "\\item 47985\n",
       "\\item 193354\n",
       "\\item 160412\n",
       "\\item 236801\n",
       "\\item 157768\n",
       "\\item 162629\n",
       "\\item 34319\n",
       "\\item 88689\n",
       "\\item 105992\n",
       "\\item 343153\n",
       "\\item 101388\n",
       "\\item 330921\n",
       "\\item 205099\n",
       "\\item 159218\n",
       "\\item 120090\n",
       "\\item 217416\n",
       "\\item 56600\n",
       "\\item 104105\n",
       "\\item 115603\n",
       "\\item 192679\n",
       "\\item 224815\n",
       "\\item 91266\n",
       "\\item 193268\n",
       "\\item 172034\n",
       "\\item 78167\n",
       "\\item 24746\n",
       "\\item 61782\n",
       "\\item 33827\n",
       "\\item 149052\n",
       "\\item 174021\n",
       "\\item 112881\n",
       "\\item 47538\n",
       "\\item 37652\n",
       "\\item 24574\n",
       "\\item 21082\n",
       "\\item 39959\n",
       "\\item 16139\n",
       "\\item 15572\n",
       "\\item 17342\n",
       "\\item 37423\n",
       "\\item 25735\n",
       "\\item 22599\n",
       "\\item 23937\n",
       "\\item 14180\n",
       "\\item 12295\n",
       "\\item 24536\n",
       "\\item 91399\n",
       "\\item 115904\n",
       "\\item 130060\n",
       "\\item 98716\n",
       "\\item 110671\n",
       "\\item 73262\n",
       "\\item 17635\n",
       "\\item 28407\n",
       "\\item 19765\n",
       "\\item 29077\n",
       "\\item 49284\n",
       "\\item 35598\n",
       "\\item 23141\n",
       "\\item 18843\n",
       "\\item 179386\n",
       "\\item 129497\n",
       "\\item 59299\n",
       "\\item 55555\n",
       "\\item 148570\n",
       "\\item 85185\n",
       "\\item 34487\n",
       "\\item 29385\n",
       "\\item 64057\n",
       "\\item 22549\n",
       "\\item 81640\n",
       "\\item 38275\n",
       "\\item 31189\n",
       "\\item 51954\n",
       "\\item 18429\n",
       "\\item 44034\n",
       "\\item 215146\n",
       "\\item 170746\n",
       "\\item 158126\n",
       "\\item 175629\n",
       "\\item 68180\n",
       "\\item 51332\n",
       "\\item 53802\n",
       "\\item 57061\n",
       "\\item 16641\n",
       "\\item 15604\n",
       "\\item 14784\n",
       "\\item 18673\n",
       "\\item 18621\n",
       "\\item 36274\n",
       "\\item 33826\n",
       "\\item 133783\n",
       "\\item 172095\n",
       "\\item 167549\n",
       "\\item 66426\n",
       "\\item 87724\n",
       "\\item 30676\n",
       "\\item 28396\n",
       "\\item 19626\n",
       "\\item 17689\n",
       "\\item 43845\n",
       "\\item 27912\n",
       "\\item 40469\n",
       "\\item 25050\n",
       "\\item 23381\n",
       "\\item 32728\n",
       "\\item 45216\n",
       "\\item 19758\n",
       "\\item 33434\n",
       "\\item 48551\n",
       "\\item 33089\n",
       "\\item 21841\n",
       "\\item 27083\n",
       "\\item 142668\n",
       "\\item 125855\n",
       "\\item 5936\n",
       "\\item 142080\n",
       "\\item 79056\n",
       "\\item 91560\n",
       "\\item 202446\n",
       "\\item 60228\n",
       "\\item 56753\n",
       "\\item 59919\n",
       "\\item 43353\n",
       "\\item 28551\n",
       "\\item 132337\n",
       "\\item 26655\n",
       "\\item 19602\n",
       "\\item 25783\n",
       "\\item 59752\n",
       "\\item 15841\n",
       "\\item 33922\n",
       "\\item 16274\n",
       "\\item 10536\n",
       "\\item 23331\n",
       "\\item 20115\n",
       "\\item 28315\n",
       "\\item 140474\n",
       "\\item 128692\n",
       "\\item 104766\n",
       "\\item 119098\n",
       "\\item 98733\n",
       "\\item 194367\n",
       "\\item 72343\n",
       "\\item 30749\n",
       "\\item 63195\n",
       "\\item 275978\n",
       "\\item 62309\n",
       "\\item 127425\n",
       "\\item 17233\n",
       "\\item 38805\n",
       "\\item 38651\n",
       "\\item 173168\n",
       "\\item 30225\n",
       "\\item 26752\n",
       "\\item 23599\n",
       "\\item 21858\n",
       "\\item 36155\n",
       "\\item 29919\n",
       "\\item 229715\n",
       "\\item 85702\n",
       "\\end{enumerate*}\n"
      ],
      "text/markdown": [
       "1. 87150\n",
       "2. 71335\n",
       "3. 125420\n",
       "4. 172926\n",
       "5. 204704\n",
       "6. 203948\n",
       "7. 230773\n",
       "8. 253365\n",
       "9. 183582\n",
       "10. 197959\n",
       "11. 322082\n",
       "12. 272871\n",
       "13. 180518\n",
       "14. 216428\n",
       "15. 266483\n",
       "16. 340611\n",
       "17. 242005\n",
       "18. 135224\n",
       "19. 213443\n",
       "20. 236458\n",
       "21. 299263\n",
       "22. 245284\n",
       "23. 306767\n",
       "24. 374895\n",
       "25. 255903\n",
       "26. 25277\n",
       "27. 62750\n",
       "28. 51609\n",
       "29. 68521\n",
       "30. 215223\n",
       "31. 157771\n",
       "32. 158646\n",
       "33. 177498\n",
       "34. 231335\n",
       "35. 81877\n",
       "36. 184417\n",
       "37. 141316\n",
       "38. 60123\n",
       "39. 119996\n",
       "40. 103853\n",
       "41. 131306\n",
       "42. 43345\n",
       "43. 178867\n",
       "44. 108594\n",
       "45. 84144\n",
       "46. 226263\n",
       "47. 231694\n",
       "48. 306463\n",
       "49. 113212\n",
       "50. 59574\n",
       "51. 38426\n",
       "52. 217975\n",
       "53. 175939\n",
       "54. 280003\n",
       "55. 296009\n",
       "56. 174746\n",
       "57. 260883\n",
       "58. 38753\n",
       "59. 12861\n",
       "60. 61799\n",
       "61. 189583\n",
       "62. 135826\n",
       "63. 270592\n",
       "64. 228151\n",
       "65. 125324\n",
       "66. 137276\n",
       "67. 263929\n",
       "68. 185839\n",
       "69. 102322\n",
       "70. 130740\n",
       "71. 183033\n",
       "72. 87922\n",
       "73. 98769\n",
       "74. 114452\n",
       "75. 132988\n",
       "76. 161879\n",
       "77. 189125\n",
       "78. 105824\n",
       "79. 185407\n",
       "80. 129014\n",
       "81. 127137\n",
       "82. 285225\n",
       "83. 232610\n",
       "84. 144314\n",
       "85. 196316\n",
       "86. 468538\n",
       "87. 188998\n",
       "88. 231458\n",
       "89. 104494\n",
       "90. 47985\n",
       "91. 193354\n",
       "92. 160412\n",
       "93. 236801\n",
       "94. 157768\n",
       "95. 162629\n",
       "96. 34319\n",
       "97. 88689\n",
       "98. 105992\n",
       "99. 343153\n",
       "100. 101388\n",
       "101. 330921\n",
       "102. 205099\n",
       "103. 159218\n",
       "104. 120090\n",
       "105. 217416\n",
       "106. 56600\n",
       "107. 104105\n",
       "108. 115603\n",
       "109. 192679\n",
       "110. 224815\n",
       "111. 91266\n",
       "112. 193268\n",
       "113. 172034\n",
       "114. 78167\n",
       "115. 24746\n",
       "116. 61782\n",
       "117. 33827\n",
       "118. 149052\n",
       "119. 174021\n",
       "120. 112881\n",
       "121. 47538\n",
       "122. 37652\n",
       "123. 24574\n",
       "124. 21082\n",
       "125. 39959\n",
       "126. 16139\n",
       "127. 15572\n",
       "128. 17342\n",
       "129. 37423\n",
       "130. 25735\n",
       "131. 22599\n",
       "132. 23937\n",
       "133. 14180\n",
       "134. 12295\n",
       "135. 24536\n",
       "136. 91399\n",
       "137. 115904\n",
       "138. 130060\n",
       "139. 98716\n",
       "140. 110671\n",
       "141. 73262\n",
       "142. 17635\n",
       "143. 28407\n",
       "144. 19765\n",
       "145. 29077\n",
       "146. 49284\n",
       "147. 35598\n",
       "148. 23141\n",
       "149. 18843\n",
       "150. 179386\n",
       "151. 129497\n",
       "152. 59299\n",
       "153. 55555\n",
       "154. 148570\n",
       "155. 85185\n",
       "156. 34487\n",
       "157. 29385\n",
       "158. 64057\n",
       "159. 22549\n",
       "160. 81640\n",
       "161. 38275\n",
       "162. 31189\n",
       "163. 51954\n",
       "164. 18429\n",
       "165. 44034\n",
       "166. 215146\n",
       "167. 170746\n",
       "168. 158126\n",
       "169. 175629\n",
       "170. 68180\n",
       "171. 51332\n",
       "172. 53802\n",
       "173. 57061\n",
       "174. 16641\n",
       "175. 15604\n",
       "176. 14784\n",
       "177. 18673\n",
       "178. 18621\n",
       "179. 36274\n",
       "180. 33826\n",
       "181. 133783\n",
       "182. 172095\n",
       "183. 167549\n",
       "184. 66426\n",
       "185. 87724\n",
       "186. 30676\n",
       "187. 28396\n",
       "188. 19626\n",
       "189. 17689\n",
       "190. 43845\n",
       "191. 27912\n",
       "192. 40469\n",
       "193. 25050\n",
       "194. 23381\n",
       "195. 32728\n",
       "196. 45216\n",
       "197. 19758\n",
       "198. 33434\n",
       "199. 48551\n",
       "200. 33089\n",
       "201. 21841\n",
       "202. 27083\n",
       "203. 142668\n",
       "204. 125855\n",
       "205. 5936\n",
       "206. 142080\n",
       "207. 79056\n",
       "208. 91560\n",
       "209. 202446\n",
       "210. 60228\n",
       "211. 56753\n",
       "212. 59919\n",
       "213. 43353\n",
       "214. 28551\n",
       "215. 132337\n",
       "216. 26655\n",
       "217. 19602\n",
       "218. 25783\n",
       "219. 59752\n",
       "220. 15841\n",
       "221. 33922\n",
       "222. 16274\n",
       "223. 10536\n",
       "224. 23331\n",
       "225. 20115\n",
       "226. 28315\n",
       "227. 140474\n",
       "228. 128692\n",
       "229. 104766\n",
       "230. 119098\n",
       "231. 98733\n",
       "232. 194367\n",
       "233. 72343\n",
       "234. 30749\n",
       "235. 63195\n",
       "236. 275978\n",
       "237. 62309\n",
       "238. 127425\n",
       "239. 17233\n",
       "240. 38805\n",
       "241. 38651\n",
       "242. 173168\n",
       "243. 30225\n",
       "244. 26752\n",
       "245. 23599\n",
       "246. 21858\n",
       "247. 36155\n",
       "248. 29919\n",
       "249. 229715\n",
       "250. 85702\n",
       "\n",
       "\n"
      ],
      "text/plain": [
       "  [1]  87150  71335 125420 172926 204704 203948 230773 253365 183582 197959\n",
       " [11] 322082 272871 180518 216428 266483 340611 242005 135224 213443 236458\n",
       " [21] 299263 245284 306767 374895 255903  25277  62750  51609  68521 215223\n",
       " [31] 157771 158646 177498 231335  81877 184417 141316  60123 119996 103853\n",
       " [41] 131306  43345 178867 108594  84144 226263 231694 306463 113212  59574\n",
       " [51]  38426 217975 175939 280003 296009 174746 260883  38753  12861  61799\n",
       " [61] 189583 135826 270592 228151 125324 137276 263929 185839 102322 130740\n",
       " [71] 183033  87922  98769 114452 132988 161879 189125 105824 185407 129014\n",
       " [81] 127137 285225 232610 144314 196316 468538 188998 231458 104494  47985\n",
       " [91] 193354 160412 236801 157768 162629  34319  88689 105992 343153 101388\n",
       "[101] 330921 205099 159218 120090 217416  56600 104105 115603 192679 224815\n",
       "[111]  91266 193268 172034  78167  24746  61782  33827 149052 174021 112881\n",
       "[121]  47538  37652  24574  21082  39959  16139  15572  17342  37423  25735\n",
       "[131]  22599  23937  14180  12295  24536  91399 115904 130060  98716 110671\n",
       "[141]  73262  17635  28407  19765  29077  49284  35598  23141  18843 179386\n",
       "[151] 129497  59299  55555 148570  85185  34487  29385  64057  22549  81640\n",
       "[161]  38275  31189  51954  18429  44034 215146 170746 158126 175629  68180\n",
       "[171]  51332  53802  57061  16641  15604  14784  18673  18621  36274  33826\n",
       "[181] 133783 172095 167549  66426  87724  30676  28396  19626  17689  43845\n",
       "[191]  27912  40469  25050  23381  32728  45216  19758  33434  48551  33089\n",
       "[201]  21841  27083 142668 125855   5936 142080  79056  91560 202446  60228\n",
       "[211]  56753  59919  43353  28551 132337  26655  19602  25783  59752  15841\n",
       "[221]  33922  16274  10536  23331  20115  28315 140474 128692 104766 119098\n",
       "[231]  98733 194367  72343  30749  63195 275978  62309 127425  17233  38805\n",
       "[241]  38651 173168  30225  26752  23599  21858  36155  29919 229715  85702"
      ]
     },
     "metadata": {},
     "output_type": "display_data"
    }
   ],
   "source": [
    "Sum.ThreeCand <- apply(election[,5:7], 1 , sum)\n",
    "Sum.ThreeCand"
   ]
  },
  {
   "cell_type": "code",
   "execution_count": 11,
   "metadata": {},
   "outputs": [
    {
     "data": {
      "text/html": [
       "<table>\n",
       "<caption>A data.frame: 6 × 8</caption>\n",
       "<thead>\n",
       "\t<tr><th></th><th scope=col>X</th><th scope=col>광역시도</th><th scope=col>시군</th><th scope=col>pop</th><th scope=col>moon</th><th scope=col>hong</th><th scope=col>ahn</th><th scope=col>Sum.ThreeCand</th></tr>\n",
       "\t<tr><th></th><th scope=col>&lt;int&gt;</th><th scope=col>&lt;fct&gt;</th><th scope=col>&lt;fct&gt;</th><th scope=col>&lt;int&gt;</th><th scope=col>&lt;int&gt;</th><th scope=col>&lt;int&gt;</th><th scope=col>&lt;int&gt;</th><th scope=col>&lt;int&gt;</th></tr>\n",
       "</thead>\n",
       "<tbody>\n",
       "\t<tr><th scope=row>1</th><td>0</td><td>서울특별시</td><td>종로구  </td><td>102566</td><td> 42512</td><td>22325</td><td>22313</td><td> 87150</td></tr>\n",
       "\t<tr><th scope=row>2</th><td>1</td><td>서울특별시</td><td>중구    </td><td> 82852</td><td> 34062</td><td>17901</td><td>19372</td><td> 71335</td></tr>\n",
       "\t<tr><th scope=row>3</th><td>2</td><td>서울특별시</td><td>용산구  </td><td>148157</td><td> 58081</td><td>35230</td><td>32109</td><td>125420</td></tr>\n",
       "\t<tr><th scope=row>4</th><td>3</td><td>서울특별시</td><td>성동구  </td><td>203175</td><td> 86686</td><td>40566</td><td>45674</td><td>172926</td></tr>\n",
       "\t<tr><th scope=row>5</th><td>4</td><td>서울특별시</td><td>광진구  </td><td>240030</td><td>105512</td><td>46368</td><td>52824</td><td>204704</td></tr>\n",
       "\t<tr><th scope=row>6</th><td>5</td><td>서울특별시</td><td>동대문구</td><td>236092</td><td> 98958</td><td>51631</td><td>53359</td><td>203948</td></tr>\n",
       "</tbody>\n",
       "</table>\n"
      ],
      "text/latex": [
       "A data.frame: 6 × 8\n",
       "\\begin{tabular}{r|llllllll}\n",
       "  & X & 광역시도 & 시군 & pop & moon & hong & ahn & Sum.ThreeCand\\\\\n",
       "  & <int> & <fct> & <fct> & <int> & <int> & <int> & <int> & <int>\\\\\n",
       "\\hline\n",
       "\t1 & 0 & 서울특별시 & 종로구   & 102566 &  42512 & 22325 & 22313 &  87150\\\\\n",
       "\t2 & 1 & 서울특별시 & 중구     &  82852 &  34062 & 17901 & 19372 &  71335\\\\\n",
       "\t3 & 2 & 서울특별시 & 용산구   & 148157 &  58081 & 35230 & 32109 & 125420\\\\\n",
       "\t4 & 3 & 서울특별시 & 성동구   & 203175 &  86686 & 40566 & 45674 & 172926\\\\\n",
       "\t5 & 4 & 서울특별시 & 광진구   & 240030 & 105512 & 46368 & 52824 & 204704\\\\\n",
       "\t6 & 5 & 서울특별시 & 동대문구 & 236092 &  98958 & 51631 & 53359 & 203948\\\\\n",
       "\\end{tabular}\n"
      ],
      "text/markdown": [
       "\n",
       "A data.frame: 6 × 8\n",
       "\n",
       "| <!--/--> | X &lt;int&gt; | 광역시도 &lt;fct&gt; | 시군 &lt;fct&gt; | pop &lt;int&gt; | moon &lt;int&gt; | hong &lt;int&gt; | ahn &lt;int&gt; | Sum.ThreeCand &lt;int&gt; |\n",
       "|---|---|---|---|---|---|---|---|---|\n",
       "| 1 | 0 | 서울특별시 | 종로구   | 102566 |  42512 | 22325 | 22313 |  87150 |\n",
       "| 2 | 1 | 서울특별시 | 중구     |  82852 |  34062 | 17901 | 19372 |  71335 |\n",
       "| 3 | 2 | 서울특별시 | 용산구   | 148157 |  58081 | 35230 | 32109 | 125420 |\n",
       "| 4 | 3 | 서울특별시 | 성동구   | 203175 |  86686 | 40566 | 45674 | 172926 |\n",
       "| 5 | 4 | 서울특별시 | 광진구   | 240030 | 105512 | 46368 | 52824 | 204704 |\n",
       "| 6 | 5 | 서울특별시 | 동대문구 | 236092 |  98958 | 51631 | 53359 | 203948 |\n",
       "\n"
      ],
      "text/plain": [
       "  X 광역시도   시군     pop    moon   hong  ahn   Sum.ThreeCand\n",
       "1 0 서울특별시 종로구   102566  42512 22325 22313  87150       \n",
       "2 1 서울특별시 중구      82852  34062 17901 19372  71335       \n",
       "3 2 서울특별시 용산구   148157  58081 35230 32109 125420       \n",
       "4 3 서울특별시 성동구   203175  86686 40566 45674 172926       \n",
       "5 4 서울특별시 광진구   240030 105512 46368 52824 204704       \n",
       "6 5 서울특별시 동대문구 236092  98958 51631 53359 203948       "
      ]
     },
     "metadata": {},
     "output_type": "display_data"
    }
   ],
   "source": [
    "electionSum <- cbind(election, Sum.ThreeCand)\n",
    "head(electionSum)"
   ]
  },
  {
   "cell_type": "markdown",
   "metadata": {},
   "source": [
    "### Calculate the numbers of votes for other candidates"
   ]
  },
  {
   "cell_type": "code",
   "execution_count": 12,
   "metadata": {
    "scrolled": true
   },
   "outputs": [
    {
     "data": {
      "text/html": [
       "<table>\n",
       "<caption>A data.frame: 6 × 9</caption>\n",
       "<thead>\n",
       "\t<tr><th></th><th scope=col>X</th><th scope=col>광역시도</th><th scope=col>시군</th><th scope=col>pop</th><th scope=col>moon</th><th scope=col>hong</th><th scope=col>ahn</th><th scope=col>Sum.ThreeCand</th><th scope=col>others</th></tr>\n",
       "\t<tr><th></th><th scope=col>&lt;int&gt;</th><th scope=col>&lt;fct&gt;</th><th scope=col>&lt;fct&gt;</th><th scope=col>&lt;int&gt;</th><th scope=col>&lt;int&gt;</th><th scope=col>&lt;int&gt;</th><th scope=col>&lt;int&gt;</th><th scope=col>&lt;int&gt;</th><th scope=col>&lt;int&gt;</th></tr>\n",
       "</thead>\n",
       "<tbody>\n",
       "\t<tr><th scope=row>1</th><td>0</td><td>서울특별시</td><td>종로구  </td><td>102566</td><td> 42512</td><td>22325</td><td>22313</td><td> 87150</td><td>15416</td></tr>\n",
       "\t<tr><th scope=row>2</th><td>1</td><td>서울특별시</td><td>중구    </td><td> 82852</td><td> 34062</td><td>17901</td><td>19372</td><td> 71335</td><td>11517</td></tr>\n",
       "\t<tr><th scope=row>3</th><td>2</td><td>서울특별시</td><td>용산구  </td><td>148157</td><td> 58081</td><td>35230</td><td>32109</td><td>125420</td><td>22737</td></tr>\n",
       "\t<tr><th scope=row>4</th><td>3</td><td>서울특별시</td><td>성동구  </td><td>203175</td><td> 86686</td><td>40566</td><td>45674</td><td>172926</td><td>30249</td></tr>\n",
       "\t<tr><th scope=row>5</th><td>4</td><td>서울특별시</td><td>광진구  </td><td>240030</td><td>105512</td><td>46368</td><td>52824</td><td>204704</td><td>35326</td></tr>\n",
       "\t<tr><th scope=row>6</th><td>5</td><td>서울특별시</td><td>동대문구</td><td>236092</td><td> 98958</td><td>51631</td><td>53359</td><td>203948</td><td>32144</td></tr>\n",
       "</tbody>\n",
       "</table>\n"
      ],
      "text/latex": [
       "A data.frame: 6 × 9\n",
       "\\begin{tabular}{r|lllllllll}\n",
       "  & X & 광역시도 & 시군 & pop & moon & hong & ahn & Sum.ThreeCand & others\\\\\n",
       "  & <int> & <fct> & <fct> & <int> & <int> & <int> & <int> & <int> & <int>\\\\\n",
       "\\hline\n",
       "\t1 & 0 & 서울특별시 & 종로구   & 102566 &  42512 & 22325 & 22313 &  87150 & 15416\\\\\n",
       "\t2 & 1 & 서울특별시 & 중구     &  82852 &  34062 & 17901 & 19372 &  71335 & 11517\\\\\n",
       "\t3 & 2 & 서울특별시 & 용산구   & 148157 &  58081 & 35230 & 32109 & 125420 & 22737\\\\\n",
       "\t4 & 3 & 서울특별시 & 성동구   & 203175 &  86686 & 40566 & 45674 & 172926 & 30249\\\\\n",
       "\t5 & 4 & 서울특별시 & 광진구   & 240030 & 105512 & 46368 & 52824 & 204704 & 35326\\\\\n",
       "\t6 & 5 & 서울특별시 & 동대문구 & 236092 &  98958 & 51631 & 53359 & 203948 & 32144\\\\\n",
       "\\end{tabular}\n"
      ],
      "text/markdown": [
       "\n",
       "A data.frame: 6 × 9\n",
       "\n",
       "| <!--/--> | X &lt;int&gt; | 광역시도 &lt;fct&gt; | 시군 &lt;fct&gt; | pop &lt;int&gt; | moon &lt;int&gt; | hong &lt;int&gt; | ahn &lt;int&gt; | Sum.ThreeCand &lt;int&gt; | others &lt;int&gt; |\n",
       "|---|---|---|---|---|---|---|---|---|---|\n",
       "| 1 | 0 | 서울특별시 | 종로구   | 102566 |  42512 | 22325 | 22313 |  87150 | 15416 |\n",
       "| 2 | 1 | 서울특별시 | 중구     |  82852 |  34062 | 17901 | 19372 |  71335 | 11517 |\n",
       "| 3 | 2 | 서울특별시 | 용산구   | 148157 |  58081 | 35230 | 32109 | 125420 | 22737 |\n",
       "| 4 | 3 | 서울특별시 | 성동구   | 203175 |  86686 | 40566 | 45674 | 172926 | 30249 |\n",
       "| 5 | 4 | 서울특별시 | 광진구   | 240030 | 105512 | 46368 | 52824 | 204704 | 35326 |\n",
       "| 6 | 5 | 서울특별시 | 동대문구 | 236092 |  98958 | 51631 | 53359 | 203948 | 32144 |\n",
       "\n"
      ],
      "text/plain": [
       "  X 광역시도   시군     pop    moon   hong  ahn   Sum.ThreeCand others\n",
       "1 0 서울특별시 종로구   102566  42512 22325 22313  87150        15416 \n",
       "2 1 서울특별시 중구      82852  34062 17901 19372  71335        11517 \n",
       "3 2 서울특별시 용산구   148157  58081 35230 32109 125420        22737 \n",
       "4 3 서울특별시 성동구   203175  86686 40566 45674 172926        30249 \n",
       "5 4 서울특별시 광진구   240030 105512 46368 52824 204704        35326 \n",
       "6 5 서울특별시 동대문구 236092  98958 51631 53359 203948        32144 "
      ]
     },
     "metadata": {},
     "output_type": "display_data"
    }
   ],
   "source": [
    "electionSum$others <- (electionSum$pop - electionSum$Sum.ThreeCand)\n",
    "head(electionSum)"
   ]
  },
  {
   "cell_type": "markdown",
   "metadata": {},
   "source": [
    "# Data Analysis"
   ]
  },
  {
   "cell_type": "markdown",
   "metadata": {},
   "source": [
    "## Numbers of counties(시군) where those three candidates occupy >= 85% voter share "
   ]
  },
  {
   "cell_type": "markdown",
   "metadata": {},
   "source": [
    "### Calculate the portion of three candidates by province and add it to the data.frame"
   ]
  },
  {
   "cell_type": "code",
   "execution_count": 13,
   "metadata": {
    "scrolled": true
   },
   "outputs": [
    {
     "data": {
      "text/html": [
       "<table>\n",
       "<caption>A data.frame: 6 × 10</caption>\n",
       "<thead>\n",
       "\t<tr><th></th><th scope=col>X</th><th scope=col>광역시도</th><th scope=col>시군</th><th scope=col>pop</th><th scope=col>moon</th><th scope=col>hong</th><th scope=col>ahn</th><th scope=col>Sum.ThreeCand</th><th scope=col>others</th><th scope=col>PortionThree</th></tr>\n",
       "\t<tr><th></th><th scope=col>&lt;int&gt;</th><th scope=col>&lt;fct&gt;</th><th scope=col>&lt;fct&gt;</th><th scope=col>&lt;int&gt;</th><th scope=col>&lt;int&gt;</th><th scope=col>&lt;int&gt;</th><th scope=col>&lt;int&gt;</th><th scope=col>&lt;int&gt;</th><th scope=col>&lt;int&gt;</th><th scope=col>&lt;dbl&gt;</th></tr>\n",
       "</thead>\n",
       "<tbody>\n",
       "\t<tr><th scope=row>1</th><td>0</td><td>서울특별시</td><td>종로구  </td><td>102566</td><td> 42512</td><td>22325</td><td>22313</td><td> 87150</td><td>15416</td><td>84.97</td></tr>\n",
       "\t<tr><th scope=row>2</th><td>1</td><td>서울특별시</td><td>중구    </td><td> 82852</td><td> 34062</td><td>17901</td><td>19372</td><td> 71335</td><td>11517</td><td>86.10</td></tr>\n",
       "\t<tr><th scope=row>3</th><td>2</td><td>서울특별시</td><td>용산구  </td><td>148157</td><td> 58081</td><td>35230</td><td>32109</td><td>125420</td><td>22737</td><td>84.65</td></tr>\n",
       "\t<tr><th scope=row>4</th><td>3</td><td>서울특별시</td><td>성동구  </td><td>203175</td><td> 86686</td><td>40566</td><td>45674</td><td>172926</td><td>30249</td><td>85.11</td></tr>\n",
       "\t<tr><th scope=row>5</th><td>4</td><td>서울특별시</td><td>광진구  </td><td>240030</td><td>105512</td><td>46368</td><td>52824</td><td>204704</td><td>35326</td><td>85.28</td></tr>\n",
       "\t<tr><th scope=row>6</th><td>5</td><td>서울특별시</td><td>동대문구</td><td>236092</td><td> 98958</td><td>51631</td><td>53359</td><td>203948</td><td>32144</td><td>86.38</td></tr>\n",
       "</tbody>\n",
       "</table>\n"
      ],
      "text/latex": [
       "A data.frame: 6 × 10\n",
       "\\begin{tabular}{r|llllllllll}\n",
       "  & X & 광역시도 & 시군 & pop & moon & hong & ahn & Sum.ThreeCand & others & PortionThree\\\\\n",
       "  & <int> & <fct> & <fct> & <int> & <int> & <int> & <int> & <int> & <int> & <dbl>\\\\\n",
       "\\hline\n",
       "\t1 & 0 & 서울특별시 & 종로구   & 102566 &  42512 & 22325 & 22313 &  87150 & 15416 & 84.97\\\\\n",
       "\t2 & 1 & 서울특별시 & 중구     &  82852 &  34062 & 17901 & 19372 &  71335 & 11517 & 86.10\\\\\n",
       "\t3 & 2 & 서울특별시 & 용산구   & 148157 &  58081 & 35230 & 32109 & 125420 & 22737 & 84.65\\\\\n",
       "\t4 & 3 & 서울특별시 & 성동구   & 203175 &  86686 & 40566 & 45674 & 172926 & 30249 & 85.11\\\\\n",
       "\t5 & 4 & 서울특별시 & 광진구   & 240030 & 105512 & 46368 & 52824 & 204704 & 35326 & 85.28\\\\\n",
       "\t6 & 5 & 서울특별시 & 동대문구 & 236092 &  98958 & 51631 & 53359 & 203948 & 32144 & 86.38\\\\\n",
       "\\end{tabular}\n"
      ],
      "text/markdown": [
       "\n",
       "A data.frame: 6 × 10\n",
       "\n",
       "| <!--/--> | X &lt;int&gt; | 광역시도 &lt;fct&gt; | 시군 &lt;fct&gt; | pop &lt;int&gt; | moon &lt;int&gt; | hong &lt;int&gt; | ahn &lt;int&gt; | Sum.ThreeCand &lt;int&gt; | others &lt;int&gt; | PortionThree &lt;dbl&gt; |\n",
       "|---|---|---|---|---|---|---|---|---|---|---|\n",
       "| 1 | 0 | 서울특별시 | 종로구   | 102566 |  42512 | 22325 | 22313 |  87150 | 15416 | 84.97 |\n",
       "| 2 | 1 | 서울특별시 | 중구     |  82852 |  34062 | 17901 | 19372 |  71335 | 11517 | 86.10 |\n",
       "| 3 | 2 | 서울특별시 | 용산구   | 148157 |  58081 | 35230 | 32109 | 125420 | 22737 | 84.65 |\n",
       "| 4 | 3 | 서울특별시 | 성동구   | 203175 |  86686 | 40566 | 45674 | 172926 | 30249 | 85.11 |\n",
       "| 5 | 4 | 서울특별시 | 광진구   | 240030 | 105512 | 46368 | 52824 | 204704 | 35326 | 85.28 |\n",
       "| 6 | 5 | 서울특별시 | 동대문구 | 236092 |  98958 | 51631 | 53359 | 203948 | 32144 | 86.38 |\n",
       "\n"
      ],
      "text/plain": [
       "  X 광역시도   시군     pop    moon   hong  ahn   Sum.ThreeCand others\n",
       "1 0 서울특별시 종로구   102566  42512 22325 22313  87150        15416 \n",
       "2 1 서울특별시 중구      82852  34062 17901 19372  71335        11517 \n",
       "3 2 서울특별시 용산구   148157  58081 35230 32109 125420        22737 \n",
       "4 3 서울특별시 성동구   203175  86686 40566 45674 172926        30249 \n",
       "5 4 서울특별시 광진구   240030 105512 46368 52824 204704        35326 \n",
       "6 5 서울특별시 동대문구 236092  98958 51631 53359 203948        32144 \n",
       "  PortionThree\n",
       "1 84.97       \n",
       "2 86.10       \n",
       "3 84.65       \n",
       "4 85.11       \n",
       "5 85.28       \n",
       "6 86.38       "
      ]
     },
     "metadata": {},
     "output_type": "display_data"
    }
   ],
   "source": [
    "electionSum$PortionThree <- round((electionSum$Sum.ThreeCand/electionSum$pop)*100,2)\n",
    "head(electionSum)"
   ]
  },
  {
   "cell_type": "markdown",
   "metadata": {},
   "source": [
    "### count"
   ]
  },
  {
   "cell_type": "code",
   "execution_count": 14,
   "metadata": {},
   "outputs": [
    {
     "data": {
      "text/html": [
       "250"
      ],
      "text/latex": [
       "250"
      ],
      "text/markdown": [
       "250"
      ],
      "text/plain": [
       "[1] 250"
      ]
     },
     "metadata": {},
     "output_type": "display_data"
    }
   ],
   "source": [
    "# total numbers\n",
    "nrow(electionSum)"
   ]
  },
  {
   "cell_type": "code",
   "execution_count": 15,
   "metadata": {
    "scrolled": false
   },
   "outputs": [
    {
     "data": {
      "text/html": [
       "<ol class=list-inline>\n",
       "\t<li>FALSE</li>\n",
       "\t<li>TRUE</li>\n",
       "\t<li>FALSE</li>\n",
       "\t<li>TRUE</li>\n",
       "\t<li>TRUE</li>\n",
       "\t<li>TRUE</li>\n",
       "\t<li>TRUE</li>\n",
       "\t<li>TRUE</li>\n",
       "\t<li>TRUE</li>\n",
       "\t<li>TRUE</li>\n",
       "\t<li>TRUE</li>\n",
       "\t<li>TRUE</li>\n",
       "\t<li>TRUE</li>\n",
       "\t<li>FALSE</li>\n",
       "\t<li>TRUE</li>\n",
       "\t<li>TRUE</li>\n",
       "\t<li>TRUE</li>\n",
       "\t<li>TRUE</li>\n",
       "\t<li>TRUE</li>\n",
       "\t<li>TRUE</li>\n",
       "\t<li>TRUE</li>\n",
       "\t<li>FALSE</li>\n",
       "\t<li>FALSE</li>\n",
       "\t<li>FALSE</li>\n",
       "\t<li>TRUE</li>\n",
       "\t<li>TRUE</li>\n",
       "\t<li>TRUE</li>\n",
       "\t<li>TRUE</li>\n",
       "\t<li>TRUE</li>\n",
       "\t<li>TRUE</li>\n",
       "\t<li>TRUE</li>\n",
       "\t<li>TRUE</li>\n",
       "\t<li>TRUE</li>\n",
       "\t<li>TRUE</li>\n",
       "\t<li>TRUE</li>\n",
       "\t<li>TRUE</li>\n",
       "\t<li>TRUE</li>\n",
       "\t<li>TRUE</li>\n",
       "\t<li>TRUE</li>\n",
       "\t<li>TRUE</li>\n",
       "\t<li>TRUE</li>\n",
       "\t<li>FALSE</li>\n",
       "\t<li>FALSE</li>\n",
       "\t<li>TRUE</li>\n",
       "\t<li>FALSE</li>\n",
       "\t<li>FALSE</li>\n",
       "\t<li>FALSE</li>\n",
       "\t<li>FALSE</li>\n",
       "\t<li>FALSE</li>\n",
       "\t<li>TRUE</li>\n",
       "\t<li>TRUE</li>\n",
       "\t<li>TRUE</li>\n",
       "\t<li>FALSE</li>\n",
       "\t<li>TRUE</li>\n",
       "\t<li>TRUE</li>\n",
       "\t<li>FALSE</li>\n",
       "\t<li>TRUE</li>\n",
       "\t<li>TRUE</li>\n",
       "\t<li>TRUE</li>\n",
       "\t<li>TRUE</li>\n",
       "\t<li>TRUE</li>\n",
       "\t<li>TRUE</li>\n",
       "\t<li>TRUE</li>\n",
       "\t<li>TRUE</li>\n",
       "\t<li>TRUE</li>\n",
       "\t<li>TRUE</li>\n",
       "\t<li>TRUE</li>\n",
       "\t<li>TRUE</li>\n",
       "\t<li>TRUE</li>\n",
       "\t<li>FALSE</li>\n",
       "\t<li>FALSE</li>\n",
       "\t<li>FALSE</li>\n",
       "\t<li>FALSE</li>\n",
       "\t<li>FALSE</li>\n",
       "\t<li>TRUE</li>\n",
       "\t<li>FALSE</li>\n",
       "\t<li>TRUE</li>\n",
       "\t<li>TRUE</li>\n",
       "\t<li>FALSE</li>\n",
       "\t<li>TRUE</li>\n",
       "\t<li>TRUE</li>\n",
       "\t<li>FALSE</li>\n",
       "\t<li>TRUE</li>\n",
       "\t<li>TRUE</li>\n",
       "\t<li>TRUE</li>\n",
       "\t<li>TRUE</li>\n",
       "\t<li>TRUE</li>\n",
       "\t<li>FALSE</li>\n",
       "\t<li>TRUE</li>\n",
       "\t<li>TRUE</li>\n",
       "\t<li>TRUE</li>\n",
       "\t<li>TRUE</li>\n",
       "\t<li>FALSE</li>\n",
       "\t<li>FALSE</li>\n",
       "\t<li>FALSE</li>\n",
       "\t<li>FALSE</li>\n",
       "\t<li>TRUE</li>\n",
       "\t<li>TRUE</li>\n",
       "\t<li>TRUE</li>\n",
       "\t<li>TRUE</li>\n",
       "\t<li>TRUE</li>\n",
       "\t<li>TRUE</li>\n",
       "\t<li>TRUE</li>\n",
       "\t<li>TRUE</li>\n",
       "\t<li>FALSE</li>\n",
       "\t<li>TRUE</li>\n",
       "\t<li>TRUE</li>\n",
       "\t<li>TRUE</li>\n",
       "\t<li>TRUE</li>\n",
       "\t<li>TRUE</li>\n",
       "\t<li>TRUE</li>\n",
       "\t<li>TRUE</li>\n",
       "\t<li>TRUE</li>\n",
       "\t<li>TRUE</li>\n",
       "\t<li>TRUE</li>\n",
       "\t<li>TRUE</li>\n",
       "\t<li>TRUE</li>\n",
       "\t<li>FALSE</li>\n",
       "\t<li>TRUE</li>\n",
       "\t<li>TRUE</li>\n",
       "\t<li>TRUE</li>\n",
       "\t<li>TRUE</li>\n",
       "\t<li>TRUE</li>\n",
       "\t<li>TRUE</li>\n",
       "\t<li>TRUE</li>\n",
       "\t<li>TRUE</li>\n",
       "\t<li>TRUE</li>\n",
       "\t<li>FALSE</li>\n",
       "\t<li>TRUE</li>\n",
       "\t<li>TRUE</li>\n",
       "\t<li>TRUE</li>\n",
       "\t<li>TRUE</li>\n",
       "\t<li>FALSE</li>\n",
       "\t<li>FALSE</li>\n",
       "\t<li>FALSE</li>\n",
       "\t<li>TRUE</li>\n",
       "\t<li>TRUE</li>\n",
       "\t<li>FALSE</li>\n",
       "\t<li>TRUE</li>\n",
       "\t<li>TRUE</li>\n",
       "\t<li>TRUE</li>\n",
       "\t<li>TRUE</li>\n",
       "\t<li>TRUE</li>\n",
       "\t<li>TRUE</li>\n",
       "\t<li>TRUE</li>\n",
       "\t<li>TRUE</li>\n",
       "\t<li>TRUE</li>\n",
       "\t<li>TRUE</li>\n",
       "\t<li>TRUE</li>\n",
       "\t<li>FALSE</li>\n",
       "\t<li>TRUE</li>\n",
       "\t<li>TRUE</li>\n",
       "\t<li>TRUE</li>\n",
       "\t<li>TRUE</li>\n",
       "\t<li>TRUE</li>\n",
       "\t<li>TRUE</li>\n",
       "\t<li>TRUE</li>\n",
       "\t<li>TRUE</li>\n",
       "\t<li>FALSE</li>\n",
       "\t<li>TRUE</li>\n",
       "\t<li>TRUE</li>\n",
       "\t<li>TRUE</li>\n",
       "\t<li>TRUE</li>\n",
       "\t<li>TRUE</li>\n",
       "\t<li>TRUE</li>\n",
       "\t<li>TRUE</li>\n",
       "\t<li>TRUE</li>\n",
       "\t<li>TRUE</li>\n",
       "\t<li>TRUE</li>\n",
       "\t<li>TRUE</li>\n",
       "\t<li>TRUE</li>\n",
       "\t<li>TRUE</li>\n",
       "\t<li>TRUE</li>\n",
       "\t<li>TRUE</li>\n",
       "\t<li>TRUE</li>\n",
       "\t<li>TRUE</li>\n",
       "\t<li>TRUE</li>\n",
       "\t<li>TRUE</li>\n",
       "\t<li>TRUE</li>\n",
       "\t<li>TRUE</li>\n",
       "\t<li>TRUE</li>\n",
       "\t<li>TRUE</li>\n",
       "\t<li>TRUE</li>\n",
       "\t<li>TRUE</li>\n",
       "\t<li>TRUE</li>\n",
       "\t<li>TRUE</li>\n",
       "\t<li>TRUE</li>\n",
       "\t<li>TRUE</li>\n",
       "\t<li>TRUE</li>\n",
       "\t<li>TRUE</li>\n",
       "\t<li>TRUE</li>\n",
       "\t<li>TRUE</li>\n",
       "\t<li>TRUE</li>\n",
       "\t<li>TRUE</li>\n",
       "\t<li>TRUE</li>\n",
       "\t<li>TRUE</li>\n",
       "\t<li>TRUE</li>\n",
       "\t<li>TRUE</li>\n",
       "\t<li>TRUE</li>\n",
       "\t<li>TRUE</li>\n",
       "\t<li>TRUE</li>\n",
       "\t<li>TRUE</li>\n",
       "\t<li>FALSE</li>\n",
       "\t<li>FALSE</li>\n",
       "\t<li>TRUE</li>\n",
       "\t<li>FALSE</li>\n",
       "\t<li>TRUE</li>\n",
       "\t<li>TRUE</li>\n",
       "\t<li>FALSE</li>\n",
       "\t<li>FALSE</li>\n",
       "\t<li>TRUE</li>\n",
       "\t<li>TRUE</li>\n",
       "\t<li>TRUE</li>\n",
       "\t<li>TRUE</li>\n",
       "\t<li>FALSE</li>\n",
       "\t<li>TRUE</li>\n",
       "\t<li>TRUE</li>\n",
       "\t<li>TRUE</li>\n",
       "\t<li>FALSE</li>\n",
       "\t<li>TRUE</li>\n",
       "\t<li>TRUE</li>\n",
       "\t<li>TRUE</li>\n",
       "\t<li>TRUE</li>\n",
       "\t<li>TRUE</li>\n",
       "\t<li>TRUE</li>\n",
       "\t<li>TRUE</li>\n",
       "\t<li>TRUE</li>\n",
       "\t<li>FALSE</li>\n",
       "\t<li>TRUE</li>\n",
       "\t<li>TRUE</li>\n",
       "\t<li>TRUE</li>\n",
       "\t<li>TRUE</li>\n",
       "\t<li>TRUE</li>\n",
       "\t<li>TRUE</li>\n",
       "\t<li>TRUE</li>\n",
       "\t<li>TRUE</li>\n",
       "\t<li>TRUE</li>\n",
       "\t<li>FALSE</li>\n",
       "\t<li>TRUE</li>\n",
       "\t<li>TRUE</li>\n",
       "\t<li>TRUE</li>\n",
       "\t<li>TRUE</li>\n",
       "\t<li>TRUE</li>\n",
       "\t<li>TRUE</li>\n",
       "\t<li>TRUE</li>\n",
       "\t<li>TRUE</li>\n",
       "\t<li>TRUE</li>\n",
       "\t<li>TRUE</li>\n",
       "\t<li>FALSE</li>\n",
       "\t<li>FALSE</li>\n",
       "</ol>\n"
      ],
      "text/latex": [
       "\\begin{enumerate*}\n",
       "\\item FALSE\n",
       "\\item TRUE\n",
       "\\item FALSE\n",
       "\\item TRUE\n",
       "\\item TRUE\n",
       "\\item TRUE\n",
       "\\item TRUE\n",
       "\\item TRUE\n",
       "\\item TRUE\n",
       "\\item TRUE\n",
       "\\item TRUE\n",
       "\\item TRUE\n",
       "\\item TRUE\n",
       "\\item FALSE\n",
       "\\item TRUE\n",
       "\\item TRUE\n",
       "\\item TRUE\n",
       "\\item TRUE\n",
       "\\item TRUE\n",
       "\\item TRUE\n",
       "\\item TRUE\n",
       "\\item FALSE\n",
       "\\item FALSE\n",
       "\\item FALSE\n",
       "\\item TRUE\n",
       "\\item TRUE\n",
       "\\item TRUE\n",
       "\\item TRUE\n",
       "\\item TRUE\n",
       "\\item TRUE\n",
       "\\item TRUE\n",
       "\\item TRUE\n",
       "\\item TRUE\n",
       "\\item TRUE\n",
       "\\item TRUE\n",
       "\\item TRUE\n",
       "\\item TRUE\n",
       "\\item TRUE\n",
       "\\item TRUE\n",
       "\\item TRUE\n",
       "\\item TRUE\n",
       "\\item FALSE\n",
       "\\item FALSE\n",
       "\\item TRUE\n",
       "\\item FALSE\n",
       "\\item FALSE\n",
       "\\item FALSE\n",
       "\\item FALSE\n",
       "\\item FALSE\n",
       "\\item TRUE\n",
       "\\item TRUE\n",
       "\\item TRUE\n",
       "\\item FALSE\n",
       "\\item TRUE\n",
       "\\item TRUE\n",
       "\\item FALSE\n",
       "\\item TRUE\n",
       "\\item TRUE\n",
       "\\item TRUE\n",
       "\\item TRUE\n",
       "\\item TRUE\n",
       "\\item TRUE\n",
       "\\item TRUE\n",
       "\\item TRUE\n",
       "\\item TRUE\n",
       "\\item TRUE\n",
       "\\item TRUE\n",
       "\\item TRUE\n",
       "\\item TRUE\n",
       "\\item FALSE\n",
       "\\item FALSE\n",
       "\\item FALSE\n",
       "\\item FALSE\n",
       "\\item FALSE\n",
       "\\item TRUE\n",
       "\\item FALSE\n",
       "\\item TRUE\n",
       "\\item TRUE\n",
       "\\item FALSE\n",
       "\\item TRUE\n",
       "\\item TRUE\n",
       "\\item FALSE\n",
       "\\item TRUE\n",
       "\\item TRUE\n",
       "\\item TRUE\n",
       "\\item TRUE\n",
       "\\item TRUE\n",
       "\\item FALSE\n",
       "\\item TRUE\n",
       "\\item TRUE\n",
       "\\item TRUE\n",
       "\\item TRUE\n",
       "\\item FALSE\n",
       "\\item FALSE\n",
       "\\item FALSE\n",
       "\\item FALSE\n",
       "\\item TRUE\n",
       "\\item TRUE\n",
       "\\item TRUE\n",
       "\\item TRUE\n",
       "\\item TRUE\n",
       "\\item TRUE\n",
       "\\item TRUE\n",
       "\\item TRUE\n",
       "\\item FALSE\n",
       "\\item TRUE\n",
       "\\item TRUE\n",
       "\\item TRUE\n",
       "\\item TRUE\n",
       "\\item TRUE\n",
       "\\item TRUE\n",
       "\\item TRUE\n",
       "\\item TRUE\n",
       "\\item TRUE\n",
       "\\item TRUE\n",
       "\\item TRUE\n",
       "\\item TRUE\n",
       "\\item FALSE\n",
       "\\item TRUE\n",
       "\\item TRUE\n",
       "\\item TRUE\n",
       "\\item TRUE\n",
       "\\item TRUE\n",
       "\\item TRUE\n",
       "\\item TRUE\n",
       "\\item TRUE\n",
       "\\item TRUE\n",
       "\\item FALSE\n",
       "\\item TRUE\n",
       "\\item TRUE\n",
       "\\item TRUE\n",
       "\\item TRUE\n",
       "\\item FALSE\n",
       "\\item FALSE\n",
       "\\item FALSE\n",
       "\\item TRUE\n",
       "\\item TRUE\n",
       "\\item FALSE\n",
       "\\item TRUE\n",
       "\\item TRUE\n",
       "\\item TRUE\n",
       "\\item TRUE\n",
       "\\item TRUE\n",
       "\\item TRUE\n",
       "\\item TRUE\n",
       "\\item TRUE\n",
       "\\item TRUE\n",
       "\\item TRUE\n",
       "\\item TRUE\n",
       "\\item FALSE\n",
       "\\item TRUE\n",
       "\\item TRUE\n",
       "\\item TRUE\n",
       "\\item TRUE\n",
       "\\item TRUE\n",
       "\\item TRUE\n",
       "\\item TRUE\n",
       "\\item TRUE\n",
       "\\item FALSE\n",
       "\\item TRUE\n",
       "\\item TRUE\n",
       "\\item TRUE\n",
       "\\item TRUE\n",
       "\\item TRUE\n",
       "\\item TRUE\n",
       "\\item TRUE\n",
       "\\item TRUE\n",
       "\\item TRUE\n",
       "\\item TRUE\n",
       "\\item TRUE\n",
       "\\item TRUE\n",
       "\\item TRUE\n",
       "\\item TRUE\n",
       "\\item TRUE\n",
       "\\item TRUE\n",
       "\\item TRUE\n",
       "\\item TRUE\n",
       "\\item TRUE\n",
       "\\item TRUE\n",
       "\\item TRUE\n",
       "\\item TRUE\n",
       "\\item TRUE\n",
       "\\item TRUE\n",
       "\\item TRUE\n",
       "\\item TRUE\n",
       "\\item TRUE\n",
       "\\item TRUE\n",
       "\\item TRUE\n",
       "\\item TRUE\n",
       "\\item TRUE\n",
       "\\item TRUE\n",
       "\\item TRUE\n",
       "\\item TRUE\n",
       "\\item TRUE\n",
       "\\item TRUE\n",
       "\\item TRUE\n",
       "\\item TRUE\n",
       "\\item TRUE\n",
       "\\item TRUE\n",
       "\\item TRUE\n",
       "\\item TRUE\n",
       "\\item TRUE\n",
       "\\item FALSE\n",
       "\\item FALSE\n",
       "\\item TRUE\n",
       "\\item FALSE\n",
       "\\item TRUE\n",
       "\\item TRUE\n",
       "\\item FALSE\n",
       "\\item FALSE\n",
       "\\item TRUE\n",
       "\\item TRUE\n",
       "\\item TRUE\n",
       "\\item TRUE\n",
       "\\item FALSE\n",
       "\\item TRUE\n",
       "\\item TRUE\n",
       "\\item TRUE\n",
       "\\item FALSE\n",
       "\\item TRUE\n",
       "\\item TRUE\n",
       "\\item TRUE\n",
       "\\item TRUE\n",
       "\\item TRUE\n",
       "\\item TRUE\n",
       "\\item TRUE\n",
       "\\item TRUE\n",
       "\\item FALSE\n",
       "\\item TRUE\n",
       "\\item TRUE\n",
       "\\item TRUE\n",
       "\\item TRUE\n",
       "\\item TRUE\n",
       "\\item TRUE\n",
       "\\item TRUE\n",
       "\\item TRUE\n",
       "\\item TRUE\n",
       "\\item FALSE\n",
       "\\item TRUE\n",
       "\\item TRUE\n",
       "\\item TRUE\n",
       "\\item TRUE\n",
       "\\item TRUE\n",
       "\\item TRUE\n",
       "\\item TRUE\n",
       "\\item TRUE\n",
       "\\item TRUE\n",
       "\\item TRUE\n",
       "\\item FALSE\n",
       "\\item FALSE\n",
       "\\end{enumerate*}\n"
      ],
      "text/markdown": [
       "1. FALSE\n",
       "2. TRUE\n",
       "3. FALSE\n",
       "4. TRUE\n",
       "5. TRUE\n",
       "6. TRUE\n",
       "7. TRUE\n",
       "8. TRUE\n",
       "9. TRUE\n",
       "10. TRUE\n",
       "11. TRUE\n",
       "12. TRUE\n",
       "13. TRUE\n",
       "14. FALSE\n",
       "15. TRUE\n",
       "16. TRUE\n",
       "17. TRUE\n",
       "18. TRUE\n",
       "19. TRUE\n",
       "20. TRUE\n",
       "21. TRUE\n",
       "22. FALSE\n",
       "23. FALSE\n",
       "24. FALSE\n",
       "25. TRUE\n",
       "26. TRUE\n",
       "27. TRUE\n",
       "28. TRUE\n",
       "29. TRUE\n",
       "30. TRUE\n",
       "31. TRUE\n",
       "32. TRUE\n",
       "33. TRUE\n",
       "34. TRUE\n",
       "35. TRUE\n",
       "36. TRUE\n",
       "37. TRUE\n",
       "38. TRUE\n",
       "39. TRUE\n",
       "40. TRUE\n",
       "41. TRUE\n",
       "42. FALSE\n",
       "43. FALSE\n",
       "44. TRUE\n",
       "45. FALSE\n",
       "46. FALSE\n",
       "47. FALSE\n",
       "48. FALSE\n",
       "49. FALSE\n",
       "50. TRUE\n",
       "51. TRUE\n",
       "52. TRUE\n",
       "53. FALSE\n",
       "54. TRUE\n",
       "55. TRUE\n",
       "56. FALSE\n",
       "57. TRUE\n",
       "58. TRUE\n",
       "59. TRUE\n",
       "60. TRUE\n",
       "61. TRUE\n",
       "62. TRUE\n",
       "63. TRUE\n",
       "64. TRUE\n",
       "65. TRUE\n",
       "66. TRUE\n",
       "67. TRUE\n",
       "68. TRUE\n",
       "69. TRUE\n",
       "70. FALSE\n",
       "71. FALSE\n",
       "72. FALSE\n",
       "73. FALSE\n",
       "74. FALSE\n",
       "75. TRUE\n",
       "76. FALSE\n",
       "77. TRUE\n",
       "78. TRUE\n",
       "79. FALSE\n",
       "80. TRUE\n",
       "81. TRUE\n",
       "82. FALSE\n",
       "83. TRUE\n",
       "84. TRUE\n",
       "85. TRUE\n",
       "86. TRUE\n",
       "87. TRUE\n",
       "88. FALSE\n",
       "89. TRUE\n",
       "90. TRUE\n",
       "91. TRUE\n",
       "92. TRUE\n",
       "93. FALSE\n",
       "94. FALSE\n",
       "95. FALSE\n",
       "96. FALSE\n",
       "97. TRUE\n",
       "98. TRUE\n",
       "99. TRUE\n",
       "100. TRUE\n",
       "101. TRUE\n",
       "102. TRUE\n",
       "103. TRUE\n",
       "104. TRUE\n",
       "105. FALSE\n",
       "106. TRUE\n",
       "107. TRUE\n",
       "108. TRUE\n",
       "109. TRUE\n",
       "110. TRUE\n",
       "111. TRUE\n",
       "112. TRUE\n",
       "113. TRUE\n",
       "114. TRUE\n",
       "115. TRUE\n",
       "116. TRUE\n",
       "117. TRUE\n",
       "118. FALSE\n",
       "119. TRUE\n",
       "120. TRUE\n",
       "121. TRUE\n",
       "122. TRUE\n",
       "123. TRUE\n",
       "124. TRUE\n",
       "125. TRUE\n",
       "126. TRUE\n",
       "127. TRUE\n",
       "128. FALSE\n",
       "129. TRUE\n",
       "130. TRUE\n",
       "131. TRUE\n",
       "132. TRUE\n",
       "133. FALSE\n",
       "134. FALSE\n",
       "135. FALSE\n",
       "136. TRUE\n",
       "137. TRUE\n",
       "138. FALSE\n",
       "139. TRUE\n",
       "140. TRUE\n",
       "141. TRUE\n",
       "142. TRUE\n",
       "143. TRUE\n",
       "144. TRUE\n",
       "145. TRUE\n",
       "146. TRUE\n",
       "147. TRUE\n",
       "148. TRUE\n",
       "149. TRUE\n",
       "150. FALSE\n",
       "151. TRUE\n",
       "152. TRUE\n",
       "153. TRUE\n",
       "154. TRUE\n",
       "155. TRUE\n",
       "156. TRUE\n",
       "157. TRUE\n",
       "158. TRUE\n",
       "159. FALSE\n",
       "160. TRUE\n",
       "161. TRUE\n",
       "162. TRUE\n",
       "163. TRUE\n",
       "164. TRUE\n",
       "165. TRUE\n",
       "166. TRUE\n",
       "167. TRUE\n",
       "168. TRUE\n",
       "169. TRUE\n",
       "170. TRUE\n",
       "171. TRUE\n",
       "172. TRUE\n",
       "173. TRUE\n",
       "174. TRUE\n",
       "175. TRUE\n",
       "176. TRUE\n",
       "177. TRUE\n",
       "178. TRUE\n",
       "179. TRUE\n",
       "180. TRUE\n",
       "181. TRUE\n",
       "182. TRUE\n",
       "183. TRUE\n",
       "184. TRUE\n",
       "185. TRUE\n",
       "186. TRUE\n",
       "187. TRUE\n",
       "188. TRUE\n",
       "189. TRUE\n",
       "190. TRUE\n",
       "191. TRUE\n",
       "192. TRUE\n",
       "193. TRUE\n",
       "194. TRUE\n",
       "195. TRUE\n",
       "196. TRUE\n",
       "197. TRUE\n",
       "198. TRUE\n",
       "199. TRUE\n",
       "200. TRUE\n",
       "201. TRUE\n",
       "202. TRUE\n",
       "203. FALSE\n",
       "204. FALSE\n",
       "205. TRUE\n",
       "206. FALSE\n",
       "207. TRUE\n",
       "208. TRUE\n",
       "209. FALSE\n",
       "210. FALSE\n",
       "211. TRUE\n",
       "212. TRUE\n",
       "213. TRUE\n",
       "214. TRUE\n",
       "215. FALSE\n",
       "216. TRUE\n",
       "217. TRUE\n",
       "218. TRUE\n",
       "219. FALSE\n",
       "220. TRUE\n",
       "221. TRUE\n",
       "222. TRUE\n",
       "223. TRUE\n",
       "224. TRUE\n",
       "225. TRUE\n",
       "226. TRUE\n",
       "227. TRUE\n",
       "228. FALSE\n",
       "229. TRUE\n",
       "230. TRUE\n",
       "231. TRUE\n",
       "232. TRUE\n",
       "233. TRUE\n",
       "234. TRUE\n",
       "235. TRUE\n",
       "236. TRUE\n",
       "237. TRUE\n",
       "238. FALSE\n",
       "239. TRUE\n",
       "240. TRUE\n",
       "241. TRUE\n",
       "242. TRUE\n",
       "243. TRUE\n",
       "244. TRUE\n",
       "245. TRUE\n",
       "246. TRUE\n",
       "247. TRUE\n",
       "248. TRUE\n",
       "249. FALSE\n",
       "250. FALSE\n",
       "\n",
       "\n"
      ],
      "text/plain": [
       "  [1] FALSE  TRUE FALSE  TRUE  TRUE  TRUE  TRUE  TRUE  TRUE  TRUE  TRUE  TRUE\n",
       " [13]  TRUE FALSE  TRUE  TRUE  TRUE  TRUE  TRUE  TRUE  TRUE FALSE FALSE FALSE\n",
       " [25]  TRUE  TRUE  TRUE  TRUE  TRUE  TRUE  TRUE  TRUE  TRUE  TRUE  TRUE  TRUE\n",
       " [37]  TRUE  TRUE  TRUE  TRUE  TRUE FALSE FALSE  TRUE FALSE FALSE FALSE FALSE\n",
       " [49] FALSE  TRUE  TRUE  TRUE FALSE  TRUE  TRUE FALSE  TRUE  TRUE  TRUE  TRUE\n",
       " [61]  TRUE  TRUE  TRUE  TRUE  TRUE  TRUE  TRUE  TRUE  TRUE FALSE FALSE FALSE\n",
       " [73] FALSE FALSE  TRUE FALSE  TRUE  TRUE FALSE  TRUE  TRUE FALSE  TRUE  TRUE\n",
       " [85]  TRUE  TRUE  TRUE FALSE  TRUE  TRUE  TRUE  TRUE FALSE FALSE FALSE FALSE\n",
       " [97]  TRUE  TRUE  TRUE  TRUE  TRUE  TRUE  TRUE  TRUE FALSE  TRUE  TRUE  TRUE\n",
       "[109]  TRUE  TRUE  TRUE  TRUE  TRUE  TRUE  TRUE  TRUE  TRUE FALSE  TRUE  TRUE\n",
       "[121]  TRUE  TRUE  TRUE  TRUE  TRUE  TRUE  TRUE FALSE  TRUE  TRUE  TRUE  TRUE\n",
       "[133] FALSE FALSE FALSE  TRUE  TRUE FALSE  TRUE  TRUE  TRUE  TRUE  TRUE  TRUE\n",
       "[145]  TRUE  TRUE  TRUE  TRUE  TRUE FALSE  TRUE  TRUE  TRUE  TRUE  TRUE  TRUE\n",
       "[157]  TRUE  TRUE FALSE  TRUE  TRUE  TRUE  TRUE  TRUE  TRUE  TRUE  TRUE  TRUE\n",
       "[169]  TRUE  TRUE  TRUE  TRUE  TRUE  TRUE  TRUE  TRUE  TRUE  TRUE  TRUE  TRUE\n",
       "[181]  TRUE  TRUE  TRUE  TRUE  TRUE  TRUE  TRUE  TRUE  TRUE  TRUE  TRUE  TRUE\n",
       "[193]  TRUE  TRUE  TRUE  TRUE  TRUE  TRUE  TRUE  TRUE  TRUE  TRUE FALSE FALSE\n",
       "[205]  TRUE FALSE  TRUE  TRUE FALSE FALSE  TRUE  TRUE  TRUE  TRUE FALSE  TRUE\n",
       "[217]  TRUE  TRUE FALSE  TRUE  TRUE  TRUE  TRUE  TRUE  TRUE  TRUE  TRUE FALSE\n",
       "[229]  TRUE  TRUE  TRUE  TRUE  TRUE  TRUE  TRUE  TRUE  TRUE FALSE  TRUE  TRUE\n",
       "[241]  TRUE  TRUE  TRUE  TRUE  TRUE  TRUE  TRUE  TRUE FALSE FALSE"
      ]
     },
     "metadata": {},
     "output_type": "display_data"
    },
    {
     "data": {
      "text/html": [
       "202"
      ],
      "text/latex": [
       "202"
      ],
      "text/markdown": [
       "202"
      ],
      "text/plain": [
       "[1] 202"
      ]
     },
     "metadata": {},
     "output_type": "display_data"
    }
   ],
   "source": [
    "# numbers of >= 85\n",
    "electionSum$PortionThree >= 85\n",
    "sum(electionSum$PortionThree >= 85)"
   ]
  },
  {
   "cell_type": "markdown",
   "metadata": {},
   "source": []
  },
  {
   "cell_type": "code",
   "execution_count": 16,
   "metadata": {
    "scrolled": true
   },
   "outputs": [
    {
     "data": {
      "text/html": [
       "80.8"
      ],
      "text/latex": [
       "80.8"
      ],
      "text/markdown": [
       "80.8"
      ],
      "text/plain": [
       "[1] 80.8"
      ]
     },
     "metadata": {},
     "output_type": "display_data"
    }
   ],
   "source": [
    "(sum(electionSum$PortionThree >= 85) / nrow(electionSum))*100"
   ]
  },
  {
   "cell_type": "markdown",
   "metadata": {},
   "source": [
    "80.8% of county shows that the voter share of three candidates occupy 85%."
   ]
  },
  {
   "cell_type": "markdown",
   "metadata": {},
   "source": [
    "## Counties where the three candidates dominate >= 93% voter shares. "
   ]
  },
  {
   "cell_type": "code",
   "execution_count": 17,
   "metadata": {
    "scrolled": false
   },
   "outputs": [
    {
     "data": {
      "text/html": [
       "<table>\n",
       "<caption>A data.frame: 10 × 10</caption>\n",
       "<thead>\n",
       "\t<tr><th></th><th scope=col>X</th><th scope=col>광역시도</th><th scope=col>시군</th><th scope=col>pop</th><th scope=col>moon</th><th scope=col>hong</th><th scope=col>ahn</th><th scope=col>Sum.ThreeCand</th><th scope=col>others</th><th scope=col>PortionThree</th></tr>\n",
       "\t<tr><th></th><th scope=col>&lt;int&gt;</th><th scope=col>&lt;fct&gt;</th><th scope=col>&lt;fct&gt;</th><th scope=col>&lt;int&gt;</th><th scope=col>&lt;int&gt;</th><th scope=col>&lt;int&gt;</th><th scope=col>&lt;int&gt;</th><th scope=col>&lt;int&gt;</th><th scope=col>&lt;int&gt;</th><th scope=col>&lt;dbl&gt;</th></tr>\n",
       "</thead>\n",
       "<tbody>\n",
       "\t<tr><th scope=row>195</th><td>194</td><td>전라남도  </td><td>완도군</td><td> 34886</td><td>20945</td><td> 762</td><td>11021</td><td> 32728</td><td> 2158</td><td>93.81</td></tr>\n",
       "\t<tr><th scope=row>202</th><td>201</td><td>전라남도  </td><td>신안군</td><td> 28950</td><td>14370</td><td> 713</td><td>12000</td><td> 27083</td><td> 1867</td><td>93.55</td></tr>\n",
       "\t<tr><th scope=row>196</th><td>195</td><td>전라남도  </td><td>해남군</td><td> 48351</td><td>25901</td><td>1158</td><td>18157</td><td> 45216</td><td> 3135</td><td>93.52</td></tr>\n",
       "\t<tr><th scope=row>189</th><td>188</td><td>전라남도  </td><td>구례군</td><td> 18924</td><td>11873</td><td> 628</td><td> 5188</td><td> 17689</td><td> 1235</td><td>93.47</td></tr>\n",
       "\t<tr><th scope=row>201</th><td>200</td><td>전라남도  </td><td>함평군</td><td> 23368</td><td>13539</td><td> 471</td><td> 7831</td><td> 21841</td><td> 1527</td><td>93.47</td></tr>\n",
       "\t<tr><th scope=row>197</th><td>196</td><td>전라남도  </td><td>진도군</td><td> 21189</td><td>10392</td><td> 511</td><td> 8855</td><td> 19758</td><td> 1431</td><td>93.25</td></tr>\n",
       "\t<tr><th scope=row>60</th><td> 59</td><td>광주광역시</td><td>동구  </td><td> 66287</td><td>37053</td><td>1308</td><td>23438</td><td> 61799</td><td> 4488</td><td>93.23</td></tr>\n",
       "\t<tr><th scope=row>190</th><td>189</td><td>전라남도  </td><td>고흥군</td><td> 47036</td><td>26882</td><td>1349</td><td>15614</td><td> 43845</td><td> 3191</td><td>93.22</td></tr>\n",
       "\t<tr><th scope=row>191</th><td>190</td><td>전라남도  </td><td>보성군</td><td> 29967</td><td>16666</td><td> 732</td><td>10514</td><td> 27912</td><td> 2055</td><td>93.14</td></tr>\n",
       "\t<tr><th scope=row>62</th><td> 61</td><td>광주광역시</td><td>남구  </td><td>146037</td><td>85642</td><td>2521</td><td>47663</td><td>135826</td><td>10211</td><td>93.01</td></tr>\n",
       "</tbody>\n",
       "</table>\n"
      ],
      "text/latex": [
       "A data.frame: 10 × 10\n",
       "\\begin{tabular}{r|llllllllll}\n",
       "  & X & 광역시도 & 시군 & pop & moon & hong & ahn & Sum.ThreeCand & others & PortionThree\\\\\n",
       "  & <int> & <fct> & <fct> & <int> & <int> & <int> & <int> & <int> & <int> & <dbl>\\\\\n",
       "\\hline\n",
       "\t195 & 194 & 전라남도   & 완도군 &  34886 & 20945 &  762 & 11021 &  32728 &  2158 & 93.81\\\\\n",
       "\t202 & 201 & 전라남도   & 신안군 &  28950 & 14370 &  713 & 12000 &  27083 &  1867 & 93.55\\\\\n",
       "\t196 & 195 & 전라남도   & 해남군 &  48351 & 25901 & 1158 & 18157 &  45216 &  3135 & 93.52\\\\\n",
       "\t189 & 188 & 전라남도   & 구례군 &  18924 & 11873 &  628 &  5188 &  17689 &  1235 & 93.47\\\\\n",
       "\t201 & 200 & 전라남도   & 함평군 &  23368 & 13539 &  471 &  7831 &  21841 &  1527 & 93.47\\\\\n",
       "\t197 & 196 & 전라남도   & 진도군 &  21189 & 10392 &  511 &  8855 &  19758 &  1431 & 93.25\\\\\n",
       "\t60 &  59 & 광주광역시 & 동구   &  66287 & 37053 & 1308 & 23438 &  61799 &  4488 & 93.23\\\\\n",
       "\t190 & 189 & 전라남도   & 고흥군 &  47036 & 26882 & 1349 & 15614 &  43845 &  3191 & 93.22\\\\\n",
       "\t191 & 190 & 전라남도   & 보성군 &  29967 & 16666 &  732 & 10514 &  27912 &  2055 & 93.14\\\\\n",
       "\t62 &  61 & 광주광역시 & 남구   & 146037 & 85642 & 2521 & 47663 & 135826 & 10211 & 93.01\\\\\n",
       "\\end{tabular}\n"
      ],
      "text/markdown": [
       "\n",
       "A data.frame: 10 × 10\n",
       "\n",
       "| <!--/--> | X &lt;int&gt; | 광역시도 &lt;fct&gt; | 시군 &lt;fct&gt; | pop &lt;int&gt; | moon &lt;int&gt; | hong &lt;int&gt; | ahn &lt;int&gt; | Sum.ThreeCand &lt;int&gt; | others &lt;int&gt; | PortionThree &lt;dbl&gt; |\n",
       "|---|---|---|---|---|---|---|---|---|---|---|\n",
       "| 195 | 194 | 전라남도   | 완도군 |  34886 | 20945 |  762 | 11021 |  32728 |  2158 | 93.81 |\n",
       "| 202 | 201 | 전라남도   | 신안군 |  28950 | 14370 |  713 | 12000 |  27083 |  1867 | 93.55 |\n",
       "| 196 | 195 | 전라남도   | 해남군 |  48351 | 25901 | 1158 | 18157 |  45216 |  3135 | 93.52 |\n",
       "| 189 | 188 | 전라남도   | 구례군 |  18924 | 11873 |  628 |  5188 |  17689 |  1235 | 93.47 |\n",
       "| 201 | 200 | 전라남도   | 함평군 |  23368 | 13539 |  471 |  7831 |  21841 |  1527 | 93.47 |\n",
       "| 197 | 196 | 전라남도   | 진도군 |  21189 | 10392 |  511 |  8855 |  19758 |  1431 | 93.25 |\n",
       "| 60 |  59 | 광주광역시 | 동구   |  66287 | 37053 | 1308 | 23438 |  61799 |  4488 | 93.23 |\n",
       "| 190 | 189 | 전라남도   | 고흥군 |  47036 | 26882 | 1349 | 15614 |  43845 |  3191 | 93.22 |\n",
       "| 191 | 190 | 전라남도   | 보성군 |  29967 | 16666 |  732 | 10514 |  27912 |  2055 | 93.14 |\n",
       "| 62 |  61 | 광주광역시 | 남구   | 146037 | 85642 | 2521 | 47663 | 135826 | 10211 | 93.01 |\n",
       "\n"
      ],
      "text/plain": [
       "    X   광역시도   시군   pop    moon  hong ahn   Sum.ThreeCand others\n",
       "195 194 전라남도   완도군  34886 20945  762 11021  32728         2158 \n",
       "202 201 전라남도   신안군  28950 14370  713 12000  27083         1867 \n",
       "196 195 전라남도   해남군  48351 25901 1158 18157  45216         3135 \n",
       "189 188 전라남도   구례군  18924 11873  628  5188  17689         1235 \n",
       "201 200 전라남도   함평군  23368 13539  471  7831  21841         1527 \n",
       "197 196 전라남도   진도군  21189 10392  511  8855  19758         1431 \n",
       "60   59 광주광역시 동구    66287 37053 1308 23438  61799         4488 \n",
       "190 189 전라남도   고흥군  47036 26882 1349 15614  43845         3191 \n",
       "191 190 전라남도   보성군  29967 16666  732 10514  27912         2055 \n",
       "62   61 광주광역시 남구   146037 85642 2521 47663 135826        10211 \n",
       "    PortionThree\n",
       "195 93.81       \n",
       "202 93.55       \n",
       "196 93.52       \n",
       "189 93.47       \n",
       "201 93.47       \n",
       "197 93.25       \n",
       "60  93.23       \n",
       "190 93.22       \n",
       "191 93.14       \n",
       "62  93.01       "
      ]
     },
     "metadata": {},
     "output_type": "display_data"
    }
   ],
   "source": [
    "over93 <- subset(electionSum, PortionThree >= 93)\n",
    "over93.ord <- orderBy(~-PortionThree, over93)\n",
    "over93.ord"
   ]
  },
  {
   "cell_type": "code",
   "execution_count": 18,
   "metadata": {},
   "outputs": [
    {
     "data": {
      "text/html": [
       "<ol class=list-inline>\n",
       "\t<li>60.04</li>\n",
       "\t<li>49.64</li>\n",
       "\t<li>53.57</li>\n",
       "\t<li>62.74</li>\n",
       "\t<li>57.94</li>\n",
       "\t<li>49.04</li>\n",
       "\t<li>55.9</li>\n",
       "\t<li>57.15</li>\n",
       "\t<li>55.61</li>\n",
       "\t<li>58.64</li>\n",
       "</ol>\n"
      ],
      "text/latex": [
       "\\begin{enumerate*}\n",
       "\\item 60.04\n",
       "\\item 49.64\n",
       "\\item 53.57\n",
       "\\item 62.74\n",
       "\\item 57.94\n",
       "\\item 49.04\n",
       "\\item 55.9\n",
       "\\item 57.15\n",
       "\\item 55.61\n",
       "\\item 58.64\n",
       "\\end{enumerate*}\n"
      ],
      "text/markdown": [
       "1. 60.04\n",
       "2. 49.64\n",
       "3. 53.57\n",
       "4. 62.74\n",
       "5. 57.94\n",
       "6. 49.04\n",
       "7. 55.9\n",
       "8. 57.15\n",
       "9. 55.61\n",
       "10. 58.64\n",
       "\n",
       "\n"
      ],
      "text/plain": [
       " [1] 60.04 49.64 53.57 62.74 57.94 49.04 55.90 57.15 55.61 58.64"
      ]
     },
     "metadata": {},
     "output_type": "display_data"
    },
    {
     "data": {
      "text/html": [
       "56.62"
      ],
      "text/latex": [
       "56.62"
      ],
      "text/markdown": [
       "56.62"
      ],
      "text/plain": [
       "[1] 56.62"
      ]
     },
     "metadata": {},
     "output_type": "display_data"
    }
   ],
   "source": [
    "# moon\n",
    "round((over93.ord$moon/over93.ord$pop)*100,2)\n",
    "round(sum(over93.ord$moon)/sum(over93.ord$pop) * 100, 2)"
   ]
  },
  {
   "cell_type": "markdown",
   "metadata": {},
   "source": [
    "Voters living in counties in 전라남도 and 광주광역시 province, the west side of South Korea, tends to majorly vote for one of the three candidates as the proportion is over 93. In particluar, Moon has more than 50% of votes in average on those ten countries."
   ]
  },
  {
   "cell_type": "markdown",
   "metadata": {},
   "source": [
    "## Counties where the three candidates occupy the voter share the least"
   ]
  },
  {
   "cell_type": "code",
   "execution_count": 19,
   "metadata": {},
   "outputs": [
    {
     "data": {
      "text/html": [
       "<table>\n",
       "<caption>A data.frame: 6 × 10</caption>\n",
       "<thead>\n",
       "\t<tr><th></th><th scope=col>X</th><th scope=col>광역시도</th><th scope=col>시군</th><th scope=col>pop</th><th scope=col>moon</th><th scope=col>hong</th><th scope=col>ahn</th><th scope=col>Sum.ThreeCand</th><th scope=col>others</th><th scope=col>PortionThree</th></tr>\n",
       "\t<tr><th></th><th scope=col>&lt;int&gt;</th><th scope=col>&lt;fct&gt;</th><th scope=col>&lt;fct&gt;</th><th scope=col>&lt;int&gt;</th><th scope=col>&lt;int&gt;</th><th scope=col>&lt;int&gt;</th><th scope=col>&lt;int&gt;</th><th scope=col>&lt;int&gt;</th><th scope=col>&lt;int&gt;</th><th scope=col>&lt;dbl&gt;</th></tr>\n",
       "</thead>\n",
       "<tbody>\n",
       "\t<tr><th scope=row>1</th><td>0</td><td>서울특별시</td><td>종로구  </td><td>102566</td><td> 42512</td><td>22325</td><td>22313</td><td> 87150</td><td>15416</td><td>84.97</td></tr>\n",
       "\t<tr><th scope=row>2</th><td>1</td><td>서울특별시</td><td>중구    </td><td> 82852</td><td> 34062</td><td>17901</td><td>19372</td><td> 71335</td><td>11517</td><td>86.10</td></tr>\n",
       "\t<tr><th scope=row>3</th><td>2</td><td>서울특별시</td><td>용산구  </td><td>148157</td><td> 58081</td><td>35230</td><td>32109</td><td>125420</td><td>22737</td><td>84.65</td></tr>\n",
       "\t<tr><th scope=row>4</th><td>3</td><td>서울특별시</td><td>성동구  </td><td>203175</td><td> 86686</td><td>40566</td><td>45674</td><td>172926</td><td>30249</td><td>85.11</td></tr>\n",
       "\t<tr><th scope=row>5</th><td>4</td><td>서울특별시</td><td>광진구  </td><td>240030</td><td>105512</td><td>46368</td><td>52824</td><td>204704</td><td>35326</td><td>85.28</td></tr>\n",
       "\t<tr><th scope=row>6</th><td>5</td><td>서울특별시</td><td>동대문구</td><td>236092</td><td> 98958</td><td>51631</td><td>53359</td><td>203948</td><td>32144</td><td>86.38</td></tr>\n",
       "</tbody>\n",
       "</table>\n"
      ],
      "text/latex": [
       "A data.frame: 6 × 10\n",
       "\\begin{tabular}{r|llllllllll}\n",
       "  & X & 광역시도 & 시군 & pop & moon & hong & ahn & Sum.ThreeCand & others & PortionThree\\\\\n",
       "  & <int> & <fct> & <fct> & <int> & <int> & <int> & <int> & <int> & <int> & <dbl>\\\\\n",
       "\\hline\n",
       "\t1 & 0 & 서울특별시 & 종로구   & 102566 &  42512 & 22325 & 22313 &  87150 & 15416 & 84.97\\\\\n",
       "\t2 & 1 & 서울특별시 & 중구     &  82852 &  34062 & 17901 & 19372 &  71335 & 11517 & 86.10\\\\\n",
       "\t3 & 2 & 서울특별시 & 용산구   & 148157 &  58081 & 35230 & 32109 & 125420 & 22737 & 84.65\\\\\n",
       "\t4 & 3 & 서울특별시 & 성동구   & 203175 &  86686 & 40566 & 45674 & 172926 & 30249 & 85.11\\\\\n",
       "\t5 & 4 & 서울특별시 & 광진구   & 240030 & 105512 & 46368 & 52824 & 204704 & 35326 & 85.28\\\\\n",
       "\t6 & 5 & 서울특별시 & 동대문구 & 236092 &  98958 & 51631 & 53359 & 203948 & 32144 & 86.38\\\\\n",
       "\\end{tabular}\n"
      ],
      "text/markdown": [
       "\n",
       "A data.frame: 6 × 10\n",
       "\n",
       "| <!--/--> | X &lt;int&gt; | 광역시도 &lt;fct&gt; | 시군 &lt;fct&gt; | pop &lt;int&gt; | moon &lt;int&gt; | hong &lt;int&gt; | ahn &lt;int&gt; | Sum.ThreeCand &lt;int&gt; | others &lt;int&gt; | PortionThree &lt;dbl&gt; |\n",
       "|---|---|---|---|---|---|---|---|---|---|---|\n",
       "| 1 | 0 | 서울특별시 | 종로구   | 102566 |  42512 | 22325 | 22313 |  87150 | 15416 | 84.97 |\n",
       "| 2 | 1 | 서울특별시 | 중구     |  82852 |  34062 | 17901 | 19372 |  71335 | 11517 | 86.10 |\n",
       "| 3 | 2 | 서울특별시 | 용산구   | 148157 |  58081 | 35230 | 32109 | 125420 | 22737 | 84.65 |\n",
       "| 4 | 3 | 서울특별시 | 성동구   | 203175 |  86686 | 40566 | 45674 | 172926 | 30249 | 85.11 |\n",
       "| 5 | 4 | 서울특별시 | 광진구   | 240030 | 105512 | 46368 | 52824 | 204704 | 35326 | 85.28 |\n",
       "| 6 | 5 | 서울특별시 | 동대문구 | 236092 |  98958 | 51631 | 53359 | 203948 | 32144 | 86.38 |\n",
       "\n"
      ],
      "text/plain": [
       "  X 광역시도   시군     pop    moon   hong  ahn   Sum.ThreeCand others\n",
       "1 0 서울특별시 종로구   102566  42512 22325 22313  87150        15416 \n",
       "2 1 서울특별시 중구      82852  34062 17901 19372  71335        11517 \n",
       "3 2 서울특별시 용산구   148157  58081 35230 32109 125420        22737 \n",
       "4 3 서울특별시 성동구   203175  86686 40566 45674 172926        30249 \n",
       "5 4 서울특별시 광진구   240030 105512 46368 52824 204704        35326 \n",
       "6 5 서울특별시 동대문구 236092  98958 51631 53359 203948        32144 \n",
       "  PortionThree\n",
       "1 84.97       \n",
       "2 86.10       \n",
       "3 84.65       \n",
       "4 85.11       \n",
       "5 85.28       \n",
       "6 86.38       "
      ]
     },
     "metadata": {},
     "output_type": "display_data"
    }
   ],
   "source": [
    "head(electionSum)"
   ]
  },
  {
   "cell_type": "code",
   "execution_count": 20,
   "metadata": {
    "scrolled": false
   },
   "outputs": [
    {
     "data": {
      "text/html": [
       "<table>\n",
       "<caption>A data.frame: 10 × 10</caption>\n",
       "<thead>\n",
       "\t<tr><th></th><th scope=col>X</th><th scope=col>광역시도</th><th scope=col>시군</th><th scope=col>pop</th><th scope=col>moon</th><th scope=col>hong</th><th scope=col>ahn</th><th scope=col>Sum.ThreeCand</th><th scope=col>others</th><th scope=col>PortionThree</th></tr>\n",
       "\t<tr><th></th><th scope=col>&lt;int&gt;</th><th scope=col>&lt;fct&gt;</th><th scope=col>&lt;fct&gt;</th><th scope=col>&lt;int&gt;</th><th scope=col>&lt;int&gt;</th><th scope=col>&lt;int&gt;</th><th scope=col>&lt;int&gt;</th><th scope=col>&lt;int&gt;</th><th scope=col>&lt;int&gt;</th><th scope=col>&lt;dbl&gt;</th></tr>\n",
       "</thead>\n",
       "<tbody>\n",
       "\t<tr><th scope=row>43</th><td> 42</td><td>대구광역시</td><td>동구        </td><td>226510</td><td> 47350</td><td>100166</td><td>31351</td><td>178867</td><td>47643</td><td>78.97</td></tr>\n",
       "\t<tr><th scope=row>73</th><td> 72</td><td>울산광역시</td><td>북구        </td><td>122933</td><td> 52058</td><td> 26596</td><td>20115</td><td> 98769</td><td>24164</td><td>80.34</td></tr>\n",
       "\t<tr><th scope=row>72</th><td> 71</td><td>울산광역시</td><td>동구        </td><td>109054</td><td> 44931</td><td> 23701</td><td>19290</td><td> 87922</td><td>21132</td><td>80.62</td></tr>\n",
       "\t<tr><th scope=row>47</th><td> 46</td><td>대구광역시</td><td>수성구      </td><td>285528</td><td> 64922</td><td>123074</td><td>43698</td><td>231694</td><td>53834</td><td>81.15</td></tr>\n",
       "\t<tr><th scope=row>46</th><td> 45</td><td>대구광역시</td><td>북구        </td><td>276725</td><td> 62526</td><td>121368</td><td>42369</td><td>226263</td><td>50462</td><td>81.76</td></tr>\n",
       "\t<tr><th scope=row>48</th><td> 47</td><td>대구광역시</td><td>달서구      </td><td>374766</td><td> 82726</td><td>165781</td><td>57956</td><td>306463</td><td>68303</td><td>81.77</td></tr>\n",
       "\t<tr><th scope=row>209</th><td>208</td><td>경상북도  </td><td>구미시      </td><td>246638</td><td> 62573</td><td> 98732</td><td>41141</td><td>202446</td><td>44192</td><td>82.08</td></tr>\n",
       "\t<tr><th scope=row>49</th><td> 48</td><td>대구광역시</td><td>달성군      </td><td>137920</td><td> 31753</td><td> 60032</td><td>21427</td><td>113212</td><td>24708</td><td>82.09</td></tr>\n",
       "\t<tr><th scope=row>215</th><td>214</td><td>경상북도  </td><td>경산시      </td><td>160794</td><td> 35602</td><td> 72129</td><td>24606</td><td>132337</td><td>28457</td><td>82.30</td></tr>\n",
       "\t<tr><th scope=row>93</th><td> 92</td><td>경기도    </td><td>고양시덕양구</td><td>287087</td><td>120063</td><td> 55157</td><td>61581</td><td>236801</td><td>50286</td><td>82.48</td></tr>\n",
       "</tbody>\n",
       "</table>\n"
      ],
      "text/latex": [
       "A data.frame: 10 × 10\n",
       "\\begin{tabular}{r|llllllllll}\n",
       "  & X & 광역시도 & 시군 & pop & moon & hong & ahn & Sum.ThreeCand & others & PortionThree\\\\\n",
       "  & <int> & <fct> & <fct> & <int> & <int> & <int> & <int> & <int> & <int> & <dbl>\\\\\n",
       "\\hline\n",
       "\t43 &  42 & 대구광역시 & 동구         & 226510 &  47350 & 100166 & 31351 & 178867 & 47643 & 78.97\\\\\n",
       "\t73 &  72 & 울산광역시 & 북구         & 122933 &  52058 &  26596 & 20115 &  98769 & 24164 & 80.34\\\\\n",
       "\t72 &  71 & 울산광역시 & 동구         & 109054 &  44931 &  23701 & 19290 &  87922 & 21132 & 80.62\\\\\n",
       "\t47 &  46 & 대구광역시 & 수성구       & 285528 &  64922 & 123074 & 43698 & 231694 & 53834 & 81.15\\\\\n",
       "\t46 &  45 & 대구광역시 & 북구         & 276725 &  62526 & 121368 & 42369 & 226263 & 50462 & 81.76\\\\\n",
       "\t48 &  47 & 대구광역시 & 달서구       & 374766 &  82726 & 165781 & 57956 & 306463 & 68303 & 81.77\\\\\n",
       "\t209 & 208 & 경상북도   & 구미시       & 246638 &  62573 &  98732 & 41141 & 202446 & 44192 & 82.08\\\\\n",
       "\t49 &  48 & 대구광역시 & 달성군       & 137920 &  31753 &  60032 & 21427 & 113212 & 24708 & 82.09\\\\\n",
       "\t215 & 214 & 경상북도   & 경산시       & 160794 &  35602 &  72129 & 24606 & 132337 & 28457 & 82.30\\\\\n",
       "\t93 &  92 & 경기도     & 고양시덕양구 & 287087 & 120063 &  55157 & 61581 & 236801 & 50286 & 82.48\\\\\n",
       "\\end{tabular}\n"
      ],
      "text/markdown": [
       "\n",
       "A data.frame: 10 × 10\n",
       "\n",
       "| <!--/--> | X &lt;int&gt; | 광역시도 &lt;fct&gt; | 시군 &lt;fct&gt; | pop &lt;int&gt; | moon &lt;int&gt; | hong &lt;int&gt; | ahn &lt;int&gt; | Sum.ThreeCand &lt;int&gt; | others &lt;int&gt; | PortionThree &lt;dbl&gt; |\n",
       "|---|---|---|---|---|---|---|---|---|---|---|\n",
       "| 43 |  42 | 대구광역시 | 동구         | 226510 |  47350 | 100166 | 31351 | 178867 | 47643 | 78.97 |\n",
       "| 73 |  72 | 울산광역시 | 북구         | 122933 |  52058 |  26596 | 20115 |  98769 | 24164 | 80.34 |\n",
       "| 72 |  71 | 울산광역시 | 동구         | 109054 |  44931 |  23701 | 19290 |  87922 | 21132 | 80.62 |\n",
       "| 47 |  46 | 대구광역시 | 수성구       | 285528 |  64922 | 123074 | 43698 | 231694 | 53834 | 81.15 |\n",
       "| 46 |  45 | 대구광역시 | 북구         | 276725 |  62526 | 121368 | 42369 | 226263 | 50462 | 81.76 |\n",
       "| 48 |  47 | 대구광역시 | 달서구       | 374766 |  82726 | 165781 | 57956 | 306463 | 68303 | 81.77 |\n",
       "| 209 | 208 | 경상북도   | 구미시       | 246638 |  62573 |  98732 | 41141 | 202446 | 44192 | 82.08 |\n",
       "| 49 |  48 | 대구광역시 | 달성군       | 137920 |  31753 |  60032 | 21427 | 113212 | 24708 | 82.09 |\n",
       "| 215 | 214 | 경상북도   | 경산시       | 160794 |  35602 |  72129 | 24606 | 132337 | 28457 | 82.30 |\n",
       "| 93 |  92 | 경기도     | 고양시덕양구 | 287087 | 120063 |  55157 | 61581 | 236801 | 50286 | 82.48 |\n",
       "\n"
      ],
      "text/plain": [
       "    X   광역시도   시군         pop    moon   hong   ahn   Sum.ThreeCand others\n",
       "43   42 대구광역시 동구         226510  47350 100166 31351 178867        47643 \n",
       "73   72 울산광역시 북구         122933  52058  26596 20115  98769        24164 \n",
       "72   71 울산광역시 동구         109054  44931  23701 19290  87922        21132 \n",
       "47   46 대구광역시 수성구       285528  64922 123074 43698 231694        53834 \n",
       "46   45 대구광역시 북구         276725  62526 121368 42369 226263        50462 \n",
       "48   47 대구광역시 달서구       374766  82726 165781 57956 306463        68303 \n",
       "209 208 경상북도   구미시       246638  62573  98732 41141 202446        44192 \n",
       "49   48 대구광역시 달성군       137920  31753  60032 21427 113212        24708 \n",
       "215 214 경상북도   경산시       160794  35602  72129 24606 132337        28457 \n",
       "93   92 경기도     고양시덕양구 287087 120063  55157 61581 236801        50286 \n",
       "    PortionThree\n",
       "43  78.97       \n",
       "73  80.34       \n",
       "72  80.62       \n",
       "47  81.15       \n",
       "46  81.76       \n",
       "48  81.77       \n",
       "209 82.08       \n",
       "49  82.09       \n",
       "215 82.30       \n",
       "93  82.48       "
      ]
     },
     "metadata": {},
     "output_type": "display_data"
    }
   ],
   "source": [
    "leastOrd.Three <- orderBy(~PortionThree, electionSum)\n",
    "head(leastOrd.Three, 10)"
   ]
  },
  {
   "cell_type": "markdown",
   "metadata": {},
   "source": [
    "Meanwhile, the counties where shows the least proportion of top 3 candidates are mostly in east side of South Korea such as 대구광역시, 울산광역시, and 경상북도."
   ]
  },
  {
   "cell_type": "markdown",
   "metadata": {},
   "source": [
    "## Top 5 provinces in vote"
   ]
  },
  {
   "cell_type": "code",
   "execution_count": 21,
   "metadata": {
    "scrolled": true
   },
   "outputs": [
    {
     "data": {
      "text/html": [
       "<table>\n",
       "<caption>A data.frame: 6 × 2</caption>\n",
       "<thead>\n",
       "\t<tr><th></th><th scope=col>광역시도</th><th scope=col>pop</th></tr>\n",
       "\t<tr><th></th><th scope=col>&lt;fct&gt;</th><th scope=col>&lt;int&gt;</th></tr>\n",
       "</thead>\n",
       "<tbody>\n",
       "\t<tr><th scope=row>1</th><td>경기도    </td><td>7916009</td></tr>\n",
       "\t<tr><th scope=row>2</th><td>서울특별시</td><td>6590646</td></tr>\n",
       "\t<tr><th scope=row>3</th><td>부산광역시</td><td>2261633</td></tr>\n",
       "\t<tr><th scope=row>4</th><td>경상남도  </td><td>2135055</td></tr>\n",
       "\t<tr><th scope=row>5</th><td>인천광역시</td><td>1820091</td></tr>\n",
       "\t<tr><th scope=row>6</th><td>경상북도  </td><td>1711627</td></tr>\n",
       "</tbody>\n",
       "</table>\n"
      ],
      "text/latex": [
       "A data.frame: 6 × 2\n",
       "\\begin{tabular}{r|ll}\n",
       "  & 광역시도 & pop\\\\\n",
       "  & <fct> & <int>\\\\\n",
       "\\hline\n",
       "\t1 & 경기도     & 7916009\\\\\n",
       "\t2 & 서울특별시 & 6590646\\\\\n",
       "\t3 & 부산광역시 & 2261633\\\\\n",
       "\t4 & 경상남도   & 2135055\\\\\n",
       "\t5 & 인천광역시 & 1820091\\\\\n",
       "\t6 & 경상북도   & 1711627\\\\\n",
       "\\end{tabular}\n"
      ],
      "text/markdown": [
       "\n",
       "A data.frame: 6 × 2\n",
       "\n",
       "| <!--/--> | 광역시도 &lt;fct&gt; | pop &lt;int&gt; |\n",
       "|---|---|---|\n",
       "| 1 | 경기도     | 7916009 |\n",
       "| 2 | 서울특별시 | 6590646 |\n",
       "| 3 | 부산광역시 | 2261633 |\n",
       "| 4 | 경상남도   | 2135055 |\n",
       "| 5 | 인천광역시 | 1820091 |\n",
       "| 6 | 경상북도   | 1711627 |\n",
       "\n"
      ],
      "text/plain": [
       "  광역시도   pop    \n",
       "1 경기도     7916009\n",
       "2 서울특별시 6590646\n",
       "3 부산광역시 2261633\n",
       "4 경상남도   2135055\n",
       "5 인천광역시 1820091\n",
       "6 경상북도   1711627"
      ]
     },
     "metadata": {},
     "output_type": "display_data"
    }
   ],
   "source": [
    "head(provinceSum_ord)"
   ]
  },
  {
   "cell_type": "code",
   "execution_count": 22,
   "metadata": {
    "scrolled": true
   },
   "outputs": [
    {
     "data": {
      "text/html": [
       "<table>\n",
       "<caption>A data.frame: 5 × 2</caption>\n",
       "<thead>\n",
       "\t<tr><th></th><th scope=col>광역시도</th><th scope=col>pop</th></tr>\n",
       "\t<tr><th></th><th scope=col>&lt;fct&gt;</th><th scope=col>&lt;int&gt;</th></tr>\n",
       "</thead>\n",
       "<tbody>\n",
       "\t<tr><th scope=row>1</th><td>경기도    </td><td>7916009</td></tr>\n",
       "\t<tr><th scope=row>2</th><td>서울특별시</td><td>6590646</td></tr>\n",
       "\t<tr><th scope=row>3</th><td>부산광역시</td><td>2261633</td></tr>\n",
       "\t<tr><th scope=row>4</th><td>경상남도  </td><td>2135055</td></tr>\n",
       "\t<tr><th scope=row>5</th><td>인천광역시</td><td>1820091</td></tr>\n",
       "</tbody>\n",
       "</table>\n"
      ],
      "text/latex": [
       "A data.frame: 5 × 2\n",
       "\\begin{tabular}{r|ll}\n",
       "  & 광역시도 & pop\\\\\n",
       "  & <fct> & <int>\\\\\n",
       "\\hline\n",
       "\t1 & 경기도     & 7916009\\\\\n",
       "\t2 & 서울특별시 & 6590646\\\\\n",
       "\t3 & 부산광역시 & 2261633\\\\\n",
       "\t4 & 경상남도   & 2135055\\\\\n",
       "\t5 & 인천광역시 & 1820091\\\\\n",
       "\\end{tabular}\n"
      ],
      "text/markdown": [
       "\n",
       "A data.frame: 5 × 2\n",
       "\n",
       "| <!--/--> | 광역시도 &lt;fct&gt; | pop &lt;int&gt; |\n",
       "|---|---|---|\n",
       "| 1 | 경기도     | 7916009 |\n",
       "| 2 | 서울특별시 | 6590646 |\n",
       "| 3 | 부산광역시 | 2261633 |\n",
       "| 4 | 경상남도   | 2135055 |\n",
       "| 5 | 인천광역시 | 1820091 |\n",
       "\n"
      ],
      "text/plain": [
       "  광역시도   pop    \n",
       "1 경기도     7916009\n",
       "2 서울특별시 6590646\n",
       "3 부산광역시 2261633\n",
       "4 경상남도   2135055\n",
       "5 인천광역시 1820091"
      ]
     },
     "metadata": {},
     "output_type": "display_data"
    }
   ],
   "source": [
    "elecVoteProv.ord <- orderBy(~-pop, provinceSum_ord)\n",
    "head(provinceSum_ord, 5)"
   ]
  },
  {
   "cell_type": "code",
   "execution_count": 23,
   "metadata": {},
   "outputs": [
    {
     "data": {
      "text/html": [
       "<ol class=list-inline>\n",
       "\t<li>경기도</li>\n",
       "\t<li>서울특별시</li>\n",
       "\t<li>부산광역시</li>\n",
       "\t<li>경상남도</li>\n",
       "\t<li>인천광역시</li>\n",
       "</ol>\n",
       "\n",
       "<details>\n",
       "\t<summary style=display:list-item;cursor:pointer>\n",
       "\t\t<strong>Levels</strong>:\n",
       "\t</summary>\n",
       "\t<ol class=list-inline>\n",
       "\t\t<li>'강원도'</li>\n",
       "\t\t<li>'경기도'</li>\n",
       "\t\t<li>'경상남도'</li>\n",
       "\t\t<li>'경상북도'</li>\n",
       "\t\t<li>'광주광역시'</li>\n",
       "\t\t<li>'대구광역시'</li>\n",
       "\t\t<li>'대전광역시'</li>\n",
       "\t\t<li>'부산광역시'</li>\n",
       "\t\t<li>'서울특별시'</li>\n",
       "\t\t<li>'세종특별자치시'</li>\n",
       "\t\t<li>'울산광역시'</li>\n",
       "\t\t<li>'인천광역시'</li>\n",
       "\t\t<li>'전라남도'</li>\n",
       "\t\t<li>'전라북도'</li>\n",
       "\t\t<li>'제주특별자치도'</li>\n",
       "\t\t<li>'충청남도'</li>\n",
       "\t\t<li>'충청북도'</li>\n",
       "\t</ol>\n",
       "</details>"
      ],
      "text/latex": [
       "\\begin{enumerate*}\n",
       "\\item 경기도\n",
       "\\item 서울특별시\n",
       "\\item 부산광역시\n",
       "\\item 경상남도\n",
       "\\item 인천광역시\n",
       "\\end{enumerate*}\n",
       "\n",
       "\\emph{Levels}: \\begin{enumerate*}\n",
       "\\item '강원도'\n",
       "\\item '경기도'\n",
       "\\item '경상남도'\n",
       "\\item '경상북도'\n",
       "\\item '광주광역시'\n",
       "\\item '대구광역시'\n",
       "\\item '대전광역시'\n",
       "\\item '부산광역시'\n",
       "\\item '서울특별시'\n",
       "\\item '세종특별자치시'\n",
       "\\item '울산광역시'\n",
       "\\item '인천광역시'\n",
       "\\item '전라남도'\n",
       "\\item '전라북도'\n",
       "\\item '제주특별자치도'\n",
       "\\item '충청남도'\n",
       "\\item '충청북도'\n",
       "\\end{enumerate*}\n"
      ],
      "text/markdown": [
       "1. 경기도\n",
       "2. 서울특별시\n",
       "3. 부산광역시\n",
       "4. 경상남도\n",
       "5. 인천광역시\n",
       "\n",
       "\n",
       "\n",
       "**Levels**: 1. '강원도'\n",
       "2. '경기도'\n",
       "3. '경상남도'\n",
       "4. '경상북도'\n",
       "5. '광주광역시'\n",
       "6. '대구광역시'\n",
       "7. '대전광역시'\n",
       "8. '부산광역시'\n",
       "9. '서울특별시'\n",
       "10. '세종특별자치시'\n",
       "11. '울산광역시'\n",
       "12. '인천광역시'\n",
       "13. '전라남도'\n",
       "14. '전라북도'\n",
       "15. '제주특별자치도'\n",
       "16. '충청남도'\n",
       "17. '충청북도'\n",
       "\n",
       "\n"
      ],
      "text/plain": [
       "[1] 경기도     서울특별시 부산광역시 경상남도   인천광역시\n",
       "17 Levels: 강원도 경기도 경상남도 경상북도 광주광역시 대구광역시 ... 충청북도"
      ]
     },
     "metadata": {},
     "output_type": "display_data"
    }
   ],
   "source": [
    "provinceSum_ord[1:5,1]"
   ]
  },
  {
   "cell_type": "code",
   "execution_count": 24,
   "metadata": {
    "scrolled": false
   },
   "outputs": [
    {
     "data": {
      "text/html": [
       "<table>\n",
       "<caption>A data.frame: 6 × 10</caption>\n",
       "<thead>\n",
       "\t<tr><th></th><th scope=col>X</th><th scope=col>광역시도</th><th scope=col>시군</th><th scope=col>pop</th><th scope=col>moon</th><th scope=col>hong</th><th scope=col>ahn</th><th scope=col>Sum.ThreeCand</th><th scope=col>others</th><th scope=col>PortionThree</th></tr>\n",
       "\t<tr><th></th><th scope=col>&lt;int&gt;</th><th scope=col>&lt;fct&gt;</th><th scope=col>&lt;fct&gt;</th><th scope=col>&lt;int&gt;</th><th scope=col>&lt;int&gt;</th><th scope=col>&lt;int&gt;</th><th scope=col>&lt;int&gt;</th><th scope=col>&lt;int&gt;</th><th scope=col>&lt;int&gt;</th><th scope=col>&lt;dbl&gt;</th></tr>\n",
       "</thead>\n",
       "<tbody>\n",
       "\t<tr><th scope=row>86</th><td> 85</td><td>경기도    </td><td>부천시  </td><td>543777</td><td>239697</td><td>100544</td><td>128297</td><td>468538</td><td>75239</td><td>86.16</td></tr>\n",
       "\t<tr><th scope=row>24</th><td> 23</td><td>서울특별시</td><td>송파구  </td><td>441198</td><td>177328</td><td> 98549</td><td> 99018</td><td>374895</td><td>66303</td><td>84.97</td></tr>\n",
       "\t<tr><th scope=row>99</th><td> 98</td><td>경기도    </td><td>남양주시</td><td>397972</td><td>165079</td><td> 86026</td><td> 92048</td><td>343153</td><td>54819</td><td>86.23</td></tr>\n",
       "\t<tr><th scope=row>16</th><td> 15</td><td>서울특별시</td><td>강서구  </td><td>397108</td><td>175882</td><td> 76601</td><td> 88128</td><td>340611</td><td>56497</td><td>85.77</td></tr>\n",
       "\t<tr><th scope=row>101</th><td>100</td><td>경기도    </td><td>화성시  </td><td>386002</td><td>176940</td><td> 69014</td><td> 84967</td><td>330921</td><td>55081</td><td>85.73</td></tr>\n",
       "\t<tr><th scope=row>48</th><td> 47</td><td>대구광역시</td><td>달서구  </td><td>374766</td><td> 82726</td><td>165781</td><td> 57956</td><td>306463</td><td>68303</td><td>81.77</td></tr>\n",
       "</tbody>\n",
       "</table>\n"
      ],
      "text/latex": [
       "A data.frame: 6 × 10\n",
       "\\begin{tabular}{r|llllllllll}\n",
       "  & X & 광역시도 & 시군 & pop & moon & hong & ahn & Sum.ThreeCand & others & PortionThree\\\\\n",
       "  & <int> & <fct> & <fct> & <int> & <int> & <int> & <int> & <int> & <int> & <dbl>\\\\\n",
       "\\hline\n",
       "\t86 &  85 & 경기도     & 부천시   & 543777 & 239697 & 100544 & 128297 & 468538 & 75239 & 86.16\\\\\n",
       "\t24 &  23 & 서울특별시 & 송파구   & 441198 & 177328 &  98549 &  99018 & 374895 & 66303 & 84.97\\\\\n",
       "\t99 &  98 & 경기도     & 남양주시 & 397972 & 165079 &  86026 &  92048 & 343153 & 54819 & 86.23\\\\\n",
       "\t16 &  15 & 서울특별시 & 강서구   & 397108 & 175882 &  76601 &  88128 & 340611 & 56497 & 85.77\\\\\n",
       "\t101 & 100 & 경기도     & 화성시   & 386002 & 176940 &  69014 &  84967 & 330921 & 55081 & 85.73\\\\\n",
       "\t48 &  47 & 대구광역시 & 달서구   & 374766 &  82726 & 165781 &  57956 & 306463 & 68303 & 81.77\\\\\n",
       "\\end{tabular}\n"
      ],
      "text/markdown": [
       "\n",
       "A data.frame: 6 × 10\n",
       "\n",
       "| <!--/--> | X &lt;int&gt; | 광역시도 &lt;fct&gt; | 시군 &lt;fct&gt; | pop &lt;int&gt; | moon &lt;int&gt; | hong &lt;int&gt; | ahn &lt;int&gt; | Sum.ThreeCand &lt;int&gt; | others &lt;int&gt; | PortionThree &lt;dbl&gt; |\n",
       "|---|---|---|---|---|---|---|---|---|---|---|\n",
       "| 86 |  85 | 경기도     | 부천시   | 543777 | 239697 | 100544 | 128297 | 468538 | 75239 | 86.16 |\n",
       "| 24 |  23 | 서울특별시 | 송파구   | 441198 | 177328 |  98549 |  99018 | 374895 | 66303 | 84.97 |\n",
       "| 99 |  98 | 경기도     | 남양주시 | 397972 | 165079 |  86026 |  92048 | 343153 | 54819 | 86.23 |\n",
       "| 16 |  15 | 서울특별시 | 강서구   | 397108 | 175882 |  76601 |  88128 | 340611 | 56497 | 85.77 |\n",
       "| 101 | 100 | 경기도     | 화성시   | 386002 | 176940 |  69014 |  84967 | 330921 | 55081 | 85.73 |\n",
       "| 48 |  47 | 대구광역시 | 달서구   | 374766 |  82726 | 165781 |  57956 | 306463 | 68303 | 81.77 |\n",
       "\n"
      ],
      "text/plain": [
       "    X   광역시도   시군     pop    moon   hong   ahn    Sum.ThreeCand others\n",
       "86   85 경기도     부천시   543777 239697 100544 128297 468538        75239 \n",
       "24   23 서울특별시 송파구   441198 177328  98549  99018 374895        66303 \n",
       "99   98 경기도     남양주시 397972 165079  86026  92048 343153        54819 \n",
       "16   15 서울특별시 강서구   397108 175882  76601  88128 340611        56497 \n",
       "101 100 경기도     화성시   386002 176940  69014  84967 330921        55081 \n",
       "48   47 대구광역시 달서구   374766  82726 165781  57956 306463        68303 \n",
       "    PortionThree\n",
       "86  86.16       \n",
       "24  84.97       \n",
       "99  86.23       \n",
       "16  85.77       \n",
       "101 85.73       \n",
       "48  81.77       "
      ]
     },
     "metadata": {},
     "output_type": "display_data"
    }
   ],
   "source": [
    "# cf. County\n",
    "elecVote.ord <- orderBy(~-pop, electionSum)\n",
    "head(elecVote.ord)"
   ]
  },
  {
   "cell_type": "code",
   "execution_count": null,
   "metadata": {},
   "outputs": [],
   "source": []
  },
  {
   "cell_type": "markdown",
   "metadata": {},
   "source": [
    "# Data Visualization: Pie"
   ]
  },
  {
   "cell_type": "markdown",
   "metadata": {},
   "source": [
    "## Plot Voter Share (%) by Province (광역시도) in 3D Pie Chart"
   ]
  },
  {
   "cell_type": "code",
   "execution_count": 25,
   "metadata": {
    "scrolled": true
   },
   "outputs": [
    {
     "data": {
      "text/html": [
       "<table>\n",
       "<caption>A data.frame: 6 × 10</caption>\n",
       "<thead>\n",
       "\t<tr><th></th><th scope=col>X</th><th scope=col>광역시도</th><th scope=col>시군</th><th scope=col>pop</th><th scope=col>moon</th><th scope=col>hong</th><th scope=col>ahn</th><th scope=col>Sum.ThreeCand</th><th scope=col>others</th><th scope=col>PortionThree</th></tr>\n",
       "\t<tr><th></th><th scope=col>&lt;int&gt;</th><th scope=col>&lt;fct&gt;</th><th scope=col>&lt;fct&gt;</th><th scope=col>&lt;int&gt;</th><th scope=col>&lt;int&gt;</th><th scope=col>&lt;int&gt;</th><th scope=col>&lt;int&gt;</th><th scope=col>&lt;int&gt;</th><th scope=col>&lt;int&gt;</th><th scope=col>&lt;dbl&gt;</th></tr>\n",
       "</thead>\n",
       "<tbody>\n",
       "\t<tr><th scope=row>1</th><td>0</td><td>서울특별시</td><td>종로구  </td><td>102566</td><td> 42512</td><td>22325</td><td>22313</td><td> 87150</td><td>15416</td><td>84.97</td></tr>\n",
       "\t<tr><th scope=row>2</th><td>1</td><td>서울특별시</td><td>중구    </td><td> 82852</td><td> 34062</td><td>17901</td><td>19372</td><td> 71335</td><td>11517</td><td>86.10</td></tr>\n",
       "\t<tr><th scope=row>3</th><td>2</td><td>서울특별시</td><td>용산구  </td><td>148157</td><td> 58081</td><td>35230</td><td>32109</td><td>125420</td><td>22737</td><td>84.65</td></tr>\n",
       "\t<tr><th scope=row>4</th><td>3</td><td>서울특별시</td><td>성동구  </td><td>203175</td><td> 86686</td><td>40566</td><td>45674</td><td>172926</td><td>30249</td><td>85.11</td></tr>\n",
       "\t<tr><th scope=row>5</th><td>4</td><td>서울특별시</td><td>광진구  </td><td>240030</td><td>105512</td><td>46368</td><td>52824</td><td>204704</td><td>35326</td><td>85.28</td></tr>\n",
       "\t<tr><th scope=row>6</th><td>5</td><td>서울특별시</td><td>동대문구</td><td>236092</td><td> 98958</td><td>51631</td><td>53359</td><td>203948</td><td>32144</td><td>86.38</td></tr>\n",
       "</tbody>\n",
       "</table>\n"
      ],
      "text/latex": [
       "A data.frame: 6 × 10\n",
       "\\begin{tabular}{r|llllllllll}\n",
       "  & X & 광역시도 & 시군 & pop & moon & hong & ahn & Sum.ThreeCand & others & PortionThree\\\\\n",
       "  & <int> & <fct> & <fct> & <int> & <int> & <int> & <int> & <int> & <int> & <dbl>\\\\\n",
       "\\hline\n",
       "\t1 & 0 & 서울특별시 & 종로구   & 102566 &  42512 & 22325 & 22313 &  87150 & 15416 & 84.97\\\\\n",
       "\t2 & 1 & 서울특별시 & 중구     &  82852 &  34062 & 17901 & 19372 &  71335 & 11517 & 86.10\\\\\n",
       "\t3 & 2 & 서울특별시 & 용산구   & 148157 &  58081 & 35230 & 32109 & 125420 & 22737 & 84.65\\\\\n",
       "\t4 & 3 & 서울특별시 & 성동구   & 203175 &  86686 & 40566 & 45674 & 172926 & 30249 & 85.11\\\\\n",
       "\t5 & 4 & 서울특별시 & 광진구   & 240030 & 105512 & 46368 & 52824 & 204704 & 35326 & 85.28\\\\\n",
       "\t6 & 5 & 서울특별시 & 동대문구 & 236092 &  98958 & 51631 & 53359 & 203948 & 32144 & 86.38\\\\\n",
       "\\end{tabular}\n"
      ],
      "text/markdown": [
       "\n",
       "A data.frame: 6 × 10\n",
       "\n",
       "| <!--/--> | X &lt;int&gt; | 광역시도 &lt;fct&gt; | 시군 &lt;fct&gt; | pop &lt;int&gt; | moon &lt;int&gt; | hong &lt;int&gt; | ahn &lt;int&gt; | Sum.ThreeCand &lt;int&gt; | others &lt;int&gt; | PortionThree &lt;dbl&gt; |\n",
       "|---|---|---|---|---|---|---|---|---|---|---|\n",
       "| 1 | 0 | 서울특별시 | 종로구   | 102566 |  42512 | 22325 | 22313 |  87150 | 15416 | 84.97 |\n",
       "| 2 | 1 | 서울특별시 | 중구     |  82852 |  34062 | 17901 | 19372 |  71335 | 11517 | 86.10 |\n",
       "| 3 | 2 | 서울특별시 | 용산구   | 148157 |  58081 | 35230 | 32109 | 125420 | 22737 | 84.65 |\n",
       "| 4 | 3 | 서울특별시 | 성동구   | 203175 |  86686 | 40566 | 45674 | 172926 | 30249 | 85.11 |\n",
       "| 5 | 4 | 서울특별시 | 광진구   | 240030 | 105512 | 46368 | 52824 | 204704 | 35326 | 85.28 |\n",
       "| 6 | 5 | 서울특별시 | 동대문구 | 236092 |  98958 | 51631 | 53359 | 203948 | 32144 | 86.38 |\n",
       "\n"
      ],
      "text/plain": [
       "  X 광역시도   시군     pop    moon   hong  ahn   Sum.ThreeCand others\n",
       "1 0 서울특별시 종로구   102566  42512 22325 22313  87150        15416 \n",
       "2 1 서울특별시 중구      82852  34062 17901 19372  71335        11517 \n",
       "3 2 서울특별시 용산구   148157  58081 35230 32109 125420        22737 \n",
       "4 3 서울특별시 성동구   203175  86686 40566 45674 172926        30249 \n",
       "5 4 서울특별시 광진구   240030 105512 46368 52824 204704        35326 \n",
       "6 5 서울특별시 동대문구 236092  98958 51631 53359 203948        32144 \n",
       "  PortionThree\n",
       "1 84.97       \n",
       "2 86.10       \n",
       "3 84.65       \n",
       "4 85.11       \n",
       "5 85.28       \n",
       "6 86.38       "
      ]
     },
     "metadata": {},
     "output_type": "display_data"
    }
   ],
   "source": [
    "head(electionSum)"
   ]
  },
  {
   "cell_type": "markdown",
   "metadata": {},
   "source": [
    "### aggregate data in terms of Province (광역시도)"
   ]
  },
  {
   "cell_type": "code",
   "execution_count": 26,
   "metadata": {
    "scrolled": true
   },
   "outputs": [
    {
     "data": {
      "text/html": [
       "<table>\n",
       "<caption>A data.frame: 6 × 2</caption>\n",
       "<thead>\n",
       "\t<tr><th></th><th scope=col>광역시도</th><th scope=col>pop</th></tr>\n",
       "\t<tr><th></th><th scope=col>&lt;fct&gt;</th><th scope=col>&lt;int&gt;</th></tr>\n",
       "</thead>\n",
       "<tbody>\n",
       "\t<tr><th scope=row>1</th><td>강원도    </td><td> 955885</td></tr>\n",
       "\t<tr><th scope=row>2</th><td>경기도    </td><td>7916009</td></tr>\n",
       "\t<tr><th scope=row>3</th><td>경상남도  </td><td>2135055</td></tr>\n",
       "\t<tr><th scope=row>4</th><td>경상북도  </td><td>1711627</td></tr>\n",
       "\t<tr><th scope=row>5</th><td>광주광역시</td><td> 957321</td></tr>\n",
       "\t<tr><th scope=row>6</th><td>대구광역시</td><td>1581347</td></tr>\n",
       "</tbody>\n",
       "</table>\n"
      ],
      "text/latex": [
       "A data.frame: 6 × 2\n",
       "\\begin{tabular}{r|ll}\n",
       "  & 광역시도 & pop\\\\\n",
       "  & <fct> & <int>\\\\\n",
       "\\hline\n",
       "\t1 & 강원도     &  955885\\\\\n",
       "\t2 & 경기도     & 7916009\\\\\n",
       "\t3 & 경상남도   & 2135055\\\\\n",
       "\t4 & 경상북도   & 1711627\\\\\n",
       "\t5 & 광주광역시 &  957321\\\\\n",
       "\t6 & 대구광역시 & 1581347\\\\\n",
       "\\end{tabular}\n"
      ],
      "text/markdown": [
       "\n",
       "A data.frame: 6 × 2\n",
       "\n",
       "| <!--/--> | 광역시도 &lt;fct&gt; | pop &lt;int&gt; |\n",
       "|---|---|---|\n",
       "| 1 | 강원도     |  955885 |\n",
       "| 2 | 경기도     | 7916009 |\n",
       "| 3 | 경상남도   | 2135055 |\n",
       "| 4 | 경상북도   | 1711627 |\n",
       "| 5 | 광주광역시 |  957321 |\n",
       "| 6 | 대구광역시 | 1581347 |\n",
       "\n"
      ],
      "text/plain": [
       "  광역시도   pop    \n",
       "1 강원도      955885\n",
       "2 경기도     7916009\n",
       "3 경상남도   2135055\n",
       "4 경상북도   1711627\n",
       "5 광주광역시  957321\n",
       "6 대구광역시 1581347"
      ]
     },
     "metadata": {},
     "output_type": "display_data"
    }
   ],
   "source": [
    "provinceSum <- aggregate(pop ~광역시도, electionSum, sum) # pivot table in R\n",
    "head(provinceSum)"
   ]
  },
  {
   "cell_type": "markdown",
   "metadata": {},
   "source": [
    "### Descending order by population"
   ]
  },
  {
   "cell_type": "code",
   "execution_count": 27,
   "metadata": {},
   "outputs": [
    {
     "data": {
      "text/html": [
       "<table>\n",
       "<caption>A data.frame: 17 × 2</caption>\n",
       "<thead>\n",
       "\t<tr><th scope=col>광역시도</th><th scope=col>pop</th></tr>\n",
       "\t<tr><th scope=col>&lt;fct&gt;</th><th scope=col>&lt;int&gt;</th></tr>\n",
       "</thead>\n",
       "<tbody>\n",
       "\t<tr><td>경기도        </td><td>7916009</td></tr>\n",
       "\t<tr><td>서울특별시    </td><td>6590646</td></tr>\n",
       "\t<tr><td>부산광역시    </td><td>2261633</td></tr>\n",
       "\t<tr><td>경상남도      </td><td>2135055</td></tr>\n",
       "\t<tr><td>인천광역시    </td><td>1820091</td></tr>\n",
       "\t<tr><td>경상북도      </td><td>1711627</td></tr>\n",
       "\t<tr><td>대구광역시    </td><td>1581347</td></tr>\n",
       "\t<tr><td>충청남도      </td><td>1240204</td></tr>\n",
       "\t<tr><td>전라남도      </td><td>1238738</td></tr>\n",
       "\t<tr><td>전라북도      </td><td>1205794</td></tr>\n",
       "\t<tr><td>충청북도      </td><td> 975441</td></tr>\n",
       "\t<tr><td>광주광역시    </td><td> 957321</td></tr>\n",
       "\t<tr><td>강원도        </td><td> 955885</td></tr>\n",
       "\t<tr><td>대전광역시    </td><td> 945897</td></tr>\n",
       "\t<tr><td>울산광역시    </td><td> 744960</td></tr>\n",
       "\t<tr><td>제주특별자치도</td><td> 374459</td></tr>\n",
       "\t<tr><td>세종특별자치시</td><td> 152801</td></tr>\n",
       "</tbody>\n",
       "</table>\n"
      ],
      "text/latex": [
       "A data.frame: 17 × 2\n",
       "\\begin{tabular}{ll}\n",
       " 광역시도 & pop\\\\\n",
       " <fct> & <int>\\\\\n",
       "\\hline\n",
       "\t 경기도         & 7916009\\\\\n",
       "\t 서울특별시     & 6590646\\\\\n",
       "\t 부산광역시     & 2261633\\\\\n",
       "\t 경상남도       & 2135055\\\\\n",
       "\t 인천광역시     & 1820091\\\\\n",
       "\t 경상북도       & 1711627\\\\\n",
       "\t 대구광역시     & 1581347\\\\\n",
       "\t 충청남도       & 1240204\\\\\n",
       "\t 전라남도       & 1238738\\\\\n",
       "\t 전라북도       & 1205794\\\\\n",
       "\t 충청북도       &  975441\\\\\n",
       "\t 광주광역시     &  957321\\\\\n",
       "\t 강원도         &  955885\\\\\n",
       "\t 대전광역시     &  945897\\\\\n",
       "\t 울산광역시     &  744960\\\\\n",
       "\t 제주특별자치도 &  374459\\\\\n",
       "\t 세종특별자치시 &  152801\\\\\n",
       "\\end{tabular}\n"
      ],
      "text/markdown": [
       "\n",
       "A data.frame: 17 × 2\n",
       "\n",
       "| 광역시도 &lt;fct&gt; | pop &lt;int&gt; |\n",
       "|---|---|\n",
       "| 경기도         | 7916009 |\n",
       "| 서울특별시     | 6590646 |\n",
       "| 부산광역시     | 2261633 |\n",
       "| 경상남도       | 2135055 |\n",
       "| 인천광역시     | 1820091 |\n",
       "| 경상북도       | 1711627 |\n",
       "| 대구광역시     | 1581347 |\n",
       "| 충청남도       | 1240204 |\n",
       "| 전라남도       | 1238738 |\n",
       "| 전라북도       | 1205794 |\n",
       "| 충청북도       |  975441 |\n",
       "| 광주광역시     |  957321 |\n",
       "| 강원도         |  955885 |\n",
       "| 대전광역시     |  945897 |\n",
       "| 울산광역시     |  744960 |\n",
       "| 제주특별자치도 |  374459 |\n",
       "| 세종특별자치시 |  152801 |\n",
       "\n"
      ],
      "text/plain": [
       "   광역시도       pop    \n",
       "1  경기도         7916009\n",
       "2  서울특별시     6590646\n",
       "3  부산광역시     2261633\n",
       "4  경상남도       2135055\n",
       "5  인천광역시     1820091\n",
       "6  경상북도       1711627\n",
       "7  대구광역시     1581347\n",
       "8  충청남도       1240204\n",
       "9  전라남도       1238738\n",
       "10 전라북도       1205794\n",
       "11 충청북도        975441\n",
       "12 광주광역시      957321\n",
       "13 강원도          955885\n",
       "14 대전광역시      945897\n",
       "15 울산광역시      744960\n",
       "16 제주특별자치도  374459\n",
       "17 세종특별자치시  152801"
      ]
     },
     "metadata": {},
     "output_type": "display_data"
    }
   ],
   "source": [
    "# order by population in descending order\n",
    "provinceSum_ord <- orderBy(~-pop, provinceSum)\n",
    "\n",
    "# reset rownames\n",
    "rownames(provinceSum_ord) <- c()\n",
    "provinceSum_ord"
   ]
  },
  {
   "cell_type": "markdown",
   "metadata": {},
   "source": [
    "### add ratio column"
   ]
  },
  {
   "cell_type": "code",
   "execution_count": 28,
   "metadata": {},
   "outputs": [
    {
     "data": {
      "text/html": [
       "32807908"
      ],
      "text/latex": [
       "32807908"
      ],
      "text/markdown": [
       "32807908"
      ],
      "text/plain": [
       "[1] 32807908"
      ]
     },
     "metadata": {},
     "output_type": "display_data"
    }
   ],
   "source": [
    "# calculate sum of population\n",
    "popCount <- sum(provinceSum_ord$pop)\n",
    "popCount"
   ]
  },
  {
   "cell_type": "code",
   "execution_count": 29,
   "metadata": {
    "scrolled": true
   },
   "outputs": [
    {
     "data": {
      "text/html": [
       "<ol class=list-inline>\n",
       "\t<li>24.13</li>\n",
       "\t<li>20.09</li>\n",
       "\t<li>6.89</li>\n",
       "\t<li>6.51</li>\n",
       "\t<li>5.55</li>\n",
       "\t<li>5.22</li>\n",
       "\t<li>4.82</li>\n",
       "\t<li>3.78</li>\n",
       "\t<li>3.78</li>\n",
       "\t<li>3.68</li>\n",
       "\t<li>2.97</li>\n",
       "\t<li>2.92</li>\n",
       "\t<li>2.91</li>\n",
       "\t<li>2.88</li>\n",
       "\t<li>2.27</li>\n",
       "\t<li>1.14</li>\n",
       "\t<li>0.47</li>\n",
       "</ol>\n"
      ],
      "text/latex": [
       "\\begin{enumerate*}\n",
       "\\item 24.13\n",
       "\\item 20.09\n",
       "\\item 6.89\n",
       "\\item 6.51\n",
       "\\item 5.55\n",
       "\\item 5.22\n",
       "\\item 4.82\n",
       "\\item 3.78\n",
       "\\item 3.78\n",
       "\\item 3.68\n",
       "\\item 2.97\n",
       "\\item 2.92\n",
       "\\item 2.91\n",
       "\\item 2.88\n",
       "\\item 2.27\n",
       "\\item 1.14\n",
       "\\item 0.47\n",
       "\\end{enumerate*}\n"
      ],
      "text/markdown": [
       "1. 24.13\n",
       "2. 20.09\n",
       "3. 6.89\n",
       "4. 6.51\n",
       "5. 5.55\n",
       "6. 5.22\n",
       "7. 4.82\n",
       "8. 3.78\n",
       "9. 3.78\n",
       "10. 3.68\n",
       "11. 2.97\n",
       "12. 2.92\n",
       "13. 2.91\n",
       "14. 2.88\n",
       "15. 2.27\n",
       "16. 1.14\n",
       "17. 0.47\n",
       "\n",
       "\n"
      ],
      "text/plain": [
       " [1] 24.13 20.09  6.89  6.51  5.55  5.22  4.82  3.78  3.78  3.68  2.97  2.92\n",
       "[13]  2.91  2.88  2.27  1.14  0.47"
      ]
     },
     "metadata": {},
     "output_type": "display_data"
    }
   ],
   "source": [
    "popRatio <- round((provinceSum_ord$pop/popCount * 100),2)\n",
    "popRatio"
   ]
  },
  {
   "cell_type": "code",
   "execution_count": 30,
   "metadata": {
    "scrolled": false
   },
   "outputs": [
    {
     "data": {
      "text/html": [
       "<table>\n",
       "<caption>A data.frame: 6 × 3</caption>\n",
       "<thead>\n",
       "\t<tr><th></th><th scope=col>광역시도</th><th scope=col>pop</th><th scope=col>popRatio</th></tr>\n",
       "\t<tr><th></th><th scope=col>&lt;fct&gt;</th><th scope=col>&lt;int&gt;</th><th scope=col>&lt;dbl&gt;</th></tr>\n",
       "</thead>\n",
       "<tbody>\n",
       "\t<tr><th scope=row>1</th><td>경기도    </td><td>7916009</td><td>24.13</td></tr>\n",
       "\t<tr><th scope=row>2</th><td>서울특별시</td><td>6590646</td><td>20.09</td></tr>\n",
       "\t<tr><th scope=row>3</th><td>부산광역시</td><td>2261633</td><td> 6.89</td></tr>\n",
       "\t<tr><th scope=row>4</th><td>경상남도  </td><td>2135055</td><td> 6.51</td></tr>\n",
       "\t<tr><th scope=row>5</th><td>인천광역시</td><td>1820091</td><td> 5.55</td></tr>\n",
       "\t<tr><th scope=row>6</th><td>경상북도  </td><td>1711627</td><td> 5.22</td></tr>\n",
       "</tbody>\n",
       "</table>\n"
      ],
      "text/latex": [
       "A data.frame: 6 × 3\n",
       "\\begin{tabular}{r|lll}\n",
       "  & 광역시도 & pop & popRatio\\\\\n",
       "  & <fct> & <int> & <dbl>\\\\\n",
       "\\hline\n",
       "\t1 & 경기도     & 7916009 & 24.13\\\\\n",
       "\t2 & 서울특별시 & 6590646 & 20.09\\\\\n",
       "\t3 & 부산광역시 & 2261633 &  6.89\\\\\n",
       "\t4 & 경상남도   & 2135055 &  6.51\\\\\n",
       "\t5 & 인천광역시 & 1820091 &  5.55\\\\\n",
       "\t6 & 경상북도   & 1711627 &  5.22\\\\\n",
       "\\end{tabular}\n"
      ],
      "text/markdown": [
       "\n",
       "A data.frame: 6 × 3\n",
       "\n",
       "| <!--/--> | 광역시도 &lt;fct&gt; | pop &lt;int&gt; | popRatio &lt;dbl&gt; |\n",
       "|---|---|---|---|\n",
       "| 1 | 경기도     | 7916009 | 24.13 |\n",
       "| 2 | 서울특별시 | 6590646 | 20.09 |\n",
       "| 3 | 부산광역시 | 2261633 |  6.89 |\n",
       "| 4 | 경상남도   | 2135055 |  6.51 |\n",
       "| 5 | 인천광역시 | 1820091 |  5.55 |\n",
       "| 6 | 경상북도   | 1711627 |  5.22 |\n",
       "\n"
      ],
      "text/plain": [
       "  광역시도   pop     popRatio\n",
       "1 경기도     7916009 24.13   \n",
       "2 서울특별시 6590646 20.09   \n",
       "3 부산광역시 2261633  6.89   \n",
       "4 경상남도   2135055  6.51   \n",
       "5 인천광역시 1820091  5.55   \n",
       "6 경상북도   1711627  5.22   "
      ]
     },
     "metadata": {},
     "output_type": "display_data"
    }
   ],
   "source": [
    "# add popRatio column\n",
    "provinceSum_ord$popRatio <- popRatio\n",
    "head(provinceSum_ord)"
   ]
  },
  {
   "cell_type": "markdown",
   "metadata": {},
   "source": [
    "### Create label"
   ]
  },
  {
   "cell_type": "code",
   "execution_count": 31,
   "metadata": {},
   "outputs": [],
   "source": [
    "popLabel <- paste(provinceSum_ord$광역시도, \":\",\n",
    "                  provinceSum_ord$popRatio, \"%\")"
   ]
  },
  {
   "cell_type": "markdown",
   "metadata": {},
   "source": [
    "### Plot pie3D"
   ]
  },
  {
   "cell_type": "code",
   "execution_count": 32,
   "metadata": {},
   "outputs": [],
   "source": [
    "library(plotrix)"
   ]
  },
  {
   "cell_type": "code",
   "execution_count": 33,
   "metadata": {},
   "outputs": [
    {
     "data": {
      "image/png": "[encoded data removed]",
      "text/plain": [
       "Plot with title “Voter Share (%) by Province”"
      ]
     },
     "metadata": {
      "image/png": {
       "height": 420,
       "width": 420
      },
      "text/plain": {
       "height": 420,
       "width": 420
      }
     },
     "output_type": "display_data"
    }
   ],
   "source": [
    "pie3D(provinceSum_ord$popRatio, \n",
    "      labels = popLabel, \n",
    "      labelcex = 0.6, \n",
    "      radius = 1, \n",
    "      main = \"Voter Share (%) by Province\",\n",
    "     col.main = \"blue\")"
   ]
  },
  {
   "cell_type": "markdown",
   "metadata": {},
   "source": [
    "## Plot each candicate's vote rate by Province\n",
    "- Don't show percentage if it is less than 3%"
   ]
  },
  {
   "cell_type": "markdown",
   "metadata": {},
   "source": [
    "### aggregate data"
   ]
  },
  {
   "cell_type": "code",
   "execution_count": 34,
   "metadata": {},
   "outputs": [],
   "source": [
    "elecProv_moon <- aggregate(moon ~광역시도, electionSum, sum)\n",
    "elecProv_hong <- aggregate(hong ~광역시도, electionSum, sum)\n",
    "elecProv_ahn  <- aggregate(ahn  ~광역시도, electionSum, sum)"
   ]
  },
  {
   "cell_type": "code",
   "execution_count": 35,
   "metadata": {},
   "outputs": [
    {
     "data": {
      "text/html": [
       "<table>\n",
       "<caption>A data.frame: 6 × 2</caption>\n",
       "<thead>\n",
       "\t<tr><th></th><th scope=col>광역시도</th><th scope=col>moon</th></tr>\n",
       "\t<tr><th></th><th scope=col>&lt;fct&gt;</th><th scope=col>&lt;int&gt;</th></tr>\n",
       "</thead>\n",
       "<tbody>\n",
       "\t<tr><th scope=row>1</th><td>강원도    </td><td> 324768</td></tr>\n",
       "\t<tr><th scope=row>2</th><td>경기도    </td><td>3319812</td></tr>\n",
       "\t<tr><th scope=row>3</th><td>경상남도  </td><td> 779731</td></tr>\n",
       "\t<tr><th scope=row>4</th><td>경상북도  </td><td> 369726</td></tr>\n",
       "\t<tr><th scope=row>5</th><td>광주광역시</td><td> 583847</td></tr>\n",
       "\t<tr><th scope=row>6</th><td>대구광역시</td><td> 342620</td></tr>\n",
       "</tbody>\n",
       "</table>\n"
      ],
      "text/latex": [
       "A data.frame: 6 × 2\n",
       "\\begin{tabular}{r|ll}\n",
       "  & 광역시도 & moon\\\\\n",
       "  & <fct> & <int>\\\\\n",
       "\\hline\n",
       "\t1 & 강원도     &  324768\\\\\n",
       "\t2 & 경기도     & 3319812\\\\\n",
       "\t3 & 경상남도   &  779731\\\\\n",
       "\t4 & 경상북도   &  369726\\\\\n",
       "\t5 & 광주광역시 &  583847\\\\\n",
       "\t6 & 대구광역시 &  342620\\\\\n",
       "\\end{tabular}\n"
      ],
      "text/markdown": [
       "\n",
       "A data.frame: 6 × 2\n",
       "\n",
       "| <!--/--> | 광역시도 &lt;fct&gt; | moon &lt;int&gt; |\n",
       "|---|---|---|\n",
       "| 1 | 강원도     |  324768 |\n",
       "| 2 | 경기도     | 3319812 |\n",
       "| 3 | 경상남도   |  779731 |\n",
       "| 4 | 경상북도   |  369726 |\n",
       "| 5 | 광주광역시 |  583847 |\n",
       "| 6 | 대구광역시 |  342620 |\n",
       "\n"
      ],
      "text/plain": [
       "  광역시도   moon   \n",
       "1 강원도      324768\n",
       "2 경기도     3319812\n",
       "3 경상남도    779731\n",
       "4 경상북도    369726\n",
       "5 광주광역시  583847\n",
       "6 대구광역시  342620"
      ]
     },
     "metadata": {},
     "output_type": "display_data"
    }
   ],
   "source": [
    "head(elecProv_moon)"
   ]
  },
  {
   "cell_type": "markdown",
   "metadata": {},
   "source": [
    "### Order By votes and reset rownames"
   ]
  },
  {
   "cell_type": "code",
   "execution_count": 36,
   "metadata": {},
   "outputs": [],
   "source": [
    "elecProv_moon_ord <- orderBy(~-moon, elecProv_moon)\n",
    "elecProv_hong_ord <- orderBy(~-hong, elecProv_hong)\n",
    "elecProv_ahn_ord <- orderBy(~-ahn, elecProv_ahn)\n",
    "\n",
    "rownames(elecProv_moon_ord) <- c()\n",
    "rownames(elecProv_hong_ord) <- c()\n",
    "rownames(elecProv_ahn_ord)  <- c()"
   ]
  },
  {
   "cell_type": "markdown",
   "metadata": {},
   "source": [
    "### add ratio"
   ]
  },
  {
   "cell_type": "code",
   "execution_count": 37,
   "metadata": {},
   "outputs": [],
   "source": [
    "elecProv_moon_ord$ratio <- round(elecProv_moon_ord$moon/sum(elecProv_moon_ord$moon)*100,2)\n",
    "elecProv_hong_ord$ratio <- round(elecProv_hong_ord$hong/sum(elecProv_hong_ord$hong)*100,2)\n",
    "elecProv_ahn_ord$ratio  <- round(elecProv_ahn_ord$ahn/sum(elecProv_ahn_ord$ahn)*100,2)"
   ]
  },
  {
   "cell_type": "code",
   "execution_count": 38,
   "metadata": {},
   "outputs": [
    {
     "data": {
      "text/html": [
       "<table>\n",
       "<caption>A data.frame: 6 × 3</caption>\n",
       "<thead>\n",
       "\t<tr><th></th><th scope=col>광역시도</th><th scope=col>moon</th><th scope=col>ratio</th></tr>\n",
       "\t<tr><th></th><th scope=col>&lt;fct&gt;</th><th scope=col>&lt;int&gt;</th><th scope=col>&lt;dbl&gt;</th></tr>\n",
       "</thead>\n",
       "<tbody>\n",
       "\t<tr><th scope=row>1</th><td>경기도    </td><td>3319812</td><td>24.73</td></tr>\n",
       "\t<tr><th scope=row>2</th><td>서울특별시</td><td>2781345</td><td>20.72</td></tr>\n",
       "\t<tr><th scope=row>3</th><td>부산광역시</td><td> 872127</td><td> 6.50</td></tr>\n",
       "\t<tr><th scope=row>4</th><td>경상남도  </td><td> 779731</td><td> 5.81</td></tr>\n",
       "\t<tr><th scope=row>5</th><td>전라북도  </td><td> 778747</td><td> 5.80</td></tr>\n",
       "\t<tr><th scope=row>6</th><td>인천광역시</td><td> 747090</td><td> 5.57</td></tr>\n",
       "</tbody>\n",
       "</table>\n"
      ],
      "text/latex": [
       "A data.frame: 6 × 3\n",
       "\\begin{tabular}{r|lll}\n",
       "  & 광역시도 & moon & ratio\\\\\n",
       "  & <fct> & <int> & <dbl>\\\\\n",
       "\\hline\n",
       "\t1 & 경기도     & 3319812 & 24.73\\\\\n",
       "\t2 & 서울특별시 & 2781345 & 20.72\\\\\n",
       "\t3 & 부산광역시 &  872127 &  6.50\\\\\n",
       "\t4 & 경상남도   &  779731 &  5.81\\\\\n",
       "\t5 & 전라북도   &  778747 &  5.80\\\\\n",
       "\t6 & 인천광역시 &  747090 &  5.57\\\\\n",
       "\\end{tabular}\n"
      ],
      "text/markdown": [
       "\n",
       "A data.frame: 6 × 3\n",
       "\n",
       "| <!--/--> | 광역시도 &lt;fct&gt; | moon &lt;int&gt; | ratio &lt;dbl&gt; |\n",
       "|---|---|---|---|\n",
       "| 1 | 경기도     | 3319812 | 24.73 |\n",
       "| 2 | 서울특별시 | 2781345 | 20.72 |\n",
       "| 3 | 부산광역시 |  872127 |  6.50 |\n",
       "| 4 | 경상남도   |  779731 |  5.81 |\n",
       "| 5 | 전라북도   |  778747 |  5.80 |\n",
       "| 6 | 인천광역시 |  747090 |  5.57 |\n",
       "\n"
      ],
      "text/plain": [
       "  광역시도   moon    ratio\n",
       "1 경기도     3319812 24.73\n",
       "2 서울특별시 2781345 20.72\n",
       "3 부산광역시  872127  6.50\n",
       "4 경상남도    779731  5.81\n",
       "5 전라북도    778747  5.80\n",
       "6 인천광역시  747090  5.57"
      ]
     },
     "metadata": {},
     "output_type": "display_data"
    }
   ],
   "source": [
    "head(elecProv_moon_ord)"
   ]
  },
  {
   "cell_type": "markdown",
   "metadata": {},
   "source": [
    "### Create label"
   ]
  },
  {
   "cell_type": "code",
   "execution_count": 39,
   "metadata": {},
   "outputs": [],
   "source": [
    "moonLabel <- paste(elecProv_moon_ord$광역시도,\n",
    "                   ifelse((elecProv_moon_ord$ratio > 3),\n",
    "                   paste(\"\\n\",elecProv_moon_ord$ratio, \"%\"), \"\"))\n",
    "\n",
    "hongLabel <- paste(elecProv_hong_ord$광역시도, \n",
    "                   ifelse((elecProv_hong_ord$ratio > 3),\n",
    "                   paste(\"\\n\", elecProv_hong_ord$ratio, \"%\"), \"\"))\n",
    "\n",
    "ahnLabel <- paste(elecProv_ahn_ord$광역시도,\n",
    "                  ifelse((elecProv_ahn_ord$ratio > 3),\n",
    "                  paste(\"\\n\", elecProv_ahn_ord$ratio, \"%\"), \"\"))"
   ]
  },
  {
   "cell_type": "markdown",
   "metadata": {},
   "source": [
    "### Plot pie3D"
   ]
  },
  {
   "cell_type": "code",
   "execution_count": 40,
   "metadata": {},
   "outputs": [
    {
     "data": {
      "image/png": "[encoded data removed]",
      "text/plain": [
       "Plot with title “moon's voting rate by Region”"
      ]
     },
     "metadata": {
      "image/png": {
       "height": 420,
       "width": 420
      },
      "text/plain": {
       "height": 420,
       "width": 420
      }
     },
     "output_type": "display_data"
    },
    {
     "data": {
      "image/png": "[encoded data removed]",
      "text/plain": [
       "Plot with title “hong's voting rate by Region”"
      ]
     },
     "metadata": {
      "image/png": {
       "height": 420,
       "width": 420
      },
      "text/plain": {
       "height": 420,
       "width": 420
      }
     },
     "output_type": "display_data"
    },
    {
     "data": {
      "image/png": "[encoded data removed]",
      "text/plain": [
       "Plot with title “ahn's voting rate by Region”"
      ]
     },
     "metadata": {
      "image/png": {
       "height": 420,
       "width": 420
      },
      "text/plain": {
       "height": 420,
       "width": 420
      }
     },
     "output_type": "display_data"
    }
   ],
   "source": [
    "pie3D(elecProv_moon_ord$ratio,\n",
    "      labels = moonLabel,\n",
    "      main = \"moon's voting rate by Region\",\n",
    "      labelcex=0.7)\n",
    "\n",
    "pie3D(elecProv_hong_ord$ratio,\n",
    "      labels = hongLabel,\n",
    "      main = \"hong's voting rate by Region\",\n",
    "      labelcex=0.7)\n",
    "\n",
    "pie3D(elecProv_ahn_ord$ratio,\n",
    "      labels = ahnLabel,\n",
    "      main = \"ahn's voting rate by Region\",\n",
    "      labelcex=0.7)"
   ]
  },
  {
   "cell_type": "markdown",
   "metadata": {},
   "source": [
    "Interestingly, we can see that the proportion of Moon's voting rate is similar to the propotion of voter share."
   ]
  },
  {
   "cell_type": "markdown",
   "metadata": {},
   "source": [
    "## Plot top 5 counties(시군) in Seoul(서울특별시) for Moon"
   ]
  },
  {
   "cell_type": "markdown",
   "metadata": {},
   "source": [
    "### Subset and aggregate"
   ]
  },
  {
   "cell_type": "code",
   "execution_count": 41,
   "metadata": {
    "scrolled": true
   },
   "outputs": [
    {
     "data": {
      "text/html": [
       "<table>\n",
       "<caption>A data.frame: 6 × 10</caption>\n",
       "<thead>\n",
       "\t<tr><th></th><th scope=col>X</th><th scope=col>광역시도</th><th scope=col>시군</th><th scope=col>pop</th><th scope=col>moon</th><th scope=col>hong</th><th scope=col>ahn</th><th scope=col>Sum.ThreeCand</th><th scope=col>others</th><th scope=col>PortionThree</th></tr>\n",
       "\t<tr><th></th><th scope=col>&lt;int&gt;</th><th scope=col>&lt;fct&gt;</th><th scope=col>&lt;fct&gt;</th><th scope=col>&lt;int&gt;</th><th scope=col>&lt;int&gt;</th><th scope=col>&lt;int&gt;</th><th scope=col>&lt;int&gt;</th><th scope=col>&lt;int&gt;</th><th scope=col>&lt;int&gt;</th><th scope=col>&lt;dbl&gt;</th></tr>\n",
       "</thead>\n",
       "<tbody>\n",
       "\t<tr><th scope=row>1</th><td>0</td><td>서울특별시</td><td>종로구  </td><td>102566</td><td> 42512</td><td>22325</td><td>22313</td><td> 87150</td><td>15416</td><td>84.97</td></tr>\n",
       "\t<tr><th scope=row>2</th><td>1</td><td>서울특별시</td><td>중구    </td><td> 82852</td><td> 34062</td><td>17901</td><td>19372</td><td> 71335</td><td>11517</td><td>86.10</td></tr>\n",
       "\t<tr><th scope=row>3</th><td>2</td><td>서울특별시</td><td>용산구  </td><td>148157</td><td> 58081</td><td>35230</td><td>32109</td><td>125420</td><td>22737</td><td>84.65</td></tr>\n",
       "\t<tr><th scope=row>4</th><td>3</td><td>서울특별시</td><td>성동구  </td><td>203175</td><td> 86686</td><td>40566</td><td>45674</td><td>172926</td><td>30249</td><td>85.11</td></tr>\n",
       "\t<tr><th scope=row>5</th><td>4</td><td>서울특별시</td><td>광진구  </td><td>240030</td><td>105512</td><td>46368</td><td>52824</td><td>204704</td><td>35326</td><td>85.28</td></tr>\n",
       "\t<tr><th scope=row>6</th><td>5</td><td>서울특별시</td><td>동대문구</td><td>236092</td><td> 98958</td><td>51631</td><td>53359</td><td>203948</td><td>32144</td><td>86.38</td></tr>\n",
       "</tbody>\n",
       "</table>\n"
      ],
      "text/latex": [
       "A data.frame: 6 × 10\n",
       "\\begin{tabular}{r|llllllllll}\n",
       "  & X & 광역시도 & 시군 & pop & moon & hong & ahn & Sum.ThreeCand & others & PortionThree\\\\\n",
       "  & <int> & <fct> & <fct> & <int> & <int> & <int> & <int> & <int> & <int> & <dbl>\\\\\n",
       "\\hline\n",
       "\t1 & 0 & 서울특별시 & 종로구   & 102566 &  42512 & 22325 & 22313 &  87150 & 15416 & 84.97\\\\\n",
       "\t2 & 1 & 서울특별시 & 중구     &  82852 &  34062 & 17901 & 19372 &  71335 & 11517 & 86.10\\\\\n",
       "\t3 & 2 & 서울특별시 & 용산구   & 148157 &  58081 & 35230 & 32109 & 125420 & 22737 & 84.65\\\\\n",
       "\t4 & 3 & 서울특별시 & 성동구   & 203175 &  86686 & 40566 & 45674 & 172926 & 30249 & 85.11\\\\\n",
       "\t5 & 4 & 서울특별시 & 광진구   & 240030 & 105512 & 46368 & 52824 & 204704 & 35326 & 85.28\\\\\n",
       "\t6 & 5 & 서울특별시 & 동대문구 & 236092 &  98958 & 51631 & 53359 & 203948 & 32144 & 86.38\\\\\n",
       "\\end{tabular}\n"
      ],
      "text/markdown": [
       "\n",
       "A data.frame: 6 × 10\n",
       "\n",
       "| <!--/--> | X &lt;int&gt; | 광역시도 &lt;fct&gt; | 시군 &lt;fct&gt; | pop &lt;int&gt; | moon &lt;int&gt; | hong &lt;int&gt; | ahn &lt;int&gt; | Sum.ThreeCand &lt;int&gt; | others &lt;int&gt; | PortionThree &lt;dbl&gt; |\n",
       "|---|---|---|---|---|---|---|---|---|---|---|\n",
       "| 1 | 0 | 서울특별시 | 종로구   | 102566 |  42512 | 22325 | 22313 |  87150 | 15416 | 84.97 |\n",
       "| 2 | 1 | 서울특별시 | 중구     |  82852 |  34062 | 17901 | 19372 |  71335 | 11517 | 86.10 |\n",
       "| 3 | 2 | 서울특별시 | 용산구   | 148157 |  58081 | 35230 | 32109 | 125420 | 22737 | 84.65 |\n",
       "| 4 | 3 | 서울특별시 | 성동구   | 203175 |  86686 | 40566 | 45674 | 172926 | 30249 | 85.11 |\n",
       "| 5 | 4 | 서울특별시 | 광진구   | 240030 | 105512 | 46368 | 52824 | 204704 | 35326 | 85.28 |\n",
       "| 6 | 5 | 서울특별시 | 동대문구 | 236092 |  98958 | 51631 | 53359 | 203948 | 32144 | 86.38 |\n",
       "\n"
      ],
      "text/plain": [
       "  X 광역시도   시군     pop    moon   hong  ahn   Sum.ThreeCand others\n",
       "1 0 서울특별시 종로구   102566  42512 22325 22313  87150        15416 \n",
       "2 1 서울특별시 중구      82852  34062 17901 19372  71335        11517 \n",
       "3 2 서울특별시 용산구   148157  58081 35230 32109 125420        22737 \n",
       "4 3 서울특별시 성동구   203175  86686 40566 45674 172926        30249 \n",
       "5 4 서울특별시 광진구   240030 105512 46368 52824 204704        35326 \n",
       "6 5 서울특별시 동대문구 236092  98958 51631 53359 203948        32144 \n",
       "  PortionThree\n",
       "1 84.97       \n",
       "2 86.10       \n",
       "3 84.65       \n",
       "4 85.11       \n",
       "5 85.28       \n",
       "6 86.38       "
      ]
     },
     "metadata": {},
     "output_type": "display_data"
    }
   ],
   "source": [
    "# in R\n",
    "elecSeoul <- subset(electionSum, 광역시도 == \"서울특별시\")\n",
    "head(electionSum)\n",
    "\n",
    "# Alternatively, like Python\n",
    "# election[election$광역시도 == \"서울특별시\",]"
   ]
  },
  {
   "cell_type": "code",
   "execution_count": 42,
   "metadata": {},
   "outputs": [],
   "source": [
    "elecSeoul.moonCounty <- aggregate(moon ~시군, elecSeoul, sum)"
   ]
  },
  {
   "cell_type": "markdown",
   "metadata": {},
   "source": [
    "### orderBy moon and reset rownames"
   ]
  },
  {
   "cell_type": "code",
   "execution_count": 43,
   "metadata": {},
   "outputs": [
    {
     "data": {
      "text/html": [
       "<table>\n",
       "<caption>A data.frame: 6 × 2</caption>\n",
       "<thead>\n",
       "\t<tr><th></th><th scope=col>시군</th><th scope=col>moon</th></tr>\n",
       "\t<tr><th></th><th scope=col>&lt;fct&gt;</th><th scope=col>&lt;int&gt;</th></tr>\n",
       "</thead>\n",
       "<tbody>\n",
       "\t<tr><th scope=row>1</th><td>송파구</td><td>177328</td></tr>\n",
       "\t<tr><th scope=row>2</th><td>강서구</td><td>175882</td></tr>\n",
       "\t<tr><th scope=row>3</th><td>관악구</td><td>159854</td></tr>\n",
       "\t<tr><th scope=row>4</th><td>노원구</td><td>158167</td></tr>\n",
       "\t<tr><th scope=row>5</th><td>은평구</td><td>140180</td></tr>\n",
       "\t<tr><th scope=row>6</th><td>양천구</td><td>133853</td></tr>\n",
       "</tbody>\n",
       "</table>\n"
      ],
      "text/latex": [
       "A data.frame: 6 × 2\n",
       "\\begin{tabular}{r|ll}\n",
       "  & 시군 & moon\\\\\n",
       "  & <fct> & <int>\\\\\n",
       "\\hline\n",
       "\t1 & 송파구 & 177328\\\\\n",
       "\t2 & 강서구 & 175882\\\\\n",
       "\t3 & 관악구 & 159854\\\\\n",
       "\t4 & 노원구 & 158167\\\\\n",
       "\t5 & 은평구 & 140180\\\\\n",
       "\t6 & 양천구 & 133853\\\\\n",
       "\\end{tabular}\n"
      ],
      "text/markdown": [
       "\n",
       "A data.frame: 6 × 2\n",
       "\n",
       "| <!--/--> | 시군 &lt;fct&gt; | moon &lt;int&gt; |\n",
       "|---|---|---|\n",
       "| 1 | 송파구 | 177328 |\n",
       "| 2 | 강서구 | 175882 |\n",
       "| 3 | 관악구 | 159854 |\n",
       "| 4 | 노원구 | 158167 |\n",
       "| 5 | 은평구 | 140180 |\n",
       "| 6 | 양천구 | 133853 |\n",
       "\n"
      ],
      "text/plain": [
       "  시군   moon  \n",
       "1 송파구 177328\n",
       "2 강서구 175882\n",
       "3 관악구 159854\n",
       "4 노원구 158167\n",
       "5 은평구 140180\n",
       "6 양천구 133853"
      ]
     },
     "metadata": {},
     "output_type": "display_data"
    }
   ],
   "source": [
    "elecSeoul.moonCounty.ord <- orderBy(~-moon, elecSeoul.moonCounty)\n",
    "\n",
    "rownames(elecSeoul.moonCounty.ord) <- c()\n",
    "head(elecSeoul.moonCounty.ord)"
   ]
  },
  {
   "cell_type": "markdown",
   "metadata": {},
   "source": [
    "### Create the ratio"
   ]
  },
  {
   "cell_type": "code",
   "execution_count": 44,
   "metadata": {},
   "outputs": [],
   "source": [
    "elecSeoul.moonCounty.ord$ratio <- round(elecSeoul.moonCounty.ord$moon/sum(elecSeoul.moonCounty.ord$moon)*100,2)"
   ]
  },
  {
   "cell_type": "code",
   "execution_count": 45,
   "metadata": {},
   "outputs": [
    {
     "data": {
      "text/html": [
       "<table>\n",
       "<caption>A data.frame: 6 × 3</caption>\n",
       "<thead>\n",
       "\t<tr><th></th><th scope=col>시군</th><th scope=col>moon</th><th scope=col>ratio</th></tr>\n",
       "\t<tr><th></th><th scope=col>&lt;fct&gt;</th><th scope=col>&lt;int&gt;</th><th scope=col>&lt;dbl&gt;</th></tr>\n",
       "</thead>\n",
       "<tbody>\n",
       "\t<tr><th scope=row>1</th><td>송파구</td><td>177328</td><td>6.38</td></tr>\n",
       "\t<tr><th scope=row>2</th><td>강서구</td><td>175882</td><td>6.32</td></tr>\n",
       "\t<tr><th scope=row>3</th><td>관악구</td><td>159854</td><td>5.75</td></tr>\n",
       "\t<tr><th scope=row>4</th><td>노원구</td><td>158167</td><td>5.69</td></tr>\n",
       "\t<tr><th scope=row>5</th><td>은평구</td><td>140180</td><td>5.04</td></tr>\n",
       "\t<tr><th scope=row>6</th><td>양천구</td><td>133853</td><td>4.81</td></tr>\n",
       "</tbody>\n",
       "</table>\n"
      ],
      "text/latex": [
       "A data.frame: 6 × 3\n",
       "\\begin{tabular}{r|lll}\n",
       "  & 시군 & moon & ratio\\\\\n",
       "  & <fct> & <int> & <dbl>\\\\\n",
       "\\hline\n",
       "\t1 & 송파구 & 177328 & 6.38\\\\\n",
       "\t2 & 강서구 & 175882 & 6.32\\\\\n",
       "\t3 & 관악구 & 159854 & 5.75\\\\\n",
       "\t4 & 노원구 & 158167 & 5.69\\\\\n",
       "\t5 & 은평구 & 140180 & 5.04\\\\\n",
       "\t6 & 양천구 & 133853 & 4.81\\\\\n",
       "\\end{tabular}\n"
      ],
      "text/markdown": [
       "\n",
       "A data.frame: 6 × 3\n",
       "\n",
       "| <!--/--> | 시군 &lt;fct&gt; | moon &lt;int&gt; | ratio &lt;dbl&gt; |\n",
       "|---|---|---|---|\n",
       "| 1 | 송파구 | 177328 | 6.38 |\n",
       "| 2 | 강서구 | 175882 | 6.32 |\n",
       "| 3 | 관악구 | 159854 | 5.75 |\n",
       "| 4 | 노원구 | 158167 | 5.69 |\n",
       "| 5 | 은평구 | 140180 | 5.04 |\n",
       "| 6 | 양천구 | 133853 | 4.81 |\n",
       "\n"
      ],
      "text/plain": [
       "  시군   moon   ratio\n",
       "1 송파구 177328 6.38 \n",
       "2 강서구 175882 6.32 \n",
       "3 관악구 159854 5.75 \n",
       "4 노원구 158167 5.69 \n",
       "5 은평구 140180 5.04 \n",
       "6 양천구 133853 4.81 "
      ]
     },
     "metadata": {},
     "output_type": "display_data"
    }
   ],
   "source": [
    "head(elecSeoul.moonCounty.ord)"
   ]
  },
  {
   "cell_type": "code",
   "execution_count": 46,
   "metadata": {},
   "outputs": [
    {
     "data": {
      "text/html": [
       "<ol class=list-inline>\n",
       "\t<li>6.38</li>\n",
       "\t<li>6.32</li>\n",
       "\t<li>5.75</li>\n",
       "\t<li>5.69</li>\n",
       "\t<li>5.04</li>\n",
       "\t<li>70.83</li>\n",
       "</ol>\n"
      ],
      "text/latex": [
       "\\begin{enumerate*}\n",
       "\\item 6.38\n",
       "\\item 6.32\n",
       "\\item 5.75\n",
       "\\item 5.69\n",
       "\\item 5.04\n",
       "\\item 70.83\n",
       "\\end{enumerate*}\n"
      ],
      "text/markdown": [
       "1. 6.38\n",
       "2. 6.32\n",
       "3. 5.75\n",
       "4. 5.69\n",
       "5. 5.04\n",
       "6. 70.83\n",
       "\n",
       "\n"
      ],
      "text/plain": [
       "[1]  6.38  6.32  5.75  5.69  5.04 70.83"
      ]
     },
     "metadata": {},
     "output_type": "display_data"
    }
   ],
   "source": [
    "top5moon.ratio <- c(elecSeoul.moonCounty.ord[1:5,3], \n",
    "                    sum(elecSeoul.moonCounty.ord[-(1:5),3]))\n",
    "top5moon.ratio\n",
    "\n",
    "# top5moon.ratio <- c(elecSeoul.moonCounty.ord[seq(1:5),3], \n",
    "#                     sum(elecSeoul.moonCounty.ord[-seq(1:5),3]))"
   ]
  },
  {
   "cell_type": "markdown",
   "metadata": {},
   "source": [
    "### Create label"
   ]
  },
  {
   "cell_type": "code",
   "execution_count": 47,
   "metadata": {},
   "outputs": [
    {
     "data": {
      "text/html": [
       "<ol class=list-inline>\n",
       "\t<li>송파구</li>\n",
       "\t<li>강서구</li>\n",
       "\t<li>관악구</li>\n",
       "\t<li>노원구</li>\n",
       "\t<li>은평구</li>\n",
       "</ol>\n",
       "\n",
       "<details>\n",
       "\t<summary style=display:list-item;cursor:pointer>\n",
       "\t\t<strong>Levels</strong>:\n",
       "\t</summary>\n",
       "\t<ol class=list-inline>\n",
       "\t\t<li>'가평군'</li>\n",
       "\t\t<li>'강남구'</li>\n",
       "\t\t<li>'강동구'</li>\n",
       "\t\t<li>'강릉시'</li>\n",
       "\t\t<li>'강북구'</li>\n",
       "\t\t<li>'강서구'</li>\n",
       "\t\t<li>'강진군'</li>\n",
       "\t\t<li>'강화군'</li>\n",
       "\t\t<li>'거제시'</li>\n",
       "\t\t<li>'거창군'</li>\n",
       "\t\t<li>'경산시'</li>\n",
       "\t\t<li>'경주시'</li>\n",
       "\t\t<li>'계룡시'</li>\n",
       "\t\t<li>'계양구'</li>\n",
       "\t\t<li>'고령군'</li>\n",
       "\t\t<li>'고성군'</li>\n",
       "\t\t<li>'고양시덕양구'</li>\n",
       "\t\t<li>'고양시일산동구'</li>\n",
       "\t\t<li>'고양시일산서구'</li>\n",
       "\t\t<li>'고창군'</li>\n",
       "\t\t<li>'고흥군'</li>\n",
       "\t\t<li>'곡성군'</li>\n",
       "\t\t<li>'공주시'</li>\n",
       "\t\t<li>'과천시'</li>\n",
       "\t\t<li>'관악구'</li>\n",
       "\t\t<li>'광명시'</li>\n",
       "\t\t<li>'광산구'</li>\n",
       "\t\t<li>'광양시'</li>\n",
       "\t\t<li>'광주시'</li>\n",
       "\t\t<li>'광진구'</li>\n",
       "\t\t<li>'괴산군'</li>\n",
       "\t\t<li>'구례군'</li>\n",
       "\t\t<li>'구로구'</li>\n",
       "\t\t<li>'구리시'</li>\n",
       "\t\t<li>'구미시'</li>\n",
       "\t\t<li>'군산시'</li>\n",
       "\t\t<li>'군위군'</li>\n",
       "\t\t<li>'군포시'</li>\n",
       "\t\t<li>'금산군'</li>\n",
       "\t\t<li>'금정구'</li>\n",
       "\t\t<li>'금천구'</li>\n",
       "\t\t<li>'기장군'</li>\n",
       "\t\t<li>'김제시'</li>\n",
       "\t\t<li>'김천시'</li>\n",
       "\t\t<li>'김포시'</li>\n",
       "\t\t<li>'김해시'</li>\n",
       "\t\t<li>'나주시'</li>\n",
       "\t\t<li>'남구'</li>\n",
       "\t\t<li>'남동구'</li>\n",
       "\t\t<li>'남양주시'</li>\n",
       "\t\t<li>'남원시'</li>\n",
       "\t\t<li>'남해군'</li>\n",
       "\t\t<li>'노원구'</li>\n",
       "\t\t<li>'논산시'</li>\n",
       "\t\t<li>'단양군'</li>\n",
       "\t\t<li>'달서구'</li>\n",
       "\t\t<li>'달성군'</li>\n",
       "\t\t<li>'담양군'</li>\n",
       "\t\t<li>'당진시'</li>\n",
       "\t\t<li>'대덕구'</li>\n",
       "\t\t<li>'도봉구'</li>\n",
       "\t\t<li>'동구'</li>\n",
       "\t\t<li>'동대문구'</li>\n",
       "\t\t<li>'동두천시'</li>\n",
       "\t\t<li>'동래구'</li>\n",
       "\t\t<li>'동작구'</li>\n",
       "\t\t<li>'동해시'</li>\n",
       "\t\t<li>'마포구'</li>\n",
       "\t\t<li>'목포시'</li>\n",
       "\t\t<li>'무안군'</li>\n",
       "\t\t<li>'무주군'</li>\n",
       "\t\t<li>'문경시'</li>\n",
       "\t\t<li>'밀양시'</li>\n",
       "\t\t<li>'보령시'</li>\n",
       "\t\t<li>'보성군'</li>\n",
       "\t\t<li>'보은군'</li>\n",
       "\t\t<li>'봉화군'</li>\n",
       "\t\t<li>'부산진구'</li>\n",
       "\t\t<li>'부안군'</li>\n",
       "\t\t<li>'부여군'</li>\n",
       "\t\t<li>'부천시'</li>\n",
       "\t\t<li>'부평구'</li>\n",
       "\t\t<li>'북구'</li>\n",
       "\t\t<li>'사상구'</li>\n",
       "\t\t<li>'사천시'</li>\n",
       "\t\t<li>'사하구'</li>\n",
       "\t\t<li>'산청군'</li>\n",
       "\t\t<li>'삼척시'</li>\n",
       "\t\t<li>'상주시'</li>\n",
       "\t\t<li>'서구'</li>\n",
       "\t\t<li>'서귀포시'</li>\n",
       "\t\t<li>'서대문구'</li>\n",
       "\t\t<li>'서산시'</li>\n",
       "\t\t<li>'서천군'</li>\n",
       "\t\t<li>'서초구'</li>\n",
       "\t\t<li>'성남시분당구'</li>\n",
       "\t\t<li>'성남시수정구'</li>\n",
       "\t\t<li>'성남시중원구'</li>\n",
       "\t\t<li>'성동구'</li>\n",
       "\t\t<li>'성북구'</li>\n",
       "\t\t<li>'성주군'</li>\n",
       "\t\t<li>'세종특별자치시'</li>\n",
       "\t\t<li>'속초시'</li>\n",
       "\t\t<li>'송파구'</li>\n",
       "\t\t<li>'수성구'</li>\n",
       "\t\t<li>'수영구'</li>\n",
       "\t\t<li>'수원시권선구'</li>\n",
       "\t\t<li>'수원시영통구'</li>\n",
       "\t\t<li>'수원시장안구'</li>\n",
       "\t\t<li>'수원시팔달구'</li>\n",
       "\t\t<li>'순창군'</li>\n",
       "\t\t<li>'순천시'</li>\n",
       "\t\t<li>'시흥시'</li>\n",
       "\t\t<li>'신안군'</li>\n",
       "\t\t<li>'아산시'</li>\n",
       "\t\t<li>'안동시'</li>\n",
       "\t\t<li>'안산시단원구'</li>\n",
       "\t\t<li>'안산시상록구'</li>\n",
       "\t\t<li>'안성시'</li>\n",
       "\t\t<li>'안양시동안구'</li>\n",
       "\t\t<li>'안양시만안구'</li>\n",
       "\t\t<li>'양구군'</li>\n",
       "\t\t<li>'양산시'</li>\n",
       "\t\t<li>'양양군'</li>\n",
       "\t\t<li>'양주시'</li>\n",
       "\t\t<li>'양천구'</li>\n",
       "\t\t<li>'양평군'</li>\n",
       "\t\t<li>'여수시'</li>\n",
       "\t\t<li>'여주시'</li>\n",
       "\t\t<li>'연수구'</li>\n",
       "\t\t<li>'연제구'</li>\n",
       "\t\t<li>'연천군'</li>\n",
       "\t\t<li>'영광군'</li>\n",
       "\t\t<li>'영덕군'</li>\n",
       "\t\t<li>'영도구'</li>\n",
       "\t\t<li>'영동군'</li>\n",
       "\t\t<li>'영등포구'</li>\n",
       "\t\t<li>'영암군'</li>\n",
       "\t\t<li>'영양군'</li>\n",
       "\t\t<li>'영월군'</li>\n",
       "\t\t<li>'영주시'</li>\n",
       "\t\t<li>'영천시'</li>\n",
       "\t\t<li>'예산군'</li>\n",
       "\t\t<li>'예천군'</li>\n",
       "\t\t<li>'오산시'</li>\n",
       "\t\t<li>'옥천군'</li>\n",
       "\t\t<li>'옹진군'</li>\n",
       "\t\t<li>'완도군'</li>\n",
       "\t\t<li>'완주군'</li>\n",
       "\t\t<li>'용산구'</li>\n",
       "\t\t<li>'용인시기흥구'</li>\n",
       "\t\t<li>'용인시수지구'</li>\n",
       "\t\t<li>'용인시처인구'</li>\n",
       "\t\t<li>'울릉군'</li>\n",
       "\t\t<li>'울주군'</li>\n",
       "\t\t<li>'울진군'</li>\n",
       "\t\t<li>'원주시'</li>\n",
       "\t\t<li>'유성구'</li>\n",
       "\t\t<li>'은평구'</li>\n",
       "\t\t<li>'음성군'</li>\n",
       "\t\t<li>'의령군'</li>\n",
       "\t\t<li>'의성군'</li>\n",
       "\t\t<li>'의왕시'</li>\n",
       "\t\t<li>'의정부시'</li>\n",
       "\t\t<li>'이천시'</li>\n",
       "\t\t<li>'익산시'</li>\n",
       "\t\t<li>'인제군'</li>\n",
       "\t\t<li>'임실군'</li>\n",
       "\t\t<li>'장성군'</li>\n",
       "\t\t<li>'장수군'</li>\n",
       "\t\t<li>'장흥군'</li>\n",
       "\t\t<li>'전주시덕진구'</li>\n",
       "\t\t<li>'전주시완산구'</li>\n",
       "\t\t<li>'정선군'</li>\n",
       "\t\t<li>'정읍시'</li>\n",
       "\t\t<li>'제주시'</li>\n",
       "\t\t<li>'제천시'</li>\n",
       "\t\t<li>'종로구'</li>\n",
       "\t\t<li>'중구'</li>\n",
       "\t\t<li>'중랑구'</li>\n",
       "\t\t<li>'증평군'</li>\n",
       "\t\t<li>'진도군'</li>\n",
       "\t\t<li>'진안군'</li>\n",
       "\t\t<li>'진주시'</li>\n",
       "\t\t<li>'진천군'</li>\n",
       "\t\t<li>'창녕군'</li>\n",
       "\t\t<li>'창원시마산합포구'</li>\n",
       "\t\t<li>'창원시마산회원구'</li>\n",
       "\t\t<li>'창원시성산구'</li>\n",
       "\t\t<li>'창원시의창구'</li>\n",
       "\t\t<li>'창원시진해구'</li>\n",
       "\t\t<li>'천안시동남구'</li>\n",
       "\t\t<li>'천안시서북구'</li>\n",
       "\t\t<li>'철원군'</li>\n",
       "\t\t<li>'청도군'</li>\n",
       "\t\t<li>'청송군'</li>\n",
       "\t\t<li>'청양군'</li>\n",
       "\t\t<li>'청주시상당구'</li>\n",
       "\t\t<li>'청주시서원구'</li>\n",
       "\t\t<li>'청주시청원구'</li>\n",
       "\t\t<li>'청주시흥덕구'</li>\n",
       "\t\t<li>'춘천시'</li>\n",
       "\t\t<li>'충주시'</li>\n",
       "\t\t<li>'칠곡군'</li>\n",
       "\t\t<li>'태백시'</li>\n",
       "\t\t<li>'태안군'</li>\n",
       "\t\t<li>'통영시'</li>\n",
       "\t\t<li>'파주시'</li>\n",
       "\t\t<li>'평창군'</li>\n",
       "\t\t<li>'평택시'</li>\n",
       "\t\t<li>'포천시'</li>\n",
       "\t\t<li>'포항시남구'</li>\n",
       "\t\t<li>'포항시북구'</li>\n",
       "\t\t<li>'하남시'</li>\n",
       "\t\t<li>'하동군'</li>\n",
       "\t\t<li>'함안군'</li>\n",
       "\t\t<li>'함양군'</li>\n",
       "\t\t<li>'함평군'</li>\n",
       "\t\t<li>'합천군'</li>\n",
       "\t\t<li>'해남군'</li>\n",
       "\t\t<li>'해운대구'</li>\n",
       "\t\t<li>'홍성군'</li>\n",
       "\t\t<li>'홍천군'</li>\n",
       "\t\t<li>'화성시'</li>\n",
       "\t\t<li>'화순군'</li>\n",
       "\t\t<li>'화천군'</li>\n",
       "\t\t<li>'횡성군'</li>\n",
       "\t</ol>\n",
       "</details>"
      ],
      "text/latex": [
       "\\begin{enumerate*}\n",
       "\\item 송파구\n",
       "\\item 강서구\n",
       "\\item 관악구\n",
       "\\item 노원구\n",
       "\\item 은평구\n",
       "\\end{enumerate*}\n",
       "\n",
       "\\emph{Levels}: \\begin{enumerate*}\n",
       "\\item '가평군'\n",
       "\\item '강남구'\n",
       "\\item '강동구'\n",
       "\\item '강릉시'\n",
       "\\item '강북구'\n",
       "\\item '강서구'\n",
       "\\item '강진군'\n",
       "\\item '강화군'\n",
       "\\item '거제시'\n",
       "\\item '거창군'\n",
       "\\item '경산시'\n",
       "\\item '경주시'\n",
       "\\item '계룡시'\n",
       "\\item '계양구'\n",
       "\\item '고령군'\n",
       "\\item '고성군'\n",
       "\\item '고양시덕양구'\n",
       "\\item '고양시일산동구'\n",
       "\\item '고양시일산서구'\n",
       "\\item '고창군'\n",
       "\\item '고흥군'\n",
       "\\item '곡성군'\n",
       "\\item '공주시'\n",
       "\\item '과천시'\n",
       "\\item '관악구'\n",
       "\\item '광명시'\n",
       "\\item '광산구'\n",
       "\\item '광양시'\n",
       "\\item '광주시'\n",
       "\\item '광진구'\n",
       "\\item '괴산군'\n",
       "\\item '구례군'\n",
       "\\item '구로구'\n",
       "\\item '구리시'\n",
       "\\item '구미시'\n",
       "\\item '군산시'\n",
       "\\item '군위군'\n",
       "\\item '군포시'\n",
       "\\item '금산군'\n",
       "\\item '금정구'\n",
       "\\item '금천구'\n",
       "\\item '기장군'\n",
       "\\item '김제시'\n",
       "\\item '김천시'\n",
       "\\item '김포시'\n",
       "\\item '김해시'\n",
       "\\item '나주시'\n",
       "\\item '남구'\n",
       "\\item '남동구'\n",
       "\\item '남양주시'\n",
       "\\item '남원시'\n",
       "\\item '남해군'\n",
       "\\item '노원구'\n",
       "\\item '논산시'\n",
       "\\item '단양군'\n",
       "\\item '달서구'\n",
       "\\item '달성군'\n",
       "\\item '담양군'\n",
       "\\item '당진시'\n",
       "\\item '대덕구'\n",
       "\\item '도봉구'\n",
       "\\item '동구'\n",
       "\\item '동대문구'\n",
       "\\item '동두천시'\n",
       "\\item '동래구'\n",
       "\\item '동작구'\n",
       "\\item '동해시'\n",
       "\\item '마포구'\n",
       "\\item '목포시'\n",
       "\\item '무안군'\n",
       "\\item '무주군'\n",
       "\\item '문경시'\n",
       "\\item '밀양시'\n",
       "\\item '보령시'\n",
       "\\item '보성군'\n",
       "\\item '보은군'\n",
       "\\item '봉화군'\n",
       "\\item '부산진구'\n",
       "\\item '부안군'\n",
       "\\item '부여군'\n",
       "\\item '부천시'\n",
       "\\item '부평구'\n",
       "\\item '북구'\n",
       "\\item '사상구'\n",
       "\\item '사천시'\n",
       "\\item '사하구'\n",
       "\\item '산청군'\n",
       "\\item '삼척시'\n",
       "\\item '상주시'\n",
       "\\item '서구'\n",
       "\\item '서귀포시'\n",
       "\\item '서대문구'\n",
       "\\item '서산시'\n",
       "\\item '서천군'\n",
       "\\item '서초구'\n",
       "\\item '성남시분당구'\n",
       "\\item '성남시수정구'\n",
       "\\item '성남시중원구'\n",
       "\\item '성동구'\n",
       "\\item '성북구'\n",
       "\\item '성주군'\n",
       "\\item '세종특별자치시'\n",
       "\\item '속초시'\n",
       "\\item '송파구'\n",
       "\\item '수성구'\n",
       "\\item '수영구'\n",
       "\\item '수원시권선구'\n",
       "\\item '수원시영통구'\n",
       "\\item '수원시장안구'\n",
       "\\item '수원시팔달구'\n",
       "\\item '순창군'\n",
       "\\item '순천시'\n",
       "\\item '시흥시'\n",
       "\\item '신안군'\n",
       "\\item '아산시'\n",
       "\\item '안동시'\n",
       "\\item '안산시단원구'\n",
       "\\item '안산시상록구'\n",
       "\\item '안성시'\n",
       "\\item '안양시동안구'\n",
       "\\item '안양시만안구'\n",
       "\\item '양구군'\n",
       "\\item '양산시'\n",
       "\\item '양양군'\n",
       "\\item '양주시'\n",
       "\\item '양천구'\n",
       "\\item '양평군'\n",
       "\\item '여수시'\n",
       "\\item '여주시'\n",
       "\\item '연수구'\n",
       "\\item '연제구'\n",
       "\\item '연천군'\n",
       "\\item '영광군'\n",
       "\\item '영덕군'\n",
       "\\item '영도구'\n",
       "\\item '영동군'\n",
       "\\item '영등포구'\n",
       "\\item '영암군'\n",
       "\\item '영양군'\n",
       "\\item '영월군'\n",
       "\\item '영주시'\n",
       "\\item '영천시'\n",
       "\\item '예산군'\n",
       "\\item '예천군'\n",
       "\\item '오산시'\n",
       "\\item '옥천군'\n",
       "\\item '옹진군'\n",
       "\\item '완도군'\n",
       "\\item '완주군'\n",
       "\\item '용산구'\n",
       "\\item '용인시기흥구'\n",
       "\\item '용인시수지구'\n",
       "\\item '용인시처인구'\n",
       "\\item '울릉군'\n",
       "\\item '울주군'\n",
       "\\item '울진군'\n",
       "\\item '원주시'\n",
       "\\item '유성구'\n",
       "\\item '은평구'\n",
       "\\item '음성군'\n",
       "\\item '의령군'\n",
       "\\item '의성군'\n",
       "\\item '의왕시'\n",
       "\\item '의정부시'\n",
       "\\item '이천시'\n",
       "\\item '익산시'\n",
       "\\item '인제군'\n",
       "\\item '임실군'\n",
       "\\item '장성군'\n",
       "\\item '장수군'\n",
       "\\item '장흥군'\n",
       "\\item '전주시덕진구'\n",
       "\\item '전주시완산구'\n",
       "\\item '정선군'\n",
       "\\item '정읍시'\n",
       "\\item '제주시'\n",
       "\\item '제천시'\n",
       "\\item '종로구'\n",
       "\\item '중구'\n",
       "\\item '중랑구'\n",
       "\\item '증평군'\n",
       "\\item '진도군'\n",
       "\\item '진안군'\n",
       "\\item '진주시'\n",
       "\\item '진천군'\n",
       "\\item '창녕군'\n",
       "\\item '창원시마산합포구'\n",
       "\\item '창원시마산회원구'\n",
       "\\item '창원시성산구'\n",
       "\\item '창원시의창구'\n",
       "\\item '창원시진해구'\n",
       "\\item '천안시동남구'\n",
       "\\item '천안시서북구'\n",
       "\\item '철원군'\n",
       "\\item '청도군'\n",
       "\\item '청송군'\n",
       "\\item '청양군'\n",
       "\\item '청주시상당구'\n",
       "\\item '청주시서원구'\n",
       "\\item '청주시청원구'\n",
       "\\item '청주시흥덕구'\n",
       "\\item '춘천시'\n",
       "\\item '충주시'\n",
       "\\item '칠곡군'\n",
       "\\item '태백시'\n",
       "\\item '태안군'\n",
       "\\item '통영시'\n",
       "\\item '파주시'\n",
       "\\item '평창군'\n",
       "\\item '평택시'\n",
       "\\item '포천시'\n",
       "\\item '포항시남구'\n",
       "\\item '포항시북구'\n",
       "\\item '하남시'\n",
       "\\item '하동군'\n",
       "\\item '함안군'\n",
       "\\item '함양군'\n",
       "\\item '함평군'\n",
       "\\item '합천군'\n",
       "\\item '해남군'\n",
       "\\item '해운대구'\n",
       "\\item '홍성군'\n",
       "\\item '홍천군'\n",
       "\\item '화성시'\n",
       "\\item '화순군'\n",
       "\\item '화천군'\n",
       "\\item '횡성군'\n",
       "\\end{enumerate*}\n"
      ],
      "text/markdown": [
       "1. 송파구\n",
       "2. 강서구\n",
       "3. 관악구\n",
       "4. 노원구\n",
       "5. 은평구\n",
       "\n",
       "\n",
       "\n",
       "**Levels**: 1. '가평군'\n",
       "2. '강남구'\n",
       "3. '강동구'\n",
       "4. '강릉시'\n",
       "5. '강북구'\n",
       "6. '강서구'\n",
       "7. '강진군'\n",
       "8. '강화군'\n",
       "9. '거제시'\n",
       "10. '거창군'\n",
       "11. '경산시'\n",
       "12. '경주시'\n",
       "13. '계룡시'\n",
       "14. '계양구'\n",
       "15. '고령군'\n",
       "16. '고성군'\n",
       "17. '고양시덕양구'\n",
       "18. '고양시일산동구'\n",
       "19. '고양시일산서구'\n",
       "20. '고창군'\n",
       "21. '고흥군'\n",
       "22. '곡성군'\n",
       "23. '공주시'\n",
       "24. '과천시'\n",
       "25. '관악구'\n",
       "26. '광명시'\n",
       "27. '광산구'\n",
       "28. '광양시'\n",
       "29. '광주시'\n",
       "30. '광진구'\n",
       "31. '괴산군'\n",
       "32. '구례군'\n",
       "33. '구로구'\n",
       "34. '구리시'\n",
       "35. '구미시'\n",
       "36. '군산시'\n",
       "37. '군위군'\n",
       "38. '군포시'\n",
       "39. '금산군'\n",
       "40. '금정구'\n",
       "41. '금천구'\n",
       "42. '기장군'\n",
       "43. '김제시'\n",
       "44. '김천시'\n",
       "45. '김포시'\n",
       "46. '김해시'\n",
       "47. '나주시'\n",
       "48. '남구'\n",
       "49. '남동구'\n",
       "50. '남양주시'\n",
       "51. '남원시'\n",
       "52. '남해군'\n",
       "53. '노원구'\n",
       "54. '논산시'\n",
       "55. '단양군'\n",
       "56. '달서구'\n",
       "57. '달성군'\n",
       "58. '담양군'\n",
       "59. '당진시'\n",
       "60. '대덕구'\n",
       "61. '도봉구'\n",
       "62. '동구'\n",
       "63. '동대문구'\n",
       "64. '동두천시'\n",
       "65. '동래구'\n",
       "66. '동작구'\n",
       "67. '동해시'\n",
       "68. '마포구'\n",
       "69. '목포시'\n",
       "70. '무안군'\n",
       "71. '무주군'\n",
       "72. '문경시'\n",
       "73. '밀양시'\n",
       "74. '보령시'\n",
       "75. '보성군'\n",
       "76. '보은군'\n",
       "77. '봉화군'\n",
       "78. '부산진구'\n",
       "79. '부안군'\n",
       "80. '부여군'\n",
       "81. '부천시'\n",
       "82. '부평구'\n",
       "83. '북구'\n",
       "84. '사상구'\n",
       "85. '사천시'\n",
       "86. '사하구'\n",
       "87. '산청군'\n",
       "88. '삼척시'\n",
       "89. '상주시'\n",
       "90. '서구'\n",
       "91. '서귀포시'\n",
       "92. '서대문구'\n",
       "93. '서산시'\n",
       "94. '서천군'\n",
       "95. '서초구'\n",
       "96. '성남시분당구'\n",
       "97. '성남시수정구'\n",
       "98. '성남시중원구'\n",
       "99. '성동구'\n",
       "100. '성북구'\n",
       "101. '성주군'\n",
       "102. '세종특별자치시'\n",
       "103. '속초시'\n",
       "104. '송파구'\n",
       "105. '수성구'\n",
       "106. '수영구'\n",
       "107. '수원시권선구'\n",
       "108. '수원시영통구'\n",
       "109. '수원시장안구'\n",
       "110. '수원시팔달구'\n",
       "111. '순창군'\n",
       "112. '순천시'\n",
       "113. '시흥시'\n",
       "114. '신안군'\n",
       "115. '아산시'\n",
       "116. '안동시'\n",
       "117. '안산시단원구'\n",
       "118. '안산시상록구'\n",
       "119. '안성시'\n",
       "120. '안양시동안구'\n",
       "121. '안양시만안구'\n",
       "122. '양구군'\n",
       "123. '양산시'\n",
       "124. '양양군'\n",
       "125. '양주시'\n",
       "126. '양천구'\n",
       "127. '양평군'\n",
       "128. '여수시'\n",
       "129. '여주시'\n",
       "130. '연수구'\n",
       "131. '연제구'\n",
       "132. '연천군'\n",
       "133. '영광군'\n",
       "134. '영덕군'\n",
       "135. '영도구'\n",
       "136. '영동군'\n",
       "137. '영등포구'\n",
       "138. '영암군'\n",
       "139. '영양군'\n",
       "140. '영월군'\n",
       "141. '영주시'\n",
       "142. '영천시'\n",
       "143. '예산군'\n",
       "144. '예천군'\n",
       "145. '오산시'\n",
       "146. '옥천군'\n",
       "147. '옹진군'\n",
       "148. '완도군'\n",
       "149. '완주군'\n",
       "150. '용산구'\n",
       "151. '용인시기흥구'\n",
       "152. '용인시수지구'\n",
       "153. '용인시처인구'\n",
       "154. '울릉군'\n",
       "155. '울주군'\n",
       "156. '울진군'\n",
       "157. '원주시'\n",
       "158. '유성구'\n",
       "159. '은평구'\n",
       "160. '음성군'\n",
       "161. '의령군'\n",
       "162. '의성군'\n",
       "163. '의왕시'\n",
       "164. '의정부시'\n",
       "165. '이천시'\n",
       "166. '익산시'\n",
       "167. '인제군'\n",
       "168. '임실군'\n",
       "169. '장성군'\n",
       "170. '장수군'\n",
       "171. '장흥군'\n",
       "172. '전주시덕진구'\n",
       "173. '전주시완산구'\n",
       "174. '정선군'\n",
       "175. '정읍시'\n",
       "176. '제주시'\n",
       "177. '제천시'\n",
       "178. '종로구'\n",
       "179. '중구'\n",
       "180. '중랑구'\n",
       "181. '증평군'\n",
       "182. '진도군'\n",
       "183. '진안군'\n",
       "184. '진주시'\n",
       "185. '진천군'\n",
       "186. '창녕군'\n",
       "187. '창원시마산합포구'\n",
       "188. '창원시마산회원구'\n",
       "189. '창원시성산구'\n",
       "190. '창원시의창구'\n",
       "191. '창원시진해구'\n",
       "192. '천안시동남구'\n",
       "193. '천안시서북구'\n",
       "194. '철원군'\n",
       "195. '청도군'\n",
       "196. '청송군'\n",
       "197. '청양군'\n",
       "198. '청주시상당구'\n",
       "199. '청주시서원구'\n",
       "200. '청주시청원구'\n",
       "201. '청주시흥덕구'\n",
       "202. '춘천시'\n",
       "203. '충주시'\n",
       "204. '칠곡군'\n",
       "205. '태백시'\n",
       "206. '태안군'\n",
       "207. '통영시'\n",
       "208. '파주시'\n",
       "209. '평창군'\n",
       "210. '평택시'\n",
       "211. '포천시'\n",
       "212. '포항시남구'\n",
       "213. '포항시북구'\n",
       "214. '하남시'\n",
       "215. '하동군'\n",
       "216. '함안군'\n",
       "217. '함양군'\n",
       "218. '함평군'\n",
       "219. '합천군'\n",
       "220. '해남군'\n",
       "221. '해운대구'\n",
       "222. '홍성군'\n",
       "223. '홍천군'\n",
       "224. '화성시'\n",
       "225. '화순군'\n",
       "226. '화천군'\n",
       "227. '횡성군'\n",
       "\n",
       "\n"
      ],
      "text/plain": [
       "[1] 송파구 강서구 관악구 노원구 은평구\n",
       "227 Levels: 가평군 강남구 강동구 강릉시 강북구 강서구 강진군 강화군 ... 횡성군"
      ]
     },
     "metadata": {},
     "output_type": "display_data"
    },
    {
     "data": {
      "text/html": [
       "<ol class=list-inline>\n",
       "\t<li>'104'</li>\n",
       "\t<li>'6'</li>\n",
       "\t<li>'25'</li>\n",
       "\t<li>'53'</li>\n",
       "\t<li>'159'</li>\n",
       "\t<li>'etc.'</li>\n",
       "</ol>\n"
      ],
      "text/latex": [
       "\\begin{enumerate*}\n",
       "\\item '104'\n",
       "\\item '6'\n",
       "\\item '25'\n",
       "\\item '53'\n",
       "\\item '159'\n",
       "\\item 'etc.'\n",
       "\\end{enumerate*}\n"
      ],
      "text/markdown": [
       "1. '104'\n",
       "2. '6'\n",
       "3. '25'\n",
       "4. '53'\n",
       "5. '159'\n",
       "6. 'etc.'\n",
       "\n",
       "\n"
      ],
      "text/plain": [
       "[1] \"104\"  \"6\"    \"25\"   \"53\"   \"159\"  \"etc.\""
      ]
     },
     "metadata": {},
     "output_type": "display_data"
    },
    {
     "data": {
      "text/html": [
       "<ol class=list-inline>\n",
       "\t<li>'송파구 etc.'</li>\n",
       "\t<li>'강서구 etc.'</li>\n",
       "\t<li>'관악구 etc.'</li>\n",
       "\t<li>'노원구 etc.'</li>\n",
       "\t<li>'은평구 etc.'</li>\n",
       "</ol>\n"
      ],
      "text/latex": [
       "\\begin{enumerate*}\n",
       "\\item '송파구 etc.'\n",
       "\\item '강서구 etc.'\n",
       "\\item '관악구 etc.'\n",
       "\\item '노원구 etc.'\n",
       "\\item '은평구 etc.'\n",
       "\\end{enumerate*}\n"
      ],
      "text/markdown": [
       "1. '송파구 etc.'\n",
       "2. '강서구 etc.'\n",
       "3. '관악구 etc.'\n",
       "4. '노원구 etc.'\n",
       "5. '은평구 etc.'\n",
       "\n",
       "\n"
      ],
      "text/plain": [
       "[1] \"송파구 etc.\" \"강서구 etc.\" \"관악구 etc.\" \"노원구 etc.\" \"은평구 etc.\""
      ]
     },
     "metadata": {},
     "output_type": "display_data"
    },
    {
     "name": "stdout",
     "output_type": "stream",
     "text": [
      " Factor w/ 227 levels \"가평군\",\"강남구\",..: 104 6 25 53 159 126 100 2 3 66 ...\n"
     ]
    }
   ],
   "source": [
    "# c.f. tricky part\n",
    "elecSeoul.moonCounty.ord$시군[1:5]\n",
    "c(elecSeoul.moonCounty.ord$시군[1:5], \"etc.\") # factor value is going to be input in the vector.\n",
    "paste(elecSeoul.moonCounty.ord$시군[1:5], \"etc.\")\n",
    "str(elecSeoul.moonCounty.ord$시군)\n",
    "\n",
    "# So, we need to convert factor into character to input characters in the vector."
   ]
  },
  {
   "cell_type": "code",
   "execution_count": 48,
   "metadata": {},
   "outputs": [
    {
     "data": {
      "text/html": [
       "<ol class=list-inline>\n",
       "\t<li>'송파구'</li>\n",
       "\t<li>'강서구'</li>\n",
       "\t<li>'관악구'</li>\n",
       "\t<li>'노원구'</li>\n",
       "\t<li>'은평구'</li>\n",
       "\t<li>'etc.'</li>\n",
       "</ol>\n"
      ],
      "text/latex": [
       "\\begin{enumerate*}\n",
       "\\item '송파구'\n",
       "\\item '강서구'\n",
       "\\item '관악구'\n",
       "\\item '노원구'\n",
       "\\item '은평구'\n",
       "\\item 'etc.'\n",
       "\\end{enumerate*}\n"
      ],
      "text/markdown": [
       "1. '송파구'\n",
       "2. '강서구'\n",
       "3. '관악구'\n",
       "4. '노원구'\n",
       "5. '은평구'\n",
       "6. 'etc.'\n",
       "\n",
       "\n"
      ],
      "text/plain": [
       "[1] \"송파구\" \"강서구\" \"관악구\" \"노원구\" \"은평구\" \"etc.\"  "
      ]
     },
     "metadata": {},
     "output_type": "display_data"
    }
   ],
   "source": [
    "top5moon.label <- c(as.character(elecSeoul.moonCounty.ord$시군[1:5]), \"etc.\")\n",
    "top5moon.label"
   ]
  },
  {
   "cell_type": "code",
   "execution_count": 49,
   "metadata": {},
   "outputs": [
    {
     "data": {
      "text/html": [
       "<ol class=list-inline>\n",
       "\t<li>'송파구 \\n 6.38 %'</li>\n",
       "\t<li>'강서구 \\n 6.32 %'</li>\n",
       "\t<li>'관악구 \\n 5.75 %'</li>\n",
       "\t<li>'노원구 \\n 5.69 %'</li>\n",
       "\t<li>'은평구 \\n 5.04 %'</li>\n",
       "\t<li>'etc. \\n 70.83 %'</li>\n",
       "</ol>\n"
      ],
      "text/latex": [
       "\\begin{enumerate*}\n",
       "\\item '송파구 \\textbackslash{}n 6.38 \\%'\n",
       "\\item '강서구 \\textbackslash{}n 6.32 \\%'\n",
       "\\item '관악구 \\textbackslash{}n 5.75 \\%'\n",
       "\\item '노원구 \\textbackslash{}n 5.69 \\%'\n",
       "\\item '은평구 \\textbackslash{}n 5.04 \\%'\n",
       "\\item 'etc. \\textbackslash{}n 70.83 \\%'\n",
       "\\end{enumerate*}\n"
      ],
      "text/markdown": [
       "1. '송파구 \\n 6.38 %'\n",
       "2. '강서구 \\n 6.32 %'\n",
       "3. '관악구 \\n 5.75 %'\n",
       "4. '노원구 \\n 5.69 %'\n",
       "5. '은평구 \\n 5.04 %'\n",
       "6. 'etc. \\n 70.83 %'\n",
       "\n",
       "\n"
      ],
      "text/plain": [
       "[1] \"송파구 \\n 6.38 %\" \"강서구 \\n 6.32 %\" \"관악구 \\n 5.75 %\" \"노원구 \\n 5.69 %\"\n",
       "[5] \"은평구 \\n 5.04 %\" \"etc. \\n 70.83 %\" "
      ]
     },
     "metadata": {},
     "output_type": "display_data"
    }
   ],
   "source": [
    "labeltop5.m <- paste(top5moon.label, \"\\n\", top5moon.ratio, \"%\")\n",
    "labeltop5.m"
   ]
  },
  {
   "cell_type": "markdown",
   "metadata": {},
   "source": [
    "### Plot pie3D"
   ]
  },
  {
   "cell_type": "code",
   "execution_count": 50,
   "metadata": {
    "scrolled": false
   },
   "outputs": [
    {
     "data": {
      "image/png": "[encoded data removed]",
      "text/plain": [
       "Plot with title “Top 5 counties of moon voters in Seoul”"
      ]
     },
     "metadata": {
      "image/png": {
       "height": 420,
       "width": 420
      },
      "text/plain": {
       "height": 420,
       "width": 420
      }
     },
     "output_type": "display_data"
    }
   ],
   "source": [
    "pie3D(top5moon.ratio,\n",
    "      labels = labeltop5.m,\n",
    "      main = \"Top 5 counties of moon voters in Seoul\",\n",
    "      labelcex=1.1,\n",
    "      col = terrain.colors(n=6), # rainbow(), heat.colors(), terrain.colors(), topo.colors()\n",
    "      explode = 0.05)"
   ]
  },
  {
   "cell_type": "markdown",
   "metadata": {},
   "source": [
    "## Vote rate for the candidates at the President Moon's place of birth\n",
    "- President Moon's birthplace: 거제시"
   ]
  },
  {
   "cell_type": "markdown",
   "metadata": {},
   "source": [
    "### Data selection by subset"
   ]
  },
  {
   "cell_type": "code",
   "execution_count": 51,
   "metadata": {},
   "outputs": [
    {
     "data": {
      "text/html": [
       "<table>\n",
       "<caption>A data.frame: 6 × 10</caption>\n",
       "<thead>\n",
       "\t<tr><th></th><th scope=col>X</th><th scope=col>광역시도</th><th scope=col>시군</th><th scope=col>pop</th><th scope=col>moon</th><th scope=col>hong</th><th scope=col>ahn</th><th scope=col>Sum.ThreeCand</th><th scope=col>others</th><th scope=col>PortionThree</th></tr>\n",
       "\t<tr><th></th><th scope=col>&lt;int&gt;</th><th scope=col>&lt;fct&gt;</th><th scope=col>&lt;fct&gt;</th><th scope=col>&lt;int&gt;</th><th scope=col>&lt;int&gt;</th><th scope=col>&lt;int&gt;</th><th scope=col>&lt;int&gt;</th><th scope=col>&lt;int&gt;</th><th scope=col>&lt;int&gt;</th><th scope=col>&lt;dbl&gt;</th></tr>\n",
       "</thead>\n",
       "<tbody>\n",
       "\t<tr><th scope=row>1</th><td>0</td><td>서울특별시</td><td>종로구  </td><td>102566</td><td> 42512</td><td>22325</td><td>22313</td><td> 87150</td><td>15416</td><td>84.97</td></tr>\n",
       "\t<tr><th scope=row>2</th><td>1</td><td>서울특별시</td><td>중구    </td><td> 82852</td><td> 34062</td><td>17901</td><td>19372</td><td> 71335</td><td>11517</td><td>86.10</td></tr>\n",
       "\t<tr><th scope=row>3</th><td>2</td><td>서울특별시</td><td>용산구  </td><td>148157</td><td> 58081</td><td>35230</td><td>32109</td><td>125420</td><td>22737</td><td>84.65</td></tr>\n",
       "\t<tr><th scope=row>4</th><td>3</td><td>서울특별시</td><td>성동구  </td><td>203175</td><td> 86686</td><td>40566</td><td>45674</td><td>172926</td><td>30249</td><td>85.11</td></tr>\n",
       "\t<tr><th scope=row>5</th><td>4</td><td>서울특별시</td><td>광진구  </td><td>240030</td><td>105512</td><td>46368</td><td>52824</td><td>204704</td><td>35326</td><td>85.28</td></tr>\n",
       "\t<tr><th scope=row>6</th><td>5</td><td>서울특별시</td><td>동대문구</td><td>236092</td><td> 98958</td><td>51631</td><td>53359</td><td>203948</td><td>32144</td><td>86.38</td></tr>\n",
       "</tbody>\n",
       "</table>\n"
      ],
      "text/latex": [
       "A data.frame: 6 × 10\n",
       "\\begin{tabular}{r|llllllllll}\n",
       "  & X & 광역시도 & 시군 & pop & moon & hong & ahn & Sum.ThreeCand & others & PortionThree\\\\\n",
       "  & <int> & <fct> & <fct> & <int> & <int> & <int> & <int> & <int> & <int> & <dbl>\\\\\n",
       "\\hline\n",
       "\t1 & 0 & 서울특별시 & 종로구   & 102566 &  42512 & 22325 & 22313 &  87150 & 15416 & 84.97\\\\\n",
       "\t2 & 1 & 서울특별시 & 중구     &  82852 &  34062 & 17901 & 19372 &  71335 & 11517 & 86.10\\\\\n",
       "\t3 & 2 & 서울특별시 & 용산구   & 148157 &  58081 & 35230 & 32109 & 125420 & 22737 & 84.65\\\\\n",
       "\t4 & 3 & 서울특별시 & 성동구   & 203175 &  86686 & 40566 & 45674 & 172926 & 30249 & 85.11\\\\\n",
       "\t5 & 4 & 서울특별시 & 광진구   & 240030 & 105512 & 46368 & 52824 & 204704 & 35326 & 85.28\\\\\n",
       "\t6 & 5 & 서울특별시 & 동대문구 & 236092 &  98958 & 51631 & 53359 & 203948 & 32144 & 86.38\\\\\n",
       "\\end{tabular}\n"
      ],
      "text/markdown": [
       "\n",
       "A data.frame: 6 × 10\n",
       "\n",
       "| <!--/--> | X &lt;int&gt; | 광역시도 &lt;fct&gt; | 시군 &lt;fct&gt; | pop &lt;int&gt; | moon &lt;int&gt; | hong &lt;int&gt; | ahn &lt;int&gt; | Sum.ThreeCand &lt;int&gt; | others &lt;int&gt; | PortionThree &lt;dbl&gt; |\n",
       "|---|---|---|---|---|---|---|---|---|---|---|\n",
       "| 1 | 0 | 서울특별시 | 종로구   | 102566 |  42512 | 22325 | 22313 |  87150 | 15416 | 84.97 |\n",
       "| 2 | 1 | 서울특별시 | 중구     |  82852 |  34062 | 17901 | 19372 |  71335 | 11517 | 86.10 |\n",
       "| 3 | 2 | 서울특별시 | 용산구   | 148157 |  58081 | 35230 | 32109 | 125420 | 22737 | 84.65 |\n",
       "| 4 | 3 | 서울특별시 | 성동구   | 203175 |  86686 | 40566 | 45674 | 172926 | 30249 | 85.11 |\n",
       "| 5 | 4 | 서울특별시 | 광진구   | 240030 | 105512 | 46368 | 52824 | 204704 | 35326 | 85.28 |\n",
       "| 6 | 5 | 서울특별시 | 동대문구 | 236092 |  98958 | 51631 | 53359 | 203948 | 32144 | 86.38 |\n",
       "\n"
      ],
      "text/plain": [
       "  X 광역시도   시군     pop    moon   hong  ahn   Sum.ThreeCand others\n",
       "1 0 서울특별시 종로구   102566  42512 22325 22313  87150        15416 \n",
       "2 1 서울특별시 중구      82852  34062 17901 19372  71335        11517 \n",
       "3 2 서울특별시 용산구   148157  58081 35230 32109 125420        22737 \n",
       "4 3 서울특별시 성동구   203175  86686 40566 45674 172926        30249 \n",
       "5 4 서울특별시 광진구   240030 105512 46368 52824 204704        35326 \n",
       "6 5 서울특별시 동대문구 236092  98958 51631 53359 203948        32144 \n",
       "  PortionThree\n",
       "1 84.97       \n",
       "2 86.10       \n",
       "3 84.65       \n",
       "4 85.11       \n",
       "5 85.28       \n",
       "6 86.38       "
      ]
     },
     "metadata": {},
     "output_type": "display_data"
    }
   ],
   "source": [
    "head(electionSum)"
   ]
  },
  {
   "cell_type": "code",
   "execution_count": 52,
   "metadata": {},
   "outputs": [
    {
     "data": {
      "text/html": [
       "<table>\n",
       "<caption>A data.frame: 1 × 10</caption>\n",
       "<thead>\n",
       "\t<tr><th></th><th scope=col>X</th><th scope=col>광역시도</th><th scope=col>시군</th><th scope=col>pop</th><th scope=col>moon</th><th scope=col>hong</th><th scope=col>ahn</th><th scope=col>Sum.ThreeCand</th><th scope=col>others</th><th scope=col>PortionThree</th></tr>\n",
       "\t<tr><th></th><th scope=col>&lt;int&gt;</th><th scope=col>&lt;fct&gt;</th><th scope=col>&lt;fct&gt;</th><th scope=col>&lt;int&gt;</th><th scope=col>&lt;int&gt;</th><th scope=col>&lt;int&gt;</th><th scope=col>&lt;int&gt;</th><th scope=col>&lt;int&gt;</th><th scope=col>&lt;int&gt;</th><th scope=col>&lt;dbl&gt;</th></tr>\n",
       "</thead>\n",
       "<tbody>\n",
       "\t<tr><th scope=row>238</th><td>237</td><td>경상남도</td><td>거제시</td><td>150230</td><td>68291</td><td>38775</td><td>20359</td><td>127425</td><td>22805</td><td>84.82</td></tr>\n",
       "</tbody>\n",
       "</table>\n"
      ],
      "text/latex": [
       "A data.frame: 1 × 10\n",
       "\\begin{tabular}{r|llllllllll}\n",
       "  & X & 광역시도 & 시군 & pop & moon & hong & ahn & Sum.ThreeCand & others & PortionThree\\\\\n",
       "  & <int> & <fct> & <fct> & <int> & <int> & <int> & <int> & <int> & <int> & <dbl>\\\\\n",
       "\\hline\n",
       "\t238 & 237 & 경상남도 & 거제시 & 150230 & 68291 & 38775 & 20359 & 127425 & 22805 & 84.82\\\\\n",
       "\\end{tabular}\n"
      ],
      "text/markdown": [
       "\n",
       "A data.frame: 1 × 10\n",
       "\n",
       "| <!--/--> | X &lt;int&gt; | 광역시도 &lt;fct&gt; | 시군 &lt;fct&gt; | pop &lt;int&gt; | moon &lt;int&gt; | hong &lt;int&gt; | ahn &lt;int&gt; | Sum.ThreeCand &lt;int&gt; | others &lt;int&gt; | PortionThree &lt;dbl&gt; |\n",
       "|---|---|---|---|---|---|---|---|---|---|---|\n",
       "| 238 | 237 | 경상남도 | 거제시 | 150230 | 68291 | 38775 | 20359 | 127425 | 22805 | 84.82 |\n",
       "\n"
      ],
      "text/plain": [
       "    X   광역시도 시군   pop    moon  hong  ahn   Sum.ThreeCand others\n",
       "238 237 경상남도 거제시 150230 68291 38775 20359 127425        22805 \n",
       "    PortionThree\n",
       "238 84.82       "
      ]
     },
     "metadata": {},
     "output_type": "display_data"
    }
   ],
   "source": [
    "moonPoB <- subset(electionSum, electionSum$시군 == \"거제시\")\n",
    "moonPoB\n",
    "\n",
    "# subset(electionSum, 시군 == \"거제시\")\n",
    "# election[election$시군 == \"거제시\",]"
   ]
  },
  {
   "cell_type": "markdown",
   "metadata": {},
   "source": [
    "### Create ratio\n",
    "\n",
    "ratio"
   ]
  },
  {
   "cell_type": "code",
   "execution_count": 53,
   "metadata": {},
   "outputs": [
    {
     "data": {
      "text/html": [
       "<table>\n",
       "<caption>A data.frame: 1 × 10</caption>\n",
       "<thead>\n",
       "\t<tr><th></th><th scope=col>X</th><th scope=col>광역시도</th><th scope=col>시군</th><th scope=col>pop</th><th scope=col>moon</th><th scope=col>hong</th><th scope=col>ahn</th><th scope=col>Sum.ThreeCand</th><th scope=col>others</th><th scope=col>PortionThree</th></tr>\n",
       "\t<tr><th></th><th scope=col>&lt;int&gt;</th><th scope=col>&lt;fct&gt;</th><th scope=col>&lt;fct&gt;</th><th scope=col>&lt;int&gt;</th><th scope=col>&lt;int&gt;</th><th scope=col>&lt;int&gt;</th><th scope=col>&lt;int&gt;</th><th scope=col>&lt;int&gt;</th><th scope=col>&lt;int&gt;</th><th scope=col>&lt;dbl&gt;</th></tr>\n",
       "</thead>\n",
       "<tbody>\n",
       "\t<tr><th scope=row>238</th><td>237</td><td>경상남도</td><td>거제시</td><td>150230</td><td>68291</td><td>38775</td><td>20359</td><td>127425</td><td>22805</td><td>84.82</td></tr>\n",
       "</tbody>\n",
       "</table>\n"
      ],
      "text/latex": [
       "A data.frame: 1 × 10\n",
       "\\begin{tabular}{r|llllllllll}\n",
       "  & X & 광역시도 & 시군 & pop & moon & hong & ahn & Sum.ThreeCand & others & PortionThree\\\\\n",
       "  & <int> & <fct> & <fct> & <int> & <int> & <int> & <int> & <int> & <int> & <dbl>\\\\\n",
       "\\hline\n",
       "\t238 & 237 & 경상남도 & 거제시 & 150230 & 68291 & 38775 & 20359 & 127425 & 22805 & 84.82\\\\\n",
       "\\end{tabular}\n"
      ],
      "text/markdown": [
       "\n",
       "A data.frame: 1 × 10\n",
       "\n",
       "| <!--/--> | X &lt;int&gt; | 광역시도 &lt;fct&gt; | 시군 &lt;fct&gt; | pop &lt;int&gt; | moon &lt;int&gt; | hong &lt;int&gt; | ahn &lt;int&gt; | Sum.ThreeCand &lt;int&gt; | others &lt;int&gt; | PortionThree &lt;dbl&gt; |\n",
       "|---|---|---|---|---|---|---|---|---|---|---|\n",
       "| 238 | 237 | 경상남도 | 거제시 | 150230 | 68291 | 38775 | 20359 | 127425 | 22805 | 84.82 |\n",
       "\n"
      ],
      "text/plain": [
       "    X   광역시도 시군   pop    moon  hong  ahn   Sum.ThreeCand others\n",
       "238 237 경상남도 거제시 150230 68291 38775 20359 127425        22805 \n",
       "    PortionThree\n",
       "238 84.82       "
      ]
     },
     "metadata": {},
     "output_type": "display_data"
    }
   ],
   "source": [
    "moonPoB"
   ]
  },
  {
   "cell_type": "code",
   "execution_count": 54,
   "metadata": {
    "scrolled": true
   },
   "outputs": [
    {
     "data": {
      "text/html": [
       "<table>\n",
       "<caption>A data.frame: 1 × 4</caption>\n",
       "<thead>\n",
       "\t<tr><th></th><th scope=col>moon</th><th scope=col>hong</th><th scope=col>ahn</th><th scope=col>others</th></tr>\n",
       "\t<tr><th></th><th scope=col>&lt;dbl&gt;</th><th scope=col>&lt;dbl&gt;</th><th scope=col>&lt;dbl&gt;</th><th scope=col>&lt;dbl&gt;</th></tr>\n",
       "</thead>\n",
       "<tbody>\n",
       "\t<tr><th scope=row>238</th><td>45.46</td><td>25.81</td><td>13.55</td><td>15.18</td></tr>\n",
       "</tbody>\n",
       "</table>\n"
      ],
      "text/latex": [
       "A data.frame: 1 × 4\n",
       "\\begin{tabular}{r|llll}\n",
       "  & moon & hong & ahn & others\\\\\n",
       "  & <dbl> & <dbl> & <dbl> & <dbl>\\\\\n",
       "\\hline\n",
       "\t238 & 45.46 & 25.81 & 13.55 & 15.18\\\\\n",
       "\\end{tabular}\n"
      ],
      "text/markdown": [
       "\n",
       "A data.frame: 1 × 4\n",
       "\n",
       "| <!--/--> | moon &lt;dbl&gt; | hong &lt;dbl&gt; | ahn &lt;dbl&gt; | others &lt;dbl&gt; |\n",
       "|---|---|---|---|---|\n",
       "| 238 | 45.46 | 25.81 | 13.55 | 15.18 |\n",
       "\n"
      ],
      "text/plain": [
       "    moon  hong  ahn   others\n",
       "238 45.46 25.81 13.55 15.18 "
      ]
     },
     "metadata": {},
     "output_type": "display_data"
    }
   ],
   "source": [
    "ratioMoonPoB <- round(moonPoB[, c(5:7, 9)]/moonPoB[,4]*100,2)\n",
    "ratioMoonPoB\n",
    "# moonBirthplace[5:7]/moonBirthplace$pop"
   ]
  },
  {
   "cell_type": "code",
   "execution_count": 55,
   "metadata": {},
   "outputs": [
    {
     "data": {
      "text/html": [
       "<table>\n",
       "<caption>A data.frame: 1 × 5</caption>\n",
       "<thead>\n",
       "\t<tr><th></th><th scope=col>moon</th><th scope=col>hong</th><th scope=col>ahn</th><th scope=col>others</th><th scope=col>etc</th></tr>\n",
       "\t<tr><th></th><th scope=col>&lt;dbl&gt;</th><th scope=col>&lt;dbl&gt;</th><th scope=col>&lt;dbl&gt;</th><th scope=col>&lt;dbl&gt;</th><th scope=col>&lt;dbl&gt;</th></tr>\n",
       "</thead>\n",
       "<tbody>\n",
       "\t<tr><th scope=row>238</th><td>45.46</td><td>25.81</td><td>13.55</td><td>15.18</td><td>15.18</td></tr>\n",
       "</tbody>\n",
       "</table>\n"
      ],
      "text/latex": [
       "A data.frame: 1 × 5\n",
       "\\begin{tabular}{r|lllll}\n",
       "  & moon & hong & ahn & others & etc\\\\\n",
       "  & <dbl> & <dbl> & <dbl> & <dbl> & <dbl>\\\\\n",
       "\\hline\n",
       "\t238 & 45.46 & 25.81 & 13.55 & 15.18 & 15.18\\\\\n",
       "\\end{tabular}\n"
      ],
      "text/markdown": [
       "\n",
       "A data.frame: 1 × 5\n",
       "\n",
       "| <!--/--> | moon &lt;dbl&gt; | hong &lt;dbl&gt; | ahn &lt;dbl&gt; | others &lt;dbl&gt; | etc &lt;dbl&gt; |\n",
       "|---|---|---|---|---|---|\n",
       "| 238 | 45.46 | 25.81 | 13.55 | 15.18 | 15.18 |\n",
       "\n"
      ],
      "text/plain": [
       "    moon  hong  ahn   others etc  \n",
       "238 45.46 25.81 13.55 15.18  15.18"
      ]
     },
     "metadata": {},
     "output_type": "display_data"
    },
    {
     "data": {
      "text/html": [
       "<table>\n",
       "<caption>A data.frame: 5 × 1</caption>\n",
       "<thead>\n",
       "\t<tr><th></th><th scope=col>238</th></tr>\n",
       "\t<tr><th></th><th scope=col>&lt;dbl&gt;</th></tr>\n",
       "</thead>\n",
       "<tbody>\n",
       "\t<tr><th scope=row>moon</th><td>45.46</td></tr>\n",
       "\t<tr><th scope=row>hong</th><td>25.81</td></tr>\n",
       "\t<tr><th scope=row>ahn</th><td>13.55</td></tr>\n",
       "\t<tr><th scope=row>others</th><td>15.18</td></tr>\n",
       "\t<tr><th scope=row>etc</th><td>15.18</td></tr>\n",
       "</tbody>\n",
       "</table>\n"
      ],
      "text/latex": [
       "A data.frame: 5 × 1\n",
       "\\begin{tabular}{r|l}\n",
       "  & 238\\\\\n",
       "  & <dbl>\\\\\n",
       "\\hline\n",
       "\tmoon & 45.46\\\\\n",
       "\thong & 25.81\\\\\n",
       "\tahn & 13.55\\\\\n",
       "\tothers & 15.18\\\\\n",
       "\tetc & 15.18\\\\\n",
       "\\end{tabular}\n"
      ],
      "text/markdown": [
       "\n",
       "A data.frame: 5 × 1\n",
       "\n",
       "| <!--/--> | 238 &lt;dbl&gt; |\n",
       "|---|---|\n",
       "| moon | 45.46 |\n",
       "| hong | 25.81 |\n",
       "| ahn | 13.55 |\n",
       "| others | 15.18 |\n",
       "| etc | 15.18 |\n",
       "\n"
      ],
      "text/plain": [
       "       238  \n",
       "moon   45.46\n",
       "hong   25.81\n",
       "ahn    13.55\n",
       "others 15.18\n",
       "etc    15.18"
      ]
     },
     "metadata": {},
     "output_type": "display_data"
    },
    {
     "data": {
      "text/html": [
       "<table>\n",
       "<caption>A data.frame: 5 × 1</caption>\n",
       "<thead>\n",
       "\t<tr><th></th><th scope=col>ratio</th></tr>\n",
       "\t<tr><th></th><th scope=col>&lt;dbl&gt;</th></tr>\n",
       "</thead>\n",
       "<tbody>\n",
       "\t<tr><th scope=row>moon</th><td>45.46</td></tr>\n",
       "\t<tr><th scope=row>hong</th><td>25.81</td></tr>\n",
       "\t<tr><th scope=row>ahn</th><td>13.55</td></tr>\n",
       "\t<tr><th scope=row>others</th><td>15.18</td></tr>\n",
       "\t<tr><th scope=row>etc</th><td>15.18</td></tr>\n",
       "</tbody>\n",
       "</table>\n"
      ],
      "text/latex": [
       "A data.frame: 5 × 1\n",
       "\\begin{tabular}{r|l}\n",
       "  & ratio\\\\\n",
       "  & <dbl>\\\\\n",
       "\\hline\n",
       "\tmoon & 45.46\\\\\n",
       "\thong & 25.81\\\\\n",
       "\tahn & 13.55\\\\\n",
       "\tothers & 15.18\\\\\n",
       "\tetc & 15.18\\\\\n",
       "\\end{tabular}\n"
      ],
      "text/markdown": [
       "\n",
       "A data.frame: 5 × 1\n",
       "\n",
       "| <!--/--> | ratio &lt;dbl&gt; |\n",
       "|---|---|\n",
       "| moon | 45.46 |\n",
       "| hong | 25.81 |\n",
       "| ahn | 13.55 |\n",
       "| others | 15.18 |\n",
       "| etc | 15.18 |\n",
       "\n"
      ],
      "text/plain": [
       "       ratio\n",
       "moon   45.46\n",
       "hong   25.81\n",
       "ahn    13.55\n",
       "others 15.18\n",
       "etc    15.18"
      ]
     },
     "metadata": {},
     "output_type": "display_data"
    }
   ],
   "source": [
    "ratioMoonPoB$etc <- round(((moonPoB[,4] - sum(moonPoB[,5:7]))/moonPoB[,4]*100),2)\n",
    "ratioMoonPoB\n",
    "\n",
    "ratioMoonPoB.T <- as.data.frame(t(ratioMoonPoB)) # t(): transpose & convert into matrix\n",
    "ratioMoonPoB.T\n",
    "colnames(ratioMoonPoB.T) <- c(\"ratio\")\n",
    "ratioMoonPoB.T"
   ]
  },
  {
   "cell_type": "code",
   "execution_count": 56,
   "metadata": {},
   "outputs": [
    {
     "data": {
      "text/html": [
       "<table>\n",
       "<caption>A data.frame: 1 × 4</caption>\n",
       "<thead>\n",
       "\t<tr><th></th><th scope=col>moon</th><th scope=col>hong</th><th scope=col>ahn</th><th scope=col>others</th></tr>\n",
       "\t<tr><th></th><th scope=col>&lt;dbl&gt;</th><th scope=col>&lt;dbl&gt;</th><th scope=col>&lt;dbl&gt;</th><th scope=col>&lt;dbl&gt;</th></tr>\n",
       "</thead>\n",
       "<tbody>\n",
       "\t<tr><th scope=row>238</th><td>45.46</td><td>25.81</td><td>13.55</td><td>15.18</td></tr>\n",
       "</tbody>\n",
       "</table>\n"
      ],
      "text/latex": [
       "A data.frame: 1 × 4\n",
       "\\begin{tabular}{r|llll}\n",
       "  & moon & hong & ahn & others\\\\\n",
       "  & <dbl> & <dbl> & <dbl> & <dbl>\\\\\n",
       "\\hline\n",
       "\t238 & 45.46 & 25.81 & 13.55 & 15.18\\\\\n",
       "\\end{tabular}\n"
      ],
      "text/markdown": [
       "\n",
       "A data.frame: 1 × 4\n",
       "\n",
       "| <!--/--> | moon &lt;dbl&gt; | hong &lt;dbl&gt; | ahn &lt;dbl&gt; | others &lt;dbl&gt; |\n",
       "|---|---|---|---|---|\n",
       "| 238 | 45.46 | 25.81 | 13.55 | 15.18 |\n",
       "\n"
      ],
      "text/plain": [
       "    moon  hong  ahn   others\n",
       "238 45.46 25.81 13.55 15.18 "
      ]
     },
     "metadata": {},
     "output_type": "display_data"
    }
   ],
   "source": [
    "ratioMoonPoB[,1:4]"
   ]
  },
  {
   "cell_type": "code",
   "execution_count": 57,
   "metadata": {},
   "outputs": [],
   "source": [
    "# Alternatively, tricky part is to convert data.frame calculation into numeric,\n",
    "# because data.frame and vector cannot be calculated\n",
    "\n",
    "# moonPoBratio <- c(round(as.numeric(moonPoB[,5:7]/moonPoB[,4])*100,2),\n",
    "#                     round((moonPoB[,4]-sum(moonPoB[,5:7]))/moonPoB[,4]*100,2))\n",
    "# moonPoBratio"
   ]
  },
  {
   "cell_type": "markdown",
   "metadata": {},
   "source": [
    "### Create label"
   ]
  },
  {
   "cell_type": "code",
   "execution_count": 58,
   "metadata": {
    "scrolled": true
   },
   "outputs": [
    {
     "data": {
      "text/html": [
       "<ol class=list-inline>\n",
       "\t<li>'moon \\n 45.46 %'</li>\n",
       "\t<li>'hong \\n 25.81 %'</li>\n",
       "\t<li>'ahn \\n 13.55 %'</li>\n",
       "\t<li>'others \\n 15.18 %'</li>\n",
       "\t<li>'etc \\n 45.46 %'</li>\n",
       "</ol>\n"
      ],
      "text/latex": [
       "\\begin{enumerate*}\n",
       "\\item 'moon \\textbackslash{}n 45.46 \\%'\n",
       "\\item 'hong \\textbackslash{}n 25.81 \\%'\n",
       "\\item 'ahn \\textbackslash{}n 13.55 \\%'\n",
       "\\item 'others \\textbackslash{}n 15.18 \\%'\n",
       "\\item 'etc \\textbackslash{}n 45.46 \\%'\n",
       "\\end{enumerate*}\n"
      ],
      "text/markdown": [
       "1. 'moon \\n 45.46 %'\n",
       "2. 'hong \\n 25.81 %'\n",
       "3. 'ahn \\n 13.55 %'\n",
       "4. 'others \\n 15.18 %'\n",
       "5. 'etc \\n 45.46 %'\n",
       "\n",
       "\n"
      ],
      "text/plain": [
       "[1] \"moon \\n 45.46 %\"   \"hong \\n 25.81 %\"   \"ahn \\n 13.55 %\"   \n",
       "[4] \"others \\n 15.18 %\" \"etc \\n 45.46 %\"   "
      ]
     },
     "metadata": {},
     "output_type": "display_data"
    }
   ],
   "source": [
    "labelMoonPo <- paste(colnames(ratioMoonPoB), \"\\n\", \n",
    "                     ratioMoonPoB[1:4], \"%\")\n",
    "labelMoonPo"
   ]
  },
  {
   "cell_type": "code",
   "execution_count": 59,
   "metadata": {
    "scrolled": true
   },
   "outputs": [
    {
     "data": {
      "text/html": [
       "<ol class=list-inline>\n",
       "\t<li>'moon'</li>\n",
       "\t<li>'hong'</li>\n",
       "\t<li>'ahn'</li>\n",
       "\t<li>'others'</li>\n",
       "\t<li>'etc'</li>\n",
       "</ol>\n"
      ],
      "text/latex": [
       "\\begin{enumerate*}\n",
       "\\item 'moon'\n",
       "\\item 'hong'\n",
       "\\item 'ahn'\n",
       "\\item 'others'\n",
       "\\item 'etc'\n",
       "\\end{enumerate*}\n"
      ],
      "text/markdown": [
       "1. 'moon'\n",
       "2. 'hong'\n",
       "3. 'ahn'\n",
       "4. 'others'\n",
       "5. 'etc'\n",
       "\n",
       "\n"
      ],
      "text/plain": [
       "[1] \"moon\"   \"hong\"   \"ahn\"    \"others\" \"etc\"   "
      ]
     },
     "metadata": {},
     "output_type": "display_data"
    }
   ],
   "source": [
    "colnames(ratioMoonPoB)"
   ]
  },
  {
   "cell_type": "code",
   "execution_count": null,
   "metadata": {},
   "outputs": [],
   "source": []
  },
  {
   "cell_type": "code",
   "execution_count": 62,
   "metadata": {
    "scrolled": false
   },
   "outputs": [
    {
     "data": {
      "image/png": "[encoded data removed]",
      "text/plain": [
       "Plot with title “Vote Rate at the 19th President's Place of Birth”"
      ]
     },
     "metadata": {
      "image/png": {
       "height": 420,
       "width": 420
      },
      "text/plain": {
       "height": 420,
       "width": 420
      }
     },
     "output_type": "display_data"
    }
   ],
   "source": [
    "pie3D(ratioMoonPoB.T$ratio,\n",
    "     labels = labelMoonPo,\n",
    "     main = \"Vote Rate at the 19th President's Place of Birth\",\n",
    "     col = c(\"sky blue\", \"red\", \"light green\", \"light gray\", \"dark gray\"),\n",
    "     explode = 0.05,\n",
    "     labelcex=1.2,\n",
    "     )"
   ]
  },
  {
   "cell_type": "markdown",
   "metadata": {},
   "source": [
    "# Data Visualization: barplot"
   ]
  },
  {
   "cell_type": "markdown",
   "metadata": {},
   "source": [
    "## Plot the number of votes for the candidates in the provinces with top 4 most votes"
   ]
  },
  {
   "cell_type": "markdown",
   "metadata": {},
   "source": [
    "### aggregate data, orderBy votes(population), and reset rownames"
   ]
  },
  {
   "cell_type": "code",
   "execution_count": 85,
   "metadata": {},
   "outputs": [
    {
     "data": {
      "text/html": [
       "<table>\n",
       "<caption>A data.frame: 6 × 10</caption>\n",
       "<thead>\n",
       "\t<tr><th></th><th scope=col>X</th><th scope=col>광역시도</th><th scope=col>시군</th><th scope=col>pop</th><th scope=col>moon</th><th scope=col>hong</th><th scope=col>ahn</th><th scope=col>Sum.ThreeCand</th><th scope=col>others</th><th scope=col>PortionThree</th></tr>\n",
       "\t<tr><th></th><th scope=col>&lt;int&gt;</th><th scope=col>&lt;fct&gt;</th><th scope=col>&lt;fct&gt;</th><th scope=col>&lt;int&gt;</th><th scope=col>&lt;int&gt;</th><th scope=col>&lt;int&gt;</th><th scope=col>&lt;int&gt;</th><th scope=col>&lt;int&gt;</th><th scope=col>&lt;int&gt;</th><th scope=col>&lt;dbl&gt;</th></tr>\n",
       "</thead>\n",
       "<tbody>\n",
       "\t<tr><th scope=row>1</th><td>0</td><td>서울특별시</td><td>종로구  </td><td>102566</td><td> 42512</td><td>22325</td><td>22313</td><td> 87150</td><td>15416</td><td>84.97</td></tr>\n",
       "\t<tr><th scope=row>2</th><td>1</td><td>서울특별시</td><td>중구    </td><td> 82852</td><td> 34062</td><td>17901</td><td>19372</td><td> 71335</td><td>11517</td><td>86.10</td></tr>\n",
       "\t<tr><th scope=row>3</th><td>2</td><td>서울특별시</td><td>용산구  </td><td>148157</td><td> 58081</td><td>35230</td><td>32109</td><td>125420</td><td>22737</td><td>84.65</td></tr>\n",
       "\t<tr><th scope=row>4</th><td>3</td><td>서울특별시</td><td>성동구  </td><td>203175</td><td> 86686</td><td>40566</td><td>45674</td><td>172926</td><td>30249</td><td>85.11</td></tr>\n",
       "\t<tr><th scope=row>5</th><td>4</td><td>서울특별시</td><td>광진구  </td><td>240030</td><td>105512</td><td>46368</td><td>52824</td><td>204704</td><td>35326</td><td>85.28</td></tr>\n",
       "\t<tr><th scope=row>6</th><td>5</td><td>서울특별시</td><td>동대문구</td><td>236092</td><td> 98958</td><td>51631</td><td>53359</td><td>203948</td><td>32144</td><td>86.38</td></tr>\n",
       "</tbody>\n",
       "</table>\n"
      ],
      "text/latex": [
       "A data.frame: 6 × 10\n",
       "\\begin{tabular}{r|llllllllll}\n",
       "  & X & 광역시도 & 시군 & pop & moon & hong & ahn & Sum.ThreeCand & others & PortionThree\\\\\n",
       "  & <int> & <fct> & <fct> & <int> & <int> & <int> & <int> & <int> & <int> & <dbl>\\\\\n",
       "\\hline\n",
       "\t1 & 0 & 서울특별시 & 종로구   & 102566 &  42512 & 22325 & 22313 &  87150 & 15416 & 84.97\\\\\n",
       "\t2 & 1 & 서울특별시 & 중구     &  82852 &  34062 & 17901 & 19372 &  71335 & 11517 & 86.10\\\\\n",
       "\t3 & 2 & 서울특별시 & 용산구   & 148157 &  58081 & 35230 & 32109 & 125420 & 22737 & 84.65\\\\\n",
       "\t4 & 3 & 서울특별시 & 성동구   & 203175 &  86686 & 40566 & 45674 & 172926 & 30249 & 85.11\\\\\n",
       "\t5 & 4 & 서울특별시 & 광진구   & 240030 & 105512 & 46368 & 52824 & 204704 & 35326 & 85.28\\\\\n",
       "\t6 & 5 & 서울특별시 & 동대문구 & 236092 &  98958 & 51631 & 53359 & 203948 & 32144 & 86.38\\\\\n",
       "\\end{tabular}\n"
      ],
      "text/markdown": [
       "\n",
       "A data.frame: 6 × 10\n",
       "\n",
       "| <!--/--> | X &lt;int&gt; | 광역시도 &lt;fct&gt; | 시군 &lt;fct&gt; | pop &lt;int&gt; | moon &lt;int&gt; | hong &lt;int&gt; | ahn &lt;int&gt; | Sum.ThreeCand &lt;int&gt; | others &lt;int&gt; | PortionThree &lt;dbl&gt; |\n",
       "|---|---|---|---|---|---|---|---|---|---|---|\n",
       "| 1 | 0 | 서울특별시 | 종로구   | 102566 |  42512 | 22325 | 22313 |  87150 | 15416 | 84.97 |\n",
       "| 2 | 1 | 서울특별시 | 중구     |  82852 |  34062 | 17901 | 19372 |  71335 | 11517 | 86.10 |\n",
       "| 3 | 2 | 서울특별시 | 용산구   | 148157 |  58081 | 35230 | 32109 | 125420 | 22737 | 84.65 |\n",
       "| 4 | 3 | 서울특별시 | 성동구   | 203175 |  86686 | 40566 | 45674 | 172926 | 30249 | 85.11 |\n",
       "| 5 | 4 | 서울특별시 | 광진구   | 240030 | 105512 | 46368 | 52824 | 204704 | 35326 | 85.28 |\n",
       "| 6 | 5 | 서울특별시 | 동대문구 | 236092 |  98958 | 51631 | 53359 | 203948 | 32144 | 86.38 |\n",
       "\n"
      ],
      "text/plain": [
       "  X 광역시도   시군     pop    moon   hong  ahn   Sum.ThreeCand others\n",
       "1 0 서울특별시 종로구   102566  42512 22325 22313  87150        15416 \n",
       "2 1 서울특별시 중구      82852  34062 17901 19372  71335        11517 \n",
       "3 2 서울특별시 용산구   148157  58081 35230 32109 125420        22737 \n",
       "4 3 서울특별시 성동구   203175  86686 40566 45674 172926        30249 \n",
       "5 4 서울특별시 광진구   240030 105512 46368 52824 204704        35326 \n",
       "6 5 서울특별시 동대문구 236092  98958 51631 53359 203948        32144 \n",
       "  PortionThree\n",
       "1 84.97       \n",
       "2 86.10       \n",
       "3 84.65       \n",
       "4 85.11       \n",
       "5 85.28       \n",
       "6 86.38       "
      ]
     },
     "metadata": {},
     "output_type": "display_data"
    }
   ],
   "source": [
    "head(electionSum)"
   ]
  },
  {
   "cell_type": "code",
   "execution_count": 86,
   "metadata": {},
   "outputs": [
    {
     "data": {
      "text/html": [
       "<table>\n",
       "<caption>A data.frame: 6 × 2</caption>\n",
       "<thead>\n",
       "\t<tr><th></th><th scope=col>광역시도</th><th scope=col>pop</th></tr>\n",
       "\t<tr><th></th><th scope=col>&lt;fct&gt;</th><th scope=col>&lt;int&gt;</th></tr>\n",
       "</thead>\n",
       "<tbody>\n",
       "\t<tr><th scope=row>1</th><td>경기도    </td><td>7916009</td></tr>\n",
       "\t<tr><th scope=row>2</th><td>서울특별시</td><td>6590646</td></tr>\n",
       "\t<tr><th scope=row>3</th><td>부산광역시</td><td>2261633</td></tr>\n",
       "\t<tr><th scope=row>4</th><td>경상남도  </td><td>2135055</td></tr>\n",
       "\t<tr><th scope=row>5</th><td>인천광역시</td><td>1820091</td></tr>\n",
       "\t<tr><th scope=row>6</th><td>경상북도  </td><td>1711627</td></tr>\n",
       "</tbody>\n",
       "</table>\n"
      ],
      "text/latex": [
       "A data.frame: 6 × 2\n",
       "\\begin{tabular}{r|ll}\n",
       "  & 광역시도 & pop\\\\\n",
       "  & <fct> & <int>\\\\\n",
       "\\hline\n",
       "\t1 & 경기도     & 7916009\\\\\n",
       "\t2 & 서울특별시 & 6590646\\\\\n",
       "\t3 & 부산광역시 & 2261633\\\\\n",
       "\t4 & 경상남도   & 2135055\\\\\n",
       "\t5 & 인천광역시 & 1820091\\\\\n",
       "\t6 & 경상북도   & 1711627\\\\\n",
       "\\end{tabular}\n"
      ],
      "text/markdown": [
       "\n",
       "A data.frame: 6 × 2\n",
       "\n",
       "| <!--/--> | 광역시도 &lt;fct&gt; | pop &lt;int&gt; |\n",
       "|---|---|---|\n",
       "| 1 | 경기도     | 7916009 |\n",
       "| 2 | 서울특별시 | 6590646 |\n",
       "| 3 | 부산광역시 | 2261633 |\n",
       "| 4 | 경상남도   | 2135055 |\n",
       "| 5 | 인천광역시 | 1820091 |\n",
       "| 6 | 경상북도   | 1711627 |\n",
       "\n"
      ],
      "text/plain": [
       "  광역시도   pop    \n",
       "1 경기도     7916009\n",
       "2 서울특별시 6590646\n",
       "3 부산광역시 2261633\n",
       "4 경상남도   2135055\n",
       "5 인천광역시 1820091\n",
       "6 경상북도   1711627"
      ]
     },
     "metadata": {},
     "output_type": "display_data"
    }
   ],
   "source": [
    "### aggregate data in terms of Province (광역시도)\n",
    "provinceSum <- aggregate(pop ~광역시도, electionSum, sum)\n",
    "\n",
    "### Descending order by population\n",
    "# order by population in descending order\n",
    "provinceSum_ord <- orderBy(~-pop, provinceSum)\n",
    "\n",
    "# reset rownames\n",
    "rownames(provinceSum_ord) <- c()\n",
    "head(provinceSum_ord)"
   ]
  },
  {
   "cell_type": "markdown",
   "metadata": {},
   "source": [
    "### Find top4 provinces"
   ]
  },
  {
   "cell_type": "code",
   "execution_count": 87,
   "metadata": {},
   "outputs": [
    {
     "data": {
      "text/html": [
       "<ol class=list-inline>\n",
       "\t<li>경기도</li>\n",
       "\t<li>서울특별시</li>\n",
       "\t<li>부산광역시</li>\n",
       "\t<li>경상남도</li>\n",
       "</ol>\n",
       "\n",
       "<details>\n",
       "\t<summary style=display:list-item;cursor:pointer>\n",
       "\t\t<strong>Levels</strong>:\n",
       "\t</summary>\n",
       "\t<ol class=list-inline>\n",
       "\t\t<li>'강원도'</li>\n",
       "\t\t<li>'경기도'</li>\n",
       "\t\t<li>'경상남도'</li>\n",
       "\t\t<li>'경상북도'</li>\n",
       "\t\t<li>'광주광역시'</li>\n",
       "\t\t<li>'대구광역시'</li>\n",
       "\t\t<li>'대전광역시'</li>\n",
       "\t\t<li>'부산광역시'</li>\n",
       "\t\t<li>'서울특별시'</li>\n",
       "\t\t<li>'세종특별자치시'</li>\n",
       "\t\t<li>'울산광역시'</li>\n",
       "\t\t<li>'인천광역시'</li>\n",
       "\t\t<li>'전라남도'</li>\n",
       "\t\t<li>'전라북도'</li>\n",
       "\t\t<li>'제주특별자치도'</li>\n",
       "\t\t<li>'충청남도'</li>\n",
       "\t\t<li>'충청북도'</li>\n",
       "\t</ol>\n",
       "</details>"
      ],
      "text/latex": [
       "\\begin{enumerate*}\n",
       "\\item 경기도\n",
       "\\item 서울특별시\n",
       "\\item 부산광역시\n",
       "\\item 경상남도\n",
       "\\end{enumerate*}\n",
       "\n",
       "\\emph{Levels}: \\begin{enumerate*}\n",
       "\\item '강원도'\n",
       "\\item '경기도'\n",
       "\\item '경상남도'\n",
       "\\item '경상북도'\n",
       "\\item '광주광역시'\n",
       "\\item '대구광역시'\n",
       "\\item '대전광역시'\n",
       "\\item '부산광역시'\n",
       "\\item '서울특별시'\n",
       "\\item '세종특별자치시'\n",
       "\\item '울산광역시'\n",
       "\\item '인천광역시'\n",
       "\\item '전라남도'\n",
       "\\item '전라북도'\n",
       "\\item '제주특별자치도'\n",
       "\\item '충청남도'\n",
       "\\item '충청북도'\n",
       "\\end{enumerate*}\n"
      ],
      "text/markdown": [
       "1. 경기도\n",
       "2. 서울특별시\n",
       "3. 부산광역시\n",
       "4. 경상남도\n",
       "\n",
       "\n",
       "\n",
       "**Levels**: 1. '강원도'\n",
       "2. '경기도'\n",
       "3. '경상남도'\n",
       "4. '경상북도'\n",
       "5. '광주광역시'\n",
       "6. '대구광역시'\n",
       "7. '대전광역시'\n",
       "8. '부산광역시'\n",
       "9. '서울특별시'\n",
       "10. '세종특별자치시'\n",
       "11. '울산광역시'\n",
       "12. '인천광역시'\n",
       "13. '전라남도'\n",
       "14. '전라북도'\n",
       "15. '제주특별자치도'\n",
       "16. '충청남도'\n",
       "17. '충청북도'\n",
       "\n",
       "\n"
      ],
      "text/plain": [
       "[1] 경기도     서울특별시 부산광역시 경상남도  \n",
       "17 Levels: 강원도 경기도 경상남도 경상북도 광주광역시 대구광역시 ... 충청북도"
      ]
     },
     "metadata": {},
     "output_type": "display_data"
    }
   ],
   "source": [
    "top4provinces <- provinceSum_ord[1:4, 1]\n",
    "top4provinces"
   ]
  },
  {
   "cell_type": "markdown",
   "metadata": {},
   "source": [
    "### aggregate votes by candicates"
   ]
  },
  {
   "cell_type": "code",
   "execution_count": 88,
   "metadata": {},
   "outputs": [],
   "source": [
    "provinceMoonSum <- aggregate(moon ~광역시도, electionSum, sum)\n",
    "provinceHongSum <- aggregate(hong ~광역시도, electionSum, sum)\n",
    "provinceAhnSum  <- aggregate(ahn ~광역시도, electionSum, sum)\n",
    "provinceOthersSum  <- aggregate(others ~광역시도, electionSum, sum)\n",
    "\n",
    "# provinceEtcSum  <- aggregate((pop-moon-hong-ahn) ~광역시도, election, sum)"
   ]
  },
  {
   "cell_type": "code",
   "execution_count": 89,
   "metadata": {},
   "outputs": [
    {
     "data": {
      "text/html": [
       "<table>\n",
       "<caption>A data.frame: 6 × 2</caption>\n",
       "<thead>\n",
       "\t<tr><th></th><th scope=col>광역시도</th><th scope=col>moon</th></tr>\n",
       "\t<tr><th></th><th scope=col>&lt;fct&gt;</th><th scope=col>&lt;int&gt;</th></tr>\n",
       "</thead>\n",
       "<tbody>\n",
       "\t<tr><th scope=row>1</th><td>강원도    </td><td> 324768</td></tr>\n",
       "\t<tr><th scope=row>2</th><td>경기도    </td><td>3319812</td></tr>\n",
       "\t<tr><th scope=row>3</th><td>경상남도  </td><td> 779731</td></tr>\n",
       "\t<tr><th scope=row>4</th><td>경상북도  </td><td> 369726</td></tr>\n",
       "\t<tr><th scope=row>5</th><td>광주광역시</td><td> 583847</td></tr>\n",
       "\t<tr><th scope=row>6</th><td>대구광역시</td><td> 342620</td></tr>\n",
       "</tbody>\n",
       "</table>\n"
      ],
      "text/latex": [
       "A data.frame: 6 × 2\n",
       "\\begin{tabular}{r|ll}\n",
       "  & 광역시도 & moon\\\\\n",
       "  & <fct> & <int>\\\\\n",
       "\\hline\n",
       "\t1 & 강원도     &  324768\\\\\n",
       "\t2 & 경기도     & 3319812\\\\\n",
       "\t3 & 경상남도   &  779731\\\\\n",
       "\t4 & 경상북도   &  369726\\\\\n",
       "\t5 & 광주광역시 &  583847\\\\\n",
       "\t6 & 대구광역시 &  342620\\\\\n",
       "\\end{tabular}\n"
      ],
      "text/markdown": [
       "\n",
       "A data.frame: 6 × 2\n",
       "\n",
       "| <!--/--> | 광역시도 &lt;fct&gt; | moon &lt;int&gt; |\n",
       "|---|---|---|\n",
       "| 1 | 강원도     |  324768 |\n",
       "| 2 | 경기도     | 3319812 |\n",
       "| 3 | 경상남도   |  779731 |\n",
       "| 4 | 경상북도   |  369726 |\n",
       "| 5 | 광주광역시 |  583847 |\n",
       "| 6 | 대구광역시 |  342620 |\n",
       "\n"
      ],
      "text/plain": [
       "  광역시도   moon   \n",
       "1 강원도      324768\n",
       "2 경기도     3319812\n",
       "3 경상남도    779731\n",
       "4 경상북도    369726\n",
       "5 광주광역시  583847\n",
       "6 대구광역시  342620"
      ]
     },
     "metadata": {},
     "output_type": "display_data"
    }
   ],
   "source": [
    "head(provinceMoonSum)"
   ]
  },
  {
   "cell_type": "markdown",
   "metadata": {},
   "source": [
    "### Find the number of votes for each candicates in those 4 provinces"
   ]
  },
  {
   "cell_type": "code",
   "execution_count": 90,
   "metadata": {},
   "outputs": [],
   "source": [
    "Top4moon = rbind(subset(provinceMoonSum, 광역시도 == top4provinces[1])[2], # 경기도\n",
    "                 subset(provinceMoonSum, 광역시도 == top4provinces[2])[2], # 서울특별시\n",
    "                 subset(provinceMoonSum, 광역시도 == top4provinces[3])[2], # 부산광역시\n",
    "                 subset(provinceMoonSum, 광역시도 == top4provinces[4])[2] # 경상남도\n",
    "                )\n",
    "Top4hong = rbind(subset(provinceHongSum, 광역시도 == top4provinces[1])[2], # 경기도\n",
    "                 subset(provinceHongSum, 광역시도 == top4provinces[2])[2], # 서울특별시\n",
    "                 subset(provinceHongSum, 광역시도 == top4provinces[3])[2], # 부산광역시\n",
    "                 subset(provinceHongSum, 광역시도 == top4provinces[4])[2] # 경상남도\n",
    "                )\n",
    "Top4ahn = rbind(subset(provinceAhnSum, 광역시도 == top4provinces[1])[2], # 경기도\n",
    "                subset(provinceAhnSum, 광역시도 == top4provinces[2])[2], # 서울특별시\n",
    "                subset(provinceAhnSum, 광역시도 == top4provinces[3])[2], # 부산광역시\n",
    "                subset(provinceAhnSum, 광역시도 == top4provinces[4])[2] # 경상남도\n",
    "                )\n",
    "Top4others = rbind(subset(provinceOthersSum, 광역시도 == top4provinces[1])[2], # 경기도\n",
    "                subset(provinceOthersSum, 광역시도 == top4provinces[2])[2], # 서울특별시\n",
    "                subset(provinceOthersSum, 광역시도 == top4provinces[3])[2], # 부산광역시\n",
    "                subset(provinceOthersSum, 광역시도 == top4provinces[4])[2] # 경상남도\n",
    "                )"
   ]
  },
  {
   "cell_type": "code",
   "execution_count": 91,
   "metadata": {},
   "outputs": [
    {
     "data": {
      "text/html": [
       "<table>\n",
       "<caption>A data.frame: 4 × 1</caption>\n",
       "<thead>\n",
       "\t<tr><th></th><th scope=col>moon</th></tr>\n",
       "\t<tr><th></th><th scope=col>&lt;int&gt;</th></tr>\n",
       "</thead>\n",
       "<tbody>\n",
       "\t<tr><th scope=row>2</th><td>3319812</td></tr>\n",
       "\t<tr><th scope=row>9</th><td>2781345</td></tr>\n",
       "\t<tr><th scope=row>8</th><td> 872127</td></tr>\n",
       "\t<tr><th scope=row>3</th><td> 779731</td></tr>\n",
       "</tbody>\n",
       "</table>\n"
      ],
      "text/latex": [
       "A data.frame: 4 × 1\n",
       "\\begin{tabular}{r|l}\n",
       "  & moon\\\\\n",
       "  & <int>\\\\\n",
       "\\hline\n",
       "\t2 & 3319812\\\\\n",
       "\t9 & 2781345\\\\\n",
       "\t8 &  872127\\\\\n",
       "\t3 &  779731\\\\\n",
       "\\end{tabular}\n"
      ],
      "text/markdown": [
       "\n",
       "A data.frame: 4 × 1\n",
       "\n",
       "| <!--/--> | moon &lt;int&gt; |\n",
       "|---|---|\n",
       "| 2 | 3319812 |\n",
       "| 9 | 2781345 |\n",
       "| 8 |  872127 |\n",
       "| 3 |  779731 |\n",
       "\n"
      ],
      "text/plain": [
       "  moon   \n",
       "2 3319812\n",
       "9 2781345\n",
       "8  872127\n",
       "3  779731"
      ]
     },
     "metadata": {},
     "output_type": "display_data"
    }
   ],
   "source": [
    "Top4moon"
   ]
  },
  {
   "cell_type": "code",
   "execution_count": 92,
   "metadata": {},
   "outputs": [
    {
     "data": {
      "text/html": [
       "<table>\n",
       "<caption>A data.frame: 4 × 4</caption>\n",
       "<thead>\n",
       "\t<tr><th></th><th scope=col>moon</th><th scope=col>hong</th><th scope=col>ahn</th><th scope=col>others</th></tr>\n",
       "\t<tr><th></th><th scope=col>&lt;int&gt;</th><th scope=col>&lt;int&gt;</th><th scope=col>&lt;int&gt;</th><th scope=col>&lt;int&gt;</th></tr>\n",
       "</thead>\n",
       "<tbody>\n",
       "\t<tr><th scope=row>2</th><td>3319812</td><td>1637345</td><td>1807308</td><td>1151544</td></tr>\n",
       "\t<tr><th scope=row>9</th><td>2781345</td><td>1365285</td><td>1492767</td><td> 951249</td></tr>\n",
       "\t<tr><th scope=row>8</th><td> 872127</td><td> 720484</td><td> 378907</td><td> 290115</td></tr>\n",
       "\t<tr><th scope=row>3</th><td> 779731</td><td> 790491</td><td> 284272</td><td> 280561</td></tr>\n",
       "</tbody>\n",
       "</table>\n"
      ],
      "text/latex": [
       "A data.frame: 4 × 4\n",
       "\\begin{tabular}{r|llll}\n",
       "  & moon & hong & ahn & others\\\\\n",
       "  & <int> & <int> & <int> & <int>\\\\\n",
       "\\hline\n",
       "\t2 & 3319812 & 1637345 & 1807308 & 1151544\\\\\n",
       "\t9 & 2781345 & 1365285 & 1492767 &  951249\\\\\n",
       "\t8 &  872127 &  720484 &  378907 &  290115\\\\\n",
       "\t3 &  779731 &  790491 &  284272 &  280561\\\\\n",
       "\\end{tabular}\n"
      ],
      "text/markdown": [
       "\n",
       "A data.frame: 4 × 4\n",
       "\n",
       "| <!--/--> | moon &lt;int&gt; | hong &lt;int&gt; | ahn &lt;int&gt; | others &lt;int&gt; |\n",
       "|---|---|---|---|---|\n",
       "| 2 | 3319812 | 1637345 | 1807308 | 1151544 |\n",
       "| 9 | 2781345 | 1365285 | 1492767 |  951249 |\n",
       "| 8 |  872127 |  720484 |  378907 |  290115 |\n",
       "| 3 |  779731 |  790491 |  284272 |  280561 |\n",
       "\n"
      ],
      "text/plain": [
       "  moon    hong    ahn     others \n",
       "2 3319812 1637345 1807308 1151544\n",
       "9 2781345 1365285 1492767  951249\n",
       "8  872127  720484  378907  290115\n",
       "3  779731  790491  284272  280561"
      ]
     },
     "metadata": {},
     "output_type": "display_data"
    }
   ],
   "source": [
    "top4 <- cbind(Top4moon, Top4hong, Top4ahn, Top4others)\n",
    "top4"
   ]
  },
  {
   "cell_type": "markdown",
   "metadata": {},
   "source": [
    "### convert data type and structure into appropriate ones to draw barplot"
   ]
  },
  {
   "cell_type": "code",
   "execution_count": 93,
   "metadata": {},
   "outputs": [
    {
     "data": {
      "text/html": [
       "<table>\n",
       "<caption>A data.frame: 4 × 4</caption>\n",
       "<thead>\n",
       "\t<tr><th></th><th scope=col>2</th><th scope=col>9</th><th scope=col>8</th><th scope=col>3</th></tr>\n",
       "\t<tr><th></th><th scope=col>&lt;int&gt;</th><th scope=col>&lt;int&gt;</th><th scope=col>&lt;int&gt;</th><th scope=col>&lt;int&gt;</th></tr>\n",
       "</thead>\n",
       "<tbody>\n",
       "\t<tr><th scope=row>moon</th><td>3319812</td><td>2781345</td><td>872127</td><td>779731</td></tr>\n",
       "\t<tr><th scope=row>hong</th><td>1637345</td><td>1365285</td><td>720484</td><td>790491</td></tr>\n",
       "\t<tr><th scope=row>ahn</th><td>1807308</td><td>1492767</td><td>378907</td><td>284272</td></tr>\n",
       "\t<tr><th scope=row>others</th><td>1151544</td><td> 951249</td><td>290115</td><td>280561</td></tr>\n",
       "</tbody>\n",
       "</table>\n"
      ],
      "text/latex": [
       "A data.frame: 4 × 4\n",
       "\\begin{tabular}{r|llll}\n",
       "  & 2 & 9 & 8 & 3\\\\\n",
       "  & <int> & <int> & <int> & <int>\\\\\n",
       "\\hline\n",
       "\tmoon & 3319812 & 2781345 & 872127 & 779731\\\\\n",
       "\thong & 1637345 & 1365285 & 720484 & 790491\\\\\n",
       "\tahn & 1807308 & 1492767 & 378907 & 284272\\\\\n",
       "\tothers & 1151544 &  951249 & 290115 & 280561\\\\\n",
       "\\end{tabular}\n"
      ],
      "text/markdown": [
       "\n",
       "A data.frame: 4 × 4\n",
       "\n",
       "| <!--/--> | 2 &lt;int&gt; | 9 &lt;int&gt; | 8 &lt;int&gt; | 3 &lt;int&gt; |\n",
       "|---|---|---|---|---|\n",
       "| moon | 3319812 | 2781345 | 872127 | 779731 |\n",
       "| hong | 1637345 | 1365285 | 720484 | 790491 |\n",
       "| ahn | 1807308 | 1492767 | 378907 | 284272 |\n",
       "| others | 1151544 |  951249 | 290115 | 280561 |\n",
       "\n"
      ],
      "text/plain": [
       "       2       9       8      3     \n",
       "moon   3319812 2781345 872127 779731\n",
       "hong   1637345 1365285 720484 790491\n",
       "ahn    1807308 1492767 378907 284272\n",
       "others 1151544  951249 290115 280561"
      ]
     },
     "metadata": {},
     "output_type": "display_data"
    }
   ],
   "source": [
    "top4.t.df <- as.data.frame(t(top4)) # to handle data cf.) t(top4): matrix \n",
    "top4.t.df"
   ]
  },
  {
   "cell_type": "code",
   "execution_count": 94,
   "metadata": {},
   "outputs": [
    {
     "data": {
      "text/html": [
       "<table>\n",
       "<caption>A data.frame: 4 × 4</caption>\n",
       "<thead>\n",
       "\t<tr><th></th><th scope=col>경기도</th><th scope=col>서울특별시</th><th scope=col>부산광역시</th><th scope=col>경상남도</th></tr>\n",
       "\t<tr><th></th><th scope=col>&lt;int&gt;</th><th scope=col>&lt;int&gt;</th><th scope=col>&lt;int&gt;</th><th scope=col>&lt;int&gt;</th></tr>\n",
       "</thead>\n",
       "<tbody>\n",
       "\t<tr><th scope=row>moon</th><td>3319812</td><td>2781345</td><td>872127</td><td>779731</td></tr>\n",
       "\t<tr><th scope=row>hong</th><td>1637345</td><td>1365285</td><td>720484</td><td>790491</td></tr>\n",
       "\t<tr><th scope=row>ahn</th><td>1807308</td><td>1492767</td><td>378907</td><td>284272</td></tr>\n",
       "\t<tr><th scope=row>others</th><td>1151544</td><td> 951249</td><td>290115</td><td>280561</td></tr>\n",
       "</tbody>\n",
       "</table>\n"
      ],
      "text/latex": [
       "A data.frame: 4 × 4\n",
       "\\begin{tabular}{r|llll}\n",
       "  & 경기도 & 서울특별시 & 부산광역시 & 경상남도\\\\\n",
       "  & <int> & <int> & <int> & <int>\\\\\n",
       "\\hline\n",
       "\tmoon & 3319812 & 2781345 & 872127 & 779731\\\\\n",
       "\thong & 1637345 & 1365285 & 720484 & 790491\\\\\n",
       "\tahn & 1807308 & 1492767 & 378907 & 284272\\\\\n",
       "\tothers & 1151544 &  951249 & 290115 & 280561\\\\\n",
       "\\end{tabular}\n"
      ],
      "text/markdown": [
       "\n",
       "A data.frame: 4 × 4\n",
       "\n",
       "| <!--/--> | 경기도 &lt;int&gt; | 서울특별시 &lt;int&gt; | 부산광역시 &lt;int&gt; | 경상남도 &lt;int&gt; |\n",
       "|---|---|---|---|---|\n",
       "| moon | 3319812 | 2781345 | 872127 | 779731 |\n",
       "| hong | 1637345 | 1365285 | 720484 | 790491 |\n",
       "| ahn | 1807308 | 1492767 | 378907 | 284272 |\n",
       "| others | 1151544 |  951249 | 290115 | 280561 |\n",
       "\n"
      ],
      "text/plain": [
       "       경기도  서울특별시 부산광역시 경상남도\n",
       "moon   3319812 2781345    872127     779731  \n",
       "hong   1637345 1365285    720484     790491  \n",
       "ahn    1807308 1492767    378907     284272  \n",
       "others 1151544  951249    290115     280561  "
      ]
     },
     "metadata": {},
     "output_type": "display_data"
    }
   ],
   "source": [
    "colnames(top4.t.df) <- c(\"경기도\", \"서울특별시\", \"부산광역시\", \"경상남도\")\n",
    "top4.t.df"
   ]
  },
  {
   "cell_type": "code",
   "execution_count": 95,
   "metadata": {},
   "outputs": [],
   "source": [
    "rownames(top4.t.df) <- c(\"Moon\", \"Hong\", \"Ahn\", \"Etc.\")\n"
   ]
  },
  {
   "cell_type": "code",
   "execution_count": 96,
   "metadata": {},
   "outputs": [
    {
     "data": {
      "text/html": [
       "<table>\n",
       "<caption>A matrix: 4 × 4 of type int</caption>\n",
       "<thead>\n",
       "\t<tr><th></th><th scope=col>경기도</th><th scope=col>서울특별시</th><th scope=col>부산광역시</th><th scope=col>경상남도</th></tr>\n",
       "</thead>\n",
       "<tbody>\n",
       "\t<tr><th scope=row>Moon</th><td>3319812</td><td>2781345</td><td>872127</td><td>779731</td></tr>\n",
       "\t<tr><th scope=row>Hong</th><td>1637345</td><td>1365285</td><td>720484</td><td>790491</td></tr>\n",
       "\t<tr><th scope=row>Ahn</th><td>1807308</td><td>1492767</td><td>378907</td><td>284272</td></tr>\n",
       "\t<tr><th scope=row>Etc.</th><td>1151544</td><td> 951249</td><td>290115</td><td>280561</td></tr>\n",
       "</tbody>\n",
       "</table>\n"
      ],
      "text/latex": [
       "A matrix: 4 × 4 of type int\n",
       "\\begin{tabular}{r|llll}\n",
       "  & 경기도 & 서울특별시 & 부산광역시 & 경상남도\\\\\n",
       "\\hline\n",
       "\tMoon & 3319812 & 2781345 & 872127 & 779731\\\\\n",
       "\tHong & 1637345 & 1365285 & 720484 & 790491\\\\\n",
       "\tAhn & 1807308 & 1492767 & 378907 & 284272\\\\\n",
       "\tEtc. & 1151544 &  951249 & 290115 & 280561\\\\\n",
       "\\end{tabular}\n"
      ],
      "text/markdown": [
       "\n",
       "A matrix: 4 × 4 of type int\n",
       "\n",
       "| <!--/--> | 경기도 | 서울특별시 | 부산광역시 | 경상남도 |\n",
       "|---|---|---|---|---|\n",
       "| Moon | 3319812 | 2781345 | 872127 | 779731 |\n",
       "| Hong | 1637345 | 1365285 | 720484 | 790491 |\n",
       "| Ahn | 1807308 | 1492767 | 378907 | 284272 |\n",
       "| Etc. | 1151544 |  951249 | 290115 | 280561 |\n",
       "\n"
      ],
      "text/plain": [
       "     경기도  서울특별시 부산광역시 경상남도\n",
       "Moon 3319812 2781345    872127     779731  \n",
       "Hong 1637345 1365285    720484     790491  \n",
       "Ahn  1807308 1492767    378907     284272  \n",
       "Etc. 1151544  951249    290115     280561  "
      ]
     },
     "metadata": {},
     "output_type": "display_data"
    }
   ],
   "source": [
    "top4matrix <- as.matrix(top4.t.df) # to draw barplot\n",
    "top4matrix # each columns will be a bar in barplot"
   ]
  },
  {
   "cell_type": "markdown",
   "metadata": {},
   "source": [
    "### barplot"
   ]
  },
  {
   "cell_type": "code",
   "execution_count": 97,
   "metadata": {},
   "outputs": [],
   "source": [
    "library(RColorBrewer)"
   ]
  },
  {
   "cell_type": "code",
   "execution_count": 98,
   "metadata": {},
   "outputs": [
    {
     "data": {
      "image/png": "[encoded data removed]",
      "text/plain": [
       "Plot with title “The provinces with top 4 most votes”"
      ]
     },
     "metadata": {
      "image/png": {
       "height": 420,
       "width": 420
      },
      "text/plain": {
       "height": 420,
       "width": 420
      }
     },
     "output_type": "display_data"
    }
   ],
   "source": [
    "options(scipen=100)\n",
    "\n",
    "barplot(top4matrix,\n",
    "       ylim = c(0, 8000000),\n",
    "       main = \"The provinces with top 4 most votes\",\n",
    "       col = c(\"sky blue\", \"red\", \"light green\", \"gray\"), # Color of each party\n",
    "       legend.text = T,\n",
    "       xlab = \"provinces\",\n",
    "       ylab = \"Number of votes\"\n",
    "       )"
   ]
  },
  {
   "cell_type": "code",
   "execution_count": 99,
   "metadata": {
    "scrolled": false
   },
   "outputs": [
    {
     "data": {
      "image/png": "[encoded data removed]",
      "text/plain": [
       "Plot with title “The provinces with top 4 most votes”"
      ]
     },
     "metadata": {
      "image/png": {
       "height": 420,
       "width": 420
      },
      "text/plain": {
       "height": 420,
       "width": 420
      }
     },
     "output_type": "display_data"
    }
   ],
   "source": [
    "options(scipen=100)\n",
    "\n",
    "barplot(top4matrix,\n",
    "       ylim = c(0, 3500000),\n",
    "       main = \"The provinces with top 4 most votes\",\n",
    "       col = c(\"sky blue\", \"red\", \"light green\", \"gray\"), # Color of each party\n",
    "       legend.text = T,\n",
    "       xlab = \"provinces\",\n",
    "       ylab = \"Number of votes\",\n",
    "       beside = T \n",
    "       )"
   ]
  },
  {
   "cell_type": "markdown",
   "metadata": {},
   "source": [
    "## Plot the number of votes for the candidates in the counties(시군) with top 5 most votes"
   ]
  },
  {
   "cell_type": "markdown",
   "metadata": {},
   "source": [
    "### aggregate data, orderBy votes(population), and reset rownames"
   ]
  },
  {
   "cell_type": "code",
   "execution_count": 100,
   "metadata": {},
   "outputs": [
    {
     "data": {
      "text/html": [
       "<table>\n",
       "<caption>A data.frame: 6 × 10</caption>\n",
       "<thead>\n",
       "\t<tr><th></th><th scope=col>X</th><th scope=col>광역시도</th><th scope=col>시군</th><th scope=col>pop</th><th scope=col>moon</th><th scope=col>hong</th><th scope=col>ahn</th><th scope=col>Sum.ThreeCand</th><th scope=col>others</th><th scope=col>PortionThree</th></tr>\n",
       "\t<tr><th></th><th scope=col>&lt;int&gt;</th><th scope=col>&lt;fct&gt;</th><th scope=col>&lt;fct&gt;</th><th scope=col>&lt;int&gt;</th><th scope=col>&lt;int&gt;</th><th scope=col>&lt;int&gt;</th><th scope=col>&lt;int&gt;</th><th scope=col>&lt;int&gt;</th><th scope=col>&lt;int&gt;</th><th scope=col>&lt;dbl&gt;</th></tr>\n",
       "</thead>\n",
       "<tbody>\n",
       "\t<tr><th scope=row>1</th><td>0</td><td>서울특별시</td><td>종로구  </td><td>102566</td><td> 42512</td><td>22325</td><td>22313</td><td> 87150</td><td>15416</td><td>84.97</td></tr>\n",
       "\t<tr><th scope=row>2</th><td>1</td><td>서울특별시</td><td>중구    </td><td> 82852</td><td> 34062</td><td>17901</td><td>19372</td><td> 71335</td><td>11517</td><td>86.10</td></tr>\n",
       "\t<tr><th scope=row>3</th><td>2</td><td>서울특별시</td><td>용산구  </td><td>148157</td><td> 58081</td><td>35230</td><td>32109</td><td>125420</td><td>22737</td><td>84.65</td></tr>\n",
       "\t<tr><th scope=row>4</th><td>3</td><td>서울특별시</td><td>성동구  </td><td>203175</td><td> 86686</td><td>40566</td><td>45674</td><td>172926</td><td>30249</td><td>85.11</td></tr>\n",
       "\t<tr><th scope=row>5</th><td>4</td><td>서울특별시</td><td>광진구  </td><td>240030</td><td>105512</td><td>46368</td><td>52824</td><td>204704</td><td>35326</td><td>85.28</td></tr>\n",
       "\t<tr><th scope=row>6</th><td>5</td><td>서울특별시</td><td>동대문구</td><td>236092</td><td> 98958</td><td>51631</td><td>53359</td><td>203948</td><td>32144</td><td>86.38</td></tr>\n",
       "</tbody>\n",
       "</table>\n"
      ],
      "text/latex": [
       "A data.frame: 6 × 10\n",
       "\\begin{tabular}{r|llllllllll}\n",
       "  & X & 광역시도 & 시군 & pop & moon & hong & ahn & Sum.ThreeCand & others & PortionThree\\\\\n",
       "  & <int> & <fct> & <fct> & <int> & <int> & <int> & <int> & <int> & <int> & <dbl>\\\\\n",
       "\\hline\n",
       "\t1 & 0 & 서울특별시 & 종로구   & 102566 &  42512 & 22325 & 22313 &  87150 & 15416 & 84.97\\\\\n",
       "\t2 & 1 & 서울특별시 & 중구     &  82852 &  34062 & 17901 & 19372 &  71335 & 11517 & 86.10\\\\\n",
       "\t3 & 2 & 서울특별시 & 용산구   & 148157 &  58081 & 35230 & 32109 & 125420 & 22737 & 84.65\\\\\n",
       "\t4 & 3 & 서울특별시 & 성동구   & 203175 &  86686 & 40566 & 45674 & 172926 & 30249 & 85.11\\\\\n",
       "\t5 & 4 & 서울특별시 & 광진구   & 240030 & 105512 & 46368 & 52824 & 204704 & 35326 & 85.28\\\\\n",
       "\t6 & 5 & 서울특별시 & 동대문구 & 236092 &  98958 & 51631 & 53359 & 203948 & 32144 & 86.38\\\\\n",
       "\\end{tabular}\n"
      ],
      "text/markdown": [
       "\n",
       "A data.frame: 6 × 10\n",
       "\n",
       "| <!--/--> | X &lt;int&gt; | 광역시도 &lt;fct&gt; | 시군 &lt;fct&gt; | pop &lt;int&gt; | moon &lt;int&gt; | hong &lt;int&gt; | ahn &lt;int&gt; | Sum.ThreeCand &lt;int&gt; | others &lt;int&gt; | PortionThree &lt;dbl&gt; |\n",
       "|---|---|---|---|---|---|---|---|---|---|---|\n",
       "| 1 | 0 | 서울특별시 | 종로구   | 102566 |  42512 | 22325 | 22313 |  87150 | 15416 | 84.97 |\n",
       "| 2 | 1 | 서울특별시 | 중구     |  82852 |  34062 | 17901 | 19372 |  71335 | 11517 | 86.10 |\n",
       "| 3 | 2 | 서울특별시 | 용산구   | 148157 |  58081 | 35230 | 32109 | 125420 | 22737 | 84.65 |\n",
       "| 4 | 3 | 서울특별시 | 성동구   | 203175 |  86686 | 40566 | 45674 | 172926 | 30249 | 85.11 |\n",
       "| 5 | 4 | 서울특별시 | 광진구   | 240030 | 105512 | 46368 | 52824 | 204704 | 35326 | 85.28 |\n",
       "| 6 | 5 | 서울특별시 | 동대문구 | 236092 |  98958 | 51631 | 53359 | 203948 | 32144 | 86.38 |\n",
       "\n"
      ],
      "text/plain": [
       "  X 광역시도   시군     pop    moon   hong  ahn   Sum.ThreeCand others\n",
       "1 0 서울특별시 종로구   102566  42512 22325 22313  87150        15416 \n",
       "2 1 서울특별시 중구      82852  34062 17901 19372  71335        11517 \n",
       "3 2 서울특별시 용산구   148157  58081 35230 32109 125420        22737 \n",
       "4 3 서울특별시 성동구   203175  86686 40566 45674 172926        30249 \n",
       "5 4 서울특별시 광진구   240030 105512 46368 52824 204704        35326 \n",
       "6 5 서울특별시 동대문구 236092  98958 51631 53359 203948        32144 \n",
       "  PortionThree\n",
       "1 84.97       \n",
       "2 86.10       \n",
       "3 84.65       \n",
       "4 85.11       \n",
       "5 85.28       \n",
       "6 86.38       "
      ]
     },
     "metadata": {},
     "output_type": "display_data"
    }
   ],
   "source": [
    "head(electionSum)"
   ]
  },
  {
   "cell_type": "code",
   "execution_count": 101,
   "metadata": {},
   "outputs": [],
   "source": [
    "## aggregate data in terms of Province (시군)\n",
    "countySum <- aggregate(pop ~시군, electionSum, sum)"
   ]
  },
  {
   "cell_type": "code",
   "execution_count": 102,
   "metadata": {},
   "outputs": [],
   "source": [
    "## Descending order by population\n",
    "# order by population in descending order\n",
    "countySum_ord <- orderBy(~-pop, electionSum)"
   ]
  },
  {
   "cell_type": "code",
   "execution_count": 103,
   "metadata": {},
   "outputs": [
    {
     "data": {
      "text/html": [
       "<table>\n",
       "<caption>A data.frame: 6 × 10</caption>\n",
       "<thead>\n",
       "\t<tr><th></th><th scope=col>X</th><th scope=col>광역시도</th><th scope=col>시군</th><th scope=col>pop</th><th scope=col>moon</th><th scope=col>hong</th><th scope=col>ahn</th><th scope=col>Sum.ThreeCand</th><th scope=col>others</th><th scope=col>PortionThree</th></tr>\n",
       "\t<tr><th></th><th scope=col>&lt;int&gt;</th><th scope=col>&lt;fct&gt;</th><th scope=col>&lt;fct&gt;</th><th scope=col>&lt;int&gt;</th><th scope=col>&lt;int&gt;</th><th scope=col>&lt;int&gt;</th><th scope=col>&lt;int&gt;</th><th scope=col>&lt;int&gt;</th><th scope=col>&lt;int&gt;</th><th scope=col>&lt;dbl&gt;</th></tr>\n",
       "</thead>\n",
       "<tbody>\n",
       "\t<tr><th scope=row>1</th><td> 85</td><td>경기도    </td><td>부천시  </td><td>543777</td><td>239697</td><td>100544</td><td>128297</td><td>468538</td><td>75239</td><td>86.16</td></tr>\n",
       "\t<tr><th scope=row>2</th><td> 23</td><td>서울특별시</td><td>송파구  </td><td>441198</td><td>177328</td><td> 98549</td><td> 99018</td><td>374895</td><td>66303</td><td>84.97</td></tr>\n",
       "\t<tr><th scope=row>3</th><td> 98</td><td>경기도    </td><td>남양주시</td><td>397972</td><td>165079</td><td> 86026</td><td> 92048</td><td>343153</td><td>54819</td><td>86.23</td></tr>\n",
       "\t<tr><th scope=row>4</th><td> 15</td><td>서울특별시</td><td>강서구  </td><td>397108</td><td>175882</td><td> 76601</td><td> 88128</td><td>340611</td><td>56497</td><td>85.77</td></tr>\n",
       "\t<tr><th scope=row>5</th><td>100</td><td>경기도    </td><td>화성시  </td><td>386002</td><td>176940</td><td> 69014</td><td> 84967</td><td>330921</td><td>55081</td><td>85.73</td></tr>\n",
       "\t<tr><th scope=row>6</th><td> 47</td><td>대구광역시</td><td>달서구  </td><td>374766</td><td> 82726</td><td>165781</td><td> 57956</td><td>306463</td><td>68303</td><td>81.77</td></tr>\n",
       "</tbody>\n",
       "</table>\n"
      ],
      "text/latex": [
       "A data.frame: 6 × 10\n",
       "\\begin{tabular}{r|llllllllll}\n",
       "  & X & 광역시도 & 시군 & pop & moon & hong & ahn & Sum.ThreeCand & others & PortionThree\\\\\n",
       "  & <int> & <fct> & <fct> & <int> & <int> & <int> & <int> & <int> & <int> & <dbl>\\\\\n",
       "\\hline\n",
       "\t1 &  85 & 경기도     & 부천시   & 543777 & 239697 & 100544 & 128297 & 468538 & 75239 & 86.16\\\\\n",
       "\t2 &  23 & 서울특별시 & 송파구   & 441198 & 177328 &  98549 &  99018 & 374895 & 66303 & 84.97\\\\\n",
       "\t3 &  98 & 경기도     & 남양주시 & 397972 & 165079 &  86026 &  92048 & 343153 & 54819 & 86.23\\\\\n",
       "\t4 &  15 & 서울특별시 & 강서구   & 397108 & 175882 &  76601 &  88128 & 340611 & 56497 & 85.77\\\\\n",
       "\t5 & 100 & 경기도     & 화성시   & 386002 & 176940 &  69014 &  84967 & 330921 & 55081 & 85.73\\\\\n",
       "\t6 &  47 & 대구광역시 & 달서구   & 374766 &  82726 & 165781 &  57956 & 306463 & 68303 & 81.77\\\\\n",
       "\\end{tabular}\n"
      ],
      "text/markdown": [
       "\n",
       "A data.frame: 6 × 10\n",
       "\n",
       "| <!--/--> | X &lt;int&gt; | 광역시도 &lt;fct&gt; | 시군 &lt;fct&gt; | pop &lt;int&gt; | moon &lt;int&gt; | hong &lt;int&gt; | ahn &lt;int&gt; | Sum.ThreeCand &lt;int&gt; | others &lt;int&gt; | PortionThree &lt;dbl&gt; |\n",
       "|---|---|---|---|---|---|---|---|---|---|---|\n",
       "| 1 |  85 | 경기도     | 부천시   | 543777 | 239697 | 100544 | 128297 | 468538 | 75239 | 86.16 |\n",
       "| 2 |  23 | 서울특별시 | 송파구   | 441198 | 177328 |  98549 |  99018 | 374895 | 66303 | 84.97 |\n",
       "| 3 |  98 | 경기도     | 남양주시 | 397972 | 165079 |  86026 |  92048 | 343153 | 54819 | 86.23 |\n",
       "| 4 |  15 | 서울특별시 | 강서구   | 397108 | 175882 |  76601 |  88128 | 340611 | 56497 | 85.77 |\n",
       "| 5 | 100 | 경기도     | 화성시   | 386002 | 176940 |  69014 |  84967 | 330921 | 55081 | 85.73 |\n",
       "| 6 |  47 | 대구광역시 | 달서구   | 374766 |  82726 | 165781 |  57956 | 306463 | 68303 | 81.77 |\n",
       "\n"
      ],
      "text/plain": [
       "  X   광역시도   시군     pop    moon   hong   ahn    Sum.ThreeCand others\n",
       "1  85 경기도     부천시   543777 239697 100544 128297 468538        75239 \n",
       "2  23 서울특별시 송파구   441198 177328  98549  99018 374895        66303 \n",
       "3  98 경기도     남양주시 397972 165079  86026  92048 343153        54819 \n",
       "4  15 서울특별시 강서구   397108 175882  76601  88128 340611        56497 \n",
       "5 100 경기도     화성시   386002 176940  69014  84967 330921        55081 \n",
       "6  47 대구광역시 달서구   374766  82726 165781  57956 306463        68303 \n",
       "  PortionThree\n",
       "1 86.16       \n",
       "2 84.97       \n",
       "3 86.23       \n",
       "4 85.77       \n",
       "5 85.73       \n",
       "6 81.77       "
      ]
     },
     "metadata": {},
     "output_type": "display_data"
    }
   ],
   "source": [
    "# reset rownames\n",
    "rownames(countySum_ord) <- c()\n",
    "head(countySum_ord)"
   ]
  },
  {
   "cell_type": "markdown",
   "metadata": {},
   "source": [
    "### Find top5 provinces"
   ]
  },
  {
   "cell_type": "code",
   "execution_count": 104,
   "metadata": {},
   "outputs": [
    {
     "data": {
      "text/html": [
       "<ol class=list-inline>\n",
       "\t<li>부천시</li>\n",
       "\t<li>송파구</li>\n",
       "\t<li>남양주시</li>\n",
       "\t<li>강서구</li>\n",
       "\t<li>화성시</li>\n",
       "</ol>\n",
       "\n",
       "<details>\n",
       "\t<summary style=display:list-item;cursor:pointer>\n",
       "\t\t<strong>Levels</strong>:\n",
       "\t</summary>\n",
       "\t<ol class=list-inline>\n",
       "\t\t<li>'가평군'</li>\n",
       "\t\t<li>'강남구'</li>\n",
       "\t\t<li>'강동구'</li>\n",
       "\t\t<li>'강릉시'</li>\n",
       "\t\t<li>'강북구'</li>\n",
       "\t\t<li>'강서구'</li>\n",
       "\t\t<li>'강진군'</li>\n",
       "\t\t<li>'강화군'</li>\n",
       "\t\t<li>'거제시'</li>\n",
       "\t\t<li>'거창군'</li>\n",
       "\t\t<li>'경산시'</li>\n",
       "\t\t<li>'경주시'</li>\n",
       "\t\t<li>'계룡시'</li>\n",
       "\t\t<li>'계양구'</li>\n",
       "\t\t<li>'고령군'</li>\n",
       "\t\t<li>'고성군'</li>\n",
       "\t\t<li>'고양시덕양구'</li>\n",
       "\t\t<li>'고양시일산동구'</li>\n",
       "\t\t<li>'고양시일산서구'</li>\n",
       "\t\t<li>'고창군'</li>\n",
       "\t\t<li>'고흥군'</li>\n",
       "\t\t<li>'곡성군'</li>\n",
       "\t\t<li>'공주시'</li>\n",
       "\t\t<li>'과천시'</li>\n",
       "\t\t<li>'관악구'</li>\n",
       "\t\t<li>'광명시'</li>\n",
       "\t\t<li>'광산구'</li>\n",
       "\t\t<li>'광양시'</li>\n",
       "\t\t<li>'광주시'</li>\n",
       "\t\t<li>'광진구'</li>\n",
       "\t\t<li>'괴산군'</li>\n",
       "\t\t<li>'구례군'</li>\n",
       "\t\t<li>'구로구'</li>\n",
       "\t\t<li>'구리시'</li>\n",
       "\t\t<li>'구미시'</li>\n",
       "\t\t<li>'군산시'</li>\n",
       "\t\t<li>'군위군'</li>\n",
       "\t\t<li>'군포시'</li>\n",
       "\t\t<li>'금산군'</li>\n",
       "\t\t<li>'금정구'</li>\n",
       "\t\t<li>'금천구'</li>\n",
       "\t\t<li>'기장군'</li>\n",
       "\t\t<li>'김제시'</li>\n",
       "\t\t<li>'김천시'</li>\n",
       "\t\t<li>'김포시'</li>\n",
       "\t\t<li>'김해시'</li>\n",
       "\t\t<li>'나주시'</li>\n",
       "\t\t<li>'남구'</li>\n",
       "\t\t<li>'남동구'</li>\n",
       "\t\t<li>'남양주시'</li>\n",
       "\t\t<li>'남원시'</li>\n",
       "\t\t<li>'남해군'</li>\n",
       "\t\t<li>'노원구'</li>\n",
       "\t\t<li>'논산시'</li>\n",
       "\t\t<li>'단양군'</li>\n",
       "\t\t<li>'달서구'</li>\n",
       "\t\t<li>'달성군'</li>\n",
       "\t\t<li>'담양군'</li>\n",
       "\t\t<li>'당진시'</li>\n",
       "\t\t<li>'대덕구'</li>\n",
       "\t\t<li>'도봉구'</li>\n",
       "\t\t<li>'동구'</li>\n",
       "\t\t<li>'동대문구'</li>\n",
       "\t\t<li>'동두천시'</li>\n",
       "\t\t<li>'동래구'</li>\n",
       "\t\t<li>'동작구'</li>\n",
       "\t\t<li>'동해시'</li>\n",
       "\t\t<li>'마포구'</li>\n",
       "\t\t<li>'목포시'</li>\n",
       "\t\t<li>'무안군'</li>\n",
       "\t\t<li>'무주군'</li>\n",
       "\t\t<li>'문경시'</li>\n",
       "\t\t<li>'밀양시'</li>\n",
       "\t\t<li>'보령시'</li>\n",
       "\t\t<li>'보성군'</li>\n",
       "\t\t<li>'보은군'</li>\n",
       "\t\t<li>'봉화군'</li>\n",
       "\t\t<li>'부산진구'</li>\n",
       "\t\t<li>'부안군'</li>\n",
       "\t\t<li>'부여군'</li>\n",
       "\t\t<li>'부천시'</li>\n",
       "\t\t<li>'부평구'</li>\n",
       "\t\t<li>'북구'</li>\n",
       "\t\t<li>'사상구'</li>\n",
       "\t\t<li>'사천시'</li>\n",
       "\t\t<li>'사하구'</li>\n",
       "\t\t<li>'산청군'</li>\n",
       "\t\t<li>'삼척시'</li>\n",
       "\t\t<li>'상주시'</li>\n",
       "\t\t<li>'서구'</li>\n",
       "\t\t<li>'서귀포시'</li>\n",
       "\t\t<li>'서대문구'</li>\n",
       "\t\t<li>'서산시'</li>\n",
       "\t\t<li>'서천군'</li>\n",
       "\t\t<li>'서초구'</li>\n",
       "\t\t<li>'성남시분당구'</li>\n",
       "\t\t<li>'성남시수정구'</li>\n",
       "\t\t<li>'성남시중원구'</li>\n",
       "\t\t<li>'성동구'</li>\n",
       "\t\t<li>'성북구'</li>\n",
       "\t\t<li>'성주군'</li>\n",
       "\t\t<li>'세종특별자치시'</li>\n",
       "\t\t<li>'속초시'</li>\n",
       "\t\t<li>'송파구'</li>\n",
       "\t\t<li>'수성구'</li>\n",
       "\t\t<li>'수영구'</li>\n",
       "\t\t<li>'수원시권선구'</li>\n",
       "\t\t<li>'수원시영통구'</li>\n",
       "\t\t<li>'수원시장안구'</li>\n",
       "\t\t<li>'수원시팔달구'</li>\n",
       "\t\t<li>'순창군'</li>\n",
       "\t\t<li>'순천시'</li>\n",
       "\t\t<li>'시흥시'</li>\n",
       "\t\t<li>'신안군'</li>\n",
       "\t\t<li>'아산시'</li>\n",
       "\t\t<li>'안동시'</li>\n",
       "\t\t<li>'안산시단원구'</li>\n",
       "\t\t<li>'안산시상록구'</li>\n",
       "\t\t<li>'안성시'</li>\n",
       "\t\t<li>'안양시동안구'</li>\n",
       "\t\t<li>'안양시만안구'</li>\n",
       "\t\t<li>'양구군'</li>\n",
       "\t\t<li>'양산시'</li>\n",
       "\t\t<li>'양양군'</li>\n",
       "\t\t<li>'양주시'</li>\n",
       "\t\t<li>'양천구'</li>\n",
       "\t\t<li>'양평군'</li>\n",
       "\t\t<li>'여수시'</li>\n",
       "\t\t<li>'여주시'</li>\n",
       "\t\t<li>'연수구'</li>\n",
       "\t\t<li>'연제구'</li>\n",
       "\t\t<li>'연천군'</li>\n",
       "\t\t<li>'영광군'</li>\n",
       "\t\t<li>'영덕군'</li>\n",
       "\t\t<li>'영도구'</li>\n",
       "\t\t<li>'영동군'</li>\n",
       "\t\t<li>'영등포구'</li>\n",
       "\t\t<li>'영암군'</li>\n",
       "\t\t<li>'영양군'</li>\n",
       "\t\t<li>'영월군'</li>\n",
       "\t\t<li>'영주시'</li>\n",
       "\t\t<li>'영천시'</li>\n",
       "\t\t<li>'예산군'</li>\n",
       "\t\t<li>'예천군'</li>\n",
       "\t\t<li>'오산시'</li>\n",
       "\t\t<li>'옥천군'</li>\n",
       "\t\t<li>'옹진군'</li>\n",
       "\t\t<li>'완도군'</li>\n",
       "\t\t<li>'완주군'</li>\n",
       "\t\t<li>'용산구'</li>\n",
       "\t\t<li>'용인시기흥구'</li>\n",
       "\t\t<li>'용인시수지구'</li>\n",
       "\t\t<li>'용인시처인구'</li>\n",
       "\t\t<li>'울릉군'</li>\n",
       "\t\t<li>'울주군'</li>\n",
       "\t\t<li>'울진군'</li>\n",
       "\t\t<li>'원주시'</li>\n",
       "\t\t<li>'유성구'</li>\n",
       "\t\t<li>'은평구'</li>\n",
       "\t\t<li>'음성군'</li>\n",
       "\t\t<li>'의령군'</li>\n",
       "\t\t<li>'의성군'</li>\n",
       "\t\t<li>'의왕시'</li>\n",
       "\t\t<li>'의정부시'</li>\n",
       "\t\t<li>'이천시'</li>\n",
       "\t\t<li>'익산시'</li>\n",
       "\t\t<li>'인제군'</li>\n",
       "\t\t<li>'임실군'</li>\n",
       "\t\t<li>'장성군'</li>\n",
       "\t\t<li>'장수군'</li>\n",
       "\t\t<li>'장흥군'</li>\n",
       "\t\t<li>'전주시덕진구'</li>\n",
       "\t\t<li>'전주시완산구'</li>\n",
       "\t\t<li>'정선군'</li>\n",
       "\t\t<li>'정읍시'</li>\n",
       "\t\t<li>'제주시'</li>\n",
       "\t\t<li>'제천시'</li>\n",
       "\t\t<li>'종로구'</li>\n",
       "\t\t<li>'중구'</li>\n",
       "\t\t<li>'중랑구'</li>\n",
       "\t\t<li>'증평군'</li>\n",
       "\t\t<li>'진도군'</li>\n",
       "\t\t<li>'진안군'</li>\n",
       "\t\t<li>'진주시'</li>\n",
       "\t\t<li>'진천군'</li>\n",
       "\t\t<li>'창녕군'</li>\n",
       "\t\t<li>'창원시마산합포구'</li>\n",
       "\t\t<li>'창원시마산회원구'</li>\n",
       "\t\t<li>'창원시성산구'</li>\n",
       "\t\t<li>'창원시의창구'</li>\n",
       "\t\t<li>'창원시진해구'</li>\n",
       "\t\t<li>'천안시동남구'</li>\n",
       "\t\t<li>'천안시서북구'</li>\n",
       "\t\t<li>'철원군'</li>\n",
       "\t\t<li>'청도군'</li>\n",
       "\t\t<li>'청송군'</li>\n",
       "\t\t<li>'청양군'</li>\n",
       "\t\t<li>'청주시상당구'</li>\n",
       "\t\t<li>'청주시서원구'</li>\n",
       "\t\t<li>'청주시청원구'</li>\n",
       "\t\t<li>'청주시흥덕구'</li>\n",
       "\t\t<li>'춘천시'</li>\n",
       "\t\t<li>'충주시'</li>\n",
       "\t\t<li>'칠곡군'</li>\n",
       "\t\t<li>'태백시'</li>\n",
       "\t\t<li>'태안군'</li>\n",
       "\t\t<li>'통영시'</li>\n",
       "\t\t<li>'파주시'</li>\n",
       "\t\t<li>'평창군'</li>\n",
       "\t\t<li>'평택시'</li>\n",
       "\t\t<li>'포천시'</li>\n",
       "\t\t<li>'포항시남구'</li>\n",
       "\t\t<li>'포항시북구'</li>\n",
       "\t\t<li>'하남시'</li>\n",
       "\t\t<li>'하동군'</li>\n",
       "\t\t<li>'함안군'</li>\n",
       "\t\t<li>'함양군'</li>\n",
       "\t\t<li>'함평군'</li>\n",
       "\t\t<li>'합천군'</li>\n",
       "\t\t<li>'해남군'</li>\n",
       "\t\t<li>'해운대구'</li>\n",
       "\t\t<li>'홍성군'</li>\n",
       "\t\t<li>'홍천군'</li>\n",
       "\t\t<li>'화성시'</li>\n",
       "\t\t<li>'화순군'</li>\n",
       "\t\t<li>'화천군'</li>\n",
       "\t\t<li>'횡성군'</li>\n",
       "\t</ol>\n",
       "</details>"
      ],
      "text/latex": [
       "\\begin{enumerate*}\n",
       "\\item 부천시\n",
       "\\item 송파구\n",
       "\\item 남양주시\n",
       "\\item 강서구\n",
       "\\item 화성시\n",
       "\\end{enumerate*}\n",
       "\n",
       "\\emph{Levels}: \\begin{enumerate*}\n",
       "\\item '가평군'\n",
       "\\item '강남구'\n",
       "\\item '강동구'\n",
       "\\item '강릉시'\n",
       "\\item '강북구'\n",
       "\\item '강서구'\n",
       "\\item '강진군'\n",
       "\\item '강화군'\n",
       "\\item '거제시'\n",
       "\\item '거창군'\n",
       "\\item '경산시'\n",
       "\\item '경주시'\n",
       "\\item '계룡시'\n",
       "\\item '계양구'\n",
       "\\item '고령군'\n",
       "\\item '고성군'\n",
       "\\item '고양시덕양구'\n",
       "\\item '고양시일산동구'\n",
       "\\item '고양시일산서구'\n",
       "\\item '고창군'\n",
       "\\item '고흥군'\n",
       "\\item '곡성군'\n",
       "\\item '공주시'\n",
       "\\item '과천시'\n",
       "\\item '관악구'\n",
       "\\item '광명시'\n",
       "\\item '광산구'\n",
       "\\item '광양시'\n",
       "\\item '광주시'\n",
       "\\item '광진구'\n",
       "\\item '괴산군'\n",
       "\\item '구례군'\n",
       "\\item '구로구'\n",
       "\\item '구리시'\n",
       "\\item '구미시'\n",
       "\\item '군산시'\n",
       "\\item '군위군'\n",
       "\\item '군포시'\n",
       "\\item '금산군'\n",
       "\\item '금정구'\n",
       "\\item '금천구'\n",
       "\\item '기장군'\n",
       "\\item '김제시'\n",
       "\\item '김천시'\n",
       "\\item '김포시'\n",
       "\\item '김해시'\n",
       "\\item '나주시'\n",
       "\\item '남구'\n",
       "\\item '남동구'\n",
       "\\item '남양주시'\n",
       "\\item '남원시'\n",
       "\\item '남해군'\n",
       "\\item '노원구'\n",
       "\\item '논산시'\n",
       "\\item '단양군'\n",
       "\\item '달서구'\n",
       "\\item '달성군'\n",
       "\\item '담양군'\n",
       "\\item '당진시'\n",
       "\\item '대덕구'\n",
       "\\item '도봉구'\n",
       "\\item '동구'\n",
       "\\item '동대문구'\n",
       "\\item '동두천시'\n",
       "\\item '동래구'\n",
       "\\item '동작구'\n",
       "\\item '동해시'\n",
       "\\item '마포구'\n",
       "\\item '목포시'\n",
       "\\item '무안군'\n",
       "\\item '무주군'\n",
       "\\item '문경시'\n",
       "\\item '밀양시'\n",
       "\\item '보령시'\n",
       "\\item '보성군'\n",
       "\\item '보은군'\n",
       "\\item '봉화군'\n",
       "\\item '부산진구'\n",
       "\\item '부안군'\n",
       "\\item '부여군'\n",
       "\\item '부천시'\n",
       "\\item '부평구'\n",
       "\\item '북구'\n",
       "\\item '사상구'\n",
       "\\item '사천시'\n",
       "\\item '사하구'\n",
       "\\item '산청군'\n",
       "\\item '삼척시'\n",
       "\\item '상주시'\n",
       "\\item '서구'\n",
       "\\item '서귀포시'\n",
       "\\item '서대문구'\n",
       "\\item '서산시'\n",
       "\\item '서천군'\n",
       "\\item '서초구'\n",
       "\\item '성남시분당구'\n",
       "\\item '성남시수정구'\n",
       "\\item '성남시중원구'\n",
       "\\item '성동구'\n",
       "\\item '성북구'\n",
       "\\item '성주군'\n",
       "\\item '세종특별자치시'\n",
       "\\item '속초시'\n",
       "\\item '송파구'\n",
       "\\item '수성구'\n",
       "\\item '수영구'\n",
       "\\item '수원시권선구'\n",
       "\\item '수원시영통구'\n",
       "\\item '수원시장안구'\n",
       "\\item '수원시팔달구'\n",
       "\\item '순창군'\n",
       "\\item '순천시'\n",
       "\\item '시흥시'\n",
       "\\item '신안군'\n",
       "\\item '아산시'\n",
       "\\item '안동시'\n",
       "\\item '안산시단원구'\n",
       "\\item '안산시상록구'\n",
       "\\item '안성시'\n",
       "\\item '안양시동안구'\n",
       "\\item '안양시만안구'\n",
       "\\item '양구군'\n",
       "\\item '양산시'\n",
       "\\item '양양군'\n",
       "\\item '양주시'\n",
       "\\item '양천구'\n",
       "\\item '양평군'\n",
       "\\item '여수시'\n",
       "\\item '여주시'\n",
       "\\item '연수구'\n",
       "\\item '연제구'\n",
       "\\item '연천군'\n",
       "\\item '영광군'\n",
       "\\item '영덕군'\n",
       "\\item '영도구'\n",
       "\\item '영동군'\n",
       "\\item '영등포구'\n",
       "\\item '영암군'\n",
       "\\item '영양군'\n",
       "\\item '영월군'\n",
       "\\item '영주시'\n",
       "\\item '영천시'\n",
       "\\item '예산군'\n",
       "\\item '예천군'\n",
       "\\item '오산시'\n",
       "\\item '옥천군'\n",
       "\\item '옹진군'\n",
       "\\item '완도군'\n",
       "\\item '완주군'\n",
       "\\item '용산구'\n",
       "\\item '용인시기흥구'\n",
       "\\item '용인시수지구'\n",
       "\\item '용인시처인구'\n",
       "\\item '울릉군'\n",
       "\\item '울주군'\n",
       "\\item '울진군'\n",
       "\\item '원주시'\n",
       "\\item '유성구'\n",
       "\\item '은평구'\n",
       "\\item '음성군'\n",
       "\\item '의령군'\n",
       "\\item '의성군'\n",
       "\\item '의왕시'\n",
       "\\item '의정부시'\n",
       "\\item '이천시'\n",
       "\\item '익산시'\n",
       "\\item '인제군'\n",
       "\\item '임실군'\n",
       "\\item '장성군'\n",
       "\\item '장수군'\n",
       "\\item '장흥군'\n",
       "\\item '전주시덕진구'\n",
       "\\item '전주시완산구'\n",
       "\\item '정선군'\n",
       "\\item '정읍시'\n",
       "\\item '제주시'\n",
       "\\item '제천시'\n",
       "\\item '종로구'\n",
       "\\item '중구'\n",
       "\\item '중랑구'\n",
       "\\item '증평군'\n",
       "\\item '진도군'\n",
       "\\item '진안군'\n",
       "\\item '진주시'\n",
       "\\item '진천군'\n",
       "\\item '창녕군'\n",
       "\\item '창원시마산합포구'\n",
       "\\item '창원시마산회원구'\n",
       "\\item '창원시성산구'\n",
       "\\item '창원시의창구'\n",
       "\\item '창원시진해구'\n",
       "\\item '천안시동남구'\n",
       "\\item '천안시서북구'\n",
       "\\item '철원군'\n",
       "\\item '청도군'\n",
       "\\item '청송군'\n",
       "\\item '청양군'\n",
       "\\item '청주시상당구'\n",
       "\\item '청주시서원구'\n",
       "\\item '청주시청원구'\n",
       "\\item '청주시흥덕구'\n",
       "\\item '춘천시'\n",
       "\\item '충주시'\n",
       "\\item '칠곡군'\n",
       "\\item '태백시'\n",
       "\\item '태안군'\n",
       "\\item '통영시'\n",
       "\\item '파주시'\n",
       "\\item '평창군'\n",
       "\\item '평택시'\n",
       "\\item '포천시'\n",
       "\\item '포항시남구'\n",
       "\\item '포항시북구'\n",
       "\\item '하남시'\n",
       "\\item '하동군'\n",
       "\\item '함안군'\n",
       "\\item '함양군'\n",
       "\\item '함평군'\n",
       "\\item '합천군'\n",
       "\\item '해남군'\n",
       "\\item '해운대구'\n",
       "\\item '홍성군'\n",
       "\\item '홍천군'\n",
       "\\item '화성시'\n",
       "\\item '화순군'\n",
       "\\item '화천군'\n",
       "\\item '횡성군'\n",
       "\\end{enumerate*}\n"
      ],
      "text/markdown": [
       "1. 부천시\n",
       "2. 송파구\n",
       "3. 남양주시\n",
       "4. 강서구\n",
       "5. 화성시\n",
       "\n",
       "\n",
       "\n",
       "**Levels**: 1. '가평군'\n",
       "2. '강남구'\n",
       "3. '강동구'\n",
       "4. '강릉시'\n",
       "5. '강북구'\n",
       "6. '강서구'\n",
       "7. '강진군'\n",
       "8. '강화군'\n",
       "9. '거제시'\n",
       "10. '거창군'\n",
       "11. '경산시'\n",
       "12. '경주시'\n",
       "13. '계룡시'\n",
       "14. '계양구'\n",
       "15. '고령군'\n",
       "16. '고성군'\n",
       "17. '고양시덕양구'\n",
       "18. '고양시일산동구'\n",
       "19. '고양시일산서구'\n",
       "20. '고창군'\n",
       "21. '고흥군'\n",
       "22. '곡성군'\n",
       "23. '공주시'\n",
       "24. '과천시'\n",
       "25. '관악구'\n",
       "26. '광명시'\n",
       "27. '광산구'\n",
       "28. '광양시'\n",
       "29. '광주시'\n",
       "30. '광진구'\n",
       "31. '괴산군'\n",
       "32. '구례군'\n",
       "33. '구로구'\n",
       "34. '구리시'\n",
       "35. '구미시'\n",
       "36. '군산시'\n",
       "37. '군위군'\n",
       "38. '군포시'\n",
       "39. '금산군'\n",
       "40. '금정구'\n",
       "41. '금천구'\n",
       "42. '기장군'\n",
       "43. '김제시'\n",
       "44. '김천시'\n",
       "45. '김포시'\n",
       "46. '김해시'\n",
       "47. '나주시'\n",
       "48. '남구'\n",
       "49. '남동구'\n",
       "50. '남양주시'\n",
       "51. '남원시'\n",
       "52. '남해군'\n",
       "53. '노원구'\n",
       "54. '논산시'\n",
       "55. '단양군'\n",
       "56. '달서구'\n",
       "57. '달성군'\n",
       "58. '담양군'\n",
       "59. '당진시'\n",
       "60. '대덕구'\n",
       "61. '도봉구'\n",
       "62. '동구'\n",
       "63. '동대문구'\n",
       "64. '동두천시'\n",
       "65. '동래구'\n",
       "66. '동작구'\n",
       "67. '동해시'\n",
       "68. '마포구'\n",
       "69. '목포시'\n",
       "70. '무안군'\n",
       "71. '무주군'\n",
       "72. '문경시'\n",
       "73. '밀양시'\n",
       "74. '보령시'\n",
       "75. '보성군'\n",
       "76. '보은군'\n",
       "77. '봉화군'\n",
       "78. '부산진구'\n",
       "79. '부안군'\n",
       "80. '부여군'\n",
       "81. '부천시'\n",
       "82. '부평구'\n",
       "83. '북구'\n",
       "84. '사상구'\n",
       "85. '사천시'\n",
       "86. '사하구'\n",
       "87. '산청군'\n",
       "88. '삼척시'\n",
       "89. '상주시'\n",
       "90. '서구'\n",
       "91. '서귀포시'\n",
       "92. '서대문구'\n",
       "93. '서산시'\n",
       "94. '서천군'\n",
       "95. '서초구'\n",
       "96. '성남시분당구'\n",
       "97. '성남시수정구'\n",
       "98. '성남시중원구'\n",
       "99. '성동구'\n",
       "100. '성북구'\n",
       "101. '성주군'\n",
       "102. '세종특별자치시'\n",
       "103. '속초시'\n",
       "104. '송파구'\n",
       "105. '수성구'\n",
       "106. '수영구'\n",
       "107. '수원시권선구'\n",
       "108. '수원시영통구'\n",
       "109. '수원시장안구'\n",
       "110. '수원시팔달구'\n",
       "111. '순창군'\n",
       "112. '순천시'\n",
       "113. '시흥시'\n",
       "114. '신안군'\n",
       "115. '아산시'\n",
       "116. '안동시'\n",
       "117. '안산시단원구'\n",
       "118. '안산시상록구'\n",
       "119. '안성시'\n",
       "120. '안양시동안구'\n",
       "121. '안양시만안구'\n",
       "122. '양구군'\n",
       "123. '양산시'\n",
       "124. '양양군'\n",
       "125. '양주시'\n",
       "126. '양천구'\n",
       "127. '양평군'\n",
       "128. '여수시'\n",
       "129. '여주시'\n",
       "130. '연수구'\n",
       "131. '연제구'\n",
       "132. '연천군'\n",
       "133. '영광군'\n",
       "134. '영덕군'\n",
       "135. '영도구'\n",
       "136. '영동군'\n",
       "137. '영등포구'\n",
       "138. '영암군'\n",
       "139. '영양군'\n",
       "140. '영월군'\n",
       "141. '영주시'\n",
       "142. '영천시'\n",
       "143. '예산군'\n",
       "144. '예천군'\n",
       "145. '오산시'\n",
       "146. '옥천군'\n",
       "147. '옹진군'\n",
       "148. '완도군'\n",
       "149. '완주군'\n",
       "150. '용산구'\n",
       "151. '용인시기흥구'\n",
       "152. '용인시수지구'\n",
       "153. '용인시처인구'\n",
       "154. '울릉군'\n",
       "155. '울주군'\n",
       "156. '울진군'\n",
       "157. '원주시'\n",
       "158. '유성구'\n",
       "159. '은평구'\n",
       "160. '음성군'\n",
       "161. '의령군'\n",
       "162. '의성군'\n",
       "163. '의왕시'\n",
       "164. '의정부시'\n",
       "165. '이천시'\n",
       "166. '익산시'\n",
       "167. '인제군'\n",
       "168. '임실군'\n",
       "169. '장성군'\n",
       "170. '장수군'\n",
       "171. '장흥군'\n",
       "172. '전주시덕진구'\n",
       "173. '전주시완산구'\n",
       "174. '정선군'\n",
       "175. '정읍시'\n",
       "176. '제주시'\n",
       "177. '제천시'\n",
       "178. '종로구'\n",
       "179. '중구'\n",
       "180. '중랑구'\n",
       "181. '증평군'\n",
       "182. '진도군'\n",
       "183. '진안군'\n",
       "184. '진주시'\n",
       "185. '진천군'\n",
       "186. '창녕군'\n",
       "187. '창원시마산합포구'\n",
       "188. '창원시마산회원구'\n",
       "189. '창원시성산구'\n",
       "190. '창원시의창구'\n",
       "191. '창원시진해구'\n",
       "192. '천안시동남구'\n",
       "193. '천안시서북구'\n",
       "194. '철원군'\n",
       "195. '청도군'\n",
       "196. '청송군'\n",
       "197. '청양군'\n",
       "198. '청주시상당구'\n",
       "199. '청주시서원구'\n",
       "200. '청주시청원구'\n",
       "201. '청주시흥덕구'\n",
       "202. '춘천시'\n",
       "203. '충주시'\n",
       "204. '칠곡군'\n",
       "205. '태백시'\n",
       "206. '태안군'\n",
       "207. '통영시'\n",
       "208. '파주시'\n",
       "209. '평창군'\n",
       "210. '평택시'\n",
       "211. '포천시'\n",
       "212. '포항시남구'\n",
       "213. '포항시북구'\n",
       "214. '하남시'\n",
       "215. '하동군'\n",
       "216. '함안군'\n",
       "217. '함양군'\n",
       "218. '함평군'\n",
       "219. '합천군'\n",
       "220. '해남군'\n",
       "221. '해운대구'\n",
       "222. '홍성군'\n",
       "223. '홍천군'\n",
       "224. '화성시'\n",
       "225. '화순군'\n",
       "226. '화천군'\n",
       "227. '횡성군'\n",
       "\n",
       "\n"
      ],
      "text/plain": [
       "[1] 부천시   송파구   남양주시 강서구   화성시  \n",
       "227 Levels: 가평군 강남구 강동구 강릉시 강북구 강서구 강진군 강화군 ... 횡성군"
      ]
     },
     "metadata": {},
     "output_type": "display_data"
    }
   ],
   "source": [
    "top5counties <- countySum_ord[1:5, 3]\n",
    "top5counties"
   ]
  },
  {
   "cell_type": "markdown",
   "metadata": {},
   "source": [
    "### aggregate votes by candicates"
   ]
  },
  {
   "cell_type": "code",
   "execution_count": 105,
   "metadata": {},
   "outputs": [
    {
     "data": {
      "text/html": [
       "<table>\n",
       "<caption>A data.frame: 6 × 2</caption>\n",
       "<thead>\n",
       "\t<tr><th></th><th scope=col>시군</th><th scope=col>moon</th></tr>\n",
       "\t<tr><th></th><th scope=col>&lt;fct&gt;</th><th scope=col>&lt;int&gt;</th></tr>\n",
       "</thead>\n",
       "<tbody>\n",
       "\t<tr><th scope=row>1</th><td>가평군</td><td> 10873</td></tr>\n",
       "\t<tr><th scope=row>2</th><td>강남구</td><td>128927</td></tr>\n",
       "\t<tr><th scope=row>3</th><td>강동구</td><td>122511</td></tr>\n",
       "\t<tr><th scope=row>4</th><td>강릉시</td><td> 41565</td></tr>\n",
       "\t<tr><th scope=row>5</th><td>강북구</td><td> 89645</td></tr>\n",
       "\t<tr><th scope=row>6</th><td>강서구</td><td>206665</td></tr>\n",
       "</tbody>\n",
       "</table>\n"
      ],
      "text/latex": [
       "A data.frame: 6 × 2\n",
       "\\begin{tabular}{r|ll}\n",
       "  & 시군 & moon\\\\\n",
       "  & <fct> & <int>\\\\\n",
       "\\hline\n",
       "\t1 & 가평군 &  10873\\\\\n",
       "\t2 & 강남구 & 128927\\\\\n",
       "\t3 & 강동구 & 122511\\\\\n",
       "\t4 & 강릉시 &  41565\\\\\n",
       "\t5 & 강북구 &  89645\\\\\n",
       "\t6 & 강서구 & 206665\\\\\n",
       "\\end{tabular}\n"
      ],
      "text/markdown": [
       "\n",
       "A data.frame: 6 × 2\n",
       "\n",
       "| <!--/--> | 시군 &lt;fct&gt; | moon &lt;int&gt; |\n",
       "|---|---|---|\n",
       "| 1 | 가평군 |  10873 |\n",
       "| 2 | 강남구 | 128927 |\n",
       "| 3 | 강동구 | 122511 |\n",
       "| 4 | 강릉시 |  41565 |\n",
       "| 5 | 강북구 |  89645 |\n",
       "| 6 | 강서구 | 206665 |\n",
       "\n"
      ],
      "text/plain": [
       "  시군   moon  \n",
       "1 가평군  10873\n",
       "2 강남구 128927\n",
       "3 강동구 122511\n",
       "4 강릉시  41565\n",
       "5 강북구  89645\n",
       "6 강서구 206665"
      ]
     },
     "metadata": {},
     "output_type": "display_data"
    }
   ],
   "source": [
    "countyMoonSum <- aggregate(moon ~시군, electionSum, sum)\n",
    "countyHongSum <- aggregate(hong ~시군, electionSum, sum)\n",
    "countyAhnSum  <- aggregate(ahn ~시군, electionSum, sum)\n",
    "countyOthersSum  <- aggregate(others ~시군, electionSum, sum)\n",
    "\n",
    "#countyOthersSum  <- aggregate((pop-moon-hong-ahn) ~시군, electionSum, sum)\n",
    "\n",
    "head(countyMoonSum)"
   ]
  },
  {
   "cell_type": "code",
   "execution_count": 106,
   "metadata": {
    "code_folding": [
     1
    ]
   },
   "outputs": [
    {
     "data": {
      "text/html": [
       "<table>\n",
       "<caption>A data.frame: 1 × 1</caption>\n",
       "<thead>\n",
       "\t<tr><th></th><th scope=col>moon</th></tr>\n",
       "\t<tr><th></th><th scope=col>&lt;int&gt;</th></tr>\n",
       "</thead>\n",
       "<tbody>\n",
       "\t<tr><th scope=row>104</th><td>177328</td></tr>\n",
       "</tbody>\n",
       "</table>\n"
      ],
      "text/latex": [
       "A data.frame: 1 × 1\n",
       "\\begin{tabular}{r|l}\n",
       "  & moon\\\\\n",
       "  & <int>\\\\\n",
       "\\hline\n",
       "\t104 & 177328\\\\\n",
       "\\end{tabular}\n"
      ],
      "text/markdown": [
       "\n",
       "A data.frame: 1 × 1\n",
       "\n",
       "| <!--/--> | moon &lt;int&gt; |\n",
       "|---|---|\n",
       "| 104 | 177328 |\n",
       "\n"
      ],
      "text/plain": [
       "    moon  \n",
       "104 177328"
      ]
     },
     "metadata": {},
     "output_type": "display_data"
    }
   ],
   "source": [
    "subset(countyMoonSum, 시군 == top5counties[2])[2]"
   ]
  },
  {
   "cell_type": "code",
   "execution_count": 107,
   "metadata": {},
   "outputs": [
    {
     "data": {
      "text/html": [
       "<table>\n",
       "<caption>A data.frame: 2 × 1</caption>\n",
       "<thead>\n",
       "\t<tr><th></th><th scope=col>moon</th></tr>\n",
       "\t<tr><th></th><th scope=col>&lt;int&gt;</th></tr>\n",
       "</thead>\n",
       "<tbody>\n",
       "\t<tr><th scope=row>81</th><td>239697</td></tr>\n",
       "\t<tr><th scope=row>104</th><td>177328</td></tr>\n",
       "</tbody>\n",
       "</table>\n"
      ],
      "text/latex": [
       "A data.frame: 2 × 1\n",
       "\\begin{tabular}{r|l}\n",
       "  & moon\\\\\n",
       "  & <int>\\\\\n",
       "\\hline\n",
       "\t81 & 239697\\\\\n",
       "\t104 & 177328\\\\\n",
       "\\end{tabular}\n"
      ],
      "text/markdown": [
       "\n",
       "A data.frame: 2 × 1\n",
       "\n",
       "| <!--/--> | moon &lt;int&gt; |\n",
       "|---|---|\n",
       "| 81 | 239697 |\n",
       "| 104 | 177328 |\n",
       "\n"
      ],
      "text/plain": [
       "    moon  \n",
       "81  239697\n",
       "104 177328"
      ]
     },
     "metadata": {},
     "output_type": "display_data"
    }
   ],
   "source": [
    "rbind(subset(countyMoonSum, 시군 == top5counties[1])[2], \n",
    "                 subset(countyMoonSum, 시군 == top5counties[2])[2])"
   ]
  },
  {
   "cell_type": "markdown",
   "metadata": {},
   "source": [
    "### Find the number of votes for each candicates in those 4 provinces"
   ]
  },
  {
   "cell_type": "code",
   "execution_count": 108,
   "metadata": {},
   "outputs": [
    {
     "data": {
      "text/html": [
       "<table>\n",
       "<caption>A data.frame: 5 × 1</caption>\n",
       "<thead>\n",
       "\t<tr><th></th><th scope=col>moon</th></tr>\n",
       "\t<tr><th></th><th scope=col>&lt;int&gt;</th></tr>\n",
       "</thead>\n",
       "<tbody>\n",
       "\t<tr><th scope=row>81</th><td>239697</td></tr>\n",
       "\t<tr><th scope=row>104</th><td>177328</td></tr>\n",
       "\t<tr><th scope=row>50</th><td>165079</td></tr>\n",
       "\t<tr><th scope=row>6</th><td>206665</td></tr>\n",
       "\t<tr><th scope=row>224</th><td>176940</td></tr>\n",
       "</tbody>\n",
       "</table>\n"
      ],
      "text/latex": [
       "A data.frame: 5 × 1\n",
       "\\begin{tabular}{r|l}\n",
       "  & moon\\\\\n",
       "  & <int>\\\\\n",
       "\\hline\n",
       "\t81 & 239697\\\\\n",
       "\t104 & 177328\\\\\n",
       "\t50 & 165079\\\\\n",
       "\t6 & 206665\\\\\n",
       "\t224 & 176940\\\\\n",
       "\\end{tabular}\n"
      ],
      "text/markdown": [
       "\n",
       "A data.frame: 5 × 1\n",
       "\n",
       "| <!--/--> | moon &lt;int&gt; |\n",
       "|---|---|\n",
       "| 81 | 239697 |\n",
       "| 104 | 177328 |\n",
       "| 50 | 165079 |\n",
       "| 6 | 206665 |\n",
       "| 224 | 176940 |\n",
       "\n"
      ],
      "text/plain": [
       "    moon  \n",
       "81  239697\n",
       "104 177328\n",
       "50  165079\n",
       "6   206665\n",
       "224 176940"
      ]
     },
     "metadata": {},
     "output_type": "display_data"
    },
    {
     "data": {
      "text/html": [
       "<table>\n",
       "<caption>A data.frame: 5 × 4</caption>\n",
       "<thead>\n",
       "\t<tr><th></th><th scope=col>moon</th><th scope=col>hong</th><th scope=col>ahn</th><th scope=col>others</th></tr>\n",
       "\t<tr><th></th><th scope=col>&lt;int&gt;</th><th scope=col>&lt;int&gt;</th><th scope=col>&lt;int&gt;</th><th scope=col>&lt;int&gt;</th></tr>\n",
       "</thead>\n",
       "<tbody>\n",
       "\t<tr><th scope=row>81</th><td>239697</td><td>100544</td><td>128297</td><td>75239</td></tr>\n",
       "\t<tr><th scope=row>104</th><td>177328</td><td> 98549</td><td> 99018</td><td>66303</td></tr>\n",
       "\t<tr><th scope=row>50</th><td>165079</td><td> 86026</td><td> 92048</td><td>54819</td></tr>\n",
       "\t<tr><th scope=row>6</th><td>206665</td><td> 95312</td><td> 98757</td><td>65007</td></tr>\n",
       "\t<tr><th scope=row>224</th><td>176940</td><td> 69014</td><td> 98757</td><td>65007</td></tr>\n",
       "</tbody>\n",
       "</table>\n"
      ],
      "text/latex": [
       "A data.frame: 5 × 4\n",
       "\\begin{tabular}{r|llll}\n",
       "  & moon & hong & ahn & others\\\\\n",
       "  & <int> & <int> & <int> & <int>\\\\\n",
       "\\hline\n",
       "\t81 & 239697 & 100544 & 128297 & 75239\\\\\n",
       "\t104 & 177328 &  98549 &  99018 & 66303\\\\\n",
       "\t50 & 165079 &  86026 &  92048 & 54819\\\\\n",
       "\t6 & 206665 &  95312 &  98757 & 65007\\\\\n",
       "\t224 & 176940 &  69014 &  98757 & 65007\\\\\n",
       "\\end{tabular}\n"
      ],
      "text/markdown": [
       "\n",
       "A data.frame: 5 × 4\n",
       "\n",
       "| <!--/--> | moon &lt;int&gt; | hong &lt;int&gt; | ahn &lt;int&gt; | others &lt;int&gt; |\n",
       "|---|---|---|---|---|\n",
       "| 81 | 239697 | 100544 | 128297 | 75239 |\n",
       "| 104 | 177328 |  98549 |  99018 | 66303 |\n",
       "| 50 | 165079 |  86026 |  92048 | 54819 |\n",
       "| 6 | 206665 |  95312 |  98757 | 65007 |\n",
       "| 224 | 176940 |  69014 |  98757 | 65007 |\n",
       "\n"
      ],
      "text/plain": [
       "    moon   hong   ahn    others\n",
       "81  239697 100544 128297 75239 \n",
       "104 177328  98549  99018 66303 \n",
       "50  165079  86026  92048 54819 \n",
       "6   206665  95312  98757 65007 \n",
       "224 176940  69014  98757 65007 "
      ]
     },
     "metadata": {},
     "output_type": "display_data"
    }
   ],
   "source": [
    "Top5moon = rbind(subset(countyMoonSum, 시군 == top5counties[1])[2], \n",
    "                 subset(countyMoonSum, 시군 == top5counties[2])[2], \n",
    "                 subset(countyMoonSum, 시군 == top5counties[3])[2], \n",
    "                 subset(countyMoonSum, 시군 == top5counties[4])[2], \n",
    "                 subset(countyMoonSum, 시군 == top5counties[5])[2] \n",
    "                )\n",
    "\n",
    "Top5hong = rbind(subset(countyHongSum, 시군 == top5counties[1])[2], \n",
    "                 subset(countyHongSum, 시군 == top5counties[2])[2], \n",
    "                 subset(countyHongSum, 시군 == top5counties[3])[2], \n",
    "                 subset(countyHongSum, 시군 == top5counties[4])[2], \n",
    "                 subset(countyHongSum, 시군 == top5counties[5])[2] \n",
    "                )\n",
    "\n",
    "Top5ahn = rbind(subset(countyAhnSum, 시군 == top5counties[1])[2], \n",
    "                subset(countyAhnSum, 시군 == top5counties[2])[2], \n",
    "                subset(countyAhnSum, 시군 == top5counties[3])[2], \n",
    "                subset(countyAhnSum, 시군 == top5counties[4])[2], \n",
    "                subset(countyAhnSum, 시군 == top5counties[4])[2]\n",
    "                )\n",
    "\n",
    "Top5others = rbind(subset(countyOthersSum, 시군 == top5counties[1])[2], \n",
    "                subset(countyOthersSum, 시군 == top5counties[2])[2], \n",
    "                subset(countyOthersSum, 시군 == top5counties[3])[2], \n",
    "                subset(countyOthersSum, 시군 == top5counties[4])[2], \n",
    "                subset(countyOthersSum, 시군 == top5counties[4])[2] \n",
    "                )\n",
    "\n",
    "Top5moon\n",
    "\n",
    "top5 <- cbind(Top5moon, Top5hong, Top5ahn, Top5others)\n",
    "top5"
   ]
  },
  {
   "cell_type": "markdown",
   "metadata": {},
   "source": [
    "### convert data type and structure into appropriate ones to draw barplot"
   ]
  },
  {
   "cell_type": "code",
   "execution_count": 109,
   "metadata": {},
   "outputs": [
    {
     "data": {
      "text/html": [
       "<table>\n",
       "<caption>A data.frame: 4 × 5</caption>\n",
       "<thead>\n",
       "\t<tr><th></th><th scope=col>81</th><th scope=col>104</th><th scope=col>50</th><th scope=col>6</th><th scope=col>224</th></tr>\n",
       "\t<tr><th></th><th scope=col>&lt;int&gt;</th><th scope=col>&lt;int&gt;</th><th scope=col>&lt;int&gt;</th><th scope=col>&lt;int&gt;</th><th scope=col>&lt;int&gt;</th></tr>\n",
       "</thead>\n",
       "<tbody>\n",
       "\t<tr><th scope=row>moon</th><td>239697</td><td>177328</td><td>165079</td><td>206665</td><td>176940</td></tr>\n",
       "\t<tr><th scope=row>hong</th><td>100544</td><td> 98549</td><td> 86026</td><td> 95312</td><td> 69014</td></tr>\n",
       "\t<tr><th scope=row>ahn</th><td>128297</td><td> 99018</td><td> 92048</td><td> 98757</td><td> 98757</td></tr>\n",
       "\t<tr><th scope=row>others</th><td> 75239</td><td> 66303</td><td> 54819</td><td> 65007</td><td> 65007</td></tr>\n",
       "</tbody>\n",
       "</table>\n"
      ],
      "text/latex": [
       "A data.frame: 4 × 5\n",
       "\\begin{tabular}{r|lllll}\n",
       "  & 81 & 104 & 50 & 6 & 224\\\\\n",
       "  & <int> & <int> & <int> & <int> & <int>\\\\\n",
       "\\hline\n",
       "\tmoon & 239697 & 177328 & 165079 & 206665 & 176940\\\\\n",
       "\thong & 100544 &  98549 &  86026 &  95312 &  69014\\\\\n",
       "\tahn & 128297 &  99018 &  92048 &  98757 &  98757\\\\\n",
       "\tothers &  75239 &  66303 &  54819 &  65007 &  65007\\\\\n",
       "\\end{tabular}\n"
      ],
      "text/markdown": [
       "\n",
       "A data.frame: 4 × 5\n",
       "\n",
       "| <!--/--> | 81 &lt;int&gt; | 104 &lt;int&gt; | 50 &lt;int&gt; | 6 &lt;int&gt; | 224 &lt;int&gt; |\n",
       "|---|---|---|---|---|---|\n",
       "| moon | 239697 | 177328 | 165079 | 206665 | 176940 |\n",
       "| hong | 100544 |  98549 |  86026 |  95312 |  69014 |\n",
       "| ahn | 128297 |  99018 |  92048 |  98757 |  98757 |\n",
       "| others |  75239 |  66303 |  54819 |  65007 |  65007 |\n",
       "\n"
      ],
      "text/plain": [
       "       81     104    50     6      224   \n",
       "moon   239697 177328 165079 206665 176940\n",
       "hong   100544  98549  86026  95312  69014\n",
       "ahn    128297  99018  92048  98757  98757\n",
       "others  75239  66303  54819  65007  65007"
      ]
     },
     "metadata": {},
     "output_type": "display_data"
    }
   ],
   "source": [
    "top5.t.df <- as.data.frame(t(top5)) # to handle data cf.) t(top4): matrix \n",
    "top5.t.df"
   ]
  },
  {
   "cell_type": "code",
   "execution_count": 110,
   "metadata": {},
   "outputs": [
    {
     "data": {
      "text/html": [
       "<table>\n",
       "<caption>A data.frame: 4 × 5</caption>\n",
       "<thead>\n",
       "\t<tr><th></th><th scope=col>부천시</th><th scope=col>송파구</th><th scope=col>남양주시</th><th scope=col>강서구</th><th scope=col>화성시</th></tr>\n",
       "\t<tr><th></th><th scope=col>&lt;int&gt;</th><th scope=col>&lt;int&gt;</th><th scope=col>&lt;int&gt;</th><th scope=col>&lt;int&gt;</th><th scope=col>&lt;int&gt;</th></tr>\n",
       "</thead>\n",
       "<tbody>\n",
       "\t<tr><th scope=row>moon</th><td>239697</td><td>177328</td><td>165079</td><td>206665</td><td>176940</td></tr>\n",
       "\t<tr><th scope=row>hong</th><td>100544</td><td> 98549</td><td> 86026</td><td> 95312</td><td> 69014</td></tr>\n",
       "\t<tr><th scope=row>ahn</th><td>128297</td><td> 99018</td><td> 92048</td><td> 98757</td><td> 98757</td></tr>\n",
       "\t<tr><th scope=row>others</th><td> 75239</td><td> 66303</td><td> 54819</td><td> 65007</td><td> 65007</td></tr>\n",
       "</tbody>\n",
       "</table>\n"
      ],
      "text/latex": [
       "A data.frame: 4 × 5\n",
       "\\begin{tabular}{r|lllll}\n",
       "  & 부천시 & 송파구 & 남양주시 & 강서구 & 화성시\\\\\n",
       "  & <int> & <int> & <int> & <int> & <int>\\\\\n",
       "\\hline\n",
       "\tmoon & 239697 & 177328 & 165079 & 206665 & 176940\\\\\n",
       "\thong & 100544 &  98549 &  86026 &  95312 &  69014\\\\\n",
       "\tahn & 128297 &  99018 &  92048 &  98757 &  98757\\\\\n",
       "\tothers &  75239 &  66303 &  54819 &  65007 &  65007\\\\\n",
       "\\end{tabular}\n"
      ],
      "text/markdown": [
       "\n",
       "A data.frame: 4 × 5\n",
       "\n",
       "| <!--/--> | 부천시 &lt;int&gt; | 송파구 &lt;int&gt; | 남양주시 &lt;int&gt; | 강서구 &lt;int&gt; | 화성시 &lt;int&gt; |\n",
       "|---|---|---|---|---|---|\n",
       "| moon | 239697 | 177328 | 165079 | 206665 | 176940 |\n",
       "| hong | 100544 |  98549 |  86026 |  95312 |  69014 |\n",
       "| ahn | 128297 |  99018 |  92048 |  98757 |  98757 |\n",
       "| others |  75239 |  66303 |  54819 |  65007 |  65007 |\n",
       "\n"
      ],
      "text/plain": [
       "       부천시 송파구 남양주시 강서구 화성시\n",
       "moon   239697 177328 165079   206665 176940\n",
       "hong   100544  98549  86026    95312  69014\n",
       "ahn    128297  99018  92048    98757  98757\n",
       "others  75239  66303  54819    65007  65007"
      ]
     },
     "metadata": {},
     "output_type": "display_data"
    },
    {
     "data": {
      "text/html": [
       "<table>\n",
       "<caption>A data.frame: 4 × 5</caption>\n",
       "<thead>\n",
       "\t<tr><th></th><th scope=col>부천시</th><th scope=col>송파구</th><th scope=col>남양주시</th><th scope=col>강서구</th><th scope=col>화성시</th></tr>\n",
       "\t<tr><th></th><th scope=col>&lt;int&gt;</th><th scope=col>&lt;int&gt;</th><th scope=col>&lt;int&gt;</th><th scope=col>&lt;int&gt;</th><th scope=col>&lt;int&gt;</th></tr>\n",
       "</thead>\n",
       "<tbody>\n",
       "\t<tr><th scope=row>Moon</th><td>239697</td><td>177328</td><td>165079</td><td>206665</td><td>176940</td></tr>\n",
       "\t<tr><th scope=row>Hong</th><td>100544</td><td> 98549</td><td> 86026</td><td> 95312</td><td> 69014</td></tr>\n",
       "\t<tr><th scope=row>Ahn</th><td>128297</td><td> 99018</td><td> 92048</td><td> 98757</td><td> 98757</td></tr>\n",
       "\t<tr><th scope=row>Others</th><td> 75239</td><td> 66303</td><td> 54819</td><td> 65007</td><td> 65007</td></tr>\n",
       "</tbody>\n",
       "</table>\n"
      ],
      "text/latex": [
       "A data.frame: 4 × 5\n",
       "\\begin{tabular}{r|lllll}\n",
       "  & 부천시 & 송파구 & 남양주시 & 강서구 & 화성시\\\\\n",
       "  & <int> & <int> & <int> & <int> & <int>\\\\\n",
       "\\hline\n",
       "\tMoon & 239697 & 177328 & 165079 & 206665 & 176940\\\\\n",
       "\tHong & 100544 &  98549 &  86026 &  95312 &  69014\\\\\n",
       "\tAhn & 128297 &  99018 &  92048 &  98757 &  98757\\\\\n",
       "\tOthers &  75239 &  66303 &  54819 &  65007 &  65007\\\\\n",
       "\\end{tabular}\n"
      ],
      "text/markdown": [
       "\n",
       "A data.frame: 4 × 5\n",
       "\n",
       "| <!--/--> | 부천시 &lt;int&gt; | 송파구 &lt;int&gt; | 남양주시 &lt;int&gt; | 강서구 &lt;int&gt; | 화성시 &lt;int&gt; |\n",
       "|---|---|---|---|---|---|\n",
       "| Moon | 239697 | 177328 | 165079 | 206665 | 176940 |\n",
       "| Hong | 100544 |  98549 |  86026 |  95312 |  69014 |\n",
       "| Ahn | 128297 |  99018 |  92048 |  98757 |  98757 |\n",
       "| Others |  75239 |  66303 |  54819 |  65007 |  65007 |\n",
       "\n"
      ],
      "text/plain": [
       "       부천시 송파구 남양주시 강서구 화성시\n",
       "Moon   239697 177328 165079   206665 176940\n",
       "Hong   100544  98549  86026    95312  69014\n",
       "Ahn    128297  99018  92048    98757  98757\n",
       "Others  75239  66303  54819    65007  65007"
      ]
     },
     "metadata": {},
     "output_type": "display_data"
    }
   ],
   "source": [
    "# change colnames and rownames\n",
    "colnames(top5.t.df) <- c(\"부천시\", \"송파구\", \"남양주시\", \"강서구\", \"화성시\")\n",
    "top5.t.df\n",
    "\n",
    "rownames(top5.t.df) <- c(\"Moon\", \"Hong\", \"Ahn\", \"Others\")\n",
    "top5.t.df"
   ]
  },
  {
   "cell_type": "code",
   "execution_count": 111,
   "metadata": {},
   "outputs": [
    {
     "data": {
      "text/html": [
       "<table>\n",
       "<caption>A matrix: 4 × 5 of type int</caption>\n",
       "<thead>\n",
       "\t<tr><th></th><th scope=col>부천시</th><th scope=col>송파구</th><th scope=col>남양주시</th><th scope=col>강서구</th><th scope=col>화성시</th></tr>\n",
       "</thead>\n",
       "<tbody>\n",
       "\t<tr><th scope=row>Moon</th><td>239697</td><td>177328</td><td>165079</td><td>206665</td><td>176940</td></tr>\n",
       "\t<tr><th scope=row>Hong</th><td>100544</td><td> 98549</td><td> 86026</td><td> 95312</td><td> 69014</td></tr>\n",
       "\t<tr><th scope=row>Ahn</th><td>128297</td><td> 99018</td><td> 92048</td><td> 98757</td><td> 98757</td></tr>\n",
       "\t<tr><th scope=row>Others</th><td> 75239</td><td> 66303</td><td> 54819</td><td> 65007</td><td> 65007</td></tr>\n",
       "</tbody>\n",
       "</table>\n"
      ],
      "text/latex": [
       "A matrix: 4 × 5 of type int\n",
       "\\begin{tabular}{r|lllll}\n",
       "  & 부천시 & 송파구 & 남양주시 & 강서구 & 화성시\\\\\n",
       "\\hline\n",
       "\tMoon & 239697 & 177328 & 165079 & 206665 & 176940\\\\\n",
       "\tHong & 100544 &  98549 &  86026 &  95312 &  69014\\\\\n",
       "\tAhn & 128297 &  99018 &  92048 &  98757 &  98757\\\\\n",
       "\tOthers &  75239 &  66303 &  54819 &  65007 &  65007\\\\\n",
       "\\end{tabular}\n"
      ],
      "text/markdown": [
       "\n",
       "A matrix: 4 × 5 of type int\n",
       "\n",
       "| <!--/--> | 부천시 | 송파구 | 남양주시 | 강서구 | 화성시 |\n",
       "|---|---|---|---|---|---|\n",
       "| Moon | 239697 | 177328 | 165079 | 206665 | 176940 |\n",
       "| Hong | 100544 |  98549 |  86026 |  95312 |  69014 |\n",
       "| Ahn | 128297 |  99018 |  92048 |  98757 |  98757 |\n",
       "| Others |  75239 |  66303 |  54819 |  65007 |  65007 |\n",
       "\n"
      ],
      "text/plain": [
       "       부천시 송파구 남양주시 강서구 화성시\n",
       "Moon   239697 177328 165079   206665 176940\n",
       "Hong   100544  98549  86026    95312  69014\n",
       "Ahn    128297  99018  92048    98757  98757\n",
       "Others  75239  66303  54819    65007  65007"
      ]
     },
     "metadata": {},
     "output_type": "display_data"
    }
   ],
   "source": [
    "top5matrix <- as.matrix(top5.t.df) # to draw barplot\n",
    "top5matrix # each columns will be a bar in barplot"
   ]
  },
  {
   "cell_type": "markdown",
   "metadata": {},
   "source": [
    "### barplot"
   ]
  },
  {
   "cell_type": "code",
   "execution_count": 112,
   "metadata": {},
   "outputs": [
    {
     "data": {
      "image/png": "[encoded data removed]",
      "text/plain": [
       "Plot with title “The counties with top 5 most votes”"
      ]
     },
     "metadata": {
      "image/png": {
       "height": 420,
       "width": 420
      },
      "text/plain": {
       "height": 420,
       "width": 420
      }
     },
     "output_type": "display_data"
    }
   ],
   "source": [
    "library(RColorBrewer)\n",
    "\n",
    "options(scipen=100)\n",
    "\n",
    "barplot(top5matrix,\n",
    "       ylim = c(0, 600000),\n",
    "       main = \"The counties with top 5 most votes\",\n",
    "       col = c(\"sky blue\", \"red\", \"light green\", \"gray\"), # Color of each party\n",
    "       legend.text = T,\n",
    "       xlab = \"counties\",\n",
    "       ylab = \"Number of votes\"\n",
    "       )"
   ]
  },
  {
   "cell_type": "code",
   "execution_count": 113,
   "metadata": {},
   "outputs": [
    {
     "data": {
      "image/png": "[encoded data removed]",
      "text/plain": [
       "Plot with title “The counties with top 5 most votes”"
      ]
     },
     "metadata": {
      "image/png": {
       "height": 420,
       "width": 420
      },
      "text/plain": {
       "height": 420,
       "width": 420
      }
     },
     "output_type": "display_data"
    }
   ],
   "source": [
    "barplot(top5matrix,\n",
    "       ylim = c(0, 250000),\n",
    "       main = \"The counties with top 5 most votes\",\n",
    "       col = c(\"sky blue\", \"red\", \"light green\", \"gray\"), # Color of each party\n",
    "       legend.text = T,\n",
    "       xlab = \"counties\",\n",
    "       ylab = \"Number of votes\",\n",
    "       beside = T \n",
    "       )"
   ]
  },
  {
   "cell_type": "code",
   "execution_count": null,
   "metadata": {},
   "outputs": [],
   "source": []
  },
  {
   "cell_type": "code",
   "execution_count": null,
   "metadata": {},
   "outputs": [],
   "source": []
  },
  {
   "cell_type": "markdown",
   "metadata": {},
   "source": [
    "###### Reference"
   ]
  },
  {
   "cell_type": "markdown",
   "metadata": {},
   "source": [
    "http://m.nec.go.kr/bos/cmm/fms/FileDown?atchFileId=d9385d27b8c762fa43e45b57073bb3814957eb53de1fa7f3d309d6e3516dbcc8&fileSn=1"
   ]
  }
 ],
 "metadata": {
  "kernelspec": {
   "display_name": "R",
   "language": "R",
   "name": "ir"
  },
  "language_info": {
   "codemirror_mode": "r",
   "file_extension": ".r",
   "mimetype": "text/x-r-source",
   "name": "R",
   "pygments_lexer": "r",
   "version": "3.6.1"
  },
  "latex_envs": {
   "LaTeX_envs_menu_present": true,
   "autoclose": false,
   "autocomplete": true,
   "bibliofile": "biblio.bib",
   "cite_by": "apalike",
   "current_citInitial": 1,
   "eqLabelWithNumbers": true,
   "eqNumInitial": 1,
   "hotkeys": {
    "equation": "Ctrl-E",
    "itemize": "Ctrl-I"
   },
   "labels_anchors": false,
   "latex_user_defs": false,
   "report_style_numbering": false,
   "user_envs_cfg": false
  },
  "toc": {
   "base_numbering": 1,
   "nav_menu": {},
   "number_sections": true,
   "sideBar": true,
   "skip_h1_title": false,
   "title_cell": "Table of Contents",
   "title_sidebar": "Contents",
   "toc_cell": false,
   "toc_position": {
    "height": "calc(100% - 180px)",
    "left": "10px",
    "top": "150px",
    "width": "188.797px"
   },
   "toc_section_display": true,
   "toc_window_display": true
  },
  "varInspector": {
   "cols": {
    "lenName": 16,
    "lenType": 16,
    "lenVar": 40
   },
   "kernels_config": {
    "python": {
     "delete_cmd_postfix": "",
     "delete_cmd_prefix": "del ",
     "library": "var_list.py",
     "varRefreshCmd": "print(var_dic_list())"
    },
    "r": {
     "delete_cmd_postfix": ") ",
     "delete_cmd_prefix": "rm(",
     "library": "var_list.r",
     "varRefreshCmd": "cat(var_dic_list()) "
    }
   },
   "types_to_exclude": [
    "module",
    "function",
    "builtin_function_or_method",
    "instance",
    "_Feature"
   ],
   "window_display": false
  }
 },
 "nbformat": 4,
 "nbformat_minor": 2
}
