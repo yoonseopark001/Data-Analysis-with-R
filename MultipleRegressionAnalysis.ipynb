{
 "cells": [
  {
   "cell_type": "markdown",
   "metadata": {},
   "source": [
    "# Multiple Regression Analysis"
   ]
  },
  {
   "cell_type": "markdown",
   "metadata": {},
   "source": [
    "## Data\n",
    "### The Chatterjee–Price Attitude Data\n",
    "From a survey of the clerical employees of a large financial organization, the data are aggregated from the questionnaires of the approximately 35 employees for each of 30 (randomly selected) departments. The numbers give the percent proportion of favourable responses to seven questions in each department"
   ]
  },
  {
   "cell_type": "code",
   "execution_count": 8,
   "metadata": {},
   "outputs": [],
   "source": [
    "data(attitude) # a base dataset in R"
   ]
  },
  {
   "cell_type": "code",
   "execution_count": 10,
   "metadata": {},
   "outputs": [],
   "source": [
    "# help(attitude)\n",
    "# write.csv(attitude, \"./Data/attitude.csv\")\n",
    "# attitude <- read.csv(\"./Data/attitude.csv\")"
   ]
  },
  {
   "cell_type": "code",
   "execution_count": null,
   "metadata": {},
   "outputs": [],
   "source": [
    "Which variables most affects the rating?"
   ]
  },
  {
   "cell_type": "markdown",
   "metadata": {},
   "source": [
    "### Data Exploration"
   ]
  },
  {
   "cell_type": "code",
   "execution_count": 14,
   "metadata": {},
   "outputs": [
    {
     "data": {
      "text/html": [
       "<table>\n",
       "<caption>A data.frame: 6 × 7</caption>\n",
       "<thead>\n",
       "\t<tr><th></th><th scope=col>rating</th><th scope=col>complaints</th><th scope=col>privileges</th><th scope=col>learning</th><th scope=col>raises</th><th scope=col>critical</th><th scope=col>advance</th></tr>\n",
       "\t<tr><th></th><th scope=col>&lt;dbl&gt;</th><th scope=col>&lt;dbl&gt;</th><th scope=col>&lt;dbl&gt;</th><th scope=col>&lt;dbl&gt;</th><th scope=col>&lt;dbl&gt;</th><th scope=col>&lt;dbl&gt;</th><th scope=col>&lt;dbl&gt;</th></tr>\n",
       "</thead>\n",
       "<tbody>\n",
       "\t<tr><th scope=row>1</th><td>43</td><td>51</td><td>30</td><td>39</td><td>61</td><td>92</td><td>45</td></tr>\n",
       "\t<tr><th scope=row>2</th><td>63</td><td>64</td><td>51</td><td>54</td><td>63</td><td>73</td><td>47</td></tr>\n",
       "\t<tr><th scope=row>3</th><td>71</td><td>70</td><td>68</td><td>69</td><td>76</td><td>86</td><td>48</td></tr>\n",
       "\t<tr><th scope=row>4</th><td>61</td><td>63</td><td>45</td><td>47</td><td>54</td><td>84</td><td>35</td></tr>\n",
       "\t<tr><th scope=row>5</th><td>81</td><td>78</td><td>56</td><td>66</td><td>71</td><td>83</td><td>47</td></tr>\n",
       "\t<tr><th scope=row>6</th><td>43</td><td>55</td><td>49</td><td>44</td><td>54</td><td>49</td><td>34</td></tr>\n",
       "</tbody>\n",
       "</table>\n"
      ],
      "text/latex": [
       "A data.frame: 6 × 7\n",
       "\\begin{tabular}{r|lllllll}\n",
       "  & rating & complaints & privileges & learning & raises & critical & advance\\\\\n",
       "  & <dbl> & <dbl> & <dbl> & <dbl> & <dbl> & <dbl> & <dbl>\\\\\n",
       "\\hline\n",
       "\t1 & 43 & 51 & 30 & 39 & 61 & 92 & 45\\\\\n",
       "\t2 & 63 & 64 & 51 & 54 & 63 & 73 & 47\\\\\n",
       "\t3 & 71 & 70 & 68 & 69 & 76 & 86 & 48\\\\\n",
       "\t4 & 61 & 63 & 45 & 47 & 54 & 84 & 35\\\\\n",
       "\t5 & 81 & 78 & 56 & 66 & 71 & 83 & 47\\\\\n",
       "\t6 & 43 & 55 & 49 & 44 & 54 & 49 & 34\\\\\n",
       "\\end{tabular}\n"
      ],
      "text/markdown": [
       "\n",
       "A data.frame: 6 × 7\n",
       "\n",
       "| <!--/--> | rating &lt;dbl&gt; | complaints &lt;dbl&gt; | privileges &lt;dbl&gt; | learning &lt;dbl&gt; | raises &lt;dbl&gt; | critical &lt;dbl&gt; | advance &lt;dbl&gt; |\n",
       "|---|---|---|---|---|---|---|---|\n",
       "| 1 | 43 | 51 | 30 | 39 | 61 | 92 | 45 |\n",
       "| 2 | 63 | 64 | 51 | 54 | 63 | 73 | 47 |\n",
       "| 3 | 71 | 70 | 68 | 69 | 76 | 86 | 48 |\n",
       "| 4 | 61 | 63 | 45 | 47 | 54 | 84 | 35 |\n",
       "| 5 | 81 | 78 | 56 | 66 | 71 | 83 | 47 |\n",
       "| 6 | 43 | 55 | 49 | 44 | 54 | 49 | 34 |\n",
       "\n"
      ],
      "text/plain": [
       "  rating complaints privileges learning raises critical advance\n",
       "1 43     51         30         39       61     92       45     \n",
       "2 63     64         51         54       63     73       47     \n",
       "3 71     70         68         69       76     86       48     \n",
       "4 61     63         45         47       54     84       35     \n",
       "5 81     78         56         66       71     83       47     \n",
       "6 43     55         49         44       54     49       34     "
      ]
     },
     "metadata": {},
     "output_type": "display_data"
    },
    {
     "data": {
      "text/html": [
       "<table>\n",
       "<caption>A data.frame: 6 × 7</caption>\n",
       "<thead>\n",
       "\t<tr><th></th><th scope=col>rating</th><th scope=col>complaints</th><th scope=col>privileges</th><th scope=col>learning</th><th scope=col>raises</th><th scope=col>critical</th><th scope=col>advance</th></tr>\n",
       "\t<tr><th></th><th scope=col>&lt;dbl&gt;</th><th scope=col>&lt;dbl&gt;</th><th scope=col>&lt;dbl&gt;</th><th scope=col>&lt;dbl&gt;</th><th scope=col>&lt;dbl&gt;</th><th scope=col>&lt;dbl&gt;</th><th scope=col>&lt;dbl&gt;</th></tr>\n",
       "</thead>\n",
       "<tbody>\n",
       "\t<tr><th scope=row>25</th><td>63</td><td>54</td><td>42</td><td>48</td><td>66</td><td>75</td><td>33</td></tr>\n",
       "\t<tr><th scope=row>26</th><td>66</td><td>77</td><td>66</td><td>63</td><td>88</td><td>76</td><td>72</td></tr>\n",
       "\t<tr><th scope=row>27</th><td>78</td><td>75</td><td>58</td><td>74</td><td>80</td><td>78</td><td>49</td></tr>\n",
       "\t<tr><th scope=row>28</th><td>48</td><td>57</td><td>44</td><td>45</td><td>51</td><td>83</td><td>38</td></tr>\n",
       "\t<tr><th scope=row>29</th><td>85</td><td>85</td><td>71</td><td>71</td><td>77</td><td>74</td><td>55</td></tr>\n",
       "\t<tr><th scope=row>30</th><td>82</td><td>82</td><td>39</td><td>59</td><td>64</td><td>78</td><td>39</td></tr>\n",
       "</tbody>\n",
       "</table>\n"
      ],
      "text/latex": [
       "A data.frame: 6 × 7\n",
       "\\begin{tabular}{r|lllllll}\n",
       "  & rating & complaints & privileges & learning & raises & critical & advance\\\\\n",
       "  & <dbl> & <dbl> & <dbl> & <dbl> & <dbl> & <dbl> & <dbl>\\\\\n",
       "\\hline\n",
       "\t25 & 63 & 54 & 42 & 48 & 66 & 75 & 33\\\\\n",
       "\t26 & 66 & 77 & 66 & 63 & 88 & 76 & 72\\\\\n",
       "\t27 & 78 & 75 & 58 & 74 & 80 & 78 & 49\\\\\n",
       "\t28 & 48 & 57 & 44 & 45 & 51 & 83 & 38\\\\\n",
       "\t29 & 85 & 85 & 71 & 71 & 77 & 74 & 55\\\\\n",
       "\t30 & 82 & 82 & 39 & 59 & 64 & 78 & 39\\\\\n",
       "\\end{tabular}\n"
      ],
      "text/markdown": [
       "\n",
       "A data.frame: 6 × 7\n",
       "\n",
       "| <!--/--> | rating &lt;dbl&gt; | complaints &lt;dbl&gt; | privileges &lt;dbl&gt; | learning &lt;dbl&gt; | raises &lt;dbl&gt; | critical &lt;dbl&gt; | advance &lt;dbl&gt; |\n",
       "|---|---|---|---|---|---|---|---|\n",
       "| 25 | 63 | 54 | 42 | 48 | 66 | 75 | 33 |\n",
       "| 26 | 66 | 77 | 66 | 63 | 88 | 76 | 72 |\n",
       "| 27 | 78 | 75 | 58 | 74 | 80 | 78 | 49 |\n",
       "| 28 | 48 | 57 | 44 | 45 | 51 | 83 | 38 |\n",
       "| 29 | 85 | 85 | 71 | 71 | 77 | 74 | 55 |\n",
       "| 30 | 82 | 82 | 39 | 59 | 64 | 78 | 39 |\n",
       "\n"
      ],
      "text/plain": [
       "   rating complaints privileges learning raises critical advance\n",
       "25 63     54         42         48       66     75       33     \n",
       "26 66     77         66         63       88     76       72     \n",
       "27 78     75         58         74       80     78       49     \n",
       "28 48     57         44         45       51     83       38     \n",
       "29 85     85         71         71       77     74       55     \n",
       "30 82     82         39         59       64     78       39     "
      ]
     },
     "metadata": {},
     "output_type": "display_data"
    }
   ],
   "source": [
    "head(attitude)\n",
    "tail(attitude)"
   ]
  },
  {
   "cell_type": "code",
   "execution_count": 15,
   "metadata": {},
   "outputs": [
    {
     "data": {
      "text/plain": [
       "     rating        complaints     privileges       learning         raises     \n",
       " Min.   :40.00   Min.   :37.0   Min.   :30.00   Min.   :34.00   Min.   :43.00  \n",
       " 1st Qu.:58.75   1st Qu.:58.5   1st Qu.:45.00   1st Qu.:47.00   1st Qu.:58.25  \n",
       " Median :65.50   Median :65.0   Median :51.50   Median :56.50   Median :63.50  \n",
       " Mean   :64.63   Mean   :66.6   Mean   :53.13   Mean   :56.37   Mean   :64.63  \n",
       " 3rd Qu.:71.75   3rd Qu.:77.0   3rd Qu.:62.50   3rd Qu.:66.75   3rd Qu.:71.00  \n",
       " Max.   :85.00   Max.   :90.0   Max.   :83.00   Max.   :75.00   Max.   :88.00  \n",
       "    critical        advance     \n",
       " Min.   :49.00   Min.   :25.00  \n",
       " 1st Qu.:69.25   1st Qu.:35.00  \n",
       " Median :77.50   Median :41.00  \n",
       " Mean   :74.77   Mean   :42.93  \n",
       " 3rd Qu.:80.00   3rd Qu.:47.75  \n",
       " Max.   :92.00   Max.   :72.00  "
      ]
     },
     "metadata": {},
     "output_type": "display_data"
    }
   ],
   "source": [
    "summary(attitude)"
   ]
  },
  {
   "cell_type": "markdown",
   "metadata": {},
   "source": [
    ": The mean and median are close together."
   ]
  },
  {
   "cell_type": "code",
   "execution_count": 16,
   "metadata": {},
   "outputs": [
    {
     "name": "stdout",
     "output_type": "stream",
     "text": [
      "'data.frame':\t30 obs. of  7 variables:\n",
      " $ rating    : num  43 63 71 61 81 43 58 71 72 67 ...\n",
      " $ complaints: num  51 64 70 63 78 55 67 75 82 61 ...\n",
      " $ privileges: num  30 51 68 45 56 49 42 50 72 45 ...\n",
      " $ learning  : num  39 54 69 47 66 44 56 55 67 47 ...\n",
      " $ raises    : num  61 63 76 54 71 54 66 70 71 62 ...\n",
      " $ critical  : num  92 73 86 84 83 49 68 66 83 80 ...\n",
      " $ advance   : num  45 47 48 35 47 34 35 41 31 41 ...\n"
     ]
    }
   ],
   "source": [
    "str(attitude)"
   ]
  },
  {
   "cell_type": "code",
   "execution_count": 18,
   "metadata": {},
   "outputs": [
    {
     "data": {
      "image/png": "[encoded data removed]",
      "text/plain": [
       "plot without title"
      ]
     },
     "metadata": {
      "image/png": {
       "height": 420,
       "width": 420
      },
      "text/plain": {
       "height": 420,
       "width": 420
      }
     },
     "output_type": "display_data"
    }
   ],
   "source": [
    "boxplot(attitude)"
   ]
  },
  {
   "cell_type": "code",
   "execution_count": 20,
   "metadata": {
    "scrolled": true
   },
   "outputs": [
    {
     "data": {
      "text/html": [
       "<table>\n",
       "<caption>A matrix: 7 × 7 of type dbl</caption>\n",
       "<thead>\n",
       "\t<tr><th></th><th scope=col>rating</th><th scope=col>complaints</th><th scope=col>privileges</th><th scope=col>learning</th><th scope=col>raises</th><th scope=col>critical</th><th scope=col>advance</th></tr>\n",
       "</thead>\n",
       "<tbody>\n",
       "\t<tr><th scope=row>rating</th><td>1.0000000</td><td>0.8254176</td><td>0.4261169</td><td>0.6236782</td><td>0.5901390</td><td>0.1564392</td><td>0.1550863</td></tr>\n",
       "\t<tr><th scope=row>complaints</th><td>0.8254176</td><td>1.0000000</td><td>0.5582882</td><td>0.5967358</td><td>0.6691975</td><td>0.1877143</td><td>0.2245796</td></tr>\n",
       "\t<tr><th scope=row>privileges</th><td>0.4261169</td><td>0.5582882</td><td>1.0000000</td><td>0.4933310</td><td>0.4454779</td><td>0.1472331</td><td>0.3432934</td></tr>\n",
       "\t<tr><th scope=row>learning</th><td>0.6236782</td><td>0.5967358</td><td>0.4933310</td><td>1.0000000</td><td>0.6403144</td><td>0.1159652</td><td>0.5316198</td></tr>\n",
       "\t<tr><th scope=row>raises</th><td>0.5901390</td><td>0.6691975</td><td>0.4454779</td><td>0.6403144</td><td>1.0000000</td><td>0.3768830</td><td>0.5741862</td></tr>\n",
       "\t<tr><th scope=row>critical</th><td>0.1564392</td><td>0.1877143</td><td>0.1472331</td><td>0.1159652</td><td>0.3768830</td><td>1.0000000</td><td>0.2833432</td></tr>\n",
       "\t<tr><th scope=row>advance</th><td>0.1550863</td><td>0.2245796</td><td>0.3432934</td><td>0.5316198</td><td>0.5741862</td><td>0.2833432</td><td>1.0000000</td></tr>\n",
       "</tbody>\n",
       "</table>\n"
      ],
      "text/latex": [
       "A matrix: 7 × 7 of type dbl\n",
       "\\begin{tabular}{r|lllllll}\n",
       "  & rating & complaints & privileges & learning & raises & critical & advance\\\\\n",
       "\\hline\n",
       "\trating & 1.0000000 & 0.8254176 & 0.4261169 & 0.6236782 & 0.5901390 & 0.1564392 & 0.1550863\\\\\n",
       "\tcomplaints & 0.8254176 & 1.0000000 & 0.5582882 & 0.5967358 & 0.6691975 & 0.1877143 & 0.2245796\\\\\n",
       "\tprivileges & 0.4261169 & 0.5582882 & 1.0000000 & 0.4933310 & 0.4454779 & 0.1472331 & 0.3432934\\\\\n",
       "\tlearning & 0.6236782 & 0.5967358 & 0.4933310 & 1.0000000 & 0.6403144 & 0.1159652 & 0.5316198\\\\\n",
       "\traises & 0.5901390 & 0.6691975 & 0.4454779 & 0.6403144 & 1.0000000 & 0.3768830 & 0.5741862\\\\\n",
       "\tcritical & 0.1564392 & 0.1877143 & 0.1472331 & 0.1159652 & 0.3768830 & 1.0000000 & 0.2833432\\\\\n",
       "\tadvance & 0.1550863 & 0.2245796 & 0.3432934 & 0.5316198 & 0.5741862 & 0.2833432 & 1.0000000\\\\\n",
       "\\end{tabular}\n"
      ],
      "text/markdown": [
       "\n",
       "A matrix: 7 × 7 of type dbl\n",
       "\n",
       "| <!--/--> | rating | complaints | privileges | learning | raises | critical | advance |\n",
       "|---|---|---|---|---|---|---|---|\n",
       "| rating | 1.0000000 | 0.8254176 | 0.4261169 | 0.6236782 | 0.5901390 | 0.1564392 | 0.1550863 |\n",
       "| complaints | 0.8254176 | 1.0000000 | 0.5582882 | 0.5967358 | 0.6691975 | 0.1877143 | 0.2245796 |\n",
       "| privileges | 0.4261169 | 0.5582882 | 1.0000000 | 0.4933310 | 0.4454779 | 0.1472331 | 0.3432934 |\n",
       "| learning | 0.6236782 | 0.5967358 | 0.4933310 | 1.0000000 | 0.6403144 | 0.1159652 | 0.5316198 |\n",
       "| raises | 0.5901390 | 0.6691975 | 0.4454779 | 0.6403144 | 1.0000000 | 0.3768830 | 0.5741862 |\n",
       "| critical | 0.1564392 | 0.1877143 | 0.1472331 | 0.1159652 | 0.3768830 | 1.0000000 | 0.2833432 |\n",
       "| advance | 0.1550863 | 0.2245796 | 0.3432934 | 0.5316198 | 0.5741862 | 0.2833432 | 1.0000000 |\n",
       "\n"
      ],
      "text/plain": [
       "           rating    complaints privileges learning  raises    critical \n",
       "rating     1.0000000 0.8254176  0.4261169  0.6236782 0.5901390 0.1564392\n",
       "complaints 0.8254176 1.0000000  0.5582882  0.5967358 0.6691975 0.1877143\n",
       "privileges 0.4261169 0.5582882  1.0000000  0.4933310 0.4454779 0.1472331\n",
       "learning   0.6236782 0.5967358  0.4933310  1.0000000 0.6403144 0.1159652\n",
       "raises     0.5901390 0.6691975  0.4454779  0.6403144 1.0000000 0.3768830\n",
       "critical   0.1564392 0.1877143  0.1472331  0.1159652 0.3768830 1.0000000\n",
       "advance    0.1550863 0.2245796  0.3432934  0.5316198 0.5741862 0.2833432\n",
       "           advance  \n",
       "rating     0.1550863\n",
       "complaints 0.2245796\n",
       "privileges 0.3432934\n",
       "learning   0.5316198\n",
       "raises     0.5741862\n",
       "critical   0.2833432\n",
       "advance    1.0000000"
      ]
     },
     "metadata": {},
     "output_type": "display_data"
    }
   ],
   "source": [
    "cor(attitude)"
   ]
  },
  {
   "cell_type": "markdown",
   "metadata": {},
   "source": [
    "## Multiple Regression"
   ]
  },
  {
   "cell_type": "markdown",
   "metadata": {},
   "source": [
    "### with all variables"
   ]
  },
  {
   "cell_type": "code",
   "execution_count": 22,
   "metadata": {},
   "outputs": [
    {
     "data": {
      "text/plain": [
       "\n",
       "Call:\n",
       "lm(formula = rating ~ ., data = attitude)\n",
       "\n",
       "Coefficients:\n",
       "(Intercept)   complaints   privileges     learning       raises     critical  \n",
       "   10.78708      0.61319     -0.07305      0.32033      0.08173      0.03838  \n",
       "    advance  \n",
       "   -0.21706  \n"
      ]
     },
     "metadata": {},
     "output_type": "display_data"
    }
   ],
   "source": [
    "multiReg <- lm(rating ~ ., data = attitude)\n",
    "multiReg"
   ]
  },
  {
   "cell_type": "code",
   "execution_count": 23,
   "metadata": {},
   "outputs": [
    {
     "data": {
      "text/plain": [
       "\n",
       "Call:\n",
       "lm(formula = rating ~ ., data = attitude)\n",
       "\n",
       "Residuals:\n",
       "     Min       1Q   Median       3Q      Max \n",
       "-10.9418  -4.3555   0.3158   5.5425  11.5990 \n",
       "\n",
       "Coefficients:\n",
       "            Estimate Std. Error t value Pr(>|t|)    \n",
       "(Intercept) 10.78708   11.58926   0.931 0.361634    \n",
       "complaints   0.61319    0.16098   3.809 0.000903 ***\n",
       "privileges  -0.07305    0.13572  -0.538 0.595594    \n",
       "learning     0.32033    0.16852   1.901 0.069925 .  \n",
       "raises       0.08173    0.22148   0.369 0.715480    \n",
       "critical     0.03838    0.14700   0.261 0.796334    \n",
       "advance     -0.21706    0.17821  -1.218 0.235577    \n",
       "---\n",
       "Signif. codes:  0 ‘***’ 0.001 ‘**’ 0.01 ‘*’ 0.05 ‘.’ 0.1 ‘ ’ 1\n",
       "\n",
       "Residual standard error: 7.068 on 23 degrees of freedom\n",
       "Multiple R-squared:  0.7326,\tAdjusted R-squared:  0.6628 \n",
       "F-statistic:  10.5 on 6 and 23 DF,  p-value: 1.24e-05\n"
      ]
     },
     "metadata": {},
     "output_type": "display_data"
    }
   ],
   "source": [
    "summary(multiReg)"
   ]
  },
  {
   "cell_type": "markdown",
   "metadata": {},
   "source": [
    "Null hypothesis is rejected because p-value is 1.24e-05 < 0.05, \n",
    "\n",
    "```\n",
    "rating = 10.78708 + 0.61319 * complaints -0.07305 * privileges + 0.3203 * learning \n",
    "         + 0.08173 * raises + 0.03838 * critical -0.21706 * advance \n",
    "```\n",
    "Adjusted R-squared:  0.6628  \n",
    "\n",
    "Since not all variables are significantly related to the rating, we can elininate the most unrelated ones and leave the most relevant ones."
   ]
  },
  {
   "cell_type": "markdown",
   "metadata": {},
   "source": [
    "### Choose a model by AIC(Akaike Criterion) in a Stepwise Algorithm"
   ]
  },
  {
   "cell_type": "code",
   "execution_count": 27,
   "metadata": {},
   "outputs": [
    {
     "name": "stdout",
     "output_type": "stream",
     "text": [
      "Start:  AIC=123.36\n",
      "rating ~ complaints + privileges + learning + raises + critical + \n",
      "    advance\n",
      "\n",
      "             Df Sum of Sq    RSS    AIC\n",
      "- critical    1      3.41 1152.4 121.45\n",
      "- raises      1      6.80 1155.8 121.54\n",
      "- privileges  1     14.47 1163.5 121.74\n",
      "- advance     1     74.11 1223.1 123.24\n",
      "<none>                    1149.0 123.36\n",
      "- learning    1    180.50 1329.5 125.74\n",
      "- complaints  1    724.80 1873.8 136.04\n",
      "\n",
      "Step:  AIC=121.45\n",
      "rating ~ complaints + privileges + learning + raises + advance\n",
      "\n",
      "             Df Sum of Sq    RSS    AIC\n",
      "- raises      1     10.61 1163.0 119.73\n",
      "- privileges  1     14.16 1166.6 119.82\n",
      "- advance     1     71.27 1223.7 121.25\n",
      "<none>                    1152.4 121.45\n",
      "- learning    1    177.74 1330.1 123.75\n",
      "- complaints  1    724.70 1877.1 134.09\n",
      "\n",
      "Step:  AIC=119.73\n",
      "rating ~ complaints + privileges + learning + advance\n",
      "\n",
      "             Df Sum of Sq    RSS    AIC\n",
      "- privileges  1     16.10 1179.1 118.14\n",
      "- advance     1     61.60 1224.6 119.28\n",
      "<none>                    1163.0 119.73\n",
      "- learning    1    197.03 1360.0 122.42\n",
      "- complaints  1   1165.94 2328.9 138.56\n",
      "\n",
      "Step:  AIC=118.14\n",
      "rating ~ complaints + learning + advance\n",
      "\n",
      "             Df Sum of Sq    RSS    AIC\n",
      "- advance     1     75.54 1254.7 118.00\n",
      "<none>                    1179.1 118.14\n",
      "- learning    1    186.12 1365.2 120.54\n",
      "- complaints  1   1259.91 2439.0 137.94\n",
      "\n",
      "Step:  AIC=118\n",
      "rating ~ complaints + learning\n",
      "\n",
      "             Df Sum of Sq    RSS    AIC\n",
      "<none>                    1254.7 118.00\n",
      "- learning    1    114.73 1369.4 118.63\n",
      "- complaints  1   1370.91 2625.6 138.16\n"
     ]
    }
   ],
   "source": [
    "multiRegStep <- step(multiReg, direction = \"backward\")"
   ]
  },
  {
   "cell_type": "code",
   "execution_count": 29,
   "metadata": {},
   "outputs": [
    {
     "data": {
      "text/plain": [
       "\n",
       "Call:\n",
       "lm(formula = rating ~ complaints + learning, data = attitude)\n",
       "\n",
       "Coefficients:\n",
       "(Intercept)   complaints     learning  \n",
       "     9.8709       0.6435       0.2112  \n"
      ]
     },
     "metadata": {},
     "output_type": "display_data"
    }
   ],
   "source": [
    "multiRegStep"
   ]
  },
  {
   "cell_type": "code",
   "execution_count": 28,
   "metadata": {},
   "outputs": [
    {
     "data": {
      "text/plain": [
       "\n",
       "Call:\n",
       "lm(formula = rating ~ complaints + learning, data = attitude)\n",
       "\n",
       "Residuals:\n",
       "     Min       1Q   Median       3Q      Max \n",
       "-11.5568  -5.7331   0.6701   6.5341  10.3610 \n",
       "\n",
       "Coefficients:\n",
       "            Estimate Std. Error t value Pr(>|t|)    \n",
       "(Intercept)   9.8709     7.0612   1.398    0.174    \n",
       "complaints    0.6435     0.1185   5.432 9.57e-06 ***\n",
       "learning      0.2112     0.1344   1.571    0.128    \n",
       "---\n",
       "Signif. codes:  0 ‘***’ 0.001 ‘**’ 0.01 ‘*’ 0.05 ‘.’ 0.1 ‘ ’ 1\n",
       "\n",
       "Residual standard error: 6.817 on 27 degrees of freedom\n",
       "Multiple R-squared:  0.708,\tAdjusted R-squared:  0.6864 \n",
       "F-statistic: 32.74 on 2 and 27 DF,  p-value: 6.058e-08\n"
      ]
     },
     "metadata": {},
     "output_type": "display_data"
    }
   ],
   "source": [
    "summary(multiRegStep)"
   ]
  },
  {
   "cell_type": "markdown",
   "metadata": {},
   "source": [
    "#### Using only two variables 'complaints' and 'learning', the prediction of regression model increases from 66.2% to 68.6%."
   ]
  },
  {
   "cell_type": "markdown",
   "metadata": {},
   "source": [
    "rating = 9.8709 + 0.6435*complaints + 0.2112*learning"
   ]
  },
  {
   "cell_type": "code",
   "execution_count": null,
   "metadata": {},
   "outputs": [],
   "source": []
  }
 ],
 "metadata": {
  "kernelspec": {
   "display_name": "R",
   "language": "R",
   "name": "ir"
  },
  "language_info": {
   "codemirror_mode": "r",
   "file_extension": ".r",
   "mimetype": "text/x-r-source",
   "name": "R",
   "pygments_lexer": "r",
   "version": "3.6.1"
  }
 },
 "nbformat": 4,
 "nbformat_minor": 2
}
