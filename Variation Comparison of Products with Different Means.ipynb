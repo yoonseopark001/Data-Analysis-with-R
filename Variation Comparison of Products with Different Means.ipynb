{
 "cells": [
  {
   "cell_type": "markdown",
   "metadata": {},
   "source": [
    "## Object: Compare variation of two products with different means.\n",
    "\n",
    "- Data: 4-week Sales Figures of Coffee and Fruit Juice at a cafeteria"
   ]
  },
  {
   "cell_type": "markdown",
   "metadata": {},
   "source": [
    "## Data Load"
   ]
  },
  {
   "cell_type": "code",
   "execution_count": null,
   "metadata": {},
   "outputs": [],
   "source": [
    "cafeteria <- read.csv(\"./0_coffee.csv\")"
   ]
  },
  {
   "cell_type": "markdown",
   "metadata": {},
   "source": [
    "## Data Exploration"
   ]
  },
  {
   "cell_type": "code",
   "execution_count": 11,
   "metadata": {},
   "outputs": [
    {
     "data": {
      "text/html": [
       "<table>\n",
       "<caption>A data.frame: 6 × 5</caption>\n",
       "<thead>\n",
       "\t<tr><th></th><th scope=col>seq</th><th scope=col>Day</th><th scope=col>Day.of.Week</th><th scope=col>Coffee</th><th scope=col>Fruit</th></tr>\n",
       "\t<tr><th></th><th scope=col>&lt;int&gt;</th><th scope=col>&lt;int&gt;</th><th scope=col>&lt;fct&gt;</th><th scope=col>&lt;int&gt;</th><th scope=col>&lt;int&gt;</th></tr>\n",
       "</thead>\n",
       "<tbody>\n",
       "\t<tr><th scope=row>1</th><td>1</td><td>1</td><td>Mon</td><td> 3</td><td>1</td></tr>\n",
       "\t<tr><th scope=row>2</th><td>2</td><td>2</td><td>Tue</td><td> 8</td><td>0</td></tr>\n",
       "\t<tr><th scope=row>3</th><td>3</td><td>3</td><td>Wed</td><td>11</td><td>0</td></tr>\n",
       "\t<tr><th scope=row>4</th><td>4</td><td>4</td><td>Thu</td><td>24</td><td>0</td></tr>\n",
       "\t<tr><th scope=row>5</th><td>5</td><td>5</td><td>Fri</td><td> 5</td><td>5</td></tr>\n",
       "\t<tr><th scope=row>6</th><td>6</td><td>6</td><td>Sat</td><td>10</td><td>0</td></tr>\n",
       "</tbody>\n",
       "</table>\n"
      ],
      "text/latex": [
       "A data.frame: 6 × 5\n",
       "\\begin{tabular}{r|lllll}\n",
       "  & seq & Day & Day.of.Week & Coffee & Fruit\\\\\n",
       "  & <int> & <int> & <fct> & <int> & <int>\\\\\n",
       "\\hline\n",
       "\t1 & 1 & 1 & Mon &  3 & 1\\\\\n",
       "\t2 & 2 & 2 & Tue &  8 & 0\\\\\n",
       "\t3 & 3 & 3 & Wed & 11 & 0\\\\\n",
       "\t4 & 4 & 4 & Thu & 24 & 0\\\\\n",
       "\t5 & 5 & 5 & Fri &  5 & 5\\\\\n",
       "\t6 & 6 & 6 & Sat & 10 & 0\\\\\n",
       "\\end{tabular}\n"
      ],
      "text/markdown": [
       "\n",
       "A data.frame: 6 × 5\n",
       "\n",
       "| <!--/--> | seq &lt;int&gt; | Day &lt;int&gt; | Day.of.Week &lt;fct&gt; | Coffee &lt;int&gt; | Fruit &lt;int&gt; |\n",
       "|---|---|---|---|---|---|\n",
       "| 1 | 1 | 1 | Mon |  3 | 1 |\n",
       "| 2 | 2 | 2 | Tue |  8 | 0 |\n",
       "| 3 | 3 | 3 | Wed | 11 | 0 |\n",
       "| 4 | 4 | 4 | Thu | 24 | 0 |\n",
       "| 5 | 5 | 5 | Fri |  5 | 5 |\n",
       "| 6 | 6 | 6 | Sat | 10 | 0 |\n",
       "\n"
      ],
      "text/plain": [
       "  seq Day Day.of.Week Coffee Fruit\n",
       "1 1   1   Mon          3     1    \n",
       "2 2   2   Tue          8     0    \n",
       "3 3   3   Wed         11     0    \n",
       "4 4   4   Thu         24     0    \n",
       "5 5   5   Fri          5     5    \n",
       "6 6   6   Sat         10     0    "
      ]
     },
     "metadata": {},
     "output_type": "display_data"
    },
    {
     "data": {
      "text/html": [
       "<table>\n",
       "<caption>A data.frame: 6 × 5</caption>\n",
       "<thead>\n",
       "\t<tr><th></th><th scope=col>seq</th><th scope=col>Day</th><th scope=col>Day.of.Week</th><th scope=col>Coffee</th><th scope=col>Fruit</th></tr>\n",
       "\t<tr><th></th><th scope=col>&lt;int&gt;</th><th scope=col>&lt;int&gt;</th><th scope=col>&lt;fct&gt;</th><th scope=col>&lt;int&gt;</th><th scope=col>&lt;int&gt;</th></tr>\n",
       "</thead>\n",
       "<tbody>\n",
       "\t<tr><th scope=row>23</th><td>23</td><td>2</td><td>Tue</td><td>53</td><td>5</td></tr>\n",
       "\t<tr><th scope=row>24</th><td>24</td><td>3</td><td>Wed</td><td>56</td><td>7</td></tr>\n",
       "\t<tr><th scope=row>25</th><td>25</td><td>4</td><td>Thu</td><td>59</td><td>0</td></tr>\n",
       "\t<tr><th scope=row>26</th><td>26</td><td>5</td><td>Fri</td><td>34</td><td>2</td></tr>\n",
       "\t<tr><th scope=row>27</th><td>27</td><td>6</td><td>Sat</td><td>49</td><td>3</td></tr>\n",
       "\t<tr><th scope=row>28</th><td>28</td><td>7</td><td>Sun</td><td>50</td><td>7</td></tr>\n",
       "</tbody>\n",
       "</table>\n"
      ],
      "text/latex": [
       "A data.frame: 6 × 5\n",
       "\\begin{tabular}{r|lllll}\n",
       "  & seq & Day & Day.of.Week & Coffee & Fruit\\\\\n",
       "  & <int> & <int> & <fct> & <int> & <int>\\\\\n",
       "\\hline\n",
       "\t23 & 23 & 2 & Tue & 53 & 5\\\\\n",
       "\t24 & 24 & 3 & Wed & 56 & 7\\\\\n",
       "\t25 & 25 & 4 & Thu & 59 & 0\\\\\n",
       "\t26 & 26 & 5 & Fri & 34 & 2\\\\\n",
       "\t27 & 27 & 6 & Sat & 49 & 3\\\\\n",
       "\t28 & 28 & 7 & Sun & 50 & 7\\\\\n",
       "\\end{tabular}\n"
      ],
      "text/markdown": [
       "\n",
       "A data.frame: 6 × 5\n",
       "\n",
       "| <!--/--> | seq &lt;int&gt; | Day &lt;int&gt; | Day.of.Week &lt;fct&gt; | Coffee &lt;int&gt; | Fruit &lt;int&gt; |\n",
       "|---|---|---|---|---|---|\n",
       "| 23 | 23 | 2 | Tue | 53 | 5 |\n",
       "| 24 | 24 | 3 | Wed | 56 | 7 |\n",
       "| 25 | 25 | 4 | Thu | 59 | 0 |\n",
       "| 26 | 26 | 5 | Fri | 34 | 2 |\n",
       "| 27 | 27 | 6 | Sat | 49 | 3 |\n",
       "| 28 | 28 | 7 | Sun | 50 | 7 |\n",
       "\n"
      ],
      "text/plain": [
       "   seq Day Day.of.Week Coffee Fruit\n",
       "23 23  2   Tue         53     5    \n",
       "24 24  3   Wed         56     7    \n",
       "25 25  4   Thu         59     0    \n",
       "26 26  5   Fri         34     2    \n",
       "27 27  6   Sat         49     3    \n",
       "28 28  7   Sun         50     7    "
      ]
     },
     "metadata": {},
     "output_type": "display_data"
    }
   ],
   "source": [
    "head(cafeteria)\n",
    "tail(cafeteria)"
   ]
  },
  {
   "cell_type": "code",
   "execution_count": 12,
   "metadata": {},
   "outputs": [
    {
     "data": {
      "text/plain": [
       "      seq             Day    Day.of.Week     Coffee          Fruit       \n",
       " Min.   : 1.00   Min.   :1   Fri:4       Min.   : 3.00   Min.   : 0.000  \n",
       " 1st Qu.: 7.75   1st Qu.:2   Mon:4       1st Qu.:11.00   1st Qu.: 0.000  \n",
       " Median :14.50   Median :4   Sat:4       Median :26.00   Median : 4.500  \n",
       " Mean   :14.50   Mean   :4   Sun:4       Mean   :28.07   Mean   : 6.071  \n",
       " 3rd Qu.:21.25   3rd Qu.:6   Thu:4       3rd Qu.:49.25   3rd Qu.: 9.000  \n",
       " Max.   :28.00   Max.   :7   Tue:4       Max.   :59.00   Max.   :23.000  \n",
       "                             Wed:4                                       "
      ]
     },
     "metadata": {},
     "output_type": "display_data"
    }
   ],
   "source": [
    "summary(cafeteria)"
   ]
  },
  {
   "cell_type": "code",
   "execution_count": 13,
   "metadata": {},
   "outputs": [
    {
     "name": "stdout",
     "output_type": "stream",
     "text": [
      "'data.frame':\t28 obs. of  5 variables:\n",
      " $ seq        : int  1 2 3 4 5 6 7 8 9 10 ...\n",
      " $ Day        : int  1 2 3 4 5 6 7 1 2 3 ...\n",
      " $ Day.of.Week: Factor w/ 7 levels \"Fri\",\"Mon\",\"Sat\",..: 2 6 7 5 1 3 4 2 6 7 ...\n",
      " $ Coffee     : int  3 8 11 24 5 10 22 25 27 13 ...\n",
      " $ Fruit      : int  1 0 0 0 5 0 0 15 7 8 ...\n"
     ]
    }
   ],
   "source": [
    "str(cafeteria)"
   ]
  },
  {
   "cell_type": "code",
   "execution_count": 14,
   "metadata": {},
   "outputs": [
    {
     "data": {
      "text/plain": [
       "\n",
       " 3  5  8  9 10 11 13 14 18 22 24 25 27 29 33 34 49 50 51 53 54 56 59 \n",
       " 1  2  1  1  1  2  1  1  1  1  1  1  1  2  1  2  1  2  1  1  1  1  1 "
      ]
     },
     "metadata": {},
     "output_type": "display_data"
    }
   ],
   "source": [
    "table(cafeteria$Coffee)"
   ]
  },
  {
   "cell_type": "code",
   "execution_count": 15,
   "metadata": {},
   "outputs": [
    {
     "data": {
      "text/html": [
       "<ol class=list-inline>\n",
       "\t<li>(0,10]</li>\n",
       "\t<li>(0,10]</li>\n",
       "\t<li>(10,20]</li>\n",
       "\t<li>(20,30]</li>\n",
       "\t<li>(0,10]</li>\n",
       "\t<li>(0,10]</li>\n",
       "\t<li>(20,30]</li>\n",
       "\t<li>(20,30]</li>\n",
       "\t<li>(20,30]</li>\n",
       "\t<li>(10,20]</li>\n",
       "\t<li>(0,10]</li>\n",
       "\t<li>(0,10]</li>\n",
       "\t<li>(10,20]</li>\n",
       "\t<li>(10,20]</li>\n",
       "\t<li>(10,20]</li>\n",
       "\t<li>(20,30]</li>\n",
       "\t<li>(30,40]</li>\n",
       "\t<li>(30,40]</li>\n",
       "\t<li>(20,30]</li>\n",
       "\t<li>(40,50]</li>\n",
       "\t<li>(50,60]</li>\n",
       "\t<li>(50,60]</li>\n",
       "\t<li>(50,60]</li>\n",
       "\t<li>(50,60]</li>\n",
       "\t<li>(50,60]</li>\n",
       "\t<li>(30,40]</li>\n",
       "\t<li>(40,50]</li>\n",
       "\t<li>(40,50]</li>\n",
       "</ol>\n",
       "\n",
       "<details>\n",
       "\t<summary style=display:list-item;cursor:pointer>\n",
       "\t\t<strong>Levels</strong>:\n",
       "\t</summary>\n",
       "\t<ol class=list-inline>\n",
       "\t\t<li>'(0,10]'</li>\n",
       "\t\t<li>'(10,20]'</li>\n",
       "\t\t<li>'(20,30]'</li>\n",
       "\t\t<li>'(30,40]'</li>\n",
       "\t\t<li>'(40,50]'</li>\n",
       "\t\t<li>'(50,60]'</li>\n",
       "\t</ol>\n",
       "</details>"
      ],
      "text/latex": [
       "\\begin{enumerate*}\n",
       "\\item (0,10{]}\n",
       "\\item (0,10{]}\n",
       "\\item (10,20{]}\n",
       "\\item (20,30{]}\n",
       "\\item (0,10{]}\n",
       "\\item (0,10{]}\n",
       "\\item (20,30{]}\n",
       "\\item (20,30{]}\n",
       "\\item (20,30{]}\n",
       "\\item (10,20{]}\n",
       "\\item (0,10{]}\n",
       "\\item (0,10{]}\n",
       "\\item (10,20{]}\n",
       "\\item (10,20{]}\n",
       "\\item (10,20{]}\n",
       "\\item (20,30{]}\n",
       "\\item (30,40{]}\n",
       "\\item (30,40{]}\n",
       "\\item (20,30{]}\n",
       "\\item (40,50{]}\n",
       "\\item (50,60{]}\n",
       "\\item (50,60{]}\n",
       "\\item (50,60{]}\n",
       "\\item (50,60{]}\n",
       "\\item (50,60{]}\n",
       "\\item (30,40{]}\n",
       "\\item (40,50{]}\n",
       "\\item (40,50{]}\n",
       "\\end{enumerate*}\n",
       "\n",
       "\\emph{Levels}: \\begin{enumerate*}\n",
       "\\item '(0,10{]}'\n",
       "\\item '(10,20{]}'\n",
       "\\item '(20,30{]}'\n",
       "\\item '(30,40{]}'\n",
       "\\item '(40,50{]}'\n",
       "\\item '(50,60{]}'\n",
       "\\end{enumerate*}\n"
      ],
      "text/markdown": [
       "1. (0,10]\n",
       "2. (0,10]\n",
       "3. (10,20]\n",
       "4. (20,30]\n",
       "5. (0,10]\n",
       "6. (0,10]\n",
       "7. (20,30]\n",
       "8. (20,30]\n",
       "9. (20,30]\n",
       "10. (10,20]\n",
       "11. (0,10]\n",
       "12. (0,10]\n",
       "13. (10,20]\n",
       "14. (10,20]\n",
       "15. (10,20]\n",
       "16. (20,30]\n",
       "17. (30,40]\n",
       "18. (30,40]\n",
       "19. (20,30]\n",
       "20. (40,50]\n",
       "21. (50,60]\n",
       "22. (50,60]\n",
       "23. (50,60]\n",
       "24. (50,60]\n",
       "25. (50,60]\n",
       "26. (30,40]\n",
       "27. (40,50]\n",
       "28. (40,50]\n",
       "\n",
       "\n",
       "\n",
       "**Levels**: 1. '(0,10]'\n",
       "2. '(10,20]'\n",
       "3. '(20,30]'\n",
       "4. '(30,40]'\n",
       "5. '(40,50]'\n",
       "6. '(50,60]'\n",
       "\n",
       "\n"
      ],
      "text/plain": [
       " [1] (0,10]  (0,10]  (10,20] (20,30] (0,10]  (0,10]  (20,30] (20,30] (20,30]\n",
       "[10] (10,20] (0,10]  (0,10]  (10,20] (10,20] (10,20] (20,30] (30,40] (30,40]\n",
       "[19] (20,30] (40,50] (50,60] (50,60] (50,60] (50,60] (50,60] (30,40] (40,50]\n",
       "[28] (40,50]\n",
       "Levels: (0,10] (10,20] (20,30] (30,40] (40,50] (50,60]"
      ]
     },
     "metadata": {},
     "output_type": "display_data"
    }
   ],
   "source": [
    "cut(cafeteria$Coffee, breaks = seq(0, 60, 10))"
   ]
  },
  {
   "cell_type": "code",
   "execution_count": 16,
   "metadata": {},
   "outputs": [
    {
     "data": {
      "text/plain": [
       "\n",
       " (0,10] (10,20] (20,30] (30,40] (40,50] (50,60] \n",
       "      6       5       6       3       3       5 "
      ]
     },
     "metadata": {},
     "output_type": "display_data"
    }
   ],
   "source": [
    "table(cut(cafeteria$Coffee, breaks = seq(0, 60, 10)))"
   ]
  },
  {
   "cell_type": "code",
   "execution_count": 44,
   "metadata": {},
   "outputs": [
    {
     "data": {
      "text/plain": [
       "\n",
       " (0,10] (10,20] (20,30] (30,40] (40,50] (50,60] \n",
       "     12       6       1       0       0       0 "
      ]
     },
     "metadata": {},
     "output_type": "display_data"
    }
   ],
   "source": [
    "table(cut(cafeteria$Fruit, breaks = seq(0, 60, 10)))"
   ]
  },
  {
   "cell_type": "code",
   "execution_count": 45,
   "metadata": {},
   "outputs": [
    {
     "data": {
      "image/png": "[encoded data removed]",
      "text/plain": [
       "plot without title"
      ]
     },
     "metadata": {
      "image/png": {
       "height": 420,
       "width": 420
      },
      "text/plain": {
       "height": 420,
       "width": 420
      }
     },
     "output_type": "display_data"
    }
   ],
   "source": [
    "barplot(table(cut(cafeteria$Coffee, breaks = seq(0, 60, 10))))"
   ]
  },
  {
   "cell_type": "code",
   "execution_count": 46,
   "metadata": {},
   "outputs": [
    {
     "data": {
      "image/png": "[encoded data removed]",
      "text/plain": [
       "plot without title"
      ]
     },
     "metadata": {
      "image/png": {
       "height": 420,
       "width": 420
      },
      "text/plain": {
       "height": 420,
       "width": 420
      }
     },
     "output_type": "display_data"
    }
   ],
   "source": [
    "barplot(table(cut(cafeteria$Fruit, breaks = seq(0, 60, 10))))"
   ]
  },
  {
   "cell_type": "code",
   "execution_count": 25,
   "metadata": {},
   "outputs": [
    {
     "data": {
      "image/png": "[encoded data removed]",
      "text/plain": [
       "plot without title"
      ]
     },
     "metadata": {
      "image/png": {
       "height": 420,
       "width": 420
      },
      "text/plain": {
       "height": 420,
       "width": 420
      }
     },
     "output_type": "display_data"
    }
   ],
   "source": [
    "boxplot(cafeteria$Coffee, cafeteria$Fruit)"
   ]
  },
  {
   "cell_type": "code",
   "execution_count": 35,
   "metadata": {},
   "outputs": [
    {
     "name": "stdout",
     "output_type": "stream",
     "text": [
      "\n",
      "  The decimal point is 1 digit(s) to the right of the |\n",
      "\n",
      "  0 | 35589\n",
      "  1 | 011348\n",
      "  2 | 245799\n",
      "  3 | 344\n",
      "  4 | 9\n",
      "  5 | 0013469\n",
      "\n"
     ]
    }
   ],
   "source": [
    "stem(cafeteria$Coffee)"
   ]
  },
  {
   "cell_type": "markdown",
   "metadata": {},
   "source": [
    "## Mean, Standard Deviation"
   ]
  },
  {
   "cell_type": "markdown",
   "metadata": {},
   "source": [
    "Mean, Standard Deviation"
   ]
  },
  {
   "cell_type": "code",
   "execution_count": 51,
   "metadata": {},
   "outputs": [
    {
     "name": "stdout",
     "output_type": "stream",
     "text": [
      "mu of coffee sales per day:  28.1 \n",
      "sd of coffee sales per day:  18.27"
     ]
    }
   ],
   "source": [
    "coffee <- cafeteria$Coffee\n",
    "coffee.m <- mean(coffee)\n",
    "coffee.sd <- sd(coffee)\n",
    "cat(\"mu of coffee sales per day: \", round(coffee.m, 1),\"\\n\")\n",
    "cat(\"sd of coffee sales per day: \", round(coffee.sd, 2))"
   ]
  },
  {
   "cell_type": "code",
   "execution_count": 53,
   "metadata": {},
   "outputs": [
    {
     "name": "stdout",
     "output_type": "stream",
     "text": [
      "mu of fruit juice sales per day:  6.1 \n",
      "sd of fruit juice sales per day:  6.55"
     ]
    }
   ],
   "source": [
    "fruit <- cafeteria$Fruit\n",
    "fruit.m <- mean(fruit)\n",
    "fruit.sd <- sd(fruit)\n",
    "cat(\"mu of fruit juice sales per day: \", round(fruit.m, 1),\"\\n\")\n",
    "cat(\"sd of fruit juice sales per day: \", round(fruit.sd, 2))"
   ]
  },
  {
   "cell_type": "markdown",
   "metadata": {},
   "source": [
    "### *: Since the standard deviation tends to be larger for data with a larger mean, we should look at coefficient of variance (CV).*"
   ]
  },
  {
   "cell_type": "markdown",
   "metadata": {},
   "source": [
    "## Coefficient of Variation"
   ]
  },
  {
   "cell_type": "code",
   "execution_count": 57,
   "metadata": {},
   "outputs": [
    {
     "name": "stdout",
     "output_type": "stream",
     "text": [
      "CV of coffee :  0.651 \n",
      "CV of fruit  :  1.079"
     ]
    }
   ],
   "source": [
    "coffee.cv <- round(coffee.sd / coffee.m, 3)\n",
    "fruit.cv <- round(fruit.sd / fruit.m, 3)\n",
    "\n",
    "cat(\"CV of coffee : \", coffee.cv, \"\\n\")\n",
    "cat(\"CV of fruit  : \", fruit.cv)"
   ]
  },
  {
   "cell_type": "markdown",
   "metadata": {},
   "source": [
    "### *: Hence, we can see that Coffee is sold more closely to the average (more consistently on average).*"
   ]
  },
  {
   "cell_type": "code",
   "execution_count": null,
   "metadata": {},
   "outputs": [],
   "source": []
  }
 ],
 "metadata": {
  "kernelspec": {
   "display_name": "R",
   "language": "R",
   "name": "ir"
  },
  "language_info": {
   "codemirror_mode": "r",
   "file_extension": ".r",
   "mimetype": "text/x-r-source",
   "name": "R",
   "pygments_lexer": "r",
   "version": "3.6.1"
  }
 },
 "nbformat": 4,
 "nbformat_minor": 2
}
