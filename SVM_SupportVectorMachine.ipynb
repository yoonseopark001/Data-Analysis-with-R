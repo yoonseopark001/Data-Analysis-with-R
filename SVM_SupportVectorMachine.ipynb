{
 "cells": [
  {
   "cell_type": "markdown",
   "metadata": {},
   "source": [
    "# SVM (Support Vector Machine) Classifier\n",
    "- Supervised machine learning algorithm"
   ]
  },
  {
   "cell_type": "code",
   "execution_count": 24,
   "metadata": {},
   "outputs": [],
   "source": [
    "library(e1071)\n",
    "library(doBy)"
   ]
  },
  {
   "cell_type": "markdown",
   "metadata": {},
   "source": [
    "## Load Dataset"
   ]
  },
  {
   "cell_type": "code",
   "execution_count": 25,
   "metadata": {},
   "outputs": [
    {
     "data": {
      "text/html": [
       "<table>\n",
       "<caption>A data.frame: 6 × 5</caption>\n",
       "<thead>\n",
       "\t<tr><th></th><th scope=col>Sepal.Length</th><th scope=col>Sepal.Width</th><th scope=col>Petal.Length</th><th scope=col>Petal.Width</th><th scope=col>Species</th></tr>\n",
       "\t<tr><th></th><th scope=col>&lt;dbl&gt;</th><th scope=col>&lt;dbl&gt;</th><th scope=col>&lt;dbl&gt;</th><th scope=col>&lt;dbl&gt;</th><th scope=col>&lt;fct&gt;</th></tr>\n",
       "</thead>\n",
       "<tbody>\n",
       "\t<tr><th scope=row>1</th><td>5.1</td><td>3.5</td><td>1.4</td><td>0.2</td><td>setosa</td></tr>\n",
       "\t<tr><th scope=row>2</th><td>4.9</td><td>3.0</td><td>1.4</td><td>0.2</td><td>setosa</td></tr>\n",
       "\t<tr><th scope=row>3</th><td>4.7</td><td>3.2</td><td>1.3</td><td>0.2</td><td>setosa</td></tr>\n",
       "\t<tr><th scope=row>4</th><td>4.6</td><td>3.1</td><td>1.5</td><td>0.2</td><td>setosa</td></tr>\n",
       "\t<tr><th scope=row>5</th><td>5.0</td><td>3.6</td><td>1.4</td><td>0.2</td><td>setosa</td></tr>\n",
       "\t<tr><th scope=row>6</th><td>5.4</td><td>3.9</td><td>1.7</td><td>0.4</td><td>setosa</td></tr>\n",
       "</tbody>\n",
       "</table>\n"
      ],
      "text/latex": [
       "A data.frame: 6 × 5\n",
       "\\begin{tabular}{r|lllll}\n",
       "  & Sepal.Length & Sepal.Width & Petal.Length & Petal.Width & Species\\\\\n",
       "  & <dbl> & <dbl> & <dbl> & <dbl> & <fct>\\\\\n",
       "\\hline\n",
       "\t1 & 5.1 & 3.5 & 1.4 & 0.2 & setosa\\\\\n",
       "\t2 & 4.9 & 3.0 & 1.4 & 0.2 & setosa\\\\\n",
       "\t3 & 4.7 & 3.2 & 1.3 & 0.2 & setosa\\\\\n",
       "\t4 & 4.6 & 3.1 & 1.5 & 0.2 & setosa\\\\\n",
       "\t5 & 5.0 & 3.6 & 1.4 & 0.2 & setosa\\\\\n",
       "\t6 & 5.4 & 3.9 & 1.7 & 0.4 & setosa\\\\\n",
       "\\end{tabular}\n"
      ],
      "text/markdown": [
       "\n",
       "A data.frame: 6 × 5\n",
       "\n",
       "| <!--/--> | Sepal.Length &lt;dbl&gt; | Sepal.Width &lt;dbl&gt; | Petal.Length &lt;dbl&gt; | Petal.Width &lt;dbl&gt; | Species &lt;fct&gt; |\n",
       "|---|---|---|---|---|---|\n",
       "| 1 | 5.1 | 3.5 | 1.4 | 0.2 | setosa |\n",
       "| 2 | 4.9 | 3.0 | 1.4 | 0.2 | setosa |\n",
       "| 3 | 4.7 | 3.2 | 1.3 | 0.2 | setosa |\n",
       "| 4 | 4.6 | 3.1 | 1.5 | 0.2 | setosa |\n",
       "| 5 | 5.0 | 3.6 | 1.4 | 0.2 | setosa |\n",
       "| 6 | 5.4 | 3.9 | 1.7 | 0.4 | setosa |\n",
       "\n"
      ],
      "text/plain": [
       "  Sepal.Length Sepal.Width Petal.Length Petal.Width Species\n",
       "1 5.1          3.5         1.4          0.2         setosa \n",
       "2 4.9          3.0         1.4          0.2         setosa \n",
       "3 4.7          3.2         1.3          0.2         setosa \n",
       "4 4.6          3.1         1.5          0.2         setosa \n",
       "5 5.0          3.6         1.4          0.2         setosa \n",
       "6 5.4          3.9         1.7          0.4         setosa "
      ]
     },
     "metadata": {},
     "output_type": "display_data"
    }
   ],
   "source": [
    "data(iris)\n",
    "head(iris)"
   ]
  },
  {
   "cell_type": "markdown",
   "metadata": {},
   "source": [
    "## Rearrange data and reset the rownames¶\n"
   ]
  },
  {
   "cell_type": "code",
   "execution_count": 26,
   "metadata": {},
   "outputs": [
    {
     "data": {
      "text/html": [
       "<table>\n",
       "<caption>A data.frame: 6 × 5</caption>\n",
       "<thead>\n",
       "\t<tr><th></th><th scope=col>Sepal.Length</th><th scope=col>Sepal.Width</th><th scope=col>Petal.Length</th><th scope=col>Petal.Width</th><th scope=col>Species</th></tr>\n",
       "\t<tr><th></th><th scope=col>&lt;dbl&gt;</th><th scope=col>&lt;dbl&gt;</th><th scope=col>&lt;dbl&gt;</th><th scope=col>&lt;dbl&gt;</th><th scope=col>&lt;fct&gt;</th></tr>\n",
       "</thead>\n",
       "<tbody>\n",
       "\t<tr><th scope=row>101</th><td>6.3</td><td>3.3</td><td>6.0</td><td>2.5</td><td>virginica</td></tr>\n",
       "\t<tr><th scope=row>102</th><td>5.8</td><td>2.7</td><td>5.1</td><td>1.9</td><td>virginica</td></tr>\n",
       "\t<tr><th scope=row>103</th><td>7.1</td><td>3.0</td><td>5.9</td><td>2.1</td><td>virginica</td></tr>\n",
       "\t<tr><th scope=row>104</th><td>6.3</td><td>2.9</td><td>5.6</td><td>1.8</td><td>virginica</td></tr>\n",
       "\t<tr><th scope=row>105</th><td>6.5</td><td>3.0</td><td>5.8</td><td>2.2</td><td>virginica</td></tr>\n",
       "\t<tr><th scope=row>106</th><td>7.6</td><td>3.0</td><td>6.6</td><td>2.1</td><td>virginica</td></tr>\n",
       "</tbody>\n",
       "</table>\n"
      ],
      "text/latex": [
       "A data.frame: 6 × 5\n",
       "\\begin{tabular}{r|lllll}\n",
       "  & Sepal.Length & Sepal.Width & Petal.Length & Petal.Width & Species\\\\\n",
       "  & <dbl> & <dbl> & <dbl> & <dbl> & <fct>\\\\\n",
       "\\hline\n",
       "\t101 & 6.3 & 3.3 & 6.0 & 2.5 & virginica\\\\\n",
       "\t102 & 5.8 & 2.7 & 5.1 & 1.9 & virginica\\\\\n",
       "\t103 & 7.1 & 3.0 & 5.9 & 2.1 & virginica\\\\\n",
       "\t104 & 6.3 & 2.9 & 5.6 & 1.8 & virginica\\\\\n",
       "\t105 & 6.5 & 3.0 & 5.8 & 2.2 & virginica\\\\\n",
       "\t106 & 7.6 & 3.0 & 6.6 & 2.1 & virginica\\\\\n",
       "\\end{tabular}\n"
      ],
      "text/markdown": [
       "\n",
       "A data.frame: 6 × 5\n",
       "\n",
       "| <!--/--> | Sepal.Length &lt;dbl&gt; | Sepal.Width &lt;dbl&gt; | Petal.Length &lt;dbl&gt; | Petal.Width &lt;dbl&gt; | Species &lt;fct&gt; |\n",
       "|---|---|---|---|---|---|\n",
       "| 101 | 6.3 | 3.3 | 6.0 | 2.5 | virginica |\n",
       "| 102 | 5.8 | 2.7 | 5.1 | 1.9 | virginica |\n",
       "| 103 | 7.1 | 3.0 | 5.9 | 2.1 | virginica |\n",
       "| 104 | 6.3 | 2.9 | 5.6 | 1.8 | virginica |\n",
       "| 105 | 6.5 | 3.0 | 5.8 | 2.2 | virginica |\n",
       "| 106 | 7.6 | 3.0 | 6.6 | 2.1 | virginica |\n",
       "\n"
      ],
      "text/plain": [
       "    Sepal.Length Sepal.Width Petal.Length Petal.Width Species  \n",
       "101 6.3          3.3         6.0          2.5         virginica\n",
       "102 5.8          2.7         5.1          1.9         virginica\n",
       "103 7.1          3.0         5.9          2.1         virginica\n",
       "104 6.3          2.9         5.6          1.8         virginica\n",
       "105 6.5          3.0         5.8          2.2         virginica\n",
       "106 7.6          3.0         6.6          2.1         virginica"
      ]
     },
     "metadata": {},
     "output_type": "display_data"
    }
   ],
   "source": [
    "iris_df <- orderBy(~ -Species, iris)\n",
    "head(iris_df)"
   ]
  },
  {
   "cell_type": "code",
   "execution_count": 27,
   "metadata": {},
   "outputs": [
    {
     "data": {
      "text/html": [
       "<table>\n",
       "<caption>A data.frame: 6 × 5</caption>\n",
       "<thead>\n",
       "\t<tr><th></th><th scope=col>Sepal.Length</th><th scope=col>Sepal.Width</th><th scope=col>Petal.Length</th><th scope=col>Petal.Width</th><th scope=col>Species</th></tr>\n",
       "\t<tr><th></th><th scope=col>&lt;dbl&gt;</th><th scope=col>&lt;dbl&gt;</th><th scope=col>&lt;dbl&gt;</th><th scope=col>&lt;dbl&gt;</th><th scope=col>&lt;fct&gt;</th></tr>\n",
       "</thead>\n",
       "<tbody>\n",
       "\t<tr><th scope=row>1</th><td>6.3</td><td>3.3</td><td>6.0</td><td>2.5</td><td>virginica</td></tr>\n",
       "\t<tr><th scope=row>2</th><td>5.8</td><td>2.7</td><td>5.1</td><td>1.9</td><td>virginica</td></tr>\n",
       "\t<tr><th scope=row>3</th><td>7.1</td><td>3.0</td><td>5.9</td><td>2.1</td><td>virginica</td></tr>\n",
       "\t<tr><th scope=row>4</th><td>6.3</td><td>2.9</td><td>5.6</td><td>1.8</td><td>virginica</td></tr>\n",
       "\t<tr><th scope=row>5</th><td>6.5</td><td>3.0</td><td>5.8</td><td>2.2</td><td>virginica</td></tr>\n",
       "\t<tr><th scope=row>6</th><td>7.6</td><td>3.0</td><td>6.6</td><td>2.1</td><td>virginica</td></tr>\n",
       "</tbody>\n",
       "</table>\n"
      ],
      "text/latex": [
       "A data.frame: 6 × 5\n",
       "\\begin{tabular}{r|lllll}\n",
       "  & Sepal.Length & Sepal.Width & Petal.Length & Petal.Width & Species\\\\\n",
       "  & <dbl> & <dbl> & <dbl> & <dbl> & <fct>\\\\\n",
       "\\hline\n",
       "\t1 & 6.3 & 3.3 & 6.0 & 2.5 & virginica\\\\\n",
       "\t2 & 5.8 & 2.7 & 5.1 & 1.9 & virginica\\\\\n",
       "\t3 & 7.1 & 3.0 & 5.9 & 2.1 & virginica\\\\\n",
       "\t4 & 6.3 & 2.9 & 5.6 & 1.8 & virginica\\\\\n",
       "\t5 & 6.5 & 3.0 & 5.8 & 2.2 & virginica\\\\\n",
       "\t6 & 7.6 & 3.0 & 6.6 & 2.1 & virginica\\\\\n",
       "\\end{tabular}\n"
      ],
      "text/markdown": [
       "\n",
       "A data.frame: 6 × 5\n",
       "\n",
       "| <!--/--> | Sepal.Length &lt;dbl&gt; | Sepal.Width &lt;dbl&gt; | Petal.Length &lt;dbl&gt; | Petal.Width &lt;dbl&gt; | Species &lt;fct&gt; |\n",
       "|---|---|---|---|---|---|\n",
       "| 1 | 6.3 | 3.3 | 6.0 | 2.5 | virginica |\n",
       "| 2 | 5.8 | 2.7 | 5.1 | 1.9 | virginica |\n",
       "| 3 | 7.1 | 3.0 | 5.9 | 2.1 | virginica |\n",
       "| 4 | 6.3 | 2.9 | 5.6 | 1.8 | virginica |\n",
       "| 5 | 6.5 | 3.0 | 5.8 | 2.2 | virginica |\n",
       "| 6 | 7.6 | 3.0 | 6.6 | 2.1 | virginica |\n",
       "\n"
      ],
      "text/plain": [
       "  Sepal.Length Sepal.Width Petal.Length Petal.Width Species  \n",
       "1 6.3          3.3         6.0          2.5         virginica\n",
       "2 5.8          2.7         5.1          1.9         virginica\n",
       "3 7.1          3.0         5.9          2.1         virginica\n",
       "4 6.3          2.9         5.6          1.8         virginica\n",
       "5 6.5          3.0         5.8          2.2         virginica\n",
       "6 7.6          3.0         6.6          2.1         virginica"
      ]
     },
     "metadata": {},
     "output_type": "display_data"
    },
    {
     "data": {
      "text/html": [
       "<table>\n",
       "<caption>A data.frame: 6 × 5</caption>\n",
       "<thead>\n",
       "\t<tr><th></th><th scope=col>Sepal.Length</th><th scope=col>Sepal.Width</th><th scope=col>Petal.Length</th><th scope=col>Petal.Width</th><th scope=col>Species</th></tr>\n",
       "\t<tr><th></th><th scope=col>&lt;dbl&gt;</th><th scope=col>&lt;dbl&gt;</th><th scope=col>&lt;dbl&gt;</th><th scope=col>&lt;dbl&gt;</th><th scope=col>&lt;fct&gt;</th></tr>\n",
       "</thead>\n",
       "<tbody>\n",
       "\t<tr><th scope=row>145</th><td>5.1</td><td>3.8</td><td>1.9</td><td>0.4</td><td>setosa</td></tr>\n",
       "\t<tr><th scope=row>146</th><td>4.8</td><td>3.0</td><td>1.4</td><td>0.3</td><td>setosa</td></tr>\n",
       "\t<tr><th scope=row>147</th><td>5.1</td><td>3.8</td><td>1.6</td><td>0.2</td><td>setosa</td></tr>\n",
       "\t<tr><th scope=row>148</th><td>4.6</td><td>3.2</td><td>1.4</td><td>0.2</td><td>setosa</td></tr>\n",
       "\t<tr><th scope=row>149</th><td>5.3</td><td>3.7</td><td>1.5</td><td>0.2</td><td>setosa</td></tr>\n",
       "\t<tr><th scope=row>150</th><td>5.0</td><td>3.3</td><td>1.4</td><td>0.2</td><td>setosa</td></tr>\n",
       "</tbody>\n",
       "</table>\n"
      ],
      "text/latex": [
       "A data.frame: 6 × 5\n",
       "\\begin{tabular}{r|lllll}\n",
       "  & Sepal.Length & Sepal.Width & Petal.Length & Petal.Width & Species\\\\\n",
       "  & <dbl> & <dbl> & <dbl> & <dbl> & <fct>\\\\\n",
       "\\hline\n",
       "\t145 & 5.1 & 3.8 & 1.9 & 0.4 & setosa\\\\\n",
       "\t146 & 4.8 & 3.0 & 1.4 & 0.3 & setosa\\\\\n",
       "\t147 & 5.1 & 3.8 & 1.6 & 0.2 & setosa\\\\\n",
       "\t148 & 4.6 & 3.2 & 1.4 & 0.2 & setosa\\\\\n",
       "\t149 & 5.3 & 3.7 & 1.5 & 0.2 & setosa\\\\\n",
       "\t150 & 5.0 & 3.3 & 1.4 & 0.2 & setosa\\\\\n",
       "\\end{tabular}\n"
      ],
      "text/markdown": [
       "\n",
       "A data.frame: 6 × 5\n",
       "\n",
       "| <!--/--> | Sepal.Length &lt;dbl&gt; | Sepal.Width &lt;dbl&gt; | Petal.Length &lt;dbl&gt; | Petal.Width &lt;dbl&gt; | Species &lt;fct&gt; |\n",
       "|---|---|---|---|---|---|\n",
       "| 145 | 5.1 | 3.8 | 1.9 | 0.4 | setosa |\n",
       "| 146 | 4.8 | 3.0 | 1.4 | 0.3 | setosa |\n",
       "| 147 | 5.1 | 3.8 | 1.6 | 0.2 | setosa |\n",
       "| 148 | 4.6 | 3.2 | 1.4 | 0.2 | setosa |\n",
       "| 149 | 5.3 | 3.7 | 1.5 | 0.2 | setosa |\n",
       "| 150 | 5.0 | 3.3 | 1.4 | 0.2 | setosa |\n",
       "\n"
      ],
      "text/plain": [
       "    Sepal.Length Sepal.Width Petal.Length Petal.Width Species\n",
       "145 5.1          3.8         1.9          0.4         setosa \n",
       "146 4.8          3.0         1.4          0.3         setosa \n",
       "147 5.1          3.8         1.6          0.2         setosa \n",
       "148 4.6          3.2         1.4          0.2         setosa \n",
       "149 5.3          3.7         1.5          0.2         setosa \n",
       "150 5.0          3.3         1.4          0.2         setosa "
      ]
     },
     "metadata": {},
     "output_type": "display_data"
    },
    {
     "name": "stdout",
     "output_type": "stream",
     "text": [
      "'data.frame':\t150 obs. of  5 variables:\n",
      " $ Sepal.Length: num  6.3 5.8 7.1 6.3 6.5 7.6 4.9 7.3 6.7 7.2 ...\n",
      " $ Sepal.Width : num  3.3 2.7 3 2.9 3 3 2.5 2.9 2.5 3.6 ...\n",
      " $ Petal.Length: num  6 5.1 5.9 5.6 5.8 6.6 4.5 6.3 5.8 6.1 ...\n",
      " $ Petal.Width : num  2.5 1.9 2.1 1.8 2.2 2.1 1.7 1.8 1.8 2.5 ...\n",
      " $ Species     : Factor w/ 3 levels \"setosa\",\"versicolor\",..: 3 3 3 3 3 3 3 3 3 3 ...\n"
     ]
    }
   ],
   "source": [
    "rownames(iris_df) <- c()\n",
    "head(iris_df)\n",
    "tail(iris_df)\n",
    "str(iris_df)"
   ]
  },
  {
   "cell_type": "markdown",
   "metadata": {},
   "source": [
    "## Spliting the data into training set and test set¶\n"
   ]
  },
  {
   "cell_type": "code",
   "execution_count": 28,
   "metadata": {},
   "outputs": [],
   "source": [
    "samp <- c(sample(1:50, 35), sample(51:100, 35), sample(101:150, 35))"
   ]
  },
  {
   "cell_type": "code",
   "execution_count": 29,
   "metadata": {},
   "outputs": [],
   "source": [
    "iris.train <- iris[samp,]\n",
    "iris.test <- iris[-samp,]"
   ]
  },
  {
   "cell_type": "code",
   "execution_count": 30,
   "metadata": {},
   "outputs": [
    {
     "data": {
      "text/plain": [
       "  Sepal.Length    Sepal.Width     Petal.Length    Petal.Width   \n",
       " Min.   :4.300   Min.   :2.000   Min.   :1.000   Min.   :0.100  \n",
       " 1st Qu.:5.100   1st Qu.:2.800   1st Qu.:1.600   1st Qu.:0.300  \n",
       " Median :5.800   Median :3.000   Median :4.200   Median :1.300  \n",
       " Mean   :5.834   Mean   :3.057   Mean   :3.741   Mean   :1.183  \n",
       " 3rd Qu.:6.400   3rd Qu.:3.300   3rd Qu.:5.100   3rd Qu.:1.800  \n",
       " Max.   :7.900   Max.   :4.200   Max.   :6.900   Max.   :2.500  \n",
       "       Species  \n",
       " setosa    :35  \n",
       " versicolor:35  \n",
       " virginica :35  \n",
       "                \n",
       "                \n",
       "                "
      ]
     },
     "metadata": {},
     "output_type": "display_data"
    }
   ],
   "source": [
    "summary(iris.train)"
   ]
  },
  {
   "cell_type": "code",
   "execution_count": 31,
   "metadata": {},
   "outputs": [
    {
     "data": {
      "text/plain": [
       "  Sepal.Length    Sepal.Width     Petal.Length    Petal.Width   \n",
       " Min.   :4.600   Min.   :2.200   Min.   :1.300   Min.   :0.100  \n",
       " 1st Qu.:5.000   1st Qu.:2.900   1st Qu.:1.600   1st Qu.:0.400  \n",
       " Median :5.700   Median :3.000   Median :4.400   Median :1.300  \n",
       " Mean   :5.864   Mean   :3.058   Mean   :3.798   Mean   :1.238  \n",
       " 3rd Qu.:6.400   3rd Qu.:3.200   3rd Qu.:5.200   3rd Qu.:1.900  \n",
       " Max.   :7.700   Max.   :4.400   Max.   :6.700   Max.   :2.400  \n",
       "       Species  \n",
       " setosa    :15  \n",
       " versicolor:15  \n",
       " virginica :15  \n",
       "                \n",
       "                \n",
       "                "
      ]
     },
     "metadata": {},
     "output_type": "display_data"
    }
   ],
   "source": [
    "summary(iris.test)"
   ]
  },
  {
   "cell_type": "markdown",
   "metadata": {},
   "source": [
    "## Create Features and Targets"
   ]
  },
  {
   "cell_type": "code",
   "execution_count": 38,
   "metadata": {},
   "outputs": [],
   "source": [
    "# Features\n",
    "features <- subset(iris.test, select = -Species) # w.o. Species\n",
    "\n",
    "# Targets\n",
    "targets <- iris.test$Species"
   ]
  },
  {
   "cell_type": "markdown",
   "metadata": {},
   "source": [
    "## Training"
   ]
  },
  {
   "cell_type": "code",
   "execution_count": 39,
   "metadata": {},
   "outputs": [
    {
     "data": {
      "text/plain": [
       "\n",
       "Call:\n",
       "svm(formula = Species ~ ., data = iris.train)\n",
       "\n",
       "\n",
       "Parameters:\n",
       "   SVM-Type:  C-classification \n",
       " SVM-Kernel:  radial \n",
       "       cost:  1 \n",
       "\n",
       "Number of Support Vectors:  44\n"
      ]
     },
     "metadata": {},
     "output_type": "display_data"
    }
   ],
   "source": [
    "model <- svm(Species~ ., data = iris.train)\n",
    "model"
   ]
  },
  {
   "cell_type": "code",
   "execution_count": 40,
   "metadata": {},
   "outputs": [
    {
     "data": {
      "text/plain": [
       "\n",
       "Call:\n",
       "svm(formula = Species ~ ., data = iris.train)\n",
       "\n",
       "\n",
       "Parameters:\n",
       "   SVM-Type:  C-classification \n",
       " SVM-Kernel:  radial \n",
       "       cost:  1 \n",
       "\n",
       "Number of Support Vectors:  44\n",
       "\n",
       " ( 9 17 18 )\n",
       "\n",
       "\n",
       "Number of Classes:  3 \n",
       "\n",
       "Levels: \n",
       " setosa versicolor virginica\n",
       "\n",
       "\n"
      ]
     },
     "metadata": {},
     "output_type": "display_data"
    }
   ],
   "source": [
    "summary(model)"
   ]
  },
  {
   "cell_type": "markdown",
   "metadata": {},
   "source": [
    "## Prediction"
   ]
  },
  {
   "cell_type": "code",
   "execution_count": 41,
   "metadata": {
    "scrolled": false
   },
   "outputs": [
    {
     "data": {
      "text/html": [
       "<dl class=dl-horizontal>\n",
       "\t<dt>3</dt>\n",
       "\t\t<dd>setosa</dd>\n",
       "\t<dt>4</dt>\n",
       "\t\t<dd>setosa</dd>\n",
       "\t<dt>5</dt>\n",
       "\t\t<dd>setosa</dd>\n",
       "\t<dt>6</dt>\n",
       "\t\t<dd>setosa</dd>\n",
       "\t<dt>7</dt>\n",
       "\t\t<dd>setosa</dd>\n",
       "\t<dt>8</dt>\n",
       "\t\t<dd>setosa</dd>\n",
       "\t<dt>13</dt>\n",
       "\t\t<dd>setosa</dd>\n",
       "\t<dt>16</dt>\n",
       "\t\t<dd>setosa</dd>\n",
       "\t<dt>22</dt>\n",
       "\t\t<dd>setosa</dd>\n",
       "\t<dt>25</dt>\n",
       "\t\t<dd>setosa</dd>\n",
       "\t<dt>26</dt>\n",
       "\t\t<dd>setosa</dd>\n",
       "\t<dt>29</dt>\n",
       "\t\t<dd>setosa</dd>\n",
       "\t<dt>35</dt>\n",
       "\t\t<dd>setosa</dd>\n",
       "\t<dt>44</dt>\n",
       "\t\t<dd>setosa</dd>\n",
       "\t<dt>48</dt>\n",
       "\t\t<dd>setosa</dd>\n",
       "\t<dt>51</dt>\n",
       "\t\t<dd>versicolor</dd>\n",
       "\t<dt>52</dt>\n",
       "\t\t<dd>versicolor</dd>\n",
       "\t<dt>54</dt>\n",
       "\t\t<dd>versicolor</dd>\n",
       "\t<dt>59</dt>\n",
       "\t\t<dd>versicolor</dd>\n",
       "\t<dt>63</dt>\n",
       "\t\t<dd>versicolor</dd>\n",
       "\t<dt>65</dt>\n",
       "\t\t<dd>versicolor</dd>\n",
       "\t<dt>67</dt>\n",
       "\t\t<dd>versicolor</dd>\n",
       "\t<dt>69</dt>\n",
       "\t\t<dd>virginica</dd>\n",
       "\t<dt>79</dt>\n",
       "\t\t<dd>versicolor</dd>\n",
       "\t<dt>85</dt>\n",
       "\t\t<dd>versicolor</dd>\n",
       "\t<dt>88</dt>\n",
       "\t\t<dd>versicolor</dd>\n",
       "\t<dt>90</dt>\n",
       "\t\t<dd>versicolor</dd>\n",
       "\t<dt>91</dt>\n",
       "\t\t<dd>versicolor</dd>\n",
       "\t<dt>97</dt>\n",
       "\t\t<dd>versicolor</dd>\n",
       "\t<dt>98</dt>\n",
       "\t\t<dd>versicolor</dd>\n",
       "\t<dt>103</dt>\n",
       "\t\t<dd>virginica</dd>\n",
       "\t<dt>106</dt>\n",
       "\t\t<dd>virginica</dd>\n",
       "\t<dt>107</dt>\n",
       "\t\t<dd>versicolor</dd>\n",
       "\t<dt>112</dt>\n",
       "\t\t<dd>virginica</dd>\n",
       "\t<dt>118</dt>\n",
       "\t\t<dd>virginica</dd>\n",
       "\t<dt>121</dt>\n",
       "\t\t<dd>virginica</dd>\n",
       "\t<dt>127</dt>\n",
       "\t\t<dd>virginica</dd>\n",
       "\t<dt>129</dt>\n",
       "\t\t<dd>virginica</dd>\n",
       "\t<dt>133</dt>\n",
       "\t\t<dd>virginica</dd>\n",
       "\t<dt>136</dt>\n",
       "\t\t<dd>virginica</dd>\n",
       "\t<dt>138</dt>\n",
       "\t\t<dd>virginica</dd>\n",
       "\t<dt>141</dt>\n",
       "\t\t<dd>virginica</dd>\n",
       "\t<dt>142</dt>\n",
       "\t\t<dd>virginica</dd>\n",
       "\t<dt>148</dt>\n",
       "\t\t<dd>virginica</dd>\n",
       "\t<dt>149</dt>\n",
       "\t\t<dd>virginica</dd>\n",
       "</dl>\n",
       "\n",
       "<details>\n",
       "\t<summary style=display:list-item;cursor:pointer>\n",
       "\t\t<strong>Levels</strong>:\n",
       "\t</summary>\n",
       "\t<ol class=list-inline>\n",
       "\t\t<li>'setosa'</li>\n",
       "\t\t<li>'versicolor'</li>\n",
       "\t\t<li>'virginica'</li>\n",
       "\t</ol>\n",
       "</details>"
      ],
      "text/latex": [
       "\\begin{description*}\n",
       "\\item[3] setosa\n",
       "\\item[4] setosa\n",
       "\\item[5] setosa\n",
       "\\item[6] setosa\n",
       "\\item[7] setosa\n",
       "\\item[8] setosa\n",
       "\\item[13] setosa\n",
       "\\item[16] setosa\n",
       "\\item[22] setosa\n",
       "\\item[25] setosa\n",
       "\\item[26] setosa\n",
       "\\item[29] setosa\n",
       "\\item[35] setosa\n",
       "\\item[44] setosa\n",
       "\\item[48] setosa\n",
       "\\item[51] versicolor\n",
       "\\item[52] versicolor\n",
       "\\item[54] versicolor\n",
       "\\item[59] versicolor\n",
       "\\item[63] versicolor\n",
       "\\item[65] versicolor\n",
       "\\item[67] versicolor\n",
       "\\item[69] virginica\n",
       "\\item[79] versicolor\n",
       "\\item[85] versicolor\n",
       "\\item[88] versicolor\n",
       "\\item[90] versicolor\n",
       "\\item[91] versicolor\n",
       "\\item[97] versicolor\n",
       "\\item[98] versicolor\n",
       "\\item[103] virginica\n",
       "\\item[106] virginica\n",
       "\\item[107] versicolor\n",
       "\\item[112] virginica\n",
       "\\item[118] virginica\n",
       "\\item[121] virginica\n",
       "\\item[127] virginica\n",
       "\\item[129] virginica\n",
       "\\item[133] virginica\n",
       "\\item[136] virginica\n",
       "\\item[138] virginica\n",
       "\\item[141] virginica\n",
       "\\item[142] virginica\n",
       "\\item[148] virginica\n",
       "\\item[149] virginica\n",
       "\\end{description*}\n",
       "\n",
       "\\emph{Levels}: \\begin{enumerate*}\n",
       "\\item 'setosa'\n",
       "\\item 'versicolor'\n",
       "\\item 'virginica'\n",
       "\\end{enumerate*}\n"
      ],
      "text/markdown": [
       "3\n",
       ":   setosa4\n",
       ":   setosa5\n",
       ":   setosa6\n",
       ":   setosa7\n",
       ":   setosa8\n",
       ":   setosa13\n",
       ":   setosa16\n",
       ":   setosa22\n",
       ":   setosa25\n",
       ":   setosa26\n",
       ":   setosa29\n",
       ":   setosa35\n",
       ":   setosa44\n",
       ":   setosa48\n",
       ":   setosa51\n",
       ":   versicolor52\n",
       ":   versicolor54\n",
       ":   versicolor59\n",
       ":   versicolor63\n",
       ":   versicolor65\n",
       ":   versicolor67\n",
       ":   versicolor69\n",
       ":   virginica79\n",
       ":   versicolor85\n",
       ":   versicolor88\n",
       ":   versicolor90\n",
       ":   versicolor91\n",
       ":   versicolor97\n",
       ":   versicolor98\n",
       ":   versicolor103\n",
       ":   virginica106\n",
       ":   virginica107\n",
       ":   versicolor112\n",
       ":   virginica118\n",
       ":   virginica121\n",
       ":   virginica127\n",
       ":   virginica129\n",
       ":   virginica133\n",
       ":   virginica136\n",
       ":   virginica138\n",
       ":   virginica141\n",
       ":   virginica142\n",
       ":   virginica148\n",
       ":   virginica149\n",
       ":   virginica\n",
       "\n",
       "\n",
       "**Levels**: 1. 'setosa'\n",
       "2. 'versicolor'\n",
       "3. 'virginica'\n",
       "\n",
       "\n"
      ],
      "text/plain": [
       "         3          4          5          6          7          8         13 \n",
       "    setosa     setosa     setosa     setosa     setosa     setosa     setosa \n",
       "        16         22         25         26         29         35         44 \n",
       "    setosa     setosa     setosa     setosa     setosa     setosa     setosa \n",
       "        48         51         52         54         59         63         65 \n",
       "    setosa versicolor versicolor versicolor versicolor versicolor versicolor \n",
       "        67         69         79         85         88         90         91 \n",
       "versicolor  virginica versicolor versicolor versicolor versicolor versicolor \n",
       "        97         98        103        106        107        112        118 \n",
       "versicolor versicolor  virginica  virginica versicolor  virginica  virginica \n",
       "       121        127        129        133        136        138        141 \n",
       " virginica  virginica  virginica  virginica  virginica  virginica  virginica \n",
       "       142        148        149 \n",
       " virginica  virginica  virginica \n",
       "Levels: setosa versicolor virginica"
      ]
     },
     "metadata": {},
     "output_type": "display_data"
    }
   ],
   "source": [
    "pred <- predict(model, x)\n",
    "pred"
   ]
  },
  {
   "cell_type": "markdown",
   "metadata": {},
   "source": [
    "## Calculate the accuracy"
   ]
  },
  {
   "cell_type": "code",
   "execution_count": 42,
   "metadata": {},
   "outputs": [
    {
     "data": {
      "text/html": [
       "95.5555555555556"
      ],
      "text/latex": [
       "95.5555555555556"
      ],
      "text/markdown": [
       "95.5555555555556"
      ],
      "text/plain": [
       "[1] 95.55556"
      ]
     },
     "metadata": {},
     "output_type": "display_data"
    }
   ],
   "source": [
    "mean(pred == targets) * 100"
   ]
  },
  {
   "cell_type": "markdown",
   "metadata": {},
   "source": [
    "## Misclassification"
   ]
  },
  {
   "cell_type": "code",
   "execution_count": 44,
   "metadata": {},
   "outputs": [
    {
     "data": {
      "text/plain": [
       "            targets\n",
       "pred         setosa versicolor virginica\n",
       "  setosa         15          0         0\n",
       "  versicolor      0         14         1\n",
       "  virginica       0          1        14"
      ]
     },
     "metadata": {},
     "output_type": "display_data"
    }
   ],
   "source": [
    "table(pred, targets)"
   ]
  },
  {
   "cell_type": "code",
   "execution_count": null,
   "metadata": {},
   "outputs": [],
   "source": []
  }
 ],
 "metadata": {
  "kernelspec": {
   "display_name": "R",
   "language": "R",
   "name": "ir"
  },
  "language_info": {
   "codemirror_mode": "r",
   "file_extension": ".r",
   "mimetype": "text/x-r-source",
   "name": "R",
   "pygments_lexer": "r",
   "version": "3.6.1"
  },
  "latex_envs": {
   "LaTeX_envs_menu_present": true,
   "autoclose": false,
   "autocomplete": true,
   "bibliofile": "biblio.bib",
   "cite_by": "apalike",
   "current_citInitial": 1,
   "eqLabelWithNumbers": true,
   "eqNumInitial": 1,
   "hotkeys": {
    "equation": "Ctrl-E",
    "itemize": "Ctrl-I"
   },
   "labels_anchors": false,
   "latex_user_defs": false,
   "report_style_numbering": false,
   "user_envs_cfg": false
  },
  "varInspector": {
   "cols": {
    "lenName": 16,
    "lenType": 16,
    "lenVar": 40
   },
   "kernels_config": {
    "python": {
     "delete_cmd_postfix": "",
     "delete_cmd_prefix": "del ",
     "library": "var_list.py",
     "varRefreshCmd": "print(var_dic_list())"
    },
    "r": {
     "delete_cmd_postfix": ") ",
     "delete_cmd_prefix": "rm(",
     "library": "var_list.r",
     "varRefreshCmd": "cat(var_dic_list()) "
    }
   },
   "types_to_exclude": [
    "module",
    "function",
    "builtin_function_or_method",
    "instance",
    "_Feature"
   ],
   "window_display": false
  }
 },
 "nbformat": 4,
 "nbformat_minor": 2
}
