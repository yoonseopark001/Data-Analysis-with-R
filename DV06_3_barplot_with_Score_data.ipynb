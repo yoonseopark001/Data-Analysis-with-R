{
 "cells": [
  {
   "cell_type": "markdown",
   "metadata": {},
   "source": [
    "# Compare scores by educational backgrounds"
   ]
  },
  {
   "cell_type": "markdown",
   "metadata": {},
   "source": [
    "## Load Data"
   ]
  },
  {
   "cell_type": "code",
   "execution_count": 1,
   "metadata": {
    "scrolled": true
   },
   "outputs": [
    {
     "data": {
      "text/html": [
       "<table>\n",
       "<caption>A data.frame: 6 × 4</caption>\n",
       "<thead>\n",
       "\t<tr><th></th><th scope=col>X1</th><th scope=col>X88</th><th scope=col>X1.1</th><th scope=col>X1.2</th></tr>\n",
       "\t<tr><th></th><th scope=col>&lt;int&gt;</th><th scope=col>&lt;int&gt;</th><th scope=col>&lt;int&gt;</th><th scope=col>&lt;int&gt;</th></tr>\n",
       "</thead>\n",
       "<tbody>\n",
       "\t<tr><th scope=row>1</th><td>1</td><td>89</td><td>2</td><td>2</td></tr>\n",
       "\t<tr><th scope=row>2</th><td>1</td><td>90</td><td>3</td><td>3</td></tr>\n",
       "\t<tr><th scope=row>3</th><td>1</td><td>90</td><td>1</td><td>4</td></tr>\n",
       "\t<tr><th scope=row>4</th><td>1</td><td>90</td><td>2</td><td>5</td></tr>\n",
       "\t<tr><th scope=row>5</th><td>1</td><td>90</td><td>3</td><td>1</td></tr>\n",
       "\t<tr><th scope=row>6</th><td>1</td><td>71</td><td>1</td><td>2</td></tr>\n",
       "</tbody>\n",
       "</table>\n"
      ],
      "text/latex": [
       "A data.frame: 6 × 4\n",
       "\\begin{tabular}{r|llll}\n",
       "  & X1 & X88 & X1.1 & X1.2\\\\\n",
       "  & <int> & <int> & <int> & <int>\\\\\n",
       "\\hline\n",
       "\t1 & 1 & 89 & 2 & 2\\\\\n",
       "\t2 & 1 & 90 & 3 & 3\\\\\n",
       "\t3 & 1 & 90 & 1 & 4\\\\\n",
       "\t4 & 1 & 90 & 2 & 5\\\\\n",
       "\t5 & 1 & 90 & 3 & 1\\\\\n",
       "\t6 & 1 & 71 & 1 & 2\\\\\n",
       "\\end{tabular}\n"
      ],
      "text/markdown": [
       "\n",
       "A data.frame: 6 × 4\n",
       "\n",
       "| <!--/--> | X1 &lt;int&gt; | X88 &lt;int&gt; | X1.1 &lt;int&gt; | X1.2 &lt;int&gt; |\n",
       "|---|---|---|---|---|\n",
       "| 1 | 1 | 89 | 2 | 2 |\n",
       "| 2 | 1 | 90 | 3 | 3 |\n",
       "| 3 | 1 | 90 | 1 | 4 |\n",
       "| 4 | 1 | 90 | 2 | 5 |\n",
       "| 5 | 1 | 90 | 3 | 1 |\n",
       "| 6 | 1 | 71 | 1 | 2 |\n",
       "\n"
      ],
      "text/plain": [
       "  X1 X88 X1.1 X1.2\n",
       "1 1  89  2    2   \n",
       "2 1  90  3    3   \n",
       "3 1  90  1    4   \n",
       "4 1  90  2    5   \n",
       "5 1  90  3    1   \n",
       "6 1  71  1    2   "
      ]
     },
     "metadata": {},
     "output_type": "display_data"
    }
   ],
   "source": [
    "head(read.csv(\"./Data/education.csv\"))"
   ]
  },
  {
   "cell_type": "code",
   "execution_count": 3,
   "metadata": {
    "scrolled": false
   },
   "outputs": [
    {
     "data": {
      "text/html": [
       "<table>\n",
       "<caption>A data.frame: 6 × 4</caption>\n",
       "<thead>\n",
       "\t<tr><th></th><th scope=col>V1</th><th scope=col>V2</th><th scope=col>V3</th><th scope=col>V4</th></tr>\n",
       "\t<tr><th></th><th scope=col>&lt;int&gt;</th><th scope=col>&lt;int&gt;</th><th scope=col>&lt;int&gt;</th><th scope=col>&lt;int&gt;</th></tr>\n",
       "</thead>\n",
       "<tbody>\n",
       "\t<tr><th scope=row>1</th><td>1</td><td>88</td><td>1</td><td>1</td></tr>\n",
       "\t<tr><th scope=row>2</th><td>1</td><td>89</td><td>2</td><td>2</td></tr>\n",
       "\t<tr><th scope=row>3</th><td>1</td><td>90</td><td>3</td><td>3</td></tr>\n",
       "\t<tr><th scope=row>4</th><td>1</td><td>90</td><td>1</td><td>4</td></tr>\n",
       "\t<tr><th scope=row>5</th><td>1</td><td>90</td><td>2</td><td>5</td></tr>\n",
       "\t<tr><th scope=row>6</th><td>1</td><td>90</td><td>3</td><td>1</td></tr>\n",
       "</tbody>\n",
       "</table>\n"
      ],
      "text/latex": [
       "A data.frame: 6 × 4\n",
       "\\begin{tabular}{r|llll}\n",
       "  & V1 & V2 & V3 & V4\\\\\n",
       "  & <int> & <int> & <int> & <int>\\\\\n",
       "\\hline\n",
       "\t1 & 1 & 88 & 1 & 1\\\\\n",
       "\t2 & 1 & 89 & 2 & 2\\\\\n",
       "\t3 & 1 & 90 & 3 & 3\\\\\n",
       "\t4 & 1 & 90 & 1 & 4\\\\\n",
       "\t5 & 1 & 90 & 2 & 5\\\\\n",
       "\t6 & 1 & 90 & 3 & 1\\\\\n",
       "\\end{tabular}\n"
      ],
      "text/markdown": [
       "\n",
       "A data.frame: 6 × 4\n",
       "\n",
       "| <!--/--> | V1 &lt;int&gt; | V2 &lt;int&gt; | V3 &lt;int&gt; | V4 &lt;int&gt; |\n",
       "|---|---|---|---|---|\n",
       "| 1 | 1 | 88 | 1 | 1 |\n",
       "| 2 | 1 | 89 | 2 | 2 |\n",
       "| 3 | 1 | 90 | 3 | 3 |\n",
       "| 4 | 1 | 90 | 1 | 4 |\n",
       "| 5 | 1 | 90 | 2 | 5 |\n",
       "| 6 | 1 | 90 | 3 | 1 |\n",
       "\n"
      ],
      "text/plain": [
       "  V1 V2 V3 V4\n",
       "1 1  88 1  1 \n",
       "2 1  89 2  2 \n",
       "3 1  90 3  3 \n",
       "4 1  90 1  4 \n",
       "5 1  90 2  5 \n",
       "6 1  90 3  1 "
      ]
     },
     "metadata": {},
     "output_type": "display_data"
    },
    {
     "data": {
      "text/html": [
       "<table>\n",
       "<caption>A data.frame: 6 × 4</caption>\n",
       "<thead>\n",
       "\t<tr><th></th><th scope=col>V1</th><th scope=col>V2</th><th scope=col>V3</th><th scope=col>V4</th></tr>\n",
       "\t<tr><th></th><th scope=col>&lt;int&gt;</th><th scope=col>&lt;int&gt;</th><th scope=col>&lt;int&gt;</th><th scope=col>&lt;int&gt;</th></tr>\n",
       "</thead>\n",
       "<tbody>\n",
       "\t<tr><th scope=row>43</th><td>2</td><td>89</td><td>1</td><td>3</td></tr>\n",
       "\t<tr><th scope=row>44</th><td>2</td><td>89</td><td>2</td><td>4</td></tr>\n",
       "\t<tr><th scope=row>45</th><td>2</td><td>89</td><td>3</td><td>5</td></tr>\n",
       "\t<tr><th scope=row>46</th><td>2</td><td>89</td><td>1</td><td>1</td></tr>\n",
       "\t<tr><th scope=row>47</th><td>2</td><td>89</td><td>2</td><td>2</td></tr>\n",
       "\t<tr><th scope=row>48</th><td>2</td><td>89</td><td>3</td><td>3</td></tr>\n",
       "</tbody>\n",
       "</table>\n"
      ],
      "text/latex": [
       "A data.frame: 6 × 4\n",
       "\\begin{tabular}{r|llll}\n",
       "  & V1 & V2 & V3 & V4\\\\\n",
       "  & <int> & <int> & <int> & <int>\\\\\n",
       "\\hline\n",
       "\t43 & 2 & 89 & 1 & 3\\\\\n",
       "\t44 & 2 & 89 & 2 & 4\\\\\n",
       "\t45 & 2 & 89 & 3 & 5\\\\\n",
       "\t46 & 2 & 89 & 1 & 1\\\\\n",
       "\t47 & 2 & 89 & 2 & 2\\\\\n",
       "\t48 & 2 & 89 & 3 & 3\\\\\n",
       "\\end{tabular}\n"
      ],
      "text/markdown": [
       "\n",
       "A data.frame: 6 × 4\n",
       "\n",
       "| <!--/--> | V1 &lt;int&gt; | V2 &lt;int&gt; | V3 &lt;int&gt; | V4 &lt;int&gt; |\n",
       "|---|---|---|---|---|\n",
       "| 43 | 2 | 89 | 1 | 3 |\n",
       "| 44 | 2 | 89 | 2 | 4 |\n",
       "| 45 | 2 | 89 | 3 | 5 |\n",
       "| 46 | 2 | 89 | 1 | 1 |\n",
       "| 47 | 2 | 89 | 2 | 2 |\n",
       "| 48 | 2 | 89 | 3 | 3 |\n",
       "\n"
      ],
      "text/plain": [
       "   V1 V2 V3 V4\n",
       "43 2  89 1  3 \n",
       "44 2  89 2  4 \n",
       "45 2  89 3  5 \n",
       "46 2  89 1  1 \n",
       "47 2  89 2  2 \n",
       "48 2  89 3  3 "
      ]
     },
     "metadata": {},
     "output_type": "display_data"
    }
   ],
   "source": [
    "classScore <- read.csv(\"./Data/education.csv\", header = F)\n",
    "head(classScore)\n",
    "tail(classScore)"
   ]
  },
  {
   "cell_type": "markdown",
   "metadata": {},
   "source": [
    "## Data Cleanup"
   ]
  },
  {
   "cell_type": "markdown",
   "metadata": {},
   "source": [
    "Memo  \n",
    "- V1: \"man\", \"woman\"\n",
    "- V2: score\n",
    "- V3: \"English\", \"Math\", \"Physics\"\n",
    "- V4: \"classA\", \"classB\", \"classC\", \"classD\", \"classE\""
   ]
  },
  {
   "cell_type": "code",
   "execution_count": 4,
   "metadata": {},
   "outputs": [
    {
     "name": "stdout",
     "output_type": "stream",
     "text": [
      "'data.frame':\t48 obs. of  4 variables:\n",
      " $ V1: int  1 1 1 1 1 1 1 1 1 1 ...\n",
      " $ V2: int  88 89 90 90 90 90 71 72 72 72 ...\n",
      " $ V3: int  1 2 3 1 2 3 1 2 3 1 ...\n",
      " $ V4: int  1 2 3 4 5 1 2 3 4 5 ...\n"
     ]
    }
   ],
   "source": [
    "str(classScore)"
   ]
  },
  {
   "cell_type": "code",
   "execution_count": 5,
   "metadata": {},
   "outputs": [
    {
     "data": {
      "text/html": [
       "<ol class=list-inline>\n",
       "\t<li>1</li>\n",
       "\t<li>2</li>\n",
       "</ol>\n"
      ],
      "text/latex": [
       "\\begin{enumerate*}\n",
       "\\item 1\n",
       "\\item 2\n",
       "\\end{enumerate*}\n"
      ],
      "text/markdown": [
       "1. 1\n",
       "2. 2\n",
       "\n",
       "\n"
      ],
      "text/plain": [
       "[1] 1 2"
      ]
     },
     "metadata": {},
     "output_type": "display_data"
    },
    {
     "data": {
      "text/html": [
       "<ol class=list-inline>\n",
       "\t<li>88</li>\n",
       "\t<li>89</li>\n",
       "\t<li>90</li>\n",
       "\t<li>71</li>\n",
       "\t<li>72</li>\n",
       "\t<li>92</li>\n",
       "\t<li>95</li>\n",
       "</ol>\n"
      ],
      "text/latex": [
       "\\begin{enumerate*}\n",
       "\\item 88\n",
       "\\item 89\n",
       "\\item 90\n",
       "\\item 71\n",
       "\\item 72\n",
       "\\item 92\n",
       "\\item 95\n",
       "\\end{enumerate*}\n"
      ],
      "text/markdown": [
       "1. 88\n",
       "2. 89\n",
       "3. 90\n",
       "4. 71\n",
       "5. 72\n",
       "6. 92\n",
       "7. 95\n",
       "\n",
       "\n"
      ],
      "text/plain": [
       "[1] 88 89 90 71 72 92 95"
      ]
     },
     "metadata": {},
     "output_type": "display_data"
    },
    {
     "data": {
      "text/html": [
       "<ol class=list-inline>\n",
       "\t<li>1</li>\n",
       "\t<li>2</li>\n",
       "\t<li>3</li>\n",
       "</ol>\n"
      ],
      "text/latex": [
       "\\begin{enumerate*}\n",
       "\\item 1\n",
       "\\item 2\n",
       "\\item 3\n",
       "\\end{enumerate*}\n"
      ],
      "text/markdown": [
       "1. 1\n",
       "2. 2\n",
       "3. 3\n",
       "\n",
       "\n"
      ],
      "text/plain": [
       "[1] 1 2 3"
      ]
     },
     "metadata": {},
     "output_type": "display_data"
    },
    {
     "data": {
      "text/html": [
       "<ol class=list-inline>\n",
       "\t<li>1</li>\n",
       "\t<li>2</li>\n",
       "\t<li>3</li>\n",
       "\t<li>4</li>\n",
       "\t<li>5</li>\n",
       "</ol>\n"
      ],
      "text/latex": [
       "\\begin{enumerate*}\n",
       "\\item 1\n",
       "\\item 2\n",
       "\\item 3\n",
       "\\item 4\n",
       "\\item 5\n",
       "\\end{enumerate*}\n"
      ],
      "text/markdown": [
       "1. 1\n",
       "2. 2\n",
       "3. 3\n",
       "4. 4\n",
       "5. 5\n",
       "\n",
       "\n"
      ],
      "text/plain": [
       "[1] 1 2 3 4 5"
      ]
     },
     "metadata": {},
     "output_type": "display_data"
    }
   ],
   "source": [
    "unique(classScore$V1)\n",
    "unique(classScore$V2)\n",
    "unique(classScore$V3)\n",
    "unique(classScore$V4)"
   ]
  },
  {
   "cell_type": "markdown",
   "metadata": {},
   "source": [
    "### encode as factor"
   ]
  },
  {
   "cell_type": "code",
   "execution_count": 6,
   "metadata": {},
   "outputs": [],
   "source": [
    "classScore$V1 <- factor(classScore$V1, levels = 1:2, labels = c(\"man\", \"woman\"))\n",
    "classScore$V3 <- factor(classScore$V3, levels = 1:3, labels = c(\"English\", \"Math\", \"Physics\"))\n",
    "classScore$V4 <- factor(classScore$V4, levels = 1:5, labels = c(\"classA\", \"classB\", \"classC\", \"classD\", \"classE\"))"
   ]
  },
  {
   "cell_type": "code",
   "execution_count": 7,
   "metadata": {},
   "outputs": [
    {
     "name": "stdout",
     "output_type": "stream",
     "text": [
      "'data.frame':\t48 obs. of  4 variables:\n",
      " $ V1: Factor w/ 2 levels \"man\",\"woman\": 1 1 1 1 1 1 1 1 1 1 ...\n",
      " $ V2: int  88 89 90 90 90 90 71 72 72 72 ...\n",
      " $ V3: Factor w/ 3 levels \"English\",\"Math\",..: 1 2 3 1 2 3 1 2 3 1 ...\n",
      " $ V4: Factor w/ 5 levels \"classA\",\"classB\",..: 1 2 3 4 5 1 2 3 4 5 ...\n"
     ]
    }
   ],
   "source": [
    "str(classScore)"
   ]
  },
  {
   "cell_type": "code",
   "execution_count": 8,
   "metadata": {},
   "outputs": [
    {
     "data": {
      "text/html": [
       "<table>\n",
       "<caption>A data.frame: 6 × 4</caption>\n",
       "<thead>\n",
       "\t<tr><th></th><th scope=col>V1</th><th scope=col>V2</th><th scope=col>V3</th><th scope=col>V4</th></tr>\n",
       "\t<tr><th></th><th scope=col>&lt;fct&gt;</th><th scope=col>&lt;int&gt;</th><th scope=col>&lt;fct&gt;</th><th scope=col>&lt;fct&gt;</th></tr>\n",
       "</thead>\n",
       "<tbody>\n",
       "\t<tr><th scope=row>1</th><td>man</td><td>88</td><td>English</td><td>classA</td></tr>\n",
       "\t<tr><th scope=row>2</th><td>man</td><td>89</td><td>Math   </td><td>classB</td></tr>\n",
       "\t<tr><th scope=row>3</th><td>man</td><td>90</td><td>Physics</td><td>classC</td></tr>\n",
       "\t<tr><th scope=row>4</th><td>man</td><td>90</td><td>English</td><td>classD</td></tr>\n",
       "\t<tr><th scope=row>5</th><td>man</td><td>90</td><td>Math   </td><td>classE</td></tr>\n",
       "\t<tr><th scope=row>6</th><td>man</td><td>90</td><td>Physics</td><td>classA</td></tr>\n",
       "</tbody>\n",
       "</table>\n"
      ],
      "text/latex": [
       "A data.frame: 6 × 4\n",
       "\\begin{tabular}{r|llll}\n",
       "  & V1 & V2 & V3 & V4\\\\\n",
       "  & <fct> & <int> & <fct> & <fct>\\\\\n",
       "\\hline\n",
       "\t1 & man & 88 & English & classA\\\\\n",
       "\t2 & man & 89 & Math    & classB\\\\\n",
       "\t3 & man & 90 & Physics & classC\\\\\n",
       "\t4 & man & 90 & English & classD\\\\\n",
       "\t5 & man & 90 & Math    & classE\\\\\n",
       "\t6 & man & 90 & Physics & classA\\\\\n",
       "\\end{tabular}\n"
      ],
      "text/markdown": [
       "\n",
       "A data.frame: 6 × 4\n",
       "\n",
       "| <!--/--> | V1 &lt;fct&gt; | V2 &lt;int&gt; | V3 &lt;fct&gt; | V4 &lt;fct&gt; |\n",
       "|---|---|---|---|---|\n",
       "| 1 | man | 88 | English | classA |\n",
       "| 2 | man | 89 | Math    | classB |\n",
       "| 3 | man | 90 | Physics | classC |\n",
       "| 4 | man | 90 | English | classD |\n",
       "| 5 | man | 90 | Math    | classE |\n",
       "| 6 | man | 90 | Physics | classA |\n",
       "\n"
      ],
      "text/plain": [
       "  V1  V2 V3      V4    \n",
       "1 man 88 English classA\n",
       "2 man 89 Math    classB\n",
       "3 man 90 Physics classC\n",
       "4 man 90 English classD\n",
       "5 man 90 Math    classE\n",
       "6 man 90 Physics classA"
      ]
     },
     "metadata": {},
     "output_type": "display_data"
    }
   ],
   "source": [
    "head(classScore)"
   ]
  },
  {
   "cell_type": "markdown",
   "metadata": {},
   "source": [
    "### allocate colnames"
   ]
  },
  {
   "cell_type": "code",
   "execution_count": 9,
   "metadata": {},
   "outputs": [],
   "source": [
    "colnames(classScore) <- c(\"Gender\", \"Score\", \"Subject\", \"Class\")"
   ]
  },
  {
   "cell_type": "code",
   "execution_count": 10,
   "metadata": {},
   "outputs": [
    {
     "data": {
      "text/html": [
       "<table>\n",
       "<caption>A data.frame: 6 × 4</caption>\n",
       "<thead>\n",
       "\t<tr><th></th><th scope=col>Gender</th><th scope=col>Score</th><th scope=col>Subject</th><th scope=col>Class</th></tr>\n",
       "\t<tr><th></th><th scope=col>&lt;fct&gt;</th><th scope=col>&lt;int&gt;</th><th scope=col>&lt;fct&gt;</th><th scope=col>&lt;fct&gt;</th></tr>\n",
       "</thead>\n",
       "<tbody>\n",
       "\t<tr><th scope=row>1</th><td>man</td><td>88</td><td>English</td><td>classA</td></tr>\n",
       "\t<tr><th scope=row>2</th><td>man</td><td>89</td><td>Math   </td><td>classB</td></tr>\n",
       "\t<tr><th scope=row>3</th><td>man</td><td>90</td><td>Physics</td><td>classC</td></tr>\n",
       "\t<tr><th scope=row>4</th><td>man</td><td>90</td><td>English</td><td>classD</td></tr>\n",
       "\t<tr><th scope=row>5</th><td>man</td><td>90</td><td>Math   </td><td>classE</td></tr>\n",
       "\t<tr><th scope=row>6</th><td>man</td><td>90</td><td>Physics</td><td>classA</td></tr>\n",
       "</tbody>\n",
       "</table>\n"
      ],
      "text/latex": [
       "A data.frame: 6 × 4\n",
       "\\begin{tabular}{r|llll}\n",
       "  & Gender & Score & Subject & Class\\\\\n",
       "  & <fct> & <int> & <fct> & <fct>\\\\\n",
       "\\hline\n",
       "\t1 & man & 88 & English & classA\\\\\n",
       "\t2 & man & 89 & Math    & classB\\\\\n",
       "\t3 & man & 90 & Physics & classC\\\\\n",
       "\t4 & man & 90 & English & classD\\\\\n",
       "\t5 & man & 90 & Math    & classE\\\\\n",
       "\t6 & man & 90 & Physics & classA\\\\\n",
       "\\end{tabular}\n"
      ],
      "text/markdown": [
       "\n",
       "A data.frame: 6 × 4\n",
       "\n",
       "| <!--/--> | Gender &lt;fct&gt; | Score &lt;int&gt; | Subject &lt;fct&gt; | Class &lt;fct&gt; |\n",
       "|---|---|---|---|---|\n",
       "| 1 | man | 88 | English | classA |\n",
       "| 2 | man | 89 | Math    | classB |\n",
       "| 3 | man | 90 | Physics | classC |\n",
       "| 4 | man | 90 | English | classD |\n",
       "| 5 | man | 90 | Math    | classE |\n",
       "| 6 | man | 90 | Physics | classA |\n",
       "\n"
      ],
      "text/plain": [
       "  Gender Score Subject Class \n",
       "1 man    88    English classA\n",
       "2 man    89    Math    classB\n",
       "3 man    90    Physics classC\n",
       "4 man    90    English classD\n",
       "5 man    90    Math    classE\n",
       "6 man    90    Physics classA"
      ]
     },
     "metadata": {},
     "output_type": "display_data"
    }
   ],
   "source": [
    "head(classScore)"
   ]
  },
  {
   "cell_type": "markdown",
   "metadata": {},
   "source": [
    "## Plots"
   ]
  },
  {
   "cell_type": "code",
   "execution_count": 31,
   "metadata": {
    "scrolled": true
   },
   "outputs": [
    {
     "data": {
      "text/plain": [
       "\n",
       "classA classB classC classD classE \n",
       "    10     10     10      9      9 "
      ]
     },
     "metadata": {},
     "output_type": "display_data"
    }
   ],
   "source": [
    "table(classScore$Class)\n",
    "\n",
    "# nrow(subset(classScore, Class == \"classA\"))\n",
    "# nrow(subset(classScore, Class == \"classB\"))\n",
    "# nrow(subset(classScore, Class == \"classC\"))\n",
    "# nrow(subset(classScore, Class == \"classD\"))\n",
    "# nrow(subset(classScore, Class == \"classE\"))"
   ]
  },
  {
   "cell_type": "code",
   "execution_count": 32,
   "metadata": {
    "scrolled": true
   },
   "outputs": [
    {
     "data": {
      "text/plain": [
       "        \n",
       "         man woman\n",
       "  classA   5     5\n",
       "  classB   5     5\n",
       "  classC   5     5\n",
       "  classD   5     4\n",
       "  classE   5     4"
      ]
     },
     "metadata": {},
     "output_type": "display_data"
    }
   ],
   "source": [
    "table(classScore$Class, classScore$Gender)"
   ]
  },
  {
   "cell_type": "code",
   "execution_count": 33,
   "metadata": {},
   "outputs": [
    {
     "data": {
      "text/plain": [
       "        \n",
       "         English Math Physics\n",
       "  classA       4    3       3\n",
       "  classB       3    4       3\n",
       "  classC       3    3       4\n",
       "  classD       3    3       3\n",
       "  classE       3    3       3"
      ]
     },
     "metadata": {},
     "output_type": "display_data"
    }
   ],
   "source": [
    "table(classScore$Class, classScore$Subject)"
   ]
  },
  {
   "cell_type": "markdown",
   "metadata": {},
   "source": [
    "### Average by Class"
   ]
  },
  {
   "cell_type": "code",
   "execution_count": 155,
   "metadata": {},
   "outputs": [
    {
     "name": "stdout",
     "output_type": "stream",
     "text": [
      "classA :  88.9 \n",
      "classB :  86.5 \n",
      "classC :  87.4 \n",
      "classD :  87.22 \n",
      "classE :  89 \n"
     ]
    }
   ],
   "source": [
    "classMean <- c()\n",
    "for (i in c(\"classA\", \"classB\", \"classC\", \"classD\", \"classE\")){\n",
    "    classMeanCalc <- round(mean(subset(classScore, Class == i)[,2]),2)\n",
    "    classMean <- c(classMean, classMeanCalc)\n",
    "    cat(paste(i, \": \", classMeanCalc),\"\\n\")\n",
    "}\n",
    "\n",
    "\n",
    "# mean(subset(classScore, Class == \"classA\")[,2])\n",
    "# mean(subset(classScore, Class == \"classB\")[,2])\n",
    "# mean(subset(classScore, Class == \"classC\")[,2])\n",
    "# mean(subset(classScore, Class == \"classD\")[,2])\n",
    "# mean(subset(classScore, Class == \"classE\")[,2])"
   ]
  },
  {
   "cell_type": "code",
   "execution_count": 156,
   "metadata": {},
   "outputs": [
    {
     "data": {
      "text/html": [
       "<ol class=list-inline>\n",
       "\t<li>88.9</li>\n",
       "\t<li>86.5</li>\n",
       "\t<li>87.4</li>\n",
       "\t<li>87.22</li>\n",
       "\t<li>89</li>\n",
       "</ol>\n"
      ],
      "text/latex": [
       "\\begin{enumerate*}\n",
       "\\item 88.9\n",
       "\\item 86.5\n",
       "\\item 87.4\n",
       "\\item 87.22\n",
       "\\item 89\n",
       "\\end{enumerate*}\n"
      ],
      "text/markdown": [
       "1. 88.9\n",
       "2. 86.5\n",
       "3. 87.4\n",
       "4. 87.22\n",
       "5. 89\n",
       "\n",
       "\n"
      ],
      "text/plain": [
       "[1] 88.90 86.50 87.40 87.22 89.00"
      ]
     },
     "metadata": {},
     "output_type": "display_data"
    }
   ],
   "source": [
    "classMean"
   ]
  },
  {
   "cell_type": "code",
   "execution_count": 151,
   "metadata": {
    "scrolled": false
   },
   "outputs": [
    {
     "data": {
      "image/png": "[encoded data removed]",
      "text/plain": [
       "plot without title"
      ]
     },
     "metadata": {
      "image/png": {
       "height": 420,
       "width": 420
      },
      "text/plain": {
       "height": 420,
       "width": 420
      }
     },
     "output_type": "display_data"
    }
   ],
   "source": [
    "#install.packages(\"RColorBrewer\").\n",
    "\n",
    "library(RColorBrewer)\n",
    "display.brewer.all()"
   ]
  },
  {
   "cell_type": "code",
   "execution_count": 175,
   "metadata": {},
   "outputs": [
    {
     "data": {
      "image/png": "[encoded data removed]",
      "text/plain": [
       "Plot with title “Average Scores by Class”"
      ]
     },
     "metadata": {
      "image/png": {
       "height": 420,
       "width": 420
      },
      "text/plain": {
       "height": 420,
       "width": 420
      }
     },
     "output_type": "display_data"
    }
   ],
   "source": [
    "barplot(classMean,\n",
    "        ylim = c(0, 100),\n",
    "        main = \"Average Scores by Class\",\n",
    "        col = brewer.pal(n = 5, name = \"Set3\"),\n",
    "        names = c(\"classA\", \"classB\", \"classC\", \"classD\", \"classE\"),\n",
    "        cex.names = 1.1,\n",
    "        ylab = \"Score\",\n",
    "        space = 0.5,\n",
    "        )"
   ]
  },
  {
   "cell_type": "markdown",
   "metadata": {},
   "source": [
    "### Average by Subject"
   ]
  },
  {
   "cell_type": "code",
   "execution_count": 29,
   "metadata": {},
   "outputs": [
    {
     "name": "stdout",
     "output_type": "stream",
     "text": [
      "English :  87.25 \n",
      "Math :  87.375 \n",
      "Physics :  88.75 \n"
     ]
    }
   ],
   "source": [
    "subjectMean <- c()\n",
    "Subject <- unique(classScore$Subject) # c(\"English\", \"Math\", \"Physics\")\n",
    "\n",
    "for (i in Subject){\n",
    "    subjectMeanCalc <- mean(subset(classScore, Subject == i)[,2])\n",
    "    subjectMean <- c(subjectMean, subjectMeanCalc)\n",
    "    cat(paste(i, \": \", subjectMeanCalc),\"\\n\")\n",
    "}\n",
    "\n",
    "# mean(subset(classScore, Class == \"classA\" & Subject == \"English\")[,2])\n",
    "# mean(subset(classScore, Class == \"classB\" & Subject == \"English\")[,2])\n",
    "# mean(subset(classScore, Class == \"classC\" & Subject == \"English\")[,2])\n",
    "# mean(subset(classScore, Class == \"classD\" & Subject == \"English\")[,2])"
   ]
  },
  {
   "cell_type": "code",
   "execution_count": 30,
   "metadata": {
    "scrolled": true
   },
   "outputs": [
    {
     "data": {
      "text/html": [
       "<ol class=list-inline>\n",
       "\t<li>87.25</li>\n",
       "\t<li>87.375</li>\n",
       "\t<li>88.75</li>\n",
       "</ol>\n"
      ],
      "text/latex": [
       "\\begin{enumerate*}\n",
       "\\item 87.25\n",
       "\\item 87.375\n",
       "\\item 88.75\n",
       "\\end{enumerate*}\n"
      ],
      "text/markdown": [
       "1. 87.25\n",
       "2. 87.375\n",
       "3. 88.75\n",
       "\n",
       "\n"
      ],
      "text/plain": [
       "[1] 87.250 87.375 88.750"
      ]
     },
     "metadata": {},
     "output_type": "display_data"
    }
   ],
   "source": [
    "subjectMean"
   ]
  },
  {
   "cell_type": "code",
   "execution_count": 81,
   "metadata": {},
   "outputs": [
    {
     "name": "stderr",
     "output_type": "stream",
     "text": [
      "Installing package into ‘/usr/local/lib/R/site-library’\n",
      "(as ‘lib’ is unspecified)\n",
      "\n",
      "Loading required package: viridisLite\n",
      "\n"
     ]
    }
   ],
   "source": [
    "# install.packages(\"viridis\")\n",
    "library(\"viridis\")"
   ]
  },
  {
   "cell_type": "code",
   "execution_count": 176,
   "metadata": {},
   "outputs": [
    {
     "data": {
      "image/png": "[encoded data removed]",
      "text/plain": [
       "Plot with title “Average Scores by Subject”"
      ]
     },
     "metadata": {
      "image/png": {
       "height": 420,
       "width": 420
      },
      "text/plain": {
       "height": 420,
       "width": 420
      }
     },
     "output_type": "display_data"
    }
   ],
   "source": [
    "barplot(subjectMean,\n",
    "        ylim = c(0, 100),\n",
    "        main = \"Average Scores by Subject\",\n",
    "        col = viridis(5),\n",
    "        names = unique(classScore$Subject),\n",
    "        cex.names = 1.1,\n",
    "        ylab = \"Score\",\n",
    "        space = 0.5,\n",
    "        )"
   ]
  },
  {
   "cell_type": "markdown",
   "metadata": {},
   "source": [
    "### Average by Class and Subject"
   ]
  },
  {
   "cell_type": "code",
   "execution_count": 152,
   "metadata": {
    "code_folding": [],
    "scrolled": true
   },
   "outputs": [
    {
     "name": "stdout",
     "output_type": "stream",
     "text": [
      "classA English :  89.25 \n",
      "classA Math :  85 \n",
      "classA Physics :  92.33 \n",
      "\n",
      "classB English :  86 \n",
      "classB Math :  89.5 \n",
      "classB Physics :  83 \n",
      "\n",
      "classC English :  83 \n",
      "classC Math :  86.33 \n",
      "classC Physics :  91.5 \n",
      "\n",
      "classD English :  92.33 \n",
      "classD Math :  83 \n",
      "classD Physics :  86.33 \n",
      "\n",
      "classE English :  85 \n",
      "classE Math :  92.33 \n",
      "classE Physics :  89.67 \n",
      "\n"
     ]
    }
   ],
   "source": [
    "classSubjectMean <- c()\n",
    "Class <- unique(classScore$Class)\n",
    "Subject <- unique(classScore$Subject)\n",
    "\n",
    "for (i in Class){\n",
    "    for (j in Subject){\n",
    "        classSubjectMeanCalc = round(mean(subset(classScore, Class == i & Subject == j)[,2]),2)\n",
    "        classSubjectMean <- c(classSubjectMean, classSubjectMeanCalc)\n",
    "        cat(paste(i, j, \": \", classSubjectMeanCalc), \"\\n\")\n",
    "    }\n",
    "    cat(paste(\"\\n\"))\n",
    "}\n"
   ]
  },
  {
   "cell_type": "code",
   "execution_count": 153,
   "metadata": {},
   "outputs": [
    {
     "data": {
      "image/png": "[encoded data removed]",
      "text/plain": [
       "Plot with title “Scores by subject in each class”"
      ]
     },
     "metadata": {
      "image/png": {
       "height": 420,
       "width": 420
      },
      "text/plain": {
       "height": 420,
       "width": 420
      }
     },
     "output_type": "display_data"
    }
   ],
   "source": [
    "barplot(classSubjectMean,\n",
    "        space = rep(c(2, 0.5, 0.5), 5),\n",
    "        col =  c(rep(c(\"red\"),3), rep(c(\"dark orange\"),3), rep(c(\"yellow\"),3), \n",
    "                 rep(c(\"green\"),3), rep(c(\"blue\"),3)),\n",
    "        ylim = c(0, 100),\n",
    "        xlab = \"ClassA          ClassB             ClassC             ClassD            ClassE\",\n",
    "        ylab = \"Score\",\n",
    "        names = rep(c(\"E\", \"M\", \"P\"),5),\n",
    "        cex.names = 0.9,\n",
    "        main = \"Scores by subject in each class\"\n",
    "       )"
   ]
  },
  {
   "cell_type": "markdown",
   "metadata": {},
   "source": [
    "### Average by Subject and Class"
   ]
  },
  {
   "cell_type": "code",
   "execution_count": 67,
   "metadata": {},
   "outputs": [
    {
     "name": "stdout",
     "output_type": "stream",
     "text": [
      "English classA :  89.25 \n",
      "English classB :  86 \n",
      "English classC :  83 \n",
      "English classD :  92.33 \n",
      "English classE :  85 \n",
      "\n",
      "Math classA :  85 \n",
      "Math classB :  89.5 \n",
      "Math classC :  86.33 \n",
      "Math classD :  83 \n",
      "Math classE :  92.33 \n",
      "\n",
      "Physics classA :  92.33 \n",
      "Physics classB :  83 \n",
      "Physics classC :  91.5 \n",
      "Physics classD :  86.33 \n",
      "Physics classE :  89.67 \n",
      "\n"
     ]
    }
   ],
   "source": [
    "classSubjectMean <- c()\n",
    "Class <- unique(classScore$Class)\n",
    "Subject <- unique(classScore$Subject)\n",
    "\n",
    "for (i in Subject){\n",
    "    for (j in Class){\n",
    "        classSubjectMeanCalc = round(mean(subset(classScore, Class == j & Subject == i)[,2]),2)\n",
    "        classSubjectMean <- c(classSubjectMean, classSubjectMeanCalc)\n",
    "        cat(paste(i, j, \": \", classSubjectMeanCalc), \"\\n\")\n",
    "    }\n",
    "    cat(paste(\"\\n\"))\n",
    "}\n"
   ]
  },
  {
   "cell_type": "code",
   "execution_count": 68,
   "metadata": {},
   "outputs": [
    {
     "data": {
      "text/html": [
       "<ol class=list-inline>\n",
       "\t<li>89.25</li>\n",
       "\t<li>86</li>\n",
       "\t<li>83</li>\n",
       "\t<li>92.33</li>\n",
       "\t<li>85</li>\n",
       "\t<li>85</li>\n",
       "\t<li>89.5</li>\n",
       "\t<li>86.33</li>\n",
       "\t<li>83</li>\n",
       "\t<li>92.33</li>\n",
       "\t<li>92.33</li>\n",
       "\t<li>83</li>\n",
       "\t<li>91.5</li>\n",
       "\t<li>86.33</li>\n",
       "\t<li>89.67</li>\n",
       "</ol>\n"
      ],
      "text/latex": [
       "\\begin{enumerate*}\n",
       "\\item 89.25\n",
       "\\item 86\n",
       "\\item 83\n",
       "\\item 92.33\n",
       "\\item 85\n",
       "\\item 85\n",
       "\\item 89.5\n",
       "\\item 86.33\n",
       "\\item 83\n",
       "\\item 92.33\n",
       "\\item 92.33\n",
       "\\item 83\n",
       "\\item 91.5\n",
       "\\item 86.33\n",
       "\\item 89.67\n",
       "\\end{enumerate*}\n"
      ],
      "text/markdown": [
       "1. 89.25\n",
       "2. 86\n",
       "3. 83\n",
       "4. 92.33\n",
       "5. 85\n",
       "6. 85\n",
       "7. 89.5\n",
       "8. 86.33\n",
       "9. 83\n",
       "10. 92.33\n",
       "11. 92.33\n",
       "12. 83\n",
       "13. 91.5\n",
       "14. 86.33\n",
       "15. 89.67\n",
       "\n",
       "\n"
      ],
      "text/plain": [
       " [1] 89.25 86.00 83.00 92.33 85.00 85.00 89.50 86.33 83.00 92.33 92.33 83.00\n",
       "[13] 91.50 86.33 89.67"
      ]
     },
     "metadata": {},
     "output_type": "display_data"
    }
   ],
   "source": [
    "classSubjectMean"
   ]
  },
  {
   "cell_type": "code",
   "execution_count": 133,
   "metadata": {
    "scrolled": false
   },
   "outputs": [
    {
     "data": {
      "image/png": "[encoded data removed]",
      "text/plain": [
       "Plot with title “Scores by class in each subject”"
      ]
     },
     "metadata": {
      "image/png": {
       "height": 420,
       "width": 420
      },
      "text/plain": {
       "height": 420,
       "width": 420
      }
     },
     "output_type": "display_data"
    }
   ],
   "source": [
    "barplot(classSubjectMean,\n",
    "        space = rep(c(2, 0.5, 0.5, 0.5, 0.5),3),\n",
    "        col = c(\"red\", \"dark orange\", \"yellow\", \"green\", \"blue\"),\n",
    "        ylim = c(0, 100),\n",
    "        xlab = \"English                             Math                             Physics\",\n",
    "        ylab = \"Score\",\n",
    "        names = rep(c(\"C1\", \"C2\", \"C3\", \"C4\", \"C5\"),3),\n",
    "        cex.names = 0.9,\n",
    "        main = \"Scores by class in each subject\"\n",
    "       )"
   ]
  },
  {
   "cell_type": "markdown",
   "metadata": {},
   "source": [
    "### Summary"
   ]
  },
  {
   "cell_type": "code",
   "execution_count": 189,
   "metadata": {},
   "outputs": [
    {
     "data": {
      "image/png": "[encoded data removed]",
      "text/plain": [
       "Plot with title “Scores by class in each subject”"
      ]
     },
     "metadata": {
      "image/png": {
       "height": 420,
       "width": 420
      },
      "text/plain": {
       "height": 420,
       "width": 420
      }
     },
     "output_type": "display_data"
    }
   ],
   "source": [
    "par(mfrow = c(2,2)) \n",
    "\n",
    "barplot(classMean,\n",
    "        ylim = c(0, 100),\n",
    "        main = \"Average Scores by Class\",\n",
    "        col = brewer.pal(n = 5, name = \"Set3\"),\n",
    "        names = c(\"classA\", \"classB\", \"classC\", \"classD\", \"classE\"),\n",
    "        cex.names = 0.9,\n",
    "        ylab = \"Score\",\n",
    "        space = 0.5,\n",
    "        )\n",
    "\n",
    "barplot(subjectMean,\n",
    "        ylim = c(0, 100),\n",
    "        main = \"Average Scores by Subject\",\n",
    "        col = viridis(5),\n",
    "        names = unique(classScore$Subject),\n",
    "        cex.names = 0.9,\n",
    "        ylab = \"Score\",\n",
    "        space = 0.5,\n",
    "        )\n",
    "\n",
    "barplot(classSubjectMean,\n",
    "        space = rep(c(2, 0.5, 0.5), 5),\n",
    "        col =  c(rep(c(\"red\"),3), rep(c(\"dark orange\"),3), rep(c(\"yellow\"),3), \n",
    "                 rep(c(\"green\"),3), rep(c(\"blue\"),3)),\n",
    "        ylim = c(0, 100),\n",
    "        xlab = \"ClassA  ClassB  ClassC  ClassD  ClassE\",\n",
    "        ylab = \"Score\",\n",
    "        names = rep(c(\"E\", \"M\", \"P\"),5),\n",
    "        cex.names = 0.9,\n",
    "        main = \"Scores by subject in each class\"\n",
    "       )\n",
    "\n",
    "barplot(classSubjectMean,\n",
    "        space = rep(c(2, 0.5, 0.5, 0.5, 0.5),3),\n",
    "        col = c(\"red\", \"dark orange\", \"yellow\", \"green\", \"blue\"),\n",
    "        ylim = c(0, 100),\n",
    "        xlab = \"English           Math           Physics\",\n",
    "        ylab = \"Score\",\n",
    "        names = rep(c(\"C1\", \"C2\", \"C3\", \"C4\", \"C5\"),3),\n",
    "        cex.names = 0.9,\n",
    "        main = \"Scores by class in each subject\"\n",
    "       )\n"
   ]
  },
  {
   "cell_type": "code",
   "execution_count": null,
   "metadata": {},
   "outputs": [],
   "source": []
  }
 ],
 "metadata": {
  "kernelspec": {
   "display_name": "R",
   "language": "R",
   "name": "ir"
  },
  "language_info": {
   "codemirror_mode": "r",
   "file_extension": ".r",
   "mimetype": "text/x-r-source",
   "name": "R",
   "pygments_lexer": "r",
   "version": "3.6.1"
  },
  "latex_envs": {
   "LaTeX_envs_menu_present": true,
   "autoclose": false,
   "autocomplete": true,
   "bibliofile": "biblio.bib",
   "cite_by": "apalike",
   "current_citInitial": 1,
   "eqLabelWithNumbers": true,
   "eqNumInitial": 1,
   "hotkeys": {
    "equation": "Ctrl-E",
    "itemize": "Ctrl-I"
   },
   "labels_anchors": false,
   "latex_user_defs": false,
   "report_style_numbering": false,
   "user_envs_cfg": false
  },
  "toc": {
   "base_numbering": 1,
   "nav_menu": {},
   "number_sections": true,
   "sideBar": true,
   "skip_h1_title": false,
   "title_cell": "Table of Contents",
   "title_sidebar": "Contents",
   "toc_cell": false,
   "toc_position": {
    "height": "calc(100% - 180px)",
    "left": "10px",
    "top": "150px",
    "width": "273.391px"
   },
   "toc_section_display": true,
   "toc_window_display": true
  },
  "varInspector": {
   "cols": {
    "lenName": 16,
    "lenType": 16,
    "lenVar": 40
   },
   "kernels_config": {
    "python": {
     "delete_cmd_postfix": "",
     "delete_cmd_prefix": "del ",
     "library": "var_list.py",
     "varRefreshCmd": "print(var_dic_list())"
    },
    "r": {
     "delete_cmd_postfix": ") ",
     "delete_cmd_prefix": "rm(",
     "library": "var_list.r",
     "varRefreshCmd": "cat(var_dic_list()) "
    }
   },
   "types_to_exclude": [
    "module",
    "function",
    "builtin_function_or_method",
    "instance",
    "_Feature"
   ],
   "window_display": false
  }
 },
 "nbformat": 4,
 "nbformat_minor": 2
}
