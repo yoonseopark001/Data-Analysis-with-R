{
 "cells": [
  {
   "cell_type": "markdown",
   "metadata": {},
   "source": [
    "# Load Data"
   ]
  },
  {
   "cell_type": "code",
   "execution_count": 183,
   "metadata": {},
   "outputs": [
    {
     "data": {
      "text/html": [
       "<table>\n",
       "<caption>A data.frame: 6 × 6</caption>\n",
       "<thead>\n",
       "\t<tr><th></th><th scope=col>Year</th><th scope=col>Month</th><th scope=col>District</th><th scope=col>Accident</th><th scope=col>Deaths</th><th scope=col>Injured</th></tr>\n",
       "\t<tr><th></th><th scope=col>&lt;int&gt;</th><th scope=col>&lt;int&gt;</th><th scope=col>&lt;fct&gt;</th><th scope=col>&lt;int&gt;</th><th scope=col>&lt;int&gt;</th><th scope=col>&lt;int&gt;</th></tr>\n",
       "</thead>\n",
       "<tbody>\n",
       "\t<tr><th scope=row>1</th><td>2011</td><td>1</td><td>Jongno</td><td>115</td><td>2</td><td>165</td></tr>\n",
       "\t<tr><th scope=row>2</th><td>2011</td><td>2</td><td>Jongno</td><td> 99</td><td>0</td><td>134</td></tr>\n",
       "\t<tr><th scope=row>3</th><td>2011</td><td>3</td><td>Jongno</td><td>116</td><td>0</td><td>162</td></tr>\n",
       "\t<tr><th scope=row>4</th><td>2011</td><td>4</td><td>Jongno</td><td>110</td><td>1</td><td>153</td></tr>\n",
       "\t<tr><th scope=row>5</th><td>2011</td><td>5</td><td>Jongno</td><td>122</td><td>0</td><td>157</td></tr>\n",
       "\t<tr><th scope=row>6</th><td>2011</td><td>6</td><td>Jongno</td><td>116</td><td>3</td><td>163</td></tr>\n",
       "</tbody>\n",
       "</table>\n"
      ],
      "text/latex": [
       "A data.frame: 6 × 6\n",
       "\\begin{tabular}{r|llllll}\n",
       "  & Year & Month & District & Accident & Deaths & Injured\\\\\n",
       "  & <int> & <int> & <fct> & <int> & <int> & <int>\\\\\n",
       "\\hline\n",
       "\t1 & 2011 & 1 & Jongno & 115 & 2 & 165\\\\\n",
       "\t2 & 2011 & 2 & Jongno &  99 & 0 & 134\\\\\n",
       "\t3 & 2011 & 3 & Jongno & 116 & 0 & 162\\\\\n",
       "\t4 & 2011 & 4 & Jongno & 110 & 1 & 153\\\\\n",
       "\t5 & 2011 & 5 & Jongno & 122 & 0 & 157\\\\\n",
       "\t6 & 2011 & 6 & Jongno & 116 & 3 & 163\\\\\n",
       "\\end{tabular}\n"
      ],
      "text/markdown": [
       "\n",
       "A data.frame: 6 × 6\n",
       "\n",
       "| <!--/--> | Year &lt;int&gt; | Month &lt;int&gt; | District &lt;fct&gt; | Accident &lt;int&gt; | Deaths &lt;int&gt; | Injured &lt;int&gt; |\n",
       "|---|---|---|---|---|---|---|\n",
       "| 1 | 2011 | 1 | Jongno | 115 | 2 | 165 |\n",
       "| 2 | 2011 | 2 | Jongno |  99 | 0 | 134 |\n",
       "| 3 | 2011 | 3 | Jongno | 116 | 0 | 162 |\n",
       "| 4 | 2011 | 4 | Jongno | 110 | 1 | 153 |\n",
       "| 5 | 2011 | 5 | Jongno | 122 | 0 | 157 |\n",
       "| 6 | 2011 | 6 | Jongno | 116 | 3 | 163 |\n",
       "\n"
      ],
      "text/plain": [
       "  Year Month District Accident Deaths Injured\n",
       "1 2011 1     Jongno   115      2      165    \n",
       "2 2011 2     Jongno    99      0      134    \n",
       "3 2011 3     Jongno   116      0      162    \n",
       "4 2011 4     Jongno   110      1      153    \n",
       "5 2011 5     Jongno   122      0      157    \n",
       "6 2011 6     Jongno   116      3      163    "
      ]
     },
     "metadata": {},
     "output_type": "display_data"
    },
    {
     "data": {
      "text/html": [
       "<table>\n",
       "<caption>A data.frame: 6 × 6</caption>\n",
       "<thead>\n",
       "\t<tr><th></th><th scope=col>Year</th><th scope=col>Month</th><th scope=col>District</th><th scope=col>Accident</th><th scope=col>Deaths</th><th scope=col>Injured</th></tr>\n",
       "\t<tr><th></th><th scope=col>&lt;int&gt;</th><th scope=col>&lt;int&gt;</th><th scope=col>&lt;fct&gt;</th><th scope=col>&lt;int&gt;</th><th scope=col>&lt;int&gt;</th><th scope=col>&lt;int&gt;</th></tr>\n",
       "</thead>\n",
       "<tbody>\n",
       "\t<tr><th scope=row>2095</th><td>2017</td><td> 7</td><td>Gangdong</td><td> 90</td><td>2</td><td>125</td></tr>\n",
       "\t<tr><th scope=row>2096</th><td>2017</td><td> 8</td><td>Gangdong</td><td>117</td><td>2</td><td>151</td></tr>\n",
       "\t<tr><th scope=row>2097</th><td>2017</td><td> 9</td><td>Gangdong</td><td>131</td><td>1</td><td>172</td></tr>\n",
       "\t<tr><th scope=row>2098</th><td>2017</td><td>10</td><td>Gangdong</td><td>143</td><td>0</td><td>178</td></tr>\n",
       "\t<tr><th scope=row>2099</th><td>2017</td><td>11</td><td>Gangdong</td><td> 94</td><td>0</td><td>124</td></tr>\n",
       "\t<tr><th scope=row>2100</th><td>2017</td><td>12</td><td>Gangdong</td><td>102</td><td>2</td><td>139</td></tr>\n",
       "</tbody>\n",
       "</table>\n"
      ],
      "text/latex": [
       "A data.frame: 6 × 6\n",
       "\\begin{tabular}{r|llllll}\n",
       "  & Year & Month & District & Accident & Deaths & Injured\\\\\n",
       "  & <int> & <int> & <fct> & <int> & <int> & <int>\\\\\n",
       "\\hline\n",
       "\t2095 & 2017 &  7 & Gangdong &  90 & 2 & 125\\\\\n",
       "\t2096 & 2017 &  8 & Gangdong & 117 & 2 & 151\\\\\n",
       "\t2097 & 2017 &  9 & Gangdong & 131 & 1 & 172\\\\\n",
       "\t2098 & 2017 & 10 & Gangdong & 143 & 0 & 178\\\\\n",
       "\t2099 & 2017 & 11 & Gangdong &  94 & 0 & 124\\\\\n",
       "\t2100 & 2017 & 12 & Gangdong & 102 & 2 & 139\\\\\n",
       "\\end{tabular}\n"
      ],
      "text/markdown": [
       "\n",
       "A data.frame: 6 × 6\n",
       "\n",
       "| <!--/--> | Year &lt;int&gt; | Month &lt;int&gt; | District &lt;fct&gt; | Accident &lt;int&gt; | Deaths &lt;int&gt; | Injured &lt;int&gt; |\n",
       "|---|---|---|---|---|---|---|\n",
       "| 2095 | 2017 |  7 | Gangdong |  90 | 2 | 125 |\n",
       "| 2096 | 2017 |  8 | Gangdong | 117 | 2 | 151 |\n",
       "| 2097 | 2017 |  9 | Gangdong | 131 | 1 | 172 |\n",
       "| 2098 | 2017 | 10 | Gangdong | 143 | 0 | 178 |\n",
       "| 2099 | 2017 | 11 | Gangdong |  94 | 0 | 124 |\n",
       "| 2100 | 2017 | 12 | Gangdong | 102 | 2 | 139 |\n",
       "\n"
      ],
      "text/plain": [
       "     Year Month District Accident Deaths Injured\n",
       "2095 2017  7    Gangdong  90      2      125    \n",
       "2096 2017  8    Gangdong 117      2      151    \n",
       "2097 2017  9    Gangdong 131      1      172    \n",
       "2098 2017 10    Gangdong 143      0      178    \n",
       "2099 2017 11    Gangdong  94      0      124    \n",
       "2100 2017 12    Gangdong 102      2      139    "
      ]
     },
     "metadata": {},
     "output_type": "display_data"
    }
   ],
   "source": [
    "seoul <- read.csv(\"./Data/SeoulAccident.csv\", fileEncoding = \"CP949\", encoding = \"UTF-8\")\n",
    "head(seoul)\n",
    "tail(seoul)"
   ]
  },
  {
   "cell_type": "code",
   "execution_count": 184,
   "metadata": {},
   "outputs": [
    {
     "name": "stdout",
     "output_type": "stream",
     "text": [
      "'data.frame':\t2100 obs. of  6 variables:\n",
      " $ Year    : int  2011 2011 2011 2011 2011 2011 2011 2011 2011 2011 ...\n",
      " $ Month   : int  1 2 3 4 5 6 7 8 9 10 ...\n",
      " $ District: Factor w/ 25 levels \"Dobong\",\"Dongdaemun\",..: 13 13 13 13 13 13 13 13 13 13 ...\n",
      " $ Accident: int  115 99 116 110 122 116 103 122 121 135 ...\n",
      " $ Deaths  : int  2 0 0 1 0 3 1 1 2 2 ...\n",
      " $ Injured : int  165 134 162 153 157 163 154 171 166 193 ...\n"
     ]
    },
    {
     "data": {
      "text/plain": [
       "      Year          Month             District       Accident    \n",
       " Min.   :2011   Min.   : 1.00   Dobong    :  84   Min.   : 45.0  \n",
       " 1st Qu.:2012   1st Qu.: 3.75   Dongdaemun:  84   1st Qu.:101.0  \n",
       " Median :2014   Median : 6.50   Dongjak   :  84   Median :123.0  \n",
       " Mean   :2014   Mean   : 6.50   Eunpyeong :  84   Mean   :134.2  \n",
       " 3rd Qu.:2016   3rd Qu.: 9.25   Gangbuk   :  84   3rd Qu.:151.0  \n",
       " Max.   :2017   Max.   :12.00   Gangdong  :  84   Max.   :378.0  \n",
       "                                (Other)   :1596                  \n",
       "     Deaths          Injured     \n",
       " Min.   : 0.000   Min.   : 55.0  \n",
       " 1st Qu.: 0.000   1st Qu.:141.0  \n",
       " Median : 1.000   Median :171.0  \n",
       " Mean   : 1.288   Mean   :189.7  \n",
       " 3rd Qu.: 2.000   3rd Qu.:213.0  \n",
       " Max.   :10.000   Max.   :552.0  \n",
       "                                 "
      ]
     },
     "metadata": {},
     "output_type": "display_data"
    }
   ],
   "source": [
    "str(seoul)\n",
    "summary(seoul)"
   ]
  },
  {
   "cell_type": "markdown",
   "metadata": {},
   "source": [
    "# Mean, SD, CV"
   ]
  },
  {
   "cell_type": "markdown",
   "metadata": {},
   "source": [
    "## Accident"
   ]
  },
  {
   "cell_type": "markdown",
   "metadata": {},
   "source": [
    "### Mean"
   ]
  },
  {
   "cell_type": "markdown",
   "metadata": {},
   "source": [
    "#### Calculate average numbers of accidents by District with aggregate"
   ]
  },
  {
   "cell_type": "code",
   "execution_count": 185,
   "metadata": {
    "scrolled": true
   },
   "outputs": [
    {
     "data": {
      "text/html": [
       "<table>\n",
       "<caption>A data.frame: 6 × 2</caption>\n",
       "<thead>\n",
       "\t<tr><th></th><th scope=col>District</th><th scope=col>Accident</th></tr>\n",
       "\t<tr><th></th><th scope=col>&lt;fct&gt;</th><th scope=col>&lt;dbl&gt;</th></tr>\n",
       "</thead>\n",
       "<tbody>\n",
       "\t<tr><th scope=row>1</th><td>Dobong    </td><td> 78.28571</td></tr>\n",
       "\t<tr><th scope=row>2</th><td>Dongdaemun</td><td>158.69048</td></tr>\n",
       "\t<tr><th scope=row>3</th><td>Dongjak   </td><td>111.28571</td></tr>\n",
       "\t<tr><th scope=row>4</th><td>Eunpyeong </td><td>107.30952</td></tr>\n",
       "\t<tr><th scope=row>5</th><td>Gangbuk   </td><td>101.19048</td></tr>\n",
       "\t<tr><th scope=row>6</th><td>Gangdong  </td><td>118.69048</td></tr>\n",
       "</tbody>\n",
       "</table>\n"
      ],
      "text/latex": [
       "A data.frame: 6 × 2\n",
       "\\begin{tabular}{r|ll}\n",
       "  & District & Accident\\\\\n",
       "  & <fct> & <dbl>\\\\\n",
       "\\hline\n",
       "\t1 & Dobong     &  78.28571\\\\\n",
       "\t2 & Dongdaemun & 158.69048\\\\\n",
       "\t3 & Dongjak    & 111.28571\\\\\n",
       "\t4 & Eunpyeong  & 107.30952\\\\\n",
       "\t5 & Gangbuk    & 101.19048\\\\\n",
       "\t6 & Gangdong   & 118.69048\\\\\n",
       "\\end{tabular}\n"
      ],
      "text/markdown": [
       "\n",
       "A data.frame: 6 × 2\n",
       "\n",
       "| <!--/--> | District &lt;fct&gt; | Accident &lt;dbl&gt; |\n",
       "|---|---|---|\n",
       "| 1 | Dobong     |  78.28571 |\n",
       "| 2 | Dongdaemun | 158.69048 |\n",
       "| 3 | Dongjak    | 111.28571 |\n",
       "| 4 | Eunpyeong  | 107.30952 |\n",
       "| 5 | Gangbuk    | 101.19048 |\n",
       "| 6 | Gangdong   | 118.69048 |\n",
       "\n"
      ],
      "text/plain": [
       "  District   Accident \n",
       "1 Dobong      78.28571\n",
       "2 Dongdaemun 158.69048\n",
       "3 Dongjak    111.28571\n",
       "4 Eunpyeong  107.30952\n",
       "5 Gangbuk    101.19048\n",
       "6 Gangdong   118.69048"
      ]
     },
     "metadata": {},
     "output_type": "display_data"
    }
   ],
   "source": [
    "districtAccMean <- aggregate(Accident ~District, data = seoul, mean)\n",
    "head(districtAccMean)"
   ]
  },
  {
   "cell_type": "code",
   "execution_count": 186,
   "metadata": {},
   "outputs": [
    {
     "data": {
      "text/html": [
       "<table>\n",
       "<caption>A data.frame: 6 × 2</caption>\n",
       "<thead>\n",
       "\t<tr><th></th><th scope=col>District</th><th scope=col>Accident</th></tr>\n",
       "\t<tr><th></th><th scope=col>&lt;fct&gt;</th><th scope=col>&lt;dbl&gt;</th></tr>\n",
       "</thead>\n",
       "<tbody>\n",
       "\t<tr><th scope=row>1</th><td>Dobong    </td><td> 78.286</td></tr>\n",
       "\t<tr><th scope=row>2</th><td>Dongdaemun</td><td>158.690</td></tr>\n",
       "\t<tr><th scope=row>3</th><td>Dongjak   </td><td>111.286</td></tr>\n",
       "\t<tr><th scope=row>4</th><td>Eunpyeong </td><td>107.310</td></tr>\n",
       "\t<tr><th scope=row>5</th><td>Gangbuk   </td><td>101.190</td></tr>\n",
       "\t<tr><th scope=row>6</th><td>Gangdong  </td><td>118.690</td></tr>\n",
       "</tbody>\n",
       "</table>\n"
      ],
      "text/latex": [
       "A data.frame: 6 × 2\n",
       "\\begin{tabular}{r|ll}\n",
       "  & District & Accident\\\\\n",
       "  & <fct> & <dbl>\\\\\n",
       "\\hline\n",
       "\t1 & Dobong     &  78.286\\\\\n",
       "\t2 & Dongdaemun & 158.690\\\\\n",
       "\t3 & Dongjak    & 111.286\\\\\n",
       "\t4 & Eunpyeong  & 107.310\\\\\n",
       "\t5 & Gangbuk    & 101.190\\\\\n",
       "\t6 & Gangdong   & 118.690\\\\\n",
       "\\end{tabular}\n"
      ],
      "text/markdown": [
       "\n",
       "A data.frame: 6 × 2\n",
       "\n",
       "| <!--/--> | District &lt;fct&gt; | Accident &lt;dbl&gt; |\n",
       "|---|---|---|\n",
       "| 1 | Dobong     |  78.286 |\n",
       "| 2 | Dongdaemun | 158.690 |\n",
       "| 3 | Dongjak    | 111.286 |\n",
       "| 4 | Eunpyeong  | 107.310 |\n",
       "| 5 | Gangbuk    | 101.190 |\n",
       "| 6 | Gangdong   | 118.690 |\n",
       "\n"
      ],
      "text/plain": [
       "  District   Accident\n",
       "1 Dobong      78.286 \n",
       "2 Dongdaemun 158.690 \n",
       "3 Dongjak    111.286 \n",
       "4 Eunpyeong  107.310 \n",
       "5 Gangbuk    101.190 \n",
       "6 Gangdong   118.690 "
      ]
     },
     "metadata": {},
     "output_type": "display_data"
    }
   ],
   "source": [
    "districtAccMean$Accident <- round(districtAccMean$Accident, 3)\n",
    "head(districtAccMean)"
   ]
  },
  {
   "cell_type": "markdown",
   "metadata": {},
   "source": [
    "#### orderBy"
   ]
  },
  {
   "cell_type": "code",
   "execution_count": 187,
   "metadata": {},
   "outputs": [],
   "source": [
    "library(doBy)"
   ]
  },
  {
   "cell_type": "code",
   "execution_count": 188,
   "metadata": {},
   "outputs": [
    {
     "data": {
      "text/html": [
       "<table>\n",
       "<caption>A data.frame: 10 × 2</caption>\n",
       "<thead>\n",
       "\t<tr><th></th><th scope=col>District</th><th scope=col>Accident</th></tr>\n",
       "\t<tr><th></th><th scope=col>&lt;fct&gt;</th><th scope=col>&lt;dbl&gt;</th></tr>\n",
       "</thead>\n",
       "<tbody>\n",
       "\t<tr><th scope=row>7</th><td>Gangnam     </td><td>308.405</td></tr>\n",
       "\t<tr><th scope=row>22</th><td>Songpa      </td><td>220.500</td></tr>\n",
       "\t<tr><th scope=row>24</th><td>Yeongdeungpo</td><td>191.548</td></tr>\n",
       "\t<tr><th scope=row>18</th><td>Seocho      </td><td>181.476</td></tr>\n",
       "\t<tr><th scope=row>2</th><td>Dongdaemun  </td><td>158.690</td></tr>\n",
       "\t<tr><th scope=row>8</th><td>Gangseo     </td><td>147.381</td></tr>\n",
       "\t<tr><th scope=row>16</th><td>Mapo        </td><td>144.274</td></tr>\n",
       "\t<tr><th scope=row>15</th><td>Jungnang    </td><td>140.107</td></tr>\n",
       "\t<tr><th scope=row>11</th><td>Gwanak      </td><td>133.369</td></tr>\n",
       "\t<tr><th scope=row>20</th><td>Seongbuk    </td><td>133.286</td></tr>\n",
       "</tbody>\n",
       "</table>\n"
      ],
      "text/latex": [
       "A data.frame: 10 × 2\n",
       "\\begin{tabular}{r|ll}\n",
       "  & District & Accident\\\\\n",
       "  & <fct> & <dbl>\\\\\n",
       "\\hline\n",
       "\t7 & Gangnam      & 308.405\\\\\n",
       "\t22 & Songpa       & 220.500\\\\\n",
       "\t24 & Yeongdeungpo & 191.548\\\\\n",
       "\t18 & Seocho       & 181.476\\\\\n",
       "\t2 & Dongdaemun   & 158.690\\\\\n",
       "\t8 & Gangseo      & 147.381\\\\\n",
       "\t16 & Mapo         & 144.274\\\\\n",
       "\t15 & Jungnang     & 140.107\\\\\n",
       "\t11 & Gwanak       & 133.369\\\\\n",
       "\t20 & Seongbuk     & 133.286\\\\\n",
       "\\end{tabular}\n"
      ],
      "text/markdown": [
       "\n",
       "A data.frame: 10 × 2\n",
       "\n",
       "| <!--/--> | District &lt;fct&gt; | Accident &lt;dbl&gt; |\n",
       "|---|---|---|\n",
       "| 7 | Gangnam      | 308.405 |\n",
       "| 22 | Songpa       | 220.500 |\n",
       "| 24 | Yeongdeungpo | 191.548 |\n",
       "| 18 | Seocho       | 181.476 |\n",
       "| 2 | Dongdaemun   | 158.690 |\n",
       "| 8 | Gangseo      | 147.381 |\n",
       "| 16 | Mapo         | 144.274 |\n",
       "| 15 | Jungnang     | 140.107 |\n",
       "| 11 | Gwanak       | 133.369 |\n",
       "| 20 | Seongbuk     | 133.286 |\n",
       "\n"
      ],
      "text/plain": [
       "   District     Accident\n",
       "7  Gangnam      308.405 \n",
       "22 Songpa       220.500 \n",
       "24 Yeongdeungpo 191.548 \n",
       "18 Seocho       181.476 \n",
       "2  Dongdaemun   158.690 \n",
       "8  Gangseo      147.381 \n",
       "16 Mapo         144.274 \n",
       "15 Jungnang     140.107 \n",
       "11 Gwanak       133.369 \n",
       "20 Seongbuk     133.286 "
      ]
     },
     "metadata": {},
     "output_type": "display_data"
    }
   ],
   "source": [
    "# Districts where ten most accidents occur on average\n",
    "orderBy(~-Accident, data = districtAccMean)[1:10,] # ascending order\n",
    "\n",
    "# Alternatively,\n",
    "# orderBy(~-Accident, data = districtAccMean[1:10,])"
   ]
  },
  {
   "cell_type": "code",
   "execution_count": 189,
   "metadata": {
    "scrolled": false
   },
   "outputs": [
    {
     "data": {
      "text/html": [
       "<table>\n",
       "<caption>A data.frame: 10 × 2</caption>\n",
       "<thead>\n",
       "\t<tr><th></th><th scope=col>District</th><th scope=col>Accident</th></tr>\n",
       "\t<tr><th></th><th scope=col>&lt;fct&gt;</th><th scope=col>&lt;dbl&gt;</th></tr>\n",
       "</thead>\n",
       "<tbody>\n",
       "\t<tr><th scope=row>1</th><td>Dobong   </td><td> 78.286</td></tr>\n",
       "\t<tr><th scope=row>9</th><td>Geumcheon</td><td> 79.131</td></tr>\n",
       "\t<tr><th scope=row>19</th><td>Seodaemun</td><td> 89.798</td></tr>\n",
       "\t<tr><th scope=row>21</th><td>Seongdong</td><td> 93.226</td></tr>\n",
       "\t<tr><th scope=row>5</th><td>Gangbuk  </td><td>101.190</td></tr>\n",
       "\t<tr><th scope=row>4</th><td>Eunpyeong</td><td>107.310</td></tr>\n",
       "\t<tr><th scope=row>12</th><td>Gwangjin </td><td>107.750</td></tr>\n",
       "\t<tr><th scope=row>13</th><td>Jongno   </td><td>110.548</td></tr>\n",
       "\t<tr><th scope=row>3</th><td>Dongjak  </td><td>111.286</td></tr>\n",
       "\t<tr><th scope=row>25</th><td>Yongsan  </td><td>111.845</td></tr>\n",
       "</tbody>\n",
       "</table>\n"
      ],
      "text/latex": [
       "A data.frame: 10 × 2\n",
       "\\begin{tabular}{r|ll}\n",
       "  & District & Accident\\\\\n",
       "  & <fct> & <dbl>\\\\\n",
       "\\hline\n",
       "\t1 & Dobong    &  78.286\\\\\n",
       "\t9 & Geumcheon &  79.131\\\\\n",
       "\t19 & Seodaemun &  89.798\\\\\n",
       "\t21 & Seongdong &  93.226\\\\\n",
       "\t5 & Gangbuk   & 101.190\\\\\n",
       "\t4 & Eunpyeong & 107.310\\\\\n",
       "\t12 & Gwangjin  & 107.750\\\\\n",
       "\t13 & Jongno    & 110.548\\\\\n",
       "\t3 & Dongjak   & 111.286\\\\\n",
       "\t25 & Yongsan   & 111.845\\\\\n",
       "\\end{tabular}\n"
      ],
      "text/markdown": [
       "\n",
       "A data.frame: 10 × 2\n",
       "\n",
       "| <!--/--> | District &lt;fct&gt; | Accident &lt;dbl&gt; |\n",
       "|---|---|---|\n",
       "| 1 | Dobong    |  78.286 |\n",
       "| 9 | Geumcheon |  79.131 |\n",
       "| 19 | Seodaemun |  89.798 |\n",
       "| 21 | Seongdong |  93.226 |\n",
       "| 5 | Gangbuk   | 101.190 |\n",
       "| 4 | Eunpyeong | 107.310 |\n",
       "| 12 | Gwangjin  | 107.750 |\n",
       "| 13 | Jongno    | 110.548 |\n",
       "| 3 | Dongjak   | 111.286 |\n",
       "| 25 | Yongsan   | 111.845 |\n",
       "\n"
      ],
      "text/plain": [
       "   District  Accident\n",
       "1  Dobong     78.286 \n",
       "9  Geumcheon  79.131 \n",
       "19 Seodaemun  89.798 \n",
       "21 Seongdong  93.226 \n",
       "5  Gangbuk   101.190 \n",
       "4  Eunpyeong 107.310 \n",
       "12 Gwangjin  107.750 \n",
       "13 Jongno    110.548 \n",
       "3  Dongjak   111.286 \n",
       "25 Yongsan   111.845 "
      ]
     },
     "metadata": {},
     "output_type": "display_data"
    }
   ],
   "source": [
    "# Districts where ten least accidents occur on average\n",
    "orderBy(~Accident, data = districtAccMean)[1:10,]  # decending order"
   ]
  },
  {
   "cell_type": "markdown",
   "metadata": {},
   "source": [
    "### Standard Deviation"
   ]
  },
  {
   "cell_type": "markdown",
   "metadata": {},
   "source": [
    "#### Calculate standard deviation of accidents by District with aggregate"
   ]
  },
  {
   "cell_type": "code",
   "execution_count": 190,
   "metadata": {},
   "outputs": [
    {
     "data": {
      "text/html": [
       "<table>\n",
       "<caption>A data.frame: 6 × 2</caption>\n",
       "<thead>\n",
       "\t<tr><th></th><th scope=col>District</th><th scope=col>Accident</th></tr>\n",
       "\t<tr><th></th><th scope=col>&lt;fct&gt;</th><th scope=col>&lt;dbl&gt;</th></tr>\n",
       "</thead>\n",
       "<tbody>\n",
       "\t<tr><th scope=row>1</th><td>Dobong    </td><td>11.88962</td></tr>\n",
       "\t<tr><th scope=row>2</th><td>Dongdaemun</td><td>21.88578</td></tr>\n",
       "\t<tr><th scope=row>3</th><td>Dongjak   </td><td>16.06206</td></tr>\n",
       "\t<tr><th scope=row>4</th><td>Eunpyeong </td><td>20.10453</td></tr>\n",
       "\t<tr><th scope=row>5</th><td>Gangbuk   </td><td>15.38852</td></tr>\n",
       "\t<tr><th scope=row>6</th><td>Gangdong  </td><td>14.97224</td></tr>\n",
       "</tbody>\n",
       "</table>\n"
      ],
      "text/latex": [
       "A data.frame: 6 × 2\n",
       "\\begin{tabular}{r|ll}\n",
       "  & District & Accident\\\\\n",
       "  & <fct> & <dbl>\\\\\n",
       "\\hline\n",
       "\t1 & Dobong     & 11.88962\\\\\n",
       "\t2 & Dongdaemun & 21.88578\\\\\n",
       "\t3 & Dongjak    & 16.06206\\\\\n",
       "\t4 & Eunpyeong  & 20.10453\\\\\n",
       "\t5 & Gangbuk    & 15.38852\\\\\n",
       "\t6 & Gangdong   & 14.97224\\\\\n",
       "\\end{tabular}\n"
      ],
      "text/markdown": [
       "\n",
       "A data.frame: 6 × 2\n",
       "\n",
       "| <!--/--> | District &lt;fct&gt; | Accident &lt;dbl&gt; |\n",
       "|---|---|---|\n",
       "| 1 | Dobong     | 11.88962 |\n",
       "| 2 | Dongdaemun | 21.88578 |\n",
       "| 3 | Dongjak    | 16.06206 |\n",
       "| 4 | Eunpyeong  | 20.10453 |\n",
       "| 5 | Gangbuk    | 15.38852 |\n",
       "| 6 | Gangdong   | 14.97224 |\n",
       "\n"
      ],
      "text/plain": [
       "  District   Accident\n",
       "1 Dobong     11.88962\n",
       "2 Dongdaemun 21.88578\n",
       "3 Dongjak    16.06206\n",
       "4 Eunpyeong  20.10453\n",
       "5 Gangbuk    15.38852\n",
       "6 Gangdong   14.97224"
      ]
     },
     "metadata": {},
     "output_type": "display_data"
    }
   ],
   "source": [
    "districtAccSD <- aggregate(Accident ~District, data = seoul, sd)\n",
    "head(districtAccSD)"
   ]
  },
  {
   "cell_type": "code",
   "execution_count": 191,
   "metadata": {},
   "outputs": [
    {
     "data": {
      "text/html": [
       "<table>\n",
       "<caption>A data.frame: 6 × 2</caption>\n",
       "<thead>\n",
       "\t<tr><th></th><th scope=col>District</th><th scope=col>Accident</th></tr>\n",
       "\t<tr><th></th><th scope=col>&lt;fct&gt;</th><th scope=col>&lt;dbl&gt;</th></tr>\n",
       "</thead>\n",
       "<tbody>\n",
       "\t<tr><th scope=row>1</th><td>Dobong    </td><td>11.890</td></tr>\n",
       "\t<tr><th scope=row>2</th><td>Dongdaemun</td><td>21.886</td></tr>\n",
       "\t<tr><th scope=row>3</th><td>Dongjak   </td><td>16.062</td></tr>\n",
       "\t<tr><th scope=row>4</th><td>Eunpyeong </td><td>20.105</td></tr>\n",
       "\t<tr><th scope=row>5</th><td>Gangbuk   </td><td>15.389</td></tr>\n",
       "\t<tr><th scope=row>6</th><td>Gangdong  </td><td>14.972</td></tr>\n",
       "</tbody>\n",
       "</table>\n"
      ],
      "text/latex": [
       "A data.frame: 6 × 2\n",
       "\\begin{tabular}{r|ll}\n",
       "  & District & Accident\\\\\n",
       "  & <fct> & <dbl>\\\\\n",
       "\\hline\n",
       "\t1 & Dobong     & 11.890\\\\\n",
       "\t2 & Dongdaemun & 21.886\\\\\n",
       "\t3 & Dongjak    & 16.062\\\\\n",
       "\t4 & Eunpyeong  & 20.105\\\\\n",
       "\t5 & Gangbuk    & 15.389\\\\\n",
       "\t6 & Gangdong   & 14.972\\\\\n",
       "\\end{tabular}\n"
      ],
      "text/markdown": [
       "\n",
       "A data.frame: 6 × 2\n",
       "\n",
       "| <!--/--> | District &lt;fct&gt; | Accident &lt;dbl&gt; |\n",
       "|---|---|---|\n",
       "| 1 | Dobong     | 11.890 |\n",
       "| 2 | Dongdaemun | 21.886 |\n",
       "| 3 | Dongjak    | 16.062 |\n",
       "| 4 | Eunpyeong  | 20.105 |\n",
       "| 5 | Gangbuk    | 15.389 |\n",
       "| 6 | Gangdong   | 14.972 |\n",
       "\n"
      ],
      "text/plain": [
       "  District   Accident\n",
       "1 Dobong     11.890  \n",
       "2 Dongdaemun 21.886  \n",
       "3 Dongjak    16.062  \n",
       "4 Eunpyeong  20.105  \n",
       "5 Gangbuk    15.389  \n",
       "6 Gangdong   14.972  "
      ]
     },
     "metadata": {},
     "output_type": "display_data"
    }
   ],
   "source": [
    "districtAccSD$Accident <- round(districtAccSD$Accident, 3)\n",
    "head(districtAccSD)"
   ]
  },
  {
   "cell_type": "markdown",
   "metadata": {},
   "source": [
    "#### orderBy"
   ]
  },
  {
   "cell_type": "code",
   "execution_count": 192,
   "metadata": {},
   "outputs": [
    {
     "data": {
      "text/html": [
       "<table>\n",
       "<caption>A data.frame: 10 × 2</caption>\n",
       "<thead>\n",
       "\t<tr><th></th><th scope=col>District</th><th scope=col>Accident</th></tr>\n",
       "\t<tr><th></th><th scope=col>&lt;fct&gt;</th><th scope=col>&lt;dbl&gt;</th></tr>\n",
       "</thead>\n",
       "<tbody>\n",
       "\t<tr><th scope=row>7</th><td>Gangnam     </td><td>308.405</td></tr>\n",
       "\t<tr><th scope=row>22</th><td>Songpa      </td><td>220.500</td></tr>\n",
       "\t<tr><th scope=row>24</th><td>Yeongdeungpo</td><td>191.548</td></tr>\n",
       "\t<tr><th scope=row>18</th><td>Seocho      </td><td>181.476</td></tr>\n",
       "\t<tr><th scope=row>2</th><td>Dongdaemun  </td><td>158.690</td></tr>\n",
       "\t<tr><th scope=row>8</th><td>Gangseo     </td><td>147.381</td></tr>\n",
       "\t<tr><th scope=row>16</th><td>Mapo        </td><td>144.274</td></tr>\n",
       "\t<tr><th scope=row>15</th><td>Jungnang    </td><td>140.107</td></tr>\n",
       "\t<tr><th scope=row>11</th><td>Gwanak      </td><td>133.369</td></tr>\n",
       "\t<tr><th scope=row>20</th><td>Seongbuk    </td><td>133.286</td></tr>\n",
       "</tbody>\n",
       "</table>\n"
      ],
      "text/latex": [
       "A data.frame: 10 × 2\n",
       "\\begin{tabular}{r|ll}\n",
       "  & District & Accident\\\\\n",
       "  & <fct> & <dbl>\\\\\n",
       "\\hline\n",
       "\t7 & Gangnam      & 308.405\\\\\n",
       "\t22 & Songpa       & 220.500\\\\\n",
       "\t24 & Yeongdeungpo & 191.548\\\\\n",
       "\t18 & Seocho       & 181.476\\\\\n",
       "\t2 & Dongdaemun   & 158.690\\\\\n",
       "\t8 & Gangseo      & 147.381\\\\\n",
       "\t16 & Mapo         & 144.274\\\\\n",
       "\t15 & Jungnang     & 140.107\\\\\n",
       "\t11 & Gwanak       & 133.369\\\\\n",
       "\t20 & Seongbuk     & 133.286\\\\\n",
       "\\end{tabular}\n"
      ],
      "text/markdown": [
       "\n",
       "A data.frame: 10 × 2\n",
       "\n",
       "| <!--/--> | District &lt;fct&gt; | Accident &lt;dbl&gt; |\n",
       "|---|---|---|\n",
       "| 7 | Gangnam      | 308.405 |\n",
       "| 22 | Songpa       | 220.500 |\n",
       "| 24 | Yeongdeungpo | 191.548 |\n",
       "| 18 | Seocho       | 181.476 |\n",
       "| 2 | Dongdaemun   | 158.690 |\n",
       "| 8 | Gangseo      | 147.381 |\n",
       "| 16 | Mapo         | 144.274 |\n",
       "| 15 | Jungnang     | 140.107 |\n",
       "| 11 | Gwanak       | 133.369 |\n",
       "| 20 | Seongbuk     | 133.286 |\n",
       "\n"
      ],
      "text/plain": [
       "   District     Accident\n",
       "7  Gangnam      308.405 \n",
       "22 Songpa       220.500 \n",
       "24 Yeongdeungpo 191.548 \n",
       "18 Seocho       181.476 \n",
       "2  Dongdaemun   158.690 \n",
       "8  Gangseo      147.381 \n",
       "16 Mapo         144.274 \n",
       "15 Jungnang     140.107 \n",
       "11 Gwanak       133.369 \n",
       "20 Seongbuk     133.286 "
      ]
     },
     "metadata": {},
     "output_type": "display_data"
    }
   ],
   "source": [
    "# Districts with ten largest SD of accidents\n",
    "orderBy(~-Accident, data = districtAccMean)[1:10,] # ascending order\n",
    "\n",
    "# Alternatively,\n",
    "# orderBy(~-Accident, data = districtAccMean[1:10,])"
   ]
  },
  {
   "cell_type": "code",
   "execution_count": 193,
   "metadata": {},
   "outputs": [
    {
     "data": {
      "text/html": [
       "<table>\n",
       "<caption>A data.frame: 10 × 2</caption>\n",
       "<thead>\n",
       "\t<tr><th></th><th scope=col>District</th><th scope=col>Accident</th></tr>\n",
       "\t<tr><th></th><th scope=col>&lt;fct&gt;</th><th scope=col>&lt;dbl&gt;</th></tr>\n",
       "</thead>\n",
       "<tbody>\n",
       "\t<tr><th scope=row>1</th><td>Dobong   </td><td> 78.286</td></tr>\n",
       "\t<tr><th scope=row>9</th><td>Geumcheon</td><td> 79.131</td></tr>\n",
       "\t<tr><th scope=row>19</th><td>Seodaemun</td><td> 89.798</td></tr>\n",
       "\t<tr><th scope=row>21</th><td>Seongdong</td><td> 93.226</td></tr>\n",
       "\t<tr><th scope=row>5</th><td>Gangbuk  </td><td>101.190</td></tr>\n",
       "\t<tr><th scope=row>4</th><td>Eunpyeong</td><td>107.310</td></tr>\n",
       "\t<tr><th scope=row>12</th><td>Gwangjin </td><td>107.750</td></tr>\n",
       "\t<tr><th scope=row>13</th><td>Jongno   </td><td>110.548</td></tr>\n",
       "\t<tr><th scope=row>3</th><td>Dongjak  </td><td>111.286</td></tr>\n",
       "\t<tr><th scope=row>25</th><td>Yongsan  </td><td>111.845</td></tr>\n",
       "</tbody>\n",
       "</table>\n"
      ],
      "text/latex": [
       "A data.frame: 10 × 2\n",
       "\\begin{tabular}{r|ll}\n",
       "  & District & Accident\\\\\n",
       "  & <fct> & <dbl>\\\\\n",
       "\\hline\n",
       "\t1 & Dobong    &  78.286\\\\\n",
       "\t9 & Geumcheon &  79.131\\\\\n",
       "\t19 & Seodaemun &  89.798\\\\\n",
       "\t21 & Seongdong &  93.226\\\\\n",
       "\t5 & Gangbuk   & 101.190\\\\\n",
       "\t4 & Eunpyeong & 107.310\\\\\n",
       "\t12 & Gwangjin  & 107.750\\\\\n",
       "\t13 & Jongno    & 110.548\\\\\n",
       "\t3 & Dongjak   & 111.286\\\\\n",
       "\t25 & Yongsan   & 111.845\\\\\n",
       "\\end{tabular}\n"
      ],
      "text/markdown": [
       "\n",
       "A data.frame: 10 × 2\n",
       "\n",
       "| <!--/--> | District &lt;fct&gt; | Accident &lt;dbl&gt; |\n",
       "|---|---|---|\n",
       "| 1 | Dobong    |  78.286 |\n",
       "| 9 | Geumcheon |  79.131 |\n",
       "| 19 | Seodaemun |  89.798 |\n",
       "| 21 | Seongdong |  93.226 |\n",
       "| 5 | Gangbuk   | 101.190 |\n",
       "| 4 | Eunpyeong | 107.310 |\n",
       "| 12 | Gwangjin  | 107.750 |\n",
       "| 13 | Jongno    | 110.548 |\n",
       "| 3 | Dongjak   | 111.286 |\n",
       "| 25 | Yongsan   | 111.845 |\n",
       "\n"
      ],
      "text/plain": [
       "   District  Accident\n",
       "1  Dobong     78.286 \n",
       "9  Geumcheon  79.131 \n",
       "19 Seodaemun  89.798 \n",
       "21 Seongdong  93.226 \n",
       "5  Gangbuk   101.190 \n",
       "4  Eunpyeong 107.310 \n",
       "12 Gwangjin  107.750 \n",
       "13 Jongno    110.548 \n",
       "3  Dongjak   111.286 \n",
       "25 Yongsan   111.845 "
      ]
     },
     "metadata": {},
     "output_type": "display_data"
    }
   ],
   "source": [
    "# Districts with ten smallest SD accidents \n",
    "orderBy(~Accident, data = districtAccMean)[1:10,]  # decending order"
   ]
  },
  {
   "cell_type": "markdown",
   "metadata": {},
   "source": [
    "### Coefficient of variation"
   ]
  },
  {
   "cell_type": "code",
   "execution_count": 194,
   "metadata": {},
   "outputs": [
    {
     "data": {
      "text/html": [
       "<ol class=list-inline>\n",
       "\t<li>0.151879007740848</li>\n",
       "\t<li>0.13791669292331</li>\n",
       "\t<li>0.144330823284151</li>\n",
       "\t<li>0.187354393812319</li>\n",
       "\t<li>0.152080245083506</li>\n",
       "\t<li>0.12614373578229</li>\n",
       "\t<li>0.106087774193025</li>\n",
       "\t<li>0.130939537660893</li>\n",
       "\t<li>0.186260757478106</li>\n",
       "\t<li>0.132098441267037</li>\n",
       "\t<li>0.170631855978526</li>\n",
       "\t<li>0.195563805104408</li>\n",
       "\t<li>0.150151970184897</li>\n",
       "\t<li>0.142247124017957</li>\n",
       "\t<li>0.13084285581734</li>\n",
       "\t<li>0.126010230533568</li>\n",
       "\t<li>0.124902696199844</li>\n",
       "\t<li>0.121261213604003</li>\n",
       "\t<li>0.132864874496091</li>\n",
       "\t<li>0.139947181249343</li>\n",
       "\t<li>0.157145002467123</li>\n",
       "\t<li>0.132113378684807</li>\n",
       "\t<li>0.139880902875963</li>\n",
       "\t<li>0.119333013135089</li>\n",
       "\t<li>0.156234073941616</li>\n",
       "</ol>\n"
      ],
      "text/latex": [
       "\\begin{enumerate*}\n",
       "\\item 0.151879007740848\n",
       "\\item 0.13791669292331\n",
       "\\item 0.144330823284151\n",
       "\\item 0.187354393812319\n",
       "\\item 0.152080245083506\n",
       "\\item 0.12614373578229\n",
       "\\item 0.106087774193025\n",
       "\\item 0.130939537660893\n",
       "\\item 0.186260757478106\n",
       "\\item 0.132098441267037\n",
       "\\item 0.170631855978526\n",
       "\\item 0.195563805104408\n",
       "\\item 0.150151970184897\n",
       "\\item 0.142247124017957\n",
       "\\item 0.13084285581734\n",
       "\\item 0.126010230533568\n",
       "\\item 0.124902696199844\n",
       "\\item 0.121261213604003\n",
       "\\item 0.132864874496091\n",
       "\\item 0.139947181249343\n",
       "\\item 0.157145002467123\n",
       "\\item 0.132113378684807\n",
       "\\item 0.139880902875963\n",
       "\\item 0.119333013135089\n",
       "\\item 0.156234073941616\n",
       "\\end{enumerate*}\n"
      ],
      "text/markdown": [
       "1. 0.151879007740848\n",
       "2. 0.13791669292331\n",
       "3. 0.144330823284151\n",
       "4. 0.187354393812319\n",
       "5. 0.152080245083506\n",
       "6. 0.12614373578229\n",
       "7. 0.106087774193025\n",
       "8. 0.130939537660893\n",
       "9. 0.186260757478106\n",
       "10. 0.132098441267037\n",
       "11. 0.170631855978526\n",
       "12. 0.195563805104408\n",
       "13. 0.150151970184897\n",
       "14. 0.142247124017957\n",
       "15. 0.13084285581734\n",
       "16. 0.126010230533568\n",
       "17. 0.124902696199844\n",
       "18. 0.121261213604003\n",
       "19. 0.132864874496091\n",
       "20. 0.139947181249343\n",
       "21. 0.157145002467123\n",
       "22. 0.132113378684807\n",
       "23. 0.139880902875963\n",
       "24. 0.119333013135089\n",
       "25. 0.156234073941616\n",
       "\n",
       "\n"
      ],
      "text/plain": [
       " [1] 0.1518790 0.1379167 0.1443308 0.1873544 0.1520802 0.1261437 0.1060878\n",
       " [8] 0.1309395 0.1862608 0.1320984 0.1706319 0.1955638 0.1501520 0.1422471\n",
       "[15] 0.1308429 0.1260102 0.1249027 0.1212612 0.1328649 0.1399472 0.1571450\n",
       "[22] 0.1321134 0.1398809 0.1193330 0.1562341"
      ]
     },
     "metadata": {},
     "output_type": "display_data"
    }
   ],
   "source": [
    "districtAccSD$Accident / districtAccMean$Accident"
   ]
  },
  {
   "cell_type": "code",
   "execution_count": 195,
   "metadata": {},
   "outputs": [
    {
     "data": {
      "text/html": [
       "<table>\n",
       "<caption>A data.frame: 6 × 1</caption>\n",
       "<thead>\n",
       "\t<tr><th></th><th scope=col>Accident</th></tr>\n",
       "\t<tr><th></th><th scope=col>&lt;dbl&gt;</th></tr>\n",
       "</thead>\n",
       "<tbody>\n",
       "\t<tr><th scope=row>1</th><td>0.152</td></tr>\n",
       "\t<tr><th scope=row>2</th><td>0.138</td></tr>\n",
       "\t<tr><th scope=row>3</th><td>0.144</td></tr>\n",
       "\t<tr><th scope=row>4</th><td>0.187</td></tr>\n",
       "\t<tr><th scope=row>5</th><td>0.152</td></tr>\n",
       "\t<tr><th scope=row>6</th><td>0.126</td></tr>\n",
       "</tbody>\n",
       "</table>\n"
      ],
      "text/latex": [
       "A data.frame: 6 × 1\n",
       "\\begin{tabular}{r|l}\n",
       "  & Accident\\\\\n",
       "  & <dbl>\\\\\n",
       "\\hline\n",
       "\t1 & 0.152\\\\\n",
       "\t2 & 0.138\\\\\n",
       "\t3 & 0.144\\\\\n",
       "\t4 & 0.187\\\\\n",
       "\t5 & 0.152\\\\\n",
       "\t6 & 0.126\\\\\n",
       "\\end{tabular}\n"
      ],
      "text/markdown": [
       "\n",
       "A data.frame: 6 × 1\n",
       "\n",
       "| <!--/--> | Accident &lt;dbl&gt; |\n",
       "|---|---|\n",
       "| 1 | 0.152 |\n",
       "| 2 | 0.138 |\n",
       "| 3 | 0.144 |\n",
       "| 4 | 0.187 |\n",
       "| 5 | 0.152 |\n",
       "| 6 | 0.126 |\n",
       "\n"
      ],
      "text/plain": [
       "  Accident\n",
       "1 0.152   \n",
       "2 0.138   \n",
       "3 0.144   \n",
       "4 0.187   \n",
       "5 0.152   \n",
       "6 0.126   "
      ]
     },
     "metadata": {},
     "output_type": "display_data"
    }
   ],
   "source": [
    "CV <- round(districtAccSD[2] / districtAccMean[2], 3)\n",
    "head(CV)"
   ]
  },
  {
   "cell_type": "code",
   "execution_count": null,
   "metadata": {},
   "outputs": [],
   "source": []
  },
  {
   "cell_type": "markdown",
   "metadata": {},
   "source": [
    "#### Combine data"
   ]
  },
  {
   "cell_type": "code",
   "execution_count": 196,
   "metadata": {},
   "outputs": [
    {
     "data": {
      "text/html": [
       "<table>\n",
       "<caption>A data.frame: 6 × 4</caption>\n",
       "<thead>\n",
       "\t<tr><th></th><th scope=col>District</th><th scope=col>Accident</th><th scope=col>Accident</th><th scope=col>Accident</th></tr>\n",
       "\t<tr><th></th><th scope=col>&lt;fct&gt;</th><th scope=col>&lt;dbl&gt;</th><th scope=col>&lt;dbl&gt;</th><th scope=col>&lt;dbl&gt;</th></tr>\n",
       "</thead>\n",
       "<tbody>\n",
       "\t<tr><th scope=row>1</th><td>Dobong    </td><td> 78.286</td><td>11.890</td><td>0.152</td></tr>\n",
       "\t<tr><th scope=row>2</th><td>Dongdaemun</td><td>158.690</td><td>21.886</td><td>0.138</td></tr>\n",
       "\t<tr><th scope=row>3</th><td>Dongjak   </td><td>111.286</td><td>16.062</td><td>0.144</td></tr>\n",
       "\t<tr><th scope=row>4</th><td>Eunpyeong </td><td>107.310</td><td>20.105</td><td>0.187</td></tr>\n",
       "\t<tr><th scope=row>5</th><td>Gangbuk   </td><td>101.190</td><td>15.389</td><td>0.152</td></tr>\n",
       "\t<tr><th scope=row>6</th><td>Gangdong  </td><td>118.690</td><td>14.972</td><td>0.126</td></tr>\n",
       "</tbody>\n",
       "</table>\n"
      ],
      "text/latex": [
       "A data.frame: 6 × 4\n",
       "\\begin{tabular}{r|llll}\n",
       "  & District & Accident & Accident & Accident\\\\\n",
       "  & <fct> & <dbl> & <dbl> & <dbl>\\\\\n",
       "\\hline\n",
       "\t1 & Dobong     &  78.286 & 11.890 & 0.152\\\\\n",
       "\t2 & Dongdaemun & 158.690 & 21.886 & 0.138\\\\\n",
       "\t3 & Dongjak    & 111.286 & 16.062 & 0.144\\\\\n",
       "\t4 & Eunpyeong  & 107.310 & 20.105 & 0.187\\\\\n",
       "\t5 & Gangbuk    & 101.190 & 15.389 & 0.152\\\\\n",
       "\t6 & Gangdong   & 118.690 & 14.972 & 0.126\\\\\n",
       "\\end{tabular}\n"
      ],
      "text/markdown": [
       "\n",
       "A data.frame: 6 × 4\n",
       "\n",
       "| <!--/--> | District &lt;fct&gt; | Accident &lt;dbl&gt; | Accident &lt;dbl&gt; | Accident &lt;dbl&gt; |\n",
       "|---|---|---|---|---|\n",
       "| 1 | Dobong     |  78.286 | 11.890 | 0.152 |\n",
       "| 2 | Dongdaemun | 158.690 | 21.886 | 0.138 |\n",
       "| 3 | Dongjak    | 111.286 | 16.062 | 0.144 |\n",
       "| 4 | Eunpyeong  | 107.310 | 20.105 | 0.187 |\n",
       "| 5 | Gangbuk    | 101.190 | 15.389 | 0.152 |\n",
       "| 6 | Gangdong   | 118.690 | 14.972 | 0.126 |\n",
       "\n"
      ],
      "text/plain": [
       "  District   Accident Accident Accident\n",
       "1 Dobong      78.286  11.890   0.152   \n",
       "2 Dongdaemun 158.690  21.886   0.138   \n",
       "3 Dongjak    111.286  16.062   0.144   \n",
       "4 Eunpyeong  107.310  20.105   0.187   \n",
       "5 Gangbuk    101.190  15.389   0.152   \n",
       "6 Gangdong   118.690  14.972   0.126   "
      ]
     },
     "metadata": {},
     "output_type": "display_data"
    }
   ],
   "source": [
    "DistrictAccStat <- cbind(districtAccMean, districtAccSD[2], CV)\n",
    "head(DistrictAccStat)"
   ]
  },
  {
   "cell_type": "code",
   "execution_count": 197,
   "metadata": {},
   "outputs": [
    {
     "data": {
      "text/html": [
       "<table>\n",
       "<caption>A data.frame: 6 × 4</caption>\n",
       "<thead>\n",
       "\t<tr><th></th><th scope=col>District</th><th scope=col>Mean</th><th scope=col>SD</th><th scope=col>CV</th></tr>\n",
       "\t<tr><th></th><th scope=col>&lt;fct&gt;</th><th scope=col>&lt;dbl&gt;</th><th scope=col>&lt;dbl&gt;</th><th scope=col>&lt;dbl&gt;</th></tr>\n",
       "</thead>\n",
       "<tbody>\n",
       "\t<tr><th scope=row>1</th><td>Dobong    </td><td> 78.286</td><td>11.890</td><td>0.152</td></tr>\n",
       "\t<tr><th scope=row>2</th><td>Dongdaemun</td><td>158.690</td><td>21.886</td><td>0.138</td></tr>\n",
       "\t<tr><th scope=row>3</th><td>Dongjak   </td><td>111.286</td><td>16.062</td><td>0.144</td></tr>\n",
       "\t<tr><th scope=row>4</th><td>Eunpyeong </td><td>107.310</td><td>20.105</td><td>0.187</td></tr>\n",
       "\t<tr><th scope=row>5</th><td>Gangbuk   </td><td>101.190</td><td>15.389</td><td>0.152</td></tr>\n",
       "\t<tr><th scope=row>6</th><td>Gangdong  </td><td>118.690</td><td>14.972</td><td>0.126</td></tr>\n",
       "</tbody>\n",
       "</table>\n"
      ],
      "text/latex": [
       "A data.frame: 6 × 4\n",
       "\\begin{tabular}{r|llll}\n",
       "  & District & Mean & SD & CV\\\\\n",
       "  & <fct> & <dbl> & <dbl> & <dbl>\\\\\n",
       "\\hline\n",
       "\t1 & Dobong     &  78.286 & 11.890 & 0.152\\\\\n",
       "\t2 & Dongdaemun & 158.690 & 21.886 & 0.138\\\\\n",
       "\t3 & Dongjak    & 111.286 & 16.062 & 0.144\\\\\n",
       "\t4 & Eunpyeong  & 107.310 & 20.105 & 0.187\\\\\n",
       "\t5 & Gangbuk    & 101.190 & 15.389 & 0.152\\\\\n",
       "\t6 & Gangdong   & 118.690 & 14.972 & 0.126\\\\\n",
       "\\end{tabular}\n"
      ],
      "text/markdown": [
       "\n",
       "A data.frame: 6 × 4\n",
       "\n",
       "| <!--/--> | District &lt;fct&gt; | Mean &lt;dbl&gt; | SD &lt;dbl&gt; | CV &lt;dbl&gt; |\n",
       "|---|---|---|---|---|\n",
       "| 1 | Dobong     |  78.286 | 11.890 | 0.152 |\n",
       "| 2 | Dongdaemun | 158.690 | 21.886 | 0.138 |\n",
       "| 3 | Dongjak    | 111.286 | 16.062 | 0.144 |\n",
       "| 4 | Eunpyeong  | 107.310 | 20.105 | 0.187 |\n",
       "| 5 | Gangbuk    | 101.190 | 15.389 | 0.152 |\n",
       "| 6 | Gangdong   | 118.690 | 14.972 | 0.126 |\n",
       "\n"
      ],
      "text/plain": [
       "  District   Mean    SD     CV   \n",
       "1 Dobong      78.286 11.890 0.152\n",
       "2 Dongdaemun 158.690 21.886 0.138\n",
       "3 Dongjak    111.286 16.062 0.144\n",
       "4 Eunpyeong  107.310 20.105 0.187\n",
       "5 Gangbuk    101.190 15.389 0.152\n",
       "6 Gangdong   118.690 14.972 0.126"
      ]
     },
     "metadata": {},
     "output_type": "display_data"
    }
   ],
   "source": [
    "colnames(DistrictAccStat) <- c(\"District\", \"Mean\", \"SD\", \"CV\")\n",
    "head(DistrictAccStat)"
   ]
  },
  {
   "cell_type": "code",
   "execution_count": 198,
   "metadata": {
    "scrolled": false
   },
   "outputs": [
    {
     "data": {
      "text/html": [
       "<table>\n",
       "<caption>A data.frame: 25 × 4</caption>\n",
       "<thead>\n",
       "\t<tr><th></th><th scope=col>District</th><th scope=col>Mean</th><th scope=col>SD</th><th scope=col>CV</th></tr>\n",
       "\t<tr><th></th><th scope=col>&lt;fct&gt;</th><th scope=col>&lt;dbl&gt;</th><th scope=col>&lt;dbl&gt;</th><th scope=col>&lt;dbl&gt;</th></tr>\n",
       "</thead>\n",
       "<tbody>\n",
       "\t<tr><th scope=row>7</th><td>Gangnam     </td><td>308.405</td><td>32.718</td><td>0.106</td></tr>\n",
       "\t<tr><th scope=row>22</th><td>Songpa      </td><td>220.500</td><td>29.131</td><td>0.132</td></tr>\n",
       "\t<tr><th scope=row>24</th><td>Yeongdeungpo</td><td>191.548</td><td>22.858</td><td>0.119</td></tr>\n",
       "\t<tr><th scope=row>18</th><td>Seocho      </td><td>181.476</td><td>22.006</td><td>0.121</td></tr>\n",
       "\t<tr><th scope=row>2</th><td>Dongdaemun  </td><td>158.690</td><td>21.886</td><td>0.138</td></tr>\n",
       "\t<tr><th scope=row>8</th><td>Gangseo     </td><td>147.381</td><td>19.298</td><td>0.131</td></tr>\n",
       "\t<tr><th scope=row>16</th><td>Mapo        </td><td>144.274</td><td>18.180</td><td>0.126</td></tr>\n",
       "\t<tr><th scope=row>15</th><td>Jungnang    </td><td>140.107</td><td>18.332</td><td>0.131</td></tr>\n",
       "\t<tr><th scope=row>11</th><td>Gwanak      </td><td>133.369</td><td>22.757</td><td>0.171</td></tr>\n",
       "\t<tr><th scope=row>20</th><td>Seongbuk    </td><td>133.286</td><td>18.653</td><td>0.140</td></tr>\n",
       "\t<tr><th scope=row>17</th><td>Nowon       </td><td>127.179</td><td>15.885</td><td>0.125</td></tr>\n",
       "\t<tr><th scope=row>10</th><td>Guro        </td><td>125.679</td><td>16.602</td><td>0.132</td></tr>\n",
       "\t<tr><th scope=row>23</th><td>Yangcheon   </td><td>120.238</td><td>16.819</td><td>0.140</td></tr>\n",
       "\t<tr><th scope=row>6</th><td>Gangdong    </td><td>118.690</td><td>14.972</td><td>0.126</td></tr>\n",
       "\t<tr><th scope=row>14</th><td>Jung        </td><td>114.048</td><td>16.223</td><td>0.142</td></tr>\n",
       "\t<tr><th scope=row>25</th><td>Yongsan     </td><td>111.845</td><td>17.474</td><td>0.156</td></tr>\n",
       "\t<tr><th scope=row>3</th><td>Dongjak     </td><td>111.286</td><td>16.062</td><td>0.144</td></tr>\n",
       "\t<tr><th scope=row>13</th><td>Jongno      </td><td>110.548</td><td>16.599</td><td>0.150</td></tr>\n",
       "\t<tr><th scope=row>12</th><td>Gwangjin    </td><td>107.750</td><td>21.072</td><td>0.196</td></tr>\n",
       "\t<tr><th scope=row>4</th><td>Eunpyeong   </td><td>107.310</td><td>20.105</td><td>0.187</td></tr>\n",
       "\t<tr><th scope=row>5</th><td>Gangbuk     </td><td>101.190</td><td>15.389</td><td>0.152</td></tr>\n",
       "\t<tr><th scope=row>21</th><td>Seongdong   </td><td> 93.226</td><td>14.650</td><td>0.157</td></tr>\n",
       "\t<tr><th scope=row>19</th><td>Seodaemun   </td><td> 89.798</td><td>11.931</td><td>0.133</td></tr>\n",
       "\t<tr><th scope=row>9</th><td>Geumcheon   </td><td> 79.131</td><td>14.739</td><td>0.186</td></tr>\n",
       "\t<tr><th scope=row>1</th><td>Dobong      </td><td> 78.286</td><td>11.890</td><td>0.152</td></tr>\n",
       "</tbody>\n",
       "</table>\n"
      ],
      "text/latex": [
       "A data.frame: 25 × 4\n",
       "\\begin{tabular}{r|llll}\n",
       "  & District & Mean & SD & CV\\\\\n",
       "  & <fct> & <dbl> & <dbl> & <dbl>\\\\\n",
       "\\hline\n",
       "\t7 & Gangnam      & 308.405 & 32.718 & 0.106\\\\\n",
       "\t22 & Songpa       & 220.500 & 29.131 & 0.132\\\\\n",
       "\t24 & Yeongdeungpo & 191.548 & 22.858 & 0.119\\\\\n",
       "\t18 & Seocho       & 181.476 & 22.006 & 0.121\\\\\n",
       "\t2 & Dongdaemun   & 158.690 & 21.886 & 0.138\\\\\n",
       "\t8 & Gangseo      & 147.381 & 19.298 & 0.131\\\\\n",
       "\t16 & Mapo         & 144.274 & 18.180 & 0.126\\\\\n",
       "\t15 & Jungnang     & 140.107 & 18.332 & 0.131\\\\\n",
       "\t11 & Gwanak       & 133.369 & 22.757 & 0.171\\\\\n",
       "\t20 & Seongbuk     & 133.286 & 18.653 & 0.140\\\\\n",
       "\t17 & Nowon        & 127.179 & 15.885 & 0.125\\\\\n",
       "\t10 & Guro         & 125.679 & 16.602 & 0.132\\\\\n",
       "\t23 & Yangcheon    & 120.238 & 16.819 & 0.140\\\\\n",
       "\t6 & Gangdong     & 118.690 & 14.972 & 0.126\\\\\n",
       "\t14 & Jung         & 114.048 & 16.223 & 0.142\\\\\n",
       "\t25 & Yongsan      & 111.845 & 17.474 & 0.156\\\\\n",
       "\t3 & Dongjak      & 111.286 & 16.062 & 0.144\\\\\n",
       "\t13 & Jongno       & 110.548 & 16.599 & 0.150\\\\\n",
       "\t12 & Gwangjin     & 107.750 & 21.072 & 0.196\\\\\n",
       "\t4 & Eunpyeong    & 107.310 & 20.105 & 0.187\\\\\n",
       "\t5 & Gangbuk      & 101.190 & 15.389 & 0.152\\\\\n",
       "\t21 & Seongdong    &  93.226 & 14.650 & 0.157\\\\\n",
       "\t19 & Seodaemun    &  89.798 & 11.931 & 0.133\\\\\n",
       "\t9 & Geumcheon    &  79.131 & 14.739 & 0.186\\\\\n",
       "\t1 & Dobong       &  78.286 & 11.890 & 0.152\\\\\n",
       "\\end{tabular}\n"
      ],
      "text/markdown": [
       "\n",
       "A data.frame: 25 × 4\n",
       "\n",
       "| <!--/--> | District &lt;fct&gt; | Mean &lt;dbl&gt; | SD &lt;dbl&gt; | CV &lt;dbl&gt; |\n",
       "|---|---|---|---|---|\n",
       "| 7 | Gangnam      | 308.405 | 32.718 | 0.106 |\n",
       "| 22 | Songpa       | 220.500 | 29.131 | 0.132 |\n",
       "| 24 | Yeongdeungpo | 191.548 | 22.858 | 0.119 |\n",
       "| 18 | Seocho       | 181.476 | 22.006 | 0.121 |\n",
       "| 2 | Dongdaemun   | 158.690 | 21.886 | 0.138 |\n",
       "| 8 | Gangseo      | 147.381 | 19.298 | 0.131 |\n",
       "| 16 | Mapo         | 144.274 | 18.180 | 0.126 |\n",
       "| 15 | Jungnang     | 140.107 | 18.332 | 0.131 |\n",
       "| 11 | Gwanak       | 133.369 | 22.757 | 0.171 |\n",
       "| 20 | Seongbuk     | 133.286 | 18.653 | 0.140 |\n",
       "| 17 | Nowon        | 127.179 | 15.885 | 0.125 |\n",
       "| 10 | Guro         | 125.679 | 16.602 | 0.132 |\n",
       "| 23 | Yangcheon    | 120.238 | 16.819 | 0.140 |\n",
       "| 6 | Gangdong     | 118.690 | 14.972 | 0.126 |\n",
       "| 14 | Jung         | 114.048 | 16.223 | 0.142 |\n",
       "| 25 | Yongsan      | 111.845 | 17.474 | 0.156 |\n",
       "| 3 | Dongjak      | 111.286 | 16.062 | 0.144 |\n",
       "| 13 | Jongno       | 110.548 | 16.599 | 0.150 |\n",
       "| 12 | Gwangjin     | 107.750 | 21.072 | 0.196 |\n",
       "| 4 | Eunpyeong    | 107.310 | 20.105 | 0.187 |\n",
       "| 5 | Gangbuk      | 101.190 | 15.389 | 0.152 |\n",
       "| 21 | Seongdong    |  93.226 | 14.650 | 0.157 |\n",
       "| 19 | Seodaemun    |  89.798 | 11.931 | 0.133 |\n",
       "| 9 | Geumcheon    |  79.131 | 14.739 | 0.186 |\n",
       "| 1 | Dobong       |  78.286 | 11.890 | 0.152 |\n",
       "\n"
      ],
      "text/plain": [
       "   District     Mean    SD     CV   \n",
       "7  Gangnam      308.405 32.718 0.106\n",
       "22 Songpa       220.500 29.131 0.132\n",
       "24 Yeongdeungpo 191.548 22.858 0.119\n",
       "18 Seocho       181.476 22.006 0.121\n",
       "2  Dongdaemun   158.690 21.886 0.138\n",
       "8  Gangseo      147.381 19.298 0.131\n",
       "16 Mapo         144.274 18.180 0.126\n",
       "15 Jungnang     140.107 18.332 0.131\n",
       "11 Gwanak       133.369 22.757 0.171\n",
       "20 Seongbuk     133.286 18.653 0.140\n",
       "17 Nowon        127.179 15.885 0.125\n",
       "10 Guro         125.679 16.602 0.132\n",
       "23 Yangcheon    120.238 16.819 0.140\n",
       "6  Gangdong     118.690 14.972 0.126\n",
       "14 Jung         114.048 16.223 0.142\n",
       "25 Yongsan      111.845 17.474 0.156\n",
       "3  Dongjak      111.286 16.062 0.144\n",
       "13 Jongno       110.548 16.599 0.150\n",
       "12 Gwangjin     107.750 21.072 0.196\n",
       "4  Eunpyeong    107.310 20.105 0.187\n",
       "5  Gangbuk      101.190 15.389 0.152\n",
       "21 Seongdong     93.226 14.650 0.157\n",
       "19 Seodaemun     89.798 11.931 0.133\n",
       "9  Geumcheon     79.131 14.739 0.186\n",
       "1  Dobong        78.286 11.890 0.152"
      ]
     },
     "metadata": {},
     "output_type": "display_data"
    },
    {
     "data": {
      "text/html": [
       "<table>\n",
       "<caption>A data.frame: 25 × 4</caption>\n",
       "<thead>\n",
       "\t<tr><th></th><th scope=col>District</th><th scope=col>Mean</th><th scope=col>SD</th><th scope=col>CV</th></tr>\n",
       "\t<tr><th></th><th scope=col>&lt;fct&gt;</th><th scope=col>&lt;dbl&gt;</th><th scope=col>&lt;dbl&gt;</th><th scope=col>&lt;dbl&gt;</th></tr>\n",
       "</thead>\n",
       "<tbody>\n",
       "\t<tr><th scope=row>7</th><td>Gangnam     </td><td>308.405</td><td>32.718</td><td>0.106</td></tr>\n",
       "\t<tr><th scope=row>22</th><td>Songpa      </td><td>220.500</td><td>29.131</td><td>0.132</td></tr>\n",
       "\t<tr><th scope=row>24</th><td>Yeongdeungpo</td><td>191.548</td><td>22.858</td><td>0.119</td></tr>\n",
       "\t<tr><th scope=row>11</th><td>Gwanak      </td><td>133.369</td><td>22.757</td><td>0.171</td></tr>\n",
       "\t<tr><th scope=row>18</th><td>Seocho      </td><td>181.476</td><td>22.006</td><td>0.121</td></tr>\n",
       "\t<tr><th scope=row>2</th><td>Dongdaemun  </td><td>158.690</td><td>21.886</td><td>0.138</td></tr>\n",
       "\t<tr><th scope=row>12</th><td>Gwangjin    </td><td>107.750</td><td>21.072</td><td>0.196</td></tr>\n",
       "\t<tr><th scope=row>4</th><td>Eunpyeong   </td><td>107.310</td><td>20.105</td><td>0.187</td></tr>\n",
       "\t<tr><th scope=row>8</th><td>Gangseo     </td><td>147.381</td><td>19.298</td><td>0.131</td></tr>\n",
       "\t<tr><th scope=row>20</th><td>Seongbuk    </td><td>133.286</td><td>18.653</td><td>0.140</td></tr>\n",
       "\t<tr><th scope=row>15</th><td>Jungnang    </td><td>140.107</td><td>18.332</td><td>0.131</td></tr>\n",
       "\t<tr><th scope=row>16</th><td>Mapo        </td><td>144.274</td><td>18.180</td><td>0.126</td></tr>\n",
       "\t<tr><th scope=row>25</th><td>Yongsan     </td><td>111.845</td><td>17.474</td><td>0.156</td></tr>\n",
       "\t<tr><th scope=row>23</th><td>Yangcheon   </td><td>120.238</td><td>16.819</td><td>0.140</td></tr>\n",
       "\t<tr><th scope=row>10</th><td>Guro        </td><td>125.679</td><td>16.602</td><td>0.132</td></tr>\n",
       "\t<tr><th scope=row>13</th><td>Jongno      </td><td>110.548</td><td>16.599</td><td>0.150</td></tr>\n",
       "\t<tr><th scope=row>14</th><td>Jung        </td><td>114.048</td><td>16.223</td><td>0.142</td></tr>\n",
       "\t<tr><th scope=row>3</th><td>Dongjak     </td><td>111.286</td><td>16.062</td><td>0.144</td></tr>\n",
       "\t<tr><th scope=row>17</th><td>Nowon       </td><td>127.179</td><td>15.885</td><td>0.125</td></tr>\n",
       "\t<tr><th scope=row>5</th><td>Gangbuk     </td><td>101.190</td><td>15.389</td><td>0.152</td></tr>\n",
       "\t<tr><th scope=row>6</th><td>Gangdong    </td><td>118.690</td><td>14.972</td><td>0.126</td></tr>\n",
       "\t<tr><th scope=row>9</th><td>Geumcheon   </td><td> 79.131</td><td>14.739</td><td>0.186</td></tr>\n",
       "\t<tr><th scope=row>21</th><td>Seongdong   </td><td> 93.226</td><td>14.650</td><td>0.157</td></tr>\n",
       "\t<tr><th scope=row>19</th><td>Seodaemun   </td><td> 89.798</td><td>11.931</td><td>0.133</td></tr>\n",
       "\t<tr><th scope=row>1</th><td>Dobong      </td><td> 78.286</td><td>11.890</td><td>0.152</td></tr>\n",
       "</tbody>\n",
       "</table>\n"
      ],
      "text/latex": [
       "A data.frame: 25 × 4\n",
       "\\begin{tabular}{r|llll}\n",
       "  & District & Mean & SD & CV\\\\\n",
       "  & <fct> & <dbl> & <dbl> & <dbl>\\\\\n",
       "\\hline\n",
       "\t7 & Gangnam      & 308.405 & 32.718 & 0.106\\\\\n",
       "\t22 & Songpa       & 220.500 & 29.131 & 0.132\\\\\n",
       "\t24 & Yeongdeungpo & 191.548 & 22.858 & 0.119\\\\\n",
       "\t11 & Gwanak       & 133.369 & 22.757 & 0.171\\\\\n",
       "\t18 & Seocho       & 181.476 & 22.006 & 0.121\\\\\n",
       "\t2 & Dongdaemun   & 158.690 & 21.886 & 0.138\\\\\n",
       "\t12 & Gwangjin     & 107.750 & 21.072 & 0.196\\\\\n",
       "\t4 & Eunpyeong    & 107.310 & 20.105 & 0.187\\\\\n",
       "\t8 & Gangseo      & 147.381 & 19.298 & 0.131\\\\\n",
       "\t20 & Seongbuk     & 133.286 & 18.653 & 0.140\\\\\n",
       "\t15 & Jungnang     & 140.107 & 18.332 & 0.131\\\\\n",
       "\t16 & Mapo         & 144.274 & 18.180 & 0.126\\\\\n",
       "\t25 & Yongsan      & 111.845 & 17.474 & 0.156\\\\\n",
       "\t23 & Yangcheon    & 120.238 & 16.819 & 0.140\\\\\n",
       "\t10 & Guro         & 125.679 & 16.602 & 0.132\\\\\n",
       "\t13 & Jongno       & 110.548 & 16.599 & 0.150\\\\\n",
       "\t14 & Jung         & 114.048 & 16.223 & 0.142\\\\\n",
       "\t3 & Dongjak      & 111.286 & 16.062 & 0.144\\\\\n",
       "\t17 & Nowon        & 127.179 & 15.885 & 0.125\\\\\n",
       "\t5 & Gangbuk      & 101.190 & 15.389 & 0.152\\\\\n",
       "\t6 & Gangdong     & 118.690 & 14.972 & 0.126\\\\\n",
       "\t9 & Geumcheon    &  79.131 & 14.739 & 0.186\\\\\n",
       "\t21 & Seongdong    &  93.226 & 14.650 & 0.157\\\\\n",
       "\t19 & Seodaemun    &  89.798 & 11.931 & 0.133\\\\\n",
       "\t1 & Dobong       &  78.286 & 11.890 & 0.152\\\\\n",
       "\\end{tabular}\n"
      ],
      "text/markdown": [
       "\n",
       "A data.frame: 25 × 4\n",
       "\n",
       "| <!--/--> | District &lt;fct&gt; | Mean &lt;dbl&gt; | SD &lt;dbl&gt; | CV &lt;dbl&gt; |\n",
       "|---|---|---|---|---|\n",
       "| 7 | Gangnam      | 308.405 | 32.718 | 0.106 |\n",
       "| 22 | Songpa       | 220.500 | 29.131 | 0.132 |\n",
       "| 24 | Yeongdeungpo | 191.548 | 22.858 | 0.119 |\n",
       "| 11 | Gwanak       | 133.369 | 22.757 | 0.171 |\n",
       "| 18 | Seocho       | 181.476 | 22.006 | 0.121 |\n",
       "| 2 | Dongdaemun   | 158.690 | 21.886 | 0.138 |\n",
       "| 12 | Gwangjin     | 107.750 | 21.072 | 0.196 |\n",
       "| 4 | Eunpyeong    | 107.310 | 20.105 | 0.187 |\n",
       "| 8 | Gangseo      | 147.381 | 19.298 | 0.131 |\n",
       "| 20 | Seongbuk     | 133.286 | 18.653 | 0.140 |\n",
       "| 15 | Jungnang     | 140.107 | 18.332 | 0.131 |\n",
       "| 16 | Mapo         | 144.274 | 18.180 | 0.126 |\n",
       "| 25 | Yongsan      | 111.845 | 17.474 | 0.156 |\n",
       "| 23 | Yangcheon    | 120.238 | 16.819 | 0.140 |\n",
       "| 10 | Guro         | 125.679 | 16.602 | 0.132 |\n",
       "| 13 | Jongno       | 110.548 | 16.599 | 0.150 |\n",
       "| 14 | Jung         | 114.048 | 16.223 | 0.142 |\n",
       "| 3 | Dongjak      | 111.286 | 16.062 | 0.144 |\n",
       "| 17 | Nowon        | 127.179 | 15.885 | 0.125 |\n",
       "| 5 | Gangbuk      | 101.190 | 15.389 | 0.152 |\n",
       "| 6 | Gangdong     | 118.690 | 14.972 | 0.126 |\n",
       "| 9 | Geumcheon    |  79.131 | 14.739 | 0.186 |\n",
       "| 21 | Seongdong    |  93.226 | 14.650 | 0.157 |\n",
       "| 19 | Seodaemun    |  89.798 | 11.931 | 0.133 |\n",
       "| 1 | Dobong       |  78.286 | 11.890 | 0.152 |\n",
       "\n"
      ],
      "text/plain": [
       "   District     Mean    SD     CV   \n",
       "7  Gangnam      308.405 32.718 0.106\n",
       "22 Songpa       220.500 29.131 0.132\n",
       "24 Yeongdeungpo 191.548 22.858 0.119\n",
       "11 Gwanak       133.369 22.757 0.171\n",
       "18 Seocho       181.476 22.006 0.121\n",
       "2  Dongdaemun   158.690 21.886 0.138\n",
       "12 Gwangjin     107.750 21.072 0.196\n",
       "4  Eunpyeong    107.310 20.105 0.187\n",
       "8  Gangseo      147.381 19.298 0.131\n",
       "20 Seongbuk     133.286 18.653 0.140\n",
       "15 Jungnang     140.107 18.332 0.131\n",
       "16 Mapo         144.274 18.180 0.126\n",
       "25 Yongsan      111.845 17.474 0.156\n",
       "23 Yangcheon    120.238 16.819 0.140\n",
       "10 Guro         125.679 16.602 0.132\n",
       "13 Jongno       110.548 16.599 0.150\n",
       "14 Jung         114.048 16.223 0.142\n",
       "3  Dongjak      111.286 16.062 0.144\n",
       "17 Nowon        127.179 15.885 0.125\n",
       "5  Gangbuk      101.190 15.389 0.152\n",
       "6  Gangdong     118.690 14.972 0.126\n",
       "9  Geumcheon     79.131 14.739 0.186\n",
       "21 Seongdong     93.226 14.650 0.157\n",
       "19 Seodaemun     89.798 11.931 0.133\n",
       "1  Dobong        78.286 11.890 0.152"
      ]
     },
     "metadata": {},
     "output_type": "display_data"
    },
    {
     "data": {
      "text/html": [
       "<table>\n",
       "<caption>A data.frame: 25 × 4</caption>\n",
       "<thead>\n",
       "\t<tr><th></th><th scope=col>District</th><th scope=col>Mean</th><th scope=col>SD</th><th scope=col>CV</th></tr>\n",
       "\t<tr><th></th><th scope=col>&lt;fct&gt;</th><th scope=col>&lt;dbl&gt;</th><th scope=col>&lt;dbl&gt;</th><th scope=col>&lt;dbl&gt;</th></tr>\n",
       "</thead>\n",
       "<tbody>\n",
       "\t<tr><th scope=row>7</th><td>Gangnam     </td><td>308.405</td><td>32.718</td><td>0.106</td></tr>\n",
       "\t<tr><th scope=row>24</th><td>Yeongdeungpo</td><td>191.548</td><td>22.858</td><td>0.119</td></tr>\n",
       "\t<tr><th scope=row>18</th><td>Seocho      </td><td>181.476</td><td>22.006</td><td>0.121</td></tr>\n",
       "\t<tr><th scope=row>17</th><td>Nowon       </td><td>127.179</td><td>15.885</td><td>0.125</td></tr>\n",
       "\t<tr><th scope=row>6</th><td>Gangdong    </td><td>118.690</td><td>14.972</td><td>0.126</td></tr>\n",
       "\t<tr><th scope=row>16</th><td>Mapo        </td><td>144.274</td><td>18.180</td><td>0.126</td></tr>\n",
       "\t<tr><th scope=row>8</th><td>Gangseo     </td><td>147.381</td><td>19.298</td><td>0.131</td></tr>\n",
       "\t<tr><th scope=row>15</th><td>Jungnang    </td><td>140.107</td><td>18.332</td><td>0.131</td></tr>\n",
       "\t<tr><th scope=row>10</th><td>Guro        </td><td>125.679</td><td>16.602</td><td>0.132</td></tr>\n",
       "\t<tr><th scope=row>22</th><td>Songpa      </td><td>220.500</td><td>29.131</td><td>0.132</td></tr>\n",
       "\t<tr><th scope=row>19</th><td>Seodaemun   </td><td> 89.798</td><td>11.931</td><td>0.133</td></tr>\n",
       "\t<tr><th scope=row>2</th><td>Dongdaemun  </td><td>158.690</td><td>21.886</td><td>0.138</td></tr>\n",
       "\t<tr><th scope=row>20</th><td>Seongbuk    </td><td>133.286</td><td>18.653</td><td>0.140</td></tr>\n",
       "\t<tr><th scope=row>23</th><td>Yangcheon   </td><td>120.238</td><td>16.819</td><td>0.140</td></tr>\n",
       "\t<tr><th scope=row>14</th><td>Jung        </td><td>114.048</td><td>16.223</td><td>0.142</td></tr>\n",
       "\t<tr><th scope=row>3</th><td>Dongjak     </td><td>111.286</td><td>16.062</td><td>0.144</td></tr>\n",
       "\t<tr><th scope=row>13</th><td>Jongno      </td><td>110.548</td><td>16.599</td><td>0.150</td></tr>\n",
       "\t<tr><th scope=row>1</th><td>Dobong      </td><td> 78.286</td><td>11.890</td><td>0.152</td></tr>\n",
       "\t<tr><th scope=row>5</th><td>Gangbuk     </td><td>101.190</td><td>15.389</td><td>0.152</td></tr>\n",
       "\t<tr><th scope=row>25</th><td>Yongsan     </td><td>111.845</td><td>17.474</td><td>0.156</td></tr>\n",
       "\t<tr><th scope=row>21</th><td>Seongdong   </td><td> 93.226</td><td>14.650</td><td>0.157</td></tr>\n",
       "\t<tr><th scope=row>11</th><td>Gwanak      </td><td>133.369</td><td>22.757</td><td>0.171</td></tr>\n",
       "\t<tr><th scope=row>9</th><td>Geumcheon   </td><td> 79.131</td><td>14.739</td><td>0.186</td></tr>\n",
       "\t<tr><th scope=row>4</th><td>Eunpyeong   </td><td>107.310</td><td>20.105</td><td>0.187</td></tr>\n",
       "\t<tr><th scope=row>12</th><td>Gwangjin    </td><td>107.750</td><td>21.072</td><td>0.196</td></tr>\n",
       "</tbody>\n",
       "</table>\n"
      ],
      "text/latex": [
       "A data.frame: 25 × 4\n",
       "\\begin{tabular}{r|llll}\n",
       "  & District & Mean & SD & CV\\\\\n",
       "  & <fct> & <dbl> & <dbl> & <dbl>\\\\\n",
       "\\hline\n",
       "\t7 & Gangnam      & 308.405 & 32.718 & 0.106\\\\\n",
       "\t24 & Yeongdeungpo & 191.548 & 22.858 & 0.119\\\\\n",
       "\t18 & Seocho       & 181.476 & 22.006 & 0.121\\\\\n",
       "\t17 & Nowon        & 127.179 & 15.885 & 0.125\\\\\n",
       "\t6 & Gangdong     & 118.690 & 14.972 & 0.126\\\\\n",
       "\t16 & Mapo         & 144.274 & 18.180 & 0.126\\\\\n",
       "\t8 & Gangseo      & 147.381 & 19.298 & 0.131\\\\\n",
       "\t15 & Jungnang     & 140.107 & 18.332 & 0.131\\\\\n",
       "\t10 & Guro         & 125.679 & 16.602 & 0.132\\\\\n",
       "\t22 & Songpa       & 220.500 & 29.131 & 0.132\\\\\n",
       "\t19 & Seodaemun    &  89.798 & 11.931 & 0.133\\\\\n",
       "\t2 & Dongdaemun   & 158.690 & 21.886 & 0.138\\\\\n",
       "\t20 & Seongbuk     & 133.286 & 18.653 & 0.140\\\\\n",
       "\t23 & Yangcheon    & 120.238 & 16.819 & 0.140\\\\\n",
       "\t14 & Jung         & 114.048 & 16.223 & 0.142\\\\\n",
       "\t3 & Dongjak      & 111.286 & 16.062 & 0.144\\\\\n",
       "\t13 & Jongno       & 110.548 & 16.599 & 0.150\\\\\n",
       "\t1 & Dobong       &  78.286 & 11.890 & 0.152\\\\\n",
       "\t5 & Gangbuk      & 101.190 & 15.389 & 0.152\\\\\n",
       "\t25 & Yongsan      & 111.845 & 17.474 & 0.156\\\\\n",
       "\t21 & Seongdong    &  93.226 & 14.650 & 0.157\\\\\n",
       "\t11 & Gwanak       & 133.369 & 22.757 & 0.171\\\\\n",
       "\t9 & Geumcheon    &  79.131 & 14.739 & 0.186\\\\\n",
       "\t4 & Eunpyeong    & 107.310 & 20.105 & 0.187\\\\\n",
       "\t12 & Gwangjin     & 107.750 & 21.072 & 0.196\\\\\n",
       "\\end{tabular}\n"
      ],
      "text/markdown": [
       "\n",
       "A data.frame: 25 × 4\n",
       "\n",
       "| <!--/--> | District &lt;fct&gt; | Mean &lt;dbl&gt; | SD &lt;dbl&gt; | CV &lt;dbl&gt; |\n",
       "|---|---|---|---|---|\n",
       "| 7 | Gangnam      | 308.405 | 32.718 | 0.106 |\n",
       "| 24 | Yeongdeungpo | 191.548 | 22.858 | 0.119 |\n",
       "| 18 | Seocho       | 181.476 | 22.006 | 0.121 |\n",
       "| 17 | Nowon        | 127.179 | 15.885 | 0.125 |\n",
       "| 6 | Gangdong     | 118.690 | 14.972 | 0.126 |\n",
       "| 16 | Mapo         | 144.274 | 18.180 | 0.126 |\n",
       "| 8 | Gangseo      | 147.381 | 19.298 | 0.131 |\n",
       "| 15 | Jungnang     | 140.107 | 18.332 | 0.131 |\n",
       "| 10 | Guro         | 125.679 | 16.602 | 0.132 |\n",
       "| 22 | Songpa       | 220.500 | 29.131 | 0.132 |\n",
       "| 19 | Seodaemun    |  89.798 | 11.931 | 0.133 |\n",
       "| 2 | Dongdaemun   | 158.690 | 21.886 | 0.138 |\n",
       "| 20 | Seongbuk     | 133.286 | 18.653 | 0.140 |\n",
       "| 23 | Yangcheon    | 120.238 | 16.819 | 0.140 |\n",
       "| 14 | Jung         | 114.048 | 16.223 | 0.142 |\n",
       "| 3 | Dongjak      | 111.286 | 16.062 | 0.144 |\n",
       "| 13 | Jongno       | 110.548 | 16.599 | 0.150 |\n",
       "| 1 | Dobong       |  78.286 | 11.890 | 0.152 |\n",
       "| 5 | Gangbuk      | 101.190 | 15.389 | 0.152 |\n",
       "| 25 | Yongsan      | 111.845 | 17.474 | 0.156 |\n",
       "| 21 | Seongdong    |  93.226 | 14.650 | 0.157 |\n",
       "| 11 | Gwanak       | 133.369 | 22.757 | 0.171 |\n",
       "| 9 | Geumcheon    |  79.131 | 14.739 | 0.186 |\n",
       "| 4 | Eunpyeong    | 107.310 | 20.105 | 0.187 |\n",
       "| 12 | Gwangjin     | 107.750 | 21.072 | 0.196 |\n",
       "\n"
      ],
      "text/plain": [
       "   District     Mean    SD     CV   \n",
       "7  Gangnam      308.405 32.718 0.106\n",
       "24 Yeongdeungpo 191.548 22.858 0.119\n",
       "18 Seocho       181.476 22.006 0.121\n",
       "17 Nowon        127.179 15.885 0.125\n",
       "6  Gangdong     118.690 14.972 0.126\n",
       "16 Mapo         144.274 18.180 0.126\n",
       "8  Gangseo      147.381 19.298 0.131\n",
       "15 Jungnang     140.107 18.332 0.131\n",
       "10 Guro         125.679 16.602 0.132\n",
       "22 Songpa       220.500 29.131 0.132\n",
       "19 Seodaemun     89.798 11.931 0.133\n",
       "2  Dongdaemun   158.690 21.886 0.138\n",
       "20 Seongbuk     133.286 18.653 0.140\n",
       "23 Yangcheon    120.238 16.819 0.140\n",
       "14 Jung         114.048 16.223 0.142\n",
       "3  Dongjak      111.286 16.062 0.144\n",
       "13 Jongno       110.548 16.599 0.150\n",
       "1  Dobong        78.286 11.890 0.152\n",
       "5  Gangbuk      101.190 15.389 0.152\n",
       "25 Yongsan      111.845 17.474 0.156\n",
       "21 Seongdong     93.226 14.650 0.157\n",
       "11 Gwanak       133.369 22.757 0.171\n",
       "9  Geumcheon     79.131 14.739 0.186\n",
       "4  Eunpyeong    107.310 20.105 0.187\n",
       "12 Gwangjin     107.750 21.072 0.196"
      ]
     },
     "metadata": {},
     "output_type": "display_data"
    }
   ],
   "source": [
    "orderBy(~-Mean, DistrictAccStat)\n",
    "orderBy(~-SD, DistrictAccStat)\n",
    "orderBy(~CV, DistrictAccStat)"
   ]
  },
  {
   "cell_type": "markdown",
   "metadata": {},
   "source": [
    "- Now we can see that Gangnam district records the highest number of accidents. While the standard deviation of accident in Gangnam is also high, coefficnent of variance confirms that the district is also the area where consistently occurs car accidents."
   ]
  },
  {
   "cell_type": "code",
   "execution_count": 199,
   "metadata": {},
   "outputs": [],
   "source": [
    "library(ggplot2)"
   ]
  },
  {
   "cell_type": "code",
   "execution_count": 200,
   "metadata": {},
   "outputs": [
    {
     "data": {
      "image/png": "[encoded data removed]",
      "text/plain": [
       "plot without title"
      ]
     },
     "metadata": {
      "image/png": {
       "height": 420,
       "width": 420
      },
      "text/plain": {
       "height": 420,
       "width": 420
      }
     },
     "output_type": "display_data"
    }
   ],
   "source": [
    "qplot(Mean, CV, data = DistrictAccStat, size = Mean, col = CV)"
   ]
  },
  {
   "cell_type": "code",
   "execution_count": 201,
   "metadata": {
    "scrolled": false
   },
   "outputs": [
    {
     "data": {
      "image/png": "[encoded data removed]",
      "text/plain": [
       "plot without title"
      ]
     },
     "metadata": {
      "image/png": {
       "height": 420,
       "width": 420
      },
      "text/plain": {
       "height": 420,
       "width": 420
      }
     },
     "output_type": "display_data"
    }
   ],
   "source": [
    "g <- ggplot(DistrictAccStat, aes(x = Mean, y = CV, color = District, size = Mean)) +\n",
    "  geom_point() \n",
    "g + labs(title = \"Mean - CV of Seoul Accident\")"
   ]
  },
  {
   "cell_type": "markdown",
   "metadata": {},
   "source": [
    "## Deaths"
   ]
  },
  {
   "cell_type": "markdown",
   "metadata": {},
   "source": [
    "### Mean"
   ]
  },
  {
   "cell_type": "code",
   "execution_count": 202,
   "metadata": {},
   "outputs": [
    {
     "data": {
      "text/html": [
       "<table>\n",
       "<caption>A data.frame: 6 × 2</caption>\n",
       "<thead>\n",
       "\t<tr><th></th><th scope=col>District</th><th scope=col>Deaths</th></tr>\n",
       "\t<tr><th></th><th scope=col>&lt;fct&gt;</th><th scope=col>&lt;dbl&gt;</th></tr>\n",
       "</thead>\n",
       "<tbody>\n",
       "\t<tr><th scope=row>1</th><td>Dobong    </td><td>0.9642857</td></tr>\n",
       "\t<tr><th scope=row>2</th><td>Dongdaemun</td><td>1.5595238</td></tr>\n",
       "\t<tr><th scope=row>3</th><td>Dongjak   </td><td>1.1547619</td></tr>\n",
       "\t<tr><th scope=row>4</th><td>Eunpyeong </td><td>1.2380952</td></tr>\n",
       "\t<tr><th scope=row>5</th><td>Gangbuk   </td><td>0.9285714</td></tr>\n",
       "\t<tr><th scope=row>6</th><td>Gangdong  </td><td>1.3809524</td></tr>\n",
       "</tbody>\n",
       "</table>\n"
      ],
      "text/latex": [
       "A data.frame: 6 × 2\n",
       "\\begin{tabular}{r|ll}\n",
       "  & District & Deaths\\\\\n",
       "  & <fct> & <dbl>\\\\\n",
       "\\hline\n",
       "\t1 & Dobong     & 0.9642857\\\\\n",
       "\t2 & Dongdaemun & 1.5595238\\\\\n",
       "\t3 & Dongjak    & 1.1547619\\\\\n",
       "\t4 & Eunpyeong  & 1.2380952\\\\\n",
       "\t5 & Gangbuk    & 0.9285714\\\\\n",
       "\t6 & Gangdong   & 1.3809524\\\\\n",
       "\\end{tabular}\n"
      ],
      "text/markdown": [
       "\n",
       "A data.frame: 6 × 2\n",
       "\n",
       "| <!--/--> | District &lt;fct&gt; | Deaths &lt;dbl&gt; |\n",
       "|---|---|---|\n",
       "| 1 | Dobong     | 0.9642857 |\n",
       "| 2 | Dongdaemun | 1.5595238 |\n",
       "| 3 | Dongjak    | 1.1547619 |\n",
       "| 4 | Eunpyeong  | 1.2380952 |\n",
       "| 5 | Gangbuk    | 0.9285714 |\n",
       "| 6 | Gangdong   | 1.3809524 |\n",
       "\n"
      ],
      "text/plain": [
       "  District   Deaths   \n",
       "1 Dobong     0.9642857\n",
       "2 Dongdaemun 1.5595238\n",
       "3 Dongjak    1.1547619\n",
       "4 Eunpyeong  1.2380952\n",
       "5 Gangbuk    0.9285714\n",
       "6 Gangdong   1.3809524"
      ]
     },
     "metadata": {},
     "output_type": "display_data"
    },
    {
     "data": {
      "text/html": [
       "<table>\n",
       "<caption>A data.frame: 6 × 2</caption>\n",
       "<thead>\n",
       "\t<tr><th></th><th scope=col>District</th><th scope=col>Deaths</th></tr>\n",
       "\t<tr><th></th><th scope=col>&lt;fct&gt;</th><th scope=col>&lt;dbl&gt;</th></tr>\n",
       "</thead>\n",
       "<tbody>\n",
       "\t<tr><th scope=row>1</th><td>Dobong    </td><td>0.964</td></tr>\n",
       "\t<tr><th scope=row>2</th><td>Dongdaemun</td><td>1.560</td></tr>\n",
       "\t<tr><th scope=row>3</th><td>Dongjak   </td><td>1.155</td></tr>\n",
       "\t<tr><th scope=row>4</th><td>Eunpyeong </td><td>1.238</td></tr>\n",
       "\t<tr><th scope=row>5</th><td>Gangbuk   </td><td>0.929</td></tr>\n",
       "\t<tr><th scope=row>6</th><td>Gangdong  </td><td>1.381</td></tr>\n",
       "</tbody>\n",
       "</table>\n"
      ],
      "text/latex": [
       "A data.frame: 6 × 2\n",
       "\\begin{tabular}{r|ll}\n",
       "  & District & Deaths\\\\\n",
       "  & <fct> & <dbl>\\\\\n",
       "\\hline\n",
       "\t1 & Dobong     & 0.964\\\\\n",
       "\t2 & Dongdaemun & 1.560\\\\\n",
       "\t3 & Dongjak    & 1.155\\\\\n",
       "\t4 & Eunpyeong  & 1.238\\\\\n",
       "\t5 & Gangbuk    & 0.929\\\\\n",
       "\t6 & Gangdong   & 1.381\\\\\n",
       "\\end{tabular}\n"
      ],
      "text/markdown": [
       "\n",
       "A data.frame: 6 × 2\n",
       "\n",
       "| <!--/--> | District &lt;fct&gt; | Deaths &lt;dbl&gt; |\n",
       "|---|---|---|\n",
       "| 1 | Dobong     | 0.964 |\n",
       "| 2 | Dongdaemun | 1.560 |\n",
       "| 3 | Dongjak    | 1.155 |\n",
       "| 4 | Eunpyeong  | 1.238 |\n",
       "| 5 | Gangbuk    | 0.929 |\n",
       "| 6 | Gangdong   | 1.381 |\n",
       "\n"
      ],
      "text/plain": [
       "  District   Deaths\n",
       "1 Dobong     0.964 \n",
       "2 Dongdaemun 1.560 \n",
       "3 Dongjak    1.155 \n",
       "4 Eunpyeong  1.238 \n",
       "5 Gangbuk    0.929 \n",
       "6 Gangdong   1.381 "
      ]
     },
     "metadata": {},
     "output_type": "display_data"
    }
   ],
   "source": [
    "### Calculate average numbers of deaths by District with aggregate\n",
    "\n",
    "districtDeathsMean <- aggregate(Deaths ~District, data = seoul, mean)\n",
    "head(districtDeathsMean)\n",
    "\n",
    "districtDeathsMean$Deaths <- round(districtDeathsMean$Deaths, 3)\n",
    "head(districtDeathsMean)"
   ]
  },
  {
   "cell_type": "code",
   "execution_count": 203,
   "metadata": {},
   "outputs": [],
   "source": [
    "### orderBy"
   ]
  },
  {
   "cell_type": "code",
   "execution_count": 204,
   "metadata": {},
   "outputs": [
    {
     "data": {
      "text/html": [
       "<table>\n",
       "<caption>A data.frame: 10 × 2</caption>\n",
       "<thead>\n",
       "\t<tr><th></th><th scope=col>District</th><th scope=col>Deaths</th></tr>\n",
       "\t<tr><th></th><th scope=col>&lt;fct&gt;</th><th scope=col>&lt;dbl&gt;</th></tr>\n",
       "</thead>\n",
       "<tbody>\n",
       "\t<tr><th scope=row>24</th><td>Yeongdeungpo</td><td>2.226</td></tr>\n",
       "\t<tr><th scope=row>7</th><td>Gangnam     </td><td>1.905</td></tr>\n",
       "\t<tr><th scope=row>22</th><td>Songpa      </td><td>1.762</td></tr>\n",
       "\t<tr><th scope=row>8</th><td>Gangseo     </td><td>1.619</td></tr>\n",
       "\t<tr><th scope=row>2</th><td>Dongdaemun  </td><td>1.560</td></tr>\n",
       "\t<tr><th scope=row>18</th><td>Seocho      </td><td>1.560</td></tr>\n",
       "\t<tr><th scope=row>16</th><td>Mapo        </td><td>1.536</td></tr>\n",
       "\t<tr><th scope=row>11</th><td>Gwanak      </td><td>1.440</td></tr>\n",
       "\t<tr><th scope=row>6</th><td>Gangdong    </td><td>1.381</td></tr>\n",
       "\t<tr><th scope=row>10</th><td>Guro        </td><td>1.357</td></tr>\n",
       "</tbody>\n",
       "</table>\n"
      ],
      "text/latex": [
       "A data.frame: 10 × 2\n",
       "\\begin{tabular}{r|ll}\n",
       "  & District & Deaths\\\\\n",
       "  & <fct> & <dbl>\\\\\n",
       "\\hline\n",
       "\t24 & Yeongdeungpo & 2.226\\\\\n",
       "\t7 & Gangnam      & 1.905\\\\\n",
       "\t22 & Songpa       & 1.762\\\\\n",
       "\t8 & Gangseo      & 1.619\\\\\n",
       "\t2 & Dongdaemun   & 1.560\\\\\n",
       "\t18 & Seocho       & 1.560\\\\\n",
       "\t16 & Mapo         & 1.536\\\\\n",
       "\t11 & Gwanak       & 1.440\\\\\n",
       "\t6 & Gangdong     & 1.381\\\\\n",
       "\t10 & Guro         & 1.357\\\\\n",
       "\\end{tabular}\n"
      ],
      "text/markdown": [
       "\n",
       "A data.frame: 10 × 2\n",
       "\n",
       "| <!--/--> | District &lt;fct&gt; | Deaths &lt;dbl&gt; |\n",
       "|---|---|---|\n",
       "| 24 | Yeongdeungpo | 2.226 |\n",
       "| 7 | Gangnam      | 1.905 |\n",
       "| 22 | Songpa       | 1.762 |\n",
       "| 8 | Gangseo      | 1.619 |\n",
       "| 2 | Dongdaemun   | 1.560 |\n",
       "| 18 | Seocho       | 1.560 |\n",
       "| 16 | Mapo         | 1.536 |\n",
       "| 11 | Gwanak       | 1.440 |\n",
       "| 6 | Gangdong     | 1.381 |\n",
       "| 10 | Guro         | 1.357 |\n",
       "\n"
      ],
      "text/plain": [
       "   District     Deaths\n",
       "24 Yeongdeungpo 2.226 \n",
       "7  Gangnam      1.905 \n",
       "22 Songpa       1.762 \n",
       "8  Gangseo      1.619 \n",
       "2  Dongdaemun   1.560 \n",
       "18 Seocho       1.560 \n",
       "16 Mapo         1.536 \n",
       "11 Gwanak       1.440 \n",
       "6  Gangdong     1.381 \n",
       "10 Guro         1.357 "
      ]
     },
     "metadata": {},
     "output_type": "display_data"
    },
    {
     "data": {
      "text/html": [
       "<table>\n",
       "<caption>A data.frame: 10 × 2</caption>\n",
       "<thead>\n",
       "\t<tr><th></th><th scope=col>District</th><th scope=col>Deaths</th></tr>\n",
       "\t<tr><th></th><th scope=col>&lt;fct&gt;</th><th scope=col>&lt;dbl&gt;</th></tr>\n",
       "</thead>\n",
       "<tbody>\n",
       "\t<tr><th scope=row>14</th><td>Jung     </td><td>0.845</td></tr>\n",
       "\t<tr><th scope=row>15</th><td>Jungnang </td><td>0.881</td></tr>\n",
       "\t<tr><th scope=row>5</th><td>Gangbuk  </td><td>0.929</td></tr>\n",
       "\t<tr><th scope=row>13</th><td>Jongno   </td><td>0.952</td></tr>\n",
       "\t<tr><th scope=row>1</th><td>Dobong   </td><td>0.964</td></tr>\n",
       "\t<tr><th scope=row>25</th><td>Yongsan  </td><td>0.988</td></tr>\n",
       "\t<tr><th scope=row>21</th><td>Seongdong</td><td>1.000</td></tr>\n",
       "\t<tr><th scope=row>9</th><td>Geumcheon</td><td>1.012</td></tr>\n",
       "\t<tr><th scope=row>19</th><td>Seodaemun</td><td>1.095</td></tr>\n",
       "\t<tr><th scope=row>23</th><td>Yangcheon</td><td>1.119</td></tr>\n",
       "</tbody>\n",
       "</table>\n"
      ],
      "text/latex": [
       "A data.frame: 10 × 2\n",
       "\\begin{tabular}{r|ll}\n",
       "  & District & Deaths\\\\\n",
       "  & <fct> & <dbl>\\\\\n",
       "\\hline\n",
       "\t14 & Jung      & 0.845\\\\\n",
       "\t15 & Jungnang  & 0.881\\\\\n",
       "\t5 & Gangbuk   & 0.929\\\\\n",
       "\t13 & Jongno    & 0.952\\\\\n",
       "\t1 & Dobong    & 0.964\\\\\n",
       "\t25 & Yongsan   & 0.988\\\\\n",
       "\t21 & Seongdong & 1.000\\\\\n",
       "\t9 & Geumcheon & 1.012\\\\\n",
       "\t19 & Seodaemun & 1.095\\\\\n",
       "\t23 & Yangcheon & 1.119\\\\\n",
       "\\end{tabular}\n"
      ],
      "text/markdown": [
       "\n",
       "A data.frame: 10 × 2\n",
       "\n",
       "| <!--/--> | District &lt;fct&gt; | Deaths &lt;dbl&gt; |\n",
       "|---|---|---|\n",
       "| 14 | Jung      | 0.845 |\n",
       "| 15 | Jungnang  | 0.881 |\n",
       "| 5 | Gangbuk   | 0.929 |\n",
       "| 13 | Jongno    | 0.952 |\n",
       "| 1 | Dobong    | 0.964 |\n",
       "| 25 | Yongsan   | 0.988 |\n",
       "| 21 | Seongdong | 1.000 |\n",
       "| 9 | Geumcheon | 1.012 |\n",
       "| 19 | Seodaemun | 1.095 |\n",
       "| 23 | Yangcheon | 1.119 |\n",
       "\n"
      ],
      "text/plain": [
       "   District  Deaths\n",
       "14 Jung      0.845 \n",
       "15 Jungnang  0.881 \n",
       "5  Gangbuk   0.929 \n",
       "13 Jongno    0.952 \n",
       "1  Dobong    0.964 \n",
       "25 Yongsan   0.988 \n",
       "21 Seongdong 1.000 \n",
       "9  Geumcheon 1.012 \n",
       "19 Seodaemun 1.095 \n",
       "23 Yangcheon 1.119 "
      ]
     },
     "metadata": {},
     "output_type": "display_data"
    }
   ],
   "source": [
    "# Districts where ten most deaths occur on average\n",
    "orderBy(~-Deaths, data = districtDeathsMean)[1:10,] # ascending order\n",
    "\n",
    "# Alternatively,\n",
    "# orderBy(~-Deaths, data = districtDeathsMean[1:10,])\n",
    "\n",
    "# Districts where ten least deaths occur on average\n",
    "orderBy(~Deaths, data = districtDeathsMean)[1:10,]  # decending order"
   ]
  },
  {
   "cell_type": "markdown",
   "metadata": {},
   "source": [
    "### Standard Deviation"
   ]
  },
  {
   "cell_type": "code",
   "execution_count": 205,
   "metadata": {},
   "outputs": [
    {
     "data": {
      "text/html": [
       "<table>\n",
       "<caption>A data.frame: 6 × 2</caption>\n",
       "<thead>\n",
       "\t<tr><th></th><th scope=col>District</th><th scope=col>Deaths</th></tr>\n",
       "\t<tr><th></th><th scope=col>&lt;fct&gt;</th><th scope=col>&lt;dbl&gt;</th></tr>\n",
       "</thead>\n",
       "<tbody>\n",
       "\t<tr><th scope=row>1</th><td>Dobong    </td><td>0.9625071</td></tr>\n",
       "\t<tr><th scope=row>2</th><td>Dongdaemun</td><td>1.4508094</td></tr>\n",
       "\t<tr><th scope=row>3</th><td>Dongjak   </td><td>1.1246852</td></tr>\n",
       "\t<tr><th scope=row>4</th><td>Eunpyeong </td><td>1.0014333</td></tr>\n",
       "\t<tr><th scope=row>5</th><td>Gangbuk   </td><td>0.9286045</td></tr>\n",
       "\t<tr><th scope=row>6</th><td>Gangdong  </td><td>0.9928026</td></tr>\n",
       "</tbody>\n",
       "</table>\n"
      ],
      "text/latex": [
       "A data.frame: 6 × 2\n",
       "\\begin{tabular}{r|ll}\n",
       "  & District & Deaths\\\\\n",
       "  & <fct> & <dbl>\\\\\n",
       "\\hline\n",
       "\t1 & Dobong     & 0.9625071\\\\\n",
       "\t2 & Dongdaemun & 1.4508094\\\\\n",
       "\t3 & Dongjak    & 1.1246852\\\\\n",
       "\t4 & Eunpyeong  & 1.0014333\\\\\n",
       "\t5 & Gangbuk    & 0.9286045\\\\\n",
       "\t6 & Gangdong   & 0.9928026\\\\\n",
       "\\end{tabular}\n"
      ],
      "text/markdown": [
       "\n",
       "A data.frame: 6 × 2\n",
       "\n",
       "| <!--/--> | District &lt;fct&gt; | Deaths &lt;dbl&gt; |\n",
       "|---|---|---|\n",
       "| 1 | Dobong     | 0.9625071 |\n",
       "| 2 | Dongdaemun | 1.4508094 |\n",
       "| 3 | Dongjak    | 1.1246852 |\n",
       "| 4 | Eunpyeong  | 1.0014333 |\n",
       "| 5 | Gangbuk    | 0.9286045 |\n",
       "| 6 | Gangdong   | 0.9928026 |\n",
       "\n"
      ],
      "text/plain": [
       "  District   Deaths   \n",
       "1 Dobong     0.9625071\n",
       "2 Dongdaemun 1.4508094\n",
       "3 Dongjak    1.1246852\n",
       "4 Eunpyeong  1.0014333\n",
       "5 Gangbuk    0.9286045\n",
       "6 Gangdong   0.9928026"
      ]
     },
     "metadata": {},
     "output_type": "display_data"
    },
    {
     "data": {
      "text/html": [
       "<table>\n",
       "<caption>A data.frame: 6 × 2</caption>\n",
       "<thead>\n",
       "\t<tr><th></th><th scope=col>District</th><th scope=col>Deaths</th></tr>\n",
       "\t<tr><th></th><th scope=col>&lt;fct&gt;</th><th scope=col>&lt;dbl&gt;</th></tr>\n",
       "</thead>\n",
       "<tbody>\n",
       "\t<tr><th scope=row>1</th><td>Dobong    </td><td>0.963</td></tr>\n",
       "\t<tr><th scope=row>2</th><td>Dongdaemun</td><td>1.451</td></tr>\n",
       "\t<tr><th scope=row>3</th><td>Dongjak   </td><td>1.125</td></tr>\n",
       "\t<tr><th scope=row>4</th><td>Eunpyeong </td><td>1.001</td></tr>\n",
       "\t<tr><th scope=row>5</th><td>Gangbuk   </td><td>0.929</td></tr>\n",
       "\t<tr><th scope=row>6</th><td>Gangdong  </td><td>0.993</td></tr>\n",
       "</tbody>\n",
       "</table>\n"
      ],
      "text/latex": [
       "A data.frame: 6 × 2\n",
       "\\begin{tabular}{r|ll}\n",
       "  & District & Deaths\\\\\n",
       "  & <fct> & <dbl>\\\\\n",
       "\\hline\n",
       "\t1 & Dobong     & 0.963\\\\\n",
       "\t2 & Dongdaemun & 1.451\\\\\n",
       "\t3 & Dongjak    & 1.125\\\\\n",
       "\t4 & Eunpyeong  & 1.001\\\\\n",
       "\t5 & Gangbuk    & 0.929\\\\\n",
       "\t6 & Gangdong   & 0.993\\\\\n",
       "\\end{tabular}\n"
      ],
      "text/markdown": [
       "\n",
       "A data.frame: 6 × 2\n",
       "\n",
       "| <!--/--> | District &lt;fct&gt; | Deaths &lt;dbl&gt; |\n",
       "|---|---|---|\n",
       "| 1 | Dobong     | 0.963 |\n",
       "| 2 | Dongdaemun | 1.451 |\n",
       "| 3 | Dongjak    | 1.125 |\n",
       "| 4 | Eunpyeong  | 1.001 |\n",
       "| 5 | Gangbuk    | 0.929 |\n",
       "| 6 | Gangdong   | 0.993 |\n",
       "\n"
      ],
      "text/plain": [
       "  District   Deaths\n",
       "1 Dobong     0.963 \n",
       "2 Dongdaemun 1.451 \n",
       "3 Dongjak    1.125 \n",
       "4 Eunpyeong  1.001 \n",
       "5 Gangbuk    0.929 \n",
       "6 Gangdong   0.993 "
      ]
     },
     "metadata": {},
     "output_type": "display_data"
    },
    {
     "data": {
      "text/html": [
       "<table>\n",
       "<caption>A data.frame: 10 × 2</caption>\n",
       "<thead>\n",
       "\t<tr><th></th><th scope=col>District</th><th scope=col>Deaths</th></tr>\n",
       "\t<tr><th></th><th scope=col>&lt;fct&gt;</th><th scope=col>&lt;dbl&gt;</th></tr>\n",
       "</thead>\n",
       "<tbody>\n",
       "\t<tr><th scope=row>16</th><td>Mapo        </td><td>1.517</td></tr>\n",
       "\t<tr><th scope=row>7</th><td>Gangnam     </td><td>1.486</td></tr>\n",
       "\t<tr><th scope=row>2</th><td>Dongdaemun  </td><td>1.451</td></tr>\n",
       "\t<tr><th scope=row>22</th><td>Songpa      </td><td>1.376</td></tr>\n",
       "\t<tr><th scope=row>8</th><td>Gangseo     </td><td>1.334</td></tr>\n",
       "\t<tr><th scope=row>24</th><td>Yeongdeungpo</td><td>1.302</td></tr>\n",
       "\t<tr><th scope=row>18</th><td>Seocho      </td><td>1.274</td></tr>\n",
       "\t<tr><th scope=row>20</th><td>Seongbuk    </td><td>1.247</td></tr>\n",
       "\t<tr><th scope=row>10</th><td>Guro        </td><td>1.238</td></tr>\n",
       "\t<tr><th scope=row>23</th><td>Yangcheon   </td><td>1.196</td></tr>\n",
       "</tbody>\n",
       "</table>\n"
      ],
      "text/latex": [
       "A data.frame: 10 × 2\n",
       "\\begin{tabular}{r|ll}\n",
       "  & District & Deaths\\\\\n",
       "  & <fct> & <dbl>\\\\\n",
       "\\hline\n",
       "\t16 & Mapo         & 1.517\\\\\n",
       "\t7 & Gangnam      & 1.486\\\\\n",
       "\t2 & Dongdaemun   & 1.451\\\\\n",
       "\t22 & Songpa       & 1.376\\\\\n",
       "\t8 & Gangseo      & 1.334\\\\\n",
       "\t24 & Yeongdeungpo & 1.302\\\\\n",
       "\t18 & Seocho       & 1.274\\\\\n",
       "\t20 & Seongbuk     & 1.247\\\\\n",
       "\t10 & Guro         & 1.238\\\\\n",
       "\t23 & Yangcheon    & 1.196\\\\\n",
       "\\end{tabular}\n"
      ],
      "text/markdown": [
       "\n",
       "A data.frame: 10 × 2\n",
       "\n",
       "| <!--/--> | District &lt;fct&gt; | Deaths &lt;dbl&gt; |\n",
       "|---|---|---|\n",
       "| 16 | Mapo         | 1.517 |\n",
       "| 7 | Gangnam      | 1.486 |\n",
       "| 2 | Dongdaemun   | 1.451 |\n",
       "| 22 | Songpa       | 1.376 |\n",
       "| 8 | Gangseo      | 1.334 |\n",
       "| 24 | Yeongdeungpo | 1.302 |\n",
       "| 18 | Seocho       | 1.274 |\n",
       "| 20 | Seongbuk     | 1.247 |\n",
       "| 10 | Guro         | 1.238 |\n",
       "| 23 | Yangcheon    | 1.196 |\n",
       "\n"
      ],
      "text/plain": [
       "   District     Deaths\n",
       "16 Mapo         1.517 \n",
       "7  Gangnam      1.486 \n",
       "2  Dongdaemun   1.451 \n",
       "22 Songpa       1.376 \n",
       "8  Gangseo      1.334 \n",
       "24 Yeongdeungpo 1.302 \n",
       "18 Seocho       1.274 \n",
       "20 Seongbuk     1.247 \n",
       "10 Guro         1.238 \n",
       "23 Yangcheon    1.196 "
      ]
     },
     "metadata": {},
     "output_type": "display_data"
    },
    {
     "data": {
      "text/html": [
       "<table>\n",
       "<caption>A data.frame: 10 × 2</caption>\n",
       "<thead>\n",
       "\t<tr><th></th><th scope=col>District</th><th scope=col>Deaths</th></tr>\n",
       "\t<tr><th></th><th scope=col>&lt;fct&gt;</th><th scope=col>&lt;dbl&gt;</th></tr>\n",
       "</thead>\n",
       "<tbody>\n",
       "\t<tr><th scope=row>13</th><td>Jongno   </td><td>0.820</td></tr>\n",
       "\t<tr><th scope=row>17</th><td>Nowon    </td><td>0.920</td></tr>\n",
       "\t<tr><th scope=row>5</th><td>Gangbuk  </td><td>0.929</td></tr>\n",
       "\t<tr><th scope=row>25</th><td>Yongsan  </td><td>0.938</td></tr>\n",
       "\t<tr><th scope=row>1</th><td>Dobong   </td><td>0.963</td></tr>\n",
       "\t<tr><th scope=row>15</th><td>Jungnang </td><td>0.987</td></tr>\n",
       "\t<tr><th scope=row>6</th><td>Gangdong </td><td>0.993</td></tr>\n",
       "\t<tr><th scope=row>4</th><td>Eunpyeong</td><td>1.001</td></tr>\n",
       "\t<tr><th scope=row>19</th><td>Seodaemun</td><td>1.013</td></tr>\n",
       "\t<tr><th scope=row>21</th><td>Seongdong</td><td>1.018</td></tr>\n",
       "</tbody>\n",
       "</table>\n"
      ],
      "text/latex": [
       "A data.frame: 10 × 2\n",
       "\\begin{tabular}{r|ll}\n",
       "  & District & Deaths\\\\\n",
       "  & <fct> & <dbl>\\\\\n",
       "\\hline\n",
       "\t13 & Jongno    & 0.820\\\\\n",
       "\t17 & Nowon     & 0.920\\\\\n",
       "\t5 & Gangbuk   & 0.929\\\\\n",
       "\t25 & Yongsan   & 0.938\\\\\n",
       "\t1 & Dobong    & 0.963\\\\\n",
       "\t15 & Jungnang  & 0.987\\\\\n",
       "\t6 & Gangdong  & 0.993\\\\\n",
       "\t4 & Eunpyeong & 1.001\\\\\n",
       "\t19 & Seodaemun & 1.013\\\\\n",
       "\t21 & Seongdong & 1.018\\\\\n",
       "\\end{tabular}\n"
      ],
      "text/markdown": [
       "\n",
       "A data.frame: 10 × 2\n",
       "\n",
       "| <!--/--> | District &lt;fct&gt; | Deaths &lt;dbl&gt; |\n",
       "|---|---|---|\n",
       "| 13 | Jongno    | 0.820 |\n",
       "| 17 | Nowon     | 0.920 |\n",
       "| 5 | Gangbuk   | 0.929 |\n",
       "| 25 | Yongsan   | 0.938 |\n",
       "| 1 | Dobong    | 0.963 |\n",
       "| 15 | Jungnang  | 0.987 |\n",
       "| 6 | Gangdong  | 0.993 |\n",
       "| 4 | Eunpyeong | 1.001 |\n",
       "| 19 | Seodaemun | 1.013 |\n",
       "| 21 | Seongdong | 1.018 |\n",
       "\n"
      ],
      "text/plain": [
       "   District  Deaths\n",
       "13 Jongno    0.820 \n",
       "17 Nowon     0.920 \n",
       "5  Gangbuk   0.929 \n",
       "25 Yongsan   0.938 \n",
       "1  Dobong    0.963 \n",
       "15 Jungnang  0.987 \n",
       "6  Gangdong  0.993 \n",
       "4  Eunpyeong 1.001 \n",
       "19 Seodaemun 1.013 \n",
       "21 Seongdong 1.018 "
      ]
     },
     "metadata": {},
     "output_type": "display_data"
    }
   ],
   "source": [
    "### Calculate standard deviation of deaths by District with aggregate\n",
    "\n",
    "districtDeathsSD <- aggregate(Deaths ~District, data = seoul, sd)\n",
    "head(districtDeathsSD)\n",
    "\n",
    "districtDeathsSD$Deaths <- round(districtDeathsSD$Deaths, 3)\n",
    "head(districtDeathsSD)\n",
    "\n",
    "### orderBy\n",
    "\n",
    "# Districts with ten largest SD of deaths\n",
    "orderBy(~-Deaths, data = districtDeathsSD)[1:10,] # ascending order\n",
    "\n",
    "# Alternatively,\n",
    "# orderBy(~-Accident, data = districtDeathsMean[1:10,])\n",
    "\n",
    "# Districts with ten smallest SD deaths \n",
    "orderBy(~Deaths, data = districtDeathsSD)[1:10,]  # decending order"
   ]
  },
  {
   "cell_type": "markdown",
   "metadata": {},
   "source": [
    "### Coefficient of variation"
   ]
  },
  {
   "cell_type": "code",
   "execution_count": 206,
   "metadata": {},
   "outputs": [
    {
     "data": {
      "text/html": [
       "<ol class=list-inline>\n",
       "\t<li>0.99896265560166</li>\n",
       "\t<li>0.930128205128205</li>\n",
       "\t<li>0.974025974025974</li>\n",
       "\t<li>0.808562197092084</li>\n",
       "\t<li>1</li>\n",
       "\t<li>0.719044170890659</li>\n",
       "\t<li>0.78005249343832</li>\n",
       "\t<li>0.823965410747375</li>\n",
       "\t<li>1.13241106719368</li>\n",
       "\t<li>0.912306558585114</li>\n",
       "\t<li>0.816666666666667</li>\n",
       "\t<li>0.882875605815832</li>\n",
       "\t<li>0.861344537815126</li>\n",
       "\t<li>1.30532544378698</li>\n",
       "\t<li>1.12031782065834</li>\n",
       "\t<li>0.987630208333333</li>\n",
       "\t<li>0.804899387576553</li>\n",
       "\t<li>0.816666666666667</li>\n",
       "\t<li>0.925114155251141</li>\n",
       "\t<li>0.969673405909798</li>\n",
       "\t<li>1.018</li>\n",
       "\t<li>0.780930760499432</li>\n",
       "\t<li>1.06881143878463</li>\n",
       "\t<li>0.584905660377358</li>\n",
       "\t<li>0.949392712550607</li>\n",
       "</ol>\n"
      ],
      "text/latex": [
       "\\begin{enumerate*}\n",
       "\\item 0.99896265560166\n",
       "\\item 0.930128205128205\n",
       "\\item 0.974025974025974\n",
       "\\item 0.808562197092084\n",
       "\\item 1\n",
       "\\item 0.719044170890659\n",
       "\\item 0.78005249343832\n",
       "\\item 0.823965410747375\n",
       "\\item 1.13241106719368\n",
       "\\item 0.912306558585114\n",
       "\\item 0.816666666666667\n",
       "\\item 0.882875605815832\n",
       "\\item 0.861344537815126\n",
       "\\item 1.30532544378698\n",
       "\\item 1.12031782065834\n",
       "\\item 0.987630208333333\n",
       "\\item 0.804899387576553\n",
       "\\item 0.816666666666667\n",
       "\\item 0.925114155251141\n",
       "\\item 0.969673405909798\n",
       "\\item 1.018\n",
       "\\item 0.780930760499432\n",
       "\\item 1.06881143878463\n",
       "\\item 0.584905660377358\n",
       "\\item 0.949392712550607\n",
       "\\end{enumerate*}\n"
      ],
      "text/markdown": [
       "1. 0.99896265560166\n",
       "2. 0.930128205128205\n",
       "3. 0.974025974025974\n",
       "4. 0.808562197092084\n",
       "5. 1\n",
       "6. 0.719044170890659\n",
       "7. 0.78005249343832\n",
       "8. 0.823965410747375\n",
       "9. 1.13241106719368\n",
       "10. 0.912306558585114\n",
       "11. 0.816666666666667\n",
       "12. 0.882875605815832\n",
       "13. 0.861344537815126\n",
       "14. 1.30532544378698\n",
       "15. 1.12031782065834\n",
       "16. 0.987630208333333\n",
       "17. 0.804899387576553\n",
       "18. 0.816666666666667\n",
       "19. 0.925114155251141\n",
       "20. 0.969673405909798\n",
       "21. 1.018\n",
       "22. 0.780930760499432\n",
       "23. 1.06881143878463\n",
       "24. 0.584905660377358\n",
       "25. 0.949392712550607\n",
       "\n",
       "\n"
      ],
      "text/plain": [
       " [1] 0.9989627 0.9301282 0.9740260 0.8085622 1.0000000 0.7190442 0.7800525\n",
       " [8] 0.8239654 1.1324111 0.9123066 0.8166667 0.8828756 0.8613445 1.3053254\n",
       "[15] 1.1203178 0.9876302 0.8048994 0.8166667 0.9251142 0.9696734 1.0180000\n",
       "[22] 0.7809308 1.0688114 0.5849057 0.9493927"
      ]
     },
     "metadata": {},
     "output_type": "display_data"
    },
    {
     "data": {
      "text/html": [
       "<table>\n",
       "<caption>A data.frame: 6 × 1</caption>\n",
       "<thead>\n",
       "\t<tr><th></th><th scope=col>Deaths</th></tr>\n",
       "\t<tr><th></th><th scope=col>&lt;dbl&gt;</th></tr>\n",
       "</thead>\n",
       "<tbody>\n",
       "\t<tr><th scope=row>1</th><td>0.999</td></tr>\n",
       "\t<tr><th scope=row>2</th><td>0.930</td></tr>\n",
       "\t<tr><th scope=row>3</th><td>0.974</td></tr>\n",
       "\t<tr><th scope=row>4</th><td>0.809</td></tr>\n",
       "\t<tr><th scope=row>5</th><td>1.000</td></tr>\n",
       "\t<tr><th scope=row>6</th><td>0.719</td></tr>\n",
       "</tbody>\n",
       "</table>\n"
      ],
      "text/latex": [
       "A data.frame: 6 × 1\n",
       "\\begin{tabular}{r|l}\n",
       "  & Deaths\\\\\n",
       "  & <dbl>\\\\\n",
       "\\hline\n",
       "\t1 & 0.999\\\\\n",
       "\t2 & 0.930\\\\\n",
       "\t3 & 0.974\\\\\n",
       "\t4 & 0.809\\\\\n",
       "\t5 & 1.000\\\\\n",
       "\t6 & 0.719\\\\\n",
       "\\end{tabular}\n"
      ],
      "text/markdown": [
       "\n",
       "A data.frame: 6 × 1\n",
       "\n",
       "| <!--/--> | Deaths &lt;dbl&gt; |\n",
       "|---|---|\n",
       "| 1 | 0.999 |\n",
       "| 2 | 0.930 |\n",
       "| 3 | 0.974 |\n",
       "| 4 | 0.809 |\n",
       "| 5 | 1.000 |\n",
       "| 6 | 0.719 |\n",
       "\n"
      ],
      "text/plain": [
       "  Deaths\n",
       "1 0.999 \n",
       "2 0.930 \n",
       "3 0.974 \n",
       "4 0.809 \n",
       "5 1.000 \n",
       "6 0.719 "
      ]
     },
     "metadata": {},
     "output_type": "display_data"
    }
   ],
   "source": [
    "districtDeathsSD$Deaths / districtDeathsMean$Deaths\n",
    "\n",
    "CV <- round(districtDeathsSD[2] / districtDeathsMean[2], 3)\n",
    "head(CV)"
   ]
  },
  {
   "cell_type": "markdown",
   "metadata": {},
   "source": [
    "### Combine data"
   ]
  },
  {
   "cell_type": "code",
   "execution_count": 207,
   "metadata": {},
   "outputs": [
    {
     "data": {
      "text/html": [
       "<table>\n",
       "<caption>A data.frame: 6 × 4</caption>\n",
       "<thead>\n",
       "\t<tr><th></th><th scope=col>District</th><th scope=col>Deaths</th><th scope=col>Deaths</th><th scope=col>Deaths</th></tr>\n",
       "\t<tr><th></th><th scope=col>&lt;fct&gt;</th><th scope=col>&lt;dbl&gt;</th><th scope=col>&lt;dbl&gt;</th><th scope=col>&lt;dbl&gt;</th></tr>\n",
       "</thead>\n",
       "<tbody>\n",
       "\t<tr><th scope=row>1</th><td>Dobong    </td><td>0.964</td><td>0.963</td><td>0.999</td></tr>\n",
       "\t<tr><th scope=row>2</th><td>Dongdaemun</td><td>1.560</td><td>1.451</td><td>0.930</td></tr>\n",
       "\t<tr><th scope=row>3</th><td>Dongjak   </td><td>1.155</td><td>1.125</td><td>0.974</td></tr>\n",
       "\t<tr><th scope=row>4</th><td>Eunpyeong </td><td>1.238</td><td>1.001</td><td>0.809</td></tr>\n",
       "\t<tr><th scope=row>5</th><td>Gangbuk   </td><td>0.929</td><td>0.929</td><td>1.000</td></tr>\n",
       "\t<tr><th scope=row>6</th><td>Gangdong  </td><td>1.381</td><td>0.993</td><td>0.719</td></tr>\n",
       "</tbody>\n",
       "</table>\n"
      ],
      "text/latex": [
       "A data.frame: 6 × 4\n",
       "\\begin{tabular}{r|llll}\n",
       "  & District & Deaths & Deaths & Deaths\\\\\n",
       "  & <fct> & <dbl> & <dbl> & <dbl>\\\\\n",
       "\\hline\n",
       "\t1 & Dobong     & 0.964 & 0.963 & 0.999\\\\\n",
       "\t2 & Dongdaemun & 1.560 & 1.451 & 0.930\\\\\n",
       "\t3 & Dongjak    & 1.155 & 1.125 & 0.974\\\\\n",
       "\t4 & Eunpyeong  & 1.238 & 1.001 & 0.809\\\\\n",
       "\t5 & Gangbuk    & 0.929 & 0.929 & 1.000\\\\\n",
       "\t6 & Gangdong   & 1.381 & 0.993 & 0.719\\\\\n",
       "\\end{tabular}\n"
      ],
      "text/markdown": [
       "\n",
       "A data.frame: 6 × 4\n",
       "\n",
       "| <!--/--> | District &lt;fct&gt; | Deaths &lt;dbl&gt; | Deaths &lt;dbl&gt; | Deaths &lt;dbl&gt; |\n",
       "|---|---|---|---|---|\n",
       "| 1 | Dobong     | 0.964 | 0.963 | 0.999 |\n",
       "| 2 | Dongdaemun | 1.560 | 1.451 | 0.930 |\n",
       "| 3 | Dongjak    | 1.155 | 1.125 | 0.974 |\n",
       "| 4 | Eunpyeong  | 1.238 | 1.001 | 0.809 |\n",
       "| 5 | Gangbuk    | 0.929 | 0.929 | 1.000 |\n",
       "| 6 | Gangdong   | 1.381 | 0.993 | 0.719 |\n",
       "\n"
      ],
      "text/plain": [
       "  District   Deaths Deaths Deaths\n",
       "1 Dobong     0.964  0.963  0.999 \n",
       "2 Dongdaemun 1.560  1.451  0.930 \n",
       "3 Dongjak    1.155  1.125  0.974 \n",
       "4 Eunpyeong  1.238  1.001  0.809 \n",
       "5 Gangbuk    0.929  0.929  1.000 \n",
       "6 Gangdong   1.381  0.993  0.719 "
      ]
     },
     "metadata": {},
     "output_type": "display_data"
    },
    {
     "data": {
      "text/html": [
       "<table>\n",
       "<caption>A data.frame: 6 × 4</caption>\n",
       "<thead>\n",
       "\t<tr><th></th><th scope=col>District</th><th scope=col>Mean</th><th scope=col>SD</th><th scope=col>CV</th></tr>\n",
       "\t<tr><th></th><th scope=col>&lt;fct&gt;</th><th scope=col>&lt;dbl&gt;</th><th scope=col>&lt;dbl&gt;</th><th scope=col>&lt;dbl&gt;</th></tr>\n",
       "</thead>\n",
       "<tbody>\n",
       "\t<tr><th scope=row>1</th><td>Dobong    </td><td>0.964</td><td>0.963</td><td>0.999</td></tr>\n",
       "\t<tr><th scope=row>2</th><td>Dongdaemun</td><td>1.560</td><td>1.451</td><td>0.930</td></tr>\n",
       "\t<tr><th scope=row>3</th><td>Dongjak   </td><td>1.155</td><td>1.125</td><td>0.974</td></tr>\n",
       "\t<tr><th scope=row>4</th><td>Eunpyeong </td><td>1.238</td><td>1.001</td><td>0.809</td></tr>\n",
       "\t<tr><th scope=row>5</th><td>Gangbuk   </td><td>0.929</td><td>0.929</td><td>1.000</td></tr>\n",
       "\t<tr><th scope=row>6</th><td>Gangdong  </td><td>1.381</td><td>0.993</td><td>0.719</td></tr>\n",
       "</tbody>\n",
       "</table>\n"
      ],
      "text/latex": [
       "A data.frame: 6 × 4\n",
       "\\begin{tabular}{r|llll}\n",
       "  & District & Mean & SD & CV\\\\\n",
       "  & <fct> & <dbl> & <dbl> & <dbl>\\\\\n",
       "\\hline\n",
       "\t1 & Dobong     & 0.964 & 0.963 & 0.999\\\\\n",
       "\t2 & Dongdaemun & 1.560 & 1.451 & 0.930\\\\\n",
       "\t3 & Dongjak    & 1.155 & 1.125 & 0.974\\\\\n",
       "\t4 & Eunpyeong  & 1.238 & 1.001 & 0.809\\\\\n",
       "\t5 & Gangbuk    & 0.929 & 0.929 & 1.000\\\\\n",
       "\t6 & Gangdong   & 1.381 & 0.993 & 0.719\\\\\n",
       "\\end{tabular}\n"
      ],
      "text/markdown": [
       "\n",
       "A data.frame: 6 × 4\n",
       "\n",
       "| <!--/--> | District &lt;fct&gt; | Mean &lt;dbl&gt; | SD &lt;dbl&gt; | CV &lt;dbl&gt; |\n",
       "|---|---|---|---|---|\n",
       "| 1 | Dobong     | 0.964 | 0.963 | 0.999 |\n",
       "| 2 | Dongdaemun | 1.560 | 1.451 | 0.930 |\n",
       "| 3 | Dongjak    | 1.155 | 1.125 | 0.974 |\n",
       "| 4 | Eunpyeong  | 1.238 | 1.001 | 0.809 |\n",
       "| 5 | Gangbuk    | 0.929 | 0.929 | 1.000 |\n",
       "| 6 | Gangdong   | 1.381 | 0.993 | 0.719 |\n",
       "\n"
      ],
      "text/plain": [
       "  District   Mean  SD    CV   \n",
       "1 Dobong     0.964 0.963 0.999\n",
       "2 Dongdaemun 1.560 1.451 0.930\n",
       "3 Dongjak    1.155 1.125 0.974\n",
       "4 Eunpyeong  1.238 1.001 0.809\n",
       "5 Gangbuk    0.929 0.929 1.000\n",
       "6 Gangdong   1.381 0.993 0.719"
      ]
     },
     "metadata": {},
     "output_type": "display_data"
    }
   ],
   "source": [
    "DistrictDeathsStat <- cbind(districtDeathsMean, districtDeathsSD[2], CV)\n",
    "head(DistrictDeathsStat)\n",
    "\n",
    "colnames(DistrictDeathsStat) <- c(\"District\", \"Mean\", \"SD\", \"CV\")\n",
    "head(DistrictDeathsStat)"
   ]
  },
  {
   "cell_type": "code",
   "execution_count": 208,
   "metadata": {
    "scrolled": false
   },
   "outputs": [
    {
     "data": {
      "text/html": [
       "<table>\n",
       "<caption>A data.frame: 25 × 4</caption>\n",
       "<thead>\n",
       "\t<tr><th></th><th scope=col>District</th><th scope=col>Mean</th><th scope=col>SD</th><th scope=col>CV</th></tr>\n",
       "\t<tr><th></th><th scope=col>&lt;fct&gt;</th><th scope=col>&lt;dbl&gt;</th><th scope=col>&lt;dbl&gt;</th><th scope=col>&lt;dbl&gt;</th></tr>\n",
       "</thead>\n",
       "<tbody>\n",
       "\t<tr><th scope=row>24</th><td>Yeongdeungpo</td><td>2.226</td><td>1.302</td><td>0.585</td></tr>\n",
       "\t<tr><th scope=row>7</th><td>Gangnam     </td><td>1.905</td><td>1.486</td><td>0.780</td></tr>\n",
       "\t<tr><th scope=row>22</th><td>Songpa      </td><td>1.762</td><td>1.376</td><td>0.781</td></tr>\n",
       "\t<tr><th scope=row>8</th><td>Gangseo     </td><td>1.619</td><td>1.334</td><td>0.824</td></tr>\n",
       "\t<tr><th scope=row>2</th><td>Dongdaemun  </td><td>1.560</td><td>1.451</td><td>0.930</td></tr>\n",
       "\t<tr><th scope=row>18</th><td>Seocho      </td><td>1.560</td><td>1.274</td><td>0.817</td></tr>\n",
       "\t<tr><th scope=row>16</th><td>Mapo        </td><td>1.536</td><td>1.517</td><td>0.988</td></tr>\n",
       "\t<tr><th scope=row>11</th><td>Gwanak      </td><td>1.440</td><td>1.176</td><td>0.817</td></tr>\n",
       "\t<tr><th scope=row>6</th><td>Gangdong    </td><td>1.381</td><td>0.993</td><td>0.719</td></tr>\n",
       "\t<tr><th scope=row>10</th><td>Guro        </td><td>1.357</td><td>1.238</td><td>0.912</td></tr>\n",
       "\t<tr><th scope=row>20</th><td>Seongbuk    </td><td>1.286</td><td>1.247</td><td>0.970</td></tr>\n",
       "\t<tr><th scope=row>4</th><td>Eunpyeong   </td><td>1.238</td><td>1.001</td><td>0.809</td></tr>\n",
       "\t<tr><th scope=row>12</th><td>Gwangjin    </td><td>1.238</td><td>1.093</td><td>0.883</td></tr>\n",
       "\t<tr><th scope=row>3</th><td>Dongjak     </td><td>1.155</td><td>1.125</td><td>0.974</td></tr>\n",
       "\t<tr><th scope=row>17</th><td>Nowon       </td><td>1.143</td><td>0.920</td><td>0.805</td></tr>\n",
       "\t<tr><th scope=row>23</th><td>Yangcheon   </td><td>1.119</td><td>1.196</td><td>1.069</td></tr>\n",
       "\t<tr><th scope=row>19</th><td>Seodaemun   </td><td>1.095</td><td>1.013</td><td>0.925</td></tr>\n",
       "\t<tr><th scope=row>9</th><td>Geumcheon   </td><td>1.012</td><td>1.146</td><td>1.132</td></tr>\n",
       "\t<tr><th scope=row>21</th><td>Seongdong   </td><td>1.000</td><td>1.018</td><td>1.018</td></tr>\n",
       "\t<tr><th scope=row>25</th><td>Yongsan     </td><td>0.988</td><td>0.938</td><td>0.949</td></tr>\n",
       "\t<tr><th scope=row>1</th><td>Dobong      </td><td>0.964</td><td>0.963</td><td>0.999</td></tr>\n",
       "\t<tr><th scope=row>13</th><td>Jongno      </td><td>0.952</td><td>0.820</td><td>0.861</td></tr>\n",
       "\t<tr><th scope=row>5</th><td>Gangbuk     </td><td>0.929</td><td>0.929</td><td>1.000</td></tr>\n",
       "\t<tr><th scope=row>15</th><td>Jungnang    </td><td>0.881</td><td>0.987</td><td>1.120</td></tr>\n",
       "\t<tr><th scope=row>14</th><td>Jung        </td><td>0.845</td><td>1.103</td><td>1.305</td></tr>\n",
       "</tbody>\n",
       "</table>\n"
      ],
      "text/latex": [
       "A data.frame: 25 × 4\n",
       "\\begin{tabular}{r|llll}\n",
       "  & District & Mean & SD & CV\\\\\n",
       "  & <fct> & <dbl> & <dbl> & <dbl>\\\\\n",
       "\\hline\n",
       "\t24 & Yeongdeungpo & 2.226 & 1.302 & 0.585\\\\\n",
       "\t7 & Gangnam      & 1.905 & 1.486 & 0.780\\\\\n",
       "\t22 & Songpa       & 1.762 & 1.376 & 0.781\\\\\n",
       "\t8 & Gangseo      & 1.619 & 1.334 & 0.824\\\\\n",
       "\t2 & Dongdaemun   & 1.560 & 1.451 & 0.930\\\\\n",
       "\t18 & Seocho       & 1.560 & 1.274 & 0.817\\\\\n",
       "\t16 & Mapo         & 1.536 & 1.517 & 0.988\\\\\n",
       "\t11 & Gwanak       & 1.440 & 1.176 & 0.817\\\\\n",
       "\t6 & Gangdong     & 1.381 & 0.993 & 0.719\\\\\n",
       "\t10 & Guro         & 1.357 & 1.238 & 0.912\\\\\n",
       "\t20 & Seongbuk     & 1.286 & 1.247 & 0.970\\\\\n",
       "\t4 & Eunpyeong    & 1.238 & 1.001 & 0.809\\\\\n",
       "\t12 & Gwangjin     & 1.238 & 1.093 & 0.883\\\\\n",
       "\t3 & Dongjak      & 1.155 & 1.125 & 0.974\\\\\n",
       "\t17 & Nowon        & 1.143 & 0.920 & 0.805\\\\\n",
       "\t23 & Yangcheon    & 1.119 & 1.196 & 1.069\\\\\n",
       "\t19 & Seodaemun    & 1.095 & 1.013 & 0.925\\\\\n",
       "\t9 & Geumcheon    & 1.012 & 1.146 & 1.132\\\\\n",
       "\t21 & Seongdong    & 1.000 & 1.018 & 1.018\\\\\n",
       "\t25 & Yongsan      & 0.988 & 0.938 & 0.949\\\\\n",
       "\t1 & Dobong       & 0.964 & 0.963 & 0.999\\\\\n",
       "\t13 & Jongno       & 0.952 & 0.820 & 0.861\\\\\n",
       "\t5 & Gangbuk      & 0.929 & 0.929 & 1.000\\\\\n",
       "\t15 & Jungnang     & 0.881 & 0.987 & 1.120\\\\\n",
       "\t14 & Jung         & 0.845 & 1.103 & 1.305\\\\\n",
       "\\end{tabular}\n"
      ],
      "text/markdown": [
       "\n",
       "A data.frame: 25 × 4\n",
       "\n",
       "| <!--/--> | District &lt;fct&gt; | Mean &lt;dbl&gt; | SD &lt;dbl&gt; | CV &lt;dbl&gt; |\n",
       "|---|---|---|---|---|\n",
       "| 24 | Yeongdeungpo | 2.226 | 1.302 | 0.585 |\n",
       "| 7 | Gangnam      | 1.905 | 1.486 | 0.780 |\n",
       "| 22 | Songpa       | 1.762 | 1.376 | 0.781 |\n",
       "| 8 | Gangseo      | 1.619 | 1.334 | 0.824 |\n",
       "| 2 | Dongdaemun   | 1.560 | 1.451 | 0.930 |\n",
       "| 18 | Seocho       | 1.560 | 1.274 | 0.817 |\n",
       "| 16 | Mapo         | 1.536 | 1.517 | 0.988 |\n",
       "| 11 | Gwanak       | 1.440 | 1.176 | 0.817 |\n",
       "| 6 | Gangdong     | 1.381 | 0.993 | 0.719 |\n",
       "| 10 | Guro         | 1.357 | 1.238 | 0.912 |\n",
       "| 20 | Seongbuk     | 1.286 | 1.247 | 0.970 |\n",
       "| 4 | Eunpyeong    | 1.238 | 1.001 | 0.809 |\n",
       "| 12 | Gwangjin     | 1.238 | 1.093 | 0.883 |\n",
       "| 3 | Dongjak      | 1.155 | 1.125 | 0.974 |\n",
       "| 17 | Nowon        | 1.143 | 0.920 | 0.805 |\n",
       "| 23 | Yangcheon    | 1.119 | 1.196 | 1.069 |\n",
       "| 19 | Seodaemun    | 1.095 | 1.013 | 0.925 |\n",
       "| 9 | Geumcheon    | 1.012 | 1.146 | 1.132 |\n",
       "| 21 | Seongdong    | 1.000 | 1.018 | 1.018 |\n",
       "| 25 | Yongsan      | 0.988 | 0.938 | 0.949 |\n",
       "| 1 | Dobong       | 0.964 | 0.963 | 0.999 |\n",
       "| 13 | Jongno       | 0.952 | 0.820 | 0.861 |\n",
       "| 5 | Gangbuk      | 0.929 | 0.929 | 1.000 |\n",
       "| 15 | Jungnang     | 0.881 | 0.987 | 1.120 |\n",
       "| 14 | Jung         | 0.845 | 1.103 | 1.305 |\n",
       "\n"
      ],
      "text/plain": [
       "   District     Mean  SD    CV   \n",
       "24 Yeongdeungpo 2.226 1.302 0.585\n",
       "7  Gangnam      1.905 1.486 0.780\n",
       "22 Songpa       1.762 1.376 0.781\n",
       "8  Gangseo      1.619 1.334 0.824\n",
       "2  Dongdaemun   1.560 1.451 0.930\n",
       "18 Seocho       1.560 1.274 0.817\n",
       "16 Mapo         1.536 1.517 0.988\n",
       "11 Gwanak       1.440 1.176 0.817\n",
       "6  Gangdong     1.381 0.993 0.719\n",
       "10 Guro         1.357 1.238 0.912\n",
       "20 Seongbuk     1.286 1.247 0.970\n",
       "4  Eunpyeong    1.238 1.001 0.809\n",
       "12 Gwangjin     1.238 1.093 0.883\n",
       "3  Dongjak      1.155 1.125 0.974\n",
       "17 Nowon        1.143 0.920 0.805\n",
       "23 Yangcheon    1.119 1.196 1.069\n",
       "19 Seodaemun    1.095 1.013 0.925\n",
       "9  Geumcheon    1.012 1.146 1.132\n",
       "21 Seongdong    1.000 1.018 1.018\n",
       "25 Yongsan      0.988 0.938 0.949\n",
       "1  Dobong       0.964 0.963 0.999\n",
       "13 Jongno       0.952 0.820 0.861\n",
       "5  Gangbuk      0.929 0.929 1.000\n",
       "15 Jungnang     0.881 0.987 1.120\n",
       "14 Jung         0.845 1.103 1.305"
      ]
     },
     "metadata": {},
     "output_type": "display_data"
    },
    {
     "data": {
      "text/html": [
       "<table>\n",
       "<caption>A data.frame: 25 × 4</caption>\n",
       "<thead>\n",
       "\t<tr><th></th><th scope=col>District</th><th scope=col>Mean</th><th scope=col>SD</th><th scope=col>CV</th></tr>\n",
       "\t<tr><th></th><th scope=col>&lt;fct&gt;</th><th scope=col>&lt;dbl&gt;</th><th scope=col>&lt;dbl&gt;</th><th scope=col>&lt;dbl&gt;</th></tr>\n",
       "</thead>\n",
       "<tbody>\n",
       "\t<tr><th scope=row>16</th><td>Mapo        </td><td>1.536</td><td>1.517</td><td>0.988</td></tr>\n",
       "\t<tr><th scope=row>7</th><td>Gangnam     </td><td>1.905</td><td>1.486</td><td>0.780</td></tr>\n",
       "\t<tr><th scope=row>2</th><td>Dongdaemun  </td><td>1.560</td><td>1.451</td><td>0.930</td></tr>\n",
       "\t<tr><th scope=row>22</th><td>Songpa      </td><td>1.762</td><td>1.376</td><td>0.781</td></tr>\n",
       "\t<tr><th scope=row>8</th><td>Gangseo     </td><td>1.619</td><td>1.334</td><td>0.824</td></tr>\n",
       "\t<tr><th scope=row>24</th><td>Yeongdeungpo</td><td>2.226</td><td>1.302</td><td>0.585</td></tr>\n",
       "\t<tr><th scope=row>18</th><td>Seocho      </td><td>1.560</td><td>1.274</td><td>0.817</td></tr>\n",
       "\t<tr><th scope=row>20</th><td>Seongbuk    </td><td>1.286</td><td>1.247</td><td>0.970</td></tr>\n",
       "\t<tr><th scope=row>10</th><td>Guro        </td><td>1.357</td><td>1.238</td><td>0.912</td></tr>\n",
       "\t<tr><th scope=row>23</th><td>Yangcheon   </td><td>1.119</td><td>1.196</td><td>1.069</td></tr>\n",
       "\t<tr><th scope=row>11</th><td>Gwanak      </td><td>1.440</td><td>1.176</td><td>0.817</td></tr>\n",
       "\t<tr><th scope=row>9</th><td>Geumcheon   </td><td>1.012</td><td>1.146</td><td>1.132</td></tr>\n",
       "\t<tr><th scope=row>3</th><td>Dongjak     </td><td>1.155</td><td>1.125</td><td>0.974</td></tr>\n",
       "\t<tr><th scope=row>14</th><td>Jung        </td><td>0.845</td><td>1.103</td><td>1.305</td></tr>\n",
       "\t<tr><th scope=row>12</th><td>Gwangjin    </td><td>1.238</td><td>1.093</td><td>0.883</td></tr>\n",
       "\t<tr><th scope=row>21</th><td>Seongdong   </td><td>1.000</td><td>1.018</td><td>1.018</td></tr>\n",
       "\t<tr><th scope=row>19</th><td>Seodaemun   </td><td>1.095</td><td>1.013</td><td>0.925</td></tr>\n",
       "\t<tr><th scope=row>4</th><td>Eunpyeong   </td><td>1.238</td><td>1.001</td><td>0.809</td></tr>\n",
       "\t<tr><th scope=row>6</th><td>Gangdong    </td><td>1.381</td><td>0.993</td><td>0.719</td></tr>\n",
       "\t<tr><th scope=row>15</th><td>Jungnang    </td><td>0.881</td><td>0.987</td><td>1.120</td></tr>\n",
       "\t<tr><th scope=row>1</th><td>Dobong      </td><td>0.964</td><td>0.963</td><td>0.999</td></tr>\n",
       "\t<tr><th scope=row>25</th><td>Yongsan     </td><td>0.988</td><td>0.938</td><td>0.949</td></tr>\n",
       "\t<tr><th scope=row>5</th><td>Gangbuk     </td><td>0.929</td><td>0.929</td><td>1.000</td></tr>\n",
       "\t<tr><th scope=row>17</th><td>Nowon       </td><td>1.143</td><td>0.920</td><td>0.805</td></tr>\n",
       "\t<tr><th scope=row>13</th><td>Jongno      </td><td>0.952</td><td>0.820</td><td>0.861</td></tr>\n",
       "</tbody>\n",
       "</table>\n"
      ],
      "text/latex": [
       "A data.frame: 25 × 4\n",
       "\\begin{tabular}{r|llll}\n",
       "  & District & Mean & SD & CV\\\\\n",
       "  & <fct> & <dbl> & <dbl> & <dbl>\\\\\n",
       "\\hline\n",
       "\t16 & Mapo         & 1.536 & 1.517 & 0.988\\\\\n",
       "\t7 & Gangnam      & 1.905 & 1.486 & 0.780\\\\\n",
       "\t2 & Dongdaemun   & 1.560 & 1.451 & 0.930\\\\\n",
       "\t22 & Songpa       & 1.762 & 1.376 & 0.781\\\\\n",
       "\t8 & Gangseo      & 1.619 & 1.334 & 0.824\\\\\n",
       "\t24 & Yeongdeungpo & 2.226 & 1.302 & 0.585\\\\\n",
       "\t18 & Seocho       & 1.560 & 1.274 & 0.817\\\\\n",
       "\t20 & Seongbuk     & 1.286 & 1.247 & 0.970\\\\\n",
       "\t10 & Guro         & 1.357 & 1.238 & 0.912\\\\\n",
       "\t23 & Yangcheon    & 1.119 & 1.196 & 1.069\\\\\n",
       "\t11 & Gwanak       & 1.440 & 1.176 & 0.817\\\\\n",
       "\t9 & Geumcheon    & 1.012 & 1.146 & 1.132\\\\\n",
       "\t3 & Dongjak      & 1.155 & 1.125 & 0.974\\\\\n",
       "\t14 & Jung         & 0.845 & 1.103 & 1.305\\\\\n",
       "\t12 & Gwangjin     & 1.238 & 1.093 & 0.883\\\\\n",
       "\t21 & Seongdong    & 1.000 & 1.018 & 1.018\\\\\n",
       "\t19 & Seodaemun    & 1.095 & 1.013 & 0.925\\\\\n",
       "\t4 & Eunpyeong    & 1.238 & 1.001 & 0.809\\\\\n",
       "\t6 & Gangdong     & 1.381 & 0.993 & 0.719\\\\\n",
       "\t15 & Jungnang     & 0.881 & 0.987 & 1.120\\\\\n",
       "\t1 & Dobong       & 0.964 & 0.963 & 0.999\\\\\n",
       "\t25 & Yongsan      & 0.988 & 0.938 & 0.949\\\\\n",
       "\t5 & Gangbuk      & 0.929 & 0.929 & 1.000\\\\\n",
       "\t17 & Nowon        & 1.143 & 0.920 & 0.805\\\\\n",
       "\t13 & Jongno       & 0.952 & 0.820 & 0.861\\\\\n",
       "\\end{tabular}\n"
      ],
      "text/markdown": [
       "\n",
       "A data.frame: 25 × 4\n",
       "\n",
       "| <!--/--> | District &lt;fct&gt; | Mean &lt;dbl&gt; | SD &lt;dbl&gt; | CV &lt;dbl&gt; |\n",
       "|---|---|---|---|---|\n",
       "| 16 | Mapo         | 1.536 | 1.517 | 0.988 |\n",
       "| 7 | Gangnam      | 1.905 | 1.486 | 0.780 |\n",
       "| 2 | Dongdaemun   | 1.560 | 1.451 | 0.930 |\n",
       "| 22 | Songpa       | 1.762 | 1.376 | 0.781 |\n",
       "| 8 | Gangseo      | 1.619 | 1.334 | 0.824 |\n",
       "| 24 | Yeongdeungpo | 2.226 | 1.302 | 0.585 |\n",
       "| 18 | Seocho       | 1.560 | 1.274 | 0.817 |\n",
       "| 20 | Seongbuk     | 1.286 | 1.247 | 0.970 |\n",
       "| 10 | Guro         | 1.357 | 1.238 | 0.912 |\n",
       "| 23 | Yangcheon    | 1.119 | 1.196 | 1.069 |\n",
       "| 11 | Gwanak       | 1.440 | 1.176 | 0.817 |\n",
       "| 9 | Geumcheon    | 1.012 | 1.146 | 1.132 |\n",
       "| 3 | Dongjak      | 1.155 | 1.125 | 0.974 |\n",
       "| 14 | Jung         | 0.845 | 1.103 | 1.305 |\n",
       "| 12 | Gwangjin     | 1.238 | 1.093 | 0.883 |\n",
       "| 21 | Seongdong    | 1.000 | 1.018 | 1.018 |\n",
       "| 19 | Seodaemun    | 1.095 | 1.013 | 0.925 |\n",
       "| 4 | Eunpyeong    | 1.238 | 1.001 | 0.809 |\n",
       "| 6 | Gangdong     | 1.381 | 0.993 | 0.719 |\n",
       "| 15 | Jungnang     | 0.881 | 0.987 | 1.120 |\n",
       "| 1 | Dobong       | 0.964 | 0.963 | 0.999 |\n",
       "| 25 | Yongsan      | 0.988 | 0.938 | 0.949 |\n",
       "| 5 | Gangbuk      | 0.929 | 0.929 | 1.000 |\n",
       "| 17 | Nowon        | 1.143 | 0.920 | 0.805 |\n",
       "| 13 | Jongno       | 0.952 | 0.820 | 0.861 |\n",
       "\n"
      ],
      "text/plain": [
       "   District     Mean  SD    CV   \n",
       "16 Mapo         1.536 1.517 0.988\n",
       "7  Gangnam      1.905 1.486 0.780\n",
       "2  Dongdaemun   1.560 1.451 0.930\n",
       "22 Songpa       1.762 1.376 0.781\n",
       "8  Gangseo      1.619 1.334 0.824\n",
       "24 Yeongdeungpo 2.226 1.302 0.585\n",
       "18 Seocho       1.560 1.274 0.817\n",
       "20 Seongbuk     1.286 1.247 0.970\n",
       "10 Guro         1.357 1.238 0.912\n",
       "23 Yangcheon    1.119 1.196 1.069\n",
       "11 Gwanak       1.440 1.176 0.817\n",
       "9  Geumcheon    1.012 1.146 1.132\n",
       "3  Dongjak      1.155 1.125 0.974\n",
       "14 Jung         0.845 1.103 1.305\n",
       "12 Gwangjin     1.238 1.093 0.883\n",
       "21 Seongdong    1.000 1.018 1.018\n",
       "19 Seodaemun    1.095 1.013 0.925\n",
       "4  Eunpyeong    1.238 1.001 0.809\n",
       "6  Gangdong     1.381 0.993 0.719\n",
       "15 Jungnang     0.881 0.987 1.120\n",
       "1  Dobong       0.964 0.963 0.999\n",
       "25 Yongsan      0.988 0.938 0.949\n",
       "5  Gangbuk      0.929 0.929 1.000\n",
       "17 Nowon        1.143 0.920 0.805\n",
       "13 Jongno       0.952 0.820 0.861"
      ]
     },
     "metadata": {},
     "output_type": "display_data"
    },
    {
     "data": {
      "text/html": [
       "<table>\n",
       "<caption>A data.frame: 25 × 4</caption>\n",
       "<thead>\n",
       "\t<tr><th></th><th scope=col>District</th><th scope=col>Mean</th><th scope=col>SD</th><th scope=col>CV</th></tr>\n",
       "\t<tr><th></th><th scope=col>&lt;fct&gt;</th><th scope=col>&lt;dbl&gt;</th><th scope=col>&lt;dbl&gt;</th><th scope=col>&lt;dbl&gt;</th></tr>\n",
       "</thead>\n",
       "<tbody>\n",
       "\t<tr><th scope=row>24</th><td>Yeongdeungpo</td><td>2.226</td><td>1.302</td><td>0.585</td></tr>\n",
       "\t<tr><th scope=row>6</th><td>Gangdong    </td><td>1.381</td><td>0.993</td><td>0.719</td></tr>\n",
       "\t<tr><th scope=row>7</th><td>Gangnam     </td><td>1.905</td><td>1.486</td><td>0.780</td></tr>\n",
       "\t<tr><th scope=row>22</th><td>Songpa      </td><td>1.762</td><td>1.376</td><td>0.781</td></tr>\n",
       "\t<tr><th scope=row>17</th><td>Nowon       </td><td>1.143</td><td>0.920</td><td>0.805</td></tr>\n",
       "\t<tr><th scope=row>4</th><td>Eunpyeong   </td><td>1.238</td><td>1.001</td><td>0.809</td></tr>\n",
       "\t<tr><th scope=row>11</th><td>Gwanak      </td><td>1.440</td><td>1.176</td><td>0.817</td></tr>\n",
       "\t<tr><th scope=row>18</th><td>Seocho      </td><td>1.560</td><td>1.274</td><td>0.817</td></tr>\n",
       "\t<tr><th scope=row>8</th><td>Gangseo     </td><td>1.619</td><td>1.334</td><td>0.824</td></tr>\n",
       "\t<tr><th scope=row>13</th><td>Jongno      </td><td>0.952</td><td>0.820</td><td>0.861</td></tr>\n",
       "\t<tr><th scope=row>12</th><td>Gwangjin    </td><td>1.238</td><td>1.093</td><td>0.883</td></tr>\n",
       "\t<tr><th scope=row>10</th><td>Guro        </td><td>1.357</td><td>1.238</td><td>0.912</td></tr>\n",
       "\t<tr><th scope=row>19</th><td>Seodaemun   </td><td>1.095</td><td>1.013</td><td>0.925</td></tr>\n",
       "\t<tr><th scope=row>2</th><td>Dongdaemun  </td><td>1.560</td><td>1.451</td><td>0.930</td></tr>\n",
       "\t<tr><th scope=row>25</th><td>Yongsan     </td><td>0.988</td><td>0.938</td><td>0.949</td></tr>\n",
       "\t<tr><th scope=row>20</th><td>Seongbuk    </td><td>1.286</td><td>1.247</td><td>0.970</td></tr>\n",
       "\t<tr><th scope=row>3</th><td>Dongjak     </td><td>1.155</td><td>1.125</td><td>0.974</td></tr>\n",
       "\t<tr><th scope=row>16</th><td>Mapo        </td><td>1.536</td><td>1.517</td><td>0.988</td></tr>\n",
       "\t<tr><th scope=row>1</th><td>Dobong      </td><td>0.964</td><td>0.963</td><td>0.999</td></tr>\n",
       "\t<tr><th scope=row>5</th><td>Gangbuk     </td><td>0.929</td><td>0.929</td><td>1.000</td></tr>\n",
       "\t<tr><th scope=row>21</th><td>Seongdong   </td><td>1.000</td><td>1.018</td><td>1.018</td></tr>\n",
       "\t<tr><th scope=row>23</th><td>Yangcheon   </td><td>1.119</td><td>1.196</td><td>1.069</td></tr>\n",
       "\t<tr><th scope=row>15</th><td>Jungnang    </td><td>0.881</td><td>0.987</td><td>1.120</td></tr>\n",
       "\t<tr><th scope=row>9</th><td>Geumcheon   </td><td>1.012</td><td>1.146</td><td>1.132</td></tr>\n",
       "\t<tr><th scope=row>14</th><td>Jung        </td><td>0.845</td><td>1.103</td><td>1.305</td></tr>\n",
       "</tbody>\n",
       "</table>\n"
      ],
      "text/latex": [
       "A data.frame: 25 × 4\n",
       "\\begin{tabular}{r|llll}\n",
       "  & District & Mean & SD & CV\\\\\n",
       "  & <fct> & <dbl> & <dbl> & <dbl>\\\\\n",
       "\\hline\n",
       "\t24 & Yeongdeungpo & 2.226 & 1.302 & 0.585\\\\\n",
       "\t6 & Gangdong     & 1.381 & 0.993 & 0.719\\\\\n",
       "\t7 & Gangnam      & 1.905 & 1.486 & 0.780\\\\\n",
       "\t22 & Songpa       & 1.762 & 1.376 & 0.781\\\\\n",
       "\t17 & Nowon        & 1.143 & 0.920 & 0.805\\\\\n",
       "\t4 & Eunpyeong    & 1.238 & 1.001 & 0.809\\\\\n",
       "\t11 & Gwanak       & 1.440 & 1.176 & 0.817\\\\\n",
       "\t18 & Seocho       & 1.560 & 1.274 & 0.817\\\\\n",
       "\t8 & Gangseo      & 1.619 & 1.334 & 0.824\\\\\n",
       "\t13 & Jongno       & 0.952 & 0.820 & 0.861\\\\\n",
       "\t12 & Gwangjin     & 1.238 & 1.093 & 0.883\\\\\n",
       "\t10 & Guro         & 1.357 & 1.238 & 0.912\\\\\n",
       "\t19 & Seodaemun    & 1.095 & 1.013 & 0.925\\\\\n",
       "\t2 & Dongdaemun   & 1.560 & 1.451 & 0.930\\\\\n",
       "\t25 & Yongsan      & 0.988 & 0.938 & 0.949\\\\\n",
       "\t20 & Seongbuk     & 1.286 & 1.247 & 0.970\\\\\n",
       "\t3 & Dongjak      & 1.155 & 1.125 & 0.974\\\\\n",
       "\t16 & Mapo         & 1.536 & 1.517 & 0.988\\\\\n",
       "\t1 & Dobong       & 0.964 & 0.963 & 0.999\\\\\n",
       "\t5 & Gangbuk      & 0.929 & 0.929 & 1.000\\\\\n",
       "\t21 & Seongdong    & 1.000 & 1.018 & 1.018\\\\\n",
       "\t23 & Yangcheon    & 1.119 & 1.196 & 1.069\\\\\n",
       "\t15 & Jungnang     & 0.881 & 0.987 & 1.120\\\\\n",
       "\t9 & Geumcheon    & 1.012 & 1.146 & 1.132\\\\\n",
       "\t14 & Jung         & 0.845 & 1.103 & 1.305\\\\\n",
       "\\end{tabular}\n"
      ],
      "text/markdown": [
       "\n",
       "A data.frame: 25 × 4\n",
       "\n",
       "| <!--/--> | District &lt;fct&gt; | Mean &lt;dbl&gt; | SD &lt;dbl&gt; | CV &lt;dbl&gt; |\n",
       "|---|---|---|---|---|\n",
       "| 24 | Yeongdeungpo | 2.226 | 1.302 | 0.585 |\n",
       "| 6 | Gangdong     | 1.381 | 0.993 | 0.719 |\n",
       "| 7 | Gangnam      | 1.905 | 1.486 | 0.780 |\n",
       "| 22 | Songpa       | 1.762 | 1.376 | 0.781 |\n",
       "| 17 | Nowon        | 1.143 | 0.920 | 0.805 |\n",
       "| 4 | Eunpyeong    | 1.238 | 1.001 | 0.809 |\n",
       "| 11 | Gwanak       | 1.440 | 1.176 | 0.817 |\n",
       "| 18 | Seocho       | 1.560 | 1.274 | 0.817 |\n",
       "| 8 | Gangseo      | 1.619 | 1.334 | 0.824 |\n",
       "| 13 | Jongno       | 0.952 | 0.820 | 0.861 |\n",
       "| 12 | Gwangjin     | 1.238 | 1.093 | 0.883 |\n",
       "| 10 | Guro         | 1.357 | 1.238 | 0.912 |\n",
       "| 19 | Seodaemun    | 1.095 | 1.013 | 0.925 |\n",
       "| 2 | Dongdaemun   | 1.560 | 1.451 | 0.930 |\n",
       "| 25 | Yongsan      | 0.988 | 0.938 | 0.949 |\n",
       "| 20 | Seongbuk     | 1.286 | 1.247 | 0.970 |\n",
       "| 3 | Dongjak      | 1.155 | 1.125 | 0.974 |\n",
       "| 16 | Mapo         | 1.536 | 1.517 | 0.988 |\n",
       "| 1 | Dobong       | 0.964 | 0.963 | 0.999 |\n",
       "| 5 | Gangbuk      | 0.929 | 0.929 | 1.000 |\n",
       "| 21 | Seongdong    | 1.000 | 1.018 | 1.018 |\n",
       "| 23 | Yangcheon    | 1.119 | 1.196 | 1.069 |\n",
       "| 15 | Jungnang     | 0.881 | 0.987 | 1.120 |\n",
       "| 9 | Geumcheon    | 1.012 | 1.146 | 1.132 |\n",
       "| 14 | Jung         | 0.845 | 1.103 | 1.305 |\n",
       "\n"
      ],
      "text/plain": [
       "   District     Mean  SD    CV   \n",
       "24 Yeongdeungpo 2.226 1.302 0.585\n",
       "6  Gangdong     1.381 0.993 0.719\n",
       "7  Gangnam      1.905 1.486 0.780\n",
       "22 Songpa       1.762 1.376 0.781\n",
       "17 Nowon        1.143 0.920 0.805\n",
       "4  Eunpyeong    1.238 1.001 0.809\n",
       "11 Gwanak       1.440 1.176 0.817\n",
       "18 Seocho       1.560 1.274 0.817\n",
       "8  Gangseo      1.619 1.334 0.824\n",
       "13 Jongno       0.952 0.820 0.861\n",
       "12 Gwangjin     1.238 1.093 0.883\n",
       "10 Guro         1.357 1.238 0.912\n",
       "19 Seodaemun    1.095 1.013 0.925\n",
       "2  Dongdaemun   1.560 1.451 0.930\n",
       "25 Yongsan      0.988 0.938 0.949\n",
       "20 Seongbuk     1.286 1.247 0.970\n",
       "3  Dongjak      1.155 1.125 0.974\n",
       "16 Mapo         1.536 1.517 0.988\n",
       "1  Dobong       0.964 0.963 0.999\n",
       "5  Gangbuk      0.929 0.929 1.000\n",
       "21 Seongdong    1.000 1.018 1.018\n",
       "23 Yangcheon    1.119 1.196 1.069\n",
       "15 Jungnang     0.881 0.987 1.120\n",
       "9  Geumcheon    1.012 1.146 1.132\n",
       "14 Jung         0.845 1.103 1.305"
      ]
     },
     "metadata": {},
     "output_type": "display_data"
    }
   ],
   "source": [
    "orderBy(~-Mean, DistrictDeathsStat)\n",
    "orderBy(~-SD, DistrictDeathsStat)\n",
    "orderBy(~CV, DistrictDeathsStat)"
   ]
  },
  {
   "cell_type": "markdown",
   "metadata": {},
   "source": [
    "Yeongdeungpo district shows the highest number of deaths by car accidents. The low CV of Yeongdeungpo also tell us that the deaths occurs consistently around the average, which is the highest among districts in Seoul."
   ]
  },
  {
   "cell_type": "code",
   "execution_count": 209,
   "metadata": {
    "scrolled": false
   },
   "outputs": [
    {
     "data": {
      "image/png": "[encoded data removed]",
      "text/plain": [
       "plot without title"
      ]
     },
     "metadata": {
      "image/png": {
       "height": 420,
       "width": 420
      },
      "text/plain": {
       "height": 420,
       "width": 420
      }
     },
     "output_type": "display_data"
    },
    {
     "data": {
      "image/png": "[encoded data removed]",
      "text/plain": [
       "plot without title"
      ]
     },
     "metadata": {
      "image/png": {
       "height": 420,
       "width": 420
      },
      "text/plain": {
       "height": 420,
       "width": 420
      }
     },
     "output_type": "display_data"
    }
   ],
   "source": [
    "qplot(Mean, CV, data = DistrictDeathsStat, size = Mean, col = CV)\n",
    "\n",
    "g <- ggplot(DistrictDeathsStat, aes(x = Mean, y = CV, color = District, size = Mean)) +\n",
    "  geom_point() \n",
    "g + labs(title = \"Mean - CV of Seoul Deaths\")"
   ]
  },
  {
   "cell_type": "markdown",
   "metadata": {},
   "source": [
    "## Injured"
   ]
  },
  {
   "cell_type": "markdown",
   "metadata": {},
   "source": [
    "### Mean"
   ]
  },
  {
   "cell_type": "code",
   "execution_count": 210,
   "metadata": {},
   "outputs": [
    {
     "data": {
      "text/html": [
       "<table>\n",
       "<caption>A data.frame: 6 × 2</caption>\n",
       "<thead>\n",
       "\t<tr><th></th><th scope=col>District</th><th scope=col>Injured</th></tr>\n",
       "\t<tr><th></th><th scope=col>&lt;fct&gt;</th><th scope=col>&lt;dbl&gt;</th></tr>\n",
       "</thead>\n",
       "<tbody>\n",
       "\t<tr><th scope=row>1</th><td>Dobong    </td><td>105.2024</td></tr>\n",
       "\t<tr><th scope=row>2</th><td>Dongdaemun</td><td>206.8095</td></tr>\n",
       "\t<tr><th scope=row>3</th><td>Dongjak   </td><td>157.1071</td></tr>\n",
       "\t<tr><th scope=row>4</th><td>Eunpyeong </td><td>149.2857</td></tr>\n",
       "\t<tr><th scope=row>5</th><td>Gangbuk   </td><td>137.5595</td></tr>\n",
       "\t<tr><th scope=row>6</th><td>Gangdong  </td><td>166.9524</td></tr>\n",
       "</tbody>\n",
       "</table>\n"
      ],
      "text/latex": [
       "A data.frame: 6 × 2\n",
       "\\begin{tabular}{r|ll}\n",
       "  & District & Injured\\\\\n",
       "  & <fct> & <dbl>\\\\\n",
       "\\hline\n",
       "\t1 & Dobong     & 105.2024\\\\\n",
       "\t2 & Dongdaemun & 206.8095\\\\\n",
       "\t3 & Dongjak    & 157.1071\\\\\n",
       "\t4 & Eunpyeong  & 149.2857\\\\\n",
       "\t5 & Gangbuk    & 137.5595\\\\\n",
       "\t6 & Gangdong   & 166.9524\\\\\n",
       "\\end{tabular}\n"
      ],
      "text/markdown": [
       "\n",
       "A data.frame: 6 × 2\n",
       "\n",
       "| <!--/--> | District &lt;fct&gt; | Injured &lt;dbl&gt; |\n",
       "|---|---|---|\n",
       "| 1 | Dobong     | 105.2024 |\n",
       "| 2 | Dongdaemun | 206.8095 |\n",
       "| 3 | Dongjak    | 157.1071 |\n",
       "| 4 | Eunpyeong  | 149.2857 |\n",
       "| 5 | Gangbuk    | 137.5595 |\n",
       "| 6 | Gangdong   | 166.9524 |\n",
       "\n"
      ],
      "text/plain": [
       "  District   Injured \n",
       "1 Dobong     105.2024\n",
       "2 Dongdaemun 206.8095\n",
       "3 Dongjak    157.1071\n",
       "4 Eunpyeong  149.2857\n",
       "5 Gangbuk    137.5595\n",
       "6 Gangdong   166.9524"
      ]
     },
     "metadata": {},
     "output_type": "display_data"
    },
    {
     "data": {
      "text/html": [
       "<table>\n",
       "<caption>A data.frame: 6 × 2</caption>\n",
       "<thead>\n",
       "\t<tr><th></th><th scope=col>District</th><th scope=col>Injured</th></tr>\n",
       "\t<tr><th></th><th scope=col>&lt;fct&gt;</th><th scope=col>&lt;dbl&gt;</th></tr>\n",
       "</thead>\n",
       "<tbody>\n",
       "\t<tr><th scope=row>1</th><td>Dobong    </td><td>105.202</td></tr>\n",
       "\t<tr><th scope=row>2</th><td>Dongdaemun</td><td>206.810</td></tr>\n",
       "\t<tr><th scope=row>3</th><td>Dongjak   </td><td>157.107</td></tr>\n",
       "\t<tr><th scope=row>4</th><td>Eunpyeong </td><td>149.286</td></tr>\n",
       "\t<tr><th scope=row>5</th><td>Gangbuk   </td><td>137.560</td></tr>\n",
       "\t<tr><th scope=row>6</th><td>Gangdong  </td><td>166.952</td></tr>\n",
       "</tbody>\n",
       "</table>\n"
      ],
      "text/latex": [
       "A data.frame: 6 × 2\n",
       "\\begin{tabular}{r|ll}\n",
       "  & District & Injured\\\\\n",
       "  & <fct> & <dbl>\\\\\n",
       "\\hline\n",
       "\t1 & Dobong     & 105.202\\\\\n",
       "\t2 & Dongdaemun & 206.810\\\\\n",
       "\t3 & Dongjak    & 157.107\\\\\n",
       "\t4 & Eunpyeong  & 149.286\\\\\n",
       "\t5 & Gangbuk    & 137.560\\\\\n",
       "\t6 & Gangdong   & 166.952\\\\\n",
       "\\end{tabular}\n"
      ],
      "text/markdown": [
       "\n",
       "A data.frame: 6 × 2\n",
       "\n",
       "| <!--/--> | District &lt;fct&gt; | Injured &lt;dbl&gt; |\n",
       "|---|---|---|\n",
       "| 1 | Dobong     | 105.202 |\n",
       "| 2 | Dongdaemun | 206.810 |\n",
       "| 3 | Dongjak    | 157.107 |\n",
       "| 4 | Eunpyeong  | 149.286 |\n",
       "| 5 | Gangbuk    | 137.560 |\n",
       "| 6 | Gangdong   | 166.952 |\n",
       "\n"
      ],
      "text/plain": [
       "  District   Injured\n",
       "1 Dobong     105.202\n",
       "2 Dongdaemun 206.810\n",
       "3 Dongjak    157.107\n",
       "4 Eunpyeong  149.286\n",
       "5 Gangbuk    137.560\n",
       "6 Gangdong   166.952"
      ]
     },
     "metadata": {},
     "output_type": "display_data"
    },
    {
     "data": {
      "text/html": [
       "<table>\n",
       "<caption>A data.frame: 10 × 2</caption>\n",
       "<thead>\n",
       "\t<tr><th></th><th scope=col>District</th><th scope=col>Injured</th></tr>\n",
       "\t<tr><th></th><th scope=col>&lt;fct&gt;</th><th scope=col>&lt;dbl&gt;</th></tr>\n",
       "</thead>\n",
       "<tbody>\n",
       "\t<tr><th scope=row>7</th><td>Gangnam     </td><td>446.845</td></tr>\n",
       "\t<tr><th scope=row>22</th><td>Songpa      </td><td>310.679</td></tr>\n",
       "\t<tr><th scope=row>18</th><td>Seocho      </td><td>280.143</td></tr>\n",
       "\t<tr><th scope=row>24</th><td>Yeongdeungpo</td><td>277.905</td></tr>\n",
       "\t<tr><th scope=row>16</th><td>Mapo        </td><td>218.881</td></tr>\n",
       "\t<tr><th scope=row>8</th><td>Gangseo     </td><td>209.417</td></tr>\n",
       "\t<tr><th scope=row>2</th><td>Dongdaemun  </td><td>206.810</td></tr>\n",
       "\t<tr><th scope=row>15</th><td>Jungnang    </td><td>188.845</td></tr>\n",
       "\t<tr><th scope=row>10</th><td>Guro        </td><td>180.810</td></tr>\n",
       "\t<tr><th scope=row>11</th><td>Gwanak      </td><td>180.750</td></tr>\n",
       "</tbody>\n",
       "</table>\n"
      ],
      "text/latex": [
       "A data.frame: 10 × 2\n",
       "\\begin{tabular}{r|ll}\n",
       "  & District & Injured\\\\\n",
       "  & <fct> & <dbl>\\\\\n",
       "\\hline\n",
       "\t7 & Gangnam      & 446.845\\\\\n",
       "\t22 & Songpa       & 310.679\\\\\n",
       "\t18 & Seocho       & 280.143\\\\\n",
       "\t24 & Yeongdeungpo & 277.905\\\\\n",
       "\t16 & Mapo         & 218.881\\\\\n",
       "\t8 & Gangseo      & 209.417\\\\\n",
       "\t2 & Dongdaemun   & 206.810\\\\\n",
       "\t15 & Jungnang     & 188.845\\\\\n",
       "\t10 & Guro         & 180.810\\\\\n",
       "\t11 & Gwanak       & 180.750\\\\\n",
       "\\end{tabular}\n"
      ],
      "text/markdown": [
       "\n",
       "A data.frame: 10 × 2\n",
       "\n",
       "| <!--/--> | District &lt;fct&gt; | Injured &lt;dbl&gt; |\n",
       "|---|---|---|\n",
       "| 7 | Gangnam      | 446.845 |\n",
       "| 22 | Songpa       | 310.679 |\n",
       "| 18 | Seocho       | 280.143 |\n",
       "| 24 | Yeongdeungpo | 277.905 |\n",
       "| 16 | Mapo         | 218.881 |\n",
       "| 8 | Gangseo      | 209.417 |\n",
       "| 2 | Dongdaemun   | 206.810 |\n",
       "| 15 | Jungnang     | 188.845 |\n",
       "| 10 | Guro         | 180.810 |\n",
       "| 11 | Gwanak       | 180.750 |\n",
       "\n"
      ],
      "text/plain": [
       "   District     Injured\n",
       "7  Gangnam      446.845\n",
       "22 Songpa       310.679\n",
       "18 Seocho       280.143\n",
       "24 Yeongdeungpo 277.905\n",
       "16 Mapo         218.881\n",
       "8  Gangseo      209.417\n",
       "2  Dongdaemun   206.810\n",
       "15 Jungnang     188.845\n",
       "10 Guro         180.810\n",
       "11 Gwanak       180.750"
      ]
     },
     "metadata": {},
     "output_type": "display_data"
    },
    {
     "data": {
      "text/html": [
       "<table>\n",
       "<caption>A data.frame: 10 × 2</caption>\n",
       "<thead>\n",
       "\t<tr><th></th><th scope=col>District</th><th scope=col>Injured</th></tr>\n",
       "\t<tr><th></th><th scope=col>&lt;fct&gt;</th><th scope=col>&lt;dbl&gt;</th></tr>\n",
       "</thead>\n",
       "<tbody>\n",
       "\t<tr><th scope=row>1</th><td>Dobong   </td><td>105.202</td></tr>\n",
       "\t<tr><th scope=row>9</th><td>Geumcheon</td><td>117.595</td></tr>\n",
       "\t<tr><th scope=row>19</th><td>Seodaemun</td><td>128.536</td></tr>\n",
       "\t<tr><th scope=row>21</th><td>Seongdong</td><td>130.238</td></tr>\n",
       "\t<tr><th scope=row>5</th><td>Gangbuk  </td><td>137.560</td></tr>\n",
       "\t<tr><th scope=row>4</th><td>Eunpyeong</td><td>149.286</td></tr>\n",
       "\t<tr><th scope=row>12</th><td>Gwangjin </td><td>153.226</td></tr>\n",
       "\t<tr><th scope=row>13</th><td>Jongno   </td><td>153.786</td></tr>\n",
       "\t<tr><th scope=row>14</th><td>Jung     </td><td>154.833</td></tr>\n",
       "\t<tr><th scope=row>3</th><td>Dongjak  </td><td>157.107</td></tr>\n",
       "</tbody>\n",
       "</table>\n"
      ],
      "text/latex": [
       "A data.frame: 10 × 2\n",
       "\\begin{tabular}{r|ll}\n",
       "  & District & Injured\\\\\n",
       "  & <fct> & <dbl>\\\\\n",
       "\\hline\n",
       "\t1 & Dobong    & 105.202\\\\\n",
       "\t9 & Geumcheon & 117.595\\\\\n",
       "\t19 & Seodaemun & 128.536\\\\\n",
       "\t21 & Seongdong & 130.238\\\\\n",
       "\t5 & Gangbuk   & 137.560\\\\\n",
       "\t4 & Eunpyeong & 149.286\\\\\n",
       "\t12 & Gwangjin  & 153.226\\\\\n",
       "\t13 & Jongno    & 153.786\\\\\n",
       "\t14 & Jung      & 154.833\\\\\n",
       "\t3 & Dongjak   & 157.107\\\\\n",
       "\\end{tabular}\n"
      ],
      "text/markdown": [
       "\n",
       "A data.frame: 10 × 2\n",
       "\n",
       "| <!--/--> | District &lt;fct&gt; | Injured &lt;dbl&gt; |\n",
       "|---|---|---|\n",
       "| 1 | Dobong    | 105.202 |\n",
       "| 9 | Geumcheon | 117.595 |\n",
       "| 19 | Seodaemun | 128.536 |\n",
       "| 21 | Seongdong | 130.238 |\n",
       "| 5 | Gangbuk   | 137.560 |\n",
       "| 4 | Eunpyeong | 149.286 |\n",
       "| 12 | Gwangjin  | 153.226 |\n",
       "| 13 | Jongno    | 153.786 |\n",
       "| 14 | Jung      | 154.833 |\n",
       "| 3 | Dongjak   | 157.107 |\n",
       "\n"
      ],
      "text/plain": [
       "   District  Injured\n",
       "1  Dobong    105.202\n",
       "9  Geumcheon 117.595\n",
       "19 Seodaemun 128.536\n",
       "21 Seongdong 130.238\n",
       "5  Gangbuk   137.560\n",
       "4  Eunpyeong 149.286\n",
       "12 Gwangjin  153.226\n",
       "13 Jongno    153.786\n",
       "14 Jung      154.833\n",
       "3  Dongjak   157.107"
      ]
     },
     "metadata": {},
     "output_type": "display_data"
    }
   ],
   "source": [
    "### Calculate average numbers of people injured by District with aggregate\n",
    "\n",
    "districtInjuredMean <- aggregate(Injured ~District, data = seoul, mean)\n",
    "head(districtInjuredMean)\n",
    "\n",
    "districtInjuredMean$Injured <- round(districtInjuredMean$Injured, 3)\n",
    "head(districtInjuredMean)\n",
    "\n",
    "### orderBy\n",
    "\n",
    "# Districts where ten most deaths occur on average\n",
    "orderBy(~-Injured, data = districtInjuredMean)[1:10,] # ascending order\n",
    "\n",
    "# Alternatively,\n",
    "# orderBy(~-Injured, data = districtDeathsMean[1:10,])\n",
    "\n",
    "# Districts where ten least injuries occur on average\n",
    "orderBy(~Injured, data = districtInjuredMean)[1:10,]  # decending order"
   ]
  },
  {
   "cell_type": "markdown",
   "metadata": {},
   "source": [
    "### Standard Deviation"
   ]
  },
  {
   "cell_type": "code",
   "execution_count": 211,
   "metadata": {},
   "outputs": [
    {
     "data": {
      "text/html": [
       "<table>\n",
       "<caption>A data.frame: 6 × 2</caption>\n",
       "<thead>\n",
       "\t<tr><th></th><th scope=col>District</th><th scope=col>Injured</th></tr>\n",
       "\t<tr><th></th><th scope=col>&lt;fct&gt;</th><th scope=col>&lt;dbl&gt;</th></tr>\n",
       "</thead>\n",
       "<tbody>\n",
       "\t<tr><th scope=row>1</th><td>Dobong    </td><td>18.22337</td></tr>\n",
       "\t<tr><th scope=row>2</th><td>Dongdaemun</td><td>30.71065</td></tr>\n",
       "\t<tr><th scope=row>3</th><td>Dongjak   </td><td>23.68163</td></tr>\n",
       "\t<tr><th scope=row>4</th><td>Eunpyeong </td><td>30.58765</td></tr>\n",
       "\t<tr><th scope=row>5</th><td>Gangbuk   </td><td>19.06953</td></tr>\n",
       "\t<tr><th scope=row>6</th><td>Gangdong  </td><td>22.54201</td></tr>\n",
       "</tbody>\n",
       "</table>\n"
      ],
      "text/latex": [
       "A data.frame: 6 × 2\n",
       "\\begin{tabular}{r|ll}\n",
       "  & District & Injured\\\\\n",
       "  & <fct> & <dbl>\\\\\n",
       "\\hline\n",
       "\t1 & Dobong     & 18.22337\\\\\n",
       "\t2 & Dongdaemun & 30.71065\\\\\n",
       "\t3 & Dongjak    & 23.68163\\\\\n",
       "\t4 & Eunpyeong  & 30.58765\\\\\n",
       "\t5 & Gangbuk    & 19.06953\\\\\n",
       "\t6 & Gangdong   & 22.54201\\\\\n",
       "\\end{tabular}\n"
      ],
      "text/markdown": [
       "\n",
       "A data.frame: 6 × 2\n",
       "\n",
       "| <!--/--> | District &lt;fct&gt; | Injured &lt;dbl&gt; |\n",
       "|---|---|---|\n",
       "| 1 | Dobong     | 18.22337 |\n",
       "| 2 | Dongdaemun | 30.71065 |\n",
       "| 3 | Dongjak    | 23.68163 |\n",
       "| 4 | Eunpyeong  | 30.58765 |\n",
       "| 5 | Gangbuk    | 19.06953 |\n",
       "| 6 | Gangdong   | 22.54201 |\n",
       "\n"
      ],
      "text/plain": [
       "  District   Injured \n",
       "1 Dobong     18.22337\n",
       "2 Dongdaemun 30.71065\n",
       "3 Dongjak    23.68163\n",
       "4 Eunpyeong  30.58765\n",
       "5 Gangbuk    19.06953\n",
       "6 Gangdong   22.54201"
      ]
     },
     "metadata": {},
     "output_type": "display_data"
    },
    {
     "data": {
      "text/html": [
       "<table>\n",
       "<caption>A data.frame: 6 × 2</caption>\n",
       "<thead>\n",
       "\t<tr><th></th><th scope=col>District</th><th scope=col>Injured</th></tr>\n",
       "\t<tr><th></th><th scope=col>&lt;fct&gt;</th><th scope=col>&lt;dbl&gt;</th></tr>\n",
       "</thead>\n",
       "<tbody>\n",
       "\t<tr><th scope=row>1</th><td>Dobong    </td><td>18.223</td></tr>\n",
       "\t<tr><th scope=row>2</th><td>Dongdaemun</td><td>30.711</td></tr>\n",
       "\t<tr><th scope=row>3</th><td>Dongjak   </td><td>23.682</td></tr>\n",
       "\t<tr><th scope=row>4</th><td>Eunpyeong </td><td>30.588</td></tr>\n",
       "\t<tr><th scope=row>5</th><td>Gangbuk   </td><td>19.070</td></tr>\n",
       "\t<tr><th scope=row>6</th><td>Gangdong  </td><td>22.542</td></tr>\n",
       "</tbody>\n",
       "</table>\n"
      ],
      "text/latex": [
       "A data.frame: 6 × 2\n",
       "\\begin{tabular}{r|ll}\n",
       "  & District & Injured\\\\\n",
       "  & <fct> & <dbl>\\\\\n",
       "\\hline\n",
       "\t1 & Dobong     & 18.223\\\\\n",
       "\t2 & Dongdaemun & 30.711\\\\\n",
       "\t3 & Dongjak    & 23.682\\\\\n",
       "\t4 & Eunpyeong  & 30.588\\\\\n",
       "\t5 & Gangbuk    & 19.070\\\\\n",
       "\t6 & Gangdong   & 22.542\\\\\n",
       "\\end{tabular}\n"
      ],
      "text/markdown": [
       "\n",
       "A data.frame: 6 × 2\n",
       "\n",
       "| <!--/--> | District &lt;fct&gt; | Injured &lt;dbl&gt; |\n",
       "|---|---|---|\n",
       "| 1 | Dobong     | 18.223 |\n",
       "| 2 | Dongdaemun | 30.711 |\n",
       "| 3 | Dongjak    | 23.682 |\n",
       "| 4 | Eunpyeong  | 30.588 |\n",
       "| 5 | Gangbuk    | 19.070 |\n",
       "| 6 | Gangdong   | 22.542 |\n",
       "\n"
      ],
      "text/plain": [
       "  District   Injured\n",
       "1 Dobong     18.223 \n",
       "2 Dongdaemun 30.711 \n",
       "3 Dongjak    23.682 \n",
       "4 Eunpyeong  30.588 \n",
       "5 Gangbuk    19.070 \n",
       "6 Gangdong   22.542 "
      ]
     },
     "metadata": {},
     "output_type": "display_data"
    },
    {
     "data": {
      "text/html": [
       "<table>\n",
       "<caption>A data.frame: 10 × 2</caption>\n",
       "<thead>\n",
       "\t<tr><th></th><th scope=col>District</th><th scope=col>Injured</th></tr>\n",
       "\t<tr><th></th><th scope=col>&lt;fct&gt;</th><th scope=col>&lt;dbl&gt;</th></tr>\n",
       "</thead>\n",
       "<tbody>\n",
       "\t<tr><th scope=row>7</th><td>Gangnam     </td><td>49.650</td></tr>\n",
       "\t<tr><th scope=row>18</th><td>Seocho      </td><td>39.493</td></tr>\n",
       "\t<tr><th scope=row>22</th><td>Songpa      </td><td>39.460</td></tr>\n",
       "\t<tr><th scope=row>24</th><td>Yeongdeungpo</td><td>35.171</td></tr>\n",
       "\t<tr><th scope=row>16</th><td>Mapo        </td><td>34.067</td></tr>\n",
       "\t<tr><th scope=row>8</th><td>Gangseo     </td><td>33.028</td></tr>\n",
       "\t<tr><th scope=row>12</th><td>Gwangjin    </td><td>32.816</td></tr>\n",
       "\t<tr><th scope=row>11</th><td>Gwanak      </td><td>32.516</td></tr>\n",
       "\t<tr><th scope=row>2</th><td>Dongdaemun  </td><td>30.711</td></tr>\n",
       "\t<tr><th scope=row>4</th><td>Eunpyeong   </td><td>30.588</td></tr>\n",
       "</tbody>\n",
       "</table>\n"
      ],
      "text/latex": [
       "A data.frame: 10 × 2\n",
       "\\begin{tabular}{r|ll}\n",
       "  & District & Injured\\\\\n",
       "  & <fct> & <dbl>\\\\\n",
       "\\hline\n",
       "\t7 & Gangnam      & 49.650\\\\\n",
       "\t18 & Seocho       & 39.493\\\\\n",
       "\t22 & Songpa       & 39.460\\\\\n",
       "\t24 & Yeongdeungpo & 35.171\\\\\n",
       "\t16 & Mapo         & 34.067\\\\\n",
       "\t8 & Gangseo      & 33.028\\\\\n",
       "\t12 & Gwangjin     & 32.816\\\\\n",
       "\t11 & Gwanak       & 32.516\\\\\n",
       "\t2 & Dongdaemun   & 30.711\\\\\n",
       "\t4 & Eunpyeong    & 30.588\\\\\n",
       "\\end{tabular}\n"
      ],
      "text/markdown": [
       "\n",
       "A data.frame: 10 × 2\n",
       "\n",
       "| <!--/--> | District &lt;fct&gt; | Injured &lt;dbl&gt; |\n",
       "|---|---|---|\n",
       "| 7 | Gangnam      | 49.650 |\n",
       "| 18 | Seocho       | 39.493 |\n",
       "| 22 | Songpa       | 39.460 |\n",
       "| 24 | Yeongdeungpo | 35.171 |\n",
       "| 16 | Mapo         | 34.067 |\n",
       "| 8 | Gangseo      | 33.028 |\n",
       "| 12 | Gwangjin     | 32.816 |\n",
       "| 11 | Gwanak       | 32.516 |\n",
       "| 2 | Dongdaemun   | 30.711 |\n",
       "| 4 | Eunpyeong    | 30.588 |\n",
       "\n"
      ],
      "text/plain": [
       "   District     Injured\n",
       "7  Gangnam      49.650 \n",
       "18 Seocho       39.493 \n",
       "22 Songpa       39.460 \n",
       "24 Yeongdeungpo 35.171 \n",
       "16 Mapo         34.067 \n",
       "8  Gangseo      33.028 \n",
       "12 Gwangjin     32.816 \n",
       "11 Gwanak       32.516 \n",
       "2  Dongdaemun   30.711 \n",
       "4  Eunpyeong    30.588 "
      ]
     },
     "metadata": {},
     "output_type": "display_data"
    },
    {
     "data": {
      "text/html": [
       "<table>\n",
       "<caption>A data.frame: 10 × 2</caption>\n",
       "<thead>\n",
       "\t<tr><th></th><th scope=col>District</th><th scope=col>Injured</th></tr>\n",
       "\t<tr><th></th><th scope=col>&lt;fct&gt;</th><th scope=col>&lt;dbl&gt;</th></tr>\n",
       "</thead>\n",
       "<tbody>\n",
       "\t<tr><th scope=row>1</th><td>Dobong   </td><td>18.223</td></tr>\n",
       "\t<tr><th scope=row>5</th><td>Gangbuk  </td><td>19.070</td></tr>\n",
       "\t<tr><th scope=row>21</th><td>Seongdong</td><td>21.303</td></tr>\n",
       "\t<tr><th scope=row>19</th><td>Seodaemun</td><td>21.646</td></tr>\n",
       "\t<tr><th scope=row>14</th><td>Jung     </td><td>22.136</td></tr>\n",
       "\t<tr><th scope=row>6</th><td>Gangdong </td><td>22.542</td></tr>\n",
       "\t<tr><th scope=row>17</th><td>Nowon    </td><td>23.159</td></tr>\n",
       "\t<tr><th scope=row>3</th><td>Dongjak  </td><td>23.682</td></tr>\n",
       "\t<tr><th scope=row>13</th><td>Jongno   </td><td>23.889</td></tr>\n",
       "\t<tr><th scope=row>25</th><td>Yongsan  </td><td>25.854</td></tr>\n",
       "</tbody>\n",
       "</table>\n"
      ],
      "text/latex": [
       "A data.frame: 10 × 2\n",
       "\\begin{tabular}{r|ll}\n",
       "  & District & Injured\\\\\n",
       "  & <fct> & <dbl>\\\\\n",
       "\\hline\n",
       "\t1 & Dobong    & 18.223\\\\\n",
       "\t5 & Gangbuk   & 19.070\\\\\n",
       "\t21 & Seongdong & 21.303\\\\\n",
       "\t19 & Seodaemun & 21.646\\\\\n",
       "\t14 & Jung      & 22.136\\\\\n",
       "\t6 & Gangdong  & 22.542\\\\\n",
       "\t17 & Nowon     & 23.159\\\\\n",
       "\t3 & Dongjak   & 23.682\\\\\n",
       "\t13 & Jongno    & 23.889\\\\\n",
       "\t25 & Yongsan   & 25.854\\\\\n",
       "\\end{tabular}\n"
      ],
      "text/markdown": [
       "\n",
       "A data.frame: 10 × 2\n",
       "\n",
       "| <!--/--> | District &lt;fct&gt; | Injured &lt;dbl&gt; |\n",
       "|---|---|---|\n",
       "| 1 | Dobong    | 18.223 |\n",
       "| 5 | Gangbuk   | 19.070 |\n",
       "| 21 | Seongdong | 21.303 |\n",
       "| 19 | Seodaemun | 21.646 |\n",
       "| 14 | Jung      | 22.136 |\n",
       "| 6 | Gangdong  | 22.542 |\n",
       "| 17 | Nowon     | 23.159 |\n",
       "| 3 | Dongjak   | 23.682 |\n",
       "| 13 | Jongno    | 23.889 |\n",
       "| 25 | Yongsan   | 25.854 |\n",
       "\n"
      ],
      "text/plain": [
       "   District  Injured\n",
       "1  Dobong    18.223 \n",
       "5  Gangbuk   19.070 \n",
       "21 Seongdong 21.303 \n",
       "19 Seodaemun 21.646 \n",
       "14 Jung      22.136 \n",
       "6  Gangdong  22.542 \n",
       "17 Nowon     23.159 \n",
       "3  Dongjak   23.682 \n",
       "13 Jongno    23.889 \n",
       "25 Yongsan   25.854 "
      ]
     },
     "metadata": {},
     "output_type": "display_data"
    }
   ],
   "source": [
    "### Calculate standard deviation of people injured by District with aggregate\n",
    "\n",
    "districtInjuredSD <- aggregate(Injured ~District, data = seoul, sd)\n",
    "head(districtInjuredSD)\n",
    "\n",
    "districtInjuredSD$Injured <- round(districtInjuredSD$Injured, 3)\n",
    "head(districtInjuredSD)\n",
    "\n",
    "### orderBy\n",
    "\n",
    "# Districts with ten largest SD of deaths\n",
    "orderBy(~-Injured, data = districtInjuredSD)[1:10,] # ascending order\n",
    "\n",
    "# Alternatively,\n",
    "# orderBy(~-Injured, data = districtInjuredSD[1:10,])\n",
    "\n",
    "# Districts with ten smallest SD deaths \n",
    "orderBy(~Injured, data = districtInjuredSD)[1:10,]  # decending order"
   ]
  },
  {
   "cell_type": "markdown",
   "metadata": {},
   "source": [
    "### Coefficient of variation"
   ]
  },
  {
   "cell_type": "code",
   "execution_count": 212,
   "metadata": {},
   "outputs": [
    {
     "data": {
      "text/html": [],
      "text/latex": [],
      "text/markdown": [],
      "text/plain": [
       "numeric(0)"
      ]
     },
     "metadata": {},
     "output_type": "display_data"
    },
    {
     "data": {
      "text/html": [
       "<table>\n",
       "<caption>A data.frame: 6 × 1</caption>\n",
       "<thead>\n",
       "\t<tr><th></th><th scope=col>Injured</th></tr>\n",
       "\t<tr><th></th><th scope=col>&lt;dbl&gt;</th></tr>\n",
       "</thead>\n",
       "<tbody>\n",
       "\t<tr><th scope=row>1</th><td>0.173</td></tr>\n",
       "\t<tr><th scope=row>2</th><td>0.148</td></tr>\n",
       "\t<tr><th scope=row>3</th><td>0.151</td></tr>\n",
       "\t<tr><th scope=row>4</th><td>0.205</td></tr>\n",
       "\t<tr><th scope=row>5</th><td>0.139</td></tr>\n",
       "\t<tr><th scope=row>6</th><td>0.135</td></tr>\n",
       "</tbody>\n",
       "</table>\n"
      ],
      "text/latex": [
       "A data.frame: 6 × 1\n",
       "\\begin{tabular}{r|l}\n",
       "  & Injured\\\\\n",
       "  & <dbl>\\\\\n",
       "\\hline\n",
       "\t1 & 0.173\\\\\n",
       "\t2 & 0.148\\\\\n",
       "\t3 & 0.151\\\\\n",
       "\t4 & 0.205\\\\\n",
       "\t5 & 0.139\\\\\n",
       "\t6 & 0.135\\\\\n",
       "\\end{tabular}\n"
      ],
      "text/markdown": [
       "\n",
       "A data.frame: 6 × 1\n",
       "\n",
       "| <!--/--> | Injured &lt;dbl&gt; |\n",
       "|---|---|\n",
       "| 1 | 0.173 |\n",
       "| 2 | 0.148 |\n",
       "| 3 | 0.151 |\n",
       "| 4 | 0.205 |\n",
       "| 5 | 0.139 |\n",
       "| 6 | 0.135 |\n",
       "\n"
      ],
      "text/plain": [
       "  Injured\n",
       "1 0.173  \n",
       "2 0.148  \n",
       "3 0.151  \n",
       "4 0.205  \n",
       "5 0.139  \n",
       "6 0.135  "
      ]
     },
     "metadata": {},
     "output_type": "display_data"
    }
   ],
   "source": [
    "districtInjuredSD$Deaths / districtInjuredMean$Deaths\n",
    "\n",
    "CV <- round(districtInjuredSD[2] / districtInjuredMean[2], 3)\n",
    "head(CV)"
   ]
  },
  {
   "cell_type": "code",
   "execution_count": 213,
   "metadata": {},
   "outputs": [
    {
     "data": {
      "text/html": [],
      "text/latex": [],
      "text/markdown": [],
      "text/plain": [
       "numeric(0)"
      ]
     },
     "metadata": {},
     "output_type": "display_data"
    },
    {
     "data": {
      "text/html": [
       "<table>\n",
       "<caption>A data.frame: 6 × 1</caption>\n",
       "<thead>\n",
       "\t<tr><th></th><th scope=col>Deaths</th></tr>\n",
       "\t<tr><th></th><th scope=col>&lt;dbl&gt;</th></tr>\n",
       "</thead>\n",
       "<tbody>\n",
       "\t<tr><th scope=row>1</th><td>0.999</td></tr>\n",
       "\t<tr><th scope=row>2</th><td>0.930</td></tr>\n",
       "\t<tr><th scope=row>3</th><td>0.974</td></tr>\n",
       "\t<tr><th scope=row>4</th><td>0.809</td></tr>\n",
       "\t<tr><th scope=row>5</th><td>1.000</td></tr>\n",
       "\t<tr><th scope=row>6</th><td>0.719</td></tr>\n",
       "</tbody>\n",
       "</table>\n"
      ],
      "text/latex": [
       "A data.frame: 6 × 1\n",
       "\\begin{tabular}{r|l}\n",
       "  & Deaths\\\\\n",
       "  & <dbl>\\\\\n",
       "\\hline\n",
       "\t1 & 0.999\\\\\n",
       "\t2 & 0.930\\\\\n",
       "\t3 & 0.974\\\\\n",
       "\t4 & 0.809\\\\\n",
       "\t5 & 1.000\\\\\n",
       "\t6 & 0.719\\\\\n",
       "\\end{tabular}\n"
      ],
      "text/markdown": [
       "\n",
       "A data.frame: 6 × 1\n",
       "\n",
       "| <!--/--> | Deaths &lt;dbl&gt; |\n",
       "|---|---|\n",
       "| 1 | 0.999 |\n",
       "| 2 | 0.930 |\n",
       "| 3 | 0.974 |\n",
       "| 4 | 0.809 |\n",
       "| 5 | 1.000 |\n",
       "| 6 | 0.719 |\n",
       "\n"
      ],
      "text/plain": [
       "  Deaths\n",
       "1 0.999 \n",
       "2 0.930 \n",
       "3 0.974 \n",
       "4 0.809 \n",
       "5 1.000 \n",
       "6 0.719 "
      ]
     },
     "metadata": {},
     "output_type": "display_data"
    }
   ],
   "source": [
    "districtDeathsSD$Deaths / districtDeathsSD$Accident\n",
    "\n",
    "CV <- round(districtDeathsSD[2] / districtDeathsMean[2], 3)\n",
    "head(CV)"
   ]
  },
  {
   "cell_type": "markdown",
   "metadata": {},
   "source": [
    "### Combine data"
   ]
  },
  {
   "cell_type": "code",
   "execution_count": 214,
   "metadata": {},
   "outputs": [
    {
     "data": {
      "text/html": [
       "<table>\n",
       "<caption>A data.frame: 6 × 4</caption>\n",
       "<thead>\n",
       "\t<tr><th></th><th scope=col>District</th><th scope=col>Injured</th><th scope=col>Injured</th><th scope=col>Deaths</th></tr>\n",
       "\t<tr><th></th><th scope=col>&lt;fct&gt;</th><th scope=col>&lt;dbl&gt;</th><th scope=col>&lt;dbl&gt;</th><th scope=col>&lt;dbl&gt;</th></tr>\n",
       "</thead>\n",
       "<tbody>\n",
       "\t<tr><th scope=row>1</th><td>Dobong    </td><td>105.202</td><td>18.223</td><td>0.999</td></tr>\n",
       "\t<tr><th scope=row>2</th><td>Dongdaemun</td><td>206.810</td><td>30.711</td><td>0.930</td></tr>\n",
       "\t<tr><th scope=row>3</th><td>Dongjak   </td><td>157.107</td><td>23.682</td><td>0.974</td></tr>\n",
       "\t<tr><th scope=row>4</th><td>Eunpyeong </td><td>149.286</td><td>30.588</td><td>0.809</td></tr>\n",
       "\t<tr><th scope=row>5</th><td>Gangbuk   </td><td>137.560</td><td>19.070</td><td>1.000</td></tr>\n",
       "\t<tr><th scope=row>6</th><td>Gangdong  </td><td>166.952</td><td>22.542</td><td>0.719</td></tr>\n",
       "</tbody>\n",
       "</table>\n"
      ],
      "text/latex": [
       "A data.frame: 6 × 4\n",
       "\\begin{tabular}{r|llll}\n",
       "  & District & Injured & Injured & Deaths\\\\\n",
       "  & <fct> & <dbl> & <dbl> & <dbl>\\\\\n",
       "\\hline\n",
       "\t1 & Dobong     & 105.202 & 18.223 & 0.999\\\\\n",
       "\t2 & Dongdaemun & 206.810 & 30.711 & 0.930\\\\\n",
       "\t3 & Dongjak    & 157.107 & 23.682 & 0.974\\\\\n",
       "\t4 & Eunpyeong  & 149.286 & 30.588 & 0.809\\\\\n",
       "\t5 & Gangbuk    & 137.560 & 19.070 & 1.000\\\\\n",
       "\t6 & Gangdong   & 166.952 & 22.542 & 0.719\\\\\n",
       "\\end{tabular}\n"
      ],
      "text/markdown": [
       "\n",
       "A data.frame: 6 × 4\n",
       "\n",
       "| <!--/--> | District &lt;fct&gt; | Injured &lt;dbl&gt; | Injured &lt;dbl&gt; | Deaths &lt;dbl&gt; |\n",
       "|---|---|---|---|---|\n",
       "| 1 | Dobong     | 105.202 | 18.223 | 0.999 |\n",
       "| 2 | Dongdaemun | 206.810 | 30.711 | 0.930 |\n",
       "| 3 | Dongjak    | 157.107 | 23.682 | 0.974 |\n",
       "| 4 | Eunpyeong  | 149.286 | 30.588 | 0.809 |\n",
       "| 5 | Gangbuk    | 137.560 | 19.070 | 1.000 |\n",
       "| 6 | Gangdong   | 166.952 | 22.542 | 0.719 |\n",
       "\n"
      ],
      "text/plain": [
       "  District   Injured Injured Deaths\n",
       "1 Dobong     105.202 18.223  0.999 \n",
       "2 Dongdaemun 206.810 30.711  0.930 \n",
       "3 Dongjak    157.107 23.682  0.974 \n",
       "4 Eunpyeong  149.286 30.588  0.809 \n",
       "5 Gangbuk    137.560 19.070  1.000 \n",
       "6 Gangdong   166.952 22.542  0.719 "
      ]
     },
     "metadata": {},
     "output_type": "display_data"
    },
    {
     "data": {
      "text/html": [
       "<table>\n",
       "<caption>A data.frame: 6 × 4</caption>\n",
       "<thead>\n",
       "\t<tr><th></th><th scope=col>District</th><th scope=col>Mean</th><th scope=col>SD</th><th scope=col>CV</th></tr>\n",
       "\t<tr><th></th><th scope=col>&lt;fct&gt;</th><th scope=col>&lt;dbl&gt;</th><th scope=col>&lt;dbl&gt;</th><th scope=col>&lt;dbl&gt;</th></tr>\n",
       "</thead>\n",
       "<tbody>\n",
       "\t<tr><th scope=row>1</th><td>Dobong    </td><td>105.202</td><td>18.223</td><td>0.999</td></tr>\n",
       "\t<tr><th scope=row>2</th><td>Dongdaemun</td><td>206.810</td><td>30.711</td><td>0.930</td></tr>\n",
       "\t<tr><th scope=row>3</th><td>Dongjak   </td><td>157.107</td><td>23.682</td><td>0.974</td></tr>\n",
       "\t<tr><th scope=row>4</th><td>Eunpyeong </td><td>149.286</td><td>30.588</td><td>0.809</td></tr>\n",
       "\t<tr><th scope=row>5</th><td>Gangbuk   </td><td>137.560</td><td>19.070</td><td>1.000</td></tr>\n",
       "\t<tr><th scope=row>6</th><td>Gangdong  </td><td>166.952</td><td>22.542</td><td>0.719</td></tr>\n",
       "</tbody>\n",
       "</table>\n"
      ],
      "text/latex": [
       "A data.frame: 6 × 4\n",
       "\\begin{tabular}{r|llll}\n",
       "  & District & Mean & SD & CV\\\\\n",
       "  & <fct> & <dbl> & <dbl> & <dbl>\\\\\n",
       "\\hline\n",
       "\t1 & Dobong     & 105.202 & 18.223 & 0.999\\\\\n",
       "\t2 & Dongdaemun & 206.810 & 30.711 & 0.930\\\\\n",
       "\t3 & Dongjak    & 157.107 & 23.682 & 0.974\\\\\n",
       "\t4 & Eunpyeong  & 149.286 & 30.588 & 0.809\\\\\n",
       "\t5 & Gangbuk    & 137.560 & 19.070 & 1.000\\\\\n",
       "\t6 & Gangdong   & 166.952 & 22.542 & 0.719\\\\\n",
       "\\end{tabular}\n"
      ],
      "text/markdown": [
       "\n",
       "A data.frame: 6 × 4\n",
       "\n",
       "| <!--/--> | District &lt;fct&gt; | Mean &lt;dbl&gt; | SD &lt;dbl&gt; | CV &lt;dbl&gt; |\n",
       "|---|---|---|---|---|\n",
       "| 1 | Dobong     | 105.202 | 18.223 | 0.999 |\n",
       "| 2 | Dongdaemun | 206.810 | 30.711 | 0.930 |\n",
       "| 3 | Dongjak    | 157.107 | 23.682 | 0.974 |\n",
       "| 4 | Eunpyeong  | 149.286 | 30.588 | 0.809 |\n",
       "| 5 | Gangbuk    | 137.560 | 19.070 | 1.000 |\n",
       "| 6 | Gangdong   | 166.952 | 22.542 | 0.719 |\n",
       "\n"
      ],
      "text/plain": [
       "  District   Mean    SD     CV   \n",
       "1 Dobong     105.202 18.223 0.999\n",
       "2 Dongdaemun 206.810 30.711 0.930\n",
       "3 Dongjak    157.107 23.682 0.974\n",
       "4 Eunpyeong  149.286 30.588 0.809\n",
       "5 Gangbuk    137.560 19.070 1.000\n",
       "6 Gangdong   166.952 22.542 0.719"
      ]
     },
     "metadata": {},
     "output_type": "display_data"
    }
   ],
   "source": [
    "# 여기서부터\n",
    "DistrictInjuredStat <- cbind(districtInjuredMean, districtInjuredSD[2], CV)\n",
    "head(DistrictInjuredStat)\n",
    "\n",
    "colnames(DistrictInjuredStat) <- c(\"District\", \"Mean\", \"SD\", \"CV\")\n",
    "head(DistrictInjuredStat)"
   ]
  },
  {
   "cell_type": "code",
   "execution_count": 176,
   "metadata": {
    "scrolled": false
   },
   "outputs": [
    {
     "data": {
      "text/html": [
       "<table>\n",
       "<caption>A data.frame: 25 × 4</caption>\n",
       "<thead>\n",
       "\t<tr><th></th><th scope=col>District</th><th scope=col>Mean</th><th scope=col>SD</th><th scope=col>CV</th></tr>\n",
       "\t<tr><th></th><th scope=col>&lt;fct&gt;</th><th scope=col>&lt;dbl&gt;</th><th scope=col>&lt;dbl&gt;</th><th scope=col>&lt;dbl&gt;</th></tr>\n",
       "</thead>\n",
       "<tbody>\n",
       "\t<tr><th scope=row>7</th><td>Gangnam     </td><td>446.845</td><td>49.650</td><td>0.111</td></tr>\n",
       "\t<tr><th scope=row>22</th><td>Songpa      </td><td>310.679</td><td>39.460</td><td>0.127</td></tr>\n",
       "\t<tr><th scope=row>18</th><td>Seocho      </td><td>280.143</td><td>39.493</td><td>0.141</td></tr>\n",
       "\t<tr><th scope=row>24</th><td>Yeongdeungpo</td><td>277.905</td><td>35.171</td><td>0.127</td></tr>\n",
       "\t<tr><th scope=row>16</th><td>Mapo        </td><td>218.881</td><td>34.067</td><td>0.156</td></tr>\n",
       "\t<tr><th scope=row>8</th><td>Gangseo     </td><td>209.417</td><td>33.028</td><td>0.158</td></tr>\n",
       "\t<tr><th scope=row>2</th><td>Dongdaemun  </td><td>206.810</td><td>30.711</td><td>0.148</td></tr>\n",
       "\t<tr><th scope=row>15</th><td>Jungnang    </td><td>188.845</td><td>26.155</td><td>0.138</td></tr>\n",
       "\t<tr><th scope=row>10</th><td>Guro        </td><td>180.810</td><td>26.860</td><td>0.149</td></tr>\n",
       "\t<tr><th scope=row>11</th><td>Gwanak      </td><td>180.750</td><td>32.516</td><td>0.180</td></tr>\n",
       "\t<tr><th scope=row>17</th><td>Nowon       </td><td>180.274</td><td>23.159</td><td>0.128</td></tr>\n",
       "\t<tr><th scope=row>20</th><td>Seongbuk    </td><td>178.500</td><td>27.158</td><td>0.152</td></tr>\n",
       "\t<tr><th scope=row>6</th><td>Gangdong    </td><td>166.952</td><td>22.542</td><td>0.135</td></tr>\n",
       "\t<tr><th scope=row>23</th><td>Yangcheon   </td><td>166.940</td><td>26.214</td><td>0.157</td></tr>\n",
       "\t<tr><th scope=row>25</th><td>Yongsan     </td><td>162.321</td><td>25.854</td><td>0.159</td></tr>\n",
       "\t<tr><th scope=row>3</th><td>Dongjak     </td><td>157.107</td><td>23.682</td><td>0.151</td></tr>\n",
       "\t<tr><th scope=row>14</th><td>Jung        </td><td>154.833</td><td>22.136</td><td>0.143</td></tr>\n",
       "\t<tr><th scope=row>13</th><td>Jongno      </td><td>153.786</td><td>23.889</td><td>0.155</td></tr>\n",
       "\t<tr><th scope=row>12</th><td>Gwangjin    </td><td>153.226</td><td>32.816</td><td>0.214</td></tr>\n",
       "\t<tr><th scope=row>4</th><td>Eunpyeong   </td><td>149.286</td><td>30.588</td><td>0.205</td></tr>\n",
       "\t<tr><th scope=row>5</th><td>Gangbuk     </td><td>137.560</td><td>19.070</td><td>0.139</td></tr>\n",
       "\t<tr><th scope=row>21</th><td>Seongdong   </td><td>130.238</td><td>21.303</td><td>0.164</td></tr>\n",
       "\t<tr><th scope=row>19</th><td>Seodaemun   </td><td>128.536</td><td>21.646</td><td>0.168</td></tr>\n",
       "\t<tr><th scope=row>9</th><td>Geumcheon   </td><td>117.595</td><td>26.109</td><td>0.222</td></tr>\n",
       "\t<tr><th scope=row>1</th><td>Dobong      </td><td>105.202</td><td>18.223</td><td>0.173</td></tr>\n",
       "</tbody>\n",
       "</table>\n"
      ],
      "text/latex": [
       "A data.frame: 25 × 4\n",
       "\\begin{tabular}{r|llll}\n",
       "  & District & Mean & SD & CV\\\\\n",
       "  & <fct> & <dbl> & <dbl> & <dbl>\\\\\n",
       "\\hline\n",
       "\t7 & Gangnam      & 446.845 & 49.650 & 0.111\\\\\n",
       "\t22 & Songpa       & 310.679 & 39.460 & 0.127\\\\\n",
       "\t18 & Seocho       & 280.143 & 39.493 & 0.141\\\\\n",
       "\t24 & Yeongdeungpo & 277.905 & 35.171 & 0.127\\\\\n",
       "\t16 & Mapo         & 218.881 & 34.067 & 0.156\\\\\n",
       "\t8 & Gangseo      & 209.417 & 33.028 & 0.158\\\\\n",
       "\t2 & Dongdaemun   & 206.810 & 30.711 & 0.148\\\\\n",
       "\t15 & Jungnang     & 188.845 & 26.155 & 0.138\\\\\n",
       "\t10 & Guro         & 180.810 & 26.860 & 0.149\\\\\n",
       "\t11 & Gwanak       & 180.750 & 32.516 & 0.180\\\\\n",
       "\t17 & Nowon        & 180.274 & 23.159 & 0.128\\\\\n",
       "\t20 & Seongbuk     & 178.500 & 27.158 & 0.152\\\\\n",
       "\t6 & Gangdong     & 166.952 & 22.542 & 0.135\\\\\n",
       "\t23 & Yangcheon    & 166.940 & 26.214 & 0.157\\\\\n",
       "\t25 & Yongsan      & 162.321 & 25.854 & 0.159\\\\\n",
       "\t3 & Dongjak      & 157.107 & 23.682 & 0.151\\\\\n",
       "\t14 & Jung         & 154.833 & 22.136 & 0.143\\\\\n",
       "\t13 & Jongno       & 153.786 & 23.889 & 0.155\\\\\n",
       "\t12 & Gwangjin     & 153.226 & 32.816 & 0.214\\\\\n",
       "\t4 & Eunpyeong    & 149.286 & 30.588 & 0.205\\\\\n",
       "\t5 & Gangbuk      & 137.560 & 19.070 & 0.139\\\\\n",
       "\t21 & Seongdong    & 130.238 & 21.303 & 0.164\\\\\n",
       "\t19 & Seodaemun    & 128.536 & 21.646 & 0.168\\\\\n",
       "\t9 & Geumcheon    & 117.595 & 26.109 & 0.222\\\\\n",
       "\t1 & Dobong       & 105.202 & 18.223 & 0.173\\\\\n",
       "\\end{tabular}\n"
      ],
      "text/markdown": [
       "\n",
       "A data.frame: 25 × 4\n",
       "\n",
       "| <!--/--> | District &lt;fct&gt; | Mean &lt;dbl&gt; | SD &lt;dbl&gt; | CV &lt;dbl&gt; |\n",
       "|---|---|---|---|---|\n",
       "| 7 | Gangnam      | 446.845 | 49.650 | 0.111 |\n",
       "| 22 | Songpa       | 310.679 | 39.460 | 0.127 |\n",
       "| 18 | Seocho       | 280.143 | 39.493 | 0.141 |\n",
       "| 24 | Yeongdeungpo | 277.905 | 35.171 | 0.127 |\n",
       "| 16 | Mapo         | 218.881 | 34.067 | 0.156 |\n",
       "| 8 | Gangseo      | 209.417 | 33.028 | 0.158 |\n",
       "| 2 | Dongdaemun   | 206.810 | 30.711 | 0.148 |\n",
       "| 15 | Jungnang     | 188.845 | 26.155 | 0.138 |\n",
       "| 10 | Guro         | 180.810 | 26.860 | 0.149 |\n",
       "| 11 | Gwanak       | 180.750 | 32.516 | 0.180 |\n",
       "| 17 | Nowon        | 180.274 | 23.159 | 0.128 |\n",
       "| 20 | Seongbuk     | 178.500 | 27.158 | 0.152 |\n",
       "| 6 | Gangdong     | 166.952 | 22.542 | 0.135 |\n",
       "| 23 | Yangcheon    | 166.940 | 26.214 | 0.157 |\n",
       "| 25 | Yongsan      | 162.321 | 25.854 | 0.159 |\n",
       "| 3 | Dongjak      | 157.107 | 23.682 | 0.151 |\n",
       "| 14 | Jung         | 154.833 | 22.136 | 0.143 |\n",
       "| 13 | Jongno       | 153.786 | 23.889 | 0.155 |\n",
       "| 12 | Gwangjin     | 153.226 | 32.816 | 0.214 |\n",
       "| 4 | Eunpyeong    | 149.286 | 30.588 | 0.205 |\n",
       "| 5 | Gangbuk      | 137.560 | 19.070 | 0.139 |\n",
       "| 21 | Seongdong    | 130.238 | 21.303 | 0.164 |\n",
       "| 19 | Seodaemun    | 128.536 | 21.646 | 0.168 |\n",
       "| 9 | Geumcheon    | 117.595 | 26.109 | 0.222 |\n",
       "| 1 | Dobong       | 105.202 | 18.223 | 0.173 |\n",
       "\n"
      ],
      "text/plain": [
       "   District     Mean    SD     CV   \n",
       "7  Gangnam      446.845 49.650 0.111\n",
       "22 Songpa       310.679 39.460 0.127\n",
       "18 Seocho       280.143 39.493 0.141\n",
       "24 Yeongdeungpo 277.905 35.171 0.127\n",
       "16 Mapo         218.881 34.067 0.156\n",
       "8  Gangseo      209.417 33.028 0.158\n",
       "2  Dongdaemun   206.810 30.711 0.148\n",
       "15 Jungnang     188.845 26.155 0.138\n",
       "10 Guro         180.810 26.860 0.149\n",
       "11 Gwanak       180.750 32.516 0.180\n",
       "17 Nowon        180.274 23.159 0.128\n",
       "20 Seongbuk     178.500 27.158 0.152\n",
       "6  Gangdong     166.952 22.542 0.135\n",
       "23 Yangcheon    166.940 26.214 0.157\n",
       "25 Yongsan      162.321 25.854 0.159\n",
       "3  Dongjak      157.107 23.682 0.151\n",
       "14 Jung         154.833 22.136 0.143\n",
       "13 Jongno       153.786 23.889 0.155\n",
       "12 Gwangjin     153.226 32.816 0.214\n",
       "4  Eunpyeong    149.286 30.588 0.205\n",
       "5  Gangbuk      137.560 19.070 0.139\n",
       "21 Seongdong    130.238 21.303 0.164\n",
       "19 Seodaemun    128.536 21.646 0.168\n",
       "9  Geumcheon    117.595 26.109 0.222\n",
       "1  Dobong       105.202 18.223 0.173"
      ]
     },
     "metadata": {},
     "output_type": "display_data"
    },
    {
     "data": {
      "text/html": [
       "<table>\n",
       "<caption>A data.frame: 25 × 4</caption>\n",
       "<thead>\n",
       "\t<tr><th></th><th scope=col>District</th><th scope=col>Mean</th><th scope=col>SD</th><th scope=col>CV</th></tr>\n",
       "\t<tr><th></th><th scope=col>&lt;fct&gt;</th><th scope=col>&lt;dbl&gt;</th><th scope=col>&lt;dbl&gt;</th><th scope=col>&lt;dbl&gt;</th></tr>\n",
       "</thead>\n",
       "<tbody>\n",
       "\t<tr><th scope=row>7</th><td>Gangnam     </td><td>446.845</td><td>49.650</td><td>0.111</td></tr>\n",
       "\t<tr><th scope=row>18</th><td>Seocho      </td><td>280.143</td><td>39.493</td><td>0.141</td></tr>\n",
       "\t<tr><th scope=row>22</th><td>Songpa      </td><td>310.679</td><td>39.460</td><td>0.127</td></tr>\n",
       "\t<tr><th scope=row>24</th><td>Yeongdeungpo</td><td>277.905</td><td>35.171</td><td>0.127</td></tr>\n",
       "\t<tr><th scope=row>16</th><td>Mapo        </td><td>218.881</td><td>34.067</td><td>0.156</td></tr>\n",
       "\t<tr><th scope=row>8</th><td>Gangseo     </td><td>209.417</td><td>33.028</td><td>0.158</td></tr>\n",
       "\t<tr><th scope=row>12</th><td>Gwangjin    </td><td>153.226</td><td>32.816</td><td>0.214</td></tr>\n",
       "\t<tr><th scope=row>11</th><td>Gwanak      </td><td>180.750</td><td>32.516</td><td>0.180</td></tr>\n",
       "\t<tr><th scope=row>2</th><td>Dongdaemun  </td><td>206.810</td><td>30.711</td><td>0.148</td></tr>\n",
       "\t<tr><th scope=row>4</th><td>Eunpyeong   </td><td>149.286</td><td>30.588</td><td>0.205</td></tr>\n",
       "\t<tr><th scope=row>20</th><td>Seongbuk    </td><td>178.500</td><td>27.158</td><td>0.152</td></tr>\n",
       "\t<tr><th scope=row>10</th><td>Guro        </td><td>180.810</td><td>26.860</td><td>0.149</td></tr>\n",
       "\t<tr><th scope=row>23</th><td>Yangcheon   </td><td>166.940</td><td>26.214</td><td>0.157</td></tr>\n",
       "\t<tr><th scope=row>15</th><td>Jungnang    </td><td>188.845</td><td>26.155</td><td>0.138</td></tr>\n",
       "\t<tr><th scope=row>9</th><td>Geumcheon   </td><td>117.595</td><td>26.109</td><td>0.222</td></tr>\n",
       "\t<tr><th scope=row>25</th><td>Yongsan     </td><td>162.321</td><td>25.854</td><td>0.159</td></tr>\n",
       "\t<tr><th scope=row>13</th><td>Jongno      </td><td>153.786</td><td>23.889</td><td>0.155</td></tr>\n",
       "\t<tr><th scope=row>3</th><td>Dongjak     </td><td>157.107</td><td>23.682</td><td>0.151</td></tr>\n",
       "\t<tr><th scope=row>17</th><td>Nowon       </td><td>180.274</td><td>23.159</td><td>0.128</td></tr>\n",
       "\t<tr><th scope=row>6</th><td>Gangdong    </td><td>166.952</td><td>22.542</td><td>0.135</td></tr>\n",
       "\t<tr><th scope=row>14</th><td>Jung        </td><td>154.833</td><td>22.136</td><td>0.143</td></tr>\n",
       "\t<tr><th scope=row>19</th><td>Seodaemun   </td><td>128.536</td><td>21.646</td><td>0.168</td></tr>\n",
       "\t<tr><th scope=row>21</th><td>Seongdong   </td><td>130.238</td><td>21.303</td><td>0.164</td></tr>\n",
       "\t<tr><th scope=row>5</th><td>Gangbuk     </td><td>137.560</td><td>19.070</td><td>0.139</td></tr>\n",
       "\t<tr><th scope=row>1</th><td>Dobong      </td><td>105.202</td><td>18.223</td><td>0.173</td></tr>\n",
       "</tbody>\n",
       "</table>\n"
      ],
      "text/latex": [
       "A data.frame: 25 × 4\n",
       "\\begin{tabular}{r|llll}\n",
       "  & District & Mean & SD & CV\\\\\n",
       "  & <fct> & <dbl> & <dbl> & <dbl>\\\\\n",
       "\\hline\n",
       "\t7 & Gangnam      & 446.845 & 49.650 & 0.111\\\\\n",
       "\t18 & Seocho       & 280.143 & 39.493 & 0.141\\\\\n",
       "\t22 & Songpa       & 310.679 & 39.460 & 0.127\\\\\n",
       "\t24 & Yeongdeungpo & 277.905 & 35.171 & 0.127\\\\\n",
       "\t16 & Mapo         & 218.881 & 34.067 & 0.156\\\\\n",
       "\t8 & Gangseo      & 209.417 & 33.028 & 0.158\\\\\n",
       "\t12 & Gwangjin     & 153.226 & 32.816 & 0.214\\\\\n",
       "\t11 & Gwanak       & 180.750 & 32.516 & 0.180\\\\\n",
       "\t2 & Dongdaemun   & 206.810 & 30.711 & 0.148\\\\\n",
       "\t4 & Eunpyeong    & 149.286 & 30.588 & 0.205\\\\\n",
       "\t20 & Seongbuk     & 178.500 & 27.158 & 0.152\\\\\n",
       "\t10 & Guro         & 180.810 & 26.860 & 0.149\\\\\n",
       "\t23 & Yangcheon    & 166.940 & 26.214 & 0.157\\\\\n",
       "\t15 & Jungnang     & 188.845 & 26.155 & 0.138\\\\\n",
       "\t9 & Geumcheon    & 117.595 & 26.109 & 0.222\\\\\n",
       "\t25 & Yongsan      & 162.321 & 25.854 & 0.159\\\\\n",
       "\t13 & Jongno       & 153.786 & 23.889 & 0.155\\\\\n",
       "\t3 & Dongjak      & 157.107 & 23.682 & 0.151\\\\\n",
       "\t17 & Nowon        & 180.274 & 23.159 & 0.128\\\\\n",
       "\t6 & Gangdong     & 166.952 & 22.542 & 0.135\\\\\n",
       "\t14 & Jung         & 154.833 & 22.136 & 0.143\\\\\n",
       "\t19 & Seodaemun    & 128.536 & 21.646 & 0.168\\\\\n",
       "\t21 & Seongdong    & 130.238 & 21.303 & 0.164\\\\\n",
       "\t5 & Gangbuk      & 137.560 & 19.070 & 0.139\\\\\n",
       "\t1 & Dobong       & 105.202 & 18.223 & 0.173\\\\\n",
       "\\end{tabular}\n"
      ],
      "text/markdown": [
       "\n",
       "A data.frame: 25 × 4\n",
       "\n",
       "| <!--/--> | District &lt;fct&gt; | Mean &lt;dbl&gt; | SD &lt;dbl&gt; | CV &lt;dbl&gt; |\n",
       "|---|---|---|---|---|\n",
       "| 7 | Gangnam      | 446.845 | 49.650 | 0.111 |\n",
       "| 18 | Seocho       | 280.143 | 39.493 | 0.141 |\n",
       "| 22 | Songpa       | 310.679 | 39.460 | 0.127 |\n",
       "| 24 | Yeongdeungpo | 277.905 | 35.171 | 0.127 |\n",
       "| 16 | Mapo         | 218.881 | 34.067 | 0.156 |\n",
       "| 8 | Gangseo      | 209.417 | 33.028 | 0.158 |\n",
       "| 12 | Gwangjin     | 153.226 | 32.816 | 0.214 |\n",
       "| 11 | Gwanak       | 180.750 | 32.516 | 0.180 |\n",
       "| 2 | Dongdaemun   | 206.810 | 30.711 | 0.148 |\n",
       "| 4 | Eunpyeong    | 149.286 | 30.588 | 0.205 |\n",
       "| 20 | Seongbuk     | 178.500 | 27.158 | 0.152 |\n",
       "| 10 | Guro         | 180.810 | 26.860 | 0.149 |\n",
       "| 23 | Yangcheon    | 166.940 | 26.214 | 0.157 |\n",
       "| 15 | Jungnang     | 188.845 | 26.155 | 0.138 |\n",
       "| 9 | Geumcheon    | 117.595 | 26.109 | 0.222 |\n",
       "| 25 | Yongsan      | 162.321 | 25.854 | 0.159 |\n",
       "| 13 | Jongno       | 153.786 | 23.889 | 0.155 |\n",
       "| 3 | Dongjak      | 157.107 | 23.682 | 0.151 |\n",
       "| 17 | Nowon        | 180.274 | 23.159 | 0.128 |\n",
       "| 6 | Gangdong     | 166.952 | 22.542 | 0.135 |\n",
       "| 14 | Jung         | 154.833 | 22.136 | 0.143 |\n",
       "| 19 | Seodaemun    | 128.536 | 21.646 | 0.168 |\n",
       "| 21 | Seongdong    | 130.238 | 21.303 | 0.164 |\n",
       "| 5 | Gangbuk      | 137.560 | 19.070 | 0.139 |\n",
       "| 1 | Dobong       | 105.202 | 18.223 | 0.173 |\n",
       "\n"
      ],
      "text/plain": [
       "   District     Mean    SD     CV   \n",
       "7  Gangnam      446.845 49.650 0.111\n",
       "18 Seocho       280.143 39.493 0.141\n",
       "22 Songpa       310.679 39.460 0.127\n",
       "24 Yeongdeungpo 277.905 35.171 0.127\n",
       "16 Mapo         218.881 34.067 0.156\n",
       "8  Gangseo      209.417 33.028 0.158\n",
       "12 Gwangjin     153.226 32.816 0.214\n",
       "11 Gwanak       180.750 32.516 0.180\n",
       "2  Dongdaemun   206.810 30.711 0.148\n",
       "4  Eunpyeong    149.286 30.588 0.205\n",
       "20 Seongbuk     178.500 27.158 0.152\n",
       "10 Guro         180.810 26.860 0.149\n",
       "23 Yangcheon    166.940 26.214 0.157\n",
       "15 Jungnang     188.845 26.155 0.138\n",
       "9  Geumcheon    117.595 26.109 0.222\n",
       "25 Yongsan      162.321 25.854 0.159\n",
       "13 Jongno       153.786 23.889 0.155\n",
       "3  Dongjak      157.107 23.682 0.151\n",
       "17 Nowon        180.274 23.159 0.128\n",
       "6  Gangdong     166.952 22.542 0.135\n",
       "14 Jung         154.833 22.136 0.143\n",
       "19 Seodaemun    128.536 21.646 0.168\n",
       "21 Seongdong    130.238 21.303 0.164\n",
       "5  Gangbuk      137.560 19.070 0.139\n",
       "1  Dobong       105.202 18.223 0.173"
      ]
     },
     "metadata": {},
     "output_type": "display_data"
    },
    {
     "data": {
      "text/html": [
       "<table>\n",
       "<caption>A data.frame: 25 × 4</caption>\n",
       "<thead>\n",
       "\t<tr><th></th><th scope=col>District</th><th scope=col>Mean</th><th scope=col>SD</th><th scope=col>CV</th></tr>\n",
       "\t<tr><th></th><th scope=col>&lt;fct&gt;</th><th scope=col>&lt;dbl&gt;</th><th scope=col>&lt;dbl&gt;</th><th scope=col>&lt;dbl&gt;</th></tr>\n",
       "</thead>\n",
       "<tbody>\n",
       "\t<tr><th scope=row>7</th><td>Gangnam     </td><td>446.845</td><td>49.650</td><td>0.111</td></tr>\n",
       "\t<tr><th scope=row>22</th><td>Songpa      </td><td>310.679</td><td>39.460</td><td>0.127</td></tr>\n",
       "\t<tr><th scope=row>24</th><td>Yeongdeungpo</td><td>277.905</td><td>35.171</td><td>0.127</td></tr>\n",
       "\t<tr><th scope=row>17</th><td>Nowon       </td><td>180.274</td><td>23.159</td><td>0.128</td></tr>\n",
       "\t<tr><th scope=row>6</th><td>Gangdong    </td><td>166.952</td><td>22.542</td><td>0.135</td></tr>\n",
       "\t<tr><th scope=row>15</th><td>Jungnang    </td><td>188.845</td><td>26.155</td><td>0.138</td></tr>\n",
       "\t<tr><th scope=row>5</th><td>Gangbuk     </td><td>137.560</td><td>19.070</td><td>0.139</td></tr>\n",
       "\t<tr><th scope=row>18</th><td>Seocho      </td><td>280.143</td><td>39.493</td><td>0.141</td></tr>\n",
       "\t<tr><th scope=row>14</th><td>Jung        </td><td>154.833</td><td>22.136</td><td>0.143</td></tr>\n",
       "\t<tr><th scope=row>2</th><td>Dongdaemun  </td><td>206.810</td><td>30.711</td><td>0.148</td></tr>\n",
       "\t<tr><th scope=row>10</th><td>Guro        </td><td>180.810</td><td>26.860</td><td>0.149</td></tr>\n",
       "\t<tr><th scope=row>3</th><td>Dongjak     </td><td>157.107</td><td>23.682</td><td>0.151</td></tr>\n",
       "\t<tr><th scope=row>20</th><td>Seongbuk    </td><td>178.500</td><td>27.158</td><td>0.152</td></tr>\n",
       "\t<tr><th scope=row>13</th><td>Jongno      </td><td>153.786</td><td>23.889</td><td>0.155</td></tr>\n",
       "\t<tr><th scope=row>16</th><td>Mapo        </td><td>218.881</td><td>34.067</td><td>0.156</td></tr>\n",
       "\t<tr><th scope=row>23</th><td>Yangcheon   </td><td>166.940</td><td>26.214</td><td>0.157</td></tr>\n",
       "\t<tr><th scope=row>8</th><td>Gangseo     </td><td>209.417</td><td>33.028</td><td>0.158</td></tr>\n",
       "\t<tr><th scope=row>25</th><td>Yongsan     </td><td>162.321</td><td>25.854</td><td>0.159</td></tr>\n",
       "\t<tr><th scope=row>21</th><td>Seongdong   </td><td>130.238</td><td>21.303</td><td>0.164</td></tr>\n",
       "\t<tr><th scope=row>19</th><td>Seodaemun   </td><td>128.536</td><td>21.646</td><td>0.168</td></tr>\n",
       "\t<tr><th scope=row>1</th><td>Dobong      </td><td>105.202</td><td>18.223</td><td>0.173</td></tr>\n",
       "\t<tr><th scope=row>11</th><td>Gwanak      </td><td>180.750</td><td>32.516</td><td>0.180</td></tr>\n",
       "\t<tr><th scope=row>4</th><td>Eunpyeong   </td><td>149.286</td><td>30.588</td><td>0.205</td></tr>\n",
       "\t<tr><th scope=row>12</th><td>Gwangjin    </td><td>153.226</td><td>32.816</td><td>0.214</td></tr>\n",
       "\t<tr><th scope=row>9</th><td>Geumcheon   </td><td>117.595</td><td>26.109</td><td>0.222</td></tr>\n",
       "</tbody>\n",
       "</table>\n"
      ],
      "text/latex": [
       "A data.frame: 25 × 4\n",
       "\\begin{tabular}{r|llll}\n",
       "  & District & Mean & SD & CV\\\\\n",
       "  & <fct> & <dbl> & <dbl> & <dbl>\\\\\n",
       "\\hline\n",
       "\t7 & Gangnam      & 446.845 & 49.650 & 0.111\\\\\n",
       "\t22 & Songpa       & 310.679 & 39.460 & 0.127\\\\\n",
       "\t24 & Yeongdeungpo & 277.905 & 35.171 & 0.127\\\\\n",
       "\t17 & Nowon        & 180.274 & 23.159 & 0.128\\\\\n",
       "\t6 & Gangdong     & 166.952 & 22.542 & 0.135\\\\\n",
       "\t15 & Jungnang     & 188.845 & 26.155 & 0.138\\\\\n",
       "\t5 & Gangbuk      & 137.560 & 19.070 & 0.139\\\\\n",
       "\t18 & Seocho       & 280.143 & 39.493 & 0.141\\\\\n",
       "\t14 & Jung         & 154.833 & 22.136 & 0.143\\\\\n",
       "\t2 & Dongdaemun   & 206.810 & 30.711 & 0.148\\\\\n",
       "\t10 & Guro         & 180.810 & 26.860 & 0.149\\\\\n",
       "\t3 & Dongjak      & 157.107 & 23.682 & 0.151\\\\\n",
       "\t20 & Seongbuk     & 178.500 & 27.158 & 0.152\\\\\n",
       "\t13 & Jongno       & 153.786 & 23.889 & 0.155\\\\\n",
       "\t16 & Mapo         & 218.881 & 34.067 & 0.156\\\\\n",
       "\t23 & Yangcheon    & 166.940 & 26.214 & 0.157\\\\\n",
       "\t8 & Gangseo      & 209.417 & 33.028 & 0.158\\\\\n",
       "\t25 & Yongsan      & 162.321 & 25.854 & 0.159\\\\\n",
       "\t21 & Seongdong    & 130.238 & 21.303 & 0.164\\\\\n",
       "\t19 & Seodaemun    & 128.536 & 21.646 & 0.168\\\\\n",
       "\t1 & Dobong       & 105.202 & 18.223 & 0.173\\\\\n",
       "\t11 & Gwanak       & 180.750 & 32.516 & 0.180\\\\\n",
       "\t4 & Eunpyeong    & 149.286 & 30.588 & 0.205\\\\\n",
       "\t12 & Gwangjin     & 153.226 & 32.816 & 0.214\\\\\n",
       "\t9 & Geumcheon    & 117.595 & 26.109 & 0.222\\\\\n",
       "\\end{tabular}\n"
      ],
      "text/markdown": [
       "\n",
       "A data.frame: 25 × 4\n",
       "\n",
       "| <!--/--> | District &lt;fct&gt; | Mean &lt;dbl&gt; | SD &lt;dbl&gt; | CV &lt;dbl&gt; |\n",
       "|---|---|---|---|---|\n",
       "| 7 | Gangnam      | 446.845 | 49.650 | 0.111 |\n",
       "| 22 | Songpa       | 310.679 | 39.460 | 0.127 |\n",
       "| 24 | Yeongdeungpo | 277.905 | 35.171 | 0.127 |\n",
       "| 17 | Nowon        | 180.274 | 23.159 | 0.128 |\n",
       "| 6 | Gangdong     | 166.952 | 22.542 | 0.135 |\n",
       "| 15 | Jungnang     | 188.845 | 26.155 | 0.138 |\n",
       "| 5 | Gangbuk      | 137.560 | 19.070 | 0.139 |\n",
       "| 18 | Seocho       | 280.143 | 39.493 | 0.141 |\n",
       "| 14 | Jung         | 154.833 | 22.136 | 0.143 |\n",
       "| 2 | Dongdaemun   | 206.810 | 30.711 | 0.148 |\n",
       "| 10 | Guro         | 180.810 | 26.860 | 0.149 |\n",
       "| 3 | Dongjak      | 157.107 | 23.682 | 0.151 |\n",
       "| 20 | Seongbuk     | 178.500 | 27.158 | 0.152 |\n",
       "| 13 | Jongno       | 153.786 | 23.889 | 0.155 |\n",
       "| 16 | Mapo         | 218.881 | 34.067 | 0.156 |\n",
       "| 23 | Yangcheon    | 166.940 | 26.214 | 0.157 |\n",
       "| 8 | Gangseo      | 209.417 | 33.028 | 0.158 |\n",
       "| 25 | Yongsan      | 162.321 | 25.854 | 0.159 |\n",
       "| 21 | Seongdong    | 130.238 | 21.303 | 0.164 |\n",
       "| 19 | Seodaemun    | 128.536 | 21.646 | 0.168 |\n",
       "| 1 | Dobong       | 105.202 | 18.223 | 0.173 |\n",
       "| 11 | Gwanak       | 180.750 | 32.516 | 0.180 |\n",
       "| 4 | Eunpyeong    | 149.286 | 30.588 | 0.205 |\n",
       "| 12 | Gwangjin     | 153.226 | 32.816 | 0.214 |\n",
       "| 9 | Geumcheon    | 117.595 | 26.109 | 0.222 |\n",
       "\n"
      ],
      "text/plain": [
       "   District     Mean    SD     CV   \n",
       "7  Gangnam      446.845 49.650 0.111\n",
       "22 Songpa       310.679 39.460 0.127\n",
       "24 Yeongdeungpo 277.905 35.171 0.127\n",
       "17 Nowon        180.274 23.159 0.128\n",
       "6  Gangdong     166.952 22.542 0.135\n",
       "15 Jungnang     188.845 26.155 0.138\n",
       "5  Gangbuk      137.560 19.070 0.139\n",
       "18 Seocho       280.143 39.493 0.141\n",
       "14 Jung         154.833 22.136 0.143\n",
       "2  Dongdaemun   206.810 30.711 0.148\n",
       "10 Guro         180.810 26.860 0.149\n",
       "3  Dongjak      157.107 23.682 0.151\n",
       "20 Seongbuk     178.500 27.158 0.152\n",
       "13 Jongno       153.786 23.889 0.155\n",
       "16 Mapo         218.881 34.067 0.156\n",
       "23 Yangcheon    166.940 26.214 0.157\n",
       "8  Gangseo      209.417 33.028 0.158\n",
       "25 Yongsan      162.321 25.854 0.159\n",
       "21 Seongdong    130.238 21.303 0.164\n",
       "19 Seodaemun    128.536 21.646 0.168\n",
       "1  Dobong       105.202 18.223 0.173\n",
       "11 Gwanak       180.750 32.516 0.180\n",
       "4  Eunpyeong    149.286 30.588 0.205\n",
       "12 Gwangjin     153.226 32.816 0.214\n",
       "9  Geumcheon    117.595 26.109 0.222"
      ]
     },
     "metadata": {},
     "output_type": "display_data"
    }
   ],
   "source": [
    "orderBy(~-Mean, DistrictInjuredStat)\n",
    "orderBy(~-SD, DistrictInjuredStat)\n",
    "orderBy(~CV, DistrictInjuredStat)"
   ]
  },
  {
   "cell_type": "code",
   "execution_count": 179,
   "metadata": {},
   "outputs": [
    {
     "data": {
      "image/png": "[encoded data removed]",
      "text/plain": [
       "plot without title"
      ]
     },
     "metadata": {
      "image/png": {
       "height": 420,
       "width": 420
      },
      "text/plain": {
       "height": 420,
       "width": 420
      }
     },
     "output_type": "display_data"
    },
    {
     "data": {
      "image/png": "[encoded data removed]",
      "text/plain": [
       "plot without title"
      ]
     },
     "metadata": {
      "image/png": {
       "height": 420,
       "width": 420
      },
      "text/plain": {
       "height": 420,
       "width": 420
      }
     },
     "output_type": "display_data"
    }
   ],
   "source": [
    "qplot(Mean, CV, data = DistrictInjuredStat, size = Mean, col = CV)\n",
    "\n",
    "g <- ggplot(DistrictInjuredStat, aes(x = Mean, y = CV, color = District, size = Mean)) +\n",
    "  geom_point() \n",
    "g + labs(title = \"Mean - CV of Seoul Injured\")"
   ]
  },
  {
   "cell_type": "code",
   "execution_count": null,
   "metadata": {},
   "outputs": [],
   "source": []
  },
  {
   "cell_type": "markdown",
   "metadata": {},
   "source": [
    "# Correlation"
   ]
  },
  {
   "cell_type": "code",
   "execution_count": 218,
   "metadata": {},
   "outputs": [
    {
     "data": {
      "text/html": [
       "<table>\n",
       "<caption>A matrix: 3 × 3 of type dbl</caption>\n",
       "<thead>\n",
       "\t<tr><th></th><th scope=col>Accident</th><th scope=col>Deaths</th><th scope=col>Injured</th></tr>\n",
       "</thead>\n",
       "<tbody>\n",
       "\t<tr><th scope=row>Accident</th><td>1.0000000</td><td>0.2295247</td><td>0.9796363</td></tr>\n",
       "\t<tr><th scope=row>Deaths</th><td>0.2295247</td><td>1.0000000</td><td>0.2274515</td></tr>\n",
       "\t<tr><th scope=row>Injured</th><td>0.9796363</td><td>0.2274515</td><td>1.0000000</td></tr>\n",
       "</tbody>\n",
       "</table>\n"
      ],
      "text/latex": [
       "A matrix: 3 × 3 of type dbl\n",
       "\\begin{tabular}{r|lll}\n",
       "  & Accident & Deaths & Injured\\\\\n",
       "\\hline\n",
       "\tAccident & 1.0000000 & 0.2295247 & 0.9796363\\\\\n",
       "\tDeaths & 0.2295247 & 1.0000000 & 0.2274515\\\\\n",
       "\tInjured & 0.9796363 & 0.2274515 & 1.0000000\\\\\n",
       "\\end{tabular}\n"
      ],
      "text/markdown": [
       "\n",
       "A matrix: 3 × 3 of type dbl\n",
       "\n",
       "| <!--/--> | Accident | Deaths | Injured |\n",
       "|---|---|---|---|\n",
       "| Accident | 1.0000000 | 0.2295247 | 0.9796363 |\n",
       "| Deaths | 0.2295247 | 1.0000000 | 0.2274515 |\n",
       "| Injured | 0.9796363 | 0.2274515 | 1.0000000 |\n",
       "\n"
      ],
      "text/plain": [
       "         Accident  Deaths    Injured  \n",
       "Accident 1.0000000 0.2295247 0.9796363\n",
       "Deaths   0.2295247 1.0000000 0.2274515\n",
       "Injured  0.9796363 0.2274515 1.0000000"
      ]
     },
     "metadata": {},
     "output_type": "display_data"
    }
   ],
   "source": [
    "cor(seoul[4:6])"
   ]
  },
  {
   "cell_type": "code",
   "execution_count": 217,
   "metadata": {},
   "outputs": [
    {
     "data": {
      "text/html": [
       "<table>\n",
       "<caption>A data.frame: 6 × 6</caption>\n",
       "<thead>\n",
       "\t<tr><th></th><th scope=col>Year</th><th scope=col>Month</th><th scope=col>District</th><th scope=col>Accident</th><th scope=col>Deaths</th><th scope=col>Injured</th></tr>\n",
       "\t<tr><th></th><th scope=col>&lt;int&gt;</th><th scope=col>&lt;int&gt;</th><th scope=col>&lt;fct&gt;</th><th scope=col>&lt;int&gt;</th><th scope=col>&lt;int&gt;</th><th scope=col>&lt;int&gt;</th></tr>\n",
       "</thead>\n",
       "<tbody>\n",
       "\t<tr><th scope=row>1</th><td>2011</td><td>1</td><td>Jongno</td><td>115</td><td>2</td><td>165</td></tr>\n",
       "\t<tr><th scope=row>2</th><td>2011</td><td>2</td><td>Jongno</td><td> 99</td><td>0</td><td>134</td></tr>\n",
       "\t<tr><th scope=row>3</th><td>2011</td><td>3</td><td>Jongno</td><td>116</td><td>0</td><td>162</td></tr>\n",
       "\t<tr><th scope=row>4</th><td>2011</td><td>4</td><td>Jongno</td><td>110</td><td>1</td><td>153</td></tr>\n",
       "\t<tr><th scope=row>5</th><td>2011</td><td>5</td><td>Jongno</td><td>122</td><td>0</td><td>157</td></tr>\n",
       "\t<tr><th scope=row>6</th><td>2011</td><td>6</td><td>Jongno</td><td>116</td><td>3</td><td>163</td></tr>\n",
       "</tbody>\n",
       "</table>\n"
      ],
      "text/latex": [
       "A data.frame: 6 × 6\n",
       "\\begin{tabular}{r|llllll}\n",
       "  & Year & Month & District & Accident & Deaths & Injured\\\\\n",
       "  & <int> & <int> & <fct> & <int> & <int> & <int>\\\\\n",
       "\\hline\n",
       "\t1 & 2011 & 1 & Jongno & 115 & 2 & 165\\\\\n",
       "\t2 & 2011 & 2 & Jongno &  99 & 0 & 134\\\\\n",
       "\t3 & 2011 & 3 & Jongno & 116 & 0 & 162\\\\\n",
       "\t4 & 2011 & 4 & Jongno & 110 & 1 & 153\\\\\n",
       "\t5 & 2011 & 5 & Jongno & 122 & 0 & 157\\\\\n",
       "\t6 & 2011 & 6 & Jongno & 116 & 3 & 163\\\\\n",
       "\\end{tabular}\n"
      ],
      "text/markdown": [
       "\n",
       "A data.frame: 6 × 6\n",
       "\n",
       "| <!--/--> | Year &lt;int&gt; | Month &lt;int&gt; | District &lt;fct&gt; | Accident &lt;int&gt; | Deaths &lt;int&gt; | Injured &lt;int&gt; |\n",
       "|---|---|---|---|---|---|---|\n",
       "| 1 | 2011 | 1 | Jongno | 115 | 2 | 165 |\n",
       "| 2 | 2011 | 2 | Jongno |  99 | 0 | 134 |\n",
       "| 3 | 2011 | 3 | Jongno | 116 | 0 | 162 |\n",
       "| 4 | 2011 | 4 | Jongno | 110 | 1 | 153 |\n",
       "| 5 | 2011 | 5 | Jongno | 122 | 0 | 157 |\n",
       "| 6 | 2011 | 6 | Jongno | 116 | 3 | 163 |\n",
       "\n"
      ],
      "text/plain": [
       "  Year Month District Accident Deaths Injured\n",
       "1 2011 1     Jongno   115      2      165    \n",
       "2 2011 2     Jongno    99      0      134    \n",
       "3 2011 3     Jongno   116      0      162    \n",
       "4 2011 4     Jongno   110      1      153    \n",
       "5 2011 5     Jongno   122      0      157    \n",
       "6 2011 6     Jongno   116      3      163    "
      ]
     },
     "metadata": {},
     "output_type": "display_data"
    }
   ],
   "source": [
    "head(seoul)"
   ]
  },
  {
   "cell_type": "code",
   "execution_count": null,
   "metadata": {},
   "outputs": [],
   "source": []
  }
 ],
 "metadata": {
  "kernelspec": {
   "display_name": "R",
   "language": "R",
   "name": "ir"
  },
  "language_info": {
   "codemirror_mode": "r",
   "file_extension": ".r",
   "mimetype": "text/x-r-source",
   "name": "R",
   "pygments_lexer": "r",
   "version": "3.6.1"
  },
  "latex_envs": {
   "LaTeX_envs_menu_present": true,
   "autoclose": false,
   "autocomplete": true,
   "bibliofile": "biblio.bib",
   "cite_by": "apalike",
   "current_citInitial": 1,
   "eqLabelWithNumbers": true,
   "eqNumInitial": 1,
   "hotkeys": {
    "equation": "Ctrl-E",
    "itemize": "Ctrl-I"
   },
   "labels_anchors": false,
   "latex_user_defs": false,
   "report_style_numbering": false,
   "user_envs_cfg": false
  },
  "toc": {
   "base_numbering": 1,
   "nav_menu": {},
   "number_sections": true,
   "sideBar": true,
   "skip_h1_title": false,
   "title_cell": "Table of Contents",
   "title_sidebar": "Contents",
   "toc_cell": false,
   "toc_position": {},
   "toc_section_display": true,
   "toc_window_display": true
  },
  "varInspector": {
   "cols": {
    "lenName": 16,
    "lenType": 16,
    "lenVar": 40
   },
   "kernels_config": {
    "python": {
     "delete_cmd_postfix": "",
     "delete_cmd_prefix": "del ",
     "library": "var_list.py",
     "varRefreshCmd": "print(var_dic_list())"
    },
    "r": {
     "delete_cmd_postfix": ") ",
     "delete_cmd_prefix": "rm(",
     "library": "var_list.r",
     "varRefreshCmd": "cat(var_dic_list()) "
    }
   },
   "types_to_exclude": [
    "module",
    "function",
    "builtin_function_or_method",
    "instance",
    "_Feature"
   ],
   "window_display": false
  }
 },
 "nbformat": 4,
 "nbformat_minor": 2
}
