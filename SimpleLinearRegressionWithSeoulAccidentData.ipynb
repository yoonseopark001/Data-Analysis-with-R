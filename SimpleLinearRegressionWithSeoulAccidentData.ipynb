{
 "cells": [
  {
   "cell_type": "markdown",
   "metadata": {},
   "source": [
    "# Analysis Objective\n",
    "    \n",
    ": Predict the number of injured, when the 100 accidents/month occur in Jongno-gu."
   ]
  },
  {
   "cell_type": "markdown",
   "metadata": {},
   "source": [
    "## Data cleanup"
   ]
  },
  {
   "cell_type": "markdown",
   "metadata": {},
   "source": [
    "### Load Seoul Accident Data"
   ]
  },
  {
   "cell_type": "markdown",
   "metadata": {},
   "source": [
    "- Accident: The Number of Accidents  \n",
    "- Death: The Number of Deaths\n",
    "- Injured: The Number of Injured"
   ]
  },
  {
   "cell_type": "code",
   "execution_count": 21,
   "metadata": {},
   "outputs": [
    {
     "data": {
      "text/html": [
       "<table>\n",
       "<caption>A data.frame: 6 × 6</caption>\n",
       "<thead>\n",
       "\t<tr><th></th><th scope=col>Year</th><th scope=col>Month</th><th scope=col>District</th><th scope=col>Accident</th><th scope=col>Deaths</th><th scope=col>Injured</th></tr>\n",
       "\t<tr><th></th><th scope=col>&lt;int&gt;</th><th scope=col>&lt;int&gt;</th><th scope=col>&lt;fct&gt;</th><th scope=col>&lt;int&gt;</th><th scope=col>&lt;int&gt;</th><th scope=col>&lt;int&gt;</th></tr>\n",
       "</thead>\n",
       "<tbody>\n",
       "\t<tr><th scope=row>1</th><td>2011</td><td>1</td><td>Jongno</td><td>115</td><td>2</td><td>165</td></tr>\n",
       "\t<tr><th scope=row>2</th><td>2011</td><td>2</td><td>Jongno</td><td> 99</td><td>0</td><td>134</td></tr>\n",
       "\t<tr><th scope=row>3</th><td>2011</td><td>3</td><td>Jongno</td><td>116</td><td>0</td><td>162</td></tr>\n",
       "\t<tr><th scope=row>4</th><td>2011</td><td>4</td><td>Jongno</td><td>110</td><td>1</td><td>153</td></tr>\n",
       "\t<tr><th scope=row>5</th><td>2011</td><td>5</td><td>Jongno</td><td>122</td><td>0</td><td>157</td></tr>\n",
       "\t<tr><th scope=row>6</th><td>2011</td><td>6</td><td>Jongno</td><td>116</td><td>3</td><td>163</td></tr>\n",
       "</tbody>\n",
       "</table>\n"
      ],
      "text/latex": [
       "A data.frame: 6 × 6\n",
       "\\begin{tabular}{r|llllll}\n",
       "  & Year & Month & District & Accident & Deaths & Injured\\\\\n",
       "  & <int> & <int> & <fct> & <int> & <int> & <int>\\\\\n",
       "\\hline\n",
       "\t1 & 2011 & 1 & Jongno & 115 & 2 & 165\\\\\n",
       "\t2 & 2011 & 2 & Jongno &  99 & 0 & 134\\\\\n",
       "\t3 & 2011 & 3 & Jongno & 116 & 0 & 162\\\\\n",
       "\t4 & 2011 & 4 & Jongno & 110 & 1 & 153\\\\\n",
       "\t5 & 2011 & 5 & Jongno & 122 & 0 & 157\\\\\n",
       "\t6 & 2011 & 6 & Jongno & 116 & 3 & 163\\\\\n",
       "\\end{tabular}\n"
      ],
      "text/markdown": [
       "\n",
       "A data.frame: 6 × 6\n",
       "\n",
       "| <!--/--> | Year &lt;int&gt; | Month &lt;int&gt; | District &lt;fct&gt; | Accident &lt;int&gt; | Deaths &lt;int&gt; | Injured &lt;int&gt; |\n",
       "|---|---|---|---|---|---|---|\n",
       "| 1 | 2011 | 1 | Jongno | 115 | 2 | 165 |\n",
       "| 2 | 2011 | 2 | Jongno |  99 | 0 | 134 |\n",
       "| 3 | 2011 | 3 | Jongno | 116 | 0 | 162 |\n",
       "| 4 | 2011 | 4 | Jongno | 110 | 1 | 153 |\n",
       "| 5 | 2011 | 5 | Jongno | 122 | 0 | 157 |\n",
       "| 6 | 2011 | 6 | Jongno | 116 | 3 | 163 |\n",
       "\n"
      ],
      "text/plain": [
       "  Year Month District Accident Deaths Injured\n",
       "1 2011 1     Jongno   115      2      165    \n",
       "2 2011 2     Jongno    99      0      134    \n",
       "3 2011 3     Jongno   116      0      162    \n",
       "4 2011 4     Jongno   110      1      153    \n",
       "5 2011 5     Jongno   122      0      157    \n",
       "6 2011 6     Jongno   116      3      163    "
      ]
     },
     "metadata": {},
     "output_type": "display_data"
    }
   ],
   "source": [
    "seoul <- read.csv(\"./Data/SeoulAccident.csv\", fileEncoding = \"CP949\", encoding = \"UTF-8\")\n",
    "head(seoul)"
   ]
  },
  {
   "cell_type": "code",
   "execution_count": 22,
   "metadata": {},
   "outputs": [
    {
     "name": "stdout",
     "output_type": "stream",
     "text": [
      "'data.frame':\t2100 obs. of  6 variables:\n",
      " $ Year    : int  2011 2011 2011 2011 2011 2011 2011 2011 2011 2011 ...\n",
      " $ Month   : int  1 2 3 4 5 6 7 8 9 10 ...\n",
      " $ District: Factor w/ 25 levels \"Dobong\",\"Dongdaemun\",..: 13 13 13 13 13 13 13 13 13 13 ...\n",
      " $ Accident: int  115 99 116 110 122 116 103 122 121 135 ...\n",
      " $ Deaths  : int  2 0 0 1 0 3 1 1 2 2 ...\n",
      " $ Injured : int  165 134 162 153 157 163 154 171 166 193 ...\n"
     ]
    }
   ],
   "source": [
    "str(seoul)"
   ]
  },
  {
   "cell_type": "code",
   "execution_count": 23,
   "metadata": {},
   "outputs": [
    {
     "data": {
      "text/plain": [
       "      Year          Month             District       Accident    \n",
       " Min.   :2011   Min.   : 1.00   Dobong    :  84   Min.   : 45.0  \n",
       " 1st Qu.:2012   1st Qu.: 3.75   Dongdaemun:  84   1st Qu.:101.0  \n",
       " Median :2014   Median : 6.50   Dongjak   :  84   Median :123.0  \n",
       " Mean   :2014   Mean   : 6.50   Eunpyeong :  84   Mean   :134.2  \n",
       " 3rd Qu.:2016   3rd Qu.: 9.25   Gangbuk   :  84   3rd Qu.:151.0  \n",
       " Max.   :2017   Max.   :12.00   Gangdong  :  84   Max.   :378.0  \n",
       "                                (Other)   :1596                  \n",
       "     Deaths          Injured     \n",
       " Min.   : 0.000   Min.   : 55.0  \n",
       " 1st Qu.: 0.000   1st Qu.:141.0  \n",
       " Median : 1.000   Median :171.0  \n",
       " Mean   : 1.288   Mean   :189.7  \n",
       " 3rd Qu.: 2.000   3rd Qu.:213.0  \n",
       " Max.   :10.000   Max.   :552.0  \n",
       "                                 "
      ]
     },
     "metadata": {},
     "output_type": "display_data"
    }
   ],
   "source": [
    "summary(seoul)"
   ]
  },
  {
   "cell_type": "code",
   "execution_count": 24,
   "metadata": {},
   "outputs": [
    {
     "data": {
      "text/html": [
       "0.979636334249121"
      ],
      "text/latex": [
       "0.979636334249121"
      ],
      "text/markdown": [
       "0.979636334249121"
      ],
      "text/plain": [
       "[1] 0.9796363"
      ]
     },
     "metadata": {},
     "output_type": "display_data"
    }
   ],
   "source": [
    "cor(seoul$Accident, seoul$Injured)\n",
    "\n",
    "# almost strong positive correlation between Accident and Injured"
   ]
  },
  {
   "cell_type": "code",
   "execution_count": 25,
   "metadata": {},
   "outputs": [
    {
     "data": {
      "text/html": [
       "0.229524736949276"
      ],
      "text/latex": [
       "0.229524736949276"
      ],
      "text/markdown": [
       "0.229524736949276"
      ],
      "text/plain": [
       "[1] 0.2295247"
      ]
     },
     "metadata": {},
     "output_type": "display_data"
    }
   ],
   "source": [
    "# c.f. \n",
    "cor(seoul$Accident, seoul$Deaths)\n",
    "\n",
    "# almost no correlation between Accident and Deaths"
   ]
  },
  {
   "cell_type": "markdown",
   "metadata": {},
   "source": [
    "### Create a subset data w.r.t. Jongno"
   ]
  },
  {
   "cell_type": "code",
   "execution_count": 26,
   "metadata": {},
   "outputs": [
    {
     "data": {
      "text/html": [
       "<table>\n",
       "<caption>A data.frame: 15 × 6</caption>\n",
       "<thead>\n",
       "\t<tr><th></th><th scope=col>Year</th><th scope=col>Month</th><th scope=col>District</th><th scope=col>Accident</th><th scope=col>Deaths</th><th scope=col>Injured</th></tr>\n",
       "\t<tr><th></th><th scope=col>&lt;int&gt;</th><th scope=col>&lt;int&gt;</th><th scope=col>&lt;fct&gt;</th><th scope=col>&lt;int&gt;</th><th scope=col>&lt;int&gt;</th><th scope=col>&lt;int&gt;</th></tr>\n",
       "</thead>\n",
       "<tbody>\n",
       "\t<tr><th scope=row>1</th><td>2011</td><td> 1</td><td>Jongno</td><td>115</td><td>2</td><td>165</td></tr>\n",
       "\t<tr><th scope=row>2</th><td>2011</td><td> 2</td><td>Jongno</td><td> 99</td><td>0</td><td>134</td></tr>\n",
       "\t<tr><th scope=row>3</th><td>2011</td><td> 3</td><td>Jongno</td><td>116</td><td>0</td><td>162</td></tr>\n",
       "\t<tr><th scope=row>4</th><td>2011</td><td> 4</td><td>Jongno</td><td>110</td><td>1</td><td>153</td></tr>\n",
       "\t<tr><th scope=row>5</th><td>2011</td><td> 5</td><td>Jongno</td><td>122</td><td>0</td><td>157</td></tr>\n",
       "\t<tr><th scope=row>6</th><td>2011</td><td> 6</td><td>Jongno</td><td>116</td><td>3</td><td>163</td></tr>\n",
       "\t<tr><th scope=row>7</th><td>2011</td><td> 7</td><td>Jongno</td><td>103</td><td>1</td><td>154</td></tr>\n",
       "\t<tr><th scope=row>8</th><td>2011</td><td> 8</td><td>Jongno</td><td>122</td><td>1</td><td>171</td></tr>\n",
       "\t<tr><th scope=row>9</th><td>2011</td><td> 9</td><td>Jongno</td><td>121</td><td>2</td><td>166</td></tr>\n",
       "\t<tr><th scope=row>10</th><td>2011</td><td>10</td><td>Jongno</td><td>135</td><td>2</td><td>193</td></tr>\n",
       "\t<tr><th scope=row>11</th><td>2011</td><td>11</td><td>Jongno</td><td>140</td><td>1</td><td>204</td></tr>\n",
       "\t<tr><th scope=row>12</th><td>2011</td><td>12</td><td>Jongno</td><td>122</td><td>1</td><td>172</td></tr>\n",
       "\t<tr><th scope=row>301</th><td>2012</td><td> 1</td><td>Jongno</td><td>110</td><td>1</td><td>154</td></tr>\n",
       "\t<tr><th scope=row>302</th><td>2012</td><td> 2</td><td>Jongno</td><td>118</td><td>1</td><td>177</td></tr>\n",
       "\t<tr><th scope=row>303</th><td>2012</td><td> 3</td><td>Jongno</td><td>126</td><td>1</td><td>186</td></tr>\n",
       "</tbody>\n",
       "</table>\n"
      ],
      "text/latex": [
       "A data.frame: 15 × 6\n",
       "\\begin{tabular}{r|llllll}\n",
       "  & Year & Month & District & Accident & Deaths & Injured\\\\\n",
       "  & <int> & <int> & <fct> & <int> & <int> & <int>\\\\\n",
       "\\hline\n",
       "\t1 & 2011 &  1 & Jongno & 115 & 2 & 165\\\\\n",
       "\t2 & 2011 &  2 & Jongno &  99 & 0 & 134\\\\\n",
       "\t3 & 2011 &  3 & Jongno & 116 & 0 & 162\\\\\n",
       "\t4 & 2011 &  4 & Jongno & 110 & 1 & 153\\\\\n",
       "\t5 & 2011 &  5 & Jongno & 122 & 0 & 157\\\\\n",
       "\t6 & 2011 &  6 & Jongno & 116 & 3 & 163\\\\\n",
       "\t7 & 2011 &  7 & Jongno & 103 & 1 & 154\\\\\n",
       "\t8 & 2011 &  8 & Jongno & 122 & 1 & 171\\\\\n",
       "\t9 & 2011 &  9 & Jongno & 121 & 2 & 166\\\\\n",
       "\t10 & 2011 & 10 & Jongno & 135 & 2 & 193\\\\\n",
       "\t11 & 2011 & 11 & Jongno & 140 & 1 & 204\\\\\n",
       "\t12 & 2011 & 12 & Jongno & 122 & 1 & 172\\\\\n",
       "\t301 & 2012 &  1 & Jongno & 110 & 1 & 154\\\\\n",
       "\t302 & 2012 &  2 & Jongno & 118 & 1 & 177\\\\\n",
       "\t303 & 2012 &  3 & Jongno & 126 & 1 & 186\\\\\n",
       "\\end{tabular}\n"
      ],
      "text/markdown": [
       "\n",
       "A data.frame: 15 × 6\n",
       "\n",
       "| <!--/--> | Year &lt;int&gt; | Month &lt;int&gt; | District &lt;fct&gt; | Accident &lt;int&gt; | Deaths &lt;int&gt; | Injured &lt;int&gt; |\n",
       "|---|---|---|---|---|---|---|\n",
       "| 1 | 2011 |  1 | Jongno | 115 | 2 | 165 |\n",
       "| 2 | 2011 |  2 | Jongno |  99 | 0 | 134 |\n",
       "| 3 | 2011 |  3 | Jongno | 116 | 0 | 162 |\n",
       "| 4 | 2011 |  4 | Jongno | 110 | 1 | 153 |\n",
       "| 5 | 2011 |  5 | Jongno | 122 | 0 | 157 |\n",
       "| 6 | 2011 |  6 | Jongno | 116 | 3 | 163 |\n",
       "| 7 | 2011 |  7 | Jongno | 103 | 1 | 154 |\n",
       "| 8 | 2011 |  8 | Jongno | 122 | 1 | 171 |\n",
       "| 9 | 2011 |  9 | Jongno | 121 | 2 | 166 |\n",
       "| 10 | 2011 | 10 | Jongno | 135 | 2 | 193 |\n",
       "| 11 | 2011 | 11 | Jongno | 140 | 1 | 204 |\n",
       "| 12 | 2011 | 12 | Jongno | 122 | 1 | 172 |\n",
       "| 301 | 2012 |  1 | Jongno | 110 | 1 | 154 |\n",
       "| 302 | 2012 |  2 | Jongno | 118 | 1 | 177 |\n",
       "| 303 | 2012 |  3 | Jongno | 126 | 1 | 186 |\n",
       "\n"
      ],
      "text/plain": [
       "    Year Month District Accident Deaths Injured\n",
       "1   2011  1    Jongno   115      2      165    \n",
       "2   2011  2    Jongno    99      0      134    \n",
       "3   2011  3    Jongno   116      0      162    \n",
       "4   2011  4    Jongno   110      1      153    \n",
       "5   2011  5    Jongno   122      0      157    \n",
       "6   2011  6    Jongno   116      3      163    \n",
       "7   2011  7    Jongno   103      1      154    \n",
       "8   2011  8    Jongno   122      1      171    \n",
       "9   2011  9    Jongno   121      2      166    \n",
       "10  2011 10    Jongno   135      2      193    \n",
       "11  2011 11    Jongno   140      1      204    \n",
       "12  2011 12    Jongno   122      1      172    \n",
       "301 2012  1    Jongno   110      1      154    \n",
       "302 2012  2    Jongno   118      1      177    \n",
       "303 2012  3    Jongno   126      1      186    "
      ]
     },
     "metadata": {},
     "output_type": "display_data"
    }
   ],
   "source": [
    "Jongno <- subset(seoul, District ==\"Jongno\")\n",
    "head(Jongno, 15)"
   ]
  },
  {
   "cell_type": "markdown",
   "metadata": {},
   "source": [
    "### Reset the rownames"
   ]
  },
  {
   "cell_type": "code",
   "execution_count": 29,
   "metadata": {},
   "outputs": [
    {
     "data": {
      "text/html": [
       "<table>\n",
       "<caption>A data.frame: 15 × 6</caption>\n",
       "<thead>\n",
       "\t<tr><th></th><th scope=col>Year</th><th scope=col>Month</th><th scope=col>District</th><th scope=col>Accident</th><th scope=col>Deaths</th><th scope=col>Injured</th></tr>\n",
       "\t<tr><th></th><th scope=col>&lt;int&gt;</th><th scope=col>&lt;int&gt;</th><th scope=col>&lt;fct&gt;</th><th scope=col>&lt;int&gt;</th><th scope=col>&lt;int&gt;</th><th scope=col>&lt;int&gt;</th></tr>\n",
       "</thead>\n",
       "<tbody>\n",
       "\t<tr><th scope=row>1</th><td>2011</td><td> 1</td><td>Jongno</td><td>115</td><td>2</td><td>165</td></tr>\n",
       "\t<tr><th scope=row>2</th><td>2011</td><td> 2</td><td>Jongno</td><td> 99</td><td>0</td><td>134</td></tr>\n",
       "\t<tr><th scope=row>3</th><td>2011</td><td> 3</td><td>Jongno</td><td>116</td><td>0</td><td>162</td></tr>\n",
       "\t<tr><th scope=row>4</th><td>2011</td><td> 4</td><td>Jongno</td><td>110</td><td>1</td><td>153</td></tr>\n",
       "\t<tr><th scope=row>5</th><td>2011</td><td> 5</td><td>Jongno</td><td>122</td><td>0</td><td>157</td></tr>\n",
       "\t<tr><th scope=row>6</th><td>2011</td><td> 6</td><td>Jongno</td><td>116</td><td>3</td><td>163</td></tr>\n",
       "\t<tr><th scope=row>7</th><td>2011</td><td> 7</td><td>Jongno</td><td>103</td><td>1</td><td>154</td></tr>\n",
       "\t<tr><th scope=row>8</th><td>2011</td><td> 8</td><td>Jongno</td><td>122</td><td>1</td><td>171</td></tr>\n",
       "\t<tr><th scope=row>9</th><td>2011</td><td> 9</td><td>Jongno</td><td>121</td><td>2</td><td>166</td></tr>\n",
       "\t<tr><th scope=row>10</th><td>2011</td><td>10</td><td>Jongno</td><td>135</td><td>2</td><td>193</td></tr>\n",
       "\t<tr><th scope=row>11</th><td>2011</td><td>11</td><td>Jongno</td><td>140</td><td>1</td><td>204</td></tr>\n",
       "\t<tr><th scope=row>12</th><td>2011</td><td>12</td><td>Jongno</td><td>122</td><td>1</td><td>172</td></tr>\n",
       "\t<tr><th scope=row>13</th><td>2012</td><td> 1</td><td>Jongno</td><td>110</td><td>1</td><td>154</td></tr>\n",
       "\t<tr><th scope=row>14</th><td>2012</td><td> 2</td><td>Jongno</td><td>118</td><td>1</td><td>177</td></tr>\n",
       "\t<tr><th scope=row>15</th><td>2012</td><td> 3</td><td>Jongno</td><td>126</td><td>1</td><td>186</td></tr>\n",
       "</tbody>\n",
       "</table>\n"
      ],
      "text/latex": [
       "A data.frame: 15 × 6\n",
       "\\begin{tabular}{r|llllll}\n",
       "  & Year & Month & District & Accident & Deaths & Injured\\\\\n",
       "  & <int> & <int> & <fct> & <int> & <int> & <int>\\\\\n",
       "\\hline\n",
       "\t1 & 2011 &  1 & Jongno & 115 & 2 & 165\\\\\n",
       "\t2 & 2011 &  2 & Jongno &  99 & 0 & 134\\\\\n",
       "\t3 & 2011 &  3 & Jongno & 116 & 0 & 162\\\\\n",
       "\t4 & 2011 &  4 & Jongno & 110 & 1 & 153\\\\\n",
       "\t5 & 2011 &  5 & Jongno & 122 & 0 & 157\\\\\n",
       "\t6 & 2011 &  6 & Jongno & 116 & 3 & 163\\\\\n",
       "\t7 & 2011 &  7 & Jongno & 103 & 1 & 154\\\\\n",
       "\t8 & 2011 &  8 & Jongno & 122 & 1 & 171\\\\\n",
       "\t9 & 2011 &  9 & Jongno & 121 & 2 & 166\\\\\n",
       "\t10 & 2011 & 10 & Jongno & 135 & 2 & 193\\\\\n",
       "\t11 & 2011 & 11 & Jongno & 140 & 1 & 204\\\\\n",
       "\t12 & 2011 & 12 & Jongno & 122 & 1 & 172\\\\\n",
       "\t13 & 2012 &  1 & Jongno & 110 & 1 & 154\\\\\n",
       "\t14 & 2012 &  2 & Jongno & 118 & 1 & 177\\\\\n",
       "\t15 & 2012 &  3 & Jongno & 126 & 1 & 186\\\\\n",
       "\\end{tabular}\n"
      ],
      "text/markdown": [
       "\n",
       "A data.frame: 15 × 6\n",
       "\n",
       "| <!--/--> | Year &lt;int&gt; | Month &lt;int&gt; | District &lt;fct&gt; | Accident &lt;int&gt; | Deaths &lt;int&gt; | Injured &lt;int&gt; |\n",
       "|---|---|---|---|---|---|---|\n",
       "| 1 | 2011 |  1 | Jongno | 115 | 2 | 165 |\n",
       "| 2 | 2011 |  2 | Jongno |  99 | 0 | 134 |\n",
       "| 3 | 2011 |  3 | Jongno | 116 | 0 | 162 |\n",
       "| 4 | 2011 |  4 | Jongno | 110 | 1 | 153 |\n",
       "| 5 | 2011 |  5 | Jongno | 122 | 0 | 157 |\n",
       "| 6 | 2011 |  6 | Jongno | 116 | 3 | 163 |\n",
       "| 7 | 2011 |  7 | Jongno | 103 | 1 | 154 |\n",
       "| 8 | 2011 |  8 | Jongno | 122 | 1 | 171 |\n",
       "| 9 | 2011 |  9 | Jongno | 121 | 2 | 166 |\n",
       "| 10 | 2011 | 10 | Jongno | 135 | 2 | 193 |\n",
       "| 11 | 2011 | 11 | Jongno | 140 | 1 | 204 |\n",
       "| 12 | 2011 | 12 | Jongno | 122 | 1 | 172 |\n",
       "| 13 | 2012 |  1 | Jongno | 110 | 1 | 154 |\n",
       "| 14 | 2012 |  2 | Jongno | 118 | 1 | 177 |\n",
       "| 15 | 2012 |  3 | Jongno | 126 | 1 | 186 |\n",
       "\n"
      ],
      "text/plain": [
       "   Year Month District Accident Deaths Injured\n",
       "1  2011  1    Jongno   115      2      165    \n",
       "2  2011  2    Jongno    99      0      134    \n",
       "3  2011  3    Jongno   116      0      162    \n",
       "4  2011  4    Jongno   110      1      153    \n",
       "5  2011  5    Jongno   122      0      157    \n",
       "6  2011  6    Jongno   116      3      163    \n",
       "7  2011  7    Jongno   103      1      154    \n",
       "8  2011  8    Jongno   122      1      171    \n",
       "9  2011  9    Jongno   121      2      166    \n",
       "10 2011 10    Jongno   135      2      193    \n",
       "11 2011 11    Jongno   140      1      204    \n",
       "12 2011 12    Jongno   122      1      172    \n",
       "13 2012  1    Jongno   110      1      154    \n",
       "14 2012  2    Jongno   118      1      177    \n",
       "15 2012  3    Jongno   126      1      186    "
      ]
     },
     "metadata": {},
     "output_type": "display_data"
    }
   ],
   "source": [
    "rownames(Jongno) <- c(NULL) # Alternatively, <- c()\n",
    "head(Jongno, 15)"
   ]
  },
  {
   "cell_type": "markdown",
   "metadata": {},
   "source": [
    "##  Linear Regression Analysis"
   ]
  },
  {
   "cell_type": "code",
   "execution_count": 82,
   "metadata": {},
   "outputs": [
    {
     "data": {
      "text/html": [
       "0.907879257223259"
      ],
      "text/latex": [
       "0.907879257223259"
      ],
      "text/markdown": [
       "0.907879257223259"
      ],
      "text/plain": [
       "[1] 0.9078793"
      ]
     },
     "metadata": {},
     "output_type": "display_data"
    }
   ],
   "source": [
    "cor(Jongno$Accident, Jongno$Injured)\n",
    "\n",
    "# The subset data still shows strong positive correlations."
   ]
  },
  {
   "cell_type": "code",
   "execution_count": 38,
   "metadata": {},
   "outputs": [
    {
     "data": {
      "text/plain": [
       "\n",
       "Call:\n",
       "lm(formula = Jongno$Injured ~ Jongno$Accident)\n",
       "\n",
       "Coefficients:\n",
       "    (Intercept)  Jongno$Accident  \n",
       "          9.342            1.307  \n"
      ]
     },
     "metadata": {},
     "output_type": "display_data"
    },
    {
     "data": {
      "image/png": "[encoded data removed]",
      "text/plain": [
       "plot without title"
      ]
     },
     "metadata": {
      "image/png": {
       "height": 420,
       "width": 420
      },
      "text/plain": {
       "height": 420,
       "width": 420
      }
     },
     "output_type": "display_data"
    }
   ],
   "source": [
    "plot(Jongno$Injured ~ Jongno$Accident)\n",
    "reg <- lm(Jongno$Injured ~ Jongno$Accident)\n",
    "reg\n",
    "abline(reg)"
   ]
  },
  {
   "cell_type": "code",
   "execution_count": 36,
   "metadata": {},
   "outputs": [
    {
     "data": {
      "text/plain": [
       "\n",
       "Call:\n",
       "lm(formula = Jongno$Injured ~ Jongno$Accident)\n",
       "\n",
       "Residuals:\n",
       "    Min      1Q  Median      3Q     Max \n",
       "-21.084  -6.149  -0.410   4.756  33.156 \n",
       "\n",
       "Coefficients:\n",
       "                Estimate Std. Error t value Pr(>|t|)    \n",
       "(Intercept)      9.34192    7.44736   1.254    0.213    \n",
       "Jongno$Accident  1.30662    0.06663  19.610   <2e-16 ***\n",
       "---\n",
       "Signif. codes:  0 ‘***’ 0.001 ‘**’ 0.01 ‘*’ 0.05 ‘.’ 0.1 ‘ ’ 1\n",
       "\n",
       "Residual standard error: 10.08 on 82 degrees of freedom\n",
       "Multiple R-squared:  0.8242,\tAdjusted R-squared:  0.8221 \n",
       "F-statistic: 384.6 on 1 and 82 DF,  p-value: < 2.2e-16\n"
      ]
     },
     "metadata": {},
     "output_type": "display_data"
    }
   ],
   "source": [
    "summary(reg)\n",
    "\n",
    "# The accuracy of regression model is 82.2%"
   ]
  },
  {
   "cell_type": "code",
   "execution_count": 80,
   "metadata": {},
   "outputs": [
    {
     "data": {
      "text/html": [
       "140.042"
      ],
      "text/latex": [
       "140.042"
      ],
      "text/markdown": [
       "140.042"
      ],
      "text/plain": [
       "[1] 140.042"
      ]
     },
     "metadata": {},
     "output_type": "display_data"
    }
   ],
   "source": [
    "accident = 100\n",
    "InjuredJongno = 9.342 + 1.307*accident\n",
    "\n",
    "InjuredJongno \n",
    "\n",
    "# Hence, if 100 accidents occur in Jongno per month, \n",
    "#  approx. 140 injured people are anticipated.\n",
    "\n",
    "# Accuracy of Regression Model is 82.2%."
   ]
  },
  {
   "cell_type": "markdown",
   "metadata": {},
   "source": [
    "### cf. randomForest"
   ]
  },
  {
   "cell_type": "code",
   "execution_count": 33,
   "metadata": {},
   "outputs": [
    {
     "name": "stderr",
     "output_type": "stream",
     "text": [
      "randomForest 4.6-14\n",
      "\n",
      "Type rfNews() to see new features/changes/bug fixes.\n",
      "\n"
     ]
    }
   ],
   "source": [
    "library(randomForest)"
   ]
  },
  {
   "cell_type": "code",
   "execution_count": 34,
   "metadata": {},
   "outputs": [
    {
     "data": {
      "text/html": [
       "<table>\n",
       "<caption>A data.frame: 6 × 6</caption>\n",
       "<thead>\n",
       "\t<tr><th></th><th scope=col>Year</th><th scope=col>Month</th><th scope=col>District</th><th scope=col>Accident</th><th scope=col>Deaths</th><th scope=col>Injured</th></tr>\n",
       "\t<tr><th></th><th scope=col>&lt;int&gt;</th><th scope=col>&lt;int&gt;</th><th scope=col>&lt;fct&gt;</th><th scope=col>&lt;int&gt;</th><th scope=col>&lt;int&gt;</th><th scope=col>&lt;int&gt;</th></tr>\n",
       "</thead>\n",
       "<tbody>\n",
       "\t<tr><th scope=row>1</th><td>2011</td><td>1</td><td>Jongno</td><td>115</td><td>2</td><td>165</td></tr>\n",
       "\t<tr><th scope=row>2</th><td>2011</td><td>2</td><td>Jongno</td><td> 99</td><td>0</td><td>134</td></tr>\n",
       "\t<tr><th scope=row>3</th><td>2011</td><td>3</td><td>Jongno</td><td>116</td><td>0</td><td>162</td></tr>\n",
       "\t<tr><th scope=row>4</th><td>2011</td><td>4</td><td>Jongno</td><td>110</td><td>1</td><td>153</td></tr>\n",
       "\t<tr><th scope=row>5</th><td>2011</td><td>5</td><td>Jongno</td><td>122</td><td>0</td><td>157</td></tr>\n",
       "\t<tr><th scope=row>6</th><td>2011</td><td>6</td><td>Jongno</td><td>116</td><td>3</td><td>163</td></tr>\n",
       "</tbody>\n",
       "</table>\n"
      ],
      "text/latex": [
       "A data.frame: 6 × 6\n",
       "\\begin{tabular}{r|llllll}\n",
       "  & Year & Month & District & Accident & Deaths & Injured\\\\\n",
       "  & <int> & <int> & <fct> & <int> & <int> & <int>\\\\\n",
       "\\hline\n",
       "\t1 & 2011 & 1 & Jongno & 115 & 2 & 165\\\\\n",
       "\t2 & 2011 & 2 & Jongno &  99 & 0 & 134\\\\\n",
       "\t3 & 2011 & 3 & Jongno & 116 & 0 & 162\\\\\n",
       "\t4 & 2011 & 4 & Jongno & 110 & 1 & 153\\\\\n",
       "\t5 & 2011 & 5 & Jongno & 122 & 0 & 157\\\\\n",
       "\t6 & 2011 & 6 & Jongno & 116 & 3 & 163\\\\\n",
       "\\end{tabular}\n"
      ],
      "text/markdown": [
       "\n",
       "A data.frame: 6 × 6\n",
       "\n",
       "| <!--/--> | Year &lt;int&gt; | Month &lt;int&gt; | District &lt;fct&gt; | Accident &lt;int&gt; | Deaths &lt;int&gt; | Injured &lt;int&gt; |\n",
       "|---|---|---|---|---|---|---|\n",
       "| 1 | 2011 | 1 | Jongno | 115 | 2 | 165 |\n",
       "| 2 | 2011 | 2 | Jongno |  99 | 0 | 134 |\n",
       "| 3 | 2011 | 3 | Jongno | 116 | 0 | 162 |\n",
       "| 4 | 2011 | 4 | Jongno | 110 | 1 | 153 |\n",
       "| 5 | 2011 | 5 | Jongno | 122 | 0 | 157 |\n",
       "| 6 | 2011 | 6 | Jongno | 116 | 3 | 163 |\n",
       "\n"
      ],
      "text/plain": [
       "  Year Month District Accident Deaths Injured\n",
       "1 2011 1     Jongno   115      2      165    \n",
       "2 2011 2     Jongno    99      0      134    \n",
       "3 2011 3     Jongno   116      0      162    \n",
       "4 2011 4     Jongno   110      1      153    \n",
       "5 2011 5     Jongno   122      0      157    \n",
       "6 2011 6     Jongno   116      3      163    "
      ]
     },
     "metadata": {},
     "output_type": "display_data"
    }
   ],
   "source": [
    "head(Jongno)"
   ]
  },
  {
   "cell_type": "code",
   "execution_count": 40,
   "metadata": {},
   "outputs": [
    {
     "data": {
      "text/plain": [
       "\n",
       "Call:\n",
       " randomForest(formula = Jongno$Injured ~ Jongno$Accident, data = Jongro,      tree = 100) \n",
       "               Type of random forest: regression\n",
       "                     Number of trees: 500\n",
       "No. of variables tried at each split: 1\n",
       "\n",
       "          Mean of squared residuals: 133.9886\n",
       "                    % Var explained: 76.24"
      ]
     },
     "metadata": {},
     "output_type": "display_data"
    }
   ],
   "source": [
    "randForest <- randomForest(Jongno$Injured ~ Jongno$Accident, data = Jongro, tree = 100)\n",
    "randForest"
   ]
  },
  {
   "cell_type": "markdown",
   "metadata": {},
   "source": [
    "**Note:**\n",
    "- randomForest only has 76.24% accuracy, which is quite lower than simple linear regress model.\n",
    "\n",
    "- Given Injured and Accident data shows strong correlations, simple regression can show relatively accurate model.\n",
    "\n",
    "- So, we can run different models and compare the accuracy, and use the better one."
   ]
  },
  {
   "cell_type": "code",
   "execution_count": null,
   "metadata": {},
   "outputs": [],
   "source": []
  }
 ],
 "metadata": {
  "kernelspec": {
   "display_name": "R",
   "language": "R",
   "name": "ir"
  },
  "language_info": {
   "codemirror_mode": "r",
   "file_extension": ".r",
   "mimetype": "text/x-r-source",
   "name": "R",
   "pygments_lexer": "r",
   "version": "3.6.1"
  },
  "latex_envs": {
   "LaTeX_envs_menu_present": true,
   "autoclose": false,
   "autocomplete": true,
   "bibliofile": "biblio.bib",
   "cite_by": "apalike",
   "current_citInitial": 1,
   "eqLabelWithNumbers": true,
   "eqNumInitial": 1,
   "hotkeys": {
    "equation": "Ctrl-E",
    "itemize": "Ctrl-I"
   },
   "labels_anchors": false,
   "latex_user_defs": false,
   "report_style_numbering": false,
   "user_envs_cfg": false
  },
  "varInspector": {
   "cols": {
    "lenName": 16,
    "lenType": 16,
    "lenVar": 40
   },
   "kernels_config": {
    "python": {
     "delete_cmd_postfix": "",
     "delete_cmd_prefix": "del ",
     "library": "var_list.py",
     "varRefreshCmd": "print(var_dic_list())"
    },
    "r": {
     "delete_cmd_postfix": ") ",
     "delete_cmd_prefix": "rm(",
     "library": "var_list.r",
     "varRefreshCmd": "cat(var_dic_list()) "
    }
   },
   "types_to_exclude": [
    "module",
    "function",
    "builtin_function_or_method",
    "instance",
    "_Feature"
   ],
   "window_display": false
  }
 },
 "nbformat": 4,
 "nbformat_minor": 2
}
