{
 "cells": [
  {
   "cell_type": "markdown",
   "metadata": {},
   "source": [
    "# Digit Recognizer - Kaggle Competition"
   ]
  },
  {
   "cell_type": "markdown",
   "metadata": {},
   "source": [
    "## load data"
   ]
  },
  {
   "cell_type": "code",
   "execution_count": 1,
   "metadata": {},
   "outputs": [],
   "source": [
    "mnist <- read.csv(\"./digit-recognizer/train.csv\")"
   ]
  },
  {
   "cell_type": "code",
   "execution_count": 2,
   "metadata": {},
   "outputs": [
    {
     "data": {
      "text/html": [
       "<table>\n",
       "<caption>A data.frame: 6 × 785</caption>\n",
       "<thead>\n",
       "\t<tr><th></th><th scope=col>label</th><th scope=col>pixel0</th><th scope=col>pixel1</th><th scope=col>pixel2</th><th scope=col>pixel3</th><th scope=col>pixel4</th><th scope=col>pixel5</th><th scope=col>pixel6</th><th scope=col>pixel7</th><th scope=col>pixel8</th><th scope=col>⋯</th><th scope=col>pixel774</th><th scope=col>pixel775</th><th scope=col>pixel776</th><th scope=col>pixel777</th><th scope=col>pixel778</th><th scope=col>pixel779</th><th scope=col>pixel780</th><th scope=col>pixel781</th><th scope=col>pixel782</th><th scope=col>pixel783</th></tr>\n",
       "\t<tr><th></th><th scope=col>&lt;int&gt;</th><th scope=col>&lt;int&gt;</th><th scope=col>&lt;int&gt;</th><th scope=col>&lt;int&gt;</th><th scope=col>&lt;int&gt;</th><th scope=col>&lt;int&gt;</th><th scope=col>&lt;int&gt;</th><th scope=col>&lt;int&gt;</th><th scope=col>&lt;int&gt;</th><th scope=col>&lt;int&gt;</th><th scope=col>⋯</th><th scope=col>&lt;int&gt;</th><th scope=col>&lt;int&gt;</th><th scope=col>&lt;int&gt;</th><th scope=col>&lt;int&gt;</th><th scope=col>&lt;int&gt;</th><th scope=col>&lt;int&gt;</th><th scope=col>&lt;int&gt;</th><th scope=col>&lt;int&gt;</th><th scope=col>&lt;int&gt;</th><th scope=col>&lt;int&gt;</th></tr>\n",
       "</thead>\n",
       "<tbody>\n",
       "\t<tr><th scope=row>1</th><td>1</td><td>0</td><td>0</td><td>0</td><td>0</td><td>0</td><td>0</td><td>0</td><td>0</td><td>0</td><td>⋯</td><td>0</td><td>0</td><td>0</td><td>0</td><td>0</td><td>0</td><td>0</td><td>0</td><td>0</td><td>0</td></tr>\n",
       "\t<tr><th scope=row>2</th><td>0</td><td>0</td><td>0</td><td>0</td><td>0</td><td>0</td><td>0</td><td>0</td><td>0</td><td>0</td><td>⋯</td><td>0</td><td>0</td><td>0</td><td>0</td><td>0</td><td>0</td><td>0</td><td>0</td><td>0</td><td>0</td></tr>\n",
       "\t<tr><th scope=row>3</th><td>1</td><td>0</td><td>0</td><td>0</td><td>0</td><td>0</td><td>0</td><td>0</td><td>0</td><td>0</td><td>⋯</td><td>0</td><td>0</td><td>0</td><td>0</td><td>0</td><td>0</td><td>0</td><td>0</td><td>0</td><td>0</td></tr>\n",
       "\t<tr><th scope=row>4</th><td>4</td><td>0</td><td>0</td><td>0</td><td>0</td><td>0</td><td>0</td><td>0</td><td>0</td><td>0</td><td>⋯</td><td>0</td><td>0</td><td>0</td><td>0</td><td>0</td><td>0</td><td>0</td><td>0</td><td>0</td><td>0</td></tr>\n",
       "\t<tr><th scope=row>5</th><td>0</td><td>0</td><td>0</td><td>0</td><td>0</td><td>0</td><td>0</td><td>0</td><td>0</td><td>0</td><td>⋯</td><td>0</td><td>0</td><td>0</td><td>0</td><td>0</td><td>0</td><td>0</td><td>0</td><td>0</td><td>0</td></tr>\n",
       "\t<tr><th scope=row>6</th><td>0</td><td>0</td><td>0</td><td>0</td><td>0</td><td>0</td><td>0</td><td>0</td><td>0</td><td>0</td><td>⋯</td><td>0</td><td>0</td><td>0</td><td>0</td><td>0</td><td>0</td><td>0</td><td>0</td><td>0</td><td>0</td></tr>\n",
       "</tbody>\n",
       "</table>\n"
      ],
      "text/latex": [
       "A data.frame: 6 × 785\n",
       "\\begin{tabular}{r|lllllllllllllllllllll}\n",
       "  & label & pixel0 & pixel1 & pixel2 & pixel3 & pixel4 & pixel5 & pixel6 & pixel7 & pixel8 & ⋯ & pixel774 & pixel775 & pixel776 & pixel777 & pixel778 & pixel779 & pixel780 & pixel781 & pixel782 & pixel783\\\\\n",
       "  & <int> & <int> & <int> & <int> & <int> & <int> & <int> & <int> & <int> & <int> & ⋯ & <int> & <int> & <int> & <int> & <int> & <int> & <int> & <int> & <int> & <int>\\\\\n",
       "\\hline\n",
       "\t1 & 1 & 0 & 0 & 0 & 0 & 0 & 0 & 0 & 0 & 0 & ⋯ & 0 & 0 & 0 & 0 & 0 & 0 & 0 & 0 & 0 & 0\\\\\n",
       "\t2 & 0 & 0 & 0 & 0 & 0 & 0 & 0 & 0 & 0 & 0 & ⋯ & 0 & 0 & 0 & 0 & 0 & 0 & 0 & 0 & 0 & 0\\\\\n",
       "\t3 & 1 & 0 & 0 & 0 & 0 & 0 & 0 & 0 & 0 & 0 & ⋯ & 0 & 0 & 0 & 0 & 0 & 0 & 0 & 0 & 0 & 0\\\\\n",
       "\t4 & 4 & 0 & 0 & 0 & 0 & 0 & 0 & 0 & 0 & 0 & ⋯ & 0 & 0 & 0 & 0 & 0 & 0 & 0 & 0 & 0 & 0\\\\\n",
       "\t5 & 0 & 0 & 0 & 0 & 0 & 0 & 0 & 0 & 0 & 0 & ⋯ & 0 & 0 & 0 & 0 & 0 & 0 & 0 & 0 & 0 & 0\\\\\n",
       "\t6 & 0 & 0 & 0 & 0 & 0 & 0 & 0 & 0 & 0 & 0 & ⋯ & 0 & 0 & 0 & 0 & 0 & 0 & 0 & 0 & 0 & 0\\\\\n",
       "\\end{tabular}\n"
      ],
      "text/markdown": [
       "\n",
       "A data.frame: 6 × 785\n",
       "\n",
       "| <!--/--> | label &lt;int&gt; | pixel0 &lt;int&gt; | pixel1 &lt;int&gt; | pixel2 &lt;int&gt; | pixel3 &lt;int&gt; | pixel4 &lt;int&gt; | pixel5 &lt;int&gt; | pixel6 &lt;int&gt; | pixel7 &lt;int&gt; | pixel8 &lt;int&gt; | ⋯ ⋯ | pixel774 &lt;int&gt; | pixel775 &lt;int&gt; | pixel776 &lt;int&gt; | pixel777 &lt;int&gt; | pixel778 &lt;int&gt; | pixel779 &lt;int&gt; | pixel780 &lt;int&gt; | pixel781 &lt;int&gt; | pixel782 &lt;int&gt; | pixel783 &lt;int&gt; |\n",
       "|---|---|---|---|---|---|---|---|---|---|---|---|---|---|---|---|---|---|---|---|---|---|\n",
       "| 1 | 1 | 0 | 0 | 0 | 0 | 0 | 0 | 0 | 0 | 0 | ⋯ | 0 | 0 | 0 | 0 | 0 | 0 | 0 | 0 | 0 | 0 |\n",
       "| 2 | 0 | 0 | 0 | 0 | 0 | 0 | 0 | 0 | 0 | 0 | ⋯ | 0 | 0 | 0 | 0 | 0 | 0 | 0 | 0 | 0 | 0 |\n",
       "| 3 | 1 | 0 | 0 | 0 | 0 | 0 | 0 | 0 | 0 | 0 | ⋯ | 0 | 0 | 0 | 0 | 0 | 0 | 0 | 0 | 0 | 0 |\n",
       "| 4 | 4 | 0 | 0 | 0 | 0 | 0 | 0 | 0 | 0 | 0 | ⋯ | 0 | 0 | 0 | 0 | 0 | 0 | 0 | 0 | 0 | 0 |\n",
       "| 5 | 0 | 0 | 0 | 0 | 0 | 0 | 0 | 0 | 0 | 0 | ⋯ | 0 | 0 | 0 | 0 | 0 | 0 | 0 | 0 | 0 | 0 |\n",
       "| 6 | 0 | 0 | 0 | 0 | 0 | 0 | 0 | 0 | 0 | 0 | ⋯ | 0 | 0 | 0 | 0 | 0 | 0 | 0 | 0 | 0 | 0 |\n",
       "\n"
      ],
      "text/plain": [
       "  label pixel0 pixel1 pixel2 pixel3 pixel4 pixel5 pixel6 pixel7 pixel8 ⋯\n",
       "1 1     0      0      0      0      0      0      0      0      0      ⋯\n",
       "2 0     0      0      0      0      0      0      0      0      0      ⋯\n",
       "3 1     0      0      0      0      0      0      0      0      0      ⋯\n",
       "4 4     0      0      0      0      0      0      0      0      0      ⋯\n",
       "5 0     0      0      0      0      0      0      0      0      0      ⋯\n",
       "6 0     0      0      0      0      0      0      0      0      0      ⋯\n",
       "  pixel774 pixel775 pixel776 pixel777 pixel778 pixel779 pixel780 pixel781\n",
       "1 0        0        0        0        0        0        0        0       \n",
       "2 0        0        0        0        0        0        0        0       \n",
       "3 0        0        0        0        0        0        0        0       \n",
       "4 0        0        0        0        0        0        0        0       \n",
       "5 0        0        0        0        0        0        0        0       \n",
       "6 0        0        0        0        0        0        0        0       \n",
       "  pixel782 pixel783\n",
       "1 0        0       \n",
       "2 0        0       \n",
       "3 0        0       \n",
       "4 0        0       \n",
       "5 0        0       \n",
       "6 0        0       "
      ]
     },
     "metadata": {},
     "output_type": "display_data"
    }
   ],
   "source": [
    "head(mnist)"
   ]
  },
  {
   "cell_type": "markdown",
   "metadata": {},
   "source": [
    "## EDA"
   ]
  },
  {
   "cell_type": "markdown",
   "metadata": {},
   "source": [
    "### Visualization"
   ]
  },
  {
   "cell_type": "code",
   "execution_count": 3,
   "metadata": {},
   "outputs": [
    {
     "data": {
      "text/html": [
       "<ol class=list-inline>\n",
       "\t<li>2</li>\n",
       "\t<li>30</li>\n",
       "\t<li>58</li>\n",
       "\t<li>86</li>\n",
       "\t<li>114</li>\n",
       "\t<li>142</li>\n",
       "\t<li>170</li>\n",
       "\t<li>198</li>\n",
       "\t<li>226</li>\n",
       "\t<li>254</li>\n",
       "\t<li>282</li>\n",
       "\t<li>310</li>\n",
       "\t<li>338</li>\n",
       "\t<li>366</li>\n",
       "\t<li>394</li>\n",
       "\t<li>422</li>\n",
       "\t<li>450</li>\n",
       "\t<li>478</li>\n",
       "\t<li>506</li>\n",
       "\t<li>534</li>\n",
       "\t<li>562</li>\n",
       "\t<li>590</li>\n",
       "\t<li>618</li>\n",
       "\t<li>646</li>\n",
       "\t<li>674</li>\n",
       "\t<li>702</li>\n",
       "\t<li>730</li>\n",
       "\t<li>758</li>\n",
       "</ol>\n"
      ],
      "text/latex": [
       "\\begin{enumerate*}\n",
       "\\item 2\n",
       "\\item 30\n",
       "\\item 58\n",
       "\\item 86\n",
       "\\item 114\n",
       "\\item 142\n",
       "\\item 170\n",
       "\\item 198\n",
       "\\item 226\n",
       "\\item 254\n",
       "\\item 282\n",
       "\\item 310\n",
       "\\item 338\n",
       "\\item 366\n",
       "\\item 394\n",
       "\\item 422\n",
       "\\item 450\n",
       "\\item 478\n",
       "\\item 506\n",
       "\\item 534\n",
       "\\item 562\n",
       "\\item 590\n",
       "\\item 618\n",
       "\\item 646\n",
       "\\item 674\n",
       "\\item 702\n",
       "\\item 730\n",
       "\\item 758\n",
       "\\end{enumerate*}\n"
      ],
      "text/markdown": [
       "1. 2\n",
       "2. 30\n",
       "3. 58\n",
       "4. 86\n",
       "5. 114\n",
       "6. 142\n",
       "7. 170\n",
       "8. 198\n",
       "9. 226\n",
       "10. 254\n",
       "11. 282\n",
       "12. 310\n",
       "13. 338\n",
       "14. 366\n",
       "15. 394\n",
       "16. 422\n",
       "17. 450\n",
       "18. 478\n",
       "19. 506\n",
       "20. 534\n",
       "21. 562\n",
       "22. 590\n",
       "23. 618\n",
       "24. 646\n",
       "25. 674\n",
       "26. 702\n",
       "27. 730\n",
       "28. 758\n",
       "\n",
       "\n"
      ],
      "text/plain": [
       " [1]   2  30  58  86 114 142 170 198 226 254 282 310 338 366 394 422 450 478 506\n",
       "[20] 534 562 590 618 646 674 702 730 758"
      ]
     },
     "metadata": {},
     "output_type": "display_data"
    },
    {
     "data": {
      "text/html": [
       "<ol class=list-inline>\n",
       "\t<li>29</li>\n",
       "\t<li>57</li>\n",
       "\t<li>85</li>\n",
       "\t<li>113</li>\n",
       "\t<li>141</li>\n",
       "\t<li>169</li>\n",
       "\t<li>197</li>\n",
       "\t<li>225</li>\n",
       "\t<li>253</li>\n",
       "\t<li>281</li>\n",
       "\t<li>309</li>\n",
       "\t<li>337</li>\n",
       "\t<li>365</li>\n",
       "\t<li>393</li>\n",
       "\t<li>421</li>\n",
       "\t<li>449</li>\n",
       "\t<li>477</li>\n",
       "\t<li>505</li>\n",
       "\t<li>533</li>\n",
       "\t<li>561</li>\n",
       "\t<li>589</li>\n",
       "\t<li>617</li>\n",
       "\t<li>645</li>\n",
       "\t<li>673</li>\n",
       "\t<li>701</li>\n",
       "\t<li>729</li>\n",
       "\t<li>757</li>\n",
       "\t<li>785</li>\n",
       "</ol>\n"
      ],
      "text/latex": [
       "\\begin{enumerate*}\n",
       "\\item 29\n",
       "\\item 57\n",
       "\\item 85\n",
       "\\item 113\n",
       "\\item 141\n",
       "\\item 169\n",
       "\\item 197\n",
       "\\item 225\n",
       "\\item 253\n",
       "\\item 281\n",
       "\\item 309\n",
       "\\item 337\n",
       "\\item 365\n",
       "\\item 393\n",
       "\\item 421\n",
       "\\item 449\n",
       "\\item 477\n",
       "\\item 505\n",
       "\\item 533\n",
       "\\item 561\n",
       "\\item 589\n",
       "\\item 617\n",
       "\\item 645\n",
       "\\item 673\n",
       "\\item 701\n",
       "\\item 729\n",
       "\\item 757\n",
       "\\item 785\n",
       "\\end{enumerate*}\n"
      ],
      "text/markdown": [
       "1. 29\n",
       "2. 57\n",
       "3. 85\n",
       "4. 113\n",
       "5. 141\n",
       "6. 169\n",
       "7. 197\n",
       "8. 225\n",
       "9. 253\n",
       "10. 281\n",
       "11. 309\n",
       "12. 337\n",
       "13. 365\n",
       "14. 393\n",
       "15. 421\n",
       "16. 449\n",
       "17. 477\n",
       "18. 505\n",
       "19. 533\n",
       "20. 561\n",
       "21. 589\n",
       "22. 617\n",
       "23. 645\n",
       "24. 673\n",
       "25. 701\n",
       "26. 729\n",
       "27. 757\n",
       "28. 785\n",
       "\n",
       "\n"
      ],
      "text/plain": [
       " [1]  29  57  85 113 141 169 197 225 253 281 309 337 365 393 421 449 477 505 533\n",
       "[20] 561 589 617 645 673 701 729 757 785"
      ]
     },
     "metadata": {},
     "output_type": "display_data"
    }
   ],
   "source": [
    "numStart <- seq( 2, 785, 28)\n",
    "numEnd   <- seq(29, 785, 28)\n",
    "numStart ; numEnd"
   ]
  },
  {
   "cell_type": "code",
   "execution_count": 4,
   "metadata": {},
   "outputs": [
    {
     "name": "stdout",
     "output_type": "stream",
     "text": [
      "                            \n",
      "                            \n",
      "                            \n",
      "                            \n",
      "                    ***     \n",
      "                   ****     \n",
      "                  *****     \n",
      "                 *****      \n",
      "                *****       \n",
      "               *****        \n",
      "              ******        \n",
      "             *****          \n",
      "            ******          \n",
      "            *****           \n",
      "           ******           \n",
      "           *****            \n",
      "          *****             \n",
      "         *****              \n",
      "         ****               \n",
      "        *****               \n",
      "       *****                \n",
      "       *****                \n",
      "       *****                \n",
      "        ***                 \n",
      "                            \n",
      "                            \n",
      "                            \n",
      "                            \n"
     ]
    }
   ],
   "source": [
    "cnt <- 0\n",
    "for(j in 1:28){\n",
    "    n1 = as.numeric(numStart[j])\n",
    "    n2 = as.numeric(numEnd[j])\n",
    "\n",
    "    for(i in seq(from = n1, to = n2)){\n",
    "\n",
    "        if(mnist[1,i] != 0){           # first number\n",
    "            cat(paste(\"*\"))\n",
    "        }else{\n",
    "            cat(paste(\" \"))\n",
    "        }\n",
    "        cnt = cnt + 1\n",
    "        if(cnt > 27){\n",
    "            cat(paste(\"\\n\"))\n",
    "            cnt = 0\n",
    "        }\n",
    "    }\n",
    "}"
   ]
  },
  {
   "cell_type": "markdown",
   "metadata": {},
   "source": [
    "### Rearrange data with dplyr"
   ]
  },
  {
   "cell_type": "code",
   "execution_count": 5,
   "metadata": {},
   "outputs": [
    {
     "name": "stderr",
     "output_type": "stream",
     "text": [
      "\n",
      "Attaching package: ‘dplyr’\n",
      "\n",
      "\n",
      "The following objects are masked from ‘package:stats’:\n",
      "\n",
      "    filter, lag\n",
      "\n",
      "\n",
      "The following objects are masked from ‘package:base’:\n",
      "\n",
      "    intersect, setdiff, setequal, union\n",
      "\n",
      "\n"
     ]
    }
   ],
   "source": [
    "library(dplyr)"
   ]
  },
  {
   "cell_type": "code",
   "execution_count": 6,
   "metadata": {},
   "outputs": [
    {
     "data": {
      "text/html": [
       "<table>\n",
       "<caption>A data.frame: 6 × 785</caption>\n",
       "<thead>\n",
       "\t<tr><th></th><th scope=col>label</th><th scope=col>pixel0</th><th scope=col>pixel1</th><th scope=col>pixel2</th><th scope=col>pixel3</th><th scope=col>pixel4</th><th scope=col>pixel5</th><th scope=col>pixel6</th><th scope=col>pixel7</th><th scope=col>pixel8</th><th scope=col>⋯</th><th scope=col>pixel774</th><th scope=col>pixel775</th><th scope=col>pixel776</th><th scope=col>pixel777</th><th scope=col>pixel778</th><th scope=col>pixel779</th><th scope=col>pixel780</th><th scope=col>pixel781</th><th scope=col>pixel782</th><th scope=col>pixel783</th></tr>\n",
       "\t<tr><th></th><th scope=col>&lt;int&gt;</th><th scope=col>&lt;int&gt;</th><th scope=col>&lt;int&gt;</th><th scope=col>&lt;int&gt;</th><th scope=col>&lt;int&gt;</th><th scope=col>&lt;int&gt;</th><th scope=col>&lt;int&gt;</th><th scope=col>&lt;int&gt;</th><th scope=col>&lt;int&gt;</th><th scope=col>&lt;int&gt;</th><th scope=col>⋯</th><th scope=col>&lt;int&gt;</th><th scope=col>&lt;int&gt;</th><th scope=col>&lt;int&gt;</th><th scope=col>&lt;int&gt;</th><th scope=col>&lt;int&gt;</th><th scope=col>&lt;int&gt;</th><th scope=col>&lt;int&gt;</th><th scope=col>&lt;int&gt;</th><th scope=col>&lt;int&gt;</th><th scope=col>&lt;int&gt;</th></tr>\n",
       "</thead>\n",
       "<tbody>\n",
       "\t<tr><th scope=row>1</th><td>0</td><td>0</td><td>0</td><td>0</td><td>0</td><td>0</td><td>0</td><td>0</td><td>0</td><td>0</td><td>⋯</td><td>0</td><td>0</td><td>0</td><td>0</td><td>0</td><td>0</td><td>0</td><td>0</td><td>0</td><td>0</td></tr>\n",
       "\t<tr><th scope=row>2</th><td>0</td><td>0</td><td>0</td><td>0</td><td>0</td><td>0</td><td>0</td><td>0</td><td>0</td><td>0</td><td>⋯</td><td>0</td><td>0</td><td>0</td><td>0</td><td>0</td><td>0</td><td>0</td><td>0</td><td>0</td><td>0</td></tr>\n",
       "\t<tr><th scope=row>3</th><td>0</td><td>0</td><td>0</td><td>0</td><td>0</td><td>0</td><td>0</td><td>0</td><td>0</td><td>0</td><td>⋯</td><td>0</td><td>0</td><td>0</td><td>0</td><td>0</td><td>0</td><td>0</td><td>0</td><td>0</td><td>0</td></tr>\n",
       "\t<tr><th scope=row>4</th><td>0</td><td>0</td><td>0</td><td>0</td><td>0</td><td>0</td><td>0</td><td>0</td><td>0</td><td>0</td><td>⋯</td><td>0</td><td>0</td><td>0</td><td>0</td><td>0</td><td>0</td><td>0</td><td>0</td><td>0</td><td>0</td></tr>\n",
       "\t<tr><th scope=row>5</th><td>0</td><td>0</td><td>0</td><td>0</td><td>0</td><td>0</td><td>0</td><td>0</td><td>0</td><td>0</td><td>⋯</td><td>0</td><td>0</td><td>0</td><td>0</td><td>0</td><td>0</td><td>0</td><td>0</td><td>0</td><td>0</td></tr>\n",
       "\t<tr><th scope=row>6</th><td>0</td><td>0</td><td>0</td><td>0</td><td>0</td><td>0</td><td>0</td><td>0</td><td>0</td><td>0</td><td>⋯</td><td>0</td><td>0</td><td>0</td><td>0</td><td>0</td><td>0</td><td>0</td><td>0</td><td>0</td><td>0</td></tr>\n",
       "</tbody>\n",
       "</table>\n"
      ],
      "text/latex": [
       "A data.frame: 6 × 785\n",
       "\\begin{tabular}{r|lllllllllllllllllllll}\n",
       "  & label & pixel0 & pixel1 & pixel2 & pixel3 & pixel4 & pixel5 & pixel6 & pixel7 & pixel8 & ⋯ & pixel774 & pixel775 & pixel776 & pixel777 & pixel778 & pixel779 & pixel780 & pixel781 & pixel782 & pixel783\\\\\n",
       "  & <int> & <int> & <int> & <int> & <int> & <int> & <int> & <int> & <int> & <int> & ⋯ & <int> & <int> & <int> & <int> & <int> & <int> & <int> & <int> & <int> & <int>\\\\\n",
       "\\hline\n",
       "\t1 & 0 & 0 & 0 & 0 & 0 & 0 & 0 & 0 & 0 & 0 & ⋯ & 0 & 0 & 0 & 0 & 0 & 0 & 0 & 0 & 0 & 0\\\\\n",
       "\t2 & 0 & 0 & 0 & 0 & 0 & 0 & 0 & 0 & 0 & 0 & ⋯ & 0 & 0 & 0 & 0 & 0 & 0 & 0 & 0 & 0 & 0\\\\\n",
       "\t3 & 0 & 0 & 0 & 0 & 0 & 0 & 0 & 0 & 0 & 0 & ⋯ & 0 & 0 & 0 & 0 & 0 & 0 & 0 & 0 & 0 & 0\\\\\n",
       "\t4 & 0 & 0 & 0 & 0 & 0 & 0 & 0 & 0 & 0 & 0 & ⋯ & 0 & 0 & 0 & 0 & 0 & 0 & 0 & 0 & 0 & 0\\\\\n",
       "\t5 & 0 & 0 & 0 & 0 & 0 & 0 & 0 & 0 & 0 & 0 & ⋯ & 0 & 0 & 0 & 0 & 0 & 0 & 0 & 0 & 0 & 0\\\\\n",
       "\t6 & 0 & 0 & 0 & 0 & 0 & 0 & 0 & 0 & 0 & 0 & ⋯ & 0 & 0 & 0 & 0 & 0 & 0 & 0 & 0 & 0 & 0\\\\\n",
       "\\end{tabular}\n"
      ],
      "text/markdown": [
       "\n",
       "A data.frame: 6 × 785\n",
       "\n",
       "| <!--/--> | label &lt;int&gt; | pixel0 &lt;int&gt; | pixel1 &lt;int&gt; | pixel2 &lt;int&gt; | pixel3 &lt;int&gt; | pixel4 &lt;int&gt; | pixel5 &lt;int&gt; | pixel6 &lt;int&gt; | pixel7 &lt;int&gt; | pixel8 &lt;int&gt; | ⋯ ⋯ | pixel774 &lt;int&gt; | pixel775 &lt;int&gt; | pixel776 &lt;int&gt; | pixel777 &lt;int&gt; | pixel778 &lt;int&gt; | pixel779 &lt;int&gt; | pixel780 &lt;int&gt; | pixel781 &lt;int&gt; | pixel782 &lt;int&gt; | pixel783 &lt;int&gt; |\n",
       "|---|---|---|---|---|---|---|---|---|---|---|---|---|---|---|---|---|---|---|---|---|---|\n",
       "| 1 | 0 | 0 | 0 | 0 | 0 | 0 | 0 | 0 | 0 | 0 | ⋯ | 0 | 0 | 0 | 0 | 0 | 0 | 0 | 0 | 0 | 0 |\n",
       "| 2 | 0 | 0 | 0 | 0 | 0 | 0 | 0 | 0 | 0 | 0 | ⋯ | 0 | 0 | 0 | 0 | 0 | 0 | 0 | 0 | 0 | 0 |\n",
       "| 3 | 0 | 0 | 0 | 0 | 0 | 0 | 0 | 0 | 0 | 0 | ⋯ | 0 | 0 | 0 | 0 | 0 | 0 | 0 | 0 | 0 | 0 |\n",
       "| 4 | 0 | 0 | 0 | 0 | 0 | 0 | 0 | 0 | 0 | 0 | ⋯ | 0 | 0 | 0 | 0 | 0 | 0 | 0 | 0 | 0 | 0 |\n",
       "| 5 | 0 | 0 | 0 | 0 | 0 | 0 | 0 | 0 | 0 | 0 | ⋯ | 0 | 0 | 0 | 0 | 0 | 0 | 0 | 0 | 0 | 0 |\n",
       "| 6 | 0 | 0 | 0 | 0 | 0 | 0 | 0 | 0 | 0 | 0 | ⋯ | 0 | 0 | 0 | 0 | 0 | 0 | 0 | 0 | 0 | 0 |\n",
       "\n"
      ],
      "text/plain": [
       "  label pixel0 pixel1 pixel2 pixel3 pixel4 pixel5 pixel6 pixel7 pixel8 ⋯\n",
       "1 0     0      0      0      0      0      0      0      0      0      ⋯\n",
       "2 0     0      0      0      0      0      0      0      0      0      ⋯\n",
       "3 0     0      0      0      0      0      0      0      0      0      ⋯\n",
       "4 0     0      0      0      0      0      0      0      0      0      ⋯\n",
       "5 0     0      0      0      0      0      0      0      0      0      ⋯\n",
       "6 0     0      0      0      0      0      0      0      0      0      ⋯\n",
       "  pixel774 pixel775 pixel776 pixel777 pixel778 pixel779 pixel780 pixel781\n",
       "1 0        0        0        0        0        0        0        0       \n",
       "2 0        0        0        0        0        0        0        0       \n",
       "3 0        0        0        0        0        0        0        0       \n",
       "4 0        0        0        0        0        0        0        0       \n",
       "5 0        0        0        0        0        0        0        0       \n",
       "6 0        0        0        0        0        0        0        0       \n",
       "  pixel782 pixel783\n",
       "1 0        0       \n",
       "2 0        0       \n",
       "3 0        0       \n",
       "4 0        0       \n",
       "5 0        0       \n",
       "6 0        0       "
      ]
     },
     "metadata": {},
     "output_type": "display_data"
    },
    {
     "data": {
      "text/html": [
       "<table>\n",
       "<caption>A data.frame: 6 × 785</caption>\n",
       "<thead>\n",
       "\t<tr><th></th><th scope=col>label</th><th scope=col>pixel0</th><th scope=col>pixel1</th><th scope=col>pixel2</th><th scope=col>pixel3</th><th scope=col>pixel4</th><th scope=col>pixel5</th><th scope=col>pixel6</th><th scope=col>pixel7</th><th scope=col>pixel8</th><th scope=col>⋯</th><th scope=col>pixel774</th><th scope=col>pixel775</th><th scope=col>pixel776</th><th scope=col>pixel777</th><th scope=col>pixel778</th><th scope=col>pixel779</th><th scope=col>pixel780</th><th scope=col>pixel781</th><th scope=col>pixel782</th><th scope=col>pixel783</th></tr>\n",
       "\t<tr><th></th><th scope=col>&lt;int&gt;</th><th scope=col>&lt;int&gt;</th><th scope=col>&lt;int&gt;</th><th scope=col>&lt;int&gt;</th><th scope=col>&lt;int&gt;</th><th scope=col>&lt;int&gt;</th><th scope=col>&lt;int&gt;</th><th scope=col>&lt;int&gt;</th><th scope=col>&lt;int&gt;</th><th scope=col>&lt;int&gt;</th><th scope=col>⋯</th><th scope=col>&lt;int&gt;</th><th scope=col>&lt;int&gt;</th><th scope=col>&lt;int&gt;</th><th scope=col>&lt;int&gt;</th><th scope=col>&lt;int&gt;</th><th scope=col>&lt;int&gt;</th><th scope=col>&lt;int&gt;</th><th scope=col>&lt;int&gt;</th><th scope=col>&lt;int&gt;</th><th scope=col>&lt;int&gt;</th></tr>\n",
       "</thead>\n",
       "<tbody>\n",
       "\t<tr><th scope=row>41995</th><td>9</td><td>0</td><td>0</td><td>0</td><td>0</td><td>0</td><td>0</td><td>0</td><td>0</td><td>0</td><td>⋯</td><td>0</td><td>0</td><td>0</td><td>0</td><td>0</td><td>0</td><td>0</td><td>0</td><td>0</td><td>0</td></tr>\n",
       "\t<tr><th scope=row>41996</th><td>9</td><td>0</td><td>0</td><td>0</td><td>0</td><td>0</td><td>0</td><td>0</td><td>0</td><td>0</td><td>⋯</td><td>0</td><td>0</td><td>0</td><td>0</td><td>0</td><td>0</td><td>0</td><td>0</td><td>0</td><td>0</td></tr>\n",
       "\t<tr><th scope=row>41997</th><td>9</td><td>0</td><td>0</td><td>0</td><td>0</td><td>0</td><td>0</td><td>0</td><td>0</td><td>0</td><td>⋯</td><td>0</td><td>0</td><td>0</td><td>0</td><td>0</td><td>0</td><td>0</td><td>0</td><td>0</td><td>0</td></tr>\n",
       "\t<tr><th scope=row>41998</th><td>9</td><td>0</td><td>0</td><td>0</td><td>0</td><td>0</td><td>0</td><td>0</td><td>0</td><td>0</td><td>⋯</td><td>0</td><td>0</td><td>0</td><td>0</td><td>0</td><td>0</td><td>0</td><td>0</td><td>0</td><td>0</td></tr>\n",
       "\t<tr><th scope=row>41999</th><td>9</td><td>0</td><td>0</td><td>0</td><td>0</td><td>0</td><td>0</td><td>0</td><td>0</td><td>0</td><td>⋯</td><td>0</td><td>0</td><td>0</td><td>0</td><td>0</td><td>0</td><td>0</td><td>0</td><td>0</td><td>0</td></tr>\n",
       "\t<tr><th scope=row>42000</th><td>9</td><td>0</td><td>0</td><td>0</td><td>0</td><td>0</td><td>0</td><td>0</td><td>0</td><td>0</td><td>⋯</td><td>0</td><td>0</td><td>0</td><td>0</td><td>0</td><td>0</td><td>0</td><td>0</td><td>0</td><td>0</td></tr>\n",
       "</tbody>\n",
       "</table>\n"
      ],
      "text/latex": [
       "A data.frame: 6 × 785\n",
       "\\begin{tabular}{r|lllllllllllllllllllll}\n",
       "  & label & pixel0 & pixel1 & pixel2 & pixel3 & pixel4 & pixel5 & pixel6 & pixel7 & pixel8 & ⋯ & pixel774 & pixel775 & pixel776 & pixel777 & pixel778 & pixel779 & pixel780 & pixel781 & pixel782 & pixel783\\\\\n",
       "  & <int> & <int> & <int> & <int> & <int> & <int> & <int> & <int> & <int> & <int> & ⋯ & <int> & <int> & <int> & <int> & <int> & <int> & <int> & <int> & <int> & <int>\\\\\n",
       "\\hline\n",
       "\t41995 & 9 & 0 & 0 & 0 & 0 & 0 & 0 & 0 & 0 & 0 & ⋯ & 0 & 0 & 0 & 0 & 0 & 0 & 0 & 0 & 0 & 0\\\\\n",
       "\t41996 & 9 & 0 & 0 & 0 & 0 & 0 & 0 & 0 & 0 & 0 & ⋯ & 0 & 0 & 0 & 0 & 0 & 0 & 0 & 0 & 0 & 0\\\\\n",
       "\t41997 & 9 & 0 & 0 & 0 & 0 & 0 & 0 & 0 & 0 & 0 & ⋯ & 0 & 0 & 0 & 0 & 0 & 0 & 0 & 0 & 0 & 0\\\\\n",
       "\t41998 & 9 & 0 & 0 & 0 & 0 & 0 & 0 & 0 & 0 & 0 & ⋯ & 0 & 0 & 0 & 0 & 0 & 0 & 0 & 0 & 0 & 0\\\\\n",
       "\t41999 & 9 & 0 & 0 & 0 & 0 & 0 & 0 & 0 & 0 & 0 & ⋯ & 0 & 0 & 0 & 0 & 0 & 0 & 0 & 0 & 0 & 0\\\\\n",
       "\t42000 & 9 & 0 & 0 & 0 & 0 & 0 & 0 & 0 & 0 & 0 & ⋯ & 0 & 0 & 0 & 0 & 0 & 0 & 0 & 0 & 0 & 0\\\\\n",
       "\\end{tabular}\n"
      ],
      "text/markdown": [
       "\n",
       "A data.frame: 6 × 785\n",
       "\n",
       "| <!--/--> | label &lt;int&gt; | pixel0 &lt;int&gt; | pixel1 &lt;int&gt; | pixel2 &lt;int&gt; | pixel3 &lt;int&gt; | pixel4 &lt;int&gt; | pixel5 &lt;int&gt; | pixel6 &lt;int&gt; | pixel7 &lt;int&gt; | pixel8 &lt;int&gt; | ⋯ ⋯ | pixel774 &lt;int&gt; | pixel775 &lt;int&gt; | pixel776 &lt;int&gt; | pixel777 &lt;int&gt; | pixel778 &lt;int&gt; | pixel779 &lt;int&gt; | pixel780 &lt;int&gt; | pixel781 &lt;int&gt; | pixel782 &lt;int&gt; | pixel783 &lt;int&gt; |\n",
       "|---|---|---|---|---|---|---|---|---|---|---|---|---|---|---|---|---|---|---|---|---|---|\n",
       "| 41995 | 9 | 0 | 0 | 0 | 0 | 0 | 0 | 0 | 0 | 0 | ⋯ | 0 | 0 | 0 | 0 | 0 | 0 | 0 | 0 | 0 | 0 |\n",
       "| 41996 | 9 | 0 | 0 | 0 | 0 | 0 | 0 | 0 | 0 | 0 | ⋯ | 0 | 0 | 0 | 0 | 0 | 0 | 0 | 0 | 0 | 0 |\n",
       "| 41997 | 9 | 0 | 0 | 0 | 0 | 0 | 0 | 0 | 0 | 0 | ⋯ | 0 | 0 | 0 | 0 | 0 | 0 | 0 | 0 | 0 | 0 |\n",
       "| 41998 | 9 | 0 | 0 | 0 | 0 | 0 | 0 | 0 | 0 | 0 | ⋯ | 0 | 0 | 0 | 0 | 0 | 0 | 0 | 0 | 0 | 0 |\n",
       "| 41999 | 9 | 0 | 0 | 0 | 0 | 0 | 0 | 0 | 0 | 0 | ⋯ | 0 | 0 | 0 | 0 | 0 | 0 | 0 | 0 | 0 | 0 |\n",
       "| 42000 | 9 | 0 | 0 | 0 | 0 | 0 | 0 | 0 | 0 | 0 | ⋯ | 0 | 0 | 0 | 0 | 0 | 0 | 0 | 0 | 0 | 0 |\n",
       "\n"
      ],
      "text/plain": [
       "      label pixel0 pixel1 pixel2 pixel3 pixel4 pixel5 pixel6 pixel7 pixel8 ⋯\n",
       "41995 9     0      0      0      0      0      0      0      0      0      ⋯\n",
       "41996 9     0      0      0      0      0      0      0      0      0      ⋯\n",
       "41997 9     0      0      0      0      0      0      0      0      0      ⋯\n",
       "41998 9     0      0      0      0      0      0      0      0      0      ⋯\n",
       "41999 9     0      0      0      0      0      0      0      0      0      ⋯\n",
       "42000 9     0      0      0      0      0      0      0      0      0      ⋯\n",
       "      pixel774 pixel775 pixel776 pixel777 pixel778 pixel779 pixel780 pixel781\n",
       "41995 0        0        0        0        0        0        0        0       \n",
       "41996 0        0        0        0        0        0        0        0       \n",
       "41997 0        0        0        0        0        0        0        0       \n",
       "41998 0        0        0        0        0        0        0        0       \n",
       "41999 0        0        0        0        0        0        0        0       \n",
       "42000 0        0        0        0        0        0        0        0       \n",
       "      pixel782 pixel783\n",
       "41995 0        0       \n",
       "41996 0        0       \n",
       "41997 0        0       \n",
       "41998 0        0       \n",
       "41999 0        0       \n",
       "42000 0        0       "
      ]
     },
     "metadata": {},
     "output_type": "display_data"
    }
   ],
   "source": [
    "mnistORD <- mnist %>%\n",
    "    arrange(label)\n",
    "\n",
    "head(mnistORD)\n",
    "tail(mnistORD)"
   ]
  },
  {
   "cell_type": "markdown",
   "metadata": {},
   "source": [
    "### Count Numbers"
   ]
  },
  {
   "cell_type": "code",
   "execution_count": 7,
   "metadata": {},
   "outputs": [
    {
     "data": {
      "text/html": [
       "4132"
      ],
      "text/latex": [
       "4132"
      ],
      "text/markdown": [
       "4132"
      ],
      "text/plain": [
       "[1] 4132"
      ]
     },
     "metadata": {},
     "output_type": "display_data"
    }
   ],
   "source": [
    "nrow(subset(mnistORD, label == 0))"
   ]
  },
  {
   "cell_type": "code",
   "execution_count": 8,
   "metadata": {},
   "outputs": [
    {
     "name": "stdout",
     "output_type": "stream",
     "text": [
      "0 : 4132 \n",
      "1 : 4684 \n",
      "2 : 4177 \n",
      "3 : 4351 \n",
      "4 : 4072 \n",
      "5 : 3795 \n",
      "6 : 4137 \n",
      "7 : 4401 \n",
      "8 : 4063 \n",
      "9 : 4188 \n"
     ]
    }
   ],
   "source": [
    "for(i in 0:9){\n",
    "    countNum = nrow(subset(mnist, label == i))\n",
    "    cat(paste(i, \":\", countNum), \"\\n\")\n",
    "}"
   ]
  },
  {
   "cell_type": "markdown",
   "metadata": {},
   "source": [
    "We can see that it is quite evenly distributed."
   ]
  },
  {
   "cell_type": "markdown",
   "metadata": {},
   "source": [
    "### Convert target values as factors"
   ]
  },
  {
   "cell_type": "code",
   "execution_count": 9,
   "metadata": {},
   "outputs": [
    {
     "name": "stdout",
     "output_type": "stream",
     "text": [
      "'data.frame':\t42000 obs. of  785 variables:\n",
      " $ label   : int  0 0 0 0 0 0 0 0 0 0 ...\n",
      " $ pixel0  : int  0 0 0 0 0 0 0 0 0 0 ...\n",
      " $ pixel1  : int  0 0 0 0 0 0 0 0 0 0 ...\n",
      " $ pixel2  : int  0 0 0 0 0 0 0 0 0 0 ...\n",
      " $ pixel3  : int  0 0 0 0 0 0 0 0 0 0 ...\n",
      " $ pixel4  : int  0 0 0 0 0 0 0 0 0 0 ...\n",
      " $ pixel5  : int  0 0 0 0 0 0 0 0 0 0 ...\n",
      " $ pixel6  : int  0 0 0 0 0 0 0 0 0 0 ...\n",
      " $ pixel7  : int  0 0 0 0 0 0 0 0 0 0 ...\n",
      " $ pixel8  : int  0 0 0 0 0 0 0 0 0 0 ...\n",
      " $ pixel9  : int  0 0 0 0 0 0 0 0 0 0 ...\n",
      " $ pixel10 : int  0 0 0 0 0 0 0 0 0 0 ...\n",
      " $ pixel11 : int  0 0 0 0 0 0 0 0 0 0 ...\n",
      " $ pixel12 : int  0 0 0 0 0 0 0 0 0 0 ...\n",
      " $ pixel13 : int  0 0 0 0 0 0 0 0 0 0 ...\n",
      " $ pixel14 : int  0 0 0 0 0 0 0 0 0 0 ...\n",
      " $ pixel15 : int  0 0 0 0 0 0 0 0 0 0 ...\n",
      " $ pixel16 : int  0 0 0 0 0 0 0 0 0 0 ...\n",
      " $ pixel17 : int  0 0 0 0 0 0 0 0 0 0 ...\n",
      " $ pixel18 : int  0 0 0 0 0 0 0 0 0 0 ...\n",
      " $ pixel19 : int  0 0 0 0 0 0 0 0 0 0 ...\n",
      " $ pixel20 : int  0 0 0 0 0 0 0 0 0 0 ...\n",
      " $ pixel21 : int  0 0 0 0 0 0 0 0 0 0 ...\n",
      " $ pixel22 : int  0 0 0 0 0 0 0 0 0 0 ...\n",
      " $ pixel23 : int  0 0 0 0 0 0 0 0 0 0 ...\n",
      " $ pixel24 : int  0 0 0 0 0 0 0 0 0 0 ...\n",
      " $ pixel25 : int  0 0 0 0 0 0 0 0 0 0 ...\n",
      " $ pixel26 : int  0 0 0 0 0 0 0 0 0 0 ...\n",
      " $ pixel27 : int  0 0 0 0 0 0 0 0 0 0 ...\n",
      " $ pixel28 : int  0 0 0 0 0 0 0 0 0 0 ...\n",
      " $ pixel29 : int  0 0 0 0 0 0 0 0 0 0 ...\n",
      " $ pixel30 : int  0 0 0 0 0 0 0 0 0 0 ...\n",
      " $ pixel31 : int  0 0 0 0 0 0 0 0 0 0 ...\n",
      " $ pixel32 : int  0 0 0 0 0 0 0 0 0 0 ...\n",
      " $ pixel33 : int  0 0 0 0 0 0 0 0 0 0 ...\n",
      " $ pixel34 : int  0 0 0 0 0 0 0 0 0 0 ...\n",
      " $ pixel35 : int  0 0 0 0 0 0 0 0 0 0 ...\n",
      " $ pixel36 : int  0 0 0 0 0 0 0 0 0 0 ...\n",
      " $ pixel37 : int  0 0 0 0 0 0 0 0 0 0 ...\n",
      " $ pixel38 : int  0 0 0 0 0 0 0 0 0 0 ...\n",
      " $ pixel39 : int  0 0 0 0 0 0 0 0 0 0 ...\n",
      " $ pixel40 : int  0 0 0 0 0 0 0 0 0 0 ...\n",
      " $ pixel41 : int  0 0 0 0 0 0 0 0 0 0 ...\n",
      " $ pixel42 : int  0 0 0 0 0 0 0 0 0 0 ...\n",
      " $ pixel43 : int  0 0 0 0 0 0 0 0 0 0 ...\n",
      " $ pixel44 : int  0 0 0 0 0 0 0 0 0 0 ...\n",
      " $ pixel45 : int  0 0 0 0 0 0 0 0 0 0 ...\n",
      " $ pixel46 : int  0 0 0 0 0 0 0 0 0 0 ...\n",
      " $ pixel47 : int  0 0 0 0 0 0 0 0 0 0 ...\n",
      " $ pixel48 : int  0 0 0 0 0 0 0 0 0 0 ...\n",
      " $ pixel49 : int  0 0 0 0 0 0 0 0 0 0 ...\n",
      " $ pixel50 : int  0 0 0 0 0 0 0 0 0 0 ...\n",
      " $ pixel51 : int  0 0 0 0 0 0 0 0 0 0 ...\n",
      " $ pixel52 : int  0 0 0 0 0 0 0 0 0 0 ...\n",
      " $ pixel53 : int  0 0 0 0 0 0 0 0 0 0 ...\n",
      " $ pixel54 : int  0 0 0 0 0 0 0 0 0 0 ...\n",
      " $ pixel55 : int  0 0 0 0 0 0 0 0 0 0 ...\n",
      " $ pixel56 : int  0 0 0 0 0 0 0 0 0 0 ...\n",
      " $ pixel57 : int  0 0 0 0 0 0 0 0 0 0 ...\n",
      " $ pixel58 : int  0 0 0 0 0 0 0 0 0 0 ...\n",
      " $ pixel59 : int  0 0 0 0 0 0 0 0 0 0 ...\n",
      " $ pixel60 : int  0 0 0 0 0 0 0 0 0 0 ...\n",
      " $ pixel61 : int  0 0 0 0 0 0 0 0 0 0 ...\n",
      " $ pixel62 : int  0 0 0 0 0 0 0 0 0 0 ...\n",
      " $ pixel63 : int  0 0 0 0 0 0 0 0 0 0 ...\n",
      " $ pixel64 : int  0 0 0 0 0 0 0 0 0 0 ...\n",
      " $ pixel65 : int  0 0 0 0 0 0 0 0 0 0 ...\n",
      " $ pixel66 : int  0 0 0 0 0 0 0 0 0 0 ...\n",
      " $ pixel67 : int  0 0 0 0 0 0 0 0 0 0 ...\n",
      " $ pixel68 : int  0 0 0 0 0 0 0 0 0 0 ...\n",
      " $ pixel69 : int  0 0 0 0 0 0 0 0 0 0 ...\n",
      " $ pixel70 : int  0 0 0 0 0 0 0 0 0 0 ...\n",
      " $ pixel71 : int  0 0 0 0 0 0 0 0 0 0 ...\n",
      " $ pixel72 : int  0 0 0 0 0 0 0 0 0 0 ...\n",
      " $ pixel73 : int  0 0 0 0 0 0 0 0 0 0 ...\n",
      " $ pixel74 : int  0 0 0 0 0 0 0 0 0 0 ...\n",
      " $ pixel75 : int  0 0 0 0 0 0 0 0 0 0 ...\n",
      " $ pixel76 : int  0 0 0 0 0 0 0 0 0 0 ...\n",
      " $ pixel77 : int  0 0 0 0 0 0 0 0 0 0 ...\n",
      " $ pixel78 : int  0 0 0 0 0 0 0 0 0 0 ...\n",
      " $ pixel79 : int  0 0 0 0 0 0 0 0 0 0 ...\n",
      " $ pixel80 : int  0 0 0 0 0 0 0 0 0 0 ...\n",
      " $ pixel81 : int  0 0 0 0 0 0 0 0 0 0 ...\n",
      " $ pixel82 : int  0 0 0 0 0 0 0 0 0 0 ...\n",
      " $ pixel83 : int  0 0 0 0 0 0 0 0 0 0 ...\n",
      " $ pixel84 : int  0 0 0 0 0 0 0 0 0 0 ...\n",
      " $ pixel85 : int  0 0 0 0 0 0 0 0 0 0 ...\n",
      " $ pixel86 : int  0 0 0 0 0 0 0 0 0 0 ...\n",
      " $ pixel87 : int  0 0 0 0 0 0 0 0 0 0 ...\n",
      " $ pixel88 : int  0 0 0 0 0 0 0 0 0 0 ...\n",
      " $ pixel89 : int  0 0 0 0 0 0 0 0 0 0 ...\n",
      " $ pixel90 : int  0 0 0 0 0 0 0 0 0 0 ...\n",
      " $ pixel91 : int  0 0 0 0 0 0 0 0 0 0 ...\n",
      " $ pixel92 : int  0 0 0 0 0 0 0 0 0 0 ...\n",
      " $ pixel93 : int  0 0 0 0 0 0 0 0 0 0 ...\n",
      " $ pixel94 : int  0 0 0 0 0 0 0 0 0 0 ...\n",
      " $ pixel95 : int  0 0 0 0 0 0 0 0 0 0 ...\n",
      " $ pixel96 : int  0 0 0 0 0 0 0 0 0 0 ...\n",
      " $ pixel97 : int  0 0 0 0 0 0 0 0 0 0 ...\n",
      "  [list output truncated]\n"
     ]
    }
   ],
   "source": [
    "str(mnistORD)"
   ]
  },
  {
   "cell_type": "code",
   "execution_count": 10,
   "metadata": {},
   "outputs": [],
   "source": [
    "mnistORD$label <- as.factor(mnistORD$label)"
   ]
  },
  {
   "cell_type": "code",
   "execution_count": 11,
   "metadata": {},
   "outputs": [
    {
     "name": "stdout",
     "output_type": "stream",
     "text": [
      "'data.frame':\t42000 obs. of  785 variables:\n",
      " $ label   : Factor w/ 10 levels \"0\",\"1\",\"2\",\"3\",..: 1 1 1 1 1 1 1 1 1 1 ...\n",
      " $ pixel0  : int  0 0 0 0 0 0 0 0 0 0 ...\n",
      " $ pixel1  : int  0 0 0 0 0 0 0 0 0 0 ...\n",
      " $ pixel2  : int  0 0 0 0 0 0 0 0 0 0 ...\n",
      " $ pixel3  : int  0 0 0 0 0 0 0 0 0 0 ...\n",
      " $ pixel4  : int  0 0 0 0 0 0 0 0 0 0 ...\n",
      " $ pixel5  : int  0 0 0 0 0 0 0 0 0 0 ...\n",
      " $ pixel6  : int  0 0 0 0 0 0 0 0 0 0 ...\n",
      " $ pixel7  : int  0 0 0 0 0 0 0 0 0 0 ...\n",
      " $ pixel8  : int  0 0 0 0 0 0 0 0 0 0 ...\n",
      " $ pixel9  : int  0 0 0 0 0 0 0 0 0 0 ...\n",
      " $ pixel10 : int  0 0 0 0 0 0 0 0 0 0 ...\n",
      " $ pixel11 : int  0 0 0 0 0 0 0 0 0 0 ...\n",
      " $ pixel12 : int  0 0 0 0 0 0 0 0 0 0 ...\n",
      " $ pixel13 : int  0 0 0 0 0 0 0 0 0 0 ...\n",
      " $ pixel14 : int  0 0 0 0 0 0 0 0 0 0 ...\n",
      " $ pixel15 : int  0 0 0 0 0 0 0 0 0 0 ...\n",
      " $ pixel16 : int  0 0 0 0 0 0 0 0 0 0 ...\n",
      " $ pixel17 : int  0 0 0 0 0 0 0 0 0 0 ...\n",
      " $ pixel18 : int  0 0 0 0 0 0 0 0 0 0 ...\n",
      " $ pixel19 : int  0 0 0 0 0 0 0 0 0 0 ...\n",
      " $ pixel20 : int  0 0 0 0 0 0 0 0 0 0 ...\n",
      " $ pixel21 : int  0 0 0 0 0 0 0 0 0 0 ...\n",
      " $ pixel22 : int  0 0 0 0 0 0 0 0 0 0 ...\n",
      " $ pixel23 : int  0 0 0 0 0 0 0 0 0 0 ...\n",
      " $ pixel24 : int  0 0 0 0 0 0 0 0 0 0 ...\n",
      " $ pixel25 : int  0 0 0 0 0 0 0 0 0 0 ...\n",
      " $ pixel26 : int  0 0 0 0 0 0 0 0 0 0 ...\n",
      " $ pixel27 : int  0 0 0 0 0 0 0 0 0 0 ...\n",
      " $ pixel28 : int  0 0 0 0 0 0 0 0 0 0 ...\n",
      " $ pixel29 : int  0 0 0 0 0 0 0 0 0 0 ...\n",
      " $ pixel30 : int  0 0 0 0 0 0 0 0 0 0 ...\n",
      " $ pixel31 : int  0 0 0 0 0 0 0 0 0 0 ...\n",
      " $ pixel32 : int  0 0 0 0 0 0 0 0 0 0 ...\n",
      " $ pixel33 : int  0 0 0 0 0 0 0 0 0 0 ...\n",
      " $ pixel34 : int  0 0 0 0 0 0 0 0 0 0 ...\n",
      " $ pixel35 : int  0 0 0 0 0 0 0 0 0 0 ...\n",
      " $ pixel36 : int  0 0 0 0 0 0 0 0 0 0 ...\n",
      " $ pixel37 : int  0 0 0 0 0 0 0 0 0 0 ...\n",
      " $ pixel38 : int  0 0 0 0 0 0 0 0 0 0 ...\n",
      " $ pixel39 : int  0 0 0 0 0 0 0 0 0 0 ...\n",
      " $ pixel40 : int  0 0 0 0 0 0 0 0 0 0 ...\n",
      " $ pixel41 : int  0 0 0 0 0 0 0 0 0 0 ...\n",
      " $ pixel42 : int  0 0 0 0 0 0 0 0 0 0 ...\n",
      " $ pixel43 : int  0 0 0 0 0 0 0 0 0 0 ...\n",
      " $ pixel44 : int  0 0 0 0 0 0 0 0 0 0 ...\n",
      " $ pixel45 : int  0 0 0 0 0 0 0 0 0 0 ...\n",
      " $ pixel46 : int  0 0 0 0 0 0 0 0 0 0 ...\n",
      " $ pixel47 : int  0 0 0 0 0 0 0 0 0 0 ...\n",
      " $ pixel48 : int  0 0 0 0 0 0 0 0 0 0 ...\n",
      " $ pixel49 : int  0 0 0 0 0 0 0 0 0 0 ...\n",
      " $ pixel50 : int  0 0 0 0 0 0 0 0 0 0 ...\n",
      " $ pixel51 : int  0 0 0 0 0 0 0 0 0 0 ...\n",
      " $ pixel52 : int  0 0 0 0 0 0 0 0 0 0 ...\n",
      " $ pixel53 : int  0 0 0 0 0 0 0 0 0 0 ...\n",
      " $ pixel54 : int  0 0 0 0 0 0 0 0 0 0 ...\n",
      " $ pixel55 : int  0 0 0 0 0 0 0 0 0 0 ...\n",
      " $ pixel56 : int  0 0 0 0 0 0 0 0 0 0 ...\n",
      " $ pixel57 : int  0 0 0 0 0 0 0 0 0 0 ...\n",
      " $ pixel58 : int  0 0 0 0 0 0 0 0 0 0 ...\n",
      " $ pixel59 : int  0 0 0 0 0 0 0 0 0 0 ...\n",
      " $ pixel60 : int  0 0 0 0 0 0 0 0 0 0 ...\n",
      " $ pixel61 : int  0 0 0 0 0 0 0 0 0 0 ...\n",
      " $ pixel62 : int  0 0 0 0 0 0 0 0 0 0 ...\n",
      " $ pixel63 : int  0 0 0 0 0 0 0 0 0 0 ...\n",
      " $ pixel64 : int  0 0 0 0 0 0 0 0 0 0 ...\n",
      " $ pixel65 : int  0 0 0 0 0 0 0 0 0 0 ...\n",
      " $ pixel66 : int  0 0 0 0 0 0 0 0 0 0 ...\n",
      " $ pixel67 : int  0 0 0 0 0 0 0 0 0 0 ...\n",
      " $ pixel68 : int  0 0 0 0 0 0 0 0 0 0 ...\n",
      " $ pixel69 : int  0 0 0 0 0 0 0 0 0 0 ...\n",
      " $ pixel70 : int  0 0 0 0 0 0 0 0 0 0 ...\n",
      " $ pixel71 : int  0 0 0 0 0 0 0 0 0 0 ...\n",
      " $ pixel72 : int  0 0 0 0 0 0 0 0 0 0 ...\n",
      " $ pixel73 : int  0 0 0 0 0 0 0 0 0 0 ...\n",
      " $ pixel74 : int  0 0 0 0 0 0 0 0 0 0 ...\n",
      " $ pixel75 : int  0 0 0 0 0 0 0 0 0 0 ...\n",
      " $ pixel76 : int  0 0 0 0 0 0 0 0 0 0 ...\n",
      " $ pixel77 : int  0 0 0 0 0 0 0 0 0 0 ...\n",
      " $ pixel78 : int  0 0 0 0 0 0 0 0 0 0 ...\n",
      " $ pixel79 : int  0 0 0 0 0 0 0 0 0 0 ...\n",
      " $ pixel80 : int  0 0 0 0 0 0 0 0 0 0 ...\n",
      " $ pixel81 : int  0 0 0 0 0 0 0 0 0 0 ...\n",
      " $ pixel82 : int  0 0 0 0 0 0 0 0 0 0 ...\n",
      " $ pixel83 : int  0 0 0 0 0 0 0 0 0 0 ...\n",
      " $ pixel84 : int  0 0 0 0 0 0 0 0 0 0 ...\n",
      " $ pixel85 : int  0 0 0 0 0 0 0 0 0 0 ...\n",
      " $ pixel86 : int  0 0 0 0 0 0 0 0 0 0 ...\n",
      " $ pixel87 : int  0 0 0 0 0 0 0 0 0 0 ...\n",
      " $ pixel88 : int  0 0 0 0 0 0 0 0 0 0 ...\n",
      " $ pixel89 : int  0 0 0 0 0 0 0 0 0 0 ...\n",
      " $ pixel90 : int  0 0 0 0 0 0 0 0 0 0 ...\n",
      " $ pixel91 : int  0 0 0 0 0 0 0 0 0 0 ...\n",
      " $ pixel92 : int  0 0 0 0 0 0 0 0 0 0 ...\n",
      " $ pixel93 : int  0 0 0 0 0 0 0 0 0 0 ...\n",
      " $ pixel94 : int  0 0 0 0 0 0 0 0 0 0 ...\n",
      " $ pixel95 : int  0 0 0 0 0 0 0 0 0 0 ...\n",
      " $ pixel96 : int  0 0 0 0 0 0 0 0 0 0 ...\n",
      " $ pixel97 : int  0 0 0 0 0 0 0 0 0 0 ...\n",
      "  [list output truncated]\n"
     ]
    }
   ],
   "source": [
    "str(mnistORD)"
   ]
  },
  {
   "cell_type": "markdown",
   "metadata": {},
   "source": [
    "## Sampling"
   ]
  },
  {
   "cell_type": "code",
   "execution_count": 12,
   "metadata": {},
   "outputs": [
    {
     "name": "stderr",
     "output_type": "stream",
     "text": [
      "Loading required package: lattice\n",
      "\n",
      "Loading required package: ggplot2\n",
      "\n"
     ]
    }
   ],
   "source": [
    "library(caret)"
   ]
  },
  {
   "cell_type": "code",
   "execution_count": 13,
   "metadata": {},
   "outputs": [],
   "source": [
    "samp <- createDataPartition(mnist$label, p = 0.7, list = F )"
   ]
  },
  {
   "cell_type": "markdown",
   "metadata": {},
   "source": [
    "## train and test data"
   ]
  },
  {
   "cell_type": "code",
   "execution_count": 14,
   "metadata": {},
   "outputs": [],
   "source": [
    "# train\n",
    "data.train <- mnistORD[samp,]\n",
    "\n",
    "# test\n",
    "data.test <- mnistORD[-samp,]"
   ]
  },
  {
   "cell_type": "markdown",
   "metadata": {},
   "source": [
    "## features and targets"
   ]
  },
  {
   "cell_type": "code",
   "execution_count": 15,
   "metadata": {},
   "outputs": [],
   "source": [
    "# features\n",
    "x <- subset(data.test, select = -label)\n",
    "\n",
    "# targets\n",
    "y <- subset(data.test, select = label)"
   ]
  },
  {
   "cell_type": "markdown",
   "metadata": {},
   "source": [
    "## Machine Learning with randomForest"
   ]
  },
  {
   "cell_type": "code",
   "execution_count": 16,
   "metadata": {},
   "outputs": [
    {
     "name": "stderr",
     "output_type": "stream",
     "text": [
      "randomForest 4.6-14\n",
      "\n",
      "Type rfNews() to see new features/changes/bug fixes.\n",
      "\n",
      "\n",
      "Attaching package: ‘randomForest’\n",
      "\n",
      "\n",
      "The following object is masked from ‘package:ggplot2’:\n",
      "\n",
      "    margin\n",
      "\n",
      "\n",
      "The following object is masked from ‘package:dplyr’:\n",
      "\n",
      "    combine\n",
      "\n",
      "\n"
     ]
    }
   ],
   "source": [
    "library(\"randomForest\")"
   ]
  },
  {
   "cell_type": "code",
   "execution_count": 17,
   "metadata": {},
   "outputs": [],
   "source": [
    "# train a model\n",
    "rf <- randomForest(label ~ ., data = data.train, ntree = 100)"
   ]
  },
  {
   "cell_type": "code",
   "execution_count": 18,
   "metadata": {},
   "outputs": [
    {
     "data": {
      "text/html": [
       "<dl class=dl-horizontal>\n",
       "\t<dt>1</dt>\n",
       "\t\t<dd>0</dd>\n",
       "\t<dt>3</dt>\n",
       "\t\t<dd>0</dd>\n",
       "\t<dt>4</dt>\n",
       "\t\t<dd>0</dd>\n",
       "\t<dt>5</dt>\n",
       "\t\t<dd>0</dd>\n",
       "\t<dt>6</dt>\n",
       "\t\t<dd>0</dd>\n",
       "\t<dt>7</dt>\n",
       "\t\t<dd>0</dd>\n",
       "</dl>\n",
       "\n",
       "<details>\n",
       "\t<summary style=display:list-item;cursor:pointer>\n",
       "\t\t<strong>Levels</strong>:\n",
       "\t</summary>\n",
       "\t<ol class=list-inline>\n",
       "\t\t<li>'0'</li>\n",
       "\t\t<li>'1'</li>\n",
       "\t\t<li>'2'</li>\n",
       "\t\t<li>'3'</li>\n",
       "\t\t<li>'4'</li>\n",
       "\t\t<li>'5'</li>\n",
       "\t\t<li>'6'</li>\n",
       "\t\t<li>'7'</li>\n",
       "\t\t<li>'8'</li>\n",
       "\t\t<li>'9'</li>\n",
       "\t</ol>\n",
       "</details>"
      ],
      "text/latex": [
       "\\begin{description*}\n",
       "\\item[1] 0\n",
       "\\item[3] 0\n",
       "\\item[4] 0\n",
       "\\item[5] 0\n",
       "\\item[6] 0\n",
       "\\item[7] 0\n",
       "\\end{description*}\n",
       "\n",
       "\\emph{Levels}: \\begin{enumerate*}\n",
       "\\item '0'\n",
       "\\item '1'\n",
       "\\item '2'\n",
       "\\item '3'\n",
       "\\item '4'\n",
       "\\item '5'\n",
       "\\item '6'\n",
       "\\item '7'\n",
       "\\item '8'\n",
       "\\item '9'\n",
       "\\end{enumerate*}\n"
      ],
      "text/markdown": [
       "1\n",
       ":   03\n",
       ":   04\n",
       ":   05\n",
       ":   06\n",
       ":   07\n",
       ":   0\n",
       "\n",
       "\n",
       "**Levels**: 1. '0'\n",
       "2. '1'\n",
       "3. '2'\n",
       "4. '3'\n",
       "5. '4'\n",
       "6. '5'\n",
       "7. '6'\n",
       "8. '7'\n",
       "9. '8'\n",
       "10. '9'\n",
       "\n",
       "\n"
      ],
      "text/plain": [
       "1 3 4 5 6 7 \n",
       "0 0 0 0 0 0 \n",
       "Levels: 0 1 2 3 4 5 6 7 8 9"
      ]
     },
     "metadata": {},
     "output_type": "display_data"
    }
   ],
   "source": [
    "# compute predictions\n",
    "\n",
    "pred <- predict(rf, x)\n",
    "head(pred)"
   ]
  },
  {
   "cell_type": "code",
   "execution_count": 19,
   "metadata": {},
   "outputs": [
    {
     "data": {
      "text/plain": [
       "    \n",
       "pred    0    1    2    3    4    5    6    7    8    9\n",
       "   0 1287    0    2    2    2    4    7    0    1    6\n",
       "   1    0 1393    0    0    1    1    2    7    5    1\n",
       "   2    2    7 1152   18    3    1    0   12    7    2\n",
       "   3    0    2    6 1196    0   18    0    2   16   23\n",
       "   4    0    4    3    1 1181    2    2    4    1   15\n",
       "   5    3    1    0   15    1 1139    7    0   14    7\n",
       "   6    6    2    6    1    5    5 1301    0    4    0\n",
       "   7    0    3   12    9    2    1    1 1214    0   11\n",
       "   8    4    2    9   14    4    7    6    3 1149   12\n",
       "   9    0    2    2    4   14    7    0   18   16 1153"
      ]
     },
     "metadata": {},
     "output_type": "display_data"
    }
   ],
   "source": [
    "# classified table\n",
    "\n",
    "table(pred, data.test$label)"
   ]
  },
  {
   "cell_type": "code",
   "execution_count": 20,
   "metadata": {},
   "outputs": [
    {
     "data": {
      "text/html": [
       "0.965706120504882"
      ],
      "text/latex": [
       "0.965706120504882"
      ],
      "text/markdown": [
       "0.965706120504882"
      ],
      "text/plain": [
       "[1] 0.9657061"
      ]
     },
     "metadata": {},
     "output_type": "display_data"
    },
    {
     "name": "stdout",
     "output_type": "stream",
     "text": [
      "Accuracy: 96.57 %"
     ]
    }
   ],
   "source": [
    "mean(pred == data.test$label)\n",
    "\n",
    "cat(paste(\"Accuracy:\", round(mean(pred == data.test$label)*100, 2), \"%\"))"
   ]
  },
  {
   "cell_type": "code",
   "execution_count": null,
   "metadata": {},
   "outputs": [],
   "source": []
  },
  {
   "cell_type": "markdown",
   "metadata": {},
   "source": [
    "# Re-train with entire train data"
   ]
  },
  {
   "cell_type": "code",
   "execution_count": null,
   "metadata": {},
   "outputs": [],
   "source": [
    "# train a model\n",
    "rf_train <- randomForest(label ~ ., data = mnistORD, ntree = 100)"
   ]
  },
  {
   "cell_type": "code",
   "execution_count": null,
   "metadata": {},
   "outputs": [],
   "source": []
  },
  {
   "cell_type": "code",
   "execution_count": null,
   "metadata": {},
   "outputs": [],
   "source": [
    "saveRDS(\"./digit-recognizer/rf_\")"
   ]
  }
 ],
 "metadata": {
  "kernelspec": {
   "display_name": "R",
   "language": "R",
   "name": "ir"
  },
  "language_info": {
   "codemirror_mode": "r",
   "file_extension": ".r",
   "mimetype": "text/x-r-source",
   "name": "R",
   "pygments_lexer": "r",
   "version": "3.6.1"
  },
  "toc": {
   "base_numbering": 1,
   "nav_menu": {},
   "number_sections": true,
   "sideBar": true,
   "skip_h1_title": false,
   "title_cell": "Table of Contents",
   "title_sidebar": "Contents",
   "toc_cell": false,
   "toc_position": {},
   "toc_section_display": true,
   "toc_window_display": true
  }
 },
 "nbformat": 4,
 "nbformat_minor": 2
}
