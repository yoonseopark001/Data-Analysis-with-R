{
 "cells": [
  {
   "cell_type": "markdown",
   "metadata": {},
   "source": [
    "# Simple Regression"
   ]
  },
  {
   "cell_type": "markdown",
   "metadata": {},
   "source": [
    "##### Load data"
   ]
  },
  {
   "cell_type": "code",
   "execution_count": 5,
   "metadata": {
    "scrolled": true
   },
   "outputs": [],
   "source": [
    "heightWeight <- read.csv(\"./Data/heightweight.csv\")"
   ]
  },
  {
   "cell_type": "markdown",
   "metadata": {},
   "source": [
    "###### Basic Data Exporation"
   ]
  },
  {
   "cell_type": "code",
   "execution_count": 47,
   "metadata": {
    "scrolled": false
   },
   "outputs": [
    {
     "data": {
      "text/html": [
       "<table>\n",
       "<caption>A data.frame: 6 × 3</caption>\n",
       "<thead>\n",
       "\t<tr><th></th><th scope=col>age</th><th scope=col>Height</th><th scope=col>Weight</th></tr>\n",
       "\t<tr><th></th><th scope=col>&lt;fct&gt;</th><th scope=col>&lt;dbl&gt;</th><th scope=col>&lt;dbl&gt;</th></tr>\n",
       "</thead>\n",
       "<tbody>\n",
       "\t<tr><th scope=row>1</th><td>0~3Months  </td><td>59.1</td><td> 5.9</td></tr>\n",
       "\t<tr><th scope=row>2</th><td>3~6Months  </td><td>66.7</td><td> 8.0</td></tr>\n",
       "\t<tr><th scope=row>3</th><td>6~9Months  </td><td>71.4</td><td> 8.9</td></tr>\n",
       "\t<tr><th scope=row>4</th><td>9~12Months </td><td>75.0</td><td>10.1</td></tr>\n",
       "\t<tr><th scope=row>5</th><td>12~18Months</td><td>80.1</td><td>10.9</td></tr>\n",
       "\t<tr><th scope=row>6</th><td>2Year      </td><td>87.8</td><td>13.2</td></tr>\n",
       "</tbody>\n",
       "</table>\n"
      ],
      "text/latex": [
       "A data.frame: 6 × 3\n",
       "\\begin{tabular}{r|lll}\n",
       "  & age & Height & Weight\\\\\n",
       "  & <fct> & <dbl> & <dbl>\\\\\n",
       "\\hline\n",
       "\t1 & 0\\textasciitilde{}3Months   & 59.1 &  5.9\\\\\n",
       "\t2 & 3\\textasciitilde{}6Months   & 66.7 &  8.0\\\\\n",
       "\t3 & 6\\textasciitilde{}9Months   & 71.4 &  8.9\\\\\n",
       "\t4 & 9\\textasciitilde{}12Months  & 75.0 & 10.1\\\\\n",
       "\t5 & 12\\textasciitilde{}18Months & 80.1 & 10.9\\\\\n",
       "\t6 & 2Year       & 87.8 & 13.2\\\\\n",
       "\\end{tabular}\n"
      ],
      "text/markdown": [
       "\n",
       "A data.frame: 6 × 3\n",
       "\n",
       "| <!--/--> | age &lt;fct&gt; | Height &lt;dbl&gt; | Weight &lt;dbl&gt; |\n",
       "|---|---|---|---|\n",
       "| 1 | 0~3Months   | 59.1 |  5.9 |\n",
       "| 2 | 3~6Months   | 66.7 |  8.0 |\n",
       "| 3 | 6~9Months   | 71.4 |  8.9 |\n",
       "| 4 | 9~12Months  | 75.0 | 10.1 |\n",
       "| 5 | 12~18Months | 80.1 | 10.9 |\n",
       "| 6 | 2Year       | 87.8 | 13.2 |\n",
       "\n"
      ],
      "text/plain": [
       "  age         Height Weight\n",
       "1 0~3Months   59.1    5.9  \n",
       "2 3~6Months   66.7    8.0  \n",
       "3 6~9Months   71.4    8.9  \n",
       "4 9~12Months  75.0   10.1  \n",
       "5 12~18Months 80.1   10.9  \n",
       "6 2Year       87.8   13.2  "
      ]
     },
     "metadata": {},
     "output_type": "display_data"
    },
    {
     "data": {
      "text/html": [
       "<table>\n",
       "<caption>A data.frame: 6 × 3</caption>\n",
       "<thead>\n",
       "\t<tr><th></th><th scope=col>age</th><th scope=col>Height</th><th scope=col>Weight</th></tr>\n",
       "\t<tr><th></th><th scope=col>&lt;fct&gt;</th><th scope=col>&lt;dbl&gt;</th><th scope=col>&lt;dbl&gt;</th></tr>\n",
       "</thead>\n",
       "<tbody>\n",
       "\t<tr><th scope=row>26</th><td>30~34Year </td><td>171.3</td><td>71.5</td></tr>\n",
       "\t<tr><th scope=row>27</th><td>35~39Year </td><td>170.7</td><td>72.3</td></tr>\n",
       "\t<tr><th scope=row>28</th><td>40~49Year </td><td>168.6</td><td>70.6</td></tr>\n",
       "\t<tr><th scope=row>29</th><td>50~59Year </td><td>166.1</td><td>69.1</td></tr>\n",
       "\t<tr><th scope=row>30</th><td>60~69Year </td><td>164.4</td><td>65.9</td></tr>\n",
       "\t<tr><th scope=row>31</th><td>70YearOver</td><td>162.4</td><td>61.1</td></tr>\n",
       "</tbody>\n",
       "</table>\n"
      ],
      "text/latex": [
       "A data.frame: 6 × 3\n",
       "\\begin{tabular}{r|lll}\n",
       "  & age & Height & Weight\\\\\n",
       "  & <fct> & <dbl> & <dbl>\\\\\n",
       "\\hline\n",
       "\t26 & 30\\textasciitilde{}34Year  & 171.3 & 71.5\\\\\n",
       "\t27 & 35\\textasciitilde{}39Year  & 170.7 & 72.3\\\\\n",
       "\t28 & 40\\textasciitilde{}49Year  & 168.6 & 70.6\\\\\n",
       "\t29 & 50\\textasciitilde{}59Year  & 166.1 & 69.1\\\\\n",
       "\t30 & 60\\textasciitilde{}69Year  & 164.4 & 65.9\\\\\n",
       "\t31 & 70YearOver & 162.4 & 61.1\\\\\n",
       "\\end{tabular}\n"
      ],
      "text/markdown": [
       "\n",
       "A data.frame: 6 × 3\n",
       "\n",
       "| <!--/--> | age &lt;fct&gt; | Height &lt;dbl&gt; | Weight &lt;dbl&gt; |\n",
       "|---|---|---|---|\n",
       "| 26 | 30~34Year  | 171.3 | 71.5 |\n",
       "| 27 | 35~39Year  | 170.7 | 72.3 |\n",
       "| 28 | 40~49Year  | 168.6 | 70.6 |\n",
       "| 29 | 50~59Year  | 166.1 | 69.1 |\n",
       "| 30 | 60~69Year  | 164.4 | 65.9 |\n",
       "| 31 | 70YearOver | 162.4 | 61.1 |\n",
       "\n"
      ],
      "text/plain": [
       "   age        Height Weight\n",
       "26 30~34Year  171.3  71.5  \n",
       "27 35~39Year  170.7  72.3  \n",
       "28 40~49Year  168.6  70.6  \n",
       "29 50~59Year  166.1  69.1  \n",
       "30 60~69Year  164.4  65.9  \n",
       "31 70YearOver 162.4  61.1  "
      ]
     },
     "metadata": {},
     "output_type": "display_data"
    }
   ],
   "source": [
    "head(heightWeight)\n",
    "tail(heightWeight)"
   ]
  },
  {
   "cell_type": "code",
   "execution_count": 10,
   "metadata": {},
   "outputs": [
    {
     "data": {
      "text/plain": [
       "   Min. 1st Qu.  Median    Mean 3rd Qu.    Max. \n",
       "   59.1   105.7   150.7   135.8   169.8   173.8 "
      ]
     },
     "metadata": {},
     "output_type": "display_data"
    },
    {
     "data": {
      "text/plain": [
       "   Min. 1st Qu.  Median    Mean 3rd Qu.    Max. \n",
       "   5.90   17.90   45.20   42.62   66.65   72.30 "
      ]
     },
     "metadata": {},
     "output_type": "display_data"
    }
   ],
   "source": [
    "summary(heightWeight$Height)\n",
    "summary(heightWeight$Weight)"
   ]
  },
  {
   "cell_type": "code",
   "execution_count": 11,
   "metadata": {},
   "outputs": [
    {
     "data": {
      "image/png": "[encoded data removed]",
      "text/plain": [
       "Plot with title “Histogram of heightWeight$Height”"
      ]
     },
     "metadata": {
      "image/png": {
       "height": 420,
       "width": 420
      },
      "text/plain": {
       "height": 420,
       "width": 420
      }
     },
     "output_type": "display_data"
    },
    {
     "data": {
      "image/png": "[encoded data removed]",
      "text/plain": [
       "Plot with title “Histogram of heightWeight$Weight”"
      ]
     },
     "metadata": {
      "image/png": {
       "height": 420,
       "width": 420
      },
      "text/plain": {
       "height": 420,
       "width": 420
      }
     },
     "output_type": "display_data"
    }
   ],
   "source": [
    "hist(heightWeight$Height)\n",
    "hist(heightWeight$Weight)"
   ]
  },
  {
   "cell_type": "code",
   "execution_count": 13,
   "metadata": {},
   "outputs": [
    {
     "data": {
      "image/png": "[encoded data removed]",
      "text/plain": [
       "plot without title"
      ]
     },
     "metadata": {
      "image/png": {
       "height": 420,
       "width": 420
      },
      "text/plain": {
       "height": 420,
       "width": 420
      }
     },
     "output_type": "display_data"
    }
   ],
   "source": [
    "boxplot(heightWeight$Height, heightWeight$Weight) \n",
    "# to check if there is an outlier"
   ]
  },
  {
   "cell_type": "code",
   "execution_count": 14,
   "metadata": {},
   "outputs": [
    {
     "data": {
      "image/png": "[encoded data removed]",
      "text/plain": [
       "plot without title"
      ]
     },
     "metadata": {
      "image/png": {
       "height": 420,
       "width": 420
      },
      "text/plain": {
       "height": 420,
       "width": 420
      }
     },
     "output_type": "display_data"
    }
   ],
   "source": [
    "plot(heightWeight$Height, heightWeight$Weight)"
   ]
  },
  {
   "cell_type": "code",
   "execution_count": 15,
   "metadata": {},
   "outputs": [
    {
     "data": {
      "text/html": [
       "0.967210305922711"
      ],
      "text/latex": [
       "0.967210305922711"
      ],
      "text/markdown": [
       "0.967210305922711"
      ],
      "text/plain": [
       "[1] 0.9672103"
      ]
     },
     "metadata": {},
     "output_type": "display_data"
    }
   ],
   "source": [
    "cor(heightWeight$Height, heightWeight$Weight)"
   ]
  },
  {
   "cell_type": "markdown",
   "metadata": {},
   "source": [
    "###### : Since the two variables are 96.7% correlated, the regression will be meaningful."
   ]
  },
  {
   "cell_type": "markdown",
   "metadata": {},
   "source": [
    "H0 = Weight is not predicted by Height.  \n",
    "H1 = Weight is predicted by Height. "
   ]
  },
  {
   "cell_type": "code",
   "execution_count": 17,
   "metadata": {},
   "outputs": [
    {
     "data": {
      "text/plain": [
       "\n",
       "Call:\n",
       "lm(formula = heightWeight$Weight ~ regression$Height)\n",
       "\n",
       "Coefficients:\n",
       "      (Intercept)  regression$Height  \n",
       "         -40.8659             0.6147  \n"
      ]
     },
     "metadata": {},
     "output_type": "display_data"
    }
   ],
   "source": [
    "r <- lm(heightWeight$Weight ~ regression$Height)\n",
    "r"
   ]
  },
  {
   "cell_type": "markdown",
   "metadata": {},
   "source": [
    "This shows `weight = -40.8659 + 0.6147 * height`."
   ]
  },
  {
   "cell_type": "code",
   "execution_count": 18,
   "metadata": {},
   "outputs": [
    {
     "data": {
      "image/png": "[encoded data removed]",
      "text/plain": [
       "plot without title"
      ]
     },
     "metadata": {
      "image/png": {
       "height": 420,
       "width": 420
      },
      "text/plain": {
       "height": 420,
       "width": 420
      }
     },
     "output_type": "display_data"
    }
   ],
   "source": [
    "plot(heightWeight$Weight ~ regression$Height)\n",
    "abline(r)"
   ]
  },
  {
   "cell_type": "code",
   "execution_count": 19,
   "metadata": {},
   "outputs": [
    {
     "data": {
      "text/plain": [
       "\n",
       "Call:\n",
       "lm(formula = heightWeight$Weight ~ regression$Height)\n",
       "\n",
       "Residuals:\n",
       "    Min      1Q  Median      3Q     Max \n",
       "-9.2327 -5.9811  0.0915  5.3125 10.4346 \n",
       "\n",
       "Coefficients:\n",
       "                   Estimate Std. Error t value Pr(>|t|)    \n",
       "(Intercept)       -40.86594    4.22768  -9.666 1.42e-10 ***\n",
       "regression$Height   0.61474    0.02998  20.508  < 2e-16 ***\n",
       "---\n",
       "Signif. codes:  0 ‘***’ 0.001 ‘**’ 0.01 ‘*’ 0.05 ‘.’ 0.1 ‘ ’ 1\n",
       "\n",
       "Residual standard error: 6.355 on 29 degrees of freedom\n",
       "Multiple R-squared:  0.9355,\tAdjusted R-squared:  0.9333 \n",
       "F-statistic: 420.6 on 1 and 29 DF,  p-value: < 2.2e-16\n"
      ]
     },
     "metadata": {},
     "output_type": "display_data"
    }
   ],
   "source": [
    "summary(r)"
   ]
  },
  {
   "cell_type": "markdown",
   "metadata": {},
   "source": [
    "###### Also, this summary tell you :\n",
    "- H0 is rejected because p-value 2.2e-16 is less than 0.05. So, we can predict weight by height and it's statictically significant (***)\n",
    "- The description of this model is 93.3% (Adjusted R-squared)"
   ]
  },
  {
   "cell_type": "code",
   "execution_count": 45,
   "metadata": {},
   "outputs": [],
   "source": [
    "weightByHeight <- function(x){\n",
    "    weight = -40.8659 + 0.6147 * x\n",
    "    cat(paste(\"Expected weight is \", weight))\n",
    "}"
   ]
  },
  {
   "cell_type": "code",
   "execution_count": 46,
   "metadata": {},
   "outputs": [
    {
     "name": "stdout",
     "output_type": "stream",
     "text": [
      "Expected weight is  63.6331"
     ]
    }
   ],
   "source": [
    "weightByHeight(170)"
   ]
  },
  {
   "cell_type": "code",
   "execution_count": null,
   "metadata": {},
   "outputs": [],
   "source": []
  }
 ],
 "metadata": {
  "kernelspec": {
   "display_name": "R",
   "language": "R",
   "name": "ir"
  },
  "language_info": {
   "codemirror_mode": "r",
   "file_extension": ".r",
   "mimetype": "text/x-r-source",
   "name": "R",
   "pygments_lexer": "r",
   "version": "3.6.1"
  }
 },
 "nbformat": 4,
 "nbformat_minor": 2
}
