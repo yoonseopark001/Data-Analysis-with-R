{
 "cells": [
  {
   "cell_type": "code",
   "execution_count": 10,
   "metadata": {},
   "outputs": [
    {
     "name": "stderr",
     "output_type": "stream",
     "text": [
      "Loading required package: lattice\n",
      "\n",
      "Loading required package: ggplot2\n",
      "\n",
      "Loading required package: grid\n",
      "\n",
      "Loading required package: mvtnorm\n",
      "\n",
      "Loading required package: modeltools\n",
      "\n",
      "Loading required package: stats4\n",
      "\n",
      "Loading required package: strucchange\n",
      "\n",
      "Loading required package: zoo\n",
      "\n",
      "\n",
      "Attaching package: ‘zoo’\n",
      "\n",
      "\n",
      "The following objects are masked from ‘package:base’:\n",
      "\n",
      "    as.Date, as.Date.numeric\n",
      "\n",
      "\n",
      "Loading required package: sandwich\n",
      "\n"
     ]
    }
   ],
   "source": [
    "library(caret)\n",
    "library(party) #ctree\n",
    "library(e1071)"
   ]
  },
  {
   "cell_type": "markdown",
   "metadata": {},
   "source": [
    "# cTree: Conditional Inference Trees"
   ]
  },
  {
   "cell_type": "markdown",
   "metadata": {},
   "source": [
    "## Load Data"
   ]
  },
  {
   "cell_type": "code",
   "execution_count": 106,
   "metadata": {},
   "outputs": [],
   "source": [
    "data(iris)"
   ]
  },
  {
   "cell_type": "markdown",
   "metadata": {},
   "source": [
    "## Split the Data into Training set and Test set"
   ]
  },
  {
   "cell_type": "markdown",
   "metadata": {},
   "source": [
    "### Sampling"
   ]
  },
  {
   "cell_type": "markdown",
   "metadata": {},
   "source": [
    "#### Option 1\n",
    "- `set.seed()`  can fix random seed"
   ]
  },
  {
   "cell_type": "code",
   "execution_count": 107,
   "metadata": {},
   "outputs": [
    {
     "data": {
      "text/html": [
       "<ol class=list-inline>\n",
       "\t<li>31</li>\n",
       "\t<li>15</li>\n",
       "\t<li>14</li>\n",
       "\t<li>3</li>\n",
       "\t<li>42</li>\n",
       "\t<li>43</li>\n",
       "\t<li>37</li>\n",
       "\t<li>48</li>\n",
       "\t<li>25</li>\n",
       "\t<li>26</li>\n",
       "\t<li>27</li>\n",
       "\t<li>5</li>\n",
       "\t<li>40</li>\n",
       "\t<li>28</li>\n",
       "\t<li>9</li>\n",
       "\t<li>29</li>\n",
       "\t<li>8</li>\n",
       "\t<li>41</li>\n",
       "\t<li>7</li>\n",
       "\t<li>10</li>\n",
       "\t<li>36</li>\n",
       "\t<li>19</li>\n",
       "\t<li>4</li>\n",
       "\t<li>45</li>\n",
       "\t<li>17</li>\n",
       "\t<li>11</li>\n",
       "\t<li>32</li>\n",
       "\t<li>21</li>\n",
       "\t<li>12</li>\n",
       "\t<li>49</li>\n",
       "\t<li>50</li>\n",
       "\t<li>13</li>\n",
       "\t<li>24</li>\n",
       "\t<li>30</li>\n",
       "\t<li>33</li>\n",
       "\t<li>60</li>\n",
       "\t<li>73</li>\n",
       "\t<li>77</li>\n",
       "\t<li>57</li>\n",
       "\t<li>98</li>\n",
       "\t<li>82</li>\n",
       "\t<li>88</li>\n",
       "\t<li>75</li>\n",
       "\t<li>84</li>\n",
       "\t<li>79</li>\n",
       "\t<li>55</li>\n",
       "\t<li>58</li>\n",
       "\t<li>62</li>\n",
       "\t<li>63</li>\n",
       "\t<li>68</li>\n",
       "\t<li>83</li>\n",
       "\t<li>96</li>\n",
       "\t<li>93</li>\n",
       "\t<li>56</li>\n",
       "\t<li>71</li>\n",
       "\t<li>65</li>\n",
       "\t<li>59</li>\n",
       "\t<li>80</li>\n",
       "\t<li>76</li>\n",
       "\t<li>66</li>\n",
       "\t<li>70</li>\n",
       "\t<li>95</li>\n",
       "\t<li>61</li>\n",
       "\t<li>89</li>\n",
       "\t<li>97</li>\n",
       "\t<li>92</li>\n",
       "\t<li>67</li>\n",
       "\t<li>86</li>\n",
       "\t<li>69</li>\n",
       "\t<li>52</li>\n",
       "\t<li>104</li>\n",
       "\t<li>113</li>\n",
       "\t<li>105</li>\n",
       "\t<li>125</li>\n",
       "\t<li>122</li>\n",
       "\t<li>147</li>\n",
       "\t<li>132</li>\n",
       "\t<li>145</li>\n",
       "\t<li>123</li>\n",
       "\t<li>135</li>\n",
       "\t<li>140</li>\n",
       "\t<li>130</li>\n",
       "\t<li>112</li>\n",
       "\t<li>131</li>\n",
       "\t<li>139</li>\n",
       "\t<li>141</li>\n",
       "\t<li>114</li>\n",
       "\t<li>129</li>\n",
       "\t<li>144</li>\n",
       "\t<li>107</li>\n",
       "\t<li>103</li>\n",
       "\t<li>142</li>\n",
       "\t<li>146</li>\n",
       "\t<li>126</li>\n",
       "\t<li>115</li>\n",
       "\t<li>121</li>\n",
       "\t<li>148</li>\n",
       "\t<li>108</li>\n",
       "\t<li>119</li>\n",
       "\t<li>110</li>\n",
       "\t<li>118</li>\n",
       "\t<li>143</li>\n",
       "\t<li>138</li>\n",
       "\t<li>102</li>\n",
       "\t<li>128</li>\n",
       "</ol>\n"
      ],
      "text/latex": [
       "\\begin{enumerate*}\n",
       "\\item 31\n",
       "\\item 15\n",
       "\\item 14\n",
       "\\item 3\n",
       "\\item 42\n",
       "\\item 43\n",
       "\\item 37\n",
       "\\item 48\n",
       "\\item 25\n",
       "\\item 26\n",
       "\\item 27\n",
       "\\item 5\n",
       "\\item 40\n",
       "\\item 28\n",
       "\\item 9\n",
       "\\item 29\n",
       "\\item 8\n",
       "\\item 41\n",
       "\\item 7\n",
       "\\item 10\n",
       "\\item 36\n",
       "\\item 19\n",
       "\\item 4\n",
       "\\item 45\n",
       "\\item 17\n",
       "\\item 11\n",
       "\\item 32\n",
       "\\item 21\n",
       "\\item 12\n",
       "\\item 49\n",
       "\\item 50\n",
       "\\item 13\n",
       "\\item 24\n",
       "\\item 30\n",
       "\\item 33\n",
       "\\item 60\n",
       "\\item 73\n",
       "\\item 77\n",
       "\\item 57\n",
       "\\item 98\n",
       "\\item 82\n",
       "\\item 88\n",
       "\\item 75\n",
       "\\item 84\n",
       "\\item 79\n",
       "\\item 55\n",
       "\\item 58\n",
       "\\item 62\n",
       "\\item 63\n",
       "\\item 68\n",
       "\\item 83\n",
       "\\item 96\n",
       "\\item 93\n",
       "\\item 56\n",
       "\\item 71\n",
       "\\item 65\n",
       "\\item 59\n",
       "\\item 80\n",
       "\\item 76\n",
       "\\item 66\n",
       "\\item 70\n",
       "\\item 95\n",
       "\\item 61\n",
       "\\item 89\n",
       "\\item 97\n",
       "\\item 92\n",
       "\\item 67\n",
       "\\item 86\n",
       "\\item 69\n",
       "\\item 52\n",
       "\\item 104\n",
       "\\item 113\n",
       "\\item 105\n",
       "\\item 125\n",
       "\\item 122\n",
       "\\item 147\n",
       "\\item 132\n",
       "\\item 145\n",
       "\\item 123\n",
       "\\item 135\n",
       "\\item 140\n",
       "\\item 130\n",
       "\\item 112\n",
       "\\item 131\n",
       "\\item 139\n",
       "\\item 141\n",
       "\\item 114\n",
       "\\item 129\n",
       "\\item 144\n",
       "\\item 107\n",
       "\\item 103\n",
       "\\item 142\n",
       "\\item 146\n",
       "\\item 126\n",
       "\\item 115\n",
       "\\item 121\n",
       "\\item 148\n",
       "\\item 108\n",
       "\\item 119\n",
       "\\item 110\n",
       "\\item 118\n",
       "\\item 143\n",
       "\\item 138\n",
       "\\item 102\n",
       "\\item 128\n",
       "\\end{enumerate*}\n"
      ],
      "text/markdown": [
       "1. 31\n",
       "2. 15\n",
       "3. 14\n",
       "4. 3\n",
       "5. 42\n",
       "6. 43\n",
       "7. 37\n",
       "8. 48\n",
       "9. 25\n",
       "10. 26\n",
       "11. 27\n",
       "12. 5\n",
       "13. 40\n",
       "14. 28\n",
       "15. 9\n",
       "16. 29\n",
       "17. 8\n",
       "18. 41\n",
       "19. 7\n",
       "20. 10\n",
       "21. 36\n",
       "22. 19\n",
       "23. 4\n",
       "24. 45\n",
       "25. 17\n",
       "26. 11\n",
       "27. 32\n",
       "28. 21\n",
       "29. 12\n",
       "30. 49\n",
       "31. 50\n",
       "32. 13\n",
       "33. 24\n",
       "34. 30\n",
       "35. 33\n",
       "36. 60\n",
       "37. 73\n",
       "38. 77\n",
       "39. 57\n",
       "40. 98\n",
       "41. 82\n",
       "42. 88\n",
       "43. 75\n",
       "44. 84\n",
       "45. 79\n",
       "46. 55\n",
       "47. 58\n",
       "48. 62\n",
       "49. 63\n",
       "50. 68\n",
       "51. 83\n",
       "52. 96\n",
       "53. 93\n",
       "54. 56\n",
       "55. 71\n",
       "56. 65\n",
       "57. 59\n",
       "58. 80\n",
       "59. 76\n",
       "60. 66\n",
       "61. 70\n",
       "62. 95\n",
       "63. 61\n",
       "64. 89\n",
       "65. 97\n",
       "66. 92\n",
       "67. 67\n",
       "68. 86\n",
       "69. 69\n",
       "70. 52\n",
       "71. 104\n",
       "72. 113\n",
       "73. 105\n",
       "74. 125\n",
       "75. 122\n",
       "76. 147\n",
       "77. 132\n",
       "78. 145\n",
       "79. 123\n",
       "80. 135\n",
       "81. 140\n",
       "82. 130\n",
       "83. 112\n",
       "84. 131\n",
       "85. 139\n",
       "86. 141\n",
       "87. 114\n",
       "88. 129\n",
       "89. 144\n",
       "90. 107\n",
       "91. 103\n",
       "92. 142\n",
       "93. 146\n",
       "94. 126\n",
       "95. 115\n",
       "96. 121\n",
       "97. 148\n",
       "98. 108\n",
       "99. 119\n",
       "100. 110\n",
       "101. 118\n",
       "102. 143\n",
       "103. 138\n",
       "104. 102\n",
       "105. 128\n",
       "\n",
       "\n"
      ],
      "text/plain": [
       "  [1]  31  15  14   3  42  43  37  48  25  26  27   5  40  28   9  29   8  41\n",
       " [19]   7  10  36  19   4  45  17  11  32  21  12  49  50  13  24  30  33  60\n",
       " [37]  73  77  57  98  82  88  75  84  79  55  58  62  63  68  83  96  93  56\n",
       " [55]  71  65  59  80  76  66  70  95  61  89  97  92  67  86  69  52 104 113\n",
       " [73] 105 125 122 147 132 145 123 135 140 130 112 131 139 141 114 129 144 107\n",
       " [91] 103 142 146 126 115 121 148 108 119 110 118 143 138 102 128"
      ]
     },
     "metadata": {},
     "output_type": "display_data"
    }
   ],
   "source": [
    "set.seed(123)\n",
    "samp <- c(sample(1:50, 35), sample(51:100, 35), sample(101:150, 35))\n",
    "samp"
   ]
  },
  {
   "cell_type": "markdown",
   "metadata": {},
   "source": [
    "#### Option 2\n",
    "- If you want to run different samples, use `createDataPartition`.\n",
    "- `set.seed()` does NOT affect the random generation\n",
    "- `list = T`: list type ; `list = F` matrix type"
   ]
  },
  {
   "cell_type": "code",
   "execution_count": 108,
   "metadata": {},
   "outputs": [],
   "source": [
    "# samp <- createDataPartition(iris$Species, p = 0.7, list = T) "
   ]
  },
  {
   "cell_type": "code",
   "execution_count": null,
   "metadata": {},
   "outputs": [],
   "source": [
    "# samp <- head(createDataPartition(iris$Species, p = 0.7, list = F))"
   ]
  },
  {
   "cell_type": "markdown",
   "metadata": {},
   "source": [
    "### Create training and testing set"
   ]
  },
  {
   "cell_type": "code",
   "execution_count": 109,
   "metadata": {
    "code_folding": []
   },
   "outputs": [
    {
     "data": {
      "text/html": [
       "<table>\n",
       "<caption>A data.frame: 6 × 5</caption>\n",
       "<thead>\n",
       "\t<tr><th></th><th scope=col>Sepal.Length</th><th scope=col>Sepal.Width</th><th scope=col>Petal.Length</th><th scope=col>Petal.Width</th><th scope=col>Species</th></tr>\n",
       "\t<tr><th></th><th scope=col>&lt;dbl&gt;</th><th scope=col>&lt;dbl&gt;</th><th scope=col>&lt;dbl&gt;</th><th scope=col>&lt;dbl&gt;</th><th scope=col>&lt;fct&gt;</th></tr>\n",
       "</thead>\n",
       "<tbody>\n",
       "\t<tr><th scope=row>31</th><td>4.8</td><td>3.1</td><td>1.6</td><td>0.2</td><td>setosa</td></tr>\n",
       "\t<tr><th scope=row>15</th><td>5.8</td><td>4.0</td><td>1.2</td><td>0.2</td><td>setosa</td></tr>\n",
       "\t<tr><th scope=row>14</th><td>4.3</td><td>3.0</td><td>1.1</td><td>0.1</td><td>setosa</td></tr>\n",
       "\t<tr><th scope=row>3</th><td>4.7</td><td>3.2</td><td>1.3</td><td>0.2</td><td>setosa</td></tr>\n",
       "\t<tr><th scope=row>42</th><td>4.5</td><td>2.3</td><td>1.3</td><td>0.3</td><td>setosa</td></tr>\n",
       "\t<tr><th scope=row>43</th><td>4.4</td><td>3.2</td><td>1.3</td><td>0.2</td><td>setosa</td></tr>\n",
       "</tbody>\n",
       "</table>\n"
      ],
      "text/latex": [
       "A data.frame: 6 × 5\n",
       "\\begin{tabular}{r|lllll}\n",
       "  & Sepal.Length & Sepal.Width & Petal.Length & Petal.Width & Species\\\\\n",
       "  & <dbl> & <dbl> & <dbl> & <dbl> & <fct>\\\\\n",
       "\\hline\n",
       "\t31 & 4.8 & 3.1 & 1.6 & 0.2 & setosa\\\\\n",
       "\t15 & 5.8 & 4.0 & 1.2 & 0.2 & setosa\\\\\n",
       "\t14 & 4.3 & 3.0 & 1.1 & 0.1 & setosa\\\\\n",
       "\t3 & 4.7 & 3.2 & 1.3 & 0.2 & setosa\\\\\n",
       "\t42 & 4.5 & 2.3 & 1.3 & 0.3 & setosa\\\\\n",
       "\t43 & 4.4 & 3.2 & 1.3 & 0.2 & setosa\\\\\n",
       "\\end{tabular}\n"
      ],
      "text/markdown": [
       "\n",
       "A data.frame: 6 × 5\n",
       "\n",
       "| <!--/--> | Sepal.Length &lt;dbl&gt; | Sepal.Width &lt;dbl&gt; | Petal.Length &lt;dbl&gt; | Petal.Width &lt;dbl&gt; | Species &lt;fct&gt; |\n",
       "|---|---|---|---|---|---|\n",
       "| 31 | 4.8 | 3.1 | 1.6 | 0.2 | setosa |\n",
       "| 15 | 5.8 | 4.0 | 1.2 | 0.2 | setosa |\n",
       "| 14 | 4.3 | 3.0 | 1.1 | 0.1 | setosa |\n",
       "| 3 | 4.7 | 3.2 | 1.3 | 0.2 | setosa |\n",
       "| 42 | 4.5 | 2.3 | 1.3 | 0.3 | setosa |\n",
       "| 43 | 4.4 | 3.2 | 1.3 | 0.2 | setosa |\n",
       "\n"
      ],
      "text/plain": [
       "   Sepal.Length Sepal.Width Petal.Length Petal.Width Species\n",
       "31 4.8          3.1         1.6          0.2         setosa \n",
       "15 5.8          4.0         1.2          0.2         setosa \n",
       "14 4.3          3.0         1.1          0.1         setosa \n",
       "3  4.7          3.2         1.3          0.2         setosa \n",
       "42 4.5          2.3         1.3          0.3         setosa \n",
       "43 4.4          3.2         1.3          0.2         setosa "
      ]
     },
     "metadata": {},
     "output_type": "display_data"
    }
   ],
   "source": [
    "train_set <- iris[samp,]\n",
    "test_set <- iris[-samp,]\n",
    "head(train_set)"
   ]
  },
  {
   "cell_type": "code",
   "execution_count": null,
   "metadata": {},
   "outputs": [],
   "source": []
  },
  {
   "cell_type": "markdown",
   "metadata": {},
   "source": [
    "## Train with training set"
   ]
  },
  {
   "cell_type": "code",
   "execution_count": 110,
   "metadata": {},
   "outputs": [
    {
     "data": {
      "text/plain": [
       "\n",
       "\t Conditional inference tree with 4 terminal nodes\n",
       "\n",
       "Response:  Species \n",
       "Inputs:  Sepal.Length, Sepal.Width, Petal.Length, Petal.Width \n",
       "Number of observations:  105 \n",
       "\n",
       "1) Petal.Length <= 1.9; criterion = 1, statistic = 98.171\n",
       "  2)*  weights = 35 \n",
       "1) Petal.Length > 1.9\n",
       "  3) Petal.Width <= 1.6; criterion = 1, statistic = 48.475\n",
       "    4) Petal.Length <= 4.5; criterion = 0.999, statistic = 14.282\n",
       "      5)*  weights = 27 \n",
       "    4) Petal.Length > 4.5\n",
       "      6)*  weights = 9 \n",
       "  3) Petal.Width > 1.6\n",
       "    7)*  weights = 34 "
      ]
     },
     "metadata": {},
     "output_type": "display_data"
    }
   ],
   "source": [
    "formula <- Species ~ Sepal.Length + Sepal.Width + Petal.Length + Petal.Width\n",
    "iris_tree <- ctree(formula, data = train_set)\n",
    "iris_tree"
   ]
  },
  {
   "cell_type": "markdown",
   "metadata": {},
   "source": [
    "=> _Petal.Length: 1)_ and _Petal.Width: 3)_ are the key variables wither _higher statistic_."
   ]
  },
  {
   "cell_type": "code",
   "execution_count": 111,
   "metadata": {},
   "outputs": [
    {
     "data": {
      "image/png": "[encoded data removed]",
      "text/plain": [
       "plot without title"
      ]
     },
     "metadata": {
      "image/png": {
       "height": 420,
       "width": 420
      },
      "text/plain": {
       "height": 420,
       "width": 420
      }
     },
     "output_type": "display_data"
    }
   ],
   "source": [
    "plot(iris_tree, \n",
    "     #type = 'simple'\n",
    "    )"
   ]
  },
  {
   "cell_type": "code",
   "execution_count": 112,
   "metadata": {},
   "outputs": [],
   "source": [
    "# Alternatively,"
   ]
  },
  {
   "cell_type": "code",
   "execution_count": 113,
   "metadata": {},
   "outputs": [
    {
     "data": {
      "text/plain": [
       "\n",
       "\t Conditional inference tree with 4 terminal nodes\n",
       "\n",
       "Response:  Species \n",
       "Inputs:  Sepal.Length, Sepal.Width, Petal.Length, Petal.Width \n",
       "Number of observations:  105 \n",
       "\n",
       "1) Petal.Length <= 1.9; criterion = 1, statistic = 98.171\n",
       "  2)*  weights = 35 \n",
       "1) Petal.Length > 1.9\n",
       "  3) Petal.Width <= 1.6; criterion = 1, statistic = 48.475\n",
       "    4) Petal.Length <= 4.5; criterion = 0.999, statistic = 14.282\n",
       "      5)*  weights = 27 \n",
       "    4) Petal.Length > 4.5\n",
       "      6)*  weights = 9 \n",
       "  3) Petal.Width > 1.6\n",
       "    7)*  weights = 34 "
      ]
     },
     "metadata": {},
     "output_type": "display_data"
    }
   ],
   "source": [
    "irisTree <- ctree(Species ~., data = train_set)\n",
    "irisTree"
   ]
  },
  {
   "cell_type": "code",
   "execution_count": 114,
   "metadata": {},
   "outputs": [
    {
     "data": {
      "image/png": "[encoded data removed]",
      "text/plain": [
       "plot without title"
      ]
     },
     "metadata": {
      "image/png": {
       "height": 420,
       "width": 420
      },
      "text/plain": {
       "height": 420,
       "width": 420
      }
     },
     "output_type": "display_data"
    }
   ],
   "source": [
    "plot(irisTree)"
   ]
  },
  {
   "cell_type": "code",
   "execution_count": 115,
   "metadata": {},
   "outputs": [],
   "source": [
    "# Graph options,"
   ]
  },
  {
   "cell_type": "code",
   "execution_count": 116,
   "metadata": {},
   "outputs": [
    {
     "data": {
      "image/png": "[encoded data removed]",
      "text/plain": [
       "plot without title"
      ]
     },
     "metadata": {
      "image/png": {
       "height": 420,
       "width": 420
      },
      "text/plain": {
       "height": 420,
       "width": 420
      }
     },
     "output_type": "display_data"
    }
   ],
   "source": [
    "plot(irisTree,\n",
    "     inner_panel = node_barplot,\n",
    "     #edge_panel = function(...) invisible(),\n",
    "     tnex = 1)"
   ]
  },
  {
   "cell_type": "markdown",
   "metadata": {},
   "source": [
    "## Predict with testing set"
   ]
  },
  {
   "cell_type": "code",
   "execution_count": 122,
   "metadata": {},
   "outputs": [
    {
     "data": {
      "text/html": [
       "<table>\n",
       "<caption>A data.frame: 6 × 5</caption>\n",
       "<thead>\n",
       "\t<tr><th></th><th scope=col>Sepal.Length</th><th scope=col>Sepal.Width</th><th scope=col>Petal.Length</th><th scope=col>Petal.Width</th><th scope=col>Species</th></tr>\n",
       "\t<tr><th></th><th scope=col>&lt;dbl&gt;</th><th scope=col>&lt;dbl&gt;</th><th scope=col>&lt;dbl&gt;</th><th scope=col>&lt;dbl&gt;</th><th scope=col>&lt;fct&gt;</th></tr>\n",
       "</thead>\n",
       "<tbody>\n",
       "\t<tr><th scope=row>1</th><td>5.1</td><td>3.5</td><td>1.4</td><td>0.2</td><td>setosa</td></tr>\n",
       "\t<tr><th scope=row>2</th><td>4.9</td><td>3.0</td><td>1.4</td><td>0.2</td><td>setosa</td></tr>\n",
       "\t<tr><th scope=row>6</th><td>5.4</td><td>3.9</td><td>1.7</td><td>0.4</td><td>setosa</td></tr>\n",
       "\t<tr><th scope=row>16</th><td>5.7</td><td>4.4</td><td>1.5</td><td>0.4</td><td>setosa</td></tr>\n",
       "\t<tr><th scope=row>18</th><td>5.1</td><td>3.5</td><td>1.4</td><td>0.3</td><td>setosa</td></tr>\n",
       "\t<tr><th scope=row>20</th><td>5.1</td><td>3.8</td><td>1.5</td><td>0.3</td><td>setosa</td></tr>\n",
       "</tbody>\n",
       "</table>\n"
      ],
      "text/latex": [
       "A data.frame: 6 × 5\n",
       "\\begin{tabular}{r|lllll}\n",
       "  & Sepal.Length & Sepal.Width & Petal.Length & Petal.Width & Species\\\\\n",
       "  & <dbl> & <dbl> & <dbl> & <dbl> & <fct>\\\\\n",
       "\\hline\n",
       "\t1 & 5.1 & 3.5 & 1.4 & 0.2 & setosa\\\\\n",
       "\t2 & 4.9 & 3.0 & 1.4 & 0.2 & setosa\\\\\n",
       "\t6 & 5.4 & 3.9 & 1.7 & 0.4 & setosa\\\\\n",
       "\t16 & 5.7 & 4.4 & 1.5 & 0.4 & setosa\\\\\n",
       "\t18 & 5.1 & 3.5 & 1.4 & 0.3 & setosa\\\\\n",
       "\t20 & 5.1 & 3.8 & 1.5 & 0.3 & setosa\\\\\n",
       "\\end{tabular}\n"
      ],
      "text/markdown": [
       "\n",
       "A data.frame: 6 × 5\n",
       "\n",
       "| <!--/--> | Sepal.Length &lt;dbl&gt; | Sepal.Width &lt;dbl&gt; | Petal.Length &lt;dbl&gt; | Petal.Width &lt;dbl&gt; | Species &lt;fct&gt; |\n",
       "|---|---|---|---|---|---|\n",
       "| 1 | 5.1 | 3.5 | 1.4 | 0.2 | setosa |\n",
       "| 2 | 4.9 | 3.0 | 1.4 | 0.2 | setosa |\n",
       "| 6 | 5.4 | 3.9 | 1.7 | 0.4 | setosa |\n",
       "| 16 | 5.7 | 4.4 | 1.5 | 0.4 | setosa |\n",
       "| 18 | 5.1 | 3.5 | 1.4 | 0.3 | setosa |\n",
       "| 20 | 5.1 | 3.8 | 1.5 | 0.3 | setosa |\n",
       "\n"
      ],
      "text/plain": [
       "   Sepal.Length Sepal.Width Petal.Length Petal.Width Species\n",
       "1  5.1          3.5         1.4          0.2         setosa \n",
       "2  4.9          3.0         1.4          0.2         setosa \n",
       "6  5.4          3.9         1.7          0.4         setosa \n",
       "16 5.7          4.4         1.5          0.4         setosa \n",
       "18 5.1          3.5         1.4          0.3         setosa \n",
       "20 5.1          3.8         1.5          0.3         setosa "
      ]
     },
     "metadata": {},
     "output_type": "display_data"
    }
   ],
   "source": [
    "head(test_set)"
   ]
  },
  {
   "cell_type": "code",
   "execution_count": 117,
   "metadata": {},
   "outputs": [
    {
     "data": {
      "text/html": [
       "<ol class=list-inline>\n",
       "\t<li>setosa</li>\n",
       "\t<li>setosa</li>\n",
       "\t<li>setosa</li>\n",
       "\t<li>setosa</li>\n",
       "\t<li>setosa</li>\n",
       "\t<li>setosa</li>\n",
       "\t<li>setosa</li>\n",
       "\t<li>setosa</li>\n",
       "\t<li>setosa</li>\n",
       "\t<li>setosa</li>\n",
       "\t<li>setosa</li>\n",
       "\t<li>setosa</li>\n",
       "\t<li>setosa</li>\n",
       "\t<li>setosa</li>\n",
       "\t<li>setosa</li>\n",
       "\t<li>versicolor</li>\n",
       "\t<li>versicolor</li>\n",
       "\t<li>versicolor</li>\n",
       "\t<li>versicolor</li>\n",
       "\t<li>versicolor</li>\n",
       "\t<li>versicolor</li>\n",
       "\t<li>virginica</li>\n",
       "\t<li>versicolor</li>\n",
       "\t<li>versicolor</li>\n",
       "\t<li>versicolor</li>\n",
       "\t<li>versicolor</li>\n",
       "\t<li>versicolor</li>\n",
       "\t<li>versicolor</li>\n",
       "\t<li>versicolor</li>\n",
       "\t<li>versicolor</li>\n",
       "\t<li>virginica</li>\n",
       "\t<li>virginica</li>\n",
       "\t<li>virginica</li>\n",
       "\t<li>virginica</li>\n",
       "\t<li>virginica</li>\n",
       "\t<li>virginica</li>\n",
       "\t<li>versicolor</li>\n",
       "\t<li>virginica</li>\n",
       "\t<li>virginica</li>\n",
       "\t<li>virginica</li>\n",
       "\t<li>versicolor</li>\n",
       "\t<li>virginica</li>\n",
       "\t<li>virginica</li>\n",
       "\t<li>virginica</li>\n",
       "\t<li>virginica</li>\n",
       "</ol>\n",
       "\n",
       "<details>\n",
       "\t<summary style=display:list-item;cursor:pointer>\n",
       "\t\t<strong>Levels</strong>:\n",
       "\t</summary>\n",
       "\t<ol class=list-inline>\n",
       "\t\t<li>'setosa'</li>\n",
       "\t\t<li>'versicolor'</li>\n",
       "\t\t<li>'virginica'</li>\n",
       "\t</ol>\n",
       "</details>"
      ],
      "text/latex": [
       "\\begin{enumerate*}\n",
       "\\item setosa\n",
       "\\item setosa\n",
       "\\item setosa\n",
       "\\item setosa\n",
       "\\item setosa\n",
       "\\item setosa\n",
       "\\item setosa\n",
       "\\item setosa\n",
       "\\item setosa\n",
       "\\item setosa\n",
       "\\item setosa\n",
       "\\item setosa\n",
       "\\item setosa\n",
       "\\item setosa\n",
       "\\item setosa\n",
       "\\item versicolor\n",
       "\\item versicolor\n",
       "\\item versicolor\n",
       "\\item versicolor\n",
       "\\item versicolor\n",
       "\\item versicolor\n",
       "\\item virginica\n",
       "\\item versicolor\n",
       "\\item versicolor\n",
       "\\item versicolor\n",
       "\\item versicolor\n",
       "\\item versicolor\n",
       "\\item versicolor\n",
       "\\item versicolor\n",
       "\\item versicolor\n",
       "\\item virginica\n",
       "\\item virginica\n",
       "\\item virginica\n",
       "\\item virginica\n",
       "\\item virginica\n",
       "\\item virginica\n",
       "\\item versicolor\n",
       "\\item virginica\n",
       "\\item virginica\n",
       "\\item virginica\n",
       "\\item versicolor\n",
       "\\item virginica\n",
       "\\item virginica\n",
       "\\item virginica\n",
       "\\item virginica\n",
       "\\end{enumerate*}\n",
       "\n",
       "\\emph{Levels}: \\begin{enumerate*}\n",
       "\\item 'setosa'\n",
       "\\item 'versicolor'\n",
       "\\item 'virginica'\n",
       "\\end{enumerate*}\n"
      ],
      "text/markdown": [
       "1. setosa\n",
       "2. setosa\n",
       "3. setosa\n",
       "4. setosa\n",
       "5. setosa\n",
       "6. setosa\n",
       "7. setosa\n",
       "8. setosa\n",
       "9. setosa\n",
       "10. setosa\n",
       "11. setosa\n",
       "12. setosa\n",
       "13. setosa\n",
       "14. setosa\n",
       "15. setosa\n",
       "16. versicolor\n",
       "17. versicolor\n",
       "18. versicolor\n",
       "19. versicolor\n",
       "20. versicolor\n",
       "21. versicolor\n",
       "22. virginica\n",
       "23. versicolor\n",
       "24. versicolor\n",
       "25. versicolor\n",
       "26. versicolor\n",
       "27. versicolor\n",
       "28. versicolor\n",
       "29. versicolor\n",
       "30. versicolor\n",
       "31. virginica\n",
       "32. virginica\n",
       "33. virginica\n",
       "34. virginica\n",
       "35. virginica\n",
       "36. virginica\n",
       "37. versicolor\n",
       "38. virginica\n",
       "39. virginica\n",
       "40. virginica\n",
       "41. versicolor\n",
       "42. virginica\n",
       "43. virginica\n",
       "44. virginica\n",
       "45. virginica\n",
       "\n",
       "\n",
       "\n",
       "**Levels**: 1. 'setosa'\n",
       "2. 'versicolor'\n",
       "3. 'virginica'\n",
       "\n",
       "\n"
      ],
      "text/plain": [
       " [1] setosa     setosa     setosa     setosa     setosa     setosa    \n",
       " [7] setosa     setosa     setosa     setosa     setosa     setosa    \n",
       "[13] setosa     setosa     setosa     versicolor versicolor versicolor\n",
       "[19] versicolor versicolor versicolor virginica  versicolor versicolor\n",
       "[25] versicolor versicolor versicolor versicolor versicolor versicolor\n",
       "[31] virginica  virginica  virginica  virginica  virginica  virginica \n",
       "[37] versicolor virginica  virginica  virginica  versicolor virginica \n",
       "[43] virginica  virginica  virginica \n",
       "Levels: setosa versicolor virginica"
      ]
     },
     "metadata": {},
     "output_type": "display_data"
    }
   ],
   "source": [
    "pred <- predict(irisTree, test_set)\n",
    "pred"
   ]
  },
  {
   "cell_type": "markdown",
   "metadata": {},
   "source": [
    "## Calculate Prediction Accuracy"
   ]
  },
  {
   "cell_type": "code",
   "execution_count": 118,
   "metadata": {},
   "outputs": [
    {
     "data": {
      "text/html": [
       "0.933333333333333"
      ],
      "text/latex": [
       "0.933333333333333"
      ],
      "text/markdown": [
       "0.933333333333333"
      ],
      "text/plain": [
       "[1] 0.9333333"
      ]
     },
     "metadata": {},
     "output_type": "display_data"
    }
   ],
   "source": [
    "mean(pred == test_set$Species)"
   ]
  },
  {
   "cell_type": "markdown",
   "metadata": {},
   "source": [
    "## Classified Table"
   ]
  },
  {
   "cell_type": "code",
   "execution_count": 121,
   "metadata": {},
   "outputs": [
    {
     "data": {
      "text/plain": [
       "Confusion Matrix and Statistics\n",
       "\n",
       "            Reference\n",
       "Prediction   setosa versicolor virginica\n",
       "  setosa         15          0         0\n",
       "  versicolor      0         14         2\n",
       "  virginica       0          1        13\n",
       "\n",
       "Overall Statistics\n",
       "                                         \n",
       "               Accuracy : 0.9333         \n",
       "                 95% CI : (0.8173, 0.986)\n",
       "    No Information Rate : 0.3333         \n",
       "    P-Value [Acc > NIR] : < 2.2e-16      \n",
       "                                         \n",
       "                  Kappa : 0.9            \n",
       "                                         \n",
       " Mcnemar's Test P-Value : NA             \n",
       "\n",
       "Statistics by Class:\n",
       "\n",
       "                     Class: setosa Class: versicolor Class: virginica\n",
       "Sensitivity                 1.0000            0.9333           0.8667\n",
       "Specificity                 1.0000            0.9333           0.9667\n",
       "Pos Pred Value              1.0000            0.8750           0.9286\n",
       "Neg Pred Value              1.0000            0.9655           0.9355\n",
       "Prevalence                  0.3333            0.3333           0.3333\n",
       "Detection Rate              0.3333            0.3111           0.2889\n",
       "Detection Prevalence        0.3333            0.3556           0.3111\n",
       "Balanced Accuracy           1.0000            0.9333           0.9167"
      ]
     },
     "metadata": {},
     "output_type": "display_data"
    }
   ],
   "source": [
    "confusionMatrix(pred, test_set$Species)\n",
    "# table(pred, test_set$Species)"
   ]
  },
  {
   "cell_type": "code",
   "execution_count": null,
   "metadata": {},
   "outputs": [],
   "source": []
  },
  {
   "cell_type": "code",
   "execution_count": null,
   "metadata": {},
   "outputs": [],
   "source": [
    "'==================================================================='"
   ]
  },
  {
   "cell_type": "markdown",
   "metadata": {},
   "source": [
    "## Predict with training set\n",
    "- based on the model trained above."
   ]
  },
  {
   "cell_type": "code",
   "execution_count": 126,
   "metadata": {},
   "outputs": [
    {
     "data": {
      "text/html": [
       "<table>\n",
       "<caption>A data.frame: 6 × 5</caption>\n",
       "<thead>\n",
       "\t<tr><th></th><th scope=col>Sepal.Length</th><th scope=col>Sepal.Width</th><th scope=col>Petal.Length</th><th scope=col>Petal.Width</th><th scope=col>Species</th></tr>\n",
       "\t<tr><th></th><th scope=col>&lt;dbl&gt;</th><th scope=col>&lt;dbl&gt;</th><th scope=col>&lt;dbl&gt;</th><th scope=col>&lt;dbl&gt;</th><th scope=col>&lt;fct&gt;</th></tr>\n",
       "</thead>\n",
       "<tbody>\n",
       "\t<tr><th scope=row>31</th><td>4.8</td><td>3.1</td><td>1.6</td><td>0.2</td><td>setosa</td></tr>\n",
       "\t<tr><th scope=row>15</th><td>5.8</td><td>4.0</td><td>1.2</td><td>0.2</td><td>setosa</td></tr>\n",
       "\t<tr><th scope=row>14</th><td>4.3</td><td>3.0</td><td>1.1</td><td>0.1</td><td>setosa</td></tr>\n",
       "\t<tr><th scope=row>3</th><td>4.7</td><td>3.2</td><td>1.3</td><td>0.2</td><td>setosa</td></tr>\n",
       "\t<tr><th scope=row>42</th><td>4.5</td><td>2.3</td><td>1.3</td><td>0.3</td><td>setosa</td></tr>\n",
       "\t<tr><th scope=row>43</th><td>4.4</td><td>3.2</td><td>1.3</td><td>0.2</td><td>setosa</td></tr>\n",
       "</tbody>\n",
       "</table>\n"
      ],
      "text/latex": [
       "A data.frame: 6 × 5\n",
       "\\begin{tabular}{r|lllll}\n",
       "  & Sepal.Length & Sepal.Width & Petal.Length & Petal.Width & Species\\\\\n",
       "  & <dbl> & <dbl> & <dbl> & <dbl> & <fct>\\\\\n",
       "\\hline\n",
       "\t31 & 4.8 & 3.1 & 1.6 & 0.2 & setosa\\\\\n",
       "\t15 & 5.8 & 4.0 & 1.2 & 0.2 & setosa\\\\\n",
       "\t14 & 4.3 & 3.0 & 1.1 & 0.1 & setosa\\\\\n",
       "\t3 & 4.7 & 3.2 & 1.3 & 0.2 & setosa\\\\\n",
       "\t42 & 4.5 & 2.3 & 1.3 & 0.3 & setosa\\\\\n",
       "\t43 & 4.4 & 3.2 & 1.3 & 0.2 & setosa\\\\\n",
       "\\end{tabular}\n"
      ],
      "text/markdown": [
       "\n",
       "A data.frame: 6 × 5\n",
       "\n",
       "| <!--/--> | Sepal.Length &lt;dbl&gt; | Sepal.Width &lt;dbl&gt; | Petal.Length &lt;dbl&gt; | Petal.Width &lt;dbl&gt; | Species &lt;fct&gt; |\n",
       "|---|---|---|---|---|---|\n",
       "| 31 | 4.8 | 3.1 | 1.6 | 0.2 | setosa |\n",
       "| 15 | 5.8 | 4.0 | 1.2 | 0.2 | setosa |\n",
       "| 14 | 4.3 | 3.0 | 1.1 | 0.1 | setosa |\n",
       "| 3 | 4.7 | 3.2 | 1.3 | 0.2 | setosa |\n",
       "| 42 | 4.5 | 2.3 | 1.3 | 0.3 | setosa |\n",
       "| 43 | 4.4 | 3.2 | 1.3 | 0.2 | setosa |\n",
       "\n"
      ],
      "text/plain": [
       "   Sepal.Length Sepal.Width Petal.Length Petal.Width Species\n",
       "31 4.8          3.1         1.6          0.2         setosa \n",
       "15 5.8          4.0         1.2          0.2         setosa \n",
       "14 4.3          3.0         1.1          0.1         setosa \n",
       "3  4.7          3.2         1.3          0.2         setosa \n",
       "42 4.5          2.3         1.3          0.3         setosa \n",
       "43 4.4          3.2         1.3          0.2         setosa "
      ]
     },
     "metadata": {},
     "output_type": "display_data"
    }
   ],
   "source": [
    "head(train_set)"
   ]
  },
  {
   "cell_type": "code",
   "execution_count": 127,
   "metadata": {},
   "outputs": [
    {
     "data": {
      "text/html": [
       "<ol class=list-inline>\n",
       "\t<li>setosa</li>\n",
       "\t<li>setosa</li>\n",
       "\t<li>setosa</li>\n",
       "\t<li>setosa</li>\n",
       "\t<li>setosa</li>\n",
       "\t<li>setosa</li>\n",
       "\t<li>setosa</li>\n",
       "\t<li>setosa</li>\n",
       "\t<li>setosa</li>\n",
       "\t<li>setosa</li>\n",
       "\t<li>setosa</li>\n",
       "\t<li>setosa</li>\n",
       "\t<li>setosa</li>\n",
       "\t<li>setosa</li>\n",
       "\t<li>setosa</li>\n",
       "\t<li>setosa</li>\n",
       "\t<li>setosa</li>\n",
       "\t<li>setosa</li>\n",
       "\t<li>setosa</li>\n",
       "\t<li>setosa</li>\n",
       "\t<li>setosa</li>\n",
       "\t<li>setosa</li>\n",
       "\t<li>setosa</li>\n",
       "\t<li>setosa</li>\n",
       "\t<li>setosa</li>\n",
       "\t<li>setosa</li>\n",
       "\t<li>setosa</li>\n",
       "\t<li>setosa</li>\n",
       "\t<li>setosa</li>\n",
       "\t<li>setosa</li>\n",
       "\t<li>setosa</li>\n",
       "\t<li>setosa</li>\n",
       "\t<li>setosa</li>\n",
       "\t<li>setosa</li>\n",
       "\t<li>setosa</li>\n",
       "\t<li>versicolor</li>\n",
       "\t<li>versicolor</li>\n",
       "\t<li>versicolor</li>\n",
       "\t<li>versicolor</li>\n",
       "\t<li>versicolor</li>\n",
       "\t<li>versicolor</li>\n",
       "\t<li>versicolor</li>\n",
       "\t<li>versicolor</li>\n",
       "\t<li>versicolor</li>\n",
       "\t<li>versicolor</li>\n",
       "\t<li>versicolor</li>\n",
       "\t<li>versicolor</li>\n",
       "\t<li>versicolor</li>\n",
       "\t<li>versicolor</li>\n",
       "\t<li>versicolor</li>\n",
       "\t<li>versicolor</li>\n",
       "\t<li>versicolor</li>\n",
       "\t<li>versicolor</li>\n",
       "\t<li>versicolor</li>\n",
       "\t<li>virginica</li>\n",
       "\t<li>versicolor</li>\n",
       "\t<li>versicolor</li>\n",
       "\t<li>versicolor</li>\n",
       "\t<li>versicolor</li>\n",
       "\t<li>versicolor</li>\n",
       "\t<li>versicolor</li>\n",
       "\t<li>versicolor</li>\n",
       "\t<li>versicolor</li>\n",
       "\t<li>versicolor</li>\n",
       "\t<li>versicolor</li>\n",
       "\t<li>versicolor</li>\n",
       "\t<li>versicolor</li>\n",
       "\t<li>versicolor</li>\n",
       "\t<li>versicolor</li>\n",
       "\t<li>versicolor</li>\n",
       "\t<li>virginica</li>\n",
       "\t<li>virginica</li>\n",
       "\t<li>virginica</li>\n",
       "\t<li>virginica</li>\n",
       "\t<li>virginica</li>\n",
       "\t<li>virginica</li>\n",
       "\t<li>virginica</li>\n",
       "\t<li>virginica</li>\n",
       "\t<li>virginica</li>\n",
       "\t<li>versicolor</li>\n",
       "\t<li>virginica</li>\n",
       "\t<li>versicolor</li>\n",
       "\t<li>virginica</li>\n",
       "\t<li>virginica</li>\n",
       "\t<li>virginica</li>\n",
       "\t<li>virginica</li>\n",
       "\t<li>virginica</li>\n",
       "\t<li>virginica</li>\n",
       "\t<li>virginica</li>\n",
       "\t<li>virginica</li>\n",
       "\t<li>virginica</li>\n",
       "\t<li>virginica</li>\n",
       "\t<li>virginica</li>\n",
       "\t<li>virginica</li>\n",
       "\t<li>virginica</li>\n",
       "\t<li>virginica</li>\n",
       "\t<li>virginica</li>\n",
       "\t<li>virginica</li>\n",
       "\t<li>virginica</li>\n",
       "\t<li>virginica</li>\n",
       "\t<li>virginica</li>\n",
       "\t<li>virginica</li>\n",
       "\t<li>virginica</li>\n",
       "\t<li>virginica</li>\n",
       "\t<li>virginica</li>\n",
       "</ol>\n",
       "\n",
       "<details>\n",
       "\t<summary style=display:list-item;cursor:pointer>\n",
       "\t\t<strong>Levels</strong>:\n",
       "\t</summary>\n",
       "\t<ol class=list-inline>\n",
       "\t\t<li>'setosa'</li>\n",
       "\t\t<li>'versicolor'</li>\n",
       "\t\t<li>'virginica'</li>\n",
       "\t</ol>\n",
       "</details>"
      ],
      "text/latex": [
       "\\begin{enumerate*}\n",
       "\\item setosa\n",
       "\\item setosa\n",
       "\\item setosa\n",
       "\\item setosa\n",
       "\\item setosa\n",
       "\\item setosa\n",
       "\\item setosa\n",
       "\\item setosa\n",
       "\\item setosa\n",
       "\\item setosa\n",
       "\\item setosa\n",
       "\\item setosa\n",
       "\\item setosa\n",
       "\\item setosa\n",
       "\\item setosa\n",
       "\\item setosa\n",
       "\\item setosa\n",
       "\\item setosa\n",
       "\\item setosa\n",
       "\\item setosa\n",
       "\\item setosa\n",
       "\\item setosa\n",
       "\\item setosa\n",
       "\\item setosa\n",
       "\\item setosa\n",
       "\\item setosa\n",
       "\\item setosa\n",
       "\\item setosa\n",
       "\\item setosa\n",
       "\\item setosa\n",
       "\\item setosa\n",
       "\\item setosa\n",
       "\\item setosa\n",
       "\\item setosa\n",
       "\\item setosa\n",
       "\\item versicolor\n",
       "\\item versicolor\n",
       "\\item versicolor\n",
       "\\item versicolor\n",
       "\\item versicolor\n",
       "\\item versicolor\n",
       "\\item versicolor\n",
       "\\item versicolor\n",
       "\\item versicolor\n",
       "\\item versicolor\n",
       "\\item versicolor\n",
       "\\item versicolor\n",
       "\\item versicolor\n",
       "\\item versicolor\n",
       "\\item versicolor\n",
       "\\item versicolor\n",
       "\\item versicolor\n",
       "\\item versicolor\n",
       "\\item versicolor\n",
       "\\item virginica\n",
       "\\item versicolor\n",
       "\\item versicolor\n",
       "\\item versicolor\n",
       "\\item versicolor\n",
       "\\item versicolor\n",
       "\\item versicolor\n",
       "\\item versicolor\n",
       "\\item versicolor\n",
       "\\item versicolor\n",
       "\\item versicolor\n",
       "\\item versicolor\n",
       "\\item versicolor\n",
       "\\item versicolor\n",
       "\\item versicolor\n",
       "\\item versicolor\n",
       "\\item virginica\n",
       "\\item virginica\n",
       "\\item virginica\n",
       "\\item virginica\n",
       "\\item virginica\n",
       "\\item virginica\n",
       "\\item virginica\n",
       "\\item virginica\n",
       "\\item virginica\n",
       "\\item versicolor\n",
       "\\item virginica\n",
       "\\item versicolor\n",
       "\\item virginica\n",
       "\\item virginica\n",
       "\\item virginica\n",
       "\\item virginica\n",
       "\\item virginica\n",
       "\\item virginica\n",
       "\\item virginica\n",
       "\\item virginica\n",
       "\\item virginica\n",
       "\\item virginica\n",
       "\\item virginica\n",
       "\\item virginica\n",
       "\\item virginica\n",
       "\\item virginica\n",
       "\\item virginica\n",
       "\\item virginica\n",
       "\\item virginica\n",
       "\\item virginica\n",
       "\\item virginica\n",
       "\\item virginica\n",
       "\\item virginica\n",
       "\\item virginica\n",
       "\\item virginica\n",
       "\\end{enumerate*}\n",
       "\n",
       "\\emph{Levels}: \\begin{enumerate*}\n",
       "\\item 'setosa'\n",
       "\\item 'versicolor'\n",
       "\\item 'virginica'\n",
       "\\end{enumerate*}\n"
      ],
      "text/markdown": [
       "1. setosa\n",
       "2. setosa\n",
       "3. setosa\n",
       "4. setosa\n",
       "5. setosa\n",
       "6. setosa\n",
       "7. setosa\n",
       "8. setosa\n",
       "9. setosa\n",
       "10. setosa\n",
       "11. setosa\n",
       "12. setosa\n",
       "13. setosa\n",
       "14. setosa\n",
       "15. setosa\n",
       "16. setosa\n",
       "17. setosa\n",
       "18. setosa\n",
       "19. setosa\n",
       "20. setosa\n",
       "21. setosa\n",
       "22. setosa\n",
       "23. setosa\n",
       "24. setosa\n",
       "25. setosa\n",
       "26. setosa\n",
       "27. setosa\n",
       "28. setosa\n",
       "29. setosa\n",
       "30. setosa\n",
       "31. setosa\n",
       "32. setosa\n",
       "33. setosa\n",
       "34. setosa\n",
       "35. setosa\n",
       "36. versicolor\n",
       "37. versicolor\n",
       "38. versicolor\n",
       "39. versicolor\n",
       "40. versicolor\n",
       "41. versicolor\n",
       "42. versicolor\n",
       "43. versicolor\n",
       "44. versicolor\n",
       "45. versicolor\n",
       "46. versicolor\n",
       "47. versicolor\n",
       "48. versicolor\n",
       "49. versicolor\n",
       "50. versicolor\n",
       "51. versicolor\n",
       "52. versicolor\n",
       "53. versicolor\n",
       "54. versicolor\n",
       "55. virginica\n",
       "56. versicolor\n",
       "57. versicolor\n",
       "58. versicolor\n",
       "59. versicolor\n",
       "60. versicolor\n",
       "61. versicolor\n",
       "62. versicolor\n",
       "63. versicolor\n",
       "64. versicolor\n",
       "65. versicolor\n",
       "66. versicolor\n",
       "67. versicolor\n",
       "68. versicolor\n",
       "69. versicolor\n",
       "70. versicolor\n",
       "71. virginica\n",
       "72. virginica\n",
       "73. virginica\n",
       "74. virginica\n",
       "75. virginica\n",
       "76. virginica\n",
       "77. virginica\n",
       "78. virginica\n",
       "79. virginica\n",
       "80. versicolor\n",
       "81. virginica\n",
       "82. versicolor\n",
       "83. virginica\n",
       "84. virginica\n",
       "85. virginica\n",
       "86. virginica\n",
       "87. virginica\n",
       "88. virginica\n",
       "89. virginica\n",
       "90. virginica\n",
       "91. virginica\n",
       "92. virginica\n",
       "93. virginica\n",
       "94. virginica\n",
       "95. virginica\n",
       "96. virginica\n",
       "97. virginica\n",
       "98. virginica\n",
       "99. virginica\n",
       "100. virginica\n",
       "101. virginica\n",
       "102. virginica\n",
       "103. virginica\n",
       "104. virginica\n",
       "105. virginica\n",
       "\n",
       "\n",
       "\n",
       "**Levels**: 1. 'setosa'\n",
       "2. 'versicolor'\n",
       "3. 'virginica'\n",
       "\n",
       "\n"
      ],
      "text/plain": [
       "  [1] setosa     setosa     setosa     setosa     setosa     setosa    \n",
       "  [7] setosa     setosa     setosa     setosa     setosa     setosa    \n",
       " [13] setosa     setosa     setosa     setosa     setosa     setosa    \n",
       " [19] setosa     setosa     setosa     setosa     setosa     setosa    \n",
       " [25] setosa     setosa     setosa     setosa     setosa     setosa    \n",
       " [31] setosa     setosa     setosa     setosa     setosa     versicolor\n",
       " [37] versicolor versicolor versicolor versicolor versicolor versicolor\n",
       " [43] versicolor versicolor versicolor versicolor versicolor versicolor\n",
       " [49] versicolor versicolor versicolor versicolor versicolor versicolor\n",
       " [55] virginica  versicolor versicolor versicolor versicolor versicolor\n",
       " [61] versicolor versicolor versicolor versicolor versicolor versicolor\n",
       " [67] versicolor versicolor versicolor versicolor virginica  virginica \n",
       " [73] virginica  virginica  virginica  virginica  virginica  virginica \n",
       " [79] virginica  versicolor virginica  versicolor virginica  virginica \n",
       " [85] virginica  virginica  virginica  virginica  virginica  virginica \n",
       " [91] virginica  virginica  virginica  virginica  virginica  virginica \n",
       " [97] virginica  virginica  virginica  virginica  virginica  virginica \n",
       "[103] virginica  virginica  virginica \n",
       "Levels: setosa versicolor virginica"
      ]
     },
     "metadata": {},
     "output_type": "display_data"
    }
   ],
   "source": [
    "pred <- predict(iris_tree, train_set)\n",
    "pred"
   ]
  },
  {
   "cell_type": "code",
   "execution_count": 128,
   "metadata": {},
   "outputs": [
    {
     "data": {
      "text/plain": [
       "Confusion Matrix and Statistics\n",
       "\n",
       "            Reference\n",
       "Prediction   setosa versicolor virginica\n",
       "  setosa         35          0         0\n",
       "  versicolor      0         34         2\n",
       "  virginica       0          1        33\n",
       "\n",
       "Overall Statistics\n",
       "                                          \n",
       "               Accuracy : 0.9714          \n",
       "                 95% CI : (0.9188, 0.9941)\n",
       "    No Information Rate : 0.3333          \n",
       "    P-Value [Acc > NIR] : < 2.2e-16       \n",
       "                                          \n",
       "                  Kappa : 0.9571          \n",
       "                                          \n",
       " Mcnemar's Test P-Value : NA              \n",
       "\n",
       "Statistics by Class:\n",
       "\n",
       "                     Class: setosa Class: versicolor Class: virginica\n",
       "Sensitivity                 1.0000            0.9714           0.9429\n",
       "Specificity                 1.0000            0.9714           0.9857\n",
       "Pos Pred Value              1.0000            0.9444           0.9706\n",
       "Neg Pred Value              1.0000            0.9855           0.9718\n",
       "Prevalence                  0.3333            0.3333           0.3333\n",
       "Detection Rate              0.3333            0.3238           0.3143\n",
       "Detection Prevalence        0.3333            0.3429           0.3238\n",
       "Balanced Accuracy           1.0000            0.9714           0.9643"
      ]
     },
     "metadata": {},
     "output_type": "display_data"
    }
   ],
   "source": [
    "confusionMatrix(pred, train_set$Species)"
   ]
  },
  {
   "cell_type": "code",
   "execution_count": null,
   "metadata": {},
   "outputs": [],
   "source": []
  },
  {
   "cell_type": "markdown",
   "metadata": {},
   "source": [
    "Decision tree is prone to overfitting.  \n",
    "- Predict with testing set (new data): 93% Accuracy\n",
    "- Predict with training set: 97% Accuracy"
   ]
  }
 ],
 "metadata": {
  "kernelspec": {
   "display_name": "R",
   "language": "R",
   "name": "ir"
  },
  "language_info": {
   "codemirror_mode": "r",
   "file_extension": ".r",
   "mimetype": "text/x-r-source",
   "name": "R",
   "pygments_lexer": "r",
   "version": "3.6.1"
  },
  "latex_envs": {
   "LaTeX_envs_menu_present": true,
   "autoclose": false,
   "autocomplete": true,
   "bibliofile": "biblio.bib",
   "cite_by": "apalike",
   "current_citInitial": 1,
   "eqLabelWithNumbers": true,
   "eqNumInitial": 1,
   "hotkeys": {
    "equation": "Ctrl-E",
    "itemize": "Ctrl-I"
   },
   "labels_anchors": false,
   "latex_user_defs": false,
   "report_style_numbering": false,
   "user_envs_cfg": false
  },
  "varInspector": {
   "cols": {
    "lenName": 16,
    "lenType": 16,
    "lenVar": 40
   },
   "kernels_config": {
    "python": {
     "delete_cmd_postfix": "",
     "delete_cmd_prefix": "del ",
     "library": "var_list.py",
     "varRefreshCmd": "print(var_dic_list())"
    },
    "r": {
     "delete_cmd_postfix": ") ",
     "delete_cmd_prefix": "rm(",
     "library": "var_list.r",
     "varRefreshCmd": "cat(var_dic_list()) "
    }
   },
   "types_to_exclude": [
    "module",
    "function",
    "builtin_function_or_method",
    "instance",
    "_Feature"
   ],
   "window_display": false
  }
 },
 "nbformat": 4,
 "nbformat_minor": 2
}
