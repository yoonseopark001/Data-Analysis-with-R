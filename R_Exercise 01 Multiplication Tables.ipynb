{
 "cells": [
  {
   "cell_type": "markdown",
   "metadata": {},
   "source": [
    "# Exercise 01: Multiplication Tables"
   ]
  },
  {
   "cell_type": "markdown",
   "metadata": {},
   "source": [
    "### Q1. Create a Multiplication Table with 'for' Loop"
   ]
  },
  {
   "cell_type": "code",
   "execution_count": 14,
   "metadata": {},
   "outputs": [
    {
     "name": "stdout",
     "output_type": "stream",
     "text": [
      "5 X 1 = 5 \n",
      "5 X 2 = 10 \n",
      "5 X 3 = 15 \n",
      "5 X 4 = 20 \n",
      "5 X 5 = 25 \n",
      "5 X 6 = 30 \n",
      "5 X 7 = 35 \n",
      "5 X 8 = 40 \n",
      "5 X 9 = 45 \n"
     ]
    }
   ],
   "source": [
    "timesTable <- 5\n",
    "for (i in 1:9){\n",
    "    cat(paste(timesTable, \"X\", i, \"=\", timesTable*i, \"\\n\"))\n",
    "}"
   ]
  },
  {
   "cell_type": "markdown",
   "metadata": {},
   "source": [
    "### Q2. Create a Multiplication Table by obtaining User Input"
   ]
  },
  {
   "cell_type": "code",
   "execution_count": 15,
   "metadata": {},
   "outputs": [
    {
     "name": "stdout",
     "output_type": "stream",
     "text": [
      "Please enter a number: 3\n",
      "3 * 1 = 3 \n",
      "3 * 2 = 6 \n",
      "3 * 3 = 9 \n",
      "3 * 4 = 12 \n",
      "3 * 5 = 15 \n",
      "3 * 6 = 18 \n",
      "3 * 7 = 21 \n",
      "3 * 8 = 24 \n",
      "3 * 9 = 27 \n"
     ]
    }
   ],
   "source": [
    "timesTable <- readline(\"Please enter a number: \")\n",
    "timesTable <- as.integer(timesTable)\n",
    "for(i in 1:9){\n",
    "    cat(paste(timesTable, \"*\", i, \"=\", timesTable*i, \"\\n\"))\n",
    "}"
   ]
  },
  {
   "cell_type": "markdown",
   "metadata": {},
   "source": [
    "### Q3. Create a Function of Multiplication Tables"
   ]
  },
  {
   "cell_type": "code",
   "execution_count": 16,
   "metadata": {},
   "outputs": [],
   "source": [
    "muTableFunc <- function(x){\n",
    "    for(i in 1:9){\n",
    "        cat(paste(x, \"*\", i, \"=\", x*i, \"\\n\"))\n",
    "    }\n",
    "}"
   ]
  },
  {
   "cell_type": "code",
   "execution_count": 17,
   "metadata": {},
   "outputs": [
    {
     "name": "stdout",
     "output_type": "stream",
     "text": [
      "2 * 1 = 2 \n",
      "2 * 2 = 4 \n",
      "2 * 3 = 6 \n",
      "2 * 4 = 8 \n",
      "2 * 5 = 10 \n",
      "2 * 6 = 12 \n",
      "2 * 7 = 14 \n",
      "2 * 8 = 16 \n",
      "2 * 9 = 18 \n"
     ]
    }
   ],
   "source": [
    "muTableFunc(2)"
   ]
  },
  {
   "cell_type": "code",
   "execution_count": 18,
   "metadata": {},
   "outputs": [
    {
     "name": "stdout",
     "output_type": "stream",
     "text": [
      "5 * 1 = 5 \n",
      "5 * 2 = 10 \n",
      "5 * 3 = 15 \n",
      "5 * 4 = 20 \n",
      "5 * 5 = 25 \n",
      "5 * 6 = 30 \n",
      "5 * 7 = 35 \n",
      "5 * 8 = 40 \n",
      "5 * 9 = 45 \n"
     ]
    }
   ],
   "source": [
    "muTableFunc(5)"
   ]
  },
  {
   "cell_type": "markdown",
   "metadata": {},
   "source": [
    "### Q4. Create a Function of Multiplication Tables with a Range "
   ]
  },
  {
   "cell_type": "code",
   "execution_count": 19,
   "metadata": {},
   "outputs": [],
   "source": [
    "muTableFuncRange <- function(x, from, to){\n",
    "    for(i in from:to){\n",
    "         cat(paste(x, \"*\", i, \"=\", x*i, \"\\n\"))\n",
    "    }\n",
    "}"
   ]
  },
  {
   "cell_type": "code",
   "execution_count": 20,
   "metadata": {
    "scrolled": true
   },
   "outputs": [
    {
     "name": "stdout",
     "output_type": "stream",
     "text": [
      "2 * 5 = 10 \n",
      "2 * 6 = 12 \n",
      "2 * 7 = 14 \n",
      "2 * 8 = 16 \n",
      "2 * 9 = 18 \n"
     ]
    }
   ],
   "source": [
    "muTableFuncRange(2,5,9)"
   ]
  },
  {
   "cell_type": "markdown",
   "metadata": {},
   "source": [
    "### Q5. Create Multiplication Tables: x2 to x9"
   ]
  },
  {
   "cell_type": "code",
   "execution_count": 21,
   "metadata": {
    "scrolled": false
   },
   "outputs": [
    {
     "name": "stdout",
     "output_type": "stream",
     "text": [
      "\n",
      " < 2 times table > \n",
      "2 * 1 = 2 \n",
      "2 * 2 = 4 \n",
      "2 * 3 = 6 \n",
      "2 * 4 = 8 \n",
      "2 * 5 = 10 \n",
      "2 * 6 = 12 \n",
      "2 * 7 = 14 \n",
      "2 * 8 = 16 \n",
      "2 * 9 = 18 \n",
      "\n",
      " < 3 times table > \n",
      "3 * 1 = 3 \n",
      "3 * 2 = 6 \n",
      "3 * 3 = 9 \n",
      "3 * 4 = 12 \n",
      "3 * 5 = 15 \n",
      "3 * 6 = 18 \n",
      "3 * 7 = 21 \n",
      "3 * 8 = 24 \n",
      "3 * 9 = 27 \n",
      "\n",
      " < 4 times table > \n",
      "4 * 1 = 4 \n",
      "4 * 2 = 8 \n",
      "4 * 3 = 12 \n",
      "4 * 4 = 16 \n",
      "4 * 5 = 20 \n",
      "4 * 6 = 24 \n",
      "4 * 7 = 28 \n",
      "4 * 8 = 32 \n",
      "4 * 9 = 36 \n",
      "\n",
      " < 5 times table > \n",
      "5 * 1 = 5 \n",
      "5 * 2 = 10 \n",
      "5 * 3 = 15 \n",
      "5 * 4 = 20 \n",
      "5 * 5 = 25 \n",
      "5 * 6 = 30 \n",
      "5 * 7 = 35 \n",
      "5 * 8 = 40 \n",
      "5 * 9 = 45 \n",
      "\n",
      " < 6 times table > \n",
      "6 * 1 = 6 \n",
      "6 * 2 = 12 \n",
      "6 * 3 = 18 \n",
      "6 * 4 = 24 \n",
      "6 * 5 = 30 \n",
      "6 * 6 = 36 \n",
      "6 * 7 = 42 \n",
      "6 * 8 = 48 \n",
      "6 * 9 = 54 \n",
      "\n",
      " < 7 times table > \n",
      "7 * 1 = 7 \n",
      "7 * 2 = 14 \n",
      "7 * 3 = 21 \n",
      "7 * 4 = 28 \n",
      "7 * 5 = 35 \n",
      "7 * 6 = 42 \n",
      "7 * 7 = 49 \n",
      "7 * 8 = 56 \n",
      "7 * 9 = 63 \n",
      "\n",
      " < 8 times table > \n",
      "8 * 1 = 8 \n",
      "8 * 2 = 16 \n",
      "8 * 3 = 24 \n",
      "8 * 4 = 32 \n",
      "8 * 5 = 40 \n",
      "8 * 6 = 48 \n",
      "8 * 7 = 56 \n",
      "8 * 8 = 64 \n",
      "8 * 9 = 72 \n",
      "\n",
      " < 9 times table > \n",
      "9 * 1 = 9 \n",
      "9 * 2 = 18 \n",
      "9 * 3 = 27 \n",
      "9 * 4 = 36 \n",
      "9 * 5 = 45 \n",
      "9 * 6 = 54 \n",
      "9 * 7 = 63 \n",
      "9 * 8 = 72 \n",
      "9 * 9 = 81 \n"
     ]
    }
   ],
   "source": [
    "for(timesTable in 2:9){\n",
    "        cat(paste(\"\\n\",\"<\", timesTable, \"times table\", \">\",\"\\n\"))\n",
    "    for(i in 1:9){\n",
    "        cat(paste(timesTable, \"*\", i, \"=\", timesTable*i, \"\\n\"))\n",
    "    }\n",
    "}"
   ]
  },
  {
   "cell_type": "markdown",
   "metadata": {},
   "source": [
    "### Drill 1: Mark * if a multiplier is even"
   ]
  },
  {
   "cell_type": "code",
   "execution_count": 22,
   "metadata": {},
   "outputs": [
    {
     "name": "stdout",
     "output_type": "stream",
     "text": [
      "3 X 1 = 3 \n",
      "3 X * = 6 \n",
      "3 X 3 = 9 \n",
      "3 X * = 12 \n",
      "3 X 5 = 15 \n",
      "3 X * = 18 \n",
      "3 X 7 = 21 \n",
      "3 X * = 24 \n",
      "3 X 9 = 27 \n"
     ]
    }
   ],
   "source": [
    "timesTable <- 3\n",
    "for(i in 1:9){\n",
    "    if(i %% 2 == 0){ # to determine whether i is even or odd\n",
    "        cat(paste(timesTable, \"X\", \"*\", \"=\", (timesTable*i), \"\\n\"))\n",
    "    }else{\n",
    "        cat(paste(timesTable, \"X\", i, \"=\", (timesTable*i), \"\\n\"))\n",
    "    }\n",
    "}"
   ]
  },
  {
   "cell_type": "markdown",
   "metadata": {},
   "source": [
    "### Drill 2: Hide a result if the value > 10"
   ]
  },
  {
   "cell_type": "code",
   "execution_count": 25,
   "metadata": {},
   "outputs": [
    {
     "name": "stdout",
     "output_type": "stream",
     "text": [
      "3 X 1 = 3 \n",
      "3 X 2 = 6 \n",
      "3 X 3 = 9 \n",
      "3 X 4 = \n",
      "3 X 5 = \n",
      "3 X 6 = \n",
      "3 X 7 = \n",
      "3 X 8 = \n",
      "3 X 9 = \n"
     ]
    }
   ],
   "source": [
    "timesTable <- 3\n",
    "for(i in 1:9){ \n",
    "    if(timesTable * i > 10){\n",
    "        cat(paste(timesTable, \"X\", i, \"=\", \"\\n\"))\n",
    "    }else{\n",
    "        cat(paste(timesTable, \"X\", i, \"=\", (timesTable*i), \"\\n\"))\n",
    "    }\n",
    "}"
   ]
  },
  {
   "cell_type": "markdown",
   "metadata": {},
   "source": [
    "### Drill 3: Mark * if the result is odd"
   ]
  },
  {
   "cell_type": "code",
   "execution_count": 15,
   "metadata": {},
   "outputs": [
    {
     "name": "stdout",
     "output_type": "stream",
     "text": [
      "3 X 1 = * \n",
      "3 X 2 = 6 \n",
      "3 X 3 = * \n",
      "3 X 4 = 12 \n",
      "3 X 5 = * \n",
      "3 X 6 = 18 \n",
      "3 X 7 = * \n",
      "3 X 8 = 24 \n",
      "3 X 9 = * \n"
     ]
    }
   ],
   "source": [
    "timesTable <- 3\n",
    "for(i in 1:9){ \n",
    "    if((timesTable * i) %% 2 == 1){\n",
    "        cat(paste(timesTable, \"X\", i, \"=\", \"*\", \"\\n\"))\n",
    "    }else{\n",
    "        cat(paste(timesTable, \"X\", i, \"=\", (timesTable*i), \"\\n\"))\n",
    "    }\n",
    "}"
   ]
  },
  {
   "cell_type": "markdown",
   "metadata": {},
   "source": [
    "### Drill 4: Create a function of multiplication with two input vectors ( multiplicand and multiplier)"
   ]
  },
  {
   "cell_type": "code",
   "execution_count": 20,
   "metadata": {},
   "outputs": [],
   "source": [
    "i<-c()\n",
    "j<-c()\n",
    "mul.Fun <- function(i, j){ \n",
    "    for (x in i){\n",
    "        cat(paste(\"\\n\",\"<\", x, \"times table\", \">\",\"\\n\"))\n",
    "        for(y in j){\n",
    "            cat(paste(x, \"X\", y, \"=\", x*y,\"\\n\"))\n",
    "        }   \n",
    "    }\n",
    "}"
   ]
  },
  {
   "cell_type": "code",
   "execution_count": 19,
   "metadata": {},
   "outputs": [
    {
     "name": "stdout",
     "output_type": "stream",
     "text": [
      "\n",
      " < 7 times table > \n",
      "7 X 3 = 21 \n",
      "7 X 4 = 28 \n",
      "7 X 5 = 35 \n",
      "\n",
      " < 8 times table > \n",
      "8 X 3 = 24 \n",
      "8 X 4 = 32 \n",
      "8 X 5 = 40 \n",
      "\n",
      " < 9 times table > \n",
      "9 X 3 = 27 \n",
      "9 X 4 = 36 \n",
      "9 X 5 = 45 \n"
     ]
    }
   ],
   "source": [
    "i <- c(7:9)\n",
    "j <- c(3:5)\n",
    "mul.Fun(i,j)"
   ]
  }
 ],
 "metadata": {
  "kernelspec": {
   "display_name": "R",
   "language": "R",
   "name": "ir"
  },
  "language_info": {
   "codemirror_mode": "r",
   "file_extension": ".r",
   "mimetype": "text/x-r-source",
   "name": "R",
   "pygments_lexer": "r",
   "version": "3.6.1"
  }
 },
 "nbformat": 4,
 "nbformat_minor": 2
}
