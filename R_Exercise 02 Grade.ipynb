{
 "cells": [
  {
   "cell_type": "markdown",
   "metadata": {},
   "source": [
    "# Exercice2: Grade Evaluation"
   ]
  },
  {
   "cell_type": "code",
   "execution_count": 5,
   "metadata": {},
   "outputs": [
    {
     "name": "stdout",
     "output_type": "stream",
     "text": [
      "Enter your score:95\n"
     ]
    },
    {
     "data": {
      "text/html": [
       "'Your grade is A .'"
      ],
      "text/latex": [
       "'Your grade is A .'"
      ],
      "text/markdown": [
       "'Your grade is A .'"
      ],
      "text/plain": [
       "[1] \"Your grade is A .\""
      ]
     },
     "metadata": {},
     "output_type": "display_data"
    }
   ],
   "source": [
    "score = as.numeric(readline(\"Enter your score:\"))\n",
    "if(score>=90){     \n",
    "    result = \"A\"\n",
    "} else if(score >= 80){\n",
    "    result = \"B\"\n",
    "} else if(score >= 70){\n",
    "    result = \"C\"\n",
    "} else if(score >= 60){\n",
    "    result = \"D\"\n",
    "} else {\n",
    "    result = \"F\"\n",
    "    }\n",
    "    paste(\"Your grade is\", result, \".\")"
   ]
  },
  {
   "cell_type": "code",
   "execution_count": 12,
   "metadata": {},
   "outputs": [
    {
     "name": "stdout",
     "output_type": "stream",
     "text": [
      "Enter your score:97\n"
     ]
    },
    {
     "data": {
      "text/html": [
       "'Your grade is A ( Excellent ) .'"
      ],
      "text/latex": [
       "'Your grade is A ( Excellent ) .'"
      ],
      "text/markdown": [
       "'Your grade is A ( Excellent ) .'"
      ],
      "text/plain": [
       "[1] \"Your grade is A ( Excellent ) .\""
      ]
     },
     "metadata": {},
     "output_type": "display_data"
    }
   ],
   "source": [
    "score = as.numeric(readline(\"Enter your score:\"))\n",
    "grade = c(\"Excellent\", \"Very Good\", \"Good\", \"Average\", \"Poor\")\n",
    "if(score>=90){     \n",
    "    result = \"A\"\n",
    "    paste(\"Your grade is\", result, \"(\", grade[1] ,\")\", \".\")\n",
    "} else if(score >= 80){\n",
    "    result = \"B\"\n",
    "    paste(\"Your grade is\", result, \"(\", grade[2] ,\")\", \".\")\n",
    "} else if(score >= 70){\n",
    "    result = \"C\"\n",
    "    paste(\"Your grade is\", result, \"(\", grade[3] ,\")\", \".\")\n",
    "} else if(score >= 60){\n",
    "    result = \"D\"\n",
    "    paste(\"Your grade is\", result, \"(\", grade[4] ,\")\", \".\")\n",
    "} else {\n",
    "    result = \"F\"\n",
    "    paste(\"Your grade is\", result, \"(\", grade[5] ,\")\", \".\")\n",
    "    }"
   ]
  }
 ],
 "metadata": {
  "kernelspec": {
   "display_name": "R",
   "language": "R",
   "name": "ir"
  },
  "language_info": {
   "codemirror_mode": "r",
   "file_extension": ".r",
   "mimetype": "text/x-r-source",
   "name": "R",
   "pygments_lexer": "r",
   "version": "3.6.1"
  }
 },
 "nbformat": 4,
 "nbformat_minor": 2
}
