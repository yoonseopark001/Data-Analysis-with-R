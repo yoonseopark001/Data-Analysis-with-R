{
 "cells": [
  {
   "cell_type": "markdown",
   "metadata": {},
   "source": [
    "# Chi-squared test"
   ]
  },
  {
   "cell_type": "markdown",
   "metadata": {},
   "source": [
    "    The chi-squared test is used to determine whether there is a significant difference between the expected frequencies and the observed frequencies in one or more categories."
   ]
  },
  {
   "cell_type": "markdown",
   "metadata": {},
   "source": [
    "## Data"
   ]
  },
  {
   "cell_type": "code",
   "execution_count": 1,
   "metadata": {},
   "outputs": [
    {
     "data": {
      "text/html": [
       "<table>\n",
       "<caption>A matrix: 3 × 2 of type dbl</caption>\n",
       "<thead>\n",
       "\t<tr><th></th><th scope=col>Tom</th><th scope=col>Jack</th></tr>\n",
       "</thead>\n",
       "<tbody>\n",
       "\t<tr><th scope=row>car</th><td>10</td><td>13</td></tr>\n",
       "\t<tr><th scope=row>truck</th><td> 5</td><td>10</td></tr>\n",
       "\t<tr><th scope=row>doll</th><td> 7</td><td> 8</td></tr>\n",
       "</tbody>\n",
       "</table>\n"
      ],
      "text/latex": [
       "A matrix: 3 × 2 of type dbl\n",
       "\\begin{tabular}{r|ll}\n",
       "  & Tom & Jack\\\\\n",
       "\\hline\n",
       "\tcar & 10 & 13\\\\\n",
       "\ttruck &  5 & 10\\\\\n",
       "\tdoll &  7 &  8\\\\\n",
       "\\end{tabular}\n"
      ],
      "text/markdown": [
       "\n",
       "A matrix: 3 × 2 of type dbl\n",
       "\n",
       "| <!--/--> | Tom | Jack |\n",
       "|---|---|---|\n",
       "| car | 10 | 13 |\n",
       "| truck |  5 | 10 |\n",
       "| doll |  7 |  8 |\n",
       "\n"
      ],
      "text/plain": [
       "      Tom Jack\n",
       "car   10  13  \n",
       "truck  5  10  \n",
       "doll   7   8  "
      ]
     },
     "metadata": {},
     "output_type": "display_data"
    }
   ],
   "source": [
    "# Safisfaction of Toys\n",
    "Tom <- c(10, 5, 7)\n",
    "Jack <- c(13, 10, 8)\n",
    "toy <- cbind(Tom, Jack)\n",
    "rownames(toy) <- c(\"car\", \"truck\", \"doll\")\n",
    "toy"
   ]
  },
  {
   "cell_type": "code",
   "execution_count": 6,
   "metadata": {},
   "outputs": [
    {
     "data": {
      "text/html": [
       "<table>\n",
       "<caption>A matrix: 3 × 2 of type dbl</caption>\n",
       "<thead>\n",
       "\t<tr><th scope=col>Tom</th><th scope=col>Jack</th></tr>\n",
       "</thead>\n",
       "<tbody>\n",
       "\t<tr><td>10</td><td>13</td></tr>\n",
       "\t<tr><td> 5</td><td>10</td></tr>\n",
       "\t<tr><td> 7</td><td> 4</td></tr>\n",
       "</tbody>\n",
       "</table>\n"
      ],
      "text/latex": [
       "A matrix: 3 × 2 of type dbl\n",
       "\\begin{tabular}{ll}\n",
       " Tom & Jack\\\\\n",
       "\\hline\n",
       "\t 10 & 13\\\\\n",
       "\t  5 & 10\\\\\n",
       "\t  7 &  4\\\\\n",
       "\\end{tabular}\n"
      ],
      "text/markdown": [
       "\n",
       "A matrix: 3 × 2 of type dbl\n",
       "\n",
       "| Tom | Jack |\n",
       "|---|---|\n",
       "| 10 | 13 |\n",
       "|  5 | 10 |\n",
       "|  7 |  4 |\n",
       "\n"
      ],
      "text/plain": [
       "     Tom Jack\n",
       "[1,] 10  13  \n",
       "[2,]  5  10  \n",
       "[3,]  7   4  "
      ]
     },
     "metadata": {},
     "output_type": "display_data"
    }
   ],
   "source": []
  },
  {
   "cell_type": "code",
   "execution_count": 8,
   "metadata": {},
   "outputs": [],
   "source": []
  },
  {
   "cell_type": "code",
   "execution_count": 9,
   "metadata": {
    "scrolled": true
   },
   "outputs": [
    {
     "data": {
      "text/html": [
       "<table>\n",
       "<caption>A matrix: 3 × 2 of type dbl</caption>\n",
       "<thead>\n",
       "\t<tr><th></th><th scope=col>Tom</th><th scope=col>Jack</th></tr>\n",
       "</thead>\n",
       "<tbody>\n",
       "\t<tr><th scope=row>car</th><td>10</td><td>13</td></tr>\n",
       "\t<tr><th scope=row>truck</th><td> 5</td><td>10</td></tr>\n",
       "\t<tr><th scope=row>doll</th><td> 7</td><td> 4</td></tr>\n",
       "</tbody>\n",
       "</table>\n"
      ],
      "text/latex": [
       "A matrix: 3 × 2 of type dbl\n",
       "\\begin{tabular}{r|ll}\n",
       "  & Tom & Jack\\\\\n",
       "\\hline\n",
       "\tcar & 10 & 13\\\\\n",
       "\ttruck &  5 & 10\\\\\n",
       "\tdoll &  7 &  4\\\\\n",
       "\\end{tabular}\n"
      ],
      "text/markdown": [
       "\n",
       "A matrix: 3 × 2 of type dbl\n",
       "\n",
       "| <!--/--> | Tom | Jack |\n",
       "|---|---|---|\n",
       "| car | 10 | 13 |\n",
       "| truck |  5 | 10 |\n",
       "| doll |  7 |  4 |\n",
       "\n"
      ],
      "text/plain": [
       "      Tom Jack\n",
       "car   10  13  \n",
       "truck  5  10  \n",
       "doll   7   4  "
      ]
     },
     "metadata": {},
     "output_type": "display_data"
    }
   ],
   "source": [
    "toy"
   ]
  },
  {
   "cell_type": "markdown",
   "metadata": {},
   "source": [
    "- H0: There is NO statistic difference in Tom and Jack's satisfaction of Tom and Jack.  \n",
    "    \n",
    "- H1: There is statistic difference in Tom and Jack's satisfaction of Tom and Jack."
   ]
  },
  {
   "cell_type": "markdown",
   "metadata": {},
   "source": [
    "## Test"
   ]
  },
  {
   "cell_type": "code",
   "execution_count": 5,
   "metadata": {
    "scrolled": true
   },
   "outputs": [
    {
     "data": {
      "text/plain": [
       "\n",
       "\tPearson's Chi-squared test\n",
       "\n",
       "data:  toy\n",
       "X-squared = 0.61404, df = 2, p-value = 0.7356\n"
      ]
     },
     "metadata": {},
     "output_type": "display_data"
    }
   ],
   "source": [
    "chisq.test(toy)\n",
    "\n",
    "\n",
    "# Warning message in chisq.test(toy):\n",
    "# “Chi-squared approximation may be incorrect”"
   ]
  },
  {
   "cell_type": "markdown",
   "metadata": {},
   "source": [
    "    : Since p-value 0.8242 is higher than 0.05, H0 is accepted.\n",
    "    \n",
    "**Note** : \n",
    "- Chi-squared test is used for 150+ samples at least in Data Analysis, and 50+ samples in statistics. \n",
    "\n",
    "- Instead of Chi-squared test, Fisher's exact test is more suitable one for small dataset."
   ]
  },
  {
   "cell_type": "code",
   "execution_count": null,
   "metadata": {},
   "outputs": [],
   "source": []
  }
 ],
 "metadata": {
  "kernelspec": {
   "display_name": "R",
   "language": "R",
   "name": "ir"
  },
  "language_info": {
   "codemirror_mode": "r",
   "file_extension": ".r",
   "mimetype": "text/x-r-source",
   "name": "R",
   "pygments_lexer": "r",
   "version": "3.6.1"
  },
  "latex_envs": {
   "LaTeX_envs_menu_present": true,
   "autoclose": false,
   "autocomplete": true,
   "bibliofile": "biblio.bib",
   "cite_by": "apalike",
   "current_citInitial": 1,
   "eqLabelWithNumbers": true,
   "eqNumInitial": 1,
   "hotkeys": {
    "equation": "Ctrl-E",
    "itemize": "Ctrl-I"
   },
   "labels_anchors": false,
   "latex_user_defs": false,
   "report_style_numbering": false,
   "user_envs_cfg": false
  },
  "varInspector": {
   "cols": {
    "lenName": 16,
    "lenType": 16,
    "lenVar": 40
   },
   "kernels_config": {
    "python": {
     "delete_cmd_postfix": "",
     "delete_cmd_prefix": "del ",
     "library": "var_list.py",
     "varRefreshCmd": "print(var_dic_list())"
    },
    "r": {
     "delete_cmd_postfix": ") ",
     "delete_cmd_prefix": "rm(",
     "library": "var_list.r",
     "varRefreshCmd": "cat(var_dic_list()) "
    }
   },
   "types_to_exclude": [
    "module",
    "function",
    "builtin_function_or_method",
    "instance",
    "_Feature"
   ],
   "window_display": false
  }
 },
 "nbformat": 4,
 "nbformat_minor": 2
}
